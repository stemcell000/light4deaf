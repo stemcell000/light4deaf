{
 "cells": [
  {
   "cell_type": "code",
   "execution_count": 285,
   "metadata": {
    "ExecuteTime": {
     "end_time": "2020-05-13T14:01:33.562789Z",
     "start_time": "2020-05-13T14:01:33.438491Z"
    }
   },
   "outputs": [],
   "source": [
    "import pandas as pd\n",
    "import numpy as np\n",
    "import warnings\n",
    "import scipy as sp\n",
    "from datetime import datetime\n",
    "from IPython.display import display\n",
    "import plotly\n",
    "import plotly.figure_factory as ff\n",
    "import plotly.graph_objects as go\n",
    "import plotly.express as px\n",
    "from IPython.core.display import display, HTML\n",
    "from plotly.subplots import make_subplots\n",
    "from IPython.display import display\n",
    "autoscroll_set_on_load = True\n",
    "autoscroll_starting_threshold = -1\n",
    "pd.options.display.max_columns = None\n",
    "pd.options.display.max_rows = None\n",
    "df = pd.read_excel('data/LIGHT4DEAF_Neurocognition_Avril_2020_1_FULL_ADULTES_20200504.xlsx')"
   ]
  },
  {
   "cell_type": "code",
   "execution_count": 286,
   "metadata": {
    "ExecuteTime": {
     "end_time": "2020-05-13T14:01:33.950589Z",
     "start_time": "2020-05-13T14:01:33.946868Z"
    }
   },
   "outputs": [],
   "source": [
    "#df = df[df[\"ID_VISITE\"] == 1]\n",
    "df = df[df[\"Investigateur\"].notnull()]"
   ]
  },
  {
   "cell_type": "code",
   "execution_count": 287,
   "metadata": {
    "ExecuteTime": {
     "end_time": "2020-05-13T14:01:34.558299Z",
     "start_time": "2020-05-13T14:01:34.555056Z"
    }
   },
   "outputs": [
    {
     "data": {
      "text/plain": [
       "56"
      ]
     },
     "execution_count": 287,
     "metadata": {},
     "output_type": "execute_result"
    }
   ],
   "source": [
    "cardinal = len(df)\n",
    "cardinal"
   ]
  },
  {
   "cell_type": "code",
   "execution_count": 288,
   "metadata": {
    "ExecuteTime": {
     "end_time": "2020-05-13T14:01:35.481444Z",
     "start_time": "2020-05-13T14:01:35.473842Z"
    }
   },
   "outputs": [],
   "source": [
    "now = datetime.now()\n",
    "df['Date de naissance du patient'] = pd.to_datetime(df['Date de naissance du patient'], format='%m/%d/%y')\n",
    "df['Date de naissance du patient'] = df['Date de naissance du patient'].where(df['Date de naissance du patient'] < now, df['Date de naissance du patient'] -  np.timedelta64(100, 'Y')) \n",
    "df['age'] = (now - df['Date de naissance du patient']).astype('<m8[Y]')"
   ]
  },
  {
   "cell_type": "code",
   "execution_count": 289,
   "metadata": {
    "ExecuteTime": {
     "end_time": "2020-05-13T14:01:36.271400Z",
     "start_time": "2020-05-13T14:01:36.264237Z"
    }
   },
   "outputs": [],
   "source": [
    "#Patients adultes : type\n",
    "df_type1 = df[df[\"Type\"]=='Type 1']\n",
    "df_type2 = df[df[\"Type\"]=='Type 2']\n",
    "df_type3 = df[df[\"Type\"]=='Type 3']\n",
    "df_type_nan = df[df[\"Type\"].isna()]"
   ]
  },
  {
   "cell_type": "code",
   "execution_count": 290,
   "metadata": {
    "ExecuteTime": {
     "end_time": "2020-05-13T14:01:37.627676Z",
     "start_time": "2020-05-13T14:01:37.618993Z"
    }
   },
   "outputs": [
    {
     "data": {
      "text/html": [
       "<h1>L i g h t 4 d e a f</h1>"
      ],
      "text/plain": [
       "<IPython.core.display.HTML object>"
      ]
     },
     "metadata": {},
     "output_type": "display_data"
    },
    {
     "data": {
      "text/html": [
       "<h2>Neurocognition - WAIS</h2>"
      ],
      "text/plain": [
       "<IPython.core.display.HTML object>"
      ]
     },
     "metadata": {},
     "output_type": "display_data"
    },
    {
     "data": {
      "text/html": [
       "<h3>Description de l'échantillon</h3>"
      ],
      "text/plain": [
       "<IPython.core.display.HTML object>"
      ]
     },
     "metadata": {},
     "output_type": "display_data"
    },
    {
     "data": {
      "text/html": [
       "<h4>1. Données : </h4>"
      ],
      "text/plain": [
       "<IPython.core.display.HTML object>"
      ]
     },
     "metadata": {},
     "output_type": "display_data"
    },
    {
     "data": {
      "text/html": [
       "<p>NB : NaN = donnée manquante</p>"
      ],
      "text/plain": [
       "<IPython.core.display.HTML object>"
      ]
     },
     "metadata": {},
     "output_type": "display_data"
    }
   ],
   "source": [
    "display(HTML('<h1>L i g h t 4 d e a f</h1>'))\n",
    "display(HTML('<h2>Neurocognition - WAIS</h2>'))\n",
    "display(HTML(\"<h3>Description de l'échantillon</h3>\"))\n",
    "display(HTML(\"<h4>1. Données : </h4>\"))\n",
    "display(HTML(\"<p>NB : NaN = donnée manquante</p>\"))"
   ]
  },
  {
   "cell_type": "code",
   "execution_count": 333,
   "metadata": {
    "ExecuteTime": {
     "end_time": "2020-05-13T14:19:13.071122Z",
     "start_time": "2020-05-13T14:19:13.067000Z"
    }
   },
   "outputs": [],
   "source": [
    "cols = df.columns.values.tolist()\n",
    "cols.index('WAIS')\n",
    "cols.index('Autre commentaire')\n",
    "arr = cols[cols.index('WAIS'):cols.index('Autre commentaire')]\n",
    "arr.insert(0,\"ID_SECONDAIRE\")\n",
    "arr.insert(1,\"age\")\n",
    "arr.insert(2,\"Type\")"
   ]
  },
  {
   "cell_type": "code",
   "execution_count": 334,
   "metadata": {
    "ExecuteTime": {
     "end_time": "2020-05-13T14:19:13.561207Z",
     "start_time": "2020-05-13T14:19:13.556991Z"
    }
   },
   "outputs": [],
   "source": [
    "df_wais = df.loc[:,arr]"
   ]
  },
  {
   "cell_type": "code",
   "execution_count": 335,
   "metadata": {
    "ExecuteTime": {
     "end_time": "2020-05-13T14:19:24.361613Z",
     "start_time": "2020-05-13T14:19:24.348815Z"
    }
   },
   "outputs": [],
   "source": [
    "df_wais.loc[df_wais['Type']==\"Type 2\", 'Type_color']=\"#B3D9FF\"\n",
    "df_wais.loc[df_wais['Type']==\"Type 1\", 'Type_color']=\"#33ffc9\"\n",
    "df_wais.loc[df_wais['Type']==\"Type 3\", 'Type_color']=\"#FFC433\"\n",
    "df_wais.loc[df_wais['Type'].isna(), 'Type_color']=\"#C5C5C5\"\n",
    "df_wais['Type'].fillna('Type inconnu', inplace= True)"
   ]
  },
  {
   "cell_type": "code",
   "execution_count": 336,
   "metadata": {
    "ExecuteTime": {
     "end_time": "2020-05-13T14:19:26.084841Z",
     "start_time": "2020-05-13T14:19:26.079175Z"
    }
   },
   "outputs": [
    {
     "data": {
      "text/html": [
       "<p>Nombre de patients ayant effectué le test (WAIS = Oui) : 56/56 patients</p>"
      ],
      "text/plain": [
       "<IPython.core.display.HTML object>"
      ]
     },
     "metadata": {},
     "output_type": "display_data"
    }
   ],
   "source": [
    "display(HTML('<p>Nombre de patients ayant effectué le test (WAIS = Oui) : '+str(len(df_wais[df_wais['WAIS']=='Oui']))+'/'+str(cardinal)+' patients</p>'))"
   ]
  },
  {
   "cell_type": "code",
   "execution_count": 337,
   "metadata": {
    "ExecuteTime": {
     "end_time": "2020-05-13T14:19:26.613673Z",
     "start_time": "2020-05-13T14:19:26.609347Z"
    }
   },
   "outputs": [],
   "source": [
    "df_wais_test = df_wais.loc[:,['age','calcul', 'Note standard Similitudes','Note standard Vocabulaire', 'Note standard Information',\n",
    "                             'Note standard Cubes','Note standard Matrices', 'Note standard Puzzles visuels',\n",
    "                              'Note standard Mémoires des chiffres', 'Note standard Arithmétique',\n",
    "                                'Note standard Symboles','Note standard Code'\n",
    "                             ]]"
   ]
  },
  {
   "cell_type": "code",
   "execution_count": 338,
   "metadata": {
    "ExecuteTime": {
     "end_time": "2020-05-13T14:19:27.295443Z",
     "start_time": "2020-05-13T14:19:27.274515Z"
    }
   },
   "outputs": [],
   "source": [
    "columns= list(df_wais_test)\n",
    "myarr = [['Effectif', 'Moyenne', 'Moy. âge', 'Médiane', 'Min.', 'Max.']]\n",
    "for i in columns[2:]:\n",
    "    effectif = len(df_wais[df_wais[i].notna()])\n",
    "    avg_age = round(df_wais[df_wais[i].notna()]['age'].mean())\n",
    "    avg = round(df_wais[i].mean(),2)\n",
    "    median = round(df_wais[i].median(),2)\n",
    "    max_val = df_wais[i].max()\n",
    "    min_val = df_wais[i].min()\n",
    "    myarr.append([effectif, avg, avg_age, median, max_val, min_val])"
   ]
  },
  {
   "cell_type": "code",
   "execution_count": 339,
   "metadata": {
    "ExecuteTime": {
     "end_time": "2020-05-13T14:19:27.884380Z",
     "start_time": "2020-05-13T14:19:27.878740Z"
    }
   },
   "outputs": [],
   "source": [
    "wais_test =  go.Table(\n",
    "                header=dict(values=list(df_wais_test.columns[1: ]),\n",
    "                align='left'),\n",
    "                cells=dict(values= myarr,align='left'))"
   ]
  },
  {
   "cell_type": "code",
   "execution_count": 340,
   "metadata": {
    "ExecuteTime": {
     "end_time": "2020-05-13T14:19:28.828242Z",
     "start_time": "2020-05-13T14:19:28.721859Z"
    },
    "scrolled": true
   },
   "outputs": [
    {
     "data": {
      "application/vnd.plotly.v1+json": {
       "config": {
        "plotlyServerURL": "https://plot.ly"
       },
       "data": [
        {
         "cells": {
          "align": "left",
          "values": [
           [
            "Effectif",
            "Moyenne",
            "Moy. âge",
            "Médiane",
            "Min.",
            "Max."
           ],
           [
            47,
            9.53,
            42,
            9,
            19,
            3
           ],
           [
            48,
            9.69,
            43,
            9,
            19,
            1
           ],
           [
            48,
            8.71,
            43,
            8.5,
            17,
            2
           ],
           [
            46,
            10.48,
            36,
            10,
            17,
            2
           ],
           [
            45,
            9.04,
            36,
            9,
            14,
            2
           ],
           [
            40,
            9.88,
            35,
            10,
            15,
            3
           ],
           [
            53,
            8.42,
            41,
            8,
            15,
            1
           ],
           [
            50,
            9.24,
            40,
            9.5,
            16,
            1
           ],
           [
            43,
            7.02,
            35,
            8,
            12,
            1
           ],
           [
            42,
            7.81,
            35,
            8,
            15,
            1
           ]
          ]
         },
         "header": {
          "align": "left",
          "values": [
           "calcul",
           "Note standard Similitudes",
           "Note standard Vocabulaire",
           "Note standard Information",
           "Note standard Cubes",
           "Note standard Matrices",
           "Note standard Puzzles visuels",
           "Note standard Mémoires des chiffres",
           "Note standard Arithmétique",
           "Note standard Symboles",
           "Note standard Code"
          ]
         },
         "type": "table"
        }
       ],
       "layout": {
        "template": {
         "data": {
          "bar": [
           {
            "error_x": {
             "color": "#2a3f5f"
            },
            "error_y": {
             "color": "#2a3f5f"
            },
            "marker": {
             "line": {
              "color": "#E5ECF6",
              "width": 0.5
             }
            },
            "type": "bar"
           }
          ],
          "barpolar": [
           {
            "marker": {
             "line": {
              "color": "#E5ECF6",
              "width": 0.5
             }
            },
            "type": "barpolar"
           }
          ],
          "carpet": [
           {
            "aaxis": {
             "endlinecolor": "#2a3f5f",
             "gridcolor": "white",
             "linecolor": "white",
             "minorgridcolor": "white",
             "startlinecolor": "#2a3f5f"
            },
            "baxis": {
             "endlinecolor": "#2a3f5f",
             "gridcolor": "white",
             "linecolor": "white",
             "minorgridcolor": "white",
             "startlinecolor": "#2a3f5f"
            },
            "type": "carpet"
           }
          ],
          "choropleth": [
           {
            "colorbar": {
             "outlinewidth": 0,
             "ticks": ""
            },
            "type": "choropleth"
           }
          ],
          "contour": [
           {
            "colorbar": {
             "outlinewidth": 0,
             "ticks": ""
            },
            "colorscale": [
             [
              0,
              "#0d0887"
             ],
             [
              0.1111111111111111,
              "#46039f"
             ],
             [
              0.2222222222222222,
              "#7201a8"
             ],
             [
              0.3333333333333333,
              "#9c179e"
             ],
             [
              0.4444444444444444,
              "#bd3786"
             ],
             [
              0.5555555555555556,
              "#d8576b"
             ],
             [
              0.6666666666666666,
              "#ed7953"
             ],
             [
              0.7777777777777778,
              "#fb9f3a"
             ],
             [
              0.8888888888888888,
              "#fdca26"
             ],
             [
              1,
              "#f0f921"
             ]
            ],
            "type": "contour"
           }
          ],
          "contourcarpet": [
           {
            "colorbar": {
             "outlinewidth": 0,
             "ticks": ""
            },
            "type": "contourcarpet"
           }
          ],
          "heatmap": [
           {
            "colorbar": {
             "outlinewidth": 0,
             "ticks": ""
            },
            "colorscale": [
             [
              0,
              "#0d0887"
             ],
             [
              0.1111111111111111,
              "#46039f"
             ],
             [
              0.2222222222222222,
              "#7201a8"
             ],
             [
              0.3333333333333333,
              "#9c179e"
             ],
             [
              0.4444444444444444,
              "#bd3786"
             ],
             [
              0.5555555555555556,
              "#d8576b"
             ],
             [
              0.6666666666666666,
              "#ed7953"
             ],
             [
              0.7777777777777778,
              "#fb9f3a"
             ],
             [
              0.8888888888888888,
              "#fdca26"
             ],
             [
              1,
              "#f0f921"
             ]
            ],
            "type": "heatmap"
           }
          ],
          "heatmapgl": [
           {
            "colorbar": {
             "outlinewidth": 0,
             "ticks": ""
            },
            "colorscale": [
             [
              0,
              "#0d0887"
             ],
             [
              0.1111111111111111,
              "#46039f"
             ],
             [
              0.2222222222222222,
              "#7201a8"
             ],
             [
              0.3333333333333333,
              "#9c179e"
             ],
             [
              0.4444444444444444,
              "#bd3786"
             ],
             [
              0.5555555555555556,
              "#d8576b"
             ],
             [
              0.6666666666666666,
              "#ed7953"
             ],
             [
              0.7777777777777778,
              "#fb9f3a"
             ],
             [
              0.8888888888888888,
              "#fdca26"
             ],
             [
              1,
              "#f0f921"
             ]
            ],
            "type": "heatmapgl"
           }
          ],
          "histogram": [
           {
            "marker": {
             "colorbar": {
              "outlinewidth": 0,
              "ticks": ""
             }
            },
            "type": "histogram"
           }
          ],
          "histogram2d": [
           {
            "colorbar": {
             "outlinewidth": 0,
             "ticks": ""
            },
            "colorscale": [
             [
              0,
              "#0d0887"
             ],
             [
              0.1111111111111111,
              "#46039f"
             ],
             [
              0.2222222222222222,
              "#7201a8"
             ],
             [
              0.3333333333333333,
              "#9c179e"
             ],
             [
              0.4444444444444444,
              "#bd3786"
             ],
             [
              0.5555555555555556,
              "#d8576b"
             ],
             [
              0.6666666666666666,
              "#ed7953"
             ],
             [
              0.7777777777777778,
              "#fb9f3a"
             ],
             [
              0.8888888888888888,
              "#fdca26"
             ],
             [
              1,
              "#f0f921"
             ]
            ],
            "type": "histogram2d"
           }
          ],
          "histogram2dcontour": [
           {
            "colorbar": {
             "outlinewidth": 0,
             "ticks": ""
            },
            "colorscale": [
             [
              0,
              "#0d0887"
             ],
             [
              0.1111111111111111,
              "#46039f"
             ],
             [
              0.2222222222222222,
              "#7201a8"
             ],
             [
              0.3333333333333333,
              "#9c179e"
             ],
             [
              0.4444444444444444,
              "#bd3786"
             ],
             [
              0.5555555555555556,
              "#d8576b"
             ],
             [
              0.6666666666666666,
              "#ed7953"
             ],
             [
              0.7777777777777778,
              "#fb9f3a"
             ],
             [
              0.8888888888888888,
              "#fdca26"
             ],
             [
              1,
              "#f0f921"
             ]
            ],
            "type": "histogram2dcontour"
           }
          ],
          "mesh3d": [
           {
            "colorbar": {
             "outlinewidth": 0,
             "ticks": ""
            },
            "type": "mesh3d"
           }
          ],
          "parcoords": [
           {
            "line": {
             "colorbar": {
              "outlinewidth": 0,
              "ticks": ""
             }
            },
            "type": "parcoords"
           }
          ],
          "pie": [
           {
            "automargin": true,
            "type": "pie"
           }
          ],
          "scatter": [
           {
            "marker": {
             "colorbar": {
              "outlinewidth": 0,
              "ticks": ""
             }
            },
            "type": "scatter"
           }
          ],
          "scatter3d": [
           {
            "line": {
             "colorbar": {
              "outlinewidth": 0,
              "ticks": ""
             }
            },
            "marker": {
             "colorbar": {
              "outlinewidth": 0,
              "ticks": ""
             }
            },
            "type": "scatter3d"
           }
          ],
          "scattercarpet": [
           {
            "marker": {
             "colorbar": {
              "outlinewidth": 0,
              "ticks": ""
             }
            },
            "type": "scattercarpet"
           }
          ],
          "scattergeo": [
           {
            "marker": {
             "colorbar": {
              "outlinewidth": 0,
              "ticks": ""
             }
            },
            "type": "scattergeo"
           }
          ],
          "scattergl": [
           {
            "marker": {
             "colorbar": {
              "outlinewidth": 0,
              "ticks": ""
             }
            },
            "type": "scattergl"
           }
          ],
          "scattermapbox": [
           {
            "marker": {
             "colorbar": {
              "outlinewidth": 0,
              "ticks": ""
             }
            },
            "type": "scattermapbox"
           }
          ],
          "scatterpolar": [
           {
            "marker": {
             "colorbar": {
              "outlinewidth": 0,
              "ticks": ""
             }
            },
            "type": "scatterpolar"
           }
          ],
          "scatterpolargl": [
           {
            "marker": {
             "colorbar": {
              "outlinewidth": 0,
              "ticks": ""
             }
            },
            "type": "scatterpolargl"
           }
          ],
          "scatterternary": [
           {
            "marker": {
             "colorbar": {
              "outlinewidth": 0,
              "ticks": ""
             }
            },
            "type": "scatterternary"
           }
          ],
          "surface": [
           {
            "colorbar": {
             "outlinewidth": 0,
             "ticks": ""
            },
            "colorscale": [
             [
              0,
              "#0d0887"
             ],
             [
              0.1111111111111111,
              "#46039f"
             ],
             [
              0.2222222222222222,
              "#7201a8"
             ],
             [
              0.3333333333333333,
              "#9c179e"
             ],
             [
              0.4444444444444444,
              "#bd3786"
             ],
             [
              0.5555555555555556,
              "#d8576b"
             ],
             [
              0.6666666666666666,
              "#ed7953"
             ],
             [
              0.7777777777777778,
              "#fb9f3a"
             ],
             [
              0.8888888888888888,
              "#fdca26"
             ],
             [
              1,
              "#f0f921"
             ]
            ],
            "type": "surface"
           }
          ],
          "table": [
           {
            "cells": {
             "fill": {
              "color": "#EBF0F8"
             },
             "line": {
              "color": "white"
             }
            },
            "header": {
             "fill": {
              "color": "#C8D4E3"
             },
             "line": {
              "color": "white"
             }
            },
            "type": "table"
           }
          ]
         },
         "layout": {
          "annotationdefaults": {
           "arrowcolor": "#2a3f5f",
           "arrowhead": 0,
           "arrowwidth": 1
          },
          "coloraxis": {
           "colorbar": {
            "outlinewidth": 0,
            "ticks": ""
           }
          },
          "colorscale": {
           "diverging": [
            [
             0,
             "#8e0152"
            ],
            [
             0.1,
             "#c51b7d"
            ],
            [
             0.2,
             "#de77ae"
            ],
            [
             0.3,
             "#f1b6da"
            ],
            [
             0.4,
             "#fde0ef"
            ],
            [
             0.5,
             "#f7f7f7"
            ],
            [
             0.6,
             "#e6f5d0"
            ],
            [
             0.7,
             "#b8e186"
            ],
            [
             0.8,
             "#7fbc41"
            ],
            [
             0.9,
             "#4d9221"
            ],
            [
             1,
             "#276419"
            ]
           ],
           "sequential": [
            [
             0,
             "#0d0887"
            ],
            [
             0.1111111111111111,
             "#46039f"
            ],
            [
             0.2222222222222222,
             "#7201a8"
            ],
            [
             0.3333333333333333,
             "#9c179e"
            ],
            [
             0.4444444444444444,
             "#bd3786"
            ],
            [
             0.5555555555555556,
             "#d8576b"
            ],
            [
             0.6666666666666666,
             "#ed7953"
            ],
            [
             0.7777777777777778,
             "#fb9f3a"
            ],
            [
             0.8888888888888888,
             "#fdca26"
            ],
            [
             1,
             "#f0f921"
            ]
           ],
           "sequentialminus": [
            [
             0,
             "#0d0887"
            ],
            [
             0.1111111111111111,
             "#46039f"
            ],
            [
             0.2222222222222222,
             "#7201a8"
            ],
            [
             0.3333333333333333,
             "#9c179e"
            ],
            [
             0.4444444444444444,
             "#bd3786"
            ],
            [
             0.5555555555555556,
             "#d8576b"
            ],
            [
             0.6666666666666666,
             "#ed7953"
            ],
            [
             0.7777777777777778,
             "#fb9f3a"
            ],
            [
             0.8888888888888888,
             "#fdca26"
            ],
            [
             1,
             "#f0f921"
            ]
           ]
          },
          "colorway": [
           "#636efa",
           "#EF553B",
           "#00cc96",
           "#ab63fa",
           "#FFA15A",
           "#19d3f3",
           "#FF6692",
           "#B6E880",
           "#FF97FF",
           "#FECB52"
          ],
          "font": {
           "color": "#2a3f5f"
          },
          "geo": {
           "bgcolor": "white",
           "lakecolor": "white",
           "landcolor": "#E5ECF6",
           "showlakes": true,
           "showland": true,
           "subunitcolor": "white"
          },
          "hoverlabel": {
           "align": "left"
          },
          "hovermode": "closest",
          "mapbox": {
           "style": "light"
          },
          "paper_bgcolor": "white",
          "plot_bgcolor": "#E5ECF6",
          "polar": {
           "angularaxis": {
            "gridcolor": "white",
            "linecolor": "white",
            "ticks": ""
           },
           "bgcolor": "#E5ECF6",
           "radialaxis": {
            "gridcolor": "white",
            "linecolor": "white",
            "ticks": ""
           }
          },
          "scene": {
           "xaxis": {
            "backgroundcolor": "#E5ECF6",
            "gridcolor": "white",
            "gridwidth": 2,
            "linecolor": "white",
            "showbackground": true,
            "ticks": "",
            "zerolinecolor": "white"
           },
           "yaxis": {
            "backgroundcolor": "#E5ECF6",
            "gridcolor": "white",
            "gridwidth": 2,
            "linecolor": "white",
            "showbackground": true,
            "ticks": "",
            "zerolinecolor": "white"
           },
           "zaxis": {
            "backgroundcolor": "#E5ECF6",
            "gridcolor": "white",
            "gridwidth": 2,
            "linecolor": "white",
            "showbackground": true,
            "ticks": "",
            "zerolinecolor": "white"
           }
          },
          "shapedefaults": {
           "line": {
            "color": "#2a3f5f"
           }
          },
          "ternary": {
           "aaxis": {
            "gridcolor": "white",
            "linecolor": "white",
            "ticks": ""
           },
           "baxis": {
            "gridcolor": "white",
            "linecolor": "white",
            "ticks": ""
           },
           "bgcolor": "#E5ECF6",
           "caxis": {
            "gridcolor": "white",
            "linecolor": "white",
            "ticks": ""
           }
          },
          "title": {
           "x": 0.05
          },
          "xaxis": {
           "automargin": true,
           "gridcolor": "white",
           "linecolor": "white",
           "ticks": "",
           "title": {
            "standoff": 15
           },
           "zerolinecolor": "white",
           "zerolinewidth": 2
          },
          "yaxis": {
           "automargin": true,
           "gridcolor": "white",
           "linecolor": "white",
           "ticks": "",
           "title": {
            "standoff": 15
           },
           "zerolinecolor": "white",
           "zerolinewidth": 2
          }
         }
        }
       }
      },
      "text/html": [
       "<div>\n",
       "        \n",
       "        \n",
       "            <div id=\"971b0c5e-f57d-4efb-9fe9-18fb194a27ed\" class=\"plotly-graph-div\" style=\"height:525px; width:100%;\"></div>\n",
       "            <script type=\"text/javascript\">\n",
       "                require([\"plotly\"], function(Plotly) {\n",
       "                    window.PLOTLYENV=window.PLOTLYENV || {};\n",
       "                    \n",
       "                if (document.getElementById(\"971b0c5e-f57d-4efb-9fe9-18fb194a27ed\")) {\n",
       "                    Plotly.newPlot(\n",
       "                        '971b0c5e-f57d-4efb-9fe9-18fb194a27ed',\n",
       "                        [{\"cells\": {\"align\": \"left\", \"values\": [[\"Effectif\", \"Moyenne\", \"Moy. \\u00e2ge\", \"M\\u00e9diane\", \"Min.\", \"Max.\"], [47, 9.53, 42, 9.0, 19.0, 3.0], [48, 9.69, 43, 9.0, 19.0, 1.0], [48, 8.71, 43, 8.5, 17.0, 2.0], [46, 10.48, 36, 10.0, 17.0, 2.0], [45, 9.04, 36, 9.0, 14.0, 2.0], [40, 9.88, 35, 10.0, 15.0, 3.0], [53, 8.42, 41, 8.0, 15.0, 1.0], [50, 9.24, 40, 9.5, 16.0, 1.0], [43, 7.02, 35, 8.0, 12.0, 1.0], [42, 7.81, 35, 8.0, 15.0, 1.0]]}, \"header\": {\"align\": \"left\", \"values\": [\"calcul\", \"Note standard Similitudes\", \"Note standard Vocabulaire\", \"Note standard Information\", \"Note standard Cubes\", \"Note standard Matrices\", \"Note standard Puzzles visuels\", \"Note standard M\\u00e9moires des chiffres\", \"Note standard Arithm\\u00e9tique\", \"Note standard Symboles\", \"Note standard Code\"]}, \"type\": \"table\"}],\n",
       "                        {\"template\": {\"data\": {\"bar\": [{\"error_x\": {\"color\": \"#2a3f5f\"}, \"error_y\": {\"color\": \"#2a3f5f\"}, \"marker\": {\"line\": {\"color\": \"#E5ECF6\", \"width\": 0.5}}, \"type\": \"bar\"}], \"barpolar\": [{\"marker\": {\"line\": {\"color\": \"#E5ECF6\", \"width\": 0.5}}, \"type\": \"barpolar\"}], \"carpet\": [{\"aaxis\": {\"endlinecolor\": \"#2a3f5f\", \"gridcolor\": \"white\", \"linecolor\": \"white\", \"minorgridcolor\": \"white\", \"startlinecolor\": \"#2a3f5f\"}, \"baxis\": {\"endlinecolor\": \"#2a3f5f\", \"gridcolor\": \"white\", \"linecolor\": \"white\", \"minorgridcolor\": \"white\", \"startlinecolor\": \"#2a3f5f\"}, \"type\": \"carpet\"}], \"choropleth\": [{\"colorbar\": {\"outlinewidth\": 0, \"ticks\": \"\"}, \"type\": \"choropleth\"}], \"contour\": [{\"colorbar\": {\"outlinewidth\": 0, \"ticks\": \"\"}, \"colorscale\": [[0.0, \"#0d0887\"], [0.1111111111111111, \"#46039f\"], [0.2222222222222222, \"#7201a8\"], [0.3333333333333333, \"#9c179e\"], [0.4444444444444444, \"#bd3786\"], [0.5555555555555556, \"#d8576b\"], [0.6666666666666666, \"#ed7953\"], [0.7777777777777778, \"#fb9f3a\"], [0.8888888888888888, \"#fdca26\"], [1.0, \"#f0f921\"]], \"type\": \"contour\"}], \"contourcarpet\": [{\"colorbar\": {\"outlinewidth\": 0, \"ticks\": \"\"}, \"type\": \"contourcarpet\"}], \"heatmap\": [{\"colorbar\": {\"outlinewidth\": 0, \"ticks\": \"\"}, \"colorscale\": [[0.0, \"#0d0887\"], [0.1111111111111111, \"#46039f\"], [0.2222222222222222, \"#7201a8\"], [0.3333333333333333, \"#9c179e\"], [0.4444444444444444, \"#bd3786\"], [0.5555555555555556, \"#d8576b\"], [0.6666666666666666, \"#ed7953\"], [0.7777777777777778, \"#fb9f3a\"], [0.8888888888888888, \"#fdca26\"], [1.0, \"#f0f921\"]], \"type\": \"heatmap\"}], \"heatmapgl\": [{\"colorbar\": {\"outlinewidth\": 0, \"ticks\": \"\"}, \"colorscale\": [[0.0, \"#0d0887\"], [0.1111111111111111, \"#46039f\"], [0.2222222222222222, \"#7201a8\"], [0.3333333333333333, \"#9c179e\"], [0.4444444444444444, \"#bd3786\"], [0.5555555555555556, \"#d8576b\"], [0.6666666666666666, \"#ed7953\"], [0.7777777777777778, \"#fb9f3a\"], [0.8888888888888888, \"#fdca26\"], [1.0, \"#f0f921\"]], \"type\": \"heatmapgl\"}], \"histogram\": [{\"marker\": {\"colorbar\": {\"outlinewidth\": 0, \"ticks\": \"\"}}, \"type\": \"histogram\"}], \"histogram2d\": [{\"colorbar\": {\"outlinewidth\": 0, \"ticks\": \"\"}, \"colorscale\": [[0.0, \"#0d0887\"], [0.1111111111111111, \"#46039f\"], [0.2222222222222222, \"#7201a8\"], [0.3333333333333333, \"#9c179e\"], [0.4444444444444444, \"#bd3786\"], [0.5555555555555556, \"#d8576b\"], [0.6666666666666666, \"#ed7953\"], [0.7777777777777778, \"#fb9f3a\"], [0.8888888888888888, \"#fdca26\"], [1.0, \"#f0f921\"]], \"type\": \"histogram2d\"}], \"histogram2dcontour\": [{\"colorbar\": {\"outlinewidth\": 0, \"ticks\": \"\"}, \"colorscale\": [[0.0, \"#0d0887\"], [0.1111111111111111, \"#46039f\"], [0.2222222222222222, \"#7201a8\"], [0.3333333333333333, \"#9c179e\"], [0.4444444444444444, \"#bd3786\"], [0.5555555555555556, \"#d8576b\"], [0.6666666666666666, \"#ed7953\"], [0.7777777777777778, \"#fb9f3a\"], [0.8888888888888888, \"#fdca26\"], [1.0, \"#f0f921\"]], \"type\": \"histogram2dcontour\"}], \"mesh3d\": [{\"colorbar\": {\"outlinewidth\": 0, \"ticks\": \"\"}, \"type\": \"mesh3d\"}], \"parcoords\": [{\"line\": {\"colorbar\": {\"outlinewidth\": 0, \"ticks\": \"\"}}, \"type\": \"parcoords\"}], \"pie\": [{\"automargin\": true, \"type\": \"pie\"}], \"scatter\": [{\"marker\": {\"colorbar\": {\"outlinewidth\": 0, \"ticks\": \"\"}}, \"type\": \"scatter\"}], \"scatter3d\": [{\"line\": {\"colorbar\": {\"outlinewidth\": 0, \"ticks\": \"\"}}, \"marker\": {\"colorbar\": {\"outlinewidth\": 0, \"ticks\": \"\"}}, \"type\": \"scatter3d\"}], \"scattercarpet\": [{\"marker\": {\"colorbar\": {\"outlinewidth\": 0, \"ticks\": \"\"}}, \"type\": \"scattercarpet\"}], \"scattergeo\": [{\"marker\": {\"colorbar\": {\"outlinewidth\": 0, \"ticks\": \"\"}}, \"type\": \"scattergeo\"}], \"scattergl\": [{\"marker\": {\"colorbar\": {\"outlinewidth\": 0, \"ticks\": \"\"}}, \"type\": \"scattergl\"}], \"scattermapbox\": [{\"marker\": {\"colorbar\": {\"outlinewidth\": 0, \"ticks\": \"\"}}, \"type\": \"scattermapbox\"}], \"scatterpolar\": [{\"marker\": {\"colorbar\": {\"outlinewidth\": 0, \"ticks\": \"\"}}, \"type\": \"scatterpolar\"}], \"scatterpolargl\": [{\"marker\": {\"colorbar\": {\"outlinewidth\": 0, \"ticks\": \"\"}}, \"type\": \"scatterpolargl\"}], \"scatterternary\": [{\"marker\": {\"colorbar\": {\"outlinewidth\": 0, \"ticks\": \"\"}}, \"type\": \"scatterternary\"}], \"surface\": [{\"colorbar\": {\"outlinewidth\": 0, \"ticks\": \"\"}, \"colorscale\": [[0.0, \"#0d0887\"], [0.1111111111111111, \"#46039f\"], [0.2222222222222222, \"#7201a8\"], [0.3333333333333333, \"#9c179e\"], [0.4444444444444444, \"#bd3786\"], [0.5555555555555556, \"#d8576b\"], [0.6666666666666666, \"#ed7953\"], [0.7777777777777778, \"#fb9f3a\"], [0.8888888888888888, \"#fdca26\"], [1.0, \"#f0f921\"]], \"type\": \"surface\"}], \"table\": [{\"cells\": {\"fill\": {\"color\": \"#EBF0F8\"}, \"line\": {\"color\": \"white\"}}, \"header\": {\"fill\": {\"color\": \"#C8D4E3\"}, \"line\": {\"color\": \"white\"}}, \"type\": \"table\"}]}, \"layout\": {\"annotationdefaults\": {\"arrowcolor\": \"#2a3f5f\", \"arrowhead\": 0, \"arrowwidth\": 1}, \"coloraxis\": {\"colorbar\": {\"outlinewidth\": 0, \"ticks\": \"\"}}, \"colorscale\": {\"diverging\": [[0, \"#8e0152\"], [0.1, \"#c51b7d\"], [0.2, \"#de77ae\"], [0.3, \"#f1b6da\"], [0.4, \"#fde0ef\"], [0.5, \"#f7f7f7\"], [0.6, \"#e6f5d0\"], [0.7, \"#b8e186\"], [0.8, \"#7fbc41\"], [0.9, \"#4d9221\"], [1, \"#276419\"]], \"sequential\": [[0.0, \"#0d0887\"], [0.1111111111111111, \"#46039f\"], [0.2222222222222222, \"#7201a8\"], [0.3333333333333333, \"#9c179e\"], [0.4444444444444444, \"#bd3786\"], [0.5555555555555556, \"#d8576b\"], [0.6666666666666666, \"#ed7953\"], [0.7777777777777778, \"#fb9f3a\"], [0.8888888888888888, \"#fdca26\"], [1.0, \"#f0f921\"]], \"sequentialminus\": [[0.0, \"#0d0887\"], [0.1111111111111111, \"#46039f\"], [0.2222222222222222, \"#7201a8\"], [0.3333333333333333, \"#9c179e\"], [0.4444444444444444, \"#bd3786\"], [0.5555555555555556, \"#d8576b\"], [0.6666666666666666, \"#ed7953\"], [0.7777777777777778, \"#fb9f3a\"], [0.8888888888888888, \"#fdca26\"], [1.0, \"#f0f921\"]]}, \"colorway\": [\"#636efa\", \"#EF553B\", \"#00cc96\", \"#ab63fa\", \"#FFA15A\", \"#19d3f3\", \"#FF6692\", \"#B6E880\", \"#FF97FF\", \"#FECB52\"], \"font\": {\"color\": \"#2a3f5f\"}, \"geo\": {\"bgcolor\": \"white\", \"lakecolor\": \"white\", \"landcolor\": \"#E5ECF6\", \"showlakes\": true, \"showland\": true, \"subunitcolor\": \"white\"}, \"hoverlabel\": {\"align\": \"left\"}, \"hovermode\": \"closest\", \"mapbox\": {\"style\": \"light\"}, \"paper_bgcolor\": \"white\", \"plot_bgcolor\": \"#E5ECF6\", \"polar\": {\"angularaxis\": {\"gridcolor\": \"white\", \"linecolor\": \"white\", \"ticks\": \"\"}, \"bgcolor\": \"#E5ECF6\", \"radialaxis\": {\"gridcolor\": \"white\", \"linecolor\": \"white\", \"ticks\": \"\"}}, \"scene\": {\"xaxis\": {\"backgroundcolor\": \"#E5ECF6\", \"gridcolor\": \"white\", \"gridwidth\": 2, \"linecolor\": \"white\", \"showbackground\": true, \"ticks\": \"\", \"zerolinecolor\": \"white\"}, \"yaxis\": {\"backgroundcolor\": \"#E5ECF6\", \"gridcolor\": \"white\", \"gridwidth\": 2, \"linecolor\": \"white\", \"showbackground\": true, \"ticks\": \"\", \"zerolinecolor\": \"white\"}, \"zaxis\": {\"backgroundcolor\": \"#E5ECF6\", \"gridcolor\": \"white\", \"gridwidth\": 2, \"linecolor\": \"white\", \"showbackground\": true, \"ticks\": \"\", \"zerolinecolor\": \"white\"}}, \"shapedefaults\": {\"line\": {\"color\": \"#2a3f5f\"}}, \"ternary\": {\"aaxis\": {\"gridcolor\": \"white\", \"linecolor\": \"white\", \"ticks\": \"\"}, \"baxis\": {\"gridcolor\": \"white\", \"linecolor\": \"white\", \"ticks\": \"\"}, \"bgcolor\": \"#E5ECF6\", \"caxis\": {\"gridcolor\": \"white\", \"linecolor\": \"white\", \"ticks\": \"\"}}, \"title\": {\"x\": 0.05}, \"xaxis\": {\"automargin\": true, \"gridcolor\": \"white\", \"linecolor\": \"white\", \"ticks\": \"\", \"title\": {\"standoff\": 15}, \"zerolinecolor\": \"white\", \"zerolinewidth\": 2}, \"yaxis\": {\"automargin\": true, \"gridcolor\": \"white\", \"linecolor\": \"white\", \"ticks\": \"\", \"title\": {\"standoff\": 15}, \"zerolinecolor\": \"white\", \"zerolinewidth\": 2}}}},\n",
       "                        {\"responsive\": true}\n",
       "                    ).then(function(){\n",
       "                            \n",
       "var gd = document.getElementById('971b0c5e-f57d-4efb-9fe9-18fb194a27ed');\n",
       "var x = new MutationObserver(function (mutations, observer) {{\n",
       "        var display = window.getComputedStyle(gd).display;\n",
       "        if (!display || display === 'none') {{\n",
       "            console.log([gd, 'removed!']);\n",
       "            Plotly.purge(gd);\n",
       "            observer.disconnect();\n",
       "        }}\n",
       "}});\n",
       "\n",
       "// Listen for the removal of the full notebook cells\n",
       "var notebookContainer = gd.closest('#notebook-container');\n",
       "if (notebookContainer) {{\n",
       "    x.observe(notebookContainer, {childList: true});\n",
       "}}\n",
       "\n",
       "// Listen for the clearing of the current output cell\n",
       "var outputEl = gd.closest('.output');\n",
       "if (outputEl) {{\n",
       "    x.observe(outputEl, {childList: true});\n",
       "}}\n",
       "\n",
       "                        })\n",
       "                };\n",
       "                });\n",
       "            </script>\n",
       "        </div>"
      ]
     },
     "metadata": {},
     "output_type": "display_data"
    }
   ],
   "source": [
    "fig = go.Figure(data=wais_test)\n",
    "fig.show()"
   ]
  },
  {
   "cell_type": "code",
   "execution_count": 341,
   "metadata": {
    "ExecuteTime": {
     "end_time": "2020-05-13T14:19:32.360339Z",
     "start_time": "2020-05-13T14:19:32.355275Z"
    }
   },
   "outputs": [
    {
     "data": {
      "text/html": [
       "<h4>2. Tests </h4>"
      ],
      "text/plain": [
       "<IPython.core.display.HTML object>"
      ]
     },
     "metadata": {},
     "output_type": "display_data"
    },
    {
     "data": {
      "text/html": [
       "<h5>2.1. WAIS ICV</h5>"
      ],
      "text/plain": [
       "<IPython.core.display.HTML object>"
      ]
     },
     "metadata": {},
     "output_type": "display_data"
    }
   ],
   "source": [
    "display(HTML('<h4>2. Tests </h4>'))\n",
    "display(HTML('<h5>2.1. WAIS ICV</h5>'))"
   ]
  },
  {
   "cell_type": "code",
   "execution_count": 342,
   "metadata": {
    "ExecuteTime": {
     "end_time": "2020-05-13T14:19:32.899169Z",
     "start_time": "2020-05-13T14:19:32.893055Z"
    }
   },
   "outputs": [
    {
     "data": {
      "text/html": [
       "<p>Moyenne d'âge : 42.71</p>"
      ],
      "text/plain": [
       "<IPython.core.display.HTML object>"
      ]
     },
     "metadata": {},
     "output_type": "display_data"
    }
   ],
   "source": [
    "display(HTML(\"<p>Moyenne d'âge : \"+str(round(df_wais[df_wais['Total des notes standards ICV'].notna()]['age'].mean(), 2))+\"</p>\"))"
   ]
  },
  {
   "cell_type": "code",
   "execution_count": 343,
   "metadata": {
    "ExecuteTime": {
     "end_time": "2020-05-13T14:19:33.420946Z",
     "start_time": "2020-05-13T14:19:33.416793Z"
    }
   },
   "outputs": [],
   "source": [
    "df_wais_sub= df_wais.iloc[:,[0,1,2,-1,6,7,8,9,10,11,12,13]]"
   ]
  },
  {
   "cell_type": "code",
   "execution_count": 344,
   "metadata": {
    "ExecuteTime": {
     "end_time": "2020-05-13T14:19:33.989211Z",
     "start_time": "2020-05-13T14:19:33.986576Z"
    }
   },
   "outputs": [],
   "source": [
    "subplot_titles = df_wais_sub.columns.values.tolist()"
   ]
  },
  {
   "cell_type": "code",
   "execution_count": 345,
   "metadata": {
    "ExecuteTime": {
     "end_time": "2020-05-13T14:19:34.775417Z",
     "start_time": "2020-05-13T14:19:34.589620Z"
    }
   },
   "outputs": [],
   "source": [
    "fig_wais_sub = make_subplots(\n",
    "    rows=4, cols=2,\n",
    "    shared_xaxes=False,\n",
    "    row_heights=[0.20, 0.20, 0.20, 0.20],\n",
    "    column_widths=[0.5, 0.5],\n",
    "    subplot_titles= subplot_titles[4:],\n",
    "    x_title='Âge',\n",
    "    y_title='Score',\n",
    "    vertical_spacing= 0.04 )\n",
    "df_wais_sub = df_wais_sub.sort_values(by=['age'])"
   ]
  },
  {
   "cell_type": "code",
   "execution_count": 346,
   "metadata": {
    "ExecuteTime": {
     "end_time": "2020-05-13T14:19:35.494991Z",
     "start_time": "2020-05-13T14:19:35.393468Z"
    }
   },
   "outputs": [
    {
     "data": {
      "application/vnd.plotly.v1+json": {
       "config": {
        "plotlyServerURL": "https://plot.ly"
       },
       "data": [
        {
         "hovertext": [
          "EF 2E 22 E0 EA, Type 1",
          "B6 A4 CD 3A 81, Type 1",
          "76 A2 26 6F C7, Type inconnu",
          "C2 C3 05 A8 4B, Type 1",
          "39 CA BD 3C 82, Type 1",
          "7B DE 78 5B F6, Type 1",
          "9B 8E 44 F8 FF, Type 1",
          "EA 6F FF DE 42, Type 2",
          "90 01 09 71 F0, Type 2",
          "39 35 88 38 7B, Type inconnu",
          "35 86 13 56 24, Type 1",
          "7D 76 3D FC 91, Type 1",
          "73 EC 1B D7 9B, Type 1",
          "81 03 8C 07 58, Type inconnu",
          "AB A5 ED 43 8B, Type 1",
          "48 84 25 4A E0, Type inconnu",
          "01 83 17 5E 89, Type 1",
          "B9 5D 22 14 86, Type 1",
          "A1 54 32 B1 53, Type 1",
          "FD 11 B7 CF 8F, Type 1",
          "DB 6B 59 3A 0C, Type 1",
          "F1 C2 1C 3A FC, Type 1",
          "31 19 64 3D 10, Type 2",
          "98 2C 1A AA 87, Type 1",
          "A2 D7 D0 A4 2A, Type 1",
          "D7 FC 44 05 CA, Type 2",
          "8A A0 53 AC 37, Type inconnu",
          "02 88 A7 94 50, Type 2",
          "64 0B 1B 0A 45, Type 2",
          "8A 77 B8 09 AD, Type 2",
          "51 B7 6E C2 FD, Type 2",
          "A4 03 5A F0 57, Type 2",
          "02 92 7B FF E6, Type 1",
          "90 A6 58 8A AD, Type 2",
          "F5 E4 FD A4 9F, Type 2",
          "06 25 B6 B7 F5, Type 1",
          "47 09 1C 5F 94, Type inconnu",
          "76 8F 56 DE 15, Type 2",
          "3D F6 5A B4 9D, Type 2",
          "3F 34 F5 32 80, Type inconnu",
          "A6 FD C4 C0 69, Type 2",
          "4F 9C 21 D3 31, Type 2",
          "4B 6C 17 74 29, Type inconnu",
          "94 EB 19 B7 18, Type 2",
          "12 A8 8F 3F 67, Type inconnu",
          "19 01 73 04 E2, Type 2",
          "A2 C1 35 C2 8C, Type 2",
          "0F 30 93 5E 0E, Type 2",
          "81 DB 14 CC 21, Type inconnu",
          "CA A2 77 FC 22, Type 2",
          "96 B8 5B 6F 8F, Type inconnu",
          "96 DD DC FE E3, Type 2",
          "21 36 06 E2 38, Type 2",
          "B7 CA E8 BC 99, Type 2",
          "3E C6 4C 31 8B, Type inconnu",
          "EF 4A CF 20 AF, Type 2"
         ],
         "marker": {
          "color": [
           "#33ffc9",
           "#33ffc9",
           "#C5C5C5",
           "#33ffc9",
           "#33ffc9",
           "#33ffc9",
           "#33ffc9",
           "#B3D9FF",
           "#B3D9FF",
           "#C5C5C5",
           "#33ffc9",
           "#33ffc9",
           "#33ffc9",
           "#C5C5C5",
           "#33ffc9",
           "#C5C5C5",
           "#33ffc9",
           "#33ffc9",
           "#33ffc9",
           "#33ffc9",
           "#33ffc9",
           "#33ffc9",
           "#B3D9FF",
           "#33ffc9",
           "#33ffc9",
           "#B3D9FF",
           "#C5C5C5",
           "#B3D9FF",
           "#B3D9FF",
           "#B3D9FF",
           "#B3D9FF",
           "#B3D9FF",
           "#33ffc9",
           "#B3D9FF",
           "#B3D9FF",
           "#33ffc9",
           "#C5C5C5",
           "#B3D9FF",
           "#B3D9FF",
           "#C5C5C5",
           "#B3D9FF",
           "#B3D9FF",
           "#C5C5C5",
           "#B3D9FF",
           "#C5C5C5",
           "#B3D9FF",
           "#B3D9FF",
           "#B3D9FF",
           "#C5C5C5",
           "#B3D9FF",
           "#C5C5C5",
           "#B3D9FF",
           "#B3D9FF",
           "#B3D9FF",
           "#C5C5C5",
           "#B3D9FF"
          ],
          "size": 10
         },
         "mode": "markers+text",
         "type": "scatter",
         "x": [
          18,
          19,
          20,
          20,
          21,
          23,
          25,
          25,
          26,
          27,
          27,
          28,
          28,
          28,
          28,
          30,
          30,
          31,
          31,
          32,
          34,
          34,
          35,
          35,
          36,
          36,
          37,
          38,
          38,
          38,
          40,
          40,
          41,
          42,
          43,
          44,
          44,
          45,
          46,
          47,
          48,
          52,
          55,
          57,
          57,
          59,
          59,
          59,
          60,
          60,
          62,
          64,
          67,
          72,
          74,
          74
         ],
         "xaxis": "x",
         "y": [
          null,
          5,
          4,
          8,
          6,
          14,
          6,
          10,
          9,
          10,
          null,
          6,
          null,
          15,
          13,
          8,
          null,
          3,
          3,
          12,
          null,
          7,
          9,
          null,
          null,
          6,
          9,
          14,
          7,
          12,
          5,
          13,
          null,
          5,
          10,
          10,
          6,
          11,
          13,
          12,
          8,
          8,
          11,
          15,
          10,
          9,
          6,
          3,
          16,
          15,
          17,
          9,
          3,
          18,
          null,
          19
         ],
         "yaxis": "y"
        },
        {
         "hovertext": [
          "EF 2E 22 E0 EA, Type 1",
          "B6 A4 CD 3A 81, Type 1",
          "76 A2 26 6F C7, Type inconnu",
          "C2 C3 05 A8 4B, Type 1",
          "39 CA BD 3C 82, Type 1",
          "7B DE 78 5B F6, Type 1",
          "9B 8E 44 F8 FF, Type 1",
          "EA 6F FF DE 42, Type 2",
          "90 01 09 71 F0, Type 2",
          "39 35 88 38 7B, Type inconnu",
          "35 86 13 56 24, Type 1",
          "7D 76 3D FC 91, Type 1",
          "73 EC 1B D7 9B, Type 1",
          "81 03 8C 07 58, Type inconnu",
          "AB A5 ED 43 8B, Type 1",
          "48 84 25 4A E0, Type inconnu",
          "01 83 17 5E 89, Type 1",
          "B9 5D 22 14 86, Type 1",
          "A1 54 32 B1 53, Type 1",
          "FD 11 B7 CF 8F, Type 1",
          "DB 6B 59 3A 0C, Type 1",
          "F1 C2 1C 3A FC, Type 1",
          "31 19 64 3D 10, Type 2",
          "98 2C 1A AA 87, Type 1",
          "A2 D7 D0 A4 2A, Type 1",
          "D7 FC 44 05 CA, Type 2",
          "8A A0 53 AC 37, Type inconnu",
          "02 88 A7 94 50, Type 2",
          "64 0B 1B 0A 45, Type 2",
          "8A 77 B8 09 AD, Type 2",
          "51 B7 6E C2 FD, Type 2",
          "A4 03 5A F0 57, Type 2",
          "02 92 7B FF E6, Type 1",
          "90 A6 58 8A AD, Type 2",
          "F5 E4 FD A4 9F, Type 2",
          "06 25 B6 B7 F5, Type 1",
          "47 09 1C 5F 94, Type inconnu",
          "76 8F 56 DE 15, Type 2",
          "3D F6 5A B4 9D, Type 2",
          "3F 34 F5 32 80, Type inconnu",
          "A6 FD C4 C0 69, Type 2",
          "4F 9C 21 D3 31, Type 2",
          "4B 6C 17 74 29, Type inconnu",
          "94 EB 19 B7 18, Type 2",
          "12 A8 8F 3F 67, Type inconnu",
          "19 01 73 04 E2, Type 2",
          "A2 C1 35 C2 8C, Type 2",
          "0F 30 93 5E 0E, Type 2",
          "81 DB 14 CC 21, Type inconnu",
          "CA A2 77 FC 22, Type 2",
          "96 B8 5B 6F 8F, Type inconnu",
          "96 DD DC FE E3, Type 2",
          "21 36 06 E2 38, Type 2",
          "B7 CA E8 BC 99, Type 2",
          "3E C6 4C 31 8B, Type inconnu",
          "EF 4A CF 20 AF, Type 2"
         ],
         "marker": {
          "color": [
           "#33ffc9",
           "#33ffc9",
           "#C5C5C5",
           "#33ffc9",
           "#33ffc9",
           "#33ffc9",
           "#33ffc9",
           "#B3D9FF",
           "#B3D9FF",
           "#C5C5C5",
           "#33ffc9",
           "#33ffc9",
           "#33ffc9",
           "#C5C5C5",
           "#33ffc9",
           "#C5C5C5",
           "#33ffc9",
           "#33ffc9",
           "#33ffc9",
           "#33ffc9",
           "#33ffc9",
           "#33ffc9",
           "#B3D9FF",
           "#33ffc9",
           "#33ffc9",
           "#B3D9FF",
           "#C5C5C5",
           "#B3D9FF",
           "#B3D9FF",
           "#B3D9FF",
           "#B3D9FF",
           "#B3D9FF",
           "#33ffc9",
           "#B3D9FF",
           "#B3D9FF",
           "#33ffc9",
           "#C5C5C5",
           "#B3D9FF",
           "#B3D9FF",
           "#C5C5C5",
           "#B3D9FF",
           "#B3D9FF",
           "#C5C5C5",
           "#B3D9FF",
           "#C5C5C5",
           "#B3D9FF",
           "#B3D9FF",
           "#B3D9FF",
           "#C5C5C5",
           "#B3D9FF",
           "#C5C5C5",
           "#B3D9FF",
           "#B3D9FF",
           "#B3D9FF",
           "#C5C5C5",
           "#B3D9FF"
          ],
          "size": 10
         },
         "mode": "markers+text",
         "type": "scatter",
         "x": [
          18,
          19,
          20,
          20,
          21,
          23,
          25,
          25,
          26,
          27,
          27,
          28,
          28,
          28,
          28,
          30,
          30,
          31,
          31,
          32,
          34,
          34,
          35,
          35,
          36,
          36,
          37,
          38,
          38,
          38,
          40,
          40,
          41,
          42,
          43,
          44,
          44,
          45,
          46,
          47,
          48,
          52,
          55,
          57,
          57,
          59,
          59,
          59,
          60,
          60,
          62,
          64,
          67,
          72,
          74,
          74
         ],
         "xaxis": "x2",
         "y": [
          null,
          null,
          8,
          14,
          4,
          13,
          2,
          6,
          7,
          13,
          1,
          5,
          null,
          15,
          9,
          10,
          null,
          2,
          3,
          16,
          null,
          7,
          6,
          null,
          null,
          5,
          8,
          14,
          10,
          10,
          16,
          13,
          null,
          5,
          13,
          11,
          9,
          11,
          18,
          9,
          6,
          8,
          13,
          18,
          6,
          9,
          9,
          3,
          13,
          13,
          18,
          7,
          5,
          19,
          9,
          16
         ],
         "yaxis": "y2"
        },
        {
         "hovertext": [
          "EF 2E 22 E0 EA, Type 1",
          "B6 A4 CD 3A 81, Type 1",
          "76 A2 26 6F C7, Type inconnu",
          "C2 C3 05 A8 4B, Type 1",
          "39 CA BD 3C 82, Type 1",
          "7B DE 78 5B F6, Type 1",
          "9B 8E 44 F8 FF, Type 1",
          "EA 6F FF DE 42, Type 2",
          "90 01 09 71 F0, Type 2",
          "39 35 88 38 7B, Type inconnu",
          "35 86 13 56 24, Type 1",
          "7D 76 3D FC 91, Type 1",
          "73 EC 1B D7 9B, Type 1",
          "81 03 8C 07 58, Type inconnu",
          "AB A5 ED 43 8B, Type 1",
          "48 84 25 4A E0, Type inconnu",
          "01 83 17 5E 89, Type 1",
          "B9 5D 22 14 86, Type 1",
          "A1 54 32 B1 53, Type 1",
          "FD 11 B7 CF 8F, Type 1",
          "DB 6B 59 3A 0C, Type 1",
          "F1 C2 1C 3A FC, Type 1",
          "31 19 64 3D 10, Type 2",
          "98 2C 1A AA 87, Type 1",
          "A2 D7 D0 A4 2A, Type 1",
          "D7 FC 44 05 CA, Type 2",
          "8A A0 53 AC 37, Type inconnu",
          "02 88 A7 94 50, Type 2",
          "64 0B 1B 0A 45, Type 2",
          "8A 77 B8 09 AD, Type 2",
          "51 B7 6E C2 FD, Type 2",
          "A4 03 5A F0 57, Type 2",
          "02 92 7B FF E6, Type 1",
          "90 A6 58 8A AD, Type 2",
          "F5 E4 FD A4 9F, Type 2",
          "06 25 B6 B7 F5, Type 1",
          "47 09 1C 5F 94, Type inconnu",
          "76 8F 56 DE 15, Type 2",
          "3D F6 5A B4 9D, Type 2",
          "3F 34 F5 32 80, Type inconnu",
          "A6 FD C4 C0 69, Type 2",
          "4F 9C 21 D3 31, Type 2",
          "4B 6C 17 74 29, Type inconnu",
          "94 EB 19 B7 18, Type 2",
          "12 A8 8F 3F 67, Type inconnu",
          "19 01 73 04 E2, Type 2",
          "A2 C1 35 C2 8C, Type 2",
          "0F 30 93 5E 0E, Type 2",
          "81 DB 14 CC 21, Type inconnu",
          "CA A2 77 FC 22, Type 2",
          "96 B8 5B 6F 8F, Type inconnu",
          "96 DD DC FE E3, Type 2",
          "21 36 06 E2 38, Type 2",
          "B7 CA E8 BC 99, Type 2",
          "3E C6 4C 31 8B, Type inconnu",
          "EF 4A CF 20 AF, Type 2"
         ],
         "marker": {
          "color": [
           "#33ffc9",
           "#33ffc9",
           "#C5C5C5",
           "#33ffc9",
           "#33ffc9",
           "#33ffc9",
           "#33ffc9",
           "#B3D9FF",
           "#B3D9FF",
           "#C5C5C5",
           "#33ffc9",
           "#33ffc9",
           "#33ffc9",
           "#C5C5C5",
           "#33ffc9",
           "#C5C5C5",
           "#33ffc9",
           "#33ffc9",
           "#33ffc9",
           "#33ffc9",
           "#33ffc9",
           "#33ffc9",
           "#B3D9FF",
           "#33ffc9",
           "#33ffc9",
           "#B3D9FF",
           "#C5C5C5",
           "#B3D9FF",
           "#B3D9FF",
           "#B3D9FF",
           "#B3D9FF",
           "#B3D9FF",
           "#33ffc9",
           "#B3D9FF",
           "#B3D9FF",
           "#33ffc9",
           "#C5C5C5",
           "#B3D9FF",
           "#B3D9FF",
           "#C5C5C5",
           "#B3D9FF",
           "#B3D9FF",
           "#C5C5C5",
           "#B3D9FF",
           "#C5C5C5",
           "#B3D9FF",
           "#B3D9FF",
           "#B3D9FF",
           "#C5C5C5",
           "#B3D9FF",
           "#C5C5C5",
           "#B3D9FF",
           "#B3D9FF",
           "#B3D9FF",
           "#C5C5C5",
           "#B3D9FF"
          ],
          "size": 10
         },
         "mode": "markers+text",
         "type": "scatter",
         "x": [
          18,
          19,
          20,
          20,
          21,
          23,
          25,
          25,
          26,
          27,
          27,
          28,
          28,
          28,
          28,
          30,
          30,
          31,
          31,
          32,
          34,
          34,
          35,
          35,
          36,
          36,
          37,
          38,
          38,
          38,
          40,
          40,
          41,
          42,
          43,
          44,
          44,
          45,
          46,
          47,
          48,
          52,
          55,
          57,
          57,
          59,
          59,
          59,
          60,
          60,
          62,
          64,
          67,
          72,
          74,
          74
         ],
         "xaxis": "x3",
         "y": [
          null,
          null,
          6,
          11,
          6,
          14,
          null,
          7,
          7,
          14,
          2,
          6,
          null,
          9,
          8,
          6,
          null,
          3,
          7,
          11,
          2,
          8,
          7,
          null,
          null,
          7,
          10,
          10,
          8,
          10,
          13,
          11,
          null,
          6,
          15,
          8,
          9,
          9,
          9,
          9,
          6,
          7,
          11,
          14,
          7,
          9,
          7,
          4,
          14,
          10,
          15,
          5,
          5,
          17,
          9,
          10
         ],
         "yaxis": "y3"
        },
        {
         "hovertext": [
          "EF 2E 22 E0 EA, Type 1",
          "B6 A4 CD 3A 81, Type 1",
          "76 A2 26 6F C7, Type inconnu",
          "C2 C3 05 A8 4B, Type 1",
          "39 CA BD 3C 82, Type 1",
          "7B DE 78 5B F6, Type 1",
          "9B 8E 44 F8 FF, Type 1",
          "EA 6F FF DE 42, Type 2",
          "90 01 09 71 F0, Type 2",
          "39 35 88 38 7B, Type inconnu",
          "35 86 13 56 24, Type 1",
          "7D 76 3D FC 91, Type 1",
          "73 EC 1B D7 9B, Type 1",
          "81 03 8C 07 58, Type inconnu",
          "AB A5 ED 43 8B, Type 1",
          "48 84 25 4A E0, Type inconnu",
          "01 83 17 5E 89, Type 1",
          "B9 5D 22 14 86, Type 1",
          "A1 54 32 B1 53, Type 1",
          "FD 11 B7 CF 8F, Type 1",
          "DB 6B 59 3A 0C, Type 1",
          "F1 C2 1C 3A FC, Type 1",
          "31 19 64 3D 10, Type 2",
          "98 2C 1A AA 87, Type 1",
          "A2 D7 D0 A4 2A, Type 1",
          "D7 FC 44 05 CA, Type 2",
          "8A A0 53 AC 37, Type inconnu",
          "02 88 A7 94 50, Type 2",
          "64 0B 1B 0A 45, Type 2",
          "8A 77 B8 09 AD, Type 2",
          "51 B7 6E C2 FD, Type 2",
          "A4 03 5A F0 57, Type 2",
          "02 92 7B FF E6, Type 1",
          "90 A6 58 8A AD, Type 2",
          "F5 E4 FD A4 9F, Type 2",
          "06 25 B6 B7 F5, Type 1",
          "47 09 1C 5F 94, Type inconnu",
          "76 8F 56 DE 15, Type 2",
          "3D F6 5A B4 9D, Type 2",
          "3F 34 F5 32 80, Type inconnu",
          "A6 FD C4 C0 69, Type 2",
          "4F 9C 21 D3 31, Type 2",
          "4B 6C 17 74 29, Type inconnu",
          "94 EB 19 B7 18, Type 2",
          "12 A8 8F 3F 67, Type inconnu",
          "19 01 73 04 E2, Type 2",
          "A2 C1 35 C2 8C, Type 2",
          "0F 30 93 5E 0E, Type 2",
          "81 DB 14 CC 21, Type inconnu",
          "CA A2 77 FC 22, Type 2",
          "96 B8 5B 6F 8F, Type inconnu",
          "96 DD DC FE E3, Type 2",
          "21 36 06 E2 38, Type 2",
          "B7 CA E8 BC 99, Type 2",
          "3E C6 4C 31 8B, Type inconnu",
          "EF 4A CF 20 AF, Type 2"
         ],
         "marker": {
          "color": [
           "#33ffc9",
           "#33ffc9",
           "#C5C5C5",
           "#33ffc9",
           "#33ffc9",
           "#33ffc9",
           "#33ffc9",
           "#B3D9FF",
           "#B3D9FF",
           "#C5C5C5",
           "#33ffc9",
           "#33ffc9",
           "#33ffc9",
           "#C5C5C5",
           "#33ffc9",
           "#C5C5C5",
           "#33ffc9",
           "#33ffc9",
           "#33ffc9",
           "#33ffc9",
           "#33ffc9",
           "#33ffc9",
           "#B3D9FF",
           "#33ffc9",
           "#33ffc9",
           "#B3D9FF",
           "#C5C5C5",
           "#B3D9FF",
           "#B3D9FF",
           "#B3D9FF",
           "#B3D9FF",
           "#B3D9FF",
           "#33ffc9",
           "#B3D9FF",
           "#B3D9FF",
           "#33ffc9",
           "#C5C5C5",
           "#B3D9FF",
           "#B3D9FF",
           "#C5C5C5",
           "#B3D9FF",
           "#B3D9FF",
           "#C5C5C5",
           "#B3D9FF",
           "#C5C5C5",
           "#B3D9FF",
           "#B3D9FF",
           "#B3D9FF",
           "#C5C5C5",
           "#B3D9FF",
           "#C5C5C5",
           "#B3D9FF",
           "#B3D9FF",
           "#B3D9FF",
           "#C5C5C5",
           "#B3D9FF"
          ],
          "size": 10
         },
         "mode": "markers+text",
         "type": "scatter",
         "x": [
          18,
          19,
          20,
          20,
          21,
          23,
          25,
          25,
          26,
          27,
          27,
          28,
          28,
          28,
          28,
          30,
          30,
          31,
          31,
          32,
          34,
          34,
          35,
          35,
          36,
          36,
          37,
          38,
          38,
          38,
          40,
          40,
          41,
          42,
          43,
          44,
          44,
          45,
          46,
          47,
          48,
          52,
          55,
          57,
          57,
          59,
          59,
          59,
          60,
          60,
          62,
          64,
          67,
          72,
          74,
          74
         ],
         "xaxis": "x4",
         "y": [
          null,
          null,
          18,
          33,
          16,
          41,
          null,
          23,
          23,
          37,
          null,
          17,
          null,
          39,
          30,
          24,
          null,
          8,
          13,
          39,
          null,
          22,
          22,
          null,
          null,
          18,
          27,
          38,
          25,
          32,
          34,
          37,
          null,
          16,
          38,
          29,
          24,
          31,
          40,
          30,
          20,
          23,
          35,
          47,
          23,
          27,
          22,
          10,
          43,
          38,
          50,
          21,
          13,
          54,
          null,
          45
         ],
         "yaxis": "y4"
        },
        {
         "hovertext": [
          "EF 2E 22 E0 EA, Type 1",
          "B6 A4 CD 3A 81, Type 1",
          "76 A2 26 6F C7, Type inconnu",
          "C2 C3 05 A8 4B, Type 1",
          "39 CA BD 3C 82, Type 1",
          "7B DE 78 5B F6, Type 1",
          "9B 8E 44 F8 FF, Type 1",
          "EA 6F FF DE 42, Type 2",
          "90 01 09 71 F0, Type 2",
          "39 35 88 38 7B, Type inconnu",
          "35 86 13 56 24, Type 1",
          "7D 76 3D FC 91, Type 1",
          "73 EC 1B D7 9B, Type 1",
          "81 03 8C 07 58, Type inconnu",
          "AB A5 ED 43 8B, Type 1",
          "48 84 25 4A E0, Type inconnu",
          "01 83 17 5E 89, Type 1",
          "B9 5D 22 14 86, Type 1",
          "A1 54 32 B1 53, Type 1",
          "FD 11 B7 CF 8F, Type 1",
          "DB 6B 59 3A 0C, Type 1",
          "F1 C2 1C 3A FC, Type 1",
          "31 19 64 3D 10, Type 2",
          "98 2C 1A AA 87, Type 1",
          "A2 D7 D0 A4 2A, Type 1",
          "D7 FC 44 05 CA, Type 2",
          "8A A0 53 AC 37, Type inconnu",
          "02 88 A7 94 50, Type 2",
          "64 0B 1B 0A 45, Type 2",
          "8A 77 B8 09 AD, Type 2",
          "51 B7 6E C2 FD, Type 2",
          "A4 03 5A F0 57, Type 2",
          "02 92 7B FF E6, Type 1",
          "90 A6 58 8A AD, Type 2",
          "F5 E4 FD A4 9F, Type 2",
          "06 25 B6 B7 F5, Type 1",
          "47 09 1C 5F 94, Type inconnu",
          "76 8F 56 DE 15, Type 2",
          "3D F6 5A B4 9D, Type 2",
          "3F 34 F5 32 80, Type inconnu",
          "A6 FD C4 C0 69, Type 2",
          "4F 9C 21 D3 31, Type 2",
          "4B 6C 17 74 29, Type inconnu",
          "94 EB 19 B7 18, Type 2",
          "12 A8 8F 3F 67, Type inconnu",
          "19 01 73 04 E2, Type 2",
          "A2 C1 35 C2 8C, Type 2",
          "0F 30 93 5E 0E, Type 2",
          "81 DB 14 CC 21, Type inconnu",
          "CA A2 77 FC 22, Type 2",
          "96 B8 5B 6F 8F, Type inconnu",
          "96 DD DC FE E3, Type 2",
          "21 36 06 E2 38, Type 2",
          "B7 CA E8 BC 99, Type 2",
          "3E C6 4C 31 8B, Type inconnu",
          "EF 4A CF 20 AF, Type 2"
         ],
         "marker": {
          "color": [
           "#33ffc9",
           "#33ffc9",
           "#C5C5C5",
           "#33ffc9",
           "#33ffc9",
           "#33ffc9",
           "#33ffc9",
           "#B3D9FF",
           "#B3D9FF",
           "#C5C5C5",
           "#33ffc9",
           "#33ffc9",
           "#33ffc9",
           "#C5C5C5",
           "#33ffc9",
           "#C5C5C5",
           "#33ffc9",
           "#33ffc9",
           "#33ffc9",
           "#33ffc9",
           "#33ffc9",
           "#33ffc9",
           "#B3D9FF",
           "#33ffc9",
           "#33ffc9",
           "#B3D9FF",
           "#C5C5C5",
           "#B3D9FF",
           "#B3D9FF",
           "#B3D9FF",
           "#B3D9FF",
           "#B3D9FF",
           "#33ffc9",
           "#B3D9FF",
           "#B3D9FF",
           "#33ffc9",
           "#C5C5C5",
           "#B3D9FF",
           "#B3D9FF",
           "#C5C5C5",
           "#B3D9FF",
           "#B3D9FF",
           "#C5C5C5",
           "#B3D9FF",
           "#C5C5C5",
           "#B3D9FF",
           "#B3D9FF",
           "#B3D9FF",
           "#C5C5C5",
           "#B3D9FF",
           "#C5C5C5",
           "#B3D9FF",
           "#B3D9FF",
           "#B3D9FF",
           "#C5C5C5",
           "#B3D9FF"
          ],
          "size": 10
         },
         "mode": "markers+text",
         "type": "scatter",
         "x": [
          18,
          19,
          20,
          20,
          21,
          23,
          25,
          25,
          26,
          27,
          27,
          28,
          28,
          28,
          28,
          30,
          30,
          31,
          31,
          32,
          34,
          34,
          35,
          35,
          36,
          36,
          37,
          38,
          38,
          38,
          40,
          40,
          41,
          42,
          43,
          44,
          44,
          45,
          46,
          47,
          48,
          52,
          55,
          57,
          57,
          59,
          59,
          59,
          60,
          60,
          62,
          64,
          67,
          72,
          74,
          74
         ],
         "xaxis": "x5",
         "y": [
          null,
          null,
          77,
          106,
          73,
          122,
          null,
          86,
          86,
          114,
          null,
          75,
          null,
          118,
          100,
          88,
          null,
          86,
          67,
          118,
          null,
          84,
          84,
          null,
          null,
          77,
          94,
          116,
          90,
          104,
          108,
          114,
          null,
          73,
          116,
          98,
          88,
          102,
          120,
          100,
          81,
          86,
          110,
          133,
          86,
          94,
          84,
          61,
          126,
          116,
          139,
          83,
          67,
          147,
          null,
          129
         ],
         "yaxis": "y5"
        },
        {
         "hovertext": [
          "EF 2E 22 E0 EA, Type 1",
          "B6 A4 CD 3A 81, Type 1",
          "76 A2 26 6F C7, Type inconnu",
          "C2 C3 05 A8 4B, Type 1",
          "39 CA BD 3C 82, Type 1",
          "7B DE 78 5B F6, Type 1",
          "9B 8E 44 F8 FF, Type 1",
          "EA 6F FF DE 42, Type 2",
          "90 01 09 71 F0, Type 2",
          "39 35 88 38 7B, Type inconnu",
          "35 86 13 56 24, Type 1",
          "7D 76 3D FC 91, Type 1",
          "73 EC 1B D7 9B, Type 1",
          "81 03 8C 07 58, Type inconnu",
          "AB A5 ED 43 8B, Type 1",
          "48 84 25 4A E0, Type inconnu",
          "01 83 17 5E 89, Type 1",
          "B9 5D 22 14 86, Type 1",
          "A1 54 32 B1 53, Type 1",
          "FD 11 B7 CF 8F, Type 1",
          "DB 6B 59 3A 0C, Type 1",
          "F1 C2 1C 3A FC, Type 1",
          "31 19 64 3D 10, Type 2",
          "98 2C 1A AA 87, Type 1",
          "A2 D7 D0 A4 2A, Type 1",
          "D7 FC 44 05 CA, Type 2",
          "8A A0 53 AC 37, Type inconnu",
          "02 88 A7 94 50, Type 2",
          "64 0B 1B 0A 45, Type 2",
          "8A 77 B8 09 AD, Type 2",
          "51 B7 6E C2 FD, Type 2",
          "A4 03 5A F0 57, Type 2",
          "02 92 7B FF E6, Type 1",
          "90 A6 58 8A AD, Type 2",
          "F5 E4 FD A4 9F, Type 2",
          "06 25 B6 B7 F5, Type 1",
          "47 09 1C 5F 94, Type inconnu",
          "76 8F 56 DE 15, Type 2",
          "3D F6 5A B4 9D, Type 2",
          "3F 34 F5 32 80, Type inconnu",
          "A6 FD C4 C0 69, Type 2",
          "4F 9C 21 D3 31, Type 2",
          "4B 6C 17 74 29, Type inconnu",
          "94 EB 19 B7 18, Type 2",
          "12 A8 8F 3F 67, Type inconnu",
          "19 01 73 04 E2, Type 2",
          "A2 C1 35 C2 8C, Type 2",
          "0F 30 93 5E 0E, Type 2",
          "81 DB 14 CC 21, Type inconnu",
          "CA A2 77 FC 22, Type 2",
          "96 B8 5B 6F 8F, Type inconnu",
          "96 DD DC FE E3, Type 2",
          "21 36 06 E2 38, Type 2",
          "B7 CA E8 BC 99, Type 2",
          "3E C6 4C 31 8B, Type inconnu",
          "EF 4A CF 20 AF, Type 2"
         ],
         "marker": {
          "color": [
           "#33ffc9",
           "#33ffc9",
           "#C5C5C5",
           "#33ffc9",
           "#33ffc9",
           "#33ffc9",
           "#33ffc9",
           "#B3D9FF",
           "#B3D9FF",
           "#C5C5C5",
           "#33ffc9",
           "#33ffc9",
           "#33ffc9",
           "#C5C5C5",
           "#33ffc9",
           "#C5C5C5",
           "#33ffc9",
           "#33ffc9",
           "#33ffc9",
           "#33ffc9",
           "#33ffc9",
           "#33ffc9",
           "#B3D9FF",
           "#33ffc9",
           "#33ffc9",
           "#B3D9FF",
           "#C5C5C5",
           "#B3D9FF",
           "#B3D9FF",
           "#B3D9FF",
           "#B3D9FF",
           "#B3D9FF",
           "#33ffc9",
           "#B3D9FF",
           "#B3D9FF",
           "#33ffc9",
           "#C5C5C5",
           "#B3D9FF",
           "#B3D9FF",
           "#C5C5C5",
           "#B3D9FF",
           "#B3D9FF",
           "#C5C5C5",
           "#B3D9FF",
           "#C5C5C5",
           "#B3D9FF",
           "#B3D9FF",
           "#B3D9FF",
           "#C5C5C5",
           "#B3D9FF",
           "#C5C5C5",
           "#B3D9FF",
           "#B3D9FF",
           "#B3D9FF",
           "#C5C5C5",
           "#B3D9FF"
          ],
          "size": 10
         },
         "mode": "markers+text",
         "type": "scatter",
         "x": [
          18,
          19,
          20,
          20,
          21,
          23,
          25,
          25,
          26,
          27,
          27,
          28,
          28,
          28,
          28,
          30,
          30,
          31,
          31,
          32,
          34,
          34,
          35,
          35,
          36,
          36,
          37,
          38,
          38,
          38,
          40,
          40,
          41,
          42,
          43,
          44,
          44,
          45,
          46,
          47,
          48,
          52,
          55,
          57,
          57,
          59,
          59,
          59,
          60,
          60,
          62,
          64,
          67,
          72,
          74,
          74
         ],
         "xaxis": "x6",
         "y": [
          null,
          null,
          6,
          66,
          4,
          93,
          null,
          18,
          18,
          82,
          null,
          5,
          null,
          88,
          50,
          21,
          null,
          0,
          1,
          88,
          null,
          14,
          14,
          null,
          null,
          6,
          34,
          86,
          25,
          61,
          70,
          86,
          null,
          4,
          86,
          45,
          21,
          55,
          91,
          50,
          10,
          18,
          75,
          99,
          18,
          34,
          14,
          1,
          96,
          86,
          99,
          13,
          1,
          99,
          null,
          97
         ],
         "yaxis": "y6"
        },
        {
         "hovertext": [
          "EF 2E 22 E0 EA, Type 1",
          "B6 A4 CD 3A 81, Type 1",
          "76 A2 26 6F C7, Type inconnu",
          "C2 C3 05 A8 4B, Type 1",
          "39 CA BD 3C 82, Type 1",
          "7B DE 78 5B F6, Type 1",
          "9B 8E 44 F8 FF, Type 1",
          "EA 6F FF DE 42, Type 2",
          "90 01 09 71 F0, Type 2",
          "39 35 88 38 7B, Type inconnu",
          "35 86 13 56 24, Type 1",
          "7D 76 3D FC 91, Type 1",
          "73 EC 1B D7 9B, Type 1",
          "81 03 8C 07 58, Type inconnu",
          "AB A5 ED 43 8B, Type 1",
          "48 84 25 4A E0, Type inconnu",
          "01 83 17 5E 89, Type 1",
          "B9 5D 22 14 86, Type 1",
          "A1 54 32 B1 53, Type 1",
          "FD 11 B7 CF 8F, Type 1",
          "DB 6B 59 3A 0C, Type 1",
          "F1 C2 1C 3A FC, Type 1",
          "31 19 64 3D 10, Type 2",
          "98 2C 1A AA 87, Type 1",
          "A2 D7 D0 A4 2A, Type 1",
          "D7 FC 44 05 CA, Type 2",
          "8A A0 53 AC 37, Type inconnu",
          "02 88 A7 94 50, Type 2",
          "64 0B 1B 0A 45, Type 2",
          "8A 77 B8 09 AD, Type 2",
          "51 B7 6E C2 FD, Type 2",
          "A4 03 5A F0 57, Type 2",
          "02 92 7B FF E6, Type 1",
          "90 A6 58 8A AD, Type 2",
          "F5 E4 FD A4 9F, Type 2",
          "06 25 B6 B7 F5, Type 1",
          "47 09 1C 5F 94, Type inconnu",
          "76 8F 56 DE 15, Type 2",
          "3D F6 5A B4 9D, Type 2",
          "3F 34 F5 32 80, Type inconnu",
          "A6 FD C4 C0 69, Type 2",
          "4F 9C 21 D3 31, Type 2",
          "4B 6C 17 74 29, Type inconnu",
          "94 EB 19 B7 18, Type 2",
          "12 A8 8F 3F 67, Type inconnu",
          "19 01 73 04 E2, Type 2",
          "A2 C1 35 C2 8C, Type 2",
          "0F 30 93 5E 0E, Type 2",
          "81 DB 14 CC 21, Type inconnu",
          "CA A2 77 FC 22, Type 2",
          "96 B8 5B 6F 8F, Type inconnu",
          "96 DD DC FE E3, Type 2",
          "21 36 06 E2 38, Type 2",
          "B7 CA E8 BC 99, Type 2",
          "3E C6 4C 31 8B, Type inconnu",
          "EF 4A CF 20 AF, Type 2"
         ],
         "marker": {
          "color": [
           "#33ffc9",
           "#33ffc9",
           "#C5C5C5",
           "#33ffc9",
           "#33ffc9",
           "#33ffc9",
           "#33ffc9",
           "#B3D9FF",
           "#B3D9FF",
           "#C5C5C5",
           "#33ffc9",
           "#33ffc9",
           "#33ffc9",
           "#C5C5C5",
           "#33ffc9",
           "#C5C5C5",
           "#33ffc9",
           "#33ffc9",
           "#33ffc9",
           "#33ffc9",
           "#33ffc9",
           "#33ffc9",
           "#B3D9FF",
           "#33ffc9",
           "#33ffc9",
           "#B3D9FF",
           "#C5C5C5",
           "#B3D9FF",
           "#B3D9FF",
           "#B3D9FF",
           "#B3D9FF",
           "#B3D9FF",
           "#33ffc9",
           "#B3D9FF",
           "#B3D9FF",
           "#33ffc9",
           "#C5C5C5",
           "#B3D9FF",
           "#B3D9FF",
           "#C5C5C5",
           "#B3D9FF",
           "#B3D9FF",
           "#C5C5C5",
           "#B3D9FF",
           "#C5C5C5",
           "#B3D9FF",
           "#B3D9FF",
           "#B3D9FF",
           "#C5C5C5",
           "#B3D9FF",
           "#C5C5C5",
           "#B3D9FF",
           "#B3D9FF",
           "#B3D9FF",
           "#C5C5C5",
           "#B3D9FF"
          ],
          "size": 10
         },
         "mode": "markers+text",
         "type": "scatter",
         "x": [
          18,
          19,
          20,
          20,
          21,
          23,
          25,
          25,
          26,
          27,
          27,
          28,
          28,
          28,
          28,
          30,
          30,
          31,
          31,
          32,
          34,
          34,
          35,
          35,
          36,
          36,
          37,
          38,
          38,
          38,
          40,
          40,
          41,
          42,
          43,
          44,
          44,
          45,
          46,
          47,
          48,
          52,
          55,
          57,
          57,
          59,
          59,
          59,
          60,
          60,
          62,
          64,
          67,
          72,
          74,
          74
         ],
         "xaxis": "x7",
         "y": [
          null,
          null,
          72,
          99,
          68,
          114,
          null,
          80,
          80,
          107,
          null,
          70,
          null,
          110,
          93,
          82,
          null,
          53,
          62,
          110,
          null,
          78,
          78,
          null,
          null,
          72,
          88,
          109,
          84,
          97,
          101,
          109,
          null,
          68,
          109,
          92,
          82,
          95,
          112,
          93,
          76,
          80,
          103,
          127,
          80,
          88,
          78,
          57,
          118,
          109,
          130,
          77,
          62,
          136,
          null,
          121
         ],
         "yaxis": "y7"
        },
        {
         "hovertext": [
          "EF 2E 22 E0 EA, Type 1",
          "B6 A4 CD 3A 81, Type 1",
          "76 A2 26 6F C7, Type inconnu",
          "C2 C3 05 A8 4B, Type 1",
          "39 CA BD 3C 82, Type 1",
          "7B DE 78 5B F6, Type 1",
          "9B 8E 44 F8 FF, Type 1",
          "EA 6F FF DE 42, Type 2",
          "90 01 09 71 F0, Type 2",
          "39 35 88 38 7B, Type inconnu",
          "35 86 13 56 24, Type 1",
          "7D 76 3D FC 91, Type 1",
          "73 EC 1B D7 9B, Type 1",
          "81 03 8C 07 58, Type inconnu",
          "AB A5 ED 43 8B, Type 1",
          "48 84 25 4A E0, Type inconnu",
          "01 83 17 5E 89, Type 1",
          "B9 5D 22 14 86, Type 1",
          "A1 54 32 B1 53, Type 1",
          "FD 11 B7 CF 8F, Type 1",
          "DB 6B 59 3A 0C, Type 1",
          "F1 C2 1C 3A FC, Type 1",
          "31 19 64 3D 10, Type 2",
          "98 2C 1A AA 87, Type 1",
          "A2 D7 D0 A4 2A, Type 1",
          "D7 FC 44 05 CA, Type 2",
          "8A A0 53 AC 37, Type inconnu",
          "02 88 A7 94 50, Type 2",
          "64 0B 1B 0A 45, Type 2",
          "8A 77 B8 09 AD, Type 2",
          "51 B7 6E C2 FD, Type 2",
          "A4 03 5A F0 57, Type 2",
          "02 92 7B FF E6, Type 1",
          "90 A6 58 8A AD, Type 2",
          "F5 E4 FD A4 9F, Type 2",
          "06 25 B6 B7 F5, Type 1",
          "47 09 1C 5F 94, Type inconnu",
          "76 8F 56 DE 15, Type 2",
          "3D F6 5A B4 9D, Type 2",
          "3F 34 F5 32 80, Type inconnu",
          "A6 FD C4 C0 69, Type 2",
          "4F 9C 21 D3 31, Type 2",
          "4B 6C 17 74 29, Type inconnu",
          "94 EB 19 B7 18, Type 2",
          "12 A8 8F 3F 67, Type inconnu",
          "19 01 73 04 E2, Type 2",
          "A2 C1 35 C2 8C, Type 2",
          "0F 30 93 5E 0E, Type 2",
          "81 DB 14 CC 21, Type inconnu",
          "CA A2 77 FC 22, Type 2",
          "96 B8 5B 6F 8F, Type inconnu",
          "96 DD DC FE E3, Type 2",
          "21 36 06 E2 38, Type 2",
          "B7 CA E8 BC 99, Type 2",
          "3E C6 4C 31 8B, Type inconnu",
          "EF 4A CF 20 AF, Type 2"
         ],
         "marker": {
          "color": [
           "#33ffc9",
           "#33ffc9",
           "#C5C5C5",
           "#33ffc9",
           "#33ffc9",
           "#33ffc9",
           "#33ffc9",
           "#B3D9FF",
           "#B3D9FF",
           "#C5C5C5",
           "#33ffc9",
           "#33ffc9",
           "#33ffc9",
           "#C5C5C5",
           "#33ffc9",
           "#C5C5C5",
           "#33ffc9",
           "#33ffc9",
           "#33ffc9",
           "#33ffc9",
           "#33ffc9",
           "#33ffc9",
           "#B3D9FF",
           "#33ffc9",
           "#33ffc9",
           "#B3D9FF",
           "#C5C5C5",
           "#B3D9FF",
           "#B3D9FF",
           "#B3D9FF",
           "#B3D9FF",
           "#B3D9FF",
           "#33ffc9",
           "#B3D9FF",
           "#B3D9FF",
           "#33ffc9",
           "#C5C5C5",
           "#B3D9FF",
           "#B3D9FF",
           "#C5C5C5",
           "#B3D9FF",
           "#B3D9FF",
           "#C5C5C5",
           "#B3D9FF",
           "#C5C5C5",
           "#B3D9FF",
           "#B3D9FF",
           "#B3D9FF",
           "#C5C5C5",
           "#B3D9FF",
           "#C5C5C5",
           "#B3D9FF",
           "#B3D9FF",
           "#B3D9FF",
           "#C5C5C5",
           "#B3D9FF"
          ],
          "size": 10
         },
         "mode": "markers+text",
         "type": "scatter",
         "x": [
          18,
          19,
          20,
          20,
          21,
          23,
          25,
          25,
          26,
          27,
          27,
          28,
          28,
          28,
          28,
          30,
          30,
          31,
          31,
          32,
          34,
          34,
          35,
          35,
          36,
          36,
          37,
          38,
          38,
          38,
          40,
          40,
          41,
          42,
          43,
          44,
          44,
          45,
          46,
          47,
          48,
          52,
          55,
          57,
          57,
          59,
          59,
          59,
          60,
          60,
          62,
          64,
          67,
          72,
          74,
          74
         ],
         "xaxis": "x8",
         "y": [
          null,
          null,
          85,
          112,
          81,
          127,
          null,
          93,
          93,
          120,
          null,
          83,
          null,
          124,
          107,
          95,
          null,
          66,
          75,
          124,
          null,
          91,
          91,
          null,
          null,
          85,
          101,
          122,
          97,
          110,
          114,
          122,
          null,
          81,
          122,
          105,
          95,
          108,
          125,
          107,
          89,
          93,
          116,
          140,
          93,
          101,
          91,
          70,
          131,
          122,
          143,
          90,
          75,
          149,
          null,
          134
         ],
         "yaxis": "y8"
        }
       ],
       "layout": {
        "annotations": [
         {
          "font": {
           "size": 16
          },
          "showarrow": false,
          "text": "Note standard Similitudes",
          "x": 0.225,
          "xanchor": "center",
          "xref": "paper",
          "y": 1,
          "yanchor": "bottom",
          "yref": "paper"
         },
         {
          "font": {
           "size": 16
          },
          "showarrow": false,
          "text": "Note standard Vocabulaire",
          "x": 0.775,
          "xanchor": "center",
          "xref": "paper",
          "y": 1,
          "yanchor": "bottom",
          "yref": "paper"
         },
         {
          "font": {
           "size": 16
          },
          "showarrow": false,
          "text": "Note standard Information",
          "x": 0.225,
          "xanchor": "center",
          "xref": "paper",
          "y": 0.74,
          "yanchor": "bottom",
          "yref": "paper"
         },
         {
          "font": {
           "size": 16
          },
          "showarrow": false,
          "text": "Total des notes standards ICV",
          "x": 0.775,
          "xanchor": "center",
          "xref": "paper",
          "y": 0.74,
          "yanchor": "bottom",
          "yref": "paper"
         },
         {
          "font": {
           "size": 16
          },
          "showarrow": false,
          "text": "Note composite ICV",
          "x": 0.225,
          "xanchor": "center",
          "xref": "paper",
          "y": 0.48,
          "yanchor": "bottom",
          "yref": "paper"
         },
         {
          "font": {
           "size": 16
          },
          "showarrow": false,
          "text": "Rang percentile ICV",
          "x": 0.775,
          "xanchor": "center",
          "xref": "paper",
          "y": 0.48,
          "yanchor": "bottom",
          "yref": "paper"
         },
         {
          "font": {
           "size": 16
          },
          "showarrow": false,
          "text": "Note écart type inférieure ICV",
          "x": 0.225,
          "xanchor": "center",
          "xref": "paper",
          "y": 0.22,
          "yanchor": "bottom",
          "yref": "paper"
         },
         {
          "font": {
           "size": 16
          },
          "showarrow": false,
          "text": "Note écart type supérieure ICV",
          "x": 0.775,
          "xanchor": "center",
          "xref": "paper",
          "y": 0.22,
          "yanchor": "bottom",
          "yref": "paper"
         },
         {
          "font": {
           "size": 16
          },
          "showarrow": false,
          "text": "Âge",
          "x": 0.5,
          "xanchor": "center",
          "xref": "paper",
          "y": 0,
          "yanchor": "top",
          "yref": "paper",
          "yshift": -30
         },
         {
          "font": {
           "size": 16
          },
          "showarrow": false,
          "text": "Score",
          "textangle": -90,
          "x": 0,
          "xanchor": "right",
          "xref": "paper",
          "xshift": -40,
          "y": 0.5,
          "yanchor": "middle",
          "yref": "paper"
         }
        ],
        "height": 1500,
        "showlegend": false,
        "template": {
         "data": {
          "bar": [
           {
            "error_x": {
             "color": "#2a3f5f"
            },
            "error_y": {
             "color": "#2a3f5f"
            },
            "marker": {
             "line": {
              "color": "#E5ECF6",
              "width": 0.5
             }
            },
            "type": "bar"
           }
          ],
          "barpolar": [
           {
            "marker": {
             "line": {
              "color": "#E5ECF6",
              "width": 0.5
             }
            },
            "type": "barpolar"
           }
          ],
          "carpet": [
           {
            "aaxis": {
             "endlinecolor": "#2a3f5f",
             "gridcolor": "white",
             "linecolor": "white",
             "minorgridcolor": "white",
             "startlinecolor": "#2a3f5f"
            },
            "baxis": {
             "endlinecolor": "#2a3f5f",
             "gridcolor": "white",
             "linecolor": "white",
             "minorgridcolor": "white",
             "startlinecolor": "#2a3f5f"
            },
            "type": "carpet"
           }
          ],
          "choropleth": [
           {
            "colorbar": {
             "outlinewidth": 0,
             "ticks": ""
            },
            "type": "choropleth"
           }
          ],
          "contour": [
           {
            "colorbar": {
             "outlinewidth": 0,
             "ticks": ""
            },
            "colorscale": [
             [
              0,
              "#0d0887"
             ],
             [
              0.1111111111111111,
              "#46039f"
             ],
             [
              0.2222222222222222,
              "#7201a8"
             ],
             [
              0.3333333333333333,
              "#9c179e"
             ],
             [
              0.4444444444444444,
              "#bd3786"
             ],
             [
              0.5555555555555556,
              "#d8576b"
             ],
             [
              0.6666666666666666,
              "#ed7953"
             ],
             [
              0.7777777777777778,
              "#fb9f3a"
             ],
             [
              0.8888888888888888,
              "#fdca26"
             ],
             [
              1,
              "#f0f921"
             ]
            ],
            "type": "contour"
           }
          ],
          "contourcarpet": [
           {
            "colorbar": {
             "outlinewidth": 0,
             "ticks": ""
            },
            "type": "contourcarpet"
           }
          ],
          "heatmap": [
           {
            "colorbar": {
             "outlinewidth": 0,
             "ticks": ""
            },
            "colorscale": [
             [
              0,
              "#0d0887"
             ],
             [
              0.1111111111111111,
              "#46039f"
             ],
             [
              0.2222222222222222,
              "#7201a8"
             ],
             [
              0.3333333333333333,
              "#9c179e"
             ],
             [
              0.4444444444444444,
              "#bd3786"
             ],
             [
              0.5555555555555556,
              "#d8576b"
             ],
             [
              0.6666666666666666,
              "#ed7953"
             ],
             [
              0.7777777777777778,
              "#fb9f3a"
             ],
             [
              0.8888888888888888,
              "#fdca26"
             ],
             [
              1,
              "#f0f921"
             ]
            ],
            "type": "heatmap"
           }
          ],
          "heatmapgl": [
           {
            "colorbar": {
             "outlinewidth": 0,
             "ticks": ""
            },
            "colorscale": [
             [
              0,
              "#0d0887"
             ],
             [
              0.1111111111111111,
              "#46039f"
             ],
             [
              0.2222222222222222,
              "#7201a8"
             ],
             [
              0.3333333333333333,
              "#9c179e"
             ],
             [
              0.4444444444444444,
              "#bd3786"
             ],
             [
              0.5555555555555556,
              "#d8576b"
             ],
             [
              0.6666666666666666,
              "#ed7953"
             ],
             [
              0.7777777777777778,
              "#fb9f3a"
             ],
             [
              0.8888888888888888,
              "#fdca26"
             ],
             [
              1,
              "#f0f921"
             ]
            ],
            "type": "heatmapgl"
           }
          ],
          "histogram": [
           {
            "marker": {
             "colorbar": {
              "outlinewidth": 0,
              "ticks": ""
             }
            },
            "type": "histogram"
           }
          ],
          "histogram2d": [
           {
            "colorbar": {
             "outlinewidth": 0,
             "ticks": ""
            },
            "colorscale": [
             [
              0,
              "#0d0887"
             ],
             [
              0.1111111111111111,
              "#46039f"
             ],
             [
              0.2222222222222222,
              "#7201a8"
             ],
             [
              0.3333333333333333,
              "#9c179e"
             ],
             [
              0.4444444444444444,
              "#bd3786"
             ],
             [
              0.5555555555555556,
              "#d8576b"
             ],
             [
              0.6666666666666666,
              "#ed7953"
             ],
             [
              0.7777777777777778,
              "#fb9f3a"
             ],
             [
              0.8888888888888888,
              "#fdca26"
             ],
             [
              1,
              "#f0f921"
             ]
            ],
            "type": "histogram2d"
           }
          ],
          "histogram2dcontour": [
           {
            "colorbar": {
             "outlinewidth": 0,
             "ticks": ""
            },
            "colorscale": [
             [
              0,
              "#0d0887"
             ],
             [
              0.1111111111111111,
              "#46039f"
             ],
             [
              0.2222222222222222,
              "#7201a8"
             ],
             [
              0.3333333333333333,
              "#9c179e"
             ],
             [
              0.4444444444444444,
              "#bd3786"
             ],
             [
              0.5555555555555556,
              "#d8576b"
             ],
             [
              0.6666666666666666,
              "#ed7953"
             ],
             [
              0.7777777777777778,
              "#fb9f3a"
             ],
             [
              0.8888888888888888,
              "#fdca26"
             ],
             [
              1,
              "#f0f921"
             ]
            ],
            "type": "histogram2dcontour"
           }
          ],
          "mesh3d": [
           {
            "colorbar": {
             "outlinewidth": 0,
             "ticks": ""
            },
            "type": "mesh3d"
           }
          ],
          "parcoords": [
           {
            "line": {
             "colorbar": {
              "outlinewidth": 0,
              "ticks": ""
             }
            },
            "type": "parcoords"
           }
          ],
          "pie": [
           {
            "automargin": true,
            "type": "pie"
           }
          ],
          "scatter": [
           {
            "marker": {
             "colorbar": {
              "outlinewidth": 0,
              "ticks": ""
             }
            },
            "type": "scatter"
           }
          ],
          "scatter3d": [
           {
            "line": {
             "colorbar": {
              "outlinewidth": 0,
              "ticks": ""
             }
            },
            "marker": {
             "colorbar": {
              "outlinewidth": 0,
              "ticks": ""
             }
            },
            "type": "scatter3d"
           }
          ],
          "scattercarpet": [
           {
            "marker": {
             "colorbar": {
              "outlinewidth": 0,
              "ticks": ""
             }
            },
            "type": "scattercarpet"
           }
          ],
          "scattergeo": [
           {
            "marker": {
             "colorbar": {
              "outlinewidth": 0,
              "ticks": ""
             }
            },
            "type": "scattergeo"
           }
          ],
          "scattergl": [
           {
            "marker": {
             "colorbar": {
              "outlinewidth": 0,
              "ticks": ""
             }
            },
            "type": "scattergl"
           }
          ],
          "scattermapbox": [
           {
            "marker": {
             "colorbar": {
              "outlinewidth": 0,
              "ticks": ""
             }
            },
            "type": "scattermapbox"
           }
          ],
          "scatterpolar": [
           {
            "marker": {
             "colorbar": {
              "outlinewidth": 0,
              "ticks": ""
             }
            },
            "type": "scatterpolar"
           }
          ],
          "scatterpolargl": [
           {
            "marker": {
             "colorbar": {
              "outlinewidth": 0,
              "ticks": ""
             }
            },
            "type": "scatterpolargl"
           }
          ],
          "scatterternary": [
           {
            "marker": {
             "colorbar": {
              "outlinewidth": 0,
              "ticks": ""
             }
            },
            "type": "scatterternary"
           }
          ],
          "surface": [
           {
            "colorbar": {
             "outlinewidth": 0,
             "ticks": ""
            },
            "colorscale": [
             [
              0,
              "#0d0887"
             ],
             [
              0.1111111111111111,
              "#46039f"
             ],
             [
              0.2222222222222222,
              "#7201a8"
             ],
             [
              0.3333333333333333,
              "#9c179e"
             ],
             [
              0.4444444444444444,
              "#bd3786"
             ],
             [
              0.5555555555555556,
              "#d8576b"
             ],
             [
              0.6666666666666666,
              "#ed7953"
             ],
             [
              0.7777777777777778,
              "#fb9f3a"
             ],
             [
              0.8888888888888888,
              "#fdca26"
             ],
             [
              1,
              "#f0f921"
             ]
            ],
            "type": "surface"
           }
          ],
          "table": [
           {
            "cells": {
             "fill": {
              "color": "#EBF0F8"
             },
             "line": {
              "color": "white"
             }
            },
            "header": {
             "fill": {
              "color": "#C8D4E3"
             },
             "line": {
              "color": "white"
             }
            },
            "type": "table"
           }
          ]
         },
         "layout": {
          "annotationdefaults": {
           "arrowcolor": "#2a3f5f",
           "arrowhead": 0,
           "arrowwidth": 1
          },
          "coloraxis": {
           "colorbar": {
            "outlinewidth": 0,
            "ticks": ""
           }
          },
          "colorscale": {
           "diverging": [
            [
             0,
             "#8e0152"
            ],
            [
             0.1,
             "#c51b7d"
            ],
            [
             0.2,
             "#de77ae"
            ],
            [
             0.3,
             "#f1b6da"
            ],
            [
             0.4,
             "#fde0ef"
            ],
            [
             0.5,
             "#f7f7f7"
            ],
            [
             0.6,
             "#e6f5d0"
            ],
            [
             0.7,
             "#b8e186"
            ],
            [
             0.8,
             "#7fbc41"
            ],
            [
             0.9,
             "#4d9221"
            ],
            [
             1,
             "#276419"
            ]
           ],
           "sequential": [
            [
             0,
             "#0d0887"
            ],
            [
             0.1111111111111111,
             "#46039f"
            ],
            [
             0.2222222222222222,
             "#7201a8"
            ],
            [
             0.3333333333333333,
             "#9c179e"
            ],
            [
             0.4444444444444444,
             "#bd3786"
            ],
            [
             0.5555555555555556,
             "#d8576b"
            ],
            [
             0.6666666666666666,
             "#ed7953"
            ],
            [
             0.7777777777777778,
             "#fb9f3a"
            ],
            [
             0.8888888888888888,
             "#fdca26"
            ],
            [
             1,
             "#f0f921"
            ]
           ],
           "sequentialminus": [
            [
             0,
             "#0d0887"
            ],
            [
             0.1111111111111111,
             "#46039f"
            ],
            [
             0.2222222222222222,
             "#7201a8"
            ],
            [
             0.3333333333333333,
             "#9c179e"
            ],
            [
             0.4444444444444444,
             "#bd3786"
            ],
            [
             0.5555555555555556,
             "#d8576b"
            ],
            [
             0.6666666666666666,
             "#ed7953"
            ],
            [
             0.7777777777777778,
             "#fb9f3a"
            ],
            [
             0.8888888888888888,
             "#fdca26"
            ],
            [
             1,
             "#f0f921"
            ]
           ]
          },
          "colorway": [
           "#636efa",
           "#EF553B",
           "#00cc96",
           "#ab63fa",
           "#FFA15A",
           "#19d3f3",
           "#FF6692",
           "#B6E880",
           "#FF97FF",
           "#FECB52"
          ],
          "font": {
           "color": "#2a3f5f"
          },
          "geo": {
           "bgcolor": "white",
           "lakecolor": "white",
           "landcolor": "#E5ECF6",
           "showlakes": true,
           "showland": true,
           "subunitcolor": "white"
          },
          "hoverlabel": {
           "align": "left"
          },
          "hovermode": "closest",
          "mapbox": {
           "style": "light"
          },
          "paper_bgcolor": "white",
          "plot_bgcolor": "#E5ECF6",
          "polar": {
           "angularaxis": {
            "gridcolor": "white",
            "linecolor": "white",
            "ticks": ""
           },
           "bgcolor": "#E5ECF6",
           "radialaxis": {
            "gridcolor": "white",
            "linecolor": "white",
            "ticks": ""
           }
          },
          "scene": {
           "xaxis": {
            "backgroundcolor": "#E5ECF6",
            "gridcolor": "white",
            "gridwidth": 2,
            "linecolor": "white",
            "showbackground": true,
            "ticks": "",
            "zerolinecolor": "white"
           },
           "yaxis": {
            "backgroundcolor": "#E5ECF6",
            "gridcolor": "white",
            "gridwidth": 2,
            "linecolor": "white",
            "showbackground": true,
            "ticks": "",
            "zerolinecolor": "white"
           },
           "zaxis": {
            "backgroundcolor": "#E5ECF6",
            "gridcolor": "white",
            "gridwidth": 2,
            "linecolor": "white",
            "showbackground": true,
            "ticks": "",
            "zerolinecolor": "white"
           }
          },
          "shapedefaults": {
           "line": {
            "color": "#2a3f5f"
           }
          },
          "ternary": {
           "aaxis": {
            "gridcolor": "white",
            "linecolor": "white",
            "ticks": ""
           },
           "baxis": {
            "gridcolor": "white",
            "linecolor": "white",
            "ticks": ""
           },
           "bgcolor": "#E5ECF6",
           "caxis": {
            "gridcolor": "white",
            "linecolor": "white",
            "ticks": ""
           }
          },
          "title": {
           "x": 0.05
          },
          "xaxis": {
           "automargin": true,
           "gridcolor": "white",
           "linecolor": "white",
           "ticks": "",
           "title": {
            "standoff": 15
           },
           "zerolinecolor": "white",
           "zerolinewidth": 2
          },
          "yaxis": {
           "automargin": true,
           "gridcolor": "white",
           "linecolor": "white",
           "ticks": "",
           "title": {
            "standoff": 15
           },
           "zerolinecolor": "white",
           "zerolinewidth": 2
          }
         }
        },
        "width": 800,
        "xaxis": {
         "anchor": "y",
         "domain": [
          0,
          0.45
         ]
        },
        "xaxis2": {
         "anchor": "y2",
         "domain": [
          0.55,
          1
         ]
        },
        "xaxis3": {
         "anchor": "y3",
         "domain": [
          0,
          0.45
         ]
        },
        "xaxis4": {
         "anchor": "y4",
         "domain": [
          0.55,
          1
         ]
        },
        "xaxis5": {
         "anchor": "y5",
         "domain": [
          0,
          0.45
         ]
        },
        "xaxis6": {
         "anchor": "y6",
         "domain": [
          0.55,
          1
         ]
        },
        "xaxis7": {
         "anchor": "y7",
         "domain": [
          0,
          0.45
         ]
        },
        "xaxis8": {
         "anchor": "y8",
         "domain": [
          0.55,
          1
         ]
        },
        "yaxis": {
         "anchor": "x",
         "domain": [
          0.78,
          1
         ]
        },
        "yaxis2": {
         "anchor": "x2",
         "domain": [
          0.78,
          1
         ]
        },
        "yaxis3": {
         "anchor": "x3",
         "domain": [
          0.52,
          0.74
         ]
        },
        "yaxis4": {
         "anchor": "x4",
         "domain": [
          0.52,
          0.74
         ]
        },
        "yaxis5": {
         "anchor": "x5",
         "domain": [
          0.26,
          0.48
         ]
        },
        "yaxis6": {
         "anchor": "x6",
         "domain": [
          0.26,
          0.48
         ]
        },
        "yaxis7": {
         "anchor": "x7",
         "domain": [
          0,
          0.22
         ]
        },
        "yaxis8": {
         "anchor": "x8",
         "domain": [
          0,
          0.22
         ]
        }
       }
      },
      "text/html": [
       "<div>\n",
       "        \n",
       "        \n",
       "            <div id=\"c9b442c2-d0f0-4412-8c08-c22617f62c91\" class=\"plotly-graph-div\" style=\"height:1500px; width:800px;\"></div>\n",
       "            <script type=\"text/javascript\">\n",
       "                require([\"plotly\"], function(Plotly) {\n",
       "                    window.PLOTLYENV=window.PLOTLYENV || {};\n",
       "                    \n",
       "                if (document.getElementById(\"c9b442c2-d0f0-4412-8c08-c22617f62c91\")) {\n",
       "                    Plotly.newPlot(\n",
       "                        'c9b442c2-d0f0-4412-8c08-c22617f62c91',\n",
       "                        [{\"hovertext\": [\"EF 2E 22 E0 EA, Type 1\", \"B6 A4 CD 3A 81, Type 1\", \"76 A2 26 6F C7, Type inconnu\", \"C2 C3 05 A8 4B, Type 1\", \"39 CA BD 3C 82, Type 1\", \"7B DE 78 5B F6, Type 1\", \"9B 8E 44 F8 FF, Type 1\", \"EA 6F FF DE 42, Type 2\", \"90 01 09 71 F0, Type 2\", \"39 35 88 38 7B, Type inconnu\", \"35 86 13 56 24, Type 1\", \"7D 76 3D FC 91, Type 1\", \"73 EC 1B D7 9B, Type 1\", \"81 03 8C 07 58, Type inconnu\", \"AB A5 ED 43 8B, Type 1\", \"48 84 25 4A E0, Type inconnu\", \"01 83 17 5E 89, Type 1\", \"B9 5D 22 14 86, Type 1\", \"A1 54 32 B1 53, Type 1\", \"FD 11 B7 CF 8F, Type 1\", \"DB 6B 59 3A 0C, Type 1\", \"F1 C2 1C 3A FC, Type 1\", \"31 19 64 3D 10, Type 2\", \"98 2C 1A AA 87, Type 1\", \"A2 D7 D0 A4 2A, Type 1\", \"D7 FC 44 05 CA, Type 2\", \"8A A0 53 AC 37, Type inconnu\", \"02 88 A7 94 50, Type 2\", \"64 0B 1B 0A 45, Type 2\", \"8A 77 B8 09 AD, Type 2\", \"51 B7 6E C2 FD, Type 2\", \"A4 03 5A F0 57, Type 2\", \"02 92 7B FF E6, Type 1\", \"90 A6 58 8A AD, Type 2\", \"F5 E4 FD A4 9F, Type 2\", \"06 25 B6 B7 F5, Type 1\", \"47 09 1C 5F 94, Type inconnu\", \"76 8F 56 DE 15, Type 2\", \"3D F6 5A B4 9D, Type 2\", \"3F 34 F5 32 80, Type inconnu\", \"A6 FD C4 C0 69, Type 2\", \"4F 9C 21 D3 31, Type 2\", \"4B 6C 17 74 29, Type inconnu\", \"94 EB 19 B7 18, Type 2\", \"12 A8 8F 3F 67, Type inconnu\", \"19 01 73 04 E2, Type 2\", \"A2 C1 35 C2 8C, Type 2\", \"0F 30 93 5E 0E, Type 2\", \"81 DB 14 CC 21, Type inconnu\", \"CA A2 77 FC 22, Type 2\", \"96 B8 5B 6F 8F, Type inconnu\", \"96 DD DC FE E3, Type 2\", \"21 36 06 E2 38, Type 2\", \"B7 CA E8 BC 99, Type 2\", \"3E C6 4C 31 8B, Type inconnu\", \"EF 4A CF 20 AF, Type 2\"], \"marker\": {\"color\": [\"#33ffc9\", \"#33ffc9\", \"#C5C5C5\", \"#33ffc9\", \"#33ffc9\", \"#33ffc9\", \"#33ffc9\", \"#B3D9FF\", \"#B3D9FF\", \"#C5C5C5\", \"#33ffc9\", \"#33ffc9\", \"#33ffc9\", \"#C5C5C5\", \"#33ffc9\", \"#C5C5C5\", \"#33ffc9\", \"#33ffc9\", \"#33ffc9\", \"#33ffc9\", \"#33ffc9\", \"#33ffc9\", \"#B3D9FF\", \"#33ffc9\", \"#33ffc9\", \"#B3D9FF\", \"#C5C5C5\", \"#B3D9FF\", \"#B3D9FF\", \"#B3D9FF\", \"#B3D9FF\", \"#B3D9FF\", \"#33ffc9\", \"#B3D9FF\", \"#B3D9FF\", \"#33ffc9\", \"#C5C5C5\", \"#B3D9FF\", \"#B3D9FF\", \"#C5C5C5\", \"#B3D9FF\", \"#B3D9FF\", \"#C5C5C5\", \"#B3D9FF\", \"#C5C5C5\", \"#B3D9FF\", \"#B3D9FF\", \"#B3D9FF\", \"#C5C5C5\", \"#B3D9FF\", \"#C5C5C5\", \"#B3D9FF\", \"#B3D9FF\", \"#B3D9FF\", \"#C5C5C5\", \"#B3D9FF\"], \"size\": 10}, \"mode\": \"markers+text\", \"type\": \"scatter\", \"x\": [18.0, 19.0, 20.0, 20.0, 21.0, 23.0, 25.0, 25.0, 26.0, 27.0, 27.0, 28.0, 28.0, 28.0, 28.0, 30.0, 30.0, 31.0, 31.0, 32.0, 34.0, 34.0, 35.0, 35.0, 36.0, 36.0, 37.0, 38.0, 38.0, 38.0, 40.0, 40.0, 41.0, 42.0, 43.0, 44.0, 44.0, 45.0, 46.0, 47.0, 48.0, 52.0, 55.0, 57.0, 57.0, 59.0, 59.0, 59.0, 60.0, 60.0, 62.0, 64.0, 67.0, 72.0, 74.0, 74.0], \"xaxis\": \"x\", \"y\": [null, 5.0, 4.0, 8.0, 6.0, 14.0, 6.0, 10.0, 9.0, 10.0, null, 6.0, null, 15.0, 13.0, 8.0, null, 3.0, 3.0, 12.0, null, 7.0, 9.0, null, null, 6.0, 9.0, 14.0, 7.0, 12.0, 5.0, 13.0, null, 5.0, 10.0, 10.0, 6.0, 11.0, 13.0, 12.0, 8.0, 8.0, 11.0, 15.0, 10.0, 9.0, 6.0, 3.0, 16.0, 15.0, 17.0, 9.0, 3.0, 18.0, null, 19.0], \"yaxis\": \"y\"}, {\"hovertext\": [\"EF 2E 22 E0 EA, Type 1\", \"B6 A4 CD 3A 81, Type 1\", \"76 A2 26 6F C7, Type inconnu\", \"C2 C3 05 A8 4B, Type 1\", \"39 CA BD 3C 82, Type 1\", \"7B DE 78 5B F6, Type 1\", \"9B 8E 44 F8 FF, Type 1\", \"EA 6F FF DE 42, Type 2\", \"90 01 09 71 F0, Type 2\", \"39 35 88 38 7B, Type inconnu\", \"35 86 13 56 24, Type 1\", \"7D 76 3D FC 91, Type 1\", \"73 EC 1B D7 9B, Type 1\", \"81 03 8C 07 58, Type inconnu\", \"AB A5 ED 43 8B, Type 1\", \"48 84 25 4A E0, Type inconnu\", \"01 83 17 5E 89, Type 1\", \"B9 5D 22 14 86, Type 1\", \"A1 54 32 B1 53, Type 1\", \"FD 11 B7 CF 8F, Type 1\", \"DB 6B 59 3A 0C, Type 1\", \"F1 C2 1C 3A FC, Type 1\", \"31 19 64 3D 10, Type 2\", \"98 2C 1A AA 87, Type 1\", \"A2 D7 D0 A4 2A, Type 1\", \"D7 FC 44 05 CA, Type 2\", \"8A A0 53 AC 37, Type inconnu\", \"02 88 A7 94 50, Type 2\", \"64 0B 1B 0A 45, Type 2\", \"8A 77 B8 09 AD, Type 2\", \"51 B7 6E C2 FD, Type 2\", \"A4 03 5A F0 57, Type 2\", \"02 92 7B FF E6, Type 1\", \"90 A6 58 8A AD, Type 2\", \"F5 E4 FD A4 9F, Type 2\", \"06 25 B6 B7 F5, Type 1\", \"47 09 1C 5F 94, Type inconnu\", \"76 8F 56 DE 15, Type 2\", \"3D F6 5A B4 9D, Type 2\", \"3F 34 F5 32 80, Type inconnu\", \"A6 FD C4 C0 69, Type 2\", \"4F 9C 21 D3 31, Type 2\", \"4B 6C 17 74 29, Type inconnu\", \"94 EB 19 B7 18, Type 2\", \"12 A8 8F 3F 67, Type inconnu\", \"19 01 73 04 E2, Type 2\", \"A2 C1 35 C2 8C, Type 2\", \"0F 30 93 5E 0E, Type 2\", \"81 DB 14 CC 21, Type inconnu\", \"CA A2 77 FC 22, Type 2\", \"96 B8 5B 6F 8F, Type inconnu\", \"96 DD DC FE E3, Type 2\", \"21 36 06 E2 38, Type 2\", \"B7 CA E8 BC 99, Type 2\", \"3E C6 4C 31 8B, Type inconnu\", \"EF 4A CF 20 AF, Type 2\"], \"marker\": {\"color\": [\"#33ffc9\", \"#33ffc9\", \"#C5C5C5\", \"#33ffc9\", \"#33ffc9\", \"#33ffc9\", \"#33ffc9\", \"#B3D9FF\", \"#B3D9FF\", \"#C5C5C5\", \"#33ffc9\", \"#33ffc9\", \"#33ffc9\", \"#C5C5C5\", \"#33ffc9\", \"#C5C5C5\", \"#33ffc9\", \"#33ffc9\", \"#33ffc9\", \"#33ffc9\", \"#33ffc9\", \"#33ffc9\", \"#B3D9FF\", \"#33ffc9\", \"#33ffc9\", \"#B3D9FF\", \"#C5C5C5\", \"#B3D9FF\", \"#B3D9FF\", \"#B3D9FF\", \"#B3D9FF\", \"#B3D9FF\", \"#33ffc9\", \"#B3D9FF\", \"#B3D9FF\", \"#33ffc9\", \"#C5C5C5\", \"#B3D9FF\", \"#B3D9FF\", \"#C5C5C5\", \"#B3D9FF\", \"#B3D9FF\", \"#C5C5C5\", \"#B3D9FF\", \"#C5C5C5\", \"#B3D9FF\", \"#B3D9FF\", \"#B3D9FF\", \"#C5C5C5\", \"#B3D9FF\", \"#C5C5C5\", \"#B3D9FF\", \"#B3D9FF\", \"#B3D9FF\", \"#C5C5C5\", \"#B3D9FF\"], \"size\": 10}, \"mode\": \"markers+text\", \"type\": \"scatter\", \"x\": [18.0, 19.0, 20.0, 20.0, 21.0, 23.0, 25.0, 25.0, 26.0, 27.0, 27.0, 28.0, 28.0, 28.0, 28.0, 30.0, 30.0, 31.0, 31.0, 32.0, 34.0, 34.0, 35.0, 35.0, 36.0, 36.0, 37.0, 38.0, 38.0, 38.0, 40.0, 40.0, 41.0, 42.0, 43.0, 44.0, 44.0, 45.0, 46.0, 47.0, 48.0, 52.0, 55.0, 57.0, 57.0, 59.0, 59.0, 59.0, 60.0, 60.0, 62.0, 64.0, 67.0, 72.0, 74.0, 74.0], \"xaxis\": \"x2\", \"y\": [null, null, 8.0, 14.0, 4.0, 13.0, 2.0, 6.0, 7.0, 13.0, 1.0, 5.0, null, 15.0, 9.0, 10.0, null, 2.0, 3.0, 16.0, null, 7.0, 6.0, null, null, 5.0, 8.0, 14.0, 10.0, 10.0, 16.0, 13.0, null, 5.0, 13.0, 11.0, 9.0, 11.0, 18.0, 9.0, 6.0, 8.0, 13.0, 18.0, 6.0, 9.0, 9.0, 3.0, 13.0, 13.0, 18.0, 7.0, 5.0, 19.0, 9.0, 16.0], \"yaxis\": \"y2\"}, {\"hovertext\": [\"EF 2E 22 E0 EA, Type 1\", \"B6 A4 CD 3A 81, Type 1\", \"76 A2 26 6F C7, Type inconnu\", \"C2 C3 05 A8 4B, Type 1\", \"39 CA BD 3C 82, Type 1\", \"7B DE 78 5B F6, Type 1\", \"9B 8E 44 F8 FF, Type 1\", \"EA 6F FF DE 42, Type 2\", \"90 01 09 71 F0, Type 2\", \"39 35 88 38 7B, Type inconnu\", \"35 86 13 56 24, Type 1\", \"7D 76 3D FC 91, Type 1\", \"73 EC 1B D7 9B, Type 1\", \"81 03 8C 07 58, Type inconnu\", \"AB A5 ED 43 8B, Type 1\", \"48 84 25 4A E0, Type inconnu\", \"01 83 17 5E 89, Type 1\", \"B9 5D 22 14 86, Type 1\", \"A1 54 32 B1 53, Type 1\", \"FD 11 B7 CF 8F, Type 1\", \"DB 6B 59 3A 0C, Type 1\", \"F1 C2 1C 3A FC, Type 1\", \"31 19 64 3D 10, Type 2\", \"98 2C 1A AA 87, Type 1\", \"A2 D7 D0 A4 2A, Type 1\", \"D7 FC 44 05 CA, Type 2\", \"8A A0 53 AC 37, Type inconnu\", \"02 88 A7 94 50, Type 2\", \"64 0B 1B 0A 45, Type 2\", \"8A 77 B8 09 AD, Type 2\", \"51 B7 6E C2 FD, Type 2\", \"A4 03 5A F0 57, Type 2\", \"02 92 7B FF E6, Type 1\", \"90 A6 58 8A AD, Type 2\", \"F5 E4 FD A4 9F, Type 2\", \"06 25 B6 B7 F5, Type 1\", \"47 09 1C 5F 94, Type inconnu\", \"76 8F 56 DE 15, Type 2\", \"3D F6 5A B4 9D, Type 2\", \"3F 34 F5 32 80, Type inconnu\", \"A6 FD C4 C0 69, Type 2\", \"4F 9C 21 D3 31, Type 2\", \"4B 6C 17 74 29, Type inconnu\", \"94 EB 19 B7 18, Type 2\", \"12 A8 8F 3F 67, Type inconnu\", \"19 01 73 04 E2, Type 2\", \"A2 C1 35 C2 8C, Type 2\", \"0F 30 93 5E 0E, Type 2\", \"81 DB 14 CC 21, Type inconnu\", \"CA A2 77 FC 22, Type 2\", \"96 B8 5B 6F 8F, Type inconnu\", \"96 DD DC FE E3, Type 2\", \"21 36 06 E2 38, Type 2\", \"B7 CA E8 BC 99, Type 2\", \"3E C6 4C 31 8B, Type inconnu\", \"EF 4A CF 20 AF, Type 2\"], \"marker\": {\"color\": [\"#33ffc9\", \"#33ffc9\", \"#C5C5C5\", \"#33ffc9\", \"#33ffc9\", \"#33ffc9\", \"#33ffc9\", \"#B3D9FF\", \"#B3D9FF\", \"#C5C5C5\", \"#33ffc9\", \"#33ffc9\", \"#33ffc9\", \"#C5C5C5\", \"#33ffc9\", \"#C5C5C5\", \"#33ffc9\", \"#33ffc9\", \"#33ffc9\", \"#33ffc9\", \"#33ffc9\", \"#33ffc9\", \"#B3D9FF\", \"#33ffc9\", \"#33ffc9\", \"#B3D9FF\", \"#C5C5C5\", \"#B3D9FF\", \"#B3D9FF\", \"#B3D9FF\", \"#B3D9FF\", \"#B3D9FF\", \"#33ffc9\", \"#B3D9FF\", \"#B3D9FF\", \"#33ffc9\", \"#C5C5C5\", \"#B3D9FF\", \"#B3D9FF\", \"#C5C5C5\", \"#B3D9FF\", \"#B3D9FF\", \"#C5C5C5\", \"#B3D9FF\", \"#C5C5C5\", \"#B3D9FF\", \"#B3D9FF\", \"#B3D9FF\", \"#C5C5C5\", \"#B3D9FF\", \"#C5C5C5\", \"#B3D9FF\", \"#B3D9FF\", \"#B3D9FF\", \"#C5C5C5\", \"#B3D9FF\"], \"size\": 10}, \"mode\": \"markers+text\", \"type\": \"scatter\", \"x\": [18.0, 19.0, 20.0, 20.0, 21.0, 23.0, 25.0, 25.0, 26.0, 27.0, 27.0, 28.0, 28.0, 28.0, 28.0, 30.0, 30.0, 31.0, 31.0, 32.0, 34.0, 34.0, 35.0, 35.0, 36.0, 36.0, 37.0, 38.0, 38.0, 38.0, 40.0, 40.0, 41.0, 42.0, 43.0, 44.0, 44.0, 45.0, 46.0, 47.0, 48.0, 52.0, 55.0, 57.0, 57.0, 59.0, 59.0, 59.0, 60.0, 60.0, 62.0, 64.0, 67.0, 72.0, 74.0, 74.0], \"xaxis\": \"x3\", \"y\": [null, null, 6.0, 11.0, 6.0, 14.0, null, 7.0, 7.0, 14.0, 2.0, 6.0, null, 9.0, 8.0, 6.0, null, 3.0, 7.0, 11.0, 2.0, 8.0, 7.0, null, null, 7.0, 10.0, 10.0, 8.0, 10.0, 13.0, 11.0, null, 6.0, 15.0, 8.0, 9.0, 9.0, 9.0, 9.0, 6.0, 7.0, 11.0, 14.0, 7.0, 9.0, 7.0, 4.0, 14.0, 10.0, 15.0, 5.0, 5.0, 17.0, 9.0, 10.0], \"yaxis\": \"y3\"}, {\"hovertext\": [\"EF 2E 22 E0 EA, Type 1\", \"B6 A4 CD 3A 81, Type 1\", \"76 A2 26 6F C7, Type inconnu\", \"C2 C3 05 A8 4B, Type 1\", \"39 CA BD 3C 82, Type 1\", \"7B DE 78 5B F6, Type 1\", \"9B 8E 44 F8 FF, Type 1\", \"EA 6F FF DE 42, Type 2\", \"90 01 09 71 F0, Type 2\", \"39 35 88 38 7B, Type inconnu\", \"35 86 13 56 24, Type 1\", \"7D 76 3D FC 91, Type 1\", \"73 EC 1B D7 9B, Type 1\", \"81 03 8C 07 58, Type inconnu\", \"AB A5 ED 43 8B, Type 1\", \"48 84 25 4A E0, Type inconnu\", \"01 83 17 5E 89, Type 1\", \"B9 5D 22 14 86, Type 1\", \"A1 54 32 B1 53, Type 1\", \"FD 11 B7 CF 8F, Type 1\", \"DB 6B 59 3A 0C, Type 1\", \"F1 C2 1C 3A FC, Type 1\", \"31 19 64 3D 10, Type 2\", \"98 2C 1A AA 87, Type 1\", \"A2 D7 D0 A4 2A, Type 1\", \"D7 FC 44 05 CA, Type 2\", \"8A A0 53 AC 37, Type inconnu\", \"02 88 A7 94 50, Type 2\", \"64 0B 1B 0A 45, Type 2\", \"8A 77 B8 09 AD, Type 2\", \"51 B7 6E C2 FD, Type 2\", \"A4 03 5A F0 57, Type 2\", \"02 92 7B FF E6, Type 1\", \"90 A6 58 8A AD, Type 2\", \"F5 E4 FD A4 9F, Type 2\", \"06 25 B6 B7 F5, Type 1\", \"47 09 1C 5F 94, Type inconnu\", \"76 8F 56 DE 15, Type 2\", \"3D F6 5A B4 9D, Type 2\", \"3F 34 F5 32 80, Type inconnu\", \"A6 FD C4 C0 69, Type 2\", \"4F 9C 21 D3 31, Type 2\", \"4B 6C 17 74 29, Type inconnu\", \"94 EB 19 B7 18, Type 2\", \"12 A8 8F 3F 67, Type inconnu\", \"19 01 73 04 E2, Type 2\", \"A2 C1 35 C2 8C, Type 2\", \"0F 30 93 5E 0E, Type 2\", \"81 DB 14 CC 21, Type inconnu\", \"CA A2 77 FC 22, Type 2\", \"96 B8 5B 6F 8F, Type inconnu\", \"96 DD DC FE E3, Type 2\", \"21 36 06 E2 38, Type 2\", \"B7 CA E8 BC 99, Type 2\", \"3E C6 4C 31 8B, Type inconnu\", \"EF 4A CF 20 AF, Type 2\"], \"marker\": {\"color\": [\"#33ffc9\", \"#33ffc9\", \"#C5C5C5\", \"#33ffc9\", \"#33ffc9\", \"#33ffc9\", \"#33ffc9\", \"#B3D9FF\", \"#B3D9FF\", \"#C5C5C5\", \"#33ffc9\", \"#33ffc9\", \"#33ffc9\", \"#C5C5C5\", \"#33ffc9\", \"#C5C5C5\", \"#33ffc9\", \"#33ffc9\", \"#33ffc9\", \"#33ffc9\", \"#33ffc9\", \"#33ffc9\", \"#B3D9FF\", \"#33ffc9\", \"#33ffc9\", \"#B3D9FF\", \"#C5C5C5\", \"#B3D9FF\", \"#B3D9FF\", \"#B3D9FF\", \"#B3D9FF\", \"#B3D9FF\", \"#33ffc9\", \"#B3D9FF\", \"#B3D9FF\", \"#33ffc9\", \"#C5C5C5\", \"#B3D9FF\", \"#B3D9FF\", \"#C5C5C5\", \"#B3D9FF\", \"#B3D9FF\", \"#C5C5C5\", \"#B3D9FF\", \"#C5C5C5\", \"#B3D9FF\", \"#B3D9FF\", \"#B3D9FF\", \"#C5C5C5\", \"#B3D9FF\", \"#C5C5C5\", \"#B3D9FF\", \"#B3D9FF\", \"#B3D9FF\", \"#C5C5C5\", \"#B3D9FF\"], \"size\": 10}, \"mode\": \"markers+text\", \"type\": \"scatter\", \"x\": [18.0, 19.0, 20.0, 20.0, 21.0, 23.0, 25.0, 25.0, 26.0, 27.0, 27.0, 28.0, 28.0, 28.0, 28.0, 30.0, 30.0, 31.0, 31.0, 32.0, 34.0, 34.0, 35.0, 35.0, 36.0, 36.0, 37.0, 38.0, 38.0, 38.0, 40.0, 40.0, 41.0, 42.0, 43.0, 44.0, 44.0, 45.0, 46.0, 47.0, 48.0, 52.0, 55.0, 57.0, 57.0, 59.0, 59.0, 59.0, 60.0, 60.0, 62.0, 64.0, 67.0, 72.0, 74.0, 74.0], \"xaxis\": \"x4\", \"y\": [null, null, 18.0, 33.0, 16.0, 41.0, null, 23.0, 23.0, 37.0, null, 17.0, null, 39.0, 30.0, 24.0, null, 8.0, 13.0, 39.0, null, 22.0, 22.0, null, null, 18.0, 27.0, 38.0, 25.0, 32.0, 34.0, 37.0, null, 16.0, 38.0, 29.0, 24.0, 31.0, 40.0, 30.0, 20.0, 23.0, 35.0, 47.0, 23.0, 27.0, 22.0, 10.0, 43.0, 38.0, 50.0, 21.0, 13.0, 54.0, null, 45.0], \"yaxis\": \"y4\"}, {\"hovertext\": [\"EF 2E 22 E0 EA, Type 1\", \"B6 A4 CD 3A 81, Type 1\", \"76 A2 26 6F C7, Type inconnu\", \"C2 C3 05 A8 4B, Type 1\", \"39 CA BD 3C 82, Type 1\", \"7B DE 78 5B F6, Type 1\", \"9B 8E 44 F8 FF, Type 1\", \"EA 6F FF DE 42, Type 2\", \"90 01 09 71 F0, Type 2\", \"39 35 88 38 7B, Type inconnu\", \"35 86 13 56 24, Type 1\", \"7D 76 3D FC 91, Type 1\", \"73 EC 1B D7 9B, Type 1\", \"81 03 8C 07 58, Type inconnu\", \"AB A5 ED 43 8B, Type 1\", \"48 84 25 4A E0, Type inconnu\", \"01 83 17 5E 89, Type 1\", \"B9 5D 22 14 86, Type 1\", \"A1 54 32 B1 53, Type 1\", \"FD 11 B7 CF 8F, Type 1\", \"DB 6B 59 3A 0C, Type 1\", \"F1 C2 1C 3A FC, Type 1\", \"31 19 64 3D 10, Type 2\", \"98 2C 1A AA 87, Type 1\", \"A2 D7 D0 A4 2A, Type 1\", \"D7 FC 44 05 CA, Type 2\", \"8A A0 53 AC 37, Type inconnu\", \"02 88 A7 94 50, Type 2\", \"64 0B 1B 0A 45, Type 2\", \"8A 77 B8 09 AD, Type 2\", \"51 B7 6E C2 FD, Type 2\", \"A4 03 5A F0 57, Type 2\", \"02 92 7B FF E6, Type 1\", \"90 A6 58 8A AD, Type 2\", \"F5 E4 FD A4 9F, Type 2\", \"06 25 B6 B7 F5, Type 1\", \"47 09 1C 5F 94, Type inconnu\", \"76 8F 56 DE 15, Type 2\", \"3D F6 5A B4 9D, Type 2\", \"3F 34 F5 32 80, Type inconnu\", \"A6 FD C4 C0 69, Type 2\", \"4F 9C 21 D3 31, Type 2\", \"4B 6C 17 74 29, Type inconnu\", \"94 EB 19 B7 18, Type 2\", \"12 A8 8F 3F 67, Type inconnu\", \"19 01 73 04 E2, Type 2\", \"A2 C1 35 C2 8C, Type 2\", \"0F 30 93 5E 0E, Type 2\", \"81 DB 14 CC 21, Type inconnu\", \"CA A2 77 FC 22, Type 2\", \"96 B8 5B 6F 8F, Type inconnu\", \"96 DD DC FE E3, Type 2\", \"21 36 06 E2 38, Type 2\", \"B7 CA E8 BC 99, Type 2\", \"3E C6 4C 31 8B, Type inconnu\", \"EF 4A CF 20 AF, Type 2\"], \"marker\": {\"color\": [\"#33ffc9\", \"#33ffc9\", \"#C5C5C5\", \"#33ffc9\", \"#33ffc9\", \"#33ffc9\", \"#33ffc9\", \"#B3D9FF\", \"#B3D9FF\", \"#C5C5C5\", \"#33ffc9\", \"#33ffc9\", \"#33ffc9\", \"#C5C5C5\", \"#33ffc9\", \"#C5C5C5\", \"#33ffc9\", \"#33ffc9\", \"#33ffc9\", \"#33ffc9\", \"#33ffc9\", \"#33ffc9\", \"#B3D9FF\", \"#33ffc9\", \"#33ffc9\", \"#B3D9FF\", \"#C5C5C5\", \"#B3D9FF\", \"#B3D9FF\", \"#B3D9FF\", \"#B3D9FF\", \"#B3D9FF\", \"#33ffc9\", \"#B3D9FF\", \"#B3D9FF\", \"#33ffc9\", \"#C5C5C5\", \"#B3D9FF\", \"#B3D9FF\", \"#C5C5C5\", \"#B3D9FF\", \"#B3D9FF\", \"#C5C5C5\", \"#B3D9FF\", \"#C5C5C5\", \"#B3D9FF\", \"#B3D9FF\", \"#B3D9FF\", \"#C5C5C5\", \"#B3D9FF\", \"#C5C5C5\", \"#B3D9FF\", \"#B3D9FF\", \"#B3D9FF\", \"#C5C5C5\", \"#B3D9FF\"], \"size\": 10}, \"mode\": \"markers+text\", \"type\": \"scatter\", \"x\": [18.0, 19.0, 20.0, 20.0, 21.0, 23.0, 25.0, 25.0, 26.0, 27.0, 27.0, 28.0, 28.0, 28.0, 28.0, 30.0, 30.0, 31.0, 31.0, 32.0, 34.0, 34.0, 35.0, 35.0, 36.0, 36.0, 37.0, 38.0, 38.0, 38.0, 40.0, 40.0, 41.0, 42.0, 43.0, 44.0, 44.0, 45.0, 46.0, 47.0, 48.0, 52.0, 55.0, 57.0, 57.0, 59.0, 59.0, 59.0, 60.0, 60.0, 62.0, 64.0, 67.0, 72.0, 74.0, 74.0], \"xaxis\": \"x5\", \"y\": [null, null, 77.0, 106.0, 73.0, 122.0, null, 86.0, 86.0, 114.0, null, 75.0, null, 118.0, 100.0, 88.0, null, 86.0, 67.0, 118.0, null, 84.0, 84.0, null, null, 77.0, 94.0, 116.0, 90.0, 104.0, 108.0, 114.0, null, 73.0, 116.0, 98.0, 88.0, 102.0, 120.0, 100.0, 81.0, 86.0, 110.0, 133.0, 86.0, 94.0, 84.0, 61.0, 126.0, 116.0, 139.0, 83.0, 67.0, 147.0, null, 129.0], \"yaxis\": \"y5\"}, {\"hovertext\": [\"EF 2E 22 E0 EA, Type 1\", \"B6 A4 CD 3A 81, Type 1\", \"76 A2 26 6F C7, Type inconnu\", \"C2 C3 05 A8 4B, Type 1\", \"39 CA BD 3C 82, Type 1\", \"7B DE 78 5B F6, Type 1\", \"9B 8E 44 F8 FF, Type 1\", \"EA 6F FF DE 42, Type 2\", \"90 01 09 71 F0, Type 2\", \"39 35 88 38 7B, Type inconnu\", \"35 86 13 56 24, Type 1\", \"7D 76 3D FC 91, Type 1\", \"73 EC 1B D7 9B, Type 1\", \"81 03 8C 07 58, Type inconnu\", \"AB A5 ED 43 8B, Type 1\", \"48 84 25 4A E0, Type inconnu\", \"01 83 17 5E 89, Type 1\", \"B9 5D 22 14 86, Type 1\", \"A1 54 32 B1 53, Type 1\", \"FD 11 B7 CF 8F, Type 1\", \"DB 6B 59 3A 0C, Type 1\", \"F1 C2 1C 3A FC, Type 1\", \"31 19 64 3D 10, Type 2\", \"98 2C 1A AA 87, Type 1\", \"A2 D7 D0 A4 2A, Type 1\", \"D7 FC 44 05 CA, Type 2\", \"8A A0 53 AC 37, Type inconnu\", \"02 88 A7 94 50, Type 2\", \"64 0B 1B 0A 45, Type 2\", \"8A 77 B8 09 AD, Type 2\", \"51 B7 6E C2 FD, Type 2\", \"A4 03 5A F0 57, Type 2\", \"02 92 7B FF E6, Type 1\", \"90 A6 58 8A AD, Type 2\", \"F5 E4 FD A4 9F, Type 2\", \"06 25 B6 B7 F5, Type 1\", \"47 09 1C 5F 94, Type inconnu\", \"76 8F 56 DE 15, Type 2\", \"3D F6 5A B4 9D, Type 2\", \"3F 34 F5 32 80, Type inconnu\", \"A6 FD C4 C0 69, Type 2\", \"4F 9C 21 D3 31, Type 2\", \"4B 6C 17 74 29, Type inconnu\", \"94 EB 19 B7 18, Type 2\", \"12 A8 8F 3F 67, Type inconnu\", \"19 01 73 04 E2, Type 2\", \"A2 C1 35 C2 8C, Type 2\", \"0F 30 93 5E 0E, Type 2\", \"81 DB 14 CC 21, Type inconnu\", \"CA A2 77 FC 22, Type 2\", \"96 B8 5B 6F 8F, Type inconnu\", \"96 DD DC FE E3, Type 2\", \"21 36 06 E2 38, Type 2\", \"B7 CA E8 BC 99, Type 2\", \"3E C6 4C 31 8B, Type inconnu\", \"EF 4A CF 20 AF, Type 2\"], \"marker\": {\"color\": [\"#33ffc9\", \"#33ffc9\", \"#C5C5C5\", \"#33ffc9\", \"#33ffc9\", \"#33ffc9\", \"#33ffc9\", \"#B3D9FF\", \"#B3D9FF\", \"#C5C5C5\", \"#33ffc9\", \"#33ffc9\", \"#33ffc9\", \"#C5C5C5\", \"#33ffc9\", \"#C5C5C5\", \"#33ffc9\", \"#33ffc9\", \"#33ffc9\", \"#33ffc9\", \"#33ffc9\", \"#33ffc9\", \"#B3D9FF\", \"#33ffc9\", \"#33ffc9\", \"#B3D9FF\", \"#C5C5C5\", \"#B3D9FF\", \"#B3D9FF\", \"#B3D9FF\", \"#B3D9FF\", \"#B3D9FF\", \"#33ffc9\", \"#B3D9FF\", \"#B3D9FF\", \"#33ffc9\", \"#C5C5C5\", \"#B3D9FF\", \"#B3D9FF\", \"#C5C5C5\", \"#B3D9FF\", \"#B3D9FF\", \"#C5C5C5\", \"#B3D9FF\", \"#C5C5C5\", \"#B3D9FF\", \"#B3D9FF\", \"#B3D9FF\", \"#C5C5C5\", \"#B3D9FF\", \"#C5C5C5\", \"#B3D9FF\", \"#B3D9FF\", \"#B3D9FF\", \"#C5C5C5\", \"#B3D9FF\"], \"size\": 10}, \"mode\": \"markers+text\", \"type\": \"scatter\", \"x\": [18.0, 19.0, 20.0, 20.0, 21.0, 23.0, 25.0, 25.0, 26.0, 27.0, 27.0, 28.0, 28.0, 28.0, 28.0, 30.0, 30.0, 31.0, 31.0, 32.0, 34.0, 34.0, 35.0, 35.0, 36.0, 36.0, 37.0, 38.0, 38.0, 38.0, 40.0, 40.0, 41.0, 42.0, 43.0, 44.0, 44.0, 45.0, 46.0, 47.0, 48.0, 52.0, 55.0, 57.0, 57.0, 59.0, 59.0, 59.0, 60.0, 60.0, 62.0, 64.0, 67.0, 72.0, 74.0, 74.0], \"xaxis\": \"x6\", \"y\": [null, null, 6.0, 66.0, 4.0, 93.0, null, 18.0, 18.0, 82.0, null, 5.0, null, 88.0, 50.0, 21.0, null, 0.0, 1.0, 88.0, null, 14.0, 14.0, null, null, 6.0, 34.0, 86.0, 25.0, 61.0, 70.0, 86.0, null, 4.0, 86.0, 45.0, 21.0, 55.0, 91.0, 50.0, 10.0, 18.0, 75.0, 99.0, 18.0, 34.0, 14.0, 1.0, 96.0, 86.0, 99.0, 13.0, 1.0, 99.0, null, 97.0], \"yaxis\": \"y6\"}, {\"hovertext\": [\"EF 2E 22 E0 EA, Type 1\", \"B6 A4 CD 3A 81, Type 1\", \"76 A2 26 6F C7, Type inconnu\", \"C2 C3 05 A8 4B, Type 1\", \"39 CA BD 3C 82, Type 1\", \"7B DE 78 5B F6, Type 1\", \"9B 8E 44 F8 FF, Type 1\", \"EA 6F FF DE 42, Type 2\", \"90 01 09 71 F0, Type 2\", \"39 35 88 38 7B, Type inconnu\", \"35 86 13 56 24, Type 1\", \"7D 76 3D FC 91, Type 1\", \"73 EC 1B D7 9B, Type 1\", \"81 03 8C 07 58, Type inconnu\", \"AB A5 ED 43 8B, Type 1\", \"48 84 25 4A E0, Type inconnu\", \"01 83 17 5E 89, Type 1\", \"B9 5D 22 14 86, Type 1\", \"A1 54 32 B1 53, Type 1\", \"FD 11 B7 CF 8F, Type 1\", \"DB 6B 59 3A 0C, Type 1\", \"F1 C2 1C 3A FC, Type 1\", \"31 19 64 3D 10, Type 2\", \"98 2C 1A AA 87, Type 1\", \"A2 D7 D0 A4 2A, Type 1\", \"D7 FC 44 05 CA, Type 2\", \"8A A0 53 AC 37, Type inconnu\", \"02 88 A7 94 50, Type 2\", \"64 0B 1B 0A 45, Type 2\", \"8A 77 B8 09 AD, Type 2\", \"51 B7 6E C2 FD, Type 2\", \"A4 03 5A F0 57, Type 2\", \"02 92 7B FF E6, Type 1\", \"90 A6 58 8A AD, Type 2\", \"F5 E4 FD A4 9F, Type 2\", \"06 25 B6 B7 F5, Type 1\", \"47 09 1C 5F 94, Type inconnu\", \"76 8F 56 DE 15, Type 2\", \"3D F6 5A B4 9D, Type 2\", \"3F 34 F5 32 80, Type inconnu\", \"A6 FD C4 C0 69, Type 2\", \"4F 9C 21 D3 31, Type 2\", \"4B 6C 17 74 29, Type inconnu\", \"94 EB 19 B7 18, Type 2\", \"12 A8 8F 3F 67, Type inconnu\", \"19 01 73 04 E2, Type 2\", \"A2 C1 35 C2 8C, Type 2\", \"0F 30 93 5E 0E, Type 2\", \"81 DB 14 CC 21, Type inconnu\", \"CA A2 77 FC 22, Type 2\", \"96 B8 5B 6F 8F, Type inconnu\", \"96 DD DC FE E3, Type 2\", \"21 36 06 E2 38, Type 2\", \"B7 CA E8 BC 99, Type 2\", \"3E C6 4C 31 8B, Type inconnu\", \"EF 4A CF 20 AF, Type 2\"], \"marker\": {\"color\": [\"#33ffc9\", \"#33ffc9\", \"#C5C5C5\", \"#33ffc9\", \"#33ffc9\", \"#33ffc9\", \"#33ffc9\", \"#B3D9FF\", \"#B3D9FF\", \"#C5C5C5\", \"#33ffc9\", \"#33ffc9\", \"#33ffc9\", \"#C5C5C5\", \"#33ffc9\", \"#C5C5C5\", \"#33ffc9\", \"#33ffc9\", \"#33ffc9\", \"#33ffc9\", \"#33ffc9\", \"#33ffc9\", \"#B3D9FF\", \"#33ffc9\", \"#33ffc9\", \"#B3D9FF\", \"#C5C5C5\", \"#B3D9FF\", \"#B3D9FF\", \"#B3D9FF\", \"#B3D9FF\", \"#B3D9FF\", \"#33ffc9\", \"#B3D9FF\", \"#B3D9FF\", \"#33ffc9\", \"#C5C5C5\", \"#B3D9FF\", \"#B3D9FF\", \"#C5C5C5\", \"#B3D9FF\", \"#B3D9FF\", \"#C5C5C5\", \"#B3D9FF\", \"#C5C5C5\", \"#B3D9FF\", \"#B3D9FF\", \"#B3D9FF\", \"#C5C5C5\", \"#B3D9FF\", \"#C5C5C5\", \"#B3D9FF\", \"#B3D9FF\", \"#B3D9FF\", \"#C5C5C5\", \"#B3D9FF\"], \"size\": 10}, \"mode\": \"markers+text\", \"type\": \"scatter\", \"x\": [18.0, 19.0, 20.0, 20.0, 21.0, 23.0, 25.0, 25.0, 26.0, 27.0, 27.0, 28.0, 28.0, 28.0, 28.0, 30.0, 30.0, 31.0, 31.0, 32.0, 34.0, 34.0, 35.0, 35.0, 36.0, 36.0, 37.0, 38.0, 38.0, 38.0, 40.0, 40.0, 41.0, 42.0, 43.0, 44.0, 44.0, 45.0, 46.0, 47.0, 48.0, 52.0, 55.0, 57.0, 57.0, 59.0, 59.0, 59.0, 60.0, 60.0, 62.0, 64.0, 67.0, 72.0, 74.0, 74.0], \"xaxis\": \"x7\", \"y\": [null, null, 72.0, 99.0, 68.0, 114.0, null, 80.0, 80.0, 107.0, null, 70.0, null, 110.0, 93.0, 82.0, null, 53.0, 62.0, 110.0, null, 78.0, 78.0, null, null, 72.0, 88.0, 109.0, 84.0, 97.0, 101.0, 109.0, null, 68.0, 109.0, 92.0, 82.0, 95.0, 112.0, 93.0, 76.0, 80.0, 103.0, 127.0, 80.0, 88.0, 78.0, 57.0, 118.0, 109.0, 130.0, 77.0, 62.0, 136.0, null, 121.0], \"yaxis\": \"y7\"}, {\"hovertext\": [\"EF 2E 22 E0 EA, Type 1\", \"B6 A4 CD 3A 81, Type 1\", \"76 A2 26 6F C7, Type inconnu\", \"C2 C3 05 A8 4B, Type 1\", \"39 CA BD 3C 82, Type 1\", \"7B DE 78 5B F6, Type 1\", \"9B 8E 44 F8 FF, Type 1\", \"EA 6F FF DE 42, Type 2\", \"90 01 09 71 F0, Type 2\", \"39 35 88 38 7B, Type inconnu\", \"35 86 13 56 24, Type 1\", \"7D 76 3D FC 91, Type 1\", \"73 EC 1B D7 9B, Type 1\", \"81 03 8C 07 58, Type inconnu\", \"AB A5 ED 43 8B, Type 1\", \"48 84 25 4A E0, Type inconnu\", \"01 83 17 5E 89, Type 1\", \"B9 5D 22 14 86, Type 1\", \"A1 54 32 B1 53, Type 1\", \"FD 11 B7 CF 8F, Type 1\", \"DB 6B 59 3A 0C, Type 1\", \"F1 C2 1C 3A FC, Type 1\", \"31 19 64 3D 10, Type 2\", \"98 2C 1A AA 87, Type 1\", \"A2 D7 D0 A4 2A, Type 1\", \"D7 FC 44 05 CA, Type 2\", \"8A A0 53 AC 37, Type inconnu\", \"02 88 A7 94 50, Type 2\", \"64 0B 1B 0A 45, Type 2\", \"8A 77 B8 09 AD, Type 2\", \"51 B7 6E C2 FD, Type 2\", \"A4 03 5A F0 57, Type 2\", \"02 92 7B FF E6, Type 1\", \"90 A6 58 8A AD, Type 2\", \"F5 E4 FD A4 9F, Type 2\", \"06 25 B6 B7 F5, Type 1\", \"47 09 1C 5F 94, Type inconnu\", \"76 8F 56 DE 15, Type 2\", \"3D F6 5A B4 9D, Type 2\", \"3F 34 F5 32 80, Type inconnu\", \"A6 FD C4 C0 69, Type 2\", \"4F 9C 21 D3 31, Type 2\", \"4B 6C 17 74 29, Type inconnu\", \"94 EB 19 B7 18, Type 2\", \"12 A8 8F 3F 67, Type inconnu\", \"19 01 73 04 E2, Type 2\", \"A2 C1 35 C2 8C, Type 2\", \"0F 30 93 5E 0E, Type 2\", \"81 DB 14 CC 21, Type inconnu\", \"CA A2 77 FC 22, Type 2\", \"96 B8 5B 6F 8F, Type inconnu\", \"96 DD DC FE E3, Type 2\", \"21 36 06 E2 38, Type 2\", \"B7 CA E8 BC 99, Type 2\", \"3E C6 4C 31 8B, Type inconnu\", \"EF 4A CF 20 AF, Type 2\"], \"marker\": {\"color\": [\"#33ffc9\", \"#33ffc9\", \"#C5C5C5\", \"#33ffc9\", \"#33ffc9\", \"#33ffc9\", \"#33ffc9\", \"#B3D9FF\", \"#B3D9FF\", \"#C5C5C5\", \"#33ffc9\", \"#33ffc9\", \"#33ffc9\", \"#C5C5C5\", \"#33ffc9\", \"#C5C5C5\", \"#33ffc9\", \"#33ffc9\", \"#33ffc9\", \"#33ffc9\", \"#33ffc9\", \"#33ffc9\", \"#B3D9FF\", \"#33ffc9\", \"#33ffc9\", \"#B3D9FF\", \"#C5C5C5\", \"#B3D9FF\", \"#B3D9FF\", \"#B3D9FF\", \"#B3D9FF\", \"#B3D9FF\", \"#33ffc9\", \"#B3D9FF\", \"#B3D9FF\", \"#33ffc9\", \"#C5C5C5\", \"#B3D9FF\", \"#B3D9FF\", \"#C5C5C5\", \"#B3D9FF\", \"#B3D9FF\", \"#C5C5C5\", \"#B3D9FF\", \"#C5C5C5\", \"#B3D9FF\", \"#B3D9FF\", \"#B3D9FF\", \"#C5C5C5\", \"#B3D9FF\", \"#C5C5C5\", \"#B3D9FF\", \"#B3D9FF\", \"#B3D9FF\", \"#C5C5C5\", \"#B3D9FF\"], \"size\": 10}, \"mode\": \"markers+text\", \"type\": \"scatter\", \"x\": [18.0, 19.0, 20.0, 20.0, 21.0, 23.0, 25.0, 25.0, 26.0, 27.0, 27.0, 28.0, 28.0, 28.0, 28.0, 30.0, 30.0, 31.0, 31.0, 32.0, 34.0, 34.0, 35.0, 35.0, 36.0, 36.0, 37.0, 38.0, 38.0, 38.0, 40.0, 40.0, 41.0, 42.0, 43.0, 44.0, 44.0, 45.0, 46.0, 47.0, 48.0, 52.0, 55.0, 57.0, 57.0, 59.0, 59.0, 59.0, 60.0, 60.0, 62.0, 64.0, 67.0, 72.0, 74.0, 74.0], \"xaxis\": \"x8\", \"y\": [null, null, 85.0, 112.0, 81.0, 127.0, null, 93.0, 93.0, 120.0, null, 83.0, null, 124.0, 107.0, 95.0, null, 66.0, 75.0, 124.0, null, 91.0, 91.0, null, null, 85.0, 101.0, 122.0, 97.0, 110.0, 114.0, 122.0, null, 81.0, 122.0, 105.0, 95.0, 108.0, 125.0, 107.0, 89.0, 93.0, 116.0, 140.0, 93.0, 101.0, 91.0, 70.0, 131.0, 122.0, 143.0, 90.0, 75.0, 149.0, null, 134.0], \"yaxis\": \"y8\"}],\n",
       "                        {\"annotations\": [{\"font\": {\"size\": 16}, \"showarrow\": false, \"text\": \"Note standard Similitudes\", \"x\": 0.225, \"xanchor\": \"center\", \"xref\": \"paper\", \"y\": 1.0, \"yanchor\": \"bottom\", \"yref\": \"paper\"}, {\"font\": {\"size\": 16}, \"showarrow\": false, \"text\": \"Note standard Vocabulaire\", \"x\": 0.775, \"xanchor\": \"center\", \"xref\": \"paper\", \"y\": 1.0, \"yanchor\": \"bottom\", \"yref\": \"paper\"}, {\"font\": {\"size\": 16}, \"showarrow\": false, \"text\": \"Note standard Information\", \"x\": 0.225, \"xanchor\": \"center\", \"xref\": \"paper\", \"y\": 0.74, \"yanchor\": \"bottom\", \"yref\": \"paper\"}, {\"font\": {\"size\": 16}, \"showarrow\": false, \"text\": \"Total des notes standards ICV\", \"x\": 0.775, \"xanchor\": \"center\", \"xref\": \"paper\", \"y\": 0.74, \"yanchor\": \"bottom\", \"yref\": \"paper\"}, {\"font\": {\"size\": 16}, \"showarrow\": false, \"text\": \"Note composite ICV\", \"x\": 0.225, \"xanchor\": \"center\", \"xref\": \"paper\", \"y\": 0.48, \"yanchor\": \"bottom\", \"yref\": \"paper\"}, {\"font\": {\"size\": 16}, \"showarrow\": false, \"text\": \"Rang percentile ICV\", \"x\": 0.775, \"xanchor\": \"center\", \"xref\": \"paper\", \"y\": 0.48, \"yanchor\": \"bottom\", \"yref\": \"paper\"}, {\"font\": {\"size\": 16}, \"showarrow\": false, \"text\": \"Note \\u00e9cart type inf\\u00e9rieure ICV\", \"x\": 0.225, \"xanchor\": \"center\", \"xref\": \"paper\", \"y\": 0.22, \"yanchor\": \"bottom\", \"yref\": \"paper\"}, {\"font\": {\"size\": 16}, \"showarrow\": false, \"text\": \"Note \\u00e9cart type sup\\u00e9rieure ICV\", \"x\": 0.775, \"xanchor\": \"center\", \"xref\": \"paper\", \"y\": 0.22, \"yanchor\": \"bottom\", \"yref\": \"paper\"}, {\"font\": {\"size\": 16}, \"showarrow\": false, \"text\": \"\\u00c2ge\", \"x\": 0.5, \"xanchor\": \"center\", \"xref\": \"paper\", \"y\": 0, \"yanchor\": \"top\", \"yref\": \"paper\", \"yshift\": -30}, {\"font\": {\"size\": 16}, \"showarrow\": false, \"text\": \"Score\", \"textangle\": -90, \"x\": 0, \"xanchor\": \"right\", \"xref\": \"paper\", \"xshift\": -40, \"y\": 0.5, \"yanchor\": \"middle\", \"yref\": \"paper\"}], \"height\": 1500, \"showlegend\": false, \"template\": {\"data\": {\"bar\": [{\"error_x\": {\"color\": \"#2a3f5f\"}, \"error_y\": {\"color\": \"#2a3f5f\"}, \"marker\": {\"line\": {\"color\": \"#E5ECF6\", \"width\": 0.5}}, \"type\": \"bar\"}], \"barpolar\": [{\"marker\": {\"line\": {\"color\": \"#E5ECF6\", \"width\": 0.5}}, \"type\": \"barpolar\"}], \"carpet\": [{\"aaxis\": {\"endlinecolor\": \"#2a3f5f\", \"gridcolor\": \"white\", \"linecolor\": \"white\", \"minorgridcolor\": \"white\", \"startlinecolor\": \"#2a3f5f\"}, \"baxis\": {\"endlinecolor\": \"#2a3f5f\", \"gridcolor\": \"white\", \"linecolor\": \"white\", \"minorgridcolor\": \"white\", \"startlinecolor\": \"#2a3f5f\"}, \"type\": \"carpet\"}], \"choropleth\": [{\"colorbar\": {\"outlinewidth\": 0, \"ticks\": \"\"}, \"type\": \"choropleth\"}], \"contour\": [{\"colorbar\": {\"outlinewidth\": 0, \"ticks\": \"\"}, \"colorscale\": [[0.0, \"#0d0887\"], [0.1111111111111111, \"#46039f\"], [0.2222222222222222, \"#7201a8\"], [0.3333333333333333, \"#9c179e\"], [0.4444444444444444, \"#bd3786\"], [0.5555555555555556, \"#d8576b\"], [0.6666666666666666, \"#ed7953\"], [0.7777777777777778, \"#fb9f3a\"], [0.8888888888888888, \"#fdca26\"], [1.0, \"#f0f921\"]], \"type\": \"contour\"}], \"contourcarpet\": [{\"colorbar\": {\"outlinewidth\": 0, \"ticks\": \"\"}, \"type\": \"contourcarpet\"}], \"heatmap\": [{\"colorbar\": {\"outlinewidth\": 0, \"ticks\": \"\"}, \"colorscale\": [[0.0, \"#0d0887\"], [0.1111111111111111, \"#46039f\"], [0.2222222222222222, \"#7201a8\"], [0.3333333333333333, \"#9c179e\"], [0.4444444444444444, \"#bd3786\"], [0.5555555555555556, \"#d8576b\"], [0.6666666666666666, \"#ed7953\"], [0.7777777777777778, \"#fb9f3a\"], [0.8888888888888888, \"#fdca26\"], [1.0, \"#f0f921\"]], \"type\": \"heatmap\"}], \"heatmapgl\": [{\"colorbar\": {\"outlinewidth\": 0, \"ticks\": \"\"}, \"colorscale\": [[0.0, \"#0d0887\"], [0.1111111111111111, \"#46039f\"], [0.2222222222222222, \"#7201a8\"], [0.3333333333333333, \"#9c179e\"], [0.4444444444444444, \"#bd3786\"], [0.5555555555555556, \"#d8576b\"], [0.6666666666666666, \"#ed7953\"], [0.7777777777777778, \"#fb9f3a\"], [0.8888888888888888, \"#fdca26\"], [1.0, \"#f0f921\"]], \"type\": \"heatmapgl\"}], \"histogram\": [{\"marker\": {\"colorbar\": {\"outlinewidth\": 0, \"ticks\": \"\"}}, \"type\": \"histogram\"}], \"histogram2d\": [{\"colorbar\": {\"outlinewidth\": 0, \"ticks\": \"\"}, \"colorscale\": [[0.0, \"#0d0887\"], [0.1111111111111111, \"#46039f\"], [0.2222222222222222, \"#7201a8\"], [0.3333333333333333, \"#9c179e\"], [0.4444444444444444, \"#bd3786\"], [0.5555555555555556, \"#d8576b\"], [0.6666666666666666, \"#ed7953\"], [0.7777777777777778, \"#fb9f3a\"], [0.8888888888888888, \"#fdca26\"], [1.0, \"#f0f921\"]], \"type\": \"histogram2d\"}], \"histogram2dcontour\": [{\"colorbar\": {\"outlinewidth\": 0, \"ticks\": \"\"}, \"colorscale\": [[0.0, \"#0d0887\"], [0.1111111111111111, \"#46039f\"], [0.2222222222222222, \"#7201a8\"], [0.3333333333333333, \"#9c179e\"], [0.4444444444444444, \"#bd3786\"], [0.5555555555555556, \"#d8576b\"], [0.6666666666666666, \"#ed7953\"], [0.7777777777777778, \"#fb9f3a\"], [0.8888888888888888, \"#fdca26\"], [1.0, \"#f0f921\"]], \"type\": \"histogram2dcontour\"}], \"mesh3d\": [{\"colorbar\": {\"outlinewidth\": 0, \"ticks\": \"\"}, \"type\": \"mesh3d\"}], \"parcoords\": [{\"line\": {\"colorbar\": {\"outlinewidth\": 0, \"ticks\": \"\"}}, \"type\": \"parcoords\"}], \"pie\": [{\"automargin\": true, \"type\": \"pie\"}], \"scatter\": [{\"marker\": {\"colorbar\": {\"outlinewidth\": 0, \"ticks\": \"\"}}, \"type\": \"scatter\"}], \"scatter3d\": [{\"line\": {\"colorbar\": {\"outlinewidth\": 0, \"ticks\": \"\"}}, \"marker\": {\"colorbar\": {\"outlinewidth\": 0, \"ticks\": \"\"}}, \"type\": \"scatter3d\"}], \"scattercarpet\": [{\"marker\": {\"colorbar\": {\"outlinewidth\": 0, \"ticks\": \"\"}}, \"type\": \"scattercarpet\"}], \"scattergeo\": [{\"marker\": {\"colorbar\": {\"outlinewidth\": 0, \"ticks\": \"\"}}, \"type\": \"scattergeo\"}], \"scattergl\": [{\"marker\": {\"colorbar\": {\"outlinewidth\": 0, \"ticks\": \"\"}}, \"type\": \"scattergl\"}], \"scattermapbox\": [{\"marker\": {\"colorbar\": {\"outlinewidth\": 0, \"ticks\": \"\"}}, \"type\": \"scattermapbox\"}], \"scatterpolar\": [{\"marker\": {\"colorbar\": {\"outlinewidth\": 0, \"ticks\": \"\"}}, \"type\": \"scatterpolar\"}], \"scatterpolargl\": [{\"marker\": {\"colorbar\": {\"outlinewidth\": 0, \"ticks\": \"\"}}, \"type\": \"scatterpolargl\"}], \"scatterternary\": [{\"marker\": {\"colorbar\": {\"outlinewidth\": 0, \"ticks\": \"\"}}, \"type\": \"scatterternary\"}], \"surface\": [{\"colorbar\": {\"outlinewidth\": 0, \"ticks\": \"\"}, \"colorscale\": [[0.0, \"#0d0887\"], [0.1111111111111111, \"#46039f\"], [0.2222222222222222, \"#7201a8\"], [0.3333333333333333, \"#9c179e\"], [0.4444444444444444, \"#bd3786\"], [0.5555555555555556, \"#d8576b\"], [0.6666666666666666, \"#ed7953\"], [0.7777777777777778, \"#fb9f3a\"], [0.8888888888888888, \"#fdca26\"], [1.0, \"#f0f921\"]], \"type\": \"surface\"}], \"table\": [{\"cells\": {\"fill\": {\"color\": \"#EBF0F8\"}, \"line\": {\"color\": \"white\"}}, \"header\": {\"fill\": {\"color\": \"#C8D4E3\"}, \"line\": {\"color\": \"white\"}}, \"type\": \"table\"}]}, \"layout\": {\"annotationdefaults\": {\"arrowcolor\": \"#2a3f5f\", \"arrowhead\": 0, \"arrowwidth\": 1}, \"coloraxis\": {\"colorbar\": {\"outlinewidth\": 0, \"ticks\": \"\"}}, \"colorscale\": {\"diverging\": [[0, \"#8e0152\"], [0.1, \"#c51b7d\"], [0.2, \"#de77ae\"], [0.3, \"#f1b6da\"], [0.4, \"#fde0ef\"], [0.5, \"#f7f7f7\"], [0.6, \"#e6f5d0\"], [0.7, \"#b8e186\"], [0.8, \"#7fbc41\"], [0.9, \"#4d9221\"], [1, \"#276419\"]], \"sequential\": [[0.0, \"#0d0887\"], [0.1111111111111111, \"#46039f\"], [0.2222222222222222, \"#7201a8\"], [0.3333333333333333, \"#9c179e\"], [0.4444444444444444, \"#bd3786\"], [0.5555555555555556, \"#d8576b\"], [0.6666666666666666, \"#ed7953\"], [0.7777777777777778, \"#fb9f3a\"], [0.8888888888888888, \"#fdca26\"], [1.0, \"#f0f921\"]], \"sequentialminus\": [[0.0, \"#0d0887\"], [0.1111111111111111, \"#46039f\"], [0.2222222222222222, \"#7201a8\"], [0.3333333333333333, \"#9c179e\"], [0.4444444444444444, \"#bd3786\"], [0.5555555555555556, \"#d8576b\"], [0.6666666666666666, \"#ed7953\"], [0.7777777777777778, \"#fb9f3a\"], [0.8888888888888888, \"#fdca26\"], [1.0, \"#f0f921\"]]}, \"colorway\": [\"#636efa\", \"#EF553B\", \"#00cc96\", \"#ab63fa\", \"#FFA15A\", \"#19d3f3\", \"#FF6692\", \"#B6E880\", \"#FF97FF\", \"#FECB52\"], \"font\": {\"color\": \"#2a3f5f\"}, \"geo\": {\"bgcolor\": \"white\", \"lakecolor\": \"white\", \"landcolor\": \"#E5ECF6\", \"showlakes\": true, \"showland\": true, \"subunitcolor\": \"white\"}, \"hoverlabel\": {\"align\": \"left\"}, \"hovermode\": \"closest\", \"mapbox\": {\"style\": \"light\"}, \"paper_bgcolor\": \"white\", \"plot_bgcolor\": \"#E5ECF6\", \"polar\": {\"angularaxis\": {\"gridcolor\": \"white\", \"linecolor\": \"white\", \"ticks\": \"\"}, \"bgcolor\": \"#E5ECF6\", \"radialaxis\": {\"gridcolor\": \"white\", \"linecolor\": \"white\", \"ticks\": \"\"}}, \"scene\": {\"xaxis\": {\"backgroundcolor\": \"#E5ECF6\", \"gridcolor\": \"white\", \"gridwidth\": 2, \"linecolor\": \"white\", \"showbackground\": true, \"ticks\": \"\", \"zerolinecolor\": \"white\"}, \"yaxis\": {\"backgroundcolor\": \"#E5ECF6\", \"gridcolor\": \"white\", \"gridwidth\": 2, \"linecolor\": \"white\", \"showbackground\": true, \"ticks\": \"\", \"zerolinecolor\": \"white\"}, \"zaxis\": {\"backgroundcolor\": \"#E5ECF6\", \"gridcolor\": \"white\", \"gridwidth\": 2, \"linecolor\": \"white\", \"showbackground\": true, \"ticks\": \"\", \"zerolinecolor\": \"white\"}}, \"shapedefaults\": {\"line\": {\"color\": \"#2a3f5f\"}}, \"ternary\": {\"aaxis\": {\"gridcolor\": \"white\", \"linecolor\": \"white\", \"ticks\": \"\"}, \"baxis\": {\"gridcolor\": \"white\", \"linecolor\": \"white\", \"ticks\": \"\"}, \"bgcolor\": \"#E5ECF6\", \"caxis\": {\"gridcolor\": \"white\", \"linecolor\": \"white\", \"ticks\": \"\"}}, \"title\": {\"x\": 0.05}, \"xaxis\": {\"automargin\": true, \"gridcolor\": \"white\", \"linecolor\": \"white\", \"ticks\": \"\", \"title\": {\"standoff\": 15}, \"zerolinecolor\": \"white\", \"zerolinewidth\": 2}, \"yaxis\": {\"automargin\": true, \"gridcolor\": \"white\", \"linecolor\": \"white\", \"ticks\": \"\", \"title\": {\"standoff\": 15}, \"zerolinecolor\": \"white\", \"zerolinewidth\": 2}}}, \"width\": 800, \"xaxis\": {\"anchor\": \"y\", \"domain\": [0.0, 0.45]}, \"xaxis2\": {\"anchor\": \"y2\", \"domain\": [0.55, 1.0]}, \"xaxis3\": {\"anchor\": \"y3\", \"domain\": [0.0, 0.45]}, \"xaxis4\": {\"anchor\": \"y4\", \"domain\": [0.55, 1.0]}, \"xaxis5\": {\"anchor\": \"y5\", \"domain\": [0.0, 0.45]}, \"xaxis6\": {\"anchor\": \"y6\", \"domain\": [0.55, 1.0]}, \"xaxis7\": {\"anchor\": \"y7\", \"domain\": [0.0, 0.45]}, \"xaxis8\": {\"anchor\": \"y8\", \"domain\": [0.55, 1.0]}, \"yaxis\": {\"anchor\": \"x\", \"domain\": [0.78, 1.0]}, \"yaxis2\": {\"anchor\": \"x2\", \"domain\": [0.78, 1.0]}, \"yaxis3\": {\"anchor\": \"x3\", \"domain\": [0.52, 0.74]}, \"yaxis4\": {\"anchor\": \"x4\", \"domain\": [0.52, 0.74]}, \"yaxis5\": {\"anchor\": \"x5\", \"domain\": [0.26, 0.48]}, \"yaxis6\": {\"anchor\": \"x6\", \"domain\": [0.26, 0.48]}, \"yaxis7\": {\"anchor\": \"x7\", \"domain\": [0.0, 0.22]}, \"yaxis8\": {\"anchor\": \"x8\", \"domain\": [0.0, 0.22]}},\n",
       "                        {\"responsive\": true}\n",
       "                    ).then(function(){\n",
       "                            \n",
       "var gd = document.getElementById('c9b442c2-d0f0-4412-8c08-c22617f62c91');\n",
       "var x = new MutationObserver(function (mutations, observer) {{\n",
       "        var display = window.getComputedStyle(gd).display;\n",
       "        if (!display || display === 'none') {{\n",
       "            console.log([gd, 'removed!']);\n",
       "            Plotly.purge(gd);\n",
       "            observer.disconnect();\n",
       "        }}\n",
       "}});\n",
       "\n",
       "// Listen for the removal of the full notebook cells\n",
       "var notebookContainer = gd.closest('#notebook-container');\n",
       "if (notebookContainer) {{\n",
       "    x.observe(notebookContainer, {childList: true});\n",
       "}}\n",
       "\n",
       "// Listen for the clearing of the current output cell\n",
       "var outputEl = gd.closest('.output');\n",
       "if (outputEl) {{\n",
       "    x.observe(outputEl, {childList: true});\n",
       "}}\n",
       "\n",
       "                        })\n",
       "                };\n",
       "                });\n",
       "            </script>\n",
       "        </div>"
      ]
     },
     "metadata": {},
     "output_type": "display_data"
    }
   ],
   "source": [
    "fig_wais_sub.add_trace(go.Scatter(x= df_wais_sub['age'], y=df_wais_sub[subplot_titles[4]], mode=\"markers+text\",\n",
    "            marker={'size': 10, \"color\": df_wais_sub['Type_color'] },\n",
    "            hovertext= df_wais_sub['ID_SECONDAIRE'] +\", \"+ df_wais_sub['Type']),\n",
    "            row=1, col=1)\n",
    "\n",
    "fig_wais_sub.add_trace(go.Scatter(x= df_wais_sub['age'], y=df_wais_sub[subplot_titles[5]], mode=\"markers+text\",\n",
    "            marker={'size': 10, \"color\": df_wais_sub['Type_color'] },\n",
    "            hovertext= df_wais_sub['ID_SECONDAIRE'] +\", \"+ df_wais_sub['Type']),\n",
    "              row=1, col=2)\n",
    "\n",
    "fig_wais_sub.add_trace(go.Scatter(x= df_wais_sub['age'], y=df_wais_sub[subplot_titles[6]], mode=\"markers+text\",\n",
    "            marker={'size': 10, \"color\": df_wais_sub['Type_color'] },\n",
    "            hovertext= df_wais_sub['ID_SECONDAIRE'] +\", \"+ df_wais_sub['Type']),\n",
    "              row=2, col=1)\n",
    "\n",
    "fig_wais_sub.add_trace(go.Scatter(x= df_wais_sub['age'], y=df_wais_sub[subplot_titles[7]], mode=\"markers+text\",\n",
    "            marker={'size': 10, \"color\": df_wais_sub['Type_color'] },\n",
    "            hovertext= df_wais_sub['ID_SECONDAIRE'] +\", \"+ df_wais_sub['Type']),\n",
    "            row=2, col=2)\n",
    "\n",
    "fig_wais_sub.add_trace(go.Scatter(x= df_wais_sub['age'], y=df_wais_sub[subplot_titles[8]], mode=\"markers+text\",\n",
    "            marker={'size': 10, \"color\": df_wais_sub['Type_color'] },\n",
    "            hovertext= df_wais_sub['ID_SECONDAIRE'] +\", \"+ df_wais_sub['Type']),\n",
    "            row=3, col=1)\n",
    "                                                             \n",
    "fig_wais_sub.add_trace(go.Scatter(x= df_wais_sub['age'], y=df_wais_sub[subplot_titles[9]], mode=\"markers+text\",\n",
    "            marker={'size': 10, \"color\": df_wais_sub['Type_color'] },\n",
    "            hovertext= df_wais_sub['ID_SECONDAIRE'] +\", \"+ df_wais_sub['Type']),\n",
    "            row=3, col=2)\n",
    "    \n",
    "fig_wais_sub.add_trace(go.Scatter(x= df_wais_sub['age'], y=df_wais_sub[subplot_titles[10]], mode=\"markers+text\",\n",
    "            marker={'size': 10, \"color\": df_wais_sub['Type_color'] },\n",
    "            hovertext= df_wais_sub['ID_SECONDAIRE'] +\", \"+ df_wais_sub['Type']),\n",
    "            row=4, col=1)\n",
    "    \n",
    "fig_wais_sub.add_trace(go.Scatter(x= df_wais_sub['age'], y=df_wais_sub[subplot_titles[11]], mode=\"markers+text\",\n",
    "            marker={'size': 10, \"color\": df_wais_sub['Type_color'] },\n",
    "            hovertext= df_wais_sub['ID_SECONDAIRE'] +\", \"+ df_wais_sub['Type']),\n",
    "            row=4, col=2)\n",
    "    \n",
    "fig_wais_sub.update_layout(height=1500, width=800,\n",
    "                   showlegend=False\n",
    "            )"
   ]
  },
  {
   "cell_type": "code",
   "execution_count": 347,
   "metadata": {
    "ExecuteTime": {
     "end_time": "2020-05-13T14:19:37.018302Z",
     "start_time": "2020-05-13T14:19:37.001420Z"
    }
   },
   "outputs": [],
   "source": [
    "df_wais_sub_agg = df_wais_sub.agg(['min', 'max', 'mean', 'median'])\n",
    "#\n",
    "df_wais_sub_agg.index.name = \"Aggrégation\"\n",
    "df_wais_sub_agg.reset_index(inplace=True)\n",
    "#\n",
    "df_wais_sub_agg = df_wais_sub_agg.replace({'Aggrégation' : {\"min\":\"Min\",\"max\":\"Max\",\"mean\":\"Moyenne\", \"median\":\"Médiane\"}})"
   ]
  },
  {
   "cell_type": "code",
   "execution_count": 348,
   "metadata": {
    "ExecuteTime": {
     "end_time": "2020-05-13T14:19:37.997011Z",
     "start_time": "2020-05-13T14:19:37.993293Z"
    }
   },
   "outputs": [],
   "source": [
    "df_wais_sub_agg = df_wais_sub_agg.drop(columns= ['ID_SECONDAIRE','Type', 'Type_color', 'age' ])"
   ]
  },
  {
   "cell_type": "code",
   "execution_count": 349,
   "metadata": {
    "ExecuteTime": {
     "end_time": "2020-05-13T14:19:39.043274Z",
     "start_time": "2020-05-13T14:19:39.038238Z"
    }
   },
   "outputs": [],
   "source": [
    "df_wais_sub_agg = df_wais_sub_agg.round(2)"
   ]
  },
  {
   "cell_type": "code",
   "execution_count": 350,
   "metadata": {
    "ExecuteTime": {
     "end_time": "2020-05-13T14:19:39.545927Z",
     "start_time": "2020-05-13T14:19:39.538702Z"
    }
   },
   "outputs": [],
   "source": [
    "wais_sub =  go.Table(\n",
    "                header=dict(values=list(df_wais_sub_agg.columns[:]),\n",
    "                align='left'),\n",
    "                cells=dict(values= [df_wais_sub_agg.iloc[:,0], df_wais_sub_agg.iloc[:,1], df_wais_sub_agg.iloc[:,2], df_wais_sub_agg.iloc[:,3]\n",
    "                           , df_wais_sub_agg.iloc[:,4], df_wais_sub_agg.iloc[:,5], df_wais_sub_agg.iloc[:,6], df_wais_sub_agg.iloc[:,7]\n",
    "                           , df_wais_sub_agg.iloc[:,8]], align='left'))"
   ]
  },
  {
   "cell_type": "code",
   "execution_count": 351,
   "metadata": {
    "ExecuteTime": {
     "end_time": "2020-05-13T14:19:40.583292Z",
     "start_time": "2020-05-13T14:19:40.476797Z"
    },
    "scrolled": true
   },
   "outputs": [
    {
     "data": {
      "application/vnd.plotly.v1+json": {
       "config": {
        "plotlyServerURL": "https://plot.ly"
       },
       "data": [
        {
         "cells": {
          "align": "left",
          "values": [
           [
            "Min",
            "Max",
            "Moyenne",
            "Médiane"
           ],
           [
            3,
            19,
            9.53,
            9
           ],
           [
            1,
            19,
            9.69,
            9
           ],
           [
            2,
            17,
            8.71,
            8.5
           ],
           [
            8,
            54,
            28.78,
            27
           ],
           [
            61,
            147,
            98.36,
            94
           ],
           [
            0,
            99,
            45.51,
            34
           ],
           [
            53,
            136,
            91.31,
            88
           ],
           [
            66,
            149,
            104.4,
            101
           ]
          ]
         },
         "header": {
          "align": "left",
          "values": [
           "Aggrégation",
           "Note standard Similitudes",
           "Note standard Vocabulaire",
           "Note standard Information",
           "Total des notes standards ICV",
           "Note composite ICV",
           "Rang percentile ICV",
           "Note écart type inférieure ICV",
           "Note écart type supérieure ICV"
          ]
         },
         "type": "table"
        }
       ],
       "layout": {
        "template": {
         "data": {
          "bar": [
           {
            "error_x": {
             "color": "#2a3f5f"
            },
            "error_y": {
             "color": "#2a3f5f"
            },
            "marker": {
             "line": {
              "color": "#E5ECF6",
              "width": 0.5
             }
            },
            "type": "bar"
           }
          ],
          "barpolar": [
           {
            "marker": {
             "line": {
              "color": "#E5ECF6",
              "width": 0.5
             }
            },
            "type": "barpolar"
           }
          ],
          "carpet": [
           {
            "aaxis": {
             "endlinecolor": "#2a3f5f",
             "gridcolor": "white",
             "linecolor": "white",
             "minorgridcolor": "white",
             "startlinecolor": "#2a3f5f"
            },
            "baxis": {
             "endlinecolor": "#2a3f5f",
             "gridcolor": "white",
             "linecolor": "white",
             "minorgridcolor": "white",
             "startlinecolor": "#2a3f5f"
            },
            "type": "carpet"
           }
          ],
          "choropleth": [
           {
            "colorbar": {
             "outlinewidth": 0,
             "ticks": ""
            },
            "type": "choropleth"
           }
          ],
          "contour": [
           {
            "colorbar": {
             "outlinewidth": 0,
             "ticks": ""
            },
            "colorscale": [
             [
              0,
              "#0d0887"
             ],
             [
              0.1111111111111111,
              "#46039f"
             ],
             [
              0.2222222222222222,
              "#7201a8"
             ],
             [
              0.3333333333333333,
              "#9c179e"
             ],
             [
              0.4444444444444444,
              "#bd3786"
             ],
             [
              0.5555555555555556,
              "#d8576b"
             ],
             [
              0.6666666666666666,
              "#ed7953"
             ],
             [
              0.7777777777777778,
              "#fb9f3a"
             ],
             [
              0.8888888888888888,
              "#fdca26"
             ],
             [
              1,
              "#f0f921"
             ]
            ],
            "type": "contour"
           }
          ],
          "contourcarpet": [
           {
            "colorbar": {
             "outlinewidth": 0,
             "ticks": ""
            },
            "type": "contourcarpet"
           }
          ],
          "heatmap": [
           {
            "colorbar": {
             "outlinewidth": 0,
             "ticks": ""
            },
            "colorscale": [
             [
              0,
              "#0d0887"
             ],
             [
              0.1111111111111111,
              "#46039f"
             ],
             [
              0.2222222222222222,
              "#7201a8"
             ],
             [
              0.3333333333333333,
              "#9c179e"
             ],
             [
              0.4444444444444444,
              "#bd3786"
             ],
             [
              0.5555555555555556,
              "#d8576b"
             ],
             [
              0.6666666666666666,
              "#ed7953"
             ],
             [
              0.7777777777777778,
              "#fb9f3a"
             ],
             [
              0.8888888888888888,
              "#fdca26"
             ],
             [
              1,
              "#f0f921"
             ]
            ],
            "type": "heatmap"
           }
          ],
          "heatmapgl": [
           {
            "colorbar": {
             "outlinewidth": 0,
             "ticks": ""
            },
            "colorscale": [
             [
              0,
              "#0d0887"
             ],
             [
              0.1111111111111111,
              "#46039f"
             ],
             [
              0.2222222222222222,
              "#7201a8"
             ],
             [
              0.3333333333333333,
              "#9c179e"
             ],
             [
              0.4444444444444444,
              "#bd3786"
             ],
             [
              0.5555555555555556,
              "#d8576b"
             ],
             [
              0.6666666666666666,
              "#ed7953"
             ],
             [
              0.7777777777777778,
              "#fb9f3a"
             ],
             [
              0.8888888888888888,
              "#fdca26"
             ],
             [
              1,
              "#f0f921"
             ]
            ],
            "type": "heatmapgl"
           }
          ],
          "histogram": [
           {
            "marker": {
             "colorbar": {
              "outlinewidth": 0,
              "ticks": ""
             }
            },
            "type": "histogram"
           }
          ],
          "histogram2d": [
           {
            "colorbar": {
             "outlinewidth": 0,
             "ticks": ""
            },
            "colorscale": [
             [
              0,
              "#0d0887"
             ],
             [
              0.1111111111111111,
              "#46039f"
             ],
             [
              0.2222222222222222,
              "#7201a8"
             ],
             [
              0.3333333333333333,
              "#9c179e"
             ],
             [
              0.4444444444444444,
              "#bd3786"
             ],
             [
              0.5555555555555556,
              "#d8576b"
             ],
             [
              0.6666666666666666,
              "#ed7953"
             ],
             [
              0.7777777777777778,
              "#fb9f3a"
             ],
             [
              0.8888888888888888,
              "#fdca26"
             ],
             [
              1,
              "#f0f921"
             ]
            ],
            "type": "histogram2d"
           }
          ],
          "histogram2dcontour": [
           {
            "colorbar": {
             "outlinewidth": 0,
             "ticks": ""
            },
            "colorscale": [
             [
              0,
              "#0d0887"
             ],
             [
              0.1111111111111111,
              "#46039f"
             ],
             [
              0.2222222222222222,
              "#7201a8"
             ],
             [
              0.3333333333333333,
              "#9c179e"
             ],
             [
              0.4444444444444444,
              "#bd3786"
             ],
             [
              0.5555555555555556,
              "#d8576b"
             ],
             [
              0.6666666666666666,
              "#ed7953"
             ],
             [
              0.7777777777777778,
              "#fb9f3a"
             ],
             [
              0.8888888888888888,
              "#fdca26"
             ],
             [
              1,
              "#f0f921"
             ]
            ],
            "type": "histogram2dcontour"
           }
          ],
          "mesh3d": [
           {
            "colorbar": {
             "outlinewidth": 0,
             "ticks": ""
            },
            "type": "mesh3d"
           }
          ],
          "parcoords": [
           {
            "line": {
             "colorbar": {
              "outlinewidth": 0,
              "ticks": ""
             }
            },
            "type": "parcoords"
           }
          ],
          "pie": [
           {
            "automargin": true,
            "type": "pie"
           }
          ],
          "scatter": [
           {
            "marker": {
             "colorbar": {
              "outlinewidth": 0,
              "ticks": ""
             }
            },
            "type": "scatter"
           }
          ],
          "scatter3d": [
           {
            "line": {
             "colorbar": {
              "outlinewidth": 0,
              "ticks": ""
             }
            },
            "marker": {
             "colorbar": {
              "outlinewidth": 0,
              "ticks": ""
             }
            },
            "type": "scatter3d"
           }
          ],
          "scattercarpet": [
           {
            "marker": {
             "colorbar": {
              "outlinewidth": 0,
              "ticks": ""
             }
            },
            "type": "scattercarpet"
           }
          ],
          "scattergeo": [
           {
            "marker": {
             "colorbar": {
              "outlinewidth": 0,
              "ticks": ""
             }
            },
            "type": "scattergeo"
           }
          ],
          "scattergl": [
           {
            "marker": {
             "colorbar": {
              "outlinewidth": 0,
              "ticks": ""
             }
            },
            "type": "scattergl"
           }
          ],
          "scattermapbox": [
           {
            "marker": {
             "colorbar": {
              "outlinewidth": 0,
              "ticks": ""
             }
            },
            "type": "scattermapbox"
           }
          ],
          "scatterpolar": [
           {
            "marker": {
             "colorbar": {
              "outlinewidth": 0,
              "ticks": ""
             }
            },
            "type": "scatterpolar"
           }
          ],
          "scatterpolargl": [
           {
            "marker": {
             "colorbar": {
              "outlinewidth": 0,
              "ticks": ""
             }
            },
            "type": "scatterpolargl"
           }
          ],
          "scatterternary": [
           {
            "marker": {
             "colorbar": {
              "outlinewidth": 0,
              "ticks": ""
             }
            },
            "type": "scatterternary"
           }
          ],
          "surface": [
           {
            "colorbar": {
             "outlinewidth": 0,
             "ticks": ""
            },
            "colorscale": [
             [
              0,
              "#0d0887"
             ],
             [
              0.1111111111111111,
              "#46039f"
             ],
             [
              0.2222222222222222,
              "#7201a8"
             ],
             [
              0.3333333333333333,
              "#9c179e"
             ],
             [
              0.4444444444444444,
              "#bd3786"
             ],
             [
              0.5555555555555556,
              "#d8576b"
             ],
             [
              0.6666666666666666,
              "#ed7953"
             ],
             [
              0.7777777777777778,
              "#fb9f3a"
             ],
             [
              0.8888888888888888,
              "#fdca26"
             ],
             [
              1,
              "#f0f921"
             ]
            ],
            "type": "surface"
           }
          ],
          "table": [
           {
            "cells": {
             "fill": {
              "color": "#EBF0F8"
             },
             "line": {
              "color": "white"
             }
            },
            "header": {
             "fill": {
              "color": "#C8D4E3"
             },
             "line": {
              "color": "white"
             }
            },
            "type": "table"
           }
          ]
         },
         "layout": {
          "annotationdefaults": {
           "arrowcolor": "#2a3f5f",
           "arrowhead": 0,
           "arrowwidth": 1
          },
          "coloraxis": {
           "colorbar": {
            "outlinewidth": 0,
            "ticks": ""
           }
          },
          "colorscale": {
           "diverging": [
            [
             0,
             "#8e0152"
            ],
            [
             0.1,
             "#c51b7d"
            ],
            [
             0.2,
             "#de77ae"
            ],
            [
             0.3,
             "#f1b6da"
            ],
            [
             0.4,
             "#fde0ef"
            ],
            [
             0.5,
             "#f7f7f7"
            ],
            [
             0.6,
             "#e6f5d0"
            ],
            [
             0.7,
             "#b8e186"
            ],
            [
             0.8,
             "#7fbc41"
            ],
            [
             0.9,
             "#4d9221"
            ],
            [
             1,
             "#276419"
            ]
           ],
           "sequential": [
            [
             0,
             "#0d0887"
            ],
            [
             0.1111111111111111,
             "#46039f"
            ],
            [
             0.2222222222222222,
             "#7201a8"
            ],
            [
             0.3333333333333333,
             "#9c179e"
            ],
            [
             0.4444444444444444,
             "#bd3786"
            ],
            [
             0.5555555555555556,
             "#d8576b"
            ],
            [
             0.6666666666666666,
             "#ed7953"
            ],
            [
             0.7777777777777778,
             "#fb9f3a"
            ],
            [
             0.8888888888888888,
             "#fdca26"
            ],
            [
             1,
             "#f0f921"
            ]
           ],
           "sequentialminus": [
            [
             0,
             "#0d0887"
            ],
            [
             0.1111111111111111,
             "#46039f"
            ],
            [
             0.2222222222222222,
             "#7201a8"
            ],
            [
             0.3333333333333333,
             "#9c179e"
            ],
            [
             0.4444444444444444,
             "#bd3786"
            ],
            [
             0.5555555555555556,
             "#d8576b"
            ],
            [
             0.6666666666666666,
             "#ed7953"
            ],
            [
             0.7777777777777778,
             "#fb9f3a"
            ],
            [
             0.8888888888888888,
             "#fdca26"
            ],
            [
             1,
             "#f0f921"
            ]
           ]
          },
          "colorway": [
           "#636efa",
           "#EF553B",
           "#00cc96",
           "#ab63fa",
           "#FFA15A",
           "#19d3f3",
           "#FF6692",
           "#B6E880",
           "#FF97FF",
           "#FECB52"
          ],
          "font": {
           "color": "#2a3f5f"
          },
          "geo": {
           "bgcolor": "white",
           "lakecolor": "white",
           "landcolor": "#E5ECF6",
           "showlakes": true,
           "showland": true,
           "subunitcolor": "white"
          },
          "hoverlabel": {
           "align": "left"
          },
          "hovermode": "closest",
          "mapbox": {
           "style": "light"
          },
          "paper_bgcolor": "white",
          "plot_bgcolor": "#E5ECF6",
          "polar": {
           "angularaxis": {
            "gridcolor": "white",
            "linecolor": "white",
            "ticks": ""
           },
           "bgcolor": "#E5ECF6",
           "radialaxis": {
            "gridcolor": "white",
            "linecolor": "white",
            "ticks": ""
           }
          },
          "scene": {
           "xaxis": {
            "backgroundcolor": "#E5ECF6",
            "gridcolor": "white",
            "gridwidth": 2,
            "linecolor": "white",
            "showbackground": true,
            "ticks": "",
            "zerolinecolor": "white"
           },
           "yaxis": {
            "backgroundcolor": "#E5ECF6",
            "gridcolor": "white",
            "gridwidth": 2,
            "linecolor": "white",
            "showbackground": true,
            "ticks": "",
            "zerolinecolor": "white"
           },
           "zaxis": {
            "backgroundcolor": "#E5ECF6",
            "gridcolor": "white",
            "gridwidth": 2,
            "linecolor": "white",
            "showbackground": true,
            "ticks": "",
            "zerolinecolor": "white"
           }
          },
          "shapedefaults": {
           "line": {
            "color": "#2a3f5f"
           }
          },
          "ternary": {
           "aaxis": {
            "gridcolor": "white",
            "linecolor": "white",
            "ticks": ""
           },
           "baxis": {
            "gridcolor": "white",
            "linecolor": "white",
            "ticks": ""
           },
           "bgcolor": "#E5ECF6",
           "caxis": {
            "gridcolor": "white",
            "linecolor": "white",
            "ticks": ""
           }
          },
          "title": {
           "x": 0.05
          },
          "xaxis": {
           "automargin": true,
           "gridcolor": "white",
           "linecolor": "white",
           "ticks": "",
           "title": {
            "standoff": 15
           },
           "zerolinecolor": "white",
           "zerolinewidth": 2
          },
          "yaxis": {
           "automargin": true,
           "gridcolor": "white",
           "linecolor": "white",
           "ticks": "",
           "title": {
            "standoff": 15
           },
           "zerolinecolor": "white",
           "zerolinewidth": 2
          }
         }
        }
       }
      },
      "text/html": [
       "<div>\n",
       "        \n",
       "        \n",
       "            <div id=\"ec77d539-335b-459a-8f4c-df9c6d984237\" class=\"plotly-graph-div\" style=\"height:525px; width:100%;\"></div>\n",
       "            <script type=\"text/javascript\">\n",
       "                require([\"plotly\"], function(Plotly) {\n",
       "                    window.PLOTLYENV=window.PLOTLYENV || {};\n",
       "                    \n",
       "                if (document.getElementById(\"ec77d539-335b-459a-8f4c-df9c6d984237\")) {\n",
       "                    Plotly.newPlot(\n",
       "                        'ec77d539-335b-459a-8f4c-df9c6d984237',\n",
       "                        [{\"cells\": {\"align\": \"left\", \"values\": [[\"Min\", \"Max\", \"Moyenne\", \"M\\u00e9diane\"], [3.0, 19.0, 9.53, 9.0], [1.0, 19.0, 9.69, 9.0], [2.0, 17.0, 8.71, 8.5], [8.0, 54.0, 28.78, 27.0], [61.0, 147.0, 98.36, 94.0], [0.0, 99.0, 45.51, 34.0], [53.0, 136.0, 91.31, 88.0], [66.0, 149.0, 104.4, 101.0]]}, \"header\": {\"align\": \"left\", \"values\": [\"Aggr\\u00e9gation\", \"Note standard Similitudes\", \"Note standard Vocabulaire\", \"Note standard Information\", \"Total des notes standards ICV\", \"Note composite ICV\", \"Rang percentile ICV\", \"Note \\u00e9cart type inf\\u00e9rieure ICV\", \"Note \\u00e9cart type sup\\u00e9rieure ICV\"]}, \"type\": \"table\"}],\n",
       "                        {\"template\": {\"data\": {\"bar\": [{\"error_x\": {\"color\": \"#2a3f5f\"}, \"error_y\": {\"color\": \"#2a3f5f\"}, \"marker\": {\"line\": {\"color\": \"#E5ECF6\", \"width\": 0.5}}, \"type\": \"bar\"}], \"barpolar\": [{\"marker\": {\"line\": {\"color\": \"#E5ECF6\", \"width\": 0.5}}, \"type\": \"barpolar\"}], \"carpet\": [{\"aaxis\": {\"endlinecolor\": \"#2a3f5f\", \"gridcolor\": \"white\", \"linecolor\": \"white\", \"minorgridcolor\": \"white\", \"startlinecolor\": \"#2a3f5f\"}, \"baxis\": {\"endlinecolor\": \"#2a3f5f\", \"gridcolor\": \"white\", \"linecolor\": \"white\", \"minorgridcolor\": \"white\", \"startlinecolor\": \"#2a3f5f\"}, \"type\": \"carpet\"}], \"choropleth\": [{\"colorbar\": {\"outlinewidth\": 0, \"ticks\": \"\"}, \"type\": \"choropleth\"}], \"contour\": [{\"colorbar\": {\"outlinewidth\": 0, \"ticks\": \"\"}, \"colorscale\": [[0.0, \"#0d0887\"], [0.1111111111111111, \"#46039f\"], [0.2222222222222222, \"#7201a8\"], [0.3333333333333333, \"#9c179e\"], [0.4444444444444444, \"#bd3786\"], [0.5555555555555556, \"#d8576b\"], [0.6666666666666666, \"#ed7953\"], [0.7777777777777778, \"#fb9f3a\"], [0.8888888888888888, \"#fdca26\"], [1.0, \"#f0f921\"]], \"type\": \"contour\"}], \"contourcarpet\": [{\"colorbar\": {\"outlinewidth\": 0, \"ticks\": \"\"}, \"type\": \"contourcarpet\"}], \"heatmap\": [{\"colorbar\": {\"outlinewidth\": 0, \"ticks\": \"\"}, \"colorscale\": [[0.0, \"#0d0887\"], [0.1111111111111111, \"#46039f\"], [0.2222222222222222, \"#7201a8\"], [0.3333333333333333, \"#9c179e\"], [0.4444444444444444, \"#bd3786\"], [0.5555555555555556, \"#d8576b\"], [0.6666666666666666, \"#ed7953\"], [0.7777777777777778, \"#fb9f3a\"], [0.8888888888888888, \"#fdca26\"], [1.0, \"#f0f921\"]], \"type\": \"heatmap\"}], \"heatmapgl\": [{\"colorbar\": {\"outlinewidth\": 0, \"ticks\": \"\"}, \"colorscale\": [[0.0, \"#0d0887\"], [0.1111111111111111, \"#46039f\"], [0.2222222222222222, \"#7201a8\"], [0.3333333333333333, \"#9c179e\"], [0.4444444444444444, \"#bd3786\"], [0.5555555555555556, \"#d8576b\"], [0.6666666666666666, \"#ed7953\"], [0.7777777777777778, \"#fb9f3a\"], [0.8888888888888888, \"#fdca26\"], [1.0, \"#f0f921\"]], \"type\": \"heatmapgl\"}], \"histogram\": [{\"marker\": {\"colorbar\": {\"outlinewidth\": 0, \"ticks\": \"\"}}, \"type\": \"histogram\"}], \"histogram2d\": [{\"colorbar\": {\"outlinewidth\": 0, \"ticks\": \"\"}, \"colorscale\": [[0.0, \"#0d0887\"], [0.1111111111111111, \"#46039f\"], [0.2222222222222222, \"#7201a8\"], [0.3333333333333333, \"#9c179e\"], [0.4444444444444444, \"#bd3786\"], [0.5555555555555556, \"#d8576b\"], [0.6666666666666666, \"#ed7953\"], [0.7777777777777778, \"#fb9f3a\"], [0.8888888888888888, \"#fdca26\"], [1.0, \"#f0f921\"]], \"type\": \"histogram2d\"}], \"histogram2dcontour\": [{\"colorbar\": {\"outlinewidth\": 0, \"ticks\": \"\"}, \"colorscale\": [[0.0, \"#0d0887\"], [0.1111111111111111, \"#46039f\"], [0.2222222222222222, \"#7201a8\"], [0.3333333333333333, \"#9c179e\"], [0.4444444444444444, \"#bd3786\"], [0.5555555555555556, \"#d8576b\"], [0.6666666666666666, \"#ed7953\"], [0.7777777777777778, \"#fb9f3a\"], [0.8888888888888888, \"#fdca26\"], [1.0, \"#f0f921\"]], \"type\": \"histogram2dcontour\"}], \"mesh3d\": [{\"colorbar\": {\"outlinewidth\": 0, \"ticks\": \"\"}, \"type\": \"mesh3d\"}], \"parcoords\": [{\"line\": {\"colorbar\": {\"outlinewidth\": 0, \"ticks\": \"\"}}, \"type\": \"parcoords\"}], \"pie\": [{\"automargin\": true, \"type\": \"pie\"}], \"scatter\": [{\"marker\": {\"colorbar\": {\"outlinewidth\": 0, \"ticks\": \"\"}}, \"type\": \"scatter\"}], \"scatter3d\": [{\"line\": {\"colorbar\": {\"outlinewidth\": 0, \"ticks\": \"\"}}, \"marker\": {\"colorbar\": {\"outlinewidth\": 0, \"ticks\": \"\"}}, \"type\": \"scatter3d\"}], \"scattercarpet\": [{\"marker\": {\"colorbar\": {\"outlinewidth\": 0, \"ticks\": \"\"}}, \"type\": \"scattercarpet\"}], \"scattergeo\": [{\"marker\": {\"colorbar\": {\"outlinewidth\": 0, \"ticks\": \"\"}}, \"type\": \"scattergeo\"}], \"scattergl\": [{\"marker\": {\"colorbar\": {\"outlinewidth\": 0, \"ticks\": \"\"}}, \"type\": \"scattergl\"}], \"scattermapbox\": [{\"marker\": {\"colorbar\": {\"outlinewidth\": 0, \"ticks\": \"\"}}, \"type\": \"scattermapbox\"}], \"scatterpolar\": [{\"marker\": {\"colorbar\": {\"outlinewidth\": 0, \"ticks\": \"\"}}, \"type\": \"scatterpolar\"}], \"scatterpolargl\": [{\"marker\": {\"colorbar\": {\"outlinewidth\": 0, \"ticks\": \"\"}}, \"type\": \"scatterpolargl\"}], \"scatterternary\": [{\"marker\": {\"colorbar\": {\"outlinewidth\": 0, \"ticks\": \"\"}}, \"type\": \"scatterternary\"}], \"surface\": [{\"colorbar\": {\"outlinewidth\": 0, \"ticks\": \"\"}, \"colorscale\": [[0.0, \"#0d0887\"], [0.1111111111111111, \"#46039f\"], [0.2222222222222222, \"#7201a8\"], [0.3333333333333333, \"#9c179e\"], [0.4444444444444444, \"#bd3786\"], [0.5555555555555556, \"#d8576b\"], [0.6666666666666666, \"#ed7953\"], [0.7777777777777778, \"#fb9f3a\"], [0.8888888888888888, \"#fdca26\"], [1.0, \"#f0f921\"]], \"type\": \"surface\"}], \"table\": [{\"cells\": {\"fill\": {\"color\": \"#EBF0F8\"}, \"line\": {\"color\": \"white\"}}, \"header\": {\"fill\": {\"color\": \"#C8D4E3\"}, \"line\": {\"color\": \"white\"}}, \"type\": \"table\"}]}, \"layout\": {\"annotationdefaults\": {\"arrowcolor\": \"#2a3f5f\", \"arrowhead\": 0, \"arrowwidth\": 1}, \"coloraxis\": {\"colorbar\": {\"outlinewidth\": 0, \"ticks\": \"\"}}, \"colorscale\": {\"diverging\": [[0, \"#8e0152\"], [0.1, \"#c51b7d\"], [0.2, \"#de77ae\"], [0.3, \"#f1b6da\"], [0.4, \"#fde0ef\"], [0.5, \"#f7f7f7\"], [0.6, \"#e6f5d0\"], [0.7, \"#b8e186\"], [0.8, \"#7fbc41\"], [0.9, \"#4d9221\"], [1, \"#276419\"]], \"sequential\": [[0.0, \"#0d0887\"], [0.1111111111111111, \"#46039f\"], [0.2222222222222222, \"#7201a8\"], [0.3333333333333333, \"#9c179e\"], [0.4444444444444444, \"#bd3786\"], [0.5555555555555556, \"#d8576b\"], [0.6666666666666666, \"#ed7953\"], [0.7777777777777778, \"#fb9f3a\"], [0.8888888888888888, \"#fdca26\"], [1.0, \"#f0f921\"]], \"sequentialminus\": [[0.0, \"#0d0887\"], [0.1111111111111111, \"#46039f\"], [0.2222222222222222, \"#7201a8\"], [0.3333333333333333, \"#9c179e\"], [0.4444444444444444, \"#bd3786\"], [0.5555555555555556, \"#d8576b\"], [0.6666666666666666, \"#ed7953\"], [0.7777777777777778, \"#fb9f3a\"], [0.8888888888888888, \"#fdca26\"], [1.0, \"#f0f921\"]]}, \"colorway\": [\"#636efa\", \"#EF553B\", \"#00cc96\", \"#ab63fa\", \"#FFA15A\", \"#19d3f3\", \"#FF6692\", \"#B6E880\", \"#FF97FF\", \"#FECB52\"], \"font\": {\"color\": \"#2a3f5f\"}, \"geo\": {\"bgcolor\": \"white\", \"lakecolor\": \"white\", \"landcolor\": \"#E5ECF6\", \"showlakes\": true, \"showland\": true, \"subunitcolor\": \"white\"}, \"hoverlabel\": {\"align\": \"left\"}, \"hovermode\": \"closest\", \"mapbox\": {\"style\": \"light\"}, \"paper_bgcolor\": \"white\", \"plot_bgcolor\": \"#E5ECF6\", \"polar\": {\"angularaxis\": {\"gridcolor\": \"white\", \"linecolor\": \"white\", \"ticks\": \"\"}, \"bgcolor\": \"#E5ECF6\", \"radialaxis\": {\"gridcolor\": \"white\", \"linecolor\": \"white\", \"ticks\": \"\"}}, \"scene\": {\"xaxis\": {\"backgroundcolor\": \"#E5ECF6\", \"gridcolor\": \"white\", \"gridwidth\": 2, \"linecolor\": \"white\", \"showbackground\": true, \"ticks\": \"\", \"zerolinecolor\": \"white\"}, \"yaxis\": {\"backgroundcolor\": \"#E5ECF6\", \"gridcolor\": \"white\", \"gridwidth\": 2, \"linecolor\": \"white\", \"showbackground\": true, \"ticks\": \"\", \"zerolinecolor\": \"white\"}, \"zaxis\": {\"backgroundcolor\": \"#E5ECF6\", \"gridcolor\": \"white\", \"gridwidth\": 2, \"linecolor\": \"white\", \"showbackground\": true, \"ticks\": \"\", \"zerolinecolor\": \"white\"}}, \"shapedefaults\": {\"line\": {\"color\": \"#2a3f5f\"}}, \"ternary\": {\"aaxis\": {\"gridcolor\": \"white\", \"linecolor\": \"white\", \"ticks\": \"\"}, \"baxis\": {\"gridcolor\": \"white\", \"linecolor\": \"white\", \"ticks\": \"\"}, \"bgcolor\": \"#E5ECF6\", \"caxis\": {\"gridcolor\": \"white\", \"linecolor\": \"white\", \"ticks\": \"\"}}, \"title\": {\"x\": 0.05}, \"xaxis\": {\"automargin\": true, \"gridcolor\": \"white\", \"linecolor\": \"white\", \"ticks\": \"\", \"title\": {\"standoff\": 15}, \"zerolinecolor\": \"white\", \"zerolinewidth\": 2}, \"yaxis\": {\"automargin\": true, \"gridcolor\": \"white\", \"linecolor\": \"white\", \"ticks\": \"\", \"title\": {\"standoff\": 15}, \"zerolinecolor\": \"white\", \"zerolinewidth\": 2}}}},\n",
       "                        {\"responsive\": true}\n",
       "                    ).then(function(){\n",
       "                            \n",
       "var gd = document.getElementById('ec77d539-335b-459a-8f4c-df9c6d984237');\n",
       "var x = new MutationObserver(function (mutations, observer) {{\n",
       "        var display = window.getComputedStyle(gd).display;\n",
       "        if (!display || display === 'none') {{\n",
       "            console.log([gd, 'removed!']);\n",
       "            Plotly.purge(gd);\n",
       "            observer.disconnect();\n",
       "        }}\n",
       "}});\n",
       "\n",
       "// Listen for the removal of the full notebook cells\n",
       "var notebookContainer = gd.closest('#notebook-container');\n",
       "if (notebookContainer) {{\n",
       "    x.observe(notebookContainer, {childList: true});\n",
       "}}\n",
       "\n",
       "// Listen for the clearing of the current output cell\n",
       "var outputEl = gd.closest('.output');\n",
       "if (outputEl) {{\n",
       "    x.observe(outputEl, {childList: true});\n",
       "}}\n",
       "\n",
       "                        })\n",
       "                };\n",
       "                });\n",
       "            </script>\n",
       "        </div>"
      ]
     },
     "metadata": {},
     "output_type": "display_data"
    }
   ],
   "source": [
    "fig = go.Figure(data=wais_sub)\n",
    "fig.show()"
   ]
  },
  {
   "cell_type": "code",
   "execution_count": 352,
   "metadata": {
    "ExecuteTime": {
     "end_time": "2020-05-13T14:19:48.394892Z",
     "start_time": "2020-05-13T14:19:48.390832Z"
    }
   },
   "outputs": [
    {
     "data": {
      "text/html": [
       "<h5>2.1. WAIS IRP</h5>"
      ],
      "text/plain": [
       "<IPython.core.display.HTML object>"
      ]
     },
     "metadata": {},
     "output_type": "display_data"
    }
   ],
   "source": [
    "display(HTML('<h5>2.1. WAIS IRP</h5>'))"
   ]
  },
  {
   "cell_type": "code",
   "execution_count": 391,
   "metadata": {
    "ExecuteTime": {
     "end_time": "2020-05-13T14:26:37.595494Z",
     "start_time": "2020-05-13T14:26:37.589766Z"
    }
   },
   "outputs": [
    {
     "data": {
      "text/html": [
       "<p>Moyenne d'âge : 35.25</p>"
      ],
      "text/plain": [
       "<IPython.core.display.HTML object>"
      ]
     },
     "metadata": {},
     "output_type": "display_data"
    }
   ],
   "source": [
    "display(HTML(\"<p>Moyenne d'âge : \"+str(round(df_wais[df_wais['Total des notes standards IRP'].notna()]['age'].mean(), 2))+\"</p>\"))"
   ]
  },
  {
   "cell_type": "code",
   "execution_count": 412,
   "metadata": {
    "ExecuteTime": {
     "end_time": "2020-05-13T14:29:34.594273Z",
     "start_time": "2020-05-13T14:29:34.590434Z"
    }
   },
   "outputs": [],
   "source": [
    "df_wais_sub= df_wais.iloc[:,[0,1,2,-1,14, 15, 16, 17, 18, 19, 20, 21]]"
   ]
  },
  {
   "cell_type": "code",
   "execution_count": 413,
   "metadata": {
    "ExecuteTime": {
     "end_time": "2020-05-13T14:29:34.993497Z",
     "start_time": "2020-05-13T14:29:34.991083Z"
    }
   },
   "outputs": [],
   "source": [
    "subplot_titles = df_wais_sub.columns.values.tolist()"
   ]
  },
  {
   "cell_type": "code",
   "execution_count": 397,
   "metadata": {
    "ExecuteTime": {
     "end_time": "2020-05-13T14:27:10.321460Z",
     "start_time": "2020-05-13T14:27:10.135646Z"
    }
   },
   "outputs": [],
   "source": [
    "fig_wais_sub = make_subplots(\n",
    "    rows=4, cols=2,\n",
    "    shared_xaxes=False,\n",
    "    row_heights=[0.20, 0.20, 0.20, 0.20],\n",
    "    column_widths=[0.5, 0.5],\n",
    "    subplot_titles= subplot_titles[4:],\n",
    "    x_title='Âge',\n",
    "    y_title='Score',\n",
    "    vertical_spacing= 0.04 )\n",
    "df_wais_sub = df_wais_sub.sort_values(by=['age'])"
   ]
  },
  {
   "cell_type": "code",
   "execution_count": 398,
   "metadata": {
    "ExecuteTime": {
     "end_time": "2020-05-13T14:27:10.713865Z",
     "start_time": "2020-05-13T14:27:10.617166Z"
    }
   },
   "outputs": [
    {
     "data": {
      "application/vnd.plotly.v1+json": {
       "config": {
        "plotlyServerURL": "https://plot.ly"
       },
       "data": [
        {
         "hovertext": [
          "EF 2E 22 E0 EA, Type 1",
          "B6 A4 CD 3A 81, Type 1",
          "76 A2 26 6F C7, Type inconnu",
          "C2 C3 05 A8 4B, Type 1",
          "39 CA BD 3C 82, Type 1",
          "7B DE 78 5B F6, Type 1",
          "9B 8E 44 F8 FF, Type 1",
          "EA 6F FF DE 42, Type 2",
          "90 01 09 71 F0, Type 2",
          "39 35 88 38 7B, Type inconnu",
          "35 86 13 56 24, Type 1",
          "AB A5 ED 43 8B, Type 1",
          "81 03 8C 07 58, Type inconnu",
          "7D 76 3D FC 91, Type 1",
          "73 EC 1B D7 9B, Type 1",
          "48 84 25 4A E0, Type inconnu",
          "01 83 17 5E 89, Type 1",
          "B9 5D 22 14 86, Type 1",
          "A1 54 32 B1 53, Type 1",
          "FD 11 B7 CF 8F, Type 1",
          "DB 6B 59 3A 0C, Type 1",
          "F1 C2 1C 3A FC, Type 1",
          "31 19 64 3D 10, Type 2",
          "98 2C 1A AA 87, Type 1",
          "A2 D7 D0 A4 2A, Type 1",
          "D7 FC 44 05 CA, Type 2",
          "8A A0 53 AC 37, Type inconnu",
          "8A 77 B8 09 AD, Type 2",
          "02 88 A7 94 50, Type 2",
          "64 0B 1B 0A 45, Type 2",
          "51 B7 6E C2 FD, Type 2",
          "A4 03 5A F0 57, Type 2",
          "02 92 7B FF E6, Type 1",
          "90 A6 58 8A AD, Type 2",
          "F5 E4 FD A4 9F, Type 2",
          "06 25 B6 B7 F5, Type 1",
          "47 09 1C 5F 94, Type inconnu",
          "76 8F 56 DE 15, Type 2",
          "3D F6 5A B4 9D, Type 2",
          "3F 34 F5 32 80, Type inconnu",
          "A6 FD C4 C0 69, Type 2",
          "4F 9C 21 D3 31, Type 2",
          "4B 6C 17 74 29, Type inconnu",
          "94 EB 19 B7 18, Type 2",
          "12 A8 8F 3F 67, Type inconnu",
          "19 01 73 04 E2, Type 2",
          "A2 C1 35 C2 8C, Type 2",
          "0F 30 93 5E 0E, Type 2",
          "81 DB 14 CC 21, Type inconnu",
          "CA A2 77 FC 22, Type 2",
          "96 B8 5B 6F 8F, Type inconnu",
          "96 DD DC FE E3, Type 2",
          "21 36 06 E2 38, Type 2",
          "B7 CA E8 BC 99, Type 2",
          "3E C6 4C 31 8B, Type inconnu",
          "EF 4A CF 20 AF, Type 2"
         ],
         "marker": {
          "color": [
           "#33ffc9",
           "#33ffc9",
           "#C5C5C5",
           "#33ffc9",
           "#33ffc9",
           "#33ffc9",
           "#33ffc9",
           "#B3D9FF",
           "#B3D9FF",
           "#C5C5C5",
           "#33ffc9",
           "#33ffc9",
           "#C5C5C5",
           "#33ffc9",
           "#33ffc9",
           "#C5C5C5",
           "#33ffc9",
           "#33ffc9",
           "#33ffc9",
           "#33ffc9",
           "#33ffc9",
           "#33ffc9",
           "#B3D9FF",
           "#33ffc9",
           "#33ffc9",
           "#B3D9FF",
           "#C5C5C5",
           "#B3D9FF",
           "#B3D9FF",
           "#B3D9FF",
           "#B3D9FF",
           "#B3D9FF",
           "#33ffc9",
           "#B3D9FF",
           "#B3D9FF",
           "#33ffc9",
           "#C5C5C5",
           "#B3D9FF",
           "#B3D9FF",
           "#C5C5C5",
           "#B3D9FF",
           "#B3D9FF",
           "#C5C5C5",
           "#B3D9FF",
           "#C5C5C5",
           "#B3D9FF",
           "#B3D9FF",
           "#B3D9FF",
           "#C5C5C5",
           "#B3D9FF",
           "#C5C5C5",
           "#B3D9FF",
           "#B3D9FF",
           "#B3D9FF",
           "#C5C5C5",
           "#B3D9FF"
          ],
          "size": 10
         },
         "mode": "markers+text",
         "type": "scatter",
         "x": [
          18,
          19,
          20,
          20,
          21,
          23,
          25,
          25,
          26,
          27,
          27,
          28,
          28,
          28,
          28,
          30,
          30,
          31,
          31,
          32,
          34,
          34,
          35,
          35,
          36,
          36,
          37,
          38,
          38,
          38,
          40,
          40,
          41,
          42,
          43,
          44,
          44,
          45,
          46,
          47,
          48,
          52,
          55,
          57,
          57,
          59,
          59,
          59,
          60,
          60,
          62,
          64,
          67,
          72,
          74,
          74
         ],
         "xaxis": "x",
         "y": [
          5,
          9,
          5,
          9,
          16,
          9,
          4,
          3,
          9,
          15,
          2,
          7,
          12,
          11,
          7,
          10,
          10,
          10,
          7,
          14,
          10,
          15,
          12,
          11,
          11,
          13,
          10,
          16,
          10,
          17,
          14,
          14,
          8,
          8,
          14,
          10,
          13,
          8,
          15,
          12,
          15,
          null,
          9,
          14,
          null,
          10,
          null,
          8,
          11,
          null,
          null,
          null,
          null,
          null,
          null,
          null
         ],
         "yaxis": "y"
        },
        {
         "hovertext": [
          "EF 2E 22 E0 EA, Type 1",
          "B6 A4 CD 3A 81, Type 1",
          "76 A2 26 6F C7, Type inconnu",
          "C2 C3 05 A8 4B, Type 1",
          "39 CA BD 3C 82, Type 1",
          "7B DE 78 5B F6, Type 1",
          "9B 8E 44 F8 FF, Type 1",
          "EA 6F FF DE 42, Type 2",
          "90 01 09 71 F0, Type 2",
          "39 35 88 38 7B, Type inconnu",
          "35 86 13 56 24, Type 1",
          "AB A5 ED 43 8B, Type 1",
          "81 03 8C 07 58, Type inconnu",
          "7D 76 3D FC 91, Type 1",
          "73 EC 1B D7 9B, Type 1",
          "48 84 25 4A E0, Type inconnu",
          "01 83 17 5E 89, Type 1",
          "B9 5D 22 14 86, Type 1",
          "A1 54 32 B1 53, Type 1",
          "FD 11 B7 CF 8F, Type 1",
          "DB 6B 59 3A 0C, Type 1",
          "F1 C2 1C 3A FC, Type 1",
          "31 19 64 3D 10, Type 2",
          "98 2C 1A AA 87, Type 1",
          "A2 D7 D0 A4 2A, Type 1",
          "D7 FC 44 05 CA, Type 2",
          "8A A0 53 AC 37, Type inconnu",
          "8A 77 B8 09 AD, Type 2",
          "02 88 A7 94 50, Type 2",
          "64 0B 1B 0A 45, Type 2",
          "51 B7 6E C2 FD, Type 2",
          "A4 03 5A F0 57, Type 2",
          "02 92 7B FF E6, Type 1",
          "90 A6 58 8A AD, Type 2",
          "F5 E4 FD A4 9F, Type 2",
          "06 25 B6 B7 F5, Type 1",
          "47 09 1C 5F 94, Type inconnu",
          "76 8F 56 DE 15, Type 2",
          "3D F6 5A B4 9D, Type 2",
          "3F 34 F5 32 80, Type inconnu",
          "A6 FD C4 C0 69, Type 2",
          "4F 9C 21 D3 31, Type 2",
          "4B 6C 17 74 29, Type inconnu",
          "94 EB 19 B7 18, Type 2",
          "12 A8 8F 3F 67, Type inconnu",
          "19 01 73 04 E2, Type 2",
          "A2 C1 35 C2 8C, Type 2",
          "0F 30 93 5E 0E, Type 2",
          "81 DB 14 CC 21, Type inconnu",
          "CA A2 77 FC 22, Type 2",
          "96 B8 5B 6F 8F, Type inconnu",
          "96 DD DC FE E3, Type 2",
          "21 36 06 E2 38, Type 2",
          "B7 CA E8 BC 99, Type 2",
          "3E C6 4C 31 8B, Type inconnu",
          "EF 4A CF 20 AF, Type 2"
         ],
         "marker": {
          "color": [
           "#33ffc9",
           "#33ffc9",
           "#C5C5C5",
           "#33ffc9",
           "#33ffc9",
           "#33ffc9",
           "#33ffc9",
           "#B3D9FF",
           "#B3D9FF",
           "#C5C5C5",
           "#33ffc9",
           "#33ffc9",
           "#C5C5C5",
           "#33ffc9",
           "#33ffc9",
           "#C5C5C5",
           "#33ffc9",
           "#33ffc9",
           "#33ffc9",
           "#33ffc9",
           "#33ffc9",
           "#33ffc9",
           "#B3D9FF",
           "#33ffc9",
           "#33ffc9",
           "#B3D9FF",
           "#C5C5C5",
           "#B3D9FF",
           "#B3D9FF",
           "#B3D9FF",
           "#B3D9FF",
           "#B3D9FF",
           "#33ffc9",
           "#B3D9FF",
           "#B3D9FF",
           "#33ffc9",
           "#C5C5C5",
           "#B3D9FF",
           "#B3D9FF",
           "#C5C5C5",
           "#B3D9FF",
           "#B3D9FF",
           "#C5C5C5",
           "#B3D9FF",
           "#C5C5C5",
           "#B3D9FF",
           "#B3D9FF",
           "#B3D9FF",
           "#C5C5C5",
           "#B3D9FF",
           "#C5C5C5",
           "#B3D9FF",
           "#B3D9FF",
           "#B3D9FF",
           "#C5C5C5",
           "#B3D9FF"
          ],
          "size": 10
         },
         "mode": "markers+text",
         "type": "scatter",
         "x": [
          18,
          19,
          20,
          20,
          21,
          23,
          25,
          25,
          26,
          27,
          27,
          28,
          28,
          28,
          28,
          30,
          30,
          31,
          31,
          32,
          34,
          34,
          35,
          35,
          36,
          36,
          37,
          38,
          38,
          38,
          40,
          40,
          41,
          42,
          43,
          44,
          44,
          45,
          46,
          47,
          48,
          52,
          55,
          57,
          57,
          59,
          59,
          59,
          60,
          60,
          62,
          64,
          67,
          72,
          74,
          74
         ],
         "xaxis": "x2",
         "y": [
          8,
          4,
          7,
          8,
          9,
          12,
          2,
          2,
          10,
          10,
          null,
          7,
          13,
          10,
          6,
          8,
          6,
          6,
          7,
          12,
          6,
          11,
          8,
          8,
          7,
          10,
          12,
          12,
          12,
          12,
          13,
          12,
          3,
          9,
          12,
          9,
          10,
          11,
          14,
          9,
          12,
          null,
          10,
          11,
          null,
          10,
          null,
          8,
          9,
          null,
          null,
          null,
          null,
          null,
          null,
          null
         ],
         "yaxis": "y2"
        },
        {
         "hovertext": [
          "EF 2E 22 E0 EA, Type 1",
          "B6 A4 CD 3A 81, Type 1",
          "76 A2 26 6F C7, Type inconnu",
          "C2 C3 05 A8 4B, Type 1",
          "39 CA BD 3C 82, Type 1",
          "7B DE 78 5B F6, Type 1",
          "9B 8E 44 F8 FF, Type 1",
          "EA 6F FF DE 42, Type 2",
          "90 01 09 71 F0, Type 2",
          "39 35 88 38 7B, Type inconnu",
          "35 86 13 56 24, Type 1",
          "AB A5 ED 43 8B, Type 1",
          "81 03 8C 07 58, Type inconnu",
          "7D 76 3D FC 91, Type 1",
          "73 EC 1B D7 9B, Type 1",
          "48 84 25 4A E0, Type inconnu",
          "01 83 17 5E 89, Type 1",
          "B9 5D 22 14 86, Type 1",
          "A1 54 32 B1 53, Type 1",
          "FD 11 B7 CF 8F, Type 1",
          "DB 6B 59 3A 0C, Type 1",
          "F1 C2 1C 3A FC, Type 1",
          "31 19 64 3D 10, Type 2",
          "98 2C 1A AA 87, Type 1",
          "A2 D7 D0 A4 2A, Type 1",
          "D7 FC 44 05 CA, Type 2",
          "8A A0 53 AC 37, Type inconnu",
          "8A 77 B8 09 AD, Type 2",
          "02 88 A7 94 50, Type 2",
          "64 0B 1B 0A 45, Type 2",
          "51 B7 6E C2 FD, Type 2",
          "A4 03 5A F0 57, Type 2",
          "02 92 7B FF E6, Type 1",
          "90 A6 58 8A AD, Type 2",
          "F5 E4 FD A4 9F, Type 2",
          "06 25 B6 B7 F5, Type 1",
          "47 09 1C 5F 94, Type inconnu",
          "76 8F 56 DE 15, Type 2",
          "3D F6 5A B4 9D, Type 2",
          "3F 34 F5 32 80, Type inconnu",
          "A6 FD C4 C0 69, Type 2",
          "4F 9C 21 D3 31, Type 2",
          "4B 6C 17 74 29, Type inconnu",
          "94 EB 19 B7 18, Type 2",
          "12 A8 8F 3F 67, Type inconnu",
          "19 01 73 04 E2, Type 2",
          "A2 C1 35 C2 8C, Type 2",
          "0F 30 93 5E 0E, Type 2",
          "81 DB 14 CC 21, Type inconnu",
          "CA A2 77 FC 22, Type 2",
          "96 B8 5B 6F 8F, Type inconnu",
          "96 DD DC FE E3, Type 2",
          "21 36 06 E2 38, Type 2",
          "B7 CA E8 BC 99, Type 2",
          "3E C6 4C 31 8B, Type inconnu",
          "EF 4A CF 20 AF, Type 2"
         ],
         "marker": {
          "color": [
           "#33ffc9",
           "#33ffc9",
           "#C5C5C5",
           "#33ffc9",
           "#33ffc9",
           "#33ffc9",
           "#33ffc9",
           "#B3D9FF",
           "#B3D9FF",
           "#C5C5C5",
           "#33ffc9",
           "#33ffc9",
           "#C5C5C5",
           "#33ffc9",
           "#33ffc9",
           "#C5C5C5",
           "#33ffc9",
           "#33ffc9",
           "#33ffc9",
           "#33ffc9",
           "#33ffc9",
           "#33ffc9",
           "#B3D9FF",
           "#33ffc9",
           "#33ffc9",
           "#B3D9FF",
           "#C5C5C5",
           "#B3D9FF",
           "#B3D9FF",
           "#B3D9FF",
           "#B3D9FF",
           "#B3D9FF",
           "#33ffc9",
           "#B3D9FF",
           "#B3D9FF",
           "#33ffc9",
           "#C5C5C5",
           "#B3D9FF",
           "#B3D9FF",
           "#C5C5C5",
           "#B3D9FF",
           "#B3D9FF",
           "#C5C5C5",
           "#B3D9FF",
           "#C5C5C5",
           "#B3D9FF",
           "#B3D9FF",
           "#B3D9FF",
           "#C5C5C5",
           "#B3D9FF",
           "#C5C5C5",
           "#B3D9FF",
           "#B3D9FF",
           "#B3D9FF",
           "#C5C5C5",
           "#B3D9FF"
          ],
          "size": 10
         },
         "mode": "markers+text",
         "type": "scatter",
         "x": [
          18,
          19,
          20,
          20,
          21,
          23,
          25,
          25,
          26,
          27,
          27,
          28,
          28,
          28,
          28,
          30,
          30,
          31,
          31,
          32,
          34,
          34,
          35,
          35,
          36,
          36,
          37,
          38,
          38,
          38,
          40,
          40,
          41,
          42,
          43,
          44,
          44,
          45,
          46,
          47,
          48,
          52,
          55,
          57,
          57,
          59,
          59,
          59,
          60,
          60,
          62,
          64,
          67,
          72,
          74,
          74
         ],
         "xaxis": "x3",
         "y": [
          7,
          10,
          8,
          10,
          12,
          15,
          null,
          3,
          9,
          12,
          null,
          8,
          9,
          11,
          null,
          8,
          9,
          5,
          7,
          14,
          8,
          11,
          13,
          12,
          9,
          12,
          12,
          13,
          11,
          7,
          13,
          null,
          5,
          6,
          12,
          7,
          9,
          9,
          10,
          10,
          13,
          null,
          15,
          13,
          null,
          null,
          null,
          null,
          8,
          null,
          null,
          null,
          null,
          null,
          null,
          null
         ],
         "yaxis": "y3"
        },
        {
         "hovertext": [
          "EF 2E 22 E0 EA, Type 1",
          "B6 A4 CD 3A 81, Type 1",
          "76 A2 26 6F C7, Type inconnu",
          "C2 C3 05 A8 4B, Type 1",
          "39 CA BD 3C 82, Type 1",
          "7B DE 78 5B F6, Type 1",
          "9B 8E 44 F8 FF, Type 1",
          "EA 6F FF DE 42, Type 2",
          "90 01 09 71 F0, Type 2",
          "39 35 88 38 7B, Type inconnu",
          "35 86 13 56 24, Type 1",
          "AB A5 ED 43 8B, Type 1",
          "81 03 8C 07 58, Type inconnu",
          "7D 76 3D FC 91, Type 1",
          "73 EC 1B D7 9B, Type 1",
          "48 84 25 4A E0, Type inconnu",
          "01 83 17 5E 89, Type 1",
          "B9 5D 22 14 86, Type 1",
          "A1 54 32 B1 53, Type 1",
          "FD 11 B7 CF 8F, Type 1",
          "DB 6B 59 3A 0C, Type 1",
          "F1 C2 1C 3A FC, Type 1",
          "31 19 64 3D 10, Type 2",
          "98 2C 1A AA 87, Type 1",
          "A2 D7 D0 A4 2A, Type 1",
          "D7 FC 44 05 CA, Type 2",
          "8A A0 53 AC 37, Type inconnu",
          "8A 77 B8 09 AD, Type 2",
          "02 88 A7 94 50, Type 2",
          "64 0B 1B 0A 45, Type 2",
          "51 B7 6E C2 FD, Type 2",
          "A4 03 5A F0 57, Type 2",
          "02 92 7B FF E6, Type 1",
          "90 A6 58 8A AD, Type 2",
          "F5 E4 FD A4 9F, Type 2",
          "06 25 B6 B7 F5, Type 1",
          "47 09 1C 5F 94, Type inconnu",
          "76 8F 56 DE 15, Type 2",
          "3D F6 5A B4 9D, Type 2",
          "3F 34 F5 32 80, Type inconnu",
          "A6 FD C4 C0 69, Type 2",
          "4F 9C 21 D3 31, Type 2",
          "4B 6C 17 74 29, Type inconnu",
          "94 EB 19 B7 18, Type 2",
          "12 A8 8F 3F 67, Type inconnu",
          "19 01 73 04 E2, Type 2",
          "A2 C1 35 C2 8C, Type 2",
          "0F 30 93 5E 0E, Type 2",
          "81 DB 14 CC 21, Type inconnu",
          "CA A2 77 FC 22, Type 2",
          "96 B8 5B 6F 8F, Type inconnu",
          "96 DD DC FE E3, Type 2",
          "21 36 06 E2 38, Type 2",
          "B7 CA E8 BC 99, Type 2",
          "3E C6 4C 31 8B, Type inconnu",
          "EF 4A CF 20 AF, Type 2"
         ],
         "marker": {
          "color": [
           "#33ffc9",
           "#33ffc9",
           "#C5C5C5",
           "#33ffc9",
           "#33ffc9",
           "#33ffc9",
           "#33ffc9",
           "#B3D9FF",
           "#B3D9FF",
           "#C5C5C5",
           "#33ffc9",
           "#33ffc9",
           "#C5C5C5",
           "#33ffc9",
           "#33ffc9",
           "#C5C5C5",
           "#33ffc9",
           "#33ffc9",
           "#33ffc9",
           "#33ffc9",
           "#33ffc9",
           "#33ffc9",
           "#B3D9FF",
           "#33ffc9",
           "#33ffc9",
           "#B3D9FF",
           "#C5C5C5",
           "#B3D9FF",
           "#B3D9FF",
           "#B3D9FF",
           "#B3D9FF",
           "#B3D9FF",
           "#33ffc9",
           "#B3D9FF",
           "#B3D9FF",
           "#33ffc9",
           "#C5C5C5",
           "#B3D9FF",
           "#B3D9FF",
           "#C5C5C5",
           "#B3D9FF",
           "#B3D9FF",
           "#C5C5C5",
           "#B3D9FF",
           "#C5C5C5",
           "#B3D9FF",
           "#B3D9FF",
           "#B3D9FF",
           "#C5C5C5",
           "#B3D9FF",
           "#C5C5C5",
           "#B3D9FF",
           "#B3D9FF",
           "#B3D9FF",
           "#C5C5C5",
           "#B3D9FF"
          ],
          "size": 10
         },
         "mode": "markers+text",
         "type": "scatter",
         "x": [
          18,
          19,
          20,
          20,
          21,
          23,
          25,
          25,
          26,
          27,
          27,
          28,
          28,
          28,
          28,
          30,
          30,
          31,
          31,
          32,
          34,
          34,
          35,
          35,
          36,
          36,
          37,
          38,
          38,
          38,
          40,
          40,
          41,
          42,
          43,
          44,
          44,
          45,
          46,
          47,
          48,
          52,
          55,
          57,
          57,
          59,
          59,
          59,
          60,
          60,
          62,
          64,
          67,
          72,
          74,
          74
         ],
         "xaxis": "x4",
         "y": [
          20,
          23,
          20,
          27,
          37,
          36,
          null,
          8,
          28,
          37,
          null,
          22,
          34,
          32,
          null,
          26,
          25,
          21,
          21,
          40,
          24,
          37,
          33,
          31,
          27,
          35,
          34,
          41,
          33,
          36,
          40,
          null,
          16,
          23,
          38,
          26,
          32,
          28,
          39,
          31,
          40,
          null,
          34,
          38,
          null,
          null,
          null,
          null,
          28,
          null,
          null,
          null,
          null,
          null,
          null,
          null
         ],
         "yaxis": "y4"
        },
        {
         "hovertext": [
          "EF 2E 22 E0 EA, Type 1",
          "B6 A4 CD 3A 81, Type 1",
          "76 A2 26 6F C7, Type inconnu",
          "C2 C3 05 A8 4B, Type 1",
          "39 CA BD 3C 82, Type 1",
          "7B DE 78 5B F6, Type 1",
          "9B 8E 44 F8 FF, Type 1",
          "EA 6F FF DE 42, Type 2",
          "90 01 09 71 F0, Type 2",
          "39 35 88 38 7B, Type inconnu",
          "35 86 13 56 24, Type 1",
          "AB A5 ED 43 8B, Type 1",
          "81 03 8C 07 58, Type inconnu",
          "7D 76 3D FC 91, Type 1",
          "73 EC 1B D7 9B, Type 1",
          "48 84 25 4A E0, Type inconnu",
          "01 83 17 5E 89, Type 1",
          "B9 5D 22 14 86, Type 1",
          "A1 54 32 B1 53, Type 1",
          "FD 11 B7 CF 8F, Type 1",
          "DB 6B 59 3A 0C, Type 1",
          "F1 C2 1C 3A FC, Type 1",
          "31 19 64 3D 10, Type 2",
          "98 2C 1A AA 87, Type 1",
          "A2 D7 D0 A4 2A, Type 1",
          "D7 FC 44 05 CA, Type 2",
          "8A A0 53 AC 37, Type inconnu",
          "8A 77 B8 09 AD, Type 2",
          "02 88 A7 94 50, Type 2",
          "64 0B 1B 0A 45, Type 2",
          "51 B7 6E C2 FD, Type 2",
          "A4 03 5A F0 57, Type 2",
          "02 92 7B FF E6, Type 1",
          "90 A6 58 8A AD, Type 2",
          "F5 E4 FD A4 9F, Type 2",
          "06 25 B6 B7 F5, Type 1",
          "47 09 1C 5F 94, Type inconnu",
          "76 8F 56 DE 15, Type 2",
          "3D F6 5A B4 9D, Type 2",
          "3F 34 F5 32 80, Type inconnu",
          "A6 FD C4 C0 69, Type 2",
          "4F 9C 21 D3 31, Type 2",
          "4B 6C 17 74 29, Type inconnu",
          "94 EB 19 B7 18, Type 2",
          "12 A8 8F 3F 67, Type inconnu",
          "19 01 73 04 E2, Type 2",
          "A2 C1 35 C2 8C, Type 2",
          "0F 30 93 5E 0E, Type 2",
          "81 DB 14 CC 21, Type inconnu",
          "CA A2 77 FC 22, Type 2",
          "96 B8 5B 6F 8F, Type inconnu",
          "96 DD DC FE E3, Type 2",
          "21 36 06 E2 38, Type 2",
          "B7 CA E8 BC 99, Type 2",
          "3E C6 4C 31 8B, Type inconnu",
          "EF 4A CF 20 AF, Type 2"
         ],
         "marker": {
          "color": [
           "#33ffc9",
           "#33ffc9",
           "#C5C5C5",
           "#33ffc9",
           "#33ffc9",
           "#33ffc9",
           "#33ffc9",
           "#B3D9FF",
           "#B3D9FF",
           "#C5C5C5",
           "#33ffc9",
           "#33ffc9",
           "#C5C5C5",
           "#33ffc9",
           "#33ffc9",
           "#C5C5C5",
           "#33ffc9",
           "#33ffc9",
           "#33ffc9",
           "#33ffc9",
           "#33ffc9",
           "#33ffc9",
           "#B3D9FF",
           "#33ffc9",
           "#33ffc9",
           "#B3D9FF",
           "#C5C5C5",
           "#B3D9FF",
           "#B3D9FF",
           "#B3D9FF",
           "#B3D9FF",
           "#B3D9FF",
           "#33ffc9",
           "#B3D9FF",
           "#B3D9FF",
           "#33ffc9",
           "#C5C5C5",
           "#B3D9FF",
           "#B3D9FF",
           "#C5C5C5",
           "#B3D9FF",
           "#B3D9FF",
           "#C5C5C5",
           "#B3D9FF",
           "#C5C5C5",
           "#B3D9FF",
           "#B3D9FF",
           "#B3D9FF",
           "#C5C5C5",
           "#B3D9FF",
           "#C5C5C5",
           "#B3D9FF",
           "#B3D9FF",
           "#B3D9FF",
           "#C5C5C5",
           "#B3D9FF"
          ],
          "size": 10
         },
         "mode": "markers+text",
         "type": "scatter",
         "x": [
          18,
          19,
          20,
          20,
          21,
          23,
          25,
          25,
          26,
          27,
          27,
          28,
          28,
          28,
          28,
          30,
          30,
          31,
          31,
          32,
          34,
          34,
          35,
          35,
          36,
          36,
          37,
          38,
          38,
          38,
          40,
          40,
          41,
          42,
          43,
          44,
          44,
          45,
          46,
          47,
          48,
          52,
          55,
          57,
          57,
          59,
          59,
          59,
          60,
          60,
          62,
          64,
          67,
          72,
          74,
          74
         ],
         "xaxis": "x5",
         "y": [
          80,
          86,
          80,
          94,
          114,
          112,
          null,
          56,
          96,
          114,
          null,
          84,
          108,
          104,
          null,
          92,
          90,
          82,
          82,
          120,
          88,
          114,
          106,
          102,
          94,
          110,
          108,
          122,
          106,
          112,
          118,
          null,
          72,
          86,
          116,
          92,
          104,
          96,
          118,
          102,
          120,
          null,
          108,
          116,
          null,
          null,
          null,
          null,
          96,
          null,
          null,
          null,
          null,
          null,
          null,
          null
         ],
         "yaxis": "y5"
        },
        {
         "hovertext": [
          "EF 2E 22 E0 EA, Type 1",
          "B6 A4 CD 3A 81, Type 1",
          "76 A2 26 6F C7, Type inconnu",
          "C2 C3 05 A8 4B, Type 1",
          "39 CA BD 3C 82, Type 1",
          "7B DE 78 5B F6, Type 1",
          "9B 8E 44 F8 FF, Type 1",
          "EA 6F FF DE 42, Type 2",
          "90 01 09 71 F0, Type 2",
          "39 35 88 38 7B, Type inconnu",
          "35 86 13 56 24, Type 1",
          "AB A5 ED 43 8B, Type 1",
          "81 03 8C 07 58, Type inconnu",
          "7D 76 3D FC 91, Type 1",
          "73 EC 1B D7 9B, Type 1",
          "48 84 25 4A E0, Type inconnu",
          "01 83 17 5E 89, Type 1",
          "B9 5D 22 14 86, Type 1",
          "A1 54 32 B1 53, Type 1",
          "FD 11 B7 CF 8F, Type 1",
          "DB 6B 59 3A 0C, Type 1",
          "F1 C2 1C 3A FC, Type 1",
          "31 19 64 3D 10, Type 2",
          "98 2C 1A AA 87, Type 1",
          "A2 D7 D0 A4 2A, Type 1",
          "D7 FC 44 05 CA, Type 2",
          "8A A0 53 AC 37, Type inconnu",
          "8A 77 B8 09 AD, Type 2",
          "02 88 A7 94 50, Type 2",
          "64 0B 1B 0A 45, Type 2",
          "51 B7 6E C2 FD, Type 2",
          "A4 03 5A F0 57, Type 2",
          "02 92 7B FF E6, Type 1",
          "90 A6 58 8A AD, Type 2",
          "F5 E4 FD A4 9F, Type 2",
          "06 25 B6 B7 F5, Type 1",
          "47 09 1C 5F 94, Type inconnu",
          "76 8F 56 DE 15, Type 2",
          "3D F6 5A B4 9D, Type 2",
          "3F 34 F5 32 80, Type inconnu",
          "A6 FD C4 C0 69, Type 2",
          "4F 9C 21 D3 31, Type 2",
          "4B 6C 17 74 29, Type inconnu",
          "94 EB 19 B7 18, Type 2",
          "12 A8 8F 3F 67, Type inconnu",
          "19 01 73 04 E2, Type 2",
          "A2 C1 35 C2 8C, Type 2",
          "0F 30 93 5E 0E, Type 2",
          "81 DB 14 CC 21, Type inconnu",
          "CA A2 77 FC 22, Type 2",
          "96 B8 5B 6F 8F, Type inconnu",
          "96 DD DC FE E3, Type 2",
          "21 36 06 E2 38, Type 2",
          "B7 CA E8 BC 99, Type 2",
          "3E C6 4C 31 8B, Type inconnu",
          "EF 4A CF 20 AF, Type 2"
         ],
         "marker": {
          "color": [
           "#33ffc9",
           "#33ffc9",
           "#C5C5C5",
           "#33ffc9",
           "#33ffc9",
           "#33ffc9",
           "#33ffc9",
           "#B3D9FF",
           "#B3D9FF",
           "#C5C5C5",
           "#33ffc9",
           "#33ffc9",
           "#C5C5C5",
           "#33ffc9",
           "#33ffc9",
           "#C5C5C5",
           "#33ffc9",
           "#33ffc9",
           "#33ffc9",
           "#33ffc9",
           "#33ffc9",
           "#33ffc9",
           "#B3D9FF",
           "#33ffc9",
           "#33ffc9",
           "#B3D9FF",
           "#C5C5C5",
           "#B3D9FF",
           "#B3D9FF",
           "#B3D9FF",
           "#B3D9FF",
           "#B3D9FF",
           "#33ffc9",
           "#B3D9FF",
           "#B3D9FF",
           "#33ffc9",
           "#C5C5C5",
           "#B3D9FF",
           "#B3D9FF",
           "#C5C5C5",
           "#B3D9FF",
           "#B3D9FF",
           "#C5C5C5",
           "#B3D9FF",
           "#C5C5C5",
           "#B3D9FF",
           "#B3D9FF",
           "#B3D9FF",
           "#C5C5C5",
           "#B3D9FF",
           "#C5C5C5",
           "#B3D9FF",
           "#B3D9FF",
           "#B3D9FF",
           "#C5C5C5",
           "#B3D9FF"
          ],
          "size": 10
         },
         "mode": "markers+text",
         "type": "scatter",
         "x": [
          18,
          19,
          20,
          20,
          21,
          23,
          25,
          25,
          26,
          27,
          27,
          28,
          28,
          28,
          28,
          30,
          30,
          31,
          31,
          32,
          34,
          34,
          35,
          35,
          36,
          36,
          37,
          38,
          38,
          38,
          40,
          40,
          41,
          42,
          43,
          44,
          44,
          45,
          46,
          47,
          48,
          52,
          55,
          57,
          57,
          59,
          59,
          59,
          60,
          60,
          62,
          64,
          67,
          72,
          74,
          74
         ],
         "xaxis": "x6",
         "y": [
          9,
          18,
          9,
          34,
          82,
          79,
          null,
          0,
          39,
          82,
          null,
          14,
          70,
          61,
          null,
          30,
          25,
          12,
          12,
          91,
          21,
          82,
          66,
          55,
          34,
          75,
          70,
          93,
          66,
          79,
          88,
          null,
          3,
          18,
          86,
          30,
          61,
          39,
          88,
          55,
          91,
          null,
          70,
          86,
          null,
          null,
          null,
          null,
          39,
          null,
          null,
          null,
          null,
          null,
          null,
          null
         ],
         "yaxis": "y6"
        },
        {
         "hovertext": [
          "EF 2E 22 E0 EA, Type 1",
          "B6 A4 CD 3A 81, Type 1",
          "76 A2 26 6F C7, Type inconnu",
          "C2 C3 05 A8 4B, Type 1",
          "39 CA BD 3C 82, Type 1",
          "7B DE 78 5B F6, Type 1",
          "9B 8E 44 F8 FF, Type 1",
          "EA 6F FF DE 42, Type 2",
          "90 01 09 71 F0, Type 2",
          "39 35 88 38 7B, Type inconnu",
          "35 86 13 56 24, Type 1",
          "AB A5 ED 43 8B, Type 1",
          "81 03 8C 07 58, Type inconnu",
          "7D 76 3D FC 91, Type 1",
          "73 EC 1B D7 9B, Type 1",
          "48 84 25 4A E0, Type inconnu",
          "01 83 17 5E 89, Type 1",
          "B9 5D 22 14 86, Type 1",
          "A1 54 32 B1 53, Type 1",
          "FD 11 B7 CF 8F, Type 1",
          "DB 6B 59 3A 0C, Type 1",
          "F1 C2 1C 3A FC, Type 1",
          "31 19 64 3D 10, Type 2",
          "98 2C 1A AA 87, Type 1",
          "A2 D7 D0 A4 2A, Type 1",
          "D7 FC 44 05 CA, Type 2",
          "8A A0 53 AC 37, Type inconnu",
          "8A 77 B8 09 AD, Type 2",
          "02 88 A7 94 50, Type 2",
          "64 0B 1B 0A 45, Type 2",
          "51 B7 6E C2 FD, Type 2",
          "A4 03 5A F0 57, Type 2",
          "02 92 7B FF E6, Type 1",
          "90 A6 58 8A AD, Type 2",
          "F5 E4 FD A4 9F, Type 2",
          "06 25 B6 B7 F5, Type 1",
          "47 09 1C 5F 94, Type inconnu",
          "76 8F 56 DE 15, Type 2",
          "3D F6 5A B4 9D, Type 2",
          "3F 34 F5 32 80, Type inconnu",
          "A6 FD C4 C0 69, Type 2",
          "4F 9C 21 D3 31, Type 2",
          "4B 6C 17 74 29, Type inconnu",
          "94 EB 19 B7 18, Type 2",
          "12 A8 8F 3F 67, Type inconnu",
          "19 01 73 04 E2, Type 2",
          "A2 C1 35 C2 8C, Type 2",
          "0F 30 93 5E 0E, Type 2",
          "81 DB 14 CC 21, Type inconnu",
          "CA A2 77 FC 22, Type 2",
          "96 B8 5B 6F 8F, Type inconnu",
          "96 DD DC FE E3, Type 2",
          "21 36 06 E2 38, Type 2",
          "B7 CA E8 BC 99, Type 2",
          "3E C6 4C 31 8B, Type inconnu",
          "EF 4A CF 20 AF, Type 2"
         ],
         "marker": {
          "color": [
           "#33ffc9",
           "#33ffc9",
           "#C5C5C5",
           "#33ffc9",
           "#33ffc9",
           "#33ffc9",
           "#33ffc9",
           "#B3D9FF",
           "#B3D9FF",
           "#C5C5C5",
           "#33ffc9",
           "#33ffc9",
           "#C5C5C5",
           "#33ffc9",
           "#33ffc9",
           "#C5C5C5",
           "#33ffc9",
           "#33ffc9",
           "#33ffc9",
           "#33ffc9",
           "#33ffc9",
           "#33ffc9",
           "#B3D9FF",
           "#33ffc9",
           "#33ffc9",
           "#B3D9FF",
           "#C5C5C5",
           "#B3D9FF",
           "#B3D9FF",
           "#B3D9FF",
           "#B3D9FF",
           "#B3D9FF",
           "#33ffc9",
           "#B3D9FF",
           "#B3D9FF",
           "#33ffc9",
           "#C5C5C5",
           "#B3D9FF",
           "#B3D9FF",
           "#C5C5C5",
           "#B3D9FF",
           "#B3D9FF",
           "#C5C5C5",
           "#B3D9FF",
           "#C5C5C5",
           "#B3D9FF",
           "#B3D9FF",
           "#B3D9FF",
           "#C5C5C5",
           "#B3D9FF",
           "#C5C5C5",
           "#B3D9FF",
           "#B3D9FF",
           "#B3D9FF",
           "#C5C5C5",
           "#B3D9FF"
          ],
          "size": 10
         },
         "mode": "markers+text",
         "type": "scatter",
         "x": [
          18,
          19,
          20,
          20,
          21,
          23,
          25,
          25,
          26,
          27,
          27,
          28,
          28,
          28,
          28,
          30,
          30,
          31,
          31,
          32,
          34,
          34,
          35,
          35,
          36,
          36,
          37,
          38,
          38,
          38,
          40,
          40,
          41,
          42,
          43,
          44,
          44,
          45,
          46,
          47,
          48,
          52,
          55,
          57,
          57,
          59,
          59,
          59,
          60,
          60,
          62,
          64,
          67,
          72,
          74,
          74
         ],
         "xaxis": "x7",
         "y": [
          75,
          80,
          75,
          88,
          107,
          105,
          null,
          52,
          90,
          107,
          null,
          79,
          101,
          97,
          null,
          86,
          84,
          77,
          77,
          113,
          82,
          107,
          99,
          96,
          88,
          103,
          101,
          115,
          99,
          105,
          111,
          null,
          67,
          80,
          109,
          86,
          97,
          90,
          111,
          96,
          113,
          null,
          101,
          109,
          null,
          null,
          null,
          null,
          90,
          null,
          null,
          null,
          null,
          null,
          null,
          null
         ],
         "yaxis": "y7"
        },
        {
         "hovertext": [
          "EF 2E 22 E0 EA, Type 1",
          "B6 A4 CD 3A 81, Type 1",
          "76 A2 26 6F C7, Type inconnu",
          "C2 C3 05 A8 4B, Type 1",
          "39 CA BD 3C 82, Type 1",
          "7B DE 78 5B F6, Type 1",
          "9B 8E 44 F8 FF, Type 1",
          "EA 6F FF DE 42, Type 2",
          "90 01 09 71 F0, Type 2",
          "39 35 88 38 7B, Type inconnu",
          "35 86 13 56 24, Type 1",
          "AB A5 ED 43 8B, Type 1",
          "81 03 8C 07 58, Type inconnu",
          "7D 76 3D FC 91, Type 1",
          "73 EC 1B D7 9B, Type 1",
          "48 84 25 4A E0, Type inconnu",
          "01 83 17 5E 89, Type 1",
          "B9 5D 22 14 86, Type 1",
          "A1 54 32 B1 53, Type 1",
          "FD 11 B7 CF 8F, Type 1",
          "DB 6B 59 3A 0C, Type 1",
          "F1 C2 1C 3A FC, Type 1",
          "31 19 64 3D 10, Type 2",
          "98 2C 1A AA 87, Type 1",
          "A2 D7 D0 A4 2A, Type 1",
          "D7 FC 44 05 CA, Type 2",
          "8A A0 53 AC 37, Type inconnu",
          "8A 77 B8 09 AD, Type 2",
          "02 88 A7 94 50, Type 2",
          "64 0B 1B 0A 45, Type 2",
          "51 B7 6E C2 FD, Type 2",
          "A4 03 5A F0 57, Type 2",
          "02 92 7B FF E6, Type 1",
          "90 A6 58 8A AD, Type 2",
          "F5 E4 FD A4 9F, Type 2",
          "06 25 B6 B7 F5, Type 1",
          "47 09 1C 5F 94, Type inconnu",
          "76 8F 56 DE 15, Type 2",
          "3D F6 5A B4 9D, Type 2",
          "3F 34 F5 32 80, Type inconnu",
          "A6 FD C4 C0 69, Type 2",
          "4F 9C 21 D3 31, Type 2",
          "4B 6C 17 74 29, Type inconnu",
          "94 EB 19 B7 18, Type 2",
          "12 A8 8F 3F 67, Type inconnu",
          "19 01 73 04 E2, Type 2",
          "A2 C1 35 C2 8C, Type 2",
          "0F 30 93 5E 0E, Type 2",
          "81 DB 14 CC 21, Type inconnu",
          "CA A2 77 FC 22, Type 2",
          "96 B8 5B 6F 8F, Type inconnu",
          "96 DD DC FE E3, Type 2",
          "21 36 06 E2 38, Type 2",
          "B7 CA E8 BC 99, Type 2",
          "3E C6 4C 31 8B, Type inconnu",
          "EF 4A CF 20 AF, Type 2"
         ],
         "marker": {
          "color": [
           "#33ffc9",
           "#33ffc9",
           "#C5C5C5",
           "#33ffc9",
           "#33ffc9",
           "#33ffc9",
           "#33ffc9",
           "#B3D9FF",
           "#B3D9FF",
           "#C5C5C5",
           "#33ffc9",
           "#33ffc9",
           "#C5C5C5",
           "#33ffc9",
           "#33ffc9",
           "#C5C5C5",
           "#33ffc9",
           "#33ffc9",
           "#33ffc9",
           "#33ffc9",
           "#33ffc9",
           "#33ffc9",
           "#B3D9FF",
           "#33ffc9",
           "#33ffc9",
           "#B3D9FF",
           "#C5C5C5",
           "#B3D9FF",
           "#B3D9FF",
           "#B3D9FF",
           "#B3D9FF",
           "#B3D9FF",
           "#33ffc9",
           "#B3D9FF",
           "#B3D9FF",
           "#33ffc9",
           "#C5C5C5",
           "#B3D9FF",
           "#B3D9FF",
           "#C5C5C5",
           "#B3D9FF",
           "#B3D9FF",
           "#C5C5C5",
           "#B3D9FF",
           "#C5C5C5",
           "#B3D9FF",
           "#B3D9FF",
           "#B3D9FF",
           "#C5C5C5",
           "#B3D9FF",
           "#C5C5C5",
           "#B3D9FF",
           "#B3D9FF",
           "#B3D9FF",
           "#C5C5C5",
           "#B3D9FF"
          ],
          "size": 10
         },
         "mode": "markers+text",
         "type": "scatter",
         "x": [
          18,
          19,
          20,
          20,
          21,
          23,
          25,
          25,
          26,
          27,
          27,
          28,
          28,
          28,
          28,
          30,
          30,
          31,
          31,
          32,
          34,
          34,
          35,
          35,
          36,
          36,
          37,
          38,
          38,
          38,
          40,
          40,
          41,
          42,
          43,
          44,
          44,
          45,
          46,
          47,
          48,
          52,
          55,
          57,
          57,
          59,
          59,
          59,
          60,
          60,
          62,
          64,
          67,
          72,
          74,
          74
         ],
         "xaxis": "x8",
         "y": [
          87,
          83,
          87,
          101,
          120,
          118,
          null,
          65,
          103,
          120,
          null,
          91,
          114,
          110,
          null,
          99,
          97,
          89,
          89,
          125,
          95,
          120,
          112,
          108,
          101,
          116,
          114,
          127,
          112,
          118,
          123,
          null,
          80,
          93,
          121,
          99,
          100,
          103,
          123,
          108,
          125,
          null,
          114,
          121,
          null,
          null,
          null,
          null,
          103,
          null,
          null,
          null,
          null,
          null,
          null,
          null
         ],
         "yaxis": "y8"
        }
       ],
       "layout": {
        "annotations": [
         {
          "font": {
           "size": 16
          },
          "showarrow": false,
          "text": "Note standard Cubes",
          "x": 0.225,
          "xanchor": "center",
          "xref": "paper",
          "y": 1,
          "yanchor": "bottom",
          "yref": "paper"
         },
         {
          "font": {
           "size": 16
          },
          "showarrow": false,
          "text": "Note standard Matrices",
          "x": 0.775,
          "xanchor": "center",
          "xref": "paper",
          "y": 1,
          "yanchor": "bottom",
          "yref": "paper"
         },
         {
          "font": {
           "size": 16
          },
          "showarrow": false,
          "text": "Note standard Puzzles visuels",
          "x": 0.225,
          "xanchor": "center",
          "xref": "paper",
          "y": 0.74,
          "yanchor": "bottom",
          "yref": "paper"
         },
         {
          "font": {
           "size": 16
          },
          "showarrow": false,
          "text": "Total des notes standards IRP",
          "x": 0.775,
          "xanchor": "center",
          "xref": "paper",
          "y": 0.74,
          "yanchor": "bottom",
          "yref": "paper"
         },
         {
          "font": {
           "size": 16
          },
          "showarrow": false,
          "text": "Note composite IRP",
          "x": 0.225,
          "xanchor": "center",
          "xref": "paper",
          "y": 0.48,
          "yanchor": "bottom",
          "yref": "paper"
         },
         {
          "font": {
           "size": 16
          },
          "showarrow": false,
          "text": "Rang percentile IRP",
          "x": 0.775,
          "xanchor": "center",
          "xref": "paper",
          "y": 0.48,
          "yanchor": "bottom",
          "yref": "paper"
         },
         {
          "font": {
           "size": 16
          },
          "showarrow": false,
          "text": "Note écart type inférieure IRP",
          "x": 0.225,
          "xanchor": "center",
          "xref": "paper",
          "y": 0.22,
          "yanchor": "bottom",
          "yref": "paper"
         },
         {
          "font": {
           "size": 16
          },
          "showarrow": false,
          "text": "Note écart type supérieure IRP",
          "x": 0.775,
          "xanchor": "center",
          "xref": "paper",
          "y": 0.22,
          "yanchor": "bottom",
          "yref": "paper"
         },
         {
          "font": {
           "size": 16
          },
          "showarrow": false,
          "text": "Âge",
          "x": 0.5,
          "xanchor": "center",
          "xref": "paper",
          "y": 0,
          "yanchor": "top",
          "yref": "paper",
          "yshift": -30
         },
         {
          "font": {
           "size": 16
          },
          "showarrow": false,
          "text": "Score",
          "textangle": -90,
          "x": 0,
          "xanchor": "right",
          "xref": "paper",
          "xshift": -40,
          "y": 0.5,
          "yanchor": "middle",
          "yref": "paper"
         }
        ],
        "height": 1500,
        "showlegend": false,
        "template": {
         "data": {
          "bar": [
           {
            "error_x": {
             "color": "#2a3f5f"
            },
            "error_y": {
             "color": "#2a3f5f"
            },
            "marker": {
             "line": {
              "color": "#E5ECF6",
              "width": 0.5
             }
            },
            "type": "bar"
           }
          ],
          "barpolar": [
           {
            "marker": {
             "line": {
              "color": "#E5ECF6",
              "width": 0.5
             }
            },
            "type": "barpolar"
           }
          ],
          "carpet": [
           {
            "aaxis": {
             "endlinecolor": "#2a3f5f",
             "gridcolor": "white",
             "linecolor": "white",
             "minorgridcolor": "white",
             "startlinecolor": "#2a3f5f"
            },
            "baxis": {
             "endlinecolor": "#2a3f5f",
             "gridcolor": "white",
             "linecolor": "white",
             "minorgridcolor": "white",
             "startlinecolor": "#2a3f5f"
            },
            "type": "carpet"
           }
          ],
          "choropleth": [
           {
            "colorbar": {
             "outlinewidth": 0,
             "ticks": ""
            },
            "type": "choropleth"
           }
          ],
          "contour": [
           {
            "colorbar": {
             "outlinewidth": 0,
             "ticks": ""
            },
            "colorscale": [
             [
              0,
              "#0d0887"
             ],
             [
              0.1111111111111111,
              "#46039f"
             ],
             [
              0.2222222222222222,
              "#7201a8"
             ],
             [
              0.3333333333333333,
              "#9c179e"
             ],
             [
              0.4444444444444444,
              "#bd3786"
             ],
             [
              0.5555555555555556,
              "#d8576b"
             ],
             [
              0.6666666666666666,
              "#ed7953"
             ],
             [
              0.7777777777777778,
              "#fb9f3a"
             ],
             [
              0.8888888888888888,
              "#fdca26"
             ],
             [
              1,
              "#f0f921"
             ]
            ],
            "type": "contour"
           }
          ],
          "contourcarpet": [
           {
            "colorbar": {
             "outlinewidth": 0,
             "ticks": ""
            },
            "type": "contourcarpet"
           }
          ],
          "heatmap": [
           {
            "colorbar": {
             "outlinewidth": 0,
             "ticks": ""
            },
            "colorscale": [
             [
              0,
              "#0d0887"
             ],
             [
              0.1111111111111111,
              "#46039f"
             ],
             [
              0.2222222222222222,
              "#7201a8"
             ],
             [
              0.3333333333333333,
              "#9c179e"
             ],
             [
              0.4444444444444444,
              "#bd3786"
             ],
             [
              0.5555555555555556,
              "#d8576b"
             ],
             [
              0.6666666666666666,
              "#ed7953"
             ],
             [
              0.7777777777777778,
              "#fb9f3a"
             ],
             [
              0.8888888888888888,
              "#fdca26"
             ],
             [
              1,
              "#f0f921"
             ]
            ],
            "type": "heatmap"
           }
          ],
          "heatmapgl": [
           {
            "colorbar": {
             "outlinewidth": 0,
             "ticks": ""
            },
            "colorscale": [
             [
              0,
              "#0d0887"
             ],
             [
              0.1111111111111111,
              "#46039f"
             ],
             [
              0.2222222222222222,
              "#7201a8"
             ],
             [
              0.3333333333333333,
              "#9c179e"
             ],
             [
              0.4444444444444444,
              "#bd3786"
             ],
             [
              0.5555555555555556,
              "#d8576b"
             ],
             [
              0.6666666666666666,
              "#ed7953"
             ],
             [
              0.7777777777777778,
              "#fb9f3a"
             ],
             [
              0.8888888888888888,
              "#fdca26"
             ],
             [
              1,
              "#f0f921"
             ]
            ],
            "type": "heatmapgl"
           }
          ],
          "histogram": [
           {
            "marker": {
             "colorbar": {
              "outlinewidth": 0,
              "ticks": ""
             }
            },
            "type": "histogram"
           }
          ],
          "histogram2d": [
           {
            "colorbar": {
             "outlinewidth": 0,
             "ticks": ""
            },
            "colorscale": [
             [
              0,
              "#0d0887"
             ],
             [
              0.1111111111111111,
              "#46039f"
             ],
             [
              0.2222222222222222,
              "#7201a8"
             ],
             [
              0.3333333333333333,
              "#9c179e"
             ],
             [
              0.4444444444444444,
              "#bd3786"
             ],
             [
              0.5555555555555556,
              "#d8576b"
             ],
             [
              0.6666666666666666,
              "#ed7953"
             ],
             [
              0.7777777777777778,
              "#fb9f3a"
             ],
             [
              0.8888888888888888,
              "#fdca26"
             ],
             [
              1,
              "#f0f921"
             ]
            ],
            "type": "histogram2d"
           }
          ],
          "histogram2dcontour": [
           {
            "colorbar": {
             "outlinewidth": 0,
             "ticks": ""
            },
            "colorscale": [
             [
              0,
              "#0d0887"
             ],
             [
              0.1111111111111111,
              "#46039f"
             ],
             [
              0.2222222222222222,
              "#7201a8"
             ],
             [
              0.3333333333333333,
              "#9c179e"
             ],
             [
              0.4444444444444444,
              "#bd3786"
             ],
             [
              0.5555555555555556,
              "#d8576b"
             ],
             [
              0.6666666666666666,
              "#ed7953"
             ],
             [
              0.7777777777777778,
              "#fb9f3a"
             ],
             [
              0.8888888888888888,
              "#fdca26"
             ],
             [
              1,
              "#f0f921"
             ]
            ],
            "type": "histogram2dcontour"
           }
          ],
          "mesh3d": [
           {
            "colorbar": {
             "outlinewidth": 0,
             "ticks": ""
            },
            "type": "mesh3d"
           }
          ],
          "parcoords": [
           {
            "line": {
             "colorbar": {
              "outlinewidth": 0,
              "ticks": ""
             }
            },
            "type": "parcoords"
           }
          ],
          "pie": [
           {
            "automargin": true,
            "type": "pie"
           }
          ],
          "scatter": [
           {
            "marker": {
             "colorbar": {
              "outlinewidth": 0,
              "ticks": ""
             }
            },
            "type": "scatter"
           }
          ],
          "scatter3d": [
           {
            "line": {
             "colorbar": {
              "outlinewidth": 0,
              "ticks": ""
             }
            },
            "marker": {
             "colorbar": {
              "outlinewidth": 0,
              "ticks": ""
             }
            },
            "type": "scatter3d"
           }
          ],
          "scattercarpet": [
           {
            "marker": {
             "colorbar": {
              "outlinewidth": 0,
              "ticks": ""
             }
            },
            "type": "scattercarpet"
           }
          ],
          "scattergeo": [
           {
            "marker": {
             "colorbar": {
              "outlinewidth": 0,
              "ticks": ""
             }
            },
            "type": "scattergeo"
           }
          ],
          "scattergl": [
           {
            "marker": {
             "colorbar": {
              "outlinewidth": 0,
              "ticks": ""
             }
            },
            "type": "scattergl"
           }
          ],
          "scattermapbox": [
           {
            "marker": {
             "colorbar": {
              "outlinewidth": 0,
              "ticks": ""
             }
            },
            "type": "scattermapbox"
           }
          ],
          "scatterpolar": [
           {
            "marker": {
             "colorbar": {
              "outlinewidth": 0,
              "ticks": ""
             }
            },
            "type": "scatterpolar"
           }
          ],
          "scatterpolargl": [
           {
            "marker": {
             "colorbar": {
              "outlinewidth": 0,
              "ticks": ""
             }
            },
            "type": "scatterpolargl"
           }
          ],
          "scatterternary": [
           {
            "marker": {
             "colorbar": {
              "outlinewidth": 0,
              "ticks": ""
             }
            },
            "type": "scatterternary"
           }
          ],
          "surface": [
           {
            "colorbar": {
             "outlinewidth": 0,
             "ticks": ""
            },
            "colorscale": [
             [
              0,
              "#0d0887"
             ],
             [
              0.1111111111111111,
              "#46039f"
             ],
             [
              0.2222222222222222,
              "#7201a8"
             ],
             [
              0.3333333333333333,
              "#9c179e"
             ],
             [
              0.4444444444444444,
              "#bd3786"
             ],
             [
              0.5555555555555556,
              "#d8576b"
             ],
             [
              0.6666666666666666,
              "#ed7953"
             ],
             [
              0.7777777777777778,
              "#fb9f3a"
             ],
             [
              0.8888888888888888,
              "#fdca26"
             ],
             [
              1,
              "#f0f921"
             ]
            ],
            "type": "surface"
           }
          ],
          "table": [
           {
            "cells": {
             "fill": {
              "color": "#EBF0F8"
             },
             "line": {
              "color": "white"
             }
            },
            "header": {
             "fill": {
              "color": "#C8D4E3"
             },
             "line": {
              "color": "white"
             }
            },
            "type": "table"
           }
          ]
         },
         "layout": {
          "annotationdefaults": {
           "arrowcolor": "#2a3f5f",
           "arrowhead": 0,
           "arrowwidth": 1
          },
          "coloraxis": {
           "colorbar": {
            "outlinewidth": 0,
            "ticks": ""
           }
          },
          "colorscale": {
           "diverging": [
            [
             0,
             "#8e0152"
            ],
            [
             0.1,
             "#c51b7d"
            ],
            [
             0.2,
             "#de77ae"
            ],
            [
             0.3,
             "#f1b6da"
            ],
            [
             0.4,
             "#fde0ef"
            ],
            [
             0.5,
             "#f7f7f7"
            ],
            [
             0.6,
             "#e6f5d0"
            ],
            [
             0.7,
             "#b8e186"
            ],
            [
             0.8,
             "#7fbc41"
            ],
            [
             0.9,
             "#4d9221"
            ],
            [
             1,
             "#276419"
            ]
           ],
           "sequential": [
            [
             0,
             "#0d0887"
            ],
            [
             0.1111111111111111,
             "#46039f"
            ],
            [
             0.2222222222222222,
             "#7201a8"
            ],
            [
             0.3333333333333333,
             "#9c179e"
            ],
            [
             0.4444444444444444,
             "#bd3786"
            ],
            [
             0.5555555555555556,
             "#d8576b"
            ],
            [
             0.6666666666666666,
             "#ed7953"
            ],
            [
             0.7777777777777778,
             "#fb9f3a"
            ],
            [
             0.8888888888888888,
             "#fdca26"
            ],
            [
             1,
             "#f0f921"
            ]
           ],
           "sequentialminus": [
            [
             0,
             "#0d0887"
            ],
            [
             0.1111111111111111,
             "#46039f"
            ],
            [
             0.2222222222222222,
             "#7201a8"
            ],
            [
             0.3333333333333333,
             "#9c179e"
            ],
            [
             0.4444444444444444,
             "#bd3786"
            ],
            [
             0.5555555555555556,
             "#d8576b"
            ],
            [
             0.6666666666666666,
             "#ed7953"
            ],
            [
             0.7777777777777778,
             "#fb9f3a"
            ],
            [
             0.8888888888888888,
             "#fdca26"
            ],
            [
             1,
             "#f0f921"
            ]
           ]
          },
          "colorway": [
           "#636efa",
           "#EF553B",
           "#00cc96",
           "#ab63fa",
           "#FFA15A",
           "#19d3f3",
           "#FF6692",
           "#B6E880",
           "#FF97FF",
           "#FECB52"
          ],
          "font": {
           "color": "#2a3f5f"
          },
          "geo": {
           "bgcolor": "white",
           "lakecolor": "white",
           "landcolor": "#E5ECF6",
           "showlakes": true,
           "showland": true,
           "subunitcolor": "white"
          },
          "hoverlabel": {
           "align": "left"
          },
          "hovermode": "closest",
          "mapbox": {
           "style": "light"
          },
          "paper_bgcolor": "white",
          "plot_bgcolor": "#E5ECF6",
          "polar": {
           "angularaxis": {
            "gridcolor": "white",
            "linecolor": "white",
            "ticks": ""
           },
           "bgcolor": "#E5ECF6",
           "radialaxis": {
            "gridcolor": "white",
            "linecolor": "white",
            "ticks": ""
           }
          },
          "scene": {
           "xaxis": {
            "backgroundcolor": "#E5ECF6",
            "gridcolor": "white",
            "gridwidth": 2,
            "linecolor": "white",
            "showbackground": true,
            "ticks": "",
            "zerolinecolor": "white"
           },
           "yaxis": {
            "backgroundcolor": "#E5ECF6",
            "gridcolor": "white",
            "gridwidth": 2,
            "linecolor": "white",
            "showbackground": true,
            "ticks": "",
            "zerolinecolor": "white"
           },
           "zaxis": {
            "backgroundcolor": "#E5ECF6",
            "gridcolor": "white",
            "gridwidth": 2,
            "linecolor": "white",
            "showbackground": true,
            "ticks": "",
            "zerolinecolor": "white"
           }
          },
          "shapedefaults": {
           "line": {
            "color": "#2a3f5f"
           }
          },
          "ternary": {
           "aaxis": {
            "gridcolor": "white",
            "linecolor": "white",
            "ticks": ""
           },
           "baxis": {
            "gridcolor": "white",
            "linecolor": "white",
            "ticks": ""
           },
           "bgcolor": "#E5ECF6",
           "caxis": {
            "gridcolor": "white",
            "linecolor": "white",
            "ticks": ""
           }
          },
          "title": {
           "x": 0.05
          },
          "xaxis": {
           "automargin": true,
           "gridcolor": "white",
           "linecolor": "white",
           "ticks": "",
           "title": {
            "standoff": 15
           },
           "zerolinecolor": "white",
           "zerolinewidth": 2
          },
          "yaxis": {
           "automargin": true,
           "gridcolor": "white",
           "linecolor": "white",
           "ticks": "",
           "title": {
            "standoff": 15
           },
           "zerolinecolor": "white",
           "zerolinewidth": 2
          }
         }
        },
        "width": 800,
        "xaxis": {
         "anchor": "y",
         "domain": [
          0,
          0.45
         ]
        },
        "xaxis2": {
         "anchor": "y2",
         "domain": [
          0.55,
          1
         ]
        },
        "xaxis3": {
         "anchor": "y3",
         "domain": [
          0,
          0.45
         ]
        },
        "xaxis4": {
         "anchor": "y4",
         "domain": [
          0.55,
          1
         ]
        },
        "xaxis5": {
         "anchor": "y5",
         "domain": [
          0,
          0.45
         ]
        },
        "xaxis6": {
         "anchor": "y6",
         "domain": [
          0.55,
          1
         ]
        },
        "xaxis7": {
         "anchor": "y7",
         "domain": [
          0,
          0.45
         ]
        },
        "xaxis8": {
         "anchor": "y8",
         "domain": [
          0.55,
          1
         ]
        },
        "yaxis": {
         "anchor": "x",
         "domain": [
          0.78,
          1
         ]
        },
        "yaxis2": {
         "anchor": "x2",
         "domain": [
          0.78,
          1
         ]
        },
        "yaxis3": {
         "anchor": "x3",
         "domain": [
          0.52,
          0.74
         ]
        },
        "yaxis4": {
         "anchor": "x4",
         "domain": [
          0.52,
          0.74
         ]
        },
        "yaxis5": {
         "anchor": "x5",
         "domain": [
          0.26,
          0.48
         ]
        },
        "yaxis6": {
         "anchor": "x6",
         "domain": [
          0.26,
          0.48
         ]
        },
        "yaxis7": {
         "anchor": "x7",
         "domain": [
          0,
          0.22
         ]
        },
        "yaxis8": {
         "anchor": "x8",
         "domain": [
          0,
          0.22
         ]
        }
       }
      },
      "text/html": [
       "<div>\n",
       "        \n",
       "        \n",
       "            <div id=\"f8a9a4da-b72f-4f87-945e-999c7d09aa71\" class=\"plotly-graph-div\" style=\"height:1500px; width:800px;\"></div>\n",
       "            <script type=\"text/javascript\">\n",
       "                require([\"plotly\"], function(Plotly) {\n",
       "                    window.PLOTLYENV=window.PLOTLYENV || {};\n",
       "                    \n",
       "                if (document.getElementById(\"f8a9a4da-b72f-4f87-945e-999c7d09aa71\")) {\n",
       "                    Plotly.newPlot(\n",
       "                        'f8a9a4da-b72f-4f87-945e-999c7d09aa71',\n",
       "                        [{\"hovertext\": [\"EF 2E 22 E0 EA, Type 1\", \"B6 A4 CD 3A 81, Type 1\", \"76 A2 26 6F C7, Type inconnu\", \"C2 C3 05 A8 4B, Type 1\", \"39 CA BD 3C 82, Type 1\", \"7B DE 78 5B F6, Type 1\", \"9B 8E 44 F8 FF, Type 1\", \"EA 6F FF DE 42, Type 2\", \"90 01 09 71 F0, Type 2\", \"39 35 88 38 7B, Type inconnu\", \"35 86 13 56 24, Type 1\", \"AB A5 ED 43 8B, Type 1\", \"81 03 8C 07 58, Type inconnu\", \"7D 76 3D FC 91, Type 1\", \"73 EC 1B D7 9B, Type 1\", \"48 84 25 4A E0, Type inconnu\", \"01 83 17 5E 89, Type 1\", \"B9 5D 22 14 86, Type 1\", \"A1 54 32 B1 53, Type 1\", \"FD 11 B7 CF 8F, Type 1\", \"DB 6B 59 3A 0C, Type 1\", \"F1 C2 1C 3A FC, Type 1\", \"31 19 64 3D 10, Type 2\", \"98 2C 1A AA 87, Type 1\", \"A2 D7 D0 A4 2A, Type 1\", \"D7 FC 44 05 CA, Type 2\", \"8A A0 53 AC 37, Type inconnu\", \"8A 77 B8 09 AD, Type 2\", \"02 88 A7 94 50, Type 2\", \"64 0B 1B 0A 45, Type 2\", \"51 B7 6E C2 FD, Type 2\", \"A4 03 5A F0 57, Type 2\", \"02 92 7B FF E6, Type 1\", \"90 A6 58 8A AD, Type 2\", \"F5 E4 FD A4 9F, Type 2\", \"06 25 B6 B7 F5, Type 1\", \"47 09 1C 5F 94, Type inconnu\", \"76 8F 56 DE 15, Type 2\", \"3D F6 5A B4 9D, Type 2\", \"3F 34 F5 32 80, Type inconnu\", \"A6 FD C4 C0 69, Type 2\", \"4F 9C 21 D3 31, Type 2\", \"4B 6C 17 74 29, Type inconnu\", \"94 EB 19 B7 18, Type 2\", \"12 A8 8F 3F 67, Type inconnu\", \"19 01 73 04 E2, Type 2\", \"A2 C1 35 C2 8C, Type 2\", \"0F 30 93 5E 0E, Type 2\", \"81 DB 14 CC 21, Type inconnu\", \"CA A2 77 FC 22, Type 2\", \"96 B8 5B 6F 8F, Type inconnu\", \"96 DD DC FE E3, Type 2\", \"21 36 06 E2 38, Type 2\", \"B7 CA E8 BC 99, Type 2\", \"3E C6 4C 31 8B, Type inconnu\", \"EF 4A CF 20 AF, Type 2\"], \"marker\": {\"color\": [\"#33ffc9\", \"#33ffc9\", \"#C5C5C5\", \"#33ffc9\", \"#33ffc9\", \"#33ffc9\", \"#33ffc9\", \"#B3D9FF\", \"#B3D9FF\", \"#C5C5C5\", \"#33ffc9\", \"#33ffc9\", \"#C5C5C5\", \"#33ffc9\", \"#33ffc9\", \"#C5C5C5\", \"#33ffc9\", \"#33ffc9\", \"#33ffc9\", \"#33ffc9\", \"#33ffc9\", \"#33ffc9\", \"#B3D9FF\", \"#33ffc9\", \"#33ffc9\", \"#B3D9FF\", \"#C5C5C5\", \"#B3D9FF\", \"#B3D9FF\", \"#B3D9FF\", \"#B3D9FF\", \"#B3D9FF\", \"#33ffc9\", \"#B3D9FF\", \"#B3D9FF\", \"#33ffc9\", \"#C5C5C5\", \"#B3D9FF\", \"#B3D9FF\", \"#C5C5C5\", \"#B3D9FF\", \"#B3D9FF\", \"#C5C5C5\", \"#B3D9FF\", \"#C5C5C5\", \"#B3D9FF\", \"#B3D9FF\", \"#B3D9FF\", \"#C5C5C5\", \"#B3D9FF\", \"#C5C5C5\", \"#B3D9FF\", \"#B3D9FF\", \"#B3D9FF\", \"#C5C5C5\", \"#B3D9FF\"], \"size\": 10}, \"mode\": \"markers+text\", \"type\": \"scatter\", \"x\": [18.0, 19.0, 20.0, 20.0, 21.0, 23.0, 25.0, 25.0, 26.0, 27.0, 27.0, 28.0, 28.0, 28.0, 28.0, 30.0, 30.0, 31.0, 31.0, 32.0, 34.0, 34.0, 35.0, 35.0, 36.0, 36.0, 37.0, 38.0, 38.0, 38.0, 40.0, 40.0, 41.0, 42.0, 43.0, 44.0, 44.0, 45.0, 46.0, 47.0, 48.0, 52.0, 55.0, 57.0, 57.0, 59.0, 59.0, 59.0, 60.0, 60.0, 62.0, 64.0, 67.0, 72.0, 74.0, 74.0], \"xaxis\": \"x\", \"y\": [5.0, 9.0, 5.0, 9.0, 16.0, 9.0, 4.0, 3.0, 9.0, 15.0, 2.0, 7.0, 12.0, 11.0, 7.0, 10.0, 10.0, 10.0, 7.0, 14.0, 10.0, 15.0, 12.0, 11.0, 11.0, 13.0, 10.0, 16.0, 10.0, 17.0, 14.0, 14.0, 8.0, 8.0, 14.0, 10.0, 13.0, 8.0, 15.0, 12.0, 15.0, null, 9.0, 14.0, null, 10.0, null, 8.0, 11.0, null, null, null, null, null, null, null], \"yaxis\": \"y\"}, {\"hovertext\": [\"EF 2E 22 E0 EA, Type 1\", \"B6 A4 CD 3A 81, Type 1\", \"76 A2 26 6F C7, Type inconnu\", \"C2 C3 05 A8 4B, Type 1\", \"39 CA BD 3C 82, Type 1\", \"7B DE 78 5B F6, Type 1\", \"9B 8E 44 F8 FF, Type 1\", \"EA 6F FF DE 42, Type 2\", \"90 01 09 71 F0, Type 2\", \"39 35 88 38 7B, Type inconnu\", \"35 86 13 56 24, Type 1\", \"AB A5 ED 43 8B, Type 1\", \"81 03 8C 07 58, Type inconnu\", \"7D 76 3D FC 91, Type 1\", \"73 EC 1B D7 9B, Type 1\", \"48 84 25 4A E0, Type inconnu\", \"01 83 17 5E 89, Type 1\", \"B9 5D 22 14 86, Type 1\", \"A1 54 32 B1 53, Type 1\", \"FD 11 B7 CF 8F, Type 1\", \"DB 6B 59 3A 0C, Type 1\", \"F1 C2 1C 3A FC, Type 1\", \"31 19 64 3D 10, Type 2\", \"98 2C 1A AA 87, Type 1\", \"A2 D7 D0 A4 2A, Type 1\", \"D7 FC 44 05 CA, Type 2\", \"8A A0 53 AC 37, Type inconnu\", \"8A 77 B8 09 AD, Type 2\", \"02 88 A7 94 50, Type 2\", \"64 0B 1B 0A 45, Type 2\", \"51 B7 6E C2 FD, Type 2\", \"A4 03 5A F0 57, Type 2\", \"02 92 7B FF E6, Type 1\", \"90 A6 58 8A AD, Type 2\", \"F5 E4 FD A4 9F, Type 2\", \"06 25 B6 B7 F5, Type 1\", \"47 09 1C 5F 94, Type inconnu\", \"76 8F 56 DE 15, Type 2\", \"3D F6 5A B4 9D, Type 2\", \"3F 34 F5 32 80, Type inconnu\", \"A6 FD C4 C0 69, Type 2\", \"4F 9C 21 D3 31, Type 2\", \"4B 6C 17 74 29, Type inconnu\", \"94 EB 19 B7 18, Type 2\", \"12 A8 8F 3F 67, Type inconnu\", \"19 01 73 04 E2, Type 2\", \"A2 C1 35 C2 8C, Type 2\", \"0F 30 93 5E 0E, Type 2\", \"81 DB 14 CC 21, Type inconnu\", \"CA A2 77 FC 22, Type 2\", \"96 B8 5B 6F 8F, Type inconnu\", \"96 DD DC FE E3, Type 2\", \"21 36 06 E2 38, Type 2\", \"B7 CA E8 BC 99, Type 2\", \"3E C6 4C 31 8B, Type inconnu\", \"EF 4A CF 20 AF, Type 2\"], \"marker\": {\"color\": [\"#33ffc9\", \"#33ffc9\", \"#C5C5C5\", \"#33ffc9\", \"#33ffc9\", \"#33ffc9\", \"#33ffc9\", \"#B3D9FF\", \"#B3D9FF\", \"#C5C5C5\", \"#33ffc9\", \"#33ffc9\", \"#C5C5C5\", \"#33ffc9\", \"#33ffc9\", \"#C5C5C5\", \"#33ffc9\", \"#33ffc9\", \"#33ffc9\", \"#33ffc9\", \"#33ffc9\", \"#33ffc9\", \"#B3D9FF\", \"#33ffc9\", \"#33ffc9\", \"#B3D9FF\", \"#C5C5C5\", \"#B3D9FF\", \"#B3D9FF\", \"#B3D9FF\", \"#B3D9FF\", \"#B3D9FF\", \"#33ffc9\", \"#B3D9FF\", \"#B3D9FF\", \"#33ffc9\", \"#C5C5C5\", \"#B3D9FF\", \"#B3D9FF\", \"#C5C5C5\", \"#B3D9FF\", \"#B3D9FF\", \"#C5C5C5\", \"#B3D9FF\", \"#C5C5C5\", \"#B3D9FF\", \"#B3D9FF\", \"#B3D9FF\", \"#C5C5C5\", \"#B3D9FF\", \"#C5C5C5\", \"#B3D9FF\", \"#B3D9FF\", \"#B3D9FF\", \"#C5C5C5\", \"#B3D9FF\"], \"size\": 10}, \"mode\": \"markers+text\", \"type\": \"scatter\", \"x\": [18.0, 19.0, 20.0, 20.0, 21.0, 23.0, 25.0, 25.0, 26.0, 27.0, 27.0, 28.0, 28.0, 28.0, 28.0, 30.0, 30.0, 31.0, 31.0, 32.0, 34.0, 34.0, 35.0, 35.0, 36.0, 36.0, 37.0, 38.0, 38.0, 38.0, 40.0, 40.0, 41.0, 42.0, 43.0, 44.0, 44.0, 45.0, 46.0, 47.0, 48.0, 52.0, 55.0, 57.0, 57.0, 59.0, 59.0, 59.0, 60.0, 60.0, 62.0, 64.0, 67.0, 72.0, 74.0, 74.0], \"xaxis\": \"x2\", \"y\": [8.0, 4.0, 7.0, 8.0, 9.0, 12.0, 2.0, 2.0, 10.0, 10.0, null, 7.0, 13.0, 10.0, 6.0, 8.0, 6.0, 6.0, 7.0, 12.0, 6.0, 11.0, 8.0, 8.0, 7.0, 10.0, 12.0, 12.0, 12.0, 12.0, 13.0, 12.0, 3.0, 9.0, 12.0, 9.0, 10.0, 11.0, 14.0, 9.0, 12.0, null, 10.0, 11.0, null, 10.0, null, 8.0, 9.0, null, null, null, null, null, null, null], \"yaxis\": \"y2\"}, {\"hovertext\": [\"EF 2E 22 E0 EA, Type 1\", \"B6 A4 CD 3A 81, Type 1\", \"76 A2 26 6F C7, Type inconnu\", \"C2 C3 05 A8 4B, Type 1\", \"39 CA BD 3C 82, Type 1\", \"7B DE 78 5B F6, Type 1\", \"9B 8E 44 F8 FF, Type 1\", \"EA 6F FF DE 42, Type 2\", \"90 01 09 71 F0, Type 2\", \"39 35 88 38 7B, Type inconnu\", \"35 86 13 56 24, Type 1\", \"AB A5 ED 43 8B, Type 1\", \"81 03 8C 07 58, Type inconnu\", \"7D 76 3D FC 91, Type 1\", \"73 EC 1B D7 9B, Type 1\", \"48 84 25 4A E0, Type inconnu\", \"01 83 17 5E 89, Type 1\", \"B9 5D 22 14 86, Type 1\", \"A1 54 32 B1 53, Type 1\", \"FD 11 B7 CF 8F, Type 1\", \"DB 6B 59 3A 0C, Type 1\", \"F1 C2 1C 3A FC, Type 1\", \"31 19 64 3D 10, Type 2\", \"98 2C 1A AA 87, Type 1\", \"A2 D7 D0 A4 2A, Type 1\", \"D7 FC 44 05 CA, Type 2\", \"8A A0 53 AC 37, Type inconnu\", \"8A 77 B8 09 AD, Type 2\", \"02 88 A7 94 50, Type 2\", \"64 0B 1B 0A 45, Type 2\", \"51 B7 6E C2 FD, Type 2\", \"A4 03 5A F0 57, Type 2\", \"02 92 7B FF E6, Type 1\", \"90 A6 58 8A AD, Type 2\", \"F5 E4 FD A4 9F, Type 2\", \"06 25 B6 B7 F5, Type 1\", \"47 09 1C 5F 94, Type inconnu\", \"76 8F 56 DE 15, Type 2\", \"3D F6 5A B4 9D, Type 2\", \"3F 34 F5 32 80, Type inconnu\", \"A6 FD C4 C0 69, Type 2\", \"4F 9C 21 D3 31, Type 2\", \"4B 6C 17 74 29, Type inconnu\", \"94 EB 19 B7 18, Type 2\", \"12 A8 8F 3F 67, Type inconnu\", \"19 01 73 04 E2, Type 2\", \"A2 C1 35 C2 8C, Type 2\", \"0F 30 93 5E 0E, Type 2\", \"81 DB 14 CC 21, Type inconnu\", \"CA A2 77 FC 22, Type 2\", \"96 B8 5B 6F 8F, Type inconnu\", \"96 DD DC FE E3, Type 2\", \"21 36 06 E2 38, Type 2\", \"B7 CA E8 BC 99, Type 2\", \"3E C6 4C 31 8B, Type inconnu\", \"EF 4A CF 20 AF, Type 2\"], \"marker\": {\"color\": [\"#33ffc9\", \"#33ffc9\", \"#C5C5C5\", \"#33ffc9\", \"#33ffc9\", \"#33ffc9\", \"#33ffc9\", \"#B3D9FF\", \"#B3D9FF\", \"#C5C5C5\", \"#33ffc9\", \"#33ffc9\", \"#C5C5C5\", \"#33ffc9\", \"#33ffc9\", \"#C5C5C5\", \"#33ffc9\", \"#33ffc9\", \"#33ffc9\", \"#33ffc9\", \"#33ffc9\", \"#33ffc9\", \"#B3D9FF\", \"#33ffc9\", \"#33ffc9\", \"#B3D9FF\", \"#C5C5C5\", \"#B3D9FF\", \"#B3D9FF\", \"#B3D9FF\", \"#B3D9FF\", \"#B3D9FF\", \"#33ffc9\", \"#B3D9FF\", \"#B3D9FF\", \"#33ffc9\", \"#C5C5C5\", \"#B3D9FF\", \"#B3D9FF\", \"#C5C5C5\", \"#B3D9FF\", \"#B3D9FF\", \"#C5C5C5\", \"#B3D9FF\", \"#C5C5C5\", \"#B3D9FF\", \"#B3D9FF\", \"#B3D9FF\", \"#C5C5C5\", \"#B3D9FF\", \"#C5C5C5\", \"#B3D9FF\", \"#B3D9FF\", \"#B3D9FF\", \"#C5C5C5\", \"#B3D9FF\"], \"size\": 10}, \"mode\": \"markers+text\", \"type\": \"scatter\", \"x\": [18.0, 19.0, 20.0, 20.0, 21.0, 23.0, 25.0, 25.0, 26.0, 27.0, 27.0, 28.0, 28.0, 28.0, 28.0, 30.0, 30.0, 31.0, 31.0, 32.0, 34.0, 34.0, 35.0, 35.0, 36.0, 36.0, 37.0, 38.0, 38.0, 38.0, 40.0, 40.0, 41.0, 42.0, 43.0, 44.0, 44.0, 45.0, 46.0, 47.0, 48.0, 52.0, 55.0, 57.0, 57.0, 59.0, 59.0, 59.0, 60.0, 60.0, 62.0, 64.0, 67.0, 72.0, 74.0, 74.0], \"xaxis\": \"x3\", \"y\": [7.0, 10.0, 8.0, 10.0, 12.0, 15.0, null, 3.0, 9.0, 12.0, null, 8.0, 9.0, 11.0, null, 8.0, 9.0, 5.0, 7.0, 14.0, 8.0, 11.0, 13.0, 12.0, 9.0, 12.0, 12.0, 13.0, 11.0, 7.0, 13.0, null, 5.0, 6.0, 12.0, 7.0, 9.0, 9.0, 10.0, 10.0, 13.0, null, 15.0, 13.0, null, null, null, null, 8.0, null, null, null, null, null, null, null], \"yaxis\": \"y3\"}, {\"hovertext\": [\"EF 2E 22 E0 EA, Type 1\", \"B6 A4 CD 3A 81, Type 1\", \"76 A2 26 6F C7, Type inconnu\", \"C2 C3 05 A8 4B, Type 1\", \"39 CA BD 3C 82, Type 1\", \"7B DE 78 5B F6, Type 1\", \"9B 8E 44 F8 FF, Type 1\", \"EA 6F FF DE 42, Type 2\", \"90 01 09 71 F0, Type 2\", \"39 35 88 38 7B, Type inconnu\", \"35 86 13 56 24, Type 1\", \"AB A5 ED 43 8B, Type 1\", \"81 03 8C 07 58, Type inconnu\", \"7D 76 3D FC 91, Type 1\", \"73 EC 1B D7 9B, Type 1\", \"48 84 25 4A E0, Type inconnu\", \"01 83 17 5E 89, Type 1\", \"B9 5D 22 14 86, Type 1\", \"A1 54 32 B1 53, Type 1\", \"FD 11 B7 CF 8F, Type 1\", \"DB 6B 59 3A 0C, Type 1\", \"F1 C2 1C 3A FC, Type 1\", \"31 19 64 3D 10, Type 2\", \"98 2C 1A AA 87, Type 1\", \"A2 D7 D0 A4 2A, Type 1\", \"D7 FC 44 05 CA, Type 2\", \"8A A0 53 AC 37, Type inconnu\", \"8A 77 B8 09 AD, Type 2\", \"02 88 A7 94 50, Type 2\", \"64 0B 1B 0A 45, Type 2\", \"51 B7 6E C2 FD, Type 2\", \"A4 03 5A F0 57, Type 2\", \"02 92 7B FF E6, Type 1\", \"90 A6 58 8A AD, Type 2\", \"F5 E4 FD A4 9F, Type 2\", \"06 25 B6 B7 F5, Type 1\", \"47 09 1C 5F 94, Type inconnu\", \"76 8F 56 DE 15, Type 2\", \"3D F6 5A B4 9D, Type 2\", \"3F 34 F5 32 80, Type inconnu\", \"A6 FD C4 C0 69, Type 2\", \"4F 9C 21 D3 31, Type 2\", \"4B 6C 17 74 29, Type inconnu\", \"94 EB 19 B7 18, Type 2\", \"12 A8 8F 3F 67, Type inconnu\", \"19 01 73 04 E2, Type 2\", \"A2 C1 35 C2 8C, Type 2\", \"0F 30 93 5E 0E, Type 2\", \"81 DB 14 CC 21, Type inconnu\", \"CA A2 77 FC 22, Type 2\", \"96 B8 5B 6F 8F, Type inconnu\", \"96 DD DC FE E3, Type 2\", \"21 36 06 E2 38, Type 2\", \"B7 CA E8 BC 99, Type 2\", \"3E C6 4C 31 8B, Type inconnu\", \"EF 4A CF 20 AF, Type 2\"], \"marker\": {\"color\": [\"#33ffc9\", \"#33ffc9\", \"#C5C5C5\", \"#33ffc9\", \"#33ffc9\", \"#33ffc9\", \"#33ffc9\", \"#B3D9FF\", \"#B3D9FF\", \"#C5C5C5\", \"#33ffc9\", \"#33ffc9\", \"#C5C5C5\", \"#33ffc9\", \"#33ffc9\", \"#C5C5C5\", \"#33ffc9\", \"#33ffc9\", \"#33ffc9\", \"#33ffc9\", \"#33ffc9\", \"#33ffc9\", \"#B3D9FF\", \"#33ffc9\", \"#33ffc9\", \"#B3D9FF\", \"#C5C5C5\", \"#B3D9FF\", \"#B3D9FF\", \"#B3D9FF\", \"#B3D9FF\", \"#B3D9FF\", \"#33ffc9\", \"#B3D9FF\", \"#B3D9FF\", \"#33ffc9\", \"#C5C5C5\", \"#B3D9FF\", \"#B3D9FF\", \"#C5C5C5\", \"#B3D9FF\", \"#B3D9FF\", \"#C5C5C5\", \"#B3D9FF\", \"#C5C5C5\", \"#B3D9FF\", \"#B3D9FF\", \"#B3D9FF\", \"#C5C5C5\", \"#B3D9FF\", \"#C5C5C5\", \"#B3D9FF\", \"#B3D9FF\", \"#B3D9FF\", \"#C5C5C5\", \"#B3D9FF\"], \"size\": 10}, \"mode\": \"markers+text\", \"type\": \"scatter\", \"x\": [18.0, 19.0, 20.0, 20.0, 21.0, 23.0, 25.0, 25.0, 26.0, 27.0, 27.0, 28.0, 28.0, 28.0, 28.0, 30.0, 30.0, 31.0, 31.0, 32.0, 34.0, 34.0, 35.0, 35.0, 36.0, 36.0, 37.0, 38.0, 38.0, 38.0, 40.0, 40.0, 41.0, 42.0, 43.0, 44.0, 44.0, 45.0, 46.0, 47.0, 48.0, 52.0, 55.0, 57.0, 57.0, 59.0, 59.0, 59.0, 60.0, 60.0, 62.0, 64.0, 67.0, 72.0, 74.0, 74.0], \"xaxis\": \"x4\", \"y\": [20.0, 23.0, 20.0, 27.0, 37.0, 36.0, null, 8.0, 28.0, 37.0, null, 22.0, 34.0, 32.0, null, 26.0, 25.0, 21.0, 21.0, 40.0, 24.0, 37.0, 33.0, 31.0, 27.0, 35.0, 34.0, 41.0, 33.0, 36.0, 40.0, null, 16.0, 23.0, 38.0, 26.0, 32.0, 28.0, 39.0, 31.0, 40.0, null, 34.0, 38.0, null, null, null, null, 28.0, null, null, null, null, null, null, null], \"yaxis\": \"y4\"}, {\"hovertext\": [\"EF 2E 22 E0 EA, Type 1\", \"B6 A4 CD 3A 81, Type 1\", \"76 A2 26 6F C7, Type inconnu\", \"C2 C3 05 A8 4B, Type 1\", \"39 CA BD 3C 82, Type 1\", \"7B DE 78 5B F6, Type 1\", \"9B 8E 44 F8 FF, Type 1\", \"EA 6F FF DE 42, Type 2\", \"90 01 09 71 F0, Type 2\", \"39 35 88 38 7B, Type inconnu\", \"35 86 13 56 24, Type 1\", \"AB A5 ED 43 8B, Type 1\", \"81 03 8C 07 58, Type inconnu\", \"7D 76 3D FC 91, Type 1\", \"73 EC 1B D7 9B, Type 1\", \"48 84 25 4A E0, Type inconnu\", \"01 83 17 5E 89, Type 1\", \"B9 5D 22 14 86, Type 1\", \"A1 54 32 B1 53, Type 1\", \"FD 11 B7 CF 8F, Type 1\", \"DB 6B 59 3A 0C, Type 1\", \"F1 C2 1C 3A FC, Type 1\", \"31 19 64 3D 10, Type 2\", \"98 2C 1A AA 87, Type 1\", \"A2 D7 D0 A4 2A, Type 1\", \"D7 FC 44 05 CA, Type 2\", \"8A A0 53 AC 37, Type inconnu\", \"8A 77 B8 09 AD, Type 2\", \"02 88 A7 94 50, Type 2\", \"64 0B 1B 0A 45, Type 2\", \"51 B7 6E C2 FD, Type 2\", \"A4 03 5A F0 57, Type 2\", \"02 92 7B FF E6, Type 1\", \"90 A6 58 8A AD, Type 2\", \"F5 E4 FD A4 9F, Type 2\", \"06 25 B6 B7 F5, Type 1\", \"47 09 1C 5F 94, Type inconnu\", \"76 8F 56 DE 15, Type 2\", \"3D F6 5A B4 9D, Type 2\", \"3F 34 F5 32 80, Type inconnu\", \"A6 FD C4 C0 69, Type 2\", \"4F 9C 21 D3 31, Type 2\", \"4B 6C 17 74 29, Type inconnu\", \"94 EB 19 B7 18, Type 2\", \"12 A8 8F 3F 67, Type inconnu\", \"19 01 73 04 E2, Type 2\", \"A2 C1 35 C2 8C, Type 2\", \"0F 30 93 5E 0E, Type 2\", \"81 DB 14 CC 21, Type inconnu\", \"CA A2 77 FC 22, Type 2\", \"96 B8 5B 6F 8F, Type inconnu\", \"96 DD DC FE E3, Type 2\", \"21 36 06 E2 38, Type 2\", \"B7 CA E8 BC 99, Type 2\", \"3E C6 4C 31 8B, Type inconnu\", \"EF 4A CF 20 AF, Type 2\"], \"marker\": {\"color\": [\"#33ffc9\", \"#33ffc9\", \"#C5C5C5\", \"#33ffc9\", \"#33ffc9\", \"#33ffc9\", \"#33ffc9\", \"#B3D9FF\", \"#B3D9FF\", \"#C5C5C5\", \"#33ffc9\", \"#33ffc9\", \"#C5C5C5\", \"#33ffc9\", \"#33ffc9\", \"#C5C5C5\", \"#33ffc9\", \"#33ffc9\", \"#33ffc9\", \"#33ffc9\", \"#33ffc9\", \"#33ffc9\", \"#B3D9FF\", \"#33ffc9\", \"#33ffc9\", \"#B3D9FF\", \"#C5C5C5\", \"#B3D9FF\", \"#B3D9FF\", \"#B3D9FF\", \"#B3D9FF\", \"#B3D9FF\", \"#33ffc9\", \"#B3D9FF\", \"#B3D9FF\", \"#33ffc9\", \"#C5C5C5\", \"#B3D9FF\", \"#B3D9FF\", \"#C5C5C5\", \"#B3D9FF\", \"#B3D9FF\", \"#C5C5C5\", \"#B3D9FF\", \"#C5C5C5\", \"#B3D9FF\", \"#B3D9FF\", \"#B3D9FF\", \"#C5C5C5\", \"#B3D9FF\", \"#C5C5C5\", \"#B3D9FF\", \"#B3D9FF\", \"#B3D9FF\", \"#C5C5C5\", \"#B3D9FF\"], \"size\": 10}, \"mode\": \"markers+text\", \"type\": \"scatter\", \"x\": [18.0, 19.0, 20.0, 20.0, 21.0, 23.0, 25.0, 25.0, 26.0, 27.0, 27.0, 28.0, 28.0, 28.0, 28.0, 30.0, 30.0, 31.0, 31.0, 32.0, 34.0, 34.0, 35.0, 35.0, 36.0, 36.0, 37.0, 38.0, 38.0, 38.0, 40.0, 40.0, 41.0, 42.0, 43.0, 44.0, 44.0, 45.0, 46.0, 47.0, 48.0, 52.0, 55.0, 57.0, 57.0, 59.0, 59.0, 59.0, 60.0, 60.0, 62.0, 64.0, 67.0, 72.0, 74.0, 74.0], \"xaxis\": \"x5\", \"y\": [80.0, 86.0, 80.0, 94.0, 114.0, 112.0, null, 56.0, 96.0, 114.0, null, 84.0, 108.0, 104.0, null, 92.0, 90.0, 82.0, 82.0, 120.0, 88.0, 114.0, 106.0, 102.0, 94.0, 110.0, 108.0, 122.0, 106.0, 112.0, 118.0, null, 72.0, 86.0, 116.0, 92.0, 104.0, 96.0, 118.0, 102.0, 120.0, null, 108.0, 116.0, null, null, null, null, 96.0, null, null, null, null, null, null, null], \"yaxis\": \"y5\"}, {\"hovertext\": [\"EF 2E 22 E0 EA, Type 1\", \"B6 A4 CD 3A 81, Type 1\", \"76 A2 26 6F C7, Type inconnu\", \"C2 C3 05 A8 4B, Type 1\", \"39 CA BD 3C 82, Type 1\", \"7B DE 78 5B F6, Type 1\", \"9B 8E 44 F8 FF, Type 1\", \"EA 6F FF DE 42, Type 2\", \"90 01 09 71 F0, Type 2\", \"39 35 88 38 7B, Type inconnu\", \"35 86 13 56 24, Type 1\", \"AB A5 ED 43 8B, Type 1\", \"81 03 8C 07 58, Type inconnu\", \"7D 76 3D FC 91, Type 1\", \"73 EC 1B D7 9B, Type 1\", \"48 84 25 4A E0, Type inconnu\", \"01 83 17 5E 89, Type 1\", \"B9 5D 22 14 86, Type 1\", \"A1 54 32 B1 53, Type 1\", \"FD 11 B7 CF 8F, Type 1\", \"DB 6B 59 3A 0C, Type 1\", \"F1 C2 1C 3A FC, Type 1\", \"31 19 64 3D 10, Type 2\", \"98 2C 1A AA 87, Type 1\", \"A2 D7 D0 A4 2A, Type 1\", \"D7 FC 44 05 CA, Type 2\", \"8A A0 53 AC 37, Type inconnu\", \"8A 77 B8 09 AD, Type 2\", \"02 88 A7 94 50, Type 2\", \"64 0B 1B 0A 45, Type 2\", \"51 B7 6E C2 FD, Type 2\", \"A4 03 5A F0 57, Type 2\", \"02 92 7B FF E6, Type 1\", \"90 A6 58 8A AD, Type 2\", \"F5 E4 FD A4 9F, Type 2\", \"06 25 B6 B7 F5, Type 1\", \"47 09 1C 5F 94, Type inconnu\", \"76 8F 56 DE 15, Type 2\", \"3D F6 5A B4 9D, Type 2\", \"3F 34 F5 32 80, Type inconnu\", \"A6 FD C4 C0 69, Type 2\", \"4F 9C 21 D3 31, Type 2\", \"4B 6C 17 74 29, Type inconnu\", \"94 EB 19 B7 18, Type 2\", \"12 A8 8F 3F 67, Type inconnu\", \"19 01 73 04 E2, Type 2\", \"A2 C1 35 C2 8C, Type 2\", \"0F 30 93 5E 0E, Type 2\", \"81 DB 14 CC 21, Type inconnu\", \"CA A2 77 FC 22, Type 2\", \"96 B8 5B 6F 8F, Type inconnu\", \"96 DD DC FE E3, Type 2\", \"21 36 06 E2 38, Type 2\", \"B7 CA E8 BC 99, Type 2\", \"3E C6 4C 31 8B, Type inconnu\", \"EF 4A CF 20 AF, Type 2\"], \"marker\": {\"color\": [\"#33ffc9\", \"#33ffc9\", \"#C5C5C5\", \"#33ffc9\", \"#33ffc9\", \"#33ffc9\", \"#33ffc9\", \"#B3D9FF\", \"#B3D9FF\", \"#C5C5C5\", \"#33ffc9\", \"#33ffc9\", \"#C5C5C5\", \"#33ffc9\", \"#33ffc9\", \"#C5C5C5\", \"#33ffc9\", \"#33ffc9\", \"#33ffc9\", \"#33ffc9\", \"#33ffc9\", \"#33ffc9\", \"#B3D9FF\", \"#33ffc9\", \"#33ffc9\", \"#B3D9FF\", \"#C5C5C5\", \"#B3D9FF\", \"#B3D9FF\", \"#B3D9FF\", \"#B3D9FF\", \"#B3D9FF\", \"#33ffc9\", \"#B3D9FF\", \"#B3D9FF\", \"#33ffc9\", \"#C5C5C5\", \"#B3D9FF\", \"#B3D9FF\", \"#C5C5C5\", \"#B3D9FF\", \"#B3D9FF\", \"#C5C5C5\", \"#B3D9FF\", \"#C5C5C5\", \"#B3D9FF\", \"#B3D9FF\", \"#B3D9FF\", \"#C5C5C5\", \"#B3D9FF\", \"#C5C5C5\", \"#B3D9FF\", \"#B3D9FF\", \"#B3D9FF\", \"#C5C5C5\", \"#B3D9FF\"], \"size\": 10}, \"mode\": \"markers+text\", \"type\": \"scatter\", \"x\": [18.0, 19.0, 20.0, 20.0, 21.0, 23.0, 25.0, 25.0, 26.0, 27.0, 27.0, 28.0, 28.0, 28.0, 28.0, 30.0, 30.0, 31.0, 31.0, 32.0, 34.0, 34.0, 35.0, 35.0, 36.0, 36.0, 37.0, 38.0, 38.0, 38.0, 40.0, 40.0, 41.0, 42.0, 43.0, 44.0, 44.0, 45.0, 46.0, 47.0, 48.0, 52.0, 55.0, 57.0, 57.0, 59.0, 59.0, 59.0, 60.0, 60.0, 62.0, 64.0, 67.0, 72.0, 74.0, 74.0], \"xaxis\": \"x6\", \"y\": [9.0, 18.0, 9.0, 34.0, 82.0, 79.0, null, 0.0, 39.0, 82.0, null, 14.0, 70.0, 61.0, null, 30.0, 25.0, 12.0, 12.0, 91.0, 21.0, 82.0, 66.0, 55.0, 34.0, 75.0, 70.0, 93.0, 66.0, 79.0, 88.0, null, 3.0, 18.0, 86.0, 30.0, 61.0, 39.0, 88.0, 55.0, 91.0, null, 70.0, 86.0, null, null, null, null, 39.0, null, null, null, null, null, null, null], \"yaxis\": \"y6\"}, {\"hovertext\": [\"EF 2E 22 E0 EA, Type 1\", \"B6 A4 CD 3A 81, Type 1\", \"76 A2 26 6F C7, Type inconnu\", \"C2 C3 05 A8 4B, Type 1\", \"39 CA BD 3C 82, Type 1\", \"7B DE 78 5B F6, Type 1\", \"9B 8E 44 F8 FF, Type 1\", \"EA 6F FF DE 42, Type 2\", \"90 01 09 71 F0, Type 2\", \"39 35 88 38 7B, Type inconnu\", \"35 86 13 56 24, Type 1\", \"AB A5 ED 43 8B, Type 1\", \"81 03 8C 07 58, Type inconnu\", \"7D 76 3D FC 91, Type 1\", \"73 EC 1B D7 9B, Type 1\", \"48 84 25 4A E0, Type inconnu\", \"01 83 17 5E 89, Type 1\", \"B9 5D 22 14 86, Type 1\", \"A1 54 32 B1 53, Type 1\", \"FD 11 B7 CF 8F, Type 1\", \"DB 6B 59 3A 0C, Type 1\", \"F1 C2 1C 3A FC, Type 1\", \"31 19 64 3D 10, Type 2\", \"98 2C 1A AA 87, Type 1\", \"A2 D7 D0 A4 2A, Type 1\", \"D7 FC 44 05 CA, Type 2\", \"8A A0 53 AC 37, Type inconnu\", \"8A 77 B8 09 AD, Type 2\", \"02 88 A7 94 50, Type 2\", \"64 0B 1B 0A 45, Type 2\", \"51 B7 6E C2 FD, Type 2\", \"A4 03 5A F0 57, Type 2\", \"02 92 7B FF E6, Type 1\", \"90 A6 58 8A AD, Type 2\", \"F5 E4 FD A4 9F, Type 2\", \"06 25 B6 B7 F5, Type 1\", \"47 09 1C 5F 94, Type inconnu\", \"76 8F 56 DE 15, Type 2\", \"3D F6 5A B4 9D, Type 2\", \"3F 34 F5 32 80, Type inconnu\", \"A6 FD C4 C0 69, Type 2\", \"4F 9C 21 D3 31, Type 2\", \"4B 6C 17 74 29, Type inconnu\", \"94 EB 19 B7 18, Type 2\", \"12 A8 8F 3F 67, Type inconnu\", \"19 01 73 04 E2, Type 2\", \"A2 C1 35 C2 8C, Type 2\", \"0F 30 93 5E 0E, Type 2\", \"81 DB 14 CC 21, Type inconnu\", \"CA A2 77 FC 22, Type 2\", \"96 B8 5B 6F 8F, Type inconnu\", \"96 DD DC FE E3, Type 2\", \"21 36 06 E2 38, Type 2\", \"B7 CA E8 BC 99, Type 2\", \"3E C6 4C 31 8B, Type inconnu\", \"EF 4A CF 20 AF, Type 2\"], \"marker\": {\"color\": [\"#33ffc9\", \"#33ffc9\", \"#C5C5C5\", \"#33ffc9\", \"#33ffc9\", \"#33ffc9\", \"#33ffc9\", \"#B3D9FF\", \"#B3D9FF\", \"#C5C5C5\", \"#33ffc9\", \"#33ffc9\", \"#C5C5C5\", \"#33ffc9\", \"#33ffc9\", \"#C5C5C5\", \"#33ffc9\", \"#33ffc9\", \"#33ffc9\", \"#33ffc9\", \"#33ffc9\", \"#33ffc9\", \"#B3D9FF\", \"#33ffc9\", \"#33ffc9\", \"#B3D9FF\", \"#C5C5C5\", \"#B3D9FF\", \"#B3D9FF\", \"#B3D9FF\", \"#B3D9FF\", \"#B3D9FF\", \"#33ffc9\", \"#B3D9FF\", \"#B3D9FF\", \"#33ffc9\", \"#C5C5C5\", \"#B3D9FF\", \"#B3D9FF\", \"#C5C5C5\", \"#B3D9FF\", \"#B3D9FF\", \"#C5C5C5\", \"#B3D9FF\", \"#C5C5C5\", \"#B3D9FF\", \"#B3D9FF\", \"#B3D9FF\", \"#C5C5C5\", \"#B3D9FF\", \"#C5C5C5\", \"#B3D9FF\", \"#B3D9FF\", \"#B3D9FF\", \"#C5C5C5\", \"#B3D9FF\"], \"size\": 10}, \"mode\": \"markers+text\", \"type\": \"scatter\", \"x\": [18.0, 19.0, 20.0, 20.0, 21.0, 23.0, 25.0, 25.0, 26.0, 27.0, 27.0, 28.0, 28.0, 28.0, 28.0, 30.0, 30.0, 31.0, 31.0, 32.0, 34.0, 34.0, 35.0, 35.0, 36.0, 36.0, 37.0, 38.0, 38.0, 38.0, 40.0, 40.0, 41.0, 42.0, 43.0, 44.0, 44.0, 45.0, 46.0, 47.0, 48.0, 52.0, 55.0, 57.0, 57.0, 59.0, 59.0, 59.0, 60.0, 60.0, 62.0, 64.0, 67.0, 72.0, 74.0, 74.0], \"xaxis\": \"x7\", \"y\": [75.0, 80.0, 75.0, 88.0, 107.0, 105.0, null, 52.0, 90.0, 107.0, null, 79.0, 101.0, 97.0, null, 86.0, 84.0, 77.0, 77.0, 113.0, 82.0, 107.0, 99.0, 96.0, 88.0, 103.0, 101.0, 115.0, 99.0, 105.0, 111.0, null, 67.0, 80.0, 109.0, 86.0, 97.0, 90.0, 111.0, 96.0, 113.0, null, 101.0, 109.0, null, null, null, null, 90.0, null, null, null, null, null, null, null], \"yaxis\": \"y7\"}, {\"hovertext\": [\"EF 2E 22 E0 EA, Type 1\", \"B6 A4 CD 3A 81, Type 1\", \"76 A2 26 6F C7, Type inconnu\", \"C2 C3 05 A8 4B, Type 1\", \"39 CA BD 3C 82, Type 1\", \"7B DE 78 5B F6, Type 1\", \"9B 8E 44 F8 FF, Type 1\", \"EA 6F FF DE 42, Type 2\", \"90 01 09 71 F0, Type 2\", \"39 35 88 38 7B, Type inconnu\", \"35 86 13 56 24, Type 1\", \"AB A5 ED 43 8B, Type 1\", \"81 03 8C 07 58, Type inconnu\", \"7D 76 3D FC 91, Type 1\", \"73 EC 1B D7 9B, Type 1\", \"48 84 25 4A E0, Type inconnu\", \"01 83 17 5E 89, Type 1\", \"B9 5D 22 14 86, Type 1\", \"A1 54 32 B1 53, Type 1\", \"FD 11 B7 CF 8F, Type 1\", \"DB 6B 59 3A 0C, Type 1\", \"F1 C2 1C 3A FC, Type 1\", \"31 19 64 3D 10, Type 2\", \"98 2C 1A AA 87, Type 1\", \"A2 D7 D0 A4 2A, Type 1\", \"D7 FC 44 05 CA, Type 2\", \"8A A0 53 AC 37, Type inconnu\", \"8A 77 B8 09 AD, Type 2\", \"02 88 A7 94 50, Type 2\", \"64 0B 1B 0A 45, Type 2\", \"51 B7 6E C2 FD, Type 2\", \"A4 03 5A F0 57, Type 2\", \"02 92 7B FF E6, Type 1\", \"90 A6 58 8A AD, Type 2\", \"F5 E4 FD A4 9F, Type 2\", \"06 25 B6 B7 F5, Type 1\", \"47 09 1C 5F 94, Type inconnu\", \"76 8F 56 DE 15, Type 2\", \"3D F6 5A B4 9D, Type 2\", \"3F 34 F5 32 80, Type inconnu\", \"A6 FD C4 C0 69, Type 2\", \"4F 9C 21 D3 31, Type 2\", \"4B 6C 17 74 29, Type inconnu\", \"94 EB 19 B7 18, Type 2\", \"12 A8 8F 3F 67, Type inconnu\", \"19 01 73 04 E2, Type 2\", \"A2 C1 35 C2 8C, Type 2\", \"0F 30 93 5E 0E, Type 2\", \"81 DB 14 CC 21, Type inconnu\", \"CA A2 77 FC 22, Type 2\", \"96 B8 5B 6F 8F, Type inconnu\", \"96 DD DC FE E3, Type 2\", \"21 36 06 E2 38, Type 2\", \"B7 CA E8 BC 99, Type 2\", \"3E C6 4C 31 8B, Type inconnu\", \"EF 4A CF 20 AF, Type 2\"], \"marker\": {\"color\": [\"#33ffc9\", \"#33ffc9\", \"#C5C5C5\", \"#33ffc9\", \"#33ffc9\", \"#33ffc9\", \"#33ffc9\", \"#B3D9FF\", \"#B3D9FF\", \"#C5C5C5\", \"#33ffc9\", \"#33ffc9\", \"#C5C5C5\", \"#33ffc9\", \"#33ffc9\", \"#C5C5C5\", \"#33ffc9\", \"#33ffc9\", \"#33ffc9\", \"#33ffc9\", \"#33ffc9\", \"#33ffc9\", \"#B3D9FF\", \"#33ffc9\", \"#33ffc9\", \"#B3D9FF\", \"#C5C5C5\", \"#B3D9FF\", \"#B3D9FF\", \"#B3D9FF\", \"#B3D9FF\", \"#B3D9FF\", \"#33ffc9\", \"#B3D9FF\", \"#B3D9FF\", \"#33ffc9\", \"#C5C5C5\", \"#B3D9FF\", \"#B3D9FF\", \"#C5C5C5\", \"#B3D9FF\", \"#B3D9FF\", \"#C5C5C5\", \"#B3D9FF\", \"#C5C5C5\", \"#B3D9FF\", \"#B3D9FF\", \"#B3D9FF\", \"#C5C5C5\", \"#B3D9FF\", \"#C5C5C5\", \"#B3D9FF\", \"#B3D9FF\", \"#B3D9FF\", \"#C5C5C5\", \"#B3D9FF\"], \"size\": 10}, \"mode\": \"markers+text\", \"type\": \"scatter\", \"x\": [18.0, 19.0, 20.0, 20.0, 21.0, 23.0, 25.0, 25.0, 26.0, 27.0, 27.0, 28.0, 28.0, 28.0, 28.0, 30.0, 30.0, 31.0, 31.0, 32.0, 34.0, 34.0, 35.0, 35.0, 36.0, 36.0, 37.0, 38.0, 38.0, 38.0, 40.0, 40.0, 41.0, 42.0, 43.0, 44.0, 44.0, 45.0, 46.0, 47.0, 48.0, 52.0, 55.0, 57.0, 57.0, 59.0, 59.0, 59.0, 60.0, 60.0, 62.0, 64.0, 67.0, 72.0, 74.0, 74.0], \"xaxis\": \"x8\", \"y\": [87.0, 83.0, 87.0, 101.0, 120.0, 118.0, null, 65.0, 103.0, 120.0, null, 91.0, 114.0, 110.0, null, 99.0, 97.0, 89.0, 89.0, 125.0, 95.0, 120.0, 112.0, 108.0, 101.0, 116.0, 114.0, 127.0, 112.0, 118.0, 123.0, null, 80.0, 93.0, 121.0, 99.0, 100.0, 103.0, 123.0, 108.0, 125.0, null, 114.0, 121.0, null, null, null, null, 103.0, null, null, null, null, null, null, null], \"yaxis\": \"y8\"}],\n",
       "                        {\"annotations\": [{\"font\": {\"size\": 16}, \"showarrow\": false, \"text\": \"Note standard Cubes\", \"x\": 0.225, \"xanchor\": \"center\", \"xref\": \"paper\", \"y\": 1.0, \"yanchor\": \"bottom\", \"yref\": \"paper\"}, {\"font\": {\"size\": 16}, \"showarrow\": false, \"text\": \"Note standard Matrices\", \"x\": 0.775, \"xanchor\": \"center\", \"xref\": \"paper\", \"y\": 1.0, \"yanchor\": \"bottom\", \"yref\": \"paper\"}, {\"font\": {\"size\": 16}, \"showarrow\": false, \"text\": \"Note standard Puzzles visuels\", \"x\": 0.225, \"xanchor\": \"center\", \"xref\": \"paper\", \"y\": 0.74, \"yanchor\": \"bottom\", \"yref\": \"paper\"}, {\"font\": {\"size\": 16}, \"showarrow\": false, \"text\": \"Total des notes standards IRP\", \"x\": 0.775, \"xanchor\": \"center\", \"xref\": \"paper\", \"y\": 0.74, \"yanchor\": \"bottom\", \"yref\": \"paper\"}, {\"font\": {\"size\": 16}, \"showarrow\": false, \"text\": \"Note composite IRP\", \"x\": 0.225, \"xanchor\": \"center\", \"xref\": \"paper\", \"y\": 0.48, \"yanchor\": \"bottom\", \"yref\": \"paper\"}, {\"font\": {\"size\": 16}, \"showarrow\": false, \"text\": \"Rang percentile IRP\", \"x\": 0.775, \"xanchor\": \"center\", \"xref\": \"paper\", \"y\": 0.48, \"yanchor\": \"bottom\", \"yref\": \"paper\"}, {\"font\": {\"size\": 16}, \"showarrow\": false, \"text\": \"Note \\u00e9cart type inf\\u00e9rieure IRP\", \"x\": 0.225, \"xanchor\": \"center\", \"xref\": \"paper\", \"y\": 0.22, \"yanchor\": \"bottom\", \"yref\": \"paper\"}, {\"font\": {\"size\": 16}, \"showarrow\": false, \"text\": \"Note \\u00e9cart type sup\\u00e9rieure IRP\", \"x\": 0.775, \"xanchor\": \"center\", \"xref\": \"paper\", \"y\": 0.22, \"yanchor\": \"bottom\", \"yref\": \"paper\"}, {\"font\": {\"size\": 16}, \"showarrow\": false, \"text\": \"\\u00c2ge\", \"x\": 0.5, \"xanchor\": \"center\", \"xref\": \"paper\", \"y\": 0, \"yanchor\": \"top\", \"yref\": \"paper\", \"yshift\": -30}, {\"font\": {\"size\": 16}, \"showarrow\": false, \"text\": \"Score\", \"textangle\": -90, \"x\": 0, \"xanchor\": \"right\", \"xref\": \"paper\", \"xshift\": -40, \"y\": 0.5, \"yanchor\": \"middle\", \"yref\": \"paper\"}], \"height\": 1500, \"showlegend\": false, \"template\": {\"data\": {\"bar\": [{\"error_x\": {\"color\": \"#2a3f5f\"}, \"error_y\": {\"color\": \"#2a3f5f\"}, \"marker\": {\"line\": {\"color\": \"#E5ECF6\", \"width\": 0.5}}, \"type\": \"bar\"}], \"barpolar\": [{\"marker\": {\"line\": {\"color\": \"#E5ECF6\", \"width\": 0.5}}, \"type\": \"barpolar\"}], \"carpet\": [{\"aaxis\": {\"endlinecolor\": \"#2a3f5f\", \"gridcolor\": \"white\", \"linecolor\": \"white\", \"minorgridcolor\": \"white\", \"startlinecolor\": \"#2a3f5f\"}, \"baxis\": {\"endlinecolor\": \"#2a3f5f\", \"gridcolor\": \"white\", \"linecolor\": \"white\", \"minorgridcolor\": \"white\", \"startlinecolor\": \"#2a3f5f\"}, \"type\": \"carpet\"}], \"choropleth\": [{\"colorbar\": {\"outlinewidth\": 0, \"ticks\": \"\"}, \"type\": \"choropleth\"}], \"contour\": [{\"colorbar\": {\"outlinewidth\": 0, \"ticks\": \"\"}, \"colorscale\": [[0.0, \"#0d0887\"], [0.1111111111111111, \"#46039f\"], [0.2222222222222222, \"#7201a8\"], [0.3333333333333333, \"#9c179e\"], [0.4444444444444444, \"#bd3786\"], [0.5555555555555556, \"#d8576b\"], [0.6666666666666666, \"#ed7953\"], [0.7777777777777778, \"#fb9f3a\"], [0.8888888888888888, \"#fdca26\"], [1.0, \"#f0f921\"]], \"type\": \"contour\"}], \"contourcarpet\": [{\"colorbar\": {\"outlinewidth\": 0, \"ticks\": \"\"}, \"type\": \"contourcarpet\"}], \"heatmap\": [{\"colorbar\": {\"outlinewidth\": 0, \"ticks\": \"\"}, \"colorscale\": [[0.0, \"#0d0887\"], [0.1111111111111111, \"#46039f\"], [0.2222222222222222, \"#7201a8\"], [0.3333333333333333, \"#9c179e\"], [0.4444444444444444, \"#bd3786\"], [0.5555555555555556, \"#d8576b\"], [0.6666666666666666, \"#ed7953\"], [0.7777777777777778, \"#fb9f3a\"], [0.8888888888888888, \"#fdca26\"], [1.0, \"#f0f921\"]], \"type\": \"heatmap\"}], \"heatmapgl\": [{\"colorbar\": {\"outlinewidth\": 0, \"ticks\": \"\"}, \"colorscale\": [[0.0, \"#0d0887\"], [0.1111111111111111, \"#46039f\"], [0.2222222222222222, \"#7201a8\"], [0.3333333333333333, \"#9c179e\"], [0.4444444444444444, \"#bd3786\"], [0.5555555555555556, \"#d8576b\"], [0.6666666666666666, \"#ed7953\"], [0.7777777777777778, \"#fb9f3a\"], [0.8888888888888888, \"#fdca26\"], [1.0, \"#f0f921\"]], \"type\": \"heatmapgl\"}], \"histogram\": [{\"marker\": {\"colorbar\": {\"outlinewidth\": 0, \"ticks\": \"\"}}, \"type\": \"histogram\"}], \"histogram2d\": [{\"colorbar\": {\"outlinewidth\": 0, \"ticks\": \"\"}, \"colorscale\": [[0.0, \"#0d0887\"], [0.1111111111111111, \"#46039f\"], [0.2222222222222222, \"#7201a8\"], [0.3333333333333333, \"#9c179e\"], [0.4444444444444444, \"#bd3786\"], [0.5555555555555556, \"#d8576b\"], [0.6666666666666666, \"#ed7953\"], [0.7777777777777778, \"#fb9f3a\"], [0.8888888888888888, \"#fdca26\"], [1.0, \"#f0f921\"]], \"type\": \"histogram2d\"}], \"histogram2dcontour\": [{\"colorbar\": {\"outlinewidth\": 0, \"ticks\": \"\"}, \"colorscale\": [[0.0, \"#0d0887\"], [0.1111111111111111, \"#46039f\"], [0.2222222222222222, \"#7201a8\"], [0.3333333333333333, \"#9c179e\"], [0.4444444444444444, \"#bd3786\"], [0.5555555555555556, \"#d8576b\"], [0.6666666666666666, \"#ed7953\"], [0.7777777777777778, \"#fb9f3a\"], [0.8888888888888888, \"#fdca26\"], [1.0, \"#f0f921\"]], \"type\": \"histogram2dcontour\"}], \"mesh3d\": [{\"colorbar\": {\"outlinewidth\": 0, \"ticks\": \"\"}, \"type\": \"mesh3d\"}], \"parcoords\": [{\"line\": {\"colorbar\": {\"outlinewidth\": 0, \"ticks\": \"\"}}, \"type\": \"parcoords\"}], \"pie\": [{\"automargin\": true, \"type\": \"pie\"}], \"scatter\": [{\"marker\": {\"colorbar\": {\"outlinewidth\": 0, \"ticks\": \"\"}}, \"type\": \"scatter\"}], \"scatter3d\": [{\"line\": {\"colorbar\": {\"outlinewidth\": 0, \"ticks\": \"\"}}, \"marker\": {\"colorbar\": {\"outlinewidth\": 0, \"ticks\": \"\"}}, \"type\": \"scatter3d\"}], \"scattercarpet\": [{\"marker\": {\"colorbar\": {\"outlinewidth\": 0, \"ticks\": \"\"}}, \"type\": \"scattercarpet\"}], \"scattergeo\": [{\"marker\": {\"colorbar\": {\"outlinewidth\": 0, \"ticks\": \"\"}}, \"type\": \"scattergeo\"}], \"scattergl\": [{\"marker\": {\"colorbar\": {\"outlinewidth\": 0, \"ticks\": \"\"}}, \"type\": \"scattergl\"}], \"scattermapbox\": [{\"marker\": {\"colorbar\": {\"outlinewidth\": 0, \"ticks\": \"\"}}, \"type\": \"scattermapbox\"}], \"scatterpolar\": [{\"marker\": {\"colorbar\": {\"outlinewidth\": 0, \"ticks\": \"\"}}, \"type\": \"scatterpolar\"}], \"scatterpolargl\": [{\"marker\": {\"colorbar\": {\"outlinewidth\": 0, \"ticks\": \"\"}}, \"type\": \"scatterpolargl\"}], \"scatterternary\": [{\"marker\": {\"colorbar\": {\"outlinewidth\": 0, \"ticks\": \"\"}}, \"type\": \"scatterternary\"}], \"surface\": [{\"colorbar\": {\"outlinewidth\": 0, \"ticks\": \"\"}, \"colorscale\": [[0.0, \"#0d0887\"], [0.1111111111111111, \"#46039f\"], [0.2222222222222222, \"#7201a8\"], [0.3333333333333333, \"#9c179e\"], [0.4444444444444444, \"#bd3786\"], [0.5555555555555556, \"#d8576b\"], [0.6666666666666666, \"#ed7953\"], [0.7777777777777778, \"#fb9f3a\"], [0.8888888888888888, \"#fdca26\"], [1.0, \"#f0f921\"]], \"type\": \"surface\"}], \"table\": [{\"cells\": {\"fill\": {\"color\": \"#EBF0F8\"}, \"line\": {\"color\": \"white\"}}, \"header\": {\"fill\": {\"color\": \"#C8D4E3\"}, \"line\": {\"color\": \"white\"}}, \"type\": \"table\"}]}, \"layout\": {\"annotationdefaults\": {\"arrowcolor\": \"#2a3f5f\", \"arrowhead\": 0, \"arrowwidth\": 1}, \"coloraxis\": {\"colorbar\": {\"outlinewidth\": 0, \"ticks\": \"\"}}, \"colorscale\": {\"diverging\": [[0, \"#8e0152\"], [0.1, \"#c51b7d\"], [0.2, \"#de77ae\"], [0.3, \"#f1b6da\"], [0.4, \"#fde0ef\"], [0.5, \"#f7f7f7\"], [0.6, \"#e6f5d0\"], [0.7, \"#b8e186\"], [0.8, \"#7fbc41\"], [0.9, \"#4d9221\"], [1, \"#276419\"]], \"sequential\": [[0.0, \"#0d0887\"], [0.1111111111111111, \"#46039f\"], [0.2222222222222222, \"#7201a8\"], [0.3333333333333333, \"#9c179e\"], [0.4444444444444444, \"#bd3786\"], [0.5555555555555556, \"#d8576b\"], [0.6666666666666666, \"#ed7953\"], [0.7777777777777778, \"#fb9f3a\"], [0.8888888888888888, \"#fdca26\"], [1.0, \"#f0f921\"]], \"sequentialminus\": [[0.0, \"#0d0887\"], [0.1111111111111111, \"#46039f\"], [0.2222222222222222, \"#7201a8\"], [0.3333333333333333, \"#9c179e\"], [0.4444444444444444, \"#bd3786\"], [0.5555555555555556, \"#d8576b\"], [0.6666666666666666, \"#ed7953\"], [0.7777777777777778, \"#fb9f3a\"], [0.8888888888888888, \"#fdca26\"], [1.0, \"#f0f921\"]]}, \"colorway\": [\"#636efa\", \"#EF553B\", \"#00cc96\", \"#ab63fa\", \"#FFA15A\", \"#19d3f3\", \"#FF6692\", \"#B6E880\", \"#FF97FF\", \"#FECB52\"], \"font\": {\"color\": \"#2a3f5f\"}, \"geo\": {\"bgcolor\": \"white\", \"lakecolor\": \"white\", \"landcolor\": \"#E5ECF6\", \"showlakes\": true, \"showland\": true, \"subunitcolor\": \"white\"}, \"hoverlabel\": {\"align\": \"left\"}, \"hovermode\": \"closest\", \"mapbox\": {\"style\": \"light\"}, \"paper_bgcolor\": \"white\", \"plot_bgcolor\": \"#E5ECF6\", \"polar\": {\"angularaxis\": {\"gridcolor\": \"white\", \"linecolor\": \"white\", \"ticks\": \"\"}, \"bgcolor\": \"#E5ECF6\", \"radialaxis\": {\"gridcolor\": \"white\", \"linecolor\": \"white\", \"ticks\": \"\"}}, \"scene\": {\"xaxis\": {\"backgroundcolor\": \"#E5ECF6\", \"gridcolor\": \"white\", \"gridwidth\": 2, \"linecolor\": \"white\", \"showbackground\": true, \"ticks\": \"\", \"zerolinecolor\": \"white\"}, \"yaxis\": {\"backgroundcolor\": \"#E5ECF6\", \"gridcolor\": \"white\", \"gridwidth\": 2, \"linecolor\": \"white\", \"showbackground\": true, \"ticks\": \"\", \"zerolinecolor\": \"white\"}, \"zaxis\": {\"backgroundcolor\": \"#E5ECF6\", \"gridcolor\": \"white\", \"gridwidth\": 2, \"linecolor\": \"white\", \"showbackground\": true, \"ticks\": \"\", \"zerolinecolor\": \"white\"}}, \"shapedefaults\": {\"line\": {\"color\": \"#2a3f5f\"}}, \"ternary\": {\"aaxis\": {\"gridcolor\": \"white\", \"linecolor\": \"white\", \"ticks\": \"\"}, \"baxis\": {\"gridcolor\": \"white\", \"linecolor\": \"white\", \"ticks\": \"\"}, \"bgcolor\": \"#E5ECF6\", \"caxis\": {\"gridcolor\": \"white\", \"linecolor\": \"white\", \"ticks\": \"\"}}, \"title\": {\"x\": 0.05}, \"xaxis\": {\"automargin\": true, \"gridcolor\": \"white\", \"linecolor\": \"white\", \"ticks\": \"\", \"title\": {\"standoff\": 15}, \"zerolinecolor\": \"white\", \"zerolinewidth\": 2}, \"yaxis\": {\"automargin\": true, \"gridcolor\": \"white\", \"linecolor\": \"white\", \"ticks\": \"\", \"title\": {\"standoff\": 15}, \"zerolinecolor\": \"white\", \"zerolinewidth\": 2}}}, \"width\": 800, \"xaxis\": {\"anchor\": \"y\", \"domain\": [0.0, 0.45]}, \"xaxis2\": {\"anchor\": \"y2\", \"domain\": [0.55, 1.0]}, \"xaxis3\": {\"anchor\": \"y3\", \"domain\": [0.0, 0.45]}, \"xaxis4\": {\"anchor\": \"y4\", \"domain\": [0.55, 1.0]}, \"xaxis5\": {\"anchor\": \"y5\", \"domain\": [0.0, 0.45]}, \"xaxis6\": {\"anchor\": \"y6\", \"domain\": [0.55, 1.0]}, \"xaxis7\": {\"anchor\": \"y7\", \"domain\": [0.0, 0.45]}, \"xaxis8\": {\"anchor\": \"y8\", \"domain\": [0.55, 1.0]}, \"yaxis\": {\"anchor\": \"x\", \"domain\": [0.78, 1.0]}, \"yaxis2\": {\"anchor\": \"x2\", \"domain\": [0.78, 1.0]}, \"yaxis3\": {\"anchor\": \"x3\", \"domain\": [0.52, 0.74]}, \"yaxis4\": {\"anchor\": \"x4\", \"domain\": [0.52, 0.74]}, \"yaxis5\": {\"anchor\": \"x5\", \"domain\": [0.26, 0.48]}, \"yaxis6\": {\"anchor\": \"x6\", \"domain\": [0.26, 0.48]}, \"yaxis7\": {\"anchor\": \"x7\", \"domain\": [0.0, 0.22]}, \"yaxis8\": {\"anchor\": \"x8\", \"domain\": [0.0, 0.22]}},\n",
       "                        {\"responsive\": true}\n",
       "                    ).then(function(){\n",
       "                            \n",
       "var gd = document.getElementById('f8a9a4da-b72f-4f87-945e-999c7d09aa71');\n",
       "var x = new MutationObserver(function (mutations, observer) {{\n",
       "        var display = window.getComputedStyle(gd).display;\n",
       "        if (!display || display === 'none') {{\n",
       "            console.log([gd, 'removed!']);\n",
       "            Plotly.purge(gd);\n",
       "            observer.disconnect();\n",
       "        }}\n",
       "}});\n",
       "\n",
       "// Listen for the removal of the full notebook cells\n",
       "var notebookContainer = gd.closest('#notebook-container');\n",
       "if (notebookContainer) {{\n",
       "    x.observe(notebookContainer, {childList: true});\n",
       "}}\n",
       "\n",
       "// Listen for the clearing of the current output cell\n",
       "var outputEl = gd.closest('.output');\n",
       "if (outputEl) {{\n",
       "    x.observe(outputEl, {childList: true});\n",
       "}}\n",
       "\n",
       "                        })\n",
       "                };\n",
       "                });\n",
       "            </script>\n",
       "        </div>"
      ]
     },
     "metadata": {},
     "output_type": "display_data"
    }
   ],
   "source": [
    "fig_wais_sub.add_trace(go.Scatter(x= df_wais_sub['age'], y=df_wais_sub[subplot_titles[4]], mode=\"markers+text\",\n",
    "            marker={'size': 10, \"color\": df_wais_sub['Type_color'] },\n",
    "            hovertext= df_wais_sub['ID_SECONDAIRE'] +\", \"+ df_wais_sub['Type']),\n",
    "            row=1, col=1)\n",
    "\n",
    "fig_wais_sub.add_trace(go.Scatter(x= df_wais_sub['age'], y=df_wais_sub[subplot_titles[5]], mode=\"markers+text\",\n",
    "            marker={'size': 10, \"color\": df_wais_sub['Type_color'] },\n",
    "            hovertext= df_wais_sub['ID_SECONDAIRE'] +\", \"+ df_wais_sub['Type']),\n",
    "              row=1, col=2)\n",
    "\n",
    "fig_wais_sub.add_trace(go.Scatter(x= df_wais_sub['age'], y=df_wais_sub[subplot_titles[6]], mode=\"markers+text\",\n",
    "            marker={'size': 10, \"color\": df_wais_sub['Type_color'] },\n",
    "            hovertext= df_wais_sub['ID_SECONDAIRE'] +\", \"+ df_wais_sub['Type']),\n",
    "              row=2, col=1)\n",
    "\n",
    "fig_wais_sub.add_trace(go.Scatter(x= df_wais_sub['age'], y=df_wais_sub[subplot_titles[7]], mode=\"markers+text\",\n",
    "            marker={'size': 10, \"color\": df_wais_sub['Type_color'] },\n",
    "            hovertext= df_wais_sub['ID_SECONDAIRE'] +\", \"+ df_wais_sub['Type']),\n",
    "            row=2, col=2)\n",
    "\n",
    "fig_wais_sub.add_trace(go.Scatter(x= df_wais_sub['age'], y=df_wais_sub[subplot_titles[8]], mode=\"markers+text\",\n",
    "            marker={'size': 10, \"color\": df_wais_sub['Type_color'] },\n",
    "            hovertext= df_wais_sub['ID_SECONDAIRE'] +\", \"+ df_wais_sub['Type']),\n",
    "            row=3, col=1)\n",
    "                                                             \n",
    "fig_wais_sub.add_trace(go.Scatter(x= df_wais_sub['age'], y=df_wais_sub[subplot_titles[9]], mode=\"markers+text\",\n",
    "            marker={'size': 10, \"color\": df_wais_sub['Type_color'] },\n",
    "            hovertext= df_wais_sub['ID_SECONDAIRE'] +\", \"+ df_wais_sub['Type']),\n",
    "            row=3, col=2)\n",
    "    \n",
    "fig_wais_sub.add_trace(go.Scatter(x= df_wais_sub['age'], y=df_wais_sub[subplot_titles[10]], mode=\"markers+text\",\n",
    "            marker={'size': 10, \"color\": df_wais_sub['Type_color'] },\n",
    "            hovertext= df_wais_sub['ID_SECONDAIRE'] +\", \"+ df_wais_sub['Type']),\n",
    "            row=4, col=1)\n",
    "    \n",
    "fig_wais_sub.add_trace(go.Scatter(x= df_wais_sub['age'], y=df_wais_sub[subplot_titles[11]], mode=\"markers+text\",\n",
    "            marker={'size': 10, \"color\": df_wais_sub['Type_color'] },\n",
    "            hovertext= df_wais_sub['ID_SECONDAIRE'] +\", \"+ df_wais_sub['Type']),\n",
    "            row=4, col=2)\n",
    "    \n",
    "fig_wais_sub.update_layout(height=1500, width=800,\n",
    "                   showlegend=False\n",
    "            )"
   ]
  },
  {
   "cell_type": "code",
   "execution_count": 358,
   "metadata": {
    "ExecuteTime": {
     "end_time": "2020-05-13T14:20:06.777046Z",
     "start_time": "2020-05-13T14:20:06.760834Z"
    }
   },
   "outputs": [],
   "source": [
    "df_wais_sub_agg = df_wais_sub.agg(['min', 'max', 'mean', 'median'])\n",
    "#\n",
    "df_wais_sub_agg.index.name = \"Aggrégation\"\n",
    "df_wais_sub_agg.reset_index(inplace=True)\n",
    "#\n",
    "df_wais_sub_agg = df_wais_sub_agg.replace({'Aggrégation' : {\"min\":\"Min\",\"max\":\"Max\",\"mean\":\"Moyenne\", \"median\":\"Médiane\"}})"
   ]
  },
  {
   "cell_type": "code",
   "execution_count": 359,
   "metadata": {
    "ExecuteTime": {
     "end_time": "2020-05-13T14:20:07.466861Z",
     "start_time": "2020-05-13T14:20:07.463092Z"
    }
   },
   "outputs": [],
   "source": [
    "df_wais_sub_agg = df_wais_sub_agg.drop(columns= ['ID_SECONDAIRE','Type', 'Type_color', 'age' ])"
   ]
  },
  {
   "cell_type": "code",
   "execution_count": 360,
   "metadata": {
    "ExecuteTime": {
     "end_time": "2020-05-13T14:20:08.015606Z",
     "start_time": "2020-05-13T14:20:08.010532Z"
    }
   },
   "outputs": [],
   "source": [
    "df_wais_sub_agg = df_wais_sub_agg.round(2)"
   ]
  },
  {
   "cell_type": "code",
   "execution_count": 361,
   "metadata": {
    "ExecuteTime": {
     "end_time": "2020-05-13T14:20:09.229969Z",
     "start_time": "2020-05-13T14:20:09.222726Z"
    }
   },
   "outputs": [],
   "source": [
    "wais_sub =  go.Table(\n",
    "                header=dict(values=list(df_wais_sub_agg.columns[:]),\n",
    "                align='left'),\n",
    "                cells=dict(values= [df_wais_sub_agg.iloc[:,0], df_wais_sub_agg.iloc[:,1], df_wais_sub_agg.iloc[:,2], df_wais_sub_agg.iloc[:,3]\n",
    "                           , df_wais_sub_agg.iloc[:,4], df_wais_sub_agg.iloc[:,5], df_wais_sub_agg.iloc[:,6], df_wais_sub_agg.iloc[:,7]\n",
    "                           , df_wais_sub_agg.iloc[:,8]], align='left'))"
   ]
  },
  {
   "cell_type": "code",
   "execution_count": 362,
   "metadata": {
    "ExecuteTime": {
     "end_time": "2020-05-13T14:20:10.108224Z",
     "start_time": "2020-05-13T14:20:10.002281Z"
    }
   },
   "outputs": [
    {
     "data": {
      "application/vnd.plotly.v1+json": {
       "config": {
        "plotlyServerURL": "https://plot.ly"
       },
       "data": [
        {
         "cells": {
          "align": "left",
          "values": [
           [
            "Min",
            "Max",
            "Moyenne",
            "Médiane"
           ],
           [
            2,
            17,
            10.48,
            10
           ],
           [
            2,
            14,
            9.04,
            9
           ],
           [
            3,
            15,
            9.88,
            10
           ],
           [
            8,
            41,
            30.02,
            31.5
           ],
           [
            56,
            122,
            100,
            103
           ],
           [
            0,
            93,
            51.55,
            58
           ],
           [
            52,
            115,
            93.7,
            96.5
           ],
           [
            65,
            127,
            105.85,
            108
           ]
          ]
         },
         "header": {
          "align": "left",
          "values": [
           "Aggrégation",
           "Note standard Cubes",
           "Note standard Matrices",
           "Note standard Puzzles visuels",
           "Total des notes standards IRP",
           "Note composite IRP",
           "Rang percentile IRP",
           "Note écart type inférieure IRP",
           "Note écart type supérieure IRP"
          ]
         },
         "type": "table"
        }
       ],
       "layout": {
        "template": {
         "data": {
          "bar": [
           {
            "error_x": {
             "color": "#2a3f5f"
            },
            "error_y": {
             "color": "#2a3f5f"
            },
            "marker": {
             "line": {
              "color": "#E5ECF6",
              "width": 0.5
             }
            },
            "type": "bar"
           }
          ],
          "barpolar": [
           {
            "marker": {
             "line": {
              "color": "#E5ECF6",
              "width": 0.5
             }
            },
            "type": "barpolar"
           }
          ],
          "carpet": [
           {
            "aaxis": {
             "endlinecolor": "#2a3f5f",
             "gridcolor": "white",
             "linecolor": "white",
             "minorgridcolor": "white",
             "startlinecolor": "#2a3f5f"
            },
            "baxis": {
             "endlinecolor": "#2a3f5f",
             "gridcolor": "white",
             "linecolor": "white",
             "minorgridcolor": "white",
             "startlinecolor": "#2a3f5f"
            },
            "type": "carpet"
           }
          ],
          "choropleth": [
           {
            "colorbar": {
             "outlinewidth": 0,
             "ticks": ""
            },
            "type": "choropleth"
           }
          ],
          "contour": [
           {
            "colorbar": {
             "outlinewidth": 0,
             "ticks": ""
            },
            "colorscale": [
             [
              0,
              "#0d0887"
             ],
             [
              0.1111111111111111,
              "#46039f"
             ],
             [
              0.2222222222222222,
              "#7201a8"
             ],
             [
              0.3333333333333333,
              "#9c179e"
             ],
             [
              0.4444444444444444,
              "#bd3786"
             ],
             [
              0.5555555555555556,
              "#d8576b"
             ],
             [
              0.6666666666666666,
              "#ed7953"
             ],
             [
              0.7777777777777778,
              "#fb9f3a"
             ],
             [
              0.8888888888888888,
              "#fdca26"
             ],
             [
              1,
              "#f0f921"
             ]
            ],
            "type": "contour"
           }
          ],
          "contourcarpet": [
           {
            "colorbar": {
             "outlinewidth": 0,
             "ticks": ""
            },
            "type": "contourcarpet"
           }
          ],
          "heatmap": [
           {
            "colorbar": {
             "outlinewidth": 0,
             "ticks": ""
            },
            "colorscale": [
             [
              0,
              "#0d0887"
             ],
             [
              0.1111111111111111,
              "#46039f"
             ],
             [
              0.2222222222222222,
              "#7201a8"
             ],
             [
              0.3333333333333333,
              "#9c179e"
             ],
             [
              0.4444444444444444,
              "#bd3786"
             ],
             [
              0.5555555555555556,
              "#d8576b"
             ],
             [
              0.6666666666666666,
              "#ed7953"
             ],
             [
              0.7777777777777778,
              "#fb9f3a"
             ],
             [
              0.8888888888888888,
              "#fdca26"
             ],
             [
              1,
              "#f0f921"
             ]
            ],
            "type": "heatmap"
           }
          ],
          "heatmapgl": [
           {
            "colorbar": {
             "outlinewidth": 0,
             "ticks": ""
            },
            "colorscale": [
             [
              0,
              "#0d0887"
             ],
             [
              0.1111111111111111,
              "#46039f"
             ],
             [
              0.2222222222222222,
              "#7201a8"
             ],
             [
              0.3333333333333333,
              "#9c179e"
             ],
             [
              0.4444444444444444,
              "#bd3786"
             ],
             [
              0.5555555555555556,
              "#d8576b"
             ],
             [
              0.6666666666666666,
              "#ed7953"
             ],
             [
              0.7777777777777778,
              "#fb9f3a"
             ],
             [
              0.8888888888888888,
              "#fdca26"
             ],
             [
              1,
              "#f0f921"
             ]
            ],
            "type": "heatmapgl"
           }
          ],
          "histogram": [
           {
            "marker": {
             "colorbar": {
              "outlinewidth": 0,
              "ticks": ""
             }
            },
            "type": "histogram"
           }
          ],
          "histogram2d": [
           {
            "colorbar": {
             "outlinewidth": 0,
             "ticks": ""
            },
            "colorscale": [
             [
              0,
              "#0d0887"
             ],
             [
              0.1111111111111111,
              "#46039f"
             ],
             [
              0.2222222222222222,
              "#7201a8"
             ],
             [
              0.3333333333333333,
              "#9c179e"
             ],
             [
              0.4444444444444444,
              "#bd3786"
             ],
             [
              0.5555555555555556,
              "#d8576b"
             ],
             [
              0.6666666666666666,
              "#ed7953"
             ],
             [
              0.7777777777777778,
              "#fb9f3a"
             ],
             [
              0.8888888888888888,
              "#fdca26"
             ],
             [
              1,
              "#f0f921"
             ]
            ],
            "type": "histogram2d"
           }
          ],
          "histogram2dcontour": [
           {
            "colorbar": {
             "outlinewidth": 0,
             "ticks": ""
            },
            "colorscale": [
             [
              0,
              "#0d0887"
             ],
             [
              0.1111111111111111,
              "#46039f"
             ],
             [
              0.2222222222222222,
              "#7201a8"
             ],
             [
              0.3333333333333333,
              "#9c179e"
             ],
             [
              0.4444444444444444,
              "#bd3786"
             ],
             [
              0.5555555555555556,
              "#d8576b"
             ],
             [
              0.6666666666666666,
              "#ed7953"
             ],
             [
              0.7777777777777778,
              "#fb9f3a"
             ],
             [
              0.8888888888888888,
              "#fdca26"
             ],
             [
              1,
              "#f0f921"
             ]
            ],
            "type": "histogram2dcontour"
           }
          ],
          "mesh3d": [
           {
            "colorbar": {
             "outlinewidth": 0,
             "ticks": ""
            },
            "type": "mesh3d"
           }
          ],
          "parcoords": [
           {
            "line": {
             "colorbar": {
              "outlinewidth": 0,
              "ticks": ""
             }
            },
            "type": "parcoords"
           }
          ],
          "pie": [
           {
            "automargin": true,
            "type": "pie"
           }
          ],
          "scatter": [
           {
            "marker": {
             "colorbar": {
              "outlinewidth": 0,
              "ticks": ""
             }
            },
            "type": "scatter"
           }
          ],
          "scatter3d": [
           {
            "line": {
             "colorbar": {
              "outlinewidth": 0,
              "ticks": ""
             }
            },
            "marker": {
             "colorbar": {
              "outlinewidth": 0,
              "ticks": ""
             }
            },
            "type": "scatter3d"
           }
          ],
          "scattercarpet": [
           {
            "marker": {
             "colorbar": {
              "outlinewidth": 0,
              "ticks": ""
             }
            },
            "type": "scattercarpet"
           }
          ],
          "scattergeo": [
           {
            "marker": {
             "colorbar": {
              "outlinewidth": 0,
              "ticks": ""
             }
            },
            "type": "scattergeo"
           }
          ],
          "scattergl": [
           {
            "marker": {
             "colorbar": {
              "outlinewidth": 0,
              "ticks": ""
             }
            },
            "type": "scattergl"
           }
          ],
          "scattermapbox": [
           {
            "marker": {
             "colorbar": {
              "outlinewidth": 0,
              "ticks": ""
             }
            },
            "type": "scattermapbox"
           }
          ],
          "scatterpolar": [
           {
            "marker": {
             "colorbar": {
              "outlinewidth": 0,
              "ticks": ""
             }
            },
            "type": "scatterpolar"
           }
          ],
          "scatterpolargl": [
           {
            "marker": {
             "colorbar": {
              "outlinewidth": 0,
              "ticks": ""
             }
            },
            "type": "scatterpolargl"
           }
          ],
          "scatterternary": [
           {
            "marker": {
             "colorbar": {
              "outlinewidth": 0,
              "ticks": ""
             }
            },
            "type": "scatterternary"
           }
          ],
          "surface": [
           {
            "colorbar": {
             "outlinewidth": 0,
             "ticks": ""
            },
            "colorscale": [
             [
              0,
              "#0d0887"
             ],
             [
              0.1111111111111111,
              "#46039f"
             ],
             [
              0.2222222222222222,
              "#7201a8"
             ],
             [
              0.3333333333333333,
              "#9c179e"
             ],
             [
              0.4444444444444444,
              "#bd3786"
             ],
             [
              0.5555555555555556,
              "#d8576b"
             ],
             [
              0.6666666666666666,
              "#ed7953"
             ],
             [
              0.7777777777777778,
              "#fb9f3a"
             ],
             [
              0.8888888888888888,
              "#fdca26"
             ],
             [
              1,
              "#f0f921"
             ]
            ],
            "type": "surface"
           }
          ],
          "table": [
           {
            "cells": {
             "fill": {
              "color": "#EBF0F8"
             },
             "line": {
              "color": "white"
             }
            },
            "header": {
             "fill": {
              "color": "#C8D4E3"
             },
             "line": {
              "color": "white"
             }
            },
            "type": "table"
           }
          ]
         },
         "layout": {
          "annotationdefaults": {
           "arrowcolor": "#2a3f5f",
           "arrowhead": 0,
           "arrowwidth": 1
          },
          "coloraxis": {
           "colorbar": {
            "outlinewidth": 0,
            "ticks": ""
           }
          },
          "colorscale": {
           "diverging": [
            [
             0,
             "#8e0152"
            ],
            [
             0.1,
             "#c51b7d"
            ],
            [
             0.2,
             "#de77ae"
            ],
            [
             0.3,
             "#f1b6da"
            ],
            [
             0.4,
             "#fde0ef"
            ],
            [
             0.5,
             "#f7f7f7"
            ],
            [
             0.6,
             "#e6f5d0"
            ],
            [
             0.7,
             "#b8e186"
            ],
            [
             0.8,
             "#7fbc41"
            ],
            [
             0.9,
             "#4d9221"
            ],
            [
             1,
             "#276419"
            ]
           ],
           "sequential": [
            [
             0,
             "#0d0887"
            ],
            [
             0.1111111111111111,
             "#46039f"
            ],
            [
             0.2222222222222222,
             "#7201a8"
            ],
            [
             0.3333333333333333,
             "#9c179e"
            ],
            [
             0.4444444444444444,
             "#bd3786"
            ],
            [
             0.5555555555555556,
             "#d8576b"
            ],
            [
             0.6666666666666666,
             "#ed7953"
            ],
            [
             0.7777777777777778,
             "#fb9f3a"
            ],
            [
             0.8888888888888888,
             "#fdca26"
            ],
            [
             1,
             "#f0f921"
            ]
           ],
           "sequentialminus": [
            [
             0,
             "#0d0887"
            ],
            [
             0.1111111111111111,
             "#46039f"
            ],
            [
             0.2222222222222222,
             "#7201a8"
            ],
            [
             0.3333333333333333,
             "#9c179e"
            ],
            [
             0.4444444444444444,
             "#bd3786"
            ],
            [
             0.5555555555555556,
             "#d8576b"
            ],
            [
             0.6666666666666666,
             "#ed7953"
            ],
            [
             0.7777777777777778,
             "#fb9f3a"
            ],
            [
             0.8888888888888888,
             "#fdca26"
            ],
            [
             1,
             "#f0f921"
            ]
           ]
          },
          "colorway": [
           "#636efa",
           "#EF553B",
           "#00cc96",
           "#ab63fa",
           "#FFA15A",
           "#19d3f3",
           "#FF6692",
           "#B6E880",
           "#FF97FF",
           "#FECB52"
          ],
          "font": {
           "color": "#2a3f5f"
          },
          "geo": {
           "bgcolor": "white",
           "lakecolor": "white",
           "landcolor": "#E5ECF6",
           "showlakes": true,
           "showland": true,
           "subunitcolor": "white"
          },
          "hoverlabel": {
           "align": "left"
          },
          "hovermode": "closest",
          "mapbox": {
           "style": "light"
          },
          "paper_bgcolor": "white",
          "plot_bgcolor": "#E5ECF6",
          "polar": {
           "angularaxis": {
            "gridcolor": "white",
            "linecolor": "white",
            "ticks": ""
           },
           "bgcolor": "#E5ECF6",
           "radialaxis": {
            "gridcolor": "white",
            "linecolor": "white",
            "ticks": ""
           }
          },
          "scene": {
           "xaxis": {
            "backgroundcolor": "#E5ECF6",
            "gridcolor": "white",
            "gridwidth": 2,
            "linecolor": "white",
            "showbackground": true,
            "ticks": "",
            "zerolinecolor": "white"
           },
           "yaxis": {
            "backgroundcolor": "#E5ECF6",
            "gridcolor": "white",
            "gridwidth": 2,
            "linecolor": "white",
            "showbackground": true,
            "ticks": "",
            "zerolinecolor": "white"
           },
           "zaxis": {
            "backgroundcolor": "#E5ECF6",
            "gridcolor": "white",
            "gridwidth": 2,
            "linecolor": "white",
            "showbackground": true,
            "ticks": "",
            "zerolinecolor": "white"
           }
          },
          "shapedefaults": {
           "line": {
            "color": "#2a3f5f"
           }
          },
          "ternary": {
           "aaxis": {
            "gridcolor": "white",
            "linecolor": "white",
            "ticks": ""
           },
           "baxis": {
            "gridcolor": "white",
            "linecolor": "white",
            "ticks": ""
           },
           "bgcolor": "#E5ECF6",
           "caxis": {
            "gridcolor": "white",
            "linecolor": "white",
            "ticks": ""
           }
          },
          "title": {
           "x": 0.05
          },
          "xaxis": {
           "automargin": true,
           "gridcolor": "white",
           "linecolor": "white",
           "ticks": "",
           "title": {
            "standoff": 15
           },
           "zerolinecolor": "white",
           "zerolinewidth": 2
          },
          "yaxis": {
           "automargin": true,
           "gridcolor": "white",
           "linecolor": "white",
           "ticks": "",
           "title": {
            "standoff": 15
           },
           "zerolinecolor": "white",
           "zerolinewidth": 2
          }
         }
        }
       }
      },
      "text/html": [
       "<div>\n",
       "        \n",
       "        \n",
       "            <div id=\"1d302b0d-7ad9-49f5-a840-6777e04df4a1\" class=\"plotly-graph-div\" style=\"height:525px; width:100%;\"></div>\n",
       "            <script type=\"text/javascript\">\n",
       "                require([\"plotly\"], function(Plotly) {\n",
       "                    window.PLOTLYENV=window.PLOTLYENV || {};\n",
       "                    \n",
       "                if (document.getElementById(\"1d302b0d-7ad9-49f5-a840-6777e04df4a1\")) {\n",
       "                    Plotly.newPlot(\n",
       "                        '1d302b0d-7ad9-49f5-a840-6777e04df4a1',\n",
       "                        [{\"cells\": {\"align\": \"left\", \"values\": [[\"Min\", \"Max\", \"Moyenne\", \"M\\u00e9diane\"], [2.0, 17.0, 10.48, 10.0], [2.0, 14.0, 9.04, 9.0], [3.0, 15.0, 9.88, 10.0], [8.0, 41.0, 30.02, 31.5], [56.0, 122.0, 100.0, 103.0], [0.0, 93.0, 51.55, 58.0], [52.0, 115.0, 93.7, 96.5], [65.0, 127.0, 105.85, 108.0]]}, \"header\": {\"align\": \"left\", \"values\": [\"Aggr\\u00e9gation\", \"Note standard Cubes\", \"Note standard Matrices\", \"Note standard Puzzles visuels\", \"Total des notes standards IRP\", \"Note composite IRP\", \"Rang percentile IRP\", \"Note \\u00e9cart type inf\\u00e9rieure IRP\", \"Note \\u00e9cart type sup\\u00e9rieure IRP\"]}, \"type\": \"table\"}],\n",
       "                        {\"template\": {\"data\": {\"bar\": [{\"error_x\": {\"color\": \"#2a3f5f\"}, \"error_y\": {\"color\": \"#2a3f5f\"}, \"marker\": {\"line\": {\"color\": \"#E5ECF6\", \"width\": 0.5}}, \"type\": \"bar\"}], \"barpolar\": [{\"marker\": {\"line\": {\"color\": \"#E5ECF6\", \"width\": 0.5}}, \"type\": \"barpolar\"}], \"carpet\": [{\"aaxis\": {\"endlinecolor\": \"#2a3f5f\", \"gridcolor\": \"white\", \"linecolor\": \"white\", \"minorgridcolor\": \"white\", \"startlinecolor\": \"#2a3f5f\"}, \"baxis\": {\"endlinecolor\": \"#2a3f5f\", \"gridcolor\": \"white\", \"linecolor\": \"white\", \"minorgridcolor\": \"white\", \"startlinecolor\": \"#2a3f5f\"}, \"type\": \"carpet\"}], \"choropleth\": [{\"colorbar\": {\"outlinewidth\": 0, \"ticks\": \"\"}, \"type\": \"choropleth\"}], \"contour\": [{\"colorbar\": {\"outlinewidth\": 0, \"ticks\": \"\"}, \"colorscale\": [[0.0, \"#0d0887\"], [0.1111111111111111, \"#46039f\"], [0.2222222222222222, \"#7201a8\"], [0.3333333333333333, \"#9c179e\"], [0.4444444444444444, \"#bd3786\"], [0.5555555555555556, \"#d8576b\"], [0.6666666666666666, \"#ed7953\"], [0.7777777777777778, \"#fb9f3a\"], [0.8888888888888888, \"#fdca26\"], [1.0, \"#f0f921\"]], \"type\": \"contour\"}], \"contourcarpet\": [{\"colorbar\": {\"outlinewidth\": 0, \"ticks\": \"\"}, \"type\": \"contourcarpet\"}], \"heatmap\": [{\"colorbar\": {\"outlinewidth\": 0, \"ticks\": \"\"}, \"colorscale\": [[0.0, \"#0d0887\"], [0.1111111111111111, \"#46039f\"], [0.2222222222222222, \"#7201a8\"], [0.3333333333333333, \"#9c179e\"], [0.4444444444444444, \"#bd3786\"], [0.5555555555555556, \"#d8576b\"], [0.6666666666666666, \"#ed7953\"], [0.7777777777777778, \"#fb9f3a\"], [0.8888888888888888, \"#fdca26\"], [1.0, \"#f0f921\"]], \"type\": \"heatmap\"}], \"heatmapgl\": [{\"colorbar\": {\"outlinewidth\": 0, \"ticks\": \"\"}, \"colorscale\": [[0.0, \"#0d0887\"], [0.1111111111111111, \"#46039f\"], [0.2222222222222222, \"#7201a8\"], [0.3333333333333333, \"#9c179e\"], [0.4444444444444444, \"#bd3786\"], [0.5555555555555556, \"#d8576b\"], [0.6666666666666666, \"#ed7953\"], [0.7777777777777778, \"#fb9f3a\"], [0.8888888888888888, \"#fdca26\"], [1.0, \"#f0f921\"]], \"type\": \"heatmapgl\"}], \"histogram\": [{\"marker\": {\"colorbar\": {\"outlinewidth\": 0, \"ticks\": \"\"}}, \"type\": \"histogram\"}], \"histogram2d\": [{\"colorbar\": {\"outlinewidth\": 0, \"ticks\": \"\"}, \"colorscale\": [[0.0, \"#0d0887\"], [0.1111111111111111, \"#46039f\"], [0.2222222222222222, \"#7201a8\"], [0.3333333333333333, \"#9c179e\"], [0.4444444444444444, \"#bd3786\"], [0.5555555555555556, \"#d8576b\"], [0.6666666666666666, \"#ed7953\"], [0.7777777777777778, \"#fb9f3a\"], [0.8888888888888888, \"#fdca26\"], [1.0, \"#f0f921\"]], \"type\": \"histogram2d\"}], \"histogram2dcontour\": [{\"colorbar\": {\"outlinewidth\": 0, \"ticks\": \"\"}, \"colorscale\": [[0.0, \"#0d0887\"], [0.1111111111111111, \"#46039f\"], [0.2222222222222222, \"#7201a8\"], [0.3333333333333333, \"#9c179e\"], [0.4444444444444444, \"#bd3786\"], [0.5555555555555556, \"#d8576b\"], [0.6666666666666666, \"#ed7953\"], [0.7777777777777778, \"#fb9f3a\"], [0.8888888888888888, \"#fdca26\"], [1.0, \"#f0f921\"]], \"type\": \"histogram2dcontour\"}], \"mesh3d\": [{\"colorbar\": {\"outlinewidth\": 0, \"ticks\": \"\"}, \"type\": \"mesh3d\"}], \"parcoords\": [{\"line\": {\"colorbar\": {\"outlinewidth\": 0, \"ticks\": \"\"}}, \"type\": \"parcoords\"}], \"pie\": [{\"automargin\": true, \"type\": \"pie\"}], \"scatter\": [{\"marker\": {\"colorbar\": {\"outlinewidth\": 0, \"ticks\": \"\"}}, \"type\": \"scatter\"}], \"scatter3d\": [{\"line\": {\"colorbar\": {\"outlinewidth\": 0, \"ticks\": \"\"}}, \"marker\": {\"colorbar\": {\"outlinewidth\": 0, \"ticks\": \"\"}}, \"type\": \"scatter3d\"}], \"scattercarpet\": [{\"marker\": {\"colorbar\": {\"outlinewidth\": 0, \"ticks\": \"\"}}, \"type\": \"scattercarpet\"}], \"scattergeo\": [{\"marker\": {\"colorbar\": {\"outlinewidth\": 0, \"ticks\": \"\"}}, \"type\": \"scattergeo\"}], \"scattergl\": [{\"marker\": {\"colorbar\": {\"outlinewidth\": 0, \"ticks\": \"\"}}, \"type\": \"scattergl\"}], \"scattermapbox\": [{\"marker\": {\"colorbar\": {\"outlinewidth\": 0, \"ticks\": \"\"}}, \"type\": \"scattermapbox\"}], \"scatterpolar\": [{\"marker\": {\"colorbar\": {\"outlinewidth\": 0, \"ticks\": \"\"}}, \"type\": \"scatterpolar\"}], \"scatterpolargl\": [{\"marker\": {\"colorbar\": {\"outlinewidth\": 0, \"ticks\": \"\"}}, \"type\": \"scatterpolargl\"}], \"scatterternary\": [{\"marker\": {\"colorbar\": {\"outlinewidth\": 0, \"ticks\": \"\"}}, \"type\": \"scatterternary\"}], \"surface\": [{\"colorbar\": {\"outlinewidth\": 0, \"ticks\": \"\"}, \"colorscale\": [[0.0, \"#0d0887\"], [0.1111111111111111, \"#46039f\"], [0.2222222222222222, \"#7201a8\"], [0.3333333333333333, \"#9c179e\"], [0.4444444444444444, \"#bd3786\"], [0.5555555555555556, \"#d8576b\"], [0.6666666666666666, \"#ed7953\"], [0.7777777777777778, \"#fb9f3a\"], [0.8888888888888888, \"#fdca26\"], [1.0, \"#f0f921\"]], \"type\": \"surface\"}], \"table\": [{\"cells\": {\"fill\": {\"color\": \"#EBF0F8\"}, \"line\": {\"color\": \"white\"}}, \"header\": {\"fill\": {\"color\": \"#C8D4E3\"}, \"line\": {\"color\": \"white\"}}, \"type\": \"table\"}]}, \"layout\": {\"annotationdefaults\": {\"arrowcolor\": \"#2a3f5f\", \"arrowhead\": 0, \"arrowwidth\": 1}, \"coloraxis\": {\"colorbar\": {\"outlinewidth\": 0, \"ticks\": \"\"}}, \"colorscale\": {\"diverging\": [[0, \"#8e0152\"], [0.1, \"#c51b7d\"], [0.2, \"#de77ae\"], [0.3, \"#f1b6da\"], [0.4, \"#fde0ef\"], [0.5, \"#f7f7f7\"], [0.6, \"#e6f5d0\"], [0.7, \"#b8e186\"], [0.8, \"#7fbc41\"], [0.9, \"#4d9221\"], [1, \"#276419\"]], \"sequential\": [[0.0, \"#0d0887\"], [0.1111111111111111, \"#46039f\"], [0.2222222222222222, \"#7201a8\"], [0.3333333333333333, \"#9c179e\"], [0.4444444444444444, \"#bd3786\"], [0.5555555555555556, \"#d8576b\"], [0.6666666666666666, \"#ed7953\"], [0.7777777777777778, \"#fb9f3a\"], [0.8888888888888888, \"#fdca26\"], [1.0, \"#f0f921\"]], \"sequentialminus\": [[0.0, \"#0d0887\"], [0.1111111111111111, \"#46039f\"], [0.2222222222222222, \"#7201a8\"], [0.3333333333333333, \"#9c179e\"], [0.4444444444444444, \"#bd3786\"], [0.5555555555555556, \"#d8576b\"], [0.6666666666666666, \"#ed7953\"], [0.7777777777777778, \"#fb9f3a\"], [0.8888888888888888, \"#fdca26\"], [1.0, \"#f0f921\"]]}, \"colorway\": [\"#636efa\", \"#EF553B\", \"#00cc96\", \"#ab63fa\", \"#FFA15A\", \"#19d3f3\", \"#FF6692\", \"#B6E880\", \"#FF97FF\", \"#FECB52\"], \"font\": {\"color\": \"#2a3f5f\"}, \"geo\": {\"bgcolor\": \"white\", \"lakecolor\": \"white\", \"landcolor\": \"#E5ECF6\", \"showlakes\": true, \"showland\": true, \"subunitcolor\": \"white\"}, \"hoverlabel\": {\"align\": \"left\"}, \"hovermode\": \"closest\", \"mapbox\": {\"style\": \"light\"}, \"paper_bgcolor\": \"white\", \"plot_bgcolor\": \"#E5ECF6\", \"polar\": {\"angularaxis\": {\"gridcolor\": \"white\", \"linecolor\": \"white\", \"ticks\": \"\"}, \"bgcolor\": \"#E5ECF6\", \"radialaxis\": {\"gridcolor\": \"white\", \"linecolor\": \"white\", \"ticks\": \"\"}}, \"scene\": {\"xaxis\": {\"backgroundcolor\": \"#E5ECF6\", \"gridcolor\": \"white\", \"gridwidth\": 2, \"linecolor\": \"white\", \"showbackground\": true, \"ticks\": \"\", \"zerolinecolor\": \"white\"}, \"yaxis\": {\"backgroundcolor\": \"#E5ECF6\", \"gridcolor\": \"white\", \"gridwidth\": 2, \"linecolor\": \"white\", \"showbackground\": true, \"ticks\": \"\", \"zerolinecolor\": \"white\"}, \"zaxis\": {\"backgroundcolor\": \"#E5ECF6\", \"gridcolor\": \"white\", \"gridwidth\": 2, \"linecolor\": \"white\", \"showbackground\": true, \"ticks\": \"\", \"zerolinecolor\": \"white\"}}, \"shapedefaults\": {\"line\": {\"color\": \"#2a3f5f\"}}, \"ternary\": {\"aaxis\": {\"gridcolor\": \"white\", \"linecolor\": \"white\", \"ticks\": \"\"}, \"baxis\": {\"gridcolor\": \"white\", \"linecolor\": \"white\", \"ticks\": \"\"}, \"bgcolor\": \"#E5ECF6\", \"caxis\": {\"gridcolor\": \"white\", \"linecolor\": \"white\", \"ticks\": \"\"}}, \"title\": {\"x\": 0.05}, \"xaxis\": {\"automargin\": true, \"gridcolor\": \"white\", \"linecolor\": \"white\", \"ticks\": \"\", \"title\": {\"standoff\": 15}, \"zerolinecolor\": \"white\", \"zerolinewidth\": 2}, \"yaxis\": {\"automargin\": true, \"gridcolor\": \"white\", \"linecolor\": \"white\", \"ticks\": \"\", \"title\": {\"standoff\": 15}, \"zerolinecolor\": \"white\", \"zerolinewidth\": 2}}}},\n",
       "                        {\"responsive\": true}\n",
       "                    ).then(function(){\n",
       "                            \n",
       "var gd = document.getElementById('1d302b0d-7ad9-49f5-a840-6777e04df4a1');\n",
       "var x = new MutationObserver(function (mutations, observer) {{\n",
       "        var display = window.getComputedStyle(gd).display;\n",
       "        if (!display || display === 'none') {{\n",
       "            console.log([gd, 'removed!']);\n",
       "            Plotly.purge(gd);\n",
       "            observer.disconnect();\n",
       "        }}\n",
       "}});\n",
       "\n",
       "// Listen for the removal of the full notebook cells\n",
       "var notebookContainer = gd.closest('#notebook-container');\n",
       "if (notebookContainer) {{\n",
       "    x.observe(notebookContainer, {childList: true});\n",
       "}}\n",
       "\n",
       "// Listen for the clearing of the current output cell\n",
       "var outputEl = gd.closest('.output');\n",
       "if (outputEl) {{\n",
       "    x.observe(outputEl, {childList: true});\n",
       "}}\n",
       "\n",
       "                        })\n",
       "                };\n",
       "                });\n",
       "            </script>\n",
       "        </div>"
      ]
     },
     "metadata": {},
     "output_type": "display_data"
    }
   ],
   "source": [
    "fig = go.Figure(data=wais_sub)\n",
    "fig.show()"
   ]
  },
  {
   "cell_type": "code",
   "execution_count": 401,
   "metadata": {
    "ExecuteTime": {
     "end_time": "2020-05-13T14:28:20.687937Z",
     "start_time": "2020-05-13T14:28:20.683205Z"
    }
   },
   "outputs": [
    {
     "data": {
      "text/html": [
       "<h5>2.1. WAIS IMT</h5>"
      ],
      "text/plain": [
       "<IPython.core.display.HTML object>"
      ]
     },
     "metadata": {},
     "output_type": "display_data"
    }
   ],
   "source": [
    "display(HTML('<h5>2.1. WAIS IMT</h5>'))"
   ]
  },
  {
   "cell_type": "code",
   "execution_count": 402,
   "metadata": {
    "ExecuteTime": {
     "end_time": "2020-05-13T14:28:21.084849Z",
     "start_time": "2020-05-13T14:28:21.079099Z"
    }
   },
   "outputs": [
    {
     "data": {
      "text/html": [
       "<p>Moyenne d'âge : 35.25</p>"
      ],
      "text/plain": [
       "<IPython.core.display.HTML object>"
      ]
     },
     "metadata": {},
     "output_type": "display_data"
    }
   ],
   "source": [
    "display(HTML(\"<p>Moyenne d'âge : \"+str(round(df_wais[df_wais['Total des notes standards IRP'].notna()]['age'].mean(), 2))+\"</p>\"))"
   ]
  },
  {
   "cell_type": "code",
   "execution_count": 418,
   "metadata": {
    "ExecuteTime": {
     "end_time": "2020-05-13T14:30:25.837273Z",
     "start_time": "2020-05-13T14:30:25.833465Z"
    }
   },
   "outputs": [],
   "source": [
    "df_wais_sub= df_wais.iloc[:,[0,1,2,-1,22, 23, 24, 25, 26, 27, 28]]"
   ]
  },
  {
   "cell_type": "code",
   "execution_count": 419,
   "metadata": {
    "ExecuteTime": {
     "end_time": "2020-05-13T14:30:26.214254Z",
     "start_time": "2020-05-13T14:30:26.211698Z"
    }
   },
   "outputs": [],
   "source": [
    "subplot_titles = df_wais_sub.columns.values.tolist()"
   ]
  },
  {
   "cell_type": "code",
   "execution_count": 422,
   "metadata": {
    "ExecuteTime": {
     "end_time": "2020-05-13T14:30:36.930272Z",
     "start_time": "2020-05-13T14:30:36.436450Z"
    }
   },
   "outputs": [],
   "source": [
    "fig_wais_sub = make_subplots(\n",
    "    rows=4, cols=2,\n",
    "    shared_xaxes=False,\n",
    "    row_heights=[0.20, 0.20, 0.20, 0.20],\n",
    "    column_widths=[0.5, 0.5],\n",
    "    subplot_titles= subplot_titles[4:],\n",
    "    x_title='Âge',\n",
    "    y_title='Score',\n",
    "    vertical_spacing= 0.04 )\n",
    "df_wais_sub = df_wais_sub.sort_values(by=['age'])"
   ]
  },
  {
   "cell_type": "code",
   "execution_count": 424,
   "metadata": {
    "ExecuteTime": {
     "end_time": "2020-05-13T14:30:46.700393Z",
     "start_time": "2020-05-13T14:30:46.603929Z"
    }
   },
   "outputs": [
    {
     "data": {
      "application/vnd.plotly.v1+json": {
       "config": {
        "plotlyServerURL": "https://plot.ly"
       },
       "data": [
        {
         "hovertext": [
          "EF 2E 22 E0 EA, Type 1",
          "B6 A4 CD 3A 81, Type 1",
          "76 A2 26 6F C7, Type inconnu",
          "C2 C3 05 A8 4B, Type 1",
          "39 CA BD 3C 82, Type 1",
          "7B DE 78 5B F6, Type 1",
          "9B 8E 44 F8 FF, Type 1",
          "EA 6F FF DE 42, Type 2",
          "90 01 09 71 F0, Type 2",
          "39 35 88 38 7B, Type inconnu",
          "35 86 13 56 24, Type 1",
          "7D 76 3D FC 91, Type 1",
          "73 EC 1B D7 9B, Type 1",
          "81 03 8C 07 58, Type inconnu",
          "AB A5 ED 43 8B, Type 1",
          "48 84 25 4A E0, Type inconnu",
          "01 83 17 5E 89, Type 1",
          "B9 5D 22 14 86, Type 1",
          "A1 54 32 B1 53, Type 1",
          "FD 11 B7 CF 8F, Type 1",
          "DB 6B 59 3A 0C, Type 1",
          "F1 C2 1C 3A FC, Type 1",
          "31 19 64 3D 10, Type 2",
          "98 2C 1A AA 87, Type 1",
          "A2 D7 D0 A4 2A, Type 1",
          "D7 FC 44 05 CA, Type 2",
          "8A A0 53 AC 37, Type inconnu",
          "02 88 A7 94 50, Type 2",
          "64 0B 1B 0A 45, Type 2",
          "8A 77 B8 09 AD, Type 2",
          "51 B7 6E C2 FD, Type 2",
          "A4 03 5A F0 57, Type 2",
          "02 92 7B FF E6, Type 1",
          "90 A6 58 8A AD, Type 2",
          "F5 E4 FD A4 9F, Type 2",
          "06 25 B6 B7 F5, Type 1",
          "47 09 1C 5F 94, Type inconnu",
          "76 8F 56 DE 15, Type 2",
          "3D F6 5A B4 9D, Type 2",
          "3F 34 F5 32 80, Type inconnu",
          "A6 FD C4 C0 69, Type 2",
          "4F 9C 21 D3 31, Type 2",
          "4B 6C 17 74 29, Type inconnu",
          "94 EB 19 B7 18, Type 2",
          "12 A8 8F 3F 67, Type inconnu",
          "19 01 73 04 E2, Type 2",
          "A2 C1 35 C2 8C, Type 2",
          "0F 30 93 5E 0E, Type 2",
          "81 DB 14 CC 21, Type inconnu",
          "CA A2 77 FC 22, Type 2",
          "96 B8 5B 6F 8F, Type inconnu",
          "96 DD DC FE E3, Type 2",
          "21 36 06 E2 38, Type 2",
          "B7 CA E8 BC 99, Type 2",
          "3E C6 4C 31 8B, Type inconnu",
          "EF 4A CF 20 AF, Type 2"
         ],
         "marker": {
          "color": [
           "#33ffc9",
           "#33ffc9",
           "#C5C5C5",
           "#33ffc9",
           "#33ffc9",
           "#33ffc9",
           "#33ffc9",
           "#B3D9FF",
           "#B3D9FF",
           "#C5C5C5",
           "#33ffc9",
           "#33ffc9",
           "#33ffc9",
           "#C5C5C5",
           "#33ffc9",
           "#C5C5C5",
           "#33ffc9",
           "#33ffc9",
           "#33ffc9",
           "#33ffc9",
           "#33ffc9",
           "#33ffc9",
           "#B3D9FF",
           "#33ffc9",
           "#33ffc9",
           "#B3D9FF",
           "#C5C5C5",
           "#B3D9FF",
           "#B3D9FF",
           "#B3D9FF",
           "#B3D9FF",
           "#B3D9FF",
           "#33ffc9",
           "#B3D9FF",
           "#B3D9FF",
           "#33ffc9",
           "#C5C5C5",
           "#B3D9FF",
           "#B3D9FF",
           "#C5C5C5",
           "#B3D9FF",
           "#B3D9FF",
           "#C5C5C5",
           "#B3D9FF",
           "#C5C5C5",
           "#B3D9FF",
           "#B3D9FF",
           "#B3D9FF",
           "#C5C5C5",
           "#B3D9FF",
           "#C5C5C5",
           "#B3D9FF",
           "#B3D9FF",
           "#B3D9FF",
           "#C5C5C5",
           "#B3D9FF"
          ],
          "size": 10
         },
         "mode": "markers+text",
         "type": "scatter",
         "x": [
          18,
          19,
          20,
          20,
          21,
          23,
          25,
          25,
          26,
          27,
          27,
          28,
          28,
          28,
          28,
          30,
          30,
          31,
          31,
          32,
          34,
          34,
          35,
          35,
          36,
          36,
          37,
          38,
          38,
          38,
          40,
          40,
          41,
          42,
          43,
          44,
          44,
          45,
          46,
          47,
          48,
          52,
          55,
          57,
          57,
          59,
          59,
          59,
          60,
          60,
          62,
          64,
          67,
          72,
          74,
          74
         ],
         "xaxis": "x",
         "y": [
          2,
          3,
          7,
          4,
          5,
          11,
          4,
          4,
          6,
          8,
          1,
          4,
          null,
          6,
          7,
          7,
          null,
          5,
          4,
          7,
          2,
          5,
          10,
          7,
          4,
          7,
          11,
          9,
          14,
          8,
          12,
          12,
          null,
          10,
          15,
          7,
          12,
          7,
          12,
          8,
          10,
          15,
          14,
          13,
          8,
          12,
          12,
          10,
          15,
          7,
          13,
          11,
          3,
          10,
          12,
          14
         ],
         "yaxis": "y"
        },
        {
         "hovertext": [
          "EF 2E 22 E0 EA, Type 1",
          "B6 A4 CD 3A 81, Type 1",
          "76 A2 26 6F C7, Type inconnu",
          "C2 C3 05 A8 4B, Type 1",
          "39 CA BD 3C 82, Type 1",
          "7B DE 78 5B F6, Type 1",
          "9B 8E 44 F8 FF, Type 1",
          "EA 6F FF DE 42, Type 2",
          "90 01 09 71 F0, Type 2",
          "39 35 88 38 7B, Type inconnu",
          "35 86 13 56 24, Type 1",
          "7D 76 3D FC 91, Type 1",
          "73 EC 1B D7 9B, Type 1",
          "81 03 8C 07 58, Type inconnu",
          "AB A5 ED 43 8B, Type 1",
          "48 84 25 4A E0, Type inconnu",
          "01 83 17 5E 89, Type 1",
          "B9 5D 22 14 86, Type 1",
          "A1 54 32 B1 53, Type 1",
          "FD 11 B7 CF 8F, Type 1",
          "DB 6B 59 3A 0C, Type 1",
          "F1 C2 1C 3A FC, Type 1",
          "31 19 64 3D 10, Type 2",
          "98 2C 1A AA 87, Type 1",
          "A2 D7 D0 A4 2A, Type 1",
          "D7 FC 44 05 CA, Type 2",
          "8A A0 53 AC 37, Type inconnu",
          "02 88 A7 94 50, Type 2",
          "64 0B 1B 0A 45, Type 2",
          "8A 77 B8 09 AD, Type 2",
          "51 B7 6E C2 FD, Type 2",
          "A4 03 5A F0 57, Type 2",
          "02 92 7B FF E6, Type 1",
          "90 A6 58 8A AD, Type 2",
          "F5 E4 FD A4 9F, Type 2",
          "06 25 B6 B7 F5, Type 1",
          "47 09 1C 5F 94, Type inconnu",
          "76 8F 56 DE 15, Type 2",
          "3D F6 5A B4 9D, Type 2",
          "3F 34 F5 32 80, Type inconnu",
          "A6 FD C4 C0 69, Type 2",
          "4F 9C 21 D3 31, Type 2",
          "4B 6C 17 74 29, Type inconnu",
          "94 EB 19 B7 18, Type 2",
          "12 A8 8F 3F 67, Type inconnu",
          "19 01 73 04 E2, Type 2",
          "A2 C1 35 C2 8C, Type 2",
          "0F 30 93 5E 0E, Type 2",
          "81 DB 14 CC 21, Type inconnu",
          "CA A2 77 FC 22, Type 2",
          "96 B8 5B 6F 8F, Type inconnu",
          "96 DD DC FE E3, Type 2",
          "21 36 06 E2 38, Type 2",
          "B7 CA E8 BC 99, Type 2",
          "3E C6 4C 31 8B, Type inconnu",
          "EF 4A CF 20 AF, Type 2"
         ],
         "marker": {
          "color": [
           "#33ffc9",
           "#33ffc9",
           "#C5C5C5",
           "#33ffc9",
           "#33ffc9",
           "#33ffc9",
           "#33ffc9",
           "#B3D9FF",
           "#B3D9FF",
           "#C5C5C5",
           "#33ffc9",
           "#33ffc9",
           "#33ffc9",
           "#C5C5C5",
           "#33ffc9",
           "#C5C5C5",
           "#33ffc9",
           "#33ffc9",
           "#33ffc9",
           "#33ffc9",
           "#33ffc9",
           "#33ffc9",
           "#B3D9FF",
           "#33ffc9",
           "#33ffc9",
           "#B3D9FF",
           "#C5C5C5",
           "#B3D9FF",
           "#B3D9FF",
           "#B3D9FF",
           "#B3D9FF",
           "#B3D9FF",
           "#33ffc9",
           "#B3D9FF",
           "#B3D9FF",
           "#33ffc9",
           "#C5C5C5",
           "#B3D9FF",
           "#B3D9FF",
           "#C5C5C5",
           "#B3D9FF",
           "#B3D9FF",
           "#C5C5C5",
           "#B3D9FF",
           "#C5C5C5",
           "#B3D9FF",
           "#B3D9FF",
           "#B3D9FF",
           "#C5C5C5",
           "#B3D9FF",
           "#C5C5C5",
           "#B3D9FF",
           "#B3D9FF",
           "#B3D9FF",
           "#C5C5C5",
           "#B3D9FF"
          ],
          "size": 10
         },
         "mode": "markers+text",
         "type": "scatter",
         "x": [
          18,
          19,
          20,
          20,
          21,
          23,
          25,
          25,
          26,
          27,
          27,
          28,
          28,
          28,
          28,
          30,
          30,
          31,
          31,
          32,
          34,
          34,
          35,
          35,
          36,
          36,
          37,
          38,
          38,
          38,
          40,
          40,
          41,
          42,
          43,
          44,
          44,
          45,
          46,
          47,
          48,
          52,
          55,
          57,
          57,
          59,
          59,
          59,
          60,
          60,
          62,
          64,
          67,
          72,
          74,
          74
         ],
         "xaxis": "x2",
         "y": [
          3,
          3,
          8,
          9,
          7,
          10,
          3,
          4,
          9,
          13,
          null,
          3,
          5,
          14,
          11,
          9,
          null,
          5,
          3,
          14,
          1,
          9,
          5,
          3,
          4,
          10,
          15,
          11,
          13,
          11,
          10,
          12,
          null,
          9,
          15,
          7,
          8,
          11,
          13,
          7,
          11,
          10,
          12,
          14,
          6,
          13,
          null,
          null,
          16,
          9,
          16,
          13,
          null,
          16,
          7,
          12
         ],
         "yaxis": "y2"
        },
        {
         "hovertext": [
          "EF 2E 22 E0 EA, Type 1",
          "B6 A4 CD 3A 81, Type 1",
          "76 A2 26 6F C7, Type inconnu",
          "C2 C3 05 A8 4B, Type 1",
          "39 CA BD 3C 82, Type 1",
          "7B DE 78 5B F6, Type 1",
          "9B 8E 44 F8 FF, Type 1",
          "EA 6F FF DE 42, Type 2",
          "90 01 09 71 F0, Type 2",
          "39 35 88 38 7B, Type inconnu",
          "35 86 13 56 24, Type 1",
          "7D 76 3D FC 91, Type 1",
          "73 EC 1B D7 9B, Type 1",
          "81 03 8C 07 58, Type inconnu",
          "AB A5 ED 43 8B, Type 1",
          "48 84 25 4A E0, Type inconnu",
          "01 83 17 5E 89, Type 1",
          "B9 5D 22 14 86, Type 1",
          "A1 54 32 B1 53, Type 1",
          "FD 11 B7 CF 8F, Type 1",
          "DB 6B 59 3A 0C, Type 1",
          "F1 C2 1C 3A FC, Type 1",
          "31 19 64 3D 10, Type 2",
          "98 2C 1A AA 87, Type 1",
          "A2 D7 D0 A4 2A, Type 1",
          "D7 FC 44 05 CA, Type 2",
          "8A A0 53 AC 37, Type inconnu",
          "02 88 A7 94 50, Type 2",
          "64 0B 1B 0A 45, Type 2",
          "8A 77 B8 09 AD, Type 2",
          "51 B7 6E C2 FD, Type 2",
          "A4 03 5A F0 57, Type 2",
          "02 92 7B FF E6, Type 1",
          "90 A6 58 8A AD, Type 2",
          "F5 E4 FD A4 9F, Type 2",
          "06 25 B6 B7 F5, Type 1",
          "47 09 1C 5F 94, Type inconnu",
          "76 8F 56 DE 15, Type 2",
          "3D F6 5A B4 9D, Type 2",
          "3F 34 F5 32 80, Type inconnu",
          "A6 FD C4 C0 69, Type 2",
          "4F 9C 21 D3 31, Type 2",
          "4B 6C 17 74 29, Type inconnu",
          "94 EB 19 B7 18, Type 2",
          "12 A8 8F 3F 67, Type inconnu",
          "19 01 73 04 E2, Type 2",
          "A2 C1 35 C2 8C, Type 2",
          "0F 30 93 5E 0E, Type 2",
          "81 DB 14 CC 21, Type inconnu",
          "CA A2 77 FC 22, Type 2",
          "96 B8 5B 6F 8F, Type inconnu",
          "96 DD DC FE E3, Type 2",
          "21 36 06 E2 38, Type 2",
          "B7 CA E8 BC 99, Type 2",
          "3E C6 4C 31 8B, Type inconnu",
          "EF 4A CF 20 AF, Type 2"
         ],
         "marker": {
          "color": [
           "#33ffc9",
           "#33ffc9",
           "#C5C5C5",
           "#33ffc9",
           "#33ffc9",
           "#33ffc9",
           "#33ffc9",
           "#B3D9FF",
           "#B3D9FF",
           "#C5C5C5",
           "#33ffc9",
           "#33ffc9",
           "#33ffc9",
           "#C5C5C5",
           "#33ffc9",
           "#C5C5C5",
           "#33ffc9",
           "#33ffc9",
           "#33ffc9",
           "#33ffc9",
           "#33ffc9",
           "#33ffc9",
           "#B3D9FF",
           "#33ffc9",
           "#33ffc9",
           "#B3D9FF",
           "#C5C5C5",
           "#B3D9FF",
           "#B3D9FF",
           "#B3D9FF",
           "#B3D9FF",
           "#B3D9FF",
           "#33ffc9",
           "#B3D9FF",
           "#B3D9FF",
           "#33ffc9",
           "#C5C5C5",
           "#B3D9FF",
           "#B3D9FF",
           "#C5C5C5",
           "#B3D9FF",
           "#B3D9FF",
           "#C5C5C5",
           "#B3D9FF",
           "#C5C5C5",
           "#B3D9FF",
           "#B3D9FF",
           "#B3D9FF",
           "#C5C5C5",
           "#B3D9FF",
           "#C5C5C5",
           "#B3D9FF",
           "#B3D9FF",
           "#B3D9FF",
           "#C5C5C5",
           "#B3D9FF"
          ],
          "size": 10
         },
         "mode": "markers+text",
         "type": "scatter",
         "x": [
          18,
          19,
          20,
          20,
          21,
          23,
          25,
          25,
          26,
          27,
          27,
          28,
          28,
          28,
          28,
          30,
          30,
          31,
          31,
          32,
          34,
          34,
          35,
          35,
          36,
          36,
          37,
          38,
          38,
          38,
          40,
          40,
          41,
          42,
          43,
          44,
          44,
          45,
          46,
          47,
          48,
          52,
          55,
          57,
          57,
          59,
          59,
          59,
          60,
          60,
          62,
          64,
          67,
          72,
          74,
          74
         ],
         "xaxis": "x3",
         "y": [
          5,
          6,
          15,
          13,
          12,
          21,
          7,
          8,
          15,
          21,
          null,
          7,
          null,
          20,
          18,
          16,
          null,
          10,
          7,
          21,
          3,
          14,
          15,
          10,
          8,
          17,
          26,
          20,
          27,
          19,
          22,
          24,
          null,
          19,
          30,
          14,
          20,
          18,
          25,
          15,
          21,
          25,
          26,
          27,
          14,
          25,
          null,
          null,
          31,
          16,
          29,
          24,
          null,
          26,
          19,
          26
         ],
         "yaxis": "y3"
        },
        {
         "hovertext": [
          "EF 2E 22 E0 EA, Type 1",
          "B6 A4 CD 3A 81, Type 1",
          "76 A2 26 6F C7, Type inconnu",
          "C2 C3 05 A8 4B, Type 1",
          "39 CA BD 3C 82, Type 1",
          "7B DE 78 5B F6, Type 1",
          "9B 8E 44 F8 FF, Type 1",
          "EA 6F FF DE 42, Type 2",
          "90 01 09 71 F0, Type 2",
          "39 35 88 38 7B, Type inconnu",
          "35 86 13 56 24, Type 1",
          "7D 76 3D FC 91, Type 1",
          "73 EC 1B D7 9B, Type 1",
          "81 03 8C 07 58, Type inconnu",
          "AB A5 ED 43 8B, Type 1",
          "48 84 25 4A E0, Type inconnu",
          "01 83 17 5E 89, Type 1",
          "B9 5D 22 14 86, Type 1",
          "A1 54 32 B1 53, Type 1",
          "FD 11 B7 CF 8F, Type 1",
          "DB 6B 59 3A 0C, Type 1",
          "F1 C2 1C 3A FC, Type 1",
          "31 19 64 3D 10, Type 2",
          "98 2C 1A AA 87, Type 1",
          "A2 D7 D0 A4 2A, Type 1",
          "D7 FC 44 05 CA, Type 2",
          "8A A0 53 AC 37, Type inconnu",
          "02 88 A7 94 50, Type 2",
          "64 0B 1B 0A 45, Type 2",
          "8A 77 B8 09 AD, Type 2",
          "51 B7 6E C2 FD, Type 2",
          "A4 03 5A F0 57, Type 2",
          "02 92 7B FF E6, Type 1",
          "90 A6 58 8A AD, Type 2",
          "F5 E4 FD A4 9F, Type 2",
          "06 25 B6 B7 F5, Type 1",
          "47 09 1C 5F 94, Type inconnu",
          "76 8F 56 DE 15, Type 2",
          "3D F6 5A B4 9D, Type 2",
          "3F 34 F5 32 80, Type inconnu",
          "A6 FD C4 C0 69, Type 2",
          "4F 9C 21 D3 31, Type 2",
          "4B 6C 17 74 29, Type inconnu",
          "94 EB 19 B7 18, Type 2",
          "12 A8 8F 3F 67, Type inconnu",
          "19 01 73 04 E2, Type 2",
          "A2 C1 35 C2 8C, Type 2",
          "0F 30 93 5E 0E, Type 2",
          "81 DB 14 CC 21, Type inconnu",
          "CA A2 77 FC 22, Type 2",
          "96 B8 5B 6F 8F, Type inconnu",
          "96 DD DC FE E3, Type 2",
          "21 36 06 E2 38, Type 2",
          "B7 CA E8 BC 99, Type 2",
          "3E C6 4C 31 8B, Type inconnu",
          "EF 4A CF 20 AF, Type 2"
         ],
         "marker": {
          "color": [
           "#33ffc9",
           "#33ffc9",
           "#C5C5C5",
           "#33ffc9",
           "#33ffc9",
           "#33ffc9",
           "#33ffc9",
           "#B3D9FF",
           "#B3D9FF",
           "#C5C5C5",
           "#33ffc9",
           "#33ffc9",
           "#33ffc9",
           "#C5C5C5",
           "#33ffc9",
           "#C5C5C5",
           "#33ffc9",
           "#33ffc9",
           "#33ffc9",
           "#33ffc9",
           "#33ffc9",
           "#33ffc9",
           "#B3D9FF",
           "#33ffc9",
           "#33ffc9",
           "#B3D9FF",
           "#C5C5C5",
           "#B3D9FF",
           "#B3D9FF",
           "#B3D9FF",
           "#B3D9FF",
           "#B3D9FF",
           "#33ffc9",
           "#B3D9FF",
           "#B3D9FF",
           "#33ffc9",
           "#C5C5C5",
           "#B3D9FF",
           "#B3D9FF",
           "#C5C5C5",
           "#B3D9FF",
           "#B3D9FF",
           "#C5C5C5",
           "#B3D9FF",
           "#C5C5C5",
           "#B3D9FF",
           "#B3D9FF",
           "#B3D9FF",
           "#C5C5C5",
           "#B3D9FF",
           "#C5C5C5",
           "#B3D9FF",
           "#B3D9FF",
           "#B3D9FF",
           "#C5C5C5",
           "#B3D9FF"
          ],
          "size": 10
         },
         "mode": "markers+text",
         "type": "scatter",
         "x": [
          18,
          19,
          20,
          20,
          21,
          23,
          25,
          25,
          26,
          27,
          27,
          28,
          28,
          28,
          28,
          30,
          30,
          31,
          31,
          32,
          34,
          34,
          35,
          35,
          36,
          36,
          37,
          38,
          38,
          38,
          40,
          40,
          41,
          42,
          43,
          44,
          44,
          45,
          46,
          47,
          48,
          52,
          55,
          57,
          57,
          59,
          59,
          59,
          60,
          60,
          62,
          64,
          67,
          72,
          74,
          74
         ],
         "xaxis": "x4",
         "y": [
          58,
          61,
          85,
          80,
          77,
          103,
          63,
          66,
          85,
          103,
          null,
          63,
          null,
          100,
          94,
          88,
          null,
          71,
          63,
          103,
          52,
          83,
          85,
          71,
          66,
          91,
          117,
          100,
          120,
          97,
          106,
          112,
          null,
          97,
          128,
          83,
          100,
          94,
          114,
          85,
          103,
          114,
          117,
          120,
          83,
          114,
          null,
          null,
          131,
          88,
          126,
          112,
          null,
          117,
          97,
          117
         ],
         "yaxis": "y4"
        },
        {
         "hovertext": [
          "EF 2E 22 E0 EA, Type 1",
          "B6 A4 CD 3A 81, Type 1",
          "76 A2 26 6F C7, Type inconnu",
          "C2 C3 05 A8 4B, Type 1",
          "39 CA BD 3C 82, Type 1",
          "7B DE 78 5B F6, Type 1",
          "9B 8E 44 F8 FF, Type 1",
          "EA 6F FF DE 42, Type 2",
          "90 01 09 71 F0, Type 2",
          "39 35 88 38 7B, Type inconnu",
          "35 86 13 56 24, Type 1",
          "7D 76 3D FC 91, Type 1",
          "73 EC 1B D7 9B, Type 1",
          "81 03 8C 07 58, Type inconnu",
          "AB A5 ED 43 8B, Type 1",
          "48 84 25 4A E0, Type inconnu",
          "01 83 17 5E 89, Type 1",
          "B9 5D 22 14 86, Type 1",
          "A1 54 32 B1 53, Type 1",
          "FD 11 B7 CF 8F, Type 1",
          "DB 6B 59 3A 0C, Type 1",
          "F1 C2 1C 3A FC, Type 1",
          "31 19 64 3D 10, Type 2",
          "98 2C 1A AA 87, Type 1",
          "A2 D7 D0 A4 2A, Type 1",
          "D7 FC 44 05 CA, Type 2",
          "8A A0 53 AC 37, Type inconnu",
          "02 88 A7 94 50, Type 2",
          "64 0B 1B 0A 45, Type 2",
          "8A 77 B8 09 AD, Type 2",
          "51 B7 6E C2 FD, Type 2",
          "A4 03 5A F0 57, Type 2",
          "02 92 7B FF E6, Type 1",
          "90 A6 58 8A AD, Type 2",
          "F5 E4 FD A4 9F, Type 2",
          "06 25 B6 B7 F5, Type 1",
          "47 09 1C 5F 94, Type inconnu",
          "76 8F 56 DE 15, Type 2",
          "3D F6 5A B4 9D, Type 2",
          "3F 34 F5 32 80, Type inconnu",
          "A6 FD C4 C0 69, Type 2",
          "4F 9C 21 D3 31, Type 2",
          "4B 6C 17 74 29, Type inconnu",
          "94 EB 19 B7 18, Type 2",
          "12 A8 8F 3F 67, Type inconnu",
          "19 01 73 04 E2, Type 2",
          "A2 C1 35 C2 8C, Type 2",
          "0F 30 93 5E 0E, Type 2",
          "81 DB 14 CC 21, Type inconnu",
          "CA A2 77 FC 22, Type 2",
          "96 B8 5B 6F 8F, Type inconnu",
          "96 DD DC FE E3, Type 2",
          "21 36 06 E2 38, Type 2",
          "B7 CA E8 BC 99, Type 2",
          "3E C6 4C 31 8B, Type inconnu",
          "EF 4A CF 20 AF, Type 2"
         ],
         "marker": {
          "color": [
           "#33ffc9",
           "#33ffc9",
           "#C5C5C5",
           "#33ffc9",
           "#33ffc9",
           "#33ffc9",
           "#33ffc9",
           "#B3D9FF",
           "#B3D9FF",
           "#C5C5C5",
           "#33ffc9",
           "#33ffc9",
           "#33ffc9",
           "#C5C5C5",
           "#33ffc9",
           "#C5C5C5",
           "#33ffc9",
           "#33ffc9",
           "#33ffc9",
           "#33ffc9",
           "#33ffc9",
           "#33ffc9",
           "#B3D9FF",
           "#33ffc9",
           "#33ffc9",
           "#B3D9FF",
           "#C5C5C5",
           "#B3D9FF",
           "#B3D9FF",
           "#B3D9FF",
           "#B3D9FF",
           "#B3D9FF",
           "#33ffc9",
           "#B3D9FF",
           "#B3D9FF",
           "#33ffc9",
           "#C5C5C5",
           "#B3D9FF",
           "#B3D9FF",
           "#C5C5C5",
           "#B3D9FF",
           "#B3D9FF",
           "#C5C5C5",
           "#B3D9FF",
           "#C5C5C5",
           "#B3D9FF",
           "#B3D9FF",
           "#B3D9FF",
           "#C5C5C5",
           "#B3D9FF",
           "#C5C5C5",
           "#B3D9FF",
           "#B3D9FF",
           "#B3D9FF",
           "#C5C5C5",
           "#B3D9FF"
          ],
          "size": 10
         },
         "mode": "markers+text",
         "type": "scatter",
         "x": [
          18,
          19,
          20,
          20,
          21,
          23,
          25,
          25,
          26,
          27,
          27,
          28,
          28,
          28,
          28,
          30,
          30,
          31,
          31,
          32,
          34,
          34,
          35,
          35,
          36,
          36,
          37,
          38,
          38,
          38,
          40,
          40,
          41,
          42,
          43,
          44,
          44,
          45,
          46,
          47,
          48,
          52,
          55,
          57,
          57,
          59,
          59,
          59,
          60,
          60,
          62,
          64,
          67,
          72,
          74,
          74
         ],
         "xaxis": "x5",
         "y": [
          0,
          0,
          16,
          9,
          6,
          58,
          1,
          1,
          16,
          58,
          null,
          1,
          null,
          50,
          34,
          21,
          null,
          3,
          1,
          58,
          1,
          13,
          16,
          3,
          1,
          27,
          87,
          50,
          91,
          42,
          66,
          79,
          null,
          42,
          97,
          13,
          50,
          34,
          82,
          16,
          58,
          82,
          87,
          91,
          13,
          82,
          null,
          null,
          98,
          21,
          96,
          79,
          null,
          87,
          42,
          87
         ],
         "yaxis": "y5"
        },
        {
         "hovertext": [
          "EF 2E 22 E0 EA, Type 1",
          "B6 A4 CD 3A 81, Type 1",
          "76 A2 26 6F C7, Type inconnu",
          "C2 C3 05 A8 4B, Type 1",
          "39 CA BD 3C 82, Type 1",
          "7B DE 78 5B F6, Type 1",
          "9B 8E 44 F8 FF, Type 1",
          "EA 6F FF DE 42, Type 2",
          "90 01 09 71 F0, Type 2",
          "39 35 88 38 7B, Type inconnu",
          "35 86 13 56 24, Type 1",
          "7D 76 3D FC 91, Type 1",
          "73 EC 1B D7 9B, Type 1",
          "81 03 8C 07 58, Type inconnu",
          "AB A5 ED 43 8B, Type 1",
          "48 84 25 4A E0, Type inconnu",
          "01 83 17 5E 89, Type 1",
          "B9 5D 22 14 86, Type 1",
          "A1 54 32 B1 53, Type 1",
          "FD 11 B7 CF 8F, Type 1",
          "DB 6B 59 3A 0C, Type 1",
          "F1 C2 1C 3A FC, Type 1",
          "31 19 64 3D 10, Type 2",
          "98 2C 1A AA 87, Type 1",
          "A2 D7 D0 A4 2A, Type 1",
          "D7 FC 44 05 CA, Type 2",
          "8A A0 53 AC 37, Type inconnu",
          "02 88 A7 94 50, Type 2",
          "64 0B 1B 0A 45, Type 2",
          "8A 77 B8 09 AD, Type 2",
          "51 B7 6E C2 FD, Type 2",
          "A4 03 5A F0 57, Type 2",
          "02 92 7B FF E6, Type 1",
          "90 A6 58 8A AD, Type 2",
          "F5 E4 FD A4 9F, Type 2",
          "06 25 B6 B7 F5, Type 1",
          "47 09 1C 5F 94, Type inconnu",
          "76 8F 56 DE 15, Type 2",
          "3D F6 5A B4 9D, Type 2",
          "3F 34 F5 32 80, Type inconnu",
          "A6 FD C4 C0 69, Type 2",
          "4F 9C 21 D3 31, Type 2",
          "4B 6C 17 74 29, Type inconnu",
          "94 EB 19 B7 18, Type 2",
          "12 A8 8F 3F 67, Type inconnu",
          "19 01 73 04 E2, Type 2",
          "A2 C1 35 C2 8C, Type 2",
          "0F 30 93 5E 0E, Type 2",
          "81 DB 14 CC 21, Type inconnu",
          "CA A2 77 FC 22, Type 2",
          "96 B8 5B 6F 8F, Type inconnu",
          "96 DD DC FE E3, Type 2",
          "21 36 06 E2 38, Type 2",
          "B7 CA E8 BC 99, Type 2",
          "3E C6 4C 31 8B, Type inconnu",
          "EF 4A CF 20 AF, Type 2"
         ],
         "marker": {
          "color": [
           "#33ffc9",
           "#33ffc9",
           "#C5C5C5",
           "#33ffc9",
           "#33ffc9",
           "#33ffc9",
           "#33ffc9",
           "#B3D9FF",
           "#B3D9FF",
           "#C5C5C5",
           "#33ffc9",
           "#33ffc9",
           "#33ffc9",
           "#C5C5C5",
           "#33ffc9",
           "#C5C5C5",
           "#33ffc9",
           "#33ffc9",
           "#33ffc9",
           "#33ffc9",
           "#33ffc9",
           "#33ffc9",
           "#B3D9FF",
           "#33ffc9",
           "#33ffc9",
           "#B3D9FF",
           "#C5C5C5",
           "#B3D9FF",
           "#B3D9FF",
           "#B3D9FF",
           "#B3D9FF",
           "#B3D9FF",
           "#33ffc9",
           "#B3D9FF",
           "#B3D9FF",
           "#33ffc9",
           "#C5C5C5",
           "#B3D9FF",
           "#B3D9FF",
           "#C5C5C5",
           "#B3D9FF",
           "#B3D9FF",
           "#C5C5C5",
           "#B3D9FF",
           "#C5C5C5",
           "#B3D9FF",
           "#B3D9FF",
           "#B3D9FF",
           "#C5C5C5",
           "#B3D9FF",
           "#C5C5C5",
           "#B3D9FF",
           "#B3D9FF",
           "#B3D9FF",
           "#C5C5C5",
           "#B3D9FF"
          ],
          "size": 10
         },
         "mode": "markers+text",
         "type": "scatter",
         "x": [
          18,
          19,
          20,
          20,
          21,
          23,
          25,
          25,
          26,
          27,
          27,
          28,
          28,
          28,
          28,
          30,
          30,
          31,
          31,
          32,
          34,
          34,
          35,
          35,
          36,
          36,
          37,
          38,
          38,
          38,
          40,
          40,
          41,
          42,
          43,
          44,
          44,
          45,
          46,
          47,
          48,
          52,
          55,
          57,
          57,
          59,
          59,
          59,
          60,
          60,
          62,
          64,
          67,
          72,
          74,
          74
         ],
         "xaxis": "x6",
         "y": [
          54,
          57,
          79,
          74,
          71,
          96,
          58,
          61,
          79,
          96,
          null,
          58,
          null,
          93,
          87,
          82,
          null,
          66,
          58,
          96,
          48,
          77,
          79,
          66,
          61,
          84,
          109,
          93,
          112,
          90,
          98,
          104,
          null,
          90,
          119,
          77,
          93,
          87,
          106,
          79,
          96,
          106,
          109,
          112,
          77,
          106,
          null,
          null,
          122,
          82,
          114,
          104,
          null,
          109,
          90,
          109
         ],
         "yaxis": "y6"
        },
        {
         "hovertext": [
          "EF 2E 22 E0 EA, Type 1",
          "B6 A4 CD 3A 81, Type 1",
          "76 A2 26 6F C7, Type inconnu",
          "C2 C3 05 A8 4B, Type 1",
          "39 CA BD 3C 82, Type 1",
          "7B DE 78 5B F6, Type 1",
          "9B 8E 44 F8 FF, Type 1",
          "EA 6F FF DE 42, Type 2",
          "90 01 09 71 F0, Type 2",
          "39 35 88 38 7B, Type inconnu",
          "35 86 13 56 24, Type 1",
          "7D 76 3D FC 91, Type 1",
          "73 EC 1B D7 9B, Type 1",
          "81 03 8C 07 58, Type inconnu",
          "AB A5 ED 43 8B, Type 1",
          "48 84 25 4A E0, Type inconnu",
          "01 83 17 5E 89, Type 1",
          "B9 5D 22 14 86, Type 1",
          "A1 54 32 B1 53, Type 1",
          "FD 11 B7 CF 8F, Type 1",
          "DB 6B 59 3A 0C, Type 1",
          "F1 C2 1C 3A FC, Type 1",
          "31 19 64 3D 10, Type 2",
          "98 2C 1A AA 87, Type 1",
          "A2 D7 D0 A4 2A, Type 1",
          "D7 FC 44 05 CA, Type 2",
          "8A A0 53 AC 37, Type inconnu",
          "02 88 A7 94 50, Type 2",
          "64 0B 1B 0A 45, Type 2",
          "8A 77 B8 09 AD, Type 2",
          "51 B7 6E C2 FD, Type 2",
          "A4 03 5A F0 57, Type 2",
          "02 92 7B FF E6, Type 1",
          "90 A6 58 8A AD, Type 2",
          "F5 E4 FD A4 9F, Type 2",
          "06 25 B6 B7 F5, Type 1",
          "47 09 1C 5F 94, Type inconnu",
          "76 8F 56 DE 15, Type 2",
          "3D F6 5A B4 9D, Type 2",
          "3F 34 F5 32 80, Type inconnu",
          "A6 FD C4 C0 69, Type 2",
          "4F 9C 21 D3 31, Type 2",
          "4B 6C 17 74 29, Type inconnu",
          "94 EB 19 B7 18, Type 2",
          "12 A8 8F 3F 67, Type inconnu",
          "19 01 73 04 E2, Type 2",
          "A2 C1 35 C2 8C, Type 2",
          "0F 30 93 5E 0E, Type 2",
          "81 DB 14 CC 21, Type inconnu",
          "CA A2 77 FC 22, Type 2",
          "96 B8 5B 6F 8F, Type inconnu",
          "96 DD DC FE E3, Type 2",
          "21 36 06 E2 38, Type 2",
          "B7 CA E8 BC 99, Type 2",
          "3E C6 4C 31 8B, Type inconnu",
          "EF 4A CF 20 AF, Type 2"
         ],
         "marker": {
          "color": [
           "#33ffc9",
           "#33ffc9",
           "#C5C5C5",
           "#33ffc9",
           "#33ffc9",
           "#33ffc9",
           "#33ffc9",
           "#B3D9FF",
           "#B3D9FF",
           "#C5C5C5",
           "#33ffc9",
           "#33ffc9",
           "#33ffc9",
           "#C5C5C5",
           "#33ffc9",
           "#C5C5C5",
           "#33ffc9",
           "#33ffc9",
           "#33ffc9",
           "#33ffc9",
           "#33ffc9",
           "#33ffc9",
           "#B3D9FF",
           "#33ffc9",
           "#33ffc9",
           "#B3D9FF",
           "#C5C5C5",
           "#B3D9FF",
           "#B3D9FF",
           "#B3D9FF",
           "#B3D9FF",
           "#B3D9FF",
           "#33ffc9",
           "#B3D9FF",
           "#B3D9FF",
           "#33ffc9",
           "#C5C5C5",
           "#B3D9FF",
           "#B3D9FF",
           "#C5C5C5",
           "#B3D9FF",
           "#B3D9FF",
           "#C5C5C5",
           "#B3D9FF",
           "#C5C5C5",
           "#B3D9FF",
           "#B3D9FF",
           "#B3D9FF",
           "#C5C5C5",
           "#B3D9FF",
           "#C5C5C5",
           "#B3D9FF",
           "#B3D9FF",
           "#B3D9FF",
           "#C5C5C5",
           "#B3D9FF"
          ],
          "size": 10
         },
         "mode": "markers+text",
         "type": "scatter",
         "x": [
          18,
          19,
          20,
          20,
          21,
          23,
          25,
          25,
          26,
          27,
          27,
          28,
          28,
          28,
          28,
          30,
          30,
          31,
          31,
          32,
          34,
          34,
          35,
          35,
          36,
          36,
          37,
          38,
          38,
          38,
          40,
          40,
          41,
          42,
          43,
          44,
          44,
          45,
          46,
          47,
          48,
          52,
          55,
          57,
          57,
          59,
          59,
          59,
          60,
          60,
          62,
          64,
          67,
          72,
          74,
          74
         ],
         "xaxis": "x7",
         "y": [
          68,
          71,
          93,
          88,
          86,
          110,
          73,
          75,
          93,
          110,
          null,
          73,
          null,
          107,
          102,
          96,
          null,
          80,
          73,
          110,
          62,
          91,
          93,
          80,
          75,
          99,
          123,
          107,
          126,
          104,
          113,
          118,
          null,
          104,
          133,
          91,
          107,
          102,
          120,
          93,
          110,
          120,
          123,
          126,
          91,
          120,
          null,
          null,
          136,
          96,
          132,
          118,
          null,
          123,
          104,
          123
         ],
         "yaxis": "y7"
        },
        {
         "hovertext": [
          "EF 2E 22 E0 EA, Type 1",
          "B6 A4 CD 3A 81, Type 1",
          "76 A2 26 6F C7, Type inconnu",
          "C2 C3 05 A8 4B, Type 1",
          "39 CA BD 3C 82, Type 1",
          "7B DE 78 5B F6, Type 1",
          "9B 8E 44 F8 FF, Type 1",
          "EA 6F FF DE 42, Type 2",
          "90 01 09 71 F0, Type 2",
          "39 35 88 38 7B, Type inconnu",
          "35 86 13 56 24, Type 1",
          "7D 76 3D FC 91, Type 1",
          "73 EC 1B D7 9B, Type 1",
          "81 03 8C 07 58, Type inconnu",
          "AB A5 ED 43 8B, Type 1",
          "48 84 25 4A E0, Type inconnu",
          "01 83 17 5E 89, Type 1",
          "B9 5D 22 14 86, Type 1",
          "A1 54 32 B1 53, Type 1",
          "FD 11 B7 CF 8F, Type 1",
          "DB 6B 59 3A 0C, Type 1",
          "F1 C2 1C 3A FC, Type 1",
          "31 19 64 3D 10, Type 2",
          "98 2C 1A AA 87, Type 1",
          "A2 D7 D0 A4 2A, Type 1",
          "D7 FC 44 05 CA, Type 2",
          "8A A0 53 AC 37, Type inconnu",
          "02 88 A7 94 50, Type 2",
          "64 0B 1B 0A 45, Type 2",
          "8A 77 B8 09 AD, Type 2",
          "51 B7 6E C2 FD, Type 2",
          "A4 03 5A F0 57, Type 2",
          "02 92 7B FF E6, Type 1",
          "90 A6 58 8A AD, Type 2",
          "F5 E4 FD A4 9F, Type 2",
          "06 25 B6 B7 F5, Type 1",
          "47 09 1C 5F 94, Type inconnu",
          "76 8F 56 DE 15, Type 2",
          "3D F6 5A B4 9D, Type 2",
          "3F 34 F5 32 80, Type inconnu",
          "A6 FD C4 C0 69, Type 2",
          "4F 9C 21 D3 31, Type 2",
          "4B 6C 17 74 29, Type inconnu",
          "94 EB 19 B7 18, Type 2",
          "12 A8 8F 3F 67, Type inconnu",
          "19 01 73 04 E2, Type 2",
          "A2 C1 35 C2 8C, Type 2",
          "0F 30 93 5E 0E, Type 2",
          "81 DB 14 CC 21, Type inconnu",
          "CA A2 77 FC 22, Type 2",
          "96 B8 5B 6F 8F, Type inconnu",
          "96 DD DC FE E3, Type 2",
          "21 36 06 E2 38, Type 2",
          "B7 CA E8 BC 99, Type 2",
          "3E C6 4C 31 8B, Type inconnu",
          "EF 4A CF 20 AF, Type 2"
         ],
         "marker": {
          "color": [
           "#33ffc9",
           "#33ffc9",
           "#C5C5C5",
           "#33ffc9",
           "#33ffc9",
           "#33ffc9",
           "#33ffc9",
           "#B3D9FF",
           "#B3D9FF",
           "#C5C5C5",
           "#33ffc9",
           "#33ffc9",
           "#33ffc9",
           "#C5C5C5",
           "#33ffc9",
           "#C5C5C5",
           "#33ffc9",
           "#33ffc9",
           "#33ffc9",
           "#33ffc9",
           "#33ffc9",
           "#33ffc9",
           "#B3D9FF",
           "#33ffc9",
           "#33ffc9",
           "#B3D9FF",
           "#C5C5C5",
           "#B3D9FF",
           "#B3D9FF",
           "#B3D9FF",
           "#B3D9FF",
           "#B3D9FF",
           "#33ffc9",
           "#B3D9FF",
           "#B3D9FF",
           "#33ffc9",
           "#C5C5C5",
           "#B3D9FF",
           "#B3D9FF",
           "#C5C5C5",
           "#B3D9FF",
           "#B3D9FF",
           "#C5C5C5",
           "#B3D9FF",
           "#C5C5C5",
           "#B3D9FF",
           "#B3D9FF",
           "#B3D9FF",
           "#C5C5C5",
           "#B3D9FF",
           "#C5C5C5",
           "#B3D9FF",
           "#B3D9FF",
           "#B3D9FF",
           "#C5C5C5",
           "#B3D9FF"
          ],
          "size": 10
         },
         "mode": "markers+text",
         "type": "scatter",
         "x": [
          18,
          19,
          20,
          20,
          21,
          23,
          25,
          25,
          26,
          27,
          27,
          28,
          28,
          28,
          28,
          30,
          30,
          31,
          31,
          32,
          34,
          34,
          35,
          35,
          36,
          36,
          37,
          38,
          38,
          38,
          40,
          40,
          41,
          42,
          43,
          44,
          44,
          45,
          46,
          47,
          48,
          52,
          55,
          57,
          57,
          59,
          59,
          59,
          60,
          60,
          62,
          64,
          67,
          72,
          74,
          74
         ],
         "xaxis": "x",
         "y": [
          2,
          3,
          7,
          4,
          5,
          11,
          4,
          4,
          6,
          8,
          1,
          4,
          null,
          6,
          7,
          7,
          null,
          5,
          4,
          7,
          2,
          5,
          10,
          7,
          4,
          7,
          11,
          9,
          14,
          8,
          12,
          12,
          null,
          10,
          15,
          7,
          12,
          7,
          12,
          8,
          10,
          15,
          14,
          13,
          8,
          12,
          12,
          10,
          15,
          7,
          13,
          11,
          3,
          10,
          12,
          14
         ],
         "yaxis": "y"
        },
        {
         "hovertext": [
          "EF 2E 22 E0 EA, Type 1",
          "B6 A4 CD 3A 81, Type 1",
          "76 A2 26 6F C7, Type inconnu",
          "C2 C3 05 A8 4B, Type 1",
          "39 CA BD 3C 82, Type 1",
          "7B DE 78 5B F6, Type 1",
          "9B 8E 44 F8 FF, Type 1",
          "EA 6F FF DE 42, Type 2",
          "90 01 09 71 F0, Type 2",
          "39 35 88 38 7B, Type inconnu",
          "35 86 13 56 24, Type 1",
          "7D 76 3D FC 91, Type 1",
          "73 EC 1B D7 9B, Type 1",
          "81 03 8C 07 58, Type inconnu",
          "AB A5 ED 43 8B, Type 1",
          "48 84 25 4A E0, Type inconnu",
          "01 83 17 5E 89, Type 1",
          "B9 5D 22 14 86, Type 1",
          "A1 54 32 B1 53, Type 1",
          "FD 11 B7 CF 8F, Type 1",
          "DB 6B 59 3A 0C, Type 1",
          "F1 C2 1C 3A FC, Type 1",
          "31 19 64 3D 10, Type 2",
          "98 2C 1A AA 87, Type 1",
          "A2 D7 D0 A4 2A, Type 1",
          "D7 FC 44 05 CA, Type 2",
          "8A A0 53 AC 37, Type inconnu",
          "02 88 A7 94 50, Type 2",
          "64 0B 1B 0A 45, Type 2",
          "8A 77 B8 09 AD, Type 2",
          "51 B7 6E C2 FD, Type 2",
          "A4 03 5A F0 57, Type 2",
          "02 92 7B FF E6, Type 1",
          "90 A6 58 8A AD, Type 2",
          "F5 E4 FD A4 9F, Type 2",
          "06 25 B6 B7 F5, Type 1",
          "47 09 1C 5F 94, Type inconnu",
          "76 8F 56 DE 15, Type 2",
          "3D F6 5A B4 9D, Type 2",
          "3F 34 F5 32 80, Type inconnu",
          "A6 FD C4 C0 69, Type 2",
          "4F 9C 21 D3 31, Type 2",
          "4B 6C 17 74 29, Type inconnu",
          "94 EB 19 B7 18, Type 2",
          "12 A8 8F 3F 67, Type inconnu",
          "19 01 73 04 E2, Type 2",
          "A2 C1 35 C2 8C, Type 2",
          "0F 30 93 5E 0E, Type 2",
          "81 DB 14 CC 21, Type inconnu",
          "CA A2 77 FC 22, Type 2",
          "96 B8 5B 6F 8F, Type inconnu",
          "96 DD DC FE E3, Type 2",
          "21 36 06 E2 38, Type 2",
          "B7 CA E8 BC 99, Type 2",
          "3E C6 4C 31 8B, Type inconnu",
          "EF 4A CF 20 AF, Type 2"
         ],
         "marker": {
          "color": [
           "#33ffc9",
           "#33ffc9",
           "#C5C5C5",
           "#33ffc9",
           "#33ffc9",
           "#33ffc9",
           "#33ffc9",
           "#B3D9FF",
           "#B3D9FF",
           "#C5C5C5",
           "#33ffc9",
           "#33ffc9",
           "#33ffc9",
           "#C5C5C5",
           "#33ffc9",
           "#C5C5C5",
           "#33ffc9",
           "#33ffc9",
           "#33ffc9",
           "#33ffc9",
           "#33ffc9",
           "#33ffc9",
           "#B3D9FF",
           "#33ffc9",
           "#33ffc9",
           "#B3D9FF",
           "#C5C5C5",
           "#B3D9FF",
           "#B3D9FF",
           "#B3D9FF",
           "#B3D9FF",
           "#B3D9FF",
           "#33ffc9",
           "#B3D9FF",
           "#B3D9FF",
           "#33ffc9",
           "#C5C5C5",
           "#B3D9FF",
           "#B3D9FF",
           "#C5C5C5",
           "#B3D9FF",
           "#B3D9FF",
           "#C5C5C5",
           "#B3D9FF",
           "#C5C5C5",
           "#B3D9FF",
           "#B3D9FF",
           "#B3D9FF",
           "#C5C5C5",
           "#B3D9FF",
           "#C5C5C5",
           "#B3D9FF",
           "#B3D9FF",
           "#B3D9FF",
           "#C5C5C5",
           "#B3D9FF"
          ],
          "size": 10
         },
         "mode": "markers+text",
         "type": "scatter",
         "x": [
          18,
          19,
          20,
          20,
          21,
          23,
          25,
          25,
          26,
          27,
          27,
          28,
          28,
          28,
          28,
          30,
          30,
          31,
          31,
          32,
          34,
          34,
          35,
          35,
          36,
          36,
          37,
          38,
          38,
          38,
          40,
          40,
          41,
          42,
          43,
          44,
          44,
          45,
          46,
          47,
          48,
          52,
          55,
          57,
          57,
          59,
          59,
          59,
          60,
          60,
          62,
          64,
          67,
          72,
          74,
          74
         ],
         "xaxis": "x2",
         "y": [
          3,
          3,
          8,
          9,
          7,
          10,
          3,
          4,
          9,
          13,
          null,
          3,
          5,
          14,
          11,
          9,
          null,
          5,
          3,
          14,
          1,
          9,
          5,
          3,
          4,
          10,
          15,
          11,
          13,
          11,
          10,
          12,
          null,
          9,
          15,
          7,
          8,
          11,
          13,
          7,
          11,
          10,
          12,
          14,
          6,
          13,
          null,
          null,
          16,
          9,
          16,
          13,
          null,
          16,
          7,
          12
         ],
         "yaxis": "y2"
        },
        {
         "hovertext": [
          "EF 2E 22 E0 EA, Type 1",
          "B6 A4 CD 3A 81, Type 1",
          "76 A2 26 6F C7, Type inconnu",
          "C2 C3 05 A8 4B, Type 1",
          "39 CA BD 3C 82, Type 1",
          "7B DE 78 5B F6, Type 1",
          "9B 8E 44 F8 FF, Type 1",
          "EA 6F FF DE 42, Type 2",
          "90 01 09 71 F0, Type 2",
          "39 35 88 38 7B, Type inconnu",
          "35 86 13 56 24, Type 1",
          "7D 76 3D FC 91, Type 1",
          "73 EC 1B D7 9B, Type 1",
          "81 03 8C 07 58, Type inconnu",
          "AB A5 ED 43 8B, Type 1",
          "48 84 25 4A E0, Type inconnu",
          "01 83 17 5E 89, Type 1",
          "B9 5D 22 14 86, Type 1",
          "A1 54 32 B1 53, Type 1",
          "FD 11 B7 CF 8F, Type 1",
          "DB 6B 59 3A 0C, Type 1",
          "F1 C2 1C 3A FC, Type 1",
          "31 19 64 3D 10, Type 2",
          "98 2C 1A AA 87, Type 1",
          "A2 D7 D0 A4 2A, Type 1",
          "D7 FC 44 05 CA, Type 2",
          "8A A0 53 AC 37, Type inconnu",
          "02 88 A7 94 50, Type 2",
          "64 0B 1B 0A 45, Type 2",
          "8A 77 B8 09 AD, Type 2",
          "51 B7 6E C2 FD, Type 2",
          "A4 03 5A F0 57, Type 2",
          "02 92 7B FF E6, Type 1",
          "90 A6 58 8A AD, Type 2",
          "F5 E4 FD A4 9F, Type 2",
          "06 25 B6 B7 F5, Type 1",
          "47 09 1C 5F 94, Type inconnu",
          "76 8F 56 DE 15, Type 2",
          "3D F6 5A B4 9D, Type 2",
          "3F 34 F5 32 80, Type inconnu",
          "A6 FD C4 C0 69, Type 2",
          "4F 9C 21 D3 31, Type 2",
          "4B 6C 17 74 29, Type inconnu",
          "94 EB 19 B7 18, Type 2",
          "12 A8 8F 3F 67, Type inconnu",
          "19 01 73 04 E2, Type 2",
          "A2 C1 35 C2 8C, Type 2",
          "0F 30 93 5E 0E, Type 2",
          "81 DB 14 CC 21, Type inconnu",
          "CA A2 77 FC 22, Type 2",
          "96 B8 5B 6F 8F, Type inconnu",
          "96 DD DC FE E3, Type 2",
          "21 36 06 E2 38, Type 2",
          "B7 CA E8 BC 99, Type 2",
          "3E C6 4C 31 8B, Type inconnu",
          "EF 4A CF 20 AF, Type 2"
         ],
         "marker": {
          "color": [
           "#33ffc9",
           "#33ffc9",
           "#C5C5C5",
           "#33ffc9",
           "#33ffc9",
           "#33ffc9",
           "#33ffc9",
           "#B3D9FF",
           "#B3D9FF",
           "#C5C5C5",
           "#33ffc9",
           "#33ffc9",
           "#33ffc9",
           "#C5C5C5",
           "#33ffc9",
           "#C5C5C5",
           "#33ffc9",
           "#33ffc9",
           "#33ffc9",
           "#33ffc9",
           "#33ffc9",
           "#33ffc9",
           "#B3D9FF",
           "#33ffc9",
           "#33ffc9",
           "#B3D9FF",
           "#C5C5C5",
           "#B3D9FF",
           "#B3D9FF",
           "#B3D9FF",
           "#B3D9FF",
           "#B3D9FF",
           "#33ffc9",
           "#B3D9FF",
           "#B3D9FF",
           "#33ffc9",
           "#C5C5C5",
           "#B3D9FF",
           "#B3D9FF",
           "#C5C5C5",
           "#B3D9FF",
           "#B3D9FF",
           "#C5C5C5",
           "#B3D9FF",
           "#C5C5C5",
           "#B3D9FF",
           "#B3D9FF",
           "#B3D9FF",
           "#C5C5C5",
           "#B3D9FF",
           "#C5C5C5",
           "#B3D9FF",
           "#B3D9FF",
           "#B3D9FF",
           "#C5C5C5",
           "#B3D9FF"
          ],
          "size": 10
         },
         "mode": "markers+text",
         "type": "scatter",
         "x": [
          18,
          19,
          20,
          20,
          21,
          23,
          25,
          25,
          26,
          27,
          27,
          28,
          28,
          28,
          28,
          30,
          30,
          31,
          31,
          32,
          34,
          34,
          35,
          35,
          36,
          36,
          37,
          38,
          38,
          38,
          40,
          40,
          41,
          42,
          43,
          44,
          44,
          45,
          46,
          47,
          48,
          52,
          55,
          57,
          57,
          59,
          59,
          59,
          60,
          60,
          62,
          64,
          67,
          72,
          74,
          74
         ],
         "xaxis": "x3",
         "y": [
          5,
          6,
          15,
          13,
          12,
          21,
          7,
          8,
          15,
          21,
          null,
          7,
          null,
          20,
          18,
          16,
          null,
          10,
          7,
          21,
          3,
          14,
          15,
          10,
          8,
          17,
          26,
          20,
          27,
          19,
          22,
          24,
          null,
          19,
          30,
          14,
          20,
          18,
          25,
          15,
          21,
          25,
          26,
          27,
          14,
          25,
          null,
          null,
          31,
          16,
          29,
          24,
          null,
          26,
          19,
          26
         ],
         "yaxis": "y3"
        },
        {
         "hovertext": [
          "EF 2E 22 E0 EA, Type 1",
          "B6 A4 CD 3A 81, Type 1",
          "76 A2 26 6F C7, Type inconnu",
          "C2 C3 05 A8 4B, Type 1",
          "39 CA BD 3C 82, Type 1",
          "7B DE 78 5B F6, Type 1",
          "9B 8E 44 F8 FF, Type 1",
          "EA 6F FF DE 42, Type 2",
          "90 01 09 71 F0, Type 2",
          "39 35 88 38 7B, Type inconnu",
          "35 86 13 56 24, Type 1",
          "7D 76 3D FC 91, Type 1",
          "73 EC 1B D7 9B, Type 1",
          "81 03 8C 07 58, Type inconnu",
          "AB A5 ED 43 8B, Type 1",
          "48 84 25 4A E0, Type inconnu",
          "01 83 17 5E 89, Type 1",
          "B9 5D 22 14 86, Type 1",
          "A1 54 32 B1 53, Type 1",
          "FD 11 B7 CF 8F, Type 1",
          "DB 6B 59 3A 0C, Type 1",
          "F1 C2 1C 3A FC, Type 1",
          "31 19 64 3D 10, Type 2",
          "98 2C 1A AA 87, Type 1",
          "A2 D7 D0 A4 2A, Type 1",
          "D7 FC 44 05 CA, Type 2",
          "8A A0 53 AC 37, Type inconnu",
          "02 88 A7 94 50, Type 2",
          "64 0B 1B 0A 45, Type 2",
          "8A 77 B8 09 AD, Type 2",
          "51 B7 6E C2 FD, Type 2",
          "A4 03 5A F0 57, Type 2",
          "02 92 7B FF E6, Type 1",
          "90 A6 58 8A AD, Type 2",
          "F5 E4 FD A4 9F, Type 2",
          "06 25 B6 B7 F5, Type 1",
          "47 09 1C 5F 94, Type inconnu",
          "76 8F 56 DE 15, Type 2",
          "3D F6 5A B4 9D, Type 2",
          "3F 34 F5 32 80, Type inconnu",
          "A6 FD C4 C0 69, Type 2",
          "4F 9C 21 D3 31, Type 2",
          "4B 6C 17 74 29, Type inconnu",
          "94 EB 19 B7 18, Type 2",
          "12 A8 8F 3F 67, Type inconnu",
          "19 01 73 04 E2, Type 2",
          "A2 C1 35 C2 8C, Type 2",
          "0F 30 93 5E 0E, Type 2",
          "81 DB 14 CC 21, Type inconnu",
          "CA A2 77 FC 22, Type 2",
          "96 B8 5B 6F 8F, Type inconnu",
          "96 DD DC FE E3, Type 2",
          "21 36 06 E2 38, Type 2",
          "B7 CA E8 BC 99, Type 2",
          "3E C6 4C 31 8B, Type inconnu",
          "EF 4A CF 20 AF, Type 2"
         ],
         "marker": {
          "color": [
           "#33ffc9",
           "#33ffc9",
           "#C5C5C5",
           "#33ffc9",
           "#33ffc9",
           "#33ffc9",
           "#33ffc9",
           "#B3D9FF",
           "#B3D9FF",
           "#C5C5C5",
           "#33ffc9",
           "#33ffc9",
           "#33ffc9",
           "#C5C5C5",
           "#33ffc9",
           "#C5C5C5",
           "#33ffc9",
           "#33ffc9",
           "#33ffc9",
           "#33ffc9",
           "#33ffc9",
           "#33ffc9",
           "#B3D9FF",
           "#33ffc9",
           "#33ffc9",
           "#B3D9FF",
           "#C5C5C5",
           "#B3D9FF",
           "#B3D9FF",
           "#B3D9FF",
           "#B3D9FF",
           "#B3D9FF",
           "#33ffc9",
           "#B3D9FF",
           "#B3D9FF",
           "#33ffc9",
           "#C5C5C5",
           "#B3D9FF",
           "#B3D9FF",
           "#C5C5C5",
           "#B3D9FF",
           "#B3D9FF",
           "#C5C5C5",
           "#B3D9FF",
           "#C5C5C5",
           "#B3D9FF",
           "#B3D9FF",
           "#B3D9FF",
           "#C5C5C5",
           "#B3D9FF",
           "#C5C5C5",
           "#B3D9FF",
           "#B3D9FF",
           "#B3D9FF",
           "#C5C5C5",
           "#B3D9FF"
          ],
          "size": 10
         },
         "mode": "markers+text",
         "type": "scatter",
         "x": [
          18,
          19,
          20,
          20,
          21,
          23,
          25,
          25,
          26,
          27,
          27,
          28,
          28,
          28,
          28,
          30,
          30,
          31,
          31,
          32,
          34,
          34,
          35,
          35,
          36,
          36,
          37,
          38,
          38,
          38,
          40,
          40,
          41,
          42,
          43,
          44,
          44,
          45,
          46,
          47,
          48,
          52,
          55,
          57,
          57,
          59,
          59,
          59,
          60,
          60,
          62,
          64,
          67,
          72,
          74,
          74
         ],
         "xaxis": "x4",
         "y": [
          58,
          61,
          85,
          80,
          77,
          103,
          63,
          66,
          85,
          103,
          null,
          63,
          null,
          100,
          94,
          88,
          null,
          71,
          63,
          103,
          52,
          83,
          85,
          71,
          66,
          91,
          117,
          100,
          120,
          97,
          106,
          112,
          null,
          97,
          128,
          83,
          100,
          94,
          114,
          85,
          103,
          114,
          117,
          120,
          83,
          114,
          null,
          null,
          131,
          88,
          126,
          112,
          null,
          117,
          97,
          117
         ],
         "yaxis": "y4"
        },
        {
         "hovertext": [
          "EF 2E 22 E0 EA, Type 1",
          "B6 A4 CD 3A 81, Type 1",
          "76 A2 26 6F C7, Type inconnu",
          "C2 C3 05 A8 4B, Type 1",
          "39 CA BD 3C 82, Type 1",
          "7B DE 78 5B F6, Type 1",
          "9B 8E 44 F8 FF, Type 1",
          "EA 6F FF DE 42, Type 2",
          "90 01 09 71 F0, Type 2",
          "39 35 88 38 7B, Type inconnu",
          "35 86 13 56 24, Type 1",
          "7D 76 3D FC 91, Type 1",
          "73 EC 1B D7 9B, Type 1",
          "81 03 8C 07 58, Type inconnu",
          "AB A5 ED 43 8B, Type 1",
          "48 84 25 4A E0, Type inconnu",
          "01 83 17 5E 89, Type 1",
          "B9 5D 22 14 86, Type 1",
          "A1 54 32 B1 53, Type 1",
          "FD 11 B7 CF 8F, Type 1",
          "DB 6B 59 3A 0C, Type 1",
          "F1 C2 1C 3A FC, Type 1",
          "31 19 64 3D 10, Type 2",
          "98 2C 1A AA 87, Type 1",
          "A2 D7 D0 A4 2A, Type 1",
          "D7 FC 44 05 CA, Type 2",
          "8A A0 53 AC 37, Type inconnu",
          "02 88 A7 94 50, Type 2",
          "64 0B 1B 0A 45, Type 2",
          "8A 77 B8 09 AD, Type 2",
          "51 B7 6E C2 FD, Type 2",
          "A4 03 5A F0 57, Type 2",
          "02 92 7B FF E6, Type 1",
          "90 A6 58 8A AD, Type 2",
          "F5 E4 FD A4 9F, Type 2",
          "06 25 B6 B7 F5, Type 1",
          "47 09 1C 5F 94, Type inconnu",
          "76 8F 56 DE 15, Type 2",
          "3D F6 5A B4 9D, Type 2",
          "3F 34 F5 32 80, Type inconnu",
          "A6 FD C4 C0 69, Type 2",
          "4F 9C 21 D3 31, Type 2",
          "4B 6C 17 74 29, Type inconnu",
          "94 EB 19 B7 18, Type 2",
          "12 A8 8F 3F 67, Type inconnu",
          "19 01 73 04 E2, Type 2",
          "A2 C1 35 C2 8C, Type 2",
          "0F 30 93 5E 0E, Type 2",
          "81 DB 14 CC 21, Type inconnu",
          "CA A2 77 FC 22, Type 2",
          "96 B8 5B 6F 8F, Type inconnu",
          "96 DD DC FE E3, Type 2",
          "21 36 06 E2 38, Type 2",
          "B7 CA E8 BC 99, Type 2",
          "3E C6 4C 31 8B, Type inconnu",
          "EF 4A CF 20 AF, Type 2"
         ],
         "marker": {
          "color": [
           "#33ffc9",
           "#33ffc9",
           "#C5C5C5",
           "#33ffc9",
           "#33ffc9",
           "#33ffc9",
           "#33ffc9",
           "#B3D9FF",
           "#B3D9FF",
           "#C5C5C5",
           "#33ffc9",
           "#33ffc9",
           "#33ffc9",
           "#C5C5C5",
           "#33ffc9",
           "#C5C5C5",
           "#33ffc9",
           "#33ffc9",
           "#33ffc9",
           "#33ffc9",
           "#33ffc9",
           "#33ffc9",
           "#B3D9FF",
           "#33ffc9",
           "#33ffc9",
           "#B3D9FF",
           "#C5C5C5",
           "#B3D9FF",
           "#B3D9FF",
           "#B3D9FF",
           "#B3D9FF",
           "#B3D9FF",
           "#33ffc9",
           "#B3D9FF",
           "#B3D9FF",
           "#33ffc9",
           "#C5C5C5",
           "#B3D9FF",
           "#B3D9FF",
           "#C5C5C5",
           "#B3D9FF",
           "#B3D9FF",
           "#C5C5C5",
           "#B3D9FF",
           "#C5C5C5",
           "#B3D9FF",
           "#B3D9FF",
           "#B3D9FF",
           "#C5C5C5",
           "#B3D9FF",
           "#C5C5C5",
           "#B3D9FF",
           "#B3D9FF",
           "#B3D9FF",
           "#C5C5C5",
           "#B3D9FF"
          ],
          "size": 10
         },
         "mode": "markers+text",
         "type": "scatter",
         "x": [
          18,
          19,
          20,
          20,
          21,
          23,
          25,
          25,
          26,
          27,
          27,
          28,
          28,
          28,
          28,
          30,
          30,
          31,
          31,
          32,
          34,
          34,
          35,
          35,
          36,
          36,
          37,
          38,
          38,
          38,
          40,
          40,
          41,
          42,
          43,
          44,
          44,
          45,
          46,
          47,
          48,
          52,
          55,
          57,
          57,
          59,
          59,
          59,
          60,
          60,
          62,
          64,
          67,
          72,
          74,
          74
         ],
         "xaxis": "x5",
         "y": [
          0,
          0,
          16,
          9,
          6,
          58,
          1,
          1,
          16,
          58,
          null,
          1,
          null,
          50,
          34,
          21,
          null,
          3,
          1,
          58,
          1,
          13,
          16,
          3,
          1,
          27,
          87,
          50,
          91,
          42,
          66,
          79,
          null,
          42,
          97,
          13,
          50,
          34,
          82,
          16,
          58,
          82,
          87,
          91,
          13,
          82,
          null,
          null,
          98,
          21,
          96,
          79,
          null,
          87,
          42,
          87
         ],
         "yaxis": "y5"
        },
        {
         "hovertext": [
          "EF 2E 22 E0 EA, Type 1",
          "B6 A4 CD 3A 81, Type 1",
          "76 A2 26 6F C7, Type inconnu",
          "C2 C3 05 A8 4B, Type 1",
          "39 CA BD 3C 82, Type 1",
          "7B DE 78 5B F6, Type 1",
          "9B 8E 44 F8 FF, Type 1",
          "EA 6F FF DE 42, Type 2",
          "90 01 09 71 F0, Type 2",
          "39 35 88 38 7B, Type inconnu",
          "35 86 13 56 24, Type 1",
          "7D 76 3D FC 91, Type 1",
          "73 EC 1B D7 9B, Type 1",
          "81 03 8C 07 58, Type inconnu",
          "AB A5 ED 43 8B, Type 1",
          "48 84 25 4A E0, Type inconnu",
          "01 83 17 5E 89, Type 1",
          "B9 5D 22 14 86, Type 1",
          "A1 54 32 B1 53, Type 1",
          "FD 11 B7 CF 8F, Type 1",
          "DB 6B 59 3A 0C, Type 1",
          "F1 C2 1C 3A FC, Type 1",
          "31 19 64 3D 10, Type 2",
          "98 2C 1A AA 87, Type 1",
          "A2 D7 D0 A4 2A, Type 1",
          "D7 FC 44 05 CA, Type 2",
          "8A A0 53 AC 37, Type inconnu",
          "02 88 A7 94 50, Type 2",
          "64 0B 1B 0A 45, Type 2",
          "8A 77 B8 09 AD, Type 2",
          "51 B7 6E C2 FD, Type 2",
          "A4 03 5A F0 57, Type 2",
          "02 92 7B FF E6, Type 1",
          "90 A6 58 8A AD, Type 2",
          "F5 E4 FD A4 9F, Type 2",
          "06 25 B6 B7 F5, Type 1",
          "47 09 1C 5F 94, Type inconnu",
          "76 8F 56 DE 15, Type 2",
          "3D F6 5A B4 9D, Type 2",
          "3F 34 F5 32 80, Type inconnu",
          "A6 FD C4 C0 69, Type 2",
          "4F 9C 21 D3 31, Type 2",
          "4B 6C 17 74 29, Type inconnu",
          "94 EB 19 B7 18, Type 2",
          "12 A8 8F 3F 67, Type inconnu",
          "19 01 73 04 E2, Type 2",
          "A2 C1 35 C2 8C, Type 2",
          "0F 30 93 5E 0E, Type 2",
          "81 DB 14 CC 21, Type inconnu",
          "CA A2 77 FC 22, Type 2",
          "96 B8 5B 6F 8F, Type inconnu",
          "96 DD DC FE E3, Type 2",
          "21 36 06 E2 38, Type 2",
          "B7 CA E8 BC 99, Type 2",
          "3E C6 4C 31 8B, Type inconnu",
          "EF 4A CF 20 AF, Type 2"
         ],
         "marker": {
          "color": [
           "#33ffc9",
           "#33ffc9",
           "#C5C5C5",
           "#33ffc9",
           "#33ffc9",
           "#33ffc9",
           "#33ffc9",
           "#B3D9FF",
           "#B3D9FF",
           "#C5C5C5",
           "#33ffc9",
           "#33ffc9",
           "#33ffc9",
           "#C5C5C5",
           "#33ffc9",
           "#C5C5C5",
           "#33ffc9",
           "#33ffc9",
           "#33ffc9",
           "#33ffc9",
           "#33ffc9",
           "#33ffc9",
           "#B3D9FF",
           "#33ffc9",
           "#33ffc9",
           "#B3D9FF",
           "#C5C5C5",
           "#B3D9FF",
           "#B3D9FF",
           "#B3D9FF",
           "#B3D9FF",
           "#B3D9FF",
           "#33ffc9",
           "#B3D9FF",
           "#B3D9FF",
           "#33ffc9",
           "#C5C5C5",
           "#B3D9FF",
           "#B3D9FF",
           "#C5C5C5",
           "#B3D9FF",
           "#B3D9FF",
           "#C5C5C5",
           "#B3D9FF",
           "#C5C5C5",
           "#B3D9FF",
           "#B3D9FF",
           "#B3D9FF",
           "#C5C5C5",
           "#B3D9FF",
           "#C5C5C5",
           "#B3D9FF",
           "#B3D9FF",
           "#B3D9FF",
           "#C5C5C5",
           "#B3D9FF"
          ],
          "size": 10
         },
         "mode": "markers+text",
         "type": "scatter",
         "x": [
          18,
          19,
          20,
          20,
          21,
          23,
          25,
          25,
          26,
          27,
          27,
          28,
          28,
          28,
          28,
          30,
          30,
          31,
          31,
          32,
          34,
          34,
          35,
          35,
          36,
          36,
          37,
          38,
          38,
          38,
          40,
          40,
          41,
          42,
          43,
          44,
          44,
          45,
          46,
          47,
          48,
          52,
          55,
          57,
          57,
          59,
          59,
          59,
          60,
          60,
          62,
          64,
          67,
          72,
          74,
          74
         ],
         "xaxis": "x6",
         "y": [
          54,
          57,
          79,
          74,
          71,
          96,
          58,
          61,
          79,
          96,
          null,
          58,
          null,
          93,
          87,
          82,
          null,
          66,
          58,
          96,
          48,
          77,
          79,
          66,
          61,
          84,
          109,
          93,
          112,
          90,
          98,
          104,
          null,
          90,
          119,
          77,
          93,
          87,
          106,
          79,
          96,
          106,
          109,
          112,
          77,
          106,
          null,
          null,
          122,
          82,
          114,
          104,
          null,
          109,
          90,
          109
         ],
         "yaxis": "y6"
        },
        {
         "hovertext": [
          "EF 2E 22 E0 EA, Type 1",
          "B6 A4 CD 3A 81, Type 1",
          "76 A2 26 6F C7, Type inconnu",
          "C2 C3 05 A8 4B, Type 1",
          "39 CA BD 3C 82, Type 1",
          "7B DE 78 5B F6, Type 1",
          "9B 8E 44 F8 FF, Type 1",
          "EA 6F FF DE 42, Type 2",
          "90 01 09 71 F0, Type 2",
          "39 35 88 38 7B, Type inconnu",
          "35 86 13 56 24, Type 1",
          "7D 76 3D FC 91, Type 1",
          "73 EC 1B D7 9B, Type 1",
          "81 03 8C 07 58, Type inconnu",
          "AB A5 ED 43 8B, Type 1",
          "48 84 25 4A E0, Type inconnu",
          "01 83 17 5E 89, Type 1",
          "B9 5D 22 14 86, Type 1",
          "A1 54 32 B1 53, Type 1",
          "FD 11 B7 CF 8F, Type 1",
          "DB 6B 59 3A 0C, Type 1",
          "F1 C2 1C 3A FC, Type 1",
          "31 19 64 3D 10, Type 2",
          "98 2C 1A AA 87, Type 1",
          "A2 D7 D0 A4 2A, Type 1",
          "D7 FC 44 05 CA, Type 2",
          "8A A0 53 AC 37, Type inconnu",
          "02 88 A7 94 50, Type 2",
          "64 0B 1B 0A 45, Type 2",
          "8A 77 B8 09 AD, Type 2",
          "51 B7 6E C2 FD, Type 2",
          "A4 03 5A F0 57, Type 2",
          "02 92 7B FF E6, Type 1",
          "90 A6 58 8A AD, Type 2",
          "F5 E4 FD A4 9F, Type 2",
          "06 25 B6 B7 F5, Type 1",
          "47 09 1C 5F 94, Type inconnu",
          "76 8F 56 DE 15, Type 2",
          "3D F6 5A B4 9D, Type 2",
          "3F 34 F5 32 80, Type inconnu",
          "A6 FD C4 C0 69, Type 2",
          "4F 9C 21 D3 31, Type 2",
          "4B 6C 17 74 29, Type inconnu",
          "94 EB 19 B7 18, Type 2",
          "12 A8 8F 3F 67, Type inconnu",
          "19 01 73 04 E2, Type 2",
          "A2 C1 35 C2 8C, Type 2",
          "0F 30 93 5E 0E, Type 2",
          "81 DB 14 CC 21, Type inconnu",
          "CA A2 77 FC 22, Type 2",
          "96 B8 5B 6F 8F, Type inconnu",
          "96 DD DC FE E3, Type 2",
          "21 36 06 E2 38, Type 2",
          "B7 CA E8 BC 99, Type 2",
          "3E C6 4C 31 8B, Type inconnu",
          "EF 4A CF 20 AF, Type 2"
         ],
         "marker": {
          "color": [
           "#33ffc9",
           "#33ffc9",
           "#C5C5C5",
           "#33ffc9",
           "#33ffc9",
           "#33ffc9",
           "#33ffc9",
           "#B3D9FF",
           "#B3D9FF",
           "#C5C5C5",
           "#33ffc9",
           "#33ffc9",
           "#33ffc9",
           "#C5C5C5",
           "#33ffc9",
           "#C5C5C5",
           "#33ffc9",
           "#33ffc9",
           "#33ffc9",
           "#33ffc9",
           "#33ffc9",
           "#33ffc9",
           "#B3D9FF",
           "#33ffc9",
           "#33ffc9",
           "#B3D9FF",
           "#C5C5C5",
           "#B3D9FF",
           "#B3D9FF",
           "#B3D9FF",
           "#B3D9FF",
           "#B3D9FF",
           "#33ffc9",
           "#B3D9FF",
           "#B3D9FF",
           "#33ffc9",
           "#C5C5C5",
           "#B3D9FF",
           "#B3D9FF",
           "#C5C5C5",
           "#B3D9FF",
           "#B3D9FF",
           "#C5C5C5",
           "#B3D9FF",
           "#C5C5C5",
           "#B3D9FF",
           "#B3D9FF",
           "#B3D9FF",
           "#C5C5C5",
           "#B3D9FF",
           "#C5C5C5",
           "#B3D9FF",
           "#B3D9FF",
           "#B3D9FF",
           "#C5C5C5",
           "#B3D9FF"
          ],
          "size": 10
         },
         "mode": "markers+text",
         "type": "scatter",
         "x": [
          18,
          19,
          20,
          20,
          21,
          23,
          25,
          25,
          26,
          27,
          27,
          28,
          28,
          28,
          28,
          30,
          30,
          31,
          31,
          32,
          34,
          34,
          35,
          35,
          36,
          36,
          37,
          38,
          38,
          38,
          40,
          40,
          41,
          42,
          43,
          44,
          44,
          45,
          46,
          47,
          48,
          52,
          55,
          57,
          57,
          59,
          59,
          59,
          60,
          60,
          62,
          64,
          67,
          72,
          74,
          74
         ],
         "xaxis": "x7",
         "y": [
          68,
          71,
          93,
          88,
          86,
          110,
          73,
          75,
          93,
          110,
          null,
          73,
          null,
          107,
          102,
          96,
          null,
          80,
          73,
          110,
          62,
          91,
          93,
          80,
          75,
          99,
          123,
          107,
          126,
          104,
          113,
          118,
          null,
          104,
          133,
          91,
          107,
          102,
          120,
          93,
          110,
          120,
          123,
          126,
          91,
          120,
          null,
          null,
          136,
          96,
          132,
          118,
          null,
          123,
          104,
          123
         ],
         "yaxis": "y7"
        }
       ],
       "layout": {
        "annotations": [
         {
          "font": {
           "size": 16
          },
          "showarrow": false,
          "text": "Note standard Mémoires des chiffres",
          "x": 0.225,
          "xanchor": "center",
          "xref": "paper",
          "y": 1,
          "yanchor": "bottom",
          "yref": "paper"
         },
         {
          "font": {
           "size": 16
          },
          "showarrow": false,
          "text": "Note standard Arithmétique",
          "x": 0.775,
          "xanchor": "center",
          "xref": "paper",
          "y": 1,
          "yanchor": "bottom",
          "yref": "paper"
         },
         {
          "font": {
           "size": 16
          },
          "showarrow": false,
          "text": "Total des notes standards IMT",
          "x": 0.225,
          "xanchor": "center",
          "xref": "paper",
          "y": 0.74,
          "yanchor": "bottom",
          "yref": "paper"
         },
         {
          "font": {
           "size": 16
          },
          "showarrow": false,
          "text": "Note composite IMT",
          "x": 0.775,
          "xanchor": "center",
          "xref": "paper",
          "y": 0.74,
          "yanchor": "bottom",
          "yref": "paper"
         },
         {
          "font": {
           "size": 16
          },
          "showarrow": false,
          "text": "Rang percentile IMT",
          "x": 0.225,
          "xanchor": "center",
          "xref": "paper",
          "y": 0.48,
          "yanchor": "bottom",
          "yref": "paper"
         },
         {
          "font": {
           "size": 16
          },
          "showarrow": false,
          "text": "Note écart type inférieure IMT",
          "x": 0.775,
          "xanchor": "center",
          "xref": "paper",
          "y": 0.48,
          "yanchor": "bottom",
          "yref": "paper"
         },
         {
          "font": {
           "size": 16
          },
          "showarrow": false,
          "text": "Note écart type supérieure IMT",
          "x": 0.225,
          "xanchor": "center",
          "xref": "paper",
          "y": 0.22,
          "yanchor": "bottom",
          "yref": "paper"
         },
         {
          "font": {
           "size": 16
          },
          "showarrow": false,
          "text": "Âge",
          "x": 0.5,
          "xanchor": "center",
          "xref": "paper",
          "y": 0,
          "yanchor": "top",
          "yref": "paper",
          "yshift": -30
         },
         {
          "font": {
           "size": 16
          },
          "showarrow": false,
          "text": "Score",
          "textangle": -90,
          "x": 0,
          "xanchor": "right",
          "xref": "paper",
          "xshift": -40,
          "y": 0.5,
          "yanchor": "middle",
          "yref": "paper"
         }
        ],
        "height": 1500,
        "showlegend": false,
        "template": {
         "data": {
          "bar": [
           {
            "error_x": {
             "color": "#2a3f5f"
            },
            "error_y": {
             "color": "#2a3f5f"
            },
            "marker": {
             "line": {
              "color": "#E5ECF6",
              "width": 0.5
             }
            },
            "type": "bar"
           }
          ],
          "barpolar": [
           {
            "marker": {
             "line": {
              "color": "#E5ECF6",
              "width": 0.5
             }
            },
            "type": "barpolar"
           }
          ],
          "carpet": [
           {
            "aaxis": {
             "endlinecolor": "#2a3f5f",
             "gridcolor": "white",
             "linecolor": "white",
             "minorgridcolor": "white",
             "startlinecolor": "#2a3f5f"
            },
            "baxis": {
             "endlinecolor": "#2a3f5f",
             "gridcolor": "white",
             "linecolor": "white",
             "minorgridcolor": "white",
             "startlinecolor": "#2a3f5f"
            },
            "type": "carpet"
           }
          ],
          "choropleth": [
           {
            "colorbar": {
             "outlinewidth": 0,
             "ticks": ""
            },
            "type": "choropleth"
           }
          ],
          "contour": [
           {
            "colorbar": {
             "outlinewidth": 0,
             "ticks": ""
            },
            "colorscale": [
             [
              0,
              "#0d0887"
             ],
             [
              0.1111111111111111,
              "#46039f"
             ],
             [
              0.2222222222222222,
              "#7201a8"
             ],
             [
              0.3333333333333333,
              "#9c179e"
             ],
             [
              0.4444444444444444,
              "#bd3786"
             ],
             [
              0.5555555555555556,
              "#d8576b"
             ],
             [
              0.6666666666666666,
              "#ed7953"
             ],
             [
              0.7777777777777778,
              "#fb9f3a"
             ],
             [
              0.8888888888888888,
              "#fdca26"
             ],
             [
              1,
              "#f0f921"
             ]
            ],
            "type": "contour"
           }
          ],
          "contourcarpet": [
           {
            "colorbar": {
             "outlinewidth": 0,
             "ticks": ""
            },
            "type": "contourcarpet"
           }
          ],
          "heatmap": [
           {
            "colorbar": {
             "outlinewidth": 0,
             "ticks": ""
            },
            "colorscale": [
             [
              0,
              "#0d0887"
             ],
             [
              0.1111111111111111,
              "#46039f"
             ],
             [
              0.2222222222222222,
              "#7201a8"
             ],
             [
              0.3333333333333333,
              "#9c179e"
             ],
             [
              0.4444444444444444,
              "#bd3786"
             ],
             [
              0.5555555555555556,
              "#d8576b"
             ],
             [
              0.6666666666666666,
              "#ed7953"
             ],
             [
              0.7777777777777778,
              "#fb9f3a"
             ],
             [
              0.8888888888888888,
              "#fdca26"
             ],
             [
              1,
              "#f0f921"
             ]
            ],
            "type": "heatmap"
           }
          ],
          "heatmapgl": [
           {
            "colorbar": {
             "outlinewidth": 0,
             "ticks": ""
            },
            "colorscale": [
             [
              0,
              "#0d0887"
             ],
             [
              0.1111111111111111,
              "#46039f"
             ],
             [
              0.2222222222222222,
              "#7201a8"
             ],
             [
              0.3333333333333333,
              "#9c179e"
             ],
             [
              0.4444444444444444,
              "#bd3786"
             ],
             [
              0.5555555555555556,
              "#d8576b"
             ],
             [
              0.6666666666666666,
              "#ed7953"
             ],
             [
              0.7777777777777778,
              "#fb9f3a"
             ],
             [
              0.8888888888888888,
              "#fdca26"
             ],
             [
              1,
              "#f0f921"
             ]
            ],
            "type": "heatmapgl"
           }
          ],
          "histogram": [
           {
            "marker": {
             "colorbar": {
              "outlinewidth": 0,
              "ticks": ""
             }
            },
            "type": "histogram"
           }
          ],
          "histogram2d": [
           {
            "colorbar": {
             "outlinewidth": 0,
             "ticks": ""
            },
            "colorscale": [
             [
              0,
              "#0d0887"
             ],
             [
              0.1111111111111111,
              "#46039f"
             ],
             [
              0.2222222222222222,
              "#7201a8"
             ],
             [
              0.3333333333333333,
              "#9c179e"
             ],
             [
              0.4444444444444444,
              "#bd3786"
             ],
             [
              0.5555555555555556,
              "#d8576b"
             ],
             [
              0.6666666666666666,
              "#ed7953"
             ],
             [
              0.7777777777777778,
              "#fb9f3a"
             ],
             [
              0.8888888888888888,
              "#fdca26"
             ],
             [
              1,
              "#f0f921"
             ]
            ],
            "type": "histogram2d"
           }
          ],
          "histogram2dcontour": [
           {
            "colorbar": {
             "outlinewidth": 0,
             "ticks": ""
            },
            "colorscale": [
             [
              0,
              "#0d0887"
             ],
             [
              0.1111111111111111,
              "#46039f"
             ],
             [
              0.2222222222222222,
              "#7201a8"
             ],
             [
              0.3333333333333333,
              "#9c179e"
             ],
             [
              0.4444444444444444,
              "#bd3786"
             ],
             [
              0.5555555555555556,
              "#d8576b"
             ],
             [
              0.6666666666666666,
              "#ed7953"
             ],
             [
              0.7777777777777778,
              "#fb9f3a"
             ],
             [
              0.8888888888888888,
              "#fdca26"
             ],
             [
              1,
              "#f0f921"
             ]
            ],
            "type": "histogram2dcontour"
           }
          ],
          "mesh3d": [
           {
            "colorbar": {
             "outlinewidth": 0,
             "ticks": ""
            },
            "type": "mesh3d"
           }
          ],
          "parcoords": [
           {
            "line": {
             "colorbar": {
              "outlinewidth": 0,
              "ticks": ""
             }
            },
            "type": "parcoords"
           }
          ],
          "pie": [
           {
            "automargin": true,
            "type": "pie"
           }
          ],
          "scatter": [
           {
            "marker": {
             "colorbar": {
              "outlinewidth": 0,
              "ticks": ""
             }
            },
            "type": "scatter"
           }
          ],
          "scatter3d": [
           {
            "line": {
             "colorbar": {
              "outlinewidth": 0,
              "ticks": ""
             }
            },
            "marker": {
             "colorbar": {
              "outlinewidth": 0,
              "ticks": ""
             }
            },
            "type": "scatter3d"
           }
          ],
          "scattercarpet": [
           {
            "marker": {
             "colorbar": {
              "outlinewidth": 0,
              "ticks": ""
             }
            },
            "type": "scattercarpet"
           }
          ],
          "scattergeo": [
           {
            "marker": {
             "colorbar": {
              "outlinewidth": 0,
              "ticks": ""
             }
            },
            "type": "scattergeo"
           }
          ],
          "scattergl": [
           {
            "marker": {
             "colorbar": {
              "outlinewidth": 0,
              "ticks": ""
             }
            },
            "type": "scattergl"
           }
          ],
          "scattermapbox": [
           {
            "marker": {
             "colorbar": {
              "outlinewidth": 0,
              "ticks": ""
             }
            },
            "type": "scattermapbox"
           }
          ],
          "scatterpolar": [
           {
            "marker": {
             "colorbar": {
              "outlinewidth": 0,
              "ticks": ""
             }
            },
            "type": "scatterpolar"
           }
          ],
          "scatterpolargl": [
           {
            "marker": {
             "colorbar": {
              "outlinewidth": 0,
              "ticks": ""
             }
            },
            "type": "scatterpolargl"
           }
          ],
          "scatterternary": [
           {
            "marker": {
             "colorbar": {
              "outlinewidth": 0,
              "ticks": ""
             }
            },
            "type": "scatterternary"
           }
          ],
          "surface": [
           {
            "colorbar": {
             "outlinewidth": 0,
             "ticks": ""
            },
            "colorscale": [
             [
              0,
              "#0d0887"
             ],
             [
              0.1111111111111111,
              "#46039f"
             ],
             [
              0.2222222222222222,
              "#7201a8"
             ],
             [
              0.3333333333333333,
              "#9c179e"
             ],
             [
              0.4444444444444444,
              "#bd3786"
             ],
             [
              0.5555555555555556,
              "#d8576b"
             ],
             [
              0.6666666666666666,
              "#ed7953"
             ],
             [
              0.7777777777777778,
              "#fb9f3a"
             ],
             [
              0.8888888888888888,
              "#fdca26"
             ],
             [
              1,
              "#f0f921"
             ]
            ],
            "type": "surface"
           }
          ],
          "table": [
           {
            "cells": {
             "fill": {
              "color": "#EBF0F8"
             },
             "line": {
              "color": "white"
             }
            },
            "header": {
             "fill": {
              "color": "#C8D4E3"
             },
             "line": {
              "color": "white"
             }
            },
            "type": "table"
           }
          ]
         },
         "layout": {
          "annotationdefaults": {
           "arrowcolor": "#2a3f5f",
           "arrowhead": 0,
           "arrowwidth": 1
          },
          "coloraxis": {
           "colorbar": {
            "outlinewidth": 0,
            "ticks": ""
           }
          },
          "colorscale": {
           "diverging": [
            [
             0,
             "#8e0152"
            ],
            [
             0.1,
             "#c51b7d"
            ],
            [
             0.2,
             "#de77ae"
            ],
            [
             0.3,
             "#f1b6da"
            ],
            [
             0.4,
             "#fde0ef"
            ],
            [
             0.5,
             "#f7f7f7"
            ],
            [
             0.6,
             "#e6f5d0"
            ],
            [
             0.7,
             "#b8e186"
            ],
            [
             0.8,
             "#7fbc41"
            ],
            [
             0.9,
             "#4d9221"
            ],
            [
             1,
             "#276419"
            ]
           ],
           "sequential": [
            [
             0,
             "#0d0887"
            ],
            [
             0.1111111111111111,
             "#46039f"
            ],
            [
             0.2222222222222222,
             "#7201a8"
            ],
            [
             0.3333333333333333,
             "#9c179e"
            ],
            [
             0.4444444444444444,
             "#bd3786"
            ],
            [
             0.5555555555555556,
             "#d8576b"
            ],
            [
             0.6666666666666666,
             "#ed7953"
            ],
            [
             0.7777777777777778,
             "#fb9f3a"
            ],
            [
             0.8888888888888888,
             "#fdca26"
            ],
            [
             1,
             "#f0f921"
            ]
           ],
           "sequentialminus": [
            [
             0,
             "#0d0887"
            ],
            [
             0.1111111111111111,
             "#46039f"
            ],
            [
             0.2222222222222222,
             "#7201a8"
            ],
            [
             0.3333333333333333,
             "#9c179e"
            ],
            [
             0.4444444444444444,
             "#bd3786"
            ],
            [
             0.5555555555555556,
             "#d8576b"
            ],
            [
             0.6666666666666666,
             "#ed7953"
            ],
            [
             0.7777777777777778,
             "#fb9f3a"
            ],
            [
             0.8888888888888888,
             "#fdca26"
            ],
            [
             1,
             "#f0f921"
            ]
           ]
          },
          "colorway": [
           "#636efa",
           "#EF553B",
           "#00cc96",
           "#ab63fa",
           "#FFA15A",
           "#19d3f3",
           "#FF6692",
           "#B6E880",
           "#FF97FF",
           "#FECB52"
          ],
          "font": {
           "color": "#2a3f5f"
          },
          "geo": {
           "bgcolor": "white",
           "lakecolor": "white",
           "landcolor": "#E5ECF6",
           "showlakes": true,
           "showland": true,
           "subunitcolor": "white"
          },
          "hoverlabel": {
           "align": "left"
          },
          "hovermode": "closest",
          "mapbox": {
           "style": "light"
          },
          "paper_bgcolor": "white",
          "plot_bgcolor": "#E5ECF6",
          "polar": {
           "angularaxis": {
            "gridcolor": "white",
            "linecolor": "white",
            "ticks": ""
           },
           "bgcolor": "#E5ECF6",
           "radialaxis": {
            "gridcolor": "white",
            "linecolor": "white",
            "ticks": ""
           }
          },
          "scene": {
           "xaxis": {
            "backgroundcolor": "#E5ECF6",
            "gridcolor": "white",
            "gridwidth": 2,
            "linecolor": "white",
            "showbackground": true,
            "ticks": "",
            "zerolinecolor": "white"
           },
           "yaxis": {
            "backgroundcolor": "#E5ECF6",
            "gridcolor": "white",
            "gridwidth": 2,
            "linecolor": "white",
            "showbackground": true,
            "ticks": "",
            "zerolinecolor": "white"
           },
           "zaxis": {
            "backgroundcolor": "#E5ECF6",
            "gridcolor": "white",
            "gridwidth": 2,
            "linecolor": "white",
            "showbackground": true,
            "ticks": "",
            "zerolinecolor": "white"
           }
          },
          "shapedefaults": {
           "line": {
            "color": "#2a3f5f"
           }
          },
          "ternary": {
           "aaxis": {
            "gridcolor": "white",
            "linecolor": "white",
            "ticks": ""
           },
           "baxis": {
            "gridcolor": "white",
            "linecolor": "white",
            "ticks": ""
           },
           "bgcolor": "#E5ECF6",
           "caxis": {
            "gridcolor": "white",
            "linecolor": "white",
            "ticks": ""
           }
          },
          "title": {
           "x": 0.05
          },
          "xaxis": {
           "automargin": true,
           "gridcolor": "white",
           "linecolor": "white",
           "ticks": "",
           "title": {
            "standoff": 15
           },
           "zerolinecolor": "white",
           "zerolinewidth": 2
          },
          "yaxis": {
           "automargin": true,
           "gridcolor": "white",
           "linecolor": "white",
           "ticks": "",
           "title": {
            "standoff": 15
           },
           "zerolinecolor": "white",
           "zerolinewidth": 2
          }
         }
        },
        "width": 800,
        "xaxis": {
         "anchor": "y",
         "domain": [
          0,
          0.45
         ]
        },
        "xaxis2": {
         "anchor": "y2",
         "domain": [
          0.55,
          1
         ]
        },
        "xaxis3": {
         "anchor": "y3",
         "domain": [
          0,
          0.45
         ]
        },
        "xaxis4": {
         "anchor": "y4",
         "domain": [
          0.55,
          1
         ]
        },
        "xaxis5": {
         "anchor": "y5",
         "domain": [
          0,
          0.45
         ]
        },
        "xaxis6": {
         "anchor": "y6",
         "domain": [
          0.55,
          1
         ]
        },
        "xaxis7": {
         "anchor": "y7",
         "domain": [
          0,
          0.45
         ]
        },
        "xaxis8": {
         "anchor": "y8",
         "domain": [
          0.55,
          1
         ]
        },
        "yaxis": {
         "anchor": "x",
         "domain": [
          0.78,
          1
         ]
        },
        "yaxis2": {
         "anchor": "x2",
         "domain": [
          0.78,
          1
         ]
        },
        "yaxis3": {
         "anchor": "x3",
         "domain": [
          0.52,
          0.74
         ]
        },
        "yaxis4": {
         "anchor": "x4",
         "domain": [
          0.52,
          0.74
         ]
        },
        "yaxis5": {
         "anchor": "x5",
         "domain": [
          0.26,
          0.48
         ]
        },
        "yaxis6": {
         "anchor": "x6",
         "domain": [
          0.26,
          0.48
         ]
        },
        "yaxis7": {
         "anchor": "x7",
         "domain": [
          0,
          0.22
         ]
        },
        "yaxis8": {
         "anchor": "x8",
         "domain": [
          0,
          0.22
         ]
        }
       }
      },
      "text/html": [
       "<div>\n",
       "        \n",
       "        \n",
       "            <div id=\"6c6a2d0d-ed0b-449f-87dd-0983a689f7ff\" class=\"plotly-graph-div\" style=\"height:1500px; width:800px;\"></div>\n",
       "            <script type=\"text/javascript\">\n",
       "                require([\"plotly\"], function(Plotly) {\n",
       "                    window.PLOTLYENV=window.PLOTLYENV || {};\n",
       "                    \n",
       "                if (document.getElementById(\"6c6a2d0d-ed0b-449f-87dd-0983a689f7ff\")) {\n",
       "                    Plotly.newPlot(\n",
       "                        '6c6a2d0d-ed0b-449f-87dd-0983a689f7ff',\n",
       "                        [{\"hovertext\": [\"EF 2E 22 E0 EA, Type 1\", \"B6 A4 CD 3A 81, Type 1\", \"76 A2 26 6F C7, Type inconnu\", \"C2 C3 05 A8 4B, Type 1\", \"39 CA BD 3C 82, Type 1\", \"7B DE 78 5B F6, Type 1\", \"9B 8E 44 F8 FF, Type 1\", \"EA 6F FF DE 42, Type 2\", \"90 01 09 71 F0, Type 2\", \"39 35 88 38 7B, Type inconnu\", \"35 86 13 56 24, Type 1\", \"7D 76 3D FC 91, Type 1\", \"73 EC 1B D7 9B, Type 1\", \"81 03 8C 07 58, Type inconnu\", \"AB A5 ED 43 8B, Type 1\", \"48 84 25 4A E0, Type inconnu\", \"01 83 17 5E 89, Type 1\", \"B9 5D 22 14 86, Type 1\", \"A1 54 32 B1 53, Type 1\", \"FD 11 B7 CF 8F, Type 1\", \"DB 6B 59 3A 0C, Type 1\", \"F1 C2 1C 3A FC, Type 1\", \"31 19 64 3D 10, Type 2\", \"98 2C 1A AA 87, Type 1\", \"A2 D7 D0 A4 2A, Type 1\", \"D7 FC 44 05 CA, Type 2\", \"8A A0 53 AC 37, Type inconnu\", \"02 88 A7 94 50, Type 2\", \"64 0B 1B 0A 45, Type 2\", \"8A 77 B8 09 AD, Type 2\", \"51 B7 6E C2 FD, Type 2\", \"A4 03 5A F0 57, Type 2\", \"02 92 7B FF E6, Type 1\", \"90 A6 58 8A AD, Type 2\", \"F5 E4 FD A4 9F, Type 2\", \"06 25 B6 B7 F5, Type 1\", \"47 09 1C 5F 94, Type inconnu\", \"76 8F 56 DE 15, Type 2\", \"3D F6 5A B4 9D, Type 2\", \"3F 34 F5 32 80, Type inconnu\", \"A6 FD C4 C0 69, Type 2\", \"4F 9C 21 D3 31, Type 2\", \"4B 6C 17 74 29, Type inconnu\", \"94 EB 19 B7 18, Type 2\", \"12 A8 8F 3F 67, Type inconnu\", \"19 01 73 04 E2, Type 2\", \"A2 C1 35 C2 8C, Type 2\", \"0F 30 93 5E 0E, Type 2\", \"81 DB 14 CC 21, Type inconnu\", \"CA A2 77 FC 22, Type 2\", \"96 B8 5B 6F 8F, Type inconnu\", \"96 DD DC FE E3, Type 2\", \"21 36 06 E2 38, Type 2\", \"B7 CA E8 BC 99, Type 2\", \"3E C6 4C 31 8B, Type inconnu\", \"EF 4A CF 20 AF, Type 2\"], \"marker\": {\"color\": [\"#33ffc9\", \"#33ffc9\", \"#C5C5C5\", \"#33ffc9\", \"#33ffc9\", \"#33ffc9\", \"#33ffc9\", \"#B3D9FF\", \"#B3D9FF\", \"#C5C5C5\", \"#33ffc9\", \"#33ffc9\", \"#33ffc9\", \"#C5C5C5\", \"#33ffc9\", \"#C5C5C5\", \"#33ffc9\", \"#33ffc9\", \"#33ffc9\", \"#33ffc9\", \"#33ffc9\", \"#33ffc9\", \"#B3D9FF\", \"#33ffc9\", \"#33ffc9\", \"#B3D9FF\", \"#C5C5C5\", \"#B3D9FF\", \"#B3D9FF\", \"#B3D9FF\", \"#B3D9FF\", \"#B3D9FF\", \"#33ffc9\", \"#B3D9FF\", \"#B3D9FF\", \"#33ffc9\", \"#C5C5C5\", \"#B3D9FF\", \"#B3D9FF\", \"#C5C5C5\", \"#B3D9FF\", \"#B3D9FF\", \"#C5C5C5\", \"#B3D9FF\", \"#C5C5C5\", \"#B3D9FF\", \"#B3D9FF\", \"#B3D9FF\", \"#C5C5C5\", \"#B3D9FF\", \"#C5C5C5\", \"#B3D9FF\", \"#B3D9FF\", \"#B3D9FF\", \"#C5C5C5\", \"#B3D9FF\"], \"size\": 10}, \"mode\": \"markers+text\", \"type\": \"scatter\", \"x\": [18.0, 19.0, 20.0, 20.0, 21.0, 23.0, 25.0, 25.0, 26.0, 27.0, 27.0, 28.0, 28.0, 28.0, 28.0, 30.0, 30.0, 31.0, 31.0, 32.0, 34.0, 34.0, 35.0, 35.0, 36.0, 36.0, 37.0, 38.0, 38.0, 38.0, 40.0, 40.0, 41.0, 42.0, 43.0, 44.0, 44.0, 45.0, 46.0, 47.0, 48.0, 52.0, 55.0, 57.0, 57.0, 59.0, 59.0, 59.0, 60.0, 60.0, 62.0, 64.0, 67.0, 72.0, 74.0, 74.0], \"xaxis\": \"x\", \"y\": [2.0, 3.0, 7.0, 4.0, 5.0, 11.0, 4.0, 4.0, 6.0, 8.0, 1.0, 4.0, null, 6.0, 7.0, 7.0, null, 5.0, 4.0, 7.0, 2.0, 5.0, 10.0, 7.0, 4.0, 7.0, 11.0, 9.0, 14.0, 8.0, 12.0, 12.0, null, 10.0, 15.0, 7.0, 12.0, 7.0, 12.0, 8.0, 10.0, 15.0, 14.0, 13.0, 8.0, 12.0, 12.0, 10.0, 15.0, 7.0, 13.0, 11.0, 3.0, 10.0, 12.0, 14.0], \"yaxis\": \"y\"}, {\"hovertext\": [\"EF 2E 22 E0 EA, Type 1\", \"B6 A4 CD 3A 81, Type 1\", \"76 A2 26 6F C7, Type inconnu\", \"C2 C3 05 A8 4B, Type 1\", \"39 CA BD 3C 82, Type 1\", \"7B DE 78 5B F6, Type 1\", \"9B 8E 44 F8 FF, Type 1\", \"EA 6F FF DE 42, Type 2\", \"90 01 09 71 F0, Type 2\", \"39 35 88 38 7B, Type inconnu\", \"35 86 13 56 24, Type 1\", \"7D 76 3D FC 91, Type 1\", \"73 EC 1B D7 9B, Type 1\", \"81 03 8C 07 58, Type inconnu\", \"AB A5 ED 43 8B, Type 1\", \"48 84 25 4A E0, Type inconnu\", \"01 83 17 5E 89, Type 1\", \"B9 5D 22 14 86, Type 1\", \"A1 54 32 B1 53, Type 1\", \"FD 11 B7 CF 8F, Type 1\", \"DB 6B 59 3A 0C, Type 1\", \"F1 C2 1C 3A FC, Type 1\", \"31 19 64 3D 10, Type 2\", \"98 2C 1A AA 87, Type 1\", \"A2 D7 D0 A4 2A, Type 1\", \"D7 FC 44 05 CA, Type 2\", \"8A A0 53 AC 37, Type inconnu\", \"02 88 A7 94 50, Type 2\", \"64 0B 1B 0A 45, Type 2\", \"8A 77 B8 09 AD, Type 2\", \"51 B7 6E C2 FD, Type 2\", \"A4 03 5A F0 57, Type 2\", \"02 92 7B FF E6, Type 1\", \"90 A6 58 8A AD, Type 2\", \"F5 E4 FD A4 9F, Type 2\", \"06 25 B6 B7 F5, Type 1\", \"47 09 1C 5F 94, Type inconnu\", \"76 8F 56 DE 15, Type 2\", \"3D F6 5A B4 9D, Type 2\", \"3F 34 F5 32 80, Type inconnu\", \"A6 FD C4 C0 69, Type 2\", \"4F 9C 21 D3 31, Type 2\", \"4B 6C 17 74 29, Type inconnu\", \"94 EB 19 B7 18, Type 2\", \"12 A8 8F 3F 67, Type inconnu\", \"19 01 73 04 E2, Type 2\", \"A2 C1 35 C2 8C, Type 2\", \"0F 30 93 5E 0E, Type 2\", \"81 DB 14 CC 21, Type inconnu\", \"CA A2 77 FC 22, Type 2\", \"96 B8 5B 6F 8F, Type inconnu\", \"96 DD DC FE E3, Type 2\", \"21 36 06 E2 38, Type 2\", \"B7 CA E8 BC 99, Type 2\", \"3E C6 4C 31 8B, Type inconnu\", \"EF 4A CF 20 AF, Type 2\"], \"marker\": {\"color\": [\"#33ffc9\", \"#33ffc9\", \"#C5C5C5\", \"#33ffc9\", \"#33ffc9\", \"#33ffc9\", \"#33ffc9\", \"#B3D9FF\", \"#B3D9FF\", \"#C5C5C5\", \"#33ffc9\", \"#33ffc9\", \"#33ffc9\", \"#C5C5C5\", \"#33ffc9\", \"#C5C5C5\", \"#33ffc9\", \"#33ffc9\", \"#33ffc9\", \"#33ffc9\", \"#33ffc9\", \"#33ffc9\", \"#B3D9FF\", \"#33ffc9\", \"#33ffc9\", \"#B3D9FF\", \"#C5C5C5\", \"#B3D9FF\", \"#B3D9FF\", \"#B3D9FF\", \"#B3D9FF\", \"#B3D9FF\", \"#33ffc9\", \"#B3D9FF\", \"#B3D9FF\", \"#33ffc9\", \"#C5C5C5\", \"#B3D9FF\", \"#B3D9FF\", \"#C5C5C5\", \"#B3D9FF\", \"#B3D9FF\", \"#C5C5C5\", \"#B3D9FF\", \"#C5C5C5\", \"#B3D9FF\", \"#B3D9FF\", \"#B3D9FF\", \"#C5C5C5\", \"#B3D9FF\", \"#C5C5C5\", \"#B3D9FF\", \"#B3D9FF\", \"#B3D9FF\", \"#C5C5C5\", \"#B3D9FF\"], \"size\": 10}, \"mode\": \"markers+text\", \"type\": \"scatter\", \"x\": [18.0, 19.0, 20.0, 20.0, 21.0, 23.0, 25.0, 25.0, 26.0, 27.0, 27.0, 28.0, 28.0, 28.0, 28.0, 30.0, 30.0, 31.0, 31.0, 32.0, 34.0, 34.0, 35.0, 35.0, 36.0, 36.0, 37.0, 38.0, 38.0, 38.0, 40.0, 40.0, 41.0, 42.0, 43.0, 44.0, 44.0, 45.0, 46.0, 47.0, 48.0, 52.0, 55.0, 57.0, 57.0, 59.0, 59.0, 59.0, 60.0, 60.0, 62.0, 64.0, 67.0, 72.0, 74.0, 74.0], \"xaxis\": \"x2\", \"y\": [3.0, 3.0, 8.0, 9.0, 7.0, 10.0, 3.0, 4.0, 9.0, 13.0, null, 3.0, 5.0, 14.0, 11.0, 9.0, null, 5.0, 3.0, 14.0, 1.0, 9.0, 5.0, 3.0, 4.0, 10.0, 15.0, 11.0, 13.0, 11.0, 10.0, 12.0, null, 9.0, 15.0, 7.0, 8.0, 11.0, 13.0, 7.0, 11.0, 10.0, 12.0, 14.0, 6.0, 13.0, null, null, 16.0, 9.0, 16.0, 13.0, null, 16.0, 7.0, 12.0], \"yaxis\": \"y2\"}, {\"hovertext\": [\"EF 2E 22 E0 EA, Type 1\", \"B6 A4 CD 3A 81, Type 1\", \"76 A2 26 6F C7, Type inconnu\", \"C2 C3 05 A8 4B, Type 1\", \"39 CA BD 3C 82, Type 1\", \"7B DE 78 5B F6, Type 1\", \"9B 8E 44 F8 FF, Type 1\", \"EA 6F FF DE 42, Type 2\", \"90 01 09 71 F0, Type 2\", \"39 35 88 38 7B, Type inconnu\", \"35 86 13 56 24, Type 1\", \"7D 76 3D FC 91, Type 1\", \"73 EC 1B D7 9B, Type 1\", \"81 03 8C 07 58, Type inconnu\", \"AB A5 ED 43 8B, Type 1\", \"48 84 25 4A E0, Type inconnu\", \"01 83 17 5E 89, Type 1\", \"B9 5D 22 14 86, Type 1\", \"A1 54 32 B1 53, Type 1\", \"FD 11 B7 CF 8F, Type 1\", \"DB 6B 59 3A 0C, Type 1\", \"F1 C2 1C 3A FC, Type 1\", \"31 19 64 3D 10, Type 2\", \"98 2C 1A AA 87, Type 1\", \"A2 D7 D0 A4 2A, Type 1\", \"D7 FC 44 05 CA, Type 2\", \"8A A0 53 AC 37, Type inconnu\", \"02 88 A7 94 50, Type 2\", \"64 0B 1B 0A 45, Type 2\", \"8A 77 B8 09 AD, Type 2\", \"51 B7 6E C2 FD, Type 2\", \"A4 03 5A F0 57, Type 2\", \"02 92 7B FF E6, Type 1\", \"90 A6 58 8A AD, Type 2\", \"F5 E4 FD A4 9F, Type 2\", \"06 25 B6 B7 F5, Type 1\", \"47 09 1C 5F 94, Type inconnu\", \"76 8F 56 DE 15, Type 2\", \"3D F6 5A B4 9D, Type 2\", \"3F 34 F5 32 80, Type inconnu\", \"A6 FD C4 C0 69, Type 2\", \"4F 9C 21 D3 31, Type 2\", \"4B 6C 17 74 29, Type inconnu\", \"94 EB 19 B7 18, Type 2\", \"12 A8 8F 3F 67, Type inconnu\", \"19 01 73 04 E2, Type 2\", \"A2 C1 35 C2 8C, Type 2\", \"0F 30 93 5E 0E, Type 2\", \"81 DB 14 CC 21, Type inconnu\", \"CA A2 77 FC 22, Type 2\", \"96 B8 5B 6F 8F, Type inconnu\", \"96 DD DC FE E3, Type 2\", \"21 36 06 E2 38, Type 2\", \"B7 CA E8 BC 99, Type 2\", \"3E C6 4C 31 8B, Type inconnu\", \"EF 4A CF 20 AF, Type 2\"], \"marker\": {\"color\": [\"#33ffc9\", \"#33ffc9\", \"#C5C5C5\", \"#33ffc9\", \"#33ffc9\", \"#33ffc9\", \"#33ffc9\", \"#B3D9FF\", \"#B3D9FF\", \"#C5C5C5\", \"#33ffc9\", \"#33ffc9\", \"#33ffc9\", \"#C5C5C5\", \"#33ffc9\", \"#C5C5C5\", \"#33ffc9\", \"#33ffc9\", \"#33ffc9\", \"#33ffc9\", \"#33ffc9\", \"#33ffc9\", \"#B3D9FF\", \"#33ffc9\", \"#33ffc9\", \"#B3D9FF\", \"#C5C5C5\", \"#B3D9FF\", \"#B3D9FF\", \"#B3D9FF\", \"#B3D9FF\", \"#B3D9FF\", \"#33ffc9\", \"#B3D9FF\", \"#B3D9FF\", \"#33ffc9\", \"#C5C5C5\", \"#B3D9FF\", \"#B3D9FF\", \"#C5C5C5\", \"#B3D9FF\", \"#B3D9FF\", \"#C5C5C5\", \"#B3D9FF\", \"#C5C5C5\", \"#B3D9FF\", \"#B3D9FF\", \"#B3D9FF\", \"#C5C5C5\", \"#B3D9FF\", \"#C5C5C5\", \"#B3D9FF\", \"#B3D9FF\", \"#B3D9FF\", \"#C5C5C5\", \"#B3D9FF\"], \"size\": 10}, \"mode\": \"markers+text\", \"type\": \"scatter\", \"x\": [18.0, 19.0, 20.0, 20.0, 21.0, 23.0, 25.0, 25.0, 26.0, 27.0, 27.0, 28.0, 28.0, 28.0, 28.0, 30.0, 30.0, 31.0, 31.0, 32.0, 34.0, 34.0, 35.0, 35.0, 36.0, 36.0, 37.0, 38.0, 38.0, 38.0, 40.0, 40.0, 41.0, 42.0, 43.0, 44.0, 44.0, 45.0, 46.0, 47.0, 48.0, 52.0, 55.0, 57.0, 57.0, 59.0, 59.0, 59.0, 60.0, 60.0, 62.0, 64.0, 67.0, 72.0, 74.0, 74.0], \"xaxis\": \"x3\", \"y\": [5.0, 6.0, 15.0, 13.0, 12.0, 21.0, 7.0, 8.0, 15.0, 21.0, null, 7.0, null, 20.0, 18.0, 16.0, null, 10.0, 7.0, 21.0, 3.0, 14.0, 15.0, 10.0, 8.0, 17.0, 26.0, 20.0, 27.0, 19.0, 22.0, 24.0, null, 19.0, 30.0, 14.0, 20.0, 18.0, 25.0, 15.0, 21.0, 25.0, 26.0, 27.0, 14.0, 25.0, null, null, 31.0, 16.0, 29.0, 24.0, null, 26.0, 19.0, 26.0], \"yaxis\": \"y3\"}, {\"hovertext\": [\"EF 2E 22 E0 EA, Type 1\", \"B6 A4 CD 3A 81, Type 1\", \"76 A2 26 6F C7, Type inconnu\", \"C2 C3 05 A8 4B, Type 1\", \"39 CA BD 3C 82, Type 1\", \"7B DE 78 5B F6, Type 1\", \"9B 8E 44 F8 FF, Type 1\", \"EA 6F FF DE 42, Type 2\", \"90 01 09 71 F0, Type 2\", \"39 35 88 38 7B, Type inconnu\", \"35 86 13 56 24, Type 1\", \"7D 76 3D FC 91, Type 1\", \"73 EC 1B D7 9B, Type 1\", \"81 03 8C 07 58, Type inconnu\", \"AB A5 ED 43 8B, Type 1\", \"48 84 25 4A E0, Type inconnu\", \"01 83 17 5E 89, Type 1\", \"B9 5D 22 14 86, Type 1\", \"A1 54 32 B1 53, Type 1\", \"FD 11 B7 CF 8F, Type 1\", \"DB 6B 59 3A 0C, Type 1\", \"F1 C2 1C 3A FC, Type 1\", \"31 19 64 3D 10, Type 2\", \"98 2C 1A AA 87, Type 1\", \"A2 D7 D0 A4 2A, Type 1\", \"D7 FC 44 05 CA, Type 2\", \"8A A0 53 AC 37, Type inconnu\", \"02 88 A7 94 50, Type 2\", \"64 0B 1B 0A 45, Type 2\", \"8A 77 B8 09 AD, Type 2\", \"51 B7 6E C2 FD, Type 2\", \"A4 03 5A F0 57, Type 2\", \"02 92 7B FF E6, Type 1\", \"90 A6 58 8A AD, Type 2\", \"F5 E4 FD A4 9F, Type 2\", \"06 25 B6 B7 F5, Type 1\", \"47 09 1C 5F 94, Type inconnu\", \"76 8F 56 DE 15, Type 2\", \"3D F6 5A B4 9D, Type 2\", \"3F 34 F5 32 80, Type inconnu\", \"A6 FD C4 C0 69, Type 2\", \"4F 9C 21 D3 31, Type 2\", \"4B 6C 17 74 29, Type inconnu\", \"94 EB 19 B7 18, Type 2\", \"12 A8 8F 3F 67, Type inconnu\", \"19 01 73 04 E2, Type 2\", \"A2 C1 35 C2 8C, Type 2\", \"0F 30 93 5E 0E, Type 2\", \"81 DB 14 CC 21, Type inconnu\", \"CA A2 77 FC 22, Type 2\", \"96 B8 5B 6F 8F, Type inconnu\", \"96 DD DC FE E3, Type 2\", \"21 36 06 E2 38, Type 2\", \"B7 CA E8 BC 99, Type 2\", \"3E C6 4C 31 8B, Type inconnu\", \"EF 4A CF 20 AF, Type 2\"], \"marker\": {\"color\": [\"#33ffc9\", \"#33ffc9\", \"#C5C5C5\", \"#33ffc9\", \"#33ffc9\", \"#33ffc9\", \"#33ffc9\", \"#B3D9FF\", \"#B3D9FF\", \"#C5C5C5\", \"#33ffc9\", \"#33ffc9\", \"#33ffc9\", \"#C5C5C5\", \"#33ffc9\", \"#C5C5C5\", \"#33ffc9\", \"#33ffc9\", \"#33ffc9\", \"#33ffc9\", \"#33ffc9\", \"#33ffc9\", \"#B3D9FF\", \"#33ffc9\", \"#33ffc9\", \"#B3D9FF\", \"#C5C5C5\", \"#B3D9FF\", \"#B3D9FF\", \"#B3D9FF\", \"#B3D9FF\", \"#B3D9FF\", \"#33ffc9\", \"#B3D9FF\", \"#B3D9FF\", \"#33ffc9\", \"#C5C5C5\", \"#B3D9FF\", \"#B3D9FF\", \"#C5C5C5\", \"#B3D9FF\", \"#B3D9FF\", \"#C5C5C5\", \"#B3D9FF\", \"#C5C5C5\", \"#B3D9FF\", \"#B3D9FF\", \"#B3D9FF\", \"#C5C5C5\", \"#B3D9FF\", \"#C5C5C5\", \"#B3D9FF\", \"#B3D9FF\", \"#B3D9FF\", \"#C5C5C5\", \"#B3D9FF\"], \"size\": 10}, \"mode\": \"markers+text\", \"type\": \"scatter\", \"x\": [18.0, 19.0, 20.0, 20.0, 21.0, 23.0, 25.0, 25.0, 26.0, 27.0, 27.0, 28.0, 28.0, 28.0, 28.0, 30.0, 30.0, 31.0, 31.0, 32.0, 34.0, 34.0, 35.0, 35.0, 36.0, 36.0, 37.0, 38.0, 38.0, 38.0, 40.0, 40.0, 41.0, 42.0, 43.0, 44.0, 44.0, 45.0, 46.0, 47.0, 48.0, 52.0, 55.0, 57.0, 57.0, 59.0, 59.0, 59.0, 60.0, 60.0, 62.0, 64.0, 67.0, 72.0, 74.0, 74.0], \"xaxis\": \"x4\", \"y\": [58.0, 61.0, 85.0, 80.0, 77.0, 103.0, 63.0, 66.0, 85.0, 103.0, null, 63.0, null, 100.0, 94.0, 88.0, null, 71.0, 63.0, 103.0, 52.0, 83.0, 85.0, 71.0, 66.0, 91.0, 117.0, 100.0, 120.0, 97.0, 106.0, 112.0, null, 97.0, 128.0, 83.0, 100.0, 94.0, 114.0, 85.0, 103.0, 114.0, 117.0, 120.0, 83.0, 114.0, null, null, 131.0, 88.0, 126.0, 112.0, null, 117.0, 97.0, 117.0], \"yaxis\": \"y4\"}, {\"hovertext\": [\"EF 2E 22 E0 EA, Type 1\", \"B6 A4 CD 3A 81, Type 1\", \"76 A2 26 6F C7, Type inconnu\", \"C2 C3 05 A8 4B, Type 1\", \"39 CA BD 3C 82, Type 1\", \"7B DE 78 5B F6, Type 1\", \"9B 8E 44 F8 FF, Type 1\", \"EA 6F FF DE 42, Type 2\", \"90 01 09 71 F0, Type 2\", \"39 35 88 38 7B, Type inconnu\", \"35 86 13 56 24, Type 1\", \"7D 76 3D FC 91, Type 1\", \"73 EC 1B D7 9B, Type 1\", \"81 03 8C 07 58, Type inconnu\", \"AB A5 ED 43 8B, Type 1\", \"48 84 25 4A E0, Type inconnu\", \"01 83 17 5E 89, Type 1\", \"B9 5D 22 14 86, Type 1\", \"A1 54 32 B1 53, Type 1\", \"FD 11 B7 CF 8F, Type 1\", \"DB 6B 59 3A 0C, Type 1\", \"F1 C2 1C 3A FC, Type 1\", \"31 19 64 3D 10, Type 2\", \"98 2C 1A AA 87, Type 1\", \"A2 D7 D0 A4 2A, Type 1\", \"D7 FC 44 05 CA, Type 2\", \"8A A0 53 AC 37, Type inconnu\", \"02 88 A7 94 50, Type 2\", \"64 0B 1B 0A 45, Type 2\", \"8A 77 B8 09 AD, Type 2\", \"51 B7 6E C2 FD, Type 2\", \"A4 03 5A F0 57, Type 2\", \"02 92 7B FF E6, Type 1\", \"90 A6 58 8A AD, Type 2\", \"F5 E4 FD A4 9F, Type 2\", \"06 25 B6 B7 F5, Type 1\", \"47 09 1C 5F 94, Type inconnu\", \"76 8F 56 DE 15, Type 2\", \"3D F6 5A B4 9D, Type 2\", \"3F 34 F5 32 80, Type inconnu\", \"A6 FD C4 C0 69, Type 2\", \"4F 9C 21 D3 31, Type 2\", \"4B 6C 17 74 29, Type inconnu\", \"94 EB 19 B7 18, Type 2\", \"12 A8 8F 3F 67, Type inconnu\", \"19 01 73 04 E2, Type 2\", \"A2 C1 35 C2 8C, Type 2\", \"0F 30 93 5E 0E, Type 2\", \"81 DB 14 CC 21, Type inconnu\", \"CA A2 77 FC 22, Type 2\", \"96 B8 5B 6F 8F, Type inconnu\", \"96 DD DC FE E3, Type 2\", \"21 36 06 E2 38, Type 2\", \"B7 CA E8 BC 99, Type 2\", \"3E C6 4C 31 8B, Type inconnu\", \"EF 4A CF 20 AF, Type 2\"], \"marker\": {\"color\": [\"#33ffc9\", \"#33ffc9\", \"#C5C5C5\", \"#33ffc9\", \"#33ffc9\", \"#33ffc9\", \"#33ffc9\", \"#B3D9FF\", \"#B3D9FF\", \"#C5C5C5\", \"#33ffc9\", \"#33ffc9\", \"#33ffc9\", \"#C5C5C5\", \"#33ffc9\", \"#C5C5C5\", \"#33ffc9\", \"#33ffc9\", \"#33ffc9\", \"#33ffc9\", \"#33ffc9\", \"#33ffc9\", \"#B3D9FF\", \"#33ffc9\", \"#33ffc9\", \"#B3D9FF\", \"#C5C5C5\", \"#B3D9FF\", \"#B3D9FF\", \"#B3D9FF\", \"#B3D9FF\", \"#B3D9FF\", \"#33ffc9\", \"#B3D9FF\", \"#B3D9FF\", \"#33ffc9\", \"#C5C5C5\", \"#B3D9FF\", \"#B3D9FF\", \"#C5C5C5\", \"#B3D9FF\", \"#B3D9FF\", \"#C5C5C5\", \"#B3D9FF\", \"#C5C5C5\", \"#B3D9FF\", \"#B3D9FF\", \"#B3D9FF\", \"#C5C5C5\", \"#B3D9FF\", \"#C5C5C5\", \"#B3D9FF\", \"#B3D9FF\", \"#B3D9FF\", \"#C5C5C5\", \"#B3D9FF\"], \"size\": 10}, \"mode\": \"markers+text\", \"type\": \"scatter\", \"x\": [18.0, 19.0, 20.0, 20.0, 21.0, 23.0, 25.0, 25.0, 26.0, 27.0, 27.0, 28.0, 28.0, 28.0, 28.0, 30.0, 30.0, 31.0, 31.0, 32.0, 34.0, 34.0, 35.0, 35.0, 36.0, 36.0, 37.0, 38.0, 38.0, 38.0, 40.0, 40.0, 41.0, 42.0, 43.0, 44.0, 44.0, 45.0, 46.0, 47.0, 48.0, 52.0, 55.0, 57.0, 57.0, 59.0, 59.0, 59.0, 60.0, 60.0, 62.0, 64.0, 67.0, 72.0, 74.0, 74.0], \"xaxis\": \"x5\", \"y\": [0.0, 0.0, 16.0, 9.0, 6.0, 58.0, 1.0, 1.0, 16.0, 58.0, null, 1.0, null, 50.0, 34.0, 21.0, null, 3.0, 1.0, 58.0, 1.0, 13.0, 16.0, 3.0, 1.0, 27.0, 87.0, 50.0, 91.0, 42.0, 66.0, 79.0, null, 42.0, 97.0, 13.0, 50.0, 34.0, 82.0, 16.0, 58.0, 82.0, 87.0, 91.0, 13.0, 82.0, null, null, 98.0, 21.0, 96.0, 79.0, null, 87.0, 42.0, 87.0], \"yaxis\": \"y5\"}, {\"hovertext\": [\"EF 2E 22 E0 EA, Type 1\", \"B6 A4 CD 3A 81, Type 1\", \"76 A2 26 6F C7, Type inconnu\", \"C2 C3 05 A8 4B, Type 1\", \"39 CA BD 3C 82, Type 1\", \"7B DE 78 5B F6, Type 1\", \"9B 8E 44 F8 FF, Type 1\", \"EA 6F FF DE 42, Type 2\", \"90 01 09 71 F0, Type 2\", \"39 35 88 38 7B, Type inconnu\", \"35 86 13 56 24, Type 1\", \"7D 76 3D FC 91, Type 1\", \"73 EC 1B D7 9B, Type 1\", \"81 03 8C 07 58, Type inconnu\", \"AB A5 ED 43 8B, Type 1\", \"48 84 25 4A E0, Type inconnu\", \"01 83 17 5E 89, Type 1\", \"B9 5D 22 14 86, Type 1\", \"A1 54 32 B1 53, Type 1\", \"FD 11 B7 CF 8F, Type 1\", \"DB 6B 59 3A 0C, Type 1\", \"F1 C2 1C 3A FC, Type 1\", \"31 19 64 3D 10, Type 2\", \"98 2C 1A AA 87, Type 1\", \"A2 D7 D0 A4 2A, Type 1\", \"D7 FC 44 05 CA, Type 2\", \"8A A0 53 AC 37, Type inconnu\", \"02 88 A7 94 50, Type 2\", \"64 0B 1B 0A 45, Type 2\", \"8A 77 B8 09 AD, Type 2\", \"51 B7 6E C2 FD, Type 2\", \"A4 03 5A F0 57, Type 2\", \"02 92 7B FF E6, Type 1\", \"90 A6 58 8A AD, Type 2\", \"F5 E4 FD A4 9F, Type 2\", \"06 25 B6 B7 F5, Type 1\", \"47 09 1C 5F 94, Type inconnu\", \"76 8F 56 DE 15, Type 2\", \"3D F6 5A B4 9D, Type 2\", \"3F 34 F5 32 80, Type inconnu\", \"A6 FD C4 C0 69, Type 2\", \"4F 9C 21 D3 31, Type 2\", \"4B 6C 17 74 29, Type inconnu\", \"94 EB 19 B7 18, Type 2\", \"12 A8 8F 3F 67, Type inconnu\", \"19 01 73 04 E2, Type 2\", \"A2 C1 35 C2 8C, Type 2\", \"0F 30 93 5E 0E, Type 2\", \"81 DB 14 CC 21, Type inconnu\", \"CA A2 77 FC 22, Type 2\", \"96 B8 5B 6F 8F, Type inconnu\", \"96 DD DC FE E3, Type 2\", \"21 36 06 E2 38, Type 2\", \"B7 CA E8 BC 99, Type 2\", \"3E C6 4C 31 8B, Type inconnu\", \"EF 4A CF 20 AF, Type 2\"], \"marker\": {\"color\": [\"#33ffc9\", \"#33ffc9\", \"#C5C5C5\", \"#33ffc9\", \"#33ffc9\", \"#33ffc9\", \"#33ffc9\", \"#B3D9FF\", \"#B3D9FF\", \"#C5C5C5\", \"#33ffc9\", \"#33ffc9\", \"#33ffc9\", \"#C5C5C5\", \"#33ffc9\", \"#C5C5C5\", \"#33ffc9\", \"#33ffc9\", \"#33ffc9\", \"#33ffc9\", \"#33ffc9\", \"#33ffc9\", \"#B3D9FF\", \"#33ffc9\", \"#33ffc9\", \"#B3D9FF\", \"#C5C5C5\", \"#B3D9FF\", \"#B3D9FF\", \"#B3D9FF\", \"#B3D9FF\", \"#B3D9FF\", \"#33ffc9\", \"#B3D9FF\", \"#B3D9FF\", \"#33ffc9\", \"#C5C5C5\", \"#B3D9FF\", \"#B3D9FF\", \"#C5C5C5\", \"#B3D9FF\", \"#B3D9FF\", \"#C5C5C5\", \"#B3D9FF\", \"#C5C5C5\", \"#B3D9FF\", \"#B3D9FF\", \"#B3D9FF\", \"#C5C5C5\", \"#B3D9FF\", \"#C5C5C5\", \"#B3D9FF\", \"#B3D9FF\", \"#B3D9FF\", \"#C5C5C5\", \"#B3D9FF\"], \"size\": 10}, \"mode\": \"markers+text\", \"type\": \"scatter\", \"x\": [18.0, 19.0, 20.0, 20.0, 21.0, 23.0, 25.0, 25.0, 26.0, 27.0, 27.0, 28.0, 28.0, 28.0, 28.0, 30.0, 30.0, 31.0, 31.0, 32.0, 34.0, 34.0, 35.0, 35.0, 36.0, 36.0, 37.0, 38.0, 38.0, 38.0, 40.0, 40.0, 41.0, 42.0, 43.0, 44.0, 44.0, 45.0, 46.0, 47.0, 48.0, 52.0, 55.0, 57.0, 57.0, 59.0, 59.0, 59.0, 60.0, 60.0, 62.0, 64.0, 67.0, 72.0, 74.0, 74.0], \"xaxis\": \"x6\", \"y\": [54.0, 57.0, 79.0, 74.0, 71.0, 96.0, 58.0, 61.0, 79.0, 96.0, null, 58.0, null, 93.0, 87.0, 82.0, null, 66.0, 58.0, 96.0, 48.0, 77.0, 79.0, 66.0, 61.0, 84.0, 109.0, 93.0, 112.0, 90.0, 98.0, 104.0, null, 90.0, 119.0, 77.0, 93.0, 87.0, 106.0, 79.0, 96.0, 106.0, 109.0, 112.0, 77.0, 106.0, null, null, 122.0, 82.0, 114.0, 104.0, null, 109.0, 90.0, 109.0], \"yaxis\": \"y6\"}, {\"hovertext\": [\"EF 2E 22 E0 EA, Type 1\", \"B6 A4 CD 3A 81, Type 1\", \"76 A2 26 6F C7, Type inconnu\", \"C2 C3 05 A8 4B, Type 1\", \"39 CA BD 3C 82, Type 1\", \"7B DE 78 5B F6, Type 1\", \"9B 8E 44 F8 FF, Type 1\", \"EA 6F FF DE 42, Type 2\", \"90 01 09 71 F0, Type 2\", \"39 35 88 38 7B, Type inconnu\", \"35 86 13 56 24, Type 1\", \"7D 76 3D FC 91, Type 1\", \"73 EC 1B D7 9B, Type 1\", \"81 03 8C 07 58, Type inconnu\", \"AB A5 ED 43 8B, Type 1\", \"48 84 25 4A E0, Type inconnu\", \"01 83 17 5E 89, Type 1\", \"B9 5D 22 14 86, Type 1\", \"A1 54 32 B1 53, Type 1\", \"FD 11 B7 CF 8F, Type 1\", \"DB 6B 59 3A 0C, Type 1\", \"F1 C2 1C 3A FC, Type 1\", \"31 19 64 3D 10, Type 2\", \"98 2C 1A AA 87, Type 1\", \"A2 D7 D0 A4 2A, Type 1\", \"D7 FC 44 05 CA, Type 2\", \"8A A0 53 AC 37, Type inconnu\", \"02 88 A7 94 50, Type 2\", \"64 0B 1B 0A 45, Type 2\", \"8A 77 B8 09 AD, Type 2\", \"51 B7 6E C2 FD, Type 2\", \"A4 03 5A F0 57, Type 2\", \"02 92 7B FF E6, Type 1\", \"90 A6 58 8A AD, Type 2\", \"F5 E4 FD A4 9F, Type 2\", \"06 25 B6 B7 F5, Type 1\", \"47 09 1C 5F 94, Type inconnu\", \"76 8F 56 DE 15, Type 2\", \"3D F6 5A B4 9D, Type 2\", \"3F 34 F5 32 80, Type inconnu\", \"A6 FD C4 C0 69, Type 2\", \"4F 9C 21 D3 31, Type 2\", \"4B 6C 17 74 29, Type inconnu\", \"94 EB 19 B7 18, Type 2\", \"12 A8 8F 3F 67, Type inconnu\", \"19 01 73 04 E2, Type 2\", \"A2 C1 35 C2 8C, Type 2\", \"0F 30 93 5E 0E, Type 2\", \"81 DB 14 CC 21, Type inconnu\", \"CA A2 77 FC 22, Type 2\", \"96 B8 5B 6F 8F, Type inconnu\", \"96 DD DC FE E3, Type 2\", \"21 36 06 E2 38, Type 2\", \"B7 CA E8 BC 99, Type 2\", \"3E C6 4C 31 8B, Type inconnu\", \"EF 4A CF 20 AF, Type 2\"], \"marker\": {\"color\": [\"#33ffc9\", \"#33ffc9\", \"#C5C5C5\", \"#33ffc9\", \"#33ffc9\", \"#33ffc9\", \"#33ffc9\", \"#B3D9FF\", \"#B3D9FF\", \"#C5C5C5\", \"#33ffc9\", \"#33ffc9\", \"#33ffc9\", \"#C5C5C5\", \"#33ffc9\", \"#C5C5C5\", \"#33ffc9\", \"#33ffc9\", \"#33ffc9\", \"#33ffc9\", \"#33ffc9\", \"#33ffc9\", \"#B3D9FF\", \"#33ffc9\", \"#33ffc9\", \"#B3D9FF\", \"#C5C5C5\", \"#B3D9FF\", \"#B3D9FF\", \"#B3D9FF\", \"#B3D9FF\", \"#B3D9FF\", \"#33ffc9\", \"#B3D9FF\", \"#B3D9FF\", \"#33ffc9\", \"#C5C5C5\", \"#B3D9FF\", \"#B3D9FF\", \"#C5C5C5\", \"#B3D9FF\", \"#B3D9FF\", \"#C5C5C5\", \"#B3D9FF\", \"#C5C5C5\", \"#B3D9FF\", \"#B3D9FF\", \"#B3D9FF\", \"#C5C5C5\", \"#B3D9FF\", \"#C5C5C5\", \"#B3D9FF\", \"#B3D9FF\", \"#B3D9FF\", \"#C5C5C5\", \"#B3D9FF\"], \"size\": 10}, \"mode\": \"markers+text\", \"type\": \"scatter\", \"x\": [18.0, 19.0, 20.0, 20.0, 21.0, 23.0, 25.0, 25.0, 26.0, 27.0, 27.0, 28.0, 28.0, 28.0, 28.0, 30.0, 30.0, 31.0, 31.0, 32.0, 34.0, 34.0, 35.0, 35.0, 36.0, 36.0, 37.0, 38.0, 38.0, 38.0, 40.0, 40.0, 41.0, 42.0, 43.0, 44.0, 44.0, 45.0, 46.0, 47.0, 48.0, 52.0, 55.0, 57.0, 57.0, 59.0, 59.0, 59.0, 60.0, 60.0, 62.0, 64.0, 67.0, 72.0, 74.0, 74.0], \"xaxis\": \"x7\", \"y\": [68.0, 71.0, 93.0, 88.0, 86.0, 110.0, 73.0, 75.0, 93.0, 110.0, null, 73.0, null, 107.0, 102.0, 96.0, null, 80.0, 73.0, 110.0, 62.0, 91.0, 93.0, 80.0, 75.0, 99.0, 123.0, 107.0, 126.0, 104.0, 113.0, 118.0, null, 104.0, 133.0, 91.0, 107.0, 102.0, 120.0, 93.0, 110.0, 120.0, 123.0, 126.0, 91.0, 120.0, null, null, 136.0, 96.0, 132.0, 118.0, null, 123.0, 104.0, 123.0], \"yaxis\": \"y7\"}, {\"hovertext\": [\"EF 2E 22 E0 EA, Type 1\", \"B6 A4 CD 3A 81, Type 1\", \"76 A2 26 6F C7, Type inconnu\", \"C2 C3 05 A8 4B, Type 1\", \"39 CA BD 3C 82, Type 1\", \"7B DE 78 5B F6, Type 1\", \"9B 8E 44 F8 FF, Type 1\", \"EA 6F FF DE 42, Type 2\", \"90 01 09 71 F0, Type 2\", \"39 35 88 38 7B, Type inconnu\", \"35 86 13 56 24, Type 1\", \"7D 76 3D FC 91, Type 1\", \"73 EC 1B D7 9B, Type 1\", \"81 03 8C 07 58, Type inconnu\", \"AB A5 ED 43 8B, Type 1\", \"48 84 25 4A E0, Type inconnu\", \"01 83 17 5E 89, Type 1\", \"B9 5D 22 14 86, Type 1\", \"A1 54 32 B1 53, Type 1\", \"FD 11 B7 CF 8F, Type 1\", \"DB 6B 59 3A 0C, Type 1\", \"F1 C2 1C 3A FC, Type 1\", \"31 19 64 3D 10, Type 2\", \"98 2C 1A AA 87, Type 1\", \"A2 D7 D0 A4 2A, Type 1\", \"D7 FC 44 05 CA, Type 2\", \"8A A0 53 AC 37, Type inconnu\", \"02 88 A7 94 50, Type 2\", \"64 0B 1B 0A 45, Type 2\", \"8A 77 B8 09 AD, Type 2\", \"51 B7 6E C2 FD, Type 2\", \"A4 03 5A F0 57, Type 2\", \"02 92 7B FF E6, Type 1\", \"90 A6 58 8A AD, Type 2\", \"F5 E4 FD A4 9F, Type 2\", \"06 25 B6 B7 F5, Type 1\", \"47 09 1C 5F 94, Type inconnu\", \"76 8F 56 DE 15, Type 2\", \"3D F6 5A B4 9D, Type 2\", \"3F 34 F5 32 80, Type inconnu\", \"A6 FD C4 C0 69, Type 2\", \"4F 9C 21 D3 31, Type 2\", \"4B 6C 17 74 29, Type inconnu\", \"94 EB 19 B7 18, Type 2\", \"12 A8 8F 3F 67, Type inconnu\", \"19 01 73 04 E2, Type 2\", \"A2 C1 35 C2 8C, Type 2\", \"0F 30 93 5E 0E, Type 2\", \"81 DB 14 CC 21, Type inconnu\", \"CA A2 77 FC 22, Type 2\", \"96 B8 5B 6F 8F, Type inconnu\", \"96 DD DC FE E3, Type 2\", \"21 36 06 E2 38, Type 2\", \"B7 CA E8 BC 99, Type 2\", \"3E C6 4C 31 8B, Type inconnu\", \"EF 4A CF 20 AF, Type 2\"], \"marker\": {\"color\": [\"#33ffc9\", \"#33ffc9\", \"#C5C5C5\", \"#33ffc9\", \"#33ffc9\", \"#33ffc9\", \"#33ffc9\", \"#B3D9FF\", \"#B3D9FF\", \"#C5C5C5\", \"#33ffc9\", \"#33ffc9\", \"#33ffc9\", \"#C5C5C5\", \"#33ffc9\", \"#C5C5C5\", \"#33ffc9\", \"#33ffc9\", \"#33ffc9\", \"#33ffc9\", \"#33ffc9\", \"#33ffc9\", \"#B3D9FF\", \"#33ffc9\", \"#33ffc9\", \"#B3D9FF\", \"#C5C5C5\", \"#B3D9FF\", \"#B3D9FF\", \"#B3D9FF\", \"#B3D9FF\", \"#B3D9FF\", \"#33ffc9\", \"#B3D9FF\", \"#B3D9FF\", \"#33ffc9\", \"#C5C5C5\", \"#B3D9FF\", \"#B3D9FF\", \"#C5C5C5\", \"#B3D9FF\", \"#B3D9FF\", \"#C5C5C5\", \"#B3D9FF\", \"#C5C5C5\", \"#B3D9FF\", \"#B3D9FF\", \"#B3D9FF\", \"#C5C5C5\", \"#B3D9FF\", \"#C5C5C5\", \"#B3D9FF\", \"#B3D9FF\", \"#B3D9FF\", \"#C5C5C5\", \"#B3D9FF\"], \"size\": 10}, \"mode\": \"markers+text\", \"type\": \"scatter\", \"x\": [18.0, 19.0, 20.0, 20.0, 21.0, 23.0, 25.0, 25.0, 26.0, 27.0, 27.0, 28.0, 28.0, 28.0, 28.0, 30.0, 30.0, 31.0, 31.0, 32.0, 34.0, 34.0, 35.0, 35.0, 36.0, 36.0, 37.0, 38.0, 38.0, 38.0, 40.0, 40.0, 41.0, 42.0, 43.0, 44.0, 44.0, 45.0, 46.0, 47.0, 48.0, 52.0, 55.0, 57.0, 57.0, 59.0, 59.0, 59.0, 60.0, 60.0, 62.0, 64.0, 67.0, 72.0, 74.0, 74.0], \"xaxis\": \"x\", \"y\": [2.0, 3.0, 7.0, 4.0, 5.0, 11.0, 4.0, 4.0, 6.0, 8.0, 1.0, 4.0, null, 6.0, 7.0, 7.0, null, 5.0, 4.0, 7.0, 2.0, 5.0, 10.0, 7.0, 4.0, 7.0, 11.0, 9.0, 14.0, 8.0, 12.0, 12.0, null, 10.0, 15.0, 7.0, 12.0, 7.0, 12.0, 8.0, 10.0, 15.0, 14.0, 13.0, 8.0, 12.0, 12.0, 10.0, 15.0, 7.0, 13.0, 11.0, 3.0, 10.0, 12.0, 14.0], \"yaxis\": \"y\"}, {\"hovertext\": [\"EF 2E 22 E0 EA, Type 1\", \"B6 A4 CD 3A 81, Type 1\", \"76 A2 26 6F C7, Type inconnu\", \"C2 C3 05 A8 4B, Type 1\", \"39 CA BD 3C 82, Type 1\", \"7B DE 78 5B F6, Type 1\", \"9B 8E 44 F8 FF, Type 1\", \"EA 6F FF DE 42, Type 2\", \"90 01 09 71 F0, Type 2\", \"39 35 88 38 7B, Type inconnu\", \"35 86 13 56 24, Type 1\", \"7D 76 3D FC 91, Type 1\", \"73 EC 1B D7 9B, Type 1\", \"81 03 8C 07 58, Type inconnu\", \"AB A5 ED 43 8B, Type 1\", \"48 84 25 4A E0, Type inconnu\", \"01 83 17 5E 89, Type 1\", \"B9 5D 22 14 86, Type 1\", \"A1 54 32 B1 53, Type 1\", \"FD 11 B7 CF 8F, Type 1\", \"DB 6B 59 3A 0C, Type 1\", \"F1 C2 1C 3A FC, Type 1\", \"31 19 64 3D 10, Type 2\", \"98 2C 1A AA 87, Type 1\", \"A2 D7 D0 A4 2A, Type 1\", \"D7 FC 44 05 CA, Type 2\", \"8A A0 53 AC 37, Type inconnu\", \"02 88 A7 94 50, Type 2\", \"64 0B 1B 0A 45, Type 2\", \"8A 77 B8 09 AD, Type 2\", \"51 B7 6E C2 FD, Type 2\", \"A4 03 5A F0 57, Type 2\", \"02 92 7B FF E6, Type 1\", \"90 A6 58 8A AD, Type 2\", \"F5 E4 FD A4 9F, Type 2\", \"06 25 B6 B7 F5, Type 1\", \"47 09 1C 5F 94, Type inconnu\", \"76 8F 56 DE 15, Type 2\", \"3D F6 5A B4 9D, Type 2\", \"3F 34 F5 32 80, Type inconnu\", \"A6 FD C4 C0 69, Type 2\", \"4F 9C 21 D3 31, Type 2\", \"4B 6C 17 74 29, Type inconnu\", \"94 EB 19 B7 18, Type 2\", \"12 A8 8F 3F 67, Type inconnu\", \"19 01 73 04 E2, Type 2\", \"A2 C1 35 C2 8C, Type 2\", \"0F 30 93 5E 0E, Type 2\", \"81 DB 14 CC 21, Type inconnu\", \"CA A2 77 FC 22, Type 2\", \"96 B8 5B 6F 8F, Type inconnu\", \"96 DD DC FE E3, Type 2\", \"21 36 06 E2 38, Type 2\", \"B7 CA E8 BC 99, Type 2\", \"3E C6 4C 31 8B, Type inconnu\", \"EF 4A CF 20 AF, Type 2\"], \"marker\": {\"color\": [\"#33ffc9\", \"#33ffc9\", \"#C5C5C5\", \"#33ffc9\", \"#33ffc9\", \"#33ffc9\", \"#33ffc9\", \"#B3D9FF\", \"#B3D9FF\", \"#C5C5C5\", \"#33ffc9\", \"#33ffc9\", \"#33ffc9\", \"#C5C5C5\", \"#33ffc9\", \"#C5C5C5\", \"#33ffc9\", \"#33ffc9\", \"#33ffc9\", \"#33ffc9\", \"#33ffc9\", \"#33ffc9\", \"#B3D9FF\", \"#33ffc9\", \"#33ffc9\", \"#B3D9FF\", \"#C5C5C5\", \"#B3D9FF\", \"#B3D9FF\", \"#B3D9FF\", \"#B3D9FF\", \"#B3D9FF\", \"#33ffc9\", \"#B3D9FF\", \"#B3D9FF\", \"#33ffc9\", \"#C5C5C5\", \"#B3D9FF\", \"#B3D9FF\", \"#C5C5C5\", \"#B3D9FF\", \"#B3D9FF\", \"#C5C5C5\", \"#B3D9FF\", \"#C5C5C5\", \"#B3D9FF\", \"#B3D9FF\", \"#B3D9FF\", \"#C5C5C5\", \"#B3D9FF\", \"#C5C5C5\", \"#B3D9FF\", \"#B3D9FF\", \"#B3D9FF\", \"#C5C5C5\", \"#B3D9FF\"], \"size\": 10}, \"mode\": \"markers+text\", \"type\": \"scatter\", \"x\": [18.0, 19.0, 20.0, 20.0, 21.0, 23.0, 25.0, 25.0, 26.0, 27.0, 27.0, 28.0, 28.0, 28.0, 28.0, 30.0, 30.0, 31.0, 31.0, 32.0, 34.0, 34.0, 35.0, 35.0, 36.0, 36.0, 37.0, 38.0, 38.0, 38.0, 40.0, 40.0, 41.0, 42.0, 43.0, 44.0, 44.0, 45.0, 46.0, 47.0, 48.0, 52.0, 55.0, 57.0, 57.0, 59.0, 59.0, 59.0, 60.0, 60.0, 62.0, 64.0, 67.0, 72.0, 74.0, 74.0], \"xaxis\": \"x2\", \"y\": [3.0, 3.0, 8.0, 9.0, 7.0, 10.0, 3.0, 4.0, 9.0, 13.0, null, 3.0, 5.0, 14.0, 11.0, 9.0, null, 5.0, 3.0, 14.0, 1.0, 9.0, 5.0, 3.0, 4.0, 10.0, 15.0, 11.0, 13.0, 11.0, 10.0, 12.0, null, 9.0, 15.0, 7.0, 8.0, 11.0, 13.0, 7.0, 11.0, 10.0, 12.0, 14.0, 6.0, 13.0, null, null, 16.0, 9.0, 16.0, 13.0, null, 16.0, 7.0, 12.0], \"yaxis\": \"y2\"}, {\"hovertext\": [\"EF 2E 22 E0 EA, Type 1\", \"B6 A4 CD 3A 81, Type 1\", \"76 A2 26 6F C7, Type inconnu\", \"C2 C3 05 A8 4B, Type 1\", \"39 CA BD 3C 82, Type 1\", \"7B DE 78 5B F6, Type 1\", \"9B 8E 44 F8 FF, Type 1\", \"EA 6F FF DE 42, Type 2\", \"90 01 09 71 F0, Type 2\", \"39 35 88 38 7B, Type inconnu\", \"35 86 13 56 24, Type 1\", \"7D 76 3D FC 91, Type 1\", \"73 EC 1B D7 9B, Type 1\", \"81 03 8C 07 58, Type inconnu\", \"AB A5 ED 43 8B, Type 1\", \"48 84 25 4A E0, Type inconnu\", \"01 83 17 5E 89, Type 1\", \"B9 5D 22 14 86, Type 1\", \"A1 54 32 B1 53, Type 1\", \"FD 11 B7 CF 8F, Type 1\", \"DB 6B 59 3A 0C, Type 1\", \"F1 C2 1C 3A FC, Type 1\", \"31 19 64 3D 10, Type 2\", \"98 2C 1A AA 87, Type 1\", \"A2 D7 D0 A4 2A, Type 1\", \"D7 FC 44 05 CA, Type 2\", \"8A A0 53 AC 37, Type inconnu\", \"02 88 A7 94 50, Type 2\", \"64 0B 1B 0A 45, Type 2\", \"8A 77 B8 09 AD, Type 2\", \"51 B7 6E C2 FD, Type 2\", \"A4 03 5A F0 57, Type 2\", \"02 92 7B FF E6, Type 1\", \"90 A6 58 8A AD, Type 2\", \"F5 E4 FD A4 9F, Type 2\", \"06 25 B6 B7 F5, Type 1\", \"47 09 1C 5F 94, Type inconnu\", \"76 8F 56 DE 15, Type 2\", \"3D F6 5A B4 9D, Type 2\", \"3F 34 F5 32 80, Type inconnu\", \"A6 FD C4 C0 69, Type 2\", \"4F 9C 21 D3 31, Type 2\", \"4B 6C 17 74 29, Type inconnu\", \"94 EB 19 B7 18, Type 2\", \"12 A8 8F 3F 67, Type inconnu\", \"19 01 73 04 E2, Type 2\", \"A2 C1 35 C2 8C, Type 2\", \"0F 30 93 5E 0E, Type 2\", \"81 DB 14 CC 21, Type inconnu\", \"CA A2 77 FC 22, Type 2\", \"96 B8 5B 6F 8F, Type inconnu\", \"96 DD DC FE E3, Type 2\", \"21 36 06 E2 38, Type 2\", \"B7 CA E8 BC 99, Type 2\", \"3E C6 4C 31 8B, Type inconnu\", \"EF 4A CF 20 AF, Type 2\"], \"marker\": {\"color\": [\"#33ffc9\", \"#33ffc9\", \"#C5C5C5\", \"#33ffc9\", \"#33ffc9\", \"#33ffc9\", \"#33ffc9\", \"#B3D9FF\", \"#B3D9FF\", \"#C5C5C5\", \"#33ffc9\", \"#33ffc9\", \"#33ffc9\", \"#C5C5C5\", \"#33ffc9\", \"#C5C5C5\", \"#33ffc9\", \"#33ffc9\", \"#33ffc9\", \"#33ffc9\", \"#33ffc9\", \"#33ffc9\", \"#B3D9FF\", \"#33ffc9\", \"#33ffc9\", \"#B3D9FF\", \"#C5C5C5\", \"#B3D9FF\", \"#B3D9FF\", \"#B3D9FF\", \"#B3D9FF\", \"#B3D9FF\", \"#33ffc9\", \"#B3D9FF\", \"#B3D9FF\", \"#33ffc9\", \"#C5C5C5\", \"#B3D9FF\", \"#B3D9FF\", \"#C5C5C5\", \"#B3D9FF\", \"#B3D9FF\", \"#C5C5C5\", \"#B3D9FF\", \"#C5C5C5\", \"#B3D9FF\", \"#B3D9FF\", \"#B3D9FF\", \"#C5C5C5\", \"#B3D9FF\", \"#C5C5C5\", \"#B3D9FF\", \"#B3D9FF\", \"#B3D9FF\", \"#C5C5C5\", \"#B3D9FF\"], \"size\": 10}, \"mode\": \"markers+text\", \"type\": \"scatter\", \"x\": [18.0, 19.0, 20.0, 20.0, 21.0, 23.0, 25.0, 25.0, 26.0, 27.0, 27.0, 28.0, 28.0, 28.0, 28.0, 30.0, 30.0, 31.0, 31.0, 32.0, 34.0, 34.0, 35.0, 35.0, 36.0, 36.0, 37.0, 38.0, 38.0, 38.0, 40.0, 40.0, 41.0, 42.0, 43.0, 44.0, 44.0, 45.0, 46.0, 47.0, 48.0, 52.0, 55.0, 57.0, 57.0, 59.0, 59.0, 59.0, 60.0, 60.0, 62.0, 64.0, 67.0, 72.0, 74.0, 74.0], \"xaxis\": \"x3\", \"y\": [5.0, 6.0, 15.0, 13.0, 12.0, 21.0, 7.0, 8.0, 15.0, 21.0, null, 7.0, null, 20.0, 18.0, 16.0, null, 10.0, 7.0, 21.0, 3.0, 14.0, 15.0, 10.0, 8.0, 17.0, 26.0, 20.0, 27.0, 19.0, 22.0, 24.0, null, 19.0, 30.0, 14.0, 20.0, 18.0, 25.0, 15.0, 21.0, 25.0, 26.0, 27.0, 14.0, 25.0, null, null, 31.0, 16.0, 29.0, 24.0, null, 26.0, 19.0, 26.0], \"yaxis\": \"y3\"}, {\"hovertext\": [\"EF 2E 22 E0 EA, Type 1\", \"B6 A4 CD 3A 81, Type 1\", \"76 A2 26 6F C7, Type inconnu\", \"C2 C3 05 A8 4B, Type 1\", \"39 CA BD 3C 82, Type 1\", \"7B DE 78 5B F6, Type 1\", \"9B 8E 44 F8 FF, Type 1\", \"EA 6F FF DE 42, Type 2\", \"90 01 09 71 F0, Type 2\", \"39 35 88 38 7B, Type inconnu\", \"35 86 13 56 24, Type 1\", \"7D 76 3D FC 91, Type 1\", \"73 EC 1B D7 9B, Type 1\", \"81 03 8C 07 58, Type inconnu\", \"AB A5 ED 43 8B, Type 1\", \"48 84 25 4A E0, Type inconnu\", \"01 83 17 5E 89, Type 1\", \"B9 5D 22 14 86, Type 1\", \"A1 54 32 B1 53, Type 1\", \"FD 11 B7 CF 8F, Type 1\", \"DB 6B 59 3A 0C, Type 1\", \"F1 C2 1C 3A FC, Type 1\", \"31 19 64 3D 10, Type 2\", \"98 2C 1A AA 87, Type 1\", \"A2 D7 D0 A4 2A, Type 1\", \"D7 FC 44 05 CA, Type 2\", \"8A A0 53 AC 37, Type inconnu\", \"02 88 A7 94 50, Type 2\", \"64 0B 1B 0A 45, Type 2\", \"8A 77 B8 09 AD, Type 2\", \"51 B7 6E C2 FD, Type 2\", \"A4 03 5A F0 57, Type 2\", \"02 92 7B FF E6, Type 1\", \"90 A6 58 8A AD, Type 2\", \"F5 E4 FD A4 9F, Type 2\", \"06 25 B6 B7 F5, Type 1\", \"47 09 1C 5F 94, Type inconnu\", \"76 8F 56 DE 15, Type 2\", \"3D F6 5A B4 9D, Type 2\", \"3F 34 F5 32 80, Type inconnu\", \"A6 FD C4 C0 69, Type 2\", \"4F 9C 21 D3 31, Type 2\", \"4B 6C 17 74 29, Type inconnu\", \"94 EB 19 B7 18, Type 2\", \"12 A8 8F 3F 67, Type inconnu\", \"19 01 73 04 E2, Type 2\", \"A2 C1 35 C2 8C, Type 2\", \"0F 30 93 5E 0E, Type 2\", \"81 DB 14 CC 21, Type inconnu\", \"CA A2 77 FC 22, Type 2\", \"96 B8 5B 6F 8F, Type inconnu\", \"96 DD DC FE E3, Type 2\", \"21 36 06 E2 38, Type 2\", \"B7 CA E8 BC 99, Type 2\", \"3E C6 4C 31 8B, Type inconnu\", \"EF 4A CF 20 AF, Type 2\"], \"marker\": {\"color\": [\"#33ffc9\", \"#33ffc9\", \"#C5C5C5\", \"#33ffc9\", \"#33ffc9\", \"#33ffc9\", \"#33ffc9\", \"#B3D9FF\", \"#B3D9FF\", \"#C5C5C5\", \"#33ffc9\", \"#33ffc9\", \"#33ffc9\", \"#C5C5C5\", \"#33ffc9\", \"#C5C5C5\", \"#33ffc9\", \"#33ffc9\", \"#33ffc9\", \"#33ffc9\", \"#33ffc9\", \"#33ffc9\", \"#B3D9FF\", \"#33ffc9\", \"#33ffc9\", \"#B3D9FF\", \"#C5C5C5\", \"#B3D9FF\", \"#B3D9FF\", \"#B3D9FF\", \"#B3D9FF\", \"#B3D9FF\", \"#33ffc9\", \"#B3D9FF\", \"#B3D9FF\", \"#33ffc9\", \"#C5C5C5\", \"#B3D9FF\", \"#B3D9FF\", \"#C5C5C5\", \"#B3D9FF\", \"#B3D9FF\", \"#C5C5C5\", \"#B3D9FF\", \"#C5C5C5\", \"#B3D9FF\", \"#B3D9FF\", \"#B3D9FF\", \"#C5C5C5\", \"#B3D9FF\", \"#C5C5C5\", \"#B3D9FF\", \"#B3D9FF\", \"#B3D9FF\", \"#C5C5C5\", \"#B3D9FF\"], \"size\": 10}, \"mode\": \"markers+text\", \"type\": \"scatter\", \"x\": [18.0, 19.0, 20.0, 20.0, 21.0, 23.0, 25.0, 25.0, 26.0, 27.0, 27.0, 28.0, 28.0, 28.0, 28.0, 30.0, 30.0, 31.0, 31.0, 32.0, 34.0, 34.0, 35.0, 35.0, 36.0, 36.0, 37.0, 38.0, 38.0, 38.0, 40.0, 40.0, 41.0, 42.0, 43.0, 44.0, 44.0, 45.0, 46.0, 47.0, 48.0, 52.0, 55.0, 57.0, 57.0, 59.0, 59.0, 59.0, 60.0, 60.0, 62.0, 64.0, 67.0, 72.0, 74.0, 74.0], \"xaxis\": \"x4\", \"y\": [58.0, 61.0, 85.0, 80.0, 77.0, 103.0, 63.0, 66.0, 85.0, 103.0, null, 63.0, null, 100.0, 94.0, 88.0, null, 71.0, 63.0, 103.0, 52.0, 83.0, 85.0, 71.0, 66.0, 91.0, 117.0, 100.0, 120.0, 97.0, 106.0, 112.0, null, 97.0, 128.0, 83.0, 100.0, 94.0, 114.0, 85.0, 103.0, 114.0, 117.0, 120.0, 83.0, 114.0, null, null, 131.0, 88.0, 126.0, 112.0, null, 117.0, 97.0, 117.0], \"yaxis\": \"y4\"}, {\"hovertext\": [\"EF 2E 22 E0 EA, Type 1\", \"B6 A4 CD 3A 81, Type 1\", \"76 A2 26 6F C7, Type inconnu\", \"C2 C3 05 A8 4B, Type 1\", \"39 CA BD 3C 82, Type 1\", \"7B DE 78 5B F6, Type 1\", \"9B 8E 44 F8 FF, Type 1\", \"EA 6F FF DE 42, Type 2\", \"90 01 09 71 F0, Type 2\", \"39 35 88 38 7B, Type inconnu\", \"35 86 13 56 24, Type 1\", \"7D 76 3D FC 91, Type 1\", \"73 EC 1B D7 9B, Type 1\", \"81 03 8C 07 58, Type inconnu\", \"AB A5 ED 43 8B, Type 1\", \"48 84 25 4A E0, Type inconnu\", \"01 83 17 5E 89, Type 1\", \"B9 5D 22 14 86, Type 1\", \"A1 54 32 B1 53, Type 1\", \"FD 11 B7 CF 8F, Type 1\", \"DB 6B 59 3A 0C, Type 1\", \"F1 C2 1C 3A FC, Type 1\", \"31 19 64 3D 10, Type 2\", \"98 2C 1A AA 87, Type 1\", \"A2 D7 D0 A4 2A, Type 1\", \"D7 FC 44 05 CA, Type 2\", \"8A A0 53 AC 37, Type inconnu\", \"02 88 A7 94 50, Type 2\", \"64 0B 1B 0A 45, Type 2\", \"8A 77 B8 09 AD, Type 2\", \"51 B7 6E C2 FD, Type 2\", \"A4 03 5A F0 57, Type 2\", \"02 92 7B FF E6, Type 1\", \"90 A6 58 8A AD, Type 2\", \"F5 E4 FD A4 9F, Type 2\", \"06 25 B6 B7 F5, Type 1\", \"47 09 1C 5F 94, Type inconnu\", \"76 8F 56 DE 15, Type 2\", \"3D F6 5A B4 9D, Type 2\", \"3F 34 F5 32 80, Type inconnu\", \"A6 FD C4 C0 69, Type 2\", \"4F 9C 21 D3 31, Type 2\", \"4B 6C 17 74 29, Type inconnu\", \"94 EB 19 B7 18, Type 2\", \"12 A8 8F 3F 67, Type inconnu\", \"19 01 73 04 E2, Type 2\", \"A2 C1 35 C2 8C, Type 2\", \"0F 30 93 5E 0E, Type 2\", \"81 DB 14 CC 21, Type inconnu\", \"CA A2 77 FC 22, Type 2\", \"96 B8 5B 6F 8F, Type inconnu\", \"96 DD DC FE E3, Type 2\", \"21 36 06 E2 38, Type 2\", \"B7 CA E8 BC 99, Type 2\", \"3E C6 4C 31 8B, Type inconnu\", \"EF 4A CF 20 AF, Type 2\"], \"marker\": {\"color\": [\"#33ffc9\", \"#33ffc9\", \"#C5C5C5\", \"#33ffc9\", \"#33ffc9\", \"#33ffc9\", \"#33ffc9\", \"#B3D9FF\", \"#B3D9FF\", \"#C5C5C5\", \"#33ffc9\", \"#33ffc9\", \"#33ffc9\", \"#C5C5C5\", \"#33ffc9\", \"#C5C5C5\", \"#33ffc9\", \"#33ffc9\", \"#33ffc9\", \"#33ffc9\", \"#33ffc9\", \"#33ffc9\", \"#B3D9FF\", \"#33ffc9\", \"#33ffc9\", \"#B3D9FF\", \"#C5C5C5\", \"#B3D9FF\", \"#B3D9FF\", \"#B3D9FF\", \"#B3D9FF\", \"#B3D9FF\", \"#33ffc9\", \"#B3D9FF\", \"#B3D9FF\", \"#33ffc9\", \"#C5C5C5\", \"#B3D9FF\", \"#B3D9FF\", \"#C5C5C5\", \"#B3D9FF\", \"#B3D9FF\", \"#C5C5C5\", \"#B3D9FF\", \"#C5C5C5\", \"#B3D9FF\", \"#B3D9FF\", \"#B3D9FF\", \"#C5C5C5\", \"#B3D9FF\", \"#C5C5C5\", \"#B3D9FF\", \"#B3D9FF\", \"#B3D9FF\", \"#C5C5C5\", \"#B3D9FF\"], \"size\": 10}, \"mode\": \"markers+text\", \"type\": \"scatter\", \"x\": [18.0, 19.0, 20.0, 20.0, 21.0, 23.0, 25.0, 25.0, 26.0, 27.0, 27.0, 28.0, 28.0, 28.0, 28.0, 30.0, 30.0, 31.0, 31.0, 32.0, 34.0, 34.0, 35.0, 35.0, 36.0, 36.0, 37.0, 38.0, 38.0, 38.0, 40.0, 40.0, 41.0, 42.0, 43.0, 44.0, 44.0, 45.0, 46.0, 47.0, 48.0, 52.0, 55.0, 57.0, 57.0, 59.0, 59.0, 59.0, 60.0, 60.0, 62.0, 64.0, 67.0, 72.0, 74.0, 74.0], \"xaxis\": \"x5\", \"y\": [0.0, 0.0, 16.0, 9.0, 6.0, 58.0, 1.0, 1.0, 16.0, 58.0, null, 1.0, null, 50.0, 34.0, 21.0, null, 3.0, 1.0, 58.0, 1.0, 13.0, 16.0, 3.0, 1.0, 27.0, 87.0, 50.0, 91.0, 42.0, 66.0, 79.0, null, 42.0, 97.0, 13.0, 50.0, 34.0, 82.0, 16.0, 58.0, 82.0, 87.0, 91.0, 13.0, 82.0, null, null, 98.0, 21.0, 96.0, 79.0, null, 87.0, 42.0, 87.0], \"yaxis\": \"y5\"}, {\"hovertext\": [\"EF 2E 22 E0 EA, Type 1\", \"B6 A4 CD 3A 81, Type 1\", \"76 A2 26 6F C7, Type inconnu\", \"C2 C3 05 A8 4B, Type 1\", \"39 CA BD 3C 82, Type 1\", \"7B DE 78 5B F6, Type 1\", \"9B 8E 44 F8 FF, Type 1\", \"EA 6F FF DE 42, Type 2\", \"90 01 09 71 F0, Type 2\", \"39 35 88 38 7B, Type inconnu\", \"35 86 13 56 24, Type 1\", \"7D 76 3D FC 91, Type 1\", \"73 EC 1B D7 9B, Type 1\", \"81 03 8C 07 58, Type inconnu\", \"AB A5 ED 43 8B, Type 1\", \"48 84 25 4A E0, Type inconnu\", \"01 83 17 5E 89, Type 1\", \"B9 5D 22 14 86, Type 1\", \"A1 54 32 B1 53, Type 1\", \"FD 11 B7 CF 8F, Type 1\", \"DB 6B 59 3A 0C, Type 1\", \"F1 C2 1C 3A FC, Type 1\", \"31 19 64 3D 10, Type 2\", \"98 2C 1A AA 87, Type 1\", \"A2 D7 D0 A4 2A, Type 1\", \"D7 FC 44 05 CA, Type 2\", \"8A A0 53 AC 37, Type inconnu\", \"02 88 A7 94 50, Type 2\", \"64 0B 1B 0A 45, Type 2\", \"8A 77 B8 09 AD, Type 2\", \"51 B7 6E C2 FD, Type 2\", \"A4 03 5A F0 57, Type 2\", \"02 92 7B FF E6, Type 1\", \"90 A6 58 8A AD, Type 2\", \"F5 E4 FD A4 9F, Type 2\", \"06 25 B6 B7 F5, Type 1\", \"47 09 1C 5F 94, Type inconnu\", \"76 8F 56 DE 15, Type 2\", \"3D F6 5A B4 9D, Type 2\", \"3F 34 F5 32 80, Type inconnu\", \"A6 FD C4 C0 69, Type 2\", \"4F 9C 21 D3 31, Type 2\", \"4B 6C 17 74 29, Type inconnu\", \"94 EB 19 B7 18, Type 2\", \"12 A8 8F 3F 67, Type inconnu\", \"19 01 73 04 E2, Type 2\", \"A2 C1 35 C2 8C, Type 2\", \"0F 30 93 5E 0E, Type 2\", \"81 DB 14 CC 21, Type inconnu\", \"CA A2 77 FC 22, Type 2\", \"96 B8 5B 6F 8F, Type inconnu\", \"96 DD DC FE E3, Type 2\", \"21 36 06 E2 38, Type 2\", \"B7 CA E8 BC 99, Type 2\", \"3E C6 4C 31 8B, Type inconnu\", \"EF 4A CF 20 AF, Type 2\"], \"marker\": {\"color\": [\"#33ffc9\", \"#33ffc9\", \"#C5C5C5\", \"#33ffc9\", \"#33ffc9\", \"#33ffc9\", \"#33ffc9\", \"#B3D9FF\", \"#B3D9FF\", \"#C5C5C5\", \"#33ffc9\", \"#33ffc9\", \"#33ffc9\", \"#C5C5C5\", \"#33ffc9\", \"#C5C5C5\", \"#33ffc9\", \"#33ffc9\", \"#33ffc9\", \"#33ffc9\", \"#33ffc9\", \"#33ffc9\", \"#B3D9FF\", \"#33ffc9\", \"#33ffc9\", \"#B3D9FF\", \"#C5C5C5\", \"#B3D9FF\", \"#B3D9FF\", \"#B3D9FF\", \"#B3D9FF\", \"#B3D9FF\", \"#33ffc9\", \"#B3D9FF\", \"#B3D9FF\", \"#33ffc9\", \"#C5C5C5\", \"#B3D9FF\", \"#B3D9FF\", \"#C5C5C5\", \"#B3D9FF\", \"#B3D9FF\", \"#C5C5C5\", \"#B3D9FF\", \"#C5C5C5\", \"#B3D9FF\", \"#B3D9FF\", \"#B3D9FF\", \"#C5C5C5\", \"#B3D9FF\", \"#C5C5C5\", \"#B3D9FF\", \"#B3D9FF\", \"#B3D9FF\", \"#C5C5C5\", \"#B3D9FF\"], \"size\": 10}, \"mode\": \"markers+text\", \"type\": \"scatter\", \"x\": [18.0, 19.0, 20.0, 20.0, 21.0, 23.0, 25.0, 25.0, 26.0, 27.0, 27.0, 28.0, 28.0, 28.0, 28.0, 30.0, 30.0, 31.0, 31.0, 32.0, 34.0, 34.0, 35.0, 35.0, 36.0, 36.0, 37.0, 38.0, 38.0, 38.0, 40.0, 40.0, 41.0, 42.0, 43.0, 44.0, 44.0, 45.0, 46.0, 47.0, 48.0, 52.0, 55.0, 57.0, 57.0, 59.0, 59.0, 59.0, 60.0, 60.0, 62.0, 64.0, 67.0, 72.0, 74.0, 74.0], \"xaxis\": \"x6\", \"y\": [54.0, 57.0, 79.0, 74.0, 71.0, 96.0, 58.0, 61.0, 79.0, 96.0, null, 58.0, null, 93.0, 87.0, 82.0, null, 66.0, 58.0, 96.0, 48.0, 77.0, 79.0, 66.0, 61.0, 84.0, 109.0, 93.0, 112.0, 90.0, 98.0, 104.0, null, 90.0, 119.0, 77.0, 93.0, 87.0, 106.0, 79.0, 96.0, 106.0, 109.0, 112.0, 77.0, 106.0, null, null, 122.0, 82.0, 114.0, 104.0, null, 109.0, 90.0, 109.0], \"yaxis\": \"y6\"}, {\"hovertext\": [\"EF 2E 22 E0 EA, Type 1\", \"B6 A4 CD 3A 81, Type 1\", \"76 A2 26 6F C7, Type inconnu\", \"C2 C3 05 A8 4B, Type 1\", \"39 CA BD 3C 82, Type 1\", \"7B DE 78 5B F6, Type 1\", \"9B 8E 44 F8 FF, Type 1\", \"EA 6F FF DE 42, Type 2\", \"90 01 09 71 F0, Type 2\", \"39 35 88 38 7B, Type inconnu\", \"35 86 13 56 24, Type 1\", \"7D 76 3D FC 91, Type 1\", \"73 EC 1B D7 9B, Type 1\", \"81 03 8C 07 58, Type inconnu\", \"AB A5 ED 43 8B, Type 1\", \"48 84 25 4A E0, Type inconnu\", \"01 83 17 5E 89, Type 1\", \"B9 5D 22 14 86, Type 1\", \"A1 54 32 B1 53, Type 1\", \"FD 11 B7 CF 8F, Type 1\", \"DB 6B 59 3A 0C, Type 1\", \"F1 C2 1C 3A FC, Type 1\", \"31 19 64 3D 10, Type 2\", \"98 2C 1A AA 87, Type 1\", \"A2 D7 D0 A4 2A, Type 1\", \"D7 FC 44 05 CA, Type 2\", \"8A A0 53 AC 37, Type inconnu\", \"02 88 A7 94 50, Type 2\", \"64 0B 1B 0A 45, Type 2\", \"8A 77 B8 09 AD, Type 2\", \"51 B7 6E C2 FD, Type 2\", \"A4 03 5A F0 57, Type 2\", \"02 92 7B FF E6, Type 1\", \"90 A6 58 8A AD, Type 2\", \"F5 E4 FD A4 9F, Type 2\", \"06 25 B6 B7 F5, Type 1\", \"47 09 1C 5F 94, Type inconnu\", \"76 8F 56 DE 15, Type 2\", \"3D F6 5A B4 9D, Type 2\", \"3F 34 F5 32 80, Type inconnu\", \"A6 FD C4 C0 69, Type 2\", \"4F 9C 21 D3 31, Type 2\", \"4B 6C 17 74 29, Type inconnu\", \"94 EB 19 B7 18, Type 2\", \"12 A8 8F 3F 67, Type inconnu\", \"19 01 73 04 E2, Type 2\", \"A2 C1 35 C2 8C, Type 2\", \"0F 30 93 5E 0E, Type 2\", \"81 DB 14 CC 21, Type inconnu\", \"CA A2 77 FC 22, Type 2\", \"96 B8 5B 6F 8F, Type inconnu\", \"96 DD DC FE E3, Type 2\", \"21 36 06 E2 38, Type 2\", \"B7 CA E8 BC 99, Type 2\", \"3E C6 4C 31 8B, Type inconnu\", \"EF 4A CF 20 AF, Type 2\"], \"marker\": {\"color\": [\"#33ffc9\", \"#33ffc9\", \"#C5C5C5\", \"#33ffc9\", \"#33ffc9\", \"#33ffc9\", \"#33ffc9\", \"#B3D9FF\", \"#B3D9FF\", \"#C5C5C5\", \"#33ffc9\", \"#33ffc9\", \"#33ffc9\", \"#C5C5C5\", \"#33ffc9\", \"#C5C5C5\", \"#33ffc9\", \"#33ffc9\", \"#33ffc9\", \"#33ffc9\", \"#33ffc9\", \"#33ffc9\", \"#B3D9FF\", \"#33ffc9\", \"#33ffc9\", \"#B3D9FF\", \"#C5C5C5\", \"#B3D9FF\", \"#B3D9FF\", \"#B3D9FF\", \"#B3D9FF\", \"#B3D9FF\", \"#33ffc9\", \"#B3D9FF\", \"#B3D9FF\", \"#33ffc9\", \"#C5C5C5\", \"#B3D9FF\", \"#B3D9FF\", \"#C5C5C5\", \"#B3D9FF\", \"#B3D9FF\", \"#C5C5C5\", \"#B3D9FF\", \"#C5C5C5\", \"#B3D9FF\", \"#B3D9FF\", \"#B3D9FF\", \"#C5C5C5\", \"#B3D9FF\", \"#C5C5C5\", \"#B3D9FF\", \"#B3D9FF\", \"#B3D9FF\", \"#C5C5C5\", \"#B3D9FF\"], \"size\": 10}, \"mode\": \"markers+text\", \"type\": \"scatter\", \"x\": [18.0, 19.0, 20.0, 20.0, 21.0, 23.0, 25.0, 25.0, 26.0, 27.0, 27.0, 28.0, 28.0, 28.0, 28.0, 30.0, 30.0, 31.0, 31.0, 32.0, 34.0, 34.0, 35.0, 35.0, 36.0, 36.0, 37.0, 38.0, 38.0, 38.0, 40.0, 40.0, 41.0, 42.0, 43.0, 44.0, 44.0, 45.0, 46.0, 47.0, 48.0, 52.0, 55.0, 57.0, 57.0, 59.0, 59.0, 59.0, 60.0, 60.0, 62.0, 64.0, 67.0, 72.0, 74.0, 74.0], \"xaxis\": \"x7\", \"y\": [68.0, 71.0, 93.0, 88.0, 86.0, 110.0, 73.0, 75.0, 93.0, 110.0, null, 73.0, null, 107.0, 102.0, 96.0, null, 80.0, 73.0, 110.0, 62.0, 91.0, 93.0, 80.0, 75.0, 99.0, 123.0, 107.0, 126.0, 104.0, 113.0, 118.0, null, 104.0, 133.0, 91.0, 107.0, 102.0, 120.0, 93.0, 110.0, 120.0, 123.0, 126.0, 91.0, 120.0, null, null, 136.0, 96.0, 132.0, 118.0, null, 123.0, 104.0, 123.0], \"yaxis\": \"y7\"}],\n",
       "                        {\"annotations\": [{\"font\": {\"size\": 16}, \"showarrow\": false, \"text\": \"Note standard M\\u00e9moires des chiffres\", \"x\": 0.225, \"xanchor\": \"center\", \"xref\": \"paper\", \"y\": 1.0, \"yanchor\": \"bottom\", \"yref\": \"paper\"}, {\"font\": {\"size\": 16}, \"showarrow\": false, \"text\": \"Note standard Arithm\\u00e9tique\", \"x\": 0.775, \"xanchor\": \"center\", \"xref\": \"paper\", \"y\": 1.0, \"yanchor\": \"bottom\", \"yref\": \"paper\"}, {\"font\": {\"size\": 16}, \"showarrow\": false, \"text\": \"Total des notes standards IMT\", \"x\": 0.225, \"xanchor\": \"center\", \"xref\": \"paper\", \"y\": 0.74, \"yanchor\": \"bottom\", \"yref\": \"paper\"}, {\"font\": {\"size\": 16}, \"showarrow\": false, \"text\": \"Note composite IMT\", \"x\": 0.775, \"xanchor\": \"center\", \"xref\": \"paper\", \"y\": 0.74, \"yanchor\": \"bottom\", \"yref\": \"paper\"}, {\"font\": {\"size\": 16}, \"showarrow\": false, \"text\": \"Rang percentile IMT\", \"x\": 0.225, \"xanchor\": \"center\", \"xref\": \"paper\", \"y\": 0.48, \"yanchor\": \"bottom\", \"yref\": \"paper\"}, {\"font\": {\"size\": 16}, \"showarrow\": false, \"text\": \"Note \\u00e9cart type inf\\u00e9rieure IMT\", \"x\": 0.775, \"xanchor\": \"center\", \"xref\": \"paper\", \"y\": 0.48, \"yanchor\": \"bottom\", \"yref\": \"paper\"}, {\"font\": {\"size\": 16}, \"showarrow\": false, \"text\": \"Note \\u00e9cart type sup\\u00e9rieure IMT\", \"x\": 0.225, \"xanchor\": \"center\", \"xref\": \"paper\", \"y\": 0.22, \"yanchor\": \"bottom\", \"yref\": \"paper\"}, {\"font\": {\"size\": 16}, \"showarrow\": false, \"text\": \"\\u00c2ge\", \"x\": 0.5, \"xanchor\": \"center\", \"xref\": \"paper\", \"y\": 0, \"yanchor\": \"top\", \"yref\": \"paper\", \"yshift\": -30}, {\"font\": {\"size\": 16}, \"showarrow\": false, \"text\": \"Score\", \"textangle\": -90, \"x\": 0, \"xanchor\": \"right\", \"xref\": \"paper\", \"xshift\": -40, \"y\": 0.5, \"yanchor\": \"middle\", \"yref\": \"paper\"}], \"height\": 1500, \"showlegend\": false, \"template\": {\"data\": {\"bar\": [{\"error_x\": {\"color\": \"#2a3f5f\"}, \"error_y\": {\"color\": \"#2a3f5f\"}, \"marker\": {\"line\": {\"color\": \"#E5ECF6\", \"width\": 0.5}}, \"type\": \"bar\"}], \"barpolar\": [{\"marker\": {\"line\": {\"color\": \"#E5ECF6\", \"width\": 0.5}}, \"type\": \"barpolar\"}], \"carpet\": [{\"aaxis\": {\"endlinecolor\": \"#2a3f5f\", \"gridcolor\": \"white\", \"linecolor\": \"white\", \"minorgridcolor\": \"white\", \"startlinecolor\": \"#2a3f5f\"}, \"baxis\": {\"endlinecolor\": \"#2a3f5f\", \"gridcolor\": \"white\", \"linecolor\": \"white\", \"minorgridcolor\": \"white\", \"startlinecolor\": \"#2a3f5f\"}, \"type\": \"carpet\"}], \"choropleth\": [{\"colorbar\": {\"outlinewidth\": 0, \"ticks\": \"\"}, \"type\": \"choropleth\"}], \"contour\": [{\"colorbar\": {\"outlinewidth\": 0, \"ticks\": \"\"}, \"colorscale\": [[0.0, \"#0d0887\"], [0.1111111111111111, \"#46039f\"], [0.2222222222222222, \"#7201a8\"], [0.3333333333333333, \"#9c179e\"], [0.4444444444444444, \"#bd3786\"], [0.5555555555555556, \"#d8576b\"], [0.6666666666666666, \"#ed7953\"], [0.7777777777777778, \"#fb9f3a\"], [0.8888888888888888, \"#fdca26\"], [1.0, \"#f0f921\"]], \"type\": \"contour\"}], \"contourcarpet\": [{\"colorbar\": {\"outlinewidth\": 0, \"ticks\": \"\"}, \"type\": \"contourcarpet\"}], \"heatmap\": [{\"colorbar\": {\"outlinewidth\": 0, \"ticks\": \"\"}, \"colorscale\": [[0.0, \"#0d0887\"], [0.1111111111111111, \"#46039f\"], [0.2222222222222222, \"#7201a8\"], [0.3333333333333333, \"#9c179e\"], [0.4444444444444444, \"#bd3786\"], [0.5555555555555556, \"#d8576b\"], [0.6666666666666666, \"#ed7953\"], [0.7777777777777778, \"#fb9f3a\"], [0.8888888888888888, \"#fdca26\"], [1.0, \"#f0f921\"]], \"type\": \"heatmap\"}], \"heatmapgl\": [{\"colorbar\": {\"outlinewidth\": 0, \"ticks\": \"\"}, \"colorscale\": [[0.0, \"#0d0887\"], [0.1111111111111111, \"#46039f\"], [0.2222222222222222, \"#7201a8\"], [0.3333333333333333, \"#9c179e\"], [0.4444444444444444, \"#bd3786\"], [0.5555555555555556, \"#d8576b\"], [0.6666666666666666, \"#ed7953\"], [0.7777777777777778, \"#fb9f3a\"], [0.8888888888888888, \"#fdca26\"], [1.0, \"#f0f921\"]], \"type\": \"heatmapgl\"}], \"histogram\": [{\"marker\": {\"colorbar\": {\"outlinewidth\": 0, \"ticks\": \"\"}}, \"type\": \"histogram\"}], \"histogram2d\": [{\"colorbar\": {\"outlinewidth\": 0, \"ticks\": \"\"}, \"colorscale\": [[0.0, \"#0d0887\"], [0.1111111111111111, \"#46039f\"], [0.2222222222222222, \"#7201a8\"], [0.3333333333333333, \"#9c179e\"], [0.4444444444444444, \"#bd3786\"], [0.5555555555555556, \"#d8576b\"], [0.6666666666666666, \"#ed7953\"], [0.7777777777777778, \"#fb9f3a\"], [0.8888888888888888, \"#fdca26\"], [1.0, \"#f0f921\"]], \"type\": \"histogram2d\"}], \"histogram2dcontour\": [{\"colorbar\": {\"outlinewidth\": 0, \"ticks\": \"\"}, \"colorscale\": [[0.0, \"#0d0887\"], [0.1111111111111111, \"#46039f\"], [0.2222222222222222, \"#7201a8\"], [0.3333333333333333, \"#9c179e\"], [0.4444444444444444, \"#bd3786\"], [0.5555555555555556, \"#d8576b\"], [0.6666666666666666, \"#ed7953\"], [0.7777777777777778, \"#fb9f3a\"], [0.8888888888888888, \"#fdca26\"], [1.0, \"#f0f921\"]], \"type\": \"histogram2dcontour\"}], \"mesh3d\": [{\"colorbar\": {\"outlinewidth\": 0, \"ticks\": \"\"}, \"type\": \"mesh3d\"}], \"parcoords\": [{\"line\": {\"colorbar\": {\"outlinewidth\": 0, \"ticks\": \"\"}}, \"type\": \"parcoords\"}], \"pie\": [{\"automargin\": true, \"type\": \"pie\"}], \"scatter\": [{\"marker\": {\"colorbar\": {\"outlinewidth\": 0, \"ticks\": \"\"}}, \"type\": \"scatter\"}], \"scatter3d\": [{\"line\": {\"colorbar\": {\"outlinewidth\": 0, \"ticks\": \"\"}}, \"marker\": {\"colorbar\": {\"outlinewidth\": 0, \"ticks\": \"\"}}, \"type\": \"scatter3d\"}], \"scattercarpet\": [{\"marker\": {\"colorbar\": {\"outlinewidth\": 0, \"ticks\": \"\"}}, \"type\": \"scattercarpet\"}], \"scattergeo\": [{\"marker\": {\"colorbar\": {\"outlinewidth\": 0, \"ticks\": \"\"}}, \"type\": \"scattergeo\"}], \"scattergl\": [{\"marker\": {\"colorbar\": {\"outlinewidth\": 0, \"ticks\": \"\"}}, \"type\": \"scattergl\"}], \"scattermapbox\": [{\"marker\": {\"colorbar\": {\"outlinewidth\": 0, \"ticks\": \"\"}}, \"type\": \"scattermapbox\"}], \"scatterpolar\": [{\"marker\": {\"colorbar\": {\"outlinewidth\": 0, \"ticks\": \"\"}}, \"type\": \"scatterpolar\"}], \"scatterpolargl\": [{\"marker\": {\"colorbar\": {\"outlinewidth\": 0, \"ticks\": \"\"}}, \"type\": \"scatterpolargl\"}], \"scatterternary\": [{\"marker\": {\"colorbar\": {\"outlinewidth\": 0, \"ticks\": \"\"}}, \"type\": \"scatterternary\"}], \"surface\": [{\"colorbar\": {\"outlinewidth\": 0, \"ticks\": \"\"}, \"colorscale\": [[0.0, \"#0d0887\"], [0.1111111111111111, \"#46039f\"], [0.2222222222222222, \"#7201a8\"], [0.3333333333333333, \"#9c179e\"], [0.4444444444444444, \"#bd3786\"], [0.5555555555555556, \"#d8576b\"], [0.6666666666666666, \"#ed7953\"], [0.7777777777777778, \"#fb9f3a\"], [0.8888888888888888, \"#fdca26\"], [1.0, \"#f0f921\"]], \"type\": \"surface\"}], \"table\": [{\"cells\": {\"fill\": {\"color\": \"#EBF0F8\"}, \"line\": {\"color\": \"white\"}}, \"header\": {\"fill\": {\"color\": \"#C8D4E3\"}, \"line\": {\"color\": \"white\"}}, \"type\": \"table\"}]}, \"layout\": {\"annotationdefaults\": {\"arrowcolor\": \"#2a3f5f\", \"arrowhead\": 0, \"arrowwidth\": 1}, \"coloraxis\": {\"colorbar\": {\"outlinewidth\": 0, \"ticks\": \"\"}}, \"colorscale\": {\"diverging\": [[0, \"#8e0152\"], [0.1, \"#c51b7d\"], [0.2, \"#de77ae\"], [0.3, \"#f1b6da\"], [0.4, \"#fde0ef\"], [0.5, \"#f7f7f7\"], [0.6, \"#e6f5d0\"], [0.7, \"#b8e186\"], [0.8, \"#7fbc41\"], [0.9, \"#4d9221\"], [1, \"#276419\"]], \"sequential\": [[0.0, \"#0d0887\"], [0.1111111111111111, \"#46039f\"], [0.2222222222222222, \"#7201a8\"], [0.3333333333333333, \"#9c179e\"], [0.4444444444444444, \"#bd3786\"], [0.5555555555555556, \"#d8576b\"], [0.6666666666666666, \"#ed7953\"], [0.7777777777777778, \"#fb9f3a\"], [0.8888888888888888, \"#fdca26\"], [1.0, \"#f0f921\"]], \"sequentialminus\": [[0.0, \"#0d0887\"], [0.1111111111111111, \"#46039f\"], [0.2222222222222222, \"#7201a8\"], [0.3333333333333333, \"#9c179e\"], [0.4444444444444444, \"#bd3786\"], [0.5555555555555556, \"#d8576b\"], [0.6666666666666666, \"#ed7953\"], [0.7777777777777778, \"#fb9f3a\"], [0.8888888888888888, \"#fdca26\"], [1.0, \"#f0f921\"]]}, \"colorway\": [\"#636efa\", \"#EF553B\", \"#00cc96\", \"#ab63fa\", \"#FFA15A\", \"#19d3f3\", \"#FF6692\", \"#B6E880\", \"#FF97FF\", \"#FECB52\"], \"font\": {\"color\": \"#2a3f5f\"}, \"geo\": {\"bgcolor\": \"white\", \"lakecolor\": \"white\", \"landcolor\": \"#E5ECF6\", \"showlakes\": true, \"showland\": true, \"subunitcolor\": \"white\"}, \"hoverlabel\": {\"align\": \"left\"}, \"hovermode\": \"closest\", \"mapbox\": {\"style\": \"light\"}, \"paper_bgcolor\": \"white\", \"plot_bgcolor\": \"#E5ECF6\", \"polar\": {\"angularaxis\": {\"gridcolor\": \"white\", \"linecolor\": \"white\", \"ticks\": \"\"}, \"bgcolor\": \"#E5ECF6\", \"radialaxis\": {\"gridcolor\": \"white\", \"linecolor\": \"white\", \"ticks\": \"\"}}, \"scene\": {\"xaxis\": {\"backgroundcolor\": \"#E5ECF6\", \"gridcolor\": \"white\", \"gridwidth\": 2, \"linecolor\": \"white\", \"showbackground\": true, \"ticks\": \"\", \"zerolinecolor\": \"white\"}, \"yaxis\": {\"backgroundcolor\": \"#E5ECF6\", \"gridcolor\": \"white\", \"gridwidth\": 2, \"linecolor\": \"white\", \"showbackground\": true, \"ticks\": \"\", \"zerolinecolor\": \"white\"}, \"zaxis\": {\"backgroundcolor\": \"#E5ECF6\", \"gridcolor\": \"white\", \"gridwidth\": 2, \"linecolor\": \"white\", \"showbackground\": true, \"ticks\": \"\", \"zerolinecolor\": \"white\"}}, \"shapedefaults\": {\"line\": {\"color\": \"#2a3f5f\"}}, \"ternary\": {\"aaxis\": {\"gridcolor\": \"white\", \"linecolor\": \"white\", \"ticks\": \"\"}, \"baxis\": {\"gridcolor\": \"white\", \"linecolor\": \"white\", \"ticks\": \"\"}, \"bgcolor\": \"#E5ECF6\", \"caxis\": {\"gridcolor\": \"white\", \"linecolor\": \"white\", \"ticks\": \"\"}}, \"title\": {\"x\": 0.05}, \"xaxis\": {\"automargin\": true, \"gridcolor\": \"white\", \"linecolor\": \"white\", \"ticks\": \"\", \"title\": {\"standoff\": 15}, \"zerolinecolor\": \"white\", \"zerolinewidth\": 2}, \"yaxis\": {\"automargin\": true, \"gridcolor\": \"white\", \"linecolor\": \"white\", \"ticks\": \"\", \"title\": {\"standoff\": 15}, \"zerolinecolor\": \"white\", \"zerolinewidth\": 2}}}, \"width\": 800, \"xaxis\": {\"anchor\": \"y\", \"domain\": [0.0, 0.45]}, \"xaxis2\": {\"anchor\": \"y2\", \"domain\": [0.55, 1.0]}, \"xaxis3\": {\"anchor\": \"y3\", \"domain\": [0.0, 0.45]}, \"xaxis4\": {\"anchor\": \"y4\", \"domain\": [0.55, 1.0]}, \"xaxis5\": {\"anchor\": \"y5\", \"domain\": [0.0, 0.45]}, \"xaxis6\": {\"anchor\": \"y6\", \"domain\": [0.55, 1.0]}, \"xaxis7\": {\"anchor\": \"y7\", \"domain\": [0.0, 0.45]}, \"xaxis8\": {\"anchor\": \"y8\", \"domain\": [0.55, 1.0]}, \"yaxis\": {\"anchor\": \"x\", \"domain\": [0.78, 1.0]}, \"yaxis2\": {\"anchor\": \"x2\", \"domain\": [0.78, 1.0]}, \"yaxis3\": {\"anchor\": \"x3\", \"domain\": [0.52, 0.74]}, \"yaxis4\": {\"anchor\": \"x4\", \"domain\": [0.52, 0.74]}, \"yaxis5\": {\"anchor\": \"x5\", \"domain\": [0.26, 0.48]}, \"yaxis6\": {\"anchor\": \"x6\", \"domain\": [0.26, 0.48]}, \"yaxis7\": {\"anchor\": \"x7\", \"domain\": [0.0, 0.22]}, \"yaxis8\": {\"anchor\": \"x8\", \"domain\": [0.0, 0.22]}},\n",
       "                        {\"responsive\": true}\n",
       "                    ).then(function(){\n",
       "                            \n",
       "var gd = document.getElementById('6c6a2d0d-ed0b-449f-87dd-0983a689f7ff');\n",
       "var x = new MutationObserver(function (mutations, observer) {{\n",
       "        var display = window.getComputedStyle(gd).display;\n",
       "        if (!display || display === 'none') {{\n",
       "            console.log([gd, 'removed!']);\n",
       "            Plotly.purge(gd);\n",
       "            observer.disconnect();\n",
       "        }}\n",
       "}});\n",
       "\n",
       "// Listen for the removal of the full notebook cells\n",
       "var notebookContainer = gd.closest('#notebook-container');\n",
       "if (notebookContainer) {{\n",
       "    x.observe(notebookContainer, {childList: true});\n",
       "}}\n",
       "\n",
       "// Listen for the clearing of the current output cell\n",
       "var outputEl = gd.closest('.output');\n",
       "if (outputEl) {{\n",
       "    x.observe(outputEl, {childList: true});\n",
       "}}\n",
       "\n",
       "                        })\n",
       "                };\n",
       "                });\n",
       "            </script>\n",
       "        </div>"
      ]
     },
     "metadata": {},
     "output_type": "display_data"
    }
   ],
   "source": [
    "fig_wais_sub.add_trace(go.Scatter(x= df_wais_sub['age'], y=df_wais_sub[subplot_titles[4]], mode=\"markers+text\",\n",
    "            marker={'size': 10, \"color\": df_wais_sub['Type_color'] },\n",
    "            hovertext= df_wais_sub['ID_SECONDAIRE'] +\", \"+ df_wais_sub['Type']),\n",
    "            row=1, col=1)\n",
    "\n",
    "fig_wais_sub.add_trace(go.Scatter(x= df_wais_sub['age'], y=df_wais_sub[subplot_titles[5]], mode=\"markers+text\",\n",
    "            marker={'size': 10, \"color\": df_wais_sub['Type_color'] },\n",
    "            hovertext= df_wais_sub['ID_SECONDAIRE'] +\", \"+ df_wais_sub['Type']),\n",
    "              row=1, col=2)\n",
    "\n",
    "fig_wais_sub.add_trace(go.Scatter(x= df_wais_sub['age'], y=df_wais_sub[subplot_titles[6]], mode=\"markers+text\",\n",
    "            marker={'size': 10, \"color\": df_wais_sub['Type_color'] },\n",
    "            hovertext= df_wais_sub['ID_SECONDAIRE'] +\", \"+ df_wais_sub['Type']),\n",
    "              row=2, col=1)\n",
    "\n",
    "fig_wais_sub.add_trace(go.Scatter(x= df_wais_sub['age'], y=df_wais_sub[subplot_titles[7]], mode=\"markers+text\",\n",
    "            marker={'size': 10, \"color\": df_wais_sub['Type_color'] },\n",
    "            hovertext= df_wais_sub['ID_SECONDAIRE'] +\", \"+ df_wais_sub['Type']),\n",
    "            row=2, col=2)\n",
    "\n",
    "fig_wais_sub.add_trace(go.Scatter(x= df_wais_sub['age'], y=df_wais_sub[subplot_titles[8]], mode=\"markers+text\",\n",
    "            marker={'size': 10, \"color\": df_wais_sub['Type_color'] },\n",
    "            hovertext= df_wais_sub['ID_SECONDAIRE'] +\", \"+ df_wais_sub['Type']),\n",
    "            row=3, col=1)\n",
    "                                                             \n",
    "fig_wais_sub.add_trace(go.Scatter(x= df_wais_sub['age'], y=df_wais_sub[subplot_titles[9]], mode=\"markers+text\",\n",
    "            marker={'size': 10, \"color\": df_wais_sub['Type_color'] },\n",
    "            hovertext= df_wais_sub['ID_SECONDAIRE'] +\", \"+ df_wais_sub['Type']),\n",
    "            row=3, col=2)\n",
    "    \n",
    "fig_wais_sub.add_trace(go.Scatter(x= df_wais_sub['age'], y=df_wais_sub[subplot_titles[10]], mode=\"markers+text\",\n",
    "            marker={'size': 10, \"color\": df_wais_sub['Type_color'] },\n",
    "            hovertext= df_wais_sub['ID_SECONDAIRE'] +\", \"+ df_wais_sub['Type']),\n",
    "            row=4, col=1)\n",
    "    \n",
    "fig_wais_sub.update_layout(height=1500, width=800,\n",
    "                   showlegend=False\n",
    "            )"
   ]
  },
  {
   "cell_type": "code",
   "execution_count": 425,
   "metadata": {
    "ExecuteTime": {
     "end_time": "2020-05-13T14:30:56.522943Z",
     "start_time": "2020-05-13T14:30:56.507221Z"
    }
   },
   "outputs": [],
   "source": [
    "df_wais_sub_agg = df_wais_sub.agg(['min', 'max', 'mean', 'median'])\n",
    "#\n",
    "df_wais_sub_agg.index.name = \"Aggrégation\"\n",
    "df_wais_sub_agg.reset_index(inplace=True)\n",
    "#\n",
    "df_wais_sub_agg = df_wais_sub_agg.replace({'Aggrégation' : {\"min\":\"Min\",\"max\":\"Max\",\"mean\":\"Moyenne\", \"median\":\"Médiane\"}})"
   ]
  },
  {
   "cell_type": "code",
   "execution_count": 426,
   "metadata": {
    "ExecuteTime": {
     "end_time": "2020-05-13T14:30:56.969864Z",
     "start_time": "2020-05-13T14:30:56.966274Z"
    }
   },
   "outputs": [],
   "source": [
    "df_wais_sub_agg = df_wais_sub_agg.drop(columns= ['ID_SECONDAIRE','Type', 'Type_color', 'age' ])"
   ]
  },
  {
   "cell_type": "code",
   "execution_count": 427,
   "metadata": {
    "ExecuteTime": {
     "end_time": "2020-05-13T14:30:57.534686Z",
     "start_time": "2020-05-13T14:30:57.530105Z"
    }
   },
   "outputs": [],
   "source": [
    "df_wais_sub_agg = df_wais_sub_agg.round(2)"
   ]
  },
  {
   "cell_type": "code",
   "execution_count": 429,
   "metadata": {
    "ExecuteTime": {
     "end_time": "2020-05-13T14:31:29.395140Z",
     "start_time": "2020-05-13T14:31:29.388186Z"
    }
   },
   "outputs": [],
   "source": [
    "wais_sub =  go.Table(\n",
    "                header=dict(values=list(df_wais_sub_agg.columns[:]),\n",
    "                align='left'),\n",
    "                cells=dict(values= [df_wais_sub_agg.iloc[:,0], df_wais_sub_agg.iloc[:,1], df_wais_sub_agg.iloc[:,2], df_wais_sub_agg.iloc[:,3]\n",
    "                           , df_wais_sub_agg.iloc[:,4], df_wais_sub_agg.iloc[:,5], df_wais_sub_agg.iloc[:,6], df_wais_sub_agg.iloc[:,7]], align='left'))"
   ]
  },
  {
   "cell_type": "code",
   "execution_count": 430,
   "metadata": {
    "ExecuteTime": {
     "end_time": "2020-05-13T14:31:32.057497Z",
     "start_time": "2020-05-13T14:31:31.943650Z"
    }
   },
   "outputs": [
    {
     "data": {
      "application/vnd.plotly.v1+json": {
       "config": {
        "plotlyServerURL": "https://plot.ly"
       },
       "data": [
        {
         "cells": {
          "align": "left",
          "values": [
           [
            "Min",
            "Max",
            "Moyenne",
            "Médiane"
           ],
           [
            1,
            15,
            8.42,
            8
           ],
           [
            1,
            16,
            9.24,
            9.5
           ],
           [
            3,
            31,
            17.9,
            19
           ],
           [
            52,
            131,
            93.94,
            97
           ],
           [
            0,
            98,
            42.16,
            42
           ],
           [
            48,
            122,
            87.2,
            90
           ],
           [
            62,
            136,
            101.45,
            104
           ]
          ]
         },
         "header": {
          "align": "left",
          "values": [
           "Aggrégation",
           "Note standard Mémoires des chiffres",
           "Note standard Arithmétique",
           "Total des notes standards IMT",
           "Note composite IMT",
           "Rang percentile IMT",
           "Note écart type inférieure IMT",
           "Note écart type supérieure IMT"
          ]
         },
         "type": "table"
        }
       ],
       "layout": {
        "template": {
         "data": {
          "bar": [
           {
            "error_x": {
             "color": "#2a3f5f"
            },
            "error_y": {
             "color": "#2a3f5f"
            },
            "marker": {
             "line": {
              "color": "#E5ECF6",
              "width": 0.5
             }
            },
            "type": "bar"
           }
          ],
          "barpolar": [
           {
            "marker": {
             "line": {
              "color": "#E5ECF6",
              "width": 0.5
             }
            },
            "type": "barpolar"
           }
          ],
          "carpet": [
           {
            "aaxis": {
             "endlinecolor": "#2a3f5f",
             "gridcolor": "white",
             "linecolor": "white",
             "minorgridcolor": "white",
             "startlinecolor": "#2a3f5f"
            },
            "baxis": {
             "endlinecolor": "#2a3f5f",
             "gridcolor": "white",
             "linecolor": "white",
             "minorgridcolor": "white",
             "startlinecolor": "#2a3f5f"
            },
            "type": "carpet"
           }
          ],
          "choropleth": [
           {
            "colorbar": {
             "outlinewidth": 0,
             "ticks": ""
            },
            "type": "choropleth"
           }
          ],
          "contour": [
           {
            "colorbar": {
             "outlinewidth": 0,
             "ticks": ""
            },
            "colorscale": [
             [
              0,
              "#0d0887"
             ],
             [
              0.1111111111111111,
              "#46039f"
             ],
             [
              0.2222222222222222,
              "#7201a8"
             ],
             [
              0.3333333333333333,
              "#9c179e"
             ],
             [
              0.4444444444444444,
              "#bd3786"
             ],
             [
              0.5555555555555556,
              "#d8576b"
             ],
             [
              0.6666666666666666,
              "#ed7953"
             ],
             [
              0.7777777777777778,
              "#fb9f3a"
             ],
             [
              0.8888888888888888,
              "#fdca26"
             ],
             [
              1,
              "#f0f921"
             ]
            ],
            "type": "contour"
           }
          ],
          "contourcarpet": [
           {
            "colorbar": {
             "outlinewidth": 0,
             "ticks": ""
            },
            "type": "contourcarpet"
           }
          ],
          "heatmap": [
           {
            "colorbar": {
             "outlinewidth": 0,
             "ticks": ""
            },
            "colorscale": [
             [
              0,
              "#0d0887"
             ],
             [
              0.1111111111111111,
              "#46039f"
             ],
             [
              0.2222222222222222,
              "#7201a8"
             ],
             [
              0.3333333333333333,
              "#9c179e"
             ],
             [
              0.4444444444444444,
              "#bd3786"
             ],
             [
              0.5555555555555556,
              "#d8576b"
             ],
             [
              0.6666666666666666,
              "#ed7953"
             ],
             [
              0.7777777777777778,
              "#fb9f3a"
             ],
             [
              0.8888888888888888,
              "#fdca26"
             ],
             [
              1,
              "#f0f921"
             ]
            ],
            "type": "heatmap"
           }
          ],
          "heatmapgl": [
           {
            "colorbar": {
             "outlinewidth": 0,
             "ticks": ""
            },
            "colorscale": [
             [
              0,
              "#0d0887"
             ],
             [
              0.1111111111111111,
              "#46039f"
             ],
             [
              0.2222222222222222,
              "#7201a8"
             ],
             [
              0.3333333333333333,
              "#9c179e"
             ],
             [
              0.4444444444444444,
              "#bd3786"
             ],
             [
              0.5555555555555556,
              "#d8576b"
             ],
             [
              0.6666666666666666,
              "#ed7953"
             ],
             [
              0.7777777777777778,
              "#fb9f3a"
             ],
             [
              0.8888888888888888,
              "#fdca26"
             ],
             [
              1,
              "#f0f921"
             ]
            ],
            "type": "heatmapgl"
           }
          ],
          "histogram": [
           {
            "marker": {
             "colorbar": {
              "outlinewidth": 0,
              "ticks": ""
             }
            },
            "type": "histogram"
           }
          ],
          "histogram2d": [
           {
            "colorbar": {
             "outlinewidth": 0,
             "ticks": ""
            },
            "colorscale": [
             [
              0,
              "#0d0887"
             ],
             [
              0.1111111111111111,
              "#46039f"
             ],
             [
              0.2222222222222222,
              "#7201a8"
             ],
             [
              0.3333333333333333,
              "#9c179e"
             ],
             [
              0.4444444444444444,
              "#bd3786"
             ],
             [
              0.5555555555555556,
              "#d8576b"
             ],
             [
              0.6666666666666666,
              "#ed7953"
             ],
             [
              0.7777777777777778,
              "#fb9f3a"
             ],
             [
              0.8888888888888888,
              "#fdca26"
             ],
             [
              1,
              "#f0f921"
             ]
            ],
            "type": "histogram2d"
           }
          ],
          "histogram2dcontour": [
           {
            "colorbar": {
             "outlinewidth": 0,
             "ticks": ""
            },
            "colorscale": [
             [
              0,
              "#0d0887"
             ],
             [
              0.1111111111111111,
              "#46039f"
             ],
             [
              0.2222222222222222,
              "#7201a8"
             ],
             [
              0.3333333333333333,
              "#9c179e"
             ],
             [
              0.4444444444444444,
              "#bd3786"
             ],
             [
              0.5555555555555556,
              "#d8576b"
             ],
             [
              0.6666666666666666,
              "#ed7953"
             ],
             [
              0.7777777777777778,
              "#fb9f3a"
             ],
             [
              0.8888888888888888,
              "#fdca26"
             ],
             [
              1,
              "#f0f921"
             ]
            ],
            "type": "histogram2dcontour"
           }
          ],
          "mesh3d": [
           {
            "colorbar": {
             "outlinewidth": 0,
             "ticks": ""
            },
            "type": "mesh3d"
           }
          ],
          "parcoords": [
           {
            "line": {
             "colorbar": {
              "outlinewidth": 0,
              "ticks": ""
             }
            },
            "type": "parcoords"
           }
          ],
          "pie": [
           {
            "automargin": true,
            "type": "pie"
           }
          ],
          "scatter": [
           {
            "marker": {
             "colorbar": {
              "outlinewidth": 0,
              "ticks": ""
             }
            },
            "type": "scatter"
           }
          ],
          "scatter3d": [
           {
            "line": {
             "colorbar": {
              "outlinewidth": 0,
              "ticks": ""
             }
            },
            "marker": {
             "colorbar": {
              "outlinewidth": 0,
              "ticks": ""
             }
            },
            "type": "scatter3d"
           }
          ],
          "scattercarpet": [
           {
            "marker": {
             "colorbar": {
              "outlinewidth": 0,
              "ticks": ""
             }
            },
            "type": "scattercarpet"
           }
          ],
          "scattergeo": [
           {
            "marker": {
             "colorbar": {
              "outlinewidth": 0,
              "ticks": ""
             }
            },
            "type": "scattergeo"
           }
          ],
          "scattergl": [
           {
            "marker": {
             "colorbar": {
              "outlinewidth": 0,
              "ticks": ""
             }
            },
            "type": "scattergl"
           }
          ],
          "scattermapbox": [
           {
            "marker": {
             "colorbar": {
              "outlinewidth": 0,
              "ticks": ""
             }
            },
            "type": "scattermapbox"
           }
          ],
          "scatterpolar": [
           {
            "marker": {
             "colorbar": {
              "outlinewidth": 0,
              "ticks": ""
             }
            },
            "type": "scatterpolar"
           }
          ],
          "scatterpolargl": [
           {
            "marker": {
             "colorbar": {
              "outlinewidth": 0,
              "ticks": ""
             }
            },
            "type": "scatterpolargl"
           }
          ],
          "scatterternary": [
           {
            "marker": {
             "colorbar": {
              "outlinewidth": 0,
              "ticks": ""
             }
            },
            "type": "scatterternary"
           }
          ],
          "surface": [
           {
            "colorbar": {
             "outlinewidth": 0,
             "ticks": ""
            },
            "colorscale": [
             [
              0,
              "#0d0887"
             ],
             [
              0.1111111111111111,
              "#46039f"
             ],
             [
              0.2222222222222222,
              "#7201a8"
             ],
             [
              0.3333333333333333,
              "#9c179e"
             ],
             [
              0.4444444444444444,
              "#bd3786"
             ],
             [
              0.5555555555555556,
              "#d8576b"
             ],
             [
              0.6666666666666666,
              "#ed7953"
             ],
             [
              0.7777777777777778,
              "#fb9f3a"
             ],
             [
              0.8888888888888888,
              "#fdca26"
             ],
             [
              1,
              "#f0f921"
             ]
            ],
            "type": "surface"
           }
          ],
          "table": [
           {
            "cells": {
             "fill": {
              "color": "#EBF0F8"
             },
             "line": {
              "color": "white"
             }
            },
            "header": {
             "fill": {
              "color": "#C8D4E3"
             },
             "line": {
              "color": "white"
             }
            },
            "type": "table"
           }
          ]
         },
         "layout": {
          "annotationdefaults": {
           "arrowcolor": "#2a3f5f",
           "arrowhead": 0,
           "arrowwidth": 1
          },
          "coloraxis": {
           "colorbar": {
            "outlinewidth": 0,
            "ticks": ""
           }
          },
          "colorscale": {
           "diverging": [
            [
             0,
             "#8e0152"
            ],
            [
             0.1,
             "#c51b7d"
            ],
            [
             0.2,
             "#de77ae"
            ],
            [
             0.3,
             "#f1b6da"
            ],
            [
             0.4,
             "#fde0ef"
            ],
            [
             0.5,
             "#f7f7f7"
            ],
            [
             0.6,
             "#e6f5d0"
            ],
            [
             0.7,
             "#b8e186"
            ],
            [
             0.8,
             "#7fbc41"
            ],
            [
             0.9,
             "#4d9221"
            ],
            [
             1,
             "#276419"
            ]
           ],
           "sequential": [
            [
             0,
             "#0d0887"
            ],
            [
             0.1111111111111111,
             "#46039f"
            ],
            [
             0.2222222222222222,
             "#7201a8"
            ],
            [
             0.3333333333333333,
             "#9c179e"
            ],
            [
             0.4444444444444444,
             "#bd3786"
            ],
            [
             0.5555555555555556,
             "#d8576b"
            ],
            [
             0.6666666666666666,
             "#ed7953"
            ],
            [
             0.7777777777777778,
             "#fb9f3a"
            ],
            [
             0.8888888888888888,
             "#fdca26"
            ],
            [
             1,
             "#f0f921"
            ]
           ],
           "sequentialminus": [
            [
             0,
             "#0d0887"
            ],
            [
             0.1111111111111111,
             "#46039f"
            ],
            [
             0.2222222222222222,
             "#7201a8"
            ],
            [
             0.3333333333333333,
             "#9c179e"
            ],
            [
             0.4444444444444444,
             "#bd3786"
            ],
            [
             0.5555555555555556,
             "#d8576b"
            ],
            [
             0.6666666666666666,
             "#ed7953"
            ],
            [
             0.7777777777777778,
             "#fb9f3a"
            ],
            [
             0.8888888888888888,
             "#fdca26"
            ],
            [
             1,
             "#f0f921"
            ]
           ]
          },
          "colorway": [
           "#636efa",
           "#EF553B",
           "#00cc96",
           "#ab63fa",
           "#FFA15A",
           "#19d3f3",
           "#FF6692",
           "#B6E880",
           "#FF97FF",
           "#FECB52"
          ],
          "font": {
           "color": "#2a3f5f"
          },
          "geo": {
           "bgcolor": "white",
           "lakecolor": "white",
           "landcolor": "#E5ECF6",
           "showlakes": true,
           "showland": true,
           "subunitcolor": "white"
          },
          "hoverlabel": {
           "align": "left"
          },
          "hovermode": "closest",
          "mapbox": {
           "style": "light"
          },
          "paper_bgcolor": "white",
          "plot_bgcolor": "#E5ECF6",
          "polar": {
           "angularaxis": {
            "gridcolor": "white",
            "linecolor": "white",
            "ticks": ""
           },
           "bgcolor": "#E5ECF6",
           "radialaxis": {
            "gridcolor": "white",
            "linecolor": "white",
            "ticks": ""
           }
          },
          "scene": {
           "xaxis": {
            "backgroundcolor": "#E5ECF6",
            "gridcolor": "white",
            "gridwidth": 2,
            "linecolor": "white",
            "showbackground": true,
            "ticks": "",
            "zerolinecolor": "white"
           },
           "yaxis": {
            "backgroundcolor": "#E5ECF6",
            "gridcolor": "white",
            "gridwidth": 2,
            "linecolor": "white",
            "showbackground": true,
            "ticks": "",
            "zerolinecolor": "white"
           },
           "zaxis": {
            "backgroundcolor": "#E5ECF6",
            "gridcolor": "white",
            "gridwidth": 2,
            "linecolor": "white",
            "showbackground": true,
            "ticks": "",
            "zerolinecolor": "white"
           }
          },
          "shapedefaults": {
           "line": {
            "color": "#2a3f5f"
           }
          },
          "ternary": {
           "aaxis": {
            "gridcolor": "white",
            "linecolor": "white",
            "ticks": ""
           },
           "baxis": {
            "gridcolor": "white",
            "linecolor": "white",
            "ticks": ""
           },
           "bgcolor": "#E5ECF6",
           "caxis": {
            "gridcolor": "white",
            "linecolor": "white",
            "ticks": ""
           }
          },
          "title": {
           "x": 0.05
          },
          "xaxis": {
           "automargin": true,
           "gridcolor": "white",
           "linecolor": "white",
           "ticks": "",
           "title": {
            "standoff": 15
           },
           "zerolinecolor": "white",
           "zerolinewidth": 2
          },
          "yaxis": {
           "automargin": true,
           "gridcolor": "white",
           "linecolor": "white",
           "ticks": "",
           "title": {
            "standoff": 15
           },
           "zerolinecolor": "white",
           "zerolinewidth": 2
          }
         }
        }
       }
      },
      "text/html": [
       "<div>\n",
       "        \n",
       "        \n",
       "            <div id=\"d6818955-944a-4769-a87a-75a5bca72b73\" class=\"plotly-graph-div\" style=\"height:525px; width:100%;\"></div>\n",
       "            <script type=\"text/javascript\">\n",
       "                require([\"plotly\"], function(Plotly) {\n",
       "                    window.PLOTLYENV=window.PLOTLYENV || {};\n",
       "                    \n",
       "                if (document.getElementById(\"d6818955-944a-4769-a87a-75a5bca72b73\")) {\n",
       "                    Plotly.newPlot(\n",
       "                        'd6818955-944a-4769-a87a-75a5bca72b73',\n",
       "                        [{\"cells\": {\"align\": \"left\", \"values\": [[\"Min\", \"Max\", \"Moyenne\", \"M\\u00e9diane\"], [1.0, 15.0, 8.42, 8.0], [1.0, 16.0, 9.24, 9.5], [3.0, 31.0, 17.9, 19.0], [52.0, 131.0, 93.94, 97.0], [0.0, 98.0, 42.16, 42.0], [48.0, 122.0, 87.2, 90.0], [62.0, 136.0, 101.45, 104.0]]}, \"header\": {\"align\": \"left\", \"values\": [\"Aggr\\u00e9gation\", \"Note standard M\\u00e9moires des chiffres\", \"Note standard Arithm\\u00e9tique\", \"Total des notes standards IMT\", \"Note composite IMT\", \"Rang percentile IMT\", \"Note \\u00e9cart type inf\\u00e9rieure IMT\", \"Note \\u00e9cart type sup\\u00e9rieure IMT\"]}, \"type\": \"table\"}],\n",
       "                        {\"template\": {\"data\": {\"bar\": [{\"error_x\": {\"color\": \"#2a3f5f\"}, \"error_y\": {\"color\": \"#2a3f5f\"}, \"marker\": {\"line\": {\"color\": \"#E5ECF6\", \"width\": 0.5}}, \"type\": \"bar\"}], \"barpolar\": [{\"marker\": {\"line\": {\"color\": \"#E5ECF6\", \"width\": 0.5}}, \"type\": \"barpolar\"}], \"carpet\": [{\"aaxis\": {\"endlinecolor\": \"#2a3f5f\", \"gridcolor\": \"white\", \"linecolor\": \"white\", \"minorgridcolor\": \"white\", \"startlinecolor\": \"#2a3f5f\"}, \"baxis\": {\"endlinecolor\": \"#2a3f5f\", \"gridcolor\": \"white\", \"linecolor\": \"white\", \"minorgridcolor\": \"white\", \"startlinecolor\": \"#2a3f5f\"}, \"type\": \"carpet\"}], \"choropleth\": [{\"colorbar\": {\"outlinewidth\": 0, \"ticks\": \"\"}, \"type\": \"choropleth\"}], \"contour\": [{\"colorbar\": {\"outlinewidth\": 0, \"ticks\": \"\"}, \"colorscale\": [[0.0, \"#0d0887\"], [0.1111111111111111, \"#46039f\"], [0.2222222222222222, \"#7201a8\"], [0.3333333333333333, \"#9c179e\"], [0.4444444444444444, \"#bd3786\"], [0.5555555555555556, \"#d8576b\"], [0.6666666666666666, \"#ed7953\"], [0.7777777777777778, \"#fb9f3a\"], [0.8888888888888888, \"#fdca26\"], [1.0, \"#f0f921\"]], \"type\": \"contour\"}], \"contourcarpet\": [{\"colorbar\": {\"outlinewidth\": 0, \"ticks\": \"\"}, \"type\": \"contourcarpet\"}], \"heatmap\": [{\"colorbar\": {\"outlinewidth\": 0, \"ticks\": \"\"}, \"colorscale\": [[0.0, \"#0d0887\"], [0.1111111111111111, \"#46039f\"], [0.2222222222222222, \"#7201a8\"], [0.3333333333333333, \"#9c179e\"], [0.4444444444444444, \"#bd3786\"], [0.5555555555555556, \"#d8576b\"], [0.6666666666666666, \"#ed7953\"], [0.7777777777777778, \"#fb9f3a\"], [0.8888888888888888, \"#fdca26\"], [1.0, \"#f0f921\"]], \"type\": \"heatmap\"}], \"heatmapgl\": [{\"colorbar\": {\"outlinewidth\": 0, \"ticks\": \"\"}, \"colorscale\": [[0.0, \"#0d0887\"], [0.1111111111111111, \"#46039f\"], [0.2222222222222222, \"#7201a8\"], [0.3333333333333333, \"#9c179e\"], [0.4444444444444444, \"#bd3786\"], [0.5555555555555556, \"#d8576b\"], [0.6666666666666666, \"#ed7953\"], [0.7777777777777778, \"#fb9f3a\"], [0.8888888888888888, \"#fdca26\"], [1.0, \"#f0f921\"]], \"type\": \"heatmapgl\"}], \"histogram\": [{\"marker\": {\"colorbar\": {\"outlinewidth\": 0, \"ticks\": \"\"}}, \"type\": \"histogram\"}], \"histogram2d\": [{\"colorbar\": {\"outlinewidth\": 0, \"ticks\": \"\"}, \"colorscale\": [[0.0, \"#0d0887\"], [0.1111111111111111, \"#46039f\"], [0.2222222222222222, \"#7201a8\"], [0.3333333333333333, \"#9c179e\"], [0.4444444444444444, \"#bd3786\"], [0.5555555555555556, \"#d8576b\"], [0.6666666666666666, \"#ed7953\"], [0.7777777777777778, \"#fb9f3a\"], [0.8888888888888888, \"#fdca26\"], [1.0, \"#f0f921\"]], \"type\": \"histogram2d\"}], \"histogram2dcontour\": [{\"colorbar\": {\"outlinewidth\": 0, \"ticks\": \"\"}, \"colorscale\": [[0.0, \"#0d0887\"], [0.1111111111111111, \"#46039f\"], [0.2222222222222222, \"#7201a8\"], [0.3333333333333333, \"#9c179e\"], [0.4444444444444444, \"#bd3786\"], [0.5555555555555556, \"#d8576b\"], [0.6666666666666666, \"#ed7953\"], [0.7777777777777778, \"#fb9f3a\"], [0.8888888888888888, \"#fdca26\"], [1.0, \"#f0f921\"]], \"type\": \"histogram2dcontour\"}], \"mesh3d\": [{\"colorbar\": {\"outlinewidth\": 0, \"ticks\": \"\"}, \"type\": \"mesh3d\"}], \"parcoords\": [{\"line\": {\"colorbar\": {\"outlinewidth\": 0, \"ticks\": \"\"}}, \"type\": \"parcoords\"}], \"pie\": [{\"automargin\": true, \"type\": \"pie\"}], \"scatter\": [{\"marker\": {\"colorbar\": {\"outlinewidth\": 0, \"ticks\": \"\"}}, \"type\": \"scatter\"}], \"scatter3d\": [{\"line\": {\"colorbar\": {\"outlinewidth\": 0, \"ticks\": \"\"}}, \"marker\": {\"colorbar\": {\"outlinewidth\": 0, \"ticks\": \"\"}}, \"type\": \"scatter3d\"}], \"scattercarpet\": [{\"marker\": {\"colorbar\": {\"outlinewidth\": 0, \"ticks\": \"\"}}, \"type\": \"scattercarpet\"}], \"scattergeo\": [{\"marker\": {\"colorbar\": {\"outlinewidth\": 0, \"ticks\": \"\"}}, \"type\": \"scattergeo\"}], \"scattergl\": [{\"marker\": {\"colorbar\": {\"outlinewidth\": 0, \"ticks\": \"\"}}, \"type\": \"scattergl\"}], \"scattermapbox\": [{\"marker\": {\"colorbar\": {\"outlinewidth\": 0, \"ticks\": \"\"}}, \"type\": \"scattermapbox\"}], \"scatterpolar\": [{\"marker\": {\"colorbar\": {\"outlinewidth\": 0, \"ticks\": \"\"}}, \"type\": \"scatterpolar\"}], \"scatterpolargl\": [{\"marker\": {\"colorbar\": {\"outlinewidth\": 0, \"ticks\": \"\"}}, \"type\": \"scatterpolargl\"}], \"scatterternary\": [{\"marker\": {\"colorbar\": {\"outlinewidth\": 0, \"ticks\": \"\"}}, \"type\": \"scatterternary\"}], \"surface\": [{\"colorbar\": {\"outlinewidth\": 0, \"ticks\": \"\"}, \"colorscale\": [[0.0, \"#0d0887\"], [0.1111111111111111, \"#46039f\"], [0.2222222222222222, \"#7201a8\"], [0.3333333333333333, \"#9c179e\"], [0.4444444444444444, \"#bd3786\"], [0.5555555555555556, \"#d8576b\"], [0.6666666666666666, \"#ed7953\"], [0.7777777777777778, \"#fb9f3a\"], [0.8888888888888888, \"#fdca26\"], [1.0, \"#f0f921\"]], \"type\": \"surface\"}], \"table\": [{\"cells\": {\"fill\": {\"color\": \"#EBF0F8\"}, \"line\": {\"color\": \"white\"}}, \"header\": {\"fill\": {\"color\": \"#C8D4E3\"}, \"line\": {\"color\": \"white\"}}, \"type\": \"table\"}]}, \"layout\": {\"annotationdefaults\": {\"arrowcolor\": \"#2a3f5f\", \"arrowhead\": 0, \"arrowwidth\": 1}, \"coloraxis\": {\"colorbar\": {\"outlinewidth\": 0, \"ticks\": \"\"}}, \"colorscale\": {\"diverging\": [[0, \"#8e0152\"], [0.1, \"#c51b7d\"], [0.2, \"#de77ae\"], [0.3, \"#f1b6da\"], [0.4, \"#fde0ef\"], [0.5, \"#f7f7f7\"], [0.6, \"#e6f5d0\"], [0.7, \"#b8e186\"], [0.8, \"#7fbc41\"], [0.9, \"#4d9221\"], [1, \"#276419\"]], \"sequential\": [[0.0, \"#0d0887\"], [0.1111111111111111, \"#46039f\"], [0.2222222222222222, \"#7201a8\"], [0.3333333333333333, \"#9c179e\"], [0.4444444444444444, \"#bd3786\"], [0.5555555555555556, \"#d8576b\"], [0.6666666666666666, \"#ed7953\"], [0.7777777777777778, \"#fb9f3a\"], [0.8888888888888888, \"#fdca26\"], [1.0, \"#f0f921\"]], \"sequentialminus\": [[0.0, \"#0d0887\"], [0.1111111111111111, \"#46039f\"], [0.2222222222222222, \"#7201a8\"], [0.3333333333333333, \"#9c179e\"], [0.4444444444444444, \"#bd3786\"], [0.5555555555555556, \"#d8576b\"], [0.6666666666666666, \"#ed7953\"], [0.7777777777777778, \"#fb9f3a\"], [0.8888888888888888, \"#fdca26\"], [1.0, \"#f0f921\"]]}, \"colorway\": [\"#636efa\", \"#EF553B\", \"#00cc96\", \"#ab63fa\", \"#FFA15A\", \"#19d3f3\", \"#FF6692\", \"#B6E880\", \"#FF97FF\", \"#FECB52\"], \"font\": {\"color\": \"#2a3f5f\"}, \"geo\": {\"bgcolor\": \"white\", \"lakecolor\": \"white\", \"landcolor\": \"#E5ECF6\", \"showlakes\": true, \"showland\": true, \"subunitcolor\": \"white\"}, \"hoverlabel\": {\"align\": \"left\"}, \"hovermode\": \"closest\", \"mapbox\": {\"style\": \"light\"}, \"paper_bgcolor\": \"white\", \"plot_bgcolor\": \"#E5ECF6\", \"polar\": {\"angularaxis\": {\"gridcolor\": \"white\", \"linecolor\": \"white\", \"ticks\": \"\"}, \"bgcolor\": \"#E5ECF6\", \"radialaxis\": {\"gridcolor\": \"white\", \"linecolor\": \"white\", \"ticks\": \"\"}}, \"scene\": {\"xaxis\": {\"backgroundcolor\": \"#E5ECF6\", \"gridcolor\": \"white\", \"gridwidth\": 2, \"linecolor\": \"white\", \"showbackground\": true, \"ticks\": \"\", \"zerolinecolor\": \"white\"}, \"yaxis\": {\"backgroundcolor\": \"#E5ECF6\", \"gridcolor\": \"white\", \"gridwidth\": 2, \"linecolor\": \"white\", \"showbackground\": true, \"ticks\": \"\", \"zerolinecolor\": \"white\"}, \"zaxis\": {\"backgroundcolor\": \"#E5ECF6\", \"gridcolor\": \"white\", \"gridwidth\": 2, \"linecolor\": \"white\", \"showbackground\": true, \"ticks\": \"\", \"zerolinecolor\": \"white\"}}, \"shapedefaults\": {\"line\": {\"color\": \"#2a3f5f\"}}, \"ternary\": {\"aaxis\": {\"gridcolor\": \"white\", \"linecolor\": \"white\", \"ticks\": \"\"}, \"baxis\": {\"gridcolor\": \"white\", \"linecolor\": \"white\", \"ticks\": \"\"}, \"bgcolor\": \"#E5ECF6\", \"caxis\": {\"gridcolor\": \"white\", \"linecolor\": \"white\", \"ticks\": \"\"}}, \"title\": {\"x\": 0.05}, \"xaxis\": {\"automargin\": true, \"gridcolor\": \"white\", \"linecolor\": \"white\", \"ticks\": \"\", \"title\": {\"standoff\": 15}, \"zerolinecolor\": \"white\", \"zerolinewidth\": 2}, \"yaxis\": {\"automargin\": true, \"gridcolor\": \"white\", \"linecolor\": \"white\", \"ticks\": \"\", \"title\": {\"standoff\": 15}, \"zerolinecolor\": \"white\", \"zerolinewidth\": 2}}}},\n",
       "                        {\"responsive\": true}\n",
       "                    ).then(function(){\n",
       "                            \n",
       "var gd = document.getElementById('d6818955-944a-4769-a87a-75a5bca72b73');\n",
       "var x = new MutationObserver(function (mutations, observer) {{\n",
       "        var display = window.getComputedStyle(gd).display;\n",
       "        if (!display || display === 'none') {{\n",
       "            console.log([gd, 'removed!']);\n",
       "            Plotly.purge(gd);\n",
       "            observer.disconnect();\n",
       "        }}\n",
       "}});\n",
       "\n",
       "// Listen for the removal of the full notebook cells\n",
       "var notebookContainer = gd.closest('#notebook-container');\n",
       "if (notebookContainer) {{\n",
       "    x.observe(notebookContainer, {childList: true});\n",
       "}}\n",
       "\n",
       "// Listen for the clearing of the current output cell\n",
       "var outputEl = gd.closest('.output');\n",
       "if (outputEl) {{\n",
       "    x.observe(outputEl, {childList: true});\n",
       "}}\n",
       "\n",
       "                        })\n",
       "                };\n",
       "                });\n",
       "            </script>\n",
       "        </div>"
      ]
     },
     "metadata": {},
     "output_type": "display_data"
    }
   ],
   "source": [
    "fig = go.Figure(data=wais_sub)\n",
    "fig.show()"
   ]
  },
  {
   "cell_type": "code",
   "execution_count": 440,
   "metadata": {
    "ExecuteTime": {
     "end_time": "2020-05-13T14:33:47.108034Z",
     "start_time": "2020-05-13T14:33:47.104220Z"
    }
   },
   "outputs": [
    {
     "data": {
      "text/html": [
       "<h5>2.1. WAIS IVT</h5>"
      ],
      "text/plain": [
       "<IPython.core.display.HTML object>"
      ]
     },
     "metadata": {},
     "output_type": "display_data"
    }
   ],
   "source": [
    "display(HTML('<h5>2.1. WAIS IVT</h5>'))"
   ]
  },
  {
   "cell_type": "code",
   "execution_count": 441,
   "metadata": {
    "ExecuteTime": {
     "end_time": "2020-05-13T14:33:48.085240Z",
     "start_time": "2020-05-13T14:33:48.079795Z"
    }
   },
   "outputs": [
    {
     "data": {
      "text/html": [
       "<p>Moyenne d'âge : 34.9</p>"
      ],
      "text/plain": [
       "<IPython.core.display.HTML object>"
      ]
     },
     "metadata": {},
     "output_type": "display_data"
    }
   ],
   "source": [
    "display(HTML(\"<p>Moyenne d'âge : \"+str(round(df_wais[df_wais['Total des notes standards IVT'].notna()]['age'].mean(), 2))+\"</p>\"))"
   ]
  },
  {
   "cell_type": "code",
   "execution_count": 442,
   "metadata": {
    "ExecuteTime": {
     "end_time": "2020-05-13T14:33:49.311351Z",
     "start_time": "2020-05-13T14:33:49.307395Z"
    }
   },
   "outputs": [],
   "source": [
    "df_wais_sub= df_wais.iloc[:,[0,1,2,-1, 29, 30, 31, 32, 33, 34, 35]]"
   ]
  },
  {
   "cell_type": "code",
   "execution_count": 443,
   "metadata": {
    "ExecuteTime": {
     "end_time": "2020-05-13T14:33:50.016076Z",
     "start_time": "2020-05-13T14:33:50.013465Z"
    }
   },
   "outputs": [],
   "source": [
    "subplot_titles = df_wais_sub.columns.values.tolist()"
   ]
  },
  {
   "cell_type": "code",
   "execution_count": 445,
   "metadata": {
    "ExecuteTime": {
     "end_time": "2020-05-13T14:33:55.421563Z",
     "start_time": "2020-05-13T14:33:55.242580Z"
    }
   },
   "outputs": [],
   "source": [
    "fig_wais_sub = make_subplots(\n",
    "    rows=4, cols=2,\n",
    "    shared_xaxes=False,\n",
    "    row_heights=[0.20, 0.20, 0.20, 0.20],\n",
    "    column_widths=[0.5, 0.5],\n",
    "    subplot_titles= subplot_titles[4:],\n",
    "    x_title='Âge',\n",
    "    y_title='Score',\n",
    "    vertical_spacing= 0.04 )\n",
    "df_wais_sub = df_wais_sub.sort_values(by=['age'])"
   ]
  },
  {
   "cell_type": "code",
   "execution_count": 446,
   "metadata": {
    "ExecuteTime": {
     "end_time": "2020-05-13T14:33:57.072025Z",
     "start_time": "2020-05-13T14:33:56.979922Z"
    }
   },
   "outputs": [
    {
     "data": {
      "application/vnd.plotly.v1+json": {
       "config": {
        "plotlyServerURL": "https://plot.ly"
       },
       "data": [
        {
         "hovertext": [
          "EF 2E 22 E0 EA, Type 1",
          "B6 A4 CD 3A 81, Type 1",
          "76 A2 26 6F C7, Type inconnu",
          "C2 C3 05 A8 4B, Type 1",
          "39 CA BD 3C 82, Type 1",
          "7B DE 78 5B F6, Type 1",
          "9B 8E 44 F8 FF, Type 1",
          "EA 6F FF DE 42, Type 2",
          "90 01 09 71 F0, Type 2",
          "39 35 88 38 7B, Type inconnu",
          "35 86 13 56 24, Type 1",
          "7D 76 3D FC 91, Type 1",
          "73 EC 1B D7 9B, Type 1",
          "81 03 8C 07 58, Type inconnu",
          "AB A5 ED 43 8B, Type 1",
          "48 84 25 4A E0, Type inconnu",
          "01 83 17 5E 89, Type 1",
          "B9 5D 22 14 86, Type 1",
          "A1 54 32 B1 53, Type 1",
          "FD 11 B7 CF 8F, Type 1",
          "DB 6B 59 3A 0C, Type 1",
          "F1 C2 1C 3A FC, Type 1",
          "31 19 64 3D 10, Type 2",
          "98 2C 1A AA 87, Type 1",
          "A2 D7 D0 A4 2A, Type 1",
          "D7 FC 44 05 CA, Type 2",
          "8A A0 53 AC 37, Type inconnu",
          "02 88 A7 94 50, Type 2",
          "64 0B 1B 0A 45, Type 2",
          "8A 77 B8 09 AD, Type 2",
          "51 B7 6E C2 FD, Type 2",
          "A4 03 5A F0 57, Type 2",
          "02 92 7B FF E6, Type 1",
          "90 A6 58 8A AD, Type 2",
          "F5 E4 FD A4 9F, Type 2",
          "06 25 B6 B7 F5, Type 1",
          "47 09 1C 5F 94, Type inconnu",
          "76 8F 56 DE 15, Type 2",
          "3D F6 5A B4 9D, Type 2",
          "3F 34 F5 32 80, Type inconnu",
          "A6 FD C4 C0 69, Type 2",
          "4F 9C 21 D3 31, Type 2",
          "4B 6C 17 74 29, Type inconnu",
          "94 EB 19 B7 18, Type 2",
          "12 A8 8F 3F 67, Type inconnu",
          "19 01 73 04 E2, Type 2",
          "A2 C1 35 C2 8C, Type 2",
          "0F 30 93 5E 0E, Type 2",
          "81 DB 14 CC 21, Type inconnu",
          "CA A2 77 FC 22, Type 2",
          "96 B8 5B 6F 8F, Type inconnu",
          "96 DD DC FE E3, Type 2",
          "21 36 06 E2 38, Type 2",
          "B7 CA E8 BC 99, Type 2",
          "3E C6 4C 31 8B, Type inconnu",
          "EF 4A CF 20 AF, Type 2"
         ],
         "marker": {
          "color": [
           "#33ffc9",
           "#33ffc9",
           "#C5C5C5",
           "#33ffc9",
           "#33ffc9",
           "#33ffc9",
           "#33ffc9",
           "#B3D9FF",
           "#B3D9FF",
           "#C5C5C5",
           "#33ffc9",
           "#33ffc9",
           "#33ffc9",
           "#C5C5C5",
           "#33ffc9",
           "#C5C5C5",
           "#33ffc9",
           "#33ffc9",
           "#33ffc9",
           "#33ffc9",
           "#33ffc9",
           "#33ffc9",
           "#B3D9FF",
           "#33ffc9",
           "#33ffc9",
           "#B3D9FF",
           "#C5C5C5",
           "#B3D9FF",
           "#B3D9FF",
           "#B3D9FF",
           "#B3D9FF",
           "#B3D9FF",
           "#33ffc9",
           "#B3D9FF",
           "#B3D9FF",
           "#33ffc9",
           "#C5C5C5",
           "#B3D9FF",
           "#B3D9FF",
           "#C5C5C5",
           "#B3D9FF",
           "#B3D9FF",
           "#C5C5C5",
           "#B3D9FF",
           "#C5C5C5",
           "#B3D9FF",
           "#B3D9FF",
           "#B3D9FF",
           "#C5C5C5",
           "#B3D9FF",
           "#C5C5C5",
           "#B3D9FF",
           "#B3D9FF",
           "#B3D9FF",
           "#C5C5C5",
           "#B3D9FF"
          ],
          "size": 10
         },
         "mode": "markers+text",
         "type": "scatter",
         "x": [
          18,
          19,
          20,
          20,
          21,
          23,
          25,
          25,
          26,
          27,
          27,
          28,
          28,
          28,
          28,
          30,
          30,
          31,
          31,
          32,
          34,
          34,
          35,
          35,
          36,
          36,
          37,
          38,
          38,
          38,
          40,
          40,
          41,
          42,
          43,
          44,
          44,
          45,
          46,
          47,
          48,
          52,
          55,
          57,
          57,
          59,
          59,
          59,
          60,
          60,
          62,
          64,
          67,
          72,
          74,
          74
         ],
         "xaxis": "x",
         "y": [
          7,
          10,
          7,
          5,
          8,
          12,
          1,
          7,
          8,
          10,
          1,
          9,
          3,
          6,
          6,
          3,
          6,
          7,
          3,
          8,
          4,
          8,
          7,
          8,
          8,
          10,
          9,
          8,
          10,
          9,
          12,
          6,
          null,
          5,
          7,
          6,
          4,
          9,
          8,
          9,
          8,
          null,
          null,
          9,
          null,
          3,
          null,
          null,
          8,
          null,
          null,
          null,
          null,
          null,
          null,
          null
         ],
         "yaxis": "y"
        },
        {
         "hovertext": [
          "EF 2E 22 E0 EA, Type 1",
          "B6 A4 CD 3A 81, Type 1",
          "76 A2 26 6F C7, Type inconnu",
          "C2 C3 05 A8 4B, Type 1",
          "39 CA BD 3C 82, Type 1",
          "7B DE 78 5B F6, Type 1",
          "9B 8E 44 F8 FF, Type 1",
          "EA 6F FF DE 42, Type 2",
          "90 01 09 71 F0, Type 2",
          "39 35 88 38 7B, Type inconnu",
          "35 86 13 56 24, Type 1",
          "7D 76 3D FC 91, Type 1",
          "73 EC 1B D7 9B, Type 1",
          "81 03 8C 07 58, Type inconnu",
          "AB A5 ED 43 8B, Type 1",
          "48 84 25 4A E0, Type inconnu",
          "01 83 17 5E 89, Type 1",
          "B9 5D 22 14 86, Type 1",
          "A1 54 32 B1 53, Type 1",
          "FD 11 B7 CF 8F, Type 1",
          "DB 6B 59 3A 0C, Type 1",
          "F1 C2 1C 3A FC, Type 1",
          "31 19 64 3D 10, Type 2",
          "98 2C 1A AA 87, Type 1",
          "A2 D7 D0 A4 2A, Type 1",
          "D7 FC 44 05 CA, Type 2",
          "8A A0 53 AC 37, Type inconnu",
          "02 88 A7 94 50, Type 2",
          "64 0B 1B 0A 45, Type 2",
          "8A 77 B8 09 AD, Type 2",
          "51 B7 6E C2 FD, Type 2",
          "A4 03 5A F0 57, Type 2",
          "02 92 7B FF E6, Type 1",
          "90 A6 58 8A AD, Type 2",
          "F5 E4 FD A4 9F, Type 2",
          "06 25 B6 B7 F5, Type 1",
          "47 09 1C 5F 94, Type inconnu",
          "76 8F 56 DE 15, Type 2",
          "3D F6 5A B4 9D, Type 2",
          "3F 34 F5 32 80, Type inconnu",
          "A6 FD C4 C0 69, Type 2",
          "4F 9C 21 D3 31, Type 2",
          "4B 6C 17 74 29, Type inconnu",
          "94 EB 19 B7 18, Type 2",
          "12 A8 8F 3F 67, Type inconnu",
          "19 01 73 04 E2, Type 2",
          "A2 C1 35 C2 8C, Type 2",
          "0F 30 93 5E 0E, Type 2",
          "81 DB 14 CC 21, Type inconnu",
          "CA A2 77 FC 22, Type 2",
          "96 B8 5B 6F 8F, Type inconnu",
          "96 DD DC FE E3, Type 2",
          "21 36 06 E2 38, Type 2",
          "B7 CA E8 BC 99, Type 2",
          "3E C6 4C 31 8B, Type inconnu",
          "EF 4A CF 20 AF, Type 2"
         ],
         "marker": {
          "color": [
           "#33ffc9",
           "#33ffc9",
           "#C5C5C5",
           "#33ffc9",
           "#33ffc9",
           "#33ffc9",
           "#33ffc9",
           "#B3D9FF",
           "#B3D9FF",
           "#C5C5C5",
           "#33ffc9",
           "#33ffc9",
           "#33ffc9",
           "#C5C5C5",
           "#33ffc9",
           "#C5C5C5",
           "#33ffc9",
           "#33ffc9",
           "#33ffc9",
           "#33ffc9",
           "#33ffc9",
           "#33ffc9",
           "#B3D9FF",
           "#33ffc9",
           "#33ffc9",
           "#B3D9FF",
           "#C5C5C5",
           "#B3D9FF",
           "#B3D9FF",
           "#B3D9FF",
           "#B3D9FF",
           "#B3D9FF",
           "#33ffc9",
           "#B3D9FF",
           "#B3D9FF",
           "#33ffc9",
           "#C5C5C5",
           "#B3D9FF",
           "#B3D9FF",
           "#C5C5C5",
           "#B3D9FF",
           "#B3D9FF",
           "#C5C5C5",
           "#B3D9FF",
           "#C5C5C5",
           "#B3D9FF",
           "#B3D9FF",
           "#B3D9FF",
           "#C5C5C5",
           "#B3D9FF",
           "#C5C5C5",
           "#B3D9FF",
           "#B3D9FF",
           "#B3D9FF",
           "#C5C5C5",
           "#B3D9FF"
          ],
          "size": 10
         },
         "mode": "markers+text",
         "type": "scatter",
         "x": [
          18,
          19,
          20,
          20,
          21,
          23,
          25,
          25,
          26,
          27,
          27,
          28,
          28,
          28,
          28,
          30,
          30,
          31,
          31,
          32,
          34,
          34,
          35,
          35,
          36,
          36,
          37,
          38,
          38,
          38,
          40,
          40,
          41,
          42,
          43,
          44,
          44,
          45,
          46,
          47,
          48,
          52,
          55,
          57,
          57,
          59,
          59,
          59,
          60,
          60,
          62,
          64,
          67,
          72,
          74,
          74
         ],
         "xaxis": "x2",
         "y": [
          1,
          5,
          7,
          5,
          11,
          8,
          8,
          11,
          7,
          10,
          null,
          8,
          1,
          5,
          7,
          9,
          5,
          8,
          7,
          9,
          5,
          15,
          9,
          9,
          8,
          8,
          13,
          10,
          15,
          10,
          14,
          7,
          null,
          2,
          10,
          7,
          5,
          9,
          9,
          5,
          9,
          null,
          null,
          8,
          null,
          1,
          null,
          null,
          8,
          null,
          null,
          null,
          null,
          null,
          null,
          null
         ],
         "yaxis": "y2"
        },
        {
         "hovertext": [
          "EF 2E 22 E0 EA, Type 1",
          "B6 A4 CD 3A 81, Type 1",
          "76 A2 26 6F C7, Type inconnu",
          "C2 C3 05 A8 4B, Type 1",
          "39 CA BD 3C 82, Type 1",
          "7B DE 78 5B F6, Type 1",
          "9B 8E 44 F8 FF, Type 1",
          "EA 6F FF DE 42, Type 2",
          "90 01 09 71 F0, Type 2",
          "39 35 88 38 7B, Type inconnu",
          "35 86 13 56 24, Type 1",
          "7D 76 3D FC 91, Type 1",
          "73 EC 1B D7 9B, Type 1",
          "81 03 8C 07 58, Type inconnu",
          "AB A5 ED 43 8B, Type 1",
          "48 84 25 4A E0, Type inconnu",
          "01 83 17 5E 89, Type 1",
          "B9 5D 22 14 86, Type 1",
          "A1 54 32 B1 53, Type 1",
          "FD 11 B7 CF 8F, Type 1",
          "DB 6B 59 3A 0C, Type 1",
          "F1 C2 1C 3A FC, Type 1",
          "31 19 64 3D 10, Type 2",
          "98 2C 1A AA 87, Type 1",
          "A2 D7 D0 A4 2A, Type 1",
          "D7 FC 44 05 CA, Type 2",
          "8A A0 53 AC 37, Type inconnu",
          "02 88 A7 94 50, Type 2",
          "64 0B 1B 0A 45, Type 2",
          "8A 77 B8 09 AD, Type 2",
          "51 B7 6E C2 FD, Type 2",
          "A4 03 5A F0 57, Type 2",
          "02 92 7B FF E6, Type 1",
          "90 A6 58 8A AD, Type 2",
          "F5 E4 FD A4 9F, Type 2",
          "06 25 B6 B7 F5, Type 1",
          "47 09 1C 5F 94, Type inconnu",
          "76 8F 56 DE 15, Type 2",
          "3D F6 5A B4 9D, Type 2",
          "3F 34 F5 32 80, Type inconnu",
          "A6 FD C4 C0 69, Type 2",
          "4F 9C 21 D3 31, Type 2",
          "4B 6C 17 74 29, Type inconnu",
          "94 EB 19 B7 18, Type 2",
          "12 A8 8F 3F 67, Type inconnu",
          "19 01 73 04 E2, Type 2",
          "A2 C1 35 C2 8C, Type 2",
          "0F 30 93 5E 0E, Type 2",
          "81 DB 14 CC 21, Type inconnu",
          "CA A2 77 FC 22, Type 2",
          "96 B8 5B 6F 8F, Type inconnu",
          "96 DD DC FE E3, Type 2",
          "21 36 06 E2 38, Type 2",
          "B7 CA E8 BC 99, Type 2",
          "3E C6 4C 31 8B, Type inconnu",
          "EF 4A CF 20 AF, Type 2"
         ],
         "marker": {
          "color": [
           "#33ffc9",
           "#33ffc9",
           "#C5C5C5",
           "#33ffc9",
           "#33ffc9",
           "#33ffc9",
           "#33ffc9",
           "#B3D9FF",
           "#B3D9FF",
           "#C5C5C5",
           "#33ffc9",
           "#33ffc9",
           "#33ffc9",
           "#C5C5C5",
           "#33ffc9",
           "#C5C5C5",
           "#33ffc9",
           "#33ffc9",
           "#33ffc9",
           "#33ffc9",
           "#33ffc9",
           "#33ffc9",
           "#B3D9FF",
           "#33ffc9",
           "#33ffc9",
           "#B3D9FF",
           "#C5C5C5",
           "#B3D9FF",
           "#B3D9FF",
           "#B3D9FF",
           "#B3D9FF",
           "#B3D9FF",
           "#33ffc9",
           "#B3D9FF",
           "#B3D9FF",
           "#33ffc9",
           "#C5C5C5",
           "#B3D9FF",
           "#B3D9FF",
           "#C5C5C5",
           "#B3D9FF",
           "#B3D9FF",
           "#C5C5C5",
           "#B3D9FF",
           "#C5C5C5",
           "#B3D9FF",
           "#B3D9FF",
           "#B3D9FF",
           "#C5C5C5",
           "#B3D9FF",
           "#C5C5C5",
           "#B3D9FF",
           "#B3D9FF",
           "#B3D9FF",
           "#C5C5C5",
           "#B3D9FF"
          ],
          "size": 10
         },
         "mode": "markers+text",
         "type": "scatter",
         "x": [
          18,
          19,
          20,
          20,
          21,
          23,
          25,
          25,
          26,
          27,
          27,
          28,
          28,
          28,
          28,
          30,
          30,
          31,
          31,
          32,
          34,
          34,
          35,
          35,
          36,
          36,
          37,
          38,
          38,
          38,
          40,
          40,
          41,
          42,
          43,
          44,
          44,
          45,
          46,
          47,
          48,
          52,
          55,
          57,
          57,
          59,
          59,
          59,
          60,
          60,
          62,
          64,
          67,
          72,
          74,
          74
         ],
         "xaxis": "x3",
         "y": [
          8,
          15,
          14,
          10,
          19,
          20,
          9,
          18,
          15,
          20,
          null,
          17,
          4,
          11,
          13,
          12,
          11,
          15,
          10,
          17,
          9,
          23,
          16,
          17,
          16,
          18,
          22,
          18,
          25,
          19,
          26,
          13,
          null,
          7,
          17,
          13,
          9,
          18,
          17,
          14,
          17,
          null,
          null,
          17,
          null,
          4,
          null,
          null,
          16,
          null,
          null,
          null,
          null,
          null,
          null,
          null
         ],
         "yaxis": "y3"
        },
        {
         "hovertext": [
          "EF 2E 22 E0 EA, Type 1",
          "B6 A4 CD 3A 81, Type 1",
          "76 A2 26 6F C7, Type inconnu",
          "C2 C3 05 A8 4B, Type 1",
          "39 CA BD 3C 82, Type 1",
          "7B DE 78 5B F6, Type 1",
          "9B 8E 44 F8 FF, Type 1",
          "EA 6F FF DE 42, Type 2",
          "90 01 09 71 F0, Type 2",
          "39 35 88 38 7B, Type inconnu",
          "35 86 13 56 24, Type 1",
          "7D 76 3D FC 91, Type 1",
          "73 EC 1B D7 9B, Type 1",
          "81 03 8C 07 58, Type inconnu",
          "AB A5 ED 43 8B, Type 1",
          "48 84 25 4A E0, Type inconnu",
          "01 83 17 5E 89, Type 1",
          "B9 5D 22 14 86, Type 1",
          "A1 54 32 B1 53, Type 1",
          "FD 11 B7 CF 8F, Type 1",
          "DB 6B 59 3A 0C, Type 1",
          "F1 C2 1C 3A FC, Type 1",
          "31 19 64 3D 10, Type 2",
          "98 2C 1A AA 87, Type 1",
          "A2 D7 D0 A4 2A, Type 1",
          "D7 FC 44 05 CA, Type 2",
          "8A A0 53 AC 37, Type inconnu",
          "02 88 A7 94 50, Type 2",
          "64 0B 1B 0A 45, Type 2",
          "8A 77 B8 09 AD, Type 2",
          "51 B7 6E C2 FD, Type 2",
          "A4 03 5A F0 57, Type 2",
          "02 92 7B FF E6, Type 1",
          "90 A6 58 8A AD, Type 2",
          "F5 E4 FD A4 9F, Type 2",
          "06 25 B6 B7 F5, Type 1",
          "47 09 1C 5F 94, Type inconnu",
          "76 8F 56 DE 15, Type 2",
          "3D F6 5A B4 9D, Type 2",
          "3F 34 F5 32 80, Type inconnu",
          "A6 FD C4 C0 69, Type 2",
          "4F 9C 21 D3 31, Type 2",
          "4B 6C 17 74 29, Type inconnu",
          "94 EB 19 B7 18, Type 2",
          "12 A8 8F 3F 67, Type inconnu",
          "19 01 73 04 E2, Type 2",
          "A2 C1 35 C2 8C, Type 2",
          "0F 30 93 5E 0E, Type 2",
          "81 DB 14 CC 21, Type inconnu",
          "CA A2 77 FC 22, Type 2",
          "96 B8 5B 6F 8F, Type inconnu",
          "96 DD DC FE E3, Type 2",
          "21 36 06 E2 38, Type 2",
          "B7 CA E8 BC 99, Type 2",
          "3E C6 4C 31 8B, Type inconnu",
          "EF 4A CF 20 AF, Type 2"
         ],
         "marker": {
          "color": [
           "#33ffc9",
           "#33ffc9",
           "#C5C5C5",
           "#33ffc9",
           "#33ffc9",
           "#33ffc9",
           "#33ffc9",
           "#B3D9FF",
           "#B3D9FF",
           "#C5C5C5",
           "#33ffc9",
           "#33ffc9",
           "#33ffc9",
           "#C5C5C5",
           "#33ffc9",
           "#C5C5C5",
           "#33ffc9",
           "#33ffc9",
           "#33ffc9",
           "#33ffc9",
           "#33ffc9",
           "#33ffc9",
           "#B3D9FF",
           "#33ffc9",
           "#33ffc9",
           "#B3D9FF",
           "#C5C5C5",
           "#B3D9FF",
           "#B3D9FF",
           "#B3D9FF",
           "#B3D9FF",
           "#B3D9FF",
           "#33ffc9",
           "#B3D9FF",
           "#B3D9FF",
           "#33ffc9",
           "#C5C5C5",
           "#B3D9FF",
           "#B3D9FF",
           "#C5C5C5",
           "#B3D9FF",
           "#B3D9FF",
           "#C5C5C5",
           "#B3D9FF",
           "#C5C5C5",
           "#B3D9FF",
           "#B3D9FF",
           "#B3D9FF",
           "#C5C5C5",
           "#B3D9FF",
           "#C5C5C5",
           "#B3D9FF",
           "#B3D9FF",
           "#B3D9FF",
           "#C5C5C5",
           "#B3D9FF"
          ],
          "size": 10
         },
         "mode": "markers+text",
         "type": "scatter",
         "x": [
          18,
          19,
          20,
          20,
          21,
          23,
          25,
          25,
          26,
          27,
          27,
          28,
          28,
          28,
          28,
          30,
          30,
          31,
          31,
          32,
          34,
          34,
          35,
          35,
          36,
          36,
          37,
          38,
          38,
          38,
          40,
          40,
          41,
          42,
          43,
          44,
          44,
          45,
          46,
          47,
          48,
          52,
          55,
          57,
          57,
          59,
          59,
          59,
          60,
          60,
          62,
          64,
          67,
          72,
          74,
          74
         ],
         "xaxis": "x4",
         "y": [
          66,
          86,
          84,
          72,
          97,
          100,
          69,
          94,
          86,
          100,
          null,
          92,
          55,
          75,
          81,
          78,
          75,
          86,
          72,
          92,
          69,
          108,
          89,
          92,
          89,
          94,
          105,
          94,
          114,
          97,
          117,
          81,
          null,
          64,
          92,
          81,
          69,
          94,
          92,
          84,
          92,
          null,
          null,
          92,
          null,
          55,
          null,
          null,
          89,
          null,
          null,
          null,
          null,
          null,
          null,
          null
         ],
         "yaxis": "y4"
        },
        {
         "hovertext": [
          "EF 2E 22 E0 EA, Type 1",
          "B6 A4 CD 3A 81, Type 1",
          "76 A2 26 6F C7, Type inconnu",
          "C2 C3 05 A8 4B, Type 1",
          "39 CA BD 3C 82, Type 1",
          "7B DE 78 5B F6, Type 1",
          "9B 8E 44 F8 FF, Type 1",
          "EA 6F FF DE 42, Type 2",
          "90 01 09 71 F0, Type 2",
          "39 35 88 38 7B, Type inconnu",
          "35 86 13 56 24, Type 1",
          "7D 76 3D FC 91, Type 1",
          "73 EC 1B D7 9B, Type 1",
          "81 03 8C 07 58, Type inconnu",
          "AB A5 ED 43 8B, Type 1",
          "48 84 25 4A E0, Type inconnu",
          "01 83 17 5E 89, Type 1",
          "B9 5D 22 14 86, Type 1",
          "A1 54 32 B1 53, Type 1",
          "FD 11 B7 CF 8F, Type 1",
          "DB 6B 59 3A 0C, Type 1",
          "F1 C2 1C 3A FC, Type 1",
          "31 19 64 3D 10, Type 2",
          "98 2C 1A AA 87, Type 1",
          "A2 D7 D0 A4 2A, Type 1",
          "D7 FC 44 05 CA, Type 2",
          "8A A0 53 AC 37, Type inconnu",
          "02 88 A7 94 50, Type 2",
          "64 0B 1B 0A 45, Type 2",
          "8A 77 B8 09 AD, Type 2",
          "51 B7 6E C2 FD, Type 2",
          "A4 03 5A F0 57, Type 2",
          "02 92 7B FF E6, Type 1",
          "90 A6 58 8A AD, Type 2",
          "F5 E4 FD A4 9F, Type 2",
          "06 25 B6 B7 F5, Type 1",
          "47 09 1C 5F 94, Type inconnu",
          "76 8F 56 DE 15, Type 2",
          "3D F6 5A B4 9D, Type 2",
          "3F 34 F5 32 80, Type inconnu",
          "A6 FD C4 C0 69, Type 2",
          "4F 9C 21 D3 31, Type 2",
          "4B 6C 17 74 29, Type inconnu",
          "94 EB 19 B7 18, Type 2",
          "12 A8 8F 3F 67, Type inconnu",
          "19 01 73 04 E2, Type 2",
          "A2 C1 35 C2 8C, Type 2",
          "0F 30 93 5E 0E, Type 2",
          "81 DB 14 CC 21, Type inconnu",
          "CA A2 77 FC 22, Type 2",
          "96 B8 5B 6F 8F, Type inconnu",
          "96 DD DC FE E3, Type 2",
          "21 36 06 E2 38, Type 2",
          "B7 CA E8 BC 99, Type 2",
          "3E C6 4C 31 8B, Type inconnu",
          "EF 4A CF 20 AF, Type 2"
         ],
         "marker": {
          "color": [
           "#33ffc9",
           "#33ffc9",
           "#C5C5C5",
           "#33ffc9",
           "#33ffc9",
           "#33ffc9",
           "#33ffc9",
           "#B3D9FF",
           "#B3D9FF",
           "#C5C5C5",
           "#33ffc9",
           "#33ffc9",
           "#33ffc9",
           "#C5C5C5",
           "#33ffc9",
           "#C5C5C5",
           "#33ffc9",
           "#33ffc9",
           "#33ffc9",
           "#33ffc9",
           "#33ffc9",
           "#33ffc9",
           "#B3D9FF",
           "#33ffc9",
           "#33ffc9",
           "#B3D9FF",
           "#C5C5C5",
           "#B3D9FF",
           "#B3D9FF",
           "#B3D9FF",
           "#B3D9FF",
           "#B3D9FF",
           "#33ffc9",
           "#B3D9FF",
           "#B3D9FF",
           "#33ffc9",
           "#C5C5C5",
           "#B3D9FF",
           "#B3D9FF",
           "#C5C5C5",
           "#B3D9FF",
           "#B3D9FF",
           "#C5C5C5",
           "#B3D9FF",
           "#C5C5C5",
           "#B3D9FF",
           "#B3D9FF",
           "#B3D9FF",
           "#C5C5C5",
           "#B3D9FF",
           "#C5C5C5",
           "#B3D9FF",
           "#B3D9FF",
           "#B3D9FF",
           "#C5C5C5",
           "#B3D9FF"
          ],
          "size": 10
         },
         "mode": "markers+text",
         "type": "scatter",
         "x": [
          18,
          19,
          20,
          20,
          21,
          23,
          25,
          25,
          26,
          27,
          27,
          28,
          28,
          28,
          28,
          30,
          30,
          31,
          31,
          32,
          34,
          34,
          35,
          35,
          36,
          36,
          37,
          38,
          38,
          38,
          40,
          40,
          41,
          42,
          43,
          44,
          44,
          45,
          46,
          47,
          48,
          52,
          55,
          57,
          57,
          59,
          59,
          59,
          60,
          60,
          62,
          64,
          67,
          72,
          74,
          74
         ],
         "xaxis": "x5",
         "y": [
          1,
          18,
          14,
          3,
          42,
          50,
          2,
          34,
          18,
          50,
          null,
          30,
          0,
          5,
          10,
          7,
          5,
          18,
          3,
          30,
          2,
          70,
          23,
          30,
          23,
          42,
          63,
          34,
          82,
          42,
          87,
          10,
          null,
          1,
          30,
          10,
          2,
          34,
          30,
          14,
          30,
          null,
          null,
          30,
          null,
          1,
          null,
          null,
          23,
          null,
          null,
          null,
          null,
          null,
          null,
          null
         ],
         "yaxis": "y5"
        },
        {
         "hovertext": [
          "EF 2E 22 E0 EA, Type 1",
          "B6 A4 CD 3A 81, Type 1",
          "76 A2 26 6F C7, Type inconnu",
          "C2 C3 05 A8 4B, Type 1",
          "39 CA BD 3C 82, Type 1",
          "7B DE 78 5B F6, Type 1",
          "9B 8E 44 F8 FF, Type 1",
          "EA 6F FF DE 42, Type 2",
          "90 01 09 71 F0, Type 2",
          "39 35 88 38 7B, Type inconnu",
          "35 86 13 56 24, Type 1",
          "7D 76 3D FC 91, Type 1",
          "73 EC 1B D7 9B, Type 1",
          "81 03 8C 07 58, Type inconnu",
          "AB A5 ED 43 8B, Type 1",
          "48 84 25 4A E0, Type inconnu",
          "01 83 17 5E 89, Type 1",
          "B9 5D 22 14 86, Type 1",
          "A1 54 32 B1 53, Type 1",
          "FD 11 B7 CF 8F, Type 1",
          "DB 6B 59 3A 0C, Type 1",
          "F1 C2 1C 3A FC, Type 1",
          "31 19 64 3D 10, Type 2",
          "98 2C 1A AA 87, Type 1",
          "A2 D7 D0 A4 2A, Type 1",
          "D7 FC 44 05 CA, Type 2",
          "8A A0 53 AC 37, Type inconnu",
          "02 88 A7 94 50, Type 2",
          "64 0B 1B 0A 45, Type 2",
          "8A 77 B8 09 AD, Type 2",
          "51 B7 6E C2 FD, Type 2",
          "A4 03 5A F0 57, Type 2",
          "02 92 7B FF E6, Type 1",
          "90 A6 58 8A AD, Type 2",
          "F5 E4 FD A4 9F, Type 2",
          "06 25 B6 B7 F5, Type 1",
          "47 09 1C 5F 94, Type inconnu",
          "76 8F 56 DE 15, Type 2",
          "3D F6 5A B4 9D, Type 2",
          "3F 34 F5 32 80, Type inconnu",
          "A6 FD C4 C0 69, Type 2",
          "4F 9C 21 D3 31, Type 2",
          "4B 6C 17 74 29, Type inconnu",
          "94 EB 19 B7 18, Type 2",
          "12 A8 8F 3F 67, Type inconnu",
          "19 01 73 04 E2, Type 2",
          "A2 C1 35 C2 8C, Type 2",
          "0F 30 93 5E 0E, Type 2",
          "81 DB 14 CC 21, Type inconnu",
          "CA A2 77 FC 22, Type 2",
          "96 B8 5B 6F 8F, Type inconnu",
          "96 DD DC FE E3, Type 2",
          "21 36 06 E2 38, Type 2",
          "B7 CA E8 BC 99, Type 2",
          "3E C6 4C 31 8B, Type inconnu",
          "EF 4A CF 20 AF, Type 2"
         ],
         "marker": {
          "color": [
           "#33ffc9",
           "#33ffc9",
           "#C5C5C5",
           "#33ffc9",
           "#33ffc9",
           "#33ffc9",
           "#33ffc9",
           "#B3D9FF",
           "#B3D9FF",
           "#C5C5C5",
           "#33ffc9",
           "#33ffc9",
           "#33ffc9",
           "#C5C5C5",
           "#33ffc9",
           "#C5C5C5",
           "#33ffc9",
           "#33ffc9",
           "#33ffc9",
           "#33ffc9",
           "#33ffc9",
           "#33ffc9",
           "#B3D9FF",
           "#33ffc9",
           "#33ffc9",
           "#B3D9FF",
           "#C5C5C5",
           "#B3D9FF",
           "#B3D9FF",
           "#B3D9FF",
           "#B3D9FF",
           "#B3D9FF",
           "#33ffc9",
           "#B3D9FF",
           "#B3D9FF",
           "#33ffc9",
           "#C5C5C5",
           "#B3D9FF",
           "#B3D9FF",
           "#C5C5C5",
           "#B3D9FF",
           "#B3D9FF",
           "#C5C5C5",
           "#B3D9FF",
           "#C5C5C5",
           "#B3D9FF",
           "#B3D9FF",
           "#B3D9FF",
           "#C5C5C5",
           "#B3D9FF",
           "#C5C5C5",
           "#B3D9FF",
           "#B3D9FF",
           "#B3D9FF",
           "#C5C5C5",
           "#B3D9FF"
          ],
          "size": 10
         },
         "mode": "markers+text",
         "type": "scatter",
         "x": [
          18,
          19,
          20,
          20,
          21,
          23,
          25,
          25,
          26,
          27,
          27,
          28,
          28,
          28,
          28,
          30,
          30,
          31,
          31,
          32,
          34,
          34,
          35,
          35,
          36,
          36,
          37,
          38,
          38,
          38,
          40,
          40,
          41,
          42,
          43,
          44,
          44,
          45,
          46,
          47,
          48,
          52,
          55,
          57,
          57,
          59,
          59,
          59,
          60,
          60,
          62,
          64,
          67,
          72,
          74,
          74
         ],
         "xaxis": "x6",
         "y": [
          61,
          79,
          77,
          66,
          88,
          91,
          64,
          86,
          79,
          91,
          null,
          84,
          51,
          69,
          74,
          72,
          69,
          79,
          66,
          84,
          64,
          98,
          81,
          84,
          81,
          88,
          95,
          86,
          103,
          88,
          106,
          74,
          null,
          59,
          84,
          74,
          64,
          86,
          84,
          77,
          84,
          null,
          null,
          84,
          null,
          51,
          null,
          null,
          81,
          null,
          null,
          null,
          null,
          null,
          null,
          null
         ],
         "yaxis": "y6"
        },
        {
         "hovertext": [
          "EF 2E 22 E0 EA, Type 1",
          "B6 A4 CD 3A 81, Type 1",
          "76 A2 26 6F C7, Type inconnu",
          "C2 C3 05 A8 4B, Type 1",
          "39 CA BD 3C 82, Type 1",
          "7B DE 78 5B F6, Type 1",
          "9B 8E 44 F8 FF, Type 1",
          "EA 6F FF DE 42, Type 2",
          "90 01 09 71 F0, Type 2",
          "39 35 88 38 7B, Type inconnu",
          "35 86 13 56 24, Type 1",
          "7D 76 3D FC 91, Type 1",
          "73 EC 1B D7 9B, Type 1",
          "81 03 8C 07 58, Type inconnu",
          "AB A5 ED 43 8B, Type 1",
          "48 84 25 4A E0, Type inconnu",
          "01 83 17 5E 89, Type 1",
          "B9 5D 22 14 86, Type 1",
          "A1 54 32 B1 53, Type 1",
          "FD 11 B7 CF 8F, Type 1",
          "DB 6B 59 3A 0C, Type 1",
          "F1 C2 1C 3A FC, Type 1",
          "31 19 64 3D 10, Type 2",
          "98 2C 1A AA 87, Type 1",
          "A2 D7 D0 A4 2A, Type 1",
          "D7 FC 44 05 CA, Type 2",
          "8A A0 53 AC 37, Type inconnu",
          "02 88 A7 94 50, Type 2",
          "64 0B 1B 0A 45, Type 2",
          "8A 77 B8 09 AD, Type 2",
          "51 B7 6E C2 FD, Type 2",
          "A4 03 5A F0 57, Type 2",
          "02 92 7B FF E6, Type 1",
          "90 A6 58 8A AD, Type 2",
          "F5 E4 FD A4 9F, Type 2",
          "06 25 B6 B7 F5, Type 1",
          "47 09 1C 5F 94, Type inconnu",
          "76 8F 56 DE 15, Type 2",
          "3D F6 5A B4 9D, Type 2",
          "3F 34 F5 32 80, Type inconnu",
          "A6 FD C4 C0 69, Type 2",
          "4F 9C 21 D3 31, Type 2",
          "4B 6C 17 74 29, Type inconnu",
          "94 EB 19 B7 18, Type 2",
          "12 A8 8F 3F 67, Type inconnu",
          "19 01 73 04 E2, Type 2",
          "A2 C1 35 C2 8C, Type 2",
          "0F 30 93 5E 0E, Type 2",
          "81 DB 14 CC 21, Type inconnu",
          "CA A2 77 FC 22, Type 2",
          "96 B8 5B 6F 8F, Type inconnu",
          "96 DD DC FE E3, Type 2",
          "21 36 06 E2 38, Type 2",
          "B7 CA E8 BC 99, Type 2",
          "3E C6 4C 31 8B, Type inconnu",
          "EF 4A CF 20 AF, Type 2"
         ],
         "marker": {
          "color": [
           "#33ffc9",
           "#33ffc9",
           "#C5C5C5",
           "#33ffc9",
           "#33ffc9",
           "#33ffc9",
           "#33ffc9",
           "#B3D9FF",
           "#B3D9FF",
           "#C5C5C5",
           "#33ffc9",
           "#33ffc9",
           "#33ffc9",
           "#C5C5C5",
           "#33ffc9",
           "#C5C5C5",
           "#33ffc9",
           "#33ffc9",
           "#33ffc9",
           "#33ffc9",
           "#33ffc9",
           "#33ffc9",
           "#B3D9FF",
           "#33ffc9",
           "#33ffc9",
           "#B3D9FF",
           "#C5C5C5",
           "#B3D9FF",
           "#B3D9FF",
           "#B3D9FF",
           "#B3D9FF",
           "#B3D9FF",
           "#33ffc9",
           "#B3D9FF",
           "#B3D9FF",
           "#33ffc9",
           "#C5C5C5",
           "#B3D9FF",
           "#B3D9FF",
           "#C5C5C5",
           "#B3D9FF",
           "#B3D9FF",
           "#C5C5C5",
           "#B3D9FF",
           "#C5C5C5",
           "#B3D9FF",
           "#B3D9FF",
           "#B3D9FF",
           "#C5C5C5",
           "#B3D9FF",
           "#C5C5C5",
           "#B3D9FF",
           "#B3D9FF",
           "#B3D9FF",
           "#C5C5C5",
           "#B3D9FF"
          ],
          "size": 10
         },
         "mode": "markers+text",
         "type": "scatter",
         "x": [
          18,
          19,
          20,
          20,
          21,
          23,
          25,
          25,
          26,
          27,
          27,
          28,
          28,
          28,
          28,
          30,
          30,
          31,
          31,
          32,
          34,
          34,
          35,
          35,
          36,
          36,
          37,
          38,
          38,
          38,
          40,
          40,
          41,
          42,
          43,
          44,
          44,
          45,
          46,
          47,
          48,
          52,
          55,
          57,
          57,
          59,
          59,
          59,
          60,
          60,
          62,
          64,
          67,
          72,
          74,
          74
         ],
         "xaxis": "x7",
         "y": [
          79,
          97,
          95,
          84,
          106,
          109,
          82,
          104,
          87,
          109,
          null,
          102,
          70,
          87,
          92,
          90,
          87,
          97,
          84,
          102,
          82,
          116,
          99,
          102,
          99,
          106,
          113,
          104,
          121,
          106,
          124,
          92,
          null,
          77,
          102,
          92,
          82,
          104,
          102,
          95,
          102,
          null,
          null,
          102,
          null,
          70,
          null,
          null,
          99,
          null,
          null,
          null,
          null,
          null,
          null,
          null
         ],
         "yaxis": "y7"
        }
       ],
       "layout": {
        "annotations": [
         {
          "font": {
           "size": 16
          },
          "showarrow": false,
          "text": "Note standard Symboles",
          "x": 0.225,
          "xanchor": "center",
          "xref": "paper",
          "y": 1,
          "yanchor": "bottom",
          "yref": "paper"
         },
         {
          "font": {
           "size": 16
          },
          "showarrow": false,
          "text": "Note standard Code",
          "x": 0.775,
          "xanchor": "center",
          "xref": "paper",
          "y": 1,
          "yanchor": "bottom",
          "yref": "paper"
         },
         {
          "font": {
           "size": 16
          },
          "showarrow": false,
          "text": "Total des notes standards IVT",
          "x": 0.225,
          "xanchor": "center",
          "xref": "paper",
          "y": 0.74,
          "yanchor": "bottom",
          "yref": "paper"
         },
         {
          "font": {
           "size": 16
          },
          "showarrow": false,
          "text": "Note composite IVT",
          "x": 0.775,
          "xanchor": "center",
          "xref": "paper",
          "y": 0.74,
          "yanchor": "bottom",
          "yref": "paper"
         },
         {
          "font": {
           "size": 16
          },
          "showarrow": false,
          "text": "Rang percentile IVT",
          "x": 0.225,
          "xanchor": "center",
          "xref": "paper",
          "y": 0.48,
          "yanchor": "bottom",
          "yref": "paper"
         },
         {
          "font": {
           "size": 16
          },
          "showarrow": false,
          "text": "Note écart type inférieure IVT",
          "x": 0.775,
          "xanchor": "center",
          "xref": "paper",
          "y": 0.48,
          "yanchor": "bottom",
          "yref": "paper"
         },
         {
          "font": {
           "size": 16
          },
          "showarrow": false,
          "text": "Note écart type supérieure IVT",
          "x": 0.225,
          "xanchor": "center",
          "xref": "paper",
          "y": 0.22,
          "yanchor": "bottom",
          "yref": "paper"
         },
         {
          "font": {
           "size": 16
          },
          "showarrow": false,
          "text": "Âge",
          "x": 0.5,
          "xanchor": "center",
          "xref": "paper",
          "y": 0,
          "yanchor": "top",
          "yref": "paper",
          "yshift": -30
         },
         {
          "font": {
           "size": 16
          },
          "showarrow": false,
          "text": "Score",
          "textangle": -90,
          "x": 0,
          "xanchor": "right",
          "xref": "paper",
          "xshift": -40,
          "y": 0.5,
          "yanchor": "middle",
          "yref": "paper"
         }
        ],
        "height": 1500,
        "showlegend": false,
        "template": {
         "data": {
          "bar": [
           {
            "error_x": {
             "color": "#2a3f5f"
            },
            "error_y": {
             "color": "#2a3f5f"
            },
            "marker": {
             "line": {
              "color": "#E5ECF6",
              "width": 0.5
             }
            },
            "type": "bar"
           }
          ],
          "barpolar": [
           {
            "marker": {
             "line": {
              "color": "#E5ECF6",
              "width": 0.5
             }
            },
            "type": "barpolar"
           }
          ],
          "carpet": [
           {
            "aaxis": {
             "endlinecolor": "#2a3f5f",
             "gridcolor": "white",
             "linecolor": "white",
             "minorgridcolor": "white",
             "startlinecolor": "#2a3f5f"
            },
            "baxis": {
             "endlinecolor": "#2a3f5f",
             "gridcolor": "white",
             "linecolor": "white",
             "minorgridcolor": "white",
             "startlinecolor": "#2a3f5f"
            },
            "type": "carpet"
           }
          ],
          "choropleth": [
           {
            "colorbar": {
             "outlinewidth": 0,
             "ticks": ""
            },
            "type": "choropleth"
           }
          ],
          "contour": [
           {
            "colorbar": {
             "outlinewidth": 0,
             "ticks": ""
            },
            "colorscale": [
             [
              0,
              "#0d0887"
             ],
             [
              0.1111111111111111,
              "#46039f"
             ],
             [
              0.2222222222222222,
              "#7201a8"
             ],
             [
              0.3333333333333333,
              "#9c179e"
             ],
             [
              0.4444444444444444,
              "#bd3786"
             ],
             [
              0.5555555555555556,
              "#d8576b"
             ],
             [
              0.6666666666666666,
              "#ed7953"
             ],
             [
              0.7777777777777778,
              "#fb9f3a"
             ],
             [
              0.8888888888888888,
              "#fdca26"
             ],
             [
              1,
              "#f0f921"
             ]
            ],
            "type": "contour"
           }
          ],
          "contourcarpet": [
           {
            "colorbar": {
             "outlinewidth": 0,
             "ticks": ""
            },
            "type": "contourcarpet"
           }
          ],
          "heatmap": [
           {
            "colorbar": {
             "outlinewidth": 0,
             "ticks": ""
            },
            "colorscale": [
             [
              0,
              "#0d0887"
             ],
             [
              0.1111111111111111,
              "#46039f"
             ],
             [
              0.2222222222222222,
              "#7201a8"
             ],
             [
              0.3333333333333333,
              "#9c179e"
             ],
             [
              0.4444444444444444,
              "#bd3786"
             ],
             [
              0.5555555555555556,
              "#d8576b"
             ],
             [
              0.6666666666666666,
              "#ed7953"
             ],
             [
              0.7777777777777778,
              "#fb9f3a"
             ],
             [
              0.8888888888888888,
              "#fdca26"
             ],
             [
              1,
              "#f0f921"
             ]
            ],
            "type": "heatmap"
           }
          ],
          "heatmapgl": [
           {
            "colorbar": {
             "outlinewidth": 0,
             "ticks": ""
            },
            "colorscale": [
             [
              0,
              "#0d0887"
             ],
             [
              0.1111111111111111,
              "#46039f"
             ],
             [
              0.2222222222222222,
              "#7201a8"
             ],
             [
              0.3333333333333333,
              "#9c179e"
             ],
             [
              0.4444444444444444,
              "#bd3786"
             ],
             [
              0.5555555555555556,
              "#d8576b"
             ],
             [
              0.6666666666666666,
              "#ed7953"
             ],
             [
              0.7777777777777778,
              "#fb9f3a"
             ],
             [
              0.8888888888888888,
              "#fdca26"
             ],
             [
              1,
              "#f0f921"
             ]
            ],
            "type": "heatmapgl"
           }
          ],
          "histogram": [
           {
            "marker": {
             "colorbar": {
              "outlinewidth": 0,
              "ticks": ""
             }
            },
            "type": "histogram"
           }
          ],
          "histogram2d": [
           {
            "colorbar": {
             "outlinewidth": 0,
             "ticks": ""
            },
            "colorscale": [
             [
              0,
              "#0d0887"
             ],
             [
              0.1111111111111111,
              "#46039f"
             ],
             [
              0.2222222222222222,
              "#7201a8"
             ],
             [
              0.3333333333333333,
              "#9c179e"
             ],
             [
              0.4444444444444444,
              "#bd3786"
             ],
             [
              0.5555555555555556,
              "#d8576b"
             ],
             [
              0.6666666666666666,
              "#ed7953"
             ],
             [
              0.7777777777777778,
              "#fb9f3a"
             ],
             [
              0.8888888888888888,
              "#fdca26"
             ],
             [
              1,
              "#f0f921"
             ]
            ],
            "type": "histogram2d"
           }
          ],
          "histogram2dcontour": [
           {
            "colorbar": {
             "outlinewidth": 0,
             "ticks": ""
            },
            "colorscale": [
             [
              0,
              "#0d0887"
             ],
             [
              0.1111111111111111,
              "#46039f"
             ],
             [
              0.2222222222222222,
              "#7201a8"
             ],
             [
              0.3333333333333333,
              "#9c179e"
             ],
             [
              0.4444444444444444,
              "#bd3786"
             ],
             [
              0.5555555555555556,
              "#d8576b"
             ],
             [
              0.6666666666666666,
              "#ed7953"
             ],
             [
              0.7777777777777778,
              "#fb9f3a"
             ],
             [
              0.8888888888888888,
              "#fdca26"
             ],
             [
              1,
              "#f0f921"
             ]
            ],
            "type": "histogram2dcontour"
           }
          ],
          "mesh3d": [
           {
            "colorbar": {
             "outlinewidth": 0,
             "ticks": ""
            },
            "type": "mesh3d"
           }
          ],
          "parcoords": [
           {
            "line": {
             "colorbar": {
              "outlinewidth": 0,
              "ticks": ""
             }
            },
            "type": "parcoords"
           }
          ],
          "pie": [
           {
            "automargin": true,
            "type": "pie"
           }
          ],
          "scatter": [
           {
            "marker": {
             "colorbar": {
              "outlinewidth": 0,
              "ticks": ""
             }
            },
            "type": "scatter"
           }
          ],
          "scatter3d": [
           {
            "line": {
             "colorbar": {
              "outlinewidth": 0,
              "ticks": ""
             }
            },
            "marker": {
             "colorbar": {
              "outlinewidth": 0,
              "ticks": ""
             }
            },
            "type": "scatter3d"
           }
          ],
          "scattercarpet": [
           {
            "marker": {
             "colorbar": {
              "outlinewidth": 0,
              "ticks": ""
             }
            },
            "type": "scattercarpet"
           }
          ],
          "scattergeo": [
           {
            "marker": {
             "colorbar": {
              "outlinewidth": 0,
              "ticks": ""
             }
            },
            "type": "scattergeo"
           }
          ],
          "scattergl": [
           {
            "marker": {
             "colorbar": {
              "outlinewidth": 0,
              "ticks": ""
             }
            },
            "type": "scattergl"
           }
          ],
          "scattermapbox": [
           {
            "marker": {
             "colorbar": {
              "outlinewidth": 0,
              "ticks": ""
             }
            },
            "type": "scattermapbox"
           }
          ],
          "scatterpolar": [
           {
            "marker": {
             "colorbar": {
              "outlinewidth": 0,
              "ticks": ""
             }
            },
            "type": "scatterpolar"
           }
          ],
          "scatterpolargl": [
           {
            "marker": {
             "colorbar": {
              "outlinewidth": 0,
              "ticks": ""
             }
            },
            "type": "scatterpolargl"
           }
          ],
          "scatterternary": [
           {
            "marker": {
             "colorbar": {
              "outlinewidth": 0,
              "ticks": ""
             }
            },
            "type": "scatterternary"
           }
          ],
          "surface": [
           {
            "colorbar": {
             "outlinewidth": 0,
             "ticks": ""
            },
            "colorscale": [
             [
              0,
              "#0d0887"
             ],
             [
              0.1111111111111111,
              "#46039f"
             ],
             [
              0.2222222222222222,
              "#7201a8"
             ],
             [
              0.3333333333333333,
              "#9c179e"
             ],
             [
              0.4444444444444444,
              "#bd3786"
             ],
             [
              0.5555555555555556,
              "#d8576b"
             ],
             [
              0.6666666666666666,
              "#ed7953"
             ],
             [
              0.7777777777777778,
              "#fb9f3a"
             ],
             [
              0.8888888888888888,
              "#fdca26"
             ],
             [
              1,
              "#f0f921"
             ]
            ],
            "type": "surface"
           }
          ],
          "table": [
           {
            "cells": {
             "fill": {
              "color": "#EBF0F8"
             },
             "line": {
              "color": "white"
             }
            },
            "header": {
             "fill": {
              "color": "#C8D4E3"
             },
             "line": {
              "color": "white"
             }
            },
            "type": "table"
           }
          ]
         },
         "layout": {
          "annotationdefaults": {
           "arrowcolor": "#2a3f5f",
           "arrowhead": 0,
           "arrowwidth": 1
          },
          "coloraxis": {
           "colorbar": {
            "outlinewidth": 0,
            "ticks": ""
           }
          },
          "colorscale": {
           "diverging": [
            [
             0,
             "#8e0152"
            ],
            [
             0.1,
             "#c51b7d"
            ],
            [
             0.2,
             "#de77ae"
            ],
            [
             0.3,
             "#f1b6da"
            ],
            [
             0.4,
             "#fde0ef"
            ],
            [
             0.5,
             "#f7f7f7"
            ],
            [
             0.6,
             "#e6f5d0"
            ],
            [
             0.7,
             "#b8e186"
            ],
            [
             0.8,
             "#7fbc41"
            ],
            [
             0.9,
             "#4d9221"
            ],
            [
             1,
             "#276419"
            ]
           ],
           "sequential": [
            [
             0,
             "#0d0887"
            ],
            [
             0.1111111111111111,
             "#46039f"
            ],
            [
             0.2222222222222222,
             "#7201a8"
            ],
            [
             0.3333333333333333,
             "#9c179e"
            ],
            [
             0.4444444444444444,
             "#bd3786"
            ],
            [
             0.5555555555555556,
             "#d8576b"
            ],
            [
             0.6666666666666666,
             "#ed7953"
            ],
            [
             0.7777777777777778,
             "#fb9f3a"
            ],
            [
             0.8888888888888888,
             "#fdca26"
            ],
            [
             1,
             "#f0f921"
            ]
           ],
           "sequentialminus": [
            [
             0,
             "#0d0887"
            ],
            [
             0.1111111111111111,
             "#46039f"
            ],
            [
             0.2222222222222222,
             "#7201a8"
            ],
            [
             0.3333333333333333,
             "#9c179e"
            ],
            [
             0.4444444444444444,
             "#bd3786"
            ],
            [
             0.5555555555555556,
             "#d8576b"
            ],
            [
             0.6666666666666666,
             "#ed7953"
            ],
            [
             0.7777777777777778,
             "#fb9f3a"
            ],
            [
             0.8888888888888888,
             "#fdca26"
            ],
            [
             1,
             "#f0f921"
            ]
           ]
          },
          "colorway": [
           "#636efa",
           "#EF553B",
           "#00cc96",
           "#ab63fa",
           "#FFA15A",
           "#19d3f3",
           "#FF6692",
           "#B6E880",
           "#FF97FF",
           "#FECB52"
          ],
          "font": {
           "color": "#2a3f5f"
          },
          "geo": {
           "bgcolor": "white",
           "lakecolor": "white",
           "landcolor": "#E5ECF6",
           "showlakes": true,
           "showland": true,
           "subunitcolor": "white"
          },
          "hoverlabel": {
           "align": "left"
          },
          "hovermode": "closest",
          "mapbox": {
           "style": "light"
          },
          "paper_bgcolor": "white",
          "plot_bgcolor": "#E5ECF6",
          "polar": {
           "angularaxis": {
            "gridcolor": "white",
            "linecolor": "white",
            "ticks": ""
           },
           "bgcolor": "#E5ECF6",
           "radialaxis": {
            "gridcolor": "white",
            "linecolor": "white",
            "ticks": ""
           }
          },
          "scene": {
           "xaxis": {
            "backgroundcolor": "#E5ECF6",
            "gridcolor": "white",
            "gridwidth": 2,
            "linecolor": "white",
            "showbackground": true,
            "ticks": "",
            "zerolinecolor": "white"
           },
           "yaxis": {
            "backgroundcolor": "#E5ECF6",
            "gridcolor": "white",
            "gridwidth": 2,
            "linecolor": "white",
            "showbackground": true,
            "ticks": "",
            "zerolinecolor": "white"
           },
           "zaxis": {
            "backgroundcolor": "#E5ECF6",
            "gridcolor": "white",
            "gridwidth": 2,
            "linecolor": "white",
            "showbackground": true,
            "ticks": "",
            "zerolinecolor": "white"
           }
          },
          "shapedefaults": {
           "line": {
            "color": "#2a3f5f"
           }
          },
          "ternary": {
           "aaxis": {
            "gridcolor": "white",
            "linecolor": "white",
            "ticks": ""
           },
           "baxis": {
            "gridcolor": "white",
            "linecolor": "white",
            "ticks": ""
           },
           "bgcolor": "#E5ECF6",
           "caxis": {
            "gridcolor": "white",
            "linecolor": "white",
            "ticks": ""
           }
          },
          "title": {
           "x": 0.05
          },
          "xaxis": {
           "automargin": true,
           "gridcolor": "white",
           "linecolor": "white",
           "ticks": "",
           "title": {
            "standoff": 15
           },
           "zerolinecolor": "white",
           "zerolinewidth": 2
          },
          "yaxis": {
           "automargin": true,
           "gridcolor": "white",
           "linecolor": "white",
           "ticks": "",
           "title": {
            "standoff": 15
           },
           "zerolinecolor": "white",
           "zerolinewidth": 2
          }
         }
        },
        "width": 800,
        "xaxis": {
         "anchor": "y",
         "domain": [
          0,
          0.45
         ]
        },
        "xaxis2": {
         "anchor": "y2",
         "domain": [
          0.55,
          1
         ]
        },
        "xaxis3": {
         "anchor": "y3",
         "domain": [
          0,
          0.45
         ]
        },
        "xaxis4": {
         "anchor": "y4",
         "domain": [
          0.55,
          1
         ]
        },
        "xaxis5": {
         "anchor": "y5",
         "domain": [
          0,
          0.45
         ]
        },
        "xaxis6": {
         "anchor": "y6",
         "domain": [
          0.55,
          1
         ]
        },
        "xaxis7": {
         "anchor": "y7",
         "domain": [
          0,
          0.45
         ]
        },
        "xaxis8": {
         "anchor": "y8",
         "domain": [
          0.55,
          1
         ]
        },
        "yaxis": {
         "anchor": "x",
         "domain": [
          0.78,
          1
         ]
        },
        "yaxis2": {
         "anchor": "x2",
         "domain": [
          0.78,
          1
         ]
        },
        "yaxis3": {
         "anchor": "x3",
         "domain": [
          0.52,
          0.74
         ]
        },
        "yaxis4": {
         "anchor": "x4",
         "domain": [
          0.52,
          0.74
         ]
        },
        "yaxis5": {
         "anchor": "x5",
         "domain": [
          0.26,
          0.48
         ]
        },
        "yaxis6": {
         "anchor": "x6",
         "domain": [
          0.26,
          0.48
         ]
        },
        "yaxis7": {
         "anchor": "x7",
         "domain": [
          0,
          0.22
         ]
        },
        "yaxis8": {
         "anchor": "x8",
         "domain": [
          0,
          0.22
         ]
        }
       }
      },
      "text/html": [
       "<div>\n",
       "        \n",
       "        \n",
       "            <div id=\"e92ae3b9-3604-46d6-8980-ca41ac242b2f\" class=\"plotly-graph-div\" style=\"height:1500px; width:800px;\"></div>\n",
       "            <script type=\"text/javascript\">\n",
       "                require([\"plotly\"], function(Plotly) {\n",
       "                    window.PLOTLYENV=window.PLOTLYENV || {};\n",
       "                    \n",
       "                if (document.getElementById(\"e92ae3b9-3604-46d6-8980-ca41ac242b2f\")) {\n",
       "                    Plotly.newPlot(\n",
       "                        'e92ae3b9-3604-46d6-8980-ca41ac242b2f',\n",
       "                        [{\"hovertext\": [\"EF 2E 22 E0 EA, Type 1\", \"B6 A4 CD 3A 81, Type 1\", \"76 A2 26 6F C7, Type inconnu\", \"C2 C3 05 A8 4B, Type 1\", \"39 CA BD 3C 82, Type 1\", \"7B DE 78 5B F6, Type 1\", \"9B 8E 44 F8 FF, Type 1\", \"EA 6F FF DE 42, Type 2\", \"90 01 09 71 F0, Type 2\", \"39 35 88 38 7B, Type inconnu\", \"35 86 13 56 24, Type 1\", \"7D 76 3D FC 91, Type 1\", \"73 EC 1B D7 9B, Type 1\", \"81 03 8C 07 58, Type inconnu\", \"AB A5 ED 43 8B, Type 1\", \"48 84 25 4A E0, Type inconnu\", \"01 83 17 5E 89, Type 1\", \"B9 5D 22 14 86, Type 1\", \"A1 54 32 B1 53, Type 1\", \"FD 11 B7 CF 8F, Type 1\", \"DB 6B 59 3A 0C, Type 1\", \"F1 C2 1C 3A FC, Type 1\", \"31 19 64 3D 10, Type 2\", \"98 2C 1A AA 87, Type 1\", \"A2 D7 D0 A4 2A, Type 1\", \"D7 FC 44 05 CA, Type 2\", \"8A A0 53 AC 37, Type inconnu\", \"02 88 A7 94 50, Type 2\", \"64 0B 1B 0A 45, Type 2\", \"8A 77 B8 09 AD, Type 2\", \"51 B7 6E C2 FD, Type 2\", \"A4 03 5A F0 57, Type 2\", \"02 92 7B FF E6, Type 1\", \"90 A6 58 8A AD, Type 2\", \"F5 E4 FD A4 9F, Type 2\", \"06 25 B6 B7 F5, Type 1\", \"47 09 1C 5F 94, Type inconnu\", \"76 8F 56 DE 15, Type 2\", \"3D F6 5A B4 9D, Type 2\", \"3F 34 F5 32 80, Type inconnu\", \"A6 FD C4 C0 69, Type 2\", \"4F 9C 21 D3 31, Type 2\", \"4B 6C 17 74 29, Type inconnu\", \"94 EB 19 B7 18, Type 2\", \"12 A8 8F 3F 67, Type inconnu\", \"19 01 73 04 E2, Type 2\", \"A2 C1 35 C2 8C, Type 2\", \"0F 30 93 5E 0E, Type 2\", \"81 DB 14 CC 21, Type inconnu\", \"CA A2 77 FC 22, Type 2\", \"96 B8 5B 6F 8F, Type inconnu\", \"96 DD DC FE E3, Type 2\", \"21 36 06 E2 38, Type 2\", \"B7 CA E8 BC 99, Type 2\", \"3E C6 4C 31 8B, Type inconnu\", \"EF 4A CF 20 AF, Type 2\"], \"marker\": {\"color\": [\"#33ffc9\", \"#33ffc9\", \"#C5C5C5\", \"#33ffc9\", \"#33ffc9\", \"#33ffc9\", \"#33ffc9\", \"#B3D9FF\", \"#B3D9FF\", \"#C5C5C5\", \"#33ffc9\", \"#33ffc9\", \"#33ffc9\", \"#C5C5C5\", \"#33ffc9\", \"#C5C5C5\", \"#33ffc9\", \"#33ffc9\", \"#33ffc9\", \"#33ffc9\", \"#33ffc9\", \"#33ffc9\", \"#B3D9FF\", \"#33ffc9\", \"#33ffc9\", \"#B3D9FF\", \"#C5C5C5\", \"#B3D9FF\", \"#B3D9FF\", \"#B3D9FF\", \"#B3D9FF\", \"#B3D9FF\", \"#33ffc9\", \"#B3D9FF\", \"#B3D9FF\", \"#33ffc9\", \"#C5C5C5\", \"#B3D9FF\", \"#B3D9FF\", \"#C5C5C5\", \"#B3D9FF\", \"#B3D9FF\", \"#C5C5C5\", \"#B3D9FF\", \"#C5C5C5\", \"#B3D9FF\", \"#B3D9FF\", \"#B3D9FF\", \"#C5C5C5\", \"#B3D9FF\", \"#C5C5C5\", \"#B3D9FF\", \"#B3D9FF\", \"#B3D9FF\", \"#C5C5C5\", \"#B3D9FF\"], \"size\": 10}, \"mode\": \"markers+text\", \"type\": \"scatter\", \"x\": [18.0, 19.0, 20.0, 20.0, 21.0, 23.0, 25.0, 25.0, 26.0, 27.0, 27.0, 28.0, 28.0, 28.0, 28.0, 30.0, 30.0, 31.0, 31.0, 32.0, 34.0, 34.0, 35.0, 35.0, 36.0, 36.0, 37.0, 38.0, 38.0, 38.0, 40.0, 40.0, 41.0, 42.0, 43.0, 44.0, 44.0, 45.0, 46.0, 47.0, 48.0, 52.0, 55.0, 57.0, 57.0, 59.0, 59.0, 59.0, 60.0, 60.0, 62.0, 64.0, 67.0, 72.0, 74.0, 74.0], \"xaxis\": \"x\", \"y\": [7.0, 10.0, 7.0, 5.0, 8.0, 12.0, 1.0, 7.0, 8.0, 10.0, 1.0, 9.0, 3.0, 6.0, 6.0, 3.0, 6.0, 7.0, 3.0, 8.0, 4.0, 8.0, 7.0, 8.0, 8.0, 10.0, 9.0, 8.0, 10.0, 9.0, 12.0, 6.0, null, 5.0, 7.0, 6.0, 4.0, 9.0, 8.0, 9.0, 8.0, null, null, 9.0, null, 3.0, null, null, 8.0, null, null, null, null, null, null, null], \"yaxis\": \"y\"}, {\"hovertext\": [\"EF 2E 22 E0 EA, Type 1\", \"B6 A4 CD 3A 81, Type 1\", \"76 A2 26 6F C7, Type inconnu\", \"C2 C3 05 A8 4B, Type 1\", \"39 CA BD 3C 82, Type 1\", \"7B DE 78 5B F6, Type 1\", \"9B 8E 44 F8 FF, Type 1\", \"EA 6F FF DE 42, Type 2\", \"90 01 09 71 F0, Type 2\", \"39 35 88 38 7B, Type inconnu\", \"35 86 13 56 24, Type 1\", \"7D 76 3D FC 91, Type 1\", \"73 EC 1B D7 9B, Type 1\", \"81 03 8C 07 58, Type inconnu\", \"AB A5 ED 43 8B, Type 1\", \"48 84 25 4A E0, Type inconnu\", \"01 83 17 5E 89, Type 1\", \"B9 5D 22 14 86, Type 1\", \"A1 54 32 B1 53, Type 1\", \"FD 11 B7 CF 8F, Type 1\", \"DB 6B 59 3A 0C, Type 1\", \"F1 C2 1C 3A FC, Type 1\", \"31 19 64 3D 10, Type 2\", \"98 2C 1A AA 87, Type 1\", \"A2 D7 D0 A4 2A, Type 1\", \"D7 FC 44 05 CA, Type 2\", \"8A A0 53 AC 37, Type inconnu\", \"02 88 A7 94 50, Type 2\", \"64 0B 1B 0A 45, Type 2\", \"8A 77 B8 09 AD, Type 2\", \"51 B7 6E C2 FD, Type 2\", \"A4 03 5A F0 57, Type 2\", \"02 92 7B FF E6, Type 1\", \"90 A6 58 8A AD, Type 2\", \"F5 E4 FD A4 9F, Type 2\", \"06 25 B6 B7 F5, Type 1\", \"47 09 1C 5F 94, Type inconnu\", \"76 8F 56 DE 15, Type 2\", \"3D F6 5A B4 9D, Type 2\", \"3F 34 F5 32 80, Type inconnu\", \"A6 FD C4 C0 69, Type 2\", \"4F 9C 21 D3 31, Type 2\", \"4B 6C 17 74 29, Type inconnu\", \"94 EB 19 B7 18, Type 2\", \"12 A8 8F 3F 67, Type inconnu\", \"19 01 73 04 E2, Type 2\", \"A2 C1 35 C2 8C, Type 2\", \"0F 30 93 5E 0E, Type 2\", \"81 DB 14 CC 21, Type inconnu\", \"CA A2 77 FC 22, Type 2\", \"96 B8 5B 6F 8F, Type inconnu\", \"96 DD DC FE E3, Type 2\", \"21 36 06 E2 38, Type 2\", \"B7 CA E8 BC 99, Type 2\", \"3E C6 4C 31 8B, Type inconnu\", \"EF 4A CF 20 AF, Type 2\"], \"marker\": {\"color\": [\"#33ffc9\", \"#33ffc9\", \"#C5C5C5\", \"#33ffc9\", \"#33ffc9\", \"#33ffc9\", \"#33ffc9\", \"#B3D9FF\", \"#B3D9FF\", \"#C5C5C5\", \"#33ffc9\", \"#33ffc9\", \"#33ffc9\", \"#C5C5C5\", \"#33ffc9\", \"#C5C5C5\", \"#33ffc9\", \"#33ffc9\", \"#33ffc9\", \"#33ffc9\", \"#33ffc9\", \"#33ffc9\", \"#B3D9FF\", \"#33ffc9\", \"#33ffc9\", \"#B3D9FF\", \"#C5C5C5\", \"#B3D9FF\", \"#B3D9FF\", \"#B3D9FF\", \"#B3D9FF\", \"#B3D9FF\", \"#33ffc9\", \"#B3D9FF\", \"#B3D9FF\", \"#33ffc9\", \"#C5C5C5\", \"#B3D9FF\", \"#B3D9FF\", \"#C5C5C5\", \"#B3D9FF\", \"#B3D9FF\", \"#C5C5C5\", \"#B3D9FF\", \"#C5C5C5\", \"#B3D9FF\", \"#B3D9FF\", \"#B3D9FF\", \"#C5C5C5\", \"#B3D9FF\", \"#C5C5C5\", \"#B3D9FF\", \"#B3D9FF\", \"#B3D9FF\", \"#C5C5C5\", \"#B3D9FF\"], \"size\": 10}, \"mode\": \"markers+text\", \"type\": \"scatter\", \"x\": [18.0, 19.0, 20.0, 20.0, 21.0, 23.0, 25.0, 25.0, 26.0, 27.0, 27.0, 28.0, 28.0, 28.0, 28.0, 30.0, 30.0, 31.0, 31.0, 32.0, 34.0, 34.0, 35.0, 35.0, 36.0, 36.0, 37.0, 38.0, 38.0, 38.0, 40.0, 40.0, 41.0, 42.0, 43.0, 44.0, 44.0, 45.0, 46.0, 47.0, 48.0, 52.0, 55.0, 57.0, 57.0, 59.0, 59.0, 59.0, 60.0, 60.0, 62.0, 64.0, 67.0, 72.0, 74.0, 74.0], \"xaxis\": \"x2\", \"y\": [1.0, 5.0, 7.0, 5.0, 11.0, 8.0, 8.0, 11.0, 7.0, 10.0, null, 8.0, 1.0, 5.0, 7.0, 9.0, 5.0, 8.0, 7.0, 9.0, 5.0, 15.0, 9.0, 9.0, 8.0, 8.0, 13.0, 10.0, 15.0, 10.0, 14.0, 7.0, null, 2.0, 10.0, 7.0, 5.0, 9.0, 9.0, 5.0, 9.0, null, null, 8.0, null, 1.0, null, null, 8.0, null, null, null, null, null, null, null], \"yaxis\": \"y2\"}, {\"hovertext\": [\"EF 2E 22 E0 EA, Type 1\", \"B6 A4 CD 3A 81, Type 1\", \"76 A2 26 6F C7, Type inconnu\", \"C2 C3 05 A8 4B, Type 1\", \"39 CA BD 3C 82, Type 1\", \"7B DE 78 5B F6, Type 1\", \"9B 8E 44 F8 FF, Type 1\", \"EA 6F FF DE 42, Type 2\", \"90 01 09 71 F0, Type 2\", \"39 35 88 38 7B, Type inconnu\", \"35 86 13 56 24, Type 1\", \"7D 76 3D FC 91, Type 1\", \"73 EC 1B D7 9B, Type 1\", \"81 03 8C 07 58, Type inconnu\", \"AB A5 ED 43 8B, Type 1\", \"48 84 25 4A E0, Type inconnu\", \"01 83 17 5E 89, Type 1\", \"B9 5D 22 14 86, Type 1\", \"A1 54 32 B1 53, Type 1\", \"FD 11 B7 CF 8F, Type 1\", \"DB 6B 59 3A 0C, Type 1\", \"F1 C2 1C 3A FC, Type 1\", \"31 19 64 3D 10, Type 2\", \"98 2C 1A AA 87, Type 1\", \"A2 D7 D0 A4 2A, Type 1\", \"D7 FC 44 05 CA, Type 2\", \"8A A0 53 AC 37, Type inconnu\", \"02 88 A7 94 50, Type 2\", \"64 0B 1B 0A 45, Type 2\", \"8A 77 B8 09 AD, Type 2\", \"51 B7 6E C2 FD, Type 2\", \"A4 03 5A F0 57, Type 2\", \"02 92 7B FF E6, Type 1\", \"90 A6 58 8A AD, Type 2\", \"F5 E4 FD A4 9F, Type 2\", \"06 25 B6 B7 F5, Type 1\", \"47 09 1C 5F 94, Type inconnu\", \"76 8F 56 DE 15, Type 2\", \"3D F6 5A B4 9D, Type 2\", \"3F 34 F5 32 80, Type inconnu\", \"A6 FD C4 C0 69, Type 2\", \"4F 9C 21 D3 31, Type 2\", \"4B 6C 17 74 29, Type inconnu\", \"94 EB 19 B7 18, Type 2\", \"12 A8 8F 3F 67, Type inconnu\", \"19 01 73 04 E2, Type 2\", \"A2 C1 35 C2 8C, Type 2\", \"0F 30 93 5E 0E, Type 2\", \"81 DB 14 CC 21, Type inconnu\", \"CA A2 77 FC 22, Type 2\", \"96 B8 5B 6F 8F, Type inconnu\", \"96 DD DC FE E3, Type 2\", \"21 36 06 E2 38, Type 2\", \"B7 CA E8 BC 99, Type 2\", \"3E C6 4C 31 8B, Type inconnu\", \"EF 4A CF 20 AF, Type 2\"], \"marker\": {\"color\": [\"#33ffc9\", \"#33ffc9\", \"#C5C5C5\", \"#33ffc9\", \"#33ffc9\", \"#33ffc9\", \"#33ffc9\", \"#B3D9FF\", \"#B3D9FF\", \"#C5C5C5\", \"#33ffc9\", \"#33ffc9\", \"#33ffc9\", \"#C5C5C5\", \"#33ffc9\", \"#C5C5C5\", \"#33ffc9\", \"#33ffc9\", \"#33ffc9\", \"#33ffc9\", \"#33ffc9\", \"#33ffc9\", \"#B3D9FF\", \"#33ffc9\", \"#33ffc9\", \"#B3D9FF\", \"#C5C5C5\", \"#B3D9FF\", \"#B3D9FF\", \"#B3D9FF\", \"#B3D9FF\", \"#B3D9FF\", \"#33ffc9\", \"#B3D9FF\", \"#B3D9FF\", \"#33ffc9\", \"#C5C5C5\", \"#B3D9FF\", \"#B3D9FF\", \"#C5C5C5\", \"#B3D9FF\", \"#B3D9FF\", \"#C5C5C5\", \"#B3D9FF\", \"#C5C5C5\", \"#B3D9FF\", \"#B3D9FF\", \"#B3D9FF\", \"#C5C5C5\", \"#B3D9FF\", \"#C5C5C5\", \"#B3D9FF\", \"#B3D9FF\", \"#B3D9FF\", \"#C5C5C5\", \"#B3D9FF\"], \"size\": 10}, \"mode\": \"markers+text\", \"type\": \"scatter\", \"x\": [18.0, 19.0, 20.0, 20.0, 21.0, 23.0, 25.0, 25.0, 26.0, 27.0, 27.0, 28.0, 28.0, 28.0, 28.0, 30.0, 30.0, 31.0, 31.0, 32.0, 34.0, 34.0, 35.0, 35.0, 36.0, 36.0, 37.0, 38.0, 38.0, 38.0, 40.0, 40.0, 41.0, 42.0, 43.0, 44.0, 44.0, 45.0, 46.0, 47.0, 48.0, 52.0, 55.0, 57.0, 57.0, 59.0, 59.0, 59.0, 60.0, 60.0, 62.0, 64.0, 67.0, 72.0, 74.0, 74.0], \"xaxis\": \"x3\", \"y\": [8.0, 15.0, 14.0, 10.0, 19.0, 20.0, 9.0, 18.0, 15.0, 20.0, null, 17.0, 4.0, 11.0, 13.0, 12.0, 11.0, 15.0, 10.0, 17.0, 9.0, 23.0, 16.0, 17.0, 16.0, 18.0, 22.0, 18.0, 25.0, 19.0, 26.0, 13.0, null, 7.0, 17.0, 13.0, 9.0, 18.0, 17.0, 14.0, 17.0, null, null, 17.0, null, 4.0, null, null, 16.0, null, null, null, null, null, null, null], \"yaxis\": \"y3\"}, {\"hovertext\": [\"EF 2E 22 E0 EA, Type 1\", \"B6 A4 CD 3A 81, Type 1\", \"76 A2 26 6F C7, Type inconnu\", \"C2 C3 05 A8 4B, Type 1\", \"39 CA BD 3C 82, Type 1\", \"7B DE 78 5B F6, Type 1\", \"9B 8E 44 F8 FF, Type 1\", \"EA 6F FF DE 42, Type 2\", \"90 01 09 71 F0, Type 2\", \"39 35 88 38 7B, Type inconnu\", \"35 86 13 56 24, Type 1\", \"7D 76 3D FC 91, Type 1\", \"73 EC 1B D7 9B, Type 1\", \"81 03 8C 07 58, Type inconnu\", \"AB A5 ED 43 8B, Type 1\", \"48 84 25 4A E0, Type inconnu\", \"01 83 17 5E 89, Type 1\", \"B9 5D 22 14 86, Type 1\", \"A1 54 32 B1 53, Type 1\", \"FD 11 B7 CF 8F, Type 1\", \"DB 6B 59 3A 0C, Type 1\", \"F1 C2 1C 3A FC, Type 1\", \"31 19 64 3D 10, Type 2\", \"98 2C 1A AA 87, Type 1\", \"A2 D7 D0 A4 2A, Type 1\", \"D7 FC 44 05 CA, Type 2\", \"8A A0 53 AC 37, Type inconnu\", \"02 88 A7 94 50, Type 2\", \"64 0B 1B 0A 45, Type 2\", \"8A 77 B8 09 AD, Type 2\", \"51 B7 6E C2 FD, Type 2\", \"A4 03 5A F0 57, Type 2\", \"02 92 7B FF E6, Type 1\", \"90 A6 58 8A AD, Type 2\", \"F5 E4 FD A4 9F, Type 2\", \"06 25 B6 B7 F5, Type 1\", \"47 09 1C 5F 94, Type inconnu\", \"76 8F 56 DE 15, Type 2\", \"3D F6 5A B4 9D, Type 2\", \"3F 34 F5 32 80, Type inconnu\", \"A6 FD C4 C0 69, Type 2\", \"4F 9C 21 D3 31, Type 2\", \"4B 6C 17 74 29, Type inconnu\", \"94 EB 19 B7 18, Type 2\", \"12 A8 8F 3F 67, Type inconnu\", \"19 01 73 04 E2, Type 2\", \"A2 C1 35 C2 8C, Type 2\", \"0F 30 93 5E 0E, Type 2\", \"81 DB 14 CC 21, Type inconnu\", \"CA A2 77 FC 22, Type 2\", \"96 B8 5B 6F 8F, Type inconnu\", \"96 DD DC FE E3, Type 2\", \"21 36 06 E2 38, Type 2\", \"B7 CA E8 BC 99, Type 2\", \"3E C6 4C 31 8B, Type inconnu\", \"EF 4A CF 20 AF, Type 2\"], \"marker\": {\"color\": [\"#33ffc9\", \"#33ffc9\", \"#C5C5C5\", \"#33ffc9\", \"#33ffc9\", \"#33ffc9\", \"#33ffc9\", \"#B3D9FF\", \"#B3D9FF\", \"#C5C5C5\", \"#33ffc9\", \"#33ffc9\", \"#33ffc9\", \"#C5C5C5\", \"#33ffc9\", \"#C5C5C5\", \"#33ffc9\", \"#33ffc9\", \"#33ffc9\", \"#33ffc9\", \"#33ffc9\", \"#33ffc9\", \"#B3D9FF\", \"#33ffc9\", \"#33ffc9\", \"#B3D9FF\", \"#C5C5C5\", \"#B3D9FF\", \"#B3D9FF\", \"#B3D9FF\", \"#B3D9FF\", \"#B3D9FF\", \"#33ffc9\", \"#B3D9FF\", \"#B3D9FF\", \"#33ffc9\", \"#C5C5C5\", \"#B3D9FF\", \"#B3D9FF\", \"#C5C5C5\", \"#B3D9FF\", \"#B3D9FF\", \"#C5C5C5\", \"#B3D9FF\", \"#C5C5C5\", \"#B3D9FF\", \"#B3D9FF\", \"#B3D9FF\", \"#C5C5C5\", \"#B3D9FF\", \"#C5C5C5\", \"#B3D9FF\", \"#B3D9FF\", \"#B3D9FF\", \"#C5C5C5\", \"#B3D9FF\"], \"size\": 10}, \"mode\": \"markers+text\", \"type\": \"scatter\", \"x\": [18.0, 19.0, 20.0, 20.0, 21.0, 23.0, 25.0, 25.0, 26.0, 27.0, 27.0, 28.0, 28.0, 28.0, 28.0, 30.0, 30.0, 31.0, 31.0, 32.0, 34.0, 34.0, 35.0, 35.0, 36.0, 36.0, 37.0, 38.0, 38.0, 38.0, 40.0, 40.0, 41.0, 42.0, 43.0, 44.0, 44.0, 45.0, 46.0, 47.0, 48.0, 52.0, 55.0, 57.0, 57.0, 59.0, 59.0, 59.0, 60.0, 60.0, 62.0, 64.0, 67.0, 72.0, 74.0, 74.0], \"xaxis\": \"x4\", \"y\": [66.0, 86.0, 84.0, 72.0, 97.0, 100.0, 69.0, 94.0, 86.0, 100.0, null, 92.0, 55.0, 75.0, 81.0, 78.0, 75.0, 86.0, 72.0, 92.0, 69.0, 108.0, 89.0, 92.0, 89.0, 94.0, 105.0, 94.0, 114.0, 97.0, 117.0, 81.0, null, 64.0, 92.0, 81.0, 69.0, 94.0, 92.0, 84.0, 92.0, null, null, 92.0, null, 55.0, null, null, 89.0, null, null, null, null, null, null, null], \"yaxis\": \"y4\"}, {\"hovertext\": [\"EF 2E 22 E0 EA, Type 1\", \"B6 A4 CD 3A 81, Type 1\", \"76 A2 26 6F C7, Type inconnu\", \"C2 C3 05 A8 4B, Type 1\", \"39 CA BD 3C 82, Type 1\", \"7B DE 78 5B F6, Type 1\", \"9B 8E 44 F8 FF, Type 1\", \"EA 6F FF DE 42, Type 2\", \"90 01 09 71 F0, Type 2\", \"39 35 88 38 7B, Type inconnu\", \"35 86 13 56 24, Type 1\", \"7D 76 3D FC 91, Type 1\", \"73 EC 1B D7 9B, Type 1\", \"81 03 8C 07 58, Type inconnu\", \"AB A5 ED 43 8B, Type 1\", \"48 84 25 4A E0, Type inconnu\", \"01 83 17 5E 89, Type 1\", \"B9 5D 22 14 86, Type 1\", \"A1 54 32 B1 53, Type 1\", \"FD 11 B7 CF 8F, Type 1\", \"DB 6B 59 3A 0C, Type 1\", \"F1 C2 1C 3A FC, Type 1\", \"31 19 64 3D 10, Type 2\", \"98 2C 1A AA 87, Type 1\", \"A2 D7 D0 A4 2A, Type 1\", \"D7 FC 44 05 CA, Type 2\", \"8A A0 53 AC 37, Type inconnu\", \"02 88 A7 94 50, Type 2\", \"64 0B 1B 0A 45, Type 2\", \"8A 77 B8 09 AD, Type 2\", \"51 B7 6E C2 FD, Type 2\", \"A4 03 5A F0 57, Type 2\", \"02 92 7B FF E6, Type 1\", \"90 A6 58 8A AD, Type 2\", \"F5 E4 FD A4 9F, Type 2\", \"06 25 B6 B7 F5, Type 1\", \"47 09 1C 5F 94, Type inconnu\", \"76 8F 56 DE 15, Type 2\", \"3D F6 5A B4 9D, Type 2\", \"3F 34 F5 32 80, Type inconnu\", \"A6 FD C4 C0 69, Type 2\", \"4F 9C 21 D3 31, Type 2\", \"4B 6C 17 74 29, Type inconnu\", \"94 EB 19 B7 18, Type 2\", \"12 A8 8F 3F 67, Type inconnu\", \"19 01 73 04 E2, Type 2\", \"A2 C1 35 C2 8C, Type 2\", \"0F 30 93 5E 0E, Type 2\", \"81 DB 14 CC 21, Type inconnu\", \"CA A2 77 FC 22, Type 2\", \"96 B8 5B 6F 8F, Type inconnu\", \"96 DD DC FE E3, Type 2\", \"21 36 06 E2 38, Type 2\", \"B7 CA E8 BC 99, Type 2\", \"3E C6 4C 31 8B, Type inconnu\", \"EF 4A CF 20 AF, Type 2\"], \"marker\": {\"color\": [\"#33ffc9\", \"#33ffc9\", \"#C5C5C5\", \"#33ffc9\", \"#33ffc9\", \"#33ffc9\", \"#33ffc9\", \"#B3D9FF\", \"#B3D9FF\", \"#C5C5C5\", \"#33ffc9\", \"#33ffc9\", \"#33ffc9\", \"#C5C5C5\", \"#33ffc9\", \"#C5C5C5\", \"#33ffc9\", \"#33ffc9\", \"#33ffc9\", \"#33ffc9\", \"#33ffc9\", \"#33ffc9\", \"#B3D9FF\", \"#33ffc9\", \"#33ffc9\", \"#B3D9FF\", \"#C5C5C5\", \"#B3D9FF\", \"#B3D9FF\", \"#B3D9FF\", \"#B3D9FF\", \"#B3D9FF\", \"#33ffc9\", \"#B3D9FF\", \"#B3D9FF\", \"#33ffc9\", \"#C5C5C5\", \"#B3D9FF\", \"#B3D9FF\", \"#C5C5C5\", \"#B3D9FF\", \"#B3D9FF\", \"#C5C5C5\", \"#B3D9FF\", \"#C5C5C5\", \"#B3D9FF\", \"#B3D9FF\", \"#B3D9FF\", \"#C5C5C5\", \"#B3D9FF\", \"#C5C5C5\", \"#B3D9FF\", \"#B3D9FF\", \"#B3D9FF\", \"#C5C5C5\", \"#B3D9FF\"], \"size\": 10}, \"mode\": \"markers+text\", \"type\": \"scatter\", \"x\": [18.0, 19.0, 20.0, 20.0, 21.0, 23.0, 25.0, 25.0, 26.0, 27.0, 27.0, 28.0, 28.0, 28.0, 28.0, 30.0, 30.0, 31.0, 31.0, 32.0, 34.0, 34.0, 35.0, 35.0, 36.0, 36.0, 37.0, 38.0, 38.0, 38.0, 40.0, 40.0, 41.0, 42.0, 43.0, 44.0, 44.0, 45.0, 46.0, 47.0, 48.0, 52.0, 55.0, 57.0, 57.0, 59.0, 59.0, 59.0, 60.0, 60.0, 62.0, 64.0, 67.0, 72.0, 74.0, 74.0], \"xaxis\": \"x5\", \"y\": [1.0, 18.0, 14.0, 3.0, 42.0, 50.0, 2.0, 34.0, 18.0, 50.0, null, 30.0, 0.0, 5.0, 10.0, 7.0, 5.0, 18.0, 3.0, 30.0, 2.0, 70.0, 23.0, 30.0, 23.0, 42.0, 63.0, 34.0, 82.0, 42.0, 87.0, 10.0, null, 1.0, 30.0, 10.0, 2.0, 34.0, 30.0, 14.0, 30.0, null, null, 30.0, null, 1.0, null, null, 23.0, null, null, null, null, null, null, null], \"yaxis\": \"y5\"}, {\"hovertext\": [\"EF 2E 22 E0 EA, Type 1\", \"B6 A4 CD 3A 81, Type 1\", \"76 A2 26 6F C7, Type inconnu\", \"C2 C3 05 A8 4B, Type 1\", \"39 CA BD 3C 82, Type 1\", \"7B DE 78 5B F6, Type 1\", \"9B 8E 44 F8 FF, Type 1\", \"EA 6F FF DE 42, Type 2\", \"90 01 09 71 F0, Type 2\", \"39 35 88 38 7B, Type inconnu\", \"35 86 13 56 24, Type 1\", \"7D 76 3D FC 91, Type 1\", \"73 EC 1B D7 9B, Type 1\", \"81 03 8C 07 58, Type inconnu\", \"AB A5 ED 43 8B, Type 1\", \"48 84 25 4A E0, Type inconnu\", \"01 83 17 5E 89, Type 1\", \"B9 5D 22 14 86, Type 1\", \"A1 54 32 B1 53, Type 1\", \"FD 11 B7 CF 8F, Type 1\", \"DB 6B 59 3A 0C, Type 1\", \"F1 C2 1C 3A FC, Type 1\", \"31 19 64 3D 10, Type 2\", \"98 2C 1A AA 87, Type 1\", \"A2 D7 D0 A4 2A, Type 1\", \"D7 FC 44 05 CA, Type 2\", \"8A A0 53 AC 37, Type inconnu\", \"02 88 A7 94 50, Type 2\", \"64 0B 1B 0A 45, Type 2\", \"8A 77 B8 09 AD, Type 2\", \"51 B7 6E C2 FD, Type 2\", \"A4 03 5A F0 57, Type 2\", \"02 92 7B FF E6, Type 1\", \"90 A6 58 8A AD, Type 2\", \"F5 E4 FD A4 9F, Type 2\", \"06 25 B6 B7 F5, Type 1\", \"47 09 1C 5F 94, Type inconnu\", \"76 8F 56 DE 15, Type 2\", \"3D F6 5A B4 9D, Type 2\", \"3F 34 F5 32 80, Type inconnu\", \"A6 FD C4 C0 69, Type 2\", \"4F 9C 21 D3 31, Type 2\", \"4B 6C 17 74 29, Type inconnu\", \"94 EB 19 B7 18, Type 2\", \"12 A8 8F 3F 67, Type inconnu\", \"19 01 73 04 E2, Type 2\", \"A2 C1 35 C2 8C, Type 2\", \"0F 30 93 5E 0E, Type 2\", \"81 DB 14 CC 21, Type inconnu\", \"CA A2 77 FC 22, Type 2\", \"96 B8 5B 6F 8F, Type inconnu\", \"96 DD DC FE E3, Type 2\", \"21 36 06 E2 38, Type 2\", \"B7 CA E8 BC 99, Type 2\", \"3E C6 4C 31 8B, Type inconnu\", \"EF 4A CF 20 AF, Type 2\"], \"marker\": {\"color\": [\"#33ffc9\", \"#33ffc9\", \"#C5C5C5\", \"#33ffc9\", \"#33ffc9\", \"#33ffc9\", \"#33ffc9\", \"#B3D9FF\", \"#B3D9FF\", \"#C5C5C5\", \"#33ffc9\", \"#33ffc9\", \"#33ffc9\", \"#C5C5C5\", \"#33ffc9\", \"#C5C5C5\", \"#33ffc9\", \"#33ffc9\", \"#33ffc9\", \"#33ffc9\", \"#33ffc9\", \"#33ffc9\", \"#B3D9FF\", \"#33ffc9\", \"#33ffc9\", \"#B3D9FF\", \"#C5C5C5\", \"#B3D9FF\", \"#B3D9FF\", \"#B3D9FF\", \"#B3D9FF\", \"#B3D9FF\", \"#33ffc9\", \"#B3D9FF\", \"#B3D9FF\", \"#33ffc9\", \"#C5C5C5\", \"#B3D9FF\", \"#B3D9FF\", \"#C5C5C5\", \"#B3D9FF\", \"#B3D9FF\", \"#C5C5C5\", \"#B3D9FF\", \"#C5C5C5\", \"#B3D9FF\", \"#B3D9FF\", \"#B3D9FF\", \"#C5C5C5\", \"#B3D9FF\", \"#C5C5C5\", \"#B3D9FF\", \"#B3D9FF\", \"#B3D9FF\", \"#C5C5C5\", \"#B3D9FF\"], \"size\": 10}, \"mode\": \"markers+text\", \"type\": \"scatter\", \"x\": [18.0, 19.0, 20.0, 20.0, 21.0, 23.0, 25.0, 25.0, 26.0, 27.0, 27.0, 28.0, 28.0, 28.0, 28.0, 30.0, 30.0, 31.0, 31.0, 32.0, 34.0, 34.0, 35.0, 35.0, 36.0, 36.0, 37.0, 38.0, 38.0, 38.0, 40.0, 40.0, 41.0, 42.0, 43.0, 44.0, 44.0, 45.0, 46.0, 47.0, 48.0, 52.0, 55.0, 57.0, 57.0, 59.0, 59.0, 59.0, 60.0, 60.0, 62.0, 64.0, 67.0, 72.0, 74.0, 74.0], \"xaxis\": \"x6\", \"y\": [61.0, 79.0, 77.0, 66.0, 88.0, 91.0, 64.0, 86.0, 79.0, 91.0, null, 84.0, 51.0, 69.0, 74.0, 72.0, 69.0, 79.0, 66.0, 84.0, 64.0, 98.0, 81.0, 84.0, 81.0, 88.0, 95.0, 86.0, 103.0, 88.0, 106.0, 74.0, null, 59.0, 84.0, 74.0, 64.0, 86.0, 84.0, 77.0, 84.0, null, null, 84.0, null, 51.0, null, null, 81.0, null, null, null, null, null, null, null], \"yaxis\": \"y6\"}, {\"hovertext\": [\"EF 2E 22 E0 EA, Type 1\", \"B6 A4 CD 3A 81, Type 1\", \"76 A2 26 6F C7, Type inconnu\", \"C2 C3 05 A8 4B, Type 1\", \"39 CA BD 3C 82, Type 1\", \"7B DE 78 5B F6, Type 1\", \"9B 8E 44 F8 FF, Type 1\", \"EA 6F FF DE 42, Type 2\", \"90 01 09 71 F0, Type 2\", \"39 35 88 38 7B, Type inconnu\", \"35 86 13 56 24, Type 1\", \"7D 76 3D FC 91, Type 1\", \"73 EC 1B D7 9B, Type 1\", \"81 03 8C 07 58, Type inconnu\", \"AB A5 ED 43 8B, Type 1\", \"48 84 25 4A E0, Type inconnu\", \"01 83 17 5E 89, Type 1\", \"B9 5D 22 14 86, Type 1\", \"A1 54 32 B1 53, Type 1\", \"FD 11 B7 CF 8F, Type 1\", \"DB 6B 59 3A 0C, Type 1\", \"F1 C2 1C 3A FC, Type 1\", \"31 19 64 3D 10, Type 2\", \"98 2C 1A AA 87, Type 1\", \"A2 D7 D0 A4 2A, Type 1\", \"D7 FC 44 05 CA, Type 2\", \"8A A0 53 AC 37, Type inconnu\", \"02 88 A7 94 50, Type 2\", \"64 0B 1B 0A 45, Type 2\", \"8A 77 B8 09 AD, Type 2\", \"51 B7 6E C2 FD, Type 2\", \"A4 03 5A F0 57, Type 2\", \"02 92 7B FF E6, Type 1\", \"90 A6 58 8A AD, Type 2\", \"F5 E4 FD A4 9F, Type 2\", \"06 25 B6 B7 F5, Type 1\", \"47 09 1C 5F 94, Type inconnu\", \"76 8F 56 DE 15, Type 2\", \"3D F6 5A B4 9D, Type 2\", \"3F 34 F5 32 80, Type inconnu\", \"A6 FD C4 C0 69, Type 2\", \"4F 9C 21 D3 31, Type 2\", \"4B 6C 17 74 29, Type inconnu\", \"94 EB 19 B7 18, Type 2\", \"12 A8 8F 3F 67, Type inconnu\", \"19 01 73 04 E2, Type 2\", \"A2 C1 35 C2 8C, Type 2\", \"0F 30 93 5E 0E, Type 2\", \"81 DB 14 CC 21, Type inconnu\", \"CA A2 77 FC 22, Type 2\", \"96 B8 5B 6F 8F, Type inconnu\", \"96 DD DC FE E3, Type 2\", \"21 36 06 E2 38, Type 2\", \"B7 CA E8 BC 99, Type 2\", \"3E C6 4C 31 8B, Type inconnu\", \"EF 4A CF 20 AF, Type 2\"], \"marker\": {\"color\": [\"#33ffc9\", \"#33ffc9\", \"#C5C5C5\", \"#33ffc9\", \"#33ffc9\", \"#33ffc9\", \"#33ffc9\", \"#B3D9FF\", \"#B3D9FF\", \"#C5C5C5\", \"#33ffc9\", \"#33ffc9\", \"#33ffc9\", \"#C5C5C5\", \"#33ffc9\", \"#C5C5C5\", \"#33ffc9\", \"#33ffc9\", \"#33ffc9\", \"#33ffc9\", \"#33ffc9\", \"#33ffc9\", \"#B3D9FF\", \"#33ffc9\", \"#33ffc9\", \"#B3D9FF\", \"#C5C5C5\", \"#B3D9FF\", \"#B3D9FF\", \"#B3D9FF\", \"#B3D9FF\", \"#B3D9FF\", \"#33ffc9\", \"#B3D9FF\", \"#B3D9FF\", \"#33ffc9\", \"#C5C5C5\", \"#B3D9FF\", \"#B3D9FF\", \"#C5C5C5\", \"#B3D9FF\", \"#B3D9FF\", \"#C5C5C5\", \"#B3D9FF\", \"#C5C5C5\", \"#B3D9FF\", \"#B3D9FF\", \"#B3D9FF\", \"#C5C5C5\", \"#B3D9FF\", \"#C5C5C5\", \"#B3D9FF\", \"#B3D9FF\", \"#B3D9FF\", \"#C5C5C5\", \"#B3D9FF\"], \"size\": 10}, \"mode\": \"markers+text\", \"type\": \"scatter\", \"x\": [18.0, 19.0, 20.0, 20.0, 21.0, 23.0, 25.0, 25.0, 26.0, 27.0, 27.0, 28.0, 28.0, 28.0, 28.0, 30.0, 30.0, 31.0, 31.0, 32.0, 34.0, 34.0, 35.0, 35.0, 36.0, 36.0, 37.0, 38.0, 38.0, 38.0, 40.0, 40.0, 41.0, 42.0, 43.0, 44.0, 44.0, 45.0, 46.0, 47.0, 48.0, 52.0, 55.0, 57.0, 57.0, 59.0, 59.0, 59.0, 60.0, 60.0, 62.0, 64.0, 67.0, 72.0, 74.0, 74.0], \"xaxis\": \"x7\", \"y\": [79.0, 97.0, 95.0, 84.0, 106.0, 109.0, 82.0, 104.0, 87.0, 109.0, null, 102.0, 70.0, 87.0, 92.0, 90.0, 87.0, 97.0, 84.0, 102.0, 82.0, 116.0, 99.0, 102.0, 99.0, 106.0, 113.0, 104.0, 121.0, 106.0, 124.0, 92.0, null, 77.0, 102.0, 92.0, 82.0, 104.0, 102.0, 95.0, 102.0, null, null, 102.0, null, 70.0, null, null, 99.0, null, null, null, null, null, null, null], \"yaxis\": \"y7\"}],\n",
       "                        {\"annotations\": [{\"font\": {\"size\": 16}, \"showarrow\": false, \"text\": \"Note standard Symboles\", \"x\": 0.225, \"xanchor\": \"center\", \"xref\": \"paper\", \"y\": 1.0, \"yanchor\": \"bottom\", \"yref\": \"paper\"}, {\"font\": {\"size\": 16}, \"showarrow\": false, \"text\": \"Note standard Code\", \"x\": 0.775, \"xanchor\": \"center\", \"xref\": \"paper\", \"y\": 1.0, \"yanchor\": \"bottom\", \"yref\": \"paper\"}, {\"font\": {\"size\": 16}, \"showarrow\": false, \"text\": \"Total des notes standards IVT\", \"x\": 0.225, \"xanchor\": \"center\", \"xref\": \"paper\", \"y\": 0.74, \"yanchor\": \"bottom\", \"yref\": \"paper\"}, {\"font\": {\"size\": 16}, \"showarrow\": false, \"text\": \"Note composite IVT\", \"x\": 0.775, \"xanchor\": \"center\", \"xref\": \"paper\", \"y\": 0.74, \"yanchor\": \"bottom\", \"yref\": \"paper\"}, {\"font\": {\"size\": 16}, \"showarrow\": false, \"text\": \"Rang percentile IVT\", \"x\": 0.225, \"xanchor\": \"center\", \"xref\": \"paper\", \"y\": 0.48, \"yanchor\": \"bottom\", \"yref\": \"paper\"}, {\"font\": {\"size\": 16}, \"showarrow\": false, \"text\": \"Note \\u00e9cart type inf\\u00e9rieure IVT\", \"x\": 0.775, \"xanchor\": \"center\", \"xref\": \"paper\", \"y\": 0.48, \"yanchor\": \"bottom\", \"yref\": \"paper\"}, {\"font\": {\"size\": 16}, \"showarrow\": false, \"text\": \"Note \\u00e9cart type sup\\u00e9rieure IVT\", \"x\": 0.225, \"xanchor\": \"center\", \"xref\": \"paper\", \"y\": 0.22, \"yanchor\": \"bottom\", \"yref\": \"paper\"}, {\"font\": {\"size\": 16}, \"showarrow\": false, \"text\": \"\\u00c2ge\", \"x\": 0.5, \"xanchor\": \"center\", \"xref\": \"paper\", \"y\": 0, \"yanchor\": \"top\", \"yref\": \"paper\", \"yshift\": -30}, {\"font\": {\"size\": 16}, \"showarrow\": false, \"text\": \"Score\", \"textangle\": -90, \"x\": 0, \"xanchor\": \"right\", \"xref\": \"paper\", \"xshift\": -40, \"y\": 0.5, \"yanchor\": \"middle\", \"yref\": \"paper\"}], \"height\": 1500, \"showlegend\": false, \"template\": {\"data\": {\"bar\": [{\"error_x\": {\"color\": \"#2a3f5f\"}, \"error_y\": {\"color\": \"#2a3f5f\"}, \"marker\": {\"line\": {\"color\": \"#E5ECF6\", \"width\": 0.5}}, \"type\": \"bar\"}], \"barpolar\": [{\"marker\": {\"line\": {\"color\": \"#E5ECF6\", \"width\": 0.5}}, \"type\": \"barpolar\"}], \"carpet\": [{\"aaxis\": {\"endlinecolor\": \"#2a3f5f\", \"gridcolor\": \"white\", \"linecolor\": \"white\", \"minorgridcolor\": \"white\", \"startlinecolor\": \"#2a3f5f\"}, \"baxis\": {\"endlinecolor\": \"#2a3f5f\", \"gridcolor\": \"white\", \"linecolor\": \"white\", \"minorgridcolor\": \"white\", \"startlinecolor\": \"#2a3f5f\"}, \"type\": \"carpet\"}], \"choropleth\": [{\"colorbar\": {\"outlinewidth\": 0, \"ticks\": \"\"}, \"type\": \"choropleth\"}], \"contour\": [{\"colorbar\": {\"outlinewidth\": 0, \"ticks\": \"\"}, \"colorscale\": [[0.0, \"#0d0887\"], [0.1111111111111111, \"#46039f\"], [0.2222222222222222, \"#7201a8\"], [0.3333333333333333, \"#9c179e\"], [0.4444444444444444, \"#bd3786\"], [0.5555555555555556, \"#d8576b\"], [0.6666666666666666, \"#ed7953\"], [0.7777777777777778, \"#fb9f3a\"], [0.8888888888888888, \"#fdca26\"], [1.0, \"#f0f921\"]], \"type\": \"contour\"}], \"contourcarpet\": [{\"colorbar\": {\"outlinewidth\": 0, \"ticks\": \"\"}, \"type\": \"contourcarpet\"}], \"heatmap\": [{\"colorbar\": {\"outlinewidth\": 0, \"ticks\": \"\"}, \"colorscale\": [[0.0, \"#0d0887\"], [0.1111111111111111, \"#46039f\"], [0.2222222222222222, \"#7201a8\"], [0.3333333333333333, \"#9c179e\"], [0.4444444444444444, \"#bd3786\"], [0.5555555555555556, \"#d8576b\"], [0.6666666666666666, \"#ed7953\"], [0.7777777777777778, \"#fb9f3a\"], [0.8888888888888888, \"#fdca26\"], [1.0, \"#f0f921\"]], \"type\": \"heatmap\"}], \"heatmapgl\": [{\"colorbar\": {\"outlinewidth\": 0, \"ticks\": \"\"}, \"colorscale\": [[0.0, \"#0d0887\"], [0.1111111111111111, \"#46039f\"], [0.2222222222222222, \"#7201a8\"], [0.3333333333333333, \"#9c179e\"], [0.4444444444444444, \"#bd3786\"], [0.5555555555555556, \"#d8576b\"], [0.6666666666666666, \"#ed7953\"], [0.7777777777777778, \"#fb9f3a\"], [0.8888888888888888, \"#fdca26\"], [1.0, \"#f0f921\"]], \"type\": \"heatmapgl\"}], \"histogram\": [{\"marker\": {\"colorbar\": {\"outlinewidth\": 0, \"ticks\": \"\"}}, \"type\": \"histogram\"}], \"histogram2d\": [{\"colorbar\": {\"outlinewidth\": 0, \"ticks\": \"\"}, \"colorscale\": [[0.0, \"#0d0887\"], [0.1111111111111111, \"#46039f\"], [0.2222222222222222, \"#7201a8\"], [0.3333333333333333, \"#9c179e\"], [0.4444444444444444, \"#bd3786\"], [0.5555555555555556, \"#d8576b\"], [0.6666666666666666, \"#ed7953\"], [0.7777777777777778, \"#fb9f3a\"], [0.8888888888888888, \"#fdca26\"], [1.0, \"#f0f921\"]], \"type\": \"histogram2d\"}], \"histogram2dcontour\": [{\"colorbar\": {\"outlinewidth\": 0, \"ticks\": \"\"}, \"colorscale\": [[0.0, \"#0d0887\"], [0.1111111111111111, \"#46039f\"], [0.2222222222222222, \"#7201a8\"], [0.3333333333333333, \"#9c179e\"], [0.4444444444444444, \"#bd3786\"], [0.5555555555555556, \"#d8576b\"], [0.6666666666666666, \"#ed7953\"], [0.7777777777777778, \"#fb9f3a\"], [0.8888888888888888, \"#fdca26\"], [1.0, \"#f0f921\"]], \"type\": \"histogram2dcontour\"}], \"mesh3d\": [{\"colorbar\": {\"outlinewidth\": 0, \"ticks\": \"\"}, \"type\": \"mesh3d\"}], \"parcoords\": [{\"line\": {\"colorbar\": {\"outlinewidth\": 0, \"ticks\": \"\"}}, \"type\": \"parcoords\"}], \"pie\": [{\"automargin\": true, \"type\": \"pie\"}], \"scatter\": [{\"marker\": {\"colorbar\": {\"outlinewidth\": 0, \"ticks\": \"\"}}, \"type\": \"scatter\"}], \"scatter3d\": [{\"line\": {\"colorbar\": {\"outlinewidth\": 0, \"ticks\": \"\"}}, \"marker\": {\"colorbar\": {\"outlinewidth\": 0, \"ticks\": \"\"}}, \"type\": \"scatter3d\"}], \"scattercarpet\": [{\"marker\": {\"colorbar\": {\"outlinewidth\": 0, \"ticks\": \"\"}}, \"type\": \"scattercarpet\"}], \"scattergeo\": [{\"marker\": {\"colorbar\": {\"outlinewidth\": 0, \"ticks\": \"\"}}, \"type\": \"scattergeo\"}], \"scattergl\": [{\"marker\": {\"colorbar\": {\"outlinewidth\": 0, \"ticks\": \"\"}}, \"type\": \"scattergl\"}], \"scattermapbox\": [{\"marker\": {\"colorbar\": {\"outlinewidth\": 0, \"ticks\": \"\"}}, \"type\": \"scattermapbox\"}], \"scatterpolar\": [{\"marker\": {\"colorbar\": {\"outlinewidth\": 0, \"ticks\": \"\"}}, \"type\": \"scatterpolar\"}], \"scatterpolargl\": [{\"marker\": {\"colorbar\": {\"outlinewidth\": 0, \"ticks\": \"\"}}, \"type\": \"scatterpolargl\"}], \"scatterternary\": [{\"marker\": {\"colorbar\": {\"outlinewidth\": 0, \"ticks\": \"\"}}, \"type\": \"scatterternary\"}], \"surface\": [{\"colorbar\": {\"outlinewidth\": 0, \"ticks\": \"\"}, \"colorscale\": [[0.0, \"#0d0887\"], [0.1111111111111111, \"#46039f\"], [0.2222222222222222, \"#7201a8\"], [0.3333333333333333, \"#9c179e\"], [0.4444444444444444, \"#bd3786\"], [0.5555555555555556, \"#d8576b\"], [0.6666666666666666, \"#ed7953\"], [0.7777777777777778, \"#fb9f3a\"], [0.8888888888888888, \"#fdca26\"], [1.0, \"#f0f921\"]], \"type\": \"surface\"}], \"table\": [{\"cells\": {\"fill\": {\"color\": \"#EBF0F8\"}, \"line\": {\"color\": \"white\"}}, \"header\": {\"fill\": {\"color\": \"#C8D4E3\"}, \"line\": {\"color\": \"white\"}}, \"type\": \"table\"}]}, \"layout\": {\"annotationdefaults\": {\"arrowcolor\": \"#2a3f5f\", \"arrowhead\": 0, \"arrowwidth\": 1}, \"coloraxis\": {\"colorbar\": {\"outlinewidth\": 0, \"ticks\": \"\"}}, \"colorscale\": {\"diverging\": [[0, \"#8e0152\"], [0.1, \"#c51b7d\"], [0.2, \"#de77ae\"], [0.3, \"#f1b6da\"], [0.4, \"#fde0ef\"], [0.5, \"#f7f7f7\"], [0.6, \"#e6f5d0\"], [0.7, \"#b8e186\"], [0.8, \"#7fbc41\"], [0.9, \"#4d9221\"], [1, \"#276419\"]], \"sequential\": [[0.0, \"#0d0887\"], [0.1111111111111111, \"#46039f\"], [0.2222222222222222, \"#7201a8\"], [0.3333333333333333, \"#9c179e\"], [0.4444444444444444, \"#bd3786\"], [0.5555555555555556, \"#d8576b\"], [0.6666666666666666, \"#ed7953\"], [0.7777777777777778, \"#fb9f3a\"], [0.8888888888888888, \"#fdca26\"], [1.0, \"#f0f921\"]], \"sequentialminus\": [[0.0, \"#0d0887\"], [0.1111111111111111, \"#46039f\"], [0.2222222222222222, \"#7201a8\"], [0.3333333333333333, \"#9c179e\"], [0.4444444444444444, \"#bd3786\"], [0.5555555555555556, \"#d8576b\"], [0.6666666666666666, \"#ed7953\"], [0.7777777777777778, \"#fb9f3a\"], [0.8888888888888888, \"#fdca26\"], [1.0, \"#f0f921\"]]}, \"colorway\": [\"#636efa\", \"#EF553B\", \"#00cc96\", \"#ab63fa\", \"#FFA15A\", \"#19d3f3\", \"#FF6692\", \"#B6E880\", \"#FF97FF\", \"#FECB52\"], \"font\": {\"color\": \"#2a3f5f\"}, \"geo\": {\"bgcolor\": \"white\", \"lakecolor\": \"white\", \"landcolor\": \"#E5ECF6\", \"showlakes\": true, \"showland\": true, \"subunitcolor\": \"white\"}, \"hoverlabel\": {\"align\": \"left\"}, \"hovermode\": \"closest\", \"mapbox\": {\"style\": \"light\"}, \"paper_bgcolor\": \"white\", \"plot_bgcolor\": \"#E5ECF6\", \"polar\": {\"angularaxis\": {\"gridcolor\": \"white\", \"linecolor\": \"white\", \"ticks\": \"\"}, \"bgcolor\": \"#E5ECF6\", \"radialaxis\": {\"gridcolor\": \"white\", \"linecolor\": \"white\", \"ticks\": \"\"}}, \"scene\": {\"xaxis\": {\"backgroundcolor\": \"#E5ECF6\", \"gridcolor\": \"white\", \"gridwidth\": 2, \"linecolor\": \"white\", \"showbackground\": true, \"ticks\": \"\", \"zerolinecolor\": \"white\"}, \"yaxis\": {\"backgroundcolor\": \"#E5ECF6\", \"gridcolor\": \"white\", \"gridwidth\": 2, \"linecolor\": \"white\", \"showbackground\": true, \"ticks\": \"\", \"zerolinecolor\": \"white\"}, \"zaxis\": {\"backgroundcolor\": \"#E5ECF6\", \"gridcolor\": \"white\", \"gridwidth\": 2, \"linecolor\": \"white\", \"showbackground\": true, \"ticks\": \"\", \"zerolinecolor\": \"white\"}}, \"shapedefaults\": {\"line\": {\"color\": \"#2a3f5f\"}}, \"ternary\": {\"aaxis\": {\"gridcolor\": \"white\", \"linecolor\": \"white\", \"ticks\": \"\"}, \"baxis\": {\"gridcolor\": \"white\", \"linecolor\": \"white\", \"ticks\": \"\"}, \"bgcolor\": \"#E5ECF6\", \"caxis\": {\"gridcolor\": \"white\", \"linecolor\": \"white\", \"ticks\": \"\"}}, \"title\": {\"x\": 0.05}, \"xaxis\": {\"automargin\": true, \"gridcolor\": \"white\", \"linecolor\": \"white\", \"ticks\": \"\", \"title\": {\"standoff\": 15}, \"zerolinecolor\": \"white\", \"zerolinewidth\": 2}, \"yaxis\": {\"automargin\": true, \"gridcolor\": \"white\", \"linecolor\": \"white\", \"ticks\": \"\", \"title\": {\"standoff\": 15}, \"zerolinecolor\": \"white\", \"zerolinewidth\": 2}}}, \"width\": 800, \"xaxis\": {\"anchor\": \"y\", \"domain\": [0.0, 0.45]}, \"xaxis2\": {\"anchor\": \"y2\", \"domain\": [0.55, 1.0]}, \"xaxis3\": {\"anchor\": \"y3\", \"domain\": [0.0, 0.45]}, \"xaxis4\": {\"anchor\": \"y4\", \"domain\": [0.55, 1.0]}, \"xaxis5\": {\"anchor\": \"y5\", \"domain\": [0.0, 0.45]}, \"xaxis6\": {\"anchor\": \"y6\", \"domain\": [0.55, 1.0]}, \"xaxis7\": {\"anchor\": \"y7\", \"domain\": [0.0, 0.45]}, \"xaxis8\": {\"anchor\": \"y8\", \"domain\": [0.55, 1.0]}, \"yaxis\": {\"anchor\": \"x\", \"domain\": [0.78, 1.0]}, \"yaxis2\": {\"anchor\": \"x2\", \"domain\": [0.78, 1.0]}, \"yaxis3\": {\"anchor\": \"x3\", \"domain\": [0.52, 0.74]}, \"yaxis4\": {\"anchor\": \"x4\", \"domain\": [0.52, 0.74]}, \"yaxis5\": {\"anchor\": \"x5\", \"domain\": [0.26, 0.48]}, \"yaxis6\": {\"anchor\": \"x6\", \"domain\": [0.26, 0.48]}, \"yaxis7\": {\"anchor\": \"x7\", \"domain\": [0.0, 0.22]}, \"yaxis8\": {\"anchor\": \"x8\", \"domain\": [0.0, 0.22]}},\n",
       "                        {\"responsive\": true}\n",
       "                    ).then(function(){\n",
       "                            \n",
       "var gd = document.getElementById('e92ae3b9-3604-46d6-8980-ca41ac242b2f');\n",
       "var x = new MutationObserver(function (mutations, observer) {{\n",
       "        var display = window.getComputedStyle(gd).display;\n",
       "        if (!display || display === 'none') {{\n",
       "            console.log([gd, 'removed!']);\n",
       "            Plotly.purge(gd);\n",
       "            observer.disconnect();\n",
       "        }}\n",
       "}});\n",
       "\n",
       "// Listen for the removal of the full notebook cells\n",
       "var notebookContainer = gd.closest('#notebook-container');\n",
       "if (notebookContainer) {{\n",
       "    x.observe(notebookContainer, {childList: true});\n",
       "}}\n",
       "\n",
       "// Listen for the clearing of the current output cell\n",
       "var outputEl = gd.closest('.output');\n",
       "if (outputEl) {{\n",
       "    x.observe(outputEl, {childList: true});\n",
       "}}\n",
       "\n",
       "                        })\n",
       "                };\n",
       "                });\n",
       "            </script>\n",
       "        </div>"
      ]
     },
     "metadata": {},
     "output_type": "display_data"
    }
   ],
   "source": [
    "fig_wais_sub.add_trace(go.Scatter(x= df_wais_sub['age'], y=df_wais_sub[subplot_titles[4]], mode=\"markers+text\",\n",
    "            marker={'size': 10, \"color\": df_wais_sub['Type_color'] },\n",
    "            hovertext= df_wais_sub['ID_SECONDAIRE'] +\", \"+ df_wais_sub['Type']),\n",
    "            row=1, col=1)\n",
    "\n",
    "fig_wais_sub.add_trace(go.Scatter(x= df_wais_sub['age'], y=df_wais_sub[subplot_titles[5]], mode=\"markers+text\",\n",
    "            marker={'size': 10, \"color\": df_wais_sub['Type_color'] },\n",
    "            hovertext= df_wais_sub['ID_SECONDAIRE'] +\", \"+ df_wais_sub['Type']),\n",
    "              row=1, col=2)\n",
    "\n",
    "fig_wais_sub.add_trace(go.Scatter(x= df_wais_sub['age'], y=df_wais_sub[subplot_titles[6]], mode=\"markers+text\",\n",
    "            marker={'size': 10, \"color\": df_wais_sub['Type_color'] },\n",
    "            hovertext= df_wais_sub['ID_SECONDAIRE'] +\", \"+ df_wais_sub['Type']),\n",
    "              row=2, col=1)\n",
    "\n",
    "fig_wais_sub.add_trace(go.Scatter(x= df_wais_sub['age'], y=df_wais_sub[subplot_titles[7]], mode=\"markers+text\",\n",
    "            marker={'size': 10, \"color\": df_wais_sub['Type_color'] },\n",
    "            hovertext= df_wais_sub['ID_SECONDAIRE'] +\", \"+ df_wais_sub['Type']),\n",
    "            row=2, col=2)\n",
    "\n",
    "fig_wais_sub.add_trace(go.Scatter(x= df_wais_sub['age'], y=df_wais_sub[subplot_titles[8]], mode=\"markers+text\",\n",
    "            marker={'size': 10, \"color\": df_wais_sub['Type_color'] },\n",
    "            hovertext= df_wais_sub['ID_SECONDAIRE'] +\", \"+ df_wais_sub['Type']),\n",
    "            row=3, col=1)\n",
    "                                                             \n",
    "fig_wais_sub.add_trace(go.Scatter(x= df_wais_sub['age'], y=df_wais_sub[subplot_titles[9]], mode=\"markers+text\",\n",
    "            marker={'size': 10, \"color\": df_wais_sub['Type_color'] },\n",
    "            hovertext= df_wais_sub['ID_SECONDAIRE'] +\", \"+ df_wais_sub['Type']),\n",
    "            row=3, col=2)\n",
    "    \n",
    "fig_wais_sub.add_trace(go.Scatter(x= df_wais_sub['age'], y=df_wais_sub[subplot_titles[10]], mode=\"markers+text\",\n",
    "            marker={'size': 10, \"color\": df_wais_sub['Type_color'] },\n",
    "            hovertext= df_wais_sub['ID_SECONDAIRE'] +\", \"+ df_wais_sub['Type']),\n",
    "            row=4, col=1)\n",
    "    \n",
    "fig_wais_sub.update_layout(height=1500, width=800,\n",
    "                   showlegend=False\n",
    "            )"
   ]
  },
  {
   "cell_type": "code",
   "execution_count": 447,
   "metadata": {
    "ExecuteTime": {
     "end_time": "2020-05-13T14:34:05.400640Z",
     "start_time": "2020-05-13T14:34:05.385709Z"
    }
   },
   "outputs": [],
   "source": [
    "df_wais_sub_agg = df_wais_sub.agg(['min', 'max', 'mean', 'median'])\n",
    "#\n",
    "df_wais_sub_agg.index.name = \"Aggrégation\"\n",
    "df_wais_sub_agg.reset_index(inplace=True)\n",
    "#\n",
    "df_wais_sub_agg = df_wais_sub_agg.replace({'Aggrégation' : {\"min\":\"Min\",\"max\":\"Max\",\"mean\":\"Moyenne\", \"median\":\"Médiane\"}})"
   ]
  },
  {
   "cell_type": "code",
   "execution_count": 448,
   "metadata": {
    "ExecuteTime": {
     "end_time": "2020-05-13T14:34:07.609295Z",
     "start_time": "2020-05-13T14:34:07.605511Z"
    }
   },
   "outputs": [],
   "source": [
    "df_wais_sub_agg = df_wais_sub_agg.drop(columns= ['ID_SECONDAIRE','Type', 'Type_color', 'age' ])"
   ]
  },
  {
   "cell_type": "code",
   "execution_count": 449,
   "metadata": {
    "ExecuteTime": {
     "end_time": "2020-05-13T14:34:08.244140Z",
     "start_time": "2020-05-13T14:34:08.239645Z"
    }
   },
   "outputs": [],
   "source": [
    "df_wais_sub_agg = df_wais_sub_agg.round(2)"
   ]
  },
  {
   "cell_type": "code",
   "execution_count": 450,
   "metadata": {
    "ExecuteTime": {
     "end_time": "2020-05-13T14:34:09.126800Z",
     "start_time": "2020-05-13T14:34:09.119673Z"
    }
   },
   "outputs": [],
   "source": [
    "wais_sub =  go.Table(\n",
    "                header=dict(values=list(df_wais_sub_agg.columns[:]),\n",
    "                align='left'),\n",
    "                cells=dict(values= [df_wais_sub_agg.iloc[:,0], df_wais_sub_agg.iloc[:,1], df_wais_sub_agg.iloc[:,2], df_wais_sub_agg.iloc[:,3]\n",
    "                           , df_wais_sub_agg.iloc[:,4], df_wais_sub_agg.iloc[:,5], df_wais_sub_agg.iloc[:,6], df_wais_sub_agg.iloc[:,7]], align='left'))"
   ]
  },
  {
   "cell_type": "code",
   "execution_count": 451,
   "metadata": {
    "ExecuteTime": {
     "end_time": "2020-05-13T14:34:12.403763Z",
     "start_time": "2020-05-13T14:34:12.291828Z"
    }
   },
   "outputs": [
    {
     "data": {
      "application/vnd.plotly.v1+json": {
       "config": {
        "plotlyServerURL": "https://plot.ly"
       },
       "data": [
        {
         "cells": {
          "align": "left",
          "values": [
           [
            "Min",
            "Max",
            "Moyenne",
            "Médiane"
           ],
           [
            1,
            12,
            7.02,
            8
           ],
           [
            1,
            15,
            7.81,
            8
           ],
           [
            4,
            26,
            14.98,
            16
           ],
           [
            55,
            117,
            86.02,
            89
           ],
           [
            0,
            87,
            25.07,
            23
           ],
           [
            51,
            106,
            78.71,
            81
           ],
           [
            70,
            124,
            96.52,
            99
           ]
          ]
         },
         "header": {
          "align": "left",
          "values": [
           "Aggrégation",
           "Note standard Symboles",
           "Note standard Code",
           "Total des notes standards IVT",
           "Note composite IVT",
           "Rang percentile IVT",
           "Note écart type inférieure IVT",
           "Note écart type supérieure IVT"
          ]
         },
         "type": "table"
        }
       ],
       "layout": {
        "template": {
         "data": {
          "bar": [
           {
            "error_x": {
             "color": "#2a3f5f"
            },
            "error_y": {
             "color": "#2a3f5f"
            },
            "marker": {
             "line": {
              "color": "#E5ECF6",
              "width": 0.5
             }
            },
            "type": "bar"
           }
          ],
          "barpolar": [
           {
            "marker": {
             "line": {
              "color": "#E5ECF6",
              "width": 0.5
             }
            },
            "type": "barpolar"
           }
          ],
          "carpet": [
           {
            "aaxis": {
             "endlinecolor": "#2a3f5f",
             "gridcolor": "white",
             "linecolor": "white",
             "minorgridcolor": "white",
             "startlinecolor": "#2a3f5f"
            },
            "baxis": {
             "endlinecolor": "#2a3f5f",
             "gridcolor": "white",
             "linecolor": "white",
             "minorgridcolor": "white",
             "startlinecolor": "#2a3f5f"
            },
            "type": "carpet"
           }
          ],
          "choropleth": [
           {
            "colorbar": {
             "outlinewidth": 0,
             "ticks": ""
            },
            "type": "choropleth"
           }
          ],
          "contour": [
           {
            "colorbar": {
             "outlinewidth": 0,
             "ticks": ""
            },
            "colorscale": [
             [
              0,
              "#0d0887"
             ],
             [
              0.1111111111111111,
              "#46039f"
             ],
             [
              0.2222222222222222,
              "#7201a8"
             ],
             [
              0.3333333333333333,
              "#9c179e"
             ],
             [
              0.4444444444444444,
              "#bd3786"
             ],
             [
              0.5555555555555556,
              "#d8576b"
             ],
             [
              0.6666666666666666,
              "#ed7953"
             ],
             [
              0.7777777777777778,
              "#fb9f3a"
             ],
             [
              0.8888888888888888,
              "#fdca26"
             ],
             [
              1,
              "#f0f921"
             ]
            ],
            "type": "contour"
           }
          ],
          "contourcarpet": [
           {
            "colorbar": {
             "outlinewidth": 0,
             "ticks": ""
            },
            "type": "contourcarpet"
           }
          ],
          "heatmap": [
           {
            "colorbar": {
             "outlinewidth": 0,
             "ticks": ""
            },
            "colorscale": [
             [
              0,
              "#0d0887"
             ],
             [
              0.1111111111111111,
              "#46039f"
             ],
             [
              0.2222222222222222,
              "#7201a8"
             ],
             [
              0.3333333333333333,
              "#9c179e"
             ],
             [
              0.4444444444444444,
              "#bd3786"
             ],
             [
              0.5555555555555556,
              "#d8576b"
             ],
             [
              0.6666666666666666,
              "#ed7953"
             ],
             [
              0.7777777777777778,
              "#fb9f3a"
             ],
             [
              0.8888888888888888,
              "#fdca26"
             ],
             [
              1,
              "#f0f921"
             ]
            ],
            "type": "heatmap"
           }
          ],
          "heatmapgl": [
           {
            "colorbar": {
             "outlinewidth": 0,
             "ticks": ""
            },
            "colorscale": [
             [
              0,
              "#0d0887"
             ],
             [
              0.1111111111111111,
              "#46039f"
             ],
             [
              0.2222222222222222,
              "#7201a8"
             ],
             [
              0.3333333333333333,
              "#9c179e"
             ],
             [
              0.4444444444444444,
              "#bd3786"
             ],
             [
              0.5555555555555556,
              "#d8576b"
             ],
             [
              0.6666666666666666,
              "#ed7953"
             ],
             [
              0.7777777777777778,
              "#fb9f3a"
             ],
             [
              0.8888888888888888,
              "#fdca26"
             ],
             [
              1,
              "#f0f921"
             ]
            ],
            "type": "heatmapgl"
           }
          ],
          "histogram": [
           {
            "marker": {
             "colorbar": {
              "outlinewidth": 0,
              "ticks": ""
             }
            },
            "type": "histogram"
           }
          ],
          "histogram2d": [
           {
            "colorbar": {
             "outlinewidth": 0,
             "ticks": ""
            },
            "colorscale": [
             [
              0,
              "#0d0887"
             ],
             [
              0.1111111111111111,
              "#46039f"
             ],
             [
              0.2222222222222222,
              "#7201a8"
             ],
             [
              0.3333333333333333,
              "#9c179e"
             ],
             [
              0.4444444444444444,
              "#bd3786"
             ],
             [
              0.5555555555555556,
              "#d8576b"
             ],
             [
              0.6666666666666666,
              "#ed7953"
             ],
             [
              0.7777777777777778,
              "#fb9f3a"
             ],
             [
              0.8888888888888888,
              "#fdca26"
             ],
             [
              1,
              "#f0f921"
             ]
            ],
            "type": "histogram2d"
           }
          ],
          "histogram2dcontour": [
           {
            "colorbar": {
             "outlinewidth": 0,
             "ticks": ""
            },
            "colorscale": [
             [
              0,
              "#0d0887"
             ],
             [
              0.1111111111111111,
              "#46039f"
             ],
             [
              0.2222222222222222,
              "#7201a8"
             ],
             [
              0.3333333333333333,
              "#9c179e"
             ],
             [
              0.4444444444444444,
              "#bd3786"
             ],
             [
              0.5555555555555556,
              "#d8576b"
             ],
             [
              0.6666666666666666,
              "#ed7953"
             ],
             [
              0.7777777777777778,
              "#fb9f3a"
             ],
             [
              0.8888888888888888,
              "#fdca26"
             ],
             [
              1,
              "#f0f921"
             ]
            ],
            "type": "histogram2dcontour"
           }
          ],
          "mesh3d": [
           {
            "colorbar": {
             "outlinewidth": 0,
             "ticks": ""
            },
            "type": "mesh3d"
           }
          ],
          "parcoords": [
           {
            "line": {
             "colorbar": {
              "outlinewidth": 0,
              "ticks": ""
             }
            },
            "type": "parcoords"
           }
          ],
          "pie": [
           {
            "automargin": true,
            "type": "pie"
           }
          ],
          "scatter": [
           {
            "marker": {
             "colorbar": {
              "outlinewidth": 0,
              "ticks": ""
             }
            },
            "type": "scatter"
           }
          ],
          "scatter3d": [
           {
            "line": {
             "colorbar": {
              "outlinewidth": 0,
              "ticks": ""
             }
            },
            "marker": {
             "colorbar": {
              "outlinewidth": 0,
              "ticks": ""
             }
            },
            "type": "scatter3d"
           }
          ],
          "scattercarpet": [
           {
            "marker": {
             "colorbar": {
              "outlinewidth": 0,
              "ticks": ""
             }
            },
            "type": "scattercarpet"
           }
          ],
          "scattergeo": [
           {
            "marker": {
             "colorbar": {
              "outlinewidth": 0,
              "ticks": ""
             }
            },
            "type": "scattergeo"
           }
          ],
          "scattergl": [
           {
            "marker": {
             "colorbar": {
              "outlinewidth": 0,
              "ticks": ""
             }
            },
            "type": "scattergl"
           }
          ],
          "scattermapbox": [
           {
            "marker": {
             "colorbar": {
              "outlinewidth": 0,
              "ticks": ""
             }
            },
            "type": "scattermapbox"
           }
          ],
          "scatterpolar": [
           {
            "marker": {
             "colorbar": {
              "outlinewidth": 0,
              "ticks": ""
             }
            },
            "type": "scatterpolar"
           }
          ],
          "scatterpolargl": [
           {
            "marker": {
             "colorbar": {
              "outlinewidth": 0,
              "ticks": ""
             }
            },
            "type": "scatterpolargl"
           }
          ],
          "scatterternary": [
           {
            "marker": {
             "colorbar": {
              "outlinewidth": 0,
              "ticks": ""
             }
            },
            "type": "scatterternary"
           }
          ],
          "surface": [
           {
            "colorbar": {
             "outlinewidth": 0,
             "ticks": ""
            },
            "colorscale": [
             [
              0,
              "#0d0887"
             ],
             [
              0.1111111111111111,
              "#46039f"
             ],
             [
              0.2222222222222222,
              "#7201a8"
             ],
             [
              0.3333333333333333,
              "#9c179e"
             ],
             [
              0.4444444444444444,
              "#bd3786"
             ],
             [
              0.5555555555555556,
              "#d8576b"
             ],
             [
              0.6666666666666666,
              "#ed7953"
             ],
             [
              0.7777777777777778,
              "#fb9f3a"
             ],
             [
              0.8888888888888888,
              "#fdca26"
             ],
             [
              1,
              "#f0f921"
             ]
            ],
            "type": "surface"
           }
          ],
          "table": [
           {
            "cells": {
             "fill": {
              "color": "#EBF0F8"
             },
             "line": {
              "color": "white"
             }
            },
            "header": {
             "fill": {
              "color": "#C8D4E3"
             },
             "line": {
              "color": "white"
             }
            },
            "type": "table"
           }
          ]
         },
         "layout": {
          "annotationdefaults": {
           "arrowcolor": "#2a3f5f",
           "arrowhead": 0,
           "arrowwidth": 1
          },
          "coloraxis": {
           "colorbar": {
            "outlinewidth": 0,
            "ticks": ""
           }
          },
          "colorscale": {
           "diverging": [
            [
             0,
             "#8e0152"
            ],
            [
             0.1,
             "#c51b7d"
            ],
            [
             0.2,
             "#de77ae"
            ],
            [
             0.3,
             "#f1b6da"
            ],
            [
             0.4,
             "#fde0ef"
            ],
            [
             0.5,
             "#f7f7f7"
            ],
            [
             0.6,
             "#e6f5d0"
            ],
            [
             0.7,
             "#b8e186"
            ],
            [
             0.8,
             "#7fbc41"
            ],
            [
             0.9,
             "#4d9221"
            ],
            [
             1,
             "#276419"
            ]
           ],
           "sequential": [
            [
             0,
             "#0d0887"
            ],
            [
             0.1111111111111111,
             "#46039f"
            ],
            [
             0.2222222222222222,
             "#7201a8"
            ],
            [
             0.3333333333333333,
             "#9c179e"
            ],
            [
             0.4444444444444444,
             "#bd3786"
            ],
            [
             0.5555555555555556,
             "#d8576b"
            ],
            [
             0.6666666666666666,
             "#ed7953"
            ],
            [
             0.7777777777777778,
             "#fb9f3a"
            ],
            [
             0.8888888888888888,
             "#fdca26"
            ],
            [
             1,
             "#f0f921"
            ]
           ],
           "sequentialminus": [
            [
             0,
             "#0d0887"
            ],
            [
             0.1111111111111111,
             "#46039f"
            ],
            [
             0.2222222222222222,
             "#7201a8"
            ],
            [
             0.3333333333333333,
             "#9c179e"
            ],
            [
             0.4444444444444444,
             "#bd3786"
            ],
            [
             0.5555555555555556,
             "#d8576b"
            ],
            [
             0.6666666666666666,
             "#ed7953"
            ],
            [
             0.7777777777777778,
             "#fb9f3a"
            ],
            [
             0.8888888888888888,
             "#fdca26"
            ],
            [
             1,
             "#f0f921"
            ]
           ]
          },
          "colorway": [
           "#636efa",
           "#EF553B",
           "#00cc96",
           "#ab63fa",
           "#FFA15A",
           "#19d3f3",
           "#FF6692",
           "#B6E880",
           "#FF97FF",
           "#FECB52"
          ],
          "font": {
           "color": "#2a3f5f"
          },
          "geo": {
           "bgcolor": "white",
           "lakecolor": "white",
           "landcolor": "#E5ECF6",
           "showlakes": true,
           "showland": true,
           "subunitcolor": "white"
          },
          "hoverlabel": {
           "align": "left"
          },
          "hovermode": "closest",
          "mapbox": {
           "style": "light"
          },
          "paper_bgcolor": "white",
          "plot_bgcolor": "#E5ECF6",
          "polar": {
           "angularaxis": {
            "gridcolor": "white",
            "linecolor": "white",
            "ticks": ""
           },
           "bgcolor": "#E5ECF6",
           "radialaxis": {
            "gridcolor": "white",
            "linecolor": "white",
            "ticks": ""
           }
          },
          "scene": {
           "xaxis": {
            "backgroundcolor": "#E5ECF6",
            "gridcolor": "white",
            "gridwidth": 2,
            "linecolor": "white",
            "showbackground": true,
            "ticks": "",
            "zerolinecolor": "white"
           },
           "yaxis": {
            "backgroundcolor": "#E5ECF6",
            "gridcolor": "white",
            "gridwidth": 2,
            "linecolor": "white",
            "showbackground": true,
            "ticks": "",
            "zerolinecolor": "white"
           },
           "zaxis": {
            "backgroundcolor": "#E5ECF6",
            "gridcolor": "white",
            "gridwidth": 2,
            "linecolor": "white",
            "showbackground": true,
            "ticks": "",
            "zerolinecolor": "white"
           }
          },
          "shapedefaults": {
           "line": {
            "color": "#2a3f5f"
           }
          },
          "ternary": {
           "aaxis": {
            "gridcolor": "white",
            "linecolor": "white",
            "ticks": ""
           },
           "baxis": {
            "gridcolor": "white",
            "linecolor": "white",
            "ticks": ""
           },
           "bgcolor": "#E5ECF6",
           "caxis": {
            "gridcolor": "white",
            "linecolor": "white",
            "ticks": ""
           }
          },
          "title": {
           "x": 0.05
          },
          "xaxis": {
           "automargin": true,
           "gridcolor": "white",
           "linecolor": "white",
           "ticks": "",
           "title": {
            "standoff": 15
           },
           "zerolinecolor": "white",
           "zerolinewidth": 2
          },
          "yaxis": {
           "automargin": true,
           "gridcolor": "white",
           "linecolor": "white",
           "ticks": "",
           "title": {
            "standoff": 15
           },
           "zerolinecolor": "white",
           "zerolinewidth": 2
          }
         }
        }
       }
      },
      "text/html": [
       "<div>\n",
       "        \n",
       "        \n",
       "            <div id=\"188d11f1-1fd9-417e-87b8-5275a8cc3149\" class=\"plotly-graph-div\" style=\"height:525px; width:100%;\"></div>\n",
       "            <script type=\"text/javascript\">\n",
       "                require([\"plotly\"], function(Plotly) {\n",
       "                    window.PLOTLYENV=window.PLOTLYENV || {};\n",
       "                    \n",
       "                if (document.getElementById(\"188d11f1-1fd9-417e-87b8-5275a8cc3149\")) {\n",
       "                    Plotly.newPlot(\n",
       "                        '188d11f1-1fd9-417e-87b8-5275a8cc3149',\n",
       "                        [{\"cells\": {\"align\": \"left\", \"values\": [[\"Min\", \"Max\", \"Moyenne\", \"M\\u00e9diane\"], [1.0, 12.0, 7.02, 8.0], [1.0, 15.0, 7.81, 8.0], [4.0, 26.0, 14.98, 16.0], [55.0, 117.0, 86.02, 89.0], [0.0, 87.0, 25.07, 23.0], [51.0, 106.0, 78.71, 81.0], [70.0, 124.0, 96.52, 99.0]]}, \"header\": {\"align\": \"left\", \"values\": [\"Aggr\\u00e9gation\", \"Note standard Symboles\", \"Note standard Code\", \"Total des notes standards IVT\", \"Note composite IVT\", \"Rang percentile IVT\", \"Note \\u00e9cart type inf\\u00e9rieure IVT\", \"Note \\u00e9cart type sup\\u00e9rieure IVT\"]}, \"type\": \"table\"}],\n",
       "                        {\"template\": {\"data\": {\"bar\": [{\"error_x\": {\"color\": \"#2a3f5f\"}, \"error_y\": {\"color\": \"#2a3f5f\"}, \"marker\": {\"line\": {\"color\": \"#E5ECF6\", \"width\": 0.5}}, \"type\": \"bar\"}], \"barpolar\": [{\"marker\": {\"line\": {\"color\": \"#E5ECF6\", \"width\": 0.5}}, \"type\": \"barpolar\"}], \"carpet\": [{\"aaxis\": {\"endlinecolor\": \"#2a3f5f\", \"gridcolor\": \"white\", \"linecolor\": \"white\", \"minorgridcolor\": \"white\", \"startlinecolor\": \"#2a3f5f\"}, \"baxis\": {\"endlinecolor\": \"#2a3f5f\", \"gridcolor\": \"white\", \"linecolor\": \"white\", \"minorgridcolor\": \"white\", \"startlinecolor\": \"#2a3f5f\"}, \"type\": \"carpet\"}], \"choropleth\": [{\"colorbar\": {\"outlinewidth\": 0, \"ticks\": \"\"}, \"type\": \"choropleth\"}], \"contour\": [{\"colorbar\": {\"outlinewidth\": 0, \"ticks\": \"\"}, \"colorscale\": [[0.0, \"#0d0887\"], [0.1111111111111111, \"#46039f\"], [0.2222222222222222, \"#7201a8\"], [0.3333333333333333, \"#9c179e\"], [0.4444444444444444, \"#bd3786\"], [0.5555555555555556, \"#d8576b\"], [0.6666666666666666, \"#ed7953\"], [0.7777777777777778, \"#fb9f3a\"], [0.8888888888888888, \"#fdca26\"], [1.0, \"#f0f921\"]], \"type\": \"contour\"}], \"contourcarpet\": [{\"colorbar\": {\"outlinewidth\": 0, \"ticks\": \"\"}, \"type\": \"contourcarpet\"}], \"heatmap\": [{\"colorbar\": {\"outlinewidth\": 0, \"ticks\": \"\"}, \"colorscale\": [[0.0, \"#0d0887\"], [0.1111111111111111, \"#46039f\"], [0.2222222222222222, \"#7201a8\"], [0.3333333333333333, \"#9c179e\"], [0.4444444444444444, \"#bd3786\"], [0.5555555555555556, \"#d8576b\"], [0.6666666666666666, \"#ed7953\"], [0.7777777777777778, \"#fb9f3a\"], [0.8888888888888888, \"#fdca26\"], [1.0, \"#f0f921\"]], \"type\": \"heatmap\"}], \"heatmapgl\": [{\"colorbar\": {\"outlinewidth\": 0, \"ticks\": \"\"}, \"colorscale\": [[0.0, \"#0d0887\"], [0.1111111111111111, \"#46039f\"], [0.2222222222222222, \"#7201a8\"], [0.3333333333333333, \"#9c179e\"], [0.4444444444444444, \"#bd3786\"], [0.5555555555555556, \"#d8576b\"], [0.6666666666666666, \"#ed7953\"], [0.7777777777777778, \"#fb9f3a\"], [0.8888888888888888, \"#fdca26\"], [1.0, \"#f0f921\"]], \"type\": \"heatmapgl\"}], \"histogram\": [{\"marker\": {\"colorbar\": {\"outlinewidth\": 0, \"ticks\": \"\"}}, \"type\": \"histogram\"}], \"histogram2d\": [{\"colorbar\": {\"outlinewidth\": 0, \"ticks\": \"\"}, \"colorscale\": [[0.0, \"#0d0887\"], [0.1111111111111111, \"#46039f\"], [0.2222222222222222, \"#7201a8\"], [0.3333333333333333, \"#9c179e\"], [0.4444444444444444, \"#bd3786\"], [0.5555555555555556, \"#d8576b\"], [0.6666666666666666, \"#ed7953\"], [0.7777777777777778, \"#fb9f3a\"], [0.8888888888888888, \"#fdca26\"], [1.0, \"#f0f921\"]], \"type\": \"histogram2d\"}], \"histogram2dcontour\": [{\"colorbar\": {\"outlinewidth\": 0, \"ticks\": \"\"}, \"colorscale\": [[0.0, \"#0d0887\"], [0.1111111111111111, \"#46039f\"], [0.2222222222222222, \"#7201a8\"], [0.3333333333333333, \"#9c179e\"], [0.4444444444444444, \"#bd3786\"], [0.5555555555555556, \"#d8576b\"], [0.6666666666666666, \"#ed7953\"], [0.7777777777777778, \"#fb9f3a\"], [0.8888888888888888, \"#fdca26\"], [1.0, \"#f0f921\"]], \"type\": \"histogram2dcontour\"}], \"mesh3d\": [{\"colorbar\": {\"outlinewidth\": 0, \"ticks\": \"\"}, \"type\": \"mesh3d\"}], \"parcoords\": [{\"line\": {\"colorbar\": {\"outlinewidth\": 0, \"ticks\": \"\"}}, \"type\": \"parcoords\"}], \"pie\": [{\"automargin\": true, \"type\": \"pie\"}], \"scatter\": [{\"marker\": {\"colorbar\": {\"outlinewidth\": 0, \"ticks\": \"\"}}, \"type\": \"scatter\"}], \"scatter3d\": [{\"line\": {\"colorbar\": {\"outlinewidth\": 0, \"ticks\": \"\"}}, \"marker\": {\"colorbar\": {\"outlinewidth\": 0, \"ticks\": \"\"}}, \"type\": \"scatter3d\"}], \"scattercarpet\": [{\"marker\": {\"colorbar\": {\"outlinewidth\": 0, \"ticks\": \"\"}}, \"type\": \"scattercarpet\"}], \"scattergeo\": [{\"marker\": {\"colorbar\": {\"outlinewidth\": 0, \"ticks\": \"\"}}, \"type\": \"scattergeo\"}], \"scattergl\": [{\"marker\": {\"colorbar\": {\"outlinewidth\": 0, \"ticks\": \"\"}}, \"type\": \"scattergl\"}], \"scattermapbox\": [{\"marker\": {\"colorbar\": {\"outlinewidth\": 0, \"ticks\": \"\"}}, \"type\": \"scattermapbox\"}], \"scatterpolar\": [{\"marker\": {\"colorbar\": {\"outlinewidth\": 0, \"ticks\": \"\"}}, \"type\": \"scatterpolar\"}], \"scatterpolargl\": [{\"marker\": {\"colorbar\": {\"outlinewidth\": 0, \"ticks\": \"\"}}, \"type\": \"scatterpolargl\"}], \"scatterternary\": [{\"marker\": {\"colorbar\": {\"outlinewidth\": 0, \"ticks\": \"\"}}, \"type\": \"scatterternary\"}], \"surface\": [{\"colorbar\": {\"outlinewidth\": 0, \"ticks\": \"\"}, \"colorscale\": [[0.0, \"#0d0887\"], [0.1111111111111111, \"#46039f\"], [0.2222222222222222, \"#7201a8\"], [0.3333333333333333, \"#9c179e\"], [0.4444444444444444, \"#bd3786\"], [0.5555555555555556, \"#d8576b\"], [0.6666666666666666, \"#ed7953\"], [0.7777777777777778, \"#fb9f3a\"], [0.8888888888888888, \"#fdca26\"], [1.0, \"#f0f921\"]], \"type\": \"surface\"}], \"table\": [{\"cells\": {\"fill\": {\"color\": \"#EBF0F8\"}, \"line\": {\"color\": \"white\"}}, \"header\": {\"fill\": {\"color\": \"#C8D4E3\"}, \"line\": {\"color\": \"white\"}}, \"type\": \"table\"}]}, \"layout\": {\"annotationdefaults\": {\"arrowcolor\": \"#2a3f5f\", \"arrowhead\": 0, \"arrowwidth\": 1}, \"coloraxis\": {\"colorbar\": {\"outlinewidth\": 0, \"ticks\": \"\"}}, \"colorscale\": {\"diverging\": [[0, \"#8e0152\"], [0.1, \"#c51b7d\"], [0.2, \"#de77ae\"], [0.3, \"#f1b6da\"], [0.4, \"#fde0ef\"], [0.5, \"#f7f7f7\"], [0.6, \"#e6f5d0\"], [0.7, \"#b8e186\"], [0.8, \"#7fbc41\"], [0.9, \"#4d9221\"], [1, \"#276419\"]], \"sequential\": [[0.0, \"#0d0887\"], [0.1111111111111111, \"#46039f\"], [0.2222222222222222, \"#7201a8\"], [0.3333333333333333, \"#9c179e\"], [0.4444444444444444, \"#bd3786\"], [0.5555555555555556, \"#d8576b\"], [0.6666666666666666, \"#ed7953\"], [0.7777777777777778, \"#fb9f3a\"], [0.8888888888888888, \"#fdca26\"], [1.0, \"#f0f921\"]], \"sequentialminus\": [[0.0, \"#0d0887\"], [0.1111111111111111, \"#46039f\"], [0.2222222222222222, \"#7201a8\"], [0.3333333333333333, \"#9c179e\"], [0.4444444444444444, \"#bd3786\"], [0.5555555555555556, \"#d8576b\"], [0.6666666666666666, \"#ed7953\"], [0.7777777777777778, \"#fb9f3a\"], [0.8888888888888888, \"#fdca26\"], [1.0, \"#f0f921\"]]}, \"colorway\": [\"#636efa\", \"#EF553B\", \"#00cc96\", \"#ab63fa\", \"#FFA15A\", \"#19d3f3\", \"#FF6692\", \"#B6E880\", \"#FF97FF\", \"#FECB52\"], \"font\": {\"color\": \"#2a3f5f\"}, \"geo\": {\"bgcolor\": \"white\", \"lakecolor\": \"white\", \"landcolor\": \"#E5ECF6\", \"showlakes\": true, \"showland\": true, \"subunitcolor\": \"white\"}, \"hoverlabel\": {\"align\": \"left\"}, \"hovermode\": \"closest\", \"mapbox\": {\"style\": \"light\"}, \"paper_bgcolor\": \"white\", \"plot_bgcolor\": \"#E5ECF6\", \"polar\": {\"angularaxis\": {\"gridcolor\": \"white\", \"linecolor\": \"white\", \"ticks\": \"\"}, \"bgcolor\": \"#E5ECF6\", \"radialaxis\": {\"gridcolor\": \"white\", \"linecolor\": \"white\", \"ticks\": \"\"}}, \"scene\": {\"xaxis\": {\"backgroundcolor\": \"#E5ECF6\", \"gridcolor\": \"white\", \"gridwidth\": 2, \"linecolor\": \"white\", \"showbackground\": true, \"ticks\": \"\", \"zerolinecolor\": \"white\"}, \"yaxis\": {\"backgroundcolor\": \"#E5ECF6\", \"gridcolor\": \"white\", \"gridwidth\": 2, \"linecolor\": \"white\", \"showbackground\": true, \"ticks\": \"\", \"zerolinecolor\": \"white\"}, \"zaxis\": {\"backgroundcolor\": \"#E5ECF6\", \"gridcolor\": \"white\", \"gridwidth\": 2, \"linecolor\": \"white\", \"showbackground\": true, \"ticks\": \"\", \"zerolinecolor\": \"white\"}}, \"shapedefaults\": {\"line\": {\"color\": \"#2a3f5f\"}}, \"ternary\": {\"aaxis\": {\"gridcolor\": \"white\", \"linecolor\": \"white\", \"ticks\": \"\"}, \"baxis\": {\"gridcolor\": \"white\", \"linecolor\": \"white\", \"ticks\": \"\"}, \"bgcolor\": \"#E5ECF6\", \"caxis\": {\"gridcolor\": \"white\", \"linecolor\": \"white\", \"ticks\": \"\"}}, \"title\": {\"x\": 0.05}, \"xaxis\": {\"automargin\": true, \"gridcolor\": \"white\", \"linecolor\": \"white\", \"ticks\": \"\", \"title\": {\"standoff\": 15}, \"zerolinecolor\": \"white\", \"zerolinewidth\": 2}, \"yaxis\": {\"automargin\": true, \"gridcolor\": \"white\", \"linecolor\": \"white\", \"ticks\": \"\", \"title\": {\"standoff\": 15}, \"zerolinecolor\": \"white\", \"zerolinewidth\": 2}}}},\n",
       "                        {\"responsive\": true}\n",
       "                    ).then(function(){\n",
       "                            \n",
       "var gd = document.getElementById('188d11f1-1fd9-417e-87b8-5275a8cc3149');\n",
       "var x = new MutationObserver(function (mutations, observer) {{\n",
       "        var display = window.getComputedStyle(gd).display;\n",
       "        if (!display || display === 'none') {{\n",
       "            console.log([gd, 'removed!']);\n",
       "            Plotly.purge(gd);\n",
       "            observer.disconnect();\n",
       "        }}\n",
       "}});\n",
       "\n",
       "// Listen for the removal of the full notebook cells\n",
       "var notebookContainer = gd.closest('#notebook-container');\n",
       "if (notebookContainer) {{\n",
       "    x.observe(notebookContainer, {childList: true});\n",
       "}}\n",
       "\n",
       "// Listen for the clearing of the current output cell\n",
       "var outputEl = gd.closest('.output');\n",
       "if (outputEl) {{\n",
       "    x.observe(outputEl, {childList: true});\n",
       "}}\n",
       "\n",
       "                        })\n",
       "                };\n",
       "                });\n",
       "            </script>\n",
       "        </div>"
      ]
     },
     "metadata": {},
     "output_type": "display_data"
    }
   ],
   "source": [
    "fig = go.Figure(data=wais_sub)\n",
    "fig.show()"
   ]
  },
  {
   "cell_type": "code",
   "execution_count": 452,
   "metadata": {
    "ExecuteTime": {
     "end_time": "2020-05-13T14:37:22.600290Z",
     "start_time": "2020-05-13T14:37:22.596538Z"
    }
   },
   "outputs": [
    {
     "data": {
      "text/html": [
       "<h4>4. WAIS complet</h4>"
      ],
      "text/plain": [
       "<IPython.core.display.HTML object>"
      ]
     },
     "metadata": {},
     "output_type": "display_data"
    }
   ],
   "source": [
    "display(HTML('<h4>4. WAIS complet</h4>'))"
   ]
  },
  {
   "cell_type": "code",
   "execution_count": 457,
   "metadata": {
    "ExecuteTime": {
     "end_time": "2020-05-13T14:42:19.864134Z",
     "start_time": "2020-05-13T14:42:19.858596Z"
    }
   },
   "outputs": [],
   "source": [
    "wais = df_wais[(df_wais['Total des notes standards ICV'].notna()) & (df_wais['Total des notes standards IRP'].notna()) & (df_wais['Total des notes standards IMT'].notna()) & (df_wais['Total des notes standards IVT'].notna())]\n",
    "                                                                "
   ]
  },
  {
   "cell_type": "code",
   "execution_count": 460,
   "metadata": {
    "ExecuteTime": {
     "end_time": "2020-05-13T14:43:45.750544Z",
     "start_time": "2020-05-13T14:43:45.746476Z"
    }
   },
   "outputs": [
    {
     "data": {
      "text/html": [
       "<p>Nombre de patients ayant effectué tous les test : 32</p>"
      ],
      "text/plain": [
       "<IPython.core.display.HTML object>"
      ]
     },
     "metadata": {},
     "output_type": "display_data"
    }
   ],
   "source": [
    "display(HTML(\"<p>Nombre de patients ayant effectué tous les test : \"+str(len(wais))+\"</p>\"))"
   ]
  }
 ],
 "metadata": {
  "kernelspec": {
   "display_name": "Python 3",
   "language": "python",
   "name": "python3"
  },
  "language_info": {
   "codemirror_mode": {
    "name": "ipython",
    "version": 3
   },
   "file_extension": ".py",
   "mimetype": "text/x-python",
   "name": "python",
   "nbconvert_exporter": "python",
   "pygments_lexer": "ipython3",
   "version": "3.7.4"
  },
  "widgets": {
   "application/vnd.jupyter.widget-state+json": {
    "state": {},
    "version_major": 2,
    "version_minor": 0
   }
  }
 },
 "nbformat": 4,
 "nbformat_minor": 2
}
