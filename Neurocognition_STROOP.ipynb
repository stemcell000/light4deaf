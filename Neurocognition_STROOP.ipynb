{
 "cells": [
  {
   "cell_type": "code",
   "execution_count": 1,
   "metadata": {
    "ExecuteTime": {
     "end_time": "2020-06-15T07:48:40.215664Z",
     "start_time": "2020-06-15T07:48:33.896103Z"
    }
   },
   "outputs": [],
   "source": [
    "import pandas as pd\n",
    "import numpy as np\n",
    "import warnings\n",
    "import scipy as sp\n",
    "from datetime import datetime\n",
    "from IPython.display import display\n",
    "import plotly\n",
    "import plotly.figure_factory as ff\n",
    "import plotly.graph_objects as go\n",
    "import plotly.express as px\n",
    "from IPython.core.display import display, HTML\n",
    "from plotly.subplots import make_subplots\n",
    "from IPython.display import display\n",
    "autoscroll_set_on_load = True\n",
    "autoscroll_starting_threshold = -1\n",
    "pd.options.display.max_columns = None\n",
    "pd.options.display.max_rows = None\n",
    "df = pd.read_excel('data/LIGHT4DEAF_Neurocognition_Avril_2020_1_FULL_ADULTES_20200504.xlsx')"
   ]
  },
  {
   "cell_type": "code",
   "execution_count": 85,
   "metadata": {
    "ExecuteTime": {
     "end_time": "2020-06-15T09:09:14.817721Z",
     "start_time": "2020-06-15T09:09:14.813079Z"
    }
   },
   "outputs": [
    {
     "data": {
      "text/html": [
       "<script>\n",
       "code_show=true; \n",
       "function code_toggle() {\n",
       " if (code_show){\n",
       " $('div.input').hide();\n",
       " } else {\n",
       " $('div.input').show();\n",
       " }\n",
       " code_show = !code_show\n",
       "} \n",
       "$( document ).ready(code_toggle);\n",
       "</script>\n",
       "The raw code for this IPython notebook is by default hidden for easier reading.\n",
       "To toggle on/off the raw code, click <a href=\"javascript:code_toggle()\">here</a>."
      ],
      "text/plain": [
       "<IPython.core.display.HTML object>"
      ]
     },
     "execution_count": 85,
     "metadata": {},
     "output_type": "execute_result"
    }
   ],
   "source": [
    "HTML('''<script>\n",
    "code_show=true; \n",
    "function code_toggle() {\n",
    " if (code_show){\n",
    " $('div.input').hide();\n",
    " } else {\n",
    " $('div.input').show();\n",
    " }\n",
    " code_show = !code_show\n",
    "} \n",
    "$( document ).ready(code_toggle);\n",
    "</script>\n",
    "The raw code for this IPython notebook is by default hidden for easier reading.\n",
    "To toggle on/off the raw code, click <a href=\"javascript:code_toggle()\">here</a>.''')"
   ]
  },
  {
   "cell_type": "code",
   "execution_count": 86,
   "metadata": {
    "ExecuteTime": {
     "end_time": "2020-06-15T09:09:23.506135Z",
     "start_time": "2020-06-15T09:09:23.501882Z"
    }
   },
   "outputs": [],
   "source": [
    "df = df[df[\"Investigateur\"].notnull()]"
   ]
  },
  {
   "cell_type": "code",
   "execution_count": 3,
   "metadata": {
    "ExecuteTime": {
     "end_time": "2020-06-15T07:48:40.226844Z",
     "start_time": "2020-06-15T07:48:40.224565Z"
    }
   },
   "outputs": [],
   "source": [
    "cardinal = len(df)"
   ]
  },
  {
   "cell_type": "code",
   "execution_count": 4,
   "metadata": {
    "ExecuteTime": {
     "end_time": "2020-06-15T07:48:40.250160Z",
     "start_time": "2020-06-15T07:48:40.229168Z"
    }
   },
   "outputs": [],
   "source": [
    "now = datetime.now()\n",
    "df['Date de naissance du patient'] = pd.to_datetime(df['Date de naissance du patient'], format='%m/%d/%y')\n",
    "df['Date de naissance du patient'] = df['Date de naissance du patient'].where(df['Date de naissance du patient'] < now, df['Date de naissance du patient'] -  np.timedelta64(100, 'Y')) \n",
    "df['age'] = (now - df['Date de naissance du patient']).astype('<m8[Y]')"
   ]
  },
  {
   "cell_type": "code",
   "execution_count": 5,
   "metadata": {
    "ExecuteTime": {
     "end_time": "2020-06-15T07:48:40.258903Z",
     "start_time": "2020-06-15T07:48:40.251754Z"
    }
   },
   "outputs": [],
   "source": [
    "#Patients adultes : type\n",
    "df_type1 = df[df[\"Type\"]=='Type 1']\n",
    "df_type2 = df[df[\"Type\"]=='Type 2']\n",
    "df_type3 = df[df[\"Type\"]=='Type 3']\n",
    "df_type_nan = df[df[\"Type\"].isna()]"
   ]
  },
  {
   "cell_type": "code",
   "execution_count": 6,
   "metadata": {
    "ExecuteTime": {
     "end_time": "2020-06-15T07:48:40.272883Z",
     "start_time": "2020-06-15T07:48:40.260443Z"
    }
   },
   "outputs": [
    {
     "data": {
      "text/html": [
       "<h1>L i g h t 4 d e a f</h1>"
      ],
      "text/plain": [
       "<IPython.core.display.HTML object>"
      ]
     },
     "metadata": {},
     "output_type": "display_data"
    },
    {
     "data": {
      "text/html": [
       "<h2>Neurocognition - STROOP</h2>"
      ],
      "text/plain": [
       "<IPython.core.display.HTML object>"
      ]
     },
     "metadata": {},
     "output_type": "display_data"
    },
    {
     "data": {
      "text/html": [
       "<h3>Description de l'échantillon</h3>"
      ],
      "text/plain": [
       "<IPython.core.display.HTML object>"
      ]
     },
     "metadata": {},
     "output_type": "display_data"
    },
    {
     "data": {
      "text/html": [
       "<h4>1. Données : </h4>"
      ],
      "text/plain": [
       "<IPython.core.display.HTML object>"
      ]
     },
     "metadata": {},
     "output_type": "display_data"
    },
    {
     "data": {
      "text/html": [
       "<p>Enregistrements sélectionner sur 'STROOP' =. 'Oui' : </p>"
      ],
      "text/plain": [
       "<IPython.core.display.HTML object>"
      ]
     },
     "metadata": {},
     "output_type": "display_data"
    }
   ],
   "source": [
    "display(HTML('<h1>L i g h t 4 d e a f</h1>'))\n",
    "display(HTML('<h2>Neurocognition - STROOP</h2>'))\n",
    "display(HTML(\"<h3>Description de l'échantillon</h3>\"))\n",
    "display(HTML(\"<h4>1. Données : </h4>\"))\n",
    "display(HTML(\"<p>Enregistrements sélectionner sur 'STROOP' =. 'Oui' : </p>\"))\n"
   ]
  },
  {
   "cell_type": "code",
   "execution_count": 7,
   "metadata": {
    "ExecuteTime": {
     "end_time": "2020-06-15T07:48:40.279477Z",
     "start_time": "2020-06-15T07:48:40.274865Z"
    }
   },
   "outputs": [],
   "source": [
    "cols = df.columns.values.tolist()\n",
    "cols.index('STROOP')\n",
    "cols.index('Autre commentaire')\n",
    "arr = cols[cols.index('STROOP'):cols.index('Autre commentaire STROOP')]\n",
    "arr.insert(0, \"ID_SECONDAIRE\")\n",
    "arr.insert(1, \"age\")\n",
    "arr.insert(2, \"Type\")\n",
    "arr.insert(3, \"Correction visuelle\")\n",
    "arr.insert(4, \"Prothèse auditive DROITE\")\n",
    "arr.insert(5, \"Prothèse auditive GAUCHE\")\n",
    "arr.insert(6, \"Implant cochléaire DROIT\")\n",
    "arr.insert(7, \"Implant cochléaire GAUCHE\")\n",
    "arr.insert(8, \"Interprète LSF\")\n",
    "arr.insert(9, \"Nombre d'années d'études\")"
   ]
  },
  {
   "cell_type": "code",
   "execution_count": 8,
   "metadata": {
    "ExecuteTime": {
     "end_time": "2020-06-15T07:48:40.286340Z",
     "start_time": "2020-06-15T07:48:40.282788Z"
    }
   },
   "outputs": [],
   "source": [
    "df_str = df.loc[:,arr]"
   ]
  },
  {
   "cell_type": "code",
   "execution_count": 9,
   "metadata": {
    "ExecuteTime": {
     "end_time": "2020-06-15T07:48:40.292967Z",
     "start_time": "2020-06-15T07:48:40.289550Z"
    }
   },
   "outputs": [],
   "source": [
    "#Eliminitation du patient 8A A0 53 AC 37 comme demandé\n",
    "df_str = df_str[df_str['ID_SECONDAIRE']!=\"8A A0 53 AC 37\"]"
   ]
  },
  {
   "cell_type": "code",
   "execution_count": 10,
   "metadata": {
    "ExecuteTime": {
     "end_time": "2020-06-15T07:48:40.308205Z",
     "start_time": "2020-06-15T07:48:40.295091Z"
    }
   },
   "outputs": [],
   "source": [
    "df_str.loc[df_str['Type']==\"Type 2\", 'Type_color']=\"#B3D9FF\"\n",
    "df_str.loc[df_str['Type']==\"Type 1\", 'Type_color']=\"#33ffc9\"\n",
    "df_str.loc[df_str['Type']==\"Type 3\", 'Type_color']=\"#FFC433\"\n",
    "df_str.loc[df_str['Type'].isna(), 'Type_color']=\"#C5C5C5\"\n",
    "df_str['Type'].fillna('Type inconnu', inplace= True)"
   ]
  },
  {
   "cell_type": "code",
   "execution_count": 11,
   "metadata": {
    "ExecuteTime": {
     "end_time": "2020-06-15T07:48:40.315324Z",
     "start_time": "2020-06-15T07:48:40.309907Z"
    }
   },
   "outputs": [],
   "source": [
    "df_str = df_str[df_str['STROOP']=='Oui']\n",
    "str_total = len(df_str[df_str['STROOP']=='Oui'])\n",
    "str_age_avg = round(df_str[\"age\"].mean())\n",
    "str_age_min = df_str[\"age\"].min()\n",
    "str_age_max = df_str[\"age\"].max()"
   ]
  },
  {
   "cell_type": "code",
   "execution_count": 12,
   "metadata": {
    "ExecuteTime": {
     "end_time": "2020-06-15T07:48:40.323239Z",
     "start_time": "2020-06-15T07:48:40.317176Z"
    }
   },
   "outputs": [],
   "source": [
    "#Patients ayant une aide auditive\n",
    "df_str_coaud = df_str[(df_str[\"Prothèse auditive DROITE\"]!=\"Aucune\") | (df_str[\"Prothèse auditive GAUCHE\"]!=\"Aucune\") | (df_str[\"Implant cochléaire DROIT\"]!=\"Aucun\") | (df_str[\"Implant cochléaire GAUCHE\"]!=\"Aucun\")]\n",
    "#Patients ayant uniquement une aide auditive\n",
    "df_str_coaud_u = df_str_coaud[df_str_coaud[\"Correction visuelle\"]==\"Aucune\"]\n",
    "str_coaud_u = len(df_str_coaud_u)"
   ]
  },
  {
   "cell_type": "code",
   "execution_count": 78,
   "metadata": {
    "ExecuteTime": {
     "end_time": "2020-06-15T09:07:28.030326Z",
     "start_time": "2020-06-15T09:07:28.023104Z"
    }
   },
   "outputs": [],
   "source": [
    "#Patients ayant une correction visuelle\n",
    "df_str_covis = df_str[df_str[\"Correction visuelle\"]!=\"Aucune\"]\n",
    "#Patients ayant uniquement une correction visuelle\n",
    "df_str_covis_u = df_str_covis[((df_str_covis[\"Prothèse auditive DROITE\"]==\"Aucune\") & (df_str_covis[\"Prothèse auditive GAUCHE\"]==\"Aucune\") & (df_str_covis[\"Implant cochléaire DROIT\"]==\"Aucun\") & (df_str_covis[\"Implant cochléaire GAUCHE\"]==\"Aucun\"))]\n",
    "str_covis_u = len(df_str_covis_u)"
   ]
  },
  {
   "cell_type": "code",
   "execution_count": 79,
   "metadata": {
    "ExecuteTime": {
     "end_time": "2020-06-15T09:07:28.484799Z",
     "start_time": "2020-06-15T09:07:28.480966Z"
    }
   },
   "outputs": [],
   "source": [
    "#Patients ayant une aide auditive + visuelle\n",
    "df_str_coaud_covis = df_str_coaud[df_str_coaud[\"Correction visuelle\"]!=\"Aucune\"]\n",
    "str_coaud_covis = len(df_str_coaud_covis)"
   ]
  },
  {
   "cell_type": "code",
   "execution_count": 80,
   "metadata": {
    "ExecuteTime": {
     "end_time": "2020-06-15T09:07:28.707087Z",
     "start_time": "2020-06-15T09:07:28.703412Z"
    }
   },
   "outputs": [],
   "source": [
    "str_intlsf = len(df_str[df_str[\"Interprète LSF\"]==\"Oui\"])"
   ]
  },
  {
   "cell_type": "code",
   "execution_count": 81,
   "metadata": {
    "ExecuteTime": {
     "end_time": "2020-06-15T09:07:28.945083Z",
     "start_time": "2020-06-15T09:07:28.920869Z"
    }
   },
   "outputs": [
    {
     "data": {
      "text/html": [
       "<style  type=\"text/css\" >\n",
       "</style><table id=\"T_a355fa3e_aee7_11ea_a4f1_4c32759132dd\" ><thead>    <tr>        <th class=\"blank level0\" ></th>        <th class=\"col_heading level0 col0\" >ID_SECONDAIRE</th>        <th class=\"col_heading level0 col1\" >age</th>        <th class=\"col_heading level0 col2\" >Type</th>        <th class=\"col_heading level0 col3\" >Correction visuelle</th>        <th class=\"col_heading level0 col4\" >Prothèse auditive DROITE</th>        <th class=\"col_heading level0 col5\" >Prothèse auditive GAUCHE</th>        <th class=\"col_heading level0 col6\" >Implant cochléaire DROIT</th>        <th class=\"col_heading level0 col7\" >Implant cochléaire GAUCHE</th>        <th class=\"col_heading level0 col8\" >Interprète LSF</th>        <th class=\"col_heading level0 col9\" >Nombre d'années d'études</th>        <th class=\"col_heading level0 col10\" >STROOP</th>        <th class=\"col_heading level0 col11\" >Réalisé en date du.1</th>        <th class=\"col_heading level0 col12\" >Si non, pourquoi.1</th>        <th class=\"col_heading level0 col13\" >Temps dénomination pour 100 items</th>        <th class=\"col_heading level0 col14\" >Ecart type - Temps dénomination pour 100 items</th>        <th class=\"col_heading level0 col15\" >Rang percentile - Temps dénomination pour 100 items</th>        <th class=\"col_heading level0 col16\" >Nombre d'erreurs non corrigés (100 items)</th>        <th class=\"col_heading level0 col17\" >Ecart type - Nombre d'erreurs non corrigés (100 items)</th>        <th class=\"col_heading level0 col18\" >Rang percentile - Nombre d'erreurs non corrigés (100 items)</th>        <th class=\"col_heading level0 col19\" >Temps de lecture</th>        <th class=\"col_heading level0 col20\" >Ecart type - Temps de lecture</th>        <th class=\"col_heading level0 col21\" >Rang percentile - Temps de lecture</th>        <th class=\"col_heading level0 col22\" >Nombre d'erreurs (Temps de lecture)</th>        <th class=\"col_heading level0 col23\" >Ecart type - Nombre d'erreurs (Temps de lecture)</th>        <th class=\"col_heading level0 col24\" >Rang percentile - Nombre d'erreurs (Temps de lecture)</th>        <th class=\"col_heading level0 col25\" >Temps interférence</th>        <th class=\"col_heading level0 col26\" >Ecart type - Temps interférence</th>        <th class=\"col_heading level0 col27\" >Rang percentile - Temps interférence</th>        <th class=\"col_heading level0 col28\" >Nombre d’erreurs non corrigées (Temps interférence)</th>        <th class=\"col_heading level0 col29\" >Ecart type - Nombre d’erreurs non corrigées (Temps interférence)</th>        <th class=\"col_heading level0 col30\" >Rang percentile - Nombre d’erreurs non corrigées (Temps interférence)</th>        <th class=\"col_heading level0 col31\" >Temps Int-déno</th>        <th class=\"col_heading level0 col32\" >Ecart type - Temps Int-déno</th>        <th class=\"col_heading level0 col33\" >Rang percentile - Temps Int-déno</th>        <th class=\"col_heading level0 col34\" >Nombre d’erreurs non corrigées (Int-déno)</th>        <th class=\"col_heading level0 col35\" >Ecart type - Nombre d’erreurs non corrigées (Int-déno)</th>        <th class=\"col_heading level0 col36\" >Rang percentile - Nombre d’erreurs non corrigées (Int-déno)</th>        <th class=\"col_heading level0 col37\" >Commentaire</th>        <th class=\"col_heading level0 col38\" >Type_color</th>    </tr></thead><tbody>\n",
       "                <tr>\n",
       "                        <th id=\"T_a355fa3e_aee7_11ea_a4f1_4c32759132ddlevel0_row0\" class=\"row_heading level0 row0\" >8</th>\n",
       "                        <td id=\"T_a355fa3e_aee7_11ea_a4f1_4c32759132ddrow0_col0\" class=\"data row0 col0\" >39 CA BD 3C 82</td>\n",
       "                        <td id=\"T_a355fa3e_aee7_11ea_a4f1_4c32759132ddrow0_col1\" class=\"data row0 col1\" >22</td>\n",
       "                        <td id=\"T_a355fa3e_aee7_11ea_a4f1_4c32759132ddrow0_col2\" class=\"data row0 col2\" >Type 1</td>\n",
       "                        <td id=\"T_a355fa3e_aee7_11ea_a4f1_4c32759132ddrow0_col3\" class=\"data row0 col3\" >Verres correcteurs</td>\n",
       "                        <td id=\"T_a355fa3e_aee7_11ea_a4f1_4c32759132ddrow0_col4\" class=\"data row0 col4\" >Aucune</td>\n",
       "                        <td id=\"T_a355fa3e_aee7_11ea_a4f1_4c32759132ddrow0_col5\" class=\"data row0 col5\" >Aucune</td>\n",
       "                        <td id=\"T_a355fa3e_aee7_11ea_a4f1_4c32759132ddrow0_col6\" class=\"data row0 col6\" >Aucun</td>\n",
       "                        <td id=\"T_a355fa3e_aee7_11ea_a4f1_4c32759132ddrow0_col7\" class=\"data row0 col7\" >Implant cochléaire</td>\n",
       "                        <td id=\"T_a355fa3e_aee7_11ea_a4f1_4c32759132ddrow0_col8\" class=\"data row0 col8\" >Non</td>\n",
       "                        <td id=\"T_a355fa3e_aee7_11ea_a4f1_4c32759132ddrow0_col9\" class=\"data row0 col9\" >11</td>\n",
       "                        <td id=\"T_a355fa3e_aee7_11ea_a4f1_4c32759132ddrow0_col10\" class=\"data row0 col10\" >Oui</td>\n",
       "                        <td id=\"T_a355fa3e_aee7_11ea_a4f1_4c32759132ddrow0_col11\" class=\"data row0 col11\" >2018-04-06 00:00:00</td>\n",
       "                        <td id=\"T_a355fa3e_aee7_11ea_a4f1_4c32759132ddrow0_col12\" class=\"data row0 col12\" >nan</td>\n",
       "                        <td id=\"T_a355fa3e_aee7_11ea_a4f1_4c32759132ddrow0_col13\" class=\"data row0 col13\" >89</td>\n",
       "                        <td id=\"T_a355fa3e_aee7_11ea_a4f1_4c32759132ddrow0_col14\" class=\"data row0 col14\" >2.82</td>\n",
       "                        <td id=\"T_a355fa3e_aee7_11ea_a4f1_4c32759132ddrow0_col15\" class=\"data row0 col15\" >95</td>\n",
       "                        <td id=\"T_a355fa3e_aee7_11ea_a4f1_4c32759132ddrow0_col16\" class=\"data row0 col16\" >0</td>\n",
       "                        <td id=\"T_a355fa3e_aee7_11ea_a4f1_4c32759132ddrow0_col17\" class=\"data row0 col17\" >nan</td>\n",
       "                        <td id=\"T_a355fa3e_aee7_11ea_a4f1_4c32759132ddrow0_col18\" class=\"data row0 col18\" >nan</td>\n",
       "                        <td id=\"T_a355fa3e_aee7_11ea_a4f1_4c32759132ddrow0_col19\" class=\"data row0 col19\" >56</td>\n",
       "                        <td id=\"T_a355fa3e_aee7_11ea_a4f1_4c32759132ddrow0_col20\" class=\"data row0 col20\" >1.75</td>\n",
       "                        <td id=\"T_a355fa3e_aee7_11ea_a4f1_4c32759132ddrow0_col21\" class=\"data row0 col21\" >92</td>\n",
       "                        <td id=\"T_a355fa3e_aee7_11ea_a4f1_4c32759132ddrow0_col22\" class=\"data row0 col22\" >0</td>\n",
       "                        <td id=\"T_a355fa3e_aee7_11ea_a4f1_4c32759132ddrow0_col23\" class=\"data row0 col23\" >nan</td>\n",
       "                        <td id=\"T_a355fa3e_aee7_11ea_a4f1_4c32759132ddrow0_col24\" class=\"data row0 col24\" >nan</td>\n",
       "                        <td id=\"T_a355fa3e_aee7_11ea_a4f1_4c32759132ddrow0_col25\" class=\"data row0 col25\" >149</td>\n",
       "                        <td id=\"T_a355fa3e_aee7_11ea_a4f1_4c32759132ddrow0_col26\" class=\"data row0 col26\" >1.58</td>\n",
       "                        <td id=\"T_a355fa3e_aee7_11ea_a4f1_4c32759132ddrow0_col27\" class=\"data row0 col27\" >92</td>\n",
       "                        <td id=\"T_a355fa3e_aee7_11ea_a4f1_4c32759132ddrow0_col28\" class=\"data row0 col28\" >1</td>\n",
       "                        <td id=\"T_a355fa3e_aee7_11ea_a4f1_4c32759132ddrow0_col29\" class=\"data row0 col29\" >0.58</td>\n",
       "                        <td id=\"T_a355fa3e_aee7_11ea_a4f1_4c32759132ddrow0_col30\" class=\"data row0 col30\" >75</td>\n",
       "                        <td id=\"T_a355fa3e_aee7_11ea_a4f1_4c32759132ddrow0_col31\" class=\"data row0 col31\" >60</td>\n",
       "                        <td id=\"T_a355fa3e_aee7_11ea_a4f1_4c32759132ddrow0_col32\" class=\"data row0 col32\" >0.79</td>\n",
       "                        <td id=\"T_a355fa3e_aee7_11ea_a4f1_4c32759132ddrow0_col33\" class=\"data row0 col33\" >81</td>\n",
       "                        <td id=\"T_a355fa3e_aee7_11ea_a4f1_4c32759132ddrow0_col34\" class=\"data row0 col34\" >1</td>\n",
       "                        <td id=\"T_a355fa3e_aee7_11ea_a4f1_4c32759132ddrow0_col35\" class=\"data row0 col35\" >0.79</td>\n",
       "                        <td id=\"T_a355fa3e_aee7_11ea_a4f1_4c32759132ddrow0_col36\" class=\"data row0 col36\" >81</td>\n",
       "                        <td id=\"T_a355fa3e_aee7_11ea_a4f1_4c32759132ddrow0_col37\" class=\"data row0 col37\" >nan</td>\n",
       "                        <td id=\"T_a355fa3e_aee7_11ea_a4f1_4c32759132ddrow0_col38\" class=\"data row0 col38\" >#33ffc9</td>\n",
       "            </tr>\n",
       "            <tr>\n",
       "                        <th id=\"T_a355fa3e_aee7_11ea_a4f1_4c32759132ddlevel0_row1\" class=\"row_heading level0 row1\" >14</th>\n",
       "                        <td id=\"T_a355fa3e_aee7_11ea_a4f1_4c32759132ddrow1_col0\" class=\"data row1 col0\" >51 B7 6E C2 FD</td>\n",
       "                        <td id=\"T_a355fa3e_aee7_11ea_a4f1_4c32759132ddrow1_col1\" class=\"data row1 col1\" >40</td>\n",
       "                        <td id=\"T_a355fa3e_aee7_11ea_a4f1_4c32759132ddrow1_col2\" class=\"data row1 col2\" >Type 2</td>\n",
       "                        <td id=\"T_a355fa3e_aee7_11ea_a4f1_4c32759132ddrow1_col3\" class=\"data row1 col3\" >Verres correcteurs</td>\n",
       "                        <td id=\"T_a355fa3e_aee7_11ea_a4f1_4c32759132ddrow1_col4\" class=\"data row1 col4\" >Aucune</td>\n",
       "                        <td id=\"T_a355fa3e_aee7_11ea_a4f1_4c32759132ddrow1_col5\" class=\"data row1 col5\" >Aucune</td>\n",
       "                        <td id=\"T_a355fa3e_aee7_11ea_a4f1_4c32759132ddrow1_col6\" class=\"data row1 col6\" >Implant cochléaire</td>\n",
       "                        <td id=\"T_a355fa3e_aee7_11ea_a4f1_4c32759132ddrow1_col7\" class=\"data row1 col7\" >Implant cochléaire</td>\n",
       "                        <td id=\"T_a355fa3e_aee7_11ea_a4f1_4c32759132ddrow1_col8\" class=\"data row1 col8\" >Non</td>\n",
       "                        <td id=\"T_a355fa3e_aee7_11ea_a4f1_4c32759132ddrow1_col9\" class=\"data row1 col9\" >17</td>\n",
       "                        <td id=\"T_a355fa3e_aee7_11ea_a4f1_4c32759132ddrow1_col10\" class=\"data row1 col10\" >Oui</td>\n",
       "                        <td id=\"T_a355fa3e_aee7_11ea_a4f1_4c32759132ddrow1_col11\" class=\"data row1 col11\" >2017-11-21 00:00:00</td>\n",
       "                        <td id=\"T_a355fa3e_aee7_11ea_a4f1_4c32759132ddrow1_col12\" class=\"data row1 col12\" >nan</td>\n",
       "                        <td id=\"T_a355fa3e_aee7_11ea_a4f1_4c32759132ddrow1_col13\" class=\"data row1 col13\" >51</td>\n",
       "                        <td id=\"T_a355fa3e_aee7_11ea_a4f1_4c32759132ddrow1_col14\" class=\"data row1 col14\" >-0.55</td>\n",
       "                        <td id=\"T_a355fa3e_aee7_11ea_a4f1_4c32759132ddrow1_col15\" class=\"data row1 col15\" >32</td>\n",
       "                        <td id=\"T_a355fa3e_aee7_11ea_a4f1_4c32759132ddrow1_col16\" class=\"data row1 col16\" >0</td>\n",
       "                        <td id=\"T_a355fa3e_aee7_11ea_a4f1_4c32759132ddrow1_col17\" class=\"data row1 col17\" >nan</td>\n",
       "                        <td id=\"T_a355fa3e_aee7_11ea_a4f1_4c32759132ddrow1_col18\" class=\"data row1 col18\" >nan</td>\n",
       "                        <td id=\"T_a355fa3e_aee7_11ea_a4f1_4c32759132ddrow1_col19\" class=\"data row1 col19\" >40</td>\n",
       "                        <td id=\"T_a355fa3e_aee7_11ea_a4f1_4c32759132ddrow1_col20\" class=\"data row1 col20\" >0</td>\n",
       "                        <td id=\"T_a355fa3e_aee7_11ea_a4f1_4c32759132ddrow1_col21\" class=\"data row1 col21\" >54</td>\n",
       "                        <td id=\"T_a355fa3e_aee7_11ea_a4f1_4c32759132ddrow1_col22\" class=\"data row1 col22\" >0</td>\n",
       "                        <td id=\"T_a355fa3e_aee7_11ea_a4f1_4c32759132ddrow1_col23\" class=\"data row1 col23\" >nan</td>\n",
       "                        <td id=\"T_a355fa3e_aee7_11ea_a4f1_4c32759132ddrow1_col24\" class=\"data row1 col24\" >nan</td>\n",
       "                        <td id=\"T_a355fa3e_aee7_11ea_a4f1_4c32759132ddrow1_col25\" class=\"data row1 col25\" >73</td>\n",
       "                        <td id=\"T_a355fa3e_aee7_11ea_a4f1_4c32759132ddrow1_col26\" class=\"data row1 col26\" >-1.05</td>\n",
       "                        <td id=\"T_a355fa3e_aee7_11ea_a4f1_4c32759132ddrow1_col27\" class=\"data row1 col27\" >13</td>\n",
       "                        <td id=\"T_a355fa3e_aee7_11ea_a4f1_4c32759132ddrow1_col28\" class=\"data row1 col28\" >0</td>\n",
       "                        <td id=\"T_a355fa3e_aee7_11ea_a4f1_4c32759132ddrow1_col29\" class=\"data row1 col29\" >nan</td>\n",
       "                        <td id=\"T_a355fa3e_aee7_11ea_a4f1_4c32759132ddrow1_col30\" class=\"data row1 col30\" >nan</td>\n",
       "                        <td id=\"T_a355fa3e_aee7_11ea_a4f1_4c32759132ddrow1_col31\" class=\"data row1 col31\" >22</td>\n",
       "                        <td id=\"T_a355fa3e_aee7_11ea_a4f1_4c32759132ddrow1_col32\" class=\"data row1 col32\" >-1</td>\n",
       "                        <td id=\"T_a355fa3e_aee7_11ea_a4f1_4c32759132ddrow1_col33\" class=\"data row1 col33\" >17</td>\n",
       "                        <td id=\"T_a355fa3e_aee7_11ea_a4f1_4c32759132ddrow1_col34\" class=\"data row1 col34\" >0</td>\n",
       "                        <td id=\"T_a355fa3e_aee7_11ea_a4f1_4c32759132ddrow1_col35\" class=\"data row1 col35\" >nan</td>\n",
       "                        <td id=\"T_a355fa3e_aee7_11ea_a4f1_4c32759132ddrow1_col36\" class=\"data row1 col36\" >nan</td>\n",
       "                        <td id=\"T_a355fa3e_aee7_11ea_a4f1_4c32759132ddrow1_col37\" class=\"data row1 col37\" >nan</td>\n",
       "                        <td id=\"T_a355fa3e_aee7_11ea_a4f1_4c32759132ddrow1_col38\" class=\"data row1 col38\" >#B3D9FF</td>\n",
       "            </tr>\n",
       "            <tr>\n",
       "                        <th id=\"T_a355fa3e_aee7_11ea_a4f1_4c32759132ddlevel0_row2\" class=\"row_heading level0 row2\" >20</th>\n",
       "                        <td id=\"T_a355fa3e_aee7_11ea_a4f1_4c32759132ddrow2_col0\" class=\"data row2 col0\" >64 0B 1B 0A 45</td>\n",
       "                        <td id=\"T_a355fa3e_aee7_11ea_a4f1_4c32759132ddrow2_col1\" class=\"data row2 col1\" >38</td>\n",
       "                        <td id=\"T_a355fa3e_aee7_11ea_a4f1_4c32759132ddrow2_col2\" class=\"data row2 col2\" >Type 2</td>\n",
       "                        <td id=\"T_a355fa3e_aee7_11ea_a4f1_4c32759132ddrow2_col3\" class=\"data row2 col3\" >Aucune</td>\n",
       "                        <td id=\"T_a355fa3e_aee7_11ea_a4f1_4c32759132ddrow2_col4\" class=\"data row2 col4\" >Aucune</td>\n",
       "                        <td id=\"T_a355fa3e_aee7_11ea_a4f1_4c32759132ddrow2_col5\" class=\"data row2 col5\" >Aucune</td>\n",
       "                        <td id=\"T_a355fa3e_aee7_11ea_a4f1_4c32759132ddrow2_col6\" class=\"data row2 col6\" >Implant cochléaire</td>\n",
       "                        <td id=\"T_a355fa3e_aee7_11ea_a4f1_4c32759132ddrow2_col7\" class=\"data row2 col7\" >Implant cochléaire</td>\n",
       "                        <td id=\"T_a355fa3e_aee7_11ea_a4f1_4c32759132ddrow2_col8\" class=\"data row2 col8\" >Non</td>\n",
       "                        <td id=\"T_a355fa3e_aee7_11ea_a4f1_4c32759132ddrow2_col9\" class=\"data row2 col9\" >17</td>\n",
       "                        <td id=\"T_a355fa3e_aee7_11ea_a4f1_4c32759132ddrow2_col10\" class=\"data row2 col10\" >Oui</td>\n",
       "                        <td id=\"T_a355fa3e_aee7_11ea_a4f1_4c32759132ddrow2_col11\" class=\"data row2 col11\" >2017-12-12 00:00:00</td>\n",
       "                        <td id=\"T_a355fa3e_aee7_11ea_a4f1_4c32759132ddrow2_col12\" class=\"data row2 col12\" >nan</td>\n",
       "                        <td id=\"T_a355fa3e_aee7_11ea_a4f1_4c32759132ddrow2_col13\" class=\"data row2 col13\" >55</td>\n",
       "                        <td id=\"T_a355fa3e_aee7_11ea_a4f1_4c32759132ddrow2_col14\" class=\"data row2 col14\" >-0.011</td>\n",
       "                        <td id=\"T_a355fa3e_aee7_11ea_a4f1_4c32759132ddrow2_col15\" class=\"data row2 col15\" >46</td>\n",
       "                        <td id=\"T_a355fa3e_aee7_11ea_a4f1_4c32759132ddrow2_col16\" class=\"data row2 col16\" >0</td>\n",
       "                        <td id=\"T_a355fa3e_aee7_11ea_a4f1_4c32759132ddrow2_col17\" class=\"data row2 col17\" >nan</td>\n",
       "                        <td id=\"T_a355fa3e_aee7_11ea_a4f1_4c32759132ddrow2_col18\" class=\"data row2 col18\" >nan</td>\n",
       "                        <td id=\"T_a355fa3e_aee7_11ea_a4f1_4c32759132ddrow2_col19\" class=\"data row2 col19\" >48</td>\n",
       "                        <td id=\"T_a355fa3e_aee7_11ea_a4f1_4c32759132ddrow2_col20\" class=\"data row2 col20\" >1.33</td>\n",
       "                        <td id=\"T_a355fa3e_aee7_11ea_a4f1_4c32759132ddrow2_col21\" class=\"data row2 col21\" >90</td>\n",
       "                        <td id=\"T_a355fa3e_aee7_11ea_a4f1_4c32759132ddrow2_col22\" class=\"data row2 col22\" >0</td>\n",
       "                        <td id=\"T_a355fa3e_aee7_11ea_a4f1_4c32759132ddrow2_col23\" class=\"data row2 col23\" >nan</td>\n",
       "                        <td id=\"T_a355fa3e_aee7_11ea_a4f1_4c32759132ddrow2_col24\" class=\"data row2 col24\" >nan</td>\n",
       "                        <td id=\"T_a355fa3e_aee7_11ea_a4f1_4c32759132ddrow2_col25\" class=\"data row2 col25\" >75</td>\n",
       "                        <td id=\"T_a355fa3e_aee7_11ea_a4f1_4c32759132ddrow2_col26\" class=\"data row2 col26\" >0.94</td>\n",
       "                        <td id=\"T_a355fa3e_aee7_11ea_a4f1_4c32759132ddrow2_col27\" class=\"data row2 col27\" >17</td>\n",
       "                        <td id=\"T_a355fa3e_aee7_11ea_a4f1_4c32759132ddrow2_col28\" class=\"data row2 col28\" >2</td>\n",
       "                        <td id=\"T_a355fa3e_aee7_11ea_a4f1_4c32759132ddrow2_col29\" class=\"data row2 col29\" >3.16</td>\n",
       "                        <td id=\"T_a355fa3e_aee7_11ea_a4f1_4c32759132ddrow2_col30\" class=\"data row2 col30\" >95</td>\n",
       "                        <td id=\"T_a355fa3e_aee7_11ea_a4f1_4c32759132ddrow2_col31\" class=\"data row2 col31\" >20</td>\n",
       "                        <td id=\"T_a355fa3e_aee7_11ea_a4f1_4c32759132ddrow2_col32\" class=\"data row2 col32\" >-1.14</td>\n",
       "                        <td id=\"T_a355fa3e_aee7_11ea_a4f1_4c32759132ddrow2_col33\" class=\"data row2 col33\" >10</td>\n",
       "                        <td id=\"T_a355fa3e_aee7_11ea_a4f1_4c32759132ddrow2_col34\" class=\"data row2 col34\" >2</td>\n",
       "                        <td id=\"T_a355fa3e_aee7_11ea_a4f1_4c32759132ddrow2_col35\" class=\"data row2 col35\" >3.08</td>\n",
       "                        <td id=\"T_a355fa3e_aee7_11ea_a4f1_4c32759132ddrow2_col36\" class=\"data row2 col36\" >95</td>\n",
       "                        <td id=\"T_a355fa3e_aee7_11ea_a4f1_4c32759132ddrow2_col37\" class=\"data row2 col37\" >nan</td>\n",
       "                        <td id=\"T_a355fa3e_aee7_11ea_a4f1_4c32759132ddrow2_col38\" class=\"data row2 col38\" >#B3D9FF</td>\n",
       "            </tr>\n",
       "            <tr>\n",
       "                        <th id=\"T_a355fa3e_aee7_11ea_a4f1_4c32759132ddlevel0_row3\" class=\"row_heading level0 row3\" >26</th>\n",
       "                        <td id=\"T_a355fa3e_aee7_11ea_a4f1_4c32759132ddrow3_col0\" class=\"data row3 col0\" >EF 2E 22 E0 EA</td>\n",
       "                        <td id=\"T_a355fa3e_aee7_11ea_a4f1_4c32759132ddrow3_col1\" class=\"data row3 col1\" >18</td>\n",
       "                        <td id=\"T_a355fa3e_aee7_11ea_a4f1_4c32759132ddrow3_col2\" class=\"data row3 col2\" >Type 1</td>\n",
       "                        <td id=\"T_a355fa3e_aee7_11ea_a4f1_4c32759132ddrow3_col3\" class=\"data row3 col3\" >Refus de porter verres correcteurs ce jour</td>\n",
       "                        <td id=\"T_a355fa3e_aee7_11ea_a4f1_4c32759132ddrow3_col4\" class=\"data row3 col4\" >Aucune</td>\n",
       "                        <td id=\"T_a355fa3e_aee7_11ea_a4f1_4c32759132ddrow3_col5\" class=\"data row3 col5\" >Aucune</td>\n",
       "                        <td id=\"T_a355fa3e_aee7_11ea_a4f1_4c32759132ddrow3_col6\" class=\"data row3 col6\" >Implant cochléaire</td>\n",
       "                        <td id=\"T_a355fa3e_aee7_11ea_a4f1_4c32759132ddrow3_col7\" class=\"data row3 col7\" >Aucun</td>\n",
       "                        <td id=\"T_a355fa3e_aee7_11ea_a4f1_4c32759132ddrow3_col8\" class=\"data row3 col8\" >Oui</td>\n",
       "                        <td id=\"T_a355fa3e_aee7_11ea_a4f1_4c32759132ddrow3_col9\" class=\"data row3 col9\" >10</td>\n",
       "                        <td id=\"T_a355fa3e_aee7_11ea_a4f1_4c32759132ddrow3_col10\" class=\"data row3 col10\" >Oui</td>\n",
       "                        <td id=\"T_a355fa3e_aee7_11ea_a4f1_4c32759132ddrow3_col11\" class=\"data row3 col11\" >2018-06-22 00:00:00</td>\n",
       "                        <td id=\"T_a355fa3e_aee7_11ea_a4f1_4c32759132ddrow3_col12\" class=\"data row3 col12\" >nan</td>\n",
       "                        <td id=\"T_a355fa3e_aee7_11ea_a4f1_4c32759132ddrow3_col13\" class=\"data row3 col13\" >80</td>\n",
       "                        <td id=\"T_a355fa3e_aee7_11ea_a4f1_4c32759132ddrow3_col14\" class=\"data row3 col14\" >2</td>\n",
       "                        <td id=\"T_a355fa3e_aee7_11ea_a4f1_4c32759132ddrow3_col15\" class=\"data row3 col15\" >94</td>\n",
       "                        <td id=\"T_a355fa3e_aee7_11ea_a4f1_4c32759132ddrow3_col16\" class=\"data row3 col16\" >0</td>\n",
       "                        <td id=\"T_a355fa3e_aee7_11ea_a4f1_4c32759132ddrow3_col17\" class=\"data row3 col17\" >nan</td>\n",
       "                        <td id=\"T_a355fa3e_aee7_11ea_a4f1_4c32759132ddrow3_col18\" class=\"data row3 col18\" >nan</td>\n",
       "                        <td id=\"T_a355fa3e_aee7_11ea_a4f1_4c32759132ddrow3_col19\" class=\"data row3 col19\" >75</td>\n",
       "                        <td id=\"T_a355fa3e_aee7_11ea_a4f1_4c32759132ddrow3_col20\" class=\"data row3 col20\" >4.12</td>\n",
       "                        <td id=\"T_a355fa3e_aee7_11ea_a4f1_4c32759132ddrow3_col21\" class=\"data row3 col21\" >95</td>\n",
       "                        <td id=\"T_a355fa3e_aee7_11ea_a4f1_4c32759132ddrow3_col22\" class=\"data row3 col22\" >0</td>\n",
       "                        <td id=\"T_a355fa3e_aee7_11ea_a4f1_4c32759132ddrow3_col23\" class=\"data row3 col23\" >nan</td>\n",
       "                        <td id=\"T_a355fa3e_aee7_11ea_a4f1_4c32759132ddrow3_col24\" class=\"data row3 col24\" >nan</td>\n",
       "                        <td id=\"T_a355fa3e_aee7_11ea_a4f1_4c32759132ddrow3_col25\" class=\"data row3 col25\" >101</td>\n",
       "                        <td id=\"T_a355fa3e_aee7_11ea_a4f1_4c32759132ddrow3_col26\" class=\"data row3 col26\" >0.03</td>\n",
       "                        <td id=\"T_a355fa3e_aee7_11ea_a4f1_4c32759132ddrow3_col27\" class=\"data row3 col27\" >59</td>\n",
       "                        <td id=\"T_a355fa3e_aee7_11ea_a4f1_4c32759132ddrow3_col28\" class=\"data row3 col28\" >1</td>\n",
       "                        <td id=\"T_a355fa3e_aee7_11ea_a4f1_4c32759132ddrow3_col29\" class=\"data row3 col29\" >0.58</td>\n",
       "                        <td id=\"T_a355fa3e_aee7_11ea_a4f1_4c32759132ddrow3_col30\" class=\"data row3 col30\" >75</td>\n",
       "                        <td id=\"T_a355fa3e_aee7_11ea_a4f1_4c32759132ddrow3_col31\" class=\"data row3 col31\" >26</td>\n",
       "                        <td id=\"T_a355fa3e_aee7_11ea_a4f1_4c32759132ddrow3_col32\" class=\"data row3 col32\" >-0.62</td>\n",
       "                        <td id=\"T_a355fa3e_aee7_11ea_a4f1_4c32759132ddrow3_col33\" class=\"data row3 col33\" >17</td>\n",
       "                        <td id=\"T_a355fa3e_aee7_11ea_a4f1_4c32759132ddrow3_col34\" class=\"data row3 col34\" >1</td>\n",
       "                        <td id=\"T_a355fa3e_aee7_11ea_a4f1_4c32759132ddrow3_col35\" class=\"data row3 col35\" >0.79</td>\n",
       "                        <td id=\"T_a355fa3e_aee7_11ea_a4f1_4c32759132ddrow3_col36\" class=\"data row3 col36\" >81</td>\n",
       "                        <td id=\"T_a355fa3e_aee7_11ea_a4f1_4c32759132ddrow3_col37\" class=\"data row3 col37\" >nan</td>\n",
       "                        <td id=\"T_a355fa3e_aee7_11ea_a4f1_4c32759132ddrow3_col38\" class=\"data row3 col38\" >#33ffc9</td>\n",
       "            </tr>\n",
       "            <tr>\n",
       "                        <th id=\"T_a355fa3e_aee7_11ea_a4f1_4c32759132ddlevel0_row4\" class=\"row_heading level0 row4\" >30</th>\n",
       "                        <td id=\"T_a355fa3e_aee7_11ea_a4f1_4c32759132ddrow4_col0\" class=\"data row4 col0\" >8A 77 B8 09 AD</td>\n",
       "                        <td id=\"T_a355fa3e_aee7_11ea_a4f1_4c32759132ddrow4_col1\" class=\"data row4 col1\" >38</td>\n",
       "                        <td id=\"T_a355fa3e_aee7_11ea_a4f1_4c32759132ddrow4_col2\" class=\"data row4 col2\" >Type 2</td>\n",
       "                        <td id=\"T_a355fa3e_aee7_11ea_a4f1_4c32759132ddrow4_col3\" class=\"data row4 col3\" >Verres correcteurs</td>\n",
       "                        <td id=\"T_a355fa3e_aee7_11ea_a4f1_4c32759132ddrow4_col4\" class=\"data row4 col4\" >Prothèse auditive conventionnelle</td>\n",
       "                        <td id=\"T_a355fa3e_aee7_11ea_a4f1_4c32759132ddrow4_col5\" class=\"data row4 col5\" >Prothèse auditive conventionnelle</td>\n",
       "                        <td id=\"T_a355fa3e_aee7_11ea_a4f1_4c32759132ddrow4_col6\" class=\"data row4 col6\" >Aucun</td>\n",
       "                        <td id=\"T_a355fa3e_aee7_11ea_a4f1_4c32759132ddrow4_col7\" class=\"data row4 col7\" >Aucun</td>\n",
       "                        <td id=\"T_a355fa3e_aee7_11ea_a4f1_4c32759132ddrow4_col8\" class=\"data row4 col8\" >Non</td>\n",
       "                        <td id=\"T_a355fa3e_aee7_11ea_a4f1_4c32759132ddrow4_col9\" class=\"data row4 col9\" >17</td>\n",
       "                        <td id=\"T_a355fa3e_aee7_11ea_a4f1_4c32759132ddrow4_col10\" class=\"data row4 col10\" >Oui</td>\n",
       "                        <td id=\"T_a355fa3e_aee7_11ea_a4f1_4c32759132ddrow4_col11\" class=\"data row4 col11\" >2018-06-08 00:00:00</td>\n",
       "                        <td id=\"T_a355fa3e_aee7_11ea_a4f1_4c32759132ddrow4_col12\" class=\"data row4 col12\" >nan</td>\n",
       "                        <td id=\"T_a355fa3e_aee7_11ea_a4f1_4c32759132ddrow4_col13\" class=\"data row4 col13\" >70</td>\n",
       "                        <td id=\"T_a355fa3e_aee7_11ea_a4f1_4c32759132ddrow4_col14\" class=\"data row4 col14\" >1.5</td>\n",
       "                        <td id=\"T_a355fa3e_aee7_11ea_a4f1_4c32759132ddrow4_col15\" class=\"data row4 col15\" >91</td>\n",
       "                        <td id=\"T_a355fa3e_aee7_11ea_a4f1_4c32759132ddrow4_col16\" class=\"data row4 col16\" >0</td>\n",
       "                        <td id=\"T_a355fa3e_aee7_11ea_a4f1_4c32759132ddrow4_col17\" class=\"data row4 col17\" >nan</td>\n",
       "                        <td id=\"T_a355fa3e_aee7_11ea_a4f1_4c32759132ddrow4_col18\" class=\"data row4 col18\" >5</td>\n",
       "                        <td id=\"T_a355fa3e_aee7_11ea_a4f1_4c32759132ddrow4_col19\" class=\"data row4 col19\" >52</td>\n",
       "                        <td id=\"T_a355fa3e_aee7_11ea_a4f1_4c32759132ddrow4_col20\" class=\"data row4 col20\" >2</td>\n",
       "                        <td id=\"T_a355fa3e_aee7_11ea_a4f1_4c32759132ddrow4_col21\" class=\"data row4 col21\" >94</td>\n",
       "                        <td id=\"T_a355fa3e_aee7_11ea_a4f1_4c32759132ddrow4_col22\" class=\"data row4 col22\" >0</td>\n",
       "                        <td id=\"T_a355fa3e_aee7_11ea_a4f1_4c32759132ddrow4_col23\" class=\"data row4 col23\" >nan</td>\n",
       "                        <td id=\"T_a355fa3e_aee7_11ea_a4f1_4c32759132ddrow4_col24\" class=\"data row4 col24\" >5</td>\n",
       "                        <td id=\"T_a355fa3e_aee7_11ea_a4f1_4c32759132ddrow4_col25\" class=\"data row4 col25\" >98</td>\n",
       "                        <td id=\"T_a355fa3e_aee7_11ea_a4f1_4c32759132ddrow4_col26\" class=\"data row4 col26\" >0.3</td>\n",
       "                        <td id=\"T_a355fa3e_aee7_11ea_a4f1_4c32759132ddrow4_col27\" class=\"data row4 col27\" >70</td>\n",
       "                        <td id=\"T_a355fa3e_aee7_11ea_a4f1_4c32759132ddrow4_col28\" class=\"data row4 col28\" >1</td>\n",
       "                        <td id=\"T_a355fa3e_aee7_11ea_a4f1_4c32759132ddrow4_col29\" class=\"data row4 col29\" >1.4</td>\n",
       "                        <td id=\"T_a355fa3e_aee7_11ea_a4f1_4c32759132ddrow4_col30\" class=\"data row4 col30\" >90</td>\n",
       "                        <td id=\"T_a355fa3e_aee7_11ea_a4f1_4c32759132ddrow4_col31\" class=\"data row4 col31\" >28</td>\n",
       "                        <td id=\"T_a355fa3e_aee7_11ea_a4f1_4c32759132ddrow4_col32\" class=\"data row4 col32\" >-0.6</td>\n",
       "                        <td id=\"T_a355fa3e_aee7_11ea_a4f1_4c32759132ddrow4_col33\" class=\"data row4 col33\" >33</td>\n",
       "                        <td id=\"T_a355fa3e_aee7_11ea_a4f1_4c32759132ddrow4_col34\" class=\"data row4 col34\" >1</td>\n",
       "                        <td id=\"T_a355fa3e_aee7_11ea_a4f1_4c32759132ddrow4_col35\" class=\"data row4 col35\" >1.4</td>\n",
       "                        <td id=\"T_a355fa3e_aee7_11ea_a4f1_4c32759132ddrow4_col36\" class=\"data row4 col36\" >90</td>\n",
       "                        <td id=\"T_a355fa3e_aee7_11ea_a4f1_4c32759132ddrow4_col37\" class=\"data row4 col37\" >nan</td>\n",
       "                        <td id=\"T_a355fa3e_aee7_11ea_a4f1_4c32759132ddrow4_col38\" class=\"data row4 col38\" >#B3D9FF</td>\n",
       "            </tr>\n",
       "            <tr>\n",
       "                        <th id=\"T_a355fa3e_aee7_11ea_a4f1_4c32759132ddlevel0_row5\" class=\"row_heading level0 row5\" >34</th>\n",
       "                        <td id=\"T_a355fa3e_aee7_11ea_a4f1_4c32759132ddrow5_col0\" class=\"data row5 col0\" >90 01 09 71 F0</td>\n",
       "                        <td id=\"T_a355fa3e_aee7_11ea_a4f1_4c32759132ddrow5_col1\" class=\"data row5 col1\" >26</td>\n",
       "                        <td id=\"T_a355fa3e_aee7_11ea_a4f1_4c32759132ddrow5_col2\" class=\"data row5 col2\" >Type 2</td>\n",
       "                        <td id=\"T_a355fa3e_aee7_11ea_a4f1_4c32759132ddrow5_col3\" class=\"data row5 col3\" >Verres correcteurs</td>\n",
       "                        <td id=\"T_a355fa3e_aee7_11ea_a4f1_4c32759132ddrow5_col4\" class=\"data row5 col4\" >Prothèse auditive conventionnelle</td>\n",
       "                        <td id=\"T_a355fa3e_aee7_11ea_a4f1_4c32759132ddrow5_col5\" class=\"data row5 col5\" >Prothèse auditive conventionnelle</td>\n",
       "                        <td id=\"T_a355fa3e_aee7_11ea_a4f1_4c32759132ddrow5_col6\" class=\"data row5 col6\" >Aucun</td>\n",
       "                        <td id=\"T_a355fa3e_aee7_11ea_a4f1_4c32759132ddrow5_col7\" class=\"data row5 col7\" >Aucun</td>\n",
       "                        <td id=\"T_a355fa3e_aee7_11ea_a4f1_4c32759132ddrow5_col8\" class=\"data row5 col8\" >Non</td>\n",
       "                        <td id=\"T_a355fa3e_aee7_11ea_a4f1_4c32759132ddrow5_col9\" class=\"data row5 col9\" >11</td>\n",
       "                        <td id=\"T_a355fa3e_aee7_11ea_a4f1_4c32759132ddrow5_col10\" class=\"data row5 col10\" >Oui</td>\n",
       "                        <td id=\"T_a355fa3e_aee7_11ea_a4f1_4c32759132ddrow5_col11\" class=\"data row5 col11\" >2018-08-22 00:00:00</td>\n",
       "                        <td id=\"T_a355fa3e_aee7_11ea_a4f1_4c32759132ddrow5_col12\" class=\"data row5 col12\" >nan</td>\n",
       "                        <td id=\"T_a355fa3e_aee7_11ea_a4f1_4c32759132ddrow5_col13\" class=\"data row5 col13\" >73</td>\n",
       "                        <td id=\"T_a355fa3e_aee7_11ea_a4f1_4c32759132ddrow5_col14\" class=\"data row5 col14\" >1.36</td>\n",
       "                        <td id=\"T_a355fa3e_aee7_11ea_a4f1_4c32759132ddrow5_col15\" class=\"data row5 col15\" >87</td>\n",
       "                        <td id=\"T_a355fa3e_aee7_11ea_a4f1_4c32759132ddrow5_col16\" class=\"data row5 col16\" >0</td>\n",
       "                        <td id=\"T_a355fa3e_aee7_11ea_a4f1_4c32759132ddrow5_col17\" class=\"data row5 col17\" >nan</td>\n",
       "                        <td id=\"T_a355fa3e_aee7_11ea_a4f1_4c32759132ddrow5_col18\" class=\"data row5 col18\" >nan</td>\n",
       "                        <td id=\"T_a355fa3e_aee7_11ea_a4f1_4c32759132ddrow5_col19\" class=\"data row5 col19\" >50</td>\n",
       "                        <td id=\"T_a355fa3e_aee7_11ea_a4f1_4c32759132ddrow5_col20\" class=\"data row5 col20\" >1</td>\n",
       "                        <td id=\"T_a355fa3e_aee7_11ea_a4f1_4c32759132ddrow5_col21\" class=\"data row5 col21\" >86</td>\n",
       "                        <td id=\"T_a355fa3e_aee7_11ea_a4f1_4c32759132ddrow5_col22\" class=\"data row5 col22\" >0</td>\n",
       "                        <td id=\"T_a355fa3e_aee7_11ea_a4f1_4c32759132ddrow5_col23\" class=\"data row5 col23\" >nan</td>\n",
       "                        <td id=\"T_a355fa3e_aee7_11ea_a4f1_4c32759132ddrow5_col24\" class=\"data row5 col24\" >nan</td>\n",
       "                        <td id=\"T_a355fa3e_aee7_11ea_a4f1_4c32759132ddrow5_col25\" class=\"data row5 col25\" >128</td>\n",
       "                        <td id=\"T_a355fa3e_aee7_11ea_a4f1_4c32759132ddrow5_col26\" class=\"data row5 col26\" >0.9</td>\n",
       "                        <td id=\"T_a355fa3e_aee7_11ea_a4f1_4c32759132ddrow5_col27\" class=\"data row5 col27\" >88</td>\n",
       "                        <td id=\"T_a355fa3e_aee7_11ea_a4f1_4c32759132ddrow5_col28\" class=\"data row5 col28\" >0</td>\n",
       "                        <td id=\"T_a355fa3e_aee7_11ea_a4f1_4c32759132ddrow5_col29\" class=\"data row5 col29\" >nan</td>\n",
       "                        <td id=\"T_a355fa3e_aee7_11ea_a4f1_4c32759132ddrow5_col30\" class=\"data row5 col30\" >nan</td>\n",
       "                        <td id=\"T_a355fa3e_aee7_11ea_a4f1_4c32759132ddrow5_col31\" class=\"data row5 col31\" >55</td>\n",
       "                        <td id=\"T_a355fa3e_aee7_11ea_a4f1_4c32759132ddrow5_col32\" class=\"data row5 col32\" >0.58</td>\n",
       "                        <td id=\"T_a355fa3e_aee7_11ea_a4f1_4c32759132ddrow5_col33\" class=\"data row5 col33\" >77</td>\n",
       "                        <td id=\"T_a355fa3e_aee7_11ea_a4f1_4c32759132ddrow5_col34\" class=\"data row5 col34\" >0</td>\n",
       "                        <td id=\"T_a355fa3e_aee7_11ea_a4f1_4c32759132ddrow5_col35\" class=\"data row5 col35\" >nan</td>\n",
       "                        <td id=\"T_a355fa3e_aee7_11ea_a4f1_4c32759132ddrow5_col36\" class=\"data row5 col36\" >nan</td>\n",
       "                        <td id=\"T_a355fa3e_aee7_11ea_a4f1_4c32759132ddrow5_col37\" class=\"data row5 col37\" >nan</td>\n",
       "                        <td id=\"T_a355fa3e_aee7_11ea_a4f1_4c32759132ddrow5_col38\" class=\"data row5 col38\" >#B3D9FF</td>\n",
       "            </tr>\n",
       "            <tr>\n",
       "                        <th id=\"T_a355fa3e_aee7_11ea_a4f1_4c32759132ddlevel0_row6\" class=\"row_heading level0 row6\" >46</th>\n",
       "                        <td id=\"T_a355fa3e_aee7_11ea_a4f1_4c32759132ddrow6_col0\" class=\"data row6 col0\" >76 A2 26 6F C7</td>\n",
       "                        <td id=\"T_a355fa3e_aee7_11ea_a4f1_4c32759132ddrow6_col1\" class=\"data row6 col1\" >20</td>\n",
       "                        <td id=\"T_a355fa3e_aee7_11ea_a4f1_4c32759132ddrow6_col2\" class=\"data row6 col2\" >Type inconnu</td>\n",
       "                        <td id=\"T_a355fa3e_aee7_11ea_a4f1_4c32759132ddrow6_col3\" class=\"data row6 col3\" >Verres correcteurs</td>\n",
       "                        <td id=\"T_a355fa3e_aee7_11ea_a4f1_4c32759132ddrow6_col4\" class=\"data row6 col4\" >Aucune</td>\n",
       "                        <td id=\"T_a355fa3e_aee7_11ea_a4f1_4c32759132ddrow6_col5\" class=\"data row6 col5\" >Aucune</td>\n",
       "                        <td id=\"T_a355fa3e_aee7_11ea_a4f1_4c32759132ddrow6_col6\" class=\"data row6 col6\" >Implant cochléaire</td>\n",
       "                        <td id=\"T_a355fa3e_aee7_11ea_a4f1_4c32759132ddrow6_col7\" class=\"data row6 col7\" >Implant cochléaire</td>\n",
       "                        <td id=\"T_a355fa3e_aee7_11ea_a4f1_4c32759132ddrow6_col8\" class=\"data row6 col8\" >Non</td>\n",
       "                        <td id=\"T_a355fa3e_aee7_11ea_a4f1_4c32759132ddrow6_col9\" class=\"data row6 col9\" >11</td>\n",
       "                        <td id=\"T_a355fa3e_aee7_11ea_a4f1_4c32759132ddrow6_col10\" class=\"data row6 col10\" >Oui</td>\n",
       "                        <td id=\"T_a355fa3e_aee7_11ea_a4f1_4c32759132ddrow6_col11\" class=\"data row6 col11\" >2018-01-16 00:00:00</td>\n",
       "                        <td id=\"T_a355fa3e_aee7_11ea_a4f1_4c32759132ddrow6_col12\" class=\"data row6 col12\" >nan</td>\n",
       "                        <td id=\"T_a355fa3e_aee7_11ea_a4f1_4c32759132ddrow6_col13\" class=\"data row6 col13\" >80</td>\n",
       "                        <td id=\"T_a355fa3e_aee7_11ea_a4f1_4c32759132ddrow6_col14\" class=\"data row6 col14\" >2.66</td>\n",
       "                        <td id=\"T_a355fa3e_aee7_11ea_a4f1_4c32759132ddrow6_col15\" class=\"data row6 col15\" >95</td>\n",
       "                        <td id=\"T_a355fa3e_aee7_11ea_a4f1_4c32759132ddrow6_col16\" class=\"data row6 col16\" >0</td>\n",
       "                        <td id=\"T_a355fa3e_aee7_11ea_a4f1_4c32759132ddrow6_col17\" class=\"data row6 col17\" >nan</td>\n",
       "                        <td id=\"T_a355fa3e_aee7_11ea_a4f1_4c32759132ddrow6_col18\" class=\"data row6 col18\" >nan</td>\n",
       "                        <td id=\"T_a355fa3e_aee7_11ea_a4f1_4c32759132ddrow6_col19\" class=\"data row6 col19\" >67</td>\n",
       "                        <td id=\"T_a355fa3e_aee7_11ea_a4f1_4c32759132ddrow6_col20\" class=\"data row6 col20\" >4.5</td>\n",
       "                        <td id=\"T_a355fa3e_aee7_11ea_a4f1_4c32759132ddrow6_col21\" class=\"data row6 col21\" >95</td>\n",
       "                        <td id=\"T_a355fa3e_aee7_11ea_a4f1_4c32759132ddrow6_col22\" class=\"data row6 col22\" >0</td>\n",
       "                        <td id=\"T_a355fa3e_aee7_11ea_a4f1_4c32759132ddrow6_col23\" class=\"data row6 col23\" >nan</td>\n",
       "                        <td id=\"T_a355fa3e_aee7_11ea_a4f1_4c32759132ddrow6_col24\" class=\"data row6 col24\" >nan</td>\n",
       "                        <td id=\"T_a355fa3e_aee7_11ea_a4f1_4c32759132ddrow6_col25\" class=\"data row6 col25\" >117</td>\n",
       "                        <td id=\"T_a355fa3e_aee7_11ea_a4f1_4c32759132ddrow6_col26\" class=\"data row6 col26\" >1.38</td>\n",
       "                        <td id=\"T_a355fa3e_aee7_11ea_a4f1_4c32759132ddrow6_col27\" class=\"data row6 col27\" >86</td>\n",
       "                        <td id=\"T_a355fa3e_aee7_11ea_a4f1_4c32759132ddrow6_col28\" class=\"data row6 col28\" >2</td>\n",
       "                        <td id=\"T_a355fa3e_aee7_11ea_a4f1_4c32759132ddrow6_col29\" class=\"data row6 col29\" >3.16</td>\n",
       "                        <td id=\"T_a355fa3e_aee7_11ea_a4f1_4c32759132ddrow6_col30\" class=\"data row6 col30\" >95</td>\n",
       "                        <td id=\"T_a355fa3e_aee7_11ea_a4f1_4c32759132ddrow6_col31\" class=\"data row6 col31\" >37</td>\n",
       "                        <td id=\"T_a355fa3e_aee7_11ea_a4f1_4c32759132ddrow6_col32\" class=\"data row6 col32\" >0.07</td>\n",
       "                        <td id=\"T_a355fa3e_aee7_11ea_a4f1_4c32759132ddrow6_col33\" class=\"data row6 col33\" >57</td>\n",
       "                        <td id=\"T_a355fa3e_aee7_11ea_a4f1_4c32759132ddrow6_col34\" class=\"data row6 col34\" >2</td>\n",
       "                        <td id=\"T_a355fa3e_aee7_11ea_a4f1_4c32759132ddrow6_col35\" class=\"data row6 col35\" >3.08</td>\n",
       "                        <td id=\"T_a355fa3e_aee7_11ea_a4f1_4c32759132ddrow6_col36\" class=\"data row6 col36\" >95</td>\n",
       "                        <td id=\"T_a355fa3e_aee7_11ea_a4f1_4c32759132ddrow6_col37\" class=\"data row6 col37\" >nan</td>\n",
       "                        <td id=\"T_a355fa3e_aee7_11ea_a4f1_4c32759132ddrow6_col38\" class=\"data row6 col38\" >#C5C5C5</td>\n",
       "            </tr>\n",
       "            <tr>\n",
       "                        <th id=\"T_a355fa3e_aee7_11ea_a4f1_4c32759132ddlevel0_row7\" class=\"row_heading level0 row7\" >54</th>\n",
       "                        <td id=\"T_a355fa3e_aee7_11ea_a4f1_4c32759132ddrow7_col0\" class=\"data row7 col0\" >3F 34 F5 32 80</td>\n",
       "                        <td id=\"T_a355fa3e_aee7_11ea_a4f1_4c32759132ddrow7_col1\" class=\"data row7 col1\" >47</td>\n",
       "                        <td id=\"T_a355fa3e_aee7_11ea_a4f1_4c32759132ddrow7_col2\" class=\"data row7 col2\" >Type inconnu</td>\n",
       "                        <td id=\"T_a355fa3e_aee7_11ea_a4f1_4c32759132ddrow7_col3\" class=\"data row7 col3\" >Verres correcteurs</td>\n",
       "                        <td id=\"T_a355fa3e_aee7_11ea_a4f1_4c32759132ddrow7_col4\" class=\"data row7 col4\" >Prothèse auditive conventionnelle</td>\n",
       "                        <td id=\"T_a355fa3e_aee7_11ea_a4f1_4c32759132ddrow7_col5\" class=\"data row7 col5\" >Prothèse auditive conventionnelle</td>\n",
       "                        <td id=\"T_a355fa3e_aee7_11ea_a4f1_4c32759132ddrow7_col6\" class=\"data row7 col6\" >Aucun</td>\n",
       "                        <td id=\"T_a355fa3e_aee7_11ea_a4f1_4c32759132ddrow7_col7\" class=\"data row7 col7\" >Aucun</td>\n",
       "                        <td id=\"T_a355fa3e_aee7_11ea_a4f1_4c32759132ddrow7_col8\" class=\"data row7 col8\" >Non</td>\n",
       "                        <td id=\"T_a355fa3e_aee7_11ea_a4f1_4c32759132ddrow7_col9\" class=\"data row7 col9\" >14</td>\n",
       "                        <td id=\"T_a355fa3e_aee7_11ea_a4f1_4c32759132ddrow7_col10\" class=\"data row7 col10\" >Oui</td>\n",
       "                        <td id=\"T_a355fa3e_aee7_11ea_a4f1_4c32759132ddrow7_col11\" class=\"data row7 col11\" >2017-10-10 00:00:00</td>\n",
       "                        <td id=\"T_a355fa3e_aee7_11ea_a4f1_4c32759132ddrow7_col12\" class=\"data row7 col12\" >nan</td>\n",
       "                        <td id=\"T_a355fa3e_aee7_11ea_a4f1_4c32759132ddrow7_col13\" class=\"data row7 col13\" >63</td>\n",
       "                        <td id=\"T_a355fa3e_aee7_11ea_a4f1_4c32759132ddrow7_col14\" class=\"data row7 col14\" >0.7</td>\n",
       "                        <td id=\"T_a355fa3e_aee7_11ea_a4f1_4c32759132ddrow7_col15\" class=\"data row7 col15\" >77</td>\n",
       "                        <td id=\"T_a355fa3e_aee7_11ea_a4f1_4c32759132ddrow7_col16\" class=\"data row7 col16\" >0</td>\n",
       "                        <td id=\"T_a355fa3e_aee7_11ea_a4f1_4c32759132ddrow7_col17\" class=\"data row7 col17\" >nan</td>\n",
       "                        <td id=\"T_a355fa3e_aee7_11ea_a4f1_4c32759132ddrow7_col18\" class=\"data row7 col18\" >nan</td>\n",
       "                        <td id=\"T_a355fa3e_aee7_11ea_a4f1_4c32759132ddrow7_col19\" class=\"data row7 col19\" >57</td>\n",
       "                        <td id=\"T_a355fa3e_aee7_11ea_a4f1_4c32759132ddrow7_col20\" class=\"data row7 col20\" >2.66</td>\n",
       "                        <td id=\"T_a355fa3e_aee7_11ea_a4f1_4c32759132ddrow7_col21\" class=\"data row7 col21\" >95</td>\n",
       "                        <td id=\"T_a355fa3e_aee7_11ea_a4f1_4c32759132ddrow7_col22\" class=\"data row7 col22\" >0</td>\n",
       "                        <td id=\"T_a355fa3e_aee7_11ea_a4f1_4c32759132ddrow7_col23\" class=\"data row7 col23\" >nan</td>\n",
       "                        <td id=\"T_a355fa3e_aee7_11ea_a4f1_4c32759132ddrow7_col24\" class=\"data row7 col24\" >nan</td>\n",
       "                        <td id=\"T_a355fa3e_aee7_11ea_a4f1_4c32759132ddrow7_col25\" class=\"data row7 col25\" >137</td>\n",
       "                        <td id=\"T_a355fa3e_aee7_11ea_a4f1_4c32759132ddrow7_col26\" class=\"data row7 col26\" >1.36</td>\n",
       "                        <td id=\"T_a355fa3e_aee7_11ea_a4f1_4c32759132ddrow7_col27\" class=\"data row7 col27\" >92</td>\n",
       "                        <td id=\"T_a355fa3e_aee7_11ea_a4f1_4c32759132ddrow7_col28\" class=\"data row7 col28\" >0</td>\n",
       "                        <td id=\"T_a355fa3e_aee7_11ea_a4f1_4c32759132ddrow7_col29\" class=\"data row7 col29\" >nan</td>\n",
       "                        <td id=\"T_a355fa3e_aee7_11ea_a4f1_4c32759132ddrow7_col30\" class=\"data row7 col30\" >nan</td>\n",
       "                        <td id=\"T_a355fa3e_aee7_11ea_a4f1_4c32759132ddrow7_col31\" class=\"data row7 col31\" >74</td>\n",
       "                        <td id=\"T_a355fa3e_aee7_11ea_a4f1_4c32759132ddrow7_col32\" class=\"data row7 col32\" >1.27</td>\n",
       "                        <td id=\"T_a355fa3e_aee7_11ea_a4f1_4c32759132ddrow7_col33\" class=\"data row7 col33\" >92</td>\n",
       "                        <td id=\"T_a355fa3e_aee7_11ea_a4f1_4c32759132ddrow7_col34\" class=\"data row7 col34\" >0</td>\n",
       "                        <td id=\"T_a355fa3e_aee7_11ea_a4f1_4c32759132ddrow7_col35\" class=\"data row7 col35\" >nan</td>\n",
       "                        <td id=\"T_a355fa3e_aee7_11ea_a4f1_4c32759132ddrow7_col36\" class=\"data row7 col36\" >nan</td>\n",
       "                        <td id=\"T_a355fa3e_aee7_11ea_a4f1_4c32759132ddrow7_col37\" class=\"data row7 col37\" >nan</td>\n",
       "                        <td id=\"T_a355fa3e_aee7_11ea_a4f1_4c32759132ddrow7_col38\" class=\"data row7 col38\" >#C5C5C5</td>\n",
       "            </tr>\n",
       "            <tr>\n",
       "                        <th id=\"T_a355fa3e_aee7_11ea_a4f1_4c32759132ddlevel0_row8\" class=\"row_heading level0 row8\" >60</th>\n",
       "                        <td id=\"T_a355fa3e_aee7_11ea_a4f1_4c32759132ddrow8_col0\" class=\"data row8 col0\" >A6 FD C4 C0 69</td>\n",
       "                        <td id=\"T_a355fa3e_aee7_11ea_a4f1_4c32759132ddrow8_col1\" class=\"data row8 col1\" >48</td>\n",
       "                        <td id=\"T_a355fa3e_aee7_11ea_a4f1_4c32759132ddrow8_col2\" class=\"data row8 col2\" >Type 2</td>\n",
       "                        <td id=\"T_a355fa3e_aee7_11ea_a4f1_4c32759132ddrow8_col3\" class=\"data row8 col3\" >Verres correcteurs</td>\n",
       "                        <td id=\"T_a355fa3e_aee7_11ea_a4f1_4c32759132ddrow8_col4\" class=\"data row8 col4\" >Prothèse auditive conventionnelle</td>\n",
       "                        <td id=\"T_a355fa3e_aee7_11ea_a4f1_4c32759132ddrow8_col5\" class=\"data row8 col5\" >Prothèse auditive conventionnelle</td>\n",
       "                        <td id=\"T_a355fa3e_aee7_11ea_a4f1_4c32759132ddrow8_col6\" class=\"data row8 col6\" >Aucun</td>\n",
       "                        <td id=\"T_a355fa3e_aee7_11ea_a4f1_4c32759132ddrow8_col7\" class=\"data row8 col7\" >Aucun</td>\n",
       "                        <td id=\"T_a355fa3e_aee7_11ea_a4f1_4c32759132ddrow8_col8\" class=\"data row8 col8\" >Non</td>\n",
       "                        <td id=\"T_a355fa3e_aee7_11ea_a4f1_4c32759132ddrow8_col9\" class=\"data row8 col9\" >12</td>\n",
       "                        <td id=\"T_a355fa3e_aee7_11ea_a4f1_4c32759132ddrow8_col10\" class=\"data row8 col10\" >Oui</td>\n",
       "                        <td id=\"T_a355fa3e_aee7_11ea_a4f1_4c32759132ddrow8_col11\" class=\"data row8 col11\" >2017-07-18 00:00:00</td>\n",
       "                        <td id=\"T_a355fa3e_aee7_11ea_a4f1_4c32759132ddrow8_col12\" class=\"data row8 col12\" >nan</td>\n",
       "                        <td id=\"T_a355fa3e_aee7_11ea_a4f1_4c32759132ddrow8_col13\" class=\"data row8 col13\" >69</td>\n",
       "                        <td id=\"T_a355fa3e_aee7_11ea_a4f1_4c32759132ddrow8_col14\" class=\"data row8 col14\" >1.3</td>\n",
       "                        <td id=\"T_a355fa3e_aee7_11ea_a4f1_4c32759132ddrow8_col15\" class=\"data row8 col15\" >87</td>\n",
       "                        <td id=\"T_a355fa3e_aee7_11ea_a4f1_4c32759132ddrow8_col16\" class=\"data row8 col16\" >0</td>\n",
       "                        <td id=\"T_a355fa3e_aee7_11ea_a4f1_4c32759132ddrow8_col17\" class=\"data row8 col17\" >nan</td>\n",
       "                        <td id=\"T_a355fa3e_aee7_11ea_a4f1_4c32759132ddrow8_col18\" class=\"data row8 col18\" >nan</td>\n",
       "                        <td id=\"T_a355fa3e_aee7_11ea_a4f1_4c32759132ddrow8_col19\" class=\"data row8 col19\" >52</td>\n",
       "                        <td id=\"T_a355fa3e_aee7_11ea_a4f1_4c32759132ddrow8_col20\" class=\"data row8 col20\" >1.83</td>\n",
       "                        <td id=\"T_a355fa3e_aee7_11ea_a4f1_4c32759132ddrow8_col21\" class=\"data row8 col21\" >95</td>\n",
       "                        <td id=\"T_a355fa3e_aee7_11ea_a4f1_4c32759132ddrow8_col22\" class=\"data row8 col22\" >0</td>\n",
       "                        <td id=\"T_a355fa3e_aee7_11ea_a4f1_4c32759132ddrow8_col23\" class=\"data row8 col23\" >nan</td>\n",
       "                        <td id=\"T_a355fa3e_aee7_11ea_a4f1_4c32759132ddrow8_col24\" class=\"data row8 col24\" >nan</td>\n",
       "                        <td id=\"T_a355fa3e_aee7_11ea_a4f1_4c32759132ddrow8_col25\" class=\"data row8 col25\" >124</td>\n",
       "                        <td id=\"T_a355fa3e_aee7_11ea_a4f1_4c32759132ddrow8_col26\" class=\"data row8 col26\" >0.84</td>\n",
       "                        <td id=\"T_a355fa3e_aee7_11ea_a4f1_4c32759132ddrow8_col27\" class=\"data row8 col27\" >88</td>\n",
       "                        <td id=\"T_a355fa3e_aee7_11ea_a4f1_4c32759132ddrow8_col28\" class=\"data row8 col28\" >0</td>\n",
       "                        <td id=\"T_a355fa3e_aee7_11ea_a4f1_4c32759132ddrow8_col29\" class=\"data row8 col29\" >nan</td>\n",
       "                        <td id=\"T_a355fa3e_aee7_11ea_a4f1_4c32759132ddrow8_col30\" class=\"data row8 col30\" >nan</td>\n",
       "                        <td id=\"T_a355fa3e_aee7_11ea_a4f1_4c32759132ddrow8_col31\" class=\"data row8 col31\" >55</td>\n",
       "                        <td id=\"T_a355fa3e_aee7_11ea_a4f1_4c32759132ddrow8_col32\" class=\"data row8 col32\" >0.41</td>\n",
       "                        <td id=\"T_a355fa3e_aee7_11ea_a4f1_4c32759132ddrow8_col33\" class=\"data row8 col33\" >70</td>\n",
       "                        <td id=\"T_a355fa3e_aee7_11ea_a4f1_4c32759132ddrow8_col34\" class=\"data row8 col34\" >0</td>\n",
       "                        <td id=\"T_a355fa3e_aee7_11ea_a4f1_4c32759132ddrow8_col35\" class=\"data row8 col35\" >nan</td>\n",
       "                        <td id=\"T_a355fa3e_aee7_11ea_a4f1_4c32759132ddrow8_col36\" class=\"data row8 col36\" >nan</td>\n",
       "                        <td id=\"T_a355fa3e_aee7_11ea_a4f1_4c32759132ddrow8_col37\" class=\"data row8 col37\" >nan</td>\n",
       "                        <td id=\"T_a355fa3e_aee7_11ea_a4f1_4c32759132ddrow8_col38\" class=\"data row8 col38\" >#B3D9FF</td>\n",
       "            </tr>\n",
       "            <tr>\n",
       "                        <th id=\"T_a355fa3e_aee7_11ea_a4f1_4c32759132ddlevel0_row9\" class=\"row_heading level0 row9\" >68</th>\n",
       "                        <td id=\"T_a355fa3e_aee7_11ea_a4f1_4c32759132ddrow9_col0\" class=\"data row9 col0\" >7B DE 78 5B F6</td>\n",
       "                        <td id=\"T_a355fa3e_aee7_11ea_a4f1_4c32759132ddrow9_col1\" class=\"data row9 col1\" >23</td>\n",
       "                        <td id=\"T_a355fa3e_aee7_11ea_a4f1_4c32759132ddrow9_col2\" class=\"data row9 col2\" >Type 1</td>\n",
       "                        <td id=\"T_a355fa3e_aee7_11ea_a4f1_4c32759132ddrow9_col3\" class=\"data row9 col3\" >Verres correcteurs</td>\n",
       "                        <td id=\"T_a355fa3e_aee7_11ea_a4f1_4c32759132ddrow9_col4\" class=\"data row9 col4\" >Aucune</td>\n",
       "                        <td id=\"T_a355fa3e_aee7_11ea_a4f1_4c32759132ddrow9_col5\" class=\"data row9 col5\" >Aucune</td>\n",
       "                        <td id=\"T_a355fa3e_aee7_11ea_a4f1_4c32759132ddrow9_col6\" class=\"data row9 col6\" >Implant cochléaire</td>\n",
       "                        <td id=\"T_a355fa3e_aee7_11ea_a4f1_4c32759132ddrow9_col7\" class=\"data row9 col7\" >Aucun</td>\n",
       "                        <td id=\"T_a355fa3e_aee7_11ea_a4f1_4c32759132ddrow9_col8\" class=\"data row9 col8\" >Non</td>\n",
       "                        <td id=\"T_a355fa3e_aee7_11ea_a4f1_4c32759132ddrow9_col9\" class=\"data row9 col9\" >15</td>\n",
       "                        <td id=\"T_a355fa3e_aee7_11ea_a4f1_4c32759132ddrow9_col10\" class=\"data row9 col10\" >Oui</td>\n",
       "                        <td id=\"T_a355fa3e_aee7_11ea_a4f1_4c32759132ddrow9_col11\" class=\"data row9 col11\" >2018-07-13 00:00:00</td>\n",
       "                        <td id=\"T_a355fa3e_aee7_11ea_a4f1_4c32759132ddrow9_col12\" class=\"data row9 col12\" >nan</td>\n",
       "                        <td id=\"T_a355fa3e_aee7_11ea_a4f1_4c32759132ddrow9_col13\" class=\"data row9 col13\" >66</td>\n",
       "                        <td id=\"T_a355fa3e_aee7_11ea_a4f1_4c32759132ddrow9_col14\" class=\"data row9 col14\" >1.1</td>\n",
       "                        <td id=\"T_a355fa3e_aee7_11ea_a4f1_4c32759132ddrow9_col15\" class=\"data row9 col15\" >84</td>\n",
       "                        <td id=\"T_a355fa3e_aee7_11ea_a4f1_4c32759132ddrow9_col16\" class=\"data row9 col16\" >0</td>\n",
       "                        <td id=\"T_a355fa3e_aee7_11ea_a4f1_4c32759132ddrow9_col17\" class=\"data row9 col17\" >-0.2</td>\n",
       "                        <td id=\"T_a355fa3e_aee7_11ea_a4f1_4c32759132ddrow9_col18\" class=\"data row9 col18\" >5</td>\n",
       "                        <td id=\"T_a355fa3e_aee7_11ea_a4f1_4c32759132ddrow9_col19\" class=\"data row9 col19\" >51</td>\n",
       "                        <td id=\"T_a355fa3e_aee7_11ea_a4f1_4c32759132ddrow9_col20\" class=\"data row9 col20\" >1.8</td>\n",
       "                        <td id=\"T_a355fa3e_aee7_11ea_a4f1_4c32759132ddrow9_col21\" class=\"data row9 col21\" >93</td>\n",
       "                        <td id=\"T_a355fa3e_aee7_11ea_a4f1_4c32759132ddrow9_col22\" class=\"data row9 col22\" >0</td>\n",
       "                        <td id=\"T_a355fa3e_aee7_11ea_a4f1_4c32759132ddrow9_col23\" class=\"data row9 col23\" >-0.1</td>\n",
       "                        <td id=\"T_a355fa3e_aee7_11ea_a4f1_4c32759132ddrow9_col24\" class=\"data row9 col24\" >5</td>\n",
       "                        <td id=\"T_a355fa3e_aee7_11ea_a4f1_4c32759132ddrow9_col25\" class=\"data row9 col25\" >108</td>\n",
       "                        <td id=\"T_a355fa3e_aee7_11ea_a4f1_4c32759132ddrow9_col26\" class=\"data row9 col26\" >0.9</td>\n",
       "                        <td id=\"T_a355fa3e_aee7_11ea_a4f1_4c32759132ddrow9_col27\" class=\"data row9 col27\" >80</td>\n",
       "                        <td id=\"T_a355fa3e_aee7_11ea_a4f1_4c32759132ddrow9_col28\" class=\"data row9 col28\" >0</td>\n",
       "                        <td id=\"T_a355fa3e_aee7_11ea_a4f1_4c32759132ddrow9_col29\" class=\"data row9 col29\" >-0.5</td>\n",
       "                        <td id=\"T_a355fa3e_aee7_11ea_a4f1_4c32759132ddrow9_col30\" class=\"data row9 col30\" >5</td>\n",
       "                        <td id=\"T_a355fa3e_aee7_11ea_a4f1_4c32759132ddrow9_col31\" class=\"data row9 col31\" >42</td>\n",
       "                        <td id=\"T_a355fa3e_aee7_11ea_a4f1_4c32759132ddrow9_col32\" class=\"data row9 col32\" >0.4</td>\n",
       "                        <td id=\"T_a355fa3e_aee7_11ea_a4f1_4c32759132ddrow9_col33\" class=\"data row9 col33\" >50</td>\n",
       "                        <td id=\"T_a355fa3e_aee7_11ea_a4f1_4c32759132ddrow9_col34\" class=\"data row9 col34\" >0</td>\n",
       "                        <td id=\"T_a355fa3e_aee7_11ea_a4f1_4c32759132ddrow9_col35\" class=\"data row9 col35\" >-0.4</td>\n",
       "                        <td id=\"T_a355fa3e_aee7_11ea_a4f1_4c32759132ddrow9_col36\" class=\"data row9 col36\" >5</td>\n",
       "                        <td id=\"T_a355fa3e_aee7_11ea_a4f1_4c32759132ddrow9_col37\" class=\"data row9 col37\" >nan</td>\n",
       "                        <td id=\"T_a355fa3e_aee7_11ea_a4f1_4c32759132ddrow9_col38\" class=\"data row9 col38\" >#33ffc9</td>\n",
       "            </tr>\n",
       "            <tr>\n",
       "                        <th id=\"T_a355fa3e_aee7_11ea_a4f1_4c32759132ddlevel0_row10\" class=\"row_heading level0 row10\" >70</th>\n",
       "                        <td id=\"T_a355fa3e_aee7_11ea_a4f1_4c32759132ddrow10_col0\" class=\"data row10 col0\" >81 03 8C 07 58</td>\n",
       "                        <td id=\"T_a355fa3e_aee7_11ea_a4f1_4c32759132ddrow10_col1\" class=\"data row10 col1\" >28</td>\n",
       "                        <td id=\"T_a355fa3e_aee7_11ea_a4f1_4c32759132ddrow10_col2\" class=\"data row10 col2\" >Type inconnu</td>\n",
       "                        <td id=\"T_a355fa3e_aee7_11ea_a4f1_4c32759132ddrow10_col3\" class=\"data row10 col3\" >Verres correcteurs</td>\n",
       "                        <td id=\"T_a355fa3e_aee7_11ea_a4f1_4c32759132ddrow10_col4\" class=\"data row10 col4\" >Prothèse auditive conventionnelle</td>\n",
       "                        <td id=\"T_a355fa3e_aee7_11ea_a4f1_4c32759132ddrow10_col5\" class=\"data row10 col5\" >Prothèse auditive conventionnelle</td>\n",
       "                        <td id=\"T_a355fa3e_aee7_11ea_a4f1_4c32759132ddrow10_col6\" class=\"data row10 col6\" >Aucun</td>\n",
       "                        <td id=\"T_a355fa3e_aee7_11ea_a4f1_4c32759132ddrow10_col7\" class=\"data row10 col7\" >Aucun</td>\n",
       "                        <td id=\"T_a355fa3e_aee7_11ea_a4f1_4c32759132ddrow10_col8\" class=\"data row10 col8\" >Non</td>\n",
       "                        <td id=\"T_a355fa3e_aee7_11ea_a4f1_4c32759132ddrow10_col9\" class=\"data row10 col9\" >17</td>\n",
       "                        <td id=\"T_a355fa3e_aee7_11ea_a4f1_4c32759132ddrow10_col10\" class=\"data row10 col10\" >Oui</td>\n",
       "                        <td id=\"T_a355fa3e_aee7_11ea_a4f1_4c32759132ddrow10_col11\" class=\"data row10 col11\" >2017-09-19 00:00:00</td>\n",
       "                        <td id=\"T_a355fa3e_aee7_11ea_a4f1_4c32759132ddrow10_col12\" class=\"data row10 col12\" >nan</td>\n",
       "                        <td id=\"T_a355fa3e_aee7_11ea_a4f1_4c32759132ddrow10_col13\" class=\"data row10 col13\" >67</td>\n",
       "                        <td id=\"T_a355fa3e_aee7_11ea_a4f1_4c32759132ddrow10_col14\" class=\"data row10 col14\" >1.22</td>\n",
       "                        <td id=\"T_a355fa3e_aee7_11ea_a4f1_4c32759132ddrow10_col15\" class=\"data row10 col15\" >86</td>\n",
       "                        <td id=\"T_a355fa3e_aee7_11ea_a4f1_4c32759132ddrow10_col16\" class=\"data row10 col16\" >0</td>\n",
       "                        <td id=\"T_a355fa3e_aee7_11ea_a4f1_4c32759132ddrow10_col17\" class=\"data row10 col17\" >nan</td>\n",
       "                        <td id=\"T_a355fa3e_aee7_11ea_a4f1_4c32759132ddrow10_col18\" class=\"data row10 col18\" >nan</td>\n",
       "                        <td id=\"T_a355fa3e_aee7_11ea_a4f1_4c32759132ddrow10_col19\" class=\"data row10 col19\" >47</td>\n",
       "                        <td id=\"T_a355fa3e_aee7_11ea_a4f1_4c32759132ddrow10_col20\" class=\"data row10 col20\" >1.16</td>\n",
       "                        <td id=\"T_a355fa3e_aee7_11ea_a4f1_4c32759132ddrow10_col21\" class=\"data row10 col21\" >85</td>\n",
       "                        <td id=\"T_a355fa3e_aee7_11ea_a4f1_4c32759132ddrow10_col22\" class=\"data row10 col22\" >0</td>\n",
       "                        <td id=\"T_a355fa3e_aee7_11ea_a4f1_4c32759132ddrow10_col23\" class=\"data row10 col23\" >nan</td>\n",
       "                        <td id=\"T_a355fa3e_aee7_11ea_a4f1_4c32759132ddrow10_col24\" class=\"data row10 col24\" >nan</td>\n",
       "                        <td id=\"T_a355fa3e_aee7_11ea_a4f1_4c32759132ddrow10_col25\" class=\"data row10 col25\" >111</td>\n",
       "                        <td id=\"T_a355fa3e_aee7_11ea_a4f1_4c32759132ddrow10_col26\" class=\"data row10 col26\" >1.05</td>\n",
       "                        <td id=\"T_a355fa3e_aee7_11ea_a4f1_4c32759132ddrow10_col27\" class=\"data row10 col27\" >82</td>\n",
       "                        <td id=\"T_a355fa3e_aee7_11ea_a4f1_4c32759132ddrow10_col28\" class=\"data row10 col28\" >1</td>\n",
       "                        <td id=\"T_a355fa3e_aee7_11ea_a4f1_4c32759132ddrow10_col29\" class=\"data row10 col29\" >1.34</td>\n",
       "                        <td id=\"T_a355fa3e_aee7_11ea_a4f1_4c32759132ddrow10_col30\" class=\"data row10 col30\" >90</td>\n",
       "                        <td id=\"T_a355fa3e_aee7_11ea_a4f1_4c32759132ddrow10_col31\" class=\"data row10 col31\" >44</td>\n",
       "                        <td id=\"T_a355fa3e_aee7_11ea_a4f1_4c32759132ddrow10_col32\" class=\"data row10 col32\" >0.57</td>\n",
       "                        <td id=\"T_a355fa3e_aee7_11ea_a4f1_4c32759132ddrow10_col33\" class=\"data row10 col33\" >75</td>\n",
       "                        <td id=\"T_a355fa3e_aee7_11ea_a4f1_4c32759132ddrow10_col34\" class=\"data row10 col34\" >1</td>\n",
       "                        <td id=\"T_a355fa3e_aee7_11ea_a4f1_4c32759132ddrow10_col35\" class=\"data row10 col35\" >1.36</td>\n",
       "                        <td id=\"T_a355fa3e_aee7_11ea_a4f1_4c32759132ddrow10_col36\" class=\"data row10 col36\" >90</td>\n",
       "                        <td id=\"T_a355fa3e_aee7_11ea_a4f1_4c32759132ddrow10_col37\" class=\"data row10 col37\" >nan</td>\n",
       "                        <td id=\"T_a355fa3e_aee7_11ea_a4f1_4c32759132ddrow10_col38\" class=\"data row10 col38\" >#C5C5C5</td>\n",
       "            </tr>\n",
       "            <tr>\n",
       "                        <th id=\"T_a355fa3e_aee7_11ea_a4f1_4c32759132ddlevel0_row11\" class=\"row_heading level0 row11\" >122</th>\n",
       "                        <td id=\"T_a355fa3e_aee7_11ea_a4f1_4c32759132ddrow11_col0\" class=\"data row11 col0\" >AB A5 ED 43 8B</td>\n",
       "                        <td id=\"T_a355fa3e_aee7_11ea_a4f1_4c32759132ddrow11_col1\" class=\"data row11 col1\" >29</td>\n",
       "                        <td id=\"T_a355fa3e_aee7_11ea_a4f1_4c32759132ddrow11_col2\" class=\"data row11 col2\" >Type 1</td>\n",
       "                        <td id=\"T_a355fa3e_aee7_11ea_a4f1_4c32759132ddrow11_col3\" class=\"data row11 col3\" >Verres correcteurs non amenés</td>\n",
       "                        <td id=\"T_a355fa3e_aee7_11ea_a4f1_4c32759132ddrow11_col4\" class=\"data row11 col4\" >Prothèse auditive conventionnelle</td>\n",
       "                        <td id=\"T_a355fa3e_aee7_11ea_a4f1_4c32759132ddrow11_col5\" class=\"data row11 col5\" >Prothèse auditive conventionnelle</td>\n",
       "                        <td id=\"T_a355fa3e_aee7_11ea_a4f1_4c32759132ddrow11_col6\" class=\"data row11 col6\" >Aucun</td>\n",
       "                        <td id=\"T_a355fa3e_aee7_11ea_a4f1_4c32759132ddrow11_col7\" class=\"data row11 col7\" >Aucun</td>\n",
       "                        <td id=\"T_a355fa3e_aee7_11ea_a4f1_4c32759132ddrow11_col8\" class=\"data row11 col8\" >Oui</td>\n",
       "                        <td id=\"T_a355fa3e_aee7_11ea_a4f1_4c32759132ddrow11_col9\" class=\"data row11 col9\" >14</td>\n",
       "                        <td id=\"T_a355fa3e_aee7_11ea_a4f1_4c32759132ddrow11_col10\" class=\"data row11 col10\" >Oui</td>\n",
       "                        <td id=\"T_a355fa3e_aee7_11ea_a4f1_4c32759132ddrow11_col11\" class=\"data row11 col11\" >2018-11-28 00:00:00</td>\n",
       "                        <td id=\"T_a355fa3e_aee7_11ea_a4f1_4c32759132ddrow11_col12\" class=\"data row11 col12\" >nan</td>\n",
       "                        <td id=\"T_a355fa3e_aee7_11ea_a4f1_4c32759132ddrow11_col13\" class=\"data row11 col13\" >114</td>\n",
       "                        <td id=\"T_a355fa3e_aee7_11ea_a4f1_4c32759132ddrow11_col14\" class=\"data row11 col14\" >6.44</td>\n",
       "                        <td id=\"T_a355fa3e_aee7_11ea_a4f1_4c32759132ddrow11_col15\" class=\"data row11 col15\" >95</td>\n",
       "                        <td id=\"T_a355fa3e_aee7_11ea_a4f1_4c32759132ddrow11_col16\" class=\"data row11 col16\" >0</td>\n",
       "                        <td id=\"T_a355fa3e_aee7_11ea_a4f1_4c32759132ddrow11_col17\" class=\"data row11 col17\" >-0.22</td>\n",
       "                        <td id=\"T_a355fa3e_aee7_11ea_a4f1_4c32759132ddrow11_col18\" class=\"data row11 col18\" >5</td>\n",
       "                        <td id=\"T_a355fa3e_aee7_11ea_a4f1_4c32759132ddrow11_col19\" class=\"data row11 col19\" >72</td>\n",
       "                        <td id=\"T_a355fa3e_aee7_11ea_a4f1_4c32759132ddrow11_col20\" class=\"data row11 col20\" >5.33</td>\n",
       "                        <td id=\"T_a355fa3e_aee7_11ea_a4f1_4c32759132ddrow11_col21\" class=\"data row11 col21\" >95</td>\n",
       "                        <td id=\"T_a355fa3e_aee7_11ea_a4f1_4c32759132ddrow11_col22\" class=\"data row11 col22\" >0</td>\n",
       "                        <td id=\"T_a355fa3e_aee7_11ea_a4f1_4c32759132ddrow11_col23\" class=\"data row11 col23\" >-0.1</td>\n",
       "                        <td id=\"T_a355fa3e_aee7_11ea_a4f1_4c32759132ddrow11_col24\" class=\"data row11 col24\" >5</td>\n",
       "                        <td id=\"T_a355fa3e_aee7_11ea_a4f1_4c32759132ddrow11_col25\" class=\"data row11 col25\" >172</td>\n",
       "                        <td id=\"T_a355fa3e_aee7_11ea_a4f1_4c32759132ddrow11_col26\" class=\"data row11 col26\" >4.44</td>\n",
       "                        <td id=\"T_a355fa3e_aee7_11ea_a4f1_4c32759132ddrow11_col27\" class=\"data row11 col27\" >95</td>\n",
       "                        <td id=\"T_a355fa3e_aee7_11ea_a4f1_4c32759132ddrow11_col28\" class=\"data row11 col28\" >0</td>\n",
       "                        <td id=\"T_a355fa3e_aee7_11ea_a4f1_4c32759132ddrow11_col29\" class=\"data row11 col29\" >-0.47</td>\n",
       "                        <td id=\"T_a355fa3e_aee7_11ea_a4f1_4c32759132ddrow11_col30\" class=\"data row11 col30\" >5</td>\n",
       "                        <td id=\"T_a355fa3e_aee7_11ea_a4f1_4c32759132ddrow11_col31\" class=\"data row11 col31\" >58</td>\n",
       "                        <td id=\"T_a355fa3e_aee7_11ea_a4f1_4c32759132ddrow11_col32\" class=\"data row11 col32\" >1.57</td>\n",
       "                        <td id=\"T_a355fa3e_aee7_11ea_a4f1_4c32759132ddrow11_col33\" class=\"data row11 col33\" >92</td>\n",
       "                        <td id=\"T_a355fa3e_aee7_11ea_a4f1_4c32759132ddrow11_col34\" class=\"data row11 col34\" >0</td>\n",
       "                        <td id=\"T_a355fa3e_aee7_11ea_a4f1_4c32759132ddrow11_col35\" class=\"data row11 col35\" >-0.36</td>\n",
       "                        <td id=\"T_a355fa3e_aee7_11ea_a4f1_4c32759132ddrow11_col36\" class=\"data row11 col36\" >5</td>\n",
       "                        <td id=\"T_a355fa3e_aee7_11ea_a4f1_4c32759132ddrow11_col37\" class=\"data row11 col37\" >nan</td>\n",
       "                        <td id=\"T_a355fa3e_aee7_11ea_a4f1_4c32759132ddrow11_col38\" class=\"data row11 col38\" >#33ffc9</td>\n",
       "            </tr>\n",
       "            <tr>\n",
       "                        <th id=\"T_a355fa3e_aee7_11ea_a4f1_4c32759132ddlevel0_row12\" class=\"row_heading level0 row12\" >132</th>\n",
       "                        <td id=\"T_a355fa3e_aee7_11ea_a4f1_4c32759132ddrow12_col0\" class=\"data row12 col0\" >C2 C3 05 A8 4B</td>\n",
       "                        <td id=\"T_a355fa3e_aee7_11ea_a4f1_4c32759132ddrow12_col1\" class=\"data row12 col1\" >20</td>\n",
       "                        <td id=\"T_a355fa3e_aee7_11ea_a4f1_4c32759132ddrow12_col2\" class=\"data row12 col2\" >Type 1</td>\n",
       "                        <td id=\"T_a355fa3e_aee7_11ea_a4f1_4c32759132ddrow12_col3\" class=\"data row12 col3\" >Verres correcteurs</td>\n",
       "                        <td id=\"T_a355fa3e_aee7_11ea_a4f1_4c32759132ddrow12_col4\" class=\"data row12 col4\" >Aucune</td>\n",
       "                        <td id=\"T_a355fa3e_aee7_11ea_a4f1_4c32759132ddrow12_col5\" class=\"data row12 col5\" >Aucune</td>\n",
       "                        <td id=\"T_a355fa3e_aee7_11ea_a4f1_4c32759132ddrow12_col6\" class=\"data row12 col6\" >Implant cochléaire</td>\n",
       "                        <td id=\"T_a355fa3e_aee7_11ea_a4f1_4c32759132ddrow12_col7\" class=\"data row12 col7\" >Implant cochléaire</td>\n",
       "                        <td id=\"T_a355fa3e_aee7_11ea_a4f1_4c32759132ddrow12_col8\" class=\"data row12 col8\" >Non</td>\n",
       "                        <td id=\"T_a355fa3e_aee7_11ea_a4f1_4c32759132ddrow12_col9\" class=\"data row12 col9\" >12</td>\n",
       "                        <td id=\"T_a355fa3e_aee7_11ea_a4f1_4c32759132ddrow12_col10\" class=\"data row12 col10\" >Oui</td>\n",
       "                        <td id=\"T_a355fa3e_aee7_11ea_a4f1_4c32759132ddrow12_col11\" class=\"data row12 col11\" >2018-02-27 00:00:00</td>\n",
       "                        <td id=\"T_a355fa3e_aee7_11ea_a4f1_4c32759132ddrow12_col12\" class=\"data row12 col12\" >nan</td>\n",
       "                        <td id=\"T_a355fa3e_aee7_11ea_a4f1_4c32759132ddrow12_col13\" class=\"data row12 col13\" >101</td>\n",
       "                        <td id=\"T_a355fa3e_aee7_11ea_a4f1_4c32759132ddrow12_col14\" class=\"data row12 col14\" >5</td>\n",
       "                        <td id=\"T_a355fa3e_aee7_11ea_a4f1_4c32759132ddrow12_col15\" class=\"data row12 col15\" >95</td>\n",
       "                        <td id=\"T_a355fa3e_aee7_11ea_a4f1_4c32759132ddrow12_col16\" class=\"data row12 col16\" >0</td>\n",
       "                        <td id=\"T_a355fa3e_aee7_11ea_a4f1_4c32759132ddrow12_col17\" class=\"data row12 col17\" >nan</td>\n",
       "                        <td id=\"T_a355fa3e_aee7_11ea_a4f1_4c32759132ddrow12_col18\" class=\"data row12 col18\" >nan</td>\n",
       "                        <td id=\"T_a355fa3e_aee7_11ea_a4f1_4c32759132ddrow12_col19\" class=\"data row12 col19\" >68</td>\n",
       "                        <td id=\"T_a355fa3e_aee7_11ea_a4f1_4c32759132ddrow12_col20\" class=\"data row12 col20\" >4.66</td>\n",
       "                        <td id=\"T_a355fa3e_aee7_11ea_a4f1_4c32759132ddrow12_col21\" class=\"data row12 col21\" >95</td>\n",
       "                        <td id=\"T_a355fa3e_aee7_11ea_a4f1_4c32759132ddrow12_col22\" class=\"data row12 col22\" >0</td>\n",
       "                        <td id=\"T_a355fa3e_aee7_11ea_a4f1_4c32759132ddrow12_col23\" class=\"data row12 col23\" >nan</td>\n",
       "                        <td id=\"T_a355fa3e_aee7_11ea_a4f1_4c32759132ddrow12_col24\" class=\"data row12 col24\" >nan</td>\n",
       "                        <td id=\"T_a355fa3e_aee7_11ea_a4f1_4c32759132ddrow12_col25\" class=\"data row12 col25\" >149</td>\n",
       "                        <td id=\"T_a355fa3e_aee7_11ea_a4f1_4c32759132ddrow12_col26\" class=\"data row12 col26\" >3.16</td>\n",
       "                        <td id=\"T_a355fa3e_aee7_11ea_a4f1_4c32759132ddrow12_col27\" class=\"data row12 col27\" >95</td>\n",
       "                        <td id=\"T_a355fa3e_aee7_11ea_a4f1_4c32759132ddrow12_col28\" class=\"data row12 col28\" >1</td>\n",
       "                        <td id=\"T_a355fa3e_aee7_11ea_a4f1_4c32759132ddrow12_col29\" class=\"data row12 col29\" >1.34</td>\n",
       "                        <td id=\"T_a355fa3e_aee7_11ea_a4f1_4c32759132ddrow12_col30\" class=\"data row12 col30\" >90</td>\n",
       "                        <td id=\"T_a355fa3e_aee7_11ea_a4f1_4c32759132ddrow12_col31\" class=\"data row12 col31\" >48</td>\n",
       "                        <td id=\"T_a355fa3e_aee7_11ea_a4f1_4c32759132ddrow12_col32\" class=\"data row12 col32\" >0.85</td>\n",
       "                        <td id=\"T_a355fa3e_aee7_11ea_a4f1_4c32759132ddrow12_col33\" class=\"data row12 col33\" >80</td>\n",
       "                        <td id=\"T_a355fa3e_aee7_11ea_a4f1_4c32759132ddrow12_col34\" class=\"data row12 col34\" >1</td>\n",
       "                        <td id=\"T_a355fa3e_aee7_11ea_a4f1_4c32759132ddrow12_col35\" class=\"data row12 col35\" >1.36</td>\n",
       "                        <td id=\"T_a355fa3e_aee7_11ea_a4f1_4c32759132ddrow12_col36\" class=\"data row12 col36\" >90</td>\n",
       "                        <td id=\"T_a355fa3e_aee7_11ea_a4f1_4c32759132ddrow12_col37\" class=\"data row12 col37\" >nan</td>\n",
       "                        <td id=\"T_a355fa3e_aee7_11ea_a4f1_4c32759132ddrow12_col38\" class=\"data row12 col38\" >#33ffc9</td>\n",
       "            </tr>\n",
       "            <tr>\n",
       "                        <th id=\"T_a355fa3e_aee7_11ea_a4f1_4c32759132ddlevel0_row13\" class=\"row_heading level0 row13\" >134</th>\n",
       "                        <td id=\"T_a355fa3e_aee7_11ea_a4f1_4c32759132ddrow13_col0\" class=\"data row13 col0\" >EA 6F FF DE 42</td>\n",
       "                        <td id=\"T_a355fa3e_aee7_11ea_a4f1_4c32759132ddrow13_col1\" class=\"data row13 col1\" >25</td>\n",
       "                        <td id=\"T_a355fa3e_aee7_11ea_a4f1_4c32759132ddrow13_col2\" class=\"data row13 col2\" >Type 2</td>\n",
       "                        <td id=\"T_a355fa3e_aee7_11ea_a4f1_4c32759132ddrow13_col3\" class=\"data row13 col3\" >Verres correcteurs</td>\n",
       "                        <td id=\"T_a355fa3e_aee7_11ea_a4f1_4c32759132ddrow13_col4\" class=\"data row13 col4\" >Prothèse auditive conventionnelle</td>\n",
       "                        <td id=\"T_a355fa3e_aee7_11ea_a4f1_4c32759132ddrow13_col5\" class=\"data row13 col5\" >Prothèse auditive conventionnelle</td>\n",
       "                        <td id=\"T_a355fa3e_aee7_11ea_a4f1_4c32759132ddrow13_col6\" class=\"data row13 col6\" >Aucun</td>\n",
       "                        <td id=\"T_a355fa3e_aee7_11ea_a4f1_4c32759132ddrow13_col7\" class=\"data row13 col7\" >Aucun</td>\n",
       "                        <td id=\"T_a355fa3e_aee7_11ea_a4f1_4c32759132ddrow13_col8\" class=\"data row13 col8\" >Non</td>\n",
       "                        <td id=\"T_a355fa3e_aee7_11ea_a4f1_4c32759132ddrow13_col9\" class=\"data row13 col9\" >11</td>\n",
       "                        <td id=\"T_a355fa3e_aee7_11ea_a4f1_4c32759132ddrow13_col10\" class=\"data row13 col10\" >Oui</td>\n",
       "                        <td id=\"T_a355fa3e_aee7_11ea_a4f1_4c32759132ddrow13_col11\" class=\"data row13 col11\" >2019-01-30 00:00:00</td>\n",
       "                        <td id=\"T_a355fa3e_aee7_11ea_a4f1_4c32759132ddrow13_col12\" class=\"data row13 col12\" >nan</td>\n",
       "                        <td id=\"T_a355fa3e_aee7_11ea_a4f1_4c32759132ddrow13_col13\" class=\"data row13 col13\" >68</td>\n",
       "                        <td id=\"T_a355fa3e_aee7_11ea_a4f1_4c32759132ddrow13_col14\" class=\"data row13 col14\" >0.9</td>\n",
       "                        <td id=\"T_a355fa3e_aee7_11ea_a4f1_4c32759132ddrow13_col15\" class=\"data row13 col15\" >82</td>\n",
       "                        <td id=\"T_a355fa3e_aee7_11ea_a4f1_4c32759132ddrow13_col16\" class=\"data row13 col16\" >0</td>\n",
       "                        <td id=\"T_a355fa3e_aee7_11ea_a4f1_4c32759132ddrow13_col17\" class=\"data row13 col17\" >nan</td>\n",
       "                        <td id=\"T_a355fa3e_aee7_11ea_a4f1_4c32759132ddrow13_col18\" class=\"data row13 col18\" >nan</td>\n",
       "                        <td id=\"T_a355fa3e_aee7_11ea_a4f1_4c32759132ddrow13_col19\" class=\"data row13 col19\" >35</td>\n",
       "                        <td id=\"T_a355fa3e_aee7_11ea_a4f1_4c32759132ddrow13_col20\" class=\"data row13 col20\" >0.87</td>\n",
       "                        <td id=\"T_a355fa3e_aee7_11ea_a4f1_4c32759132ddrow13_col21\" class=\"data row13 col21\" >15</td>\n",
       "                        <td id=\"T_a355fa3e_aee7_11ea_a4f1_4c32759132ddrow13_col22\" class=\"data row13 col22\" >0</td>\n",
       "                        <td id=\"T_a355fa3e_aee7_11ea_a4f1_4c32759132ddrow13_col23\" class=\"data row13 col23\" >nan</td>\n",
       "                        <td id=\"T_a355fa3e_aee7_11ea_a4f1_4c32759132ddrow13_col24\" class=\"data row13 col24\" >nan</td>\n",
       "                        <td id=\"T_a355fa3e_aee7_11ea_a4f1_4c32759132ddrow13_col25\" class=\"data row13 col25\" >107</td>\n",
       "                        <td id=\"T_a355fa3e_aee7_11ea_a4f1_4c32759132ddrow13_col26\" class=\"data row13 col26\" >0.22</td>\n",
       "                        <td id=\"T_a355fa3e_aee7_11ea_a4f1_4c32759132ddrow13_col27\" class=\"data row13 col27\" >68</td>\n",
       "                        <td id=\"T_a355fa3e_aee7_11ea_a4f1_4c32759132ddrow13_col28\" class=\"data row13 col28\" >1</td>\n",
       "                        <td id=\"T_a355fa3e_aee7_11ea_a4f1_4c32759132ddrow13_col29\" class=\"data row13 col29\" >0.6</td>\n",
       "                        <td id=\"T_a355fa3e_aee7_11ea_a4f1_4c32759132ddrow13_col30\" class=\"data row13 col30\" >75</td>\n",
       "                        <td id=\"T_a355fa3e_aee7_11ea_a4f1_4c32759132ddrow13_col31\" class=\"data row13 col31\" >39</td>\n",
       "                        <td id=\"T_a355fa3e_aee7_11ea_a4f1_4c32759132ddrow13_col32\" class=\"data row13 col32\" >0.8</td>\n",
       "                        <td id=\"T_a355fa3e_aee7_11ea_a4f1_4c32759132ddrow13_col33\" class=\"data row13 col33\" >50</td>\n",
       "                        <td id=\"T_a355fa3e_aee7_11ea_a4f1_4c32759132ddrow13_col34\" class=\"data row13 col34\" >1</td>\n",
       "                        <td id=\"T_a355fa3e_aee7_11ea_a4f1_4c32759132ddrow13_col35\" class=\"data row13 col35\" >0.79</td>\n",
       "                        <td id=\"T_a355fa3e_aee7_11ea_a4f1_4c32759132ddrow13_col36\" class=\"data row13 col36\" >81</td>\n",
       "                        <td id=\"T_a355fa3e_aee7_11ea_a4f1_4c32759132ddrow13_col37\" class=\"data row13 col37\" >nan</td>\n",
       "                        <td id=\"T_a355fa3e_aee7_11ea_a4f1_4c32759132ddrow13_col38\" class=\"data row13 col38\" >#B3D9FF</td>\n",
       "            </tr>\n",
       "            <tr>\n",
       "                        <th id=\"T_a355fa3e_aee7_11ea_a4f1_4c32759132ddlevel0_row14\" class=\"row_heading level0 row14\" >136</th>\n",
       "                        <td id=\"T_a355fa3e_aee7_11ea_a4f1_4c32759132ddrow14_col0\" class=\"data row14 col0\" >39 35 88 38 7B</td>\n",
       "                        <td id=\"T_a355fa3e_aee7_11ea_a4f1_4c32759132ddrow14_col1\" class=\"data row14 col1\" >28</td>\n",
       "                        <td id=\"T_a355fa3e_aee7_11ea_a4f1_4c32759132ddrow14_col2\" class=\"data row14 col2\" >Type inconnu</td>\n",
       "                        <td id=\"T_a355fa3e_aee7_11ea_a4f1_4c32759132ddrow14_col3\" class=\"data row14 col3\" >Verres correcteurs</td>\n",
       "                        <td id=\"T_a355fa3e_aee7_11ea_a4f1_4c32759132ddrow14_col4\" class=\"data row14 col4\" >Prothèse auditive conventionnelle oubliée</td>\n",
       "                        <td id=\"T_a355fa3e_aee7_11ea_a4f1_4c32759132ddrow14_col5\" class=\"data row14 col5\" >Prothèse auditive conventionnelle oubliée</td>\n",
       "                        <td id=\"T_a355fa3e_aee7_11ea_a4f1_4c32759132ddrow14_col6\" class=\"data row14 col6\" >Aucun</td>\n",
       "                        <td id=\"T_a355fa3e_aee7_11ea_a4f1_4c32759132ddrow14_col7\" class=\"data row14 col7\" >Aucun</td>\n",
       "                        <td id=\"T_a355fa3e_aee7_11ea_a4f1_4c32759132ddrow14_col8\" class=\"data row14 col8\" >nan</td>\n",
       "                        <td id=\"T_a355fa3e_aee7_11ea_a4f1_4c32759132ddrow14_col9\" class=\"data row14 col9\" >14</td>\n",
       "                        <td id=\"T_a355fa3e_aee7_11ea_a4f1_4c32759132ddrow14_col10\" class=\"data row14 col10\" >Oui</td>\n",
       "                        <td id=\"T_a355fa3e_aee7_11ea_a4f1_4c32759132ddrow14_col11\" class=\"data row14 col11\" >2018-12-07 00:00:00</td>\n",
       "                        <td id=\"T_a355fa3e_aee7_11ea_a4f1_4c32759132ddrow14_col12\" class=\"data row14 col12\" >nan</td>\n",
       "                        <td id=\"T_a355fa3e_aee7_11ea_a4f1_4c32759132ddrow14_col13\" class=\"data row14 col13\" >104</td>\n",
       "                        <td id=\"T_a355fa3e_aee7_11ea_a4f1_4c32759132ddrow14_col14\" class=\"data row14 col14\" >5.3</td>\n",
       "                        <td id=\"T_a355fa3e_aee7_11ea_a4f1_4c32759132ddrow14_col15\" class=\"data row14 col15\" >95</td>\n",
       "                        <td id=\"T_a355fa3e_aee7_11ea_a4f1_4c32759132ddrow14_col16\" class=\"data row14 col16\" >0</td>\n",
       "                        <td id=\"T_a355fa3e_aee7_11ea_a4f1_4c32759132ddrow14_col17\" class=\"data row14 col17\" >nan</td>\n",
       "                        <td id=\"T_a355fa3e_aee7_11ea_a4f1_4c32759132ddrow14_col18\" class=\"data row14 col18\" >nan</td>\n",
       "                        <td id=\"T_a355fa3e_aee7_11ea_a4f1_4c32759132ddrow14_col19\" class=\"data row14 col19\" >86</td>\n",
       "                        <td id=\"T_a355fa3e_aee7_11ea_a4f1_4c32759132ddrow14_col20\" class=\"data row14 col20\" >7</td>\n",
       "                        <td id=\"T_a355fa3e_aee7_11ea_a4f1_4c32759132ddrow14_col21\" class=\"data row14 col21\" >95</td>\n",
       "                        <td id=\"T_a355fa3e_aee7_11ea_a4f1_4c32759132ddrow14_col22\" class=\"data row14 col22\" >0</td>\n",
       "                        <td id=\"T_a355fa3e_aee7_11ea_a4f1_4c32759132ddrow14_col23\" class=\"data row14 col23\" >nan</td>\n",
       "                        <td id=\"T_a355fa3e_aee7_11ea_a4f1_4c32759132ddrow14_col24\" class=\"data row14 col24\" >nan</td>\n",
       "                        <td id=\"T_a355fa3e_aee7_11ea_a4f1_4c32759132ddrow14_col25\" class=\"data row14 col25\" >112</td>\n",
       "                        <td id=\"T_a355fa3e_aee7_11ea_a4f1_4c32759132ddrow14_col26\" class=\"data row14 col26\" >1.11</td>\n",
       "                        <td id=\"T_a355fa3e_aee7_11ea_a4f1_4c32759132ddrow14_col27\" class=\"data row14 col27\" >83</td>\n",
       "                        <td id=\"T_a355fa3e_aee7_11ea_a4f1_4c32759132ddrow14_col28\" class=\"data row14 col28\" >0</td>\n",
       "                        <td id=\"T_a355fa3e_aee7_11ea_a4f1_4c32759132ddrow14_col29\" class=\"data row14 col29\" >nan</td>\n",
       "                        <td id=\"T_a355fa3e_aee7_11ea_a4f1_4c32759132ddrow14_col30\" class=\"data row14 col30\" >nan</td>\n",
       "                        <td id=\"T_a355fa3e_aee7_11ea_a4f1_4c32759132ddrow14_col31\" class=\"data row14 col31\" >8</td>\n",
       "                        <td id=\"T_a355fa3e_aee7_11ea_a4f1_4c32759132ddrow14_col32\" class=\"data row14 col32\" >-2</td>\n",
       "                        <td id=\"T_a355fa3e_aee7_11ea_a4f1_4c32759132ddrow14_col33\" class=\"data row14 col33\" >5</td>\n",
       "                        <td id=\"T_a355fa3e_aee7_11ea_a4f1_4c32759132ddrow14_col34\" class=\"data row14 col34\" >0</td>\n",
       "                        <td id=\"T_a355fa3e_aee7_11ea_a4f1_4c32759132ddrow14_col35\" class=\"data row14 col35\" >nan</td>\n",
       "                        <td id=\"T_a355fa3e_aee7_11ea_a4f1_4c32759132ddrow14_col36\" class=\"data row14 col36\" >nan</td>\n",
       "                        <td id=\"T_a355fa3e_aee7_11ea_a4f1_4c32759132ddrow14_col37\" class=\"data row14 col37\" >nan</td>\n",
       "                        <td id=\"T_a355fa3e_aee7_11ea_a4f1_4c32759132ddrow14_col38\" class=\"data row14 col38\" >#C5C5C5</td>\n",
       "            </tr>\n",
       "            <tr>\n",
       "                        <th id=\"T_a355fa3e_aee7_11ea_a4f1_4c32759132ddlevel0_row15\" class=\"row_heading level0 row15\" >158</th>\n",
       "                        <td id=\"T_a355fa3e_aee7_11ea_a4f1_4c32759132ddrow15_col0\" class=\"data row15 col0\" >FD 11 B7 CF 8F</td>\n",
       "                        <td id=\"T_a355fa3e_aee7_11ea_a4f1_4c32759132ddrow15_col1\" class=\"data row15 col1\" >32</td>\n",
       "                        <td id=\"T_a355fa3e_aee7_11ea_a4f1_4c32759132ddrow15_col2\" class=\"data row15 col2\" >Type 1</td>\n",
       "                        <td id=\"T_a355fa3e_aee7_11ea_a4f1_4c32759132ddrow15_col3\" class=\"data row15 col3\" >Verres correcteurs</td>\n",
       "                        <td id=\"T_a355fa3e_aee7_11ea_a4f1_4c32759132ddrow15_col4\" class=\"data row15 col4\" >Aucune</td>\n",
       "                        <td id=\"T_a355fa3e_aee7_11ea_a4f1_4c32759132ddrow15_col5\" class=\"data row15 col5\" >Aucune</td>\n",
       "                        <td id=\"T_a355fa3e_aee7_11ea_a4f1_4c32759132ddrow15_col6\" class=\"data row15 col6\" >Aucun</td>\n",
       "                        <td id=\"T_a355fa3e_aee7_11ea_a4f1_4c32759132ddrow15_col7\" class=\"data row15 col7\" >Aucun</td>\n",
       "                        <td id=\"T_a355fa3e_aee7_11ea_a4f1_4c32759132ddrow15_col8\" class=\"data row15 col8\" >Oui</td>\n",
       "                        <td id=\"T_a355fa3e_aee7_11ea_a4f1_4c32759132ddrow15_col9\" class=\"data row15 col9\" >20</td>\n",
       "                        <td id=\"T_a355fa3e_aee7_11ea_a4f1_4c32759132ddrow15_col10\" class=\"data row15 col10\" >Oui</td>\n",
       "                        <td id=\"T_a355fa3e_aee7_11ea_a4f1_4c32759132ddrow15_col11\" class=\"data row15 col11\" >2019-02-27 00:00:00</td>\n",
       "                        <td id=\"T_a355fa3e_aee7_11ea_a4f1_4c32759132ddrow15_col12\" class=\"data row15 col12\" >nan</td>\n",
       "                        <td id=\"T_a355fa3e_aee7_11ea_a4f1_4c32759132ddrow15_col13\" class=\"data row15 col13\" >62</td>\n",
       "                        <td id=\"T_a355fa3e_aee7_11ea_a4f1_4c32759132ddrow15_col14\" class=\"data row15 col14\" >0.66</td>\n",
       "                        <td id=\"T_a355fa3e_aee7_11ea_a4f1_4c32759132ddrow15_col15\" class=\"data row15 col15\" >77</td>\n",
       "                        <td id=\"T_a355fa3e_aee7_11ea_a4f1_4c32759132ddrow15_col16\" class=\"data row15 col16\" >0</td>\n",
       "                        <td id=\"T_a355fa3e_aee7_11ea_a4f1_4c32759132ddrow15_col17\" class=\"data row15 col17\" >nan</td>\n",
       "                        <td id=\"T_a355fa3e_aee7_11ea_a4f1_4c32759132ddrow15_col18\" class=\"data row15 col18\" >nan</td>\n",
       "                        <td id=\"T_a355fa3e_aee7_11ea_a4f1_4c32759132ddrow15_col19\" class=\"data row15 col19\" >57</td>\n",
       "                        <td id=\"T_a355fa3e_aee7_11ea_a4f1_4c32759132ddrow15_col20\" class=\"data row15 col20\" >2.8</td>\n",
       "                        <td id=\"T_a355fa3e_aee7_11ea_a4f1_4c32759132ddrow15_col21\" class=\"data row15 col21\" >95</td>\n",
       "                        <td id=\"T_a355fa3e_aee7_11ea_a4f1_4c32759132ddrow15_col22\" class=\"data row15 col22\" >0</td>\n",
       "                        <td id=\"T_a355fa3e_aee7_11ea_a4f1_4c32759132ddrow15_col23\" class=\"data row15 col23\" >nan</td>\n",
       "                        <td id=\"T_a355fa3e_aee7_11ea_a4f1_4c32759132ddrow15_col24\" class=\"data row15 col24\" >nan</td>\n",
       "                        <td id=\"T_a355fa3e_aee7_11ea_a4f1_4c32759132ddrow15_col25\" class=\"data row15 col25\" >78</td>\n",
       "                        <td id=\"T_a355fa3e_aee7_11ea_a4f1_4c32759132ddrow15_col26\" class=\"data row15 col26\" >-0.8</td>\n",
       "                        <td id=\"T_a355fa3e_aee7_11ea_a4f1_4c32759132ddrow15_col27\" class=\"data row15 col27\" >22</td>\n",
       "                        <td id=\"T_a355fa3e_aee7_11ea_a4f1_4c32759132ddrow15_col28\" class=\"data row15 col28\" >1</td>\n",
       "                        <td id=\"T_a355fa3e_aee7_11ea_a4f1_4c32759132ddrow15_col29\" class=\"data row15 col29\" >1.34</td>\n",
       "                        <td id=\"T_a355fa3e_aee7_11ea_a4f1_4c32759132ddrow15_col30\" class=\"data row15 col30\" >90</td>\n",
       "                        <td id=\"T_a355fa3e_aee7_11ea_a4f1_4c32759132ddrow15_col31\" class=\"data row15 col31\" >16</td>\n",
       "                        <td id=\"T_a355fa3e_aee7_11ea_a4f1_4c32759132ddrow15_col32\" class=\"data row15 col32\" >-1.42</td>\n",
       "                        <td id=\"T_a355fa3e_aee7_11ea_a4f1_4c32759132ddrow15_col33\" class=\"data row15 col33\" >8</td>\n",
       "                        <td id=\"T_a355fa3e_aee7_11ea_a4f1_4c32759132ddrow15_col34\" class=\"data row15 col34\" >1</td>\n",
       "                        <td id=\"T_a355fa3e_aee7_11ea_a4f1_4c32759132ddrow15_col35\" class=\"data row15 col35\" >1.36</td>\n",
       "                        <td id=\"T_a355fa3e_aee7_11ea_a4f1_4c32759132ddrow15_col36\" class=\"data row15 col36\" >90</td>\n",
       "                        <td id=\"T_a355fa3e_aee7_11ea_a4f1_4c32759132ddrow15_col37\" class=\"data row15 col37\" >nan</td>\n",
       "                        <td id=\"T_a355fa3e_aee7_11ea_a4f1_4c32759132ddrow15_col38\" class=\"data row15 col38\" >#33ffc9</td>\n",
       "            </tr>\n",
       "            <tr>\n",
       "                        <th id=\"T_a355fa3e_aee7_11ea_a4f1_4c32759132ddlevel0_row16\" class=\"row_heading level0 row16\" >182</th>\n",
       "                        <td id=\"T_a355fa3e_aee7_11ea_a4f1_4c32759132ddrow16_col0\" class=\"data row16 col0\" >02 88 A7 94 50</td>\n",
       "                        <td id=\"T_a355fa3e_aee7_11ea_a4f1_4c32759132ddrow16_col1\" class=\"data row16 col1\" >38</td>\n",
       "                        <td id=\"T_a355fa3e_aee7_11ea_a4f1_4c32759132ddrow16_col2\" class=\"data row16 col2\" >Type 2</td>\n",
       "                        <td id=\"T_a355fa3e_aee7_11ea_a4f1_4c32759132ddrow16_col3\" class=\"data row16 col3\" >Verres correcteurs</td>\n",
       "                        <td id=\"T_a355fa3e_aee7_11ea_a4f1_4c32759132ddrow16_col4\" class=\"data row16 col4\" >Prothèse auditive conventionnelle</td>\n",
       "                        <td id=\"T_a355fa3e_aee7_11ea_a4f1_4c32759132ddrow16_col5\" class=\"data row16 col5\" >Prothèse auditive conventionnelle</td>\n",
       "                        <td id=\"T_a355fa3e_aee7_11ea_a4f1_4c32759132ddrow16_col6\" class=\"data row16 col6\" >Aucun</td>\n",
       "                        <td id=\"T_a355fa3e_aee7_11ea_a4f1_4c32759132ddrow16_col7\" class=\"data row16 col7\" >Aucun</td>\n",
       "                        <td id=\"T_a355fa3e_aee7_11ea_a4f1_4c32759132ddrow16_col8\" class=\"data row16 col8\" >Non</td>\n",
       "                        <td id=\"T_a355fa3e_aee7_11ea_a4f1_4c32759132ddrow16_col9\" class=\"data row16 col9\" >16</td>\n",
       "                        <td id=\"T_a355fa3e_aee7_11ea_a4f1_4c32759132ddrow16_col10\" class=\"data row16 col10\" >Oui</td>\n",
       "                        <td id=\"T_a355fa3e_aee7_11ea_a4f1_4c32759132ddrow16_col11\" class=\"data row16 col11\" >2019-06-28 00:00:00</td>\n",
       "                        <td id=\"T_a355fa3e_aee7_11ea_a4f1_4c32759132ddrow16_col12\" class=\"data row16 col12\" >nan</td>\n",
       "                        <td id=\"T_a355fa3e_aee7_11ea_a4f1_4c32759132ddrow16_col13\" class=\"data row16 col13\" >66</td>\n",
       "                        <td id=\"T_a355fa3e_aee7_11ea_a4f1_4c32759132ddrow16_col14\" class=\"data row16 col14\" >1.11</td>\n",
       "                        <td id=\"T_a355fa3e_aee7_11ea_a4f1_4c32759132ddrow16_col15\" class=\"data row16 col15\" >84</td>\n",
       "                        <td id=\"T_a355fa3e_aee7_11ea_a4f1_4c32759132ddrow16_col16\" class=\"data row16 col16\" >0</td>\n",
       "                        <td id=\"T_a355fa3e_aee7_11ea_a4f1_4c32759132ddrow16_col17\" class=\"data row16 col17\" >nan</td>\n",
       "                        <td id=\"T_a355fa3e_aee7_11ea_a4f1_4c32759132ddrow16_col18\" class=\"data row16 col18\" >nan</td>\n",
       "                        <td id=\"T_a355fa3e_aee7_11ea_a4f1_4c32759132ddrow16_col19\" class=\"data row16 col19\" >44</td>\n",
       "                        <td id=\"T_a355fa3e_aee7_11ea_a4f1_4c32759132ddrow16_col20\" class=\"data row16 col20\" >0.66</td>\n",
       "                        <td id=\"T_a355fa3e_aee7_11ea_a4f1_4c32759132ddrow16_col21\" class=\"data row16 col21\" >71</td>\n",
       "                        <td id=\"T_a355fa3e_aee7_11ea_a4f1_4c32759132ddrow16_col22\" class=\"data row16 col22\" >0</td>\n",
       "                        <td id=\"T_a355fa3e_aee7_11ea_a4f1_4c32759132ddrow16_col23\" class=\"data row16 col23\" >nan</td>\n",
       "                        <td id=\"T_a355fa3e_aee7_11ea_a4f1_4c32759132ddrow16_col24\" class=\"data row16 col24\" >nan</td>\n",
       "                        <td id=\"T_a355fa3e_aee7_11ea_a4f1_4c32759132ddrow16_col25\" class=\"data row16 col25\" >128</td>\n",
       "                        <td id=\"T_a355fa3e_aee7_11ea_a4f1_4c32759132ddrow16_col26\" class=\"data row16 col26\" >2</td>\n",
       "                        <td id=\"T_a355fa3e_aee7_11ea_a4f1_4c32759132ddrow16_col27\" class=\"data row16 col27\" >95</td>\n",
       "                        <td id=\"T_a355fa3e_aee7_11ea_a4f1_4c32759132ddrow16_col28\" class=\"data row16 col28\" >0</td>\n",
       "                        <td id=\"T_a355fa3e_aee7_11ea_a4f1_4c32759132ddrow16_col29\" class=\"data row16 col29\" >nan</td>\n",
       "                        <td id=\"T_a355fa3e_aee7_11ea_a4f1_4c32759132ddrow16_col30\" class=\"data row16 col30\" >nan</td>\n",
       "                        <td id=\"T_a355fa3e_aee7_11ea_a4f1_4c32759132ddrow16_col31\" class=\"data row16 col31\" >62</td>\n",
       "                        <td id=\"T_a355fa3e_aee7_11ea_a4f1_4c32759132ddrow16_col32\" class=\"data row16 col32\" >1.86</td>\n",
       "                        <td id=\"T_a355fa3e_aee7_11ea_a4f1_4c32759132ddrow16_col33\" class=\"data row16 col33\" >95</td>\n",
       "                        <td id=\"T_a355fa3e_aee7_11ea_a4f1_4c32759132ddrow16_col34\" class=\"data row16 col34\" >0</td>\n",
       "                        <td id=\"T_a355fa3e_aee7_11ea_a4f1_4c32759132ddrow16_col35\" class=\"data row16 col35\" >nan</td>\n",
       "                        <td id=\"T_a355fa3e_aee7_11ea_a4f1_4c32759132ddrow16_col36\" class=\"data row16 col36\" >nan</td>\n",
       "                        <td id=\"T_a355fa3e_aee7_11ea_a4f1_4c32759132ddrow16_col37\" class=\"data row16 col37\" >nan</td>\n",
       "                        <td id=\"T_a355fa3e_aee7_11ea_a4f1_4c32759132ddrow16_col38\" class=\"data row16 col38\" >#B3D9FF</td>\n",
       "            </tr>\n",
       "            <tr>\n",
       "                        <th id=\"T_a355fa3e_aee7_11ea_a4f1_4c32759132ddlevel0_row17\" class=\"row_heading level0 row17\" >206</th>\n",
       "                        <td id=\"T_a355fa3e_aee7_11ea_a4f1_4c32759132ddrow17_col0\" class=\"data row17 col0\" >DB 6B 59 3A 0C</td>\n",
       "                        <td id=\"T_a355fa3e_aee7_11ea_a4f1_4c32759132ddrow17_col1\" class=\"data row17 col1\" >34</td>\n",
       "                        <td id=\"T_a355fa3e_aee7_11ea_a4f1_4c32759132ddrow17_col2\" class=\"data row17 col2\" >Type 1</td>\n",
       "                        <td id=\"T_a355fa3e_aee7_11ea_a4f1_4c32759132ddrow17_col3\" class=\"data row17 col3\" >Verres correcteurs</td>\n",
       "                        <td id=\"T_a355fa3e_aee7_11ea_a4f1_4c32759132ddrow17_col4\" class=\"data row17 col4\" >Prothèse auditive conventionnelle refusée</td>\n",
       "                        <td id=\"T_a355fa3e_aee7_11ea_a4f1_4c32759132ddrow17_col5\" class=\"data row17 col5\" >Aucune</td>\n",
       "                        <td id=\"T_a355fa3e_aee7_11ea_a4f1_4c32759132ddrow17_col6\" class=\"data row17 col6\" >Aucun</td>\n",
       "                        <td id=\"T_a355fa3e_aee7_11ea_a4f1_4c32759132ddrow17_col7\" class=\"data row17 col7\" >Aucun</td>\n",
       "                        <td id=\"T_a355fa3e_aee7_11ea_a4f1_4c32759132ddrow17_col8\" class=\"data row17 col8\" >Oui</td>\n",
       "                        <td id=\"T_a355fa3e_aee7_11ea_a4f1_4c32759132ddrow17_col9\" class=\"data row17 col9\" >0</td>\n",
       "                        <td id=\"T_a355fa3e_aee7_11ea_a4f1_4c32759132ddrow17_col10\" class=\"data row17 col10\" >Oui</td>\n",
       "                        <td id=\"T_a355fa3e_aee7_11ea_a4f1_4c32759132ddrow17_col11\" class=\"data row17 col11\" >2020-01-29 00:00:00</td>\n",
       "                        <td id=\"T_a355fa3e_aee7_11ea_a4f1_4c32759132ddrow17_col12\" class=\"data row17 col12\" >nan</td>\n",
       "                        <td id=\"T_a355fa3e_aee7_11ea_a4f1_4c32759132ddrow17_col13\" class=\"data row17 col13\" >98</td>\n",
       "                        <td id=\"T_a355fa3e_aee7_11ea_a4f1_4c32759132ddrow17_col14\" class=\"data row17 col14\" >1.9</td>\n",
       "                        <td id=\"T_a355fa3e_aee7_11ea_a4f1_4c32759132ddrow17_col15\" class=\"data row17 col15\" >91</td>\n",
       "                        <td id=\"T_a355fa3e_aee7_11ea_a4f1_4c32759132ddrow17_col16\" class=\"data row17 col16\" >0</td>\n",
       "                        <td id=\"T_a355fa3e_aee7_11ea_a4f1_4c32759132ddrow17_col17\" class=\"data row17 col17\" >nan</td>\n",
       "                        <td id=\"T_a355fa3e_aee7_11ea_a4f1_4c32759132ddrow17_col18\" class=\"data row17 col18\" >nan</td>\n",
       "                        <td id=\"T_a355fa3e_aee7_11ea_a4f1_4c32759132ddrow17_col19\" class=\"data row17 col19\" >98</td>\n",
       "                        <td id=\"T_a355fa3e_aee7_11ea_a4f1_4c32759132ddrow17_col20\" class=\"data row17 col20\" >4.3</td>\n",
       "                        <td id=\"T_a355fa3e_aee7_11ea_a4f1_4c32759132ddrow17_col21\" class=\"data row17 col21\" >95</td>\n",
       "                        <td id=\"T_a355fa3e_aee7_11ea_a4f1_4c32759132ddrow17_col22\" class=\"data row17 col22\" >0</td>\n",
       "                        <td id=\"T_a355fa3e_aee7_11ea_a4f1_4c32759132ddrow17_col23\" class=\"data row17 col23\" >nan</td>\n",
       "                        <td id=\"T_a355fa3e_aee7_11ea_a4f1_4c32759132ddrow17_col24\" class=\"data row17 col24\" >nan</td>\n",
       "                        <td id=\"T_a355fa3e_aee7_11ea_a4f1_4c32759132ddrow17_col25\" class=\"data row17 col25\" >93</td>\n",
       "                        <td id=\"T_a355fa3e_aee7_11ea_a4f1_4c32759132ddrow17_col26\" class=\"data row17 col26\" >-0.5</td>\n",
       "                        <td id=\"T_a355fa3e_aee7_11ea_a4f1_4c32759132ddrow17_col27\" class=\"data row17 col27\" >32</td>\n",
       "                        <td id=\"T_a355fa3e_aee7_11ea_a4f1_4c32759132ddrow17_col28\" class=\"data row17 col28\" >2</td>\n",
       "                        <td id=\"T_a355fa3e_aee7_11ea_a4f1_4c32759132ddrow17_col29\" class=\"data row17 col29\" >0.93</td>\n",
       "                        <td id=\"T_a355fa3e_aee7_11ea_a4f1_4c32759132ddrow17_col30\" class=\"data row17 col30\" >89</td>\n",
       "                        <td id=\"T_a355fa3e_aee7_11ea_a4f1_4c32759132ddrow17_col31\" class=\"data row17 col31\" >nan</td>\n",
       "                        <td id=\"T_a355fa3e_aee7_11ea_a4f1_4c32759132ddrow17_col32\" class=\"data row17 col32\" >2.13</td>\n",
       "                        <td id=\"T_a355fa3e_aee7_11ea_a4f1_4c32759132ddrow17_col33\" class=\"data row17 col33\" >5</td>\n",
       "                        <td id=\"T_a355fa3e_aee7_11ea_a4f1_4c32759132ddrow17_col34\" class=\"data row17 col34\" >2</td>\n",
       "                        <td id=\"T_a355fa3e_aee7_11ea_a4f1_4c32759132ddrow17_col35\" class=\"data row17 col35\" >1.2</td>\n",
       "                        <td id=\"T_a355fa3e_aee7_11ea_a4f1_4c32759132ddrow17_col36\" class=\"data row17 col36\" >91</td>\n",
       "                        <td id=\"T_a355fa3e_aee7_11ea_a4f1_4c32759132ddrow17_col37\" class=\"data row17 col37\" >Fatigué</td>\n",
       "                        <td id=\"T_a355fa3e_aee7_11ea_a4f1_4c32759132ddrow17_col38\" class=\"data row17 col38\" >#33ffc9</td>\n",
       "            </tr>\n",
       "    </tbody></table>"
      ],
      "text/plain": [
       "<pandas.io.formats.style.Styler at 0x7fad83075c90>"
      ]
     },
     "execution_count": 81,
     "metadata": {},
     "output_type": "execute_result"
    }
   ],
   "source": [
    "df_str.style"
   ]
  },
  {
   "cell_type": "code",
   "execution_count": 82,
   "metadata": {
    "ExecuteTime": {
     "end_time": "2020-06-15T09:07:29.118493Z",
     "start_time": "2020-06-15T09:07:29.115057Z"
    }
   },
   "outputs": [
    {
     "data": {
      "text/html": [
       "<h4>2. Effectifs </h4>"
      ],
      "text/plain": [
       "<IPython.core.display.HTML object>"
      ]
     },
     "metadata": {},
     "output_type": "display_data"
    }
   ],
   "source": [
    "display(HTML('<h4>2. Effectifs </h4>'))"
   ]
  },
  {
   "cell_type": "code",
   "execution_count": 83,
   "metadata": {
    "ExecuteTime": {
     "end_time": "2020-06-15T09:07:29.357165Z",
     "start_time": "2020-06-15T09:07:29.353253Z"
    }
   },
   "outputs": [],
   "source": [
    "columns= ['','Valeur']\n",
    "myarr = [[\"Effectif total (STROOP = Oui)\",\n",
    "            'Moyenne d’âge',\n",
    "            'Âge minimum',\n",
    "            'Âge maximum',\n",
    "            'Patients ayant uniquement une correction visuelle',\n",
    "            'Patients ayant uniquement une correction auditive',\n",
    "            'Patients ayant une correction auditive + une correction visuelle',\n",
    "            'Nombre de personnes ayant recours un interprète']]\n",
    "for i in columns[1:]:\n",
    "    myarr.append([str_total, str_age_avg, str_age_min, str_age_max, str_covis_u, str_coaud_u, str_coaud_covis, str_intlsf])"
   ]
  },
  {
   "cell_type": "code",
   "execution_count": 84,
   "metadata": {
    "ExecuteTime": {
     "end_time": "2020-06-15T09:07:30.721127Z",
     "start_time": "2020-06-15T09:07:30.142263Z"
    }
   },
   "outputs": [
    {
     "data": {
      "application/vnd.plotly.v1+json": {
       "config": {
        "plotlyServerURL": "https://plot.ly"
       },
       "data": [
        {
         "cells": {
          "align": "left",
          "values": [
           [
            "Effectif total (STROOP = Oui)",
            "Moyenne d’âge",
            "Âge minimum",
            "Âge maximum",
            "Patients ayant uniquement une correction visuelle",
            "Patients ayant uniquement une correction auditive",
            "Patients ayant une correction auditive + une correction visuelle",
            "Nombre de personnes ayant recours un interprète"
           ],
           [
            18,
            31,
            18,
            48,
            1,
            1,
            16,
            4
           ]
          ]
         },
         "columnwidth": [
          30,
          5
         ],
         "header": {
          "align": "left",
          "values": [
           "",
           "Valeur"
          ]
         },
         "type": "table"
        }
       ],
       "layout": {
        "template": {
         "data": {
          "bar": [
           {
            "error_x": {
             "color": "#2a3f5f"
            },
            "error_y": {
             "color": "#2a3f5f"
            },
            "marker": {
             "line": {
              "color": "#E5ECF6",
              "width": 0.5
             }
            },
            "type": "bar"
           }
          ],
          "barpolar": [
           {
            "marker": {
             "line": {
              "color": "#E5ECF6",
              "width": 0.5
             }
            },
            "type": "barpolar"
           }
          ],
          "carpet": [
           {
            "aaxis": {
             "endlinecolor": "#2a3f5f",
             "gridcolor": "white",
             "linecolor": "white",
             "minorgridcolor": "white",
             "startlinecolor": "#2a3f5f"
            },
            "baxis": {
             "endlinecolor": "#2a3f5f",
             "gridcolor": "white",
             "linecolor": "white",
             "minorgridcolor": "white",
             "startlinecolor": "#2a3f5f"
            },
            "type": "carpet"
           }
          ],
          "choropleth": [
           {
            "colorbar": {
             "outlinewidth": 0,
             "ticks": ""
            },
            "type": "choropleth"
           }
          ],
          "contour": [
           {
            "colorbar": {
             "outlinewidth": 0,
             "ticks": ""
            },
            "colorscale": [
             [
              0,
              "#0d0887"
             ],
             [
              0.1111111111111111,
              "#46039f"
             ],
             [
              0.2222222222222222,
              "#7201a8"
             ],
             [
              0.3333333333333333,
              "#9c179e"
             ],
             [
              0.4444444444444444,
              "#bd3786"
             ],
             [
              0.5555555555555556,
              "#d8576b"
             ],
             [
              0.6666666666666666,
              "#ed7953"
             ],
             [
              0.7777777777777778,
              "#fb9f3a"
             ],
             [
              0.8888888888888888,
              "#fdca26"
             ],
             [
              1,
              "#f0f921"
             ]
            ],
            "type": "contour"
           }
          ],
          "contourcarpet": [
           {
            "colorbar": {
             "outlinewidth": 0,
             "ticks": ""
            },
            "type": "contourcarpet"
           }
          ],
          "heatmap": [
           {
            "colorbar": {
             "outlinewidth": 0,
             "ticks": ""
            },
            "colorscale": [
             [
              0,
              "#0d0887"
             ],
             [
              0.1111111111111111,
              "#46039f"
             ],
             [
              0.2222222222222222,
              "#7201a8"
             ],
             [
              0.3333333333333333,
              "#9c179e"
             ],
             [
              0.4444444444444444,
              "#bd3786"
             ],
             [
              0.5555555555555556,
              "#d8576b"
             ],
             [
              0.6666666666666666,
              "#ed7953"
             ],
             [
              0.7777777777777778,
              "#fb9f3a"
             ],
             [
              0.8888888888888888,
              "#fdca26"
             ],
             [
              1,
              "#f0f921"
             ]
            ],
            "type": "heatmap"
           }
          ],
          "heatmapgl": [
           {
            "colorbar": {
             "outlinewidth": 0,
             "ticks": ""
            },
            "colorscale": [
             [
              0,
              "#0d0887"
             ],
             [
              0.1111111111111111,
              "#46039f"
             ],
             [
              0.2222222222222222,
              "#7201a8"
             ],
             [
              0.3333333333333333,
              "#9c179e"
             ],
             [
              0.4444444444444444,
              "#bd3786"
             ],
             [
              0.5555555555555556,
              "#d8576b"
             ],
             [
              0.6666666666666666,
              "#ed7953"
             ],
             [
              0.7777777777777778,
              "#fb9f3a"
             ],
             [
              0.8888888888888888,
              "#fdca26"
             ],
             [
              1,
              "#f0f921"
             ]
            ],
            "type": "heatmapgl"
           }
          ],
          "histogram": [
           {
            "marker": {
             "colorbar": {
              "outlinewidth": 0,
              "ticks": ""
             }
            },
            "type": "histogram"
           }
          ],
          "histogram2d": [
           {
            "colorbar": {
             "outlinewidth": 0,
             "ticks": ""
            },
            "colorscale": [
             [
              0,
              "#0d0887"
             ],
             [
              0.1111111111111111,
              "#46039f"
             ],
             [
              0.2222222222222222,
              "#7201a8"
             ],
             [
              0.3333333333333333,
              "#9c179e"
             ],
             [
              0.4444444444444444,
              "#bd3786"
             ],
             [
              0.5555555555555556,
              "#d8576b"
             ],
             [
              0.6666666666666666,
              "#ed7953"
             ],
             [
              0.7777777777777778,
              "#fb9f3a"
             ],
             [
              0.8888888888888888,
              "#fdca26"
             ],
             [
              1,
              "#f0f921"
             ]
            ],
            "type": "histogram2d"
           }
          ],
          "histogram2dcontour": [
           {
            "colorbar": {
             "outlinewidth": 0,
             "ticks": ""
            },
            "colorscale": [
             [
              0,
              "#0d0887"
             ],
             [
              0.1111111111111111,
              "#46039f"
             ],
             [
              0.2222222222222222,
              "#7201a8"
             ],
             [
              0.3333333333333333,
              "#9c179e"
             ],
             [
              0.4444444444444444,
              "#bd3786"
             ],
             [
              0.5555555555555556,
              "#d8576b"
             ],
             [
              0.6666666666666666,
              "#ed7953"
             ],
             [
              0.7777777777777778,
              "#fb9f3a"
             ],
             [
              0.8888888888888888,
              "#fdca26"
             ],
             [
              1,
              "#f0f921"
             ]
            ],
            "type": "histogram2dcontour"
           }
          ],
          "mesh3d": [
           {
            "colorbar": {
             "outlinewidth": 0,
             "ticks": ""
            },
            "type": "mesh3d"
           }
          ],
          "parcoords": [
           {
            "line": {
             "colorbar": {
              "outlinewidth": 0,
              "ticks": ""
             }
            },
            "type": "parcoords"
           }
          ],
          "pie": [
           {
            "automargin": true,
            "type": "pie"
           }
          ],
          "scatter": [
           {
            "marker": {
             "colorbar": {
              "outlinewidth": 0,
              "ticks": ""
             }
            },
            "type": "scatter"
           }
          ],
          "scatter3d": [
           {
            "line": {
             "colorbar": {
              "outlinewidth": 0,
              "ticks": ""
             }
            },
            "marker": {
             "colorbar": {
              "outlinewidth": 0,
              "ticks": ""
             }
            },
            "type": "scatter3d"
           }
          ],
          "scattercarpet": [
           {
            "marker": {
             "colorbar": {
              "outlinewidth": 0,
              "ticks": ""
             }
            },
            "type": "scattercarpet"
           }
          ],
          "scattergeo": [
           {
            "marker": {
             "colorbar": {
              "outlinewidth": 0,
              "ticks": ""
             }
            },
            "type": "scattergeo"
           }
          ],
          "scattergl": [
           {
            "marker": {
             "colorbar": {
              "outlinewidth": 0,
              "ticks": ""
             }
            },
            "type": "scattergl"
           }
          ],
          "scattermapbox": [
           {
            "marker": {
             "colorbar": {
              "outlinewidth": 0,
              "ticks": ""
             }
            },
            "type": "scattermapbox"
           }
          ],
          "scatterpolar": [
           {
            "marker": {
             "colorbar": {
              "outlinewidth": 0,
              "ticks": ""
             }
            },
            "type": "scatterpolar"
           }
          ],
          "scatterpolargl": [
           {
            "marker": {
             "colorbar": {
              "outlinewidth": 0,
              "ticks": ""
             }
            },
            "type": "scatterpolargl"
           }
          ],
          "scatterternary": [
           {
            "marker": {
             "colorbar": {
              "outlinewidth": 0,
              "ticks": ""
             }
            },
            "type": "scatterternary"
           }
          ],
          "surface": [
           {
            "colorbar": {
             "outlinewidth": 0,
             "ticks": ""
            },
            "colorscale": [
             [
              0,
              "#0d0887"
             ],
             [
              0.1111111111111111,
              "#46039f"
             ],
             [
              0.2222222222222222,
              "#7201a8"
             ],
             [
              0.3333333333333333,
              "#9c179e"
             ],
             [
              0.4444444444444444,
              "#bd3786"
             ],
             [
              0.5555555555555556,
              "#d8576b"
             ],
             [
              0.6666666666666666,
              "#ed7953"
             ],
             [
              0.7777777777777778,
              "#fb9f3a"
             ],
             [
              0.8888888888888888,
              "#fdca26"
             ],
             [
              1,
              "#f0f921"
             ]
            ],
            "type": "surface"
           }
          ],
          "table": [
           {
            "cells": {
             "fill": {
              "color": "#EBF0F8"
             },
             "line": {
              "color": "white"
             }
            },
            "header": {
             "fill": {
              "color": "#C8D4E3"
             },
             "line": {
              "color": "white"
             }
            },
            "type": "table"
           }
          ]
         },
         "layout": {
          "annotationdefaults": {
           "arrowcolor": "#2a3f5f",
           "arrowhead": 0,
           "arrowwidth": 1
          },
          "coloraxis": {
           "colorbar": {
            "outlinewidth": 0,
            "ticks": ""
           }
          },
          "colorscale": {
           "diverging": [
            [
             0,
             "#8e0152"
            ],
            [
             0.1,
             "#c51b7d"
            ],
            [
             0.2,
             "#de77ae"
            ],
            [
             0.3,
             "#f1b6da"
            ],
            [
             0.4,
             "#fde0ef"
            ],
            [
             0.5,
             "#f7f7f7"
            ],
            [
             0.6,
             "#e6f5d0"
            ],
            [
             0.7,
             "#b8e186"
            ],
            [
             0.8,
             "#7fbc41"
            ],
            [
             0.9,
             "#4d9221"
            ],
            [
             1,
             "#276419"
            ]
           ],
           "sequential": [
            [
             0,
             "#0d0887"
            ],
            [
             0.1111111111111111,
             "#46039f"
            ],
            [
             0.2222222222222222,
             "#7201a8"
            ],
            [
             0.3333333333333333,
             "#9c179e"
            ],
            [
             0.4444444444444444,
             "#bd3786"
            ],
            [
             0.5555555555555556,
             "#d8576b"
            ],
            [
             0.6666666666666666,
             "#ed7953"
            ],
            [
             0.7777777777777778,
             "#fb9f3a"
            ],
            [
             0.8888888888888888,
             "#fdca26"
            ],
            [
             1,
             "#f0f921"
            ]
           ],
           "sequentialminus": [
            [
             0,
             "#0d0887"
            ],
            [
             0.1111111111111111,
             "#46039f"
            ],
            [
             0.2222222222222222,
             "#7201a8"
            ],
            [
             0.3333333333333333,
             "#9c179e"
            ],
            [
             0.4444444444444444,
             "#bd3786"
            ],
            [
             0.5555555555555556,
             "#d8576b"
            ],
            [
             0.6666666666666666,
             "#ed7953"
            ],
            [
             0.7777777777777778,
             "#fb9f3a"
            ],
            [
             0.8888888888888888,
             "#fdca26"
            ],
            [
             1,
             "#f0f921"
            ]
           ]
          },
          "colorway": [
           "#636efa",
           "#EF553B",
           "#00cc96",
           "#ab63fa",
           "#FFA15A",
           "#19d3f3",
           "#FF6692",
           "#B6E880",
           "#FF97FF",
           "#FECB52"
          ],
          "font": {
           "color": "#2a3f5f"
          },
          "geo": {
           "bgcolor": "white",
           "lakecolor": "white",
           "landcolor": "#E5ECF6",
           "showlakes": true,
           "showland": true,
           "subunitcolor": "white"
          },
          "hoverlabel": {
           "align": "left"
          },
          "hovermode": "closest",
          "mapbox": {
           "style": "light"
          },
          "paper_bgcolor": "white",
          "plot_bgcolor": "#E5ECF6",
          "polar": {
           "angularaxis": {
            "gridcolor": "white",
            "linecolor": "white",
            "ticks": ""
           },
           "bgcolor": "#E5ECF6",
           "radialaxis": {
            "gridcolor": "white",
            "linecolor": "white",
            "ticks": ""
           }
          },
          "scene": {
           "xaxis": {
            "backgroundcolor": "#E5ECF6",
            "gridcolor": "white",
            "gridwidth": 2,
            "linecolor": "white",
            "showbackground": true,
            "ticks": "",
            "zerolinecolor": "white"
           },
           "yaxis": {
            "backgroundcolor": "#E5ECF6",
            "gridcolor": "white",
            "gridwidth": 2,
            "linecolor": "white",
            "showbackground": true,
            "ticks": "",
            "zerolinecolor": "white"
           },
           "zaxis": {
            "backgroundcolor": "#E5ECF6",
            "gridcolor": "white",
            "gridwidth": 2,
            "linecolor": "white",
            "showbackground": true,
            "ticks": "",
            "zerolinecolor": "white"
           }
          },
          "shapedefaults": {
           "line": {
            "color": "#2a3f5f"
           }
          },
          "ternary": {
           "aaxis": {
            "gridcolor": "white",
            "linecolor": "white",
            "ticks": ""
           },
           "baxis": {
            "gridcolor": "white",
            "linecolor": "white",
            "ticks": ""
           },
           "bgcolor": "#E5ECF6",
           "caxis": {
            "gridcolor": "white",
            "linecolor": "white",
            "ticks": ""
           }
          },
          "title": {
           "x": 0.05
          },
          "xaxis": {
           "automargin": true,
           "gridcolor": "white",
           "linecolor": "white",
           "ticks": "",
           "title": {
            "standoff": 15
           },
           "zerolinecolor": "white",
           "zerolinewidth": 2
          },
          "yaxis": {
           "automargin": true,
           "gridcolor": "white",
           "linecolor": "white",
           "ticks": "",
           "title": {
            "standoff": 15
           },
           "zerolinecolor": "white",
           "zerolinewidth": 2
          }
         }
        }
       }
      },
      "text/html": [
       "<div>\n",
       "        \n",
       "        \n",
       "            <div id=\"aa550a89-ea75-4cef-aeac-74991cb7e58e\" class=\"plotly-graph-div\" style=\"height:525px; width:100%;\"></div>\n",
       "            <script type=\"text/javascript\">\n",
       "                require([\"plotly\"], function(Plotly) {\n",
       "                    window.PLOTLYENV=window.PLOTLYENV || {};\n",
       "                    \n",
       "                if (document.getElementById(\"aa550a89-ea75-4cef-aeac-74991cb7e58e\")) {\n",
       "                    Plotly.newPlot(\n",
       "                        'aa550a89-ea75-4cef-aeac-74991cb7e58e',\n",
       "                        [{\"cells\": {\"align\": \"left\", \"values\": [[\"Effectif total (STROOP = Oui)\", \"Moyenne d\\u2019\\u00e2ge\", \"\\u00c2ge minimum\", \"\\u00c2ge maximum\", \"Patients ayant uniquement une correction visuelle\", \"Patients ayant uniquement une correction auditive\", \"Patients ayant une correction auditive + une correction visuelle\", \"Nombre de personnes ayant recours un interpr\\u00e8te\"], [18, 31, 18.0, 48.0, 1, 1, 16, 4]]}, \"columnwidth\": [30, 5], \"header\": {\"align\": \"left\", \"values\": [\"\", \"Valeur\"]}, \"type\": \"table\"}],\n",
       "                        {\"template\": {\"data\": {\"bar\": [{\"error_x\": {\"color\": \"#2a3f5f\"}, \"error_y\": {\"color\": \"#2a3f5f\"}, \"marker\": {\"line\": {\"color\": \"#E5ECF6\", \"width\": 0.5}}, \"type\": \"bar\"}], \"barpolar\": [{\"marker\": {\"line\": {\"color\": \"#E5ECF6\", \"width\": 0.5}}, \"type\": \"barpolar\"}], \"carpet\": [{\"aaxis\": {\"endlinecolor\": \"#2a3f5f\", \"gridcolor\": \"white\", \"linecolor\": \"white\", \"minorgridcolor\": \"white\", \"startlinecolor\": \"#2a3f5f\"}, \"baxis\": {\"endlinecolor\": \"#2a3f5f\", \"gridcolor\": \"white\", \"linecolor\": \"white\", \"minorgridcolor\": \"white\", \"startlinecolor\": \"#2a3f5f\"}, \"type\": \"carpet\"}], \"choropleth\": [{\"colorbar\": {\"outlinewidth\": 0, \"ticks\": \"\"}, \"type\": \"choropleth\"}], \"contour\": [{\"colorbar\": {\"outlinewidth\": 0, \"ticks\": \"\"}, \"colorscale\": [[0.0, \"#0d0887\"], [0.1111111111111111, \"#46039f\"], [0.2222222222222222, \"#7201a8\"], [0.3333333333333333, \"#9c179e\"], [0.4444444444444444, \"#bd3786\"], [0.5555555555555556, \"#d8576b\"], [0.6666666666666666, \"#ed7953\"], [0.7777777777777778, \"#fb9f3a\"], [0.8888888888888888, \"#fdca26\"], [1.0, \"#f0f921\"]], \"type\": \"contour\"}], \"contourcarpet\": [{\"colorbar\": {\"outlinewidth\": 0, \"ticks\": \"\"}, \"type\": \"contourcarpet\"}], \"heatmap\": [{\"colorbar\": {\"outlinewidth\": 0, \"ticks\": \"\"}, \"colorscale\": [[0.0, \"#0d0887\"], [0.1111111111111111, \"#46039f\"], [0.2222222222222222, \"#7201a8\"], [0.3333333333333333, \"#9c179e\"], [0.4444444444444444, \"#bd3786\"], [0.5555555555555556, \"#d8576b\"], [0.6666666666666666, \"#ed7953\"], [0.7777777777777778, \"#fb9f3a\"], [0.8888888888888888, \"#fdca26\"], [1.0, \"#f0f921\"]], \"type\": \"heatmap\"}], \"heatmapgl\": [{\"colorbar\": {\"outlinewidth\": 0, \"ticks\": \"\"}, \"colorscale\": [[0.0, \"#0d0887\"], [0.1111111111111111, \"#46039f\"], [0.2222222222222222, \"#7201a8\"], [0.3333333333333333, \"#9c179e\"], [0.4444444444444444, \"#bd3786\"], [0.5555555555555556, \"#d8576b\"], [0.6666666666666666, \"#ed7953\"], [0.7777777777777778, \"#fb9f3a\"], [0.8888888888888888, \"#fdca26\"], [1.0, \"#f0f921\"]], \"type\": \"heatmapgl\"}], \"histogram\": [{\"marker\": {\"colorbar\": {\"outlinewidth\": 0, \"ticks\": \"\"}}, \"type\": \"histogram\"}], \"histogram2d\": [{\"colorbar\": {\"outlinewidth\": 0, \"ticks\": \"\"}, \"colorscale\": [[0.0, \"#0d0887\"], [0.1111111111111111, \"#46039f\"], [0.2222222222222222, \"#7201a8\"], [0.3333333333333333, \"#9c179e\"], [0.4444444444444444, \"#bd3786\"], [0.5555555555555556, \"#d8576b\"], [0.6666666666666666, \"#ed7953\"], [0.7777777777777778, \"#fb9f3a\"], [0.8888888888888888, \"#fdca26\"], [1.0, \"#f0f921\"]], \"type\": \"histogram2d\"}], \"histogram2dcontour\": [{\"colorbar\": {\"outlinewidth\": 0, \"ticks\": \"\"}, \"colorscale\": [[0.0, \"#0d0887\"], [0.1111111111111111, \"#46039f\"], [0.2222222222222222, \"#7201a8\"], [0.3333333333333333, \"#9c179e\"], [0.4444444444444444, \"#bd3786\"], [0.5555555555555556, \"#d8576b\"], [0.6666666666666666, \"#ed7953\"], [0.7777777777777778, \"#fb9f3a\"], [0.8888888888888888, \"#fdca26\"], [1.0, \"#f0f921\"]], \"type\": \"histogram2dcontour\"}], \"mesh3d\": [{\"colorbar\": {\"outlinewidth\": 0, \"ticks\": \"\"}, \"type\": \"mesh3d\"}], \"parcoords\": [{\"line\": {\"colorbar\": {\"outlinewidth\": 0, \"ticks\": \"\"}}, \"type\": \"parcoords\"}], \"pie\": [{\"automargin\": true, \"type\": \"pie\"}], \"scatter\": [{\"marker\": {\"colorbar\": {\"outlinewidth\": 0, \"ticks\": \"\"}}, \"type\": \"scatter\"}], \"scatter3d\": [{\"line\": {\"colorbar\": {\"outlinewidth\": 0, \"ticks\": \"\"}}, \"marker\": {\"colorbar\": {\"outlinewidth\": 0, \"ticks\": \"\"}}, \"type\": \"scatter3d\"}], \"scattercarpet\": [{\"marker\": {\"colorbar\": {\"outlinewidth\": 0, \"ticks\": \"\"}}, \"type\": \"scattercarpet\"}], \"scattergeo\": [{\"marker\": {\"colorbar\": {\"outlinewidth\": 0, \"ticks\": \"\"}}, \"type\": \"scattergeo\"}], \"scattergl\": [{\"marker\": {\"colorbar\": {\"outlinewidth\": 0, \"ticks\": \"\"}}, \"type\": \"scattergl\"}], \"scattermapbox\": [{\"marker\": {\"colorbar\": {\"outlinewidth\": 0, \"ticks\": \"\"}}, \"type\": \"scattermapbox\"}], \"scatterpolar\": [{\"marker\": {\"colorbar\": {\"outlinewidth\": 0, \"ticks\": \"\"}}, \"type\": \"scatterpolar\"}], \"scatterpolargl\": [{\"marker\": {\"colorbar\": {\"outlinewidth\": 0, \"ticks\": \"\"}}, \"type\": \"scatterpolargl\"}], \"scatterternary\": [{\"marker\": {\"colorbar\": {\"outlinewidth\": 0, \"ticks\": \"\"}}, \"type\": \"scatterternary\"}], \"surface\": [{\"colorbar\": {\"outlinewidth\": 0, \"ticks\": \"\"}, \"colorscale\": [[0.0, \"#0d0887\"], [0.1111111111111111, \"#46039f\"], [0.2222222222222222, \"#7201a8\"], [0.3333333333333333, \"#9c179e\"], [0.4444444444444444, \"#bd3786\"], [0.5555555555555556, \"#d8576b\"], [0.6666666666666666, \"#ed7953\"], [0.7777777777777778, \"#fb9f3a\"], [0.8888888888888888, \"#fdca26\"], [1.0, \"#f0f921\"]], \"type\": \"surface\"}], \"table\": [{\"cells\": {\"fill\": {\"color\": \"#EBF0F8\"}, \"line\": {\"color\": \"white\"}}, \"header\": {\"fill\": {\"color\": \"#C8D4E3\"}, \"line\": {\"color\": \"white\"}}, \"type\": \"table\"}]}, \"layout\": {\"annotationdefaults\": {\"arrowcolor\": \"#2a3f5f\", \"arrowhead\": 0, \"arrowwidth\": 1}, \"coloraxis\": {\"colorbar\": {\"outlinewidth\": 0, \"ticks\": \"\"}}, \"colorscale\": {\"diverging\": [[0, \"#8e0152\"], [0.1, \"#c51b7d\"], [0.2, \"#de77ae\"], [0.3, \"#f1b6da\"], [0.4, \"#fde0ef\"], [0.5, \"#f7f7f7\"], [0.6, \"#e6f5d0\"], [0.7, \"#b8e186\"], [0.8, \"#7fbc41\"], [0.9, \"#4d9221\"], [1, \"#276419\"]], \"sequential\": [[0.0, \"#0d0887\"], [0.1111111111111111, \"#46039f\"], [0.2222222222222222, \"#7201a8\"], [0.3333333333333333, \"#9c179e\"], [0.4444444444444444, \"#bd3786\"], [0.5555555555555556, \"#d8576b\"], [0.6666666666666666, \"#ed7953\"], [0.7777777777777778, \"#fb9f3a\"], [0.8888888888888888, \"#fdca26\"], [1.0, \"#f0f921\"]], \"sequentialminus\": [[0.0, \"#0d0887\"], [0.1111111111111111, \"#46039f\"], [0.2222222222222222, \"#7201a8\"], [0.3333333333333333, \"#9c179e\"], [0.4444444444444444, \"#bd3786\"], [0.5555555555555556, \"#d8576b\"], [0.6666666666666666, \"#ed7953\"], [0.7777777777777778, \"#fb9f3a\"], [0.8888888888888888, \"#fdca26\"], [1.0, \"#f0f921\"]]}, \"colorway\": [\"#636efa\", \"#EF553B\", \"#00cc96\", \"#ab63fa\", \"#FFA15A\", \"#19d3f3\", \"#FF6692\", \"#B6E880\", \"#FF97FF\", \"#FECB52\"], \"font\": {\"color\": \"#2a3f5f\"}, \"geo\": {\"bgcolor\": \"white\", \"lakecolor\": \"white\", \"landcolor\": \"#E5ECF6\", \"showlakes\": true, \"showland\": true, \"subunitcolor\": \"white\"}, \"hoverlabel\": {\"align\": \"left\"}, \"hovermode\": \"closest\", \"mapbox\": {\"style\": \"light\"}, \"paper_bgcolor\": \"white\", \"plot_bgcolor\": \"#E5ECF6\", \"polar\": {\"angularaxis\": {\"gridcolor\": \"white\", \"linecolor\": \"white\", \"ticks\": \"\"}, \"bgcolor\": \"#E5ECF6\", \"radialaxis\": {\"gridcolor\": \"white\", \"linecolor\": \"white\", \"ticks\": \"\"}}, \"scene\": {\"xaxis\": {\"backgroundcolor\": \"#E5ECF6\", \"gridcolor\": \"white\", \"gridwidth\": 2, \"linecolor\": \"white\", \"showbackground\": true, \"ticks\": \"\", \"zerolinecolor\": \"white\"}, \"yaxis\": {\"backgroundcolor\": \"#E5ECF6\", \"gridcolor\": \"white\", \"gridwidth\": 2, \"linecolor\": \"white\", \"showbackground\": true, \"ticks\": \"\", \"zerolinecolor\": \"white\"}, \"zaxis\": {\"backgroundcolor\": \"#E5ECF6\", \"gridcolor\": \"white\", \"gridwidth\": 2, \"linecolor\": \"white\", \"showbackground\": true, \"ticks\": \"\", \"zerolinecolor\": \"white\"}}, \"shapedefaults\": {\"line\": {\"color\": \"#2a3f5f\"}}, \"ternary\": {\"aaxis\": {\"gridcolor\": \"white\", \"linecolor\": \"white\", \"ticks\": \"\"}, \"baxis\": {\"gridcolor\": \"white\", \"linecolor\": \"white\", \"ticks\": \"\"}, \"bgcolor\": \"#E5ECF6\", \"caxis\": {\"gridcolor\": \"white\", \"linecolor\": \"white\", \"ticks\": \"\"}}, \"title\": {\"x\": 0.05}, \"xaxis\": {\"automargin\": true, \"gridcolor\": \"white\", \"linecolor\": \"white\", \"ticks\": \"\", \"title\": {\"standoff\": 15}, \"zerolinecolor\": \"white\", \"zerolinewidth\": 2}, \"yaxis\": {\"automargin\": true, \"gridcolor\": \"white\", \"linecolor\": \"white\", \"ticks\": \"\", \"title\": {\"standoff\": 15}, \"zerolinecolor\": \"white\", \"zerolinewidth\": 2}}}},\n",
       "                        {\"responsive\": true}\n",
       "                    ).then(function(){\n",
       "                            \n",
       "var gd = document.getElementById('aa550a89-ea75-4cef-aeac-74991cb7e58e');\n",
       "var x = new MutationObserver(function (mutations, observer) {{\n",
       "        var display = window.getComputedStyle(gd).display;\n",
       "        if (!display || display === 'none') {{\n",
       "            console.log([gd, 'removed!']);\n",
       "            Plotly.purge(gd);\n",
       "            observer.disconnect();\n",
       "        }}\n",
       "}});\n",
       "\n",
       "// Listen for the removal of the full notebook cells\n",
       "var notebookContainer = gd.closest('#notebook-container');\n",
       "if (notebookContainer) {{\n",
       "    x.observe(notebookContainer, {childList: true});\n",
       "}}\n",
       "\n",
       "// Listen for the clearing of the current output cell\n",
       "var outputEl = gd.closest('.output');\n",
       "if (outputEl) {{\n",
       "    x.observe(outputEl, {childList: true});\n",
       "}}\n",
       "\n",
       "                        })\n",
       "                };\n",
       "                });\n",
       "            </script>\n",
       "        </div>"
      ]
     },
     "metadata": {},
     "output_type": "display_data"
    },
    {
     "data": {
      "text/html": [
       "<p>Répartition du nombre d'années d'études :</p>"
      ],
      "text/plain": [
       "<IPython.core.display.HTML object>"
      ]
     },
     "metadata": {},
     "output_type": "display_data"
    },
    {
     "data": {
      "application/vnd.plotly.v1+json": {
       "config": {
        "plotlyServerURL": "https://plot.ly"
       },
       "data": [
        {
         "cells": {
          "align": "left",
          "fill": {
           "color": "lavender"
          },
          "values": [
           [
            1,
            1,
            6,
            4,
            6
           ],
           [
            "0 à 5",
            "5 à 10",
            "10 à 12",
            "12 à 15",
            "15 à 20"
           ]
          ]
         },
         "header": {
          "align": "left",
          "fill": {
           "color": "paleturquoise"
          },
          "values": [
           "Nombre d'années d'études",
           "Effectif"
          ]
         },
         "type": "table"
        }
       ],
       "layout": {
        "template": {
         "data": {
          "bar": [
           {
            "error_x": {
             "color": "#2a3f5f"
            },
            "error_y": {
             "color": "#2a3f5f"
            },
            "marker": {
             "line": {
              "color": "#E5ECF6",
              "width": 0.5
             }
            },
            "type": "bar"
           }
          ],
          "barpolar": [
           {
            "marker": {
             "line": {
              "color": "#E5ECF6",
              "width": 0.5
             }
            },
            "type": "barpolar"
           }
          ],
          "carpet": [
           {
            "aaxis": {
             "endlinecolor": "#2a3f5f",
             "gridcolor": "white",
             "linecolor": "white",
             "minorgridcolor": "white",
             "startlinecolor": "#2a3f5f"
            },
            "baxis": {
             "endlinecolor": "#2a3f5f",
             "gridcolor": "white",
             "linecolor": "white",
             "minorgridcolor": "white",
             "startlinecolor": "#2a3f5f"
            },
            "type": "carpet"
           }
          ],
          "choropleth": [
           {
            "colorbar": {
             "outlinewidth": 0,
             "ticks": ""
            },
            "type": "choropleth"
           }
          ],
          "contour": [
           {
            "colorbar": {
             "outlinewidth": 0,
             "ticks": ""
            },
            "colorscale": [
             [
              0,
              "#0d0887"
             ],
             [
              0.1111111111111111,
              "#46039f"
             ],
             [
              0.2222222222222222,
              "#7201a8"
             ],
             [
              0.3333333333333333,
              "#9c179e"
             ],
             [
              0.4444444444444444,
              "#bd3786"
             ],
             [
              0.5555555555555556,
              "#d8576b"
             ],
             [
              0.6666666666666666,
              "#ed7953"
             ],
             [
              0.7777777777777778,
              "#fb9f3a"
             ],
             [
              0.8888888888888888,
              "#fdca26"
             ],
             [
              1,
              "#f0f921"
             ]
            ],
            "type": "contour"
           }
          ],
          "contourcarpet": [
           {
            "colorbar": {
             "outlinewidth": 0,
             "ticks": ""
            },
            "type": "contourcarpet"
           }
          ],
          "heatmap": [
           {
            "colorbar": {
             "outlinewidth": 0,
             "ticks": ""
            },
            "colorscale": [
             [
              0,
              "#0d0887"
             ],
             [
              0.1111111111111111,
              "#46039f"
             ],
             [
              0.2222222222222222,
              "#7201a8"
             ],
             [
              0.3333333333333333,
              "#9c179e"
             ],
             [
              0.4444444444444444,
              "#bd3786"
             ],
             [
              0.5555555555555556,
              "#d8576b"
             ],
             [
              0.6666666666666666,
              "#ed7953"
             ],
             [
              0.7777777777777778,
              "#fb9f3a"
             ],
             [
              0.8888888888888888,
              "#fdca26"
             ],
             [
              1,
              "#f0f921"
             ]
            ],
            "type": "heatmap"
           }
          ],
          "heatmapgl": [
           {
            "colorbar": {
             "outlinewidth": 0,
             "ticks": ""
            },
            "colorscale": [
             [
              0,
              "#0d0887"
             ],
             [
              0.1111111111111111,
              "#46039f"
             ],
             [
              0.2222222222222222,
              "#7201a8"
             ],
             [
              0.3333333333333333,
              "#9c179e"
             ],
             [
              0.4444444444444444,
              "#bd3786"
             ],
             [
              0.5555555555555556,
              "#d8576b"
             ],
             [
              0.6666666666666666,
              "#ed7953"
             ],
             [
              0.7777777777777778,
              "#fb9f3a"
             ],
             [
              0.8888888888888888,
              "#fdca26"
             ],
             [
              1,
              "#f0f921"
             ]
            ],
            "type": "heatmapgl"
           }
          ],
          "histogram": [
           {
            "marker": {
             "colorbar": {
              "outlinewidth": 0,
              "ticks": ""
             }
            },
            "type": "histogram"
           }
          ],
          "histogram2d": [
           {
            "colorbar": {
             "outlinewidth": 0,
             "ticks": ""
            },
            "colorscale": [
             [
              0,
              "#0d0887"
             ],
             [
              0.1111111111111111,
              "#46039f"
             ],
             [
              0.2222222222222222,
              "#7201a8"
             ],
             [
              0.3333333333333333,
              "#9c179e"
             ],
             [
              0.4444444444444444,
              "#bd3786"
             ],
             [
              0.5555555555555556,
              "#d8576b"
             ],
             [
              0.6666666666666666,
              "#ed7953"
             ],
             [
              0.7777777777777778,
              "#fb9f3a"
             ],
             [
              0.8888888888888888,
              "#fdca26"
             ],
             [
              1,
              "#f0f921"
             ]
            ],
            "type": "histogram2d"
           }
          ],
          "histogram2dcontour": [
           {
            "colorbar": {
             "outlinewidth": 0,
             "ticks": ""
            },
            "colorscale": [
             [
              0,
              "#0d0887"
             ],
             [
              0.1111111111111111,
              "#46039f"
             ],
             [
              0.2222222222222222,
              "#7201a8"
             ],
             [
              0.3333333333333333,
              "#9c179e"
             ],
             [
              0.4444444444444444,
              "#bd3786"
             ],
             [
              0.5555555555555556,
              "#d8576b"
             ],
             [
              0.6666666666666666,
              "#ed7953"
             ],
             [
              0.7777777777777778,
              "#fb9f3a"
             ],
             [
              0.8888888888888888,
              "#fdca26"
             ],
             [
              1,
              "#f0f921"
             ]
            ],
            "type": "histogram2dcontour"
           }
          ],
          "mesh3d": [
           {
            "colorbar": {
             "outlinewidth": 0,
             "ticks": ""
            },
            "type": "mesh3d"
           }
          ],
          "parcoords": [
           {
            "line": {
             "colorbar": {
              "outlinewidth": 0,
              "ticks": ""
             }
            },
            "type": "parcoords"
           }
          ],
          "pie": [
           {
            "automargin": true,
            "type": "pie"
           }
          ],
          "scatter": [
           {
            "marker": {
             "colorbar": {
              "outlinewidth": 0,
              "ticks": ""
             }
            },
            "type": "scatter"
           }
          ],
          "scatter3d": [
           {
            "line": {
             "colorbar": {
              "outlinewidth": 0,
              "ticks": ""
             }
            },
            "marker": {
             "colorbar": {
              "outlinewidth": 0,
              "ticks": ""
             }
            },
            "type": "scatter3d"
           }
          ],
          "scattercarpet": [
           {
            "marker": {
             "colorbar": {
              "outlinewidth": 0,
              "ticks": ""
             }
            },
            "type": "scattercarpet"
           }
          ],
          "scattergeo": [
           {
            "marker": {
             "colorbar": {
              "outlinewidth": 0,
              "ticks": ""
             }
            },
            "type": "scattergeo"
           }
          ],
          "scattergl": [
           {
            "marker": {
             "colorbar": {
              "outlinewidth": 0,
              "ticks": ""
             }
            },
            "type": "scattergl"
           }
          ],
          "scattermapbox": [
           {
            "marker": {
             "colorbar": {
              "outlinewidth": 0,
              "ticks": ""
             }
            },
            "type": "scattermapbox"
           }
          ],
          "scatterpolar": [
           {
            "marker": {
             "colorbar": {
              "outlinewidth": 0,
              "ticks": ""
             }
            },
            "type": "scatterpolar"
           }
          ],
          "scatterpolargl": [
           {
            "marker": {
             "colorbar": {
              "outlinewidth": 0,
              "ticks": ""
             }
            },
            "type": "scatterpolargl"
           }
          ],
          "scatterternary": [
           {
            "marker": {
             "colorbar": {
              "outlinewidth": 0,
              "ticks": ""
             }
            },
            "type": "scatterternary"
           }
          ],
          "surface": [
           {
            "colorbar": {
             "outlinewidth": 0,
             "ticks": ""
            },
            "colorscale": [
             [
              0,
              "#0d0887"
             ],
             [
              0.1111111111111111,
              "#46039f"
             ],
             [
              0.2222222222222222,
              "#7201a8"
             ],
             [
              0.3333333333333333,
              "#9c179e"
             ],
             [
              0.4444444444444444,
              "#bd3786"
             ],
             [
              0.5555555555555556,
              "#d8576b"
             ],
             [
              0.6666666666666666,
              "#ed7953"
             ],
             [
              0.7777777777777778,
              "#fb9f3a"
             ],
             [
              0.8888888888888888,
              "#fdca26"
             ],
             [
              1,
              "#f0f921"
             ]
            ],
            "type": "surface"
           }
          ],
          "table": [
           {
            "cells": {
             "fill": {
              "color": "#EBF0F8"
             },
             "line": {
              "color": "white"
             }
            },
            "header": {
             "fill": {
              "color": "#C8D4E3"
             },
             "line": {
              "color": "white"
             }
            },
            "type": "table"
           }
          ]
         },
         "layout": {
          "annotationdefaults": {
           "arrowcolor": "#2a3f5f",
           "arrowhead": 0,
           "arrowwidth": 1
          },
          "coloraxis": {
           "colorbar": {
            "outlinewidth": 0,
            "ticks": ""
           }
          },
          "colorscale": {
           "diverging": [
            [
             0,
             "#8e0152"
            ],
            [
             0.1,
             "#c51b7d"
            ],
            [
             0.2,
             "#de77ae"
            ],
            [
             0.3,
             "#f1b6da"
            ],
            [
             0.4,
             "#fde0ef"
            ],
            [
             0.5,
             "#f7f7f7"
            ],
            [
             0.6,
             "#e6f5d0"
            ],
            [
             0.7,
             "#b8e186"
            ],
            [
             0.8,
             "#7fbc41"
            ],
            [
             0.9,
             "#4d9221"
            ],
            [
             1,
             "#276419"
            ]
           ],
           "sequential": [
            [
             0,
             "#0d0887"
            ],
            [
             0.1111111111111111,
             "#46039f"
            ],
            [
             0.2222222222222222,
             "#7201a8"
            ],
            [
             0.3333333333333333,
             "#9c179e"
            ],
            [
             0.4444444444444444,
             "#bd3786"
            ],
            [
             0.5555555555555556,
             "#d8576b"
            ],
            [
             0.6666666666666666,
             "#ed7953"
            ],
            [
             0.7777777777777778,
             "#fb9f3a"
            ],
            [
             0.8888888888888888,
             "#fdca26"
            ],
            [
             1,
             "#f0f921"
            ]
           ],
           "sequentialminus": [
            [
             0,
             "#0d0887"
            ],
            [
             0.1111111111111111,
             "#46039f"
            ],
            [
             0.2222222222222222,
             "#7201a8"
            ],
            [
             0.3333333333333333,
             "#9c179e"
            ],
            [
             0.4444444444444444,
             "#bd3786"
            ],
            [
             0.5555555555555556,
             "#d8576b"
            ],
            [
             0.6666666666666666,
             "#ed7953"
            ],
            [
             0.7777777777777778,
             "#fb9f3a"
            ],
            [
             0.8888888888888888,
             "#fdca26"
            ],
            [
             1,
             "#f0f921"
            ]
           ]
          },
          "colorway": [
           "#636efa",
           "#EF553B",
           "#00cc96",
           "#ab63fa",
           "#FFA15A",
           "#19d3f3",
           "#FF6692",
           "#B6E880",
           "#FF97FF",
           "#FECB52"
          ],
          "font": {
           "color": "#2a3f5f"
          },
          "geo": {
           "bgcolor": "white",
           "lakecolor": "white",
           "landcolor": "#E5ECF6",
           "showlakes": true,
           "showland": true,
           "subunitcolor": "white"
          },
          "hoverlabel": {
           "align": "left"
          },
          "hovermode": "closest",
          "mapbox": {
           "style": "light"
          },
          "paper_bgcolor": "white",
          "plot_bgcolor": "#E5ECF6",
          "polar": {
           "angularaxis": {
            "gridcolor": "white",
            "linecolor": "white",
            "ticks": ""
           },
           "bgcolor": "#E5ECF6",
           "radialaxis": {
            "gridcolor": "white",
            "linecolor": "white",
            "ticks": ""
           }
          },
          "scene": {
           "xaxis": {
            "backgroundcolor": "#E5ECF6",
            "gridcolor": "white",
            "gridwidth": 2,
            "linecolor": "white",
            "showbackground": true,
            "ticks": "",
            "zerolinecolor": "white"
           },
           "yaxis": {
            "backgroundcolor": "#E5ECF6",
            "gridcolor": "white",
            "gridwidth": 2,
            "linecolor": "white",
            "showbackground": true,
            "ticks": "",
            "zerolinecolor": "white"
           },
           "zaxis": {
            "backgroundcolor": "#E5ECF6",
            "gridcolor": "white",
            "gridwidth": 2,
            "linecolor": "white",
            "showbackground": true,
            "ticks": "",
            "zerolinecolor": "white"
           }
          },
          "shapedefaults": {
           "line": {
            "color": "#2a3f5f"
           }
          },
          "ternary": {
           "aaxis": {
            "gridcolor": "white",
            "linecolor": "white",
            "ticks": ""
           },
           "baxis": {
            "gridcolor": "white",
            "linecolor": "white",
            "ticks": ""
           },
           "bgcolor": "#E5ECF6",
           "caxis": {
            "gridcolor": "white",
            "linecolor": "white",
            "ticks": ""
           }
          },
          "title": {
           "x": 0.05
          },
          "xaxis": {
           "automargin": true,
           "gridcolor": "white",
           "linecolor": "white",
           "ticks": "",
           "title": {
            "standoff": 15
           },
           "zerolinecolor": "white",
           "zerolinewidth": 2
          },
          "yaxis": {
           "automargin": true,
           "gridcolor": "white",
           "linecolor": "white",
           "ticks": "",
           "title": {
            "standoff": 15
           },
           "zerolinecolor": "white",
           "zerolinewidth": 2
          }
         }
        }
       }
      },
      "text/html": [
       "<div>\n",
       "        \n",
       "        \n",
       "            <div id=\"6fb9b9d8-0e9a-4a2d-8be6-a73b450b5051\" class=\"plotly-graph-div\" style=\"height:525px; width:100%;\"></div>\n",
       "            <script type=\"text/javascript\">\n",
       "                require([\"plotly\"], function(Plotly) {\n",
       "                    window.PLOTLYENV=window.PLOTLYENV || {};\n",
       "                    \n",
       "                if (document.getElementById(\"6fb9b9d8-0e9a-4a2d-8be6-a73b450b5051\")) {\n",
       "                    Plotly.newPlot(\n",
       "                        '6fb9b9d8-0e9a-4a2d-8be6-a73b450b5051',\n",
       "                        [{\"cells\": {\"align\": \"left\", \"fill\": {\"color\": \"lavender\"}, \"values\": [[1, 1, 6, 4, 6], [\"0 \\u00e0 5\", \"5 \\u00e0 10\", \"10 \\u00e0 12\", \"12 \\u00e0 15\", \"15 \\u00e0 20\"]]}, \"header\": {\"align\": \"left\", \"fill\": {\"color\": \"paleturquoise\"}, \"values\": [\"Nombre d'ann\\u00e9es d'\\u00e9tudes\", \"Effectif\"]}, \"type\": \"table\"}],\n",
       "                        {\"template\": {\"data\": {\"bar\": [{\"error_x\": {\"color\": \"#2a3f5f\"}, \"error_y\": {\"color\": \"#2a3f5f\"}, \"marker\": {\"line\": {\"color\": \"#E5ECF6\", \"width\": 0.5}}, \"type\": \"bar\"}], \"barpolar\": [{\"marker\": {\"line\": {\"color\": \"#E5ECF6\", \"width\": 0.5}}, \"type\": \"barpolar\"}], \"carpet\": [{\"aaxis\": {\"endlinecolor\": \"#2a3f5f\", \"gridcolor\": \"white\", \"linecolor\": \"white\", \"minorgridcolor\": \"white\", \"startlinecolor\": \"#2a3f5f\"}, \"baxis\": {\"endlinecolor\": \"#2a3f5f\", \"gridcolor\": \"white\", \"linecolor\": \"white\", \"minorgridcolor\": \"white\", \"startlinecolor\": \"#2a3f5f\"}, \"type\": \"carpet\"}], \"choropleth\": [{\"colorbar\": {\"outlinewidth\": 0, \"ticks\": \"\"}, \"type\": \"choropleth\"}], \"contour\": [{\"colorbar\": {\"outlinewidth\": 0, \"ticks\": \"\"}, \"colorscale\": [[0.0, \"#0d0887\"], [0.1111111111111111, \"#46039f\"], [0.2222222222222222, \"#7201a8\"], [0.3333333333333333, \"#9c179e\"], [0.4444444444444444, \"#bd3786\"], [0.5555555555555556, \"#d8576b\"], [0.6666666666666666, \"#ed7953\"], [0.7777777777777778, \"#fb9f3a\"], [0.8888888888888888, \"#fdca26\"], [1.0, \"#f0f921\"]], \"type\": \"contour\"}], \"contourcarpet\": [{\"colorbar\": {\"outlinewidth\": 0, \"ticks\": \"\"}, \"type\": \"contourcarpet\"}], \"heatmap\": [{\"colorbar\": {\"outlinewidth\": 0, \"ticks\": \"\"}, \"colorscale\": [[0.0, \"#0d0887\"], [0.1111111111111111, \"#46039f\"], [0.2222222222222222, \"#7201a8\"], [0.3333333333333333, \"#9c179e\"], [0.4444444444444444, \"#bd3786\"], [0.5555555555555556, \"#d8576b\"], [0.6666666666666666, \"#ed7953\"], [0.7777777777777778, \"#fb9f3a\"], [0.8888888888888888, \"#fdca26\"], [1.0, \"#f0f921\"]], \"type\": \"heatmap\"}], \"heatmapgl\": [{\"colorbar\": {\"outlinewidth\": 0, \"ticks\": \"\"}, \"colorscale\": [[0.0, \"#0d0887\"], [0.1111111111111111, \"#46039f\"], [0.2222222222222222, \"#7201a8\"], [0.3333333333333333, \"#9c179e\"], [0.4444444444444444, \"#bd3786\"], [0.5555555555555556, \"#d8576b\"], [0.6666666666666666, \"#ed7953\"], [0.7777777777777778, \"#fb9f3a\"], [0.8888888888888888, \"#fdca26\"], [1.0, \"#f0f921\"]], \"type\": \"heatmapgl\"}], \"histogram\": [{\"marker\": {\"colorbar\": {\"outlinewidth\": 0, \"ticks\": \"\"}}, \"type\": \"histogram\"}], \"histogram2d\": [{\"colorbar\": {\"outlinewidth\": 0, \"ticks\": \"\"}, \"colorscale\": [[0.0, \"#0d0887\"], [0.1111111111111111, \"#46039f\"], [0.2222222222222222, \"#7201a8\"], [0.3333333333333333, \"#9c179e\"], [0.4444444444444444, \"#bd3786\"], [0.5555555555555556, \"#d8576b\"], [0.6666666666666666, \"#ed7953\"], [0.7777777777777778, \"#fb9f3a\"], [0.8888888888888888, \"#fdca26\"], [1.0, \"#f0f921\"]], \"type\": \"histogram2d\"}], \"histogram2dcontour\": [{\"colorbar\": {\"outlinewidth\": 0, \"ticks\": \"\"}, \"colorscale\": [[0.0, \"#0d0887\"], [0.1111111111111111, \"#46039f\"], [0.2222222222222222, \"#7201a8\"], [0.3333333333333333, \"#9c179e\"], [0.4444444444444444, \"#bd3786\"], [0.5555555555555556, \"#d8576b\"], [0.6666666666666666, \"#ed7953\"], [0.7777777777777778, \"#fb9f3a\"], [0.8888888888888888, \"#fdca26\"], [1.0, \"#f0f921\"]], \"type\": \"histogram2dcontour\"}], \"mesh3d\": [{\"colorbar\": {\"outlinewidth\": 0, \"ticks\": \"\"}, \"type\": \"mesh3d\"}], \"parcoords\": [{\"line\": {\"colorbar\": {\"outlinewidth\": 0, \"ticks\": \"\"}}, \"type\": \"parcoords\"}], \"pie\": [{\"automargin\": true, \"type\": \"pie\"}], \"scatter\": [{\"marker\": {\"colorbar\": {\"outlinewidth\": 0, \"ticks\": \"\"}}, \"type\": \"scatter\"}], \"scatter3d\": [{\"line\": {\"colorbar\": {\"outlinewidth\": 0, \"ticks\": \"\"}}, \"marker\": {\"colorbar\": {\"outlinewidth\": 0, \"ticks\": \"\"}}, \"type\": \"scatter3d\"}], \"scattercarpet\": [{\"marker\": {\"colorbar\": {\"outlinewidth\": 0, \"ticks\": \"\"}}, \"type\": \"scattercarpet\"}], \"scattergeo\": [{\"marker\": {\"colorbar\": {\"outlinewidth\": 0, \"ticks\": \"\"}}, \"type\": \"scattergeo\"}], \"scattergl\": [{\"marker\": {\"colorbar\": {\"outlinewidth\": 0, \"ticks\": \"\"}}, \"type\": \"scattergl\"}], \"scattermapbox\": [{\"marker\": {\"colorbar\": {\"outlinewidth\": 0, \"ticks\": \"\"}}, \"type\": \"scattermapbox\"}], \"scatterpolar\": [{\"marker\": {\"colorbar\": {\"outlinewidth\": 0, \"ticks\": \"\"}}, \"type\": \"scatterpolar\"}], \"scatterpolargl\": [{\"marker\": {\"colorbar\": {\"outlinewidth\": 0, \"ticks\": \"\"}}, \"type\": \"scatterpolargl\"}], \"scatterternary\": [{\"marker\": {\"colorbar\": {\"outlinewidth\": 0, \"ticks\": \"\"}}, \"type\": \"scatterternary\"}], \"surface\": [{\"colorbar\": {\"outlinewidth\": 0, \"ticks\": \"\"}, \"colorscale\": [[0.0, \"#0d0887\"], [0.1111111111111111, \"#46039f\"], [0.2222222222222222, \"#7201a8\"], [0.3333333333333333, \"#9c179e\"], [0.4444444444444444, \"#bd3786\"], [0.5555555555555556, \"#d8576b\"], [0.6666666666666666, \"#ed7953\"], [0.7777777777777778, \"#fb9f3a\"], [0.8888888888888888, \"#fdca26\"], [1.0, \"#f0f921\"]], \"type\": \"surface\"}], \"table\": [{\"cells\": {\"fill\": {\"color\": \"#EBF0F8\"}, \"line\": {\"color\": \"white\"}}, \"header\": {\"fill\": {\"color\": \"#C8D4E3\"}, \"line\": {\"color\": \"white\"}}, \"type\": \"table\"}]}, \"layout\": {\"annotationdefaults\": {\"arrowcolor\": \"#2a3f5f\", \"arrowhead\": 0, \"arrowwidth\": 1}, \"coloraxis\": {\"colorbar\": {\"outlinewidth\": 0, \"ticks\": \"\"}}, \"colorscale\": {\"diverging\": [[0, \"#8e0152\"], [0.1, \"#c51b7d\"], [0.2, \"#de77ae\"], [0.3, \"#f1b6da\"], [0.4, \"#fde0ef\"], [0.5, \"#f7f7f7\"], [0.6, \"#e6f5d0\"], [0.7, \"#b8e186\"], [0.8, \"#7fbc41\"], [0.9, \"#4d9221\"], [1, \"#276419\"]], \"sequential\": [[0.0, \"#0d0887\"], [0.1111111111111111, \"#46039f\"], [0.2222222222222222, \"#7201a8\"], [0.3333333333333333, \"#9c179e\"], [0.4444444444444444, \"#bd3786\"], [0.5555555555555556, \"#d8576b\"], [0.6666666666666666, \"#ed7953\"], [0.7777777777777778, \"#fb9f3a\"], [0.8888888888888888, \"#fdca26\"], [1.0, \"#f0f921\"]], \"sequentialminus\": [[0.0, \"#0d0887\"], [0.1111111111111111, \"#46039f\"], [0.2222222222222222, \"#7201a8\"], [0.3333333333333333, \"#9c179e\"], [0.4444444444444444, \"#bd3786\"], [0.5555555555555556, \"#d8576b\"], [0.6666666666666666, \"#ed7953\"], [0.7777777777777778, \"#fb9f3a\"], [0.8888888888888888, \"#fdca26\"], [1.0, \"#f0f921\"]]}, \"colorway\": [\"#636efa\", \"#EF553B\", \"#00cc96\", \"#ab63fa\", \"#FFA15A\", \"#19d3f3\", \"#FF6692\", \"#B6E880\", \"#FF97FF\", \"#FECB52\"], \"font\": {\"color\": \"#2a3f5f\"}, \"geo\": {\"bgcolor\": \"white\", \"lakecolor\": \"white\", \"landcolor\": \"#E5ECF6\", \"showlakes\": true, \"showland\": true, \"subunitcolor\": \"white\"}, \"hoverlabel\": {\"align\": \"left\"}, \"hovermode\": \"closest\", \"mapbox\": {\"style\": \"light\"}, \"paper_bgcolor\": \"white\", \"plot_bgcolor\": \"#E5ECF6\", \"polar\": {\"angularaxis\": {\"gridcolor\": \"white\", \"linecolor\": \"white\", \"ticks\": \"\"}, \"bgcolor\": \"#E5ECF6\", \"radialaxis\": {\"gridcolor\": \"white\", \"linecolor\": \"white\", \"ticks\": \"\"}}, \"scene\": {\"xaxis\": {\"backgroundcolor\": \"#E5ECF6\", \"gridcolor\": \"white\", \"gridwidth\": 2, \"linecolor\": \"white\", \"showbackground\": true, \"ticks\": \"\", \"zerolinecolor\": \"white\"}, \"yaxis\": {\"backgroundcolor\": \"#E5ECF6\", \"gridcolor\": \"white\", \"gridwidth\": 2, \"linecolor\": \"white\", \"showbackground\": true, \"ticks\": \"\", \"zerolinecolor\": \"white\"}, \"zaxis\": {\"backgroundcolor\": \"#E5ECF6\", \"gridcolor\": \"white\", \"gridwidth\": 2, \"linecolor\": \"white\", \"showbackground\": true, \"ticks\": \"\", \"zerolinecolor\": \"white\"}}, \"shapedefaults\": {\"line\": {\"color\": \"#2a3f5f\"}}, \"ternary\": {\"aaxis\": {\"gridcolor\": \"white\", \"linecolor\": \"white\", \"ticks\": \"\"}, \"baxis\": {\"gridcolor\": \"white\", \"linecolor\": \"white\", \"ticks\": \"\"}, \"bgcolor\": \"#E5ECF6\", \"caxis\": {\"gridcolor\": \"white\", \"linecolor\": \"white\", \"ticks\": \"\"}}, \"title\": {\"x\": 0.05}, \"xaxis\": {\"automargin\": true, \"gridcolor\": \"white\", \"linecolor\": \"white\", \"ticks\": \"\", \"title\": {\"standoff\": 15}, \"zerolinecolor\": \"white\", \"zerolinewidth\": 2}, \"yaxis\": {\"automargin\": true, \"gridcolor\": \"white\", \"linecolor\": \"white\", \"ticks\": \"\", \"title\": {\"standoff\": 15}, \"zerolinecolor\": \"white\", \"zerolinewidth\": 2}}}},\n",
       "                        {\"responsive\": true}\n",
       "                    ).then(function(){\n",
       "                            \n",
       "var gd = document.getElementById('6fb9b9d8-0e9a-4a2d-8be6-a73b450b5051');\n",
       "var x = new MutationObserver(function (mutations, observer) {{\n",
       "        var display = window.getComputedStyle(gd).display;\n",
       "        if (!display || display === 'none') {{\n",
       "            console.log([gd, 'removed!']);\n",
       "            Plotly.purge(gd);\n",
       "            observer.disconnect();\n",
       "        }}\n",
       "}});\n",
       "\n",
       "// Listen for the removal of the full notebook cells\n",
       "var notebookContainer = gd.closest('#notebook-container');\n",
       "if (notebookContainer) {{\n",
       "    x.observe(notebookContainer, {childList: true});\n",
       "}}\n",
       "\n",
       "// Listen for the clearing of the current output cell\n",
       "var outputEl = gd.closest('.output');\n",
       "if (outputEl) {{\n",
       "    x.observe(outputEl, {childList: true});\n",
       "}}\n",
       "\n",
       "                        })\n",
       "                };\n",
       "                });\n",
       "            </script>\n",
       "        </div>"
      ]
     },
     "metadata": {},
     "output_type": "display_data"
    },
    {
     "data": {
      "application/vnd.plotly.v1+json": {
       "config": {
        "plotlyServerURL": "https://plot.ly"
       },
       "data": [
        {
         "alignmentgroup": "True",
         "hoverlabel": {
          "namelength": 0
         },
         "hovertemplate": "Nombre d'années d'études=%{x}<br>Effectif=%{marker.color}",
         "legendgroup": "",
         "marker": {
          "color": [
           1,
           1,
           6,
           4,
           6
          ],
          "coloraxis": "coloraxis"
         },
         "name": "",
         "offsetgroup": "",
         "orientation": "v",
         "showlegend": false,
         "textposition": "auto",
         "type": "bar",
         "x": [
          "0 à 5",
          "5 à 10",
          "10 à 12",
          "12 à 15",
          "15 à 20"
         ],
         "xaxis": "x",
         "y": [
          1,
          1,
          6,
          4,
          6
         ],
         "yaxis": "y"
        }
       ],
       "layout": {
        "barmode": "relative",
        "coloraxis": {
         "colorbar": {
          "title": {
           "text": "Effectif"
          }
         },
         "colorscale": [
          [
           0,
           "#0d0887"
          ],
          [
           0.1111111111111111,
           "#46039f"
          ],
          [
           0.2222222222222222,
           "#7201a8"
          ],
          [
           0.3333333333333333,
           "#9c179e"
          ],
          [
           0.4444444444444444,
           "#bd3786"
          ],
          [
           0.5555555555555556,
           "#d8576b"
          ],
          [
           0.6666666666666666,
           "#ed7953"
          ],
          [
           0.7777777777777778,
           "#fb9f3a"
          ],
          [
           0.8888888888888888,
           "#fdca26"
          ],
          [
           1,
           "#f0f921"
          ]
         ]
        },
        "height": 600,
        "legend": {
         "tracegroupgap": 0
        },
        "margin": {
         "t": 60
        },
        "showlegend": false,
        "template": {
         "data": {
          "bar": [
           {
            "error_x": {
             "color": "#2a3f5f"
            },
            "error_y": {
             "color": "#2a3f5f"
            },
            "marker": {
             "line": {
              "color": "#E5ECF6",
              "width": 0.5
             }
            },
            "type": "bar"
           }
          ],
          "barpolar": [
           {
            "marker": {
             "line": {
              "color": "#E5ECF6",
              "width": 0.5
             }
            },
            "type": "barpolar"
           }
          ],
          "carpet": [
           {
            "aaxis": {
             "endlinecolor": "#2a3f5f",
             "gridcolor": "white",
             "linecolor": "white",
             "minorgridcolor": "white",
             "startlinecolor": "#2a3f5f"
            },
            "baxis": {
             "endlinecolor": "#2a3f5f",
             "gridcolor": "white",
             "linecolor": "white",
             "minorgridcolor": "white",
             "startlinecolor": "#2a3f5f"
            },
            "type": "carpet"
           }
          ],
          "choropleth": [
           {
            "colorbar": {
             "outlinewidth": 0,
             "ticks": ""
            },
            "type": "choropleth"
           }
          ],
          "contour": [
           {
            "colorbar": {
             "outlinewidth": 0,
             "ticks": ""
            },
            "colorscale": [
             [
              0,
              "#0d0887"
             ],
             [
              0.1111111111111111,
              "#46039f"
             ],
             [
              0.2222222222222222,
              "#7201a8"
             ],
             [
              0.3333333333333333,
              "#9c179e"
             ],
             [
              0.4444444444444444,
              "#bd3786"
             ],
             [
              0.5555555555555556,
              "#d8576b"
             ],
             [
              0.6666666666666666,
              "#ed7953"
             ],
             [
              0.7777777777777778,
              "#fb9f3a"
             ],
             [
              0.8888888888888888,
              "#fdca26"
             ],
             [
              1,
              "#f0f921"
             ]
            ],
            "type": "contour"
           }
          ],
          "contourcarpet": [
           {
            "colorbar": {
             "outlinewidth": 0,
             "ticks": ""
            },
            "type": "contourcarpet"
           }
          ],
          "heatmap": [
           {
            "colorbar": {
             "outlinewidth": 0,
             "ticks": ""
            },
            "colorscale": [
             [
              0,
              "#0d0887"
             ],
             [
              0.1111111111111111,
              "#46039f"
             ],
             [
              0.2222222222222222,
              "#7201a8"
             ],
             [
              0.3333333333333333,
              "#9c179e"
             ],
             [
              0.4444444444444444,
              "#bd3786"
             ],
             [
              0.5555555555555556,
              "#d8576b"
             ],
             [
              0.6666666666666666,
              "#ed7953"
             ],
             [
              0.7777777777777778,
              "#fb9f3a"
             ],
             [
              0.8888888888888888,
              "#fdca26"
             ],
             [
              1,
              "#f0f921"
             ]
            ],
            "type": "heatmap"
           }
          ],
          "heatmapgl": [
           {
            "colorbar": {
             "outlinewidth": 0,
             "ticks": ""
            },
            "colorscale": [
             [
              0,
              "#0d0887"
             ],
             [
              0.1111111111111111,
              "#46039f"
             ],
             [
              0.2222222222222222,
              "#7201a8"
             ],
             [
              0.3333333333333333,
              "#9c179e"
             ],
             [
              0.4444444444444444,
              "#bd3786"
             ],
             [
              0.5555555555555556,
              "#d8576b"
             ],
             [
              0.6666666666666666,
              "#ed7953"
             ],
             [
              0.7777777777777778,
              "#fb9f3a"
             ],
             [
              0.8888888888888888,
              "#fdca26"
             ],
             [
              1,
              "#f0f921"
             ]
            ],
            "type": "heatmapgl"
           }
          ],
          "histogram": [
           {
            "marker": {
             "colorbar": {
              "outlinewidth": 0,
              "ticks": ""
             }
            },
            "type": "histogram"
           }
          ],
          "histogram2d": [
           {
            "colorbar": {
             "outlinewidth": 0,
             "ticks": ""
            },
            "colorscale": [
             [
              0,
              "#0d0887"
             ],
             [
              0.1111111111111111,
              "#46039f"
             ],
             [
              0.2222222222222222,
              "#7201a8"
             ],
             [
              0.3333333333333333,
              "#9c179e"
             ],
             [
              0.4444444444444444,
              "#bd3786"
             ],
             [
              0.5555555555555556,
              "#d8576b"
             ],
             [
              0.6666666666666666,
              "#ed7953"
             ],
             [
              0.7777777777777778,
              "#fb9f3a"
             ],
             [
              0.8888888888888888,
              "#fdca26"
             ],
             [
              1,
              "#f0f921"
             ]
            ],
            "type": "histogram2d"
           }
          ],
          "histogram2dcontour": [
           {
            "colorbar": {
             "outlinewidth": 0,
             "ticks": ""
            },
            "colorscale": [
             [
              0,
              "#0d0887"
             ],
             [
              0.1111111111111111,
              "#46039f"
             ],
             [
              0.2222222222222222,
              "#7201a8"
             ],
             [
              0.3333333333333333,
              "#9c179e"
             ],
             [
              0.4444444444444444,
              "#bd3786"
             ],
             [
              0.5555555555555556,
              "#d8576b"
             ],
             [
              0.6666666666666666,
              "#ed7953"
             ],
             [
              0.7777777777777778,
              "#fb9f3a"
             ],
             [
              0.8888888888888888,
              "#fdca26"
             ],
             [
              1,
              "#f0f921"
             ]
            ],
            "type": "histogram2dcontour"
           }
          ],
          "mesh3d": [
           {
            "colorbar": {
             "outlinewidth": 0,
             "ticks": ""
            },
            "type": "mesh3d"
           }
          ],
          "parcoords": [
           {
            "line": {
             "colorbar": {
              "outlinewidth": 0,
              "ticks": ""
             }
            },
            "type": "parcoords"
           }
          ],
          "pie": [
           {
            "automargin": true,
            "type": "pie"
           }
          ],
          "scatter": [
           {
            "marker": {
             "colorbar": {
              "outlinewidth": 0,
              "ticks": ""
             }
            },
            "type": "scatter"
           }
          ],
          "scatter3d": [
           {
            "line": {
             "colorbar": {
              "outlinewidth": 0,
              "ticks": ""
             }
            },
            "marker": {
             "colorbar": {
              "outlinewidth": 0,
              "ticks": ""
             }
            },
            "type": "scatter3d"
           }
          ],
          "scattercarpet": [
           {
            "marker": {
             "colorbar": {
              "outlinewidth": 0,
              "ticks": ""
             }
            },
            "type": "scattercarpet"
           }
          ],
          "scattergeo": [
           {
            "marker": {
             "colorbar": {
              "outlinewidth": 0,
              "ticks": ""
             }
            },
            "type": "scattergeo"
           }
          ],
          "scattergl": [
           {
            "marker": {
             "colorbar": {
              "outlinewidth": 0,
              "ticks": ""
             }
            },
            "type": "scattergl"
           }
          ],
          "scattermapbox": [
           {
            "marker": {
             "colorbar": {
              "outlinewidth": 0,
              "ticks": ""
             }
            },
            "type": "scattermapbox"
           }
          ],
          "scatterpolar": [
           {
            "marker": {
             "colorbar": {
              "outlinewidth": 0,
              "ticks": ""
             }
            },
            "type": "scatterpolar"
           }
          ],
          "scatterpolargl": [
           {
            "marker": {
             "colorbar": {
              "outlinewidth": 0,
              "ticks": ""
             }
            },
            "type": "scatterpolargl"
           }
          ],
          "scatterternary": [
           {
            "marker": {
             "colorbar": {
              "outlinewidth": 0,
              "ticks": ""
             }
            },
            "type": "scatterternary"
           }
          ],
          "surface": [
           {
            "colorbar": {
             "outlinewidth": 0,
             "ticks": ""
            },
            "colorscale": [
             [
              0,
              "#0d0887"
             ],
             [
              0.1111111111111111,
              "#46039f"
             ],
             [
              0.2222222222222222,
              "#7201a8"
             ],
             [
              0.3333333333333333,
              "#9c179e"
             ],
             [
              0.4444444444444444,
              "#bd3786"
             ],
             [
              0.5555555555555556,
              "#d8576b"
             ],
             [
              0.6666666666666666,
              "#ed7953"
             ],
             [
              0.7777777777777778,
              "#fb9f3a"
             ],
             [
              0.8888888888888888,
              "#fdca26"
             ],
             [
              1,
              "#f0f921"
             ]
            ],
            "type": "surface"
           }
          ],
          "table": [
           {
            "cells": {
             "fill": {
              "color": "#EBF0F8"
             },
             "line": {
              "color": "white"
             }
            },
            "header": {
             "fill": {
              "color": "#C8D4E3"
             },
             "line": {
              "color": "white"
             }
            },
            "type": "table"
           }
          ]
         },
         "layout": {
          "annotationdefaults": {
           "arrowcolor": "#2a3f5f",
           "arrowhead": 0,
           "arrowwidth": 1
          },
          "coloraxis": {
           "colorbar": {
            "outlinewidth": 0,
            "ticks": ""
           }
          },
          "colorscale": {
           "diverging": [
            [
             0,
             "#8e0152"
            ],
            [
             0.1,
             "#c51b7d"
            ],
            [
             0.2,
             "#de77ae"
            ],
            [
             0.3,
             "#f1b6da"
            ],
            [
             0.4,
             "#fde0ef"
            ],
            [
             0.5,
             "#f7f7f7"
            ],
            [
             0.6,
             "#e6f5d0"
            ],
            [
             0.7,
             "#b8e186"
            ],
            [
             0.8,
             "#7fbc41"
            ],
            [
             0.9,
             "#4d9221"
            ],
            [
             1,
             "#276419"
            ]
           ],
           "sequential": [
            [
             0,
             "#0d0887"
            ],
            [
             0.1111111111111111,
             "#46039f"
            ],
            [
             0.2222222222222222,
             "#7201a8"
            ],
            [
             0.3333333333333333,
             "#9c179e"
            ],
            [
             0.4444444444444444,
             "#bd3786"
            ],
            [
             0.5555555555555556,
             "#d8576b"
            ],
            [
             0.6666666666666666,
             "#ed7953"
            ],
            [
             0.7777777777777778,
             "#fb9f3a"
            ],
            [
             0.8888888888888888,
             "#fdca26"
            ],
            [
             1,
             "#f0f921"
            ]
           ],
           "sequentialminus": [
            [
             0,
             "#0d0887"
            ],
            [
             0.1111111111111111,
             "#46039f"
            ],
            [
             0.2222222222222222,
             "#7201a8"
            ],
            [
             0.3333333333333333,
             "#9c179e"
            ],
            [
             0.4444444444444444,
             "#bd3786"
            ],
            [
             0.5555555555555556,
             "#d8576b"
            ],
            [
             0.6666666666666666,
             "#ed7953"
            ],
            [
             0.7777777777777778,
             "#fb9f3a"
            ],
            [
             0.8888888888888888,
             "#fdca26"
            ],
            [
             1,
             "#f0f921"
            ]
           ]
          },
          "colorway": [
           "#636efa",
           "#EF553B",
           "#00cc96",
           "#ab63fa",
           "#FFA15A",
           "#19d3f3",
           "#FF6692",
           "#B6E880",
           "#FF97FF",
           "#FECB52"
          ],
          "font": {
           "color": "#2a3f5f"
          },
          "geo": {
           "bgcolor": "white",
           "lakecolor": "white",
           "landcolor": "#E5ECF6",
           "showlakes": true,
           "showland": true,
           "subunitcolor": "white"
          },
          "hoverlabel": {
           "align": "left"
          },
          "hovermode": "closest",
          "mapbox": {
           "style": "light"
          },
          "paper_bgcolor": "white",
          "plot_bgcolor": "#E5ECF6",
          "polar": {
           "angularaxis": {
            "gridcolor": "white",
            "linecolor": "white",
            "ticks": ""
           },
           "bgcolor": "#E5ECF6",
           "radialaxis": {
            "gridcolor": "white",
            "linecolor": "white",
            "ticks": ""
           }
          },
          "scene": {
           "xaxis": {
            "backgroundcolor": "#E5ECF6",
            "gridcolor": "white",
            "gridwidth": 2,
            "linecolor": "white",
            "showbackground": true,
            "ticks": "",
            "zerolinecolor": "white"
           },
           "yaxis": {
            "backgroundcolor": "#E5ECF6",
            "gridcolor": "white",
            "gridwidth": 2,
            "linecolor": "white",
            "showbackground": true,
            "ticks": "",
            "zerolinecolor": "white"
           },
           "zaxis": {
            "backgroundcolor": "#E5ECF6",
            "gridcolor": "white",
            "gridwidth": 2,
            "linecolor": "white",
            "showbackground": true,
            "ticks": "",
            "zerolinecolor": "white"
           }
          },
          "shapedefaults": {
           "line": {
            "color": "#2a3f5f"
           }
          },
          "ternary": {
           "aaxis": {
            "gridcolor": "white",
            "linecolor": "white",
            "ticks": ""
           },
           "baxis": {
            "gridcolor": "white",
            "linecolor": "white",
            "ticks": ""
           },
           "bgcolor": "#E5ECF6",
           "caxis": {
            "gridcolor": "white",
            "linecolor": "white",
            "ticks": ""
           }
          },
          "title": {
           "x": 0.05
          },
          "xaxis": {
           "automargin": true,
           "gridcolor": "white",
           "linecolor": "white",
           "ticks": "",
           "title": {
            "standoff": 15
           },
           "zerolinecolor": "white",
           "zerolinewidth": 2
          },
          "yaxis": {
           "automargin": true,
           "gridcolor": "white",
           "linecolor": "white",
           "ticks": "",
           "title": {
            "standoff": 15
           },
           "zerolinecolor": "white",
           "zerolinewidth": 2
          }
         }
        },
        "xaxis": {
         "anchor": "y",
         "domain": [
          0,
          1
         ],
         "title": {
          "text": "Nombre d'années d'études"
         }
        },
        "yaxis": {
         "anchor": "x",
         "domain": [
          0,
          1
         ],
         "title": {
          "text": "Effectif"
         }
        }
       }
      },
      "text/html": [
       "<div>\n",
       "        \n",
       "        \n",
       "            <div id=\"376d3a5b-7b8a-49bf-ac6a-8c37a13f7deb\" class=\"plotly-graph-div\" style=\"height:600px; width:100%;\"></div>\n",
       "            <script type=\"text/javascript\">\n",
       "                require([\"plotly\"], function(Plotly) {\n",
       "                    window.PLOTLYENV=window.PLOTLYENV || {};\n",
       "                    \n",
       "                if (document.getElementById(\"376d3a5b-7b8a-49bf-ac6a-8c37a13f7deb\")) {\n",
       "                    Plotly.newPlot(\n",
       "                        '376d3a5b-7b8a-49bf-ac6a-8c37a13f7deb',\n",
       "                        [{\"alignmentgroup\": \"True\", \"hoverlabel\": {\"namelength\": 0}, \"hovertemplate\": \"Nombre d'ann\\u00e9es d'\\u00e9tudes=%{x}<br>Effectif=%{marker.color}\", \"legendgroup\": \"\", \"marker\": {\"color\": [1, 1, 6, 4, 6], \"coloraxis\": \"coloraxis\"}, \"name\": \"\", \"offsetgroup\": \"\", \"orientation\": \"v\", \"showlegend\": false, \"textposition\": \"auto\", \"type\": \"bar\", \"x\": [\"0 \\u00e0 5\", \"5 \\u00e0 10\", \"10 \\u00e0 12\", \"12 \\u00e0 15\", \"15 \\u00e0 20\"], \"xaxis\": \"x\", \"y\": [1, 1, 6, 4, 6], \"yaxis\": \"y\"}],\n",
       "                        {\"barmode\": \"relative\", \"coloraxis\": {\"colorbar\": {\"title\": {\"text\": \"Effectif\"}}, \"colorscale\": [[0.0, \"#0d0887\"], [0.1111111111111111, \"#46039f\"], [0.2222222222222222, \"#7201a8\"], [0.3333333333333333, \"#9c179e\"], [0.4444444444444444, \"#bd3786\"], [0.5555555555555556, \"#d8576b\"], [0.6666666666666666, \"#ed7953\"], [0.7777777777777778, \"#fb9f3a\"], [0.8888888888888888, \"#fdca26\"], [1.0, \"#f0f921\"]]}, \"height\": 600, \"legend\": {\"tracegroupgap\": 0}, \"margin\": {\"t\": 60}, \"showlegend\": false, \"template\": {\"data\": {\"bar\": [{\"error_x\": {\"color\": \"#2a3f5f\"}, \"error_y\": {\"color\": \"#2a3f5f\"}, \"marker\": {\"line\": {\"color\": \"#E5ECF6\", \"width\": 0.5}}, \"type\": \"bar\"}], \"barpolar\": [{\"marker\": {\"line\": {\"color\": \"#E5ECF6\", \"width\": 0.5}}, \"type\": \"barpolar\"}], \"carpet\": [{\"aaxis\": {\"endlinecolor\": \"#2a3f5f\", \"gridcolor\": \"white\", \"linecolor\": \"white\", \"minorgridcolor\": \"white\", \"startlinecolor\": \"#2a3f5f\"}, \"baxis\": {\"endlinecolor\": \"#2a3f5f\", \"gridcolor\": \"white\", \"linecolor\": \"white\", \"minorgridcolor\": \"white\", \"startlinecolor\": \"#2a3f5f\"}, \"type\": \"carpet\"}], \"choropleth\": [{\"colorbar\": {\"outlinewidth\": 0, \"ticks\": \"\"}, \"type\": \"choropleth\"}], \"contour\": [{\"colorbar\": {\"outlinewidth\": 0, \"ticks\": \"\"}, \"colorscale\": [[0.0, \"#0d0887\"], [0.1111111111111111, \"#46039f\"], [0.2222222222222222, \"#7201a8\"], [0.3333333333333333, \"#9c179e\"], [0.4444444444444444, \"#bd3786\"], [0.5555555555555556, \"#d8576b\"], [0.6666666666666666, \"#ed7953\"], [0.7777777777777778, \"#fb9f3a\"], [0.8888888888888888, \"#fdca26\"], [1.0, \"#f0f921\"]], \"type\": \"contour\"}], \"contourcarpet\": [{\"colorbar\": {\"outlinewidth\": 0, \"ticks\": \"\"}, \"type\": \"contourcarpet\"}], \"heatmap\": [{\"colorbar\": {\"outlinewidth\": 0, \"ticks\": \"\"}, \"colorscale\": [[0.0, \"#0d0887\"], [0.1111111111111111, \"#46039f\"], [0.2222222222222222, \"#7201a8\"], [0.3333333333333333, \"#9c179e\"], [0.4444444444444444, \"#bd3786\"], [0.5555555555555556, \"#d8576b\"], [0.6666666666666666, \"#ed7953\"], [0.7777777777777778, \"#fb9f3a\"], [0.8888888888888888, \"#fdca26\"], [1.0, \"#f0f921\"]], \"type\": \"heatmap\"}], \"heatmapgl\": [{\"colorbar\": {\"outlinewidth\": 0, \"ticks\": \"\"}, \"colorscale\": [[0.0, \"#0d0887\"], [0.1111111111111111, \"#46039f\"], [0.2222222222222222, \"#7201a8\"], [0.3333333333333333, \"#9c179e\"], [0.4444444444444444, \"#bd3786\"], [0.5555555555555556, \"#d8576b\"], [0.6666666666666666, \"#ed7953\"], [0.7777777777777778, \"#fb9f3a\"], [0.8888888888888888, \"#fdca26\"], [1.0, \"#f0f921\"]], \"type\": \"heatmapgl\"}], \"histogram\": [{\"marker\": {\"colorbar\": {\"outlinewidth\": 0, \"ticks\": \"\"}}, \"type\": \"histogram\"}], \"histogram2d\": [{\"colorbar\": {\"outlinewidth\": 0, \"ticks\": \"\"}, \"colorscale\": [[0.0, \"#0d0887\"], [0.1111111111111111, \"#46039f\"], [0.2222222222222222, \"#7201a8\"], [0.3333333333333333, \"#9c179e\"], [0.4444444444444444, \"#bd3786\"], [0.5555555555555556, \"#d8576b\"], [0.6666666666666666, \"#ed7953\"], [0.7777777777777778, \"#fb9f3a\"], [0.8888888888888888, \"#fdca26\"], [1.0, \"#f0f921\"]], \"type\": \"histogram2d\"}], \"histogram2dcontour\": [{\"colorbar\": {\"outlinewidth\": 0, \"ticks\": \"\"}, \"colorscale\": [[0.0, \"#0d0887\"], [0.1111111111111111, \"#46039f\"], [0.2222222222222222, \"#7201a8\"], [0.3333333333333333, \"#9c179e\"], [0.4444444444444444, \"#bd3786\"], [0.5555555555555556, \"#d8576b\"], [0.6666666666666666, \"#ed7953\"], [0.7777777777777778, \"#fb9f3a\"], [0.8888888888888888, \"#fdca26\"], [1.0, \"#f0f921\"]], \"type\": \"histogram2dcontour\"}], \"mesh3d\": [{\"colorbar\": {\"outlinewidth\": 0, \"ticks\": \"\"}, \"type\": \"mesh3d\"}], \"parcoords\": [{\"line\": {\"colorbar\": {\"outlinewidth\": 0, \"ticks\": \"\"}}, \"type\": \"parcoords\"}], \"pie\": [{\"automargin\": true, \"type\": \"pie\"}], \"scatter\": [{\"marker\": {\"colorbar\": {\"outlinewidth\": 0, \"ticks\": \"\"}}, \"type\": \"scatter\"}], \"scatter3d\": [{\"line\": {\"colorbar\": {\"outlinewidth\": 0, \"ticks\": \"\"}}, \"marker\": {\"colorbar\": {\"outlinewidth\": 0, \"ticks\": \"\"}}, \"type\": \"scatter3d\"}], \"scattercarpet\": [{\"marker\": {\"colorbar\": {\"outlinewidth\": 0, \"ticks\": \"\"}}, \"type\": \"scattercarpet\"}], \"scattergeo\": [{\"marker\": {\"colorbar\": {\"outlinewidth\": 0, \"ticks\": \"\"}}, \"type\": \"scattergeo\"}], \"scattergl\": [{\"marker\": {\"colorbar\": {\"outlinewidth\": 0, \"ticks\": \"\"}}, \"type\": \"scattergl\"}], \"scattermapbox\": [{\"marker\": {\"colorbar\": {\"outlinewidth\": 0, \"ticks\": \"\"}}, \"type\": \"scattermapbox\"}], \"scatterpolar\": [{\"marker\": {\"colorbar\": {\"outlinewidth\": 0, \"ticks\": \"\"}}, \"type\": \"scatterpolar\"}], \"scatterpolargl\": [{\"marker\": {\"colorbar\": {\"outlinewidth\": 0, \"ticks\": \"\"}}, \"type\": \"scatterpolargl\"}], \"scatterternary\": [{\"marker\": {\"colorbar\": {\"outlinewidth\": 0, \"ticks\": \"\"}}, \"type\": \"scatterternary\"}], \"surface\": [{\"colorbar\": {\"outlinewidth\": 0, \"ticks\": \"\"}, \"colorscale\": [[0.0, \"#0d0887\"], [0.1111111111111111, \"#46039f\"], [0.2222222222222222, \"#7201a8\"], [0.3333333333333333, \"#9c179e\"], [0.4444444444444444, \"#bd3786\"], [0.5555555555555556, \"#d8576b\"], [0.6666666666666666, \"#ed7953\"], [0.7777777777777778, \"#fb9f3a\"], [0.8888888888888888, \"#fdca26\"], [1.0, \"#f0f921\"]], \"type\": \"surface\"}], \"table\": [{\"cells\": {\"fill\": {\"color\": \"#EBF0F8\"}, \"line\": {\"color\": \"white\"}}, \"header\": {\"fill\": {\"color\": \"#C8D4E3\"}, \"line\": {\"color\": \"white\"}}, \"type\": \"table\"}]}, \"layout\": {\"annotationdefaults\": {\"arrowcolor\": \"#2a3f5f\", \"arrowhead\": 0, \"arrowwidth\": 1}, \"coloraxis\": {\"colorbar\": {\"outlinewidth\": 0, \"ticks\": \"\"}}, \"colorscale\": {\"diverging\": [[0, \"#8e0152\"], [0.1, \"#c51b7d\"], [0.2, \"#de77ae\"], [0.3, \"#f1b6da\"], [0.4, \"#fde0ef\"], [0.5, \"#f7f7f7\"], [0.6, \"#e6f5d0\"], [0.7, \"#b8e186\"], [0.8, \"#7fbc41\"], [0.9, \"#4d9221\"], [1, \"#276419\"]], \"sequential\": [[0.0, \"#0d0887\"], [0.1111111111111111, \"#46039f\"], [0.2222222222222222, \"#7201a8\"], [0.3333333333333333, \"#9c179e\"], [0.4444444444444444, \"#bd3786\"], [0.5555555555555556, \"#d8576b\"], [0.6666666666666666, \"#ed7953\"], [0.7777777777777778, \"#fb9f3a\"], [0.8888888888888888, \"#fdca26\"], [1.0, \"#f0f921\"]], \"sequentialminus\": [[0.0, \"#0d0887\"], [0.1111111111111111, \"#46039f\"], [0.2222222222222222, \"#7201a8\"], [0.3333333333333333, \"#9c179e\"], [0.4444444444444444, \"#bd3786\"], [0.5555555555555556, \"#d8576b\"], [0.6666666666666666, \"#ed7953\"], [0.7777777777777778, \"#fb9f3a\"], [0.8888888888888888, \"#fdca26\"], [1.0, \"#f0f921\"]]}, \"colorway\": [\"#636efa\", \"#EF553B\", \"#00cc96\", \"#ab63fa\", \"#FFA15A\", \"#19d3f3\", \"#FF6692\", \"#B6E880\", \"#FF97FF\", \"#FECB52\"], \"font\": {\"color\": \"#2a3f5f\"}, \"geo\": {\"bgcolor\": \"white\", \"lakecolor\": \"white\", \"landcolor\": \"#E5ECF6\", \"showlakes\": true, \"showland\": true, \"subunitcolor\": \"white\"}, \"hoverlabel\": {\"align\": \"left\"}, \"hovermode\": \"closest\", \"mapbox\": {\"style\": \"light\"}, \"paper_bgcolor\": \"white\", \"plot_bgcolor\": \"#E5ECF6\", \"polar\": {\"angularaxis\": {\"gridcolor\": \"white\", \"linecolor\": \"white\", \"ticks\": \"\"}, \"bgcolor\": \"#E5ECF6\", \"radialaxis\": {\"gridcolor\": \"white\", \"linecolor\": \"white\", \"ticks\": \"\"}}, \"scene\": {\"xaxis\": {\"backgroundcolor\": \"#E5ECF6\", \"gridcolor\": \"white\", \"gridwidth\": 2, \"linecolor\": \"white\", \"showbackground\": true, \"ticks\": \"\", \"zerolinecolor\": \"white\"}, \"yaxis\": {\"backgroundcolor\": \"#E5ECF6\", \"gridcolor\": \"white\", \"gridwidth\": 2, \"linecolor\": \"white\", \"showbackground\": true, \"ticks\": \"\", \"zerolinecolor\": \"white\"}, \"zaxis\": {\"backgroundcolor\": \"#E5ECF6\", \"gridcolor\": \"white\", \"gridwidth\": 2, \"linecolor\": \"white\", \"showbackground\": true, \"ticks\": \"\", \"zerolinecolor\": \"white\"}}, \"shapedefaults\": {\"line\": {\"color\": \"#2a3f5f\"}}, \"ternary\": {\"aaxis\": {\"gridcolor\": \"white\", \"linecolor\": \"white\", \"ticks\": \"\"}, \"baxis\": {\"gridcolor\": \"white\", \"linecolor\": \"white\", \"ticks\": \"\"}, \"bgcolor\": \"#E5ECF6\", \"caxis\": {\"gridcolor\": \"white\", \"linecolor\": \"white\", \"ticks\": \"\"}}, \"title\": {\"x\": 0.05}, \"xaxis\": {\"automargin\": true, \"gridcolor\": \"white\", \"linecolor\": \"white\", \"ticks\": \"\", \"title\": {\"standoff\": 15}, \"zerolinecolor\": \"white\", \"zerolinewidth\": 2}, \"yaxis\": {\"automargin\": true, \"gridcolor\": \"white\", \"linecolor\": \"white\", \"ticks\": \"\", \"title\": {\"standoff\": 15}, \"zerolinecolor\": \"white\", \"zerolinewidth\": 2}}}, \"xaxis\": {\"anchor\": \"y\", \"domain\": [0.0, 1.0], \"title\": {\"text\": \"Nombre d'ann\\u00e9es d'\\u00e9tudes\"}}, \"yaxis\": {\"anchor\": \"x\", \"domain\": [0.0, 1.0], \"title\": {\"text\": \"Effectif\"}}},\n",
       "                        {\"responsive\": true}\n",
       "                    ).then(function(){\n",
       "                            \n",
       "var gd = document.getElementById('376d3a5b-7b8a-49bf-ac6a-8c37a13f7deb');\n",
       "var x = new MutationObserver(function (mutations, observer) {{\n",
       "        var display = window.getComputedStyle(gd).display;\n",
       "        if (!display || display === 'none') {{\n",
       "            console.log([gd, 'removed!']);\n",
       "            Plotly.purge(gd);\n",
       "            observer.disconnect();\n",
       "        }}\n",
       "}});\n",
       "\n",
       "// Listen for the removal of the full notebook cells\n",
       "var notebookContainer = gd.closest('#notebook-container');\n",
       "if (notebookContainer) {{\n",
       "    x.observe(notebookContainer, {childList: true});\n",
       "}}\n",
       "\n",
       "// Listen for the clearing of the current output cell\n",
       "var outputEl = gd.closest('.output');\n",
       "if (outputEl) {{\n",
       "    x.observe(outputEl, {childList: true});\n",
       "}}\n",
       "\n",
       "                        })\n",
       "                };\n",
       "                });\n",
       "            </script>\n",
       "        </div>"
      ]
     },
     "metadata": {},
     "output_type": "display_data"
    }
   ],
   "source": [
    "str_data =  go.Table(\n",
    "                columnwidth = [30,5],\n",
    "                header=dict(values=list(columns),\n",
    "                align='left'),\n",
    "                cells=dict(values= myarr,align='left'))\n",
    "fig = go.Figure(data=str_data)\n",
    "fig.show()\n",
    "\n",
    "###\n",
    "display(HTML(\"<p>Répartition du nombre d'années d'études :</p>\"))\n",
    "ranges = [0,5,10,12,15,20]\n",
    "df_pop = df_str[df_str['STROOP']== 'Oui']\n",
    "\n",
    "df_study = df_pop[\"Nombre d'années d'études\"].copy()\n",
    "\n",
    "df_study = df_study.groupby(pd.cut(df_pop[\"Nombre d'années d'études\"], ranges, include_lowest=True)).count()\n",
    "df_study = pd.DataFrame(df_study)\n",
    "df_study = df_study.rename(columns={\"Nombre d'années d'études\":'Effectif'})\n",
    "year_study = [\"0 à 5\", \"5 à 10\", \"10 à 12\", \"12 à 15\", \"15 à 20\"]\n",
    "df_study[\"Nombre d'années d'études\"] = year_study\n",
    "df_study = df_study[[\"Nombre d'années d'études\", \"Effectif\"]]\n",
    "fig = go.Figure(data=[go.Table(\n",
    "    header=dict(values=list(df_study.columns),\n",
    "                fill_color='paleturquoise',\n",
    "                align='left'),\n",
    "    cells=dict(values=[df_study[\"Effectif\"], df_study[\"Nombre d'années d'études\"]],\n",
    "               fill_color='lavender',\n",
    "               align='left'))\n",
    "])\n",
    "\n",
    "fig.show()\n",
    "\n",
    "fig = px.bar(df_study, x=\"Nombre d'années d'études\", y=\"Effectif\", color=\"Effectif\")\n",
    "fig.update_layout(showlegend=False)\n",
    "fig.show()"
   ]
  },
  {
   "cell_type": "code",
   "execution_count": 48,
   "metadata": {
    "ExecuteTime": {
     "end_time": "2020-06-15T08:42:13.942466Z",
     "start_time": "2020-06-15T08:42:13.817341Z"
    }
   },
   "outputs": [
    {
     "data": {
      "text/html": [
       "<h3>Scores temps</h3>"
      ],
      "text/plain": [
       "<IPython.core.display.HTML object>"
      ]
     },
     "metadata": {},
     "output_type": "display_data"
    },
    {
     "data": {
      "text/html": [
       "<h4>1. Temps dénomination pour 100 items</h4>"
      ],
      "text/plain": [
       "<IPython.core.display.HTML object>"
      ]
     },
     "metadata": {},
     "output_type": "display_data"
    },
    {
     "data": {
      "application/vnd.plotly.v1+json": {
       "config": {
        "plotlyServerURL": "https://plot.ly"
       },
       "data": [
        {
         "cells": {
          "align": "left",
          "values": [
           [
            "Effectif",
            "Moyenne",
            "Médiane",
            "Variance",
            "Min.",
            "Max"
           ],
           [
            18,
            76,
            70,
            318,
            51,
            114
           ],
           [
            "-",
            2,
            1,
            3,
            -0.55,
            6.44
           ],
           [
            "-",
            83,
            87,
            297,
            32,
            95
           ]
          ]
         },
         "columnwidth": [
          15,
          15
         ],
         "header": {
          "align": "left",
          "values": [
           "",
           "Score",
           "Ecart-type",
           "Rang percentile"
          ]
         },
         "type": "table"
        }
       ],
       "layout": {
        "template": {
         "data": {
          "bar": [
           {
            "error_x": {
             "color": "#2a3f5f"
            },
            "error_y": {
             "color": "#2a3f5f"
            },
            "marker": {
             "line": {
              "color": "#E5ECF6",
              "width": 0.5
             }
            },
            "type": "bar"
           }
          ],
          "barpolar": [
           {
            "marker": {
             "line": {
              "color": "#E5ECF6",
              "width": 0.5
             }
            },
            "type": "barpolar"
           }
          ],
          "carpet": [
           {
            "aaxis": {
             "endlinecolor": "#2a3f5f",
             "gridcolor": "white",
             "linecolor": "white",
             "minorgridcolor": "white",
             "startlinecolor": "#2a3f5f"
            },
            "baxis": {
             "endlinecolor": "#2a3f5f",
             "gridcolor": "white",
             "linecolor": "white",
             "minorgridcolor": "white",
             "startlinecolor": "#2a3f5f"
            },
            "type": "carpet"
           }
          ],
          "choropleth": [
           {
            "colorbar": {
             "outlinewidth": 0,
             "ticks": ""
            },
            "type": "choropleth"
           }
          ],
          "contour": [
           {
            "colorbar": {
             "outlinewidth": 0,
             "ticks": ""
            },
            "colorscale": [
             [
              0,
              "#0d0887"
             ],
             [
              0.1111111111111111,
              "#46039f"
             ],
             [
              0.2222222222222222,
              "#7201a8"
             ],
             [
              0.3333333333333333,
              "#9c179e"
             ],
             [
              0.4444444444444444,
              "#bd3786"
             ],
             [
              0.5555555555555556,
              "#d8576b"
             ],
             [
              0.6666666666666666,
              "#ed7953"
             ],
             [
              0.7777777777777778,
              "#fb9f3a"
             ],
             [
              0.8888888888888888,
              "#fdca26"
             ],
             [
              1,
              "#f0f921"
             ]
            ],
            "type": "contour"
           }
          ],
          "contourcarpet": [
           {
            "colorbar": {
             "outlinewidth": 0,
             "ticks": ""
            },
            "type": "contourcarpet"
           }
          ],
          "heatmap": [
           {
            "colorbar": {
             "outlinewidth": 0,
             "ticks": ""
            },
            "colorscale": [
             [
              0,
              "#0d0887"
             ],
             [
              0.1111111111111111,
              "#46039f"
             ],
             [
              0.2222222222222222,
              "#7201a8"
             ],
             [
              0.3333333333333333,
              "#9c179e"
             ],
             [
              0.4444444444444444,
              "#bd3786"
             ],
             [
              0.5555555555555556,
              "#d8576b"
             ],
             [
              0.6666666666666666,
              "#ed7953"
             ],
             [
              0.7777777777777778,
              "#fb9f3a"
             ],
             [
              0.8888888888888888,
              "#fdca26"
             ],
             [
              1,
              "#f0f921"
             ]
            ],
            "type": "heatmap"
           }
          ],
          "heatmapgl": [
           {
            "colorbar": {
             "outlinewidth": 0,
             "ticks": ""
            },
            "colorscale": [
             [
              0,
              "#0d0887"
             ],
             [
              0.1111111111111111,
              "#46039f"
             ],
             [
              0.2222222222222222,
              "#7201a8"
             ],
             [
              0.3333333333333333,
              "#9c179e"
             ],
             [
              0.4444444444444444,
              "#bd3786"
             ],
             [
              0.5555555555555556,
              "#d8576b"
             ],
             [
              0.6666666666666666,
              "#ed7953"
             ],
             [
              0.7777777777777778,
              "#fb9f3a"
             ],
             [
              0.8888888888888888,
              "#fdca26"
             ],
             [
              1,
              "#f0f921"
             ]
            ],
            "type": "heatmapgl"
           }
          ],
          "histogram": [
           {
            "marker": {
             "colorbar": {
              "outlinewidth": 0,
              "ticks": ""
             }
            },
            "type": "histogram"
           }
          ],
          "histogram2d": [
           {
            "colorbar": {
             "outlinewidth": 0,
             "ticks": ""
            },
            "colorscale": [
             [
              0,
              "#0d0887"
             ],
             [
              0.1111111111111111,
              "#46039f"
             ],
             [
              0.2222222222222222,
              "#7201a8"
             ],
             [
              0.3333333333333333,
              "#9c179e"
             ],
             [
              0.4444444444444444,
              "#bd3786"
             ],
             [
              0.5555555555555556,
              "#d8576b"
             ],
             [
              0.6666666666666666,
              "#ed7953"
             ],
             [
              0.7777777777777778,
              "#fb9f3a"
             ],
             [
              0.8888888888888888,
              "#fdca26"
             ],
             [
              1,
              "#f0f921"
             ]
            ],
            "type": "histogram2d"
           }
          ],
          "histogram2dcontour": [
           {
            "colorbar": {
             "outlinewidth": 0,
             "ticks": ""
            },
            "colorscale": [
             [
              0,
              "#0d0887"
             ],
             [
              0.1111111111111111,
              "#46039f"
             ],
             [
              0.2222222222222222,
              "#7201a8"
             ],
             [
              0.3333333333333333,
              "#9c179e"
             ],
             [
              0.4444444444444444,
              "#bd3786"
             ],
             [
              0.5555555555555556,
              "#d8576b"
             ],
             [
              0.6666666666666666,
              "#ed7953"
             ],
             [
              0.7777777777777778,
              "#fb9f3a"
             ],
             [
              0.8888888888888888,
              "#fdca26"
             ],
             [
              1,
              "#f0f921"
             ]
            ],
            "type": "histogram2dcontour"
           }
          ],
          "mesh3d": [
           {
            "colorbar": {
             "outlinewidth": 0,
             "ticks": ""
            },
            "type": "mesh3d"
           }
          ],
          "parcoords": [
           {
            "line": {
             "colorbar": {
              "outlinewidth": 0,
              "ticks": ""
             }
            },
            "type": "parcoords"
           }
          ],
          "pie": [
           {
            "automargin": true,
            "type": "pie"
           }
          ],
          "scatter": [
           {
            "marker": {
             "colorbar": {
              "outlinewidth": 0,
              "ticks": ""
             }
            },
            "type": "scatter"
           }
          ],
          "scatter3d": [
           {
            "line": {
             "colorbar": {
              "outlinewidth": 0,
              "ticks": ""
             }
            },
            "marker": {
             "colorbar": {
              "outlinewidth": 0,
              "ticks": ""
             }
            },
            "type": "scatter3d"
           }
          ],
          "scattercarpet": [
           {
            "marker": {
             "colorbar": {
              "outlinewidth": 0,
              "ticks": ""
             }
            },
            "type": "scattercarpet"
           }
          ],
          "scattergeo": [
           {
            "marker": {
             "colorbar": {
              "outlinewidth": 0,
              "ticks": ""
             }
            },
            "type": "scattergeo"
           }
          ],
          "scattergl": [
           {
            "marker": {
             "colorbar": {
              "outlinewidth": 0,
              "ticks": ""
             }
            },
            "type": "scattergl"
           }
          ],
          "scattermapbox": [
           {
            "marker": {
             "colorbar": {
              "outlinewidth": 0,
              "ticks": ""
             }
            },
            "type": "scattermapbox"
           }
          ],
          "scatterpolar": [
           {
            "marker": {
             "colorbar": {
              "outlinewidth": 0,
              "ticks": ""
             }
            },
            "type": "scatterpolar"
           }
          ],
          "scatterpolargl": [
           {
            "marker": {
             "colorbar": {
              "outlinewidth": 0,
              "ticks": ""
             }
            },
            "type": "scatterpolargl"
           }
          ],
          "scatterternary": [
           {
            "marker": {
             "colorbar": {
              "outlinewidth": 0,
              "ticks": ""
             }
            },
            "type": "scatterternary"
           }
          ],
          "surface": [
           {
            "colorbar": {
             "outlinewidth": 0,
             "ticks": ""
            },
            "colorscale": [
             [
              0,
              "#0d0887"
             ],
             [
              0.1111111111111111,
              "#46039f"
             ],
             [
              0.2222222222222222,
              "#7201a8"
             ],
             [
              0.3333333333333333,
              "#9c179e"
             ],
             [
              0.4444444444444444,
              "#bd3786"
             ],
             [
              0.5555555555555556,
              "#d8576b"
             ],
             [
              0.6666666666666666,
              "#ed7953"
             ],
             [
              0.7777777777777778,
              "#fb9f3a"
             ],
             [
              0.8888888888888888,
              "#fdca26"
             ],
             [
              1,
              "#f0f921"
             ]
            ],
            "type": "surface"
           }
          ],
          "table": [
           {
            "cells": {
             "fill": {
              "color": "#EBF0F8"
             },
             "line": {
              "color": "white"
             }
            },
            "header": {
             "fill": {
              "color": "#C8D4E3"
             },
             "line": {
              "color": "white"
             }
            },
            "type": "table"
           }
          ]
         },
         "layout": {
          "annotationdefaults": {
           "arrowcolor": "#2a3f5f",
           "arrowhead": 0,
           "arrowwidth": 1
          },
          "coloraxis": {
           "colorbar": {
            "outlinewidth": 0,
            "ticks": ""
           }
          },
          "colorscale": {
           "diverging": [
            [
             0,
             "#8e0152"
            ],
            [
             0.1,
             "#c51b7d"
            ],
            [
             0.2,
             "#de77ae"
            ],
            [
             0.3,
             "#f1b6da"
            ],
            [
             0.4,
             "#fde0ef"
            ],
            [
             0.5,
             "#f7f7f7"
            ],
            [
             0.6,
             "#e6f5d0"
            ],
            [
             0.7,
             "#b8e186"
            ],
            [
             0.8,
             "#7fbc41"
            ],
            [
             0.9,
             "#4d9221"
            ],
            [
             1,
             "#276419"
            ]
           ],
           "sequential": [
            [
             0,
             "#0d0887"
            ],
            [
             0.1111111111111111,
             "#46039f"
            ],
            [
             0.2222222222222222,
             "#7201a8"
            ],
            [
             0.3333333333333333,
             "#9c179e"
            ],
            [
             0.4444444444444444,
             "#bd3786"
            ],
            [
             0.5555555555555556,
             "#d8576b"
            ],
            [
             0.6666666666666666,
             "#ed7953"
            ],
            [
             0.7777777777777778,
             "#fb9f3a"
            ],
            [
             0.8888888888888888,
             "#fdca26"
            ],
            [
             1,
             "#f0f921"
            ]
           ],
           "sequentialminus": [
            [
             0,
             "#0d0887"
            ],
            [
             0.1111111111111111,
             "#46039f"
            ],
            [
             0.2222222222222222,
             "#7201a8"
            ],
            [
             0.3333333333333333,
             "#9c179e"
            ],
            [
             0.4444444444444444,
             "#bd3786"
            ],
            [
             0.5555555555555556,
             "#d8576b"
            ],
            [
             0.6666666666666666,
             "#ed7953"
            ],
            [
             0.7777777777777778,
             "#fb9f3a"
            ],
            [
             0.8888888888888888,
             "#fdca26"
            ],
            [
             1,
             "#f0f921"
            ]
           ]
          },
          "colorway": [
           "#636efa",
           "#EF553B",
           "#00cc96",
           "#ab63fa",
           "#FFA15A",
           "#19d3f3",
           "#FF6692",
           "#B6E880",
           "#FF97FF",
           "#FECB52"
          ],
          "font": {
           "color": "#2a3f5f"
          },
          "geo": {
           "bgcolor": "white",
           "lakecolor": "white",
           "landcolor": "#E5ECF6",
           "showlakes": true,
           "showland": true,
           "subunitcolor": "white"
          },
          "hoverlabel": {
           "align": "left"
          },
          "hovermode": "closest",
          "mapbox": {
           "style": "light"
          },
          "paper_bgcolor": "white",
          "plot_bgcolor": "#E5ECF6",
          "polar": {
           "angularaxis": {
            "gridcolor": "white",
            "linecolor": "white",
            "ticks": ""
           },
           "bgcolor": "#E5ECF6",
           "radialaxis": {
            "gridcolor": "white",
            "linecolor": "white",
            "ticks": ""
           }
          },
          "scene": {
           "xaxis": {
            "backgroundcolor": "#E5ECF6",
            "gridcolor": "white",
            "gridwidth": 2,
            "linecolor": "white",
            "showbackground": true,
            "ticks": "",
            "zerolinecolor": "white"
           },
           "yaxis": {
            "backgroundcolor": "#E5ECF6",
            "gridcolor": "white",
            "gridwidth": 2,
            "linecolor": "white",
            "showbackground": true,
            "ticks": "",
            "zerolinecolor": "white"
           },
           "zaxis": {
            "backgroundcolor": "#E5ECF6",
            "gridcolor": "white",
            "gridwidth": 2,
            "linecolor": "white",
            "showbackground": true,
            "ticks": "",
            "zerolinecolor": "white"
           }
          },
          "shapedefaults": {
           "line": {
            "color": "#2a3f5f"
           }
          },
          "ternary": {
           "aaxis": {
            "gridcolor": "white",
            "linecolor": "white",
            "ticks": ""
           },
           "baxis": {
            "gridcolor": "white",
            "linecolor": "white",
            "ticks": ""
           },
           "bgcolor": "#E5ECF6",
           "caxis": {
            "gridcolor": "white",
            "linecolor": "white",
            "ticks": ""
           }
          },
          "title": {
           "x": 0.05
          },
          "xaxis": {
           "automargin": true,
           "gridcolor": "white",
           "linecolor": "white",
           "ticks": "",
           "title": {
            "standoff": 15
           },
           "zerolinecolor": "white",
           "zerolinewidth": 2
          },
          "yaxis": {
           "automargin": true,
           "gridcolor": "white",
           "linecolor": "white",
           "ticks": "",
           "title": {
            "standoff": 15
           },
           "zerolinecolor": "white",
           "zerolinewidth": 2
          }
         }
        }
       }
      },
      "text/html": [
       "<div>\n",
       "        \n",
       "        \n",
       "            <div id=\"91341b0d-a54a-46aa-8b62-c08124013695\" class=\"plotly-graph-div\" style=\"height:525px; width:100%;\"></div>\n",
       "            <script type=\"text/javascript\">\n",
       "                require([\"plotly\"], function(Plotly) {\n",
       "                    window.PLOTLYENV=window.PLOTLYENV || {};\n",
       "                    \n",
       "                if (document.getElementById(\"91341b0d-a54a-46aa-8b62-c08124013695\")) {\n",
       "                    Plotly.newPlot(\n",
       "                        '91341b0d-a54a-46aa-8b62-c08124013695',\n",
       "                        [{\"cells\": {\"align\": \"left\", \"values\": [[\"Effectif\", \"Moyenne\", \"M\\u00e9diane\", \"Variance\", \"Min.\", \"Max\"], [18, 76, 70, 318, 51.0, 114.0], [\"-\", 2, 1, 3, -0.55, 6.44], [\"-\", 83, 87, 297, 32.0, 95.0]]}, \"columnwidth\": [15, 15], \"header\": {\"align\": \"left\", \"values\": [\"\", \"Score\", \"Ecart-type\", \"Rang percentile\"]}, \"type\": \"table\"}],\n",
       "                        {\"template\": {\"data\": {\"bar\": [{\"error_x\": {\"color\": \"#2a3f5f\"}, \"error_y\": {\"color\": \"#2a3f5f\"}, \"marker\": {\"line\": {\"color\": \"#E5ECF6\", \"width\": 0.5}}, \"type\": \"bar\"}], \"barpolar\": [{\"marker\": {\"line\": {\"color\": \"#E5ECF6\", \"width\": 0.5}}, \"type\": \"barpolar\"}], \"carpet\": [{\"aaxis\": {\"endlinecolor\": \"#2a3f5f\", \"gridcolor\": \"white\", \"linecolor\": \"white\", \"minorgridcolor\": \"white\", \"startlinecolor\": \"#2a3f5f\"}, \"baxis\": {\"endlinecolor\": \"#2a3f5f\", \"gridcolor\": \"white\", \"linecolor\": \"white\", \"minorgridcolor\": \"white\", \"startlinecolor\": \"#2a3f5f\"}, \"type\": \"carpet\"}], \"choropleth\": [{\"colorbar\": {\"outlinewidth\": 0, \"ticks\": \"\"}, \"type\": \"choropleth\"}], \"contour\": [{\"colorbar\": {\"outlinewidth\": 0, \"ticks\": \"\"}, \"colorscale\": [[0.0, \"#0d0887\"], [0.1111111111111111, \"#46039f\"], [0.2222222222222222, \"#7201a8\"], [0.3333333333333333, \"#9c179e\"], [0.4444444444444444, \"#bd3786\"], [0.5555555555555556, \"#d8576b\"], [0.6666666666666666, \"#ed7953\"], [0.7777777777777778, \"#fb9f3a\"], [0.8888888888888888, \"#fdca26\"], [1.0, \"#f0f921\"]], \"type\": \"contour\"}], \"contourcarpet\": [{\"colorbar\": {\"outlinewidth\": 0, \"ticks\": \"\"}, \"type\": \"contourcarpet\"}], \"heatmap\": [{\"colorbar\": {\"outlinewidth\": 0, \"ticks\": \"\"}, \"colorscale\": [[0.0, \"#0d0887\"], [0.1111111111111111, \"#46039f\"], [0.2222222222222222, \"#7201a8\"], [0.3333333333333333, \"#9c179e\"], [0.4444444444444444, \"#bd3786\"], [0.5555555555555556, \"#d8576b\"], [0.6666666666666666, \"#ed7953\"], [0.7777777777777778, \"#fb9f3a\"], [0.8888888888888888, \"#fdca26\"], [1.0, \"#f0f921\"]], \"type\": \"heatmap\"}], \"heatmapgl\": [{\"colorbar\": {\"outlinewidth\": 0, \"ticks\": \"\"}, \"colorscale\": [[0.0, \"#0d0887\"], [0.1111111111111111, \"#46039f\"], [0.2222222222222222, \"#7201a8\"], [0.3333333333333333, \"#9c179e\"], [0.4444444444444444, \"#bd3786\"], [0.5555555555555556, \"#d8576b\"], [0.6666666666666666, \"#ed7953\"], [0.7777777777777778, \"#fb9f3a\"], [0.8888888888888888, \"#fdca26\"], [1.0, \"#f0f921\"]], \"type\": \"heatmapgl\"}], \"histogram\": [{\"marker\": {\"colorbar\": {\"outlinewidth\": 0, \"ticks\": \"\"}}, \"type\": \"histogram\"}], \"histogram2d\": [{\"colorbar\": {\"outlinewidth\": 0, \"ticks\": \"\"}, \"colorscale\": [[0.0, \"#0d0887\"], [0.1111111111111111, \"#46039f\"], [0.2222222222222222, \"#7201a8\"], [0.3333333333333333, \"#9c179e\"], [0.4444444444444444, \"#bd3786\"], [0.5555555555555556, \"#d8576b\"], [0.6666666666666666, \"#ed7953\"], [0.7777777777777778, \"#fb9f3a\"], [0.8888888888888888, \"#fdca26\"], [1.0, \"#f0f921\"]], \"type\": \"histogram2d\"}], \"histogram2dcontour\": [{\"colorbar\": {\"outlinewidth\": 0, \"ticks\": \"\"}, \"colorscale\": [[0.0, \"#0d0887\"], [0.1111111111111111, \"#46039f\"], [0.2222222222222222, \"#7201a8\"], [0.3333333333333333, \"#9c179e\"], [0.4444444444444444, \"#bd3786\"], [0.5555555555555556, \"#d8576b\"], [0.6666666666666666, \"#ed7953\"], [0.7777777777777778, \"#fb9f3a\"], [0.8888888888888888, \"#fdca26\"], [1.0, \"#f0f921\"]], \"type\": \"histogram2dcontour\"}], \"mesh3d\": [{\"colorbar\": {\"outlinewidth\": 0, \"ticks\": \"\"}, \"type\": \"mesh3d\"}], \"parcoords\": [{\"line\": {\"colorbar\": {\"outlinewidth\": 0, \"ticks\": \"\"}}, \"type\": \"parcoords\"}], \"pie\": [{\"automargin\": true, \"type\": \"pie\"}], \"scatter\": [{\"marker\": {\"colorbar\": {\"outlinewidth\": 0, \"ticks\": \"\"}}, \"type\": \"scatter\"}], \"scatter3d\": [{\"line\": {\"colorbar\": {\"outlinewidth\": 0, \"ticks\": \"\"}}, \"marker\": {\"colorbar\": {\"outlinewidth\": 0, \"ticks\": \"\"}}, \"type\": \"scatter3d\"}], \"scattercarpet\": [{\"marker\": {\"colorbar\": {\"outlinewidth\": 0, \"ticks\": \"\"}}, \"type\": \"scattercarpet\"}], \"scattergeo\": [{\"marker\": {\"colorbar\": {\"outlinewidth\": 0, \"ticks\": \"\"}}, \"type\": \"scattergeo\"}], \"scattergl\": [{\"marker\": {\"colorbar\": {\"outlinewidth\": 0, \"ticks\": \"\"}}, \"type\": \"scattergl\"}], \"scattermapbox\": [{\"marker\": {\"colorbar\": {\"outlinewidth\": 0, \"ticks\": \"\"}}, \"type\": \"scattermapbox\"}], \"scatterpolar\": [{\"marker\": {\"colorbar\": {\"outlinewidth\": 0, \"ticks\": \"\"}}, \"type\": \"scatterpolar\"}], \"scatterpolargl\": [{\"marker\": {\"colorbar\": {\"outlinewidth\": 0, \"ticks\": \"\"}}, \"type\": \"scatterpolargl\"}], \"scatterternary\": [{\"marker\": {\"colorbar\": {\"outlinewidth\": 0, \"ticks\": \"\"}}, \"type\": \"scatterternary\"}], \"surface\": [{\"colorbar\": {\"outlinewidth\": 0, \"ticks\": \"\"}, \"colorscale\": [[0.0, \"#0d0887\"], [0.1111111111111111, \"#46039f\"], [0.2222222222222222, \"#7201a8\"], [0.3333333333333333, \"#9c179e\"], [0.4444444444444444, \"#bd3786\"], [0.5555555555555556, \"#d8576b\"], [0.6666666666666666, \"#ed7953\"], [0.7777777777777778, \"#fb9f3a\"], [0.8888888888888888, \"#fdca26\"], [1.0, \"#f0f921\"]], \"type\": \"surface\"}], \"table\": [{\"cells\": {\"fill\": {\"color\": \"#EBF0F8\"}, \"line\": {\"color\": \"white\"}}, \"header\": {\"fill\": {\"color\": \"#C8D4E3\"}, \"line\": {\"color\": \"white\"}}, \"type\": \"table\"}]}, \"layout\": {\"annotationdefaults\": {\"arrowcolor\": \"#2a3f5f\", \"arrowhead\": 0, \"arrowwidth\": 1}, \"coloraxis\": {\"colorbar\": {\"outlinewidth\": 0, \"ticks\": \"\"}}, \"colorscale\": {\"diverging\": [[0, \"#8e0152\"], [0.1, \"#c51b7d\"], [0.2, \"#de77ae\"], [0.3, \"#f1b6da\"], [0.4, \"#fde0ef\"], [0.5, \"#f7f7f7\"], [0.6, \"#e6f5d0\"], [0.7, \"#b8e186\"], [0.8, \"#7fbc41\"], [0.9, \"#4d9221\"], [1, \"#276419\"]], \"sequential\": [[0.0, \"#0d0887\"], [0.1111111111111111, \"#46039f\"], [0.2222222222222222, \"#7201a8\"], [0.3333333333333333, \"#9c179e\"], [0.4444444444444444, \"#bd3786\"], [0.5555555555555556, \"#d8576b\"], [0.6666666666666666, \"#ed7953\"], [0.7777777777777778, \"#fb9f3a\"], [0.8888888888888888, \"#fdca26\"], [1.0, \"#f0f921\"]], \"sequentialminus\": [[0.0, \"#0d0887\"], [0.1111111111111111, \"#46039f\"], [0.2222222222222222, \"#7201a8\"], [0.3333333333333333, \"#9c179e\"], [0.4444444444444444, \"#bd3786\"], [0.5555555555555556, \"#d8576b\"], [0.6666666666666666, \"#ed7953\"], [0.7777777777777778, \"#fb9f3a\"], [0.8888888888888888, \"#fdca26\"], [1.0, \"#f0f921\"]]}, \"colorway\": [\"#636efa\", \"#EF553B\", \"#00cc96\", \"#ab63fa\", \"#FFA15A\", \"#19d3f3\", \"#FF6692\", \"#B6E880\", \"#FF97FF\", \"#FECB52\"], \"font\": {\"color\": \"#2a3f5f\"}, \"geo\": {\"bgcolor\": \"white\", \"lakecolor\": \"white\", \"landcolor\": \"#E5ECF6\", \"showlakes\": true, \"showland\": true, \"subunitcolor\": \"white\"}, \"hoverlabel\": {\"align\": \"left\"}, \"hovermode\": \"closest\", \"mapbox\": {\"style\": \"light\"}, \"paper_bgcolor\": \"white\", \"plot_bgcolor\": \"#E5ECF6\", \"polar\": {\"angularaxis\": {\"gridcolor\": \"white\", \"linecolor\": \"white\", \"ticks\": \"\"}, \"bgcolor\": \"#E5ECF6\", \"radialaxis\": {\"gridcolor\": \"white\", \"linecolor\": \"white\", \"ticks\": \"\"}}, \"scene\": {\"xaxis\": {\"backgroundcolor\": \"#E5ECF6\", \"gridcolor\": \"white\", \"gridwidth\": 2, \"linecolor\": \"white\", \"showbackground\": true, \"ticks\": \"\", \"zerolinecolor\": \"white\"}, \"yaxis\": {\"backgroundcolor\": \"#E5ECF6\", \"gridcolor\": \"white\", \"gridwidth\": 2, \"linecolor\": \"white\", \"showbackground\": true, \"ticks\": \"\", \"zerolinecolor\": \"white\"}, \"zaxis\": {\"backgroundcolor\": \"#E5ECF6\", \"gridcolor\": \"white\", \"gridwidth\": 2, \"linecolor\": \"white\", \"showbackground\": true, \"ticks\": \"\", \"zerolinecolor\": \"white\"}}, \"shapedefaults\": {\"line\": {\"color\": \"#2a3f5f\"}}, \"ternary\": {\"aaxis\": {\"gridcolor\": \"white\", \"linecolor\": \"white\", \"ticks\": \"\"}, \"baxis\": {\"gridcolor\": \"white\", \"linecolor\": \"white\", \"ticks\": \"\"}, \"bgcolor\": \"#E5ECF6\", \"caxis\": {\"gridcolor\": \"white\", \"linecolor\": \"white\", \"ticks\": \"\"}}, \"title\": {\"x\": 0.05}, \"xaxis\": {\"automargin\": true, \"gridcolor\": \"white\", \"linecolor\": \"white\", \"ticks\": \"\", \"title\": {\"standoff\": 15}, \"zerolinecolor\": \"white\", \"zerolinewidth\": 2}, \"yaxis\": {\"automargin\": true, \"gridcolor\": \"white\", \"linecolor\": \"white\", \"ticks\": \"\", \"title\": {\"standoff\": 15}, \"zerolinecolor\": \"white\", \"zerolinewidth\": 2}}}},\n",
       "                        {\"responsive\": true}\n",
       "                    ).then(function(){\n",
       "                            \n",
       "var gd = document.getElementById('91341b0d-a54a-46aa-8b62-c08124013695');\n",
       "var x = new MutationObserver(function (mutations, observer) {{\n",
       "        var display = window.getComputedStyle(gd).display;\n",
       "        if (!display || display === 'none') {{\n",
       "            console.log([gd, 'removed!']);\n",
       "            Plotly.purge(gd);\n",
       "            observer.disconnect();\n",
       "        }}\n",
       "}});\n",
       "\n",
       "// Listen for the removal of the full notebook cells\n",
       "var notebookContainer = gd.closest('#notebook-container');\n",
       "if (notebookContainer) {{\n",
       "    x.observe(notebookContainer, {childList: true});\n",
       "}}\n",
       "\n",
       "// Listen for the clearing of the current output cell\n",
       "var outputEl = gd.closest('.output');\n",
       "if (outputEl) {{\n",
       "    x.observe(outputEl, {childList: true});\n",
       "}}\n",
       "\n",
       "                        })\n",
       "                };\n",
       "                });\n",
       "            </script>\n",
       "        </div>"
      ]
     },
     "metadata": {},
     "output_type": "display_data"
    }
   ],
   "source": [
    "display(HTML(\"<h3>Scores temps</h3>\"))\n",
    "display(HTML('<h4>1. Temps dénomination pour 100 items</h4>'))\n",
    "\n",
    "df_deno=df_str[df_str[\"Temps dénomination pour 100 items\"].notna()|(df_str[\"Temps dénomination pour 100 items\"]!=0)]\n",
    "nb = len(df_deno)\n",
    "\n",
    "nb_avg = round(df_deno[\"Temps dénomination pour 100 items\"].mean())\n",
    "nb_med = round(df_deno[\"Temps dénomination pour 100 items\"].median())\n",
    "nb_var = round(df_deno[\"Temps dénomination pour 100 items\"].var())\n",
    "nb_min = df_deno[\"Temps dénomination pour 100 items\"].min()\n",
    "nb_max = df_deno[\"Temps dénomination pour 100 items\"].max()\n",
    "#\n",
    "ec_avg = round(df_deno[\"Ecart type - Temps dénomination pour 100 items\"].mean())\n",
    "ec_med = round(df_deno[\"Ecart type - Temps dénomination pour 100 items\"].median())\n",
    "ec_var = round(df_deno[\"Ecart type - Temps dénomination pour 100 items\"].var())\n",
    "ec_min = df_deno[\"Ecart type - Temps dénomination pour 100 items\"].min()\n",
    "ec_max = df_deno[\"Ecart type - Temps dénomination pour 100 items\"].max()\n",
    "#\n",
    "rp_avg = round(df_deno[\"Rang percentile - Temps dénomination pour 100 items\"].mean())\n",
    "rp_med = round(df_deno[\"Rang percentile - Temps dénomination pour 100 items\"].median())\n",
    "rp_var = round(df_deno[\"Rang percentile - Temps dénomination pour 100 items\"].var())\n",
    "rp_min = df_deno[\"Rang percentile - Temps dénomination pour 100 items\"].min()\n",
    "rp_max = df_deno[\"Rang percentile - Temps dénomination pour 100 items\"].max()\n",
    "\n",
    "columns = ['',\"Score\", \"Ecart-type\", \"Rang percentile\"]\n",
    "\n",
    "myarr = [['Effectif', 'Moyenne', 'Médiane', 'Variance', 'Min.', 'Max']]\n",
    "myarr.append([nb, nb_avg, nb_med, nb_var, nb_min, nb_max])\n",
    "myarr.append(['-',ec_avg, ec_med, ec_var, ec_min, ec_max])\n",
    "myarr.append(['-',rp_avg, rp_med, rp_var, rp_min, rp_max])\n",
    "\n",
    "myarr\n",
    "\n",
    "tab =  go.Table(\n",
    "                columnwidth = [15,15],\n",
    "                header=dict(values=list(columns),\n",
    "                align='left'),\n",
    "                cells=dict(values= myarr,align='left'))\n",
    "fig = go.Figure(data=tab)\n",
    "fig.show()"
   ]
  },
  {
   "cell_type": "code",
   "execution_count": 49,
   "metadata": {
    "ExecuteTime": {
     "end_time": "2020-06-15T08:42:28.601985Z",
     "start_time": "2020-06-15T08:42:28.366320Z"
    }
   },
   "outputs": [
    {
     "data": {
      "text/html": [
       "<h4>2. Temps de lecture</h4>"
      ],
      "text/plain": [
       "<IPython.core.display.HTML object>"
      ]
     },
     "metadata": {},
     "output_type": "display_data"
    },
    {
     "data": {
      "application/vnd.plotly.v1+json": {
       "config": {
        "plotlyServerURL": "https://plot.ly"
       },
       "data": [
        {
         "cells": {
          "align": "left",
          "values": [
           [
            "Effectif",
            "Moyenne",
            "Médiane",
            "Variance",
            "Min.",
            "Max"
           ],
           [
            18,
            59,
            54,
            265,
            35,
            98
           ],
           [
            "-",
            3,
            2,
            4,
            0,
            7
           ],
           [
            "-",
            85,
            94,
            422,
            15,
            95
           ]
          ]
         },
         "columnwidth": [
          15,
          15
         ],
         "header": {
          "align": "left",
          "values": [
           "",
           "Score",
           "Ecart-type",
           "Rang percentile"
          ]
         },
         "type": "table"
        }
       ],
       "layout": {
        "template": {
         "data": {
          "bar": [
           {
            "error_x": {
             "color": "#2a3f5f"
            },
            "error_y": {
             "color": "#2a3f5f"
            },
            "marker": {
             "line": {
              "color": "#E5ECF6",
              "width": 0.5
             }
            },
            "type": "bar"
           }
          ],
          "barpolar": [
           {
            "marker": {
             "line": {
              "color": "#E5ECF6",
              "width": 0.5
             }
            },
            "type": "barpolar"
           }
          ],
          "carpet": [
           {
            "aaxis": {
             "endlinecolor": "#2a3f5f",
             "gridcolor": "white",
             "linecolor": "white",
             "minorgridcolor": "white",
             "startlinecolor": "#2a3f5f"
            },
            "baxis": {
             "endlinecolor": "#2a3f5f",
             "gridcolor": "white",
             "linecolor": "white",
             "minorgridcolor": "white",
             "startlinecolor": "#2a3f5f"
            },
            "type": "carpet"
           }
          ],
          "choropleth": [
           {
            "colorbar": {
             "outlinewidth": 0,
             "ticks": ""
            },
            "type": "choropleth"
           }
          ],
          "contour": [
           {
            "colorbar": {
             "outlinewidth": 0,
             "ticks": ""
            },
            "colorscale": [
             [
              0,
              "#0d0887"
             ],
             [
              0.1111111111111111,
              "#46039f"
             ],
             [
              0.2222222222222222,
              "#7201a8"
             ],
             [
              0.3333333333333333,
              "#9c179e"
             ],
             [
              0.4444444444444444,
              "#bd3786"
             ],
             [
              0.5555555555555556,
              "#d8576b"
             ],
             [
              0.6666666666666666,
              "#ed7953"
             ],
             [
              0.7777777777777778,
              "#fb9f3a"
             ],
             [
              0.8888888888888888,
              "#fdca26"
             ],
             [
              1,
              "#f0f921"
             ]
            ],
            "type": "contour"
           }
          ],
          "contourcarpet": [
           {
            "colorbar": {
             "outlinewidth": 0,
             "ticks": ""
            },
            "type": "contourcarpet"
           }
          ],
          "heatmap": [
           {
            "colorbar": {
             "outlinewidth": 0,
             "ticks": ""
            },
            "colorscale": [
             [
              0,
              "#0d0887"
             ],
             [
              0.1111111111111111,
              "#46039f"
             ],
             [
              0.2222222222222222,
              "#7201a8"
             ],
             [
              0.3333333333333333,
              "#9c179e"
             ],
             [
              0.4444444444444444,
              "#bd3786"
             ],
             [
              0.5555555555555556,
              "#d8576b"
             ],
             [
              0.6666666666666666,
              "#ed7953"
             ],
             [
              0.7777777777777778,
              "#fb9f3a"
             ],
             [
              0.8888888888888888,
              "#fdca26"
             ],
             [
              1,
              "#f0f921"
             ]
            ],
            "type": "heatmap"
           }
          ],
          "heatmapgl": [
           {
            "colorbar": {
             "outlinewidth": 0,
             "ticks": ""
            },
            "colorscale": [
             [
              0,
              "#0d0887"
             ],
             [
              0.1111111111111111,
              "#46039f"
             ],
             [
              0.2222222222222222,
              "#7201a8"
             ],
             [
              0.3333333333333333,
              "#9c179e"
             ],
             [
              0.4444444444444444,
              "#bd3786"
             ],
             [
              0.5555555555555556,
              "#d8576b"
             ],
             [
              0.6666666666666666,
              "#ed7953"
             ],
             [
              0.7777777777777778,
              "#fb9f3a"
             ],
             [
              0.8888888888888888,
              "#fdca26"
             ],
             [
              1,
              "#f0f921"
             ]
            ],
            "type": "heatmapgl"
           }
          ],
          "histogram": [
           {
            "marker": {
             "colorbar": {
              "outlinewidth": 0,
              "ticks": ""
             }
            },
            "type": "histogram"
           }
          ],
          "histogram2d": [
           {
            "colorbar": {
             "outlinewidth": 0,
             "ticks": ""
            },
            "colorscale": [
             [
              0,
              "#0d0887"
             ],
             [
              0.1111111111111111,
              "#46039f"
             ],
             [
              0.2222222222222222,
              "#7201a8"
             ],
             [
              0.3333333333333333,
              "#9c179e"
             ],
             [
              0.4444444444444444,
              "#bd3786"
             ],
             [
              0.5555555555555556,
              "#d8576b"
             ],
             [
              0.6666666666666666,
              "#ed7953"
             ],
             [
              0.7777777777777778,
              "#fb9f3a"
             ],
             [
              0.8888888888888888,
              "#fdca26"
             ],
             [
              1,
              "#f0f921"
             ]
            ],
            "type": "histogram2d"
           }
          ],
          "histogram2dcontour": [
           {
            "colorbar": {
             "outlinewidth": 0,
             "ticks": ""
            },
            "colorscale": [
             [
              0,
              "#0d0887"
             ],
             [
              0.1111111111111111,
              "#46039f"
             ],
             [
              0.2222222222222222,
              "#7201a8"
             ],
             [
              0.3333333333333333,
              "#9c179e"
             ],
             [
              0.4444444444444444,
              "#bd3786"
             ],
             [
              0.5555555555555556,
              "#d8576b"
             ],
             [
              0.6666666666666666,
              "#ed7953"
             ],
             [
              0.7777777777777778,
              "#fb9f3a"
             ],
             [
              0.8888888888888888,
              "#fdca26"
             ],
             [
              1,
              "#f0f921"
             ]
            ],
            "type": "histogram2dcontour"
           }
          ],
          "mesh3d": [
           {
            "colorbar": {
             "outlinewidth": 0,
             "ticks": ""
            },
            "type": "mesh3d"
           }
          ],
          "parcoords": [
           {
            "line": {
             "colorbar": {
              "outlinewidth": 0,
              "ticks": ""
             }
            },
            "type": "parcoords"
           }
          ],
          "pie": [
           {
            "automargin": true,
            "type": "pie"
           }
          ],
          "scatter": [
           {
            "marker": {
             "colorbar": {
              "outlinewidth": 0,
              "ticks": ""
             }
            },
            "type": "scatter"
           }
          ],
          "scatter3d": [
           {
            "line": {
             "colorbar": {
              "outlinewidth": 0,
              "ticks": ""
             }
            },
            "marker": {
             "colorbar": {
              "outlinewidth": 0,
              "ticks": ""
             }
            },
            "type": "scatter3d"
           }
          ],
          "scattercarpet": [
           {
            "marker": {
             "colorbar": {
              "outlinewidth": 0,
              "ticks": ""
             }
            },
            "type": "scattercarpet"
           }
          ],
          "scattergeo": [
           {
            "marker": {
             "colorbar": {
              "outlinewidth": 0,
              "ticks": ""
             }
            },
            "type": "scattergeo"
           }
          ],
          "scattergl": [
           {
            "marker": {
             "colorbar": {
              "outlinewidth": 0,
              "ticks": ""
             }
            },
            "type": "scattergl"
           }
          ],
          "scattermapbox": [
           {
            "marker": {
             "colorbar": {
              "outlinewidth": 0,
              "ticks": ""
             }
            },
            "type": "scattermapbox"
           }
          ],
          "scatterpolar": [
           {
            "marker": {
             "colorbar": {
              "outlinewidth": 0,
              "ticks": ""
             }
            },
            "type": "scatterpolar"
           }
          ],
          "scatterpolargl": [
           {
            "marker": {
             "colorbar": {
              "outlinewidth": 0,
              "ticks": ""
             }
            },
            "type": "scatterpolargl"
           }
          ],
          "scatterternary": [
           {
            "marker": {
             "colorbar": {
              "outlinewidth": 0,
              "ticks": ""
             }
            },
            "type": "scatterternary"
           }
          ],
          "surface": [
           {
            "colorbar": {
             "outlinewidth": 0,
             "ticks": ""
            },
            "colorscale": [
             [
              0,
              "#0d0887"
             ],
             [
              0.1111111111111111,
              "#46039f"
             ],
             [
              0.2222222222222222,
              "#7201a8"
             ],
             [
              0.3333333333333333,
              "#9c179e"
             ],
             [
              0.4444444444444444,
              "#bd3786"
             ],
             [
              0.5555555555555556,
              "#d8576b"
             ],
             [
              0.6666666666666666,
              "#ed7953"
             ],
             [
              0.7777777777777778,
              "#fb9f3a"
             ],
             [
              0.8888888888888888,
              "#fdca26"
             ],
             [
              1,
              "#f0f921"
             ]
            ],
            "type": "surface"
           }
          ],
          "table": [
           {
            "cells": {
             "fill": {
              "color": "#EBF0F8"
             },
             "line": {
              "color": "white"
             }
            },
            "header": {
             "fill": {
              "color": "#C8D4E3"
             },
             "line": {
              "color": "white"
             }
            },
            "type": "table"
           }
          ]
         },
         "layout": {
          "annotationdefaults": {
           "arrowcolor": "#2a3f5f",
           "arrowhead": 0,
           "arrowwidth": 1
          },
          "coloraxis": {
           "colorbar": {
            "outlinewidth": 0,
            "ticks": ""
           }
          },
          "colorscale": {
           "diverging": [
            [
             0,
             "#8e0152"
            ],
            [
             0.1,
             "#c51b7d"
            ],
            [
             0.2,
             "#de77ae"
            ],
            [
             0.3,
             "#f1b6da"
            ],
            [
             0.4,
             "#fde0ef"
            ],
            [
             0.5,
             "#f7f7f7"
            ],
            [
             0.6,
             "#e6f5d0"
            ],
            [
             0.7,
             "#b8e186"
            ],
            [
             0.8,
             "#7fbc41"
            ],
            [
             0.9,
             "#4d9221"
            ],
            [
             1,
             "#276419"
            ]
           ],
           "sequential": [
            [
             0,
             "#0d0887"
            ],
            [
             0.1111111111111111,
             "#46039f"
            ],
            [
             0.2222222222222222,
             "#7201a8"
            ],
            [
             0.3333333333333333,
             "#9c179e"
            ],
            [
             0.4444444444444444,
             "#bd3786"
            ],
            [
             0.5555555555555556,
             "#d8576b"
            ],
            [
             0.6666666666666666,
             "#ed7953"
            ],
            [
             0.7777777777777778,
             "#fb9f3a"
            ],
            [
             0.8888888888888888,
             "#fdca26"
            ],
            [
             1,
             "#f0f921"
            ]
           ],
           "sequentialminus": [
            [
             0,
             "#0d0887"
            ],
            [
             0.1111111111111111,
             "#46039f"
            ],
            [
             0.2222222222222222,
             "#7201a8"
            ],
            [
             0.3333333333333333,
             "#9c179e"
            ],
            [
             0.4444444444444444,
             "#bd3786"
            ],
            [
             0.5555555555555556,
             "#d8576b"
            ],
            [
             0.6666666666666666,
             "#ed7953"
            ],
            [
             0.7777777777777778,
             "#fb9f3a"
            ],
            [
             0.8888888888888888,
             "#fdca26"
            ],
            [
             1,
             "#f0f921"
            ]
           ]
          },
          "colorway": [
           "#636efa",
           "#EF553B",
           "#00cc96",
           "#ab63fa",
           "#FFA15A",
           "#19d3f3",
           "#FF6692",
           "#B6E880",
           "#FF97FF",
           "#FECB52"
          ],
          "font": {
           "color": "#2a3f5f"
          },
          "geo": {
           "bgcolor": "white",
           "lakecolor": "white",
           "landcolor": "#E5ECF6",
           "showlakes": true,
           "showland": true,
           "subunitcolor": "white"
          },
          "hoverlabel": {
           "align": "left"
          },
          "hovermode": "closest",
          "mapbox": {
           "style": "light"
          },
          "paper_bgcolor": "white",
          "plot_bgcolor": "#E5ECF6",
          "polar": {
           "angularaxis": {
            "gridcolor": "white",
            "linecolor": "white",
            "ticks": ""
           },
           "bgcolor": "#E5ECF6",
           "radialaxis": {
            "gridcolor": "white",
            "linecolor": "white",
            "ticks": ""
           }
          },
          "scene": {
           "xaxis": {
            "backgroundcolor": "#E5ECF6",
            "gridcolor": "white",
            "gridwidth": 2,
            "linecolor": "white",
            "showbackground": true,
            "ticks": "",
            "zerolinecolor": "white"
           },
           "yaxis": {
            "backgroundcolor": "#E5ECF6",
            "gridcolor": "white",
            "gridwidth": 2,
            "linecolor": "white",
            "showbackground": true,
            "ticks": "",
            "zerolinecolor": "white"
           },
           "zaxis": {
            "backgroundcolor": "#E5ECF6",
            "gridcolor": "white",
            "gridwidth": 2,
            "linecolor": "white",
            "showbackground": true,
            "ticks": "",
            "zerolinecolor": "white"
           }
          },
          "shapedefaults": {
           "line": {
            "color": "#2a3f5f"
           }
          },
          "ternary": {
           "aaxis": {
            "gridcolor": "white",
            "linecolor": "white",
            "ticks": ""
           },
           "baxis": {
            "gridcolor": "white",
            "linecolor": "white",
            "ticks": ""
           },
           "bgcolor": "#E5ECF6",
           "caxis": {
            "gridcolor": "white",
            "linecolor": "white",
            "ticks": ""
           }
          },
          "title": {
           "x": 0.05
          },
          "xaxis": {
           "automargin": true,
           "gridcolor": "white",
           "linecolor": "white",
           "ticks": "",
           "title": {
            "standoff": 15
           },
           "zerolinecolor": "white",
           "zerolinewidth": 2
          },
          "yaxis": {
           "automargin": true,
           "gridcolor": "white",
           "linecolor": "white",
           "ticks": "",
           "title": {
            "standoff": 15
           },
           "zerolinecolor": "white",
           "zerolinewidth": 2
          }
         }
        }
       }
      },
      "text/html": [
       "<div>\n",
       "        \n",
       "        \n",
       "            <div id=\"1a6014c1-df4b-4dd9-92ec-ba99c955f923\" class=\"plotly-graph-div\" style=\"height:525px; width:100%;\"></div>\n",
       "            <script type=\"text/javascript\">\n",
       "                require([\"plotly\"], function(Plotly) {\n",
       "                    window.PLOTLYENV=window.PLOTLYENV || {};\n",
       "                    \n",
       "                if (document.getElementById(\"1a6014c1-df4b-4dd9-92ec-ba99c955f923\")) {\n",
       "                    Plotly.newPlot(\n",
       "                        '1a6014c1-df4b-4dd9-92ec-ba99c955f923',\n",
       "                        [{\"cells\": {\"align\": \"left\", \"values\": [[\"Effectif\", \"Moyenne\", \"M\\u00e9diane\", \"Variance\", \"Min.\", \"Max\"], [18, 59, 54, 265, 35.0, 98.0], [\"-\", 3, 2, 4, 0.0, 7.0], [\"-\", 85, 94, 422, 15.0, 95.0]]}, \"columnwidth\": [15, 15], \"header\": {\"align\": \"left\", \"values\": [\"\", \"Score\", \"Ecart-type\", \"Rang percentile\"]}, \"type\": \"table\"}],\n",
       "                        {\"template\": {\"data\": {\"bar\": [{\"error_x\": {\"color\": \"#2a3f5f\"}, \"error_y\": {\"color\": \"#2a3f5f\"}, \"marker\": {\"line\": {\"color\": \"#E5ECF6\", \"width\": 0.5}}, \"type\": \"bar\"}], \"barpolar\": [{\"marker\": {\"line\": {\"color\": \"#E5ECF6\", \"width\": 0.5}}, \"type\": \"barpolar\"}], \"carpet\": [{\"aaxis\": {\"endlinecolor\": \"#2a3f5f\", \"gridcolor\": \"white\", \"linecolor\": \"white\", \"minorgridcolor\": \"white\", \"startlinecolor\": \"#2a3f5f\"}, \"baxis\": {\"endlinecolor\": \"#2a3f5f\", \"gridcolor\": \"white\", \"linecolor\": \"white\", \"minorgridcolor\": \"white\", \"startlinecolor\": \"#2a3f5f\"}, \"type\": \"carpet\"}], \"choropleth\": [{\"colorbar\": {\"outlinewidth\": 0, \"ticks\": \"\"}, \"type\": \"choropleth\"}], \"contour\": [{\"colorbar\": {\"outlinewidth\": 0, \"ticks\": \"\"}, \"colorscale\": [[0.0, \"#0d0887\"], [0.1111111111111111, \"#46039f\"], [0.2222222222222222, \"#7201a8\"], [0.3333333333333333, \"#9c179e\"], [0.4444444444444444, \"#bd3786\"], [0.5555555555555556, \"#d8576b\"], [0.6666666666666666, \"#ed7953\"], [0.7777777777777778, \"#fb9f3a\"], [0.8888888888888888, \"#fdca26\"], [1.0, \"#f0f921\"]], \"type\": \"contour\"}], \"contourcarpet\": [{\"colorbar\": {\"outlinewidth\": 0, \"ticks\": \"\"}, \"type\": \"contourcarpet\"}], \"heatmap\": [{\"colorbar\": {\"outlinewidth\": 0, \"ticks\": \"\"}, \"colorscale\": [[0.0, \"#0d0887\"], [0.1111111111111111, \"#46039f\"], [0.2222222222222222, \"#7201a8\"], [0.3333333333333333, \"#9c179e\"], [0.4444444444444444, \"#bd3786\"], [0.5555555555555556, \"#d8576b\"], [0.6666666666666666, \"#ed7953\"], [0.7777777777777778, \"#fb9f3a\"], [0.8888888888888888, \"#fdca26\"], [1.0, \"#f0f921\"]], \"type\": \"heatmap\"}], \"heatmapgl\": [{\"colorbar\": {\"outlinewidth\": 0, \"ticks\": \"\"}, \"colorscale\": [[0.0, \"#0d0887\"], [0.1111111111111111, \"#46039f\"], [0.2222222222222222, \"#7201a8\"], [0.3333333333333333, \"#9c179e\"], [0.4444444444444444, \"#bd3786\"], [0.5555555555555556, \"#d8576b\"], [0.6666666666666666, \"#ed7953\"], [0.7777777777777778, \"#fb9f3a\"], [0.8888888888888888, \"#fdca26\"], [1.0, \"#f0f921\"]], \"type\": \"heatmapgl\"}], \"histogram\": [{\"marker\": {\"colorbar\": {\"outlinewidth\": 0, \"ticks\": \"\"}}, \"type\": \"histogram\"}], \"histogram2d\": [{\"colorbar\": {\"outlinewidth\": 0, \"ticks\": \"\"}, \"colorscale\": [[0.0, \"#0d0887\"], [0.1111111111111111, \"#46039f\"], [0.2222222222222222, \"#7201a8\"], [0.3333333333333333, \"#9c179e\"], [0.4444444444444444, \"#bd3786\"], [0.5555555555555556, \"#d8576b\"], [0.6666666666666666, \"#ed7953\"], [0.7777777777777778, \"#fb9f3a\"], [0.8888888888888888, \"#fdca26\"], [1.0, \"#f0f921\"]], \"type\": \"histogram2d\"}], \"histogram2dcontour\": [{\"colorbar\": {\"outlinewidth\": 0, \"ticks\": \"\"}, \"colorscale\": [[0.0, \"#0d0887\"], [0.1111111111111111, \"#46039f\"], [0.2222222222222222, \"#7201a8\"], [0.3333333333333333, \"#9c179e\"], [0.4444444444444444, \"#bd3786\"], [0.5555555555555556, \"#d8576b\"], [0.6666666666666666, \"#ed7953\"], [0.7777777777777778, \"#fb9f3a\"], [0.8888888888888888, \"#fdca26\"], [1.0, \"#f0f921\"]], \"type\": \"histogram2dcontour\"}], \"mesh3d\": [{\"colorbar\": {\"outlinewidth\": 0, \"ticks\": \"\"}, \"type\": \"mesh3d\"}], \"parcoords\": [{\"line\": {\"colorbar\": {\"outlinewidth\": 0, \"ticks\": \"\"}}, \"type\": \"parcoords\"}], \"pie\": [{\"automargin\": true, \"type\": \"pie\"}], \"scatter\": [{\"marker\": {\"colorbar\": {\"outlinewidth\": 0, \"ticks\": \"\"}}, \"type\": \"scatter\"}], \"scatter3d\": [{\"line\": {\"colorbar\": {\"outlinewidth\": 0, \"ticks\": \"\"}}, \"marker\": {\"colorbar\": {\"outlinewidth\": 0, \"ticks\": \"\"}}, \"type\": \"scatter3d\"}], \"scattercarpet\": [{\"marker\": {\"colorbar\": {\"outlinewidth\": 0, \"ticks\": \"\"}}, \"type\": \"scattercarpet\"}], \"scattergeo\": [{\"marker\": {\"colorbar\": {\"outlinewidth\": 0, \"ticks\": \"\"}}, \"type\": \"scattergeo\"}], \"scattergl\": [{\"marker\": {\"colorbar\": {\"outlinewidth\": 0, \"ticks\": \"\"}}, \"type\": \"scattergl\"}], \"scattermapbox\": [{\"marker\": {\"colorbar\": {\"outlinewidth\": 0, \"ticks\": \"\"}}, \"type\": \"scattermapbox\"}], \"scatterpolar\": [{\"marker\": {\"colorbar\": {\"outlinewidth\": 0, \"ticks\": \"\"}}, \"type\": \"scatterpolar\"}], \"scatterpolargl\": [{\"marker\": {\"colorbar\": {\"outlinewidth\": 0, \"ticks\": \"\"}}, \"type\": \"scatterpolargl\"}], \"scatterternary\": [{\"marker\": {\"colorbar\": {\"outlinewidth\": 0, \"ticks\": \"\"}}, \"type\": \"scatterternary\"}], \"surface\": [{\"colorbar\": {\"outlinewidth\": 0, \"ticks\": \"\"}, \"colorscale\": [[0.0, \"#0d0887\"], [0.1111111111111111, \"#46039f\"], [0.2222222222222222, \"#7201a8\"], [0.3333333333333333, \"#9c179e\"], [0.4444444444444444, \"#bd3786\"], [0.5555555555555556, \"#d8576b\"], [0.6666666666666666, \"#ed7953\"], [0.7777777777777778, \"#fb9f3a\"], [0.8888888888888888, \"#fdca26\"], [1.0, \"#f0f921\"]], \"type\": \"surface\"}], \"table\": [{\"cells\": {\"fill\": {\"color\": \"#EBF0F8\"}, \"line\": {\"color\": \"white\"}}, \"header\": {\"fill\": {\"color\": \"#C8D4E3\"}, \"line\": {\"color\": \"white\"}}, \"type\": \"table\"}]}, \"layout\": {\"annotationdefaults\": {\"arrowcolor\": \"#2a3f5f\", \"arrowhead\": 0, \"arrowwidth\": 1}, \"coloraxis\": {\"colorbar\": {\"outlinewidth\": 0, \"ticks\": \"\"}}, \"colorscale\": {\"diverging\": [[0, \"#8e0152\"], [0.1, \"#c51b7d\"], [0.2, \"#de77ae\"], [0.3, \"#f1b6da\"], [0.4, \"#fde0ef\"], [0.5, \"#f7f7f7\"], [0.6, \"#e6f5d0\"], [0.7, \"#b8e186\"], [0.8, \"#7fbc41\"], [0.9, \"#4d9221\"], [1, \"#276419\"]], \"sequential\": [[0.0, \"#0d0887\"], [0.1111111111111111, \"#46039f\"], [0.2222222222222222, \"#7201a8\"], [0.3333333333333333, \"#9c179e\"], [0.4444444444444444, \"#bd3786\"], [0.5555555555555556, \"#d8576b\"], [0.6666666666666666, \"#ed7953\"], [0.7777777777777778, \"#fb9f3a\"], [0.8888888888888888, \"#fdca26\"], [1.0, \"#f0f921\"]], \"sequentialminus\": [[0.0, \"#0d0887\"], [0.1111111111111111, \"#46039f\"], [0.2222222222222222, \"#7201a8\"], [0.3333333333333333, \"#9c179e\"], [0.4444444444444444, \"#bd3786\"], [0.5555555555555556, \"#d8576b\"], [0.6666666666666666, \"#ed7953\"], [0.7777777777777778, \"#fb9f3a\"], [0.8888888888888888, \"#fdca26\"], [1.0, \"#f0f921\"]]}, \"colorway\": [\"#636efa\", \"#EF553B\", \"#00cc96\", \"#ab63fa\", \"#FFA15A\", \"#19d3f3\", \"#FF6692\", \"#B6E880\", \"#FF97FF\", \"#FECB52\"], \"font\": {\"color\": \"#2a3f5f\"}, \"geo\": {\"bgcolor\": \"white\", \"lakecolor\": \"white\", \"landcolor\": \"#E5ECF6\", \"showlakes\": true, \"showland\": true, \"subunitcolor\": \"white\"}, \"hoverlabel\": {\"align\": \"left\"}, \"hovermode\": \"closest\", \"mapbox\": {\"style\": \"light\"}, \"paper_bgcolor\": \"white\", \"plot_bgcolor\": \"#E5ECF6\", \"polar\": {\"angularaxis\": {\"gridcolor\": \"white\", \"linecolor\": \"white\", \"ticks\": \"\"}, \"bgcolor\": \"#E5ECF6\", \"radialaxis\": {\"gridcolor\": \"white\", \"linecolor\": \"white\", \"ticks\": \"\"}}, \"scene\": {\"xaxis\": {\"backgroundcolor\": \"#E5ECF6\", \"gridcolor\": \"white\", \"gridwidth\": 2, \"linecolor\": \"white\", \"showbackground\": true, \"ticks\": \"\", \"zerolinecolor\": \"white\"}, \"yaxis\": {\"backgroundcolor\": \"#E5ECF6\", \"gridcolor\": \"white\", \"gridwidth\": 2, \"linecolor\": \"white\", \"showbackground\": true, \"ticks\": \"\", \"zerolinecolor\": \"white\"}, \"zaxis\": {\"backgroundcolor\": \"#E5ECF6\", \"gridcolor\": \"white\", \"gridwidth\": 2, \"linecolor\": \"white\", \"showbackground\": true, \"ticks\": \"\", \"zerolinecolor\": \"white\"}}, \"shapedefaults\": {\"line\": {\"color\": \"#2a3f5f\"}}, \"ternary\": {\"aaxis\": {\"gridcolor\": \"white\", \"linecolor\": \"white\", \"ticks\": \"\"}, \"baxis\": {\"gridcolor\": \"white\", \"linecolor\": \"white\", \"ticks\": \"\"}, \"bgcolor\": \"#E5ECF6\", \"caxis\": {\"gridcolor\": \"white\", \"linecolor\": \"white\", \"ticks\": \"\"}}, \"title\": {\"x\": 0.05}, \"xaxis\": {\"automargin\": true, \"gridcolor\": \"white\", \"linecolor\": \"white\", \"ticks\": \"\", \"title\": {\"standoff\": 15}, \"zerolinecolor\": \"white\", \"zerolinewidth\": 2}, \"yaxis\": {\"automargin\": true, \"gridcolor\": \"white\", \"linecolor\": \"white\", \"ticks\": \"\", \"title\": {\"standoff\": 15}, \"zerolinecolor\": \"white\", \"zerolinewidth\": 2}}}},\n",
       "                        {\"responsive\": true}\n",
       "                    ).then(function(){\n",
       "                            \n",
       "var gd = document.getElementById('1a6014c1-df4b-4dd9-92ec-ba99c955f923');\n",
       "var x = new MutationObserver(function (mutations, observer) {{\n",
       "        var display = window.getComputedStyle(gd).display;\n",
       "        if (!display || display === 'none') {{\n",
       "            console.log([gd, 'removed!']);\n",
       "            Plotly.purge(gd);\n",
       "            observer.disconnect();\n",
       "        }}\n",
       "}});\n",
       "\n",
       "// Listen for the removal of the full notebook cells\n",
       "var notebookContainer = gd.closest('#notebook-container');\n",
       "if (notebookContainer) {{\n",
       "    x.observe(notebookContainer, {childList: true});\n",
       "}}\n",
       "\n",
       "// Listen for the clearing of the current output cell\n",
       "var outputEl = gd.closest('.output');\n",
       "if (outputEl) {{\n",
       "    x.observe(outputEl, {childList: true});\n",
       "}}\n",
       "\n",
       "                        })\n",
       "                };\n",
       "                });\n",
       "            </script>\n",
       "        </div>"
      ]
     },
     "metadata": {},
     "output_type": "display_data"
    }
   ],
   "source": [
    "display(HTML(\"<h4>2. Temps de lecture</h4>\"))\n",
    "\n",
    "df_deno=df_str[df_str[\"Temps de lecture\"].notna()&(df_str[\"Temps de lecture\"]!=0)]\n",
    "nb = len(df_deno)\n",
    "if nb != 0:\n",
    "    nb_avg = round(df_deno[\"Temps de lecture\"].mean())\n",
    "    nb_med = round(df_deno[\"Temps de lecture\"].median())\n",
    "    nb_var = round(df_deno[\"Temps de lecture\"].var())\n",
    "    nb_min = df_deno[\"Temps de lecture\"].min()\n",
    "    nb_max = df_deno[\"Temps de lecture\"].max()\n",
    "    #\n",
    "    ec_avg = round(df_deno[\"Ecart type - Temps de lecture\"].mean())\n",
    "    ec_med = round(df_deno[\"Ecart type - Temps de lecture\"].median())\n",
    "    ec_var = round(df_deno[\"Ecart type - Temps de lecture\"].var())\n",
    "    ec_min = df_deno[\"Ecart type - Temps de lecture\"].min()\n",
    "    ec_max = df_deno[\"Ecart type - Temps de lecture\"].max()\n",
    "    #\n",
    "    rp_avg = round(df_deno[\"Rang percentile - Temps de lecture\"].mean())\n",
    "    rp_med = round(df_deno[\"Rang percentile - Temps de lecture\"].median())\n",
    "    rp_var = round(df_deno[\"Rang percentile - Temps de lecture\"].var())\n",
    "    rp_min = df_deno[\"Rang percentile - Temps de lecture\"].min()\n",
    "    rp_max = df_deno[\"Rang percentile - Temps de lecture\"].max()\n",
    "else:\n",
    "    nb_avg = nb_med = nb_var = nb_min = nb_max = ec_avg = ec_med = ec_var = ec_min = ec_max = rp_avg= rp_med = rp_var = rp_min = rp_max =0\n",
    "columns = ['',\"Score\", \"Ecart-type\", \"Rang percentile\"]\n",
    "\n",
    "myarr = [['Effectif', 'Moyenne', 'Médiane', 'Variance', 'Min.', 'Max']]\n",
    "myarr.append([nb, nb_avg, nb_med, nb_var, nb_min, nb_max])\n",
    "myarr.append(['-',ec_avg, ec_med, ec_var, ec_min, ec_max])\n",
    "myarr.append(['-',rp_avg, rp_med, rp_var, rp_min, rp_max])\n",
    "\n",
    "\n",
    "\n",
    "tab =  go.Table(\n",
    "                columnwidth = [15,15],\n",
    "                header=dict(values=list(columns),\n",
    "                align='left'),\n",
    "                cells=dict(values= myarr,align='left'))\n",
    "fig = go.Figure(data=tab)\n",
    "fig.show()"
   ]
  },
  {
   "cell_type": "code",
   "execution_count": 22,
   "metadata": {
    "ExecuteTime": {
     "end_time": "2020-06-15T07:48:42.252331Z",
     "start_time": "2020-06-15T07:48:42.123041Z"
    }
   },
   "outputs": [
    {
     "data": {
      "text/html": [
       "<h4>3. Temps interférence</h4>"
      ],
      "text/plain": [
       "<IPython.core.display.HTML object>"
      ]
     },
     "metadata": {},
     "output_type": "display_data"
    },
    {
     "data": {
      "application/vnd.plotly.v1+json": {
       "config": {
        "plotlyServerURL": "https://plot.ly"
       },
       "data": [
        {
         "cells": {
          "align": "left",
          "values": [
           [
            "Effectif",
            "Moyenne",
            "Médiane",
            "Variance",
            "Min.",
            "Max"
           ],
           [
            18,
            114,
            112,
            724,
            73,
            172
           ],
           [
            "-",
            1,
            1,
            2,
            -1.05,
            4.44
           ],
           [
            "-",
            70,
            82,
            829,
            13,
            95
           ]
          ]
         },
         "columnwidth": [
          15,
          15
         ],
         "header": {
          "align": "left",
          "values": [
           "",
           "Score",
           "Ecart-type",
           "Rang percentile"
          ]
         },
         "type": "table"
        }
       ],
       "layout": {
        "template": {
         "data": {
          "bar": [
           {
            "error_x": {
             "color": "#2a3f5f"
            },
            "error_y": {
             "color": "#2a3f5f"
            },
            "marker": {
             "line": {
              "color": "#E5ECF6",
              "width": 0.5
             }
            },
            "type": "bar"
           }
          ],
          "barpolar": [
           {
            "marker": {
             "line": {
              "color": "#E5ECF6",
              "width": 0.5
             }
            },
            "type": "barpolar"
           }
          ],
          "carpet": [
           {
            "aaxis": {
             "endlinecolor": "#2a3f5f",
             "gridcolor": "white",
             "linecolor": "white",
             "minorgridcolor": "white",
             "startlinecolor": "#2a3f5f"
            },
            "baxis": {
             "endlinecolor": "#2a3f5f",
             "gridcolor": "white",
             "linecolor": "white",
             "minorgridcolor": "white",
             "startlinecolor": "#2a3f5f"
            },
            "type": "carpet"
           }
          ],
          "choropleth": [
           {
            "colorbar": {
             "outlinewidth": 0,
             "ticks": ""
            },
            "type": "choropleth"
           }
          ],
          "contour": [
           {
            "colorbar": {
             "outlinewidth": 0,
             "ticks": ""
            },
            "colorscale": [
             [
              0,
              "#0d0887"
             ],
             [
              0.1111111111111111,
              "#46039f"
             ],
             [
              0.2222222222222222,
              "#7201a8"
             ],
             [
              0.3333333333333333,
              "#9c179e"
             ],
             [
              0.4444444444444444,
              "#bd3786"
             ],
             [
              0.5555555555555556,
              "#d8576b"
             ],
             [
              0.6666666666666666,
              "#ed7953"
             ],
             [
              0.7777777777777778,
              "#fb9f3a"
             ],
             [
              0.8888888888888888,
              "#fdca26"
             ],
             [
              1,
              "#f0f921"
             ]
            ],
            "type": "contour"
           }
          ],
          "contourcarpet": [
           {
            "colorbar": {
             "outlinewidth": 0,
             "ticks": ""
            },
            "type": "contourcarpet"
           }
          ],
          "heatmap": [
           {
            "colorbar": {
             "outlinewidth": 0,
             "ticks": ""
            },
            "colorscale": [
             [
              0,
              "#0d0887"
             ],
             [
              0.1111111111111111,
              "#46039f"
             ],
             [
              0.2222222222222222,
              "#7201a8"
             ],
             [
              0.3333333333333333,
              "#9c179e"
             ],
             [
              0.4444444444444444,
              "#bd3786"
             ],
             [
              0.5555555555555556,
              "#d8576b"
             ],
             [
              0.6666666666666666,
              "#ed7953"
             ],
             [
              0.7777777777777778,
              "#fb9f3a"
             ],
             [
              0.8888888888888888,
              "#fdca26"
             ],
             [
              1,
              "#f0f921"
             ]
            ],
            "type": "heatmap"
           }
          ],
          "heatmapgl": [
           {
            "colorbar": {
             "outlinewidth": 0,
             "ticks": ""
            },
            "colorscale": [
             [
              0,
              "#0d0887"
             ],
             [
              0.1111111111111111,
              "#46039f"
             ],
             [
              0.2222222222222222,
              "#7201a8"
             ],
             [
              0.3333333333333333,
              "#9c179e"
             ],
             [
              0.4444444444444444,
              "#bd3786"
             ],
             [
              0.5555555555555556,
              "#d8576b"
             ],
             [
              0.6666666666666666,
              "#ed7953"
             ],
             [
              0.7777777777777778,
              "#fb9f3a"
             ],
             [
              0.8888888888888888,
              "#fdca26"
             ],
             [
              1,
              "#f0f921"
             ]
            ],
            "type": "heatmapgl"
           }
          ],
          "histogram": [
           {
            "marker": {
             "colorbar": {
              "outlinewidth": 0,
              "ticks": ""
             }
            },
            "type": "histogram"
           }
          ],
          "histogram2d": [
           {
            "colorbar": {
             "outlinewidth": 0,
             "ticks": ""
            },
            "colorscale": [
             [
              0,
              "#0d0887"
             ],
             [
              0.1111111111111111,
              "#46039f"
             ],
             [
              0.2222222222222222,
              "#7201a8"
             ],
             [
              0.3333333333333333,
              "#9c179e"
             ],
             [
              0.4444444444444444,
              "#bd3786"
             ],
             [
              0.5555555555555556,
              "#d8576b"
             ],
             [
              0.6666666666666666,
              "#ed7953"
             ],
             [
              0.7777777777777778,
              "#fb9f3a"
             ],
             [
              0.8888888888888888,
              "#fdca26"
             ],
             [
              1,
              "#f0f921"
             ]
            ],
            "type": "histogram2d"
           }
          ],
          "histogram2dcontour": [
           {
            "colorbar": {
             "outlinewidth": 0,
             "ticks": ""
            },
            "colorscale": [
             [
              0,
              "#0d0887"
             ],
             [
              0.1111111111111111,
              "#46039f"
             ],
             [
              0.2222222222222222,
              "#7201a8"
             ],
             [
              0.3333333333333333,
              "#9c179e"
             ],
             [
              0.4444444444444444,
              "#bd3786"
             ],
             [
              0.5555555555555556,
              "#d8576b"
             ],
             [
              0.6666666666666666,
              "#ed7953"
             ],
             [
              0.7777777777777778,
              "#fb9f3a"
             ],
             [
              0.8888888888888888,
              "#fdca26"
             ],
             [
              1,
              "#f0f921"
             ]
            ],
            "type": "histogram2dcontour"
           }
          ],
          "mesh3d": [
           {
            "colorbar": {
             "outlinewidth": 0,
             "ticks": ""
            },
            "type": "mesh3d"
           }
          ],
          "parcoords": [
           {
            "line": {
             "colorbar": {
              "outlinewidth": 0,
              "ticks": ""
             }
            },
            "type": "parcoords"
           }
          ],
          "pie": [
           {
            "automargin": true,
            "type": "pie"
           }
          ],
          "scatter": [
           {
            "marker": {
             "colorbar": {
              "outlinewidth": 0,
              "ticks": ""
             }
            },
            "type": "scatter"
           }
          ],
          "scatter3d": [
           {
            "line": {
             "colorbar": {
              "outlinewidth": 0,
              "ticks": ""
             }
            },
            "marker": {
             "colorbar": {
              "outlinewidth": 0,
              "ticks": ""
             }
            },
            "type": "scatter3d"
           }
          ],
          "scattercarpet": [
           {
            "marker": {
             "colorbar": {
              "outlinewidth": 0,
              "ticks": ""
             }
            },
            "type": "scattercarpet"
           }
          ],
          "scattergeo": [
           {
            "marker": {
             "colorbar": {
              "outlinewidth": 0,
              "ticks": ""
             }
            },
            "type": "scattergeo"
           }
          ],
          "scattergl": [
           {
            "marker": {
             "colorbar": {
              "outlinewidth": 0,
              "ticks": ""
             }
            },
            "type": "scattergl"
           }
          ],
          "scattermapbox": [
           {
            "marker": {
             "colorbar": {
              "outlinewidth": 0,
              "ticks": ""
             }
            },
            "type": "scattermapbox"
           }
          ],
          "scatterpolar": [
           {
            "marker": {
             "colorbar": {
              "outlinewidth": 0,
              "ticks": ""
             }
            },
            "type": "scatterpolar"
           }
          ],
          "scatterpolargl": [
           {
            "marker": {
             "colorbar": {
              "outlinewidth": 0,
              "ticks": ""
             }
            },
            "type": "scatterpolargl"
           }
          ],
          "scatterternary": [
           {
            "marker": {
             "colorbar": {
              "outlinewidth": 0,
              "ticks": ""
             }
            },
            "type": "scatterternary"
           }
          ],
          "surface": [
           {
            "colorbar": {
             "outlinewidth": 0,
             "ticks": ""
            },
            "colorscale": [
             [
              0,
              "#0d0887"
             ],
             [
              0.1111111111111111,
              "#46039f"
             ],
             [
              0.2222222222222222,
              "#7201a8"
             ],
             [
              0.3333333333333333,
              "#9c179e"
             ],
             [
              0.4444444444444444,
              "#bd3786"
             ],
             [
              0.5555555555555556,
              "#d8576b"
             ],
             [
              0.6666666666666666,
              "#ed7953"
             ],
             [
              0.7777777777777778,
              "#fb9f3a"
             ],
             [
              0.8888888888888888,
              "#fdca26"
             ],
             [
              1,
              "#f0f921"
             ]
            ],
            "type": "surface"
           }
          ],
          "table": [
           {
            "cells": {
             "fill": {
              "color": "#EBF0F8"
             },
             "line": {
              "color": "white"
             }
            },
            "header": {
             "fill": {
              "color": "#C8D4E3"
             },
             "line": {
              "color": "white"
             }
            },
            "type": "table"
           }
          ]
         },
         "layout": {
          "annotationdefaults": {
           "arrowcolor": "#2a3f5f",
           "arrowhead": 0,
           "arrowwidth": 1
          },
          "coloraxis": {
           "colorbar": {
            "outlinewidth": 0,
            "ticks": ""
           }
          },
          "colorscale": {
           "diverging": [
            [
             0,
             "#8e0152"
            ],
            [
             0.1,
             "#c51b7d"
            ],
            [
             0.2,
             "#de77ae"
            ],
            [
             0.3,
             "#f1b6da"
            ],
            [
             0.4,
             "#fde0ef"
            ],
            [
             0.5,
             "#f7f7f7"
            ],
            [
             0.6,
             "#e6f5d0"
            ],
            [
             0.7,
             "#b8e186"
            ],
            [
             0.8,
             "#7fbc41"
            ],
            [
             0.9,
             "#4d9221"
            ],
            [
             1,
             "#276419"
            ]
           ],
           "sequential": [
            [
             0,
             "#0d0887"
            ],
            [
             0.1111111111111111,
             "#46039f"
            ],
            [
             0.2222222222222222,
             "#7201a8"
            ],
            [
             0.3333333333333333,
             "#9c179e"
            ],
            [
             0.4444444444444444,
             "#bd3786"
            ],
            [
             0.5555555555555556,
             "#d8576b"
            ],
            [
             0.6666666666666666,
             "#ed7953"
            ],
            [
             0.7777777777777778,
             "#fb9f3a"
            ],
            [
             0.8888888888888888,
             "#fdca26"
            ],
            [
             1,
             "#f0f921"
            ]
           ],
           "sequentialminus": [
            [
             0,
             "#0d0887"
            ],
            [
             0.1111111111111111,
             "#46039f"
            ],
            [
             0.2222222222222222,
             "#7201a8"
            ],
            [
             0.3333333333333333,
             "#9c179e"
            ],
            [
             0.4444444444444444,
             "#bd3786"
            ],
            [
             0.5555555555555556,
             "#d8576b"
            ],
            [
             0.6666666666666666,
             "#ed7953"
            ],
            [
             0.7777777777777778,
             "#fb9f3a"
            ],
            [
             0.8888888888888888,
             "#fdca26"
            ],
            [
             1,
             "#f0f921"
            ]
           ]
          },
          "colorway": [
           "#636efa",
           "#EF553B",
           "#00cc96",
           "#ab63fa",
           "#FFA15A",
           "#19d3f3",
           "#FF6692",
           "#B6E880",
           "#FF97FF",
           "#FECB52"
          ],
          "font": {
           "color": "#2a3f5f"
          },
          "geo": {
           "bgcolor": "white",
           "lakecolor": "white",
           "landcolor": "#E5ECF6",
           "showlakes": true,
           "showland": true,
           "subunitcolor": "white"
          },
          "hoverlabel": {
           "align": "left"
          },
          "hovermode": "closest",
          "mapbox": {
           "style": "light"
          },
          "paper_bgcolor": "white",
          "plot_bgcolor": "#E5ECF6",
          "polar": {
           "angularaxis": {
            "gridcolor": "white",
            "linecolor": "white",
            "ticks": ""
           },
           "bgcolor": "#E5ECF6",
           "radialaxis": {
            "gridcolor": "white",
            "linecolor": "white",
            "ticks": ""
           }
          },
          "scene": {
           "xaxis": {
            "backgroundcolor": "#E5ECF6",
            "gridcolor": "white",
            "gridwidth": 2,
            "linecolor": "white",
            "showbackground": true,
            "ticks": "",
            "zerolinecolor": "white"
           },
           "yaxis": {
            "backgroundcolor": "#E5ECF6",
            "gridcolor": "white",
            "gridwidth": 2,
            "linecolor": "white",
            "showbackground": true,
            "ticks": "",
            "zerolinecolor": "white"
           },
           "zaxis": {
            "backgroundcolor": "#E5ECF6",
            "gridcolor": "white",
            "gridwidth": 2,
            "linecolor": "white",
            "showbackground": true,
            "ticks": "",
            "zerolinecolor": "white"
           }
          },
          "shapedefaults": {
           "line": {
            "color": "#2a3f5f"
           }
          },
          "ternary": {
           "aaxis": {
            "gridcolor": "white",
            "linecolor": "white",
            "ticks": ""
           },
           "baxis": {
            "gridcolor": "white",
            "linecolor": "white",
            "ticks": ""
           },
           "bgcolor": "#E5ECF6",
           "caxis": {
            "gridcolor": "white",
            "linecolor": "white",
            "ticks": ""
           }
          },
          "title": {
           "x": 0.05
          },
          "xaxis": {
           "automargin": true,
           "gridcolor": "white",
           "linecolor": "white",
           "ticks": "",
           "title": {
            "standoff": 15
           },
           "zerolinecolor": "white",
           "zerolinewidth": 2
          },
          "yaxis": {
           "automargin": true,
           "gridcolor": "white",
           "linecolor": "white",
           "ticks": "",
           "title": {
            "standoff": 15
           },
           "zerolinecolor": "white",
           "zerolinewidth": 2
          }
         }
        }
       }
      },
      "text/html": [
       "<div>\n",
       "        \n",
       "        \n",
       "            <div id=\"13b9ee25-3fea-4d71-8861-9931564f91f2\" class=\"plotly-graph-div\" style=\"height:525px; width:100%;\"></div>\n",
       "            <script type=\"text/javascript\">\n",
       "                require([\"plotly\"], function(Plotly) {\n",
       "                    window.PLOTLYENV=window.PLOTLYENV || {};\n",
       "                    \n",
       "                if (document.getElementById(\"13b9ee25-3fea-4d71-8861-9931564f91f2\")) {\n",
       "                    Plotly.newPlot(\n",
       "                        '13b9ee25-3fea-4d71-8861-9931564f91f2',\n",
       "                        [{\"cells\": {\"align\": \"left\", \"values\": [[\"Effectif\", \"Moyenne\", \"M\\u00e9diane\", \"Variance\", \"Min.\", \"Max\"], [18, 114, 112, 724, 73.0, 172.0], [\"-\", 1, 1, 2, -1.05, 4.44], [\"-\", 70, 82, 829, 13.0, 95.0]]}, \"columnwidth\": [15, 15], \"header\": {\"align\": \"left\", \"values\": [\"\", \"Score\", \"Ecart-type\", \"Rang percentile\"]}, \"type\": \"table\"}],\n",
       "                        {\"template\": {\"data\": {\"bar\": [{\"error_x\": {\"color\": \"#2a3f5f\"}, \"error_y\": {\"color\": \"#2a3f5f\"}, \"marker\": {\"line\": {\"color\": \"#E5ECF6\", \"width\": 0.5}}, \"type\": \"bar\"}], \"barpolar\": [{\"marker\": {\"line\": {\"color\": \"#E5ECF6\", \"width\": 0.5}}, \"type\": \"barpolar\"}], \"carpet\": [{\"aaxis\": {\"endlinecolor\": \"#2a3f5f\", \"gridcolor\": \"white\", \"linecolor\": \"white\", \"minorgridcolor\": \"white\", \"startlinecolor\": \"#2a3f5f\"}, \"baxis\": {\"endlinecolor\": \"#2a3f5f\", \"gridcolor\": \"white\", \"linecolor\": \"white\", \"minorgridcolor\": \"white\", \"startlinecolor\": \"#2a3f5f\"}, \"type\": \"carpet\"}], \"choropleth\": [{\"colorbar\": {\"outlinewidth\": 0, \"ticks\": \"\"}, \"type\": \"choropleth\"}], \"contour\": [{\"colorbar\": {\"outlinewidth\": 0, \"ticks\": \"\"}, \"colorscale\": [[0.0, \"#0d0887\"], [0.1111111111111111, \"#46039f\"], [0.2222222222222222, \"#7201a8\"], [0.3333333333333333, \"#9c179e\"], [0.4444444444444444, \"#bd3786\"], [0.5555555555555556, \"#d8576b\"], [0.6666666666666666, \"#ed7953\"], [0.7777777777777778, \"#fb9f3a\"], [0.8888888888888888, \"#fdca26\"], [1.0, \"#f0f921\"]], \"type\": \"contour\"}], \"contourcarpet\": [{\"colorbar\": {\"outlinewidth\": 0, \"ticks\": \"\"}, \"type\": \"contourcarpet\"}], \"heatmap\": [{\"colorbar\": {\"outlinewidth\": 0, \"ticks\": \"\"}, \"colorscale\": [[0.0, \"#0d0887\"], [0.1111111111111111, \"#46039f\"], [0.2222222222222222, \"#7201a8\"], [0.3333333333333333, \"#9c179e\"], [0.4444444444444444, \"#bd3786\"], [0.5555555555555556, \"#d8576b\"], [0.6666666666666666, \"#ed7953\"], [0.7777777777777778, \"#fb9f3a\"], [0.8888888888888888, \"#fdca26\"], [1.0, \"#f0f921\"]], \"type\": \"heatmap\"}], \"heatmapgl\": [{\"colorbar\": {\"outlinewidth\": 0, \"ticks\": \"\"}, \"colorscale\": [[0.0, \"#0d0887\"], [0.1111111111111111, \"#46039f\"], [0.2222222222222222, \"#7201a8\"], [0.3333333333333333, \"#9c179e\"], [0.4444444444444444, \"#bd3786\"], [0.5555555555555556, \"#d8576b\"], [0.6666666666666666, \"#ed7953\"], [0.7777777777777778, \"#fb9f3a\"], [0.8888888888888888, \"#fdca26\"], [1.0, \"#f0f921\"]], \"type\": \"heatmapgl\"}], \"histogram\": [{\"marker\": {\"colorbar\": {\"outlinewidth\": 0, \"ticks\": \"\"}}, \"type\": \"histogram\"}], \"histogram2d\": [{\"colorbar\": {\"outlinewidth\": 0, \"ticks\": \"\"}, \"colorscale\": [[0.0, \"#0d0887\"], [0.1111111111111111, \"#46039f\"], [0.2222222222222222, \"#7201a8\"], [0.3333333333333333, \"#9c179e\"], [0.4444444444444444, \"#bd3786\"], [0.5555555555555556, \"#d8576b\"], [0.6666666666666666, \"#ed7953\"], [0.7777777777777778, \"#fb9f3a\"], [0.8888888888888888, \"#fdca26\"], [1.0, \"#f0f921\"]], \"type\": \"histogram2d\"}], \"histogram2dcontour\": [{\"colorbar\": {\"outlinewidth\": 0, \"ticks\": \"\"}, \"colorscale\": [[0.0, \"#0d0887\"], [0.1111111111111111, \"#46039f\"], [0.2222222222222222, \"#7201a8\"], [0.3333333333333333, \"#9c179e\"], [0.4444444444444444, \"#bd3786\"], [0.5555555555555556, \"#d8576b\"], [0.6666666666666666, \"#ed7953\"], [0.7777777777777778, \"#fb9f3a\"], [0.8888888888888888, \"#fdca26\"], [1.0, \"#f0f921\"]], \"type\": \"histogram2dcontour\"}], \"mesh3d\": [{\"colorbar\": {\"outlinewidth\": 0, \"ticks\": \"\"}, \"type\": \"mesh3d\"}], \"parcoords\": [{\"line\": {\"colorbar\": {\"outlinewidth\": 0, \"ticks\": \"\"}}, \"type\": \"parcoords\"}], \"pie\": [{\"automargin\": true, \"type\": \"pie\"}], \"scatter\": [{\"marker\": {\"colorbar\": {\"outlinewidth\": 0, \"ticks\": \"\"}}, \"type\": \"scatter\"}], \"scatter3d\": [{\"line\": {\"colorbar\": {\"outlinewidth\": 0, \"ticks\": \"\"}}, \"marker\": {\"colorbar\": {\"outlinewidth\": 0, \"ticks\": \"\"}}, \"type\": \"scatter3d\"}], \"scattercarpet\": [{\"marker\": {\"colorbar\": {\"outlinewidth\": 0, \"ticks\": \"\"}}, \"type\": \"scattercarpet\"}], \"scattergeo\": [{\"marker\": {\"colorbar\": {\"outlinewidth\": 0, \"ticks\": \"\"}}, \"type\": \"scattergeo\"}], \"scattergl\": [{\"marker\": {\"colorbar\": {\"outlinewidth\": 0, \"ticks\": \"\"}}, \"type\": \"scattergl\"}], \"scattermapbox\": [{\"marker\": {\"colorbar\": {\"outlinewidth\": 0, \"ticks\": \"\"}}, \"type\": \"scattermapbox\"}], \"scatterpolar\": [{\"marker\": {\"colorbar\": {\"outlinewidth\": 0, \"ticks\": \"\"}}, \"type\": \"scatterpolar\"}], \"scatterpolargl\": [{\"marker\": {\"colorbar\": {\"outlinewidth\": 0, \"ticks\": \"\"}}, \"type\": \"scatterpolargl\"}], \"scatterternary\": [{\"marker\": {\"colorbar\": {\"outlinewidth\": 0, \"ticks\": \"\"}}, \"type\": \"scatterternary\"}], \"surface\": [{\"colorbar\": {\"outlinewidth\": 0, \"ticks\": \"\"}, \"colorscale\": [[0.0, \"#0d0887\"], [0.1111111111111111, \"#46039f\"], [0.2222222222222222, \"#7201a8\"], [0.3333333333333333, \"#9c179e\"], [0.4444444444444444, \"#bd3786\"], [0.5555555555555556, \"#d8576b\"], [0.6666666666666666, \"#ed7953\"], [0.7777777777777778, \"#fb9f3a\"], [0.8888888888888888, \"#fdca26\"], [1.0, \"#f0f921\"]], \"type\": \"surface\"}], \"table\": [{\"cells\": {\"fill\": {\"color\": \"#EBF0F8\"}, \"line\": {\"color\": \"white\"}}, \"header\": {\"fill\": {\"color\": \"#C8D4E3\"}, \"line\": {\"color\": \"white\"}}, \"type\": \"table\"}]}, \"layout\": {\"annotationdefaults\": {\"arrowcolor\": \"#2a3f5f\", \"arrowhead\": 0, \"arrowwidth\": 1}, \"coloraxis\": {\"colorbar\": {\"outlinewidth\": 0, \"ticks\": \"\"}}, \"colorscale\": {\"diverging\": [[0, \"#8e0152\"], [0.1, \"#c51b7d\"], [0.2, \"#de77ae\"], [0.3, \"#f1b6da\"], [0.4, \"#fde0ef\"], [0.5, \"#f7f7f7\"], [0.6, \"#e6f5d0\"], [0.7, \"#b8e186\"], [0.8, \"#7fbc41\"], [0.9, \"#4d9221\"], [1, \"#276419\"]], \"sequential\": [[0.0, \"#0d0887\"], [0.1111111111111111, \"#46039f\"], [0.2222222222222222, \"#7201a8\"], [0.3333333333333333, \"#9c179e\"], [0.4444444444444444, \"#bd3786\"], [0.5555555555555556, \"#d8576b\"], [0.6666666666666666, \"#ed7953\"], [0.7777777777777778, \"#fb9f3a\"], [0.8888888888888888, \"#fdca26\"], [1.0, \"#f0f921\"]], \"sequentialminus\": [[0.0, \"#0d0887\"], [0.1111111111111111, \"#46039f\"], [0.2222222222222222, \"#7201a8\"], [0.3333333333333333, \"#9c179e\"], [0.4444444444444444, \"#bd3786\"], [0.5555555555555556, \"#d8576b\"], [0.6666666666666666, \"#ed7953\"], [0.7777777777777778, \"#fb9f3a\"], [0.8888888888888888, \"#fdca26\"], [1.0, \"#f0f921\"]]}, \"colorway\": [\"#636efa\", \"#EF553B\", \"#00cc96\", \"#ab63fa\", \"#FFA15A\", \"#19d3f3\", \"#FF6692\", \"#B6E880\", \"#FF97FF\", \"#FECB52\"], \"font\": {\"color\": \"#2a3f5f\"}, \"geo\": {\"bgcolor\": \"white\", \"lakecolor\": \"white\", \"landcolor\": \"#E5ECF6\", \"showlakes\": true, \"showland\": true, \"subunitcolor\": \"white\"}, \"hoverlabel\": {\"align\": \"left\"}, \"hovermode\": \"closest\", \"mapbox\": {\"style\": \"light\"}, \"paper_bgcolor\": \"white\", \"plot_bgcolor\": \"#E5ECF6\", \"polar\": {\"angularaxis\": {\"gridcolor\": \"white\", \"linecolor\": \"white\", \"ticks\": \"\"}, \"bgcolor\": \"#E5ECF6\", \"radialaxis\": {\"gridcolor\": \"white\", \"linecolor\": \"white\", \"ticks\": \"\"}}, \"scene\": {\"xaxis\": {\"backgroundcolor\": \"#E5ECF6\", \"gridcolor\": \"white\", \"gridwidth\": 2, \"linecolor\": \"white\", \"showbackground\": true, \"ticks\": \"\", \"zerolinecolor\": \"white\"}, \"yaxis\": {\"backgroundcolor\": \"#E5ECF6\", \"gridcolor\": \"white\", \"gridwidth\": 2, \"linecolor\": \"white\", \"showbackground\": true, \"ticks\": \"\", \"zerolinecolor\": \"white\"}, \"zaxis\": {\"backgroundcolor\": \"#E5ECF6\", \"gridcolor\": \"white\", \"gridwidth\": 2, \"linecolor\": \"white\", \"showbackground\": true, \"ticks\": \"\", \"zerolinecolor\": \"white\"}}, \"shapedefaults\": {\"line\": {\"color\": \"#2a3f5f\"}}, \"ternary\": {\"aaxis\": {\"gridcolor\": \"white\", \"linecolor\": \"white\", \"ticks\": \"\"}, \"baxis\": {\"gridcolor\": \"white\", \"linecolor\": \"white\", \"ticks\": \"\"}, \"bgcolor\": \"#E5ECF6\", \"caxis\": {\"gridcolor\": \"white\", \"linecolor\": \"white\", \"ticks\": \"\"}}, \"title\": {\"x\": 0.05}, \"xaxis\": {\"automargin\": true, \"gridcolor\": \"white\", \"linecolor\": \"white\", \"ticks\": \"\", \"title\": {\"standoff\": 15}, \"zerolinecolor\": \"white\", \"zerolinewidth\": 2}, \"yaxis\": {\"automargin\": true, \"gridcolor\": \"white\", \"linecolor\": \"white\", \"ticks\": \"\", \"title\": {\"standoff\": 15}, \"zerolinecolor\": \"white\", \"zerolinewidth\": 2}}}},\n",
       "                        {\"responsive\": true}\n",
       "                    ).then(function(){\n",
       "                            \n",
       "var gd = document.getElementById('13b9ee25-3fea-4d71-8861-9931564f91f2');\n",
       "var x = new MutationObserver(function (mutations, observer) {{\n",
       "        var display = window.getComputedStyle(gd).display;\n",
       "        if (!display || display === 'none') {{\n",
       "            console.log([gd, 'removed!']);\n",
       "            Plotly.purge(gd);\n",
       "            observer.disconnect();\n",
       "        }}\n",
       "}});\n",
       "\n",
       "// Listen for the removal of the full notebook cells\n",
       "var notebookContainer = gd.closest('#notebook-container');\n",
       "if (notebookContainer) {{\n",
       "    x.observe(notebookContainer, {childList: true});\n",
       "}}\n",
       "\n",
       "// Listen for the clearing of the current output cell\n",
       "var outputEl = gd.closest('.output');\n",
       "if (outputEl) {{\n",
       "    x.observe(outputEl, {childList: true});\n",
       "}}\n",
       "\n",
       "                        })\n",
       "                };\n",
       "                });\n",
       "            </script>\n",
       "        </div>"
      ]
     },
     "metadata": {},
     "output_type": "display_data"
    }
   ],
   "source": [
    "display(HTML(\"<h4>3. Temps interférence</h4>\"))\n",
    "\n",
    "df_deno=df_str[df_str[\"Temps interférence\"].notna()&(df_str[\"Temps interférence\"]!=0)]\n",
    "nb = len(df_deno)\n",
    "if nb > 0:\n",
    "    nb_avg = round(df_deno[\"Temps interférence\"].mean())\n",
    "    nb_med = round(df_deno[\"Temps interférence\"].median())\n",
    "    nb_var = round(df_deno[\"Temps interférence\"].var())\n",
    "    nb_min = df_deno[\"Temps interférence\"].min()\n",
    "    nb_max = df_deno[\"Temps interférence\"].max()\n",
    "    #\n",
    "    ec_avg = round(df_deno[\"Ecart type - Temps interférence\"].mean())\n",
    "    ec_med = round(df_deno[\"Ecart type - Temps interférence\"].median())\n",
    "    ec_var = round(df_deno[\"Ecart type - Temps interférence\"].var())\n",
    "    ec_min = df_deno[\"Ecart type - Temps interférence\"].min()\n",
    "    ec_max = df_deno[\"Ecart type - Temps interférence\"].max()\n",
    "    #\n",
    "    rp_avg = round(df_deno[\"Rang percentile - Temps interférence\"].mean())\n",
    "    rp_med = round(df_deno[\"Rang percentile - Temps interférence\"].median())\n",
    "    rp_var = round(df_deno[\"Rang percentile - Temps interférence\"].var())\n",
    "    rp_min = df_deno[\"Rang percentile - Temps interférence\"].min()\n",
    "    rp_max = df_deno[\"Rang percentile - Temps interférence\"].max()\n",
    "else:\n",
    "    nb_avg = nb_med = nb_var = nb_min = nb_max = ec_avg = ec_med = ec_var = ec_min = ec_max = rp_avg= rp_med = rp_var = rp_min = rp_max=0\n",
    "columns = ['',\"Score\", \"Ecart-type\", \"Rang percentile\"]\n",
    "\n",
    "myarr = [['Effectif', 'Moyenne', 'Médiane', 'Variance', 'Min.', 'Max']]\n",
    "myarr.append([nb, nb_avg, nb_med, nb_var, nb_min, nb_max])\n",
    "myarr.append(['-',ec_avg, ec_med, ec_var, ec_min, ec_max])\n",
    "myarr.append(['-',rp_avg, rp_med, rp_var, rp_min, rp_max])\n",
    "\n",
    "\n",
    "tab =  go.Table(\n",
    "                columnwidth = [15,15],\n",
    "                header=dict(values=list(columns),\n",
    "                align='left'),\n",
    "                cells=dict(values= myarr,align='left'))\n",
    "fig = go.Figure(data=tab)\n",
    "fig.show()"
   ]
  },
  {
   "cell_type": "code",
   "execution_count": 31,
   "metadata": {
    "ExecuteTime": {
     "end_time": "2020-06-15T08:30:39.956928Z",
     "start_time": "2020-06-15T08:30:39.829002Z"
    }
   },
   "outputs": [
    {
     "data": {
      "text/html": [
       "<h4>4. Temps inter-déno. </h4>"
      ],
      "text/plain": [
       "<IPython.core.display.HTML object>"
      ]
     },
     "metadata": {},
     "output_type": "display_data"
    },
    {
     "data": {
      "application/vnd.plotly.v1+json": {
       "config": {
        "plotlyServerURL": "https://plot.ly"
       },
       "data": [
        {
         "cells": {
          "align": "left",
          "values": [
           [
            "Effectif",
            "Moyenne",
            "Médiane",
            "Variance",
            "Min.",
            "Max"
           ],
           [
            17,
            41,
            42,
            348,
            8,
            74
           ],
           [
            "-",
            0,
            0,
            1,
            -2,
            1.86
           ],
           [
            "-",
            53,
            57,
            1054,
            5,
            95
           ]
          ]
         },
         "columnwidth": [
          15,
          15
         ],
         "header": {
          "align": "left",
          "values": [
           "",
           "Score",
           "Ecart-type",
           "Rang percentile"
          ]
         },
         "type": "table"
        }
       ],
       "layout": {
        "template": {
         "data": {
          "bar": [
           {
            "error_x": {
             "color": "#2a3f5f"
            },
            "error_y": {
             "color": "#2a3f5f"
            },
            "marker": {
             "line": {
              "color": "#E5ECF6",
              "width": 0.5
             }
            },
            "type": "bar"
           }
          ],
          "barpolar": [
           {
            "marker": {
             "line": {
              "color": "#E5ECF6",
              "width": 0.5
             }
            },
            "type": "barpolar"
           }
          ],
          "carpet": [
           {
            "aaxis": {
             "endlinecolor": "#2a3f5f",
             "gridcolor": "white",
             "linecolor": "white",
             "minorgridcolor": "white",
             "startlinecolor": "#2a3f5f"
            },
            "baxis": {
             "endlinecolor": "#2a3f5f",
             "gridcolor": "white",
             "linecolor": "white",
             "minorgridcolor": "white",
             "startlinecolor": "#2a3f5f"
            },
            "type": "carpet"
           }
          ],
          "choropleth": [
           {
            "colorbar": {
             "outlinewidth": 0,
             "ticks": ""
            },
            "type": "choropleth"
           }
          ],
          "contour": [
           {
            "colorbar": {
             "outlinewidth": 0,
             "ticks": ""
            },
            "colorscale": [
             [
              0,
              "#0d0887"
             ],
             [
              0.1111111111111111,
              "#46039f"
             ],
             [
              0.2222222222222222,
              "#7201a8"
             ],
             [
              0.3333333333333333,
              "#9c179e"
             ],
             [
              0.4444444444444444,
              "#bd3786"
             ],
             [
              0.5555555555555556,
              "#d8576b"
             ],
             [
              0.6666666666666666,
              "#ed7953"
             ],
             [
              0.7777777777777778,
              "#fb9f3a"
             ],
             [
              0.8888888888888888,
              "#fdca26"
             ],
             [
              1,
              "#f0f921"
             ]
            ],
            "type": "contour"
           }
          ],
          "contourcarpet": [
           {
            "colorbar": {
             "outlinewidth": 0,
             "ticks": ""
            },
            "type": "contourcarpet"
           }
          ],
          "heatmap": [
           {
            "colorbar": {
             "outlinewidth": 0,
             "ticks": ""
            },
            "colorscale": [
             [
              0,
              "#0d0887"
             ],
             [
              0.1111111111111111,
              "#46039f"
             ],
             [
              0.2222222222222222,
              "#7201a8"
             ],
             [
              0.3333333333333333,
              "#9c179e"
             ],
             [
              0.4444444444444444,
              "#bd3786"
             ],
             [
              0.5555555555555556,
              "#d8576b"
             ],
             [
              0.6666666666666666,
              "#ed7953"
             ],
             [
              0.7777777777777778,
              "#fb9f3a"
             ],
             [
              0.8888888888888888,
              "#fdca26"
             ],
             [
              1,
              "#f0f921"
             ]
            ],
            "type": "heatmap"
           }
          ],
          "heatmapgl": [
           {
            "colorbar": {
             "outlinewidth": 0,
             "ticks": ""
            },
            "colorscale": [
             [
              0,
              "#0d0887"
             ],
             [
              0.1111111111111111,
              "#46039f"
             ],
             [
              0.2222222222222222,
              "#7201a8"
             ],
             [
              0.3333333333333333,
              "#9c179e"
             ],
             [
              0.4444444444444444,
              "#bd3786"
             ],
             [
              0.5555555555555556,
              "#d8576b"
             ],
             [
              0.6666666666666666,
              "#ed7953"
             ],
             [
              0.7777777777777778,
              "#fb9f3a"
             ],
             [
              0.8888888888888888,
              "#fdca26"
             ],
             [
              1,
              "#f0f921"
             ]
            ],
            "type": "heatmapgl"
           }
          ],
          "histogram": [
           {
            "marker": {
             "colorbar": {
              "outlinewidth": 0,
              "ticks": ""
             }
            },
            "type": "histogram"
           }
          ],
          "histogram2d": [
           {
            "colorbar": {
             "outlinewidth": 0,
             "ticks": ""
            },
            "colorscale": [
             [
              0,
              "#0d0887"
             ],
             [
              0.1111111111111111,
              "#46039f"
             ],
             [
              0.2222222222222222,
              "#7201a8"
             ],
             [
              0.3333333333333333,
              "#9c179e"
             ],
             [
              0.4444444444444444,
              "#bd3786"
             ],
             [
              0.5555555555555556,
              "#d8576b"
             ],
             [
              0.6666666666666666,
              "#ed7953"
             ],
             [
              0.7777777777777778,
              "#fb9f3a"
             ],
             [
              0.8888888888888888,
              "#fdca26"
             ],
             [
              1,
              "#f0f921"
             ]
            ],
            "type": "histogram2d"
           }
          ],
          "histogram2dcontour": [
           {
            "colorbar": {
             "outlinewidth": 0,
             "ticks": ""
            },
            "colorscale": [
             [
              0,
              "#0d0887"
             ],
             [
              0.1111111111111111,
              "#46039f"
             ],
             [
              0.2222222222222222,
              "#7201a8"
             ],
             [
              0.3333333333333333,
              "#9c179e"
             ],
             [
              0.4444444444444444,
              "#bd3786"
             ],
             [
              0.5555555555555556,
              "#d8576b"
             ],
             [
              0.6666666666666666,
              "#ed7953"
             ],
             [
              0.7777777777777778,
              "#fb9f3a"
             ],
             [
              0.8888888888888888,
              "#fdca26"
             ],
             [
              1,
              "#f0f921"
             ]
            ],
            "type": "histogram2dcontour"
           }
          ],
          "mesh3d": [
           {
            "colorbar": {
             "outlinewidth": 0,
             "ticks": ""
            },
            "type": "mesh3d"
           }
          ],
          "parcoords": [
           {
            "line": {
             "colorbar": {
              "outlinewidth": 0,
              "ticks": ""
             }
            },
            "type": "parcoords"
           }
          ],
          "pie": [
           {
            "automargin": true,
            "type": "pie"
           }
          ],
          "scatter": [
           {
            "marker": {
             "colorbar": {
              "outlinewidth": 0,
              "ticks": ""
             }
            },
            "type": "scatter"
           }
          ],
          "scatter3d": [
           {
            "line": {
             "colorbar": {
              "outlinewidth": 0,
              "ticks": ""
             }
            },
            "marker": {
             "colorbar": {
              "outlinewidth": 0,
              "ticks": ""
             }
            },
            "type": "scatter3d"
           }
          ],
          "scattercarpet": [
           {
            "marker": {
             "colorbar": {
              "outlinewidth": 0,
              "ticks": ""
             }
            },
            "type": "scattercarpet"
           }
          ],
          "scattergeo": [
           {
            "marker": {
             "colorbar": {
              "outlinewidth": 0,
              "ticks": ""
             }
            },
            "type": "scattergeo"
           }
          ],
          "scattergl": [
           {
            "marker": {
             "colorbar": {
              "outlinewidth": 0,
              "ticks": ""
             }
            },
            "type": "scattergl"
           }
          ],
          "scattermapbox": [
           {
            "marker": {
             "colorbar": {
              "outlinewidth": 0,
              "ticks": ""
             }
            },
            "type": "scattermapbox"
           }
          ],
          "scatterpolar": [
           {
            "marker": {
             "colorbar": {
              "outlinewidth": 0,
              "ticks": ""
             }
            },
            "type": "scatterpolar"
           }
          ],
          "scatterpolargl": [
           {
            "marker": {
             "colorbar": {
              "outlinewidth": 0,
              "ticks": ""
             }
            },
            "type": "scatterpolargl"
           }
          ],
          "scatterternary": [
           {
            "marker": {
             "colorbar": {
              "outlinewidth": 0,
              "ticks": ""
             }
            },
            "type": "scatterternary"
           }
          ],
          "surface": [
           {
            "colorbar": {
             "outlinewidth": 0,
             "ticks": ""
            },
            "colorscale": [
             [
              0,
              "#0d0887"
             ],
             [
              0.1111111111111111,
              "#46039f"
             ],
             [
              0.2222222222222222,
              "#7201a8"
             ],
             [
              0.3333333333333333,
              "#9c179e"
             ],
             [
              0.4444444444444444,
              "#bd3786"
             ],
             [
              0.5555555555555556,
              "#d8576b"
             ],
             [
              0.6666666666666666,
              "#ed7953"
             ],
             [
              0.7777777777777778,
              "#fb9f3a"
             ],
             [
              0.8888888888888888,
              "#fdca26"
             ],
             [
              1,
              "#f0f921"
             ]
            ],
            "type": "surface"
           }
          ],
          "table": [
           {
            "cells": {
             "fill": {
              "color": "#EBF0F8"
             },
             "line": {
              "color": "white"
             }
            },
            "header": {
             "fill": {
              "color": "#C8D4E3"
             },
             "line": {
              "color": "white"
             }
            },
            "type": "table"
           }
          ]
         },
         "layout": {
          "annotationdefaults": {
           "arrowcolor": "#2a3f5f",
           "arrowhead": 0,
           "arrowwidth": 1
          },
          "coloraxis": {
           "colorbar": {
            "outlinewidth": 0,
            "ticks": ""
           }
          },
          "colorscale": {
           "diverging": [
            [
             0,
             "#8e0152"
            ],
            [
             0.1,
             "#c51b7d"
            ],
            [
             0.2,
             "#de77ae"
            ],
            [
             0.3,
             "#f1b6da"
            ],
            [
             0.4,
             "#fde0ef"
            ],
            [
             0.5,
             "#f7f7f7"
            ],
            [
             0.6,
             "#e6f5d0"
            ],
            [
             0.7,
             "#b8e186"
            ],
            [
             0.8,
             "#7fbc41"
            ],
            [
             0.9,
             "#4d9221"
            ],
            [
             1,
             "#276419"
            ]
           ],
           "sequential": [
            [
             0,
             "#0d0887"
            ],
            [
             0.1111111111111111,
             "#46039f"
            ],
            [
             0.2222222222222222,
             "#7201a8"
            ],
            [
             0.3333333333333333,
             "#9c179e"
            ],
            [
             0.4444444444444444,
             "#bd3786"
            ],
            [
             0.5555555555555556,
             "#d8576b"
            ],
            [
             0.6666666666666666,
             "#ed7953"
            ],
            [
             0.7777777777777778,
             "#fb9f3a"
            ],
            [
             0.8888888888888888,
             "#fdca26"
            ],
            [
             1,
             "#f0f921"
            ]
           ],
           "sequentialminus": [
            [
             0,
             "#0d0887"
            ],
            [
             0.1111111111111111,
             "#46039f"
            ],
            [
             0.2222222222222222,
             "#7201a8"
            ],
            [
             0.3333333333333333,
             "#9c179e"
            ],
            [
             0.4444444444444444,
             "#bd3786"
            ],
            [
             0.5555555555555556,
             "#d8576b"
            ],
            [
             0.6666666666666666,
             "#ed7953"
            ],
            [
             0.7777777777777778,
             "#fb9f3a"
            ],
            [
             0.8888888888888888,
             "#fdca26"
            ],
            [
             1,
             "#f0f921"
            ]
           ]
          },
          "colorway": [
           "#636efa",
           "#EF553B",
           "#00cc96",
           "#ab63fa",
           "#FFA15A",
           "#19d3f3",
           "#FF6692",
           "#B6E880",
           "#FF97FF",
           "#FECB52"
          ],
          "font": {
           "color": "#2a3f5f"
          },
          "geo": {
           "bgcolor": "white",
           "lakecolor": "white",
           "landcolor": "#E5ECF6",
           "showlakes": true,
           "showland": true,
           "subunitcolor": "white"
          },
          "hoverlabel": {
           "align": "left"
          },
          "hovermode": "closest",
          "mapbox": {
           "style": "light"
          },
          "paper_bgcolor": "white",
          "plot_bgcolor": "#E5ECF6",
          "polar": {
           "angularaxis": {
            "gridcolor": "white",
            "linecolor": "white",
            "ticks": ""
           },
           "bgcolor": "#E5ECF6",
           "radialaxis": {
            "gridcolor": "white",
            "linecolor": "white",
            "ticks": ""
           }
          },
          "scene": {
           "xaxis": {
            "backgroundcolor": "#E5ECF6",
            "gridcolor": "white",
            "gridwidth": 2,
            "linecolor": "white",
            "showbackground": true,
            "ticks": "",
            "zerolinecolor": "white"
           },
           "yaxis": {
            "backgroundcolor": "#E5ECF6",
            "gridcolor": "white",
            "gridwidth": 2,
            "linecolor": "white",
            "showbackground": true,
            "ticks": "",
            "zerolinecolor": "white"
           },
           "zaxis": {
            "backgroundcolor": "#E5ECF6",
            "gridcolor": "white",
            "gridwidth": 2,
            "linecolor": "white",
            "showbackground": true,
            "ticks": "",
            "zerolinecolor": "white"
           }
          },
          "shapedefaults": {
           "line": {
            "color": "#2a3f5f"
           }
          },
          "ternary": {
           "aaxis": {
            "gridcolor": "white",
            "linecolor": "white",
            "ticks": ""
           },
           "baxis": {
            "gridcolor": "white",
            "linecolor": "white",
            "ticks": ""
           },
           "bgcolor": "#E5ECF6",
           "caxis": {
            "gridcolor": "white",
            "linecolor": "white",
            "ticks": ""
           }
          },
          "title": {
           "x": 0.05
          },
          "xaxis": {
           "automargin": true,
           "gridcolor": "white",
           "linecolor": "white",
           "ticks": "",
           "title": {
            "standoff": 15
           },
           "zerolinecolor": "white",
           "zerolinewidth": 2
          },
          "yaxis": {
           "automargin": true,
           "gridcolor": "white",
           "linecolor": "white",
           "ticks": "",
           "title": {
            "standoff": 15
           },
           "zerolinecolor": "white",
           "zerolinewidth": 2
          }
         }
        }
       }
      },
      "text/html": [
       "<div>\n",
       "        \n",
       "        \n",
       "            <div id=\"1815a1bc-11e4-401e-b93a-9ba8dab7ded8\" class=\"plotly-graph-div\" style=\"height:525px; width:100%;\"></div>\n",
       "            <script type=\"text/javascript\">\n",
       "                require([\"plotly\"], function(Plotly) {\n",
       "                    window.PLOTLYENV=window.PLOTLYENV || {};\n",
       "                    \n",
       "                if (document.getElementById(\"1815a1bc-11e4-401e-b93a-9ba8dab7ded8\")) {\n",
       "                    Plotly.newPlot(\n",
       "                        '1815a1bc-11e4-401e-b93a-9ba8dab7ded8',\n",
       "                        [{\"cells\": {\"align\": \"left\", \"values\": [[\"Effectif\", \"Moyenne\", \"M\\u00e9diane\", \"Variance\", \"Min.\", \"Max\"], [17, 41, 42, 348, 8.0, 74.0], [\"-\", 0, 0, 1, -2.0, 1.86], [\"-\", 53, 57, 1054, 5.0, 95.0]]}, \"columnwidth\": [15, 15], \"header\": {\"align\": \"left\", \"values\": [\"\", \"Score\", \"Ecart-type\", \"Rang percentile\"]}, \"type\": \"table\"}],\n",
       "                        {\"template\": {\"data\": {\"bar\": [{\"error_x\": {\"color\": \"#2a3f5f\"}, \"error_y\": {\"color\": \"#2a3f5f\"}, \"marker\": {\"line\": {\"color\": \"#E5ECF6\", \"width\": 0.5}}, \"type\": \"bar\"}], \"barpolar\": [{\"marker\": {\"line\": {\"color\": \"#E5ECF6\", \"width\": 0.5}}, \"type\": \"barpolar\"}], \"carpet\": [{\"aaxis\": {\"endlinecolor\": \"#2a3f5f\", \"gridcolor\": \"white\", \"linecolor\": \"white\", \"minorgridcolor\": \"white\", \"startlinecolor\": \"#2a3f5f\"}, \"baxis\": {\"endlinecolor\": \"#2a3f5f\", \"gridcolor\": \"white\", \"linecolor\": \"white\", \"minorgridcolor\": \"white\", \"startlinecolor\": \"#2a3f5f\"}, \"type\": \"carpet\"}], \"choropleth\": [{\"colorbar\": {\"outlinewidth\": 0, \"ticks\": \"\"}, \"type\": \"choropleth\"}], \"contour\": [{\"colorbar\": {\"outlinewidth\": 0, \"ticks\": \"\"}, \"colorscale\": [[0.0, \"#0d0887\"], [0.1111111111111111, \"#46039f\"], [0.2222222222222222, \"#7201a8\"], [0.3333333333333333, \"#9c179e\"], [0.4444444444444444, \"#bd3786\"], [0.5555555555555556, \"#d8576b\"], [0.6666666666666666, \"#ed7953\"], [0.7777777777777778, \"#fb9f3a\"], [0.8888888888888888, \"#fdca26\"], [1.0, \"#f0f921\"]], \"type\": \"contour\"}], \"contourcarpet\": [{\"colorbar\": {\"outlinewidth\": 0, \"ticks\": \"\"}, \"type\": \"contourcarpet\"}], \"heatmap\": [{\"colorbar\": {\"outlinewidth\": 0, \"ticks\": \"\"}, \"colorscale\": [[0.0, \"#0d0887\"], [0.1111111111111111, \"#46039f\"], [0.2222222222222222, \"#7201a8\"], [0.3333333333333333, \"#9c179e\"], [0.4444444444444444, \"#bd3786\"], [0.5555555555555556, \"#d8576b\"], [0.6666666666666666, \"#ed7953\"], [0.7777777777777778, \"#fb9f3a\"], [0.8888888888888888, \"#fdca26\"], [1.0, \"#f0f921\"]], \"type\": \"heatmap\"}], \"heatmapgl\": [{\"colorbar\": {\"outlinewidth\": 0, \"ticks\": \"\"}, \"colorscale\": [[0.0, \"#0d0887\"], [0.1111111111111111, \"#46039f\"], [0.2222222222222222, \"#7201a8\"], [0.3333333333333333, \"#9c179e\"], [0.4444444444444444, \"#bd3786\"], [0.5555555555555556, \"#d8576b\"], [0.6666666666666666, \"#ed7953\"], [0.7777777777777778, \"#fb9f3a\"], [0.8888888888888888, \"#fdca26\"], [1.0, \"#f0f921\"]], \"type\": \"heatmapgl\"}], \"histogram\": [{\"marker\": {\"colorbar\": {\"outlinewidth\": 0, \"ticks\": \"\"}}, \"type\": \"histogram\"}], \"histogram2d\": [{\"colorbar\": {\"outlinewidth\": 0, \"ticks\": \"\"}, \"colorscale\": [[0.0, \"#0d0887\"], [0.1111111111111111, \"#46039f\"], [0.2222222222222222, \"#7201a8\"], [0.3333333333333333, \"#9c179e\"], [0.4444444444444444, \"#bd3786\"], [0.5555555555555556, \"#d8576b\"], [0.6666666666666666, \"#ed7953\"], [0.7777777777777778, \"#fb9f3a\"], [0.8888888888888888, \"#fdca26\"], [1.0, \"#f0f921\"]], \"type\": \"histogram2d\"}], \"histogram2dcontour\": [{\"colorbar\": {\"outlinewidth\": 0, \"ticks\": \"\"}, \"colorscale\": [[0.0, \"#0d0887\"], [0.1111111111111111, \"#46039f\"], [0.2222222222222222, \"#7201a8\"], [0.3333333333333333, \"#9c179e\"], [0.4444444444444444, \"#bd3786\"], [0.5555555555555556, \"#d8576b\"], [0.6666666666666666, \"#ed7953\"], [0.7777777777777778, \"#fb9f3a\"], [0.8888888888888888, \"#fdca26\"], [1.0, \"#f0f921\"]], \"type\": \"histogram2dcontour\"}], \"mesh3d\": [{\"colorbar\": {\"outlinewidth\": 0, \"ticks\": \"\"}, \"type\": \"mesh3d\"}], \"parcoords\": [{\"line\": {\"colorbar\": {\"outlinewidth\": 0, \"ticks\": \"\"}}, \"type\": \"parcoords\"}], \"pie\": [{\"automargin\": true, \"type\": \"pie\"}], \"scatter\": [{\"marker\": {\"colorbar\": {\"outlinewidth\": 0, \"ticks\": \"\"}}, \"type\": \"scatter\"}], \"scatter3d\": [{\"line\": {\"colorbar\": {\"outlinewidth\": 0, \"ticks\": \"\"}}, \"marker\": {\"colorbar\": {\"outlinewidth\": 0, \"ticks\": \"\"}}, \"type\": \"scatter3d\"}], \"scattercarpet\": [{\"marker\": {\"colorbar\": {\"outlinewidth\": 0, \"ticks\": \"\"}}, \"type\": \"scattercarpet\"}], \"scattergeo\": [{\"marker\": {\"colorbar\": {\"outlinewidth\": 0, \"ticks\": \"\"}}, \"type\": \"scattergeo\"}], \"scattergl\": [{\"marker\": {\"colorbar\": {\"outlinewidth\": 0, \"ticks\": \"\"}}, \"type\": \"scattergl\"}], \"scattermapbox\": [{\"marker\": {\"colorbar\": {\"outlinewidth\": 0, \"ticks\": \"\"}}, \"type\": \"scattermapbox\"}], \"scatterpolar\": [{\"marker\": {\"colorbar\": {\"outlinewidth\": 0, \"ticks\": \"\"}}, \"type\": \"scatterpolar\"}], \"scatterpolargl\": [{\"marker\": {\"colorbar\": {\"outlinewidth\": 0, \"ticks\": \"\"}}, \"type\": \"scatterpolargl\"}], \"scatterternary\": [{\"marker\": {\"colorbar\": {\"outlinewidth\": 0, \"ticks\": \"\"}}, \"type\": \"scatterternary\"}], \"surface\": [{\"colorbar\": {\"outlinewidth\": 0, \"ticks\": \"\"}, \"colorscale\": [[0.0, \"#0d0887\"], [0.1111111111111111, \"#46039f\"], [0.2222222222222222, \"#7201a8\"], [0.3333333333333333, \"#9c179e\"], [0.4444444444444444, \"#bd3786\"], [0.5555555555555556, \"#d8576b\"], [0.6666666666666666, \"#ed7953\"], [0.7777777777777778, \"#fb9f3a\"], [0.8888888888888888, \"#fdca26\"], [1.0, \"#f0f921\"]], \"type\": \"surface\"}], \"table\": [{\"cells\": {\"fill\": {\"color\": \"#EBF0F8\"}, \"line\": {\"color\": \"white\"}}, \"header\": {\"fill\": {\"color\": \"#C8D4E3\"}, \"line\": {\"color\": \"white\"}}, \"type\": \"table\"}]}, \"layout\": {\"annotationdefaults\": {\"arrowcolor\": \"#2a3f5f\", \"arrowhead\": 0, \"arrowwidth\": 1}, \"coloraxis\": {\"colorbar\": {\"outlinewidth\": 0, \"ticks\": \"\"}}, \"colorscale\": {\"diverging\": [[0, \"#8e0152\"], [0.1, \"#c51b7d\"], [0.2, \"#de77ae\"], [0.3, \"#f1b6da\"], [0.4, \"#fde0ef\"], [0.5, \"#f7f7f7\"], [0.6, \"#e6f5d0\"], [0.7, \"#b8e186\"], [0.8, \"#7fbc41\"], [0.9, \"#4d9221\"], [1, \"#276419\"]], \"sequential\": [[0.0, \"#0d0887\"], [0.1111111111111111, \"#46039f\"], [0.2222222222222222, \"#7201a8\"], [0.3333333333333333, \"#9c179e\"], [0.4444444444444444, \"#bd3786\"], [0.5555555555555556, \"#d8576b\"], [0.6666666666666666, \"#ed7953\"], [0.7777777777777778, \"#fb9f3a\"], [0.8888888888888888, \"#fdca26\"], [1.0, \"#f0f921\"]], \"sequentialminus\": [[0.0, \"#0d0887\"], [0.1111111111111111, \"#46039f\"], [0.2222222222222222, \"#7201a8\"], [0.3333333333333333, \"#9c179e\"], [0.4444444444444444, \"#bd3786\"], [0.5555555555555556, \"#d8576b\"], [0.6666666666666666, \"#ed7953\"], [0.7777777777777778, \"#fb9f3a\"], [0.8888888888888888, \"#fdca26\"], [1.0, \"#f0f921\"]]}, \"colorway\": [\"#636efa\", \"#EF553B\", \"#00cc96\", \"#ab63fa\", \"#FFA15A\", \"#19d3f3\", \"#FF6692\", \"#B6E880\", \"#FF97FF\", \"#FECB52\"], \"font\": {\"color\": \"#2a3f5f\"}, \"geo\": {\"bgcolor\": \"white\", \"lakecolor\": \"white\", \"landcolor\": \"#E5ECF6\", \"showlakes\": true, \"showland\": true, \"subunitcolor\": \"white\"}, \"hoverlabel\": {\"align\": \"left\"}, \"hovermode\": \"closest\", \"mapbox\": {\"style\": \"light\"}, \"paper_bgcolor\": \"white\", \"plot_bgcolor\": \"#E5ECF6\", \"polar\": {\"angularaxis\": {\"gridcolor\": \"white\", \"linecolor\": \"white\", \"ticks\": \"\"}, \"bgcolor\": \"#E5ECF6\", \"radialaxis\": {\"gridcolor\": \"white\", \"linecolor\": \"white\", \"ticks\": \"\"}}, \"scene\": {\"xaxis\": {\"backgroundcolor\": \"#E5ECF6\", \"gridcolor\": \"white\", \"gridwidth\": 2, \"linecolor\": \"white\", \"showbackground\": true, \"ticks\": \"\", \"zerolinecolor\": \"white\"}, \"yaxis\": {\"backgroundcolor\": \"#E5ECF6\", \"gridcolor\": \"white\", \"gridwidth\": 2, \"linecolor\": \"white\", \"showbackground\": true, \"ticks\": \"\", \"zerolinecolor\": \"white\"}, \"zaxis\": {\"backgroundcolor\": \"#E5ECF6\", \"gridcolor\": \"white\", \"gridwidth\": 2, \"linecolor\": \"white\", \"showbackground\": true, \"ticks\": \"\", \"zerolinecolor\": \"white\"}}, \"shapedefaults\": {\"line\": {\"color\": \"#2a3f5f\"}}, \"ternary\": {\"aaxis\": {\"gridcolor\": \"white\", \"linecolor\": \"white\", \"ticks\": \"\"}, \"baxis\": {\"gridcolor\": \"white\", \"linecolor\": \"white\", \"ticks\": \"\"}, \"bgcolor\": \"#E5ECF6\", \"caxis\": {\"gridcolor\": \"white\", \"linecolor\": \"white\", \"ticks\": \"\"}}, \"title\": {\"x\": 0.05}, \"xaxis\": {\"automargin\": true, \"gridcolor\": \"white\", \"linecolor\": \"white\", \"ticks\": \"\", \"title\": {\"standoff\": 15}, \"zerolinecolor\": \"white\", \"zerolinewidth\": 2}, \"yaxis\": {\"automargin\": true, \"gridcolor\": \"white\", \"linecolor\": \"white\", \"ticks\": \"\", \"title\": {\"standoff\": 15}, \"zerolinecolor\": \"white\", \"zerolinewidth\": 2}}}},\n",
       "                        {\"responsive\": true}\n",
       "                    ).then(function(){\n",
       "                            \n",
       "var gd = document.getElementById('1815a1bc-11e4-401e-b93a-9ba8dab7ded8');\n",
       "var x = new MutationObserver(function (mutations, observer) {{\n",
       "        var display = window.getComputedStyle(gd).display;\n",
       "        if (!display || display === 'none') {{\n",
       "            console.log([gd, 'removed!']);\n",
       "            Plotly.purge(gd);\n",
       "            observer.disconnect();\n",
       "        }}\n",
       "}});\n",
       "\n",
       "// Listen for the removal of the full notebook cells\n",
       "var notebookContainer = gd.closest('#notebook-container');\n",
       "if (notebookContainer) {{\n",
       "    x.observe(notebookContainer, {childList: true});\n",
       "}}\n",
       "\n",
       "// Listen for the clearing of the current output cell\n",
       "var outputEl = gd.closest('.output');\n",
       "if (outputEl) {{\n",
       "    x.observe(outputEl, {childList: true});\n",
       "}}\n",
       "\n",
       "                        })\n",
       "                };\n",
       "                });\n",
       "            </script>\n",
       "        </div>"
      ]
     },
     "metadata": {},
     "output_type": "display_data"
    }
   ],
   "source": [
    "display(HTML(\"<h4>4. Temps inter-déno. </h4>\"))\n",
    "mystr = \"Temps Int-déno\"\n",
    "df_deno=df_str[df_str[mystr].notna()&(df_str[mystr]!=0)]\n",
    "nb = len(df_deno)\n",
    "if nb > 0:\n",
    "    nb_avg = round(df_deno[mystr].mean())\n",
    "    nb_med = round(df_deno[mystr].median())\n",
    "    nb_var = round(df_deno[mystr].var())\n",
    "    nb_min = df_deno[mystr].min()\n",
    "    nb_max = df_deno[mystr].max()\n",
    "    #\n",
    "    ec_avg = round(df_deno[\"Ecart type - \"+mystr].mean())\n",
    "    ec_med = round(df_deno[\"Ecart type - \"+mystr].median())\n",
    "    ec_var = round(df_deno[\"Ecart type - \"+mystr].var())\n",
    "    ec_min = df_deno[\"Ecart type - \"+mystr].min()\n",
    "    ec_max = df_deno[\"Ecart type - \"+mystr].max()\n",
    "    #\n",
    "    rp_avg = round(df_deno[\"Rang percentile - \"+mystr].mean())\n",
    "    rp_med = round(df_deno[\"Rang percentile - \"+mystr].median())\n",
    "    rp_var = round(df_deno[\"Rang percentile - \"+mystr].var())\n",
    "    rp_min = df_deno[\"Rang percentile - \"+mystr].min()\n",
    "    rp_max = df_deno[\"Rang percentile - \"+mystr].max()\n",
    "else:\n",
    "    nb_avg = nb_med = nb_var = nb_min = nb_max = ec_avg = ec_med = ec_var = ec_min = ec_max = rp_avg= rp_med = rp_var = rp_min = rp_max=0\n",
    "columns = ['',\"Score\", \"Ecart-type\", \"Rang percentile\"]\n",
    "\n",
    "myarr = [['Effectif', 'Moyenne', 'Médiane', 'Variance', 'Min.', 'Max']]\n",
    "myarr.append([nb, nb_avg, nb_med, nb_var, nb_min, nb_max])\n",
    "myarr.append(['-',ec_avg, ec_med, ec_var, ec_min, ec_max])\n",
    "myarr.append(['-',rp_avg, rp_med, rp_var, rp_min, rp_max])\n",
    "\n",
    "\n",
    "tab =  go.Table(\n",
    "                columnwidth = [15,15],\n",
    "                header=dict(values=list(columns),\n",
    "                align='left'),\n",
    "                cells=dict(values= myarr,align='left'))\n",
    "fig = go.Figure(data=tab)\n",
    "fig.show()"
   ]
  },
  {
   "cell_type": "code",
   "execution_count": 23,
   "metadata": {
    "ExecuteTime": {
     "end_time": "2020-06-15T07:48:42.261302Z",
     "start_time": "2020-06-15T07:48:42.257831Z"
    }
   },
   "outputs": [
    {
     "data": {
      "text/html": [
       "<h3>Effectifs scores d'erreurs</h3>"
      ],
      "text/plain": [
       "<IPython.core.display.HTML object>"
      ]
     },
     "metadata": {},
     "output_type": "display_data"
    }
   ],
   "source": [
    "display(HTML(\"<h3>Effectifs scores d'erreurs</h3>\"))"
   ]
  },
  {
   "cell_type": "code",
   "execution_count": 24,
   "metadata": {
    "ExecuteTime": {
     "end_time": "2020-06-15T07:48:42.270035Z",
     "start_time": "2020-06-15T07:48:42.263496Z"
    }
   },
   "outputs": [],
   "source": [
    "nb_erreurs_nc = len(df_str[df_str[\"Nombre d'erreurs non corrigés (100 items)\"]>0])\n",
    "nb_erreurs_tps = len(df_str[df_str[\"Nombre d'erreurs (Temps de lecture)\"]>0])\n",
    "nb_erreurs_int = len(df_str[df_str[\"Nombre d’erreurs non corrigées (Temps interférence)\"]>0])\n",
    "nb_erreurs_int_deno = len(df_str[df_str[\"Nombre d’erreurs non corrigées (Int-déno)\"]>0])"
   ]
  },
  {
   "cell_type": "code",
   "execution_count": 25,
   "metadata": {
    "ExecuteTime": {
     "end_time": "2020-06-15T07:48:42.502006Z",
     "start_time": "2020-06-15T07:48:42.272017Z"
    }
   },
   "outputs": [
    {
     "data": {
      "application/vnd.plotly.v1+json": {
       "config": {
        "plotlyServerURL": "https://plot.ly"
       },
       "data": [
        {
         "cells": {
          "align": "left",
          "values": [
           [
            "Effectif"
           ],
           [
            0
           ],
           [
            0
           ],
           [
            10
           ],
           [
            10
           ]
          ]
         },
         "columnwidth": [
          15,
          15
         ],
         "header": {
          "align": "left",
          "values": [
           "",
           "Nombre d'erreurs non corrigées (100 items)",
           "Nombre d'erreurs (Temps de lecture)",
           "Nombre d'erreurs non corrigées (Temps interférence)",
           "Nombre d'erreurs non corrigées (Int-déno)"
          ]
         },
         "type": "table"
        }
       ],
       "layout": {
        "template": {
         "data": {
          "bar": [
           {
            "error_x": {
             "color": "#2a3f5f"
            },
            "error_y": {
             "color": "#2a3f5f"
            },
            "marker": {
             "line": {
              "color": "#E5ECF6",
              "width": 0.5
             }
            },
            "type": "bar"
           }
          ],
          "barpolar": [
           {
            "marker": {
             "line": {
              "color": "#E5ECF6",
              "width": 0.5
             }
            },
            "type": "barpolar"
           }
          ],
          "carpet": [
           {
            "aaxis": {
             "endlinecolor": "#2a3f5f",
             "gridcolor": "white",
             "linecolor": "white",
             "minorgridcolor": "white",
             "startlinecolor": "#2a3f5f"
            },
            "baxis": {
             "endlinecolor": "#2a3f5f",
             "gridcolor": "white",
             "linecolor": "white",
             "minorgridcolor": "white",
             "startlinecolor": "#2a3f5f"
            },
            "type": "carpet"
           }
          ],
          "choropleth": [
           {
            "colorbar": {
             "outlinewidth": 0,
             "ticks": ""
            },
            "type": "choropleth"
           }
          ],
          "contour": [
           {
            "colorbar": {
             "outlinewidth": 0,
             "ticks": ""
            },
            "colorscale": [
             [
              0,
              "#0d0887"
             ],
             [
              0.1111111111111111,
              "#46039f"
             ],
             [
              0.2222222222222222,
              "#7201a8"
             ],
             [
              0.3333333333333333,
              "#9c179e"
             ],
             [
              0.4444444444444444,
              "#bd3786"
             ],
             [
              0.5555555555555556,
              "#d8576b"
             ],
             [
              0.6666666666666666,
              "#ed7953"
             ],
             [
              0.7777777777777778,
              "#fb9f3a"
             ],
             [
              0.8888888888888888,
              "#fdca26"
             ],
             [
              1,
              "#f0f921"
             ]
            ],
            "type": "contour"
           }
          ],
          "contourcarpet": [
           {
            "colorbar": {
             "outlinewidth": 0,
             "ticks": ""
            },
            "type": "contourcarpet"
           }
          ],
          "heatmap": [
           {
            "colorbar": {
             "outlinewidth": 0,
             "ticks": ""
            },
            "colorscale": [
             [
              0,
              "#0d0887"
             ],
             [
              0.1111111111111111,
              "#46039f"
             ],
             [
              0.2222222222222222,
              "#7201a8"
             ],
             [
              0.3333333333333333,
              "#9c179e"
             ],
             [
              0.4444444444444444,
              "#bd3786"
             ],
             [
              0.5555555555555556,
              "#d8576b"
             ],
             [
              0.6666666666666666,
              "#ed7953"
             ],
             [
              0.7777777777777778,
              "#fb9f3a"
             ],
             [
              0.8888888888888888,
              "#fdca26"
             ],
             [
              1,
              "#f0f921"
             ]
            ],
            "type": "heatmap"
           }
          ],
          "heatmapgl": [
           {
            "colorbar": {
             "outlinewidth": 0,
             "ticks": ""
            },
            "colorscale": [
             [
              0,
              "#0d0887"
             ],
             [
              0.1111111111111111,
              "#46039f"
             ],
             [
              0.2222222222222222,
              "#7201a8"
             ],
             [
              0.3333333333333333,
              "#9c179e"
             ],
             [
              0.4444444444444444,
              "#bd3786"
             ],
             [
              0.5555555555555556,
              "#d8576b"
             ],
             [
              0.6666666666666666,
              "#ed7953"
             ],
             [
              0.7777777777777778,
              "#fb9f3a"
             ],
             [
              0.8888888888888888,
              "#fdca26"
             ],
             [
              1,
              "#f0f921"
             ]
            ],
            "type": "heatmapgl"
           }
          ],
          "histogram": [
           {
            "marker": {
             "colorbar": {
              "outlinewidth": 0,
              "ticks": ""
             }
            },
            "type": "histogram"
           }
          ],
          "histogram2d": [
           {
            "colorbar": {
             "outlinewidth": 0,
             "ticks": ""
            },
            "colorscale": [
             [
              0,
              "#0d0887"
             ],
             [
              0.1111111111111111,
              "#46039f"
             ],
             [
              0.2222222222222222,
              "#7201a8"
             ],
             [
              0.3333333333333333,
              "#9c179e"
             ],
             [
              0.4444444444444444,
              "#bd3786"
             ],
             [
              0.5555555555555556,
              "#d8576b"
             ],
             [
              0.6666666666666666,
              "#ed7953"
             ],
             [
              0.7777777777777778,
              "#fb9f3a"
             ],
             [
              0.8888888888888888,
              "#fdca26"
             ],
             [
              1,
              "#f0f921"
             ]
            ],
            "type": "histogram2d"
           }
          ],
          "histogram2dcontour": [
           {
            "colorbar": {
             "outlinewidth": 0,
             "ticks": ""
            },
            "colorscale": [
             [
              0,
              "#0d0887"
             ],
             [
              0.1111111111111111,
              "#46039f"
             ],
             [
              0.2222222222222222,
              "#7201a8"
             ],
             [
              0.3333333333333333,
              "#9c179e"
             ],
             [
              0.4444444444444444,
              "#bd3786"
             ],
             [
              0.5555555555555556,
              "#d8576b"
             ],
             [
              0.6666666666666666,
              "#ed7953"
             ],
             [
              0.7777777777777778,
              "#fb9f3a"
             ],
             [
              0.8888888888888888,
              "#fdca26"
             ],
             [
              1,
              "#f0f921"
             ]
            ],
            "type": "histogram2dcontour"
           }
          ],
          "mesh3d": [
           {
            "colorbar": {
             "outlinewidth": 0,
             "ticks": ""
            },
            "type": "mesh3d"
           }
          ],
          "parcoords": [
           {
            "line": {
             "colorbar": {
              "outlinewidth": 0,
              "ticks": ""
             }
            },
            "type": "parcoords"
           }
          ],
          "pie": [
           {
            "automargin": true,
            "type": "pie"
           }
          ],
          "scatter": [
           {
            "marker": {
             "colorbar": {
              "outlinewidth": 0,
              "ticks": ""
             }
            },
            "type": "scatter"
           }
          ],
          "scatter3d": [
           {
            "line": {
             "colorbar": {
              "outlinewidth": 0,
              "ticks": ""
             }
            },
            "marker": {
             "colorbar": {
              "outlinewidth": 0,
              "ticks": ""
             }
            },
            "type": "scatter3d"
           }
          ],
          "scattercarpet": [
           {
            "marker": {
             "colorbar": {
              "outlinewidth": 0,
              "ticks": ""
             }
            },
            "type": "scattercarpet"
           }
          ],
          "scattergeo": [
           {
            "marker": {
             "colorbar": {
              "outlinewidth": 0,
              "ticks": ""
             }
            },
            "type": "scattergeo"
           }
          ],
          "scattergl": [
           {
            "marker": {
             "colorbar": {
              "outlinewidth": 0,
              "ticks": ""
             }
            },
            "type": "scattergl"
           }
          ],
          "scattermapbox": [
           {
            "marker": {
             "colorbar": {
              "outlinewidth": 0,
              "ticks": ""
             }
            },
            "type": "scattermapbox"
           }
          ],
          "scatterpolar": [
           {
            "marker": {
             "colorbar": {
              "outlinewidth": 0,
              "ticks": ""
             }
            },
            "type": "scatterpolar"
           }
          ],
          "scatterpolargl": [
           {
            "marker": {
             "colorbar": {
              "outlinewidth": 0,
              "ticks": ""
             }
            },
            "type": "scatterpolargl"
           }
          ],
          "scatterternary": [
           {
            "marker": {
             "colorbar": {
              "outlinewidth": 0,
              "ticks": ""
             }
            },
            "type": "scatterternary"
           }
          ],
          "surface": [
           {
            "colorbar": {
             "outlinewidth": 0,
             "ticks": ""
            },
            "colorscale": [
             [
              0,
              "#0d0887"
             ],
             [
              0.1111111111111111,
              "#46039f"
             ],
             [
              0.2222222222222222,
              "#7201a8"
             ],
             [
              0.3333333333333333,
              "#9c179e"
             ],
             [
              0.4444444444444444,
              "#bd3786"
             ],
             [
              0.5555555555555556,
              "#d8576b"
             ],
             [
              0.6666666666666666,
              "#ed7953"
             ],
             [
              0.7777777777777778,
              "#fb9f3a"
             ],
             [
              0.8888888888888888,
              "#fdca26"
             ],
             [
              1,
              "#f0f921"
             ]
            ],
            "type": "surface"
           }
          ],
          "table": [
           {
            "cells": {
             "fill": {
              "color": "#EBF0F8"
             },
             "line": {
              "color": "white"
             }
            },
            "header": {
             "fill": {
              "color": "#C8D4E3"
             },
             "line": {
              "color": "white"
             }
            },
            "type": "table"
           }
          ]
         },
         "layout": {
          "annotationdefaults": {
           "arrowcolor": "#2a3f5f",
           "arrowhead": 0,
           "arrowwidth": 1
          },
          "coloraxis": {
           "colorbar": {
            "outlinewidth": 0,
            "ticks": ""
           }
          },
          "colorscale": {
           "diverging": [
            [
             0,
             "#8e0152"
            ],
            [
             0.1,
             "#c51b7d"
            ],
            [
             0.2,
             "#de77ae"
            ],
            [
             0.3,
             "#f1b6da"
            ],
            [
             0.4,
             "#fde0ef"
            ],
            [
             0.5,
             "#f7f7f7"
            ],
            [
             0.6,
             "#e6f5d0"
            ],
            [
             0.7,
             "#b8e186"
            ],
            [
             0.8,
             "#7fbc41"
            ],
            [
             0.9,
             "#4d9221"
            ],
            [
             1,
             "#276419"
            ]
           ],
           "sequential": [
            [
             0,
             "#0d0887"
            ],
            [
             0.1111111111111111,
             "#46039f"
            ],
            [
             0.2222222222222222,
             "#7201a8"
            ],
            [
             0.3333333333333333,
             "#9c179e"
            ],
            [
             0.4444444444444444,
             "#bd3786"
            ],
            [
             0.5555555555555556,
             "#d8576b"
            ],
            [
             0.6666666666666666,
             "#ed7953"
            ],
            [
             0.7777777777777778,
             "#fb9f3a"
            ],
            [
             0.8888888888888888,
             "#fdca26"
            ],
            [
             1,
             "#f0f921"
            ]
           ],
           "sequentialminus": [
            [
             0,
             "#0d0887"
            ],
            [
             0.1111111111111111,
             "#46039f"
            ],
            [
             0.2222222222222222,
             "#7201a8"
            ],
            [
             0.3333333333333333,
             "#9c179e"
            ],
            [
             0.4444444444444444,
             "#bd3786"
            ],
            [
             0.5555555555555556,
             "#d8576b"
            ],
            [
             0.6666666666666666,
             "#ed7953"
            ],
            [
             0.7777777777777778,
             "#fb9f3a"
            ],
            [
             0.8888888888888888,
             "#fdca26"
            ],
            [
             1,
             "#f0f921"
            ]
           ]
          },
          "colorway": [
           "#636efa",
           "#EF553B",
           "#00cc96",
           "#ab63fa",
           "#FFA15A",
           "#19d3f3",
           "#FF6692",
           "#B6E880",
           "#FF97FF",
           "#FECB52"
          ],
          "font": {
           "color": "#2a3f5f"
          },
          "geo": {
           "bgcolor": "white",
           "lakecolor": "white",
           "landcolor": "#E5ECF6",
           "showlakes": true,
           "showland": true,
           "subunitcolor": "white"
          },
          "hoverlabel": {
           "align": "left"
          },
          "hovermode": "closest",
          "mapbox": {
           "style": "light"
          },
          "paper_bgcolor": "white",
          "plot_bgcolor": "#E5ECF6",
          "polar": {
           "angularaxis": {
            "gridcolor": "white",
            "linecolor": "white",
            "ticks": ""
           },
           "bgcolor": "#E5ECF6",
           "radialaxis": {
            "gridcolor": "white",
            "linecolor": "white",
            "ticks": ""
           }
          },
          "scene": {
           "xaxis": {
            "backgroundcolor": "#E5ECF6",
            "gridcolor": "white",
            "gridwidth": 2,
            "linecolor": "white",
            "showbackground": true,
            "ticks": "",
            "zerolinecolor": "white"
           },
           "yaxis": {
            "backgroundcolor": "#E5ECF6",
            "gridcolor": "white",
            "gridwidth": 2,
            "linecolor": "white",
            "showbackground": true,
            "ticks": "",
            "zerolinecolor": "white"
           },
           "zaxis": {
            "backgroundcolor": "#E5ECF6",
            "gridcolor": "white",
            "gridwidth": 2,
            "linecolor": "white",
            "showbackground": true,
            "ticks": "",
            "zerolinecolor": "white"
           }
          },
          "shapedefaults": {
           "line": {
            "color": "#2a3f5f"
           }
          },
          "ternary": {
           "aaxis": {
            "gridcolor": "white",
            "linecolor": "white",
            "ticks": ""
           },
           "baxis": {
            "gridcolor": "white",
            "linecolor": "white",
            "ticks": ""
           },
           "bgcolor": "#E5ECF6",
           "caxis": {
            "gridcolor": "white",
            "linecolor": "white",
            "ticks": ""
           }
          },
          "title": {
           "x": 0.05
          },
          "xaxis": {
           "automargin": true,
           "gridcolor": "white",
           "linecolor": "white",
           "ticks": "",
           "title": {
            "standoff": 15
           },
           "zerolinecolor": "white",
           "zerolinewidth": 2
          },
          "yaxis": {
           "automargin": true,
           "gridcolor": "white",
           "linecolor": "white",
           "ticks": "",
           "title": {
            "standoff": 15
           },
           "zerolinecolor": "white",
           "zerolinewidth": 2
          }
         }
        }
       }
      },
      "text/html": [
       "<div>\n",
       "        \n",
       "        \n",
       "            <div id=\"876325dc-52d1-4126-a0cd-0d2792c4c432\" class=\"plotly-graph-div\" style=\"height:525px; width:100%;\"></div>\n",
       "            <script type=\"text/javascript\">\n",
       "                require([\"plotly\"], function(Plotly) {\n",
       "                    window.PLOTLYENV=window.PLOTLYENV || {};\n",
       "                    \n",
       "                if (document.getElementById(\"876325dc-52d1-4126-a0cd-0d2792c4c432\")) {\n",
       "                    Plotly.newPlot(\n",
       "                        '876325dc-52d1-4126-a0cd-0d2792c4c432',\n",
       "                        [{\"cells\": {\"align\": \"left\", \"values\": [[\"Effectif\"], [0], [0], [10], [10]]}, \"columnwidth\": [15, 15], \"header\": {\"align\": \"left\", \"values\": [\"\", \"Nombre d'erreurs non corrig\\u00e9es (100 items)\", \"Nombre d'erreurs (Temps de lecture)\", \"Nombre d'erreurs non corrig\\u00e9es (Temps interf\\u00e9rence)\", \"Nombre d'erreurs non corrig\\u00e9es (Int-d\\u00e9no)\"]}, \"type\": \"table\"}],\n",
       "                        {\"template\": {\"data\": {\"bar\": [{\"error_x\": {\"color\": \"#2a3f5f\"}, \"error_y\": {\"color\": \"#2a3f5f\"}, \"marker\": {\"line\": {\"color\": \"#E5ECF6\", \"width\": 0.5}}, \"type\": \"bar\"}], \"barpolar\": [{\"marker\": {\"line\": {\"color\": \"#E5ECF6\", \"width\": 0.5}}, \"type\": \"barpolar\"}], \"carpet\": [{\"aaxis\": {\"endlinecolor\": \"#2a3f5f\", \"gridcolor\": \"white\", \"linecolor\": \"white\", \"minorgridcolor\": \"white\", \"startlinecolor\": \"#2a3f5f\"}, \"baxis\": {\"endlinecolor\": \"#2a3f5f\", \"gridcolor\": \"white\", \"linecolor\": \"white\", \"minorgridcolor\": \"white\", \"startlinecolor\": \"#2a3f5f\"}, \"type\": \"carpet\"}], \"choropleth\": [{\"colorbar\": {\"outlinewidth\": 0, \"ticks\": \"\"}, \"type\": \"choropleth\"}], \"contour\": [{\"colorbar\": {\"outlinewidth\": 0, \"ticks\": \"\"}, \"colorscale\": [[0.0, \"#0d0887\"], [0.1111111111111111, \"#46039f\"], [0.2222222222222222, \"#7201a8\"], [0.3333333333333333, \"#9c179e\"], [0.4444444444444444, \"#bd3786\"], [0.5555555555555556, \"#d8576b\"], [0.6666666666666666, \"#ed7953\"], [0.7777777777777778, \"#fb9f3a\"], [0.8888888888888888, \"#fdca26\"], [1.0, \"#f0f921\"]], \"type\": \"contour\"}], \"contourcarpet\": [{\"colorbar\": {\"outlinewidth\": 0, \"ticks\": \"\"}, \"type\": \"contourcarpet\"}], \"heatmap\": [{\"colorbar\": {\"outlinewidth\": 0, \"ticks\": \"\"}, \"colorscale\": [[0.0, \"#0d0887\"], [0.1111111111111111, \"#46039f\"], [0.2222222222222222, \"#7201a8\"], [0.3333333333333333, \"#9c179e\"], [0.4444444444444444, \"#bd3786\"], [0.5555555555555556, \"#d8576b\"], [0.6666666666666666, \"#ed7953\"], [0.7777777777777778, \"#fb9f3a\"], [0.8888888888888888, \"#fdca26\"], [1.0, \"#f0f921\"]], \"type\": \"heatmap\"}], \"heatmapgl\": [{\"colorbar\": {\"outlinewidth\": 0, \"ticks\": \"\"}, \"colorscale\": [[0.0, \"#0d0887\"], [0.1111111111111111, \"#46039f\"], [0.2222222222222222, \"#7201a8\"], [0.3333333333333333, \"#9c179e\"], [0.4444444444444444, \"#bd3786\"], [0.5555555555555556, \"#d8576b\"], [0.6666666666666666, \"#ed7953\"], [0.7777777777777778, \"#fb9f3a\"], [0.8888888888888888, \"#fdca26\"], [1.0, \"#f0f921\"]], \"type\": \"heatmapgl\"}], \"histogram\": [{\"marker\": {\"colorbar\": {\"outlinewidth\": 0, \"ticks\": \"\"}}, \"type\": \"histogram\"}], \"histogram2d\": [{\"colorbar\": {\"outlinewidth\": 0, \"ticks\": \"\"}, \"colorscale\": [[0.0, \"#0d0887\"], [0.1111111111111111, \"#46039f\"], [0.2222222222222222, \"#7201a8\"], [0.3333333333333333, \"#9c179e\"], [0.4444444444444444, \"#bd3786\"], [0.5555555555555556, \"#d8576b\"], [0.6666666666666666, \"#ed7953\"], [0.7777777777777778, \"#fb9f3a\"], [0.8888888888888888, \"#fdca26\"], [1.0, \"#f0f921\"]], \"type\": \"histogram2d\"}], \"histogram2dcontour\": [{\"colorbar\": {\"outlinewidth\": 0, \"ticks\": \"\"}, \"colorscale\": [[0.0, \"#0d0887\"], [0.1111111111111111, \"#46039f\"], [0.2222222222222222, \"#7201a8\"], [0.3333333333333333, \"#9c179e\"], [0.4444444444444444, \"#bd3786\"], [0.5555555555555556, \"#d8576b\"], [0.6666666666666666, \"#ed7953\"], [0.7777777777777778, \"#fb9f3a\"], [0.8888888888888888, \"#fdca26\"], [1.0, \"#f0f921\"]], \"type\": \"histogram2dcontour\"}], \"mesh3d\": [{\"colorbar\": {\"outlinewidth\": 0, \"ticks\": \"\"}, \"type\": \"mesh3d\"}], \"parcoords\": [{\"line\": {\"colorbar\": {\"outlinewidth\": 0, \"ticks\": \"\"}}, \"type\": \"parcoords\"}], \"pie\": [{\"automargin\": true, \"type\": \"pie\"}], \"scatter\": [{\"marker\": {\"colorbar\": {\"outlinewidth\": 0, \"ticks\": \"\"}}, \"type\": \"scatter\"}], \"scatter3d\": [{\"line\": {\"colorbar\": {\"outlinewidth\": 0, \"ticks\": \"\"}}, \"marker\": {\"colorbar\": {\"outlinewidth\": 0, \"ticks\": \"\"}}, \"type\": \"scatter3d\"}], \"scattercarpet\": [{\"marker\": {\"colorbar\": {\"outlinewidth\": 0, \"ticks\": \"\"}}, \"type\": \"scattercarpet\"}], \"scattergeo\": [{\"marker\": {\"colorbar\": {\"outlinewidth\": 0, \"ticks\": \"\"}}, \"type\": \"scattergeo\"}], \"scattergl\": [{\"marker\": {\"colorbar\": {\"outlinewidth\": 0, \"ticks\": \"\"}}, \"type\": \"scattergl\"}], \"scattermapbox\": [{\"marker\": {\"colorbar\": {\"outlinewidth\": 0, \"ticks\": \"\"}}, \"type\": \"scattermapbox\"}], \"scatterpolar\": [{\"marker\": {\"colorbar\": {\"outlinewidth\": 0, \"ticks\": \"\"}}, \"type\": \"scatterpolar\"}], \"scatterpolargl\": [{\"marker\": {\"colorbar\": {\"outlinewidth\": 0, \"ticks\": \"\"}}, \"type\": \"scatterpolargl\"}], \"scatterternary\": [{\"marker\": {\"colorbar\": {\"outlinewidth\": 0, \"ticks\": \"\"}}, \"type\": \"scatterternary\"}], \"surface\": [{\"colorbar\": {\"outlinewidth\": 0, \"ticks\": \"\"}, \"colorscale\": [[0.0, \"#0d0887\"], [0.1111111111111111, \"#46039f\"], [0.2222222222222222, \"#7201a8\"], [0.3333333333333333, \"#9c179e\"], [0.4444444444444444, \"#bd3786\"], [0.5555555555555556, \"#d8576b\"], [0.6666666666666666, \"#ed7953\"], [0.7777777777777778, \"#fb9f3a\"], [0.8888888888888888, \"#fdca26\"], [1.0, \"#f0f921\"]], \"type\": \"surface\"}], \"table\": [{\"cells\": {\"fill\": {\"color\": \"#EBF0F8\"}, \"line\": {\"color\": \"white\"}}, \"header\": {\"fill\": {\"color\": \"#C8D4E3\"}, \"line\": {\"color\": \"white\"}}, \"type\": \"table\"}]}, \"layout\": {\"annotationdefaults\": {\"arrowcolor\": \"#2a3f5f\", \"arrowhead\": 0, \"arrowwidth\": 1}, \"coloraxis\": {\"colorbar\": {\"outlinewidth\": 0, \"ticks\": \"\"}}, \"colorscale\": {\"diverging\": [[0, \"#8e0152\"], [0.1, \"#c51b7d\"], [0.2, \"#de77ae\"], [0.3, \"#f1b6da\"], [0.4, \"#fde0ef\"], [0.5, \"#f7f7f7\"], [0.6, \"#e6f5d0\"], [0.7, \"#b8e186\"], [0.8, \"#7fbc41\"], [0.9, \"#4d9221\"], [1, \"#276419\"]], \"sequential\": [[0.0, \"#0d0887\"], [0.1111111111111111, \"#46039f\"], [0.2222222222222222, \"#7201a8\"], [0.3333333333333333, \"#9c179e\"], [0.4444444444444444, \"#bd3786\"], [0.5555555555555556, \"#d8576b\"], [0.6666666666666666, \"#ed7953\"], [0.7777777777777778, \"#fb9f3a\"], [0.8888888888888888, \"#fdca26\"], [1.0, \"#f0f921\"]], \"sequentialminus\": [[0.0, \"#0d0887\"], [0.1111111111111111, \"#46039f\"], [0.2222222222222222, \"#7201a8\"], [0.3333333333333333, \"#9c179e\"], [0.4444444444444444, \"#bd3786\"], [0.5555555555555556, \"#d8576b\"], [0.6666666666666666, \"#ed7953\"], [0.7777777777777778, \"#fb9f3a\"], [0.8888888888888888, \"#fdca26\"], [1.0, \"#f0f921\"]]}, \"colorway\": [\"#636efa\", \"#EF553B\", \"#00cc96\", \"#ab63fa\", \"#FFA15A\", \"#19d3f3\", \"#FF6692\", \"#B6E880\", \"#FF97FF\", \"#FECB52\"], \"font\": {\"color\": \"#2a3f5f\"}, \"geo\": {\"bgcolor\": \"white\", \"lakecolor\": \"white\", \"landcolor\": \"#E5ECF6\", \"showlakes\": true, \"showland\": true, \"subunitcolor\": \"white\"}, \"hoverlabel\": {\"align\": \"left\"}, \"hovermode\": \"closest\", \"mapbox\": {\"style\": \"light\"}, \"paper_bgcolor\": \"white\", \"plot_bgcolor\": \"#E5ECF6\", \"polar\": {\"angularaxis\": {\"gridcolor\": \"white\", \"linecolor\": \"white\", \"ticks\": \"\"}, \"bgcolor\": \"#E5ECF6\", \"radialaxis\": {\"gridcolor\": \"white\", \"linecolor\": \"white\", \"ticks\": \"\"}}, \"scene\": {\"xaxis\": {\"backgroundcolor\": \"#E5ECF6\", \"gridcolor\": \"white\", \"gridwidth\": 2, \"linecolor\": \"white\", \"showbackground\": true, \"ticks\": \"\", \"zerolinecolor\": \"white\"}, \"yaxis\": {\"backgroundcolor\": \"#E5ECF6\", \"gridcolor\": \"white\", \"gridwidth\": 2, \"linecolor\": \"white\", \"showbackground\": true, \"ticks\": \"\", \"zerolinecolor\": \"white\"}, \"zaxis\": {\"backgroundcolor\": \"#E5ECF6\", \"gridcolor\": \"white\", \"gridwidth\": 2, \"linecolor\": \"white\", \"showbackground\": true, \"ticks\": \"\", \"zerolinecolor\": \"white\"}}, \"shapedefaults\": {\"line\": {\"color\": \"#2a3f5f\"}}, \"ternary\": {\"aaxis\": {\"gridcolor\": \"white\", \"linecolor\": \"white\", \"ticks\": \"\"}, \"baxis\": {\"gridcolor\": \"white\", \"linecolor\": \"white\", \"ticks\": \"\"}, \"bgcolor\": \"#E5ECF6\", \"caxis\": {\"gridcolor\": \"white\", \"linecolor\": \"white\", \"ticks\": \"\"}}, \"title\": {\"x\": 0.05}, \"xaxis\": {\"automargin\": true, \"gridcolor\": \"white\", \"linecolor\": \"white\", \"ticks\": \"\", \"title\": {\"standoff\": 15}, \"zerolinecolor\": \"white\", \"zerolinewidth\": 2}, \"yaxis\": {\"automargin\": true, \"gridcolor\": \"white\", \"linecolor\": \"white\", \"ticks\": \"\", \"title\": {\"standoff\": 15}, \"zerolinecolor\": \"white\", \"zerolinewidth\": 2}}}},\n",
       "                        {\"responsive\": true}\n",
       "                    ).then(function(){\n",
       "                            \n",
       "var gd = document.getElementById('876325dc-52d1-4126-a0cd-0d2792c4c432');\n",
       "var x = new MutationObserver(function (mutations, observer) {{\n",
       "        var display = window.getComputedStyle(gd).display;\n",
       "        if (!display || display === 'none') {{\n",
       "            console.log([gd, 'removed!']);\n",
       "            Plotly.purge(gd);\n",
       "            observer.disconnect();\n",
       "        }}\n",
       "}});\n",
       "\n",
       "// Listen for the removal of the full notebook cells\n",
       "var notebookContainer = gd.closest('#notebook-container');\n",
       "if (notebookContainer) {{\n",
       "    x.observe(notebookContainer, {childList: true});\n",
       "}}\n",
       "\n",
       "// Listen for the clearing of the current output cell\n",
       "var outputEl = gd.closest('.output');\n",
       "if (outputEl) {{\n",
       "    x.observe(outputEl, {childList: true});\n",
       "}}\n",
       "\n",
       "                        })\n",
       "                };\n",
       "                });\n",
       "            </script>\n",
       "        </div>"
      ]
     },
     "metadata": {},
     "output_type": "display_data"
    }
   ],
   "source": [
    "columns = ['',\"Nombre d'erreurs non corrigées (100 items)\", \"Nombre d'erreurs (Temps de lecture)\", \"Nombre d'erreurs non corrigées (Temps interférence)\", \"Nombre d'erreurs non corrigées (Int-déno)\"]\n",
    "\n",
    "myarr = [['Effectif']]\n",
    "myarr.append([nb_erreurs_nc])\n",
    "myarr.append([nb_erreurs_tps])\n",
    "myarr.append([nb_erreurs_int])\n",
    "myarr.append([nb_erreurs_int_deno])\n",
    "\n",
    "\n",
    "\n",
    "tab =  go.Table(\n",
    "                columnwidth = [15,15],\n",
    "                header=dict(values=list(columns),\n",
    "                align='left'),\n",
    "                cells=dict(values= myarr,align='left'))\n",
    "fig = go.Figure(data=tab)\n",
    "fig.show()"
   ]
  },
  {
   "cell_type": "code",
   "execution_count": 26,
   "metadata": {
    "ExecuteTime": {
     "end_time": "2020-06-15T07:48:42.507383Z",
     "start_time": "2020-06-15T07:48:42.504078Z"
    }
   },
   "outputs": [
    {
     "data": {
      "text/html": [
       "<h3>Scores d'erreurs</h3>"
      ],
      "text/plain": [
       "<IPython.core.display.HTML object>"
      ]
     },
     "metadata": {},
     "output_type": "display_data"
    }
   ],
   "source": [
    "display(HTML(\"<h3>Scores d'erreurs</h3>\"))"
   ]
  },
  {
   "cell_type": "code",
   "execution_count": 27,
   "metadata": {
    "ExecuteTime": {
     "end_time": "2020-06-15T07:48:42.515793Z",
     "start_time": "2020-06-15T07:48:42.508846Z"
    }
   },
   "outputs": [
    {
     "data": {
      "text/html": [
       "<h4>1. Nombre d'erreurs non corrigées (100 items)</h4>"
      ],
      "text/plain": [
       "<IPython.core.display.HTML object>"
      ]
     },
     "metadata": {},
     "output_type": "display_data"
    },
    {
     "data": {
      "text/html": [
       "<p>Toutes les valeurs sont nulles.</p>"
      ],
      "text/plain": [
       "<IPython.core.display.HTML object>"
      ]
     },
     "metadata": {},
     "output_type": "display_data"
    },
    {
     "data": {
      "text/html": [
       "<h4>2. Nombre d'erreurs (Temps de lecture)</h4>"
      ],
      "text/plain": [
       "<IPython.core.display.HTML object>"
      ]
     },
     "metadata": {},
     "output_type": "display_data"
    },
    {
     "data": {
      "text/html": [
       "<p>Toutes les valeurs sont nulles.</p>"
      ],
      "text/plain": [
       "<IPython.core.display.HTML object>"
      ]
     },
     "metadata": {},
     "output_type": "display_data"
    },
    {
     "data": {
      "text/html": [
       "<h4>3. Nombre d'erreurs non corrigées (Temps interférence)</h4>"
      ],
      "text/plain": [
       "<IPython.core.display.HTML object>"
      ]
     },
     "metadata": {},
     "output_type": "display_data"
    }
   ],
   "source": [
    "display(HTML(\"<h4>1. Nombre d'erreurs non corrigées (100 items)</h4>\"))\n",
    "display(HTML(\"<p>Toutes les valeurs sont nulles.</p>\"))\n",
    "display(HTML(\"<h4>2. Nombre d'erreurs (Temps de lecture)</h4>\"))\n",
    "display(HTML(\"<p>Toutes les valeurs sont nulles.</p>\"))\n",
    "display(HTML(\"<h4>3. Nombre d'erreurs non corrigées (Temps interférence)</h4>\"))"
   ]
  },
  {
   "cell_type": "code",
   "execution_count": 28,
   "metadata": {
    "ExecuteTime": {
     "end_time": "2020-06-15T07:48:42.637155Z",
     "start_time": "2020-06-15T07:48:42.517546Z"
    }
   },
   "outputs": [
    {
     "data": {
      "application/vnd.plotly.v1+json": {
       "config": {
        "plotlyServerURL": "https://plot.ly"
       },
       "data": [
        {
         "cells": {
          "align": "left",
          "values": [
           [
            "Effectif",
            "Moyenne",
            "Médiane",
            "Variance",
            "Min.",
            "Max"
           ],
           [
            10,
            1,
            1,
            0,
            1,
            2
           ],
           [
            "-",
            1,
            1,
            1,
            0.58,
            3.16
           ],
           [
            "-",
            86,
            90,
            66,
            75,
            95
           ]
          ]
         },
         "columnwidth": [
          15,
          15
         ],
         "header": {
          "align": "left",
          "values": [
           "",
           "Score",
           "Ecart-type",
           "Rang percentile"
          ]
         },
         "type": "table"
        }
       ],
       "layout": {
        "template": {
         "data": {
          "bar": [
           {
            "error_x": {
             "color": "#2a3f5f"
            },
            "error_y": {
             "color": "#2a3f5f"
            },
            "marker": {
             "line": {
              "color": "#E5ECF6",
              "width": 0.5
             }
            },
            "type": "bar"
           }
          ],
          "barpolar": [
           {
            "marker": {
             "line": {
              "color": "#E5ECF6",
              "width": 0.5
             }
            },
            "type": "barpolar"
           }
          ],
          "carpet": [
           {
            "aaxis": {
             "endlinecolor": "#2a3f5f",
             "gridcolor": "white",
             "linecolor": "white",
             "minorgridcolor": "white",
             "startlinecolor": "#2a3f5f"
            },
            "baxis": {
             "endlinecolor": "#2a3f5f",
             "gridcolor": "white",
             "linecolor": "white",
             "minorgridcolor": "white",
             "startlinecolor": "#2a3f5f"
            },
            "type": "carpet"
           }
          ],
          "choropleth": [
           {
            "colorbar": {
             "outlinewidth": 0,
             "ticks": ""
            },
            "type": "choropleth"
           }
          ],
          "contour": [
           {
            "colorbar": {
             "outlinewidth": 0,
             "ticks": ""
            },
            "colorscale": [
             [
              0,
              "#0d0887"
             ],
             [
              0.1111111111111111,
              "#46039f"
             ],
             [
              0.2222222222222222,
              "#7201a8"
             ],
             [
              0.3333333333333333,
              "#9c179e"
             ],
             [
              0.4444444444444444,
              "#bd3786"
             ],
             [
              0.5555555555555556,
              "#d8576b"
             ],
             [
              0.6666666666666666,
              "#ed7953"
             ],
             [
              0.7777777777777778,
              "#fb9f3a"
             ],
             [
              0.8888888888888888,
              "#fdca26"
             ],
             [
              1,
              "#f0f921"
             ]
            ],
            "type": "contour"
           }
          ],
          "contourcarpet": [
           {
            "colorbar": {
             "outlinewidth": 0,
             "ticks": ""
            },
            "type": "contourcarpet"
           }
          ],
          "heatmap": [
           {
            "colorbar": {
             "outlinewidth": 0,
             "ticks": ""
            },
            "colorscale": [
             [
              0,
              "#0d0887"
             ],
             [
              0.1111111111111111,
              "#46039f"
             ],
             [
              0.2222222222222222,
              "#7201a8"
             ],
             [
              0.3333333333333333,
              "#9c179e"
             ],
             [
              0.4444444444444444,
              "#bd3786"
             ],
             [
              0.5555555555555556,
              "#d8576b"
             ],
             [
              0.6666666666666666,
              "#ed7953"
             ],
             [
              0.7777777777777778,
              "#fb9f3a"
             ],
             [
              0.8888888888888888,
              "#fdca26"
             ],
             [
              1,
              "#f0f921"
             ]
            ],
            "type": "heatmap"
           }
          ],
          "heatmapgl": [
           {
            "colorbar": {
             "outlinewidth": 0,
             "ticks": ""
            },
            "colorscale": [
             [
              0,
              "#0d0887"
             ],
             [
              0.1111111111111111,
              "#46039f"
             ],
             [
              0.2222222222222222,
              "#7201a8"
             ],
             [
              0.3333333333333333,
              "#9c179e"
             ],
             [
              0.4444444444444444,
              "#bd3786"
             ],
             [
              0.5555555555555556,
              "#d8576b"
             ],
             [
              0.6666666666666666,
              "#ed7953"
             ],
             [
              0.7777777777777778,
              "#fb9f3a"
             ],
             [
              0.8888888888888888,
              "#fdca26"
             ],
             [
              1,
              "#f0f921"
             ]
            ],
            "type": "heatmapgl"
           }
          ],
          "histogram": [
           {
            "marker": {
             "colorbar": {
              "outlinewidth": 0,
              "ticks": ""
             }
            },
            "type": "histogram"
           }
          ],
          "histogram2d": [
           {
            "colorbar": {
             "outlinewidth": 0,
             "ticks": ""
            },
            "colorscale": [
             [
              0,
              "#0d0887"
             ],
             [
              0.1111111111111111,
              "#46039f"
             ],
             [
              0.2222222222222222,
              "#7201a8"
             ],
             [
              0.3333333333333333,
              "#9c179e"
             ],
             [
              0.4444444444444444,
              "#bd3786"
             ],
             [
              0.5555555555555556,
              "#d8576b"
             ],
             [
              0.6666666666666666,
              "#ed7953"
             ],
             [
              0.7777777777777778,
              "#fb9f3a"
             ],
             [
              0.8888888888888888,
              "#fdca26"
             ],
             [
              1,
              "#f0f921"
             ]
            ],
            "type": "histogram2d"
           }
          ],
          "histogram2dcontour": [
           {
            "colorbar": {
             "outlinewidth": 0,
             "ticks": ""
            },
            "colorscale": [
             [
              0,
              "#0d0887"
             ],
             [
              0.1111111111111111,
              "#46039f"
             ],
             [
              0.2222222222222222,
              "#7201a8"
             ],
             [
              0.3333333333333333,
              "#9c179e"
             ],
             [
              0.4444444444444444,
              "#bd3786"
             ],
             [
              0.5555555555555556,
              "#d8576b"
             ],
             [
              0.6666666666666666,
              "#ed7953"
             ],
             [
              0.7777777777777778,
              "#fb9f3a"
             ],
             [
              0.8888888888888888,
              "#fdca26"
             ],
             [
              1,
              "#f0f921"
             ]
            ],
            "type": "histogram2dcontour"
           }
          ],
          "mesh3d": [
           {
            "colorbar": {
             "outlinewidth": 0,
             "ticks": ""
            },
            "type": "mesh3d"
           }
          ],
          "parcoords": [
           {
            "line": {
             "colorbar": {
              "outlinewidth": 0,
              "ticks": ""
             }
            },
            "type": "parcoords"
           }
          ],
          "pie": [
           {
            "automargin": true,
            "type": "pie"
           }
          ],
          "scatter": [
           {
            "marker": {
             "colorbar": {
              "outlinewidth": 0,
              "ticks": ""
             }
            },
            "type": "scatter"
           }
          ],
          "scatter3d": [
           {
            "line": {
             "colorbar": {
              "outlinewidth": 0,
              "ticks": ""
             }
            },
            "marker": {
             "colorbar": {
              "outlinewidth": 0,
              "ticks": ""
             }
            },
            "type": "scatter3d"
           }
          ],
          "scattercarpet": [
           {
            "marker": {
             "colorbar": {
              "outlinewidth": 0,
              "ticks": ""
             }
            },
            "type": "scattercarpet"
           }
          ],
          "scattergeo": [
           {
            "marker": {
             "colorbar": {
              "outlinewidth": 0,
              "ticks": ""
             }
            },
            "type": "scattergeo"
           }
          ],
          "scattergl": [
           {
            "marker": {
             "colorbar": {
              "outlinewidth": 0,
              "ticks": ""
             }
            },
            "type": "scattergl"
           }
          ],
          "scattermapbox": [
           {
            "marker": {
             "colorbar": {
              "outlinewidth": 0,
              "ticks": ""
             }
            },
            "type": "scattermapbox"
           }
          ],
          "scatterpolar": [
           {
            "marker": {
             "colorbar": {
              "outlinewidth": 0,
              "ticks": ""
             }
            },
            "type": "scatterpolar"
           }
          ],
          "scatterpolargl": [
           {
            "marker": {
             "colorbar": {
              "outlinewidth": 0,
              "ticks": ""
             }
            },
            "type": "scatterpolargl"
           }
          ],
          "scatterternary": [
           {
            "marker": {
             "colorbar": {
              "outlinewidth": 0,
              "ticks": ""
             }
            },
            "type": "scatterternary"
           }
          ],
          "surface": [
           {
            "colorbar": {
             "outlinewidth": 0,
             "ticks": ""
            },
            "colorscale": [
             [
              0,
              "#0d0887"
             ],
             [
              0.1111111111111111,
              "#46039f"
             ],
             [
              0.2222222222222222,
              "#7201a8"
             ],
             [
              0.3333333333333333,
              "#9c179e"
             ],
             [
              0.4444444444444444,
              "#bd3786"
             ],
             [
              0.5555555555555556,
              "#d8576b"
             ],
             [
              0.6666666666666666,
              "#ed7953"
             ],
             [
              0.7777777777777778,
              "#fb9f3a"
             ],
             [
              0.8888888888888888,
              "#fdca26"
             ],
             [
              1,
              "#f0f921"
             ]
            ],
            "type": "surface"
           }
          ],
          "table": [
           {
            "cells": {
             "fill": {
              "color": "#EBF0F8"
             },
             "line": {
              "color": "white"
             }
            },
            "header": {
             "fill": {
              "color": "#C8D4E3"
             },
             "line": {
              "color": "white"
             }
            },
            "type": "table"
           }
          ]
         },
         "layout": {
          "annotationdefaults": {
           "arrowcolor": "#2a3f5f",
           "arrowhead": 0,
           "arrowwidth": 1
          },
          "coloraxis": {
           "colorbar": {
            "outlinewidth": 0,
            "ticks": ""
           }
          },
          "colorscale": {
           "diverging": [
            [
             0,
             "#8e0152"
            ],
            [
             0.1,
             "#c51b7d"
            ],
            [
             0.2,
             "#de77ae"
            ],
            [
             0.3,
             "#f1b6da"
            ],
            [
             0.4,
             "#fde0ef"
            ],
            [
             0.5,
             "#f7f7f7"
            ],
            [
             0.6,
             "#e6f5d0"
            ],
            [
             0.7,
             "#b8e186"
            ],
            [
             0.8,
             "#7fbc41"
            ],
            [
             0.9,
             "#4d9221"
            ],
            [
             1,
             "#276419"
            ]
           ],
           "sequential": [
            [
             0,
             "#0d0887"
            ],
            [
             0.1111111111111111,
             "#46039f"
            ],
            [
             0.2222222222222222,
             "#7201a8"
            ],
            [
             0.3333333333333333,
             "#9c179e"
            ],
            [
             0.4444444444444444,
             "#bd3786"
            ],
            [
             0.5555555555555556,
             "#d8576b"
            ],
            [
             0.6666666666666666,
             "#ed7953"
            ],
            [
             0.7777777777777778,
             "#fb9f3a"
            ],
            [
             0.8888888888888888,
             "#fdca26"
            ],
            [
             1,
             "#f0f921"
            ]
           ],
           "sequentialminus": [
            [
             0,
             "#0d0887"
            ],
            [
             0.1111111111111111,
             "#46039f"
            ],
            [
             0.2222222222222222,
             "#7201a8"
            ],
            [
             0.3333333333333333,
             "#9c179e"
            ],
            [
             0.4444444444444444,
             "#bd3786"
            ],
            [
             0.5555555555555556,
             "#d8576b"
            ],
            [
             0.6666666666666666,
             "#ed7953"
            ],
            [
             0.7777777777777778,
             "#fb9f3a"
            ],
            [
             0.8888888888888888,
             "#fdca26"
            ],
            [
             1,
             "#f0f921"
            ]
           ]
          },
          "colorway": [
           "#636efa",
           "#EF553B",
           "#00cc96",
           "#ab63fa",
           "#FFA15A",
           "#19d3f3",
           "#FF6692",
           "#B6E880",
           "#FF97FF",
           "#FECB52"
          ],
          "font": {
           "color": "#2a3f5f"
          },
          "geo": {
           "bgcolor": "white",
           "lakecolor": "white",
           "landcolor": "#E5ECF6",
           "showlakes": true,
           "showland": true,
           "subunitcolor": "white"
          },
          "hoverlabel": {
           "align": "left"
          },
          "hovermode": "closest",
          "mapbox": {
           "style": "light"
          },
          "paper_bgcolor": "white",
          "plot_bgcolor": "#E5ECF6",
          "polar": {
           "angularaxis": {
            "gridcolor": "white",
            "linecolor": "white",
            "ticks": ""
           },
           "bgcolor": "#E5ECF6",
           "radialaxis": {
            "gridcolor": "white",
            "linecolor": "white",
            "ticks": ""
           }
          },
          "scene": {
           "xaxis": {
            "backgroundcolor": "#E5ECF6",
            "gridcolor": "white",
            "gridwidth": 2,
            "linecolor": "white",
            "showbackground": true,
            "ticks": "",
            "zerolinecolor": "white"
           },
           "yaxis": {
            "backgroundcolor": "#E5ECF6",
            "gridcolor": "white",
            "gridwidth": 2,
            "linecolor": "white",
            "showbackground": true,
            "ticks": "",
            "zerolinecolor": "white"
           },
           "zaxis": {
            "backgroundcolor": "#E5ECF6",
            "gridcolor": "white",
            "gridwidth": 2,
            "linecolor": "white",
            "showbackground": true,
            "ticks": "",
            "zerolinecolor": "white"
           }
          },
          "shapedefaults": {
           "line": {
            "color": "#2a3f5f"
           }
          },
          "ternary": {
           "aaxis": {
            "gridcolor": "white",
            "linecolor": "white",
            "ticks": ""
           },
           "baxis": {
            "gridcolor": "white",
            "linecolor": "white",
            "ticks": ""
           },
           "bgcolor": "#E5ECF6",
           "caxis": {
            "gridcolor": "white",
            "linecolor": "white",
            "ticks": ""
           }
          },
          "title": {
           "x": 0.05
          },
          "xaxis": {
           "automargin": true,
           "gridcolor": "white",
           "linecolor": "white",
           "ticks": "",
           "title": {
            "standoff": 15
           },
           "zerolinecolor": "white",
           "zerolinewidth": 2
          },
          "yaxis": {
           "automargin": true,
           "gridcolor": "white",
           "linecolor": "white",
           "ticks": "",
           "title": {
            "standoff": 15
           },
           "zerolinecolor": "white",
           "zerolinewidth": 2
          }
         }
        }
       }
      },
      "text/html": [
       "<div>\n",
       "        \n",
       "        \n",
       "            <div id=\"f972bdb8-cee6-40d0-9d2e-3e536bd57d82\" class=\"plotly-graph-div\" style=\"height:525px; width:100%;\"></div>\n",
       "            <script type=\"text/javascript\">\n",
       "                require([\"plotly\"], function(Plotly) {\n",
       "                    window.PLOTLYENV=window.PLOTLYENV || {};\n",
       "                    \n",
       "                if (document.getElementById(\"f972bdb8-cee6-40d0-9d2e-3e536bd57d82\")) {\n",
       "                    Plotly.newPlot(\n",
       "                        'f972bdb8-cee6-40d0-9d2e-3e536bd57d82',\n",
       "                        [{\"cells\": {\"align\": \"left\", \"values\": [[\"Effectif\", \"Moyenne\", \"M\\u00e9diane\", \"Variance\", \"Min.\", \"Max\"], [10, 1, 1, 0, 1.0, 2.0], [\"-\", 1, 1, 1, 0.58, 3.16], [\"-\", 86, 90, 66, 75.0, 95.0]]}, \"columnwidth\": [15, 15], \"header\": {\"align\": \"left\", \"values\": [\"\", \"Score\", \"Ecart-type\", \"Rang percentile\"]}, \"type\": \"table\"}],\n",
       "                        {\"template\": {\"data\": {\"bar\": [{\"error_x\": {\"color\": \"#2a3f5f\"}, \"error_y\": {\"color\": \"#2a3f5f\"}, \"marker\": {\"line\": {\"color\": \"#E5ECF6\", \"width\": 0.5}}, \"type\": \"bar\"}], \"barpolar\": [{\"marker\": {\"line\": {\"color\": \"#E5ECF6\", \"width\": 0.5}}, \"type\": \"barpolar\"}], \"carpet\": [{\"aaxis\": {\"endlinecolor\": \"#2a3f5f\", \"gridcolor\": \"white\", \"linecolor\": \"white\", \"minorgridcolor\": \"white\", \"startlinecolor\": \"#2a3f5f\"}, \"baxis\": {\"endlinecolor\": \"#2a3f5f\", \"gridcolor\": \"white\", \"linecolor\": \"white\", \"minorgridcolor\": \"white\", \"startlinecolor\": \"#2a3f5f\"}, \"type\": \"carpet\"}], \"choropleth\": [{\"colorbar\": {\"outlinewidth\": 0, \"ticks\": \"\"}, \"type\": \"choropleth\"}], \"contour\": [{\"colorbar\": {\"outlinewidth\": 0, \"ticks\": \"\"}, \"colorscale\": [[0.0, \"#0d0887\"], [0.1111111111111111, \"#46039f\"], [0.2222222222222222, \"#7201a8\"], [0.3333333333333333, \"#9c179e\"], [0.4444444444444444, \"#bd3786\"], [0.5555555555555556, \"#d8576b\"], [0.6666666666666666, \"#ed7953\"], [0.7777777777777778, \"#fb9f3a\"], [0.8888888888888888, \"#fdca26\"], [1.0, \"#f0f921\"]], \"type\": \"contour\"}], \"contourcarpet\": [{\"colorbar\": {\"outlinewidth\": 0, \"ticks\": \"\"}, \"type\": \"contourcarpet\"}], \"heatmap\": [{\"colorbar\": {\"outlinewidth\": 0, \"ticks\": \"\"}, \"colorscale\": [[0.0, \"#0d0887\"], [0.1111111111111111, \"#46039f\"], [0.2222222222222222, \"#7201a8\"], [0.3333333333333333, \"#9c179e\"], [0.4444444444444444, \"#bd3786\"], [0.5555555555555556, \"#d8576b\"], [0.6666666666666666, \"#ed7953\"], [0.7777777777777778, \"#fb9f3a\"], [0.8888888888888888, \"#fdca26\"], [1.0, \"#f0f921\"]], \"type\": \"heatmap\"}], \"heatmapgl\": [{\"colorbar\": {\"outlinewidth\": 0, \"ticks\": \"\"}, \"colorscale\": [[0.0, \"#0d0887\"], [0.1111111111111111, \"#46039f\"], [0.2222222222222222, \"#7201a8\"], [0.3333333333333333, \"#9c179e\"], [0.4444444444444444, \"#bd3786\"], [0.5555555555555556, \"#d8576b\"], [0.6666666666666666, \"#ed7953\"], [0.7777777777777778, \"#fb9f3a\"], [0.8888888888888888, \"#fdca26\"], [1.0, \"#f0f921\"]], \"type\": \"heatmapgl\"}], \"histogram\": [{\"marker\": {\"colorbar\": {\"outlinewidth\": 0, \"ticks\": \"\"}}, \"type\": \"histogram\"}], \"histogram2d\": [{\"colorbar\": {\"outlinewidth\": 0, \"ticks\": \"\"}, \"colorscale\": [[0.0, \"#0d0887\"], [0.1111111111111111, \"#46039f\"], [0.2222222222222222, \"#7201a8\"], [0.3333333333333333, \"#9c179e\"], [0.4444444444444444, \"#bd3786\"], [0.5555555555555556, \"#d8576b\"], [0.6666666666666666, \"#ed7953\"], [0.7777777777777778, \"#fb9f3a\"], [0.8888888888888888, \"#fdca26\"], [1.0, \"#f0f921\"]], \"type\": \"histogram2d\"}], \"histogram2dcontour\": [{\"colorbar\": {\"outlinewidth\": 0, \"ticks\": \"\"}, \"colorscale\": [[0.0, \"#0d0887\"], [0.1111111111111111, \"#46039f\"], [0.2222222222222222, \"#7201a8\"], [0.3333333333333333, \"#9c179e\"], [0.4444444444444444, \"#bd3786\"], [0.5555555555555556, \"#d8576b\"], [0.6666666666666666, \"#ed7953\"], [0.7777777777777778, \"#fb9f3a\"], [0.8888888888888888, \"#fdca26\"], [1.0, \"#f0f921\"]], \"type\": \"histogram2dcontour\"}], \"mesh3d\": [{\"colorbar\": {\"outlinewidth\": 0, \"ticks\": \"\"}, \"type\": \"mesh3d\"}], \"parcoords\": [{\"line\": {\"colorbar\": {\"outlinewidth\": 0, \"ticks\": \"\"}}, \"type\": \"parcoords\"}], \"pie\": [{\"automargin\": true, \"type\": \"pie\"}], \"scatter\": [{\"marker\": {\"colorbar\": {\"outlinewidth\": 0, \"ticks\": \"\"}}, \"type\": \"scatter\"}], \"scatter3d\": [{\"line\": {\"colorbar\": {\"outlinewidth\": 0, \"ticks\": \"\"}}, \"marker\": {\"colorbar\": {\"outlinewidth\": 0, \"ticks\": \"\"}}, \"type\": \"scatter3d\"}], \"scattercarpet\": [{\"marker\": {\"colorbar\": {\"outlinewidth\": 0, \"ticks\": \"\"}}, \"type\": \"scattercarpet\"}], \"scattergeo\": [{\"marker\": {\"colorbar\": {\"outlinewidth\": 0, \"ticks\": \"\"}}, \"type\": \"scattergeo\"}], \"scattergl\": [{\"marker\": {\"colorbar\": {\"outlinewidth\": 0, \"ticks\": \"\"}}, \"type\": \"scattergl\"}], \"scattermapbox\": [{\"marker\": {\"colorbar\": {\"outlinewidth\": 0, \"ticks\": \"\"}}, \"type\": \"scattermapbox\"}], \"scatterpolar\": [{\"marker\": {\"colorbar\": {\"outlinewidth\": 0, \"ticks\": \"\"}}, \"type\": \"scatterpolar\"}], \"scatterpolargl\": [{\"marker\": {\"colorbar\": {\"outlinewidth\": 0, \"ticks\": \"\"}}, \"type\": \"scatterpolargl\"}], \"scatterternary\": [{\"marker\": {\"colorbar\": {\"outlinewidth\": 0, \"ticks\": \"\"}}, \"type\": \"scatterternary\"}], \"surface\": [{\"colorbar\": {\"outlinewidth\": 0, \"ticks\": \"\"}, \"colorscale\": [[0.0, \"#0d0887\"], [0.1111111111111111, \"#46039f\"], [0.2222222222222222, \"#7201a8\"], [0.3333333333333333, \"#9c179e\"], [0.4444444444444444, \"#bd3786\"], [0.5555555555555556, \"#d8576b\"], [0.6666666666666666, \"#ed7953\"], [0.7777777777777778, \"#fb9f3a\"], [0.8888888888888888, \"#fdca26\"], [1.0, \"#f0f921\"]], \"type\": \"surface\"}], \"table\": [{\"cells\": {\"fill\": {\"color\": \"#EBF0F8\"}, \"line\": {\"color\": \"white\"}}, \"header\": {\"fill\": {\"color\": \"#C8D4E3\"}, \"line\": {\"color\": \"white\"}}, \"type\": \"table\"}]}, \"layout\": {\"annotationdefaults\": {\"arrowcolor\": \"#2a3f5f\", \"arrowhead\": 0, \"arrowwidth\": 1}, \"coloraxis\": {\"colorbar\": {\"outlinewidth\": 0, \"ticks\": \"\"}}, \"colorscale\": {\"diverging\": [[0, \"#8e0152\"], [0.1, \"#c51b7d\"], [0.2, \"#de77ae\"], [0.3, \"#f1b6da\"], [0.4, \"#fde0ef\"], [0.5, \"#f7f7f7\"], [0.6, \"#e6f5d0\"], [0.7, \"#b8e186\"], [0.8, \"#7fbc41\"], [0.9, \"#4d9221\"], [1, \"#276419\"]], \"sequential\": [[0.0, \"#0d0887\"], [0.1111111111111111, \"#46039f\"], [0.2222222222222222, \"#7201a8\"], [0.3333333333333333, \"#9c179e\"], [0.4444444444444444, \"#bd3786\"], [0.5555555555555556, \"#d8576b\"], [0.6666666666666666, \"#ed7953\"], [0.7777777777777778, \"#fb9f3a\"], [0.8888888888888888, \"#fdca26\"], [1.0, \"#f0f921\"]], \"sequentialminus\": [[0.0, \"#0d0887\"], [0.1111111111111111, \"#46039f\"], [0.2222222222222222, \"#7201a8\"], [0.3333333333333333, \"#9c179e\"], [0.4444444444444444, \"#bd3786\"], [0.5555555555555556, \"#d8576b\"], [0.6666666666666666, \"#ed7953\"], [0.7777777777777778, \"#fb9f3a\"], [0.8888888888888888, \"#fdca26\"], [1.0, \"#f0f921\"]]}, \"colorway\": [\"#636efa\", \"#EF553B\", \"#00cc96\", \"#ab63fa\", \"#FFA15A\", \"#19d3f3\", \"#FF6692\", \"#B6E880\", \"#FF97FF\", \"#FECB52\"], \"font\": {\"color\": \"#2a3f5f\"}, \"geo\": {\"bgcolor\": \"white\", \"lakecolor\": \"white\", \"landcolor\": \"#E5ECF6\", \"showlakes\": true, \"showland\": true, \"subunitcolor\": \"white\"}, \"hoverlabel\": {\"align\": \"left\"}, \"hovermode\": \"closest\", \"mapbox\": {\"style\": \"light\"}, \"paper_bgcolor\": \"white\", \"plot_bgcolor\": \"#E5ECF6\", \"polar\": {\"angularaxis\": {\"gridcolor\": \"white\", \"linecolor\": \"white\", \"ticks\": \"\"}, \"bgcolor\": \"#E5ECF6\", \"radialaxis\": {\"gridcolor\": \"white\", \"linecolor\": \"white\", \"ticks\": \"\"}}, \"scene\": {\"xaxis\": {\"backgroundcolor\": \"#E5ECF6\", \"gridcolor\": \"white\", \"gridwidth\": 2, \"linecolor\": \"white\", \"showbackground\": true, \"ticks\": \"\", \"zerolinecolor\": \"white\"}, \"yaxis\": {\"backgroundcolor\": \"#E5ECF6\", \"gridcolor\": \"white\", \"gridwidth\": 2, \"linecolor\": \"white\", \"showbackground\": true, \"ticks\": \"\", \"zerolinecolor\": \"white\"}, \"zaxis\": {\"backgroundcolor\": \"#E5ECF6\", \"gridcolor\": \"white\", \"gridwidth\": 2, \"linecolor\": \"white\", \"showbackground\": true, \"ticks\": \"\", \"zerolinecolor\": \"white\"}}, \"shapedefaults\": {\"line\": {\"color\": \"#2a3f5f\"}}, \"ternary\": {\"aaxis\": {\"gridcolor\": \"white\", \"linecolor\": \"white\", \"ticks\": \"\"}, \"baxis\": {\"gridcolor\": \"white\", \"linecolor\": \"white\", \"ticks\": \"\"}, \"bgcolor\": \"#E5ECF6\", \"caxis\": {\"gridcolor\": \"white\", \"linecolor\": \"white\", \"ticks\": \"\"}}, \"title\": {\"x\": 0.05}, \"xaxis\": {\"automargin\": true, \"gridcolor\": \"white\", \"linecolor\": \"white\", \"ticks\": \"\", \"title\": {\"standoff\": 15}, \"zerolinecolor\": \"white\", \"zerolinewidth\": 2}, \"yaxis\": {\"automargin\": true, \"gridcolor\": \"white\", \"linecolor\": \"white\", \"ticks\": \"\", \"title\": {\"standoff\": 15}, \"zerolinecolor\": \"white\", \"zerolinewidth\": 2}}}},\n",
       "                        {\"responsive\": true}\n",
       "                    ).then(function(){\n",
       "                            \n",
       "var gd = document.getElementById('f972bdb8-cee6-40d0-9d2e-3e536bd57d82');\n",
       "var x = new MutationObserver(function (mutations, observer) {{\n",
       "        var display = window.getComputedStyle(gd).display;\n",
       "        if (!display || display === 'none') {{\n",
       "            console.log([gd, 'removed!']);\n",
       "            Plotly.purge(gd);\n",
       "            observer.disconnect();\n",
       "        }}\n",
       "}});\n",
       "\n",
       "// Listen for the removal of the full notebook cells\n",
       "var notebookContainer = gd.closest('#notebook-container');\n",
       "if (notebookContainer) {{\n",
       "    x.observe(notebookContainer, {childList: true});\n",
       "}}\n",
       "\n",
       "// Listen for the clearing of the current output cell\n",
       "var outputEl = gd.closest('.output');\n",
       "if (outputEl) {{\n",
       "    x.observe(outputEl, {childList: true});\n",
       "}}\n",
       "\n",
       "                        })\n",
       "                };\n",
       "                });\n",
       "            </script>\n",
       "        </div>"
      ]
     },
     "metadata": {},
     "output_type": "display_data"
    },
    {
     "data": {
      "text/html": [
       "<h4>4. Nombre d'erreurs non corrigées (int-déno)</h4>"
      ],
      "text/plain": [
       "<IPython.core.display.HTML object>"
      ]
     },
     "metadata": {},
     "output_type": "display_data"
    }
   ],
   "source": [
    "df_deno=df_str[df_str[\"Nombre d’erreurs non corrigées (Temps interférence)\"].notna()&(df_str[\"Nombre d’erreurs non corrigées (Temps interférence)\"]!=0)]\n",
    "nb = len(df_deno)\n",
    "if nb > 0:\n",
    "    nb_avg = round(df_deno[\"Nombre d’erreurs non corrigées (Temps interférence)\"].mean())\n",
    "    nb_med = round(df_deno[\"Nombre d’erreurs non corrigées (Temps interférence)\"].median())\n",
    "    nb_var = round(df_deno[\"Nombre d’erreurs non corrigées (Temps interférence)\"].var())\n",
    "    nb_min = df_deno[\"Nombre d’erreurs non corrigées (Temps interférence)\"].min()\n",
    "    nb_max = df_deno[\"Nombre d’erreurs non corrigées (Temps interférence)\"].max()\n",
    "    #\n",
    "    ec_avg = round(df_deno[\"Ecart type - Nombre d’erreurs non corrigées (Temps interférence)\"].mean())\n",
    "    ec_med = round(df_deno[\"Ecart type - Nombre d’erreurs non corrigées (Temps interférence)\"].median())\n",
    "    ec_var = round(df_deno[\"Ecart type - Nombre d’erreurs non corrigées (Temps interférence)\"].var())\n",
    "    ec_min = df_deno[\"Ecart type - Nombre d’erreurs non corrigées (Temps interférence)\"].min()\n",
    "    ec_max = df_deno[\"Ecart type - Nombre d’erreurs non corrigées (Temps interférence)\"].max()\n",
    "    #\n",
    "    rp_avg = round(df_deno[\"Rang percentile - Nombre d’erreurs non corrigées (Temps interférence)\"].mean())\n",
    "    rp_med = round(df_deno[\"Rang percentile - Nombre d’erreurs non corrigées (Temps interférence)\"].median())\n",
    "    rp_var = round(df_deno[\"Rang percentile - Nombre d’erreurs non corrigées (Temps interférence)\"].var())\n",
    "    rp_min = df_deno[\"Rang percentile - Nombre d’erreurs non corrigées (Temps interférence)\"].min()\n",
    "    rp_max = df_deno[\"Rang percentile - Nombre d’erreurs non corrigées (Temps interférence)\"].max()\n",
    "else:\n",
    "    nb_avg = nb_med = nb_var = nb_min = nb_max = ec_avg = ec_med = ec_var = ec_min = ec_max = rp_avg= rp_med = rp_var = rp_min = rp_max=0\n",
    "columns = ['',\"Score\", \"Ecart-type\", \"Rang percentile\"]\n",
    "\n",
    "myarr = [['Effectif', 'Moyenne', 'Médiane', 'Variance', 'Min.', 'Max']]\n",
    "myarr.append([nb, nb_avg, nb_med, nb_var, nb_min, nb_max])\n",
    "myarr.append(['-',ec_avg, ec_med, ec_var, ec_min, ec_max])\n",
    "myarr.append(['-',rp_avg, rp_med, rp_var, rp_min, rp_max])\n",
    "\n",
    "\n",
    "tab =  go.Table(\n",
    "                columnwidth = [15,15],\n",
    "                header=dict(values=list(columns),\n",
    "                align='left'),\n",
    "                cells=dict(values= myarr,align='left'))\n",
    "fig = go.Figure(data=tab)\n",
    "fig.show()\n",
    "display(HTML(\"<h4>4. Nombre d'erreurs non corrigées (int-déno)</h4>\"))"
   ]
  },
  {
   "cell_type": "code",
   "execution_count": 29,
   "metadata": {
    "ExecuteTime": {
     "end_time": "2020-06-15T07:48:42.759738Z",
     "start_time": "2020-06-15T07:48:42.638977Z"
    }
   },
   "outputs": [
    {
     "data": {
      "application/vnd.plotly.v1+json": {
       "config": {
        "plotlyServerURL": "https://plot.ly"
       },
       "data": [
        {
         "cells": {
          "align": "left",
          "values": [
           [
            "Effectif",
            "Moyenne",
            "Médiane",
            "Variance",
            "Min.",
            "Max"
           ],
           [
            10,
            1,
            1,
            0,
            1,
            2
           ],
           [
            "-",
            2,
            1,
            1,
            0.79,
            3.08
           ],
           [
            "-",
            88,
            90,
            30,
            81,
            95
           ]
          ]
         },
         "columnwidth": [
          15,
          15
         ],
         "header": {
          "align": "left",
          "values": [
           "",
           "Score",
           "Ecart-type",
           "Rang percentile"
          ]
         },
         "type": "table"
        }
       ],
       "layout": {
        "template": {
         "data": {
          "bar": [
           {
            "error_x": {
             "color": "#2a3f5f"
            },
            "error_y": {
             "color": "#2a3f5f"
            },
            "marker": {
             "line": {
              "color": "#E5ECF6",
              "width": 0.5
             }
            },
            "type": "bar"
           }
          ],
          "barpolar": [
           {
            "marker": {
             "line": {
              "color": "#E5ECF6",
              "width": 0.5
             }
            },
            "type": "barpolar"
           }
          ],
          "carpet": [
           {
            "aaxis": {
             "endlinecolor": "#2a3f5f",
             "gridcolor": "white",
             "linecolor": "white",
             "minorgridcolor": "white",
             "startlinecolor": "#2a3f5f"
            },
            "baxis": {
             "endlinecolor": "#2a3f5f",
             "gridcolor": "white",
             "linecolor": "white",
             "minorgridcolor": "white",
             "startlinecolor": "#2a3f5f"
            },
            "type": "carpet"
           }
          ],
          "choropleth": [
           {
            "colorbar": {
             "outlinewidth": 0,
             "ticks": ""
            },
            "type": "choropleth"
           }
          ],
          "contour": [
           {
            "colorbar": {
             "outlinewidth": 0,
             "ticks": ""
            },
            "colorscale": [
             [
              0,
              "#0d0887"
             ],
             [
              0.1111111111111111,
              "#46039f"
             ],
             [
              0.2222222222222222,
              "#7201a8"
             ],
             [
              0.3333333333333333,
              "#9c179e"
             ],
             [
              0.4444444444444444,
              "#bd3786"
             ],
             [
              0.5555555555555556,
              "#d8576b"
             ],
             [
              0.6666666666666666,
              "#ed7953"
             ],
             [
              0.7777777777777778,
              "#fb9f3a"
             ],
             [
              0.8888888888888888,
              "#fdca26"
             ],
             [
              1,
              "#f0f921"
             ]
            ],
            "type": "contour"
           }
          ],
          "contourcarpet": [
           {
            "colorbar": {
             "outlinewidth": 0,
             "ticks": ""
            },
            "type": "contourcarpet"
           }
          ],
          "heatmap": [
           {
            "colorbar": {
             "outlinewidth": 0,
             "ticks": ""
            },
            "colorscale": [
             [
              0,
              "#0d0887"
             ],
             [
              0.1111111111111111,
              "#46039f"
             ],
             [
              0.2222222222222222,
              "#7201a8"
             ],
             [
              0.3333333333333333,
              "#9c179e"
             ],
             [
              0.4444444444444444,
              "#bd3786"
             ],
             [
              0.5555555555555556,
              "#d8576b"
             ],
             [
              0.6666666666666666,
              "#ed7953"
             ],
             [
              0.7777777777777778,
              "#fb9f3a"
             ],
             [
              0.8888888888888888,
              "#fdca26"
             ],
             [
              1,
              "#f0f921"
             ]
            ],
            "type": "heatmap"
           }
          ],
          "heatmapgl": [
           {
            "colorbar": {
             "outlinewidth": 0,
             "ticks": ""
            },
            "colorscale": [
             [
              0,
              "#0d0887"
             ],
             [
              0.1111111111111111,
              "#46039f"
             ],
             [
              0.2222222222222222,
              "#7201a8"
             ],
             [
              0.3333333333333333,
              "#9c179e"
             ],
             [
              0.4444444444444444,
              "#bd3786"
             ],
             [
              0.5555555555555556,
              "#d8576b"
             ],
             [
              0.6666666666666666,
              "#ed7953"
             ],
             [
              0.7777777777777778,
              "#fb9f3a"
             ],
             [
              0.8888888888888888,
              "#fdca26"
             ],
             [
              1,
              "#f0f921"
             ]
            ],
            "type": "heatmapgl"
           }
          ],
          "histogram": [
           {
            "marker": {
             "colorbar": {
              "outlinewidth": 0,
              "ticks": ""
             }
            },
            "type": "histogram"
           }
          ],
          "histogram2d": [
           {
            "colorbar": {
             "outlinewidth": 0,
             "ticks": ""
            },
            "colorscale": [
             [
              0,
              "#0d0887"
             ],
             [
              0.1111111111111111,
              "#46039f"
             ],
             [
              0.2222222222222222,
              "#7201a8"
             ],
             [
              0.3333333333333333,
              "#9c179e"
             ],
             [
              0.4444444444444444,
              "#bd3786"
             ],
             [
              0.5555555555555556,
              "#d8576b"
             ],
             [
              0.6666666666666666,
              "#ed7953"
             ],
             [
              0.7777777777777778,
              "#fb9f3a"
             ],
             [
              0.8888888888888888,
              "#fdca26"
             ],
             [
              1,
              "#f0f921"
             ]
            ],
            "type": "histogram2d"
           }
          ],
          "histogram2dcontour": [
           {
            "colorbar": {
             "outlinewidth": 0,
             "ticks": ""
            },
            "colorscale": [
             [
              0,
              "#0d0887"
             ],
             [
              0.1111111111111111,
              "#46039f"
             ],
             [
              0.2222222222222222,
              "#7201a8"
             ],
             [
              0.3333333333333333,
              "#9c179e"
             ],
             [
              0.4444444444444444,
              "#bd3786"
             ],
             [
              0.5555555555555556,
              "#d8576b"
             ],
             [
              0.6666666666666666,
              "#ed7953"
             ],
             [
              0.7777777777777778,
              "#fb9f3a"
             ],
             [
              0.8888888888888888,
              "#fdca26"
             ],
             [
              1,
              "#f0f921"
             ]
            ],
            "type": "histogram2dcontour"
           }
          ],
          "mesh3d": [
           {
            "colorbar": {
             "outlinewidth": 0,
             "ticks": ""
            },
            "type": "mesh3d"
           }
          ],
          "parcoords": [
           {
            "line": {
             "colorbar": {
              "outlinewidth": 0,
              "ticks": ""
             }
            },
            "type": "parcoords"
           }
          ],
          "pie": [
           {
            "automargin": true,
            "type": "pie"
           }
          ],
          "scatter": [
           {
            "marker": {
             "colorbar": {
              "outlinewidth": 0,
              "ticks": ""
             }
            },
            "type": "scatter"
           }
          ],
          "scatter3d": [
           {
            "line": {
             "colorbar": {
              "outlinewidth": 0,
              "ticks": ""
             }
            },
            "marker": {
             "colorbar": {
              "outlinewidth": 0,
              "ticks": ""
             }
            },
            "type": "scatter3d"
           }
          ],
          "scattercarpet": [
           {
            "marker": {
             "colorbar": {
              "outlinewidth": 0,
              "ticks": ""
             }
            },
            "type": "scattercarpet"
           }
          ],
          "scattergeo": [
           {
            "marker": {
             "colorbar": {
              "outlinewidth": 0,
              "ticks": ""
             }
            },
            "type": "scattergeo"
           }
          ],
          "scattergl": [
           {
            "marker": {
             "colorbar": {
              "outlinewidth": 0,
              "ticks": ""
             }
            },
            "type": "scattergl"
           }
          ],
          "scattermapbox": [
           {
            "marker": {
             "colorbar": {
              "outlinewidth": 0,
              "ticks": ""
             }
            },
            "type": "scattermapbox"
           }
          ],
          "scatterpolar": [
           {
            "marker": {
             "colorbar": {
              "outlinewidth": 0,
              "ticks": ""
             }
            },
            "type": "scatterpolar"
           }
          ],
          "scatterpolargl": [
           {
            "marker": {
             "colorbar": {
              "outlinewidth": 0,
              "ticks": ""
             }
            },
            "type": "scatterpolargl"
           }
          ],
          "scatterternary": [
           {
            "marker": {
             "colorbar": {
              "outlinewidth": 0,
              "ticks": ""
             }
            },
            "type": "scatterternary"
           }
          ],
          "surface": [
           {
            "colorbar": {
             "outlinewidth": 0,
             "ticks": ""
            },
            "colorscale": [
             [
              0,
              "#0d0887"
             ],
             [
              0.1111111111111111,
              "#46039f"
             ],
             [
              0.2222222222222222,
              "#7201a8"
             ],
             [
              0.3333333333333333,
              "#9c179e"
             ],
             [
              0.4444444444444444,
              "#bd3786"
             ],
             [
              0.5555555555555556,
              "#d8576b"
             ],
             [
              0.6666666666666666,
              "#ed7953"
             ],
             [
              0.7777777777777778,
              "#fb9f3a"
             ],
             [
              0.8888888888888888,
              "#fdca26"
             ],
             [
              1,
              "#f0f921"
             ]
            ],
            "type": "surface"
           }
          ],
          "table": [
           {
            "cells": {
             "fill": {
              "color": "#EBF0F8"
             },
             "line": {
              "color": "white"
             }
            },
            "header": {
             "fill": {
              "color": "#C8D4E3"
             },
             "line": {
              "color": "white"
             }
            },
            "type": "table"
           }
          ]
         },
         "layout": {
          "annotationdefaults": {
           "arrowcolor": "#2a3f5f",
           "arrowhead": 0,
           "arrowwidth": 1
          },
          "coloraxis": {
           "colorbar": {
            "outlinewidth": 0,
            "ticks": ""
           }
          },
          "colorscale": {
           "diverging": [
            [
             0,
             "#8e0152"
            ],
            [
             0.1,
             "#c51b7d"
            ],
            [
             0.2,
             "#de77ae"
            ],
            [
             0.3,
             "#f1b6da"
            ],
            [
             0.4,
             "#fde0ef"
            ],
            [
             0.5,
             "#f7f7f7"
            ],
            [
             0.6,
             "#e6f5d0"
            ],
            [
             0.7,
             "#b8e186"
            ],
            [
             0.8,
             "#7fbc41"
            ],
            [
             0.9,
             "#4d9221"
            ],
            [
             1,
             "#276419"
            ]
           ],
           "sequential": [
            [
             0,
             "#0d0887"
            ],
            [
             0.1111111111111111,
             "#46039f"
            ],
            [
             0.2222222222222222,
             "#7201a8"
            ],
            [
             0.3333333333333333,
             "#9c179e"
            ],
            [
             0.4444444444444444,
             "#bd3786"
            ],
            [
             0.5555555555555556,
             "#d8576b"
            ],
            [
             0.6666666666666666,
             "#ed7953"
            ],
            [
             0.7777777777777778,
             "#fb9f3a"
            ],
            [
             0.8888888888888888,
             "#fdca26"
            ],
            [
             1,
             "#f0f921"
            ]
           ],
           "sequentialminus": [
            [
             0,
             "#0d0887"
            ],
            [
             0.1111111111111111,
             "#46039f"
            ],
            [
             0.2222222222222222,
             "#7201a8"
            ],
            [
             0.3333333333333333,
             "#9c179e"
            ],
            [
             0.4444444444444444,
             "#bd3786"
            ],
            [
             0.5555555555555556,
             "#d8576b"
            ],
            [
             0.6666666666666666,
             "#ed7953"
            ],
            [
             0.7777777777777778,
             "#fb9f3a"
            ],
            [
             0.8888888888888888,
             "#fdca26"
            ],
            [
             1,
             "#f0f921"
            ]
           ]
          },
          "colorway": [
           "#636efa",
           "#EF553B",
           "#00cc96",
           "#ab63fa",
           "#FFA15A",
           "#19d3f3",
           "#FF6692",
           "#B6E880",
           "#FF97FF",
           "#FECB52"
          ],
          "font": {
           "color": "#2a3f5f"
          },
          "geo": {
           "bgcolor": "white",
           "lakecolor": "white",
           "landcolor": "#E5ECF6",
           "showlakes": true,
           "showland": true,
           "subunitcolor": "white"
          },
          "hoverlabel": {
           "align": "left"
          },
          "hovermode": "closest",
          "mapbox": {
           "style": "light"
          },
          "paper_bgcolor": "white",
          "plot_bgcolor": "#E5ECF6",
          "polar": {
           "angularaxis": {
            "gridcolor": "white",
            "linecolor": "white",
            "ticks": ""
           },
           "bgcolor": "#E5ECF6",
           "radialaxis": {
            "gridcolor": "white",
            "linecolor": "white",
            "ticks": ""
           }
          },
          "scene": {
           "xaxis": {
            "backgroundcolor": "#E5ECF6",
            "gridcolor": "white",
            "gridwidth": 2,
            "linecolor": "white",
            "showbackground": true,
            "ticks": "",
            "zerolinecolor": "white"
           },
           "yaxis": {
            "backgroundcolor": "#E5ECF6",
            "gridcolor": "white",
            "gridwidth": 2,
            "linecolor": "white",
            "showbackground": true,
            "ticks": "",
            "zerolinecolor": "white"
           },
           "zaxis": {
            "backgroundcolor": "#E5ECF6",
            "gridcolor": "white",
            "gridwidth": 2,
            "linecolor": "white",
            "showbackground": true,
            "ticks": "",
            "zerolinecolor": "white"
           }
          },
          "shapedefaults": {
           "line": {
            "color": "#2a3f5f"
           }
          },
          "ternary": {
           "aaxis": {
            "gridcolor": "white",
            "linecolor": "white",
            "ticks": ""
           },
           "baxis": {
            "gridcolor": "white",
            "linecolor": "white",
            "ticks": ""
           },
           "bgcolor": "#E5ECF6",
           "caxis": {
            "gridcolor": "white",
            "linecolor": "white",
            "ticks": ""
           }
          },
          "title": {
           "x": 0.05
          },
          "xaxis": {
           "automargin": true,
           "gridcolor": "white",
           "linecolor": "white",
           "ticks": "",
           "title": {
            "standoff": 15
           },
           "zerolinecolor": "white",
           "zerolinewidth": 2
          },
          "yaxis": {
           "automargin": true,
           "gridcolor": "white",
           "linecolor": "white",
           "ticks": "",
           "title": {
            "standoff": 15
           },
           "zerolinecolor": "white",
           "zerolinewidth": 2
          }
         }
        }
       }
      },
      "text/html": [
       "<div>\n",
       "        \n",
       "        \n",
       "            <div id=\"76ff842e-8214-45c2-b2a7-d16bf5b2dea4\" class=\"plotly-graph-div\" style=\"height:525px; width:100%;\"></div>\n",
       "            <script type=\"text/javascript\">\n",
       "                require([\"plotly\"], function(Plotly) {\n",
       "                    window.PLOTLYENV=window.PLOTLYENV || {};\n",
       "                    \n",
       "                if (document.getElementById(\"76ff842e-8214-45c2-b2a7-d16bf5b2dea4\")) {\n",
       "                    Plotly.newPlot(\n",
       "                        '76ff842e-8214-45c2-b2a7-d16bf5b2dea4',\n",
       "                        [{\"cells\": {\"align\": \"left\", \"values\": [[\"Effectif\", \"Moyenne\", \"M\\u00e9diane\", \"Variance\", \"Min.\", \"Max\"], [10, 1, 1, 0, 1.0, 2.0], [\"-\", 2, 1, 1, 0.79, 3.08], [\"-\", 88, 90, 30, 81.0, 95.0]]}, \"columnwidth\": [15, 15], \"header\": {\"align\": \"left\", \"values\": [\"\", \"Score\", \"Ecart-type\", \"Rang percentile\"]}, \"type\": \"table\"}],\n",
       "                        {\"template\": {\"data\": {\"bar\": [{\"error_x\": {\"color\": \"#2a3f5f\"}, \"error_y\": {\"color\": \"#2a3f5f\"}, \"marker\": {\"line\": {\"color\": \"#E5ECF6\", \"width\": 0.5}}, \"type\": \"bar\"}], \"barpolar\": [{\"marker\": {\"line\": {\"color\": \"#E5ECF6\", \"width\": 0.5}}, \"type\": \"barpolar\"}], \"carpet\": [{\"aaxis\": {\"endlinecolor\": \"#2a3f5f\", \"gridcolor\": \"white\", \"linecolor\": \"white\", \"minorgridcolor\": \"white\", \"startlinecolor\": \"#2a3f5f\"}, \"baxis\": {\"endlinecolor\": \"#2a3f5f\", \"gridcolor\": \"white\", \"linecolor\": \"white\", \"minorgridcolor\": \"white\", \"startlinecolor\": \"#2a3f5f\"}, \"type\": \"carpet\"}], \"choropleth\": [{\"colorbar\": {\"outlinewidth\": 0, \"ticks\": \"\"}, \"type\": \"choropleth\"}], \"contour\": [{\"colorbar\": {\"outlinewidth\": 0, \"ticks\": \"\"}, \"colorscale\": [[0.0, \"#0d0887\"], [0.1111111111111111, \"#46039f\"], [0.2222222222222222, \"#7201a8\"], [0.3333333333333333, \"#9c179e\"], [0.4444444444444444, \"#bd3786\"], [0.5555555555555556, \"#d8576b\"], [0.6666666666666666, \"#ed7953\"], [0.7777777777777778, \"#fb9f3a\"], [0.8888888888888888, \"#fdca26\"], [1.0, \"#f0f921\"]], \"type\": \"contour\"}], \"contourcarpet\": [{\"colorbar\": {\"outlinewidth\": 0, \"ticks\": \"\"}, \"type\": \"contourcarpet\"}], \"heatmap\": [{\"colorbar\": {\"outlinewidth\": 0, \"ticks\": \"\"}, \"colorscale\": [[0.0, \"#0d0887\"], [0.1111111111111111, \"#46039f\"], [0.2222222222222222, \"#7201a8\"], [0.3333333333333333, \"#9c179e\"], [0.4444444444444444, \"#bd3786\"], [0.5555555555555556, \"#d8576b\"], [0.6666666666666666, \"#ed7953\"], [0.7777777777777778, \"#fb9f3a\"], [0.8888888888888888, \"#fdca26\"], [1.0, \"#f0f921\"]], \"type\": \"heatmap\"}], \"heatmapgl\": [{\"colorbar\": {\"outlinewidth\": 0, \"ticks\": \"\"}, \"colorscale\": [[0.0, \"#0d0887\"], [0.1111111111111111, \"#46039f\"], [0.2222222222222222, \"#7201a8\"], [0.3333333333333333, \"#9c179e\"], [0.4444444444444444, \"#bd3786\"], [0.5555555555555556, \"#d8576b\"], [0.6666666666666666, \"#ed7953\"], [0.7777777777777778, \"#fb9f3a\"], [0.8888888888888888, \"#fdca26\"], [1.0, \"#f0f921\"]], \"type\": \"heatmapgl\"}], \"histogram\": [{\"marker\": {\"colorbar\": {\"outlinewidth\": 0, \"ticks\": \"\"}}, \"type\": \"histogram\"}], \"histogram2d\": [{\"colorbar\": {\"outlinewidth\": 0, \"ticks\": \"\"}, \"colorscale\": [[0.0, \"#0d0887\"], [0.1111111111111111, \"#46039f\"], [0.2222222222222222, \"#7201a8\"], [0.3333333333333333, \"#9c179e\"], [0.4444444444444444, \"#bd3786\"], [0.5555555555555556, \"#d8576b\"], [0.6666666666666666, \"#ed7953\"], [0.7777777777777778, \"#fb9f3a\"], [0.8888888888888888, \"#fdca26\"], [1.0, \"#f0f921\"]], \"type\": \"histogram2d\"}], \"histogram2dcontour\": [{\"colorbar\": {\"outlinewidth\": 0, \"ticks\": \"\"}, \"colorscale\": [[0.0, \"#0d0887\"], [0.1111111111111111, \"#46039f\"], [0.2222222222222222, \"#7201a8\"], [0.3333333333333333, \"#9c179e\"], [0.4444444444444444, \"#bd3786\"], [0.5555555555555556, \"#d8576b\"], [0.6666666666666666, \"#ed7953\"], [0.7777777777777778, \"#fb9f3a\"], [0.8888888888888888, \"#fdca26\"], [1.0, \"#f0f921\"]], \"type\": \"histogram2dcontour\"}], \"mesh3d\": [{\"colorbar\": {\"outlinewidth\": 0, \"ticks\": \"\"}, \"type\": \"mesh3d\"}], \"parcoords\": [{\"line\": {\"colorbar\": {\"outlinewidth\": 0, \"ticks\": \"\"}}, \"type\": \"parcoords\"}], \"pie\": [{\"automargin\": true, \"type\": \"pie\"}], \"scatter\": [{\"marker\": {\"colorbar\": {\"outlinewidth\": 0, \"ticks\": \"\"}}, \"type\": \"scatter\"}], \"scatter3d\": [{\"line\": {\"colorbar\": {\"outlinewidth\": 0, \"ticks\": \"\"}}, \"marker\": {\"colorbar\": {\"outlinewidth\": 0, \"ticks\": \"\"}}, \"type\": \"scatter3d\"}], \"scattercarpet\": [{\"marker\": {\"colorbar\": {\"outlinewidth\": 0, \"ticks\": \"\"}}, \"type\": \"scattercarpet\"}], \"scattergeo\": [{\"marker\": {\"colorbar\": {\"outlinewidth\": 0, \"ticks\": \"\"}}, \"type\": \"scattergeo\"}], \"scattergl\": [{\"marker\": {\"colorbar\": {\"outlinewidth\": 0, \"ticks\": \"\"}}, \"type\": \"scattergl\"}], \"scattermapbox\": [{\"marker\": {\"colorbar\": {\"outlinewidth\": 0, \"ticks\": \"\"}}, \"type\": \"scattermapbox\"}], \"scatterpolar\": [{\"marker\": {\"colorbar\": {\"outlinewidth\": 0, \"ticks\": \"\"}}, \"type\": \"scatterpolar\"}], \"scatterpolargl\": [{\"marker\": {\"colorbar\": {\"outlinewidth\": 0, \"ticks\": \"\"}}, \"type\": \"scatterpolargl\"}], \"scatterternary\": [{\"marker\": {\"colorbar\": {\"outlinewidth\": 0, \"ticks\": \"\"}}, \"type\": \"scatterternary\"}], \"surface\": [{\"colorbar\": {\"outlinewidth\": 0, \"ticks\": \"\"}, \"colorscale\": [[0.0, \"#0d0887\"], [0.1111111111111111, \"#46039f\"], [0.2222222222222222, \"#7201a8\"], [0.3333333333333333, \"#9c179e\"], [0.4444444444444444, \"#bd3786\"], [0.5555555555555556, \"#d8576b\"], [0.6666666666666666, \"#ed7953\"], [0.7777777777777778, \"#fb9f3a\"], [0.8888888888888888, \"#fdca26\"], [1.0, \"#f0f921\"]], \"type\": \"surface\"}], \"table\": [{\"cells\": {\"fill\": {\"color\": \"#EBF0F8\"}, \"line\": {\"color\": \"white\"}}, \"header\": {\"fill\": {\"color\": \"#C8D4E3\"}, \"line\": {\"color\": \"white\"}}, \"type\": \"table\"}]}, \"layout\": {\"annotationdefaults\": {\"arrowcolor\": \"#2a3f5f\", \"arrowhead\": 0, \"arrowwidth\": 1}, \"coloraxis\": {\"colorbar\": {\"outlinewidth\": 0, \"ticks\": \"\"}}, \"colorscale\": {\"diverging\": [[0, \"#8e0152\"], [0.1, \"#c51b7d\"], [0.2, \"#de77ae\"], [0.3, \"#f1b6da\"], [0.4, \"#fde0ef\"], [0.5, \"#f7f7f7\"], [0.6, \"#e6f5d0\"], [0.7, \"#b8e186\"], [0.8, \"#7fbc41\"], [0.9, \"#4d9221\"], [1, \"#276419\"]], \"sequential\": [[0.0, \"#0d0887\"], [0.1111111111111111, \"#46039f\"], [0.2222222222222222, \"#7201a8\"], [0.3333333333333333, \"#9c179e\"], [0.4444444444444444, \"#bd3786\"], [0.5555555555555556, \"#d8576b\"], [0.6666666666666666, \"#ed7953\"], [0.7777777777777778, \"#fb9f3a\"], [0.8888888888888888, \"#fdca26\"], [1.0, \"#f0f921\"]], \"sequentialminus\": [[0.0, \"#0d0887\"], [0.1111111111111111, \"#46039f\"], [0.2222222222222222, \"#7201a8\"], [0.3333333333333333, \"#9c179e\"], [0.4444444444444444, \"#bd3786\"], [0.5555555555555556, \"#d8576b\"], [0.6666666666666666, \"#ed7953\"], [0.7777777777777778, \"#fb9f3a\"], [0.8888888888888888, \"#fdca26\"], [1.0, \"#f0f921\"]]}, \"colorway\": [\"#636efa\", \"#EF553B\", \"#00cc96\", \"#ab63fa\", \"#FFA15A\", \"#19d3f3\", \"#FF6692\", \"#B6E880\", \"#FF97FF\", \"#FECB52\"], \"font\": {\"color\": \"#2a3f5f\"}, \"geo\": {\"bgcolor\": \"white\", \"lakecolor\": \"white\", \"landcolor\": \"#E5ECF6\", \"showlakes\": true, \"showland\": true, \"subunitcolor\": \"white\"}, \"hoverlabel\": {\"align\": \"left\"}, \"hovermode\": \"closest\", \"mapbox\": {\"style\": \"light\"}, \"paper_bgcolor\": \"white\", \"plot_bgcolor\": \"#E5ECF6\", \"polar\": {\"angularaxis\": {\"gridcolor\": \"white\", \"linecolor\": \"white\", \"ticks\": \"\"}, \"bgcolor\": \"#E5ECF6\", \"radialaxis\": {\"gridcolor\": \"white\", \"linecolor\": \"white\", \"ticks\": \"\"}}, \"scene\": {\"xaxis\": {\"backgroundcolor\": \"#E5ECF6\", \"gridcolor\": \"white\", \"gridwidth\": 2, \"linecolor\": \"white\", \"showbackground\": true, \"ticks\": \"\", \"zerolinecolor\": \"white\"}, \"yaxis\": {\"backgroundcolor\": \"#E5ECF6\", \"gridcolor\": \"white\", \"gridwidth\": 2, \"linecolor\": \"white\", \"showbackground\": true, \"ticks\": \"\", \"zerolinecolor\": \"white\"}, \"zaxis\": {\"backgroundcolor\": \"#E5ECF6\", \"gridcolor\": \"white\", \"gridwidth\": 2, \"linecolor\": \"white\", \"showbackground\": true, \"ticks\": \"\", \"zerolinecolor\": \"white\"}}, \"shapedefaults\": {\"line\": {\"color\": \"#2a3f5f\"}}, \"ternary\": {\"aaxis\": {\"gridcolor\": \"white\", \"linecolor\": \"white\", \"ticks\": \"\"}, \"baxis\": {\"gridcolor\": \"white\", \"linecolor\": \"white\", \"ticks\": \"\"}, \"bgcolor\": \"#E5ECF6\", \"caxis\": {\"gridcolor\": \"white\", \"linecolor\": \"white\", \"ticks\": \"\"}}, \"title\": {\"x\": 0.05}, \"xaxis\": {\"automargin\": true, \"gridcolor\": \"white\", \"linecolor\": \"white\", \"ticks\": \"\", \"title\": {\"standoff\": 15}, \"zerolinecolor\": \"white\", \"zerolinewidth\": 2}, \"yaxis\": {\"automargin\": true, \"gridcolor\": \"white\", \"linecolor\": \"white\", \"ticks\": \"\", \"title\": {\"standoff\": 15}, \"zerolinecolor\": \"white\", \"zerolinewidth\": 2}}}},\n",
       "                        {\"responsive\": true}\n",
       "                    ).then(function(){\n",
       "                            \n",
       "var gd = document.getElementById('76ff842e-8214-45c2-b2a7-d16bf5b2dea4');\n",
       "var x = new MutationObserver(function (mutations, observer) {{\n",
       "        var display = window.getComputedStyle(gd).display;\n",
       "        if (!display || display === 'none') {{\n",
       "            console.log([gd, 'removed!']);\n",
       "            Plotly.purge(gd);\n",
       "            observer.disconnect();\n",
       "        }}\n",
       "}});\n",
       "\n",
       "// Listen for the removal of the full notebook cells\n",
       "var notebookContainer = gd.closest('#notebook-container');\n",
       "if (notebookContainer) {{\n",
       "    x.observe(notebookContainer, {childList: true});\n",
       "}}\n",
       "\n",
       "// Listen for the clearing of the current output cell\n",
       "var outputEl = gd.closest('.output');\n",
       "if (outputEl) {{\n",
       "    x.observe(outputEl, {childList: true});\n",
       "}}\n",
       "\n",
       "                        })\n",
       "                };\n",
       "                });\n",
       "            </script>\n",
       "        </div>"
      ]
     },
     "metadata": {},
     "output_type": "display_data"
    }
   ],
   "source": [
    "df_deno=df_str[df_str[\"Nombre d’erreurs non corrigées (Int-déno)\"].notna()&(df_str[\"Nombre d’erreurs non corrigées (Int-déno)\"]!=0)]\n",
    "nb = len(df_deno)\n",
    "if nb > 0:\n",
    "    nb_avg = round(df_deno[\"Nombre d’erreurs non corrigées (Int-déno)\"].mean())\n",
    "    nb_med = round(df_deno[\"Nombre d’erreurs non corrigées (Int-déno)\"].median())\n",
    "    nb_var = round(df_deno[\"Nombre d’erreurs non corrigées (Int-déno)\"].var())\n",
    "    nb_min = df_deno[\"Nombre d’erreurs non corrigées (Int-déno)\"].min()\n",
    "    nb_max = df_deno[\"Nombre d’erreurs non corrigées (Int-déno)\"].max()\n",
    "    #\n",
    "    ec_avg = round(df_deno[\"Ecart type - Nombre d’erreurs non corrigées (Int-déno)\"].mean())\n",
    "    ec_med = round(df_deno[\"Ecart type - Nombre d’erreurs non corrigées (Int-déno)\"].median())\n",
    "    ec_var = round(df_deno[\"Ecart type - Nombre d’erreurs non corrigées (Int-déno)\"].var())\n",
    "    ec_min = df_deno[\"Ecart type - Nombre d’erreurs non corrigées (Int-déno)\"].min()\n",
    "    ec_max = df_deno[\"Ecart type - Nombre d’erreurs non corrigées (Int-déno)\"].max()\n",
    "    #\n",
    "    rp_avg = round(df_deno[\"Rang percentile - Nombre d’erreurs non corrigées (Int-déno)\"].mean())\n",
    "    rp_med = round(df_deno[\"Rang percentile - Nombre d’erreurs non corrigées (Int-déno)\"].median())\n",
    "    rp_var = round(df_deno[\"Rang percentile - Nombre d’erreurs non corrigées (Int-déno)\"].var())\n",
    "    rp_min = df_deno[\"Rang percentile - Nombre d’erreurs non corrigées (Int-déno)\"].min()\n",
    "    rp_max = df_deno[\"Rang percentile - Nombre d’erreurs non corrigées (Int-déno)\"].max()\n",
    "else:\n",
    "    nb_avg = nb_med = nb_var = nb_min = nb_max = ec_avg = ec_med = ec_var = ec_min = ec_max = rp_avg= rp_med = rp_var = rp_min = rp_max=0\n",
    "columns = ['',\"Score\", \"Ecart-type\", \"Rang percentile\"]\n",
    "\n",
    "myarr = [['Effectif', 'Moyenne', 'Médiane', 'Variance', 'Min.', 'Max']]\n",
    "myarr.append([nb, nb_avg, nb_med, nb_var, nb_min, nb_max])\n",
    "myarr.append(['-',ec_avg, ec_med, ec_var, ec_min, ec_max])\n",
    "myarr.append(['-',rp_avg, rp_med, rp_var, rp_min, rp_max])\n",
    "\n",
    "\n",
    "tab =  go.Table(\n",
    "                columnwidth = [15,15],\n",
    "                header=dict(values=list(columns),\n",
    "                align='left'),\n",
    "                cells=dict(values= myarr,align='left'))\n",
    "fig = go.Figure(data=tab)\n",
    "fig.show()"
   ]
  },
  {
   "cell_type": "code",
   "execution_count": null,
   "metadata": {},
   "outputs": [],
   "source": []
  }
 ],
 "metadata": {
  "kernelspec": {
   "display_name": "Python 3",
   "language": "python",
   "name": "python3"
  },
  "language_info": {
   "codemirror_mode": {
    "name": "ipython",
    "version": 3
   },
   "file_extension": ".py",
   "mimetype": "text/x-python",
   "name": "python",
   "nbconvert_exporter": "python",
   "pygments_lexer": "ipython3",
   "version": "3.7.4"
  },
  "widgets": {
   "application/vnd.jupyter.widget-state+json": {
    "state": {},
    "version_major": 2,
    "version_minor": 0
   }
  }
 },
 "nbformat": 4,
 "nbformat_minor": 2
}
