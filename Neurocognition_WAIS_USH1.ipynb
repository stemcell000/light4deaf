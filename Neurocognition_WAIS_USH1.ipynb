{
 "cells": [
  {
   "cell_type": "code",
   "execution_count": 6,
   "metadata": {
    "ExecuteTime": {
     "end_time": "2020-11-26T13:35:32.593454Z",
     "start_time": "2020-11-26T13:35:31.006315Z"
    }
   },
   "outputs": [],
   "source": [
    "import pandas as pd\n",
    "import numpy as np\n",
    "import warnings\n",
    "import scipy as sp\n",
    "from datetime import datetime\n",
    "from IPython.display import display\n",
    "import plotly\n",
    "import plotly.figure_factory as ff\n",
    "import plotly.graph_objects as go\n",
    "import plotly.express as px\n",
    "from IPython.core.display import display, HTML\n",
    "from plotly.subplots import make_subplots\n",
    "from IPython.display import display\n",
    "autoscroll_set_on_load = True\n",
    "autoscroll_starting_threshold = -1\n",
    "pd.options.display.max_columns = None\n",
    "pd.options.display.max_rows = None\n",
    "df = pd.read_excel('data/LIGHT4DEAF_Neurocognition_Avril_2020_1_FULL_ADULTES_20200504.xlsx')"
   ]
  },
  {
   "cell_type": "code",
   "execution_count": 2,
   "metadata": {
    "ExecuteTime": {
     "end_time": "2020-07-06T12:35:17.107654Z",
     "start_time": "2020-07-06T12:35:17.099574Z"
    }
   },
   "outputs": [
    {
     "data": {
      "text/html": [
       "<script>\n",
       "code_show=true; \n",
       "function code_toggle() {\n",
       " if (code_show){\n",
       " $('div.input').hide();\n",
       " } else {\n",
       " $('div.input').show();\n",
       " }\n",
       " code_show = !code_show\n",
       "} \n",
       "$( document ).ready(code_toggle);\n",
       "</script>\n",
       "The raw code for this IPython notebook is by default hidden for easier reading.\n",
       "To toggle on/off the raw code, click <a href=\"javascript:code_toggle()\">here</a>."
      ],
      "text/plain": [
       "<IPython.core.display.HTML object>"
      ]
     },
     "execution_count": 2,
     "metadata": {},
     "output_type": "execute_result"
    }
   ],
   "source": [
    "HTML('''<script>\n",
    "code_show=true; \n",
    "function code_toggle() {\n",
    " if (code_show){\n",
    " $('div.input').hide();\n",
    " } else {\n",
    " $('div.input').show();\n",
    " }\n",
    " code_show = !code_show\n",
    "} \n",
    "$( document ).ready(code_toggle);\n",
    "</script>\n",
    "The raw code for this IPython notebook is by default hidden for easier reading.\n",
    "To toggle on/off the raw code, click <a href=\"javascript:code_toggle()\">here</a>.''')"
   ]
  },
  {
   "cell_type": "code",
   "execution_count": 14,
   "metadata": {
    "ExecuteTime": {
     "end_time": "2020-11-26T13:37:25.048859Z",
     "start_time": "2020-11-26T13:37:25.039370Z"
    }
   },
   "outputs": [],
   "source": [
    "df = df[df[\"Investigateur\"].notnull()]\n",
    "\n",
    "cardinal = len(df)\n",
    "\n",
    "now = datetime.now()\n",
    "df['Date de naissance du patient'] = pd.to_datetime(df['Date de naissance du patient'], format='%m/%d/%y')\n",
    "df['Date de naissance du patient'] = df['Date de naissance du patient'].where(df['Date de naissance du patient'] < now, df['Date de naissance du patient'] -  np.timedelta64(100, 'Y')) \n",
    "df['age'] = (now - df['Date de naissance du patient']).astype('<m8[Y]')\n",
    "\n",
    "#Patients adultes : type\n",
    "df_type1 = df[df[\"Type\"]=='Type 1']\n",
    "#df_type2 = df[df[\"Type\"]=='Type 2']\n",
    "#df_type3 = df[df[\"Type\"]=='Type 3']\n",
    "#df_type_nan = df[df[\"Type\"].isna()]"
   ]
  },
  {
   "cell_type": "code",
   "execution_count": 15,
   "metadata": {
    "ExecuteTime": {
     "end_time": "2020-11-26T13:37:27.905915Z",
     "start_time": "2020-11-26T13:37:27.902191Z"
    }
   },
   "outputs": [],
   "source": [
    "df = df[df[\"Type\"]=='Type 1']"
   ]
  },
  {
   "cell_type": "code",
   "execution_count": 16,
   "metadata": {
    "ExecuteTime": {
     "end_time": "2020-11-26T13:37:29.618869Z",
     "start_time": "2020-11-26T13:37:29.611964Z"
    }
   },
   "outputs": [
    {
     "data": {
      "text/html": [
       "<h1>L i g h t 4 d e a f</h1>"
      ],
      "text/plain": [
       "<IPython.core.display.HTML object>"
      ]
     },
     "metadata": {},
     "output_type": "display_data"
    },
    {
     "data": {
      "text/html": [
       "<h2>Neurocognition - WAIS</h2>"
      ],
      "text/plain": [
       "<IPython.core.display.HTML object>"
      ]
     },
     "metadata": {},
     "output_type": "display_data"
    },
    {
     "data": {
      "text/html": [
       "<h3>Description de l'échantillon</h3>"
      ],
      "text/plain": [
       "<IPython.core.display.HTML object>"
      ]
     },
     "metadata": {},
     "output_type": "display_data"
    },
    {
     "data": {
      "text/html": [
       "<h4>1. Données : </h4>"
      ],
      "text/plain": [
       "<IPython.core.display.HTML object>"
      ]
     },
     "metadata": {},
     "output_type": "display_data"
    }
   ],
   "source": [
    "display(HTML('<h1>L i g h t 4 d e a f</h1>'))\n",
    "display(HTML('<h2>Neurocognition - WAIS</h2>'))\n",
    "display(HTML(\"<h3>Description de l'échantillon</h3>\"))\n",
    "display(HTML(\"<h4>1. Données : </h4>\"))\n"
   ]
  },
  {
   "cell_type": "code",
   "execution_count": 17,
   "metadata": {
    "ExecuteTime": {
     "end_time": "2020-11-26T13:37:33.839484Z",
     "start_time": "2020-11-26T13:37:33.835910Z"
    }
   },
   "outputs": [],
   "source": [
    "cols = df.columns.values.tolist()\n",
    "cols.index('WAIS')\n",
    "cols.index('Autre commentaire WAIS')\n",
    "arr = cols[cols.index('WAIS'):cols.index('Autre commentaire WAIS')]\n",
    "arr.insert(0,\"ID_SECONDAIRE\")\n",
    "arr.insert(1,\"age\")\n",
    "arr.insert(2,\"Type\")"
   ]
  },
  {
   "cell_type": "code",
   "execution_count": 18,
   "metadata": {
    "ExecuteTime": {
     "end_time": "2020-11-26T13:37:35.826439Z",
     "start_time": "2020-11-26T13:37:35.822808Z"
    }
   },
   "outputs": [],
   "source": [
    "df_wais = df.loc[:,arr]"
   ]
  },
  {
   "cell_type": "code",
   "execution_count": 19,
   "metadata": {
    "ExecuteTime": {
     "end_time": "2020-11-26T13:37:37.580349Z",
     "start_time": "2020-11-26T13:37:37.575004Z"
    }
   },
   "outputs": [],
   "source": [
    "#df_wais.loc[df_wais['Type']==\"Type 2\", 'Type_color']=\"#B3D9FF\"\n",
    "df_wais.loc[df_wais['Type']==\"Type 1\", 'Type_color']=\"#33ffc9\"\n",
    "#df_wais.loc[df_wais['Type']==\"Type 3\", 'Type_color']=\"#FFC433\"\n",
    "#df_wais.loc[df_wais['Type'].isna(), 'Type_color']=\"#C5C5C5\"\n",
    "#df_wais['Type'].fillna('Type inconnu', inplace= True)"
   ]
  },
  {
   "cell_type": "code",
   "execution_count": 20,
   "metadata": {
    "ExecuteTime": {
     "end_time": "2020-11-26T13:37:56.305730Z",
     "start_time": "2020-11-26T13:37:56.299738Z"
    }
   },
   "outputs": [
    {
     "data": {
      "text/html": [
       "<p>Nombre de patients Type1 ayant effectué le test (WAIS = Oui) : 20/20 patients</p>"
      ],
      "text/plain": [
       "<IPython.core.display.HTML object>"
      ]
     },
     "metadata": {},
     "output_type": "display_data"
    }
   ],
   "source": [
    "display(HTML('<p>Nombre de patients Type1 ayant effectué le test (WAIS = Oui) : '+str(len(df_wais[df_wais['WAIS']=='Oui']))+'/'+str(cardinal)+' patients</p>'))"
   ]
  },
  {
   "cell_type": "code",
   "execution_count": 23,
   "metadata": {
    "ExecuteTime": {
     "end_time": "2020-11-26T13:38:33.950582Z",
     "start_time": "2020-11-26T13:38:33.816594Z"
    }
   },
   "outputs": [
    {
     "data": {
      "application/vnd.plotly.v1+json": {
       "config": {
        "plotlyServerURL": "https://plot.ly"
       },
       "data": [
        {
         "cells": {
          "align": "left",
          "values": [
           [
            "Effectif",
            "Moyenne",
            "Moy. âge",
            "Médiane",
            "Min.",
            "Max."
           ],
           [
            12,
            7.75,
            28,
            6.5,
            14,
            3
           ],
           [
            12,
            7.25,
            29,
            6,
            16,
            1
           ],
           [
            12,
            7.17,
            30,
            7.5,
            14,
            2
           ],
           [
            20,
            9.25,
            30,
            9.5,
            16,
            2
           ],
           [
            19,
            7.42,
            30,
            7,
            12,
            2
           ],
           [
            17,
            9.41,
            30,
            9,
            15,
            5
           ],
           [
            17,
            4.82,
            29,
            4,
            11,
            1
           ],
           [
            17,
            5.88,
            29,
            5,
            14,
            1
           ],
           [
            19,
            6.32,
            29,
            7,
            12,
            1
           ],
           [
            18,
            7.06,
            29,
            7.5,
            15,
            1
           ]
          ]
         },
         "header": {
          "align": "left",
          "values": [
           "Calcul",
           "Note standard Similitudes",
           "Note standard Vocabulaire",
           "Note standard Information",
           "Note standard Cubes",
           "Note standard Matrices",
           "Note standard Puzzles visuels",
           "Note standard Mémoires des chiffres",
           "Note standard Arithmétique",
           "Note standard Symboles",
           "Note standard Code"
          ]
         },
         "type": "table"
        }
       ],
       "layout": {
        "height": 400,
        "template": {
         "data": {
          "bar": [
           {
            "error_x": {
             "color": "#2a3f5f"
            },
            "error_y": {
             "color": "#2a3f5f"
            },
            "marker": {
             "line": {
              "color": "#E5ECF6",
              "width": 0.5
             }
            },
            "type": "bar"
           }
          ],
          "barpolar": [
           {
            "marker": {
             "line": {
              "color": "#E5ECF6",
              "width": 0.5
             }
            },
            "type": "barpolar"
           }
          ],
          "carpet": [
           {
            "aaxis": {
             "endlinecolor": "#2a3f5f",
             "gridcolor": "white",
             "linecolor": "white",
             "minorgridcolor": "white",
             "startlinecolor": "#2a3f5f"
            },
            "baxis": {
             "endlinecolor": "#2a3f5f",
             "gridcolor": "white",
             "linecolor": "white",
             "minorgridcolor": "white",
             "startlinecolor": "#2a3f5f"
            },
            "type": "carpet"
           }
          ],
          "choropleth": [
           {
            "colorbar": {
             "outlinewidth": 0,
             "ticks": ""
            },
            "type": "choropleth"
           }
          ],
          "contour": [
           {
            "colorbar": {
             "outlinewidth": 0,
             "ticks": ""
            },
            "colorscale": [
             [
              0,
              "#0d0887"
             ],
             [
              0.1111111111111111,
              "#46039f"
             ],
             [
              0.2222222222222222,
              "#7201a8"
             ],
             [
              0.3333333333333333,
              "#9c179e"
             ],
             [
              0.4444444444444444,
              "#bd3786"
             ],
             [
              0.5555555555555556,
              "#d8576b"
             ],
             [
              0.6666666666666666,
              "#ed7953"
             ],
             [
              0.7777777777777778,
              "#fb9f3a"
             ],
             [
              0.8888888888888888,
              "#fdca26"
             ],
             [
              1,
              "#f0f921"
             ]
            ],
            "type": "contour"
           }
          ],
          "contourcarpet": [
           {
            "colorbar": {
             "outlinewidth": 0,
             "ticks": ""
            },
            "type": "contourcarpet"
           }
          ],
          "heatmap": [
           {
            "colorbar": {
             "outlinewidth": 0,
             "ticks": ""
            },
            "colorscale": [
             [
              0,
              "#0d0887"
             ],
             [
              0.1111111111111111,
              "#46039f"
             ],
             [
              0.2222222222222222,
              "#7201a8"
             ],
             [
              0.3333333333333333,
              "#9c179e"
             ],
             [
              0.4444444444444444,
              "#bd3786"
             ],
             [
              0.5555555555555556,
              "#d8576b"
             ],
             [
              0.6666666666666666,
              "#ed7953"
             ],
             [
              0.7777777777777778,
              "#fb9f3a"
             ],
             [
              0.8888888888888888,
              "#fdca26"
             ],
             [
              1,
              "#f0f921"
             ]
            ],
            "type": "heatmap"
           }
          ],
          "heatmapgl": [
           {
            "colorbar": {
             "outlinewidth": 0,
             "ticks": ""
            },
            "colorscale": [
             [
              0,
              "#0d0887"
             ],
             [
              0.1111111111111111,
              "#46039f"
             ],
             [
              0.2222222222222222,
              "#7201a8"
             ],
             [
              0.3333333333333333,
              "#9c179e"
             ],
             [
              0.4444444444444444,
              "#bd3786"
             ],
             [
              0.5555555555555556,
              "#d8576b"
             ],
             [
              0.6666666666666666,
              "#ed7953"
             ],
             [
              0.7777777777777778,
              "#fb9f3a"
             ],
             [
              0.8888888888888888,
              "#fdca26"
             ],
             [
              1,
              "#f0f921"
             ]
            ],
            "type": "heatmapgl"
           }
          ],
          "histogram": [
           {
            "marker": {
             "colorbar": {
              "outlinewidth": 0,
              "ticks": ""
             }
            },
            "type": "histogram"
           }
          ],
          "histogram2d": [
           {
            "colorbar": {
             "outlinewidth": 0,
             "ticks": ""
            },
            "colorscale": [
             [
              0,
              "#0d0887"
             ],
             [
              0.1111111111111111,
              "#46039f"
             ],
             [
              0.2222222222222222,
              "#7201a8"
             ],
             [
              0.3333333333333333,
              "#9c179e"
             ],
             [
              0.4444444444444444,
              "#bd3786"
             ],
             [
              0.5555555555555556,
              "#d8576b"
             ],
             [
              0.6666666666666666,
              "#ed7953"
             ],
             [
              0.7777777777777778,
              "#fb9f3a"
             ],
             [
              0.8888888888888888,
              "#fdca26"
             ],
             [
              1,
              "#f0f921"
             ]
            ],
            "type": "histogram2d"
           }
          ],
          "histogram2dcontour": [
           {
            "colorbar": {
             "outlinewidth": 0,
             "ticks": ""
            },
            "colorscale": [
             [
              0,
              "#0d0887"
             ],
             [
              0.1111111111111111,
              "#46039f"
             ],
             [
              0.2222222222222222,
              "#7201a8"
             ],
             [
              0.3333333333333333,
              "#9c179e"
             ],
             [
              0.4444444444444444,
              "#bd3786"
             ],
             [
              0.5555555555555556,
              "#d8576b"
             ],
             [
              0.6666666666666666,
              "#ed7953"
             ],
             [
              0.7777777777777778,
              "#fb9f3a"
             ],
             [
              0.8888888888888888,
              "#fdca26"
             ],
             [
              1,
              "#f0f921"
             ]
            ],
            "type": "histogram2dcontour"
           }
          ],
          "mesh3d": [
           {
            "colorbar": {
             "outlinewidth": 0,
             "ticks": ""
            },
            "type": "mesh3d"
           }
          ],
          "parcoords": [
           {
            "line": {
             "colorbar": {
              "outlinewidth": 0,
              "ticks": ""
             }
            },
            "type": "parcoords"
           }
          ],
          "pie": [
           {
            "automargin": true,
            "type": "pie"
           }
          ],
          "scatter": [
           {
            "marker": {
             "colorbar": {
              "outlinewidth": 0,
              "ticks": ""
             }
            },
            "type": "scatter"
           }
          ],
          "scatter3d": [
           {
            "line": {
             "colorbar": {
              "outlinewidth": 0,
              "ticks": ""
             }
            },
            "marker": {
             "colorbar": {
              "outlinewidth": 0,
              "ticks": ""
             }
            },
            "type": "scatter3d"
           }
          ],
          "scattercarpet": [
           {
            "marker": {
             "colorbar": {
              "outlinewidth": 0,
              "ticks": ""
             }
            },
            "type": "scattercarpet"
           }
          ],
          "scattergeo": [
           {
            "marker": {
             "colorbar": {
              "outlinewidth": 0,
              "ticks": ""
             }
            },
            "type": "scattergeo"
           }
          ],
          "scattergl": [
           {
            "marker": {
             "colorbar": {
              "outlinewidth": 0,
              "ticks": ""
             }
            },
            "type": "scattergl"
           }
          ],
          "scattermapbox": [
           {
            "marker": {
             "colorbar": {
              "outlinewidth": 0,
              "ticks": ""
             }
            },
            "type": "scattermapbox"
           }
          ],
          "scatterpolar": [
           {
            "marker": {
             "colorbar": {
              "outlinewidth": 0,
              "ticks": ""
             }
            },
            "type": "scatterpolar"
           }
          ],
          "scatterpolargl": [
           {
            "marker": {
             "colorbar": {
              "outlinewidth": 0,
              "ticks": ""
             }
            },
            "type": "scatterpolargl"
           }
          ],
          "scatterternary": [
           {
            "marker": {
             "colorbar": {
              "outlinewidth": 0,
              "ticks": ""
             }
            },
            "type": "scatterternary"
           }
          ],
          "surface": [
           {
            "colorbar": {
             "outlinewidth": 0,
             "ticks": ""
            },
            "colorscale": [
             [
              0,
              "#0d0887"
             ],
             [
              0.1111111111111111,
              "#46039f"
             ],
             [
              0.2222222222222222,
              "#7201a8"
             ],
             [
              0.3333333333333333,
              "#9c179e"
             ],
             [
              0.4444444444444444,
              "#bd3786"
             ],
             [
              0.5555555555555556,
              "#d8576b"
             ],
             [
              0.6666666666666666,
              "#ed7953"
             ],
             [
              0.7777777777777778,
              "#fb9f3a"
             ],
             [
              0.8888888888888888,
              "#fdca26"
             ],
             [
              1,
              "#f0f921"
             ]
            ],
            "type": "surface"
           }
          ],
          "table": [
           {
            "cells": {
             "fill": {
              "color": "#EBF0F8"
             },
             "line": {
              "color": "white"
             }
            },
            "header": {
             "fill": {
              "color": "#C8D4E3"
             },
             "line": {
              "color": "white"
             }
            },
            "type": "table"
           }
          ]
         },
         "layout": {
          "annotationdefaults": {
           "arrowcolor": "#2a3f5f",
           "arrowhead": 0,
           "arrowwidth": 1
          },
          "coloraxis": {
           "colorbar": {
            "outlinewidth": 0,
            "ticks": ""
           }
          },
          "colorscale": {
           "diverging": [
            [
             0,
             "#8e0152"
            ],
            [
             0.1,
             "#c51b7d"
            ],
            [
             0.2,
             "#de77ae"
            ],
            [
             0.3,
             "#f1b6da"
            ],
            [
             0.4,
             "#fde0ef"
            ],
            [
             0.5,
             "#f7f7f7"
            ],
            [
             0.6,
             "#e6f5d0"
            ],
            [
             0.7,
             "#b8e186"
            ],
            [
             0.8,
             "#7fbc41"
            ],
            [
             0.9,
             "#4d9221"
            ],
            [
             1,
             "#276419"
            ]
           ],
           "sequential": [
            [
             0,
             "#0d0887"
            ],
            [
             0.1111111111111111,
             "#46039f"
            ],
            [
             0.2222222222222222,
             "#7201a8"
            ],
            [
             0.3333333333333333,
             "#9c179e"
            ],
            [
             0.4444444444444444,
             "#bd3786"
            ],
            [
             0.5555555555555556,
             "#d8576b"
            ],
            [
             0.6666666666666666,
             "#ed7953"
            ],
            [
             0.7777777777777778,
             "#fb9f3a"
            ],
            [
             0.8888888888888888,
             "#fdca26"
            ],
            [
             1,
             "#f0f921"
            ]
           ],
           "sequentialminus": [
            [
             0,
             "#0d0887"
            ],
            [
             0.1111111111111111,
             "#46039f"
            ],
            [
             0.2222222222222222,
             "#7201a8"
            ],
            [
             0.3333333333333333,
             "#9c179e"
            ],
            [
             0.4444444444444444,
             "#bd3786"
            ],
            [
             0.5555555555555556,
             "#d8576b"
            ],
            [
             0.6666666666666666,
             "#ed7953"
            ],
            [
             0.7777777777777778,
             "#fb9f3a"
            ],
            [
             0.8888888888888888,
             "#fdca26"
            ],
            [
             1,
             "#f0f921"
            ]
           ]
          },
          "colorway": [
           "#636efa",
           "#EF553B",
           "#00cc96",
           "#ab63fa",
           "#FFA15A",
           "#19d3f3",
           "#FF6692",
           "#B6E880",
           "#FF97FF",
           "#FECB52"
          ],
          "font": {
           "color": "#2a3f5f"
          },
          "geo": {
           "bgcolor": "white",
           "lakecolor": "white",
           "landcolor": "#E5ECF6",
           "showlakes": true,
           "showland": true,
           "subunitcolor": "white"
          },
          "hoverlabel": {
           "align": "left"
          },
          "hovermode": "closest",
          "mapbox": {
           "style": "light"
          },
          "paper_bgcolor": "white",
          "plot_bgcolor": "#E5ECF6",
          "polar": {
           "angularaxis": {
            "gridcolor": "white",
            "linecolor": "white",
            "ticks": ""
           },
           "bgcolor": "#E5ECF6",
           "radialaxis": {
            "gridcolor": "white",
            "linecolor": "white",
            "ticks": ""
           }
          },
          "scene": {
           "xaxis": {
            "backgroundcolor": "#E5ECF6",
            "gridcolor": "white",
            "gridwidth": 2,
            "linecolor": "white",
            "showbackground": true,
            "ticks": "",
            "zerolinecolor": "white"
           },
           "yaxis": {
            "backgroundcolor": "#E5ECF6",
            "gridcolor": "white",
            "gridwidth": 2,
            "linecolor": "white",
            "showbackground": true,
            "ticks": "",
            "zerolinecolor": "white"
           },
           "zaxis": {
            "backgroundcolor": "#E5ECF6",
            "gridcolor": "white",
            "gridwidth": 2,
            "linecolor": "white",
            "showbackground": true,
            "ticks": "",
            "zerolinecolor": "white"
           }
          },
          "shapedefaults": {
           "line": {
            "color": "#2a3f5f"
           }
          },
          "ternary": {
           "aaxis": {
            "gridcolor": "white",
            "linecolor": "white",
            "ticks": ""
           },
           "baxis": {
            "gridcolor": "white",
            "linecolor": "white",
            "ticks": ""
           },
           "bgcolor": "#E5ECF6",
           "caxis": {
            "gridcolor": "white",
            "linecolor": "white",
            "ticks": ""
           }
          },
          "title": {
           "x": 0.05
          },
          "xaxis": {
           "automargin": true,
           "gridcolor": "white",
           "linecolor": "white",
           "ticks": "",
           "title": {
            "standoff": 15
           },
           "zerolinecolor": "white",
           "zerolinewidth": 2
          },
          "yaxis": {
           "automargin": true,
           "gridcolor": "white",
           "linecolor": "white",
           "ticks": "",
           "title": {
            "standoff": 15
           },
           "zerolinecolor": "white",
           "zerolinewidth": 2
          }
         }
        },
        "width": 1000
       }
      },
      "text/html": [
       "<div>\n",
       "        \n",
       "        \n",
       "            <div id=\"2e96020b-418a-4de2-887e-bb55e3222d5c\" class=\"plotly-graph-div\" style=\"height:400px; width:1000px;\"></div>\n",
       "            <script type=\"text/javascript\">\n",
       "                require([\"plotly\"], function(Plotly) {\n",
       "                    window.PLOTLYENV=window.PLOTLYENV || {};\n",
       "                    \n",
       "                if (document.getElementById(\"2e96020b-418a-4de2-887e-bb55e3222d5c\")) {\n",
       "                    Plotly.newPlot(\n",
       "                        '2e96020b-418a-4de2-887e-bb55e3222d5c',\n",
       "                        [{\"cells\": {\"align\": \"left\", \"values\": [[\"Effectif\", \"Moyenne\", \"Moy. \\u00e2ge\", \"M\\u00e9diane\", \"Min.\", \"Max.\"], [12, 7.75, 28, 6.5, 14.0, 3.0], [12, 7.25, 29, 6.0, 16.0, 1.0], [12, 7.17, 30, 7.5, 14.0, 2.0], [20, 9.25, 30, 9.5, 16.0, 2.0], [19, 7.42, 30, 7.0, 12.0, 2.0], [17, 9.41, 30, 9.0, 15.0, 5.0], [17, 4.82, 29, 4.0, 11.0, 1.0], [17, 5.88, 29, 5.0, 14.0, 1.0], [19, 6.32, 29, 7.0, 12.0, 1.0], [18, 7.06, 29, 7.5, 15.0, 1.0]]}, \"header\": {\"align\": \"left\", \"values\": [\"Calcul\", \"Note standard Similitudes\", \"Note standard Vocabulaire\", \"Note standard Information\", \"Note standard Cubes\", \"Note standard Matrices\", \"Note standard Puzzles visuels\", \"Note standard M\\u00e9moires des chiffres\", \"Note standard Arithm\\u00e9tique\", \"Note standard Symboles\", \"Note standard Code\"]}, \"type\": \"table\"}],\n",
       "                        {\"height\": 400, \"template\": {\"data\": {\"bar\": [{\"error_x\": {\"color\": \"#2a3f5f\"}, \"error_y\": {\"color\": \"#2a3f5f\"}, \"marker\": {\"line\": {\"color\": \"#E5ECF6\", \"width\": 0.5}}, \"type\": \"bar\"}], \"barpolar\": [{\"marker\": {\"line\": {\"color\": \"#E5ECF6\", \"width\": 0.5}}, \"type\": \"barpolar\"}], \"carpet\": [{\"aaxis\": {\"endlinecolor\": \"#2a3f5f\", \"gridcolor\": \"white\", \"linecolor\": \"white\", \"minorgridcolor\": \"white\", \"startlinecolor\": \"#2a3f5f\"}, \"baxis\": {\"endlinecolor\": \"#2a3f5f\", \"gridcolor\": \"white\", \"linecolor\": \"white\", \"minorgridcolor\": \"white\", \"startlinecolor\": \"#2a3f5f\"}, \"type\": \"carpet\"}], \"choropleth\": [{\"colorbar\": {\"outlinewidth\": 0, \"ticks\": \"\"}, \"type\": \"choropleth\"}], \"contour\": [{\"colorbar\": {\"outlinewidth\": 0, \"ticks\": \"\"}, \"colorscale\": [[0.0, \"#0d0887\"], [0.1111111111111111, \"#46039f\"], [0.2222222222222222, \"#7201a8\"], [0.3333333333333333, \"#9c179e\"], [0.4444444444444444, \"#bd3786\"], [0.5555555555555556, \"#d8576b\"], [0.6666666666666666, \"#ed7953\"], [0.7777777777777778, \"#fb9f3a\"], [0.8888888888888888, \"#fdca26\"], [1.0, \"#f0f921\"]], \"type\": \"contour\"}], \"contourcarpet\": [{\"colorbar\": {\"outlinewidth\": 0, \"ticks\": \"\"}, \"type\": \"contourcarpet\"}], \"heatmap\": [{\"colorbar\": {\"outlinewidth\": 0, \"ticks\": \"\"}, \"colorscale\": [[0.0, \"#0d0887\"], [0.1111111111111111, \"#46039f\"], [0.2222222222222222, \"#7201a8\"], [0.3333333333333333, \"#9c179e\"], [0.4444444444444444, \"#bd3786\"], [0.5555555555555556, \"#d8576b\"], [0.6666666666666666, \"#ed7953\"], [0.7777777777777778, \"#fb9f3a\"], [0.8888888888888888, \"#fdca26\"], [1.0, \"#f0f921\"]], \"type\": \"heatmap\"}], \"heatmapgl\": [{\"colorbar\": {\"outlinewidth\": 0, \"ticks\": \"\"}, \"colorscale\": [[0.0, \"#0d0887\"], [0.1111111111111111, \"#46039f\"], [0.2222222222222222, \"#7201a8\"], [0.3333333333333333, \"#9c179e\"], [0.4444444444444444, \"#bd3786\"], [0.5555555555555556, \"#d8576b\"], [0.6666666666666666, \"#ed7953\"], [0.7777777777777778, \"#fb9f3a\"], [0.8888888888888888, \"#fdca26\"], [1.0, \"#f0f921\"]], \"type\": \"heatmapgl\"}], \"histogram\": [{\"marker\": {\"colorbar\": {\"outlinewidth\": 0, \"ticks\": \"\"}}, \"type\": \"histogram\"}], \"histogram2d\": [{\"colorbar\": {\"outlinewidth\": 0, \"ticks\": \"\"}, \"colorscale\": [[0.0, \"#0d0887\"], [0.1111111111111111, \"#46039f\"], [0.2222222222222222, \"#7201a8\"], [0.3333333333333333, \"#9c179e\"], [0.4444444444444444, \"#bd3786\"], [0.5555555555555556, \"#d8576b\"], [0.6666666666666666, \"#ed7953\"], [0.7777777777777778, \"#fb9f3a\"], [0.8888888888888888, \"#fdca26\"], [1.0, \"#f0f921\"]], \"type\": \"histogram2d\"}], \"histogram2dcontour\": [{\"colorbar\": {\"outlinewidth\": 0, \"ticks\": \"\"}, \"colorscale\": [[0.0, \"#0d0887\"], [0.1111111111111111, \"#46039f\"], [0.2222222222222222, \"#7201a8\"], [0.3333333333333333, \"#9c179e\"], [0.4444444444444444, \"#bd3786\"], [0.5555555555555556, \"#d8576b\"], [0.6666666666666666, \"#ed7953\"], [0.7777777777777778, \"#fb9f3a\"], [0.8888888888888888, \"#fdca26\"], [1.0, \"#f0f921\"]], \"type\": \"histogram2dcontour\"}], \"mesh3d\": [{\"colorbar\": {\"outlinewidth\": 0, \"ticks\": \"\"}, \"type\": \"mesh3d\"}], \"parcoords\": [{\"line\": {\"colorbar\": {\"outlinewidth\": 0, \"ticks\": \"\"}}, \"type\": \"parcoords\"}], \"pie\": [{\"automargin\": true, \"type\": \"pie\"}], \"scatter\": [{\"marker\": {\"colorbar\": {\"outlinewidth\": 0, \"ticks\": \"\"}}, \"type\": \"scatter\"}], \"scatter3d\": [{\"line\": {\"colorbar\": {\"outlinewidth\": 0, \"ticks\": \"\"}}, \"marker\": {\"colorbar\": {\"outlinewidth\": 0, \"ticks\": \"\"}}, \"type\": \"scatter3d\"}], \"scattercarpet\": [{\"marker\": {\"colorbar\": {\"outlinewidth\": 0, \"ticks\": \"\"}}, \"type\": \"scattercarpet\"}], \"scattergeo\": [{\"marker\": {\"colorbar\": {\"outlinewidth\": 0, \"ticks\": \"\"}}, \"type\": \"scattergeo\"}], \"scattergl\": [{\"marker\": {\"colorbar\": {\"outlinewidth\": 0, \"ticks\": \"\"}}, \"type\": \"scattergl\"}], \"scattermapbox\": [{\"marker\": {\"colorbar\": {\"outlinewidth\": 0, \"ticks\": \"\"}}, \"type\": \"scattermapbox\"}], \"scatterpolar\": [{\"marker\": {\"colorbar\": {\"outlinewidth\": 0, \"ticks\": \"\"}}, \"type\": \"scatterpolar\"}], \"scatterpolargl\": [{\"marker\": {\"colorbar\": {\"outlinewidth\": 0, \"ticks\": \"\"}}, \"type\": \"scatterpolargl\"}], \"scatterternary\": [{\"marker\": {\"colorbar\": {\"outlinewidth\": 0, \"ticks\": \"\"}}, \"type\": \"scatterternary\"}], \"surface\": [{\"colorbar\": {\"outlinewidth\": 0, \"ticks\": \"\"}, \"colorscale\": [[0.0, \"#0d0887\"], [0.1111111111111111, \"#46039f\"], [0.2222222222222222, \"#7201a8\"], [0.3333333333333333, \"#9c179e\"], [0.4444444444444444, \"#bd3786\"], [0.5555555555555556, \"#d8576b\"], [0.6666666666666666, \"#ed7953\"], [0.7777777777777778, \"#fb9f3a\"], [0.8888888888888888, \"#fdca26\"], [1.0, \"#f0f921\"]], \"type\": \"surface\"}], \"table\": [{\"cells\": {\"fill\": {\"color\": \"#EBF0F8\"}, \"line\": {\"color\": \"white\"}}, \"header\": {\"fill\": {\"color\": \"#C8D4E3\"}, \"line\": {\"color\": \"white\"}}, \"type\": \"table\"}]}, \"layout\": {\"annotationdefaults\": {\"arrowcolor\": \"#2a3f5f\", \"arrowhead\": 0, \"arrowwidth\": 1}, \"coloraxis\": {\"colorbar\": {\"outlinewidth\": 0, \"ticks\": \"\"}}, \"colorscale\": {\"diverging\": [[0, \"#8e0152\"], [0.1, \"#c51b7d\"], [0.2, \"#de77ae\"], [0.3, \"#f1b6da\"], [0.4, \"#fde0ef\"], [0.5, \"#f7f7f7\"], [0.6, \"#e6f5d0\"], [0.7, \"#b8e186\"], [0.8, \"#7fbc41\"], [0.9, \"#4d9221\"], [1, \"#276419\"]], \"sequential\": [[0.0, \"#0d0887\"], [0.1111111111111111, \"#46039f\"], [0.2222222222222222, \"#7201a8\"], [0.3333333333333333, \"#9c179e\"], [0.4444444444444444, \"#bd3786\"], [0.5555555555555556, \"#d8576b\"], [0.6666666666666666, \"#ed7953\"], [0.7777777777777778, \"#fb9f3a\"], [0.8888888888888888, \"#fdca26\"], [1.0, \"#f0f921\"]], \"sequentialminus\": [[0.0, \"#0d0887\"], [0.1111111111111111, \"#46039f\"], [0.2222222222222222, \"#7201a8\"], [0.3333333333333333, \"#9c179e\"], [0.4444444444444444, \"#bd3786\"], [0.5555555555555556, \"#d8576b\"], [0.6666666666666666, \"#ed7953\"], [0.7777777777777778, \"#fb9f3a\"], [0.8888888888888888, \"#fdca26\"], [1.0, \"#f0f921\"]]}, \"colorway\": [\"#636efa\", \"#EF553B\", \"#00cc96\", \"#ab63fa\", \"#FFA15A\", \"#19d3f3\", \"#FF6692\", \"#B6E880\", \"#FF97FF\", \"#FECB52\"], \"font\": {\"color\": \"#2a3f5f\"}, \"geo\": {\"bgcolor\": \"white\", \"lakecolor\": \"white\", \"landcolor\": \"#E5ECF6\", \"showlakes\": true, \"showland\": true, \"subunitcolor\": \"white\"}, \"hoverlabel\": {\"align\": \"left\"}, \"hovermode\": \"closest\", \"mapbox\": {\"style\": \"light\"}, \"paper_bgcolor\": \"white\", \"plot_bgcolor\": \"#E5ECF6\", \"polar\": {\"angularaxis\": {\"gridcolor\": \"white\", \"linecolor\": \"white\", \"ticks\": \"\"}, \"bgcolor\": \"#E5ECF6\", \"radialaxis\": {\"gridcolor\": \"white\", \"linecolor\": \"white\", \"ticks\": \"\"}}, \"scene\": {\"xaxis\": {\"backgroundcolor\": \"#E5ECF6\", \"gridcolor\": \"white\", \"gridwidth\": 2, \"linecolor\": \"white\", \"showbackground\": true, \"ticks\": \"\", \"zerolinecolor\": \"white\"}, \"yaxis\": {\"backgroundcolor\": \"#E5ECF6\", \"gridcolor\": \"white\", \"gridwidth\": 2, \"linecolor\": \"white\", \"showbackground\": true, \"ticks\": \"\", \"zerolinecolor\": \"white\"}, \"zaxis\": {\"backgroundcolor\": \"#E5ECF6\", \"gridcolor\": \"white\", \"gridwidth\": 2, \"linecolor\": \"white\", \"showbackground\": true, \"ticks\": \"\", \"zerolinecolor\": \"white\"}}, \"shapedefaults\": {\"line\": {\"color\": \"#2a3f5f\"}}, \"ternary\": {\"aaxis\": {\"gridcolor\": \"white\", \"linecolor\": \"white\", \"ticks\": \"\"}, \"baxis\": {\"gridcolor\": \"white\", \"linecolor\": \"white\", \"ticks\": \"\"}, \"bgcolor\": \"#E5ECF6\", \"caxis\": {\"gridcolor\": \"white\", \"linecolor\": \"white\", \"ticks\": \"\"}}, \"title\": {\"x\": 0.05}, \"xaxis\": {\"automargin\": true, \"gridcolor\": \"white\", \"linecolor\": \"white\", \"ticks\": \"\", \"title\": {\"standoff\": 15}, \"zerolinecolor\": \"white\", \"zerolinewidth\": 2}, \"yaxis\": {\"automargin\": true, \"gridcolor\": \"white\", \"linecolor\": \"white\", \"ticks\": \"\", \"title\": {\"standoff\": 15}, \"zerolinecolor\": \"white\", \"zerolinewidth\": 2}}}, \"width\": 1000},\n",
       "                        {\"responsive\": true}\n",
       "                    ).then(function(){\n",
       "                            \n",
       "var gd = document.getElementById('2e96020b-418a-4de2-887e-bb55e3222d5c');\n",
       "var x = new MutationObserver(function (mutations, observer) {{\n",
       "        var display = window.getComputedStyle(gd).display;\n",
       "        if (!display || display === 'none') {{\n",
       "            console.log([gd, 'removed!']);\n",
       "            Plotly.purge(gd);\n",
       "            observer.disconnect();\n",
       "        }}\n",
       "}});\n",
       "\n",
       "// Listen for the removal of the full notebook cells\n",
       "var notebookContainer = gd.closest('#notebook-container');\n",
       "if (notebookContainer) {{\n",
       "    x.observe(notebookContainer, {childList: true});\n",
       "}}\n",
       "\n",
       "// Listen for the clearing of the current output cell\n",
       "var outputEl = gd.closest('.output');\n",
       "if (outputEl) {{\n",
       "    x.observe(outputEl, {childList: true});\n",
       "}}\n",
       "\n",
       "                        })\n",
       "                };\n",
       "                });\n",
       "            </script>\n",
       "        </div>"
      ]
     },
     "metadata": {},
     "output_type": "display_data"
    }
   ],
   "source": [
    "columns= ['Calcul','Note standard Similitudes','Note standard Vocabulaire', 'Note standard Information',\n",
    "                             'Note standard Cubes','Note standard Matrices', 'Note standard Puzzles visuels',\n",
    "                              'Note standard Mémoires des chiffres', 'Note standard Arithmétique',\n",
    "                                'Note standard Symboles','Note standard Code'\n",
    "                             ]\n",
    "myarr = [['Effectif', 'Moyenne', 'Moy. âge', 'Médiane', 'Min.', 'Max.']]\n",
    "for i in columns[1:]:\n",
    "    effectif = len(df_wais[df_wais[i].notna()])\n",
    "    avg_age = round(df_wais[df_wais[i].notna()]['age'].mean())\n",
    "    avg = round(df_wais[i].mean(),2)\n",
    "    median = round(df_wais[i].median(),2)\n",
    "    max_val = df_wais[i].max()\n",
    "    min_val = df_wais[i].min()\n",
    "    myarr.append([effectif, avg, avg_age, median, max_val, min_val])\n",
    "\n",
    "wais_test =  go.Table(\n",
    "                header=dict(values=list(columns),\n",
    "                align='left'),\n",
    "                cells=dict(values= myarr,align='left'))\n",
    "\n",
    "fig = go.Figure(data=wais_test)\n",
    "fig.update_layout(width=1000, height=400)\n",
    "fig.show()"
   ]
  },
  {
   "cell_type": "code",
   "execution_count": 24,
   "metadata": {
    "ExecuteTime": {
     "end_time": "2020-11-26T13:38:41.560048Z",
     "start_time": "2020-11-26T13:38:41.555309Z"
    }
   },
   "outputs": [
    {
     "data": {
      "text/html": [
       "<h4>2. Tests </h4>"
      ],
      "text/plain": [
       "<IPython.core.display.HTML object>"
      ]
     },
     "metadata": {},
     "output_type": "display_data"
    },
    {
     "data": {
      "text/html": [
       "<h5>2.1. WAIS IVC</h5>"
      ],
      "text/plain": [
       "<IPython.core.display.HTML object>"
      ]
     },
     "metadata": {},
     "output_type": "display_data"
    }
   ],
   "source": [
    "display(HTML('<h4>2. Tests </h4>'))\n",
    "display(HTML('<h5>2.1. WAIS IVC</h5>'))"
   ]
  },
  {
   "cell_type": "code",
   "execution_count": 25,
   "metadata": {
    "ExecuteTime": {
     "end_time": "2020-11-26T13:38:45.756256Z",
     "start_time": "2020-11-26T13:38:45.752385Z"
    }
   },
   "outputs": [],
   "source": [
    "age_moy = df_wais[df_wais['Total des notes standards ICV'].notna()]['age'].mean()"
   ]
  },
  {
   "cell_type": "code",
   "execution_count": 26,
   "metadata": {
    "ExecuteTime": {
     "end_time": "2020-11-26T13:38:46.818103Z",
     "start_time": "2020-11-26T13:38:46.813951Z"
    }
   },
   "outputs": [
    {
     "data": {
      "text/html": [
       "<p>Moyenne d'âge :29.8</p>"
      ],
      "text/plain": [
       "<IPython.core.display.HTML object>"
      ]
     },
     "metadata": {},
     "output_type": "display_data"
    }
   ],
   "source": [
    "display(HTML(\"<p>Moyenne d'âge :\"+str(round(age_moy,2))+\"</p>\"))"
   ]
  },
  {
   "cell_type": "code",
   "execution_count": 27,
   "metadata": {
    "ExecuteTime": {
     "end_time": "2020-11-26T13:38:48.697504Z",
     "start_time": "2020-11-26T13:38:48.693640Z"
    }
   },
   "outputs": [],
   "source": [
    "df_wais_sub= df_wais.iloc[:,[0,1,2,-1,6,7,8,9,10,11,12,13]]"
   ]
  },
  {
   "cell_type": "code",
   "execution_count": 28,
   "metadata": {
    "ExecuteTime": {
     "end_time": "2020-11-26T13:38:53.524269Z",
     "start_time": "2020-11-26T13:38:53.517259Z"
    }
   },
   "outputs": [],
   "source": [
    "subplot_titles = df_wais_sub.columns.values.tolist()"
   ]
  },
  {
   "cell_type": "code",
   "execution_count": 29,
   "metadata": {
    "ExecuteTime": {
     "end_time": "2020-11-26T13:38:54.718362Z",
     "start_time": "2020-11-26T13:38:54.441972Z"
    }
   },
   "outputs": [],
   "source": [
    "fig_wais_sub = make_subplots(\n",
    "    rows=4, cols=2,\n",
    "    shared_xaxes=False,\n",
    "    row_heights=[0.20, 0.20, 0.20, 0.20],\n",
    "    column_widths=[0.5, 0.5],\n",
    "    subplot_titles= subplot_titles[4:],\n",
    "    x_title='Âge',\n",
    "    y_title='Score',\n",
    "    vertical_spacing= 0.04 )\n",
    "df_wais_sub = df_wais_sub.sort_values(by=['age'])"
   ]
  },
  {
   "cell_type": "code",
   "execution_count": 30,
   "metadata": {
    "ExecuteTime": {
     "end_time": "2020-11-26T13:38:56.521573Z",
     "start_time": "2020-11-26T13:38:56.432776Z"
    }
   },
   "outputs": [
    {
     "data": {
      "application/vnd.plotly.v1+json": {
       "config": {
        "plotlyServerURL": "https://plot.ly"
       },
       "data": [
        {
         "hovertext": [
          "EF 2E 22 E0 EA, Type 1",
          "B6 A4 CD 3A 81, Type 1",
          "C2 C3 05 A8 4B, Type 1",
          "39 CA BD 3C 82, Type 1",
          "7B DE 78 5B F6, Type 1",
          "9B 8E 44 F8 FF, Type 1",
          "35 86 13 56 24, Type 1",
          "73 EC 1B D7 9B, Type 1",
          "7D 76 3D FC 91, Type 1",
          "AB A5 ED 43 8B, Type 1",
          "01 83 17 5E 89, Type 1",
          "B9 5D 22 14 86, Type 1",
          "A1 54 32 B1 53, Type 1",
          "FD 11 B7 CF 8F, Type 1",
          "DB 6B 59 3A 0C, Type 1",
          "F1 C2 1C 3A FC, Type 1",
          "98 2C 1A AA 87, Type 1",
          "A2 D7 D0 A4 2A, Type 1",
          "02 92 7B FF E6, Type 1",
          "06 25 B6 B7 F5, Type 1"
         ],
         "marker": {
          "color": [
           "#33ffc9",
           "#33ffc9",
           "#33ffc9",
           "#33ffc9",
           "#33ffc9",
           "#33ffc9",
           "#33ffc9",
           "#33ffc9",
           "#33ffc9",
           "#33ffc9",
           "#33ffc9",
           "#33ffc9",
           "#33ffc9",
           "#33ffc9",
           "#33ffc9",
           "#33ffc9",
           "#33ffc9",
           "#33ffc9",
           "#33ffc9",
           "#33ffc9"
          ],
          "size": 10
         },
         "mode": "markers+text",
         "type": "scatter",
         "x": [
          19,
          19,
          20,
          22,
          23,
          25,
          27,
          28,
          29,
          29,
          31,
          32,
          32,
          33,
          34,
          34,
          36,
          37,
          41,
          44
         ],
         "xaxis": "x",
         "y": [
          null,
          5,
          8,
          6,
          14,
          6,
          null,
          null,
          6,
          13,
          null,
          3,
          3,
          12,
          null,
          7,
          null,
          null,
          null,
          10
         ],
         "yaxis": "y"
        },
        {
         "hovertext": [
          "EF 2E 22 E0 EA, Type 1",
          "B6 A4 CD 3A 81, Type 1",
          "C2 C3 05 A8 4B, Type 1",
          "39 CA BD 3C 82, Type 1",
          "7B DE 78 5B F6, Type 1",
          "9B 8E 44 F8 FF, Type 1",
          "35 86 13 56 24, Type 1",
          "73 EC 1B D7 9B, Type 1",
          "7D 76 3D FC 91, Type 1",
          "AB A5 ED 43 8B, Type 1",
          "01 83 17 5E 89, Type 1",
          "B9 5D 22 14 86, Type 1",
          "A1 54 32 B1 53, Type 1",
          "FD 11 B7 CF 8F, Type 1",
          "DB 6B 59 3A 0C, Type 1",
          "F1 C2 1C 3A FC, Type 1",
          "98 2C 1A AA 87, Type 1",
          "A2 D7 D0 A4 2A, Type 1",
          "02 92 7B FF E6, Type 1",
          "06 25 B6 B7 F5, Type 1"
         ],
         "marker": {
          "color": [
           "#33ffc9",
           "#33ffc9",
           "#33ffc9",
           "#33ffc9",
           "#33ffc9",
           "#33ffc9",
           "#33ffc9",
           "#33ffc9",
           "#33ffc9",
           "#33ffc9",
           "#33ffc9",
           "#33ffc9",
           "#33ffc9",
           "#33ffc9",
           "#33ffc9",
           "#33ffc9",
           "#33ffc9",
           "#33ffc9",
           "#33ffc9",
           "#33ffc9"
          ],
          "size": 10
         },
         "mode": "markers+text",
         "type": "scatter",
         "x": [
          19,
          19,
          20,
          22,
          23,
          25,
          27,
          28,
          29,
          29,
          31,
          32,
          32,
          33,
          34,
          34,
          36,
          37,
          41,
          44
         ],
         "xaxis": "x2",
         "y": [
          null,
          null,
          14,
          4,
          13,
          2,
          1,
          null,
          5,
          9,
          null,
          2,
          3,
          16,
          null,
          7,
          null,
          null,
          null,
          11
         ],
         "yaxis": "y2"
        },
        {
         "hovertext": [
          "EF 2E 22 E0 EA, Type 1",
          "B6 A4 CD 3A 81, Type 1",
          "C2 C3 05 A8 4B, Type 1",
          "39 CA BD 3C 82, Type 1",
          "7B DE 78 5B F6, Type 1",
          "9B 8E 44 F8 FF, Type 1",
          "35 86 13 56 24, Type 1",
          "73 EC 1B D7 9B, Type 1",
          "7D 76 3D FC 91, Type 1",
          "AB A5 ED 43 8B, Type 1",
          "01 83 17 5E 89, Type 1",
          "B9 5D 22 14 86, Type 1",
          "A1 54 32 B1 53, Type 1",
          "FD 11 B7 CF 8F, Type 1",
          "DB 6B 59 3A 0C, Type 1",
          "F1 C2 1C 3A FC, Type 1",
          "98 2C 1A AA 87, Type 1",
          "A2 D7 D0 A4 2A, Type 1",
          "02 92 7B FF E6, Type 1",
          "06 25 B6 B7 F5, Type 1"
         ],
         "marker": {
          "color": [
           "#33ffc9",
           "#33ffc9",
           "#33ffc9",
           "#33ffc9",
           "#33ffc9",
           "#33ffc9",
           "#33ffc9",
           "#33ffc9",
           "#33ffc9",
           "#33ffc9",
           "#33ffc9",
           "#33ffc9",
           "#33ffc9",
           "#33ffc9",
           "#33ffc9",
           "#33ffc9",
           "#33ffc9",
           "#33ffc9",
           "#33ffc9",
           "#33ffc9"
          ],
          "size": 10
         },
         "mode": "markers+text",
         "type": "scatter",
         "x": [
          19,
          19,
          20,
          22,
          23,
          25,
          27,
          28,
          29,
          29,
          31,
          32,
          32,
          33,
          34,
          34,
          36,
          37,
          41,
          44
         ],
         "xaxis": "x3",
         "y": [
          null,
          null,
          11,
          6,
          14,
          null,
          2,
          null,
          6,
          8,
          null,
          3,
          7,
          11,
          2,
          8,
          null,
          null,
          null,
          8
         ],
         "yaxis": "y3"
        },
        {
         "hovertext": [
          "EF 2E 22 E0 EA, Type 1",
          "B6 A4 CD 3A 81, Type 1",
          "C2 C3 05 A8 4B, Type 1",
          "39 CA BD 3C 82, Type 1",
          "7B DE 78 5B F6, Type 1",
          "9B 8E 44 F8 FF, Type 1",
          "35 86 13 56 24, Type 1",
          "73 EC 1B D7 9B, Type 1",
          "7D 76 3D FC 91, Type 1",
          "AB A5 ED 43 8B, Type 1",
          "01 83 17 5E 89, Type 1",
          "B9 5D 22 14 86, Type 1",
          "A1 54 32 B1 53, Type 1",
          "FD 11 B7 CF 8F, Type 1",
          "DB 6B 59 3A 0C, Type 1",
          "F1 C2 1C 3A FC, Type 1",
          "98 2C 1A AA 87, Type 1",
          "A2 D7 D0 A4 2A, Type 1",
          "02 92 7B FF E6, Type 1",
          "06 25 B6 B7 F5, Type 1"
         ],
         "marker": {
          "color": [
           "#33ffc9",
           "#33ffc9",
           "#33ffc9",
           "#33ffc9",
           "#33ffc9",
           "#33ffc9",
           "#33ffc9",
           "#33ffc9",
           "#33ffc9",
           "#33ffc9",
           "#33ffc9",
           "#33ffc9",
           "#33ffc9",
           "#33ffc9",
           "#33ffc9",
           "#33ffc9",
           "#33ffc9",
           "#33ffc9",
           "#33ffc9",
           "#33ffc9"
          ],
          "size": 10
         },
         "mode": "markers+text",
         "type": "scatter",
         "x": [
          19,
          19,
          20,
          22,
          23,
          25,
          27,
          28,
          29,
          29,
          31,
          32,
          32,
          33,
          34,
          34,
          36,
          37,
          41,
          44
         ],
         "xaxis": "x4",
         "y": [
          null,
          null,
          33,
          16,
          41,
          null,
          null,
          null,
          17,
          30,
          null,
          8,
          13,
          39,
          null,
          22,
          null,
          null,
          null,
          29
         ],
         "yaxis": "y4"
        },
        {
         "hovertext": [
          "EF 2E 22 E0 EA, Type 1",
          "B6 A4 CD 3A 81, Type 1",
          "C2 C3 05 A8 4B, Type 1",
          "39 CA BD 3C 82, Type 1",
          "7B DE 78 5B F6, Type 1",
          "9B 8E 44 F8 FF, Type 1",
          "35 86 13 56 24, Type 1",
          "73 EC 1B D7 9B, Type 1",
          "7D 76 3D FC 91, Type 1",
          "AB A5 ED 43 8B, Type 1",
          "01 83 17 5E 89, Type 1",
          "B9 5D 22 14 86, Type 1",
          "A1 54 32 B1 53, Type 1",
          "FD 11 B7 CF 8F, Type 1",
          "DB 6B 59 3A 0C, Type 1",
          "F1 C2 1C 3A FC, Type 1",
          "98 2C 1A AA 87, Type 1",
          "A2 D7 D0 A4 2A, Type 1",
          "02 92 7B FF E6, Type 1",
          "06 25 B6 B7 F5, Type 1"
         ],
         "marker": {
          "color": [
           "#33ffc9",
           "#33ffc9",
           "#33ffc9",
           "#33ffc9",
           "#33ffc9",
           "#33ffc9",
           "#33ffc9",
           "#33ffc9",
           "#33ffc9",
           "#33ffc9",
           "#33ffc9",
           "#33ffc9",
           "#33ffc9",
           "#33ffc9",
           "#33ffc9",
           "#33ffc9",
           "#33ffc9",
           "#33ffc9",
           "#33ffc9",
           "#33ffc9"
          ],
          "size": 10
         },
         "mode": "markers+text",
         "type": "scatter",
         "x": [
          19,
          19,
          20,
          22,
          23,
          25,
          27,
          28,
          29,
          29,
          31,
          32,
          32,
          33,
          34,
          34,
          36,
          37,
          41,
          44
         ],
         "xaxis": "x5",
         "y": [
          null,
          null,
          106,
          73,
          122,
          null,
          null,
          null,
          75,
          100,
          null,
          86,
          67,
          118,
          null,
          84,
          null,
          null,
          null,
          98
         ],
         "yaxis": "y5"
        },
        {
         "hovertext": [
          "EF 2E 22 E0 EA, Type 1",
          "B6 A4 CD 3A 81, Type 1",
          "C2 C3 05 A8 4B, Type 1",
          "39 CA BD 3C 82, Type 1",
          "7B DE 78 5B F6, Type 1",
          "9B 8E 44 F8 FF, Type 1",
          "35 86 13 56 24, Type 1",
          "73 EC 1B D7 9B, Type 1",
          "7D 76 3D FC 91, Type 1",
          "AB A5 ED 43 8B, Type 1",
          "01 83 17 5E 89, Type 1",
          "B9 5D 22 14 86, Type 1",
          "A1 54 32 B1 53, Type 1",
          "FD 11 B7 CF 8F, Type 1",
          "DB 6B 59 3A 0C, Type 1",
          "F1 C2 1C 3A FC, Type 1",
          "98 2C 1A AA 87, Type 1",
          "A2 D7 D0 A4 2A, Type 1",
          "02 92 7B FF E6, Type 1",
          "06 25 B6 B7 F5, Type 1"
         ],
         "marker": {
          "color": [
           "#33ffc9",
           "#33ffc9",
           "#33ffc9",
           "#33ffc9",
           "#33ffc9",
           "#33ffc9",
           "#33ffc9",
           "#33ffc9",
           "#33ffc9",
           "#33ffc9",
           "#33ffc9",
           "#33ffc9",
           "#33ffc9",
           "#33ffc9",
           "#33ffc9",
           "#33ffc9",
           "#33ffc9",
           "#33ffc9",
           "#33ffc9",
           "#33ffc9"
          ],
          "size": 10
         },
         "mode": "markers+text",
         "type": "scatter",
         "x": [
          19,
          19,
          20,
          22,
          23,
          25,
          27,
          28,
          29,
          29,
          31,
          32,
          32,
          33,
          34,
          34,
          36,
          37,
          41,
          44
         ],
         "xaxis": "x6",
         "y": [
          null,
          null,
          66,
          4,
          93,
          null,
          null,
          null,
          5,
          50,
          null,
          0,
          1,
          88,
          null,
          14,
          null,
          null,
          null,
          45
         ],
         "yaxis": "y6"
        },
        {
         "hovertext": [
          "EF 2E 22 E0 EA, Type 1",
          "B6 A4 CD 3A 81, Type 1",
          "C2 C3 05 A8 4B, Type 1",
          "39 CA BD 3C 82, Type 1",
          "7B DE 78 5B F6, Type 1",
          "9B 8E 44 F8 FF, Type 1",
          "35 86 13 56 24, Type 1",
          "73 EC 1B D7 9B, Type 1",
          "7D 76 3D FC 91, Type 1",
          "AB A5 ED 43 8B, Type 1",
          "01 83 17 5E 89, Type 1",
          "B9 5D 22 14 86, Type 1",
          "A1 54 32 B1 53, Type 1",
          "FD 11 B7 CF 8F, Type 1",
          "DB 6B 59 3A 0C, Type 1",
          "F1 C2 1C 3A FC, Type 1",
          "98 2C 1A AA 87, Type 1",
          "A2 D7 D0 A4 2A, Type 1",
          "02 92 7B FF E6, Type 1",
          "06 25 B6 B7 F5, Type 1"
         ],
         "marker": {
          "color": [
           "#33ffc9",
           "#33ffc9",
           "#33ffc9",
           "#33ffc9",
           "#33ffc9",
           "#33ffc9",
           "#33ffc9",
           "#33ffc9",
           "#33ffc9",
           "#33ffc9",
           "#33ffc9",
           "#33ffc9",
           "#33ffc9",
           "#33ffc9",
           "#33ffc9",
           "#33ffc9",
           "#33ffc9",
           "#33ffc9",
           "#33ffc9",
           "#33ffc9"
          ],
          "size": 10
         },
         "mode": "markers+text",
         "type": "scatter",
         "x": [
          19,
          19,
          20,
          22,
          23,
          25,
          27,
          28,
          29,
          29,
          31,
          32,
          32,
          33,
          34,
          34,
          36,
          37,
          41,
          44
         ],
         "xaxis": "x7",
         "y": [
          null,
          null,
          99,
          68,
          114,
          null,
          null,
          null,
          70,
          93,
          null,
          53,
          62,
          110,
          null,
          78,
          null,
          null,
          null,
          92
         ],
         "yaxis": "y7"
        },
        {
         "hovertext": [
          "EF 2E 22 E0 EA, Type 1",
          "B6 A4 CD 3A 81, Type 1",
          "C2 C3 05 A8 4B, Type 1",
          "39 CA BD 3C 82, Type 1",
          "7B DE 78 5B F6, Type 1",
          "9B 8E 44 F8 FF, Type 1",
          "35 86 13 56 24, Type 1",
          "73 EC 1B D7 9B, Type 1",
          "7D 76 3D FC 91, Type 1",
          "AB A5 ED 43 8B, Type 1",
          "01 83 17 5E 89, Type 1",
          "B9 5D 22 14 86, Type 1",
          "A1 54 32 B1 53, Type 1",
          "FD 11 B7 CF 8F, Type 1",
          "DB 6B 59 3A 0C, Type 1",
          "F1 C2 1C 3A FC, Type 1",
          "98 2C 1A AA 87, Type 1",
          "A2 D7 D0 A4 2A, Type 1",
          "02 92 7B FF E6, Type 1",
          "06 25 B6 B7 F5, Type 1"
         ],
         "marker": {
          "color": [
           "#33ffc9",
           "#33ffc9",
           "#33ffc9",
           "#33ffc9",
           "#33ffc9",
           "#33ffc9",
           "#33ffc9",
           "#33ffc9",
           "#33ffc9",
           "#33ffc9",
           "#33ffc9",
           "#33ffc9",
           "#33ffc9",
           "#33ffc9",
           "#33ffc9",
           "#33ffc9",
           "#33ffc9",
           "#33ffc9",
           "#33ffc9",
           "#33ffc9"
          ],
          "size": 10
         },
         "mode": "markers+text",
         "type": "scatter",
         "x": [
          19,
          19,
          20,
          22,
          23,
          25,
          27,
          28,
          29,
          29,
          31,
          32,
          32,
          33,
          34,
          34,
          36,
          37,
          41,
          44
         ],
         "xaxis": "x8",
         "y": [
          null,
          null,
          112,
          81,
          127,
          null,
          null,
          null,
          83,
          107,
          null,
          66,
          75,
          124,
          null,
          91,
          null,
          null,
          null,
          105
         ],
         "yaxis": "y8"
        }
       ],
       "layout": {
        "annotations": [
         {
          "font": {
           "size": 16
          },
          "showarrow": false,
          "text": "Note standard Similitudes",
          "x": 0.225,
          "xanchor": "center",
          "xref": "paper",
          "y": 1,
          "yanchor": "bottom",
          "yref": "paper"
         },
         {
          "font": {
           "size": 16
          },
          "showarrow": false,
          "text": "Note standard Vocabulaire",
          "x": 0.775,
          "xanchor": "center",
          "xref": "paper",
          "y": 1,
          "yanchor": "bottom",
          "yref": "paper"
         },
         {
          "font": {
           "size": 16
          },
          "showarrow": false,
          "text": "Note standard Information",
          "x": 0.225,
          "xanchor": "center",
          "xref": "paper",
          "y": 0.74,
          "yanchor": "bottom",
          "yref": "paper"
         },
         {
          "font": {
           "size": 16
          },
          "showarrow": false,
          "text": "Total des notes standards ICV",
          "x": 0.775,
          "xanchor": "center",
          "xref": "paper",
          "y": 0.74,
          "yanchor": "bottom",
          "yref": "paper"
         },
         {
          "font": {
           "size": 16
          },
          "showarrow": false,
          "text": "Note composite ICV",
          "x": 0.225,
          "xanchor": "center",
          "xref": "paper",
          "y": 0.48,
          "yanchor": "bottom",
          "yref": "paper"
         },
         {
          "font": {
           "size": 16
          },
          "showarrow": false,
          "text": "Rang percentile ICV",
          "x": 0.775,
          "xanchor": "center",
          "xref": "paper",
          "y": 0.48,
          "yanchor": "bottom",
          "yref": "paper"
         },
         {
          "font": {
           "size": 16
          },
          "showarrow": false,
          "text": "Note écart type inférieure ICV",
          "x": 0.225,
          "xanchor": "center",
          "xref": "paper",
          "y": 0.22,
          "yanchor": "bottom",
          "yref": "paper"
         },
         {
          "font": {
           "size": 16
          },
          "showarrow": false,
          "text": "Note écart type supérieure ICV",
          "x": 0.775,
          "xanchor": "center",
          "xref": "paper",
          "y": 0.22,
          "yanchor": "bottom",
          "yref": "paper"
         },
         {
          "font": {
           "size": 16
          },
          "showarrow": false,
          "text": "Âge",
          "x": 0.5,
          "xanchor": "center",
          "xref": "paper",
          "y": 0,
          "yanchor": "top",
          "yref": "paper",
          "yshift": -30
         },
         {
          "font": {
           "size": 16
          },
          "showarrow": false,
          "text": "Score",
          "textangle": -90,
          "x": 0,
          "xanchor": "right",
          "xref": "paper",
          "xshift": -40,
          "y": 0.5,
          "yanchor": "middle",
          "yref": "paper"
         }
        ],
        "height": 1500,
        "showlegend": false,
        "template": {
         "data": {
          "bar": [
           {
            "error_x": {
             "color": "#2a3f5f"
            },
            "error_y": {
             "color": "#2a3f5f"
            },
            "marker": {
             "line": {
              "color": "#E5ECF6",
              "width": 0.5
             }
            },
            "type": "bar"
           }
          ],
          "barpolar": [
           {
            "marker": {
             "line": {
              "color": "#E5ECF6",
              "width": 0.5
             }
            },
            "type": "barpolar"
           }
          ],
          "carpet": [
           {
            "aaxis": {
             "endlinecolor": "#2a3f5f",
             "gridcolor": "white",
             "linecolor": "white",
             "minorgridcolor": "white",
             "startlinecolor": "#2a3f5f"
            },
            "baxis": {
             "endlinecolor": "#2a3f5f",
             "gridcolor": "white",
             "linecolor": "white",
             "minorgridcolor": "white",
             "startlinecolor": "#2a3f5f"
            },
            "type": "carpet"
           }
          ],
          "choropleth": [
           {
            "colorbar": {
             "outlinewidth": 0,
             "ticks": ""
            },
            "type": "choropleth"
           }
          ],
          "contour": [
           {
            "colorbar": {
             "outlinewidth": 0,
             "ticks": ""
            },
            "colorscale": [
             [
              0,
              "#0d0887"
             ],
             [
              0.1111111111111111,
              "#46039f"
             ],
             [
              0.2222222222222222,
              "#7201a8"
             ],
             [
              0.3333333333333333,
              "#9c179e"
             ],
             [
              0.4444444444444444,
              "#bd3786"
             ],
             [
              0.5555555555555556,
              "#d8576b"
             ],
             [
              0.6666666666666666,
              "#ed7953"
             ],
             [
              0.7777777777777778,
              "#fb9f3a"
             ],
             [
              0.8888888888888888,
              "#fdca26"
             ],
             [
              1,
              "#f0f921"
             ]
            ],
            "type": "contour"
           }
          ],
          "contourcarpet": [
           {
            "colorbar": {
             "outlinewidth": 0,
             "ticks": ""
            },
            "type": "contourcarpet"
           }
          ],
          "heatmap": [
           {
            "colorbar": {
             "outlinewidth": 0,
             "ticks": ""
            },
            "colorscale": [
             [
              0,
              "#0d0887"
             ],
             [
              0.1111111111111111,
              "#46039f"
             ],
             [
              0.2222222222222222,
              "#7201a8"
             ],
             [
              0.3333333333333333,
              "#9c179e"
             ],
             [
              0.4444444444444444,
              "#bd3786"
             ],
             [
              0.5555555555555556,
              "#d8576b"
             ],
             [
              0.6666666666666666,
              "#ed7953"
             ],
             [
              0.7777777777777778,
              "#fb9f3a"
             ],
             [
              0.8888888888888888,
              "#fdca26"
             ],
             [
              1,
              "#f0f921"
             ]
            ],
            "type": "heatmap"
           }
          ],
          "heatmapgl": [
           {
            "colorbar": {
             "outlinewidth": 0,
             "ticks": ""
            },
            "colorscale": [
             [
              0,
              "#0d0887"
             ],
             [
              0.1111111111111111,
              "#46039f"
             ],
             [
              0.2222222222222222,
              "#7201a8"
             ],
             [
              0.3333333333333333,
              "#9c179e"
             ],
             [
              0.4444444444444444,
              "#bd3786"
             ],
             [
              0.5555555555555556,
              "#d8576b"
             ],
             [
              0.6666666666666666,
              "#ed7953"
             ],
             [
              0.7777777777777778,
              "#fb9f3a"
             ],
             [
              0.8888888888888888,
              "#fdca26"
             ],
             [
              1,
              "#f0f921"
             ]
            ],
            "type": "heatmapgl"
           }
          ],
          "histogram": [
           {
            "marker": {
             "colorbar": {
              "outlinewidth": 0,
              "ticks": ""
             }
            },
            "type": "histogram"
           }
          ],
          "histogram2d": [
           {
            "colorbar": {
             "outlinewidth": 0,
             "ticks": ""
            },
            "colorscale": [
             [
              0,
              "#0d0887"
             ],
             [
              0.1111111111111111,
              "#46039f"
             ],
             [
              0.2222222222222222,
              "#7201a8"
             ],
             [
              0.3333333333333333,
              "#9c179e"
             ],
             [
              0.4444444444444444,
              "#bd3786"
             ],
             [
              0.5555555555555556,
              "#d8576b"
             ],
             [
              0.6666666666666666,
              "#ed7953"
             ],
             [
              0.7777777777777778,
              "#fb9f3a"
             ],
             [
              0.8888888888888888,
              "#fdca26"
             ],
             [
              1,
              "#f0f921"
             ]
            ],
            "type": "histogram2d"
           }
          ],
          "histogram2dcontour": [
           {
            "colorbar": {
             "outlinewidth": 0,
             "ticks": ""
            },
            "colorscale": [
             [
              0,
              "#0d0887"
             ],
             [
              0.1111111111111111,
              "#46039f"
             ],
             [
              0.2222222222222222,
              "#7201a8"
             ],
             [
              0.3333333333333333,
              "#9c179e"
             ],
             [
              0.4444444444444444,
              "#bd3786"
             ],
             [
              0.5555555555555556,
              "#d8576b"
             ],
             [
              0.6666666666666666,
              "#ed7953"
             ],
             [
              0.7777777777777778,
              "#fb9f3a"
             ],
             [
              0.8888888888888888,
              "#fdca26"
             ],
             [
              1,
              "#f0f921"
             ]
            ],
            "type": "histogram2dcontour"
           }
          ],
          "mesh3d": [
           {
            "colorbar": {
             "outlinewidth": 0,
             "ticks": ""
            },
            "type": "mesh3d"
           }
          ],
          "parcoords": [
           {
            "line": {
             "colorbar": {
              "outlinewidth": 0,
              "ticks": ""
             }
            },
            "type": "parcoords"
           }
          ],
          "pie": [
           {
            "automargin": true,
            "type": "pie"
           }
          ],
          "scatter": [
           {
            "marker": {
             "colorbar": {
              "outlinewidth": 0,
              "ticks": ""
             }
            },
            "type": "scatter"
           }
          ],
          "scatter3d": [
           {
            "line": {
             "colorbar": {
              "outlinewidth": 0,
              "ticks": ""
             }
            },
            "marker": {
             "colorbar": {
              "outlinewidth": 0,
              "ticks": ""
             }
            },
            "type": "scatter3d"
           }
          ],
          "scattercarpet": [
           {
            "marker": {
             "colorbar": {
              "outlinewidth": 0,
              "ticks": ""
             }
            },
            "type": "scattercarpet"
           }
          ],
          "scattergeo": [
           {
            "marker": {
             "colorbar": {
              "outlinewidth": 0,
              "ticks": ""
             }
            },
            "type": "scattergeo"
           }
          ],
          "scattergl": [
           {
            "marker": {
             "colorbar": {
              "outlinewidth": 0,
              "ticks": ""
             }
            },
            "type": "scattergl"
           }
          ],
          "scattermapbox": [
           {
            "marker": {
             "colorbar": {
              "outlinewidth": 0,
              "ticks": ""
             }
            },
            "type": "scattermapbox"
           }
          ],
          "scatterpolar": [
           {
            "marker": {
             "colorbar": {
              "outlinewidth": 0,
              "ticks": ""
             }
            },
            "type": "scatterpolar"
           }
          ],
          "scatterpolargl": [
           {
            "marker": {
             "colorbar": {
              "outlinewidth": 0,
              "ticks": ""
             }
            },
            "type": "scatterpolargl"
           }
          ],
          "scatterternary": [
           {
            "marker": {
             "colorbar": {
              "outlinewidth": 0,
              "ticks": ""
             }
            },
            "type": "scatterternary"
           }
          ],
          "surface": [
           {
            "colorbar": {
             "outlinewidth": 0,
             "ticks": ""
            },
            "colorscale": [
             [
              0,
              "#0d0887"
             ],
             [
              0.1111111111111111,
              "#46039f"
             ],
             [
              0.2222222222222222,
              "#7201a8"
             ],
             [
              0.3333333333333333,
              "#9c179e"
             ],
             [
              0.4444444444444444,
              "#bd3786"
             ],
             [
              0.5555555555555556,
              "#d8576b"
             ],
             [
              0.6666666666666666,
              "#ed7953"
             ],
             [
              0.7777777777777778,
              "#fb9f3a"
             ],
             [
              0.8888888888888888,
              "#fdca26"
             ],
             [
              1,
              "#f0f921"
             ]
            ],
            "type": "surface"
           }
          ],
          "table": [
           {
            "cells": {
             "fill": {
              "color": "#EBF0F8"
             },
             "line": {
              "color": "white"
             }
            },
            "header": {
             "fill": {
              "color": "#C8D4E3"
             },
             "line": {
              "color": "white"
             }
            },
            "type": "table"
           }
          ]
         },
         "layout": {
          "annotationdefaults": {
           "arrowcolor": "#2a3f5f",
           "arrowhead": 0,
           "arrowwidth": 1
          },
          "coloraxis": {
           "colorbar": {
            "outlinewidth": 0,
            "ticks": ""
           }
          },
          "colorscale": {
           "diverging": [
            [
             0,
             "#8e0152"
            ],
            [
             0.1,
             "#c51b7d"
            ],
            [
             0.2,
             "#de77ae"
            ],
            [
             0.3,
             "#f1b6da"
            ],
            [
             0.4,
             "#fde0ef"
            ],
            [
             0.5,
             "#f7f7f7"
            ],
            [
             0.6,
             "#e6f5d0"
            ],
            [
             0.7,
             "#b8e186"
            ],
            [
             0.8,
             "#7fbc41"
            ],
            [
             0.9,
             "#4d9221"
            ],
            [
             1,
             "#276419"
            ]
           ],
           "sequential": [
            [
             0,
             "#0d0887"
            ],
            [
             0.1111111111111111,
             "#46039f"
            ],
            [
             0.2222222222222222,
             "#7201a8"
            ],
            [
             0.3333333333333333,
             "#9c179e"
            ],
            [
             0.4444444444444444,
             "#bd3786"
            ],
            [
             0.5555555555555556,
             "#d8576b"
            ],
            [
             0.6666666666666666,
             "#ed7953"
            ],
            [
             0.7777777777777778,
             "#fb9f3a"
            ],
            [
             0.8888888888888888,
             "#fdca26"
            ],
            [
             1,
             "#f0f921"
            ]
           ],
           "sequentialminus": [
            [
             0,
             "#0d0887"
            ],
            [
             0.1111111111111111,
             "#46039f"
            ],
            [
             0.2222222222222222,
             "#7201a8"
            ],
            [
             0.3333333333333333,
             "#9c179e"
            ],
            [
             0.4444444444444444,
             "#bd3786"
            ],
            [
             0.5555555555555556,
             "#d8576b"
            ],
            [
             0.6666666666666666,
             "#ed7953"
            ],
            [
             0.7777777777777778,
             "#fb9f3a"
            ],
            [
             0.8888888888888888,
             "#fdca26"
            ],
            [
             1,
             "#f0f921"
            ]
           ]
          },
          "colorway": [
           "#636efa",
           "#EF553B",
           "#00cc96",
           "#ab63fa",
           "#FFA15A",
           "#19d3f3",
           "#FF6692",
           "#B6E880",
           "#FF97FF",
           "#FECB52"
          ],
          "font": {
           "color": "#2a3f5f"
          },
          "geo": {
           "bgcolor": "white",
           "lakecolor": "white",
           "landcolor": "#E5ECF6",
           "showlakes": true,
           "showland": true,
           "subunitcolor": "white"
          },
          "hoverlabel": {
           "align": "left"
          },
          "hovermode": "closest",
          "mapbox": {
           "style": "light"
          },
          "paper_bgcolor": "white",
          "plot_bgcolor": "#E5ECF6",
          "polar": {
           "angularaxis": {
            "gridcolor": "white",
            "linecolor": "white",
            "ticks": ""
           },
           "bgcolor": "#E5ECF6",
           "radialaxis": {
            "gridcolor": "white",
            "linecolor": "white",
            "ticks": ""
           }
          },
          "scene": {
           "xaxis": {
            "backgroundcolor": "#E5ECF6",
            "gridcolor": "white",
            "gridwidth": 2,
            "linecolor": "white",
            "showbackground": true,
            "ticks": "",
            "zerolinecolor": "white"
           },
           "yaxis": {
            "backgroundcolor": "#E5ECF6",
            "gridcolor": "white",
            "gridwidth": 2,
            "linecolor": "white",
            "showbackground": true,
            "ticks": "",
            "zerolinecolor": "white"
           },
           "zaxis": {
            "backgroundcolor": "#E5ECF6",
            "gridcolor": "white",
            "gridwidth": 2,
            "linecolor": "white",
            "showbackground": true,
            "ticks": "",
            "zerolinecolor": "white"
           }
          },
          "shapedefaults": {
           "line": {
            "color": "#2a3f5f"
           }
          },
          "ternary": {
           "aaxis": {
            "gridcolor": "white",
            "linecolor": "white",
            "ticks": ""
           },
           "baxis": {
            "gridcolor": "white",
            "linecolor": "white",
            "ticks": ""
           },
           "bgcolor": "#E5ECF6",
           "caxis": {
            "gridcolor": "white",
            "linecolor": "white",
            "ticks": ""
           }
          },
          "title": {
           "x": 0.05
          },
          "xaxis": {
           "automargin": true,
           "gridcolor": "white",
           "linecolor": "white",
           "ticks": "",
           "title": {
            "standoff": 15
           },
           "zerolinecolor": "white",
           "zerolinewidth": 2
          },
          "yaxis": {
           "automargin": true,
           "gridcolor": "white",
           "linecolor": "white",
           "ticks": "",
           "title": {
            "standoff": 15
           },
           "zerolinecolor": "white",
           "zerolinewidth": 2
          }
         }
        },
        "width": 800,
        "xaxis": {
         "anchor": "y",
         "domain": [
          0,
          0.45
         ]
        },
        "xaxis2": {
         "anchor": "y2",
         "domain": [
          0.55,
          1
         ]
        },
        "xaxis3": {
         "anchor": "y3",
         "domain": [
          0,
          0.45
         ]
        },
        "xaxis4": {
         "anchor": "y4",
         "domain": [
          0.55,
          1
         ]
        },
        "xaxis5": {
         "anchor": "y5",
         "domain": [
          0,
          0.45
         ]
        },
        "xaxis6": {
         "anchor": "y6",
         "domain": [
          0.55,
          1
         ]
        },
        "xaxis7": {
         "anchor": "y7",
         "domain": [
          0,
          0.45
         ]
        },
        "xaxis8": {
         "anchor": "y8",
         "domain": [
          0.55,
          1
         ]
        },
        "yaxis": {
         "anchor": "x",
         "domain": [
          0.78,
          1
         ]
        },
        "yaxis2": {
         "anchor": "x2",
         "domain": [
          0.78,
          1
         ]
        },
        "yaxis3": {
         "anchor": "x3",
         "domain": [
          0.52,
          0.74
         ]
        },
        "yaxis4": {
         "anchor": "x4",
         "domain": [
          0.52,
          0.74
         ]
        },
        "yaxis5": {
         "anchor": "x5",
         "domain": [
          0.26,
          0.48
         ]
        },
        "yaxis6": {
         "anchor": "x6",
         "domain": [
          0.26,
          0.48
         ]
        },
        "yaxis7": {
         "anchor": "x7",
         "domain": [
          0,
          0.22
         ]
        },
        "yaxis8": {
         "anchor": "x8",
         "domain": [
          0,
          0.22
         ]
        }
       }
      },
      "text/html": [
       "<div>\n",
       "        \n",
       "        \n",
       "            <div id=\"697d9841-daaa-47f5-b00c-86d52685747a\" class=\"plotly-graph-div\" style=\"height:1500px; width:800px;\"></div>\n",
       "            <script type=\"text/javascript\">\n",
       "                require([\"plotly\"], function(Plotly) {\n",
       "                    window.PLOTLYENV=window.PLOTLYENV || {};\n",
       "                    \n",
       "                if (document.getElementById(\"697d9841-daaa-47f5-b00c-86d52685747a\")) {\n",
       "                    Plotly.newPlot(\n",
       "                        '697d9841-daaa-47f5-b00c-86d52685747a',\n",
       "                        [{\"hovertext\": [\"EF 2E 22 E0 EA, Type 1\", \"B6 A4 CD 3A 81, Type 1\", \"C2 C3 05 A8 4B, Type 1\", \"39 CA BD 3C 82, Type 1\", \"7B DE 78 5B F6, Type 1\", \"9B 8E 44 F8 FF, Type 1\", \"35 86 13 56 24, Type 1\", \"73 EC 1B D7 9B, Type 1\", \"7D 76 3D FC 91, Type 1\", \"AB A5 ED 43 8B, Type 1\", \"01 83 17 5E 89, Type 1\", \"B9 5D 22 14 86, Type 1\", \"A1 54 32 B1 53, Type 1\", \"FD 11 B7 CF 8F, Type 1\", \"DB 6B 59 3A 0C, Type 1\", \"F1 C2 1C 3A FC, Type 1\", \"98 2C 1A AA 87, Type 1\", \"A2 D7 D0 A4 2A, Type 1\", \"02 92 7B FF E6, Type 1\", \"06 25 B6 B7 F5, Type 1\"], \"marker\": {\"color\": [\"#33ffc9\", \"#33ffc9\", \"#33ffc9\", \"#33ffc9\", \"#33ffc9\", \"#33ffc9\", \"#33ffc9\", \"#33ffc9\", \"#33ffc9\", \"#33ffc9\", \"#33ffc9\", \"#33ffc9\", \"#33ffc9\", \"#33ffc9\", \"#33ffc9\", \"#33ffc9\", \"#33ffc9\", \"#33ffc9\", \"#33ffc9\", \"#33ffc9\"], \"size\": 10}, \"mode\": \"markers+text\", \"type\": \"scatter\", \"x\": [19.0, 19.0, 20.0, 22.0, 23.0, 25.0, 27.0, 28.0, 29.0, 29.0, 31.0, 32.0, 32.0, 33.0, 34.0, 34.0, 36.0, 37.0, 41.0, 44.0], \"xaxis\": \"x\", \"y\": [null, 5.0, 8.0, 6.0, 14.0, 6.0, null, null, 6.0, 13.0, null, 3.0, 3.0, 12.0, null, 7.0, null, null, null, 10.0], \"yaxis\": \"y\"}, {\"hovertext\": [\"EF 2E 22 E0 EA, Type 1\", \"B6 A4 CD 3A 81, Type 1\", \"C2 C3 05 A8 4B, Type 1\", \"39 CA BD 3C 82, Type 1\", \"7B DE 78 5B F6, Type 1\", \"9B 8E 44 F8 FF, Type 1\", \"35 86 13 56 24, Type 1\", \"73 EC 1B D7 9B, Type 1\", \"7D 76 3D FC 91, Type 1\", \"AB A5 ED 43 8B, Type 1\", \"01 83 17 5E 89, Type 1\", \"B9 5D 22 14 86, Type 1\", \"A1 54 32 B1 53, Type 1\", \"FD 11 B7 CF 8F, Type 1\", \"DB 6B 59 3A 0C, Type 1\", \"F1 C2 1C 3A FC, Type 1\", \"98 2C 1A AA 87, Type 1\", \"A2 D7 D0 A4 2A, Type 1\", \"02 92 7B FF E6, Type 1\", \"06 25 B6 B7 F5, Type 1\"], \"marker\": {\"color\": [\"#33ffc9\", \"#33ffc9\", \"#33ffc9\", \"#33ffc9\", \"#33ffc9\", \"#33ffc9\", \"#33ffc9\", \"#33ffc9\", \"#33ffc9\", \"#33ffc9\", \"#33ffc9\", \"#33ffc9\", \"#33ffc9\", \"#33ffc9\", \"#33ffc9\", \"#33ffc9\", \"#33ffc9\", \"#33ffc9\", \"#33ffc9\", \"#33ffc9\"], \"size\": 10}, \"mode\": \"markers+text\", \"type\": \"scatter\", \"x\": [19.0, 19.0, 20.0, 22.0, 23.0, 25.0, 27.0, 28.0, 29.0, 29.0, 31.0, 32.0, 32.0, 33.0, 34.0, 34.0, 36.0, 37.0, 41.0, 44.0], \"xaxis\": \"x2\", \"y\": [null, null, 14.0, 4.0, 13.0, 2.0, 1.0, null, 5.0, 9.0, null, 2.0, 3.0, 16.0, null, 7.0, null, null, null, 11.0], \"yaxis\": \"y2\"}, {\"hovertext\": [\"EF 2E 22 E0 EA, Type 1\", \"B6 A4 CD 3A 81, Type 1\", \"C2 C3 05 A8 4B, Type 1\", \"39 CA BD 3C 82, Type 1\", \"7B DE 78 5B F6, Type 1\", \"9B 8E 44 F8 FF, Type 1\", \"35 86 13 56 24, Type 1\", \"73 EC 1B D7 9B, Type 1\", \"7D 76 3D FC 91, Type 1\", \"AB A5 ED 43 8B, Type 1\", \"01 83 17 5E 89, Type 1\", \"B9 5D 22 14 86, Type 1\", \"A1 54 32 B1 53, Type 1\", \"FD 11 B7 CF 8F, Type 1\", \"DB 6B 59 3A 0C, Type 1\", \"F1 C2 1C 3A FC, Type 1\", \"98 2C 1A AA 87, Type 1\", \"A2 D7 D0 A4 2A, Type 1\", \"02 92 7B FF E6, Type 1\", \"06 25 B6 B7 F5, Type 1\"], \"marker\": {\"color\": [\"#33ffc9\", \"#33ffc9\", \"#33ffc9\", \"#33ffc9\", \"#33ffc9\", \"#33ffc9\", \"#33ffc9\", \"#33ffc9\", \"#33ffc9\", \"#33ffc9\", \"#33ffc9\", \"#33ffc9\", \"#33ffc9\", \"#33ffc9\", \"#33ffc9\", \"#33ffc9\", \"#33ffc9\", \"#33ffc9\", \"#33ffc9\", \"#33ffc9\"], \"size\": 10}, \"mode\": \"markers+text\", \"type\": \"scatter\", \"x\": [19.0, 19.0, 20.0, 22.0, 23.0, 25.0, 27.0, 28.0, 29.0, 29.0, 31.0, 32.0, 32.0, 33.0, 34.0, 34.0, 36.0, 37.0, 41.0, 44.0], \"xaxis\": \"x3\", \"y\": [null, null, 11.0, 6.0, 14.0, null, 2.0, null, 6.0, 8.0, null, 3.0, 7.0, 11.0, 2.0, 8.0, null, null, null, 8.0], \"yaxis\": \"y3\"}, {\"hovertext\": [\"EF 2E 22 E0 EA, Type 1\", \"B6 A4 CD 3A 81, Type 1\", \"C2 C3 05 A8 4B, Type 1\", \"39 CA BD 3C 82, Type 1\", \"7B DE 78 5B F6, Type 1\", \"9B 8E 44 F8 FF, Type 1\", \"35 86 13 56 24, Type 1\", \"73 EC 1B D7 9B, Type 1\", \"7D 76 3D FC 91, Type 1\", \"AB A5 ED 43 8B, Type 1\", \"01 83 17 5E 89, Type 1\", \"B9 5D 22 14 86, Type 1\", \"A1 54 32 B1 53, Type 1\", \"FD 11 B7 CF 8F, Type 1\", \"DB 6B 59 3A 0C, Type 1\", \"F1 C2 1C 3A FC, Type 1\", \"98 2C 1A AA 87, Type 1\", \"A2 D7 D0 A4 2A, Type 1\", \"02 92 7B FF E6, Type 1\", \"06 25 B6 B7 F5, Type 1\"], \"marker\": {\"color\": [\"#33ffc9\", \"#33ffc9\", \"#33ffc9\", \"#33ffc9\", \"#33ffc9\", \"#33ffc9\", \"#33ffc9\", \"#33ffc9\", \"#33ffc9\", \"#33ffc9\", \"#33ffc9\", \"#33ffc9\", \"#33ffc9\", \"#33ffc9\", \"#33ffc9\", \"#33ffc9\", \"#33ffc9\", \"#33ffc9\", \"#33ffc9\", \"#33ffc9\"], \"size\": 10}, \"mode\": \"markers+text\", \"type\": \"scatter\", \"x\": [19.0, 19.0, 20.0, 22.0, 23.0, 25.0, 27.0, 28.0, 29.0, 29.0, 31.0, 32.0, 32.0, 33.0, 34.0, 34.0, 36.0, 37.0, 41.0, 44.0], \"xaxis\": \"x4\", \"y\": [null, null, 33.0, 16.0, 41.0, null, null, null, 17.0, 30.0, null, 8.0, 13.0, 39.0, null, 22.0, null, null, null, 29.0], \"yaxis\": \"y4\"}, {\"hovertext\": [\"EF 2E 22 E0 EA, Type 1\", \"B6 A4 CD 3A 81, Type 1\", \"C2 C3 05 A8 4B, Type 1\", \"39 CA BD 3C 82, Type 1\", \"7B DE 78 5B F6, Type 1\", \"9B 8E 44 F8 FF, Type 1\", \"35 86 13 56 24, Type 1\", \"73 EC 1B D7 9B, Type 1\", \"7D 76 3D FC 91, Type 1\", \"AB A5 ED 43 8B, Type 1\", \"01 83 17 5E 89, Type 1\", \"B9 5D 22 14 86, Type 1\", \"A1 54 32 B1 53, Type 1\", \"FD 11 B7 CF 8F, Type 1\", \"DB 6B 59 3A 0C, Type 1\", \"F1 C2 1C 3A FC, Type 1\", \"98 2C 1A AA 87, Type 1\", \"A2 D7 D0 A4 2A, Type 1\", \"02 92 7B FF E6, Type 1\", \"06 25 B6 B7 F5, Type 1\"], \"marker\": {\"color\": [\"#33ffc9\", \"#33ffc9\", \"#33ffc9\", \"#33ffc9\", \"#33ffc9\", \"#33ffc9\", \"#33ffc9\", \"#33ffc9\", \"#33ffc9\", \"#33ffc9\", \"#33ffc9\", \"#33ffc9\", \"#33ffc9\", \"#33ffc9\", \"#33ffc9\", \"#33ffc9\", \"#33ffc9\", \"#33ffc9\", \"#33ffc9\", \"#33ffc9\"], \"size\": 10}, \"mode\": \"markers+text\", \"type\": \"scatter\", \"x\": [19.0, 19.0, 20.0, 22.0, 23.0, 25.0, 27.0, 28.0, 29.0, 29.0, 31.0, 32.0, 32.0, 33.0, 34.0, 34.0, 36.0, 37.0, 41.0, 44.0], \"xaxis\": \"x5\", \"y\": [null, null, 106.0, 73.0, 122.0, null, null, null, 75.0, 100.0, null, 86.0, 67.0, 118.0, null, 84.0, null, null, null, 98.0], \"yaxis\": \"y5\"}, {\"hovertext\": [\"EF 2E 22 E0 EA, Type 1\", \"B6 A4 CD 3A 81, Type 1\", \"C2 C3 05 A8 4B, Type 1\", \"39 CA BD 3C 82, Type 1\", \"7B DE 78 5B F6, Type 1\", \"9B 8E 44 F8 FF, Type 1\", \"35 86 13 56 24, Type 1\", \"73 EC 1B D7 9B, Type 1\", \"7D 76 3D FC 91, Type 1\", \"AB A5 ED 43 8B, Type 1\", \"01 83 17 5E 89, Type 1\", \"B9 5D 22 14 86, Type 1\", \"A1 54 32 B1 53, Type 1\", \"FD 11 B7 CF 8F, Type 1\", \"DB 6B 59 3A 0C, Type 1\", \"F1 C2 1C 3A FC, Type 1\", \"98 2C 1A AA 87, Type 1\", \"A2 D7 D0 A4 2A, Type 1\", \"02 92 7B FF E6, Type 1\", \"06 25 B6 B7 F5, Type 1\"], \"marker\": {\"color\": [\"#33ffc9\", \"#33ffc9\", \"#33ffc9\", \"#33ffc9\", \"#33ffc9\", \"#33ffc9\", \"#33ffc9\", \"#33ffc9\", \"#33ffc9\", \"#33ffc9\", \"#33ffc9\", \"#33ffc9\", \"#33ffc9\", \"#33ffc9\", \"#33ffc9\", \"#33ffc9\", \"#33ffc9\", \"#33ffc9\", \"#33ffc9\", \"#33ffc9\"], \"size\": 10}, \"mode\": \"markers+text\", \"type\": \"scatter\", \"x\": [19.0, 19.0, 20.0, 22.0, 23.0, 25.0, 27.0, 28.0, 29.0, 29.0, 31.0, 32.0, 32.0, 33.0, 34.0, 34.0, 36.0, 37.0, 41.0, 44.0], \"xaxis\": \"x6\", \"y\": [null, null, 66.0, 4.0, 93.0, null, null, null, 5.0, 50.0, null, 0.0, 1.0, 88.0, null, 14.0, null, null, null, 45.0], \"yaxis\": \"y6\"}, {\"hovertext\": [\"EF 2E 22 E0 EA, Type 1\", \"B6 A4 CD 3A 81, Type 1\", \"C2 C3 05 A8 4B, Type 1\", \"39 CA BD 3C 82, Type 1\", \"7B DE 78 5B F6, Type 1\", \"9B 8E 44 F8 FF, Type 1\", \"35 86 13 56 24, Type 1\", \"73 EC 1B D7 9B, Type 1\", \"7D 76 3D FC 91, Type 1\", \"AB A5 ED 43 8B, Type 1\", \"01 83 17 5E 89, Type 1\", \"B9 5D 22 14 86, Type 1\", \"A1 54 32 B1 53, Type 1\", \"FD 11 B7 CF 8F, Type 1\", \"DB 6B 59 3A 0C, Type 1\", \"F1 C2 1C 3A FC, Type 1\", \"98 2C 1A AA 87, Type 1\", \"A2 D7 D0 A4 2A, Type 1\", \"02 92 7B FF E6, Type 1\", \"06 25 B6 B7 F5, Type 1\"], \"marker\": {\"color\": [\"#33ffc9\", \"#33ffc9\", \"#33ffc9\", \"#33ffc9\", \"#33ffc9\", \"#33ffc9\", \"#33ffc9\", \"#33ffc9\", \"#33ffc9\", \"#33ffc9\", \"#33ffc9\", \"#33ffc9\", \"#33ffc9\", \"#33ffc9\", \"#33ffc9\", \"#33ffc9\", \"#33ffc9\", \"#33ffc9\", \"#33ffc9\", \"#33ffc9\"], \"size\": 10}, \"mode\": \"markers+text\", \"type\": \"scatter\", \"x\": [19.0, 19.0, 20.0, 22.0, 23.0, 25.0, 27.0, 28.0, 29.0, 29.0, 31.0, 32.0, 32.0, 33.0, 34.0, 34.0, 36.0, 37.0, 41.0, 44.0], \"xaxis\": \"x7\", \"y\": [null, null, 99.0, 68.0, 114.0, null, null, null, 70.0, 93.0, null, 53.0, 62.0, 110.0, null, 78.0, null, null, null, 92.0], \"yaxis\": \"y7\"}, {\"hovertext\": [\"EF 2E 22 E0 EA, Type 1\", \"B6 A4 CD 3A 81, Type 1\", \"C2 C3 05 A8 4B, Type 1\", \"39 CA BD 3C 82, Type 1\", \"7B DE 78 5B F6, Type 1\", \"9B 8E 44 F8 FF, Type 1\", \"35 86 13 56 24, Type 1\", \"73 EC 1B D7 9B, Type 1\", \"7D 76 3D FC 91, Type 1\", \"AB A5 ED 43 8B, Type 1\", \"01 83 17 5E 89, Type 1\", \"B9 5D 22 14 86, Type 1\", \"A1 54 32 B1 53, Type 1\", \"FD 11 B7 CF 8F, Type 1\", \"DB 6B 59 3A 0C, Type 1\", \"F1 C2 1C 3A FC, Type 1\", \"98 2C 1A AA 87, Type 1\", \"A2 D7 D0 A4 2A, Type 1\", \"02 92 7B FF E6, Type 1\", \"06 25 B6 B7 F5, Type 1\"], \"marker\": {\"color\": [\"#33ffc9\", \"#33ffc9\", \"#33ffc9\", \"#33ffc9\", \"#33ffc9\", \"#33ffc9\", \"#33ffc9\", \"#33ffc9\", \"#33ffc9\", \"#33ffc9\", \"#33ffc9\", \"#33ffc9\", \"#33ffc9\", \"#33ffc9\", \"#33ffc9\", \"#33ffc9\", \"#33ffc9\", \"#33ffc9\", \"#33ffc9\", \"#33ffc9\"], \"size\": 10}, \"mode\": \"markers+text\", \"type\": \"scatter\", \"x\": [19.0, 19.0, 20.0, 22.0, 23.0, 25.0, 27.0, 28.0, 29.0, 29.0, 31.0, 32.0, 32.0, 33.0, 34.0, 34.0, 36.0, 37.0, 41.0, 44.0], \"xaxis\": \"x8\", \"y\": [null, null, 112.0, 81.0, 127.0, null, null, null, 83.0, 107.0, null, 66.0, 75.0, 124.0, null, 91.0, null, null, null, 105.0], \"yaxis\": \"y8\"}],\n",
       "                        {\"annotations\": [{\"font\": {\"size\": 16}, \"showarrow\": false, \"text\": \"Note standard Similitudes\", \"x\": 0.225, \"xanchor\": \"center\", \"xref\": \"paper\", \"y\": 1.0, \"yanchor\": \"bottom\", \"yref\": \"paper\"}, {\"font\": {\"size\": 16}, \"showarrow\": false, \"text\": \"Note standard Vocabulaire\", \"x\": 0.775, \"xanchor\": \"center\", \"xref\": \"paper\", \"y\": 1.0, \"yanchor\": \"bottom\", \"yref\": \"paper\"}, {\"font\": {\"size\": 16}, \"showarrow\": false, \"text\": \"Note standard Information\", \"x\": 0.225, \"xanchor\": \"center\", \"xref\": \"paper\", \"y\": 0.74, \"yanchor\": \"bottom\", \"yref\": \"paper\"}, {\"font\": {\"size\": 16}, \"showarrow\": false, \"text\": \"Total des notes standards ICV\", \"x\": 0.775, \"xanchor\": \"center\", \"xref\": \"paper\", \"y\": 0.74, \"yanchor\": \"bottom\", \"yref\": \"paper\"}, {\"font\": {\"size\": 16}, \"showarrow\": false, \"text\": \"Note composite ICV\", \"x\": 0.225, \"xanchor\": \"center\", \"xref\": \"paper\", \"y\": 0.48, \"yanchor\": \"bottom\", \"yref\": \"paper\"}, {\"font\": {\"size\": 16}, \"showarrow\": false, \"text\": \"Rang percentile ICV\", \"x\": 0.775, \"xanchor\": \"center\", \"xref\": \"paper\", \"y\": 0.48, \"yanchor\": \"bottom\", \"yref\": \"paper\"}, {\"font\": {\"size\": 16}, \"showarrow\": false, \"text\": \"Note \\u00e9cart type inf\\u00e9rieure ICV\", \"x\": 0.225, \"xanchor\": \"center\", \"xref\": \"paper\", \"y\": 0.22, \"yanchor\": \"bottom\", \"yref\": \"paper\"}, {\"font\": {\"size\": 16}, \"showarrow\": false, \"text\": \"Note \\u00e9cart type sup\\u00e9rieure ICV\", \"x\": 0.775, \"xanchor\": \"center\", \"xref\": \"paper\", \"y\": 0.22, \"yanchor\": \"bottom\", \"yref\": \"paper\"}, {\"font\": {\"size\": 16}, \"showarrow\": false, \"text\": \"\\u00c2ge\", \"x\": 0.5, \"xanchor\": \"center\", \"xref\": \"paper\", \"y\": 0, \"yanchor\": \"top\", \"yref\": \"paper\", \"yshift\": -30}, {\"font\": {\"size\": 16}, \"showarrow\": false, \"text\": \"Score\", \"textangle\": -90, \"x\": 0, \"xanchor\": \"right\", \"xref\": \"paper\", \"xshift\": -40, \"y\": 0.5, \"yanchor\": \"middle\", \"yref\": \"paper\"}], \"height\": 1500, \"showlegend\": false, \"template\": {\"data\": {\"bar\": [{\"error_x\": {\"color\": \"#2a3f5f\"}, \"error_y\": {\"color\": \"#2a3f5f\"}, \"marker\": {\"line\": {\"color\": \"#E5ECF6\", \"width\": 0.5}}, \"type\": \"bar\"}], \"barpolar\": [{\"marker\": {\"line\": {\"color\": \"#E5ECF6\", \"width\": 0.5}}, \"type\": \"barpolar\"}], \"carpet\": [{\"aaxis\": {\"endlinecolor\": \"#2a3f5f\", \"gridcolor\": \"white\", \"linecolor\": \"white\", \"minorgridcolor\": \"white\", \"startlinecolor\": \"#2a3f5f\"}, \"baxis\": {\"endlinecolor\": \"#2a3f5f\", \"gridcolor\": \"white\", \"linecolor\": \"white\", \"minorgridcolor\": \"white\", \"startlinecolor\": \"#2a3f5f\"}, \"type\": \"carpet\"}], \"choropleth\": [{\"colorbar\": {\"outlinewidth\": 0, \"ticks\": \"\"}, \"type\": \"choropleth\"}], \"contour\": [{\"colorbar\": {\"outlinewidth\": 0, \"ticks\": \"\"}, \"colorscale\": [[0.0, \"#0d0887\"], [0.1111111111111111, \"#46039f\"], [0.2222222222222222, \"#7201a8\"], [0.3333333333333333, \"#9c179e\"], [0.4444444444444444, \"#bd3786\"], [0.5555555555555556, \"#d8576b\"], [0.6666666666666666, \"#ed7953\"], [0.7777777777777778, \"#fb9f3a\"], [0.8888888888888888, \"#fdca26\"], [1.0, \"#f0f921\"]], \"type\": \"contour\"}], \"contourcarpet\": [{\"colorbar\": {\"outlinewidth\": 0, \"ticks\": \"\"}, \"type\": \"contourcarpet\"}], \"heatmap\": [{\"colorbar\": {\"outlinewidth\": 0, \"ticks\": \"\"}, \"colorscale\": [[0.0, \"#0d0887\"], [0.1111111111111111, \"#46039f\"], [0.2222222222222222, \"#7201a8\"], [0.3333333333333333, \"#9c179e\"], [0.4444444444444444, \"#bd3786\"], [0.5555555555555556, \"#d8576b\"], [0.6666666666666666, \"#ed7953\"], [0.7777777777777778, \"#fb9f3a\"], [0.8888888888888888, \"#fdca26\"], [1.0, \"#f0f921\"]], \"type\": \"heatmap\"}], \"heatmapgl\": [{\"colorbar\": {\"outlinewidth\": 0, \"ticks\": \"\"}, \"colorscale\": [[0.0, \"#0d0887\"], [0.1111111111111111, \"#46039f\"], [0.2222222222222222, \"#7201a8\"], [0.3333333333333333, \"#9c179e\"], [0.4444444444444444, \"#bd3786\"], [0.5555555555555556, \"#d8576b\"], [0.6666666666666666, \"#ed7953\"], [0.7777777777777778, \"#fb9f3a\"], [0.8888888888888888, \"#fdca26\"], [1.0, \"#f0f921\"]], \"type\": \"heatmapgl\"}], \"histogram\": [{\"marker\": {\"colorbar\": {\"outlinewidth\": 0, \"ticks\": \"\"}}, \"type\": \"histogram\"}], \"histogram2d\": [{\"colorbar\": {\"outlinewidth\": 0, \"ticks\": \"\"}, \"colorscale\": [[0.0, \"#0d0887\"], [0.1111111111111111, \"#46039f\"], [0.2222222222222222, \"#7201a8\"], [0.3333333333333333, \"#9c179e\"], [0.4444444444444444, \"#bd3786\"], [0.5555555555555556, \"#d8576b\"], [0.6666666666666666, \"#ed7953\"], [0.7777777777777778, \"#fb9f3a\"], [0.8888888888888888, \"#fdca26\"], [1.0, \"#f0f921\"]], \"type\": \"histogram2d\"}], \"histogram2dcontour\": [{\"colorbar\": {\"outlinewidth\": 0, \"ticks\": \"\"}, \"colorscale\": [[0.0, \"#0d0887\"], [0.1111111111111111, \"#46039f\"], [0.2222222222222222, \"#7201a8\"], [0.3333333333333333, \"#9c179e\"], [0.4444444444444444, \"#bd3786\"], [0.5555555555555556, \"#d8576b\"], [0.6666666666666666, \"#ed7953\"], [0.7777777777777778, \"#fb9f3a\"], [0.8888888888888888, \"#fdca26\"], [1.0, \"#f0f921\"]], \"type\": \"histogram2dcontour\"}], \"mesh3d\": [{\"colorbar\": {\"outlinewidth\": 0, \"ticks\": \"\"}, \"type\": \"mesh3d\"}], \"parcoords\": [{\"line\": {\"colorbar\": {\"outlinewidth\": 0, \"ticks\": \"\"}}, \"type\": \"parcoords\"}], \"pie\": [{\"automargin\": true, \"type\": \"pie\"}], \"scatter\": [{\"marker\": {\"colorbar\": {\"outlinewidth\": 0, \"ticks\": \"\"}}, \"type\": \"scatter\"}], \"scatter3d\": [{\"line\": {\"colorbar\": {\"outlinewidth\": 0, \"ticks\": \"\"}}, \"marker\": {\"colorbar\": {\"outlinewidth\": 0, \"ticks\": \"\"}}, \"type\": \"scatter3d\"}], \"scattercarpet\": [{\"marker\": {\"colorbar\": {\"outlinewidth\": 0, \"ticks\": \"\"}}, \"type\": \"scattercarpet\"}], \"scattergeo\": [{\"marker\": {\"colorbar\": {\"outlinewidth\": 0, \"ticks\": \"\"}}, \"type\": \"scattergeo\"}], \"scattergl\": [{\"marker\": {\"colorbar\": {\"outlinewidth\": 0, \"ticks\": \"\"}}, \"type\": \"scattergl\"}], \"scattermapbox\": [{\"marker\": {\"colorbar\": {\"outlinewidth\": 0, \"ticks\": \"\"}}, \"type\": \"scattermapbox\"}], \"scatterpolar\": [{\"marker\": {\"colorbar\": {\"outlinewidth\": 0, \"ticks\": \"\"}}, \"type\": \"scatterpolar\"}], \"scatterpolargl\": [{\"marker\": {\"colorbar\": {\"outlinewidth\": 0, \"ticks\": \"\"}}, \"type\": \"scatterpolargl\"}], \"scatterternary\": [{\"marker\": {\"colorbar\": {\"outlinewidth\": 0, \"ticks\": \"\"}}, \"type\": \"scatterternary\"}], \"surface\": [{\"colorbar\": {\"outlinewidth\": 0, \"ticks\": \"\"}, \"colorscale\": [[0.0, \"#0d0887\"], [0.1111111111111111, \"#46039f\"], [0.2222222222222222, \"#7201a8\"], [0.3333333333333333, \"#9c179e\"], [0.4444444444444444, \"#bd3786\"], [0.5555555555555556, \"#d8576b\"], [0.6666666666666666, \"#ed7953\"], [0.7777777777777778, \"#fb9f3a\"], [0.8888888888888888, \"#fdca26\"], [1.0, \"#f0f921\"]], \"type\": \"surface\"}], \"table\": [{\"cells\": {\"fill\": {\"color\": \"#EBF0F8\"}, \"line\": {\"color\": \"white\"}}, \"header\": {\"fill\": {\"color\": \"#C8D4E3\"}, \"line\": {\"color\": \"white\"}}, \"type\": \"table\"}]}, \"layout\": {\"annotationdefaults\": {\"arrowcolor\": \"#2a3f5f\", \"arrowhead\": 0, \"arrowwidth\": 1}, \"coloraxis\": {\"colorbar\": {\"outlinewidth\": 0, \"ticks\": \"\"}}, \"colorscale\": {\"diverging\": [[0, \"#8e0152\"], [0.1, \"#c51b7d\"], [0.2, \"#de77ae\"], [0.3, \"#f1b6da\"], [0.4, \"#fde0ef\"], [0.5, \"#f7f7f7\"], [0.6, \"#e6f5d0\"], [0.7, \"#b8e186\"], [0.8, \"#7fbc41\"], [0.9, \"#4d9221\"], [1, \"#276419\"]], \"sequential\": [[0.0, \"#0d0887\"], [0.1111111111111111, \"#46039f\"], [0.2222222222222222, \"#7201a8\"], [0.3333333333333333, \"#9c179e\"], [0.4444444444444444, \"#bd3786\"], [0.5555555555555556, \"#d8576b\"], [0.6666666666666666, \"#ed7953\"], [0.7777777777777778, \"#fb9f3a\"], [0.8888888888888888, \"#fdca26\"], [1.0, \"#f0f921\"]], \"sequentialminus\": [[0.0, \"#0d0887\"], [0.1111111111111111, \"#46039f\"], [0.2222222222222222, \"#7201a8\"], [0.3333333333333333, \"#9c179e\"], [0.4444444444444444, \"#bd3786\"], [0.5555555555555556, \"#d8576b\"], [0.6666666666666666, \"#ed7953\"], [0.7777777777777778, \"#fb9f3a\"], [0.8888888888888888, \"#fdca26\"], [1.0, \"#f0f921\"]]}, \"colorway\": [\"#636efa\", \"#EF553B\", \"#00cc96\", \"#ab63fa\", \"#FFA15A\", \"#19d3f3\", \"#FF6692\", \"#B6E880\", \"#FF97FF\", \"#FECB52\"], \"font\": {\"color\": \"#2a3f5f\"}, \"geo\": {\"bgcolor\": \"white\", \"lakecolor\": \"white\", \"landcolor\": \"#E5ECF6\", \"showlakes\": true, \"showland\": true, \"subunitcolor\": \"white\"}, \"hoverlabel\": {\"align\": \"left\"}, \"hovermode\": \"closest\", \"mapbox\": {\"style\": \"light\"}, \"paper_bgcolor\": \"white\", \"plot_bgcolor\": \"#E5ECF6\", \"polar\": {\"angularaxis\": {\"gridcolor\": \"white\", \"linecolor\": \"white\", \"ticks\": \"\"}, \"bgcolor\": \"#E5ECF6\", \"radialaxis\": {\"gridcolor\": \"white\", \"linecolor\": \"white\", \"ticks\": \"\"}}, \"scene\": {\"xaxis\": {\"backgroundcolor\": \"#E5ECF6\", \"gridcolor\": \"white\", \"gridwidth\": 2, \"linecolor\": \"white\", \"showbackground\": true, \"ticks\": \"\", \"zerolinecolor\": \"white\"}, \"yaxis\": {\"backgroundcolor\": \"#E5ECF6\", \"gridcolor\": \"white\", \"gridwidth\": 2, \"linecolor\": \"white\", \"showbackground\": true, \"ticks\": \"\", \"zerolinecolor\": \"white\"}, \"zaxis\": {\"backgroundcolor\": \"#E5ECF6\", \"gridcolor\": \"white\", \"gridwidth\": 2, \"linecolor\": \"white\", \"showbackground\": true, \"ticks\": \"\", \"zerolinecolor\": \"white\"}}, \"shapedefaults\": {\"line\": {\"color\": \"#2a3f5f\"}}, \"ternary\": {\"aaxis\": {\"gridcolor\": \"white\", \"linecolor\": \"white\", \"ticks\": \"\"}, \"baxis\": {\"gridcolor\": \"white\", \"linecolor\": \"white\", \"ticks\": \"\"}, \"bgcolor\": \"#E5ECF6\", \"caxis\": {\"gridcolor\": \"white\", \"linecolor\": \"white\", \"ticks\": \"\"}}, \"title\": {\"x\": 0.05}, \"xaxis\": {\"automargin\": true, \"gridcolor\": \"white\", \"linecolor\": \"white\", \"ticks\": \"\", \"title\": {\"standoff\": 15}, \"zerolinecolor\": \"white\", \"zerolinewidth\": 2}, \"yaxis\": {\"automargin\": true, \"gridcolor\": \"white\", \"linecolor\": \"white\", \"ticks\": \"\", \"title\": {\"standoff\": 15}, \"zerolinecolor\": \"white\", \"zerolinewidth\": 2}}}, \"width\": 800, \"xaxis\": {\"anchor\": \"y\", \"domain\": [0.0, 0.45]}, \"xaxis2\": {\"anchor\": \"y2\", \"domain\": [0.55, 1.0]}, \"xaxis3\": {\"anchor\": \"y3\", \"domain\": [0.0, 0.45]}, \"xaxis4\": {\"anchor\": \"y4\", \"domain\": [0.55, 1.0]}, \"xaxis5\": {\"anchor\": \"y5\", \"domain\": [0.0, 0.45]}, \"xaxis6\": {\"anchor\": \"y6\", \"domain\": [0.55, 1.0]}, \"xaxis7\": {\"anchor\": \"y7\", \"domain\": [0.0, 0.45]}, \"xaxis8\": {\"anchor\": \"y8\", \"domain\": [0.55, 1.0]}, \"yaxis\": {\"anchor\": \"x\", \"domain\": [0.78, 1.0]}, \"yaxis2\": {\"anchor\": \"x2\", \"domain\": [0.78, 1.0]}, \"yaxis3\": {\"anchor\": \"x3\", \"domain\": [0.52, 0.74]}, \"yaxis4\": {\"anchor\": \"x4\", \"domain\": [0.52, 0.74]}, \"yaxis5\": {\"anchor\": \"x5\", \"domain\": [0.26, 0.48]}, \"yaxis6\": {\"anchor\": \"x6\", \"domain\": [0.26, 0.48]}, \"yaxis7\": {\"anchor\": \"x7\", \"domain\": [0.0, 0.22]}, \"yaxis8\": {\"anchor\": \"x8\", \"domain\": [0.0, 0.22]}},\n",
       "                        {\"responsive\": true}\n",
       "                    ).then(function(){\n",
       "                            \n",
       "var gd = document.getElementById('697d9841-daaa-47f5-b00c-86d52685747a');\n",
       "var x = new MutationObserver(function (mutations, observer) {{\n",
       "        var display = window.getComputedStyle(gd).display;\n",
       "        if (!display || display === 'none') {{\n",
       "            console.log([gd, 'removed!']);\n",
       "            Plotly.purge(gd);\n",
       "            observer.disconnect();\n",
       "        }}\n",
       "}});\n",
       "\n",
       "// Listen for the removal of the full notebook cells\n",
       "var notebookContainer = gd.closest('#notebook-container');\n",
       "if (notebookContainer) {{\n",
       "    x.observe(notebookContainer, {childList: true});\n",
       "}}\n",
       "\n",
       "// Listen for the clearing of the current output cell\n",
       "var outputEl = gd.closest('.output');\n",
       "if (outputEl) {{\n",
       "    x.observe(outputEl, {childList: true});\n",
       "}}\n",
       "\n",
       "                        })\n",
       "                };\n",
       "                });\n",
       "            </script>\n",
       "        </div>"
      ]
     },
     "metadata": {},
     "output_type": "display_data"
    }
   ],
   "source": [
    "fig_wais_sub.add_trace(go.Scatter(x= df_wais_sub['age'], y=df_wais_sub[subplot_titles[4]], mode=\"markers+text\",\n",
    "            marker={'size': 10, \"color\": df_wais_sub['Type_color'] },\n",
    "            hovertext= df_wais_sub['ID_SECONDAIRE'] +\", \"+ df_wais_sub['Type']),\n",
    "            row=1, col=1)\n",
    "\n",
    "fig_wais_sub.add_trace(go.Scatter(x= df_wais_sub['age'], y=df_wais_sub[subplot_titles[5]], mode=\"markers+text\",\n",
    "            marker={'size': 10, \"color\": df_wais_sub['Type_color'] },\n",
    "            hovertext= df_wais_sub['ID_SECONDAIRE'] +\", \"+ df_wais_sub['Type']),\n",
    "              row=1, col=2)\n",
    "\n",
    "fig_wais_sub.add_trace(go.Scatter(x= df_wais_sub['age'], y=df_wais_sub[subplot_titles[6]], mode=\"markers+text\",\n",
    "            marker={'size': 10, \"color\": df_wais_sub['Type_color'] },\n",
    "            hovertext= df_wais_sub['ID_SECONDAIRE'] +\", \"+ df_wais_sub['Type']),\n",
    "              row=2, col=1)\n",
    "\n",
    "fig_wais_sub.add_trace(go.Scatter(x= df_wais_sub['age'], y=df_wais_sub[subplot_titles[7]], mode=\"markers+text\",\n",
    "            marker={'size': 10, \"color\": df_wais_sub['Type_color'] },\n",
    "            hovertext= df_wais_sub['ID_SECONDAIRE'] +\", \"+ df_wais_sub['Type']),\n",
    "            row=2, col=2)\n",
    "\n",
    "fig_wais_sub.add_trace(go.Scatter(x= df_wais_sub['age'], y=df_wais_sub[subplot_titles[8]], mode=\"markers+text\",\n",
    "            marker={'size': 10, \"color\": df_wais_sub['Type_color'] },\n",
    "            hovertext= df_wais_sub['ID_SECONDAIRE'] +\", \"+ df_wais_sub['Type']),\n",
    "            row=3, col=1)\n",
    "                                                             \n",
    "fig_wais_sub.add_trace(go.Scatter(x= df_wais_sub['age'], y=df_wais_sub[subplot_titles[9]], mode=\"markers+text\",\n",
    "            marker={'size': 10, \"color\": df_wais_sub['Type_color'] },\n",
    "            hovertext= df_wais_sub['ID_SECONDAIRE'] +\", \"+ df_wais_sub['Type']),\n",
    "            row=3, col=2)\n",
    "    \n",
    "fig_wais_sub.add_trace(go.Scatter(x= df_wais_sub['age'], y=df_wais_sub[subplot_titles[10]], mode=\"markers+text\",\n",
    "            marker={'size': 10, \"color\": df_wais_sub['Type_color'] },\n",
    "            hovertext= df_wais_sub['ID_SECONDAIRE'] +\", \"+ df_wais_sub['Type']),\n",
    "            row=4, col=1)\n",
    "    \n",
    "fig_wais_sub.add_trace(go.Scatter(x= df_wais_sub['age'], y=df_wais_sub[subplot_titles[11]], mode=\"markers+text\",\n",
    "            marker={'size': 10, \"color\": df_wais_sub['Type_color'] },\n",
    "            hovertext= df_wais_sub['ID_SECONDAIRE'] +\", \"+ df_wais_sub['Type']),\n",
    "            row=4, col=2)\n",
    "    \n",
    "fig_wais_sub.update_layout(height=1500, width=800,\n",
    "                   showlegend=False\n",
    "            )"
   ]
  },
  {
   "cell_type": "code",
   "execution_count": 31,
   "metadata": {
    "ExecuteTime": {
     "end_time": "2020-11-26T13:39:01.546989Z",
     "start_time": "2020-11-26T13:39:01.527334Z"
    }
   },
   "outputs": [],
   "source": [
    "df_wais_sub_agg = df_wais_sub.agg(['min', 'max', 'mean', 'median', 'count'])\n",
    "#\n",
    "df_wais_sub_agg.index.name = \"Aggrégation\"\n",
    "df_wais_sub_agg.reset_index(inplace=True)\n",
    "#\n",
    "df_wais_sub_agg = df_wais_sub_agg.replace({'Aggrégation' : {\"min\":\"Min\",\"max\":\"Max\",\"mean\":\"Moyenne\", \"median\":\"Médiane\", \"count\":\"Effectif\"}})"
   ]
  },
  {
   "cell_type": "code",
   "execution_count": 32,
   "metadata": {
    "ExecuteTime": {
     "end_time": "2020-11-26T13:39:04.829948Z",
     "start_time": "2020-11-26T13:39:04.826305Z"
    }
   },
   "outputs": [],
   "source": [
    "df_wais_sub_agg = df_wais_sub_agg.drop(columns= ['ID_SECONDAIRE','Type', 'Type_color', 'age' ])"
   ]
  },
  {
   "cell_type": "code",
   "execution_count": 33,
   "metadata": {
    "ExecuteTime": {
     "end_time": "2020-11-26T13:39:05.644815Z",
     "start_time": "2020-11-26T13:39:05.640385Z"
    }
   },
   "outputs": [],
   "source": [
    "df_wais_sub_agg = df_wais_sub_agg.round(2)"
   ]
  },
  {
   "cell_type": "code",
   "execution_count": 34,
   "metadata": {
    "ExecuteTime": {
     "end_time": "2020-11-26T13:39:06.353913Z",
     "start_time": "2020-11-26T13:39:06.347058Z"
    }
   },
   "outputs": [],
   "source": [
    "wais_sub =  go.Table(\n",
    "                header=dict(values=list(df_wais_sub_agg.columns[:]),\n",
    "                align='left'),\n",
    "                cells=dict(values= [df_wais_sub_agg.iloc[:,0], df_wais_sub_agg.iloc[:,1], df_wais_sub_agg.iloc[:,2], df_wais_sub_agg.iloc[:,3]\n",
    "                           , df_wais_sub_agg.iloc[:,4], df_wais_sub_agg.iloc[:,5], df_wais_sub_agg.iloc[:,6], df_wais_sub_agg.iloc[:,7]\n",
    "                           , df_wais_sub_agg.iloc[:,8]], align='left'))"
   ]
  },
  {
   "cell_type": "code",
   "execution_count": 35,
   "metadata": {
    "ExecuteTime": {
     "end_time": "2020-11-26T13:39:09.826860Z",
     "start_time": "2020-11-26T13:39:09.709001Z"
    },
    "scrolled": true
   },
   "outputs": [
    {
     "data": {
      "application/vnd.plotly.v1+json": {
       "config": {
        "plotlyServerURL": "https://plot.ly"
       },
       "data": [
        {
         "cells": {
          "align": "left",
          "values": [
           [
            "Min",
            "Max",
            "Effectif",
            "Moyenne",
            "Médiane"
           ],
           [
            3,
            14,
            12,
            7.75,
            6.5
           ],
           [
            1,
            16,
            12,
            7.25,
            6
           ],
           [
            2,
            14,
            12,
            7.17,
            7.5
           ],
           [
            8,
            41,
            10,
            24.8,
            25.5
           ],
           [
            67,
            122,
            10,
            92.9,
            92
           ],
           [
            0,
            93,
            10,
            36.6,
            29.5
           ],
           [
            53,
            114,
            10,
            83.9,
            85
           ],
           [
            66,
            127,
            10,
            97.1,
            98
           ]
          ]
         },
         "header": {
          "align": "left",
          "values": [
           "Aggrégation",
           "Note standard Similitudes",
           "Note standard Vocabulaire",
           "Note standard Information",
           "Total des notes standards ICV",
           "Note composite ICV",
           "Rang percentile ICV",
           "Note écart type inférieure ICV",
           "Note écart type supérieure ICV"
          ]
         },
         "type": "table"
        }
       ],
       "layout": {
        "height": 1000,
        "template": {
         "data": {
          "bar": [
           {
            "error_x": {
             "color": "#2a3f5f"
            },
            "error_y": {
             "color": "#2a3f5f"
            },
            "marker": {
             "line": {
              "color": "#E5ECF6",
              "width": 0.5
             }
            },
            "type": "bar"
           }
          ],
          "barpolar": [
           {
            "marker": {
             "line": {
              "color": "#E5ECF6",
              "width": 0.5
             }
            },
            "type": "barpolar"
           }
          ],
          "carpet": [
           {
            "aaxis": {
             "endlinecolor": "#2a3f5f",
             "gridcolor": "white",
             "linecolor": "white",
             "minorgridcolor": "white",
             "startlinecolor": "#2a3f5f"
            },
            "baxis": {
             "endlinecolor": "#2a3f5f",
             "gridcolor": "white",
             "linecolor": "white",
             "minorgridcolor": "white",
             "startlinecolor": "#2a3f5f"
            },
            "type": "carpet"
           }
          ],
          "choropleth": [
           {
            "colorbar": {
             "outlinewidth": 0,
             "ticks": ""
            },
            "type": "choropleth"
           }
          ],
          "contour": [
           {
            "colorbar": {
             "outlinewidth": 0,
             "ticks": ""
            },
            "colorscale": [
             [
              0,
              "#0d0887"
             ],
             [
              0.1111111111111111,
              "#46039f"
             ],
             [
              0.2222222222222222,
              "#7201a8"
             ],
             [
              0.3333333333333333,
              "#9c179e"
             ],
             [
              0.4444444444444444,
              "#bd3786"
             ],
             [
              0.5555555555555556,
              "#d8576b"
             ],
             [
              0.6666666666666666,
              "#ed7953"
             ],
             [
              0.7777777777777778,
              "#fb9f3a"
             ],
             [
              0.8888888888888888,
              "#fdca26"
             ],
             [
              1,
              "#f0f921"
             ]
            ],
            "type": "contour"
           }
          ],
          "contourcarpet": [
           {
            "colorbar": {
             "outlinewidth": 0,
             "ticks": ""
            },
            "type": "contourcarpet"
           }
          ],
          "heatmap": [
           {
            "colorbar": {
             "outlinewidth": 0,
             "ticks": ""
            },
            "colorscale": [
             [
              0,
              "#0d0887"
             ],
             [
              0.1111111111111111,
              "#46039f"
             ],
             [
              0.2222222222222222,
              "#7201a8"
             ],
             [
              0.3333333333333333,
              "#9c179e"
             ],
             [
              0.4444444444444444,
              "#bd3786"
             ],
             [
              0.5555555555555556,
              "#d8576b"
             ],
             [
              0.6666666666666666,
              "#ed7953"
             ],
             [
              0.7777777777777778,
              "#fb9f3a"
             ],
             [
              0.8888888888888888,
              "#fdca26"
             ],
             [
              1,
              "#f0f921"
             ]
            ],
            "type": "heatmap"
           }
          ],
          "heatmapgl": [
           {
            "colorbar": {
             "outlinewidth": 0,
             "ticks": ""
            },
            "colorscale": [
             [
              0,
              "#0d0887"
             ],
             [
              0.1111111111111111,
              "#46039f"
             ],
             [
              0.2222222222222222,
              "#7201a8"
             ],
             [
              0.3333333333333333,
              "#9c179e"
             ],
             [
              0.4444444444444444,
              "#bd3786"
             ],
             [
              0.5555555555555556,
              "#d8576b"
             ],
             [
              0.6666666666666666,
              "#ed7953"
             ],
             [
              0.7777777777777778,
              "#fb9f3a"
             ],
             [
              0.8888888888888888,
              "#fdca26"
             ],
             [
              1,
              "#f0f921"
             ]
            ],
            "type": "heatmapgl"
           }
          ],
          "histogram": [
           {
            "marker": {
             "colorbar": {
              "outlinewidth": 0,
              "ticks": ""
             }
            },
            "type": "histogram"
           }
          ],
          "histogram2d": [
           {
            "colorbar": {
             "outlinewidth": 0,
             "ticks": ""
            },
            "colorscale": [
             [
              0,
              "#0d0887"
             ],
             [
              0.1111111111111111,
              "#46039f"
             ],
             [
              0.2222222222222222,
              "#7201a8"
             ],
             [
              0.3333333333333333,
              "#9c179e"
             ],
             [
              0.4444444444444444,
              "#bd3786"
             ],
             [
              0.5555555555555556,
              "#d8576b"
             ],
             [
              0.6666666666666666,
              "#ed7953"
             ],
             [
              0.7777777777777778,
              "#fb9f3a"
             ],
             [
              0.8888888888888888,
              "#fdca26"
             ],
             [
              1,
              "#f0f921"
             ]
            ],
            "type": "histogram2d"
           }
          ],
          "histogram2dcontour": [
           {
            "colorbar": {
             "outlinewidth": 0,
             "ticks": ""
            },
            "colorscale": [
             [
              0,
              "#0d0887"
             ],
             [
              0.1111111111111111,
              "#46039f"
             ],
             [
              0.2222222222222222,
              "#7201a8"
             ],
             [
              0.3333333333333333,
              "#9c179e"
             ],
             [
              0.4444444444444444,
              "#bd3786"
             ],
             [
              0.5555555555555556,
              "#d8576b"
             ],
             [
              0.6666666666666666,
              "#ed7953"
             ],
             [
              0.7777777777777778,
              "#fb9f3a"
             ],
             [
              0.8888888888888888,
              "#fdca26"
             ],
             [
              1,
              "#f0f921"
             ]
            ],
            "type": "histogram2dcontour"
           }
          ],
          "mesh3d": [
           {
            "colorbar": {
             "outlinewidth": 0,
             "ticks": ""
            },
            "type": "mesh3d"
           }
          ],
          "parcoords": [
           {
            "line": {
             "colorbar": {
              "outlinewidth": 0,
              "ticks": ""
             }
            },
            "type": "parcoords"
           }
          ],
          "pie": [
           {
            "automargin": true,
            "type": "pie"
           }
          ],
          "scatter": [
           {
            "marker": {
             "colorbar": {
              "outlinewidth": 0,
              "ticks": ""
             }
            },
            "type": "scatter"
           }
          ],
          "scatter3d": [
           {
            "line": {
             "colorbar": {
              "outlinewidth": 0,
              "ticks": ""
             }
            },
            "marker": {
             "colorbar": {
              "outlinewidth": 0,
              "ticks": ""
             }
            },
            "type": "scatter3d"
           }
          ],
          "scattercarpet": [
           {
            "marker": {
             "colorbar": {
              "outlinewidth": 0,
              "ticks": ""
             }
            },
            "type": "scattercarpet"
           }
          ],
          "scattergeo": [
           {
            "marker": {
             "colorbar": {
              "outlinewidth": 0,
              "ticks": ""
             }
            },
            "type": "scattergeo"
           }
          ],
          "scattergl": [
           {
            "marker": {
             "colorbar": {
              "outlinewidth": 0,
              "ticks": ""
             }
            },
            "type": "scattergl"
           }
          ],
          "scattermapbox": [
           {
            "marker": {
             "colorbar": {
              "outlinewidth": 0,
              "ticks": ""
             }
            },
            "type": "scattermapbox"
           }
          ],
          "scatterpolar": [
           {
            "marker": {
             "colorbar": {
              "outlinewidth": 0,
              "ticks": ""
             }
            },
            "type": "scatterpolar"
           }
          ],
          "scatterpolargl": [
           {
            "marker": {
             "colorbar": {
              "outlinewidth": 0,
              "ticks": ""
             }
            },
            "type": "scatterpolargl"
           }
          ],
          "scatterternary": [
           {
            "marker": {
             "colorbar": {
              "outlinewidth": 0,
              "ticks": ""
             }
            },
            "type": "scatterternary"
           }
          ],
          "surface": [
           {
            "colorbar": {
             "outlinewidth": 0,
             "ticks": ""
            },
            "colorscale": [
             [
              0,
              "#0d0887"
             ],
             [
              0.1111111111111111,
              "#46039f"
             ],
             [
              0.2222222222222222,
              "#7201a8"
             ],
             [
              0.3333333333333333,
              "#9c179e"
             ],
             [
              0.4444444444444444,
              "#bd3786"
             ],
             [
              0.5555555555555556,
              "#d8576b"
             ],
             [
              0.6666666666666666,
              "#ed7953"
             ],
             [
              0.7777777777777778,
              "#fb9f3a"
             ],
             [
              0.8888888888888888,
              "#fdca26"
             ],
             [
              1,
              "#f0f921"
             ]
            ],
            "type": "surface"
           }
          ],
          "table": [
           {
            "cells": {
             "fill": {
              "color": "#EBF0F8"
             },
             "line": {
              "color": "white"
             }
            },
            "header": {
             "fill": {
              "color": "#C8D4E3"
             },
             "line": {
              "color": "white"
             }
            },
            "type": "table"
           }
          ]
         },
         "layout": {
          "annotationdefaults": {
           "arrowcolor": "#2a3f5f",
           "arrowhead": 0,
           "arrowwidth": 1
          },
          "coloraxis": {
           "colorbar": {
            "outlinewidth": 0,
            "ticks": ""
           }
          },
          "colorscale": {
           "diverging": [
            [
             0,
             "#8e0152"
            ],
            [
             0.1,
             "#c51b7d"
            ],
            [
             0.2,
             "#de77ae"
            ],
            [
             0.3,
             "#f1b6da"
            ],
            [
             0.4,
             "#fde0ef"
            ],
            [
             0.5,
             "#f7f7f7"
            ],
            [
             0.6,
             "#e6f5d0"
            ],
            [
             0.7,
             "#b8e186"
            ],
            [
             0.8,
             "#7fbc41"
            ],
            [
             0.9,
             "#4d9221"
            ],
            [
             1,
             "#276419"
            ]
           ],
           "sequential": [
            [
             0,
             "#0d0887"
            ],
            [
             0.1111111111111111,
             "#46039f"
            ],
            [
             0.2222222222222222,
             "#7201a8"
            ],
            [
             0.3333333333333333,
             "#9c179e"
            ],
            [
             0.4444444444444444,
             "#bd3786"
            ],
            [
             0.5555555555555556,
             "#d8576b"
            ],
            [
             0.6666666666666666,
             "#ed7953"
            ],
            [
             0.7777777777777778,
             "#fb9f3a"
            ],
            [
             0.8888888888888888,
             "#fdca26"
            ],
            [
             1,
             "#f0f921"
            ]
           ],
           "sequentialminus": [
            [
             0,
             "#0d0887"
            ],
            [
             0.1111111111111111,
             "#46039f"
            ],
            [
             0.2222222222222222,
             "#7201a8"
            ],
            [
             0.3333333333333333,
             "#9c179e"
            ],
            [
             0.4444444444444444,
             "#bd3786"
            ],
            [
             0.5555555555555556,
             "#d8576b"
            ],
            [
             0.6666666666666666,
             "#ed7953"
            ],
            [
             0.7777777777777778,
             "#fb9f3a"
            ],
            [
             0.8888888888888888,
             "#fdca26"
            ],
            [
             1,
             "#f0f921"
            ]
           ]
          },
          "colorway": [
           "#636efa",
           "#EF553B",
           "#00cc96",
           "#ab63fa",
           "#FFA15A",
           "#19d3f3",
           "#FF6692",
           "#B6E880",
           "#FF97FF",
           "#FECB52"
          ],
          "font": {
           "color": "#2a3f5f"
          },
          "geo": {
           "bgcolor": "white",
           "lakecolor": "white",
           "landcolor": "#E5ECF6",
           "showlakes": true,
           "showland": true,
           "subunitcolor": "white"
          },
          "hoverlabel": {
           "align": "left"
          },
          "hovermode": "closest",
          "mapbox": {
           "style": "light"
          },
          "paper_bgcolor": "white",
          "plot_bgcolor": "#E5ECF6",
          "polar": {
           "angularaxis": {
            "gridcolor": "white",
            "linecolor": "white",
            "ticks": ""
           },
           "bgcolor": "#E5ECF6",
           "radialaxis": {
            "gridcolor": "white",
            "linecolor": "white",
            "ticks": ""
           }
          },
          "scene": {
           "xaxis": {
            "backgroundcolor": "#E5ECF6",
            "gridcolor": "white",
            "gridwidth": 2,
            "linecolor": "white",
            "showbackground": true,
            "ticks": "",
            "zerolinecolor": "white"
           },
           "yaxis": {
            "backgroundcolor": "#E5ECF6",
            "gridcolor": "white",
            "gridwidth": 2,
            "linecolor": "white",
            "showbackground": true,
            "ticks": "",
            "zerolinecolor": "white"
           },
           "zaxis": {
            "backgroundcolor": "#E5ECF6",
            "gridcolor": "white",
            "gridwidth": 2,
            "linecolor": "white",
            "showbackground": true,
            "ticks": "",
            "zerolinecolor": "white"
           }
          },
          "shapedefaults": {
           "line": {
            "color": "#2a3f5f"
           }
          },
          "ternary": {
           "aaxis": {
            "gridcolor": "white",
            "linecolor": "white",
            "ticks": ""
           },
           "baxis": {
            "gridcolor": "white",
            "linecolor": "white",
            "ticks": ""
           },
           "bgcolor": "#E5ECF6",
           "caxis": {
            "gridcolor": "white",
            "linecolor": "white",
            "ticks": ""
           }
          },
          "title": {
           "x": 0.05
          },
          "xaxis": {
           "automargin": true,
           "gridcolor": "white",
           "linecolor": "white",
           "ticks": "",
           "title": {
            "standoff": 15
           },
           "zerolinecolor": "white",
           "zerolinewidth": 2
          },
          "yaxis": {
           "automargin": true,
           "gridcolor": "white",
           "linecolor": "white",
           "ticks": "",
           "title": {
            "standoff": 15
           },
           "zerolinecolor": "white",
           "zerolinewidth": 2
          }
         }
        },
        "width": 1000
       }
      },
      "text/html": [
       "<div>\n",
       "        \n",
       "        \n",
       "            <div id=\"04518814-d80e-402f-b1e3-38c972893d37\" class=\"plotly-graph-div\" style=\"height:1000px; width:1000px;\"></div>\n",
       "            <script type=\"text/javascript\">\n",
       "                require([\"plotly\"], function(Plotly) {\n",
       "                    window.PLOTLYENV=window.PLOTLYENV || {};\n",
       "                    \n",
       "                if (document.getElementById(\"04518814-d80e-402f-b1e3-38c972893d37\")) {\n",
       "                    Plotly.newPlot(\n",
       "                        '04518814-d80e-402f-b1e3-38c972893d37',\n",
       "                        [{\"cells\": {\"align\": \"left\", \"values\": [[\"Min\", \"Max\", \"Effectif\", \"Moyenne\", \"M\\u00e9diane\"], [3.0, 14.0, 12.0, 7.75, 6.5], [1.0, 16.0, 12.0, 7.25, 6.0], [2.0, 14.0, 12.0, 7.17, 7.5], [8.0, 41.0, 10.0, 24.8, 25.5], [67.0, 122.0, 10.0, 92.9, 92.0], [0.0, 93.0, 10.0, 36.6, 29.5], [53.0, 114.0, 10.0, 83.9, 85.0], [66.0, 127.0, 10.0, 97.1, 98.0]]}, \"header\": {\"align\": \"left\", \"values\": [\"Aggr\\u00e9gation\", \"Note standard Similitudes\", \"Note standard Vocabulaire\", \"Note standard Information\", \"Total des notes standards ICV\", \"Note composite ICV\", \"Rang percentile ICV\", \"Note \\u00e9cart type inf\\u00e9rieure ICV\", \"Note \\u00e9cart type sup\\u00e9rieure ICV\"]}, \"type\": \"table\"}],\n",
       "                        {\"height\": 1000, \"template\": {\"data\": {\"bar\": [{\"error_x\": {\"color\": \"#2a3f5f\"}, \"error_y\": {\"color\": \"#2a3f5f\"}, \"marker\": {\"line\": {\"color\": \"#E5ECF6\", \"width\": 0.5}}, \"type\": \"bar\"}], \"barpolar\": [{\"marker\": {\"line\": {\"color\": \"#E5ECF6\", \"width\": 0.5}}, \"type\": \"barpolar\"}], \"carpet\": [{\"aaxis\": {\"endlinecolor\": \"#2a3f5f\", \"gridcolor\": \"white\", \"linecolor\": \"white\", \"minorgridcolor\": \"white\", \"startlinecolor\": \"#2a3f5f\"}, \"baxis\": {\"endlinecolor\": \"#2a3f5f\", \"gridcolor\": \"white\", \"linecolor\": \"white\", \"minorgridcolor\": \"white\", \"startlinecolor\": \"#2a3f5f\"}, \"type\": \"carpet\"}], \"choropleth\": [{\"colorbar\": {\"outlinewidth\": 0, \"ticks\": \"\"}, \"type\": \"choropleth\"}], \"contour\": [{\"colorbar\": {\"outlinewidth\": 0, \"ticks\": \"\"}, \"colorscale\": [[0.0, \"#0d0887\"], [0.1111111111111111, \"#46039f\"], [0.2222222222222222, \"#7201a8\"], [0.3333333333333333, \"#9c179e\"], [0.4444444444444444, \"#bd3786\"], [0.5555555555555556, \"#d8576b\"], [0.6666666666666666, \"#ed7953\"], [0.7777777777777778, \"#fb9f3a\"], [0.8888888888888888, \"#fdca26\"], [1.0, \"#f0f921\"]], \"type\": \"contour\"}], \"contourcarpet\": [{\"colorbar\": {\"outlinewidth\": 0, \"ticks\": \"\"}, \"type\": \"contourcarpet\"}], \"heatmap\": [{\"colorbar\": {\"outlinewidth\": 0, \"ticks\": \"\"}, \"colorscale\": [[0.0, \"#0d0887\"], [0.1111111111111111, \"#46039f\"], [0.2222222222222222, \"#7201a8\"], [0.3333333333333333, \"#9c179e\"], [0.4444444444444444, \"#bd3786\"], [0.5555555555555556, \"#d8576b\"], [0.6666666666666666, \"#ed7953\"], [0.7777777777777778, \"#fb9f3a\"], [0.8888888888888888, \"#fdca26\"], [1.0, \"#f0f921\"]], \"type\": \"heatmap\"}], \"heatmapgl\": [{\"colorbar\": {\"outlinewidth\": 0, \"ticks\": \"\"}, \"colorscale\": [[0.0, \"#0d0887\"], [0.1111111111111111, \"#46039f\"], [0.2222222222222222, \"#7201a8\"], [0.3333333333333333, \"#9c179e\"], [0.4444444444444444, \"#bd3786\"], [0.5555555555555556, \"#d8576b\"], [0.6666666666666666, \"#ed7953\"], [0.7777777777777778, \"#fb9f3a\"], [0.8888888888888888, \"#fdca26\"], [1.0, \"#f0f921\"]], \"type\": \"heatmapgl\"}], \"histogram\": [{\"marker\": {\"colorbar\": {\"outlinewidth\": 0, \"ticks\": \"\"}}, \"type\": \"histogram\"}], \"histogram2d\": [{\"colorbar\": {\"outlinewidth\": 0, \"ticks\": \"\"}, \"colorscale\": [[0.0, \"#0d0887\"], [0.1111111111111111, \"#46039f\"], [0.2222222222222222, \"#7201a8\"], [0.3333333333333333, \"#9c179e\"], [0.4444444444444444, \"#bd3786\"], [0.5555555555555556, \"#d8576b\"], [0.6666666666666666, \"#ed7953\"], [0.7777777777777778, \"#fb9f3a\"], [0.8888888888888888, \"#fdca26\"], [1.0, \"#f0f921\"]], \"type\": \"histogram2d\"}], \"histogram2dcontour\": [{\"colorbar\": {\"outlinewidth\": 0, \"ticks\": \"\"}, \"colorscale\": [[0.0, \"#0d0887\"], [0.1111111111111111, \"#46039f\"], [0.2222222222222222, \"#7201a8\"], [0.3333333333333333, \"#9c179e\"], [0.4444444444444444, \"#bd3786\"], [0.5555555555555556, \"#d8576b\"], [0.6666666666666666, \"#ed7953\"], [0.7777777777777778, \"#fb9f3a\"], [0.8888888888888888, \"#fdca26\"], [1.0, \"#f0f921\"]], \"type\": \"histogram2dcontour\"}], \"mesh3d\": [{\"colorbar\": {\"outlinewidth\": 0, \"ticks\": \"\"}, \"type\": \"mesh3d\"}], \"parcoords\": [{\"line\": {\"colorbar\": {\"outlinewidth\": 0, \"ticks\": \"\"}}, \"type\": \"parcoords\"}], \"pie\": [{\"automargin\": true, \"type\": \"pie\"}], \"scatter\": [{\"marker\": {\"colorbar\": {\"outlinewidth\": 0, \"ticks\": \"\"}}, \"type\": \"scatter\"}], \"scatter3d\": [{\"line\": {\"colorbar\": {\"outlinewidth\": 0, \"ticks\": \"\"}}, \"marker\": {\"colorbar\": {\"outlinewidth\": 0, \"ticks\": \"\"}}, \"type\": \"scatter3d\"}], \"scattercarpet\": [{\"marker\": {\"colorbar\": {\"outlinewidth\": 0, \"ticks\": \"\"}}, \"type\": \"scattercarpet\"}], \"scattergeo\": [{\"marker\": {\"colorbar\": {\"outlinewidth\": 0, \"ticks\": \"\"}}, \"type\": \"scattergeo\"}], \"scattergl\": [{\"marker\": {\"colorbar\": {\"outlinewidth\": 0, \"ticks\": \"\"}}, \"type\": \"scattergl\"}], \"scattermapbox\": [{\"marker\": {\"colorbar\": {\"outlinewidth\": 0, \"ticks\": \"\"}}, \"type\": \"scattermapbox\"}], \"scatterpolar\": [{\"marker\": {\"colorbar\": {\"outlinewidth\": 0, \"ticks\": \"\"}}, \"type\": \"scatterpolar\"}], \"scatterpolargl\": [{\"marker\": {\"colorbar\": {\"outlinewidth\": 0, \"ticks\": \"\"}}, \"type\": \"scatterpolargl\"}], \"scatterternary\": [{\"marker\": {\"colorbar\": {\"outlinewidth\": 0, \"ticks\": \"\"}}, \"type\": \"scatterternary\"}], \"surface\": [{\"colorbar\": {\"outlinewidth\": 0, \"ticks\": \"\"}, \"colorscale\": [[0.0, \"#0d0887\"], [0.1111111111111111, \"#46039f\"], [0.2222222222222222, \"#7201a8\"], [0.3333333333333333, \"#9c179e\"], [0.4444444444444444, \"#bd3786\"], [0.5555555555555556, \"#d8576b\"], [0.6666666666666666, \"#ed7953\"], [0.7777777777777778, \"#fb9f3a\"], [0.8888888888888888, \"#fdca26\"], [1.0, \"#f0f921\"]], \"type\": \"surface\"}], \"table\": [{\"cells\": {\"fill\": {\"color\": \"#EBF0F8\"}, \"line\": {\"color\": \"white\"}}, \"header\": {\"fill\": {\"color\": \"#C8D4E3\"}, \"line\": {\"color\": \"white\"}}, \"type\": \"table\"}]}, \"layout\": {\"annotationdefaults\": {\"arrowcolor\": \"#2a3f5f\", \"arrowhead\": 0, \"arrowwidth\": 1}, \"coloraxis\": {\"colorbar\": {\"outlinewidth\": 0, \"ticks\": \"\"}}, \"colorscale\": {\"diverging\": [[0, \"#8e0152\"], [0.1, \"#c51b7d\"], [0.2, \"#de77ae\"], [0.3, \"#f1b6da\"], [0.4, \"#fde0ef\"], [0.5, \"#f7f7f7\"], [0.6, \"#e6f5d0\"], [0.7, \"#b8e186\"], [0.8, \"#7fbc41\"], [0.9, \"#4d9221\"], [1, \"#276419\"]], \"sequential\": [[0.0, \"#0d0887\"], [0.1111111111111111, \"#46039f\"], [0.2222222222222222, \"#7201a8\"], [0.3333333333333333, \"#9c179e\"], [0.4444444444444444, \"#bd3786\"], [0.5555555555555556, \"#d8576b\"], [0.6666666666666666, \"#ed7953\"], [0.7777777777777778, \"#fb9f3a\"], [0.8888888888888888, \"#fdca26\"], [1.0, \"#f0f921\"]], \"sequentialminus\": [[0.0, \"#0d0887\"], [0.1111111111111111, \"#46039f\"], [0.2222222222222222, \"#7201a8\"], [0.3333333333333333, \"#9c179e\"], [0.4444444444444444, \"#bd3786\"], [0.5555555555555556, \"#d8576b\"], [0.6666666666666666, \"#ed7953\"], [0.7777777777777778, \"#fb9f3a\"], [0.8888888888888888, \"#fdca26\"], [1.0, \"#f0f921\"]]}, \"colorway\": [\"#636efa\", \"#EF553B\", \"#00cc96\", \"#ab63fa\", \"#FFA15A\", \"#19d3f3\", \"#FF6692\", \"#B6E880\", \"#FF97FF\", \"#FECB52\"], \"font\": {\"color\": \"#2a3f5f\"}, \"geo\": {\"bgcolor\": \"white\", \"lakecolor\": \"white\", \"landcolor\": \"#E5ECF6\", \"showlakes\": true, \"showland\": true, \"subunitcolor\": \"white\"}, \"hoverlabel\": {\"align\": \"left\"}, \"hovermode\": \"closest\", \"mapbox\": {\"style\": \"light\"}, \"paper_bgcolor\": \"white\", \"plot_bgcolor\": \"#E5ECF6\", \"polar\": {\"angularaxis\": {\"gridcolor\": \"white\", \"linecolor\": \"white\", \"ticks\": \"\"}, \"bgcolor\": \"#E5ECF6\", \"radialaxis\": {\"gridcolor\": \"white\", \"linecolor\": \"white\", \"ticks\": \"\"}}, \"scene\": {\"xaxis\": {\"backgroundcolor\": \"#E5ECF6\", \"gridcolor\": \"white\", \"gridwidth\": 2, \"linecolor\": \"white\", \"showbackground\": true, \"ticks\": \"\", \"zerolinecolor\": \"white\"}, \"yaxis\": {\"backgroundcolor\": \"#E5ECF6\", \"gridcolor\": \"white\", \"gridwidth\": 2, \"linecolor\": \"white\", \"showbackground\": true, \"ticks\": \"\", \"zerolinecolor\": \"white\"}, \"zaxis\": {\"backgroundcolor\": \"#E5ECF6\", \"gridcolor\": \"white\", \"gridwidth\": 2, \"linecolor\": \"white\", \"showbackground\": true, \"ticks\": \"\", \"zerolinecolor\": \"white\"}}, \"shapedefaults\": {\"line\": {\"color\": \"#2a3f5f\"}}, \"ternary\": {\"aaxis\": {\"gridcolor\": \"white\", \"linecolor\": \"white\", \"ticks\": \"\"}, \"baxis\": {\"gridcolor\": \"white\", \"linecolor\": \"white\", \"ticks\": \"\"}, \"bgcolor\": \"#E5ECF6\", \"caxis\": {\"gridcolor\": \"white\", \"linecolor\": \"white\", \"ticks\": \"\"}}, \"title\": {\"x\": 0.05}, \"xaxis\": {\"automargin\": true, \"gridcolor\": \"white\", \"linecolor\": \"white\", \"ticks\": \"\", \"title\": {\"standoff\": 15}, \"zerolinecolor\": \"white\", \"zerolinewidth\": 2}, \"yaxis\": {\"automargin\": true, \"gridcolor\": \"white\", \"linecolor\": \"white\", \"ticks\": \"\", \"title\": {\"standoff\": 15}, \"zerolinecolor\": \"white\", \"zerolinewidth\": 2}}}, \"width\": 1000},\n",
       "                        {\"responsive\": true}\n",
       "                    ).then(function(){\n",
       "                            \n",
       "var gd = document.getElementById('04518814-d80e-402f-b1e3-38c972893d37');\n",
       "var x = new MutationObserver(function (mutations, observer) {{\n",
       "        var display = window.getComputedStyle(gd).display;\n",
       "        if (!display || display === 'none') {{\n",
       "            console.log([gd, 'removed!']);\n",
       "            Plotly.purge(gd);\n",
       "            observer.disconnect();\n",
       "        }}\n",
       "}});\n",
       "\n",
       "// Listen for the removal of the full notebook cells\n",
       "var notebookContainer = gd.closest('#notebook-container');\n",
       "if (notebookContainer) {{\n",
       "    x.observe(notebookContainer, {childList: true});\n",
       "}}\n",
       "\n",
       "// Listen for the clearing of the current output cell\n",
       "var outputEl = gd.closest('.output');\n",
       "if (outputEl) {{\n",
       "    x.observe(outputEl, {childList: true});\n",
       "}}\n",
       "\n",
       "                        })\n",
       "                };\n",
       "                });\n",
       "            </script>\n",
       "        </div>"
      ]
     },
     "metadata": {},
     "output_type": "display_data"
    }
   ],
   "source": [
    "fig = go.Figure(data=wais_sub)\n",
    "fig.update_layout(width=1000, height=1000)\n",
    "fig.show()"
   ]
  },
  {
   "cell_type": "code",
   "execution_count": 36,
   "metadata": {
    "ExecuteTime": {
     "end_time": "2020-11-26T13:39:15.463941Z",
     "start_time": "2020-11-26T13:39:15.460219Z"
    }
   },
   "outputs": [
    {
     "data": {
      "text/html": [
       "<h5>2.1. WAIS IRP</h5>"
      ],
      "text/plain": [
       "<IPython.core.display.HTML object>"
      ]
     },
     "metadata": {},
     "output_type": "display_data"
    }
   ],
   "source": [
    "display(HTML('<h5>2.1. WAIS IRP</h5>'))"
   ]
  },
  {
   "cell_type": "code",
   "execution_count": 37,
   "metadata": {
    "ExecuteTime": {
     "end_time": "2020-11-26T13:39:20.289501Z",
     "start_time": "2020-11-26T13:39:20.285703Z"
    }
   },
   "outputs": [],
   "source": [
    "age_moy = df_wais[df_wais['Total des notes standards IRP'].notna()]['age'].mean()"
   ]
  },
  {
   "cell_type": "code",
   "execution_count": 38,
   "metadata": {
    "ExecuteTime": {
     "end_time": "2020-11-26T13:39:21.076218Z",
     "start_time": "2020-11-26T13:39:21.072062Z"
    }
   },
   "outputs": [
    {
     "data": {
      "text/html": [
       "<p>Moyenne d'âge : 30.29</p>"
      ],
      "text/plain": [
       "<IPython.core.display.HTML object>"
      ]
     },
     "metadata": {},
     "output_type": "display_data"
    }
   ],
   "source": [
    "display(HTML(\"<p>Moyenne d'âge : \"+str(round(age_moy,2))+\"</p>\"))"
   ]
  },
  {
   "cell_type": "code",
   "execution_count": 39,
   "metadata": {
    "ExecuteTime": {
     "end_time": "2020-11-26T13:39:21.821727Z",
     "start_time": "2020-11-26T13:39:21.818089Z"
    }
   },
   "outputs": [],
   "source": [
    "df_wais_sub= df_wais.iloc[:,[0,1,2,-1,14, 15, 16, 17, 18, 19, 20, 21]]"
   ]
  },
  {
   "cell_type": "code",
   "execution_count": 40,
   "metadata": {
    "ExecuteTime": {
     "end_time": "2020-11-26T13:39:22.707831Z",
     "start_time": "2020-11-26T13:39:22.705077Z"
    }
   },
   "outputs": [],
   "source": [
    "subplot_titles = df_wais_sub.columns.values.tolist()"
   ]
  },
  {
   "cell_type": "code",
   "execution_count": 41,
   "metadata": {
    "ExecuteTime": {
     "end_time": "2020-11-26T13:39:25.498732Z",
     "start_time": "2020-11-26T13:39:25.200706Z"
    }
   },
   "outputs": [],
   "source": [
    "fig_wais_sub = make_subplots(\n",
    "    rows=4, cols=2,\n",
    "    shared_xaxes=False,\n",
    "    row_heights=[0.20, 0.20, 0.20, 0.20],\n",
    "    column_widths=[0.5, 0.5],\n",
    "    subplot_titles= subplot_titles[4:],\n",
    "    x_title='Âge',\n",
    "    y_title='Score',\n",
    "    vertical_spacing= 0.04 )\n",
    "df_wais_sub = df_wais_sub.sort_values(by=['age'])"
   ]
  },
  {
   "cell_type": "code",
   "execution_count": 42,
   "metadata": {
    "ExecuteTime": {
     "end_time": "2020-11-26T13:39:26.372085Z",
     "start_time": "2020-11-26T13:39:26.280193Z"
    }
   },
   "outputs": [
    {
     "data": {
      "application/vnd.plotly.v1+json": {
       "config": {
        "plotlyServerURL": "https://plot.ly"
       },
       "data": [
        {
         "hovertext": [
          "EF 2E 22 E0 EA, Type 1",
          "B6 A4 CD 3A 81, Type 1",
          "C2 C3 05 A8 4B, Type 1",
          "39 CA BD 3C 82, Type 1",
          "7B DE 78 5B F6, Type 1",
          "9B 8E 44 F8 FF, Type 1",
          "35 86 13 56 24, Type 1",
          "73 EC 1B D7 9B, Type 1",
          "7D 76 3D FC 91, Type 1",
          "AB A5 ED 43 8B, Type 1",
          "01 83 17 5E 89, Type 1",
          "B9 5D 22 14 86, Type 1",
          "A1 54 32 B1 53, Type 1",
          "FD 11 B7 CF 8F, Type 1",
          "DB 6B 59 3A 0C, Type 1",
          "F1 C2 1C 3A FC, Type 1",
          "98 2C 1A AA 87, Type 1",
          "A2 D7 D0 A4 2A, Type 1",
          "02 92 7B FF E6, Type 1",
          "06 25 B6 B7 F5, Type 1"
         ],
         "marker": {
          "color": [
           "#33ffc9",
           "#33ffc9",
           "#33ffc9",
           "#33ffc9",
           "#33ffc9",
           "#33ffc9",
           "#33ffc9",
           "#33ffc9",
           "#33ffc9",
           "#33ffc9",
           "#33ffc9",
           "#33ffc9",
           "#33ffc9",
           "#33ffc9",
           "#33ffc9",
           "#33ffc9",
           "#33ffc9",
           "#33ffc9",
           "#33ffc9",
           "#33ffc9"
          ],
          "size": 10
         },
         "mode": "markers+text",
         "type": "scatter",
         "x": [
          19,
          19,
          20,
          22,
          23,
          25,
          27,
          28,
          29,
          29,
          31,
          32,
          32,
          33,
          34,
          34,
          36,
          37,
          41,
          44
         ],
         "xaxis": "x",
         "y": [
          5,
          9,
          9,
          16,
          9,
          4,
          2,
          7,
          11,
          7,
          10,
          10,
          7,
          14,
          10,
          15,
          11,
          11,
          8,
          10
         ],
         "yaxis": "y"
        },
        {
         "hovertext": [
          "EF 2E 22 E0 EA, Type 1",
          "B6 A4 CD 3A 81, Type 1",
          "C2 C3 05 A8 4B, Type 1",
          "39 CA BD 3C 82, Type 1",
          "7B DE 78 5B F6, Type 1",
          "9B 8E 44 F8 FF, Type 1",
          "35 86 13 56 24, Type 1",
          "73 EC 1B D7 9B, Type 1",
          "7D 76 3D FC 91, Type 1",
          "AB A5 ED 43 8B, Type 1",
          "01 83 17 5E 89, Type 1",
          "B9 5D 22 14 86, Type 1",
          "A1 54 32 B1 53, Type 1",
          "FD 11 B7 CF 8F, Type 1",
          "DB 6B 59 3A 0C, Type 1",
          "F1 C2 1C 3A FC, Type 1",
          "98 2C 1A AA 87, Type 1",
          "A2 D7 D0 A4 2A, Type 1",
          "02 92 7B FF E6, Type 1",
          "06 25 B6 B7 F5, Type 1"
         ],
         "marker": {
          "color": [
           "#33ffc9",
           "#33ffc9",
           "#33ffc9",
           "#33ffc9",
           "#33ffc9",
           "#33ffc9",
           "#33ffc9",
           "#33ffc9",
           "#33ffc9",
           "#33ffc9",
           "#33ffc9",
           "#33ffc9",
           "#33ffc9",
           "#33ffc9",
           "#33ffc9",
           "#33ffc9",
           "#33ffc9",
           "#33ffc9",
           "#33ffc9",
           "#33ffc9"
          ],
          "size": 10
         },
         "mode": "markers+text",
         "type": "scatter",
         "x": [
          19,
          19,
          20,
          22,
          23,
          25,
          27,
          28,
          29,
          29,
          31,
          32,
          32,
          33,
          34,
          34,
          36,
          37,
          41,
          44
         ],
         "xaxis": "x2",
         "y": [
          8,
          4,
          8,
          9,
          12,
          2,
          null,
          6,
          10,
          7,
          6,
          6,
          7,
          12,
          6,
          11,
          8,
          7,
          3,
          9
         ],
         "yaxis": "y2"
        },
        {
         "hovertext": [
          "EF 2E 22 E0 EA, Type 1",
          "B6 A4 CD 3A 81, Type 1",
          "C2 C3 05 A8 4B, Type 1",
          "39 CA BD 3C 82, Type 1",
          "7B DE 78 5B F6, Type 1",
          "9B 8E 44 F8 FF, Type 1",
          "35 86 13 56 24, Type 1",
          "73 EC 1B D7 9B, Type 1",
          "7D 76 3D FC 91, Type 1",
          "AB A5 ED 43 8B, Type 1",
          "01 83 17 5E 89, Type 1",
          "B9 5D 22 14 86, Type 1",
          "A1 54 32 B1 53, Type 1",
          "FD 11 B7 CF 8F, Type 1",
          "DB 6B 59 3A 0C, Type 1",
          "F1 C2 1C 3A FC, Type 1",
          "98 2C 1A AA 87, Type 1",
          "A2 D7 D0 A4 2A, Type 1",
          "02 92 7B FF E6, Type 1",
          "06 25 B6 B7 F5, Type 1"
         ],
         "marker": {
          "color": [
           "#33ffc9",
           "#33ffc9",
           "#33ffc9",
           "#33ffc9",
           "#33ffc9",
           "#33ffc9",
           "#33ffc9",
           "#33ffc9",
           "#33ffc9",
           "#33ffc9",
           "#33ffc9",
           "#33ffc9",
           "#33ffc9",
           "#33ffc9",
           "#33ffc9",
           "#33ffc9",
           "#33ffc9",
           "#33ffc9",
           "#33ffc9",
           "#33ffc9"
          ],
          "size": 10
         },
         "mode": "markers+text",
         "type": "scatter",
         "x": [
          19,
          19,
          20,
          22,
          23,
          25,
          27,
          28,
          29,
          29,
          31,
          32,
          32,
          33,
          34,
          34,
          36,
          37,
          41,
          44
         ],
         "xaxis": "x3",
         "y": [
          7,
          10,
          10,
          12,
          15,
          null,
          null,
          null,
          11,
          8,
          9,
          5,
          7,
          14,
          8,
          11,
          12,
          9,
          5,
          7
         ],
         "yaxis": "y3"
        },
        {
         "hovertext": [
          "EF 2E 22 E0 EA, Type 1",
          "B6 A4 CD 3A 81, Type 1",
          "C2 C3 05 A8 4B, Type 1",
          "39 CA BD 3C 82, Type 1",
          "7B DE 78 5B F6, Type 1",
          "9B 8E 44 F8 FF, Type 1",
          "35 86 13 56 24, Type 1",
          "73 EC 1B D7 9B, Type 1",
          "7D 76 3D FC 91, Type 1",
          "AB A5 ED 43 8B, Type 1",
          "01 83 17 5E 89, Type 1",
          "B9 5D 22 14 86, Type 1",
          "A1 54 32 B1 53, Type 1",
          "FD 11 B7 CF 8F, Type 1",
          "DB 6B 59 3A 0C, Type 1",
          "F1 C2 1C 3A FC, Type 1",
          "98 2C 1A AA 87, Type 1",
          "A2 D7 D0 A4 2A, Type 1",
          "02 92 7B FF E6, Type 1",
          "06 25 B6 B7 F5, Type 1"
         ],
         "marker": {
          "color": [
           "#33ffc9",
           "#33ffc9",
           "#33ffc9",
           "#33ffc9",
           "#33ffc9",
           "#33ffc9",
           "#33ffc9",
           "#33ffc9",
           "#33ffc9",
           "#33ffc9",
           "#33ffc9",
           "#33ffc9",
           "#33ffc9",
           "#33ffc9",
           "#33ffc9",
           "#33ffc9",
           "#33ffc9",
           "#33ffc9",
           "#33ffc9",
           "#33ffc9"
          ],
          "size": 10
         },
         "mode": "markers+text",
         "type": "scatter",
         "x": [
          19,
          19,
          20,
          22,
          23,
          25,
          27,
          28,
          29,
          29,
          31,
          32,
          32,
          33,
          34,
          34,
          36,
          37,
          41,
          44
         ],
         "xaxis": "x4",
         "y": [
          20,
          23,
          27,
          37,
          36,
          null,
          null,
          null,
          32,
          22,
          25,
          21,
          21,
          40,
          24,
          37,
          31,
          27,
          16,
          26
         ],
         "yaxis": "y4"
        },
        {
         "hovertext": [
          "EF 2E 22 E0 EA, Type 1",
          "B6 A4 CD 3A 81, Type 1",
          "C2 C3 05 A8 4B, Type 1",
          "39 CA BD 3C 82, Type 1",
          "7B DE 78 5B F6, Type 1",
          "9B 8E 44 F8 FF, Type 1",
          "35 86 13 56 24, Type 1",
          "73 EC 1B D7 9B, Type 1",
          "7D 76 3D FC 91, Type 1",
          "AB A5 ED 43 8B, Type 1",
          "01 83 17 5E 89, Type 1",
          "B9 5D 22 14 86, Type 1",
          "A1 54 32 B1 53, Type 1",
          "FD 11 B7 CF 8F, Type 1",
          "DB 6B 59 3A 0C, Type 1",
          "F1 C2 1C 3A FC, Type 1",
          "98 2C 1A AA 87, Type 1",
          "A2 D7 D0 A4 2A, Type 1",
          "02 92 7B FF E6, Type 1",
          "06 25 B6 B7 F5, Type 1"
         ],
         "marker": {
          "color": [
           "#33ffc9",
           "#33ffc9",
           "#33ffc9",
           "#33ffc9",
           "#33ffc9",
           "#33ffc9",
           "#33ffc9",
           "#33ffc9",
           "#33ffc9",
           "#33ffc9",
           "#33ffc9",
           "#33ffc9",
           "#33ffc9",
           "#33ffc9",
           "#33ffc9",
           "#33ffc9",
           "#33ffc9",
           "#33ffc9",
           "#33ffc9",
           "#33ffc9"
          ],
          "size": 10
         },
         "mode": "markers+text",
         "type": "scatter",
         "x": [
          19,
          19,
          20,
          22,
          23,
          25,
          27,
          28,
          29,
          29,
          31,
          32,
          32,
          33,
          34,
          34,
          36,
          37,
          41,
          44
         ],
         "xaxis": "x5",
         "y": [
          80,
          86,
          94,
          114,
          112,
          null,
          null,
          null,
          104,
          84,
          90,
          82,
          82,
          120,
          88,
          114,
          102,
          94,
          72,
          92
         ],
         "yaxis": "y5"
        },
        {
         "hovertext": [
          "EF 2E 22 E0 EA, Type 1",
          "B6 A4 CD 3A 81, Type 1",
          "C2 C3 05 A8 4B, Type 1",
          "39 CA BD 3C 82, Type 1",
          "7B DE 78 5B F6, Type 1",
          "9B 8E 44 F8 FF, Type 1",
          "35 86 13 56 24, Type 1",
          "73 EC 1B D7 9B, Type 1",
          "7D 76 3D FC 91, Type 1",
          "AB A5 ED 43 8B, Type 1",
          "01 83 17 5E 89, Type 1",
          "B9 5D 22 14 86, Type 1",
          "A1 54 32 B1 53, Type 1",
          "FD 11 B7 CF 8F, Type 1",
          "DB 6B 59 3A 0C, Type 1",
          "F1 C2 1C 3A FC, Type 1",
          "98 2C 1A AA 87, Type 1",
          "A2 D7 D0 A4 2A, Type 1",
          "02 92 7B FF E6, Type 1",
          "06 25 B6 B7 F5, Type 1"
         ],
         "marker": {
          "color": [
           "#33ffc9",
           "#33ffc9",
           "#33ffc9",
           "#33ffc9",
           "#33ffc9",
           "#33ffc9",
           "#33ffc9",
           "#33ffc9",
           "#33ffc9",
           "#33ffc9",
           "#33ffc9",
           "#33ffc9",
           "#33ffc9",
           "#33ffc9",
           "#33ffc9",
           "#33ffc9",
           "#33ffc9",
           "#33ffc9",
           "#33ffc9",
           "#33ffc9"
          ],
          "size": 10
         },
         "mode": "markers+text",
         "type": "scatter",
         "x": [
          19,
          19,
          20,
          22,
          23,
          25,
          27,
          28,
          29,
          29,
          31,
          32,
          32,
          33,
          34,
          34,
          36,
          37,
          41,
          44
         ],
         "xaxis": "x6",
         "y": [
          9,
          18,
          34,
          82,
          79,
          null,
          null,
          null,
          61,
          14,
          25,
          12,
          12,
          91,
          21,
          82,
          55,
          34,
          3,
          30
         ],
         "yaxis": "y6"
        },
        {
         "hovertext": [
          "EF 2E 22 E0 EA, Type 1",
          "B6 A4 CD 3A 81, Type 1",
          "C2 C3 05 A8 4B, Type 1",
          "39 CA BD 3C 82, Type 1",
          "7B DE 78 5B F6, Type 1",
          "9B 8E 44 F8 FF, Type 1",
          "35 86 13 56 24, Type 1",
          "73 EC 1B D7 9B, Type 1",
          "7D 76 3D FC 91, Type 1",
          "AB A5 ED 43 8B, Type 1",
          "01 83 17 5E 89, Type 1",
          "B9 5D 22 14 86, Type 1",
          "A1 54 32 B1 53, Type 1",
          "FD 11 B7 CF 8F, Type 1",
          "DB 6B 59 3A 0C, Type 1",
          "F1 C2 1C 3A FC, Type 1",
          "98 2C 1A AA 87, Type 1",
          "A2 D7 D0 A4 2A, Type 1",
          "02 92 7B FF E6, Type 1",
          "06 25 B6 B7 F5, Type 1"
         ],
         "marker": {
          "color": [
           "#33ffc9",
           "#33ffc9",
           "#33ffc9",
           "#33ffc9",
           "#33ffc9",
           "#33ffc9",
           "#33ffc9",
           "#33ffc9",
           "#33ffc9",
           "#33ffc9",
           "#33ffc9",
           "#33ffc9",
           "#33ffc9",
           "#33ffc9",
           "#33ffc9",
           "#33ffc9",
           "#33ffc9",
           "#33ffc9",
           "#33ffc9",
           "#33ffc9"
          ],
          "size": 10
         },
         "mode": "markers+text",
         "type": "scatter",
         "x": [
          19,
          19,
          20,
          22,
          23,
          25,
          27,
          28,
          29,
          29,
          31,
          32,
          32,
          33,
          34,
          34,
          36,
          37,
          41,
          44
         ],
         "xaxis": "x7",
         "y": [
          75,
          80,
          88,
          107,
          105,
          null,
          null,
          null,
          97,
          79,
          84,
          77,
          77,
          113,
          82,
          107,
          96,
          88,
          67,
          86
         ],
         "yaxis": "y7"
        },
        {
         "hovertext": [
          "EF 2E 22 E0 EA, Type 1",
          "B6 A4 CD 3A 81, Type 1",
          "C2 C3 05 A8 4B, Type 1",
          "39 CA BD 3C 82, Type 1",
          "7B DE 78 5B F6, Type 1",
          "9B 8E 44 F8 FF, Type 1",
          "35 86 13 56 24, Type 1",
          "73 EC 1B D7 9B, Type 1",
          "7D 76 3D FC 91, Type 1",
          "AB A5 ED 43 8B, Type 1",
          "01 83 17 5E 89, Type 1",
          "B9 5D 22 14 86, Type 1",
          "A1 54 32 B1 53, Type 1",
          "FD 11 B7 CF 8F, Type 1",
          "DB 6B 59 3A 0C, Type 1",
          "F1 C2 1C 3A FC, Type 1",
          "98 2C 1A AA 87, Type 1",
          "A2 D7 D0 A4 2A, Type 1",
          "02 92 7B FF E6, Type 1",
          "06 25 B6 B7 F5, Type 1"
         ],
         "marker": {
          "color": [
           "#33ffc9",
           "#33ffc9",
           "#33ffc9",
           "#33ffc9",
           "#33ffc9",
           "#33ffc9",
           "#33ffc9",
           "#33ffc9",
           "#33ffc9",
           "#33ffc9",
           "#33ffc9",
           "#33ffc9",
           "#33ffc9",
           "#33ffc9",
           "#33ffc9",
           "#33ffc9",
           "#33ffc9",
           "#33ffc9",
           "#33ffc9",
           "#33ffc9"
          ],
          "size": 10
         },
         "mode": "markers+text",
         "type": "scatter",
         "x": [
          19,
          19,
          20,
          22,
          23,
          25,
          27,
          28,
          29,
          29,
          31,
          32,
          32,
          33,
          34,
          34,
          36,
          37,
          41,
          44
         ],
         "xaxis": "x8",
         "y": [
          87,
          83,
          101,
          120,
          118,
          null,
          null,
          null,
          110,
          91,
          97,
          89,
          89,
          125,
          95,
          120,
          108,
          101,
          80,
          99
         ],
         "yaxis": "y8"
        }
       ],
       "layout": {
        "annotations": [
         {
          "font": {
           "size": 16
          },
          "showarrow": false,
          "text": "Note standard Cubes",
          "x": 0.225,
          "xanchor": "center",
          "xref": "paper",
          "y": 1,
          "yanchor": "bottom",
          "yref": "paper"
         },
         {
          "font": {
           "size": 16
          },
          "showarrow": false,
          "text": "Note standard Matrices",
          "x": 0.775,
          "xanchor": "center",
          "xref": "paper",
          "y": 1,
          "yanchor": "bottom",
          "yref": "paper"
         },
         {
          "font": {
           "size": 16
          },
          "showarrow": false,
          "text": "Note standard Puzzles visuels",
          "x": 0.225,
          "xanchor": "center",
          "xref": "paper",
          "y": 0.74,
          "yanchor": "bottom",
          "yref": "paper"
         },
         {
          "font": {
           "size": 16
          },
          "showarrow": false,
          "text": "Total des notes standards IRP",
          "x": 0.775,
          "xanchor": "center",
          "xref": "paper",
          "y": 0.74,
          "yanchor": "bottom",
          "yref": "paper"
         },
         {
          "font": {
           "size": 16
          },
          "showarrow": false,
          "text": "Note composite IRP",
          "x": 0.225,
          "xanchor": "center",
          "xref": "paper",
          "y": 0.48,
          "yanchor": "bottom",
          "yref": "paper"
         },
         {
          "font": {
           "size": 16
          },
          "showarrow": false,
          "text": "Rang percentile IRP",
          "x": 0.775,
          "xanchor": "center",
          "xref": "paper",
          "y": 0.48,
          "yanchor": "bottom",
          "yref": "paper"
         },
         {
          "font": {
           "size": 16
          },
          "showarrow": false,
          "text": "Note écart type inférieure IRP",
          "x": 0.225,
          "xanchor": "center",
          "xref": "paper",
          "y": 0.22,
          "yanchor": "bottom",
          "yref": "paper"
         },
         {
          "font": {
           "size": 16
          },
          "showarrow": false,
          "text": "Note écart type supérieure IRP",
          "x": 0.775,
          "xanchor": "center",
          "xref": "paper",
          "y": 0.22,
          "yanchor": "bottom",
          "yref": "paper"
         },
         {
          "font": {
           "size": 16
          },
          "showarrow": false,
          "text": "Âge",
          "x": 0.5,
          "xanchor": "center",
          "xref": "paper",
          "y": 0,
          "yanchor": "top",
          "yref": "paper",
          "yshift": -30
         },
         {
          "font": {
           "size": 16
          },
          "showarrow": false,
          "text": "Score",
          "textangle": -90,
          "x": 0,
          "xanchor": "right",
          "xref": "paper",
          "xshift": -40,
          "y": 0.5,
          "yanchor": "middle",
          "yref": "paper"
         }
        ],
        "height": 1500,
        "showlegend": false,
        "template": {
         "data": {
          "bar": [
           {
            "error_x": {
             "color": "#2a3f5f"
            },
            "error_y": {
             "color": "#2a3f5f"
            },
            "marker": {
             "line": {
              "color": "#E5ECF6",
              "width": 0.5
             }
            },
            "type": "bar"
           }
          ],
          "barpolar": [
           {
            "marker": {
             "line": {
              "color": "#E5ECF6",
              "width": 0.5
             }
            },
            "type": "barpolar"
           }
          ],
          "carpet": [
           {
            "aaxis": {
             "endlinecolor": "#2a3f5f",
             "gridcolor": "white",
             "linecolor": "white",
             "minorgridcolor": "white",
             "startlinecolor": "#2a3f5f"
            },
            "baxis": {
             "endlinecolor": "#2a3f5f",
             "gridcolor": "white",
             "linecolor": "white",
             "minorgridcolor": "white",
             "startlinecolor": "#2a3f5f"
            },
            "type": "carpet"
           }
          ],
          "choropleth": [
           {
            "colorbar": {
             "outlinewidth": 0,
             "ticks": ""
            },
            "type": "choropleth"
           }
          ],
          "contour": [
           {
            "colorbar": {
             "outlinewidth": 0,
             "ticks": ""
            },
            "colorscale": [
             [
              0,
              "#0d0887"
             ],
             [
              0.1111111111111111,
              "#46039f"
             ],
             [
              0.2222222222222222,
              "#7201a8"
             ],
             [
              0.3333333333333333,
              "#9c179e"
             ],
             [
              0.4444444444444444,
              "#bd3786"
             ],
             [
              0.5555555555555556,
              "#d8576b"
             ],
             [
              0.6666666666666666,
              "#ed7953"
             ],
             [
              0.7777777777777778,
              "#fb9f3a"
             ],
             [
              0.8888888888888888,
              "#fdca26"
             ],
             [
              1,
              "#f0f921"
             ]
            ],
            "type": "contour"
           }
          ],
          "contourcarpet": [
           {
            "colorbar": {
             "outlinewidth": 0,
             "ticks": ""
            },
            "type": "contourcarpet"
           }
          ],
          "heatmap": [
           {
            "colorbar": {
             "outlinewidth": 0,
             "ticks": ""
            },
            "colorscale": [
             [
              0,
              "#0d0887"
             ],
             [
              0.1111111111111111,
              "#46039f"
             ],
             [
              0.2222222222222222,
              "#7201a8"
             ],
             [
              0.3333333333333333,
              "#9c179e"
             ],
             [
              0.4444444444444444,
              "#bd3786"
             ],
             [
              0.5555555555555556,
              "#d8576b"
             ],
             [
              0.6666666666666666,
              "#ed7953"
             ],
             [
              0.7777777777777778,
              "#fb9f3a"
             ],
             [
              0.8888888888888888,
              "#fdca26"
             ],
             [
              1,
              "#f0f921"
             ]
            ],
            "type": "heatmap"
           }
          ],
          "heatmapgl": [
           {
            "colorbar": {
             "outlinewidth": 0,
             "ticks": ""
            },
            "colorscale": [
             [
              0,
              "#0d0887"
             ],
             [
              0.1111111111111111,
              "#46039f"
             ],
             [
              0.2222222222222222,
              "#7201a8"
             ],
             [
              0.3333333333333333,
              "#9c179e"
             ],
             [
              0.4444444444444444,
              "#bd3786"
             ],
             [
              0.5555555555555556,
              "#d8576b"
             ],
             [
              0.6666666666666666,
              "#ed7953"
             ],
             [
              0.7777777777777778,
              "#fb9f3a"
             ],
             [
              0.8888888888888888,
              "#fdca26"
             ],
             [
              1,
              "#f0f921"
             ]
            ],
            "type": "heatmapgl"
           }
          ],
          "histogram": [
           {
            "marker": {
             "colorbar": {
              "outlinewidth": 0,
              "ticks": ""
             }
            },
            "type": "histogram"
           }
          ],
          "histogram2d": [
           {
            "colorbar": {
             "outlinewidth": 0,
             "ticks": ""
            },
            "colorscale": [
             [
              0,
              "#0d0887"
             ],
             [
              0.1111111111111111,
              "#46039f"
             ],
             [
              0.2222222222222222,
              "#7201a8"
             ],
             [
              0.3333333333333333,
              "#9c179e"
             ],
             [
              0.4444444444444444,
              "#bd3786"
             ],
             [
              0.5555555555555556,
              "#d8576b"
             ],
             [
              0.6666666666666666,
              "#ed7953"
             ],
             [
              0.7777777777777778,
              "#fb9f3a"
             ],
             [
              0.8888888888888888,
              "#fdca26"
             ],
             [
              1,
              "#f0f921"
             ]
            ],
            "type": "histogram2d"
           }
          ],
          "histogram2dcontour": [
           {
            "colorbar": {
             "outlinewidth": 0,
             "ticks": ""
            },
            "colorscale": [
             [
              0,
              "#0d0887"
             ],
             [
              0.1111111111111111,
              "#46039f"
             ],
             [
              0.2222222222222222,
              "#7201a8"
             ],
             [
              0.3333333333333333,
              "#9c179e"
             ],
             [
              0.4444444444444444,
              "#bd3786"
             ],
             [
              0.5555555555555556,
              "#d8576b"
             ],
             [
              0.6666666666666666,
              "#ed7953"
             ],
             [
              0.7777777777777778,
              "#fb9f3a"
             ],
             [
              0.8888888888888888,
              "#fdca26"
             ],
             [
              1,
              "#f0f921"
             ]
            ],
            "type": "histogram2dcontour"
           }
          ],
          "mesh3d": [
           {
            "colorbar": {
             "outlinewidth": 0,
             "ticks": ""
            },
            "type": "mesh3d"
           }
          ],
          "parcoords": [
           {
            "line": {
             "colorbar": {
              "outlinewidth": 0,
              "ticks": ""
             }
            },
            "type": "parcoords"
           }
          ],
          "pie": [
           {
            "automargin": true,
            "type": "pie"
           }
          ],
          "scatter": [
           {
            "marker": {
             "colorbar": {
              "outlinewidth": 0,
              "ticks": ""
             }
            },
            "type": "scatter"
           }
          ],
          "scatter3d": [
           {
            "line": {
             "colorbar": {
              "outlinewidth": 0,
              "ticks": ""
             }
            },
            "marker": {
             "colorbar": {
              "outlinewidth": 0,
              "ticks": ""
             }
            },
            "type": "scatter3d"
           }
          ],
          "scattercarpet": [
           {
            "marker": {
             "colorbar": {
              "outlinewidth": 0,
              "ticks": ""
             }
            },
            "type": "scattercarpet"
           }
          ],
          "scattergeo": [
           {
            "marker": {
             "colorbar": {
              "outlinewidth": 0,
              "ticks": ""
             }
            },
            "type": "scattergeo"
           }
          ],
          "scattergl": [
           {
            "marker": {
             "colorbar": {
              "outlinewidth": 0,
              "ticks": ""
             }
            },
            "type": "scattergl"
           }
          ],
          "scattermapbox": [
           {
            "marker": {
             "colorbar": {
              "outlinewidth": 0,
              "ticks": ""
             }
            },
            "type": "scattermapbox"
           }
          ],
          "scatterpolar": [
           {
            "marker": {
             "colorbar": {
              "outlinewidth": 0,
              "ticks": ""
             }
            },
            "type": "scatterpolar"
           }
          ],
          "scatterpolargl": [
           {
            "marker": {
             "colorbar": {
              "outlinewidth": 0,
              "ticks": ""
             }
            },
            "type": "scatterpolargl"
           }
          ],
          "scatterternary": [
           {
            "marker": {
             "colorbar": {
              "outlinewidth": 0,
              "ticks": ""
             }
            },
            "type": "scatterternary"
           }
          ],
          "surface": [
           {
            "colorbar": {
             "outlinewidth": 0,
             "ticks": ""
            },
            "colorscale": [
             [
              0,
              "#0d0887"
             ],
             [
              0.1111111111111111,
              "#46039f"
             ],
             [
              0.2222222222222222,
              "#7201a8"
             ],
             [
              0.3333333333333333,
              "#9c179e"
             ],
             [
              0.4444444444444444,
              "#bd3786"
             ],
             [
              0.5555555555555556,
              "#d8576b"
             ],
             [
              0.6666666666666666,
              "#ed7953"
             ],
             [
              0.7777777777777778,
              "#fb9f3a"
             ],
             [
              0.8888888888888888,
              "#fdca26"
             ],
             [
              1,
              "#f0f921"
             ]
            ],
            "type": "surface"
           }
          ],
          "table": [
           {
            "cells": {
             "fill": {
              "color": "#EBF0F8"
             },
             "line": {
              "color": "white"
             }
            },
            "header": {
             "fill": {
              "color": "#C8D4E3"
             },
             "line": {
              "color": "white"
             }
            },
            "type": "table"
           }
          ]
         },
         "layout": {
          "annotationdefaults": {
           "arrowcolor": "#2a3f5f",
           "arrowhead": 0,
           "arrowwidth": 1
          },
          "coloraxis": {
           "colorbar": {
            "outlinewidth": 0,
            "ticks": ""
           }
          },
          "colorscale": {
           "diverging": [
            [
             0,
             "#8e0152"
            ],
            [
             0.1,
             "#c51b7d"
            ],
            [
             0.2,
             "#de77ae"
            ],
            [
             0.3,
             "#f1b6da"
            ],
            [
             0.4,
             "#fde0ef"
            ],
            [
             0.5,
             "#f7f7f7"
            ],
            [
             0.6,
             "#e6f5d0"
            ],
            [
             0.7,
             "#b8e186"
            ],
            [
             0.8,
             "#7fbc41"
            ],
            [
             0.9,
             "#4d9221"
            ],
            [
             1,
             "#276419"
            ]
           ],
           "sequential": [
            [
             0,
             "#0d0887"
            ],
            [
             0.1111111111111111,
             "#46039f"
            ],
            [
             0.2222222222222222,
             "#7201a8"
            ],
            [
             0.3333333333333333,
             "#9c179e"
            ],
            [
             0.4444444444444444,
             "#bd3786"
            ],
            [
             0.5555555555555556,
             "#d8576b"
            ],
            [
             0.6666666666666666,
             "#ed7953"
            ],
            [
             0.7777777777777778,
             "#fb9f3a"
            ],
            [
             0.8888888888888888,
             "#fdca26"
            ],
            [
             1,
             "#f0f921"
            ]
           ],
           "sequentialminus": [
            [
             0,
             "#0d0887"
            ],
            [
             0.1111111111111111,
             "#46039f"
            ],
            [
             0.2222222222222222,
             "#7201a8"
            ],
            [
             0.3333333333333333,
             "#9c179e"
            ],
            [
             0.4444444444444444,
             "#bd3786"
            ],
            [
             0.5555555555555556,
             "#d8576b"
            ],
            [
             0.6666666666666666,
             "#ed7953"
            ],
            [
             0.7777777777777778,
             "#fb9f3a"
            ],
            [
             0.8888888888888888,
             "#fdca26"
            ],
            [
             1,
             "#f0f921"
            ]
           ]
          },
          "colorway": [
           "#636efa",
           "#EF553B",
           "#00cc96",
           "#ab63fa",
           "#FFA15A",
           "#19d3f3",
           "#FF6692",
           "#B6E880",
           "#FF97FF",
           "#FECB52"
          ],
          "font": {
           "color": "#2a3f5f"
          },
          "geo": {
           "bgcolor": "white",
           "lakecolor": "white",
           "landcolor": "#E5ECF6",
           "showlakes": true,
           "showland": true,
           "subunitcolor": "white"
          },
          "hoverlabel": {
           "align": "left"
          },
          "hovermode": "closest",
          "mapbox": {
           "style": "light"
          },
          "paper_bgcolor": "white",
          "plot_bgcolor": "#E5ECF6",
          "polar": {
           "angularaxis": {
            "gridcolor": "white",
            "linecolor": "white",
            "ticks": ""
           },
           "bgcolor": "#E5ECF6",
           "radialaxis": {
            "gridcolor": "white",
            "linecolor": "white",
            "ticks": ""
           }
          },
          "scene": {
           "xaxis": {
            "backgroundcolor": "#E5ECF6",
            "gridcolor": "white",
            "gridwidth": 2,
            "linecolor": "white",
            "showbackground": true,
            "ticks": "",
            "zerolinecolor": "white"
           },
           "yaxis": {
            "backgroundcolor": "#E5ECF6",
            "gridcolor": "white",
            "gridwidth": 2,
            "linecolor": "white",
            "showbackground": true,
            "ticks": "",
            "zerolinecolor": "white"
           },
           "zaxis": {
            "backgroundcolor": "#E5ECF6",
            "gridcolor": "white",
            "gridwidth": 2,
            "linecolor": "white",
            "showbackground": true,
            "ticks": "",
            "zerolinecolor": "white"
           }
          },
          "shapedefaults": {
           "line": {
            "color": "#2a3f5f"
           }
          },
          "ternary": {
           "aaxis": {
            "gridcolor": "white",
            "linecolor": "white",
            "ticks": ""
           },
           "baxis": {
            "gridcolor": "white",
            "linecolor": "white",
            "ticks": ""
           },
           "bgcolor": "#E5ECF6",
           "caxis": {
            "gridcolor": "white",
            "linecolor": "white",
            "ticks": ""
           }
          },
          "title": {
           "x": 0.05
          },
          "xaxis": {
           "automargin": true,
           "gridcolor": "white",
           "linecolor": "white",
           "ticks": "",
           "title": {
            "standoff": 15
           },
           "zerolinecolor": "white",
           "zerolinewidth": 2
          },
          "yaxis": {
           "automargin": true,
           "gridcolor": "white",
           "linecolor": "white",
           "ticks": "",
           "title": {
            "standoff": 15
           },
           "zerolinecolor": "white",
           "zerolinewidth": 2
          }
         }
        },
        "width": 800,
        "xaxis": {
         "anchor": "y",
         "domain": [
          0,
          0.45
         ]
        },
        "xaxis2": {
         "anchor": "y2",
         "domain": [
          0.55,
          1
         ]
        },
        "xaxis3": {
         "anchor": "y3",
         "domain": [
          0,
          0.45
         ]
        },
        "xaxis4": {
         "anchor": "y4",
         "domain": [
          0.55,
          1
         ]
        },
        "xaxis5": {
         "anchor": "y5",
         "domain": [
          0,
          0.45
         ]
        },
        "xaxis6": {
         "anchor": "y6",
         "domain": [
          0.55,
          1
         ]
        },
        "xaxis7": {
         "anchor": "y7",
         "domain": [
          0,
          0.45
         ]
        },
        "xaxis8": {
         "anchor": "y8",
         "domain": [
          0.55,
          1
         ]
        },
        "yaxis": {
         "anchor": "x",
         "domain": [
          0.78,
          1
         ]
        },
        "yaxis2": {
         "anchor": "x2",
         "domain": [
          0.78,
          1
         ]
        },
        "yaxis3": {
         "anchor": "x3",
         "domain": [
          0.52,
          0.74
         ]
        },
        "yaxis4": {
         "anchor": "x4",
         "domain": [
          0.52,
          0.74
         ]
        },
        "yaxis5": {
         "anchor": "x5",
         "domain": [
          0.26,
          0.48
         ]
        },
        "yaxis6": {
         "anchor": "x6",
         "domain": [
          0.26,
          0.48
         ]
        },
        "yaxis7": {
         "anchor": "x7",
         "domain": [
          0,
          0.22
         ]
        },
        "yaxis8": {
         "anchor": "x8",
         "domain": [
          0,
          0.22
         ]
        }
       }
      },
      "text/html": [
       "<div>\n",
       "        \n",
       "        \n",
       "            <div id=\"c66173e7-2b06-4fa5-afe2-ee2ccf7e7c39\" class=\"plotly-graph-div\" style=\"height:1500px; width:800px;\"></div>\n",
       "            <script type=\"text/javascript\">\n",
       "                require([\"plotly\"], function(Plotly) {\n",
       "                    window.PLOTLYENV=window.PLOTLYENV || {};\n",
       "                    \n",
       "                if (document.getElementById(\"c66173e7-2b06-4fa5-afe2-ee2ccf7e7c39\")) {\n",
       "                    Plotly.newPlot(\n",
       "                        'c66173e7-2b06-4fa5-afe2-ee2ccf7e7c39',\n",
       "                        [{\"hovertext\": [\"EF 2E 22 E0 EA, Type 1\", \"B6 A4 CD 3A 81, Type 1\", \"C2 C3 05 A8 4B, Type 1\", \"39 CA BD 3C 82, Type 1\", \"7B DE 78 5B F6, Type 1\", \"9B 8E 44 F8 FF, Type 1\", \"35 86 13 56 24, Type 1\", \"73 EC 1B D7 9B, Type 1\", \"7D 76 3D FC 91, Type 1\", \"AB A5 ED 43 8B, Type 1\", \"01 83 17 5E 89, Type 1\", \"B9 5D 22 14 86, Type 1\", \"A1 54 32 B1 53, Type 1\", \"FD 11 B7 CF 8F, Type 1\", \"DB 6B 59 3A 0C, Type 1\", \"F1 C2 1C 3A FC, Type 1\", \"98 2C 1A AA 87, Type 1\", \"A2 D7 D0 A4 2A, Type 1\", \"02 92 7B FF E6, Type 1\", \"06 25 B6 B7 F5, Type 1\"], \"marker\": {\"color\": [\"#33ffc9\", \"#33ffc9\", \"#33ffc9\", \"#33ffc9\", \"#33ffc9\", \"#33ffc9\", \"#33ffc9\", \"#33ffc9\", \"#33ffc9\", \"#33ffc9\", \"#33ffc9\", \"#33ffc9\", \"#33ffc9\", \"#33ffc9\", \"#33ffc9\", \"#33ffc9\", \"#33ffc9\", \"#33ffc9\", \"#33ffc9\", \"#33ffc9\"], \"size\": 10}, \"mode\": \"markers+text\", \"type\": \"scatter\", \"x\": [19.0, 19.0, 20.0, 22.0, 23.0, 25.0, 27.0, 28.0, 29.0, 29.0, 31.0, 32.0, 32.0, 33.0, 34.0, 34.0, 36.0, 37.0, 41.0, 44.0], \"xaxis\": \"x\", \"y\": [5.0, 9.0, 9.0, 16.0, 9.0, 4.0, 2.0, 7.0, 11.0, 7.0, 10.0, 10.0, 7.0, 14.0, 10.0, 15.0, 11.0, 11.0, 8.0, 10.0], \"yaxis\": \"y\"}, {\"hovertext\": [\"EF 2E 22 E0 EA, Type 1\", \"B6 A4 CD 3A 81, Type 1\", \"C2 C3 05 A8 4B, Type 1\", \"39 CA BD 3C 82, Type 1\", \"7B DE 78 5B F6, Type 1\", \"9B 8E 44 F8 FF, Type 1\", \"35 86 13 56 24, Type 1\", \"73 EC 1B D7 9B, Type 1\", \"7D 76 3D FC 91, Type 1\", \"AB A5 ED 43 8B, Type 1\", \"01 83 17 5E 89, Type 1\", \"B9 5D 22 14 86, Type 1\", \"A1 54 32 B1 53, Type 1\", \"FD 11 B7 CF 8F, Type 1\", \"DB 6B 59 3A 0C, Type 1\", \"F1 C2 1C 3A FC, Type 1\", \"98 2C 1A AA 87, Type 1\", \"A2 D7 D0 A4 2A, Type 1\", \"02 92 7B FF E6, Type 1\", \"06 25 B6 B7 F5, Type 1\"], \"marker\": {\"color\": [\"#33ffc9\", \"#33ffc9\", \"#33ffc9\", \"#33ffc9\", \"#33ffc9\", \"#33ffc9\", \"#33ffc9\", \"#33ffc9\", \"#33ffc9\", \"#33ffc9\", \"#33ffc9\", \"#33ffc9\", \"#33ffc9\", \"#33ffc9\", \"#33ffc9\", \"#33ffc9\", \"#33ffc9\", \"#33ffc9\", \"#33ffc9\", \"#33ffc9\"], \"size\": 10}, \"mode\": \"markers+text\", \"type\": \"scatter\", \"x\": [19.0, 19.0, 20.0, 22.0, 23.0, 25.0, 27.0, 28.0, 29.0, 29.0, 31.0, 32.0, 32.0, 33.0, 34.0, 34.0, 36.0, 37.0, 41.0, 44.0], \"xaxis\": \"x2\", \"y\": [8.0, 4.0, 8.0, 9.0, 12.0, 2.0, null, 6.0, 10.0, 7.0, 6.0, 6.0, 7.0, 12.0, 6.0, 11.0, 8.0, 7.0, 3.0, 9.0], \"yaxis\": \"y2\"}, {\"hovertext\": [\"EF 2E 22 E0 EA, Type 1\", \"B6 A4 CD 3A 81, Type 1\", \"C2 C3 05 A8 4B, Type 1\", \"39 CA BD 3C 82, Type 1\", \"7B DE 78 5B F6, Type 1\", \"9B 8E 44 F8 FF, Type 1\", \"35 86 13 56 24, Type 1\", \"73 EC 1B D7 9B, Type 1\", \"7D 76 3D FC 91, Type 1\", \"AB A5 ED 43 8B, Type 1\", \"01 83 17 5E 89, Type 1\", \"B9 5D 22 14 86, Type 1\", \"A1 54 32 B1 53, Type 1\", \"FD 11 B7 CF 8F, Type 1\", \"DB 6B 59 3A 0C, Type 1\", \"F1 C2 1C 3A FC, Type 1\", \"98 2C 1A AA 87, Type 1\", \"A2 D7 D0 A4 2A, Type 1\", \"02 92 7B FF E6, Type 1\", \"06 25 B6 B7 F5, Type 1\"], \"marker\": {\"color\": [\"#33ffc9\", \"#33ffc9\", \"#33ffc9\", \"#33ffc9\", \"#33ffc9\", \"#33ffc9\", \"#33ffc9\", \"#33ffc9\", \"#33ffc9\", \"#33ffc9\", \"#33ffc9\", \"#33ffc9\", \"#33ffc9\", \"#33ffc9\", \"#33ffc9\", \"#33ffc9\", \"#33ffc9\", \"#33ffc9\", \"#33ffc9\", \"#33ffc9\"], \"size\": 10}, \"mode\": \"markers+text\", \"type\": \"scatter\", \"x\": [19.0, 19.0, 20.0, 22.0, 23.0, 25.0, 27.0, 28.0, 29.0, 29.0, 31.0, 32.0, 32.0, 33.0, 34.0, 34.0, 36.0, 37.0, 41.0, 44.0], \"xaxis\": \"x3\", \"y\": [7.0, 10.0, 10.0, 12.0, 15.0, null, null, null, 11.0, 8.0, 9.0, 5.0, 7.0, 14.0, 8.0, 11.0, 12.0, 9.0, 5.0, 7.0], \"yaxis\": \"y3\"}, {\"hovertext\": [\"EF 2E 22 E0 EA, Type 1\", \"B6 A4 CD 3A 81, Type 1\", \"C2 C3 05 A8 4B, Type 1\", \"39 CA BD 3C 82, Type 1\", \"7B DE 78 5B F6, Type 1\", \"9B 8E 44 F8 FF, Type 1\", \"35 86 13 56 24, Type 1\", \"73 EC 1B D7 9B, Type 1\", \"7D 76 3D FC 91, Type 1\", \"AB A5 ED 43 8B, Type 1\", \"01 83 17 5E 89, Type 1\", \"B9 5D 22 14 86, Type 1\", \"A1 54 32 B1 53, Type 1\", \"FD 11 B7 CF 8F, Type 1\", \"DB 6B 59 3A 0C, Type 1\", \"F1 C2 1C 3A FC, Type 1\", \"98 2C 1A AA 87, Type 1\", \"A2 D7 D0 A4 2A, Type 1\", \"02 92 7B FF E6, Type 1\", \"06 25 B6 B7 F5, Type 1\"], \"marker\": {\"color\": [\"#33ffc9\", \"#33ffc9\", \"#33ffc9\", \"#33ffc9\", \"#33ffc9\", \"#33ffc9\", \"#33ffc9\", \"#33ffc9\", \"#33ffc9\", \"#33ffc9\", \"#33ffc9\", \"#33ffc9\", \"#33ffc9\", \"#33ffc9\", \"#33ffc9\", \"#33ffc9\", \"#33ffc9\", \"#33ffc9\", \"#33ffc9\", \"#33ffc9\"], \"size\": 10}, \"mode\": \"markers+text\", \"type\": \"scatter\", \"x\": [19.0, 19.0, 20.0, 22.0, 23.0, 25.0, 27.0, 28.0, 29.0, 29.0, 31.0, 32.0, 32.0, 33.0, 34.0, 34.0, 36.0, 37.0, 41.0, 44.0], \"xaxis\": \"x4\", \"y\": [20.0, 23.0, 27.0, 37.0, 36.0, null, null, null, 32.0, 22.0, 25.0, 21.0, 21.0, 40.0, 24.0, 37.0, 31.0, 27.0, 16.0, 26.0], \"yaxis\": \"y4\"}, {\"hovertext\": [\"EF 2E 22 E0 EA, Type 1\", \"B6 A4 CD 3A 81, Type 1\", \"C2 C3 05 A8 4B, Type 1\", \"39 CA BD 3C 82, Type 1\", \"7B DE 78 5B F6, Type 1\", \"9B 8E 44 F8 FF, Type 1\", \"35 86 13 56 24, Type 1\", \"73 EC 1B D7 9B, Type 1\", \"7D 76 3D FC 91, Type 1\", \"AB A5 ED 43 8B, Type 1\", \"01 83 17 5E 89, Type 1\", \"B9 5D 22 14 86, Type 1\", \"A1 54 32 B1 53, Type 1\", \"FD 11 B7 CF 8F, Type 1\", \"DB 6B 59 3A 0C, Type 1\", \"F1 C2 1C 3A FC, Type 1\", \"98 2C 1A AA 87, Type 1\", \"A2 D7 D0 A4 2A, Type 1\", \"02 92 7B FF E6, Type 1\", \"06 25 B6 B7 F5, Type 1\"], \"marker\": {\"color\": [\"#33ffc9\", \"#33ffc9\", \"#33ffc9\", \"#33ffc9\", \"#33ffc9\", \"#33ffc9\", \"#33ffc9\", \"#33ffc9\", \"#33ffc9\", \"#33ffc9\", \"#33ffc9\", \"#33ffc9\", \"#33ffc9\", \"#33ffc9\", \"#33ffc9\", \"#33ffc9\", \"#33ffc9\", \"#33ffc9\", \"#33ffc9\", \"#33ffc9\"], \"size\": 10}, \"mode\": \"markers+text\", \"type\": \"scatter\", \"x\": [19.0, 19.0, 20.0, 22.0, 23.0, 25.0, 27.0, 28.0, 29.0, 29.0, 31.0, 32.0, 32.0, 33.0, 34.0, 34.0, 36.0, 37.0, 41.0, 44.0], \"xaxis\": \"x5\", \"y\": [80.0, 86.0, 94.0, 114.0, 112.0, null, null, null, 104.0, 84.0, 90.0, 82.0, 82.0, 120.0, 88.0, 114.0, 102.0, 94.0, 72.0, 92.0], \"yaxis\": \"y5\"}, {\"hovertext\": [\"EF 2E 22 E0 EA, Type 1\", \"B6 A4 CD 3A 81, Type 1\", \"C2 C3 05 A8 4B, Type 1\", \"39 CA BD 3C 82, Type 1\", \"7B DE 78 5B F6, Type 1\", \"9B 8E 44 F8 FF, Type 1\", \"35 86 13 56 24, Type 1\", \"73 EC 1B D7 9B, Type 1\", \"7D 76 3D FC 91, Type 1\", \"AB A5 ED 43 8B, Type 1\", \"01 83 17 5E 89, Type 1\", \"B9 5D 22 14 86, Type 1\", \"A1 54 32 B1 53, Type 1\", \"FD 11 B7 CF 8F, Type 1\", \"DB 6B 59 3A 0C, Type 1\", \"F1 C2 1C 3A FC, Type 1\", \"98 2C 1A AA 87, Type 1\", \"A2 D7 D0 A4 2A, Type 1\", \"02 92 7B FF E6, Type 1\", \"06 25 B6 B7 F5, Type 1\"], \"marker\": {\"color\": [\"#33ffc9\", \"#33ffc9\", \"#33ffc9\", \"#33ffc9\", \"#33ffc9\", \"#33ffc9\", \"#33ffc9\", \"#33ffc9\", \"#33ffc9\", \"#33ffc9\", \"#33ffc9\", \"#33ffc9\", \"#33ffc9\", \"#33ffc9\", \"#33ffc9\", \"#33ffc9\", \"#33ffc9\", \"#33ffc9\", \"#33ffc9\", \"#33ffc9\"], \"size\": 10}, \"mode\": \"markers+text\", \"type\": \"scatter\", \"x\": [19.0, 19.0, 20.0, 22.0, 23.0, 25.0, 27.0, 28.0, 29.0, 29.0, 31.0, 32.0, 32.0, 33.0, 34.0, 34.0, 36.0, 37.0, 41.0, 44.0], \"xaxis\": \"x6\", \"y\": [9.0, 18.0, 34.0, 82.0, 79.0, null, null, null, 61.0, 14.0, 25.0, 12.0, 12.0, 91.0, 21.0, 82.0, 55.0, 34.0, 3.0, 30.0], \"yaxis\": \"y6\"}, {\"hovertext\": [\"EF 2E 22 E0 EA, Type 1\", \"B6 A4 CD 3A 81, Type 1\", \"C2 C3 05 A8 4B, Type 1\", \"39 CA BD 3C 82, Type 1\", \"7B DE 78 5B F6, Type 1\", \"9B 8E 44 F8 FF, Type 1\", \"35 86 13 56 24, Type 1\", \"73 EC 1B D7 9B, Type 1\", \"7D 76 3D FC 91, Type 1\", \"AB A5 ED 43 8B, Type 1\", \"01 83 17 5E 89, Type 1\", \"B9 5D 22 14 86, Type 1\", \"A1 54 32 B1 53, Type 1\", \"FD 11 B7 CF 8F, Type 1\", \"DB 6B 59 3A 0C, Type 1\", \"F1 C2 1C 3A FC, Type 1\", \"98 2C 1A AA 87, Type 1\", \"A2 D7 D0 A4 2A, Type 1\", \"02 92 7B FF E6, Type 1\", \"06 25 B6 B7 F5, Type 1\"], \"marker\": {\"color\": [\"#33ffc9\", \"#33ffc9\", \"#33ffc9\", \"#33ffc9\", \"#33ffc9\", \"#33ffc9\", \"#33ffc9\", \"#33ffc9\", \"#33ffc9\", \"#33ffc9\", \"#33ffc9\", \"#33ffc9\", \"#33ffc9\", \"#33ffc9\", \"#33ffc9\", \"#33ffc9\", \"#33ffc9\", \"#33ffc9\", \"#33ffc9\", \"#33ffc9\"], \"size\": 10}, \"mode\": \"markers+text\", \"type\": \"scatter\", \"x\": [19.0, 19.0, 20.0, 22.0, 23.0, 25.0, 27.0, 28.0, 29.0, 29.0, 31.0, 32.0, 32.0, 33.0, 34.0, 34.0, 36.0, 37.0, 41.0, 44.0], \"xaxis\": \"x7\", \"y\": [75.0, 80.0, 88.0, 107.0, 105.0, null, null, null, 97.0, 79.0, 84.0, 77.0, 77.0, 113.0, 82.0, 107.0, 96.0, 88.0, 67.0, 86.0], \"yaxis\": \"y7\"}, {\"hovertext\": [\"EF 2E 22 E0 EA, Type 1\", \"B6 A4 CD 3A 81, Type 1\", \"C2 C3 05 A8 4B, Type 1\", \"39 CA BD 3C 82, Type 1\", \"7B DE 78 5B F6, Type 1\", \"9B 8E 44 F8 FF, Type 1\", \"35 86 13 56 24, Type 1\", \"73 EC 1B D7 9B, Type 1\", \"7D 76 3D FC 91, Type 1\", \"AB A5 ED 43 8B, Type 1\", \"01 83 17 5E 89, Type 1\", \"B9 5D 22 14 86, Type 1\", \"A1 54 32 B1 53, Type 1\", \"FD 11 B7 CF 8F, Type 1\", \"DB 6B 59 3A 0C, Type 1\", \"F1 C2 1C 3A FC, Type 1\", \"98 2C 1A AA 87, Type 1\", \"A2 D7 D0 A4 2A, Type 1\", \"02 92 7B FF E6, Type 1\", \"06 25 B6 B7 F5, Type 1\"], \"marker\": {\"color\": [\"#33ffc9\", \"#33ffc9\", \"#33ffc9\", \"#33ffc9\", \"#33ffc9\", \"#33ffc9\", \"#33ffc9\", \"#33ffc9\", \"#33ffc9\", \"#33ffc9\", \"#33ffc9\", \"#33ffc9\", \"#33ffc9\", \"#33ffc9\", \"#33ffc9\", \"#33ffc9\", \"#33ffc9\", \"#33ffc9\", \"#33ffc9\", \"#33ffc9\"], \"size\": 10}, \"mode\": \"markers+text\", \"type\": \"scatter\", \"x\": [19.0, 19.0, 20.0, 22.0, 23.0, 25.0, 27.0, 28.0, 29.0, 29.0, 31.0, 32.0, 32.0, 33.0, 34.0, 34.0, 36.0, 37.0, 41.0, 44.0], \"xaxis\": \"x8\", \"y\": [87.0, 83.0, 101.0, 120.0, 118.0, null, null, null, 110.0, 91.0, 97.0, 89.0, 89.0, 125.0, 95.0, 120.0, 108.0, 101.0, 80.0, 99.0], \"yaxis\": \"y8\"}],\n",
       "                        {\"annotations\": [{\"font\": {\"size\": 16}, \"showarrow\": false, \"text\": \"Note standard Cubes\", \"x\": 0.225, \"xanchor\": \"center\", \"xref\": \"paper\", \"y\": 1.0, \"yanchor\": \"bottom\", \"yref\": \"paper\"}, {\"font\": {\"size\": 16}, \"showarrow\": false, \"text\": \"Note standard Matrices\", \"x\": 0.775, \"xanchor\": \"center\", \"xref\": \"paper\", \"y\": 1.0, \"yanchor\": \"bottom\", \"yref\": \"paper\"}, {\"font\": {\"size\": 16}, \"showarrow\": false, \"text\": \"Note standard Puzzles visuels\", \"x\": 0.225, \"xanchor\": \"center\", \"xref\": \"paper\", \"y\": 0.74, \"yanchor\": \"bottom\", \"yref\": \"paper\"}, {\"font\": {\"size\": 16}, \"showarrow\": false, \"text\": \"Total des notes standards IRP\", \"x\": 0.775, \"xanchor\": \"center\", \"xref\": \"paper\", \"y\": 0.74, \"yanchor\": \"bottom\", \"yref\": \"paper\"}, {\"font\": {\"size\": 16}, \"showarrow\": false, \"text\": \"Note composite IRP\", \"x\": 0.225, \"xanchor\": \"center\", \"xref\": \"paper\", \"y\": 0.48, \"yanchor\": \"bottom\", \"yref\": \"paper\"}, {\"font\": {\"size\": 16}, \"showarrow\": false, \"text\": \"Rang percentile IRP\", \"x\": 0.775, \"xanchor\": \"center\", \"xref\": \"paper\", \"y\": 0.48, \"yanchor\": \"bottom\", \"yref\": \"paper\"}, {\"font\": {\"size\": 16}, \"showarrow\": false, \"text\": \"Note \\u00e9cart type inf\\u00e9rieure IRP\", \"x\": 0.225, \"xanchor\": \"center\", \"xref\": \"paper\", \"y\": 0.22, \"yanchor\": \"bottom\", \"yref\": \"paper\"}, {\"font\": {\"size\": 16}, \"showarrow\": false, \"text\": \"Note \\u00e9cart type sup\\u00e9rieure IRP\", \"x\": 0.775, \"xanchor\": \"center\", \"xref\": \"paper\", \"y\": 0.22, \"yanchor\": \"bottom\", \"yref\": \"paper\"}, {\"font\": {\"size\": 16}, \"showarrow\": false, \"text\": \"\\u00c2ge\", \"x\": 0.5, \"xanchor\": \"center\", \"xref\": \"paper\", \"y\": 0, \"yanchor\": \"top\", \"yref\": \"paper\", \"yshift\": -30}, {\"font\": {\"size\": 16}, \"showarrow\": false, \"text\": \"Score\", \"textangle\": -90, \"x\": 0, \"xanchor\": \"right\", \"xref\": \"paper\", \"xshift\": -40, \"y\": 0.5, \"yanchor\": \"middle\", \"yref\": \"paper\"}], \"height\": 1500, \"showlegend\": false, \"template\": {\"data\": {\"bar\": [{\"error_x\": {\"color\": \"#2a3f5f\"}, \"error_y\": {\"color\": \"#2a3f5f\"}, \"marker\": {\"line\": {\"color\": \"#E5ECF6\", \"width\": 0.5}}, \"type\": \"bar\"}], \"barpolar\": [{\"marker\": {\"line\": {\"color\": \"#E5ECF6\", \"width\": 0.5}}, \"type\": \"barpolar\"}], \"carpet\": [{\"aaxis\": {\"endlinecolor\": \"#2a3f5f\", \"gridcolor\": \"white\", \"linecolor\": \"white\", \"minorgridcolor\": \"white\", \"startlinecolor\": \"#2a3f5f\"}, \"baxis\": {\"endlinecolor\": \"#2a3f5f\", \"gridcolor\": \"white\", \"linecolor\": \"white\", \"minorgridcolor\": \"white\", \"startlinecolor\": \"#2a3f5f\"}, \"type\": \"carpet\"}], \"choropleth\": [{\"colorbar\": {\"outlinewidth\": 0, \"ticks\": \"\"}, \"type\": \"choropleth\"}], \"contour\": [{\"colorbar\": {\"outlinewidth\": 0, \"ticks\": \"\"}, \"colorscale\": [[0.0, \"#0d0887\"], [0.1111111111111111, \"#46039f\"], [0.2222222222222222, \"#7201a8\"], [0.3333333333333333, \"#9c179e\"], [0.4444444444444444, \"#bd3786\"], [0.5555555555555556, \"#d8576b\"], [0.6666666666666666, \"#ed7953\"], [0.7777777777777778, \"#fb9f3a\"], [0.8888888888888888, \"#fdca26\"], [1.0, \"#f0f921\"]], \"type\": \"contour\"}], \"contourcarpet\": [{\"colorbar\": {\"outlinewidth\": 0, \"ticks\": \"\"}, \"type\": \"contourcarpet\"}], \"heatmap\": [{\"colorbar\": {\"outlinewidth\": 0, \"ticks\": \"\"}, \"colorscale\": [[0.0, \"#0d0887\"], [0.1111111111111111, \"#46039f\"], [0.2222222222222222, \"#7201a8\"], [0.3333333333333333, \"#9c179e\"], [0.4444444444444444, \"#bd3786\"], [0.5555555555555556, \"#d8576b\"], [0.6666666666666666, \"#ed7953\"], [0.7777777777777778, \"#fb9f3a\"], [0.8888888888888888, \"#fdca26\"], [1.0, \"#f0f921\"]], \"type\": \"heatmap\"}], \"heatmapgl\": [{\"colorbar\": {\"outlinewidth\": 0, \"ticks\": \"\"}, \"colorscale\": [[0.0, \"#0d0887\"], [0.1111111111111111, \"#46039f\"], [0.2222222222222222, \"#7201a8\"], [0.3333333333333333, \"#9c179e\"], [0.4444444444444444, \"#bd3786\"], [0.5555555555555556, \"#d8576b\"], [0.6666666666666666, \"#ed7953\"], [0.7777777777777778, \"#fb9f3a\"], [0.8888888888888888, \"#fdca26\"], [1.0, \"#f0f921\"]], \"type\": \"heatmapgl\"}], \"histogram\": [{\"marker\": {\"colorbar\": {\"outlinewidth\": 0, \"ticks\": \"\"}}, \"type\": \"histogram\"}], \"histogram2d\": [{\"colorbar\": {\"outlinewidth\": 0, \"ticks\": \"\"}, \"colorscale\": [[0.0, \"#0d0887\"], [0.1111111111111111, \"#46039f\"], [0.2222222222222222, \"#7201a8\"], [0.3333333333333333, \"#9c179e\"], [0.4444444444444444, \"#bd3786\"], [0.5555555555555556, \"#d8576b\"], [0.6666666666666666, \"#ed7953\"], [0.7777777777777778, \"#fb9f3a\"], [0.8888888888888888, \"#fdca26\"], [1.0, \"#f0f921\"]], \"type\": \"histogram2d\"}], \"histogram2dcontour\": [{\"colorbar\": {\"outlinewidth\": 0, \"ticks\": \"\"}, \"colorscale\": [[0.0, \"#0d0887\"], [0.1111111111111111, \"#46039f\"], [0.2222222222222222, \"#7201a8\"], [0.3333333333333333, \"#9c179e\"], [0.4444444444444444, \"#bd3786\"], [0.5555555555555556, \"#d8576b\"], [0.6666666666666666, \"#ed7953\"], [0.7777777777777778, \"#fb9f3a\"], [0.8888888888888888, \"#fdca26\"], [1.0, \"#f0f921\"]], \"type\": \"histogram2dcontour\"}], \"mesh3d\": [{\"colorbar\": {\"outlinewidth\": 0, \"ticks\": \"\"}, \"type\": \"mesh3d\"}], \"parcoords\": [{\"line\": {\"colorbar\": {\"outlinewidth\": 0, \"ticks\": \"\"}}, \"type\": \"parcoords\"}], \"pie\": [{\"automargin\": true, \"type\": \"pie\"}], \"scatter\": [{\"marker\": {\"colorbar\": {\"outlinewidth\": 0, \"ticks\": \"\"}}, \"type\": \"scatter\"}], \"scatter3d\": [{\"line\": {\"colorbar\": {\"outlinewidth\": 0, \"ticks\": \"\"}}, \"marker\": {\"colorbar\": {\"outlinewidth\": 0, \"ticks\": \"\"}}, \"type\": \"scatter3d\"}], \"scattercarpet\": [{\"marker\": {\"colorbar\": {\"outlinewidth\": 0, \"ticks\": \"\"}}, \"type\": \"scattercarpet\"}], \"scattergeo\": [{\"marker\": {\"colorbar\": {\"outlinewidth\": 0, \"ticks\": \"\"}}, \"type\": \"scattergeo\"}], \"scattergl\": [{\"marker\": {\"colorbar\": {\"outlinewidth\": 0, \"ticks\": \"\"}}, \"type\": \"scattergl\"}], \"scattermapbox\": [{\"marker\": {\"colorbar\": {\"outlinewidth\": 0, \"ticks\": \"\"}}, \"type\": \"scattermapbox\"}], \"scatterpolar\": [{\"marker\": {\"colorbar\": {\"outlinewidth\": 0, \"ticks\": \"\"}}, \"type\": \"scatterpolar\"}], \"scatterpolargl\": [{\"marker\": {\"colorbar\": {\"outlinewidth\": 0, \"ticks\": \"\"}}, \"type\": \"scatterpolargl\"}], \"scatterternary\": [{\"marker\": {\"colorbar\": {\"outlinewidth\": 0, \"ticks\": \"\"}}, \"type\": \"scatterternary\"}], \"surface\": [{\"colorbar\": {\"outlinewidth\": 0, \"ticks\": \"\"}, \"colorscale\": [[0.0, \"#0d0887\"], [0.1111111111111111, \"#46039f\"], [0.2222222222222222, \"#7201a8\"], [0.3333333333333333, \"#9c179e\"], [0.4444444444444444, \"#bd3786\"], [0.5555555555555556, \"#d8576b\"], [0.6666666666666666, \"#ed7953\"], [0.7777777777777778, \"#fb9f3a\"], [0.8888888888888888, \"#fdca26\"], [1.0, \"#f0f921\"]], \"type\": \"surface\"}], \"table\": [{\"cells\": {\"fill\": {\"color\": \"#EBF0F8\"}, \"line\": {\"color\": \"white\"}}, \"header\": {\"fill\": {\"color\": \"#C8D4E3\"}, \"line\": {\"color\": \"white\"}}, \"type\": \"table\"}]}, \"layout\": {\"annotationdefaults\": {\"arrowcolor\": \"#2a3f5f\", \"arrowhead\": 0, \"arrowwidth\": 1}, \"coloraxis\": {\"colorbar\": {\"outlinewidth\": 0, \"ticks\": \"\"}}, \"colorscale\": {\"diverging\": [[0, \"#8e0152\"], [0.1, \"#c51b7d\"], [0.2, \"#de77ae\"], [0.3, \"#f1b6da\"], [0.4, \"#fde0ef\"], [0.5, \"#f7f7f7\"], [0.6, \"#e6f5d0\"], [0.7, \"#b8e186\"], [0.8, \"#7fbc41\"], [0.9, \"#4d9221\"], [1, \"#276419\"]], \"sequential\": [[0.0, \"#0d0887\"], [0.1111111111111111, \"#46039f\"], [0.2222222222222222, \"#7201a8\"], [0.3333333333333333, \"#9c179e\"], [0.4444444444444444, \"#bd3786\"], [0.5555555555555556, \"#d8576b\"], [0.6666666666666666, \"#ed7953\"], [0.7777777777777778, \"#fb9f3a\"], [0.8888888888888888, \"#fdca26\"], [1.0, \"#f0f921\"]], \"sequentialminus\": [[0.0, \"#0d0887\"], [0.1111111111111111, \"#46039f\"], [0.2222222222222222, \"#7201a8\"], [0.3333333333333333, \"#9c179e\"], [0.4444444444444444, \"#bd3786\"], [0.5555555555555556, \"#d8576b\"], [0.6666666666666666, \"#ed7953\"], [0.7777777777777778, \"#fb9f3a\"], [0.8888888888888888, \"#fdca26\"], [1.0, \"#f0f921\"]]}, \"colorway\": [\"#636efa\", \"#EF553B\", \"#00cc96\", \"#ab63fa\", \"#FFA15A\", \"#19d3f3\", \"#FF6692\", \"#B6E880\", \"#FF97FF\", \"#FECB52\"], \"font\": {\"color\": \"#2a3f5f\"}, \"geo\": {\"bgcolor\": \"white\", \"lakecolor\": \"white\", \"landcolor\": \"#E5ECF6\", \"showlakes\": true, \"showland\": true, \"subunitcolor\": \"white\"}, \"hoverlabel\": {\"align\": \"left\"}, \"hovermode\": \"closest\", \"mapbox\": {\"style\": \"light\"}, \"paper_bgcolor\": \"white\", \"plot_bgcolor\": \"#E5ECF6\", \"polar\": {\"angularaxis\": {\"gridcolor\": \"white\", \"linecolor\": \"white\", \"ticks\": \"\"}, \"bgcolor\": \"#E5ECF6\", \"radialaxis\": {\"gridcolor\": \"white\", \"linecolor\": \"white\", \"ticks\": \"\"}}, \"scene\": {\"xaxis\": {\"backgroundcolor\": \"#E5ECF6\", \"gridcolor\": \"white\", \"gridwidth\": 2, \"linecolor\": \"white\", \"showbackground\": true, \"ticks\": \"\", \"zerolinecolor\": \"white\"}, \"yaxis\": {\"backgroundcolor\": \"#E5ECF6\", \"gridcolor\": \"white\", \"gridwidth\": 2, \"linecolor\": \"white\", \"showbackground\": true, \"ticks\": \"\", \"zerolinecolor\": \"white\"}, \"zaxis\": {\"backgroundcolor\": \"#E5ECF6\", \"gridcolor\": \"white\", \"gridwidth\": 2, \"linecolor\": \"white\", \"showbackground\": true, \"ticks\": \"\", \"zerolinecolor\": \"white\"}}, \"shapedefaults\": {\"line\": {\"color\": \"#2a3f5f\"}}, \"ternary\": {\"aaxis\": {\"gridcolor\": \"white\", \"linecolor\": \"white\", \"ticks\": \"\"}, \"baxis\": {\"gridcolor\": \"white\", \"linecolor\": \"white\", \"ticks\": \"\"}, \"bgcolor\": \"#E5ECF6\", \"caxis\": {\"gridcolor\": \"white\", \"linecolor\": \"white\", \"ticks\": \"\"}}, \"title\": {\"x\": 0.05}, \"xaxis\": {\"automargin\": true, \"gridcolor\": \"white\", \"linecolor\": \"white\", \"ticks\": \"\", \"title\": {\"standoff\": 15}, \"zerolinecolor\": \"white\", \"zerolinewidth\": 2}, \"yaxis\": {\"automargin\": true, \"gridcolor\": \"white\", \"linecolor\": \"white\", \"ticks\": \"\", \"title\": {\"standoff\": 15}, \"zerolinecolor\": \"white\", \"zerolinewidth\": 2}}}, \"width\": 800, \"xaxis\": {\"anchor\": \"y\", \"domain\": [0.0, 0.45]}, \"xaxis2\": {\"anchor\": \"y2\", \"domain\": [0.55, 1.0]}, \"xaxis3\": {\"anchor\": \"y3\", \"domain\": [0.0, 0.45]}, \"xaxis4\": {\"anchor\": \"y4\", \"domain\": [0.55, 1.0]}, \"xaxis5\": {\"anchor\": \"y5\", \"domain\": [0.0, 0.45]}, \"xaxis6\": {\"anchor\": \"y6\", \"domain\": [0.55, 1.0]}, \"xaxis7\": {\"anchor\": \"y7\", \"domain\": [0.0, 0.45]}, \"xaxis8\": {\"anchor\": \"y8\", \"domain\": [0.55, 1.0]}, \"yaxis\": {\"anchor\": \"x\", \"domain\": [0.78, 1.0]}, \"yaxis2\": {\"anchor\": \"x2\", \"domain\": [0.78, 1.0]}, \"yaxis3\": {\"anchor\": \"x3\", \"domain\": [0.52, 0.74]}, \"yaxis4\": {\"anchor\": \"x4\", \"domain\": [0.52, 0.74]}, \"yaxis5\": {\"anchor\": \"x5\", \"domain\": [0.26, 0.48]}, \"yaxis6\": {\"anchor\": \"x6\", \"domain\": [0.26, 0.48]}, \"yaxis7\": {\"anchor\": \"x7\", \"domain\": [0.0, 0.22]}, \"yaxis8\": {\"anchor\": \"x8\", \"domain\": [0.0, 0.22]}},\n",
       "                        {\"responsive\": true}\n",
       "                    ).then(function(){\n",
       "                            \n",
       "var gd = document.getElementById('c66173e7-2b06-4fa5-afe2-ee2ccf7e7c39');\n",
       "var x = new MutationObserver(function (mutations, observer) {{\n",
       "        var display = window.getComputedStyle(gd).display;\n",
       "        if (!display || display === 'none') {{\n",
       "            console.log([gd, 'removed!']);\n",
       "            Plotly.purge(gd);\n",
       "            observer.disconnect();\n",
       "        }}\n",
       "}});\n",
       "\n",
       "// Listen for the removal of the full notebook cells\n",
       "var notebookContainer = gd.closest('#notebook-container');\n",
       "if (notebookContainer) {{\n",
       "    x.observe(notebookContainer, {childList: true});\n",
       "}}\n",
       "\n",
       "// Listen for the clearing of the current output cell\n",
       "var outputEl = gd.closest('.output');\n",
       "if (outputEl) {{\n",
       "    x.observe(outputEl, {childList: true});\n",
       "}}\n",
       "\n",
       "                        })\n",
       "                };\n",
       "                });\n",
       "            </script>\n",
       "        </div>"
      ]
     },
     "metadata": {},
     "output_type": "display_data"
    }
   ],
   "source": [
    "fig_wais_sub.add_trace(go.Scatter(x= df_wais_sub['age'], y=df_wais_sub[subplot_titles[4]], mode=\"markers+text\",\n",
    "            marker={'size': 10, \"color\": df_wais_sub['Type_color'] },\n",
    "            hovertext= df_wais_sub['ID_SECONDAIRE'] +\", \"+ df_wais_sub['Type']),\n",
    "            row=1, col=1)\n",
    "\n",
    "fig_wais_sub.add_trace(go.Scatter(x= df_wais_sub['age'], y=df_wais_sub[subplot_titles[5]], mode=\"markers+text\",\n",
    "            marker={'size': 10, \"color\": df_wais_sub['Type_color'] },\n",
    "            hovertext= df_wais_sub['ID_SECONDAIRE'] +\", \"+ df_wais_sub['Type']),\n",
    "              row=1, col=2)\n",
    "\n",
    "fig_wais_sub.add_trace(go.Scatter(x= df_wais_sub['age'], y=df_wais_sub[subplot_titles[6]], mode=\"markers+text\",\n",
    "            marker={'size': 10, \"color\": df_wais_sub['Type_color'] },\n",
    "            hovertext= df_wais_sub['ID_SECONDAIRE'] +\", \"+ df_wais_sub['Type']),\n",
    "              row=2, col=1)\n",
    "\n",
    "fig_wais_sub.add_trace(go.Scatter(x= df_wais_sub['age'], y=df_wais_sub[subplot_titles[7]], mode=\"markers+text\",\n",
    "            marker={'size': 10, \"color\": df_wais_sub['Type_color'] },\n",
    "            hovertext= df_wais_sub['ID_SECONDAIRE'] +\", \"+ df_wais_sub['Type']),\n",
    "            row=2, col=2)\n",
    "\n",
    "fig_wais_sub.add_trace(go.Scatter(x= df_wais_sub['age'], y=df_wais_sub[subplot_titles[8]], mode=\"markers+text\",\n",
    "            marker={'size': 10, \"color\": df_wais_sub['Type_color'] },\n",
    "            hovertext= df_wais_sub['ID_SECONDAIRE'] +\", \"+ df_wais_sub['Type']),\n",
    "            row=3, col=1)\n",
    "                                                             \n",
    "fig_wais_sub.add_trace(go.Scatter(x= df_wais_sub['age'], y=df_wais_sub[subplot_titles[9]], mode=\"markers+text\",\n",
    "            marker={'size': 10, \"color\": df_wais_sub['Type_color'] },\n",
    "            hovertext= df_wais_sub['ID_SECONDAIRE'] +\", \"+ df_wais_sub['Type']),\n",
    "            row=3, col=2)\n",
    "    \n",
    "fig_wais_sub.add_trace(go.Scatter(x= df_wais_sub['age'], y=df_wais_sub[subplot_titles[10]], mode=\"markers+text\",\n",
    "            marker={'size': 10, \"color\": df_wais_sub['Type_color'] },\n",
    "            hovertext= df_wais_sub['ID_SECONDAIRE'] +\", \"+ df_wais_sub['Type']),\n",
    "            row=4, col=1)\n",
    "    \n",
    "fig_wais_sub.add_trace(go.Scatter(x= df_wais_sub['age'], y=df_wais_sub[subplot_titles[11]], mode=\"markers+text\",\n",
    "            marker={'size': 10, \"color\": df_wais_sub['Type_color'] },\n",
    "            hovertext= df_wais_sub['ID_SECONDAIRE'] +\", \"+ df_wais_sub['Type']),\n",
    "            row=4, col=2)\n",
    "    \n",
    "fig_wais_sub.update_layout(height=1500, width=800,\n",
    "                   showlegend=False\n",
    "            )"
   ]
  },
  {
   "cell_type": "code",
   "execution_count": 43,
   "metadata": {
    "ExecuteTime": {
     "end_time": "2020-11-26T13:39:29.832544Z",
     "start_time": "2020-11-26T13:39:29.813147Z"
    }
   },
   "outputs": [],
   "source": [
    "df_wais_sub_agg = df_wais_sub.agg(['min', 'max', 'mean', 'median', 'count'])\n",
    "#\n",
    "df_wais_sub_agg.index.name = \"Aggrégation\"\n",
    "df_wais_sub_agg.reset_index(inplace=True)\n",
    "#\n",
    "df_wais_sub_agg = df_wais_sub_agg.replace({'Aggrégation' : {\"min\":\"Min\",\"max\":\"Max\",\"mean\":\"Moyenne\", \"median\":\"Médiane\", \"count\":\"Effectif\"}})"
   ]
  },
  {
   "cell_type": "code",
   "execution_count": 44,
   "metadata": {
    "ExecuteTime": {
     "end_time": "2020-11-26T13:39:30.534860Z",
     "start_time": "2020-11-26T13:39:30.531155Z"
    }
   },
   "outputs": [],
   "source": [
    "df_wais_sub_agg = df_wais_sub_agg.drop(columns= ['ID_SECONDAIRE','Type', 'Type_color', 'age' ])"
   ]
  },
  {
   "cell_type": "code",
   "execution_count": 45,
   "metadata": {
    "ExecuteTime": {
     "end_time": "2020-11-26T13:39:31.237770Z",
     "start_time": "2020-11-26T13:39:31.233299Z"
    }
   },
   "outputs": [],
   "source": [
    "df_wais_sub_agg = df_wais_sub_agg.round(2)"
   ]
  },
  {
   "cell_type": "code",
   "execution_count": 46,
   "metadata": {
    "ExecuteTime": {
     "end_time": "2020-11-26T13:39:32.480814Z",
     "start_time": "2020-11-26T13:39:32.473651Z"
    }
   },
   "outputs": [],
   "source": [
    "wais_sub =  go.Table(\n",
    "                header=dict(values=list(df_wais_sub_agg.columns[:]),\n",
    "                align='left'),\n",
    "                cells=dict(values= [df_wais_sub_agg.iloc[:,0], df_wais_sub_agg.iloc[:,1], df_wais_sub_agg.iloc[:,2], df_wais_sub_agg.iloc[:,3]\n",
    "                           , df_wais_sub_agg.iloc[:,4], df_wais_sub_agg.iloc[:,5], df_wais_sub_agg.iloc[:,6], df_wais_sub_agg.iloc[:,7]\n",
    "                           , df_wais_sub_agg.iloc[:,8]], align='left'))"
   ]
  },
  {
   "cell_type": "code",
   "execution_count": 49,
   "metadata": {
    "ExecuteTime": {
     "end_time": "2020-11-26T13:39:49.677782Z",
     "start_time": "2020-11-26T13:39:49.559300Z"
    }
   },
   "outputs": [
    {
     "data": {
      "application/vnd.plotly.v1+json": {
       "config": {
        "plotlyServerURL": "https://plot.ly"
       },
       "data": [
        {
         "cells": {
          "align": "left",
          "values": [
           [
            "Min",
            "Max",
            "Effectif",
            "Moyenne",
            "Médiane"
           ],
           [
            2,
            16,
            20,
            9.25,
            9.5
           ],
           [
            2,
            12,
            19,
            7.42,
            7
           ],
           [
            5,
            15,
            17,
            9.41,
            9
           ],
           [
            16,
            40,
            17,
            27.35,
            26
           ],
           [
            72,
            120,
            17,
            94.71,
            92
           ],
           [
            3,
            91,
            17,
            38.94,
            30
           ],
           [
            67,
            113,
            17,
            88.71,
            86
           ],
           [
            80,
            125,
            17,
            100.76,
            99
           ]
          ]
         },
         "header": {
          "align": "left",
          "values": [
           "Aggrégation",
           "Note standard Cubes",
           "Note standard Matrices",
           "Note standard Puzzles visuels",
           "Total des notes standards IRP",
           "Note composite IRP",
           "Rang percentile IRP",
           "Note écart type inférieure IRP",
           "Note écart type supérieure IRP"
          ]
         },
         "type": "table"
        }
       ],
       "layout": {
        "height": 400,
        "template": {
         "data": {
          "bar": [
           {
            "error_x": {
             "color": "#2a3f5f"
            },
            "error_y": {
             "color": "#2a3f5f"
            },
            "marker": {
             "line": {
              "color": "#E5ECF6",
              "width": 0.5
             }
            },
            "type": "bar"
           }
          ],
          "barpolar": [
           {
            "marker": {
             "line": {
              "color": "#E5ECF6",
              "width": 0.5
             }
            },
            "type": "barpolar"
           }
          ],
          "carpet": [
           {
            "aaxis": {
             "endlinecolor": "#2a3f5f",
             "gridcolor": "white",
             "linecolor": "white",
             "minorgridcolor": "white",
             "startlinecolor": "#2a3f5f"
            },
            "baxis": {
             "endlinecolor": "#2a3f5f",
             "gridcolor": "white",
             "linecolor": "white",
             "minorgridcolor": "white",
             "startlinecolor": "#2a3f5f"
            },
            "type": "carpet"
           }
          ],
          "choropleth": [
           {
            "colorbar": {
             "outlinewidth": 0,
             "ticks": ""
            },
            "type": "choropleth"
           }
          ],
          "contour": [
           {
            "colorbar": {
             "outlinewidth": 0,
             "ticks": ""
            },
            "colorscale": [
             [
              0,
              "#0d0887"
             ],
             [
              0.1111111111111111,
              "#46039f"
             ],
             [
              0.2222222222222222,
              "#7201a8"
             ],
             [
              0.3333333333333333,
              "#9c179e"
             ],
             [
              0.4444444444444444,
              "#bd3786"
             ],
             [
              0.5555555555555556,
              "#d8576b"
             ],
             [
              0.6666666666666666,
              "#ed7953"
             ],
             [
              0.7777777777777778,
              "#fb9f3a"
             ],
             [
              0.8888888888888888,
              "#fdca26"
             ],
             [
              1,
              "#f0f921"
             ]
            ],
            "type": "contour"
           }
          ],
          "contourcarpet": [
           {
            "colorbar": {
             "outlinewidth": 0,
             "ticks": ""
            },
            "type": "contourcarpet"
           }
          ],
          "heatmap": [
           {
            "colorbar": {
             "outlinewidth": 0,
             "ticks": ""
            },
            "colorscale": [
             [
              0,
              "#0d0887"
             ],
             [
              0.1111111111111111,
              "#46039f"
             ],
             [
              0.2222222222222222,
              "#7201a8"
             ],
             [
              0.3333333333333333,
              "#9c179e"
             ],
             [
              0.4444444444444444,
              "#bd3786"
             ],
             [
              0.5555555555555556,
              "#d8576b"
             ],
             [
              0.6666666666666666,
              "#ed7953"
             ],
             [
              0.7777777777777778,
              "#fb9f3a"
             ],
             [
              0.8888888888888888,
              "#fdca26"
             ],
             [
              1,
              "#f0f921"
             ]
            ],
            "type": "heatmap"
           }
          ],
          "heatmapgl": [
           {
            "colorbar": {
             "outlinewidth": 0,
             "ticks": ""
            },
            "colorscale": [
             [
              0,
              "#0d0887"
             ],
             [
              0.1111111111111111,
              "#46039f"
             ],
             [
              0.2222222222222222,
              "#7201a8"
             ],
             [
              0.3333333333333333,
              "#9c179e"
             ],
             [
              0.4444444444444444,
              "#bd3786"
             ],
             [
              0.5555555555555556,
              "#d8576b"
             ],
             [
              0.6666666666666666,
              "#ed7953"
             ],
             [
              0.7777777777777778,
              "#fb9f3a"
             ],
             [
              0.8888888888888888,
              "#fdca26"
             ],
             [
              1,
              "#f0f921"
             ]
            ],
            "type": "heatmapgl"
           }
          ],
          "histogram": [
           {
            "marker": {
             "colorbar": {
              "outlinewidth": 0,
              "ticks": ""
             }
            },
            "type": "histogram"
           }
          ],
          "histogram2d": [
           {
            "colorbar": {
             "outlinewidth": 0,
             "ticks": ""
            },
            "colorscale": [
             [
              0,
              "#0d0887"
             ],
             [
              0.1111111111111111,
              "#46039f"
             ],
             [
              0.2222222222222222,
              "#7201a8"
             ],
             [
              0.3333333333333333,
              "#9c179e"
             ],
             [
              0.4444444444444444,
              "#bd3786"
             ],
             [
              0.5555555555555556,
              "#d8576b"
             ],
             [
              0.6666666666666666,
              "#ed7953"
             ],
             [
              0.7777777777777778,
              "#fb9f3a"
             ],
             [
              0.8888888888888888,
              "#fdca26"
             ],
             [
              1,
              "#f0f921"
             ]
            ],
            "type": "histogram2d"
           }
          ],
          "histogram2dcontour": [
           {
            "colorbar": {
             "outlinewidth": 0,
             "ticks": ""
            },
            "colorscale": [
             [
              0,
              "#0d0887"
             ],
             [
              0.1111111111111111,
              "#46039f"
             ],
             [
              0.2222222222222222,
              "#7201a8"
             ],
             [
              0.3333333333333333,
              "#9c179e"
             ],
             [
              0.4444444444444444,
              "#bd3786"
             ],
             [
              0.5555555555555556,
              "#d8576b"
             ],
             [
              0.6666666666666666,
              "#ed7953"
             ],
             [
              0.7777777777777778,
              "#fb9f3a"
             ],
             [
              0.8888888888888888,
              "#fdca26"
             ],
             [
              1,
              "#f0f921"
             ]
            ],
            "type": "histogram2dcontour"
           }
          ],
          "mesh3d": [
           {
            "colorbar": {
             "outlinewidth": 0,
             "ticks": ""
            },
            "type": "mesh3d"
           }
          ],
          "parcoords": [
           {
            "line": {
             "colorbar": {
              "outlinewidth": 0,
              "ticks": ""
             }
            },
            "type": "parcoords"
           }
          ],
          "pie": [
           {
            "automargin": true,
            "type": "pie"
           }
          ],
          "scatter": [
           {
            "marker": {
             "colorbar": {
              "outlinewidth": 0,
              "ticks": ""
             }
            },
            "type": "scatter"
           }
          ],
          "scatter3d": [
           {
            "line": {
             "colorbar": {
              "outlinewidth": 0,
              "ticks": ""
             }
            },
            "marker": {
             "colorbar": {
              "outlinewidth": 0,
              "ticks": ""
             }
            },
            "type": "scatter3d"
           }
          ],
          "scattercarpet": [
           {
            "marker": {
             "colorbar": {
              "outlinewidth": 0,
              "ticks": ""
             }
            },
            "type": "scattercarpet"
           }
          ],
          "scattergeo": [
           {
            "marker": {
             "colorbar": {
              "outlinewidth": 0,
              "ticks": ""
             }
            },
            "type": "scattergeo"
           }
          ],
          "scattergl": [
           {
            "marker": {
             "colorbar": {
              "outlinewidth": 0,
              "ticks": ""
             }
            },
            "type": "scattergl"
           }
          ],
          "scattermapbox": [
           {
            "marker": {
             "colorbar": {
              "outlinewidth": 0,
              "ticks": ""
             }
            },
            "type": "scattermapbox"
           }
          ],
          "scatterpolar": [
           {
            "marker": {
             "colorbar": {
              "outlinewidth": 0,
              "ticks": ""
             }
            },
            "type": "scatterpolar"
           }
          ],
          "scatterpolargl": [
           {
            "marker": {
             "colorbar": {
              "outlinewidth": 0,
              "ticks": ""
             }
            },
            "type": "scatterpolargl"
           }
          ],
          "scatterternary": [
           {
            "marker": {
             "colorbar": {
              "outlinewidth": 0,
              "ticks": ""
             }
            },
            "type": "scatterternary"
           }
          ],
          "surface": [
           {
            "colorbar": {
             "outlinewidth": 0,
             "ticks": ""
            },
            "colorscale": [
             [
              0,
              "#0d0887"
             ],
             [
              0.1111111111111111,
              "#46039f"
             ],
             [
              0.2222222222222222,
              "#7201a8"
             ],
             [
              0.3333333333333333,
              "#9c179e"
             ],
             [
              0.4444444444444444,
              "#bd3786"
             ],
             [
              0.5555555555555556,
              "#d8576b"
             ],
             [
              0.6666666666666666,
              "#ed7953"
             ],
             [
              0.7777777777777778,
              "#fb9f3a"
             ],
             [
              0.8888888888888888,
              "#fdca26"
             ],
             [
              1,
              "#f0f921"
             ]
            ],
            "type": "surface"
           }
          ],
          "table": [
           {
            "cells": {
             "fill": {
              "color": "#EBF0F8"
             },
             "line": {
              "color": "white"
             }
            },
            "header": {
             "fill": {
              "color": "#C8D4E3"
             },
             "line": {
              "color": "white"
             }
            },
            "type": "table"
           }
          ]
         },
         "layout": {
          "annotationdefaults": {
           "arrowcolor": "#2a3f5f",
           "arrowhead": 0,
           "arrowwidth": 1
          },
          "coloraxis": {
           "colorbar": {
            "outlinewidth": 0,
            "ticks": ""
           }
          },
          "colorscale": {
           "diverging": [
            [
             0,
             "#8e0152"
            ],
            [
             0.1,
             "#c51b7d"
            ],
            [
             0.2,
             "#de77ae"
            ],
            [
             0.3,
             "#f1b6da"
            ],
            [
             0.4,
             "#fde0ef"
            ],
            [
             0.5,
             "#f7f7f7"
            ],
            [
             0.6,
             "#e6f5d0"
            ],
            [
             0.7,
             "#b8e186"
            ],
            [
             0.8,
             "#7fbc41"
            ],
            [
             0.9,
             "#4d9221"
            ],
            [
             1,
             "#276419"
            ]
           ],
           "sequential": [
            [
             0,
             "#0d0887"
            ],
            [
             0.1111111111111111,
             "#46039f"
            ],
            [
             0.2222222222222222,
             "#7201a8"
            ],
            [
             0.3333333333333333,
             "#9c179e"
            ],
            [
             0.4444444444444444,
             "#bd3786"
            ],
            [
             0.5555555555555556,
             "#d8576b"
            ],
            [
             0.6666666666666666,
             "#ed7953"
            ],
            [
             0.7777777777777778,
             "#fb9f3a"
            ],
            [
             0.8888888888888888,
             "#fdca26"
            ],
            [
             1,
             "#f0f921"
            ]
           ],
           "sequentialminus": [
            [
             0,
             "#0d0887"
            ],
            [
             0.1111111111111111,
             "#46039f"
            ],
            [
             0.2222222222222222,
             "#7201a8"
            ],
            [
             0.3333333333333333,
             "#9c179e"
            ],
            [
             0.4444444444444444,
             "#bd3786"
            ],
            [
             0.5555555555555556,
             "#d8576b"
            ],
            [
             0.6666666666666666,
             "#ed7953"
            ],
            [
             0.7777777777777778,
             "#fb9f3a"
            ],
            [
             0.8888888888888888,
             "#fdca26"
            ],
            [
             1,
             "#f0f921"
            ]
           ]
          },
          "colorway": [
           "#636efa",
           "#EF553B",
           "#00cc96",
           "#ab63fa",
           "#FFA15A",
           "#19d3f3",
           "#FF6692",
           "#B6E880",
           "#FF97FF",
           "#FECB52"
          ],
          "font": {
           "color": "#2a3f5f"
          },
          "geo": {
           "bgcolor": "white",
           "lakecolor": "white",
           "landcolor": "#E5ECF6",
           "showlakes": true,
           "showland": true,
           "subunitcolor": "white"
          },
          "hoverlabel": {
           "align": "left"
          },
          "hovermode": "closest",
          "mapbox": {
           "style": "light"
          },
          "paper_bgcolor": "white",
          "plot_bgcolor": "#E5ECF6",
          "polar": {
           "angularaxis": {
            "gridcolor": "white",
            "linecolor": "white",
            "ticks": ""
           },
           "bgcolor": "#E5ECF6",
           "radialaxis": {
            "gridcolor": "white",
            "linecolor": "white",
            "ticks": ""
           }
          },
          "scene": {
           "xaxis": {
            "backgroundcolor": "#E5ECF6",
            "gridcolor": "white",
            "gridwidth": 2,
            "linecolor": "white",
            "showbackground": true,
            "ticks": "",
            "zerolinecolor": "white"
           },
           "yaxis": {
            "backgroundcolor": "#E5ECF6",
            "gridcolor": "white",
            "gridwidth": 2,
            "linecolor": "white",
            "showbackground": true,
            "ticks": "",
            "zerolinecolor": "white"
           },
           "zaxis": {
            "backgroundcolor": "#E5ECF6",
            "gridcolor": "white",
            "gridwidth": 2,
            "linecolor": "white",
            "showbackground": true,
            "ticks": "",
            "zerolinecolor": "white"
           }
          },
          "shapedefaults": {
           "line": {
            "color": "#2a3f5f"
           }
          },
          "ternary": {
           "aaxis": {
            "gridcolor": "white",
            "linecolor": "white",
            "ticks": ""
           },
           "baxis": {
            "gridcolor": "white",
            "linecolor": "white",
            "ticks": ""
           },
           "bgcolor": "#E5ECF6",
           "caxis": {
            "gridcolor": "white",
            "linecolor": "white",
            "ticks": ""
           }
          },
          "title": {
           "x": 0.05
          },
          "xaxis": {
           "automargin": true,
           "gridcolor": "white",
           "linecolor": "white",
           "ticks": "",
           "title": {
            "standoff": 15
           },
           "zerolinecolor": "white",
           "zerolinewidth": 2
          },
          "yaxis": {
           "automargin": true,
           "gridcolor": "white",
           "linecolor": "white",
           "ticks": "",
           "title": {
            "standoff": 15
           },
           "zerolinecolor": "white",
           "zerolinewidth": 2
          }
         }
        },
        "width": 1000
       }
      },
      "text/html": [
       "<div>\n",
       "        \n",
       "        \n",
       "            <div id=\"cb56fe8f-9809-4d9d-acd7-933e15f56f1f\" class=\"plotly-graph-div\" style=\"height:400px; width:1000px;\"></div>\n",
       "            <script type=\"text/javascript\">\n",
       "                require([\"plotly\"], function(Plotly) {\n",
       "                    window.PLOTLYENV=window.PLOTLYENV || {};\n",
       "                    \n",
       "                if (document.getElementById(\"cb56fe8f-9809-4d9d-acd7-933e15f56f1f\")) {\n",
       "                    Plotly.newPlot(\n",
       "                        'cb56fe8f-9809-4d9d-acd7-933e15f56f1f',\n",
       "                        [{\"cells\": {\"align\": \"left\", \"values\": [[\"Min\", \"Max\", \"Effectif\", \"Moyenne\", \"M\\u00e9diane\"], [2.0, 16.0, 20.0, 9.25, 9.5], [2.0, 12.0, 19.0, 7.42, 7.0], [5.0, 15.0, 17.0, 9.41, 9.0], [16.0, 40.0, 17.0, 27.35, 26.0], [72.0, 120.0, 17.0, 94.71, 92.0], [3.0, 91.0, 17.0, 38.94, 30.0], [67.0, 113.0, 17.0, 88.71, 86.0], [80.0, 125.0, 17.0, 100.76, 99.0]]}, \"header\": {\"align\": \"left\", \"values\": [\"Aggr\\u00e9gation\", \"Note standard Cubes\", \"Note standard Matrices\", \"Note standard Puzzles visuels\", \"Total des notes standards IRP\", \"Note composite IRP\", \"Rang percentile IRP\", \"Note \\u00e9cart type inf\\u00e9rieure IRP\", \"Note \\u00e9cart type sup\\u00e9rieure IRP\"]}, \"type\": \"table\"}],\n",
       "                        {\"height\": 400, \"template\": {\"data\": {\"bar\": [{\"error_x\": {\"color\": \"#2a3f5f\"}, \"error_y\": {\"color\": \"#2a3f5f\"}, \"marker\": {\"line\": {\"color\": \"#E5ECF6\", \"width\": 0.5}}, \"type\": \"bar\"}], \"barpolar\": [{\"marker\": {\"line\": {\"color\": \"#E5ECF6\", \"width\": 0.5}}, \"type\": \"barpolar\"}], \"carpet\": [{\"aaxis\": {\"endlinecolor\": \"#2a3f5f\", \"gridcolor\": \"white\", \"linecolor\": \"white\", \"minorgridcolor\": \"white\", \"startlinecolor\": \"#2a3f5f\"}, \"baxis\": {\"endlinecolor\": \"#2a3f5f\", \"gridcolor\": \"white\", \"linecolor\": \"white\", \"minorgridcolor\": \"white\", \"startlinecolor\": \"#2a3f5f\"}, \"type\": \"carpet\"}], \"choropleth\": [{\"colorbar\": {\"outlinewidth\": 0, \"ticks\": \"\"}, \"type\": \"choropleth\"}], \"contour\": [{\"colorbar\": {\"outlinewidth\": 0, \"ticks\": \"\"}, \"colorscale\": [[0.0, \"#0d0887\"], [0.1111111111111111, \"#46039f\"], [0.2222222222222222, \"#7201a8\"], [0.3333333333333333, \"#9c179e\"], [0.4444444444444444, \"#bd3786\"], [0.5555555555555556, \"#d8576b\"], [0.6666666666666666, \"#ed7953\"], [0.7777777777777778, \"#fb9f3a\"], [0.8888888888888888, \"#fdca26\"], [1.0, \"#f0f921\"]], \"type\": \"contour\"}], \"contourcarpet\": [{\"colorbar\": {\"outlinewidth\": 0, \"ticks\": \"\"}, \"type\": \"contourcarpet\"}], \"heatmap\": [{\"colorbar\": {\"outlinewidth\": 0, \"ticks\": \"\"}, \"colorscale\": [[0.0, \"#0d0887\"], [0.1111111111111111, \"#46039f\"], [0.2222222222222222, \"#7201a8\"], [0.3333333333333333, \"#9c179e\"], [0.4444444444444444, \"#bd3786\"], [0.5555555555555556, \"#d8576b\"], [0.6666666666666666, \"#ed7953\"], [0.7777777777777778, \"#fb9f3a\"], [0.8888888888888888, \"#fdca26\"], [1.0, \"#f0f921\"]], \"type\": \"heatmap\"}], \"heatmapgl\": [{\"colorbar\": {\"outlinewidth\": 0, \"ticks\": \"\"}, \"colorscale\": [[0.0, \"#0d0887\"], [0.1111111111111111, \"#46039f\"], [0.2222222222222222, \"#7201a8\"], [0.3333333333333333, \"#9c179e\"], [0.4444444444444444, \"#bd3786\"], [0.5555555555555556, \"#d8576b\"], [0.6666666666666666, \"#ed7953\"], [0.7777777777777778, \"#fb9f3a\"], [0.8888888888888888, \"#fdca26\"], [1.0, \"#f0f921\"]], \"type\": \"heatmapgl\"}], \"histogram\": [{\"marker\": {\"colorbar\": {\"outlinewidth\": 0, \"ticks\": \"\"}}, \"type\": \"histogram\"}], \"histogram2d\": [{\"colorbar\": {\"outlinewidth\": 0, \"ticks\": \"\"}, \"colorscale\": [[0.0, \"#0d0887\"], [0.1111111111111111, \"#46039f\"], [0.2222222222222222, \"#7201a8\"], [0.3333333333333333, \"#9c179e\"], [0.4444444444444444, \"#bd3786\"], [0.5555555555555556, \"#d8576b\"], [0.6666666666666666, \"#ed7953\"], [0.7777777777777778, \"#fb9f3a\"], [0.8888888888888888, \"#fdca26\"], [1.0, \"#f0f921\"]], \"type\": \"histogram2d\"}], \"histogram2dcontour\": [{\"colorbar\": {\"outlinewidth\": 0, \"ticks\": \"\"}, \"colorscale\": [[0.0, \"#0d0887\"], [0.1111111111111111, \"#46039f\"], [0.2222222222222222, \"#7201a8\"], [0.3333333333333333, \"#9c179e\"], [0.4444444444444444, \"#bd3786\"], [0.5555555555555556, \"#d8576b\"], [0.6666666666666666, \"#ed7953\"], [0.7777777777777778, \"#fb9f3a\"], [0.8888888888888888, \"#fdca26\"], [1.0, \"#f0f921\"]], \"type\": \"histogram2dcontour\"}], \"mesh3d\": [{\"colorbar\": {\"outlinewidth\": 0, \"ticks\": \"\"}, \"type\": \"mesh3d\"}], \"parcoords\": [{\"line\": {\"colorbar\": {\"outlinewidth\": 0, \"ticks\": \"\"}}, \"type\": \"parcoords\"}], \"pie\": [{\"automargin\": true, \"type\": \"pie\"}], \"scatter\": [{\"marker\": {\"colorbar\": {\"outlinewidth\": 0, \"ticks\": \"\"}}, \"type\": \"scatter\"}], \"scatter3d\": [{\"line\": {\"colorbar\": {\"outlinewidth\": 0, \"ticks\": \"\"}}, \"marker\": {\"colorbar\": {\"outlinewidth\": 0, \"ticks\": \"\"}}, \"type\": \"scatter3d\"}], \"scattercarpet\": [{\"marker\": {\"colorbar\": {\"outlinewidth\": 0, \"ticks\": \"\"}}, \"type\": \"scattercarpet\"}], \"scattergeo\": [{\"marker\": {\"colorbar\": {\"outlinewidth\": 0, \"ticks\": \"\"}}, \"type\": \"scattergeo\"}], \"scattergl\": [{\"marker\": {\"colorbar\": {\"outlinewidth\": 0, \"ticks\": \"\"}}, \"type\": \"scattergl\"}], \"scattermapbox\": [{\"marker\": {\"colorbar\": {\"outlinewidth\": 0, \"ticks\": \"\"}}, \"type\": \"scattermapbox\"}], \"scatterpolar\": [{\"marker\": {\"colorbar\": {\"outlinewidth\": 0, \"ticks\": \"\"}}, \"type\": \"scatterpolar\"}], \"scatterpolargl\": [{\"marker\": {\"colorbar\": {\"outlinewidth\": 0, \"ticks\": \"\"}}, \"type\": \"scatterpolargl\"}], \"scatterternary\": [{\"marker\": {\"colorbar\": {\"outlinewidth\": 0, \"ticks\": \"\"}}, \"type\": \"scatterternary\"}], \"surface\": [{\"colorbar\": {\"outlinewidth\": 0, \"ticks\": \"\"}, \"colorscale\": [[0.0, \"#0d0887\"], [0.1111111111111111, \"#46039f\"], [0.2222222222222222, \"#7201a8\"], [0.3333333333333333, \"#9c179e\"], [0.4444444444444444, \"#bd3786\"], [0.5555555555555556, \"#d8576b\"], [0.6666666666666666, \"#ed7953\"], [0.7777777777777778, \"#fb9f3a\"], [0.8888888888888888, \"#fdca26\"], [1.0, \"#f0f921\"]], \"type\": \"surface\"}], \"table\": [{\"cells\": {\"fill\": {\"color\": \"#EBF0F8\"}, \"line\": {\"color\": \"white\"}}, \"header\": {\"fill\": {\"color\": \"#C8D4E3\"}, \"line\": {\"color\": \"white\"}}, \"type\": \"table\"}]}, \"layout\": {\"annotationdefaults\": {\"arrowcolor\": \"#2a3f5f\", \"arrowhead\": 0, \"arrowwidth\": 1}, \"coloraxis\": {\"colorbar\": {\"outlinewidth\": 0, \"ticks\": \"\"}}, \"colorscale\": {\"diverging\": [[0, \"#8e0152\"], [0.1, \"#c51b7d\"], [0.2, \"#de77ae\"], [0.3, \"#f1b6da\"], [0.4, \"#fde0ef\"], [0.5, \"#f7f7f7\"], [0.6, \"#e6f5d0\"], [0.7, \"#b8e186\"], [0.8, \"#7fbc41\"], [0.9, \"#4d9221\"], [1, \"#276419\"]], \"sequential\": [[0.0, \"#0d0887\"], [0.1111111111111111, \"#46039f\"], [0.2222222222222222, \"#7201a8\"], [0.3333333333333333, \"#9c179e\"], [0.4444444444444444, \"#bd3786\"], [0.5555555555555556, \"#d8576b\"], [0.6666666666666666, \"#ed7953\"], [0.7777777777777778, \"#fb9f3a\"], [0.8888888888888888, \"#fdca26\"], [1.0, \"#f0f921\"]], \"sequentialminus\": [[0.0, \"#0d0887\"], [0.1111111111111111, \"#46039f\"], [0.2222222222222222, \"#7201a8\"], [0.3333333333333333, \"#9c179e\"], [0.4444444444444444, \"#bd3786\"], [0.5555555555555556, \"#d8576b\"], [0.6666666666666666, \"#ed7953\"], [0.7777777777777778, \"#fb9f3a\"], [0.8888888888888888, \"#fdca26\"], [1.0, \"#f0f921\"]]}, \"colorway\": [\"#636efa\", \"#EF553B\", \"#00cc96\", \"#ab63fa\", \"#FFA15A\", \"#19d3f3\", \"#FF6692\", \"#B6E880\", \"#FF97FF\", \"#FECB52\"], \"font\": {\"color\": \"#2a3f5f\"}, \"geo\": {\"bgcolor\": \"white\", \"lakecolor\": \"white\", \"landcolor\": \"#E5ECF6\", \"showlakes\": true, \"showland\": true, \"subunitcolor\": \"white\"}, \"hoverlabel\": {\"align\": \"left\"}, \"hovermode\": \"closest\", \"mapbox\": {\"style\": \"light\"}, \"paper_bgcolor\": \"white\", \"plot_bgcolor\": \"#E5ECF6\", \"polar\": {\"angularaxis\": {\"gridcolor\": \"white\", \"linecolor\": \"white\", \"ticks\": \"\"}, \"bgcolor\": \"#E5ECF6\", \"radialaxis\": {\"gridcolor\": \"white\", \"linecolor\": \"white\", \"ticks\": \"\"}}, \"scene\": {\"xaxis\": {\"backgroundcolor\": \"#E5ECF6\", \"gridcolor\": \"white\", \"gridwidth\": 2, \"linecolor\": \"white\", \"showbackground\": true, \"ticks\": \"\", \"zerolinecolor\": \"white\"}, \"yaxis\": {\"backgroundcolor\": \"#E5ECF6\", \"gridcolor\": \"white\", \"gridwidth\": 2, \"linecolor\": \"white\", \"showbackground\": true, \"ticks\": \"\", \"zerolinecolor\": \"white\"}, \"zaxis\": {\"backgroundcolor\": \"#E5ECF6\", \"gridcolor\": \"white\", \"gridwidth\": 2, \"linecolor\": \"white\", \"showbackground\": true, \"ticks\": \"\", \"zerolinecolor\": \"white\"}}, \"shapedefaults\": {\"line\": {\"color\": \"#2a3f5f\"}}, \"ternary\": {\"aaxis\": {\"gridcolor\": \"white\", \"linecolor\": \"white\", \"ticks\": \"\"}, \"baxis\": {\"gridcolor\": \"white\", \"linecolor\": \"white\", \"ticks\": \"\"}, \"bgcolor\": \"#E5ECF6\", \"caxis\": {\"gridcolor\": \"white\", \"linecolor\": \"white\", \"ticks\": \"\"}}, \"title\": {\"x\": 0.05}, \"xaxis\": {\"automargin\": true, \"gridcolor\": \"white\", \"linecolor\": \"white\", \"ticks\": \"\", \"title\": {\"standoff\": 15}, \"zerolinecolor\": \"white\", \"zerolinewidth\": 2}, \"yaxis\": {\"automargin\": true, \"gridcolor\": \"white\", \"linecolor\": \"white\", \"ticks\": \"\", \"title\": {\"standoff\": 15}, \"zerolinecolor\": \"white\", \"zerolinewidth\": 2}}}, \"width\": 1000},\n",
       "                        {\"responsive\": true}\n",
       "                    ).then(function(){\n",
       "                            \n",
       "var gd = document.getElementById('cb56fe8f-9809-4d9d-acd7-933e15f56f1f');\n",
       "var x = new MutationObserver(function (mutations, observer) {{\n",
       "        var display = window.getComputedStyle(gd).display;\n",
       "        if (!display || display === 'none') {{\n",
       "            console.log([gd, 'removed!']);\n",
       "            Plotly.purge(gd);\n",
       "            observer.disconnect();\n",
       "        }}\n",
       "}});\n",
       "\n",
       "// Listen for the removal of the full notebook cells\n",
       "var notebookContainer = gd.closest('#notebook-container');\n",
       "if (notebookContainer) {{\n",
       "    x.observe(notebookContainer, {childList: true});\n",
       "}}\n",
       "\n",
       "// Listen for the clearing of the current output cell\n",
       "var outputEl = gd.closest('.output');\n",
       "if (outputEl) {{\n",
       "    x.observe(outputEl, {childList: true});\n",
       "}}\n",
       "\n",
       "                        })\n",
       "                };\n",
       "                });\n",
       "            </script>\n",
       "        </div>"
      ]
     },
     "metadata": {},
     "output_type": "display_data"
    }
   ],
   "source": [
    "fig = go.Figure(data=wais_sub)\n",
    "fig.update_layout(width=1000, height=400)\n",
    "fig.show()"
   ]
  },
  {
   "cell_type": "code",
   "execution_count": 50,
   "metadata": {
    "ExecuteTime": {
     "end_time": "2020-11-26T13:39:55.754626Z",
     "start_time": "2020-11-26T13:39:55.750828Z"
    }
   },
   "outputs": [
    {
     "data": {
      "text/html": [
       "<h5>2.1. WAIS IMT</h5>"
      ],
      "text/plain": [
       "<IPython.core.display.HTML object>"
      ]
     },
     "metadata": {},
     "output_type": "display_data"
    }
   ],
   "source": [
    "display(HTML('<h5>2.1. WAIS IMT</h5>'))"
   ]
  },
  {
   "cell_type": "code",
   "execution_count": 51,
   "metadata": {
    "ExecuteTime": {
     "end_time": "2020-11-26T13:39:56.834285Z",
     "start_time": "2020-11-26T13:39:56.830527Z"
    }
   },
   "outputs": [],
   "source": [
    "age_moy = df_wais[df_wais['Total des notes standards IMT'].notna()]['age'].mean()"
   ]
  },
  {
   "cell_type": "code",
   "execution_count": 52,
   "metadata": {
    "ExecuteTime": {
     "end_time": "2020-11-26T13:39:57.744568Z",
     "start_time": "2020-11-26T13:39:57.741026Z"
    }
   },
   "outputs": [
    {
     "data": {
      "text/html": [
       "<p>Moyenne d'âge : 29.25</p>"
      ],
      "text/plain": [
       "<IPython.core.display.HTML object>"
      ]
     },
     "metadata": {},
     "output_type": "display_data"
    }
   ],
   "source": [
    "display(HTML(\"<p>Moyenne d'âge : \"+str(round(age_moy,2))+\"</p>\"))"
   ]
  },
  {
   "cell_type": "code",
   "execution_count": 53,
   "metadata": {
    "ExecuteTime": {
     "end_time": "2020-11-26T13:39:58.981363Z",
     "start_time": "2020-11-26T13:39:58.977754Z"
    }
   },
   "outputs": [],
   "source": [
    "df_wais_sub= df_wais.iloc[:,[0,1,2,-1,22, 23, 24, 25, 26, 27, 28]]"
   ]
  },
  {
   "cell_type": "code",
   "execution_count": 54,
   "metadata": {
    "ExecuteTime": {
     "end_time": "2020-11-26T13:40:00.091669Z",
     "start_time": "2020-11-26T13:40:00.089204Z"
    }
   },
   "outputs": [],
   "source": [
    "subplot_titles = df_wais_sub.columns.values.tolist()"
   ]
  },
  {
   "cell_type": "code",
   "execution_count": 55,
   "metadata": {
    "ExecuteTime": {
     "end_time": "2020-11-26T13:40:01.043459Z",
     "start_time": "2020-11-26T13:40:00.744768Z"
    }
   },
   "outputs": [],
   "source": [
    "fig_wais_sub = make_subplots(\n",
    "    rows=4, cols=2,\n",
    "    shared_xaxes=False,\n",
    "    row_heights=[0.20, 0.20, 0.20, 0.20],\n",
    "    column_widths=[0.5, 0.5],\n",
    "    subplot_titles= subplot_titles[4:],\n",
    "    x_title='Âge',\n",
    "    y_title='Score',\n",
    "    vertical_spacing= 0.04 )\n",
    "df_wais_sub = df_wais_sub.sort_values(by=['age'])"
   ]
  },
  {
   "cell_type": "code",
   "execution_count": 56,
   "metadata": {
    "ExecuteTime": {
     "end_time": "2020-11-26T13:40:01.708384Z",
     "start_time": "2020-11-26T13:40:01.627932Z"
    }
   },
   "outputs": [
    {
     "data": {
      "application/vnd.plotly.v1+json": {
       "config": {
        "plotlyServerURL": "https://plot.ly"
       },
       "data": [
        {
         "hovertext": [
          "EF 2E 22 E0 EA, Type 1",
          "B6 A4 CD 3A 81, Type 1",
          "C2 C3 05 A8 4B, Type 1",
          "39 CA BD 3C 82, Type 1",
          "7B DE 78 5B F6, Type 1",
          "9B 8E 44 F8 FF, Type 1",
          "35 86 13 56 24, Type 1",
          "73 EC 1B D7 9B, Type 1",
          "7D 76 3D FC 91, Type 1",
          "AB A5 ED 43 8B, Type 1",
          "01 83 17 5E 89, Type 1",
          "B9 5D 22 14 86, Type 1",
          "A1 54 32 B1 53, Type 1",
          "FD 11 B7 CF 8F, Type 1",
          "DB 6B 59 3A 0C, Type 1",
          "F1 C2 1C 3A FC, Type 1",
          "98 2C 1A AA 87, Type 1",
          "A2 D7 D0 A4 2A, Type 1",
          "02 92 7B FF E6, Type 1",
          "06 25 B6 B7 F5, Type 1"
         ],
         "marker": {
          "color": [
           "#33ffc9",
           "#33ffc9",
           "#33ffc9",
           "#33ffc9",
           "#33ffc9",
           "#33ffc9",
           "#33ffc9",
           "#33ffc9",
           "#33ffc9",
           "#33ffc9",
           "#33ffc9",
           "#33ffc9",
           "#33ffc9",
           "#33ffc9",
           "#33ffc9",
           "#33ffc9",
           "#33ffc9",
           "#33ffc9",
           "#33ffc9",
           "#33ffc9"
          ],
          "size": 10
         },
         "mode": "markers+text",
         "type": "scatter",
         "x": [
          19,
          19,
          20,
          22,
          23,
          25,
          27,
          28,
          29,
          29,
          31,
          32,
          32,
          33,
          34,
          34,
          36,
          37,
          41,
          44
         ],
         "xaxis": "x",
         "y": [
          2,
          3,
          4,
          5,
          11,
          4,
          1,
          null,
          4,
          7,
          null,
          5,
          4,
          7,
          2,
          5,
          7,
          4,
          null,
          7
         ],
         "yaxis": "y"
        },
        {
         "hovertext": [
          "EF 2E 22 E0 EA, Type 1",
          "B6 A4 CD 3A 81, Type 1",
          "C2 C3 05 A8 4B, Type 1",
          "39 CA BD 3C 82, Type 1",
          "7B DE 78 5B F6, Type 1",
          "9B 8E 44 F8 FF, Type 1",
          "35 86 13 56 24, Type 1",
          "73 EC 1B D7 9B, Type 1",
          "7D 76 3D FC 91, Type 1",
          "AB A5 ED 43 8B, Type 1",
          "01 83 17 5E 89, Type 1",
          "B9 5D 22 14 86, Type 1",
          "A1 54 32 B1 53, Type 1",
          "FD 11 B7 CF 8F, Type 1",
          "DB 6B 59 3A 0C, Type 1",
          "F1 C2 1C 3A FC, Type 1",
          "98 2C 1A AA 87, Type 1",
          "A2 D7 D0 A4 2A, Type 1",
          "02 92 7B FF E6, Type 1",
          "06 25 B6 B7 F5, Type 1"
         ],
         "marker": {
          "color": [
           "#33ffc9",
           "#33ffc9",
           "#33ffc9",
           "#33ffc9",
           "#33ffc9",
           "#33ffc9",
           "#33ffc9",
           "#33ffc9",
           "#33ffc9",
           "#33ffc9",
           "#33ffc9",
           "#33ffc9",
           "#33ffc9",
           "#33ffc9",
           "#33ffc9",
           "#33ffc9",
           "#33ffc9",
           "#33ffc9",
           "#33ffc9",
           "#33ffc9"
          ],
          "size": 10
         },
         "mode": "markers+text",
         "type": "scatter",
         "x": [
          19,
          19,
          20,
          22,
          23,
          25,
          27,
          28,
          29,
          29,
          31,
          32,
          32,
          33,
          34,
          34,
          36,
          37,
          41,
          44
         ],
         "xaxis": "x2",
         "y": [
          3,
          3,
          9,
          7,
          10,
          3,
          null,
          5,
          3,
          11,
          null,
          5,
          3,
          14,
          1,
          9,
          3,
          4,
          null,
          7
         ],
         "yaxis": "y2"
        },
        {
         "hovertext": [
          "EF 2E 22 E0 EA, Type 1",
          "B6 A4 CD 3A 81, Type 1",
          "C2 C3 05 A8 4B, Type 1",
          "39 CA BD 3C 82, Type 1",
          "7B DE 78 5B F6, Type 1",
          "9B 8E 44 F8 FF, Type 1",
          "35 86 13 56 24, Type 1",
          "73 EC 1B D7 9B, Type 1",
          "7D 76 3D FC 91, Type 1",
          "AB A5 ED 43 8B, Type 1",
          "01 83 17 5E 89, Type 1",
          "B9 5D 22 14 86, Type 1",
          "A1 54 32 B1 53, Type 1",
          "FD 11 B7 CF 8F, Type 1",
          "DB 6B 59 3A 0C, Type 1",
          "F1 C2 1C 3A FC, Type 1",
          "98 2C 1A AA 87, Type 1",
          "A2 D7 D0 A4 2A, Type 1",
          "02 92 7B FF E6, Type 1",
          "06 25 B6 B7 F5, Type 1"
         ],
         "marker": {
          "color": [
           "#33ffc9",
           "#33ffc9",
           "#33ffc9",
           "#33ffc9",
           "#33ffc9",
           "#33ffc9",
           "#33ffc9",
           "#33ffc9",
           "#33ffc9",
           "#33ffc9",
           "#33ffc9",
           "#33ffc9",
           "#33ffc9",
           "#33ffc9",
           "#33ffc9",
           "#33ffc9",
           "#33ffc9",
           "#33ffc9",
           "#33ffc9",
           "#33ffc9"
          ],
          "size": 10
         },
         "mode": "markers+text",
         "type": "scatter",
         "x": [
          19,
          19,
          20,
          22,
          23,
          25,
          27,
          28,
          29,
          29,
          31,
          32,
          32,
          33,
          34,
          34,
          36,
          37,
          41,
          44
         ],
         "xaxis": "x3",
         "y": [
          5,
          6,
          13,
          12,
          21,
          7,
          null,
          null,
          7,
          18,
          null,
          10,
          7,
          21,
          3,
          14,
          10,
          8,
          null,
          14
         ],
         "yaxis": "y3"
        },
        {
         "hovertext": [
          "EF 2E 22 E0 EA, Type 1",
          "B6 A4 CD 3A 81, Type 1",
          "C2 C3 05 A8 4B, Type 1",
          "39 CA BD 3C 82, Type 1",
          "7B DE 78 5B F6, Type 1",
          "9B 8E 44 F8 FF, Type 1",
          "35 86 13 56 24, Type 1",
          "73 EC 1B D7 9B, Type 1",
          "7D 76 3D FC 91, Type 1",
          "AB A5 ED 43 8B, Type 1",
          "01 83 17 5E 89, Type 1",
          "B9 5D 22 14 86, Type 1",
          "A1 54 32 B1 53, Type 1",
          "FD 11 B7 CF 8F, Type 1",
          "DB 6B 59 3A 0C, Type 1",
          "F1 C2 1C 3A FC, Type 1",
          "98 2C 1A AA 87, Type 1",
          "A2 D7 D0 A4 2A, Type 1",
          "02 92 7B FF E6, Type 1",
          "06 25 B6 B7 F5, Type 1"
         ],
         "marker": {
          "color": [
           "#33ffc9",
           "#33ffc9",
           "#33ffc9",
           "#33ffc9",
           "#33ffc9",
           "#33ffc9",
           "#33ffc9",
           "#33ffc9",
           "#33ffc9",
           "#33ffc9",
           "#33ffc9",
           "#33ffc9",
           "#33ffc9",
           "#33ffc9",
           "#33ffc9",
           "#33ffc9",
           "#33ffc9",
           "#33ffc9",
           "#33ffc9",
           "#33ffc9"
          ],
          "size": 10
         },
         "mode": "markers+text",
         "type": "scatter",
         "x": [
          19,
          19,
          20,
          22,
          23,
          25,
          27,
          28,
          29,
          29,
          31,
          32,
          32,
          33,
          34,
          34,
          36,
          37,
          41,
          44
         ],
         "xaxis": "x4",
         "y": [
          58,
          61,
          80,
          77,
          103,
          63,
          null,
          null,
          63,
          94,
          null,
          71,
          63,
          103,
          52,
          83,
          71,
          66,
          null,
          83
         ],
         "yaxis": "y4"
        },
        {
         "hovertext": [
          "EF 2E 22 E0 EA, Type 1",
          "B6 A4 CD 3A 81, Type 1",
          "C2 C3 05 A8 4B, Type 1",
          "39 CA BD 3C 82, Type 1",
          "7B DE 78 5B F6, Type 1",
          "9B 8E 44 F8 FF, Type 1",
          "35 86 13 56 24, Type 1",
          "73 EC 1B D7 9B, Type 1",
          "7D 76 3D FC 91, Type 1",
          "AB A5 ED 43 8B, Type 1",
          "01 83 17 5E 89, Type 1",
          "B9 5D 22 14 86, Type 1",
          "A1 54 32 B1 53, Type 1",
          "FD 11 B7 CF 8F, Type 1",
          "DB 6B 59 3A 0C, Type 1",
          "F1 C2 1C 3A FC, Type 1",
          "98 2C 1A AA 87, Type 1",
          "A2 D7 D0 A4 2A, Type 1",
          "02 92 7B FF E6, Type 1",
          "06 25 B6 B7 F5, Type 1"
         ],
         "marker": {
          "color": [
           "#33ffc9",
           "#33ffc9",
           "#33ffc9",
           "#33ffc9",
           "#33ffc9",
           "#33ffc9",
           "#33ffc9",
           "#33ffc9",
           "#33ffc9",
           "#33ffc9",
           "#33ffc9",
           "#33ffc9",
           "#33ffc9",
           "#33ffc9",
           "#33ffc9",
           "#33ffc9",
           "#33ffc9",
           "#33ffc9",
           "#33ffc9",
           "#33ffc9"
          ],
          "size": 10
         },
         "mode": "markers+text",
         "type": "scatter",
         "x": [
          19,
          19,
          20,
          22,
          23,
          25,
          27,
          28,
          29,
          29,
          31,
          32,
          32,
          33,
          34,
          34,
          36,
          37,
          41,
          44
         ],
         "xaxis": "x5",
         "y": [
          0,
          0,
          9,
          6,
          58,
          1,
          null,
          null,
          1,
          34,
          null,
          3,
          1,
          58,
          1,
          13,
          3,
          1,
          null,
          13
         ],
         "yaxis": "y5"
        },
        {
         "hovertext": [
          "EF 2E 22 E0 EA, Type 1",
          "B6 A4 CD 3A 81, Type 1",
          "C2 C3 05 A8 4B, Type 1",
          "39 CA BD 3C 82, Type 1",
          "7B DE 78 5B F6, Type 1",
          "9B 8E 44 F8 FF, Type 1",
          "35 86 13 56 24, Type 1",
          "73 EC 1B D7 9B, Type 1",
          "7D 76 3D FC 91, Type 1",
          "AB A5 ED 43 8B, Type 1",
          "01 83 17 5E 89, Type 1",
          "B9 5D 22 14 86, Type 1",
          "A1 54 32 B1 53, Type 1",
          "FD 11 B7 CF 8F, Type 1",
          "DB 6B 59 3A 0C, Type 1",
          "F1 C2 1C 3A FC, Type 1",
          "98 2C 1A AA 87, Type 1",
          "A2 D7 D0 A4 2A, Type 1",
          "02 92 7B FF E6, Type 1",
          "06 25 B6 B7 F5, Type 1"
         ],
         "marker": {
          "color": [
           "#33ffc9",
           "#33ffc9",
           "#33ffc9",
           "#33ffc9",
           "#33ffc9",
           "#33ffc9",
           "#33ffc9",
           "#33ffc9",
           "#33ffc9",
           "#33ffc9",
           "#33ffc9",
           "#33ffc9",
           "#33ffc9",
           "#33ffc9",
           "#33ffc9",
           "#33ffc9",
           "#33ffc9",
           "#33ffc9",
           "#33ffc9",
           "#33ffc9"
          ],
          "size": 10
         },
         "mode": "markers+text",
         "type": "scatter",
         "x": [
          19,
          19,
          20,
          22,
          23,
          25,
          27,
          28,
          29,
          29,
          31,
          32,
          32,
          33,
          34,
          34,
          36,
          37,
          41,
          44
         ],
         "xaxis": "x6",
         "y": [
          54,
          57,
          74,
          71,
          96,
          58,
          null,
          null,
          58,
          87,
          null,
          66,
          58,
          96,
          48,
          77,
          66,
          61,
          null,
          77
         ],
         "yaxis": "y6"
        },
        {
         "hovertext": [
          "EF 2E 22 E0 EA, Type 1",
          "B6 A4 CD 3A 81, Type 1",
          "C2 C3 05 A8 4B, Type 1",
          "39 CA BD 3C 82, Type 1",
          "7B DE 78 5B F6, Type 1",
          "9B 8E 44 F8 FF, Type 1",
          "35 86 13 56 24, Type 1",
          "73 EC 1B D7 9B, Type 1",
          "7D 76 3D FC 91, Type 1",
          "AB A5 ED 43 8B, Type 1",
          "01 83 17 5E 89, Type 1",
          "B9 5D 22 14 86, Type 1",
          "A1 54 32 B1 53, Type 1",
          "FD 11 B7 CF 8F, Type 1",
          "DB 6B 59 3A 0C, Type 1",
          "F1 C2 1C 3A FC, Type 1",
          "98 2C 1A AA 87, Type 1",
          "A2 D7 D0 A4 2A, Type 1",
          "02 92 7B FF E6, Type 1",
          "06 25 B6 B7 F5, Type 1"
         ],
         "marker": {
          "color": [
           "#33ffc9",
           "#33ffc9",
           "#33ffc9",
           "#33ffc9",
           "#33ffc9",
           "#33ffc9",
           "#33ffc9",
           "#33ffc9",
           "#33ffc9",
           "#33ffc9",
           "#33ffc9",
           "#33ffc9",
           "#33ffc9",
           "#33ffc9",
           "#33ffc9",
           "#33ffc9",
           "#33ffc9",
           "#33ffc9",
           "#33ffc9",
           "#33ffc9"
          ],
          "size": 10
         },
         "mode": "markers+text",
         "type": "scatter",
         "x": [
          19,
          19,
          20,
          22,
          23,
          25,
          27,
          28,
          29,
          29,
          31,
          32,
          32,
          33,
          34,
          34,
          36,
          37,
          41,
          44
         ],
         "xaxis": "x7",
         "y": [
          68,
          71,
          88,
          86,
          110,
          73,
          null,
          null,
          73,
          102,
          null,
          80,
          73,
          110,
          62,
          91,
          80,
          75,
          null,
          91
         ],
         "yaxis": "y7"
        }
       ],
       "layout": {
        "annotations": [
         {
          "font": {
           "size": 16
          },
          "showarrow": false,
          "text": "Note standard Mémoires des chiffres",
          "x": 0.225,
          "xanchor": "center",
          "xref": "paper",
          "y": 1,
          "yanchor": "bottom",
          "yref": "paper"
         },
         {
          "font": {
           "size": 16
          },
          "showarrow": false,
          "text": "Note standard Arithmétique",
          "x": 0.775,
          "xanchor": "center",
          "xref": "paper",
          "y": 1,
          "yanchor": "bottom",
          "yref": "paper"
         },
         {
          "font": {
           "size": 16
          },
          "showarrow": false,
          "text": "Total des notes standards IMT",
          "x": 0.225,
          "xanchor": "center",
          "xref": "paper",
          "y": 0.74,
          "yanchor": "bottom",
          "yref": "paper"
         },
         {
          "font": {
           "size": 16
          },
          "showarrow": false,
          "text": "Note composite IMT",
          "x": 0.775,
          "xanchor": "center",
          "xref": "paper",
          "y": 0.74,
          "yanchor": "bottom",
          "yref": "paper"
         },
         {
          "font": {
           "size": 16
          },
          "showarrow": false,
          "text": "Rang percentile IMT",
          "x": 0.225,
          "xanchor": "center",
          "xref": "paper",
          "y": 0.48,
          "yanchor": "bottom",
          "yref": "paper"
         },
         {
          "font": {
           "size": 16
          },
          "showarrow": false,
          "text": "Note écart type inférieure IMT",
          "x": 0.775,
          "xanchor": "center",
          "xref": "paper",
          "y": 0.48,
          "yanchor": "bottom",
          "yref": "paper"
         },
         {
          "font": {
           "size": 16
          },
          "showarrow": false,
          "text": "Note écart type supérieure IMT",
          "x": 0.225,
          "xanchor": "center",
          "xref": "paper",
          "y": 0.22,
          "yanchor": "bottom",
          "yref": "paper"
         },
         {
          "font": {
           "size": 16
          },
          "showarrow": false,
          "text": "Âge",
          "x": 0.5,
          "xanchor": "center",
          "xref": "paper",
          "y": 0,
          "yanchor": "top",
          "yref": "paper",
          "yshift": -30
         },
         {
          "font": {
           "size": 16
          },
          "showarrow": false,
          "text": "Score",
          "textangle": -90,
          "x": 0,
          "xanchor": "right",
          "xref": "paper",
          "xshift": -40,
          "y": 0.5,
          "yanchor": "middle",
          "yref": "paper"
         }
        ],
        "height": 1500,
        "showlegend": false,
        "template": {
         "data": {
          "bar": [
           {
            "error_x": {
             "color": "#2a3f5f"
            },
            "error_y": {
             "color": "#2a3f5f"
            },
            "marker": {
             "line": {
              "color": "#E5ECF6",
              "width": 0.5
             }
            },
            "type": "bar"
           }
          ],
          "barpolar": [
           {
            "marker": {
             "line": {
              "color": "#E5ECF6",
              "width": 0.5
             }
            },
            "type": "barpolar"
           }
          ],
          "carpet": [
           {
            "aaxis": {
             "endlinecolor": "#2a3f5f",
             "gridcolor": "white",
             "linecolor": "white",
             "minorgridcolor": "white",
             "startlinecolor": "#2a3f5f"
            },
            "baxis": {
             "endlinecolor": "#2a3f5f",
             "gridcolor": "white",
             "linecolor": "white",
             "minorgridcolor": "white",
             "startlinecolor": "#2a3f5f"
            },
            "type": "carpet"
           }
          ],
          "choropleth": [
           {
            "colorbar": {
             "outlinewidth": 0,
             "ticks": ""
            },
            "type": "choropleth"
           }
          ],
          "contour": [
           {
            "colorbar": {
             "outlinewidth": 0,
             "ticks": ""
            },
            "colorscale": [
             [
              0,
              "#0d0887"
             ],
             [
              0.1111111111111111,
              "#46039f"
             ],
             [
              0.2222222222222222,
              "#7201a8"
             ],
             [
              0.3333333333333333,
              "#9c179e"
             ],
             [
              0.4444444444444444,
              "#bd3786"
             ],
             [
              0.5555555555555556,
              "#d8576b"
             ],
             [
              0.6666666666666666,
              "#ed7953"
             ],
             [
              0.7777777777777778,
              "#fb9f3a"
             ],
             [
              0.8888888888888888,
              "#fdca26"
             ],
             [
              1,
              "#f0f921"
             ]
            ],
            "type": "contour"
           }
          ],
          "contourcarpet": [
           {
            "colorbar": {
             "outlinewidth": 0,
             "ticks": ""
            },
            "type": "contourcarpet"
           }
          ],
          "heatmap": [
           {
            "colorbar": {
             "outlinewidth": 0,
             "ticks": ""
            },
            "colorscale": [
             [
              0,
              "#0d0887"
             ],
             [
              0.1111111111111111,
              "#46039f"
             ],
             [
              0.2222222222222222,
              "#7201a8"
             ],
             [
              0.3333333333333333,
              "#9c179e"
             ],
             [
              0.4444444444444444,
              "#bd3786"
             ],
             [
              0.5555555555555556,
              "#d8576b"
             ],
             [
              0.6666666666666666,
              "#ed7953"
             ],
             [
              0.7777777777777778,
              "#fb9f3a"
             ],
             [
              0.8888888888888888,
              "#fdca26"
             ],
             [
              1,
              "#f0f921"
             ]
            ],
            "type": "heatmap"
           }
          ],
          "heatmapgl": [
           {
            "colorbar": {
             "outlinewidth": 0,
             "ticks": ""
            },
            "colorscale": [
             [
              0,
              "#0d0887"
             ],
             [
              0.1111111111111111,
              "#46039f"
             ],
             [
              0.2222222222222222,
              "#7201a8"
             ],
             [
              0.3333333333333333,
              "#9c179e"
             ],
             [
              0.4444444444444444,
              "#bd3786"
             ],
             [
              0.5555555555555556,
              "#d8576b"
             ],
             [
              0.6666666666666666,
              "#ed7953"
             ],
             [
              0.7777777777777778,
              "#fb9f3a"
             ],
             [
              0.8888888888888888,
              "#fdca26"
             ],
             [
              1,
              "#f0f921"
             ]
            ],
            "type": "heatmapgl"
           }
          ],
          "histogram": [
           {
            "marker": {
             "colorbar": {
              "outlinewidth": 0,
              "ticks": ""
             }
            },
            "type": "histogram"
           }
          ],
          "histogram2d": [
           {
            "colorbar": {
             "outlinewidth": 0,
             "ticks": ""
            },
            "colorscale": [
             [
              0,
              "#0d0887"
             ],
             [
              0.1111111111111111,
              "#46039f"
             ],
             [
              0.2222222222222222,
              "#7201a8"
             ],
             [
              0.3333333333333333,
              "#9c179e"
             ],
             [
              0.4444444444444444,
              "#bd3786"
             ],
             [
              0.5555555555555556,
              "#d8576b"
             ],
             [
              0.6666666666666666,
              "#ed7953"
             ],
             [
              0.7777777777777778,
              "#fb9f3a"
             ],
             [
              0.8888888888888888,
              "#fdca26"
             ],
             [
              1,
              "#f0f921"
             ]
            ],
            "type": "histogram2d"
           }
          ],
          "histogram2dcontour": [
           {
            "colorbar": {
             "outlinewidth": 0,
             "ticks": ""
            },
            "colorscale": [
             [
              0,
              "#0d0887"
             ],
             [
              0.1111111111111111,
              "#46039f"
             ],
             [
              0.2222222222222222,
              "#7201a8"
             ],
             [
              0.3333333333333333,
              "#9c179e"
             ],
             [
              0.4444444444444444,
              "#bd3786"
             ],
             [
              0.5555555555555556,
              "#d8576b"
             ],
             [
              0.6666666666666666,
              "#ed7953"
             ],
             [
              0.7777777777777778,
              "#fb9f3a"
             ],
             [
              0.8888888888888888,
              "#fdca26"
             ],
             [
              1,
              "#f0f921"
             ]
            ],
            "type": "histogram2dcontour"
           }
          ],
          "mesh3d": [
           {
            "colorbar": {
             "outlinewidth": 0,
             "ticks": ""
            },
            "type": "mesh3d"
           }
          ],
          "parcoords": [
           {
            "line": {
             "colorbar": {
              "outlinewidth": 0,
              "ticks": ""
             }
            },
            "type": "parcoords"
           }
          ],
          "pie": [
           {
            "automargin": true,
            "type": "pie"
           }
          ],
          "scatter": [
           {
            "marker": {
             "colorbar": {
              "outlinewidth": 0,
              "ticks": ""
             }
            },
            "type": "scatter"
           }
          ],
          "scatter3d": [
           {
            "line": {
             "colorbar": {
              "outlinewidth": 0,
              "ticks": ""
             }
            },
            "marker": {
             "colorbar": {
              "outlinewidth": 0,
              "ticks": ""
             }
            },
            "type": "scatter3d"
           }
          ],
          "scattercarpet": [
           {
            "marker": {
             "colorbar": {
              "outlinewidth": 0,
              "ticks": ""
             }
            },
            "type": "scattercarpet"
           }
          ],
          "scattergeo": [
           {
            "marker": {
             "colorbar": {
              "outlinewidth": 0,
              "ticks": ""
             }
            },
            "type": "scattergeo"
           }
          ],
          "scattergl": [
           {
            "marker": {
             "colorbar": {
              "outlinewidth": 0,
              "ticks": ""
             }
            },
            "type": "scattergl"
           }
          ],
          "scattermapbox": [
           {
            "marker": {
             "colorbar": {
              "outlinewidth": 0,
              "ticks": ""
             }
            },
            "type": "scattermapbox"
           }
          ],
          "scatterpolar": [
           {
            "marker": {
             "colorbar": {
              "outlinewidth": 0,
              "ticks": ""
             }
            },
            "type": "scatterpolar"
           }
          ],
          "scatterpolargl": [
           {
            "marker": {
             "colorbar": {
              "outlinewidth": 0,
              "ticks": ""
             }
            },
            "type": "scatterpolargl"
           }
          ],
          "scatterternary": [
           {
            "marker": {
             "colorbar": {
              "outlinewidth": 0,
              "ticks": ""
             }
            },
            "type": "scatterternary"
           }
          ],
          "surface": [
           {
            "colorbar": {
             "outlinewidth": 0,
             "ticks": ""
            },
            "colorscale": [
             [
              0,
              "#0d0887"
             ],
             [
              0.1111111111111111,
              "#46039f"
             ],
             [
              0.2222222222222222,
              "#7201a8"
             ],
             [
              0.3333333333333333,
              "#9c179e"
             ],
             [
              0.4444444444444444,
              "#bd3786"
             ],
             [
              0.5555555555555556,
              "#d8576b"
             ],
             [
              0.6666666666666666,
              "#ed7953"
             ],
             [
              0.7777777777777778,
              "#fb9f3a"
             ],
             [
              0.8888888888888888,
              "#fdca26"
             ],
             [
              1,
              "#f0f921"
             ]
            ],
            "type": "surface"
           }
          ],
          "table": [
           {
            "cells": {
             "fill": {
              "color": "#EBF0F8"
             },
             "line": {
              "color": "white"
             }
            },
            "header": {
             "fill": {
              "color": "#C8D4E3"
             },
             "line": {
              "color": "white"
             }
            },
            "type": "table"
           }
          ]
         },
         "layout": {
          "annotationdefaults": {
           "arrowcolor": "#2a3f5f",
           "arrowhead": 0,
           "arrowwidth": 1
          },
          "coloraxis": {
           "colorbar": {
            "outlinewidth": 0,
            "ticks": ""
           }
          },
          "colorscale": {
           "diverging": [
            [
             0,
             "#8e0152"
            ],
            [
             0.1,
             "#c51b7d"
            ],
            [
             0.2,
             "#de77ae"
            ],
            [
             0.3,
             "#f1b6da"
            ],
            [
             0.4,
             "#fde0ef"
            ],
            [
             0.5,
             "#f7f7f7"
            ],
            [
             0.6,
             "#e6f5d0"
            ],
            [
             0.7,
             "#b8e186"
            ],
            [
             0.8,
             "#7fbc41"
            ],
            [
             0.9,
             "#4d9221"
            ],
            [
             1,
             "#276419"
            ]
           ],
           "sequential": [
            [
             0,
             "#0d0887"
            ],
            [
             0.1111111111111111,
             "#46039f"
            ],
            [
             0.2222222222222222,
             "#7201a8"
            ],
            [
             0.3333333333333333,
             "#9c179e"
            ],
            [
             0.4444444444444444,
             "#bd3786"
            ],
            [
             0.5555555555555556,
             "#d8576b"
            ],
            [
             0.6666666666666666,
             "#ed7953"
            ],
            [
             0.7777777777777778,
             "#fb9f3a"
            ],
            [
             0.8888888888888888,
             "#fdca26"
            ],
            [
             1,
             "#f0f921"
            ]
           ],
           "sequentialminus": [
            [
             0,
             "#0d0887"
            ],
            [
             0.1111111111111111,
             "#46039f"
            ],
            [
             0.2222222222222222,
             "#7201a8"
            ],
            [
             0.3333333333333333,
             "#9c179e"
            ],
            [
             0.4444444444444444,
             "#bd3786"
            ],
            [
             0.5555555555555556,
             "#d8576b"
            ],
            [
             0.6666666666666666,
             "#ed7953"
            ],
            [
             0.7777777777777778,
             "#fb9f3a"
            ],
            [
             0.8888888888888888,
             "#fdca26"
            ],
            [
             1,
             "#f0f921"
            ]
           ]
          },
          "colorway": [
           "#636efa",
           "#EF553B",
           "#00cc96",
           "#ab63fa",
           "#FFA15A",
           "#19d3f3",
           "#FF6692",
           "#B6E880",
           "#FF97FF",
           "#FECB52"
          ],
          "font": {
           "color": "#2a3f5f"
          },
          "geo": {
           "bgcolor": "white",
           "lakecolor": "white",
           "landcolor": "#E5ECF6",
           "showlakes": true,
           "showland": true,
           "subunitcolor": "white"
          },
          "hoverlabel": {
           "align": "left"
          },
          "hovermode": "closest",
          "mapbox": {
           "style": "light"
          },
          "paper_bgcolor": "white",
          "plot_bgcolor": "#E5ECF6",
          "polar": {
           "angularaxis": {
            "gridcolor": "white",
            "linecolor": "white",
            "ticks": ""
           },
           "bgcolor": "#E5ECF6",
           "radialaxis": {
            "gridcolor": "white",
            "linecolor": "white",
            "ticks": ""
           }
          },
          "scene": {
           "xaxis": {
            "backgroundcolor": "#E5ECF6",
            "gridcolor": "white",
            "gridwidth": 2,
            "linecolor": "white",
            "showbackground": true,
            "ticks": "",
            "zerolinecolor": "white"
           },
           "yaxis": {
            "backgroundcolor": "#E5ECF6",
            "gridcolor": "white",
            "gridwidth": 2,
            "linecolor": "white",
            "showbackground": true,
            "ticks": "",
            "zerolinecolor": "white"
           },
           "zaxis": {
            "backgroundcolor": "#E5ECF6",
            "gridcolor": "white",
            "gridwidth": 2,
            "linecolor": "white",
            "showbackground": true,
            "ticks": "",
            "zerolinecolor": "white"
           }
          },
          "shapedefaults": {
           "line": {
            "color": "#2a3f5f"
           }
          },
          "ternary": {
           "aaxis": {
            "gridcolor": "white",
            "linecolor": "white",
            "ticks": ""
           },
           "baxis": {
            "gridcolor": "white",
            "linecolor": "white",
            "ticks": ""
           },
           "bgcolor": "#E5ECF6",
           "caxis": {
            "gridcolor": "white",
            "linecolor": "white",
            "ticks": ""
           }
          },
          "title": {
           "x": 0.05
          },
          "xaxis": {
           "automargin": true,
           "gridcolor": "white",
           "linecolor": "white",
           "ticks": "",
           "title": {
            "standoff": 15
           },
           "zerolinecolor": "white",
           "zerolinewidth": 2
          },
          "yaxis": {
           "automargin": true,
           "gridcolor": "white",
           "linecolor": "white",
           "ticks": "",
           "title": {
            "standoff": 15
           },
           "zerolinecolor": "white",
           "zerolinewidth": 2
          }
         }
        },
        "width": 800,
        "xaxis": {
         "anchor": "y",
         "domain": [
          0,
          0.45
         ]
        },
        "xaxis2": {
         "anchor": "y2",
         "domain": [
          0.55,
          1
         ]
        },
        "xaxis3": {
         "anchor": "y3",
         "domain": [
          0,
          0.45
         ]
        },
        "xaxis4": {
         "anchor": "y4",
         "domain": [
          0.55,
          1
         ]
        },
        "xaxis5": {
         "anchor": "y5",
         "domain": [
          0,
          0.45
         ]
        },
        "xaxis6": {
         "anchor": "y6",
         "domain": [
          0.55,
          1
         ]
        },
        "xaxis7": {
         "anchor": "y7",
         "domain": [
          0,
          0.45
         ]
        },
        "xaxis8": {
         "anchor": "y8",
         "domain": [
          0.55,
          1
         ]
        },
        "yaxis": {
         "anchor": "x",
         "domain": [
          0.78,
          1
         ]
        },
        "yaxis2": {
         "anchor": "x2",
         "domain": [
          0.78,
          1
         ]
        },
        "yaxis3": {
         "anchor": "x3",
         "domain": [
          0.52,
          0.74
         ]
        },
        "yaxis4": {
         "anchor": "x4",
         "domain": [
          0.52,
          0.74
         ]
        },
        "yaxis5": {
         "anchor": "x5",
         "domain": [
          0.26,
          0.48
         ]
        },
        "yaxis6": {
         "anchor": "x6",
         "domain": [
          0.26,
          0.48
         ]
        },
        "yaxis7": {
         "anchor": "x7",
         "domain": [
          0,
          0.22
         ]
        },
        "yaxis8": {
         "anchor": "x8",
         "domain": [
          0,
          0.22
         ]
        }
       }
      },
      "text/html": [
       "<div>\n",
       "        \n",
       "        \n",
       "            <div id=\"56e92f28-b8f3-433f-bf3a-3096ae165620\" class=\"plotly-graph-div\" style=\"height:1500px; width:800px;\"></div>\n",
       "            <script type=\"text/javascript\">\n",
       "                require([\"plotly\"], function(Plotly) {\n",
       "                    window.PLOTLYENV=window.PLOTLYENV || {};\n",
       "                    \n",
       "                if (document.getElementById(\"56e92f28-b8f3-433f-bf3a-3096ae165620\")) {\n",
       "                    Plotly.newPlot(\n",
       "                        '56e92f28-b8f3-433f-bf3a-3096ae165620',\n",
       "                        [{\"hovertext\": [\"EF 2E 22 E0 EA, Type 1\", \"B6 A4 CD 3A 81, Type 1\", \"C2 C3 05 A8 4B, Type 1\", \"39 CA BD 3C 82, Type 1\", \"7B DE 78 5B F6, Type 1\", \"9B 8E 44 F8 FF, Type 1\", \"35 86 13 56 24, Type 1\", \"73 EC 1B D7 9B, Type 1\", \"7D 76 3D FC 91, Type 1\", \"AB A5 ED 43 8B, Type 1\", \"01 83 17 5E 89, Type 1\", \"B9 5D 22 14 86, Type 1\", \"A1 54 32 B1 53, Type 1\", \"FD 11 B7 CF 8F, Type 1\", \"DB 6B 59 3A 0C, Type 1\", \"F1 C2 1C 3A FC, Type 1\", \"98 2C 1A AA 87, Type 1\", \"A2 D7 D0 A4 2A, Type 1\", \"02 92 7B FF E6, Type 1\", \"06 25 B6 B7 F5, Type 1\"], \"marker\": {\"color\": [\"#33ffc9\", \"#33ffc9\", \"#33ffc9\", \"#33ffc9\", \"#33ffc9\", \"#33ffc9\", \"#33ffc9\", \"#33ffc9\", \"#33ffc9\", \"#33ffc9\", \"#33ffc9\", \"#33ffc9\", \"#33ffc9\", \"#33ffc9\", \"#33ffc9\", \"#33ffc9\", \"#33ffc9\", \"#33ffc9\", \"#33ffc9\", \"#33ffc9\"], \"size\": 10}, \"mode\": \"markers+text\", \"type\": \"scatter\", \"x\": [19.0, 19.0, 20.0, 22.0, 23.0, 25.0, 27.0, 28.0, 29.0, 29.0, 31.0, 32.0, 32.0, 33.0, 34.0, 34.0, 36.0, 37.0, 41.0, 44.0], \"xaxis\": \"x\", \"y\": [2.0, 3.0, 4.0, 5.0, 11.0, 4.0, 1.0, null, 4.0, 7.0, null, 5.0, 4.0, 7.0, 2.0, 5.0, 7.0, 4.0, null, 7.0], \"yaxis\": \"y\"}, {\"hovertext\": [\"EF 2E 22 E0 EA, Type 1\", \"B6 A4 CD 3A 81, Type 1\", \"C2 C3 05 A8 4B, Type 1\", \"39 CA BD 3C 82, Type 1\", \"7B DE 78 5B F6, Type 1\", \"9B 8E 44 F8 FF, Type 1\", \"35 86 13 56 24, Type 1\", \"73 EC 1B D7 9B, Type 1\", \"7D 76 3D FC 91, Type 1\", \"AB A5 ED 43 8B, Type 1\", \"01 83 17 5E 89, Type 1\", \"B9 5D 22 14 86, Type 1\", \"A1 54 32 B1 53, Type 1\", \"FD 11 B7 CF 8F, Type 1\", \"DB 6B 59 3A 0C, Type 1\", \"F1 C2 1C 3A FC, Type 1\", \"98 2C 1A AA 87, Type 1\", \"A2 D7 D0 A4 2A, Type 1\", \"02 92 7B FF E6, Type 1\", \"06 25 B6 B7 F5, Type 1\"], \"marker\": {\"color\": [\"#33ffc9\", \"#33ffc9\", \"#33ffc9\", \"#33ffc9\", \"#33ffc9\", \"#33ffc9\", \"#33ffc9\", \"#33ffc9\", \"#33ffc9\", \"#33ffc9\", \"#33ffc9\", \"#33ffc9\", \"#33ffc9\", \"#33ffc9\", \"#33ffc9\", \"#33ffc9\", \"#33ffc9\", \"#33ffc9\", \"#33ffc9\", \"#33ffc9\"], \"size\": 10}, \"mode\": \"markers+text\", \"type\": \"scatter\", \"x\": [19.0, 19.0, 20.0, 22.0, 23.0, 25.0, 27.0, 28.0, 29.0, 29.0, 31.0, 32.0, 32.0, 33.0, 34.0, 34.0, 36.0, 37.0, 41.0, 44.0], \"xaxis\": \"x2\", \"y\": [3.0, 3.0, 9.0, 7.0, 10.0, 3.0, null, 5.0, 3.0, 11.0, null, 5.0, 3.0, 14.0, 1.0, 9.0, 3.0, 4.0, null, 7.0], \"yaxis\": \"y2\"}, {\"hovertext\": [\"EF 2E 22 E0 EA, Type 1\", \"B6 A4 CD 3A 81, Type 1\", \"C2 C3 05 A8 4B, Type 1\", \"39 CA BD 3C 82, Type 1\", \"7B DE 78 5B F6, Type 1\", \"9B 8E 44 F8 FF, Type 1\", \"35 86 13 56 24, Type 1\", \"73 EC 1B D7 9B, Type 1\", \"7D 76 3D FC 91, Type 1\", \"AB A5 ED 43 8B, Type 1\", \"01 83 17 5E 89, Type 1\", \"B9 5D 22 14 86, Type 1\", \"A1 54 32 B1 53, Type 1\", \"FD 11 B7 CF 8F, Type 1\", \"DB 6B 59 3A 0C, Type 1\", \"F1 C2 1C 3A FC, Type 1\", \"98 2C 1A AA 87, Type 1\", \"A2 D7 D0 A4 2A, Type 1\", \"02 92 7B FF E6, Type 1\", \"06 25 B6 B7 F5, Type 1\"], \"marker\": {\"color\": [\"#33ffc9\", \"#33ffc9\", \"#33ffc9\", \"#33ffc9\", \"#33ffc9\", \"#33ffc9\", \"#33ffc9\", \"#33ffc9\", \"#33ffc9\", \"#33ffc9\", \"#33ffc9\", \"#33ffc9\", \"#33ffc9\", \"#33ffc9\", \"#33ffc9\", \"#33ffc9\", \"#33ffc9\", \"#33ffc9\", \"#33ffc9\", \"#33ffc9\"], \"size\": 10}, \"mode\": \"markers+text\", \"type\": \"scatter\", \"x\": [19.0, 19.0, 20.0, 22.0, 23.0, 25.0, 27.0, 28.0, 29.0, 29.0, 31.0, 32.0, 32.0, 33.0, 34.0, 34.0, 36.0, 37.0, 41.0, 44.0], \"xaxis\": \"x3\", \"y\": [5.0, 6.0, 13.0, 12.0, 21.0, 7.0, null, null, 7.0, 18.0, null, 10.0, 7.0, 21.0, 3.0, 14.0, 10.0, 8.0, null, 14.0], \"yaxis\": \"y3\"}, {\"hovertext\": [\"EF 2E 22 E0 EA, Type 1\", \"B6 A4 CD 3A 81, Type 1\", \"C2 C3 05 A8 4B, Type 1\", \"39 CA BD 3C 82, Type 1\", \"7B DE 78 5B F6, Type 1\", \"9B 8E 44 F8 FF, Type 1\", \"35 86 13 56 24, Type 1\", \"73 EC 1B D7 9B, Type 1\", \"7D 76 3D FC 91, Type 1\", \"AB A5 ED 43 8B, Type 1\", \"01 83 17 5E 89, Type 1\", \"B9 5D 22 14 86, Type 1\", \"A1 54 32 B1 53, Type 1\", \"FD 11 B7 CF 8F, Type 1\", \"DB 6B 59 3A 0C, Type 1\", \"F1 C2 1C 3A FC, Type 1\", \"98 2C 1A AA 87, Type 1\", \"A2 D7 D0 A4 2A, Type 1\", \"02 92 7B FF E6, Type 1\", \"06 25 B6 B7 F5, Type 1\"], \"marker\": {\"color\": [\"#33ffc9\", \"#33ffc9\", \"#33ffc9\", \"#33ffc9\", \"#33ffc9\", \"#33ffc9\", \"#33ffc9\", \"#33ffc9\", \"#33ffc9\", \"#33ffc9\", \"#33ffc9\", \"#33ffc9\", \"#33ffc9\", \"#33ffc9\", \"#33ffc9\", \"#33ffc9\", \"#33ffc9\", \"#33ffc9\", \"#33ffc9\", \"#33ffc9\"], \"size\": 10}, \"mode\": \"markers+text\", \"type\": \"scatter\", \"x\": [19.0, 19.0, 20.0, 22.0, 23.0, 25.0, 27.0, 28.0, 29.0, 29.0, 31.0, 32.0, 32.0, 33.0, 34.0, 34.0, 36.0, 37.0, 41.0, 44.0], \"xaxis\": \"x4\", \"y\": [58.0, 61.0, 80.0, 77.0, 103.0, 63.0, null, null, 63.0, 94.0, null, 71.0, 63.0, 103.0, 52.0, 83.0, 71.0, 66.0, null, 83.0], \"yaxis\": \"y4\"}, {\"hovertext\": [\"EF 2E 22 E0 EA, Type 1\", \"B6 A4 CD 3A 81, Type 1\", \"C2 C3 05 A8 4B, Type 1\", \"39 CA BD 3C 82, Type 1\", \"7B DE 78 5B F6, Type 1\", \"9B 8E 44 F8 FF, Type 1\", \"35 86 13 56 24, Type 1\", \"73 EC 1B D7 9B, Type 1\", \"7D 76 3D FC 91, Type 1\", \"AB A5 ED 43 8B, Type 1\", \"01 83 17 5E 89, Type 1\", \"B9 5D 22 14 86, Type 1\", \"A1 54 32 B1 53, Type 1\", \"FD 11 B7 CF 8F, Type 1\", \"DB 6B 59 3A 0C, Type 1\", \"F1 C2 1C 3A FC, Type 1\", \"98 2C 1A AA 87, Type 1\", \"A2 D7 D0 A4 2A, Type 1\", \"02 92 7B FF E6, Type 1\", \"06 25 B6 B7 F5, Type 1\"], \"marker\": {\"color\": [\"#33ffc9\", \"#33ffc9\", \"#33ffc9\", \"#33ffc9\", \"#33ffc9\", \"#33ffc9\", \"#33ffc9\", \"#33ffc9\", \"#33ffc9\", \"#33ffc9\", \"#33ffc9\", \"#33ffc9\", \"#33ffc9\", \"#33ffc9\", \"#33ffc9\", \"#33ffc9\", \"#33ffc9\", \"#33ffc9\", \"#33ffc9\", \"#33ffc9\"], \"size\": 10}, \"mode\": \"markers+text\", \"type\": \"scatter\", \"x\": [19.0, 19.0, 20.0, 22.0, 23.0, 25.0, 27.0, 28.0, 29.0, 29.0, 31.0, 32.0, 32.0, 33.0, 34.0, 34.0, 36.0, 37.0, 41.0, 44.0], \"xaxis\": \"x5\", \"y\": [0.0, 0.0, 9.0, 6.0, 58.0, 1.0, null, null, 1.0, 34.0, null, 3.0, 1.0, 58.0, 1.0, 13.0, 3.0, 1.0, null, 13.0], \"yaxis\": \"y5\"}, {\"hovertext\": [\"EF 2E 22 E0 EA, Type 1\", \"B6 A4 CD 3A 81, Type 1\", \"C2 C3 05 A8 4B, Type 1\", \"39 CA BD 3C 82, Type 1\", \"7B DE 78 5B F6, Type 1\", \"9B 8E 44 F8 FF, Type 1\", \"35 86 13 56 24, Type 1\", \"73 EC 1B D7 9B, Type 1\", \"7D 76 3D FC 91, Type 1\", \"AB A5 ED 43 8B, Type 1\", \"01 83 17 5E 89, Type 1\", \"B9 5D 22 14 86, Type 1\", \"A1 54 32 B1 53, Type 1\", \"FD 11 B7 CF 8F, Type 1\", \"DB 6B 59 3A 0C, Type 1\", \"F1 C2 1C 3A FC, Type 1\", \"98 2C 1A AA 87, Type 1\", \"A2 D7 D0 A4 2A, Type 1\", \"02 92 7B FF E6, Type 1\", \"06 25 B6 B7 F5, Type 1\"], \"marker\": {\"color\": [\"#33ffc9\", \"#33ffc9\", \"#33ffc9\", \"#33ffc9\", \"#33ffc9\", \"#33ffc9\", \"#33ffc9\", \"#33ffc9\", \"#33ffc9\", \"#33ffc9\", \"#33ffc9\", \"#33ffc9\", \"#33ffc9\", \"#33ffc9\", \"#33ffc9\", \"#33ffc9\", \"#33ffc9\", \"#33ffc9\", \"#33ffc9\", \"#33ffc9\"], \"size\": 10}, \"mode\": \"markers+text\", \"type\": \"scatter\", \"x\": [19.0, 19.0, 20.0, 22.0, 23.0, 25.0, 27.0, 28.0, 29.0, 29.0, 31.0, 32.0, 32.0, 33.0, 34.0, 34.0, 36.0, 37.0, 41.0, 44.0], \"xaxis\": \"x6\", \"y\": [54.0, 57.0, 74.0, 71.0, 96.0, 58.0, null, null, 58.0, 87.0, null, 66.0, 58.0, 96.0, 48.0, 77.0, 66.0, 61.0, null, 77.0], \"yaxis\": \"y6\"}, {\"hovertext\": [\"EF 2E 22 E0 EA, Type 1\", \"B6 A4 CD 3A 81, Type 1\", \"C2 C3 05 A8 4B, Type 1\", \"39 CA BD 3C 82, Type 1\", \"7B DE 78 5B F6, Type 1\", \"9B 8E 44 F8 FF, Type 1\", \"35 86 13 56 24, Type 1\", \"73 EC 1B D7 9B, Type 1\", \"7D 76 3D FC 91, Type 1\", \"AB A5 ED 43 8B, Type 1\", \"01 83 17 5E 89, Type 1\", \"B9 5D 22 14 86, Type 1\", \"A1 54 32 B1 53, Type 1\", \"FD 11 B7 CF 8F, Type 1\", \"DB 6B 59 3A 0C, Type 1\", \"F1 C2 1C 3A FC, Type 1\", \"98 2C 1A AA 87, Type 1\", \"A2 D7 D0 A4 2A, Type 1\", \"02 92 7B FF E6, Type 1\", \"06 25 B6 B7 F5, Type 1\"], \"marker\": {\"color\": [\"#33ffc9\", \"#33ffc9\", \"#33ffc9\", \"#33ffc9\", \"#33ffc9\", \"#33ffc9\", \"#33ffc9\", \"#33ffc9\", \"#33ffc9\", \"#33ffc9\", \"#33ffc9\", \"#33ffc9\", \"#33ffc9\", \"#33ffc9\", \"#33ffc9\", \"#33ffc9\", \"#33ffc9\", \"#33ffc9\", \"#33ffc9\", \"#33ffc9\"], \"size\": 10}, \"mode\": \"markers+text\", \"type\": \"scatter\", \"x\": [19.0, 19.0, 20.0, 22.0, 23.0, 25.0, 27.0, 28.0, 29.0, 29.0, 31.0, 32.0, 32.0, 33.0, 34.0, 34.0, 36.0, 37.0, 41.0, 44.0], \"xaxis\": \"x7\", \"y\": [68.0, 71.0, 88.0, 86.0, 110.0, 73.0, null, null, 73.0, 102.0, null, 80.0, 73.0, 110.0, 62.0, 91.0, 80.0, 75.0, null, 91.0], \"yaxis\": \"y7\"}],\n",
       "                        {\"annotations\": [{\"font\": {\"size\": 16}, \"showarrow\": false, \"text\": \"Note standard M\\u00e9moires des chiffres\", \"x\": 0.225, \"xanchor\": \"center\", \"xref\": \"paper\", \"y\": 1.0, \"yanchor\": \"bottom\", \"yref\": \"paper\"}, {\"font\": {\"size\": 16}, \"showarrow\": false, \"text\": \"Note standard Arithm\\u00e9tique\", \"x\": 0.775, \"xanchor\": \"center\", \"xref\": \"paper\", \"y\": 1.0, \"yanchor\": \"bottom\", \"yref\": \"paper\"}, {\"font\": {\"size\": 16}, \"showarrow\": false, \"text\": \"Total des notes standards IMT\", \"x\": 0.225, \"xanchor\": \"center\", \"xref\": \"paper\", \"y\": 0.74, \"yanchor\": \"bottom\", \"yref\": \"paper\"}, {\"font\": {\"size\": 16}, \"showarrow\": false, \"text\": \"Note composite IMT\", \"x\": 0.775, \"xanchor\": \"center\", \"xref\": \"paper\", \"y\": 0.74, \"yanchor\": \"bottom\", \"yref\": \"paper\"}, {\"font\": {\"size\": 16}, \"showarrow\": false, \"text\": \"Rang percentile IMT\", \"x\": 0.225, \"xanchor\": \"center\", \"xref\": \"paper\", \"y\": 0.48, \"yanchor\": \"bottom\", \"yref\": \"paper\"}, {\"font\": {\"size\": 16}, \"showarrow\": false, \"text\": \"Note \\u00e9cart type inf\\u00e9rieure IMT\", \"x\": 0.775, \"xanchor\": \"center\", \"xref\": \"paper\", \"y\": 0.48, \"yanchor\": \"bottom\", \"yref\": \"paper\"}, {\"font\": {\"size\": 16}, \"showarrow\": false, \"text\": \"Note \\u00e9cart type sup\\u00e9rieure IMT\", \"x\": 0.225, \"xanchor\": \"center\", \"xref\": \"paper\", \"y\": 0.22, \"yanchor\": \"bottom\", \"yref\": \"paper\"}, {\"font\": {\"size\": 16}, \"showarrow\": false, \"text\": \"\\u00c2ge\", \"x\": 0.5, \"xanchor\": \"center\", \"xref\": \"paper\", \"y\": 0, \"yanchor\": \"top\", \"yref\": \"paper\", \"yshift\": -30}, {\"font\": {\"size\": 16}, \"showarrow\": false, \"text\": \"Score\", \"textangle\": -90, \"x\": 0, \"xanchor\": \"right\", \"xref\": \"paper\", \"xshift\": -40, \"y\": 0.5, \"yanchor\": \"middle\", \"yref\": \"paper\"}], \"height\": 1500, \"showlegend\": false, \"template\": {\"data\": {\"bar\": [{\"error_x\": {\"color\": \"#2a3f5f\"}, \"error_y\": {\"color\": \"#2a3f5f\"}, \"marker\": {\"line\": {\"color\": \"#E5ECF6\", \"width\": 0.5}}, \"type\": \"bar\"}], \"barpolar\": [{\"marker\": {\"line\": {\"color\": \"#E5ECF6\", \"width\": 0.5}}, \"type\": \"barpolar\"}], \"carpet\": [{\"aaxis\": {\"endlinecolor\": \"#2a3f5f\", \"gridcolor\": \"white\", \"linecolor\": \"white\", \"minorgridcolor\": \"white\", \"startlinecolor\": \"#2a3f5f\"}, \"baxis\": {\"endlinecolor\": \"#2a3f5f\", \"gridcolor\": \"white\", \"linecolor\": \"white\", \"minorgridcolor\": \"white\", \"startlinecolor\": \"#2a3f5f\"}, \"type\": \"carpet\"}], \"choropleth\": [{\"colorbar\": {\"outlinewidth\": 0, \"ticks\": \"\"}, \"type\": \"choropleth\"}], \"contour\": [{\"colorbar\": {\"outlinewidth\": 0, \"ticks\": \"\"}, \"colorscale\": [[0.0, \"#0d0887\"], [0.1111111111111111, \"#46039f\"], [0.2222222222222222, \"#7201a8\"], [0.3333333333333333, \"#9c179e\"], [0.4444444444444444, \"#bd3786\"], [0.5555555555555556, \"#d8576b\"], [0.6666666666666666, \"#ed7953\"], [0.7777777777777778, \"#fb9f3a\"], [0.8888888888888888, \"#fdca26\"], [1.0, \"#f0f921\"]], \"type\": \"contour\"}], \"contourcarpet\": [{\"colorbar\": {\"outlinewidth\": 0, \"ticks\": \"\"}, \"type\": \"contourcarpet\"}], \"heatmap\": [{\"colorbar\": {\"outlinewidth\": 0, \"ticks\": \"\"}, \"colorscale\": [[0.0, \"#0d0887\"], [0.1111111111111111, \"#46039f\"], [0.2222222222222222, \"#7201a8\"], [0.3333333333333333, \"#9c179e\"], [0.4444444444444444, \"#bd3786\"], [0.5555555555555556, \"#d8576b\"], [0.6666666666666666, \"#ed7953\"], [0.7777777777777778, \"#fb9f3a\"], [0.8888888888888888, \"#fdca26\"], [1.0, \"#f0f921\"]], \"type\": \"heatmap\"}], \"heatmapgl\": [{\"colorbar\": {\"outlinewidth\": 0, \"ticks\": \"\"}, \"colorscale\": [[0.0, \"#0d0887\"], [0.1111111111111111, \"#46039f\"], [0.2222222222222222, \"#7201a8\"], [0.3333333333333333, \"#9c179e\"], [0.4444444444444444, \"#bd3786\"], [0.5555555555555556, \"#d8576b\"], [0.6666666666666666, \"#ed7953\"], [0.7777777777777778, \"#fb9f3a\"], [0.8888888888888888, \"#fdca26\"], [1.0, \"#f0f921\"]], \"type\": \"heatmapgl\"}], \"histogram\": [{\"marker\": {\"colorbar\": {\"outlinewidth\": 0, \"ticks\": \"\"}}, \"type\": \"histogram\"}], \"histogram2d\": [{\"colorbar\": {\"outlinewidth\": 0, \"ticks\": \"\"}, \"colorscale\": [[0.0, \"#0d0887\"], [0.1111111111111111, \"#46039f\"], [0.2222222222222222, \"#7201a8\"], [0.3333333333333333, \"#9c179e\"], [0.4444444444444444, \"#bd3786\"], [0.5555555555555556, \"#d8576b\"], [0.6666666666666666, \"#ed7953\"], [0.7777777777777778, \"#fb9f3a\"], [0.8888888888888888, \"#fdca26\"], [1.0, \"#f0f921\"]], \"type\": \"histogram2d\"}], \"histogram2dcontour\": [{\"colorbar\": {\"outlinewidth\": 0, \"ticks\": \"\"}, \"colorscale\": [[0.0, \"#0d0887\"], [0.1111111111111111, \"#46039f\"], [0.2222222222222222, \"#7201a8\"], [0.3333333333333333, \"#9c179e\"], [0.4444444444444444, \"#bd3786\"], [0.5555555555555556, \"#d8576b\"], [0.6666666666666666, \"#ed7953\"], [0.7777777777777778, \"#fb9f3a\"], [0.8888888888888888, \"#fdca26\"], [1.0, \"#f0f921\"]], \"type\": \"histogram2dcontour\"}], \"mesh3d\": [{\"colorbar\": {\"outlinewidth\": 0, \"ticks\": \"\"}, \"type\": \"mesh3d\"}], \"parcoords\": [{\"line\": {\"colorbar\": {\"outlinewidth\": 0, \"ticks\": \"\"}}, \"type\": \"parcoords\"}], \"pie\": [{\"automargin\": true, \"type\": \"pie\"}], \"scatter\": [{\"marker\": {\"colorbar\": {\"outlinewidth\": 0, \"ticks\": \"\"}}, \"type\": \"scatter\"}], \"scatter3d\": [{\"line\": {\"colorbar\": {\"outlinewidth\": 0, \"ticks\": \"\"}}, \"marker\": {\"colorbar\": {\"outlinewidth\": 0, \"ticks\": \"\"}}, \"type\": \"scatter3d\"}], \"scattercarpet\": [{\"marker\": {\"colorbar\": {\"outlinewidth\": 0, \"ticks\": \"\"}}, \"type\": \"scattercarpet\"}], \"scattergeo\": [{\"marker\": {\"colorbar\": {\"outlinewidth\": 0, \"ticks\": \"\"}}, \"type\": \"scattergeo\"}], \"scattergl\": [{\"marker\": {\"colorbar\": {\"outlinewidth\": 0, \"ticks\": \"\"}}, \"type\": \"scattergl\"}], \"scattermapbox\": [{\"marker\": {\"colorbar\": {\"outlinewidth\": 0, \"ticks\": \"\"}}, \"type\": \"scattermapbox\"}], \"scatterpolar\": [{\"marker\": {\"colorbar\": {\"outlinewidth\": 0, \"ticks\": \"\"}}, \"type\": \"scatterpolar\"}], \"scatterpolargl\": [{\"marker\": {\"colorbar\": {\"outlinewidth\": 0, \"ticks\": \"\"}}, \"type\": \"scatterpolargl\"}], \"scatterternary\": [{\"marker\": {\"colorbar\": {\"outlinewidth\": 0, \"ticks\": \"\"}}, \"type\": \"scatterternary\"}], \"surface\": [{\"colorbar\": {\"outlinewidth\": 0, \"ticks\": \"\"}, \"colorscale\": [[0.0, \"#0d0887\"], [0.1111111111111111, \"#46039f\"], [0.2222222222222222, \"#7201a8\"], [0.3333333333333333, \"#9c179e\"], [0.4444444444444444, \"#bd3786\"], [0.5555555555555556, \"#d8576b\"], [0.6666666666666666, \"#ed7953\"], [0.7777777777777778, \"#fb9f3a\"], [0.8888888888888888, \"#fdca26\"], [1.0, \"#f0f921\"]], \"type\": \"surface\"}], \"table\": [{\"cells\": {\"fill\": {\"color\": \"#EBF0F8\"}, \"line\": {\"color\": \"white\"}}, \"header\": {\"fill\": {\"color\": \"#C8D4E3\"}, \"line\": {\"color\": \"white\"}}, \"type\": \"table\"}]}, \"layout\": {\"annotationdefaults\": {\"arrowcolor\": \"#2a3f5f\", \"arrowhead\": 0, \"arrowwidth\": 1}, \"coloraxis\": {\"colorbar\": {\"outlinewidth\": 0, \"ticks\": \"\"}}, \"colorscale\": {\"diverging\": [[0, \"#8e0152\"], [0.1, \"#c51b7d\"], [0.2, \"#de77ae\"], [0.3, \"#f1b6da\"], [0.4, \"#fde0ef\"], [0.5, \"#f7f7f7\"], [0.6, \"#e6f5d0\"], [0.7, \"#b8e186\"], [0.8, \"#7fbc41\"], [0.9, \"#4d9221\"], [1, \"#276419\"]], \"sequential\": [[0.0, \"#0d0887\"], [0.1111111111111111, \"#46039f\"], [0.2222222222222222, \"#7201a8\"], [0.3333333333333333, \"#9c179e\"], [0.4444444444444444, \"#bd3786\"], [0.5555555555555556, \"#d8576b\"], [0.6666666666666666, \"#ed7953\"], [0.7777777777777778, \"#fb9f3a\"], [0.8888888888888888, \"#fdca26\"], [1.0, \"#f0f921\"]], \"sequentialminus\": [[0.0, \"#0d0887\"], [0.1111111111111111, \"#46039f\"], [0.2222222222222222, \"#7201a8\"], [0.3333333333333333, \"#9c179e\"], [0.4444444444444444, \"#bd3786\"], [0.5555555555555556, \"#d8576b\"], [0.6666666666666666, \"#ed7953\"], [0.7777777777777778, \"#fb9f3a\"], [0.8888888888888888, \"#fdca26\"], [1.0, \"#f0f921\"]]}, \"colorway\": [\"#636efa\", \"#EF553B\", \"#00cc96\", \"#ab63fa\", \"#FFA15A\", \"#19d3f3\", \"#FF6692\", \"#B6E880\", \"#FF97FF\", \"#FECB52\"], \"font\": {\"color\": \"#2a3f5f\"}, \"geo\": {\"bgcolor\": \"white\", \"lakecolor\": \"white\", \"landcolor\": \"#E5ECF6\", \"showlakes\": true, \"showland\": true, \"subunitcolor\": \"white\"}, \"hoverlabel\": {\"align\": \"left\"}, \"hovermode\": \"closest\", \"mapbox\": {\"style\": \"light\"}, \"paper_bgcolor\": \"white\", \"plot_bgcolor\": \"#E5ECF6\", \"polar\": {\"angularaxis\": {\"gridcolor\": \"white\", \"linecolor\": \"white\", \"ticks\": \"\"}, \"bgcolor\": \"#E5ECF6\", \"radialaxis\": {\"gridcolor\": \"white\", \"linecolor\": \"white\", \"ticks\": \"\"}}, \"scene\": {\"xaxis\": {\"backgroundcolor\": \"#E5ECF6\", \"gridcolor\": \"white\", \"gridwidth\": 2, \"linecolor\": \"white\", \"showbackground\": true, \"ticks\": \"\", \"zerolinecolor\": \"white\"}, \"yaxis\": {\"backgroundcolor\": \"#E5ECF6\", \"gridcolor\": \"white\", \"gridwidth\": 2, \"linecolor\": \"white\", \"showbackground\": true, \"ticks\": \"\", \"zerolinecolor\": \"white\"}, \"zaxis\": {\"backgroundcolor\": \"#E5ECF6\", \"gridcolor\": \"white\", \"gridwidth\": 2, \"linecolor\": \"white\", \"showbackground\": true, \"ticks\": \"\", \"zerolinecolor\": \"white\"}}, \"shapedefaults\": {\"line\": {\"color\": \"#2a3f5f\"}}, \"ternary\": {\"aaxis\": {\"gridcolor\": \"white\", \"linecolor\": \"white\", \"ticks\": \"\"}, \"baxis\": {\"gridcolor\": \"white\", \"linecolor\": \"white\", \"ticks\": \"\"}, \"bgcolor\": \"#E5ECF6\", \"caxis\": {\"gridcolor\": \"white\", \"linecolor\": \"white\", \"ticks\": \"\"}}, \"title\": {\"x\": 0.05}, \"xaxis\": {\"automargin\": true, \"gridcolor\": \"white\", \"linecolor\": \"white\", \"ticks\": \"\", \"title\": {\"standoff\": 15}, \"zerolinecolor\": \"white\", \"zerolinewidth\": 2}, \"yaxis\": {\"automargin\": true, \"gridcolor\": \"white\", \"linecolor\": \"white\", \"ticks\": \"\", \"title\": {\"standoff\": 15}, \"zerolinecolor\": \"white\", \"zerolinewidth\": 2}}}, \"width\": 800, \"xaxis\": {\"anchor\": \"y\", \"domain\": [0.0, 0.45]}, \"xaxis2\": {\"anchor\": \"y2\", \"domain\": [0.55, 1.0]}, \"xaxis3\": {\"anchor\": \"y3\", \"domain\": [0.0, 0.45]}, \"xaxis4\": {\"anchor\": \"y4\", \"domain\": [0.55, 1.0]}, \"xaxis5\": {\"anchor\": \"y5\", \"domain\": [0.0, 0.45]}, \"xaxis6\": {\"anchor\": \"y6\", \"domain\": [0.55, 1.0]}, \"xaxis7\": {\"anchor\": \"y7\", \"domain\": [0.0, 0.45]}, \"xaxis8\": {\"anchor\": \"y8\", \"domain\": [0.55, 1.0]}, \"yaxis\": {\"anchor\": \"x\", \"domain\": [0.78, 1.0]}, \"yaxis2\": {\"anchor\": \"x2\", \"domain\": [0.78, 1.0]}, \"yaxis3\": {\"anchor\": \"x3\", \"domain\": [0.52, 0.74]}, \"yaxis4\": {\"anchor\": \"x4\", \"domain\": [0.52, 0.74]}, \"yaxis5\": {\"anchor\": \"x5\", \"domain\": [0.26, 0.48]}, \"yaxis6\": {\"anchor\": \"x6\", \"domain\": [0.26, 0.48]}, \"yaxis7\": {\"anchor\": \"x7\", \"domain\": [0.0, 0.22]}, \"yaxis8\": {\"anchor\": \"x8\", \"domain\": [0.0, 0.22]}},\n",
       "                        {\"responsive\": true}\n",
       "                    ).then(function(){\n",
       "                            \n",
       "var gd = document.getElementById('56e92f28-b8f3-433f-bf3a-3096ae165620');\n",
       "var x = new MutationObserver(function (mutations, observer) {{\n",
       "        var display = window.getComputedStyle(gd).display;\n",
       "        if (!display || display === 'none') {{\n",
       "            console.log([gd, 'removed!']);\n",
       "            Plotly.purge(gd);\n",
       "            observer.disconnect();\n",
       "        }}\n",
       "}});\n",
       "\n",
       "// Listen for the removal of the full notebook cells\n",
       "var notebookContainer = gd.closest('#notebook-container');\n",
       "if (notebookContainer) {{\n",
       "    x.observe(notebookContainer, {childList: true});\n",
       "}}\n",
       "\n",
       "// Listen for the clearing of the current output cell\n",
       "var outputEl = gd.closest('.output');\n",
       "if (outputEl) {{\n",
       "    x.observe(outputEl, {childList: true});\n",
       "}}\n",
       "\n",
       "                        })\n",
       "                };\n",
       "                });\n",
       "            </script>\n",
       "        </div>"
      ]
     },
     "metadata": {},
     "output_type": "display_data"
    }
   ],
   "source": [
    "fig_wais_sub.add_trace(go.Scatter(x= df_wais_sub['age'], y=df_wais_sub[subplot_titles[4]], mode=\"markers+text\",\n",
    "            marker={'size': 10, \"color\": df_wais_sub['Type_color'] },\n",
    "            hovertext= df_wais_sub['ID_SECONDAIRE'] +\", \"+ df_wais_sub['Type']),\n",
    "            row=1, col=1)\n",
    "\n",
    "fig_wais_sub.add_trace(go.Scatter(x= df_wais_sub['age'], y=df_wais_sub[subplot_titles[5]], mode=\"markers+text\",\n",
    "            marker={'size': 10, \"color\": df_wais_sub['Type_color'] },\n",
    "            hovertext= df_wais_sub['ID_SECONDAIRE'] +\", \"+ df_wais_sub['Type']),\n",
    "              row=1, col=2)\n",
    "\n",
    "fig_wais_sub.add_trace(go.Scatter(x= df_wais_sub['age'], y=df_wais_sub[subplot_titles[6]], mode=\"markers+text\",\n",
    "            marker={'size': 10, \"color\": df_wais_sub['Type_color'] },\n",
    "            hovertext= df_wais_sub['ID_SECONDAIRE'] +\", \"+ df_wais_sub['Type']),\n",
    "              row=2, col=1)\n",
    "\n",
    "fig_wais_sub.add_trace(go.Scatter(x= df_wais_sub['age'], y=df_wais_sub[subplot_titles[7]], mode=\"markers+text\",\n",
    "            marker={'size': 10, \"color\": df_wais_sub['Type_color'] },\n",
    "            hovertext= df_wais_sub['ID_SECONDAIRE'] +\", \"+ df_wais_sub['Type']),\n",
    "            row=2, col=2)\n",
    "\n",
    "fig_wais_sub.add_trace(go.Scatter(x= df_wais_sub['age'], y=df_wais_sub[subplot_titles[8]], mode=\"markers+text\",\n",
    "            marker={'size': 10, \"color\": df_wais_sub['Type_color'] },\n",
    "            hovertext= df_wais_sub['ID_SECONDAIRE'] +\", \"+ df_wais_sub['Type']),\n",
    "            row=3, col=1)\n",
    "                                                             \n",
    "fig_wais_sub.add_trace(go.Scatter(x= df_wais_sub['age'], y=df_wais_sub[subplot_titles[9]], mode=\"markers+text\",\n",
    "            marker={'size': 10, \"color\": df_wais_sub['Type_color'] },\n",
    "            hovertext= df_wais_sub['ID_SECONDAIRE'] +\", \"+ df_wais_sub['Type']),\n",
    "            row=3, col=2)\n",
    "    \n",
    "fig_wais_sub.add_trace(go.Scatter(x= df_wais_sub['age'], y=df_wais_sub[subplot_titles[10]], mode=\"markers+text\",\n",
    "            marker={'size': 10, \"color\": df_wais_sub['Type_color'] },\n",
    "            hovertext= df_wais_sub['ID_SECONDAIRE'] +\", \"+ df_wais_sub['Type']),\n",
    "            row=4, col=1)\n",
    "    \n",
    "fig_wais_sub.update_layout(height=1500, width=800,\n",
    "                   showlegend=False\n",
    "            )"
   ]
  },
  {
   "cell_type": "code",
   "execution_count": 57,
   "metadata": {
    "ExecuteTime": {
     "end_time": "2020-11-26T13:40:04.168158Z",
     "start_time": "2020-11-26T13:40:04.150761Z"
    }
   },
   "outputs": [],
   "source": [
    "df_wais_sub_agg = df_wais_sub.agg(['min', 'max', 'mean', 'median', 'count'])\n",
    "#\n",
    "df_wais_sub_agg.index.name = \"Aggrégation\"\n",
    "df_wais_sub_agg.reset_index(inplace=True)\n",
    "#\n",
    "df_wais_sub_agg = df_wais_sub_agg.replace({'Aggrégation' : {\"min\":\"Min\",\"max\":\"Max\",\"mean\":\"Moyenne\", \"median\":\"Médiane\", \"count\":\"Effectif\"}})"
   ]
  },
  {
   "cell_type": "code",
   "execution_count": 58,
   "metadata": {
    "ExecuteTime": {
     "end_time": "2020-11-26T13:40:04.992506Z",
     "start_time": "2020-11-26T13:40:04.989050Z"
    }
   },
   "outputs": [],
   "source": [
    "df_wais_sub_agg = df_wais_sub_agg.drop(columns= ['ID_SECONDAIRE','Type', 'Type_color', 'age' ])"
   ]
  },
  {
   "cell_type": "code",
   "execution_count": 59,
   "metadata": {
    "ExecuteTime": {
     "end_time": "2020-11-26T13:40:05.628359Z",
     "start_time": "2020-11-26T13:40:05.624050Z"
    }
   },
   "outputs": [],
   "source": [
    "df_wais_sub_agg = df_wais_sub_agg.round(2)"
   ]
  },
  {
   "cell_type": "code",
   "execution_count": 60,
   "metadata": {
    "ExecuteTime": {
     "end_time": "2020-11-26T13:40:06.341771Z",
     "start_time": "2020-11-26T13:40:06.335361Z"
    }
   },
   "outputs": [],
   "source": [
    "wais_sub =  go.Table(\n",
    "                header=dict(values=list(df_wais_sub_agg.columns[:]),\n",
    "                align='left'),\n",
    "                cells=dict(values= [df_wais_sub_agg.iloc[:,0], df_wais_sub_agg.iloc[:,1], df_wais_sub_agg.iloc[:,2], df_wais_sub_agg.iloc[:,3]\n",
    "                           , df_wais_sub_agg.iloc[:,4], df_wais_sub_agg.iloc[:,5], df_wais_sub_agg.iloc[:,6], df_wais_sub_agg.iloc[:,7]], align='left'))"
   ]
  },
  {
   "cell_type": "code",
   "execution_count": 62,
   "metadata": {
    "ExecuteTime": {
     "end_time": "2020-11-26T13:40:16.178303Z",
     "start_time": "2020-11-26T13:40:16.066822Z"
    }
   },
   "outputs": [
    {
     "data": {
      "application/vnd.plotly.v1+json": {
       "config": {
        "plotlyServerURL": "https://plot.ly"
       },
       "data": [
        {
         "cells": {
          "align": "left",
          "values": [
           [
            "Min",
            "Max",
            "Effectif",
            "Moyenne",
            "Médiane"
           ],
           [
            1,
            11,
            17,
            4.82,
            4
           ],
           [
            1,
            14,
            17,
            5.88,
            5
           ],
           [
            3,
            21,
            16,
            11,
            10
           ],
           [
            52,
            103,
            16,
            74.44,
            71
           ],
           [
            0,
            58,
            16,
            12.62,
            3
           ],
           [
            48,
            96,
            16,
            69,
            66
           ],
           [
            62,
            110,
            16,
            83.31,
            80
           ]
          ]
         },
         "header": {
          "align": "left",
          "values": [
           "Aggrégation",
           "Note standard Mémoires des chiffres",
           "Note standard Arithmétique",
           "Total des notes standards IMT",
           "Note composite IMT",
           "Rang percentile IMT",
           "Note écart type inférieure IMT",
           "Note écart type supérieure IMT"
          ]
         },
         "type": "table"
        }
       ],
       "layout": {
        "height": 400,
        "template": {
         "data": {
          "bar": [
           {
            "error_x": {
             "color": "#2a3f5f"
            },
            "error_y": {
             "color": "#2a3f5f"
            },
            "marker": {
             "line": {
              "color": "#E5ECF6",
              "width": 0.5
             }
            },
            "type": "bar"
           }
          ],
          "barpolar": [
           {
            "marker": {
             "line": {
              "color": "#E5ECF6",
              "width": 0.5
             }
            },
            "type": "barpolar"
           }
          ],
          "carpet": [
           {
            "aaxis": {
             "endlinecolor": "#2a3f5f",
             "gridcolor": "white",
             "linecolor": "white",
             "minorgridcolor": "white",
             "startlinecolor": "#2a3f5f"
            },
            "baxis": {
             "endlinecolor": "#2a3f5f",
             "gridcolor": "white",
             "linecolor": "white",
             "minorgridcolor": "white",
             "startlinecolor": "#2a3f5f"
            },
            "type": "carpet"
           }
          ],
          "choropleth": [
           {
            "colorbar": {
             "outlinewidth": 0,
             "ticks": ""
            },
            "type": "choropleth"
           }
          ],
          "contour": [
           {
            "colorbar": {
             "outlinewidth": 0,
             "ticks": ""
            },
            "colorscale": [
             [
              0,
              "#0d0887"
             ],
             [
              0.1111111111111111,
              "#46039f"
             ],
             [
              0.2222222222222222,
              "#7201a8"
             ],
             [
              0.3333333333333333,
              "#9c179e"
             ],
             [
              0.4444444444444444,
              "#bd3786"
             ],
             [
              0.5555555555555556,
              "#d8576b"
             ],
             [
              0.6666666666666666,
              "#ed7953"
             ],
             [
              0.7777777777777778,
              "#fb9f3a"
             ],
             [
              0.8888888888888888,
              "#fdca26"
             ],
             [
              1,
              "#f0f921"
             ]
            ],
            "type": "contour"
           }
          ],
          "contourcarpet": [
           {
            "colorbar": {
             "outlinewidth": 0,
             "ticks": ""
            },
            "type": "contourcarpet"
           }
          ],
          "heatmap": [
           {
            "colorbar": {
             "outlinewidth": 0,
             "ticks": ""
            },
            "colorscale": [
             [
              0,
              "#0d0887"
             ],
             [
              0.1111111111111111,
              "#46039f"
             ],
             [
              0.2222222222222222,
              "#7201a8"
             ],
             [
              0.3333333333333333,
              "#9c179e"
             ],
             [
              0.4444444444444444,
              "#bd3786"
             ],
             [
              0.5555555555555556,
              "#d8576b"
             ],
             [
              0.6666666666666666,
              "#ed7953"
             ],
             [
              0.7777777777777778,
              "#fb9f3a"
             ],
             [
              0.8888888888888888,
              "#fdca26"
             ],
             [
              1,
              "#f0f921"
             ]
            ],
            "type": "heatmap"
           }
          ],
          "heatmapgl": [
           {
            "colorbar": {
             "outlinewidth": 0,
             "ticks": ""
            },
            "colorscale": [
             [
              0,
              "#0d0887"
             ],
             [
              0.1111111111111111,
              "#46039f"
             ],
             [
              0.2222222222222222,
              "#7201a8"
             ],
             [
              0.3333333333333333,
              "#9c179e"
             ],
             [
              0.4444444444444444,
              "#bd3786"
             ],
             [
              0.5555555555555556,
              "#d8576b"
             ],
             [
              0.6666666666666666,
              "#ed7953"
             ],
             [
              0.7777777777777778,
              "#fb9f3a"
             ],
             [
              0.8888888888888888,
              "#fdca26"
             ],
             [
              1,
              "#f0f921"
             ]
            ],
            "type": "heatmapgl"
           }
          ],
          "histogram": [
           {
            "marker": {
             "colorbar": {
              "outlinewidth": 0,
              "ticks": ""
             }
            },
            "type": "histogram"
           }
          ],
          "histogram2d": [
           {
            "colorbar": {
             "outlinewidth": 0,
             "ticks": ""
            },
            "colorscale": [
             [
              0,
              "#0d0887"
             ],
             [
              0.1111111111111111,
              "#46039f"
             ],
             [
              0.2222222222222222,
              "#7201a8"
             ],
             [
              0.3333333333333333,
              "#9c179e"
             ],
             [
              0.4444444444444444,
              "#bd3786"
             ],
             [
              0.5555555555555556,
              "#d8576b"
             ],
             [
              0.6666666666666666,
              "#ed7953"
             ],
             [
              0.7777777777777778,
              "#fb9f3a"
             ],
             [
              0.8888888888888888,
              "#fdca26"
             ],
             [
              1,
              "#f0f921"
             ]
            ],
            "type": "histogram2d"
           }
          ],
          "histogram2dcontour": [
           {
            "colorbar": {
             "outlinewidth": 0,
             "ticks": ""
            },
            "colorscale": [
             [
              0,
              "#0d0887"
             ],
             [
              0.1111111111111111,
              "#46039f"
             ],
             [
              0.2222222222222222,
              "#7201a8"
             ],
             [
              0.3333333333333333,
              "#9c179e"
             ],
             [
              0.4444444444444444,
              "#bd3786"
             ],
             [
              0.5555555555555556,
              "#d8576b"
             ],
             [
              0.6666666666666666,
              "#ed7953"
             ],
             [
              0.7777777777777778,
              "#fb9f3a"
             ],
             [
              0.8888888888888888,
              "#fdca26"
             ],
             [
              1,
              "#f0f921"
             ]
            ],
            "type": "histogram2dcontour"
           }
          ],
          "mesh3d": [
           {
            "colorbar": {
             "outlinewidth": 0,
             "ticks": ""
            },
            "type": "mesh3d"
           }
          ],
          "parcoords": [
           {
            "line": {
             "colorbar": {
              "outlinewidth": 0,
              "ticks": ""
             }
            },
            "type": "parcoords"
           }
          ],
          "pie": [
           {
            "automargin": true,
            "type": "pie"
           }
          ],
          "scatter": [
           {
            "marker": {
             "colorbar": {
              "outlinewidth": 0,
              "ticks": ""
             }
            },
            "type": "scatter"
           }
          ],
          "scatter3d": [
           {
            "line": {
             "colorbar": {
              "outlinewidth": 0,
              "ticks": ""
             }
            },
            "marker": {
             "colorbar": {
              "outlinewidth": 0,
              "ticks": ""
             }
            },
            "type": "scatter3d"
           }
          ],
          "scattercarpet": [
           {
            "marker": {
             "colorbar": {
              "outlinewidth": 0,
              "ticks": ""
             }
            },
            "type": "scattercarpet"
           }
          ],
          "scattergeo": [
           {
            "marker": {
             "colorbar": {
              "outlinewidth": 0,
              "ticks": ""
             }
            },
            "type": "scattergeo"
           }
          ],
          "scattergl": [
           {
            "marker": {
             "colorbar": {
              "outlinewidth": 0,
              "ticks": ""
             }
            },
            "type": "scattergl"
           }
          ],
          "scattermapbox": [
           {
            "marker": {
             "colorbar": {
              "outlinewidth": 0,
              "ticks": ""
             }
            },
            "type": "scattermapbox"
           }
          ],
          "scatterpolar": [
           {
            "marker": {
             "colorbar": {
              "outlinewidth": 0,
              "ticks": ""
             }
            },
            "type": "scatterpolar"
           }
          ],
          "scatterpolargl": [
           {
            "marker": {
             "colorbar": {
              "outlinewidth": 0,
              "ticks": ""
             }
            },
            "type": "scatterpolargl"
           }
          ],
          "scatterternary": [
           {
            "marker": {
             "colorbar": {
              "outlinewidth": 0,
              "ticks": ""
             }
            },
            "type": "scatterternary"
           }
          ],
          "surface": [
           {
            "colorbar": {
             "outlinewidth": 0,
             "ticks": ""
            },
            "colorscale": [
             [
              0,
              "#0d0887"
             ],
             [
              0.1111111111111111,
              "#46039f"
             ],
             [
              0.2222222222222222,
              "#7201a8"
             ],
             [
              0.3333333333333333,
              "#9c179e"
             ],
             [
              0.4444444444444444,
              "#bd3786"
             ],
             [
              0.5555555555555556,
              "#d8576b"
             ],
             [
              0.6666666666666666,
              "#ed7953"
             ],
             [
              0.7777777777777778,
              "#fb9f3a"
             ],
             [
              0.8888888888888888,
              "#fdca26"
             ],
             [
              1,
              "#f0f921"
             ]
            ],
            "type": "surface"
           }
          ],
          "table": [
           {
            "cells": {
             "fill": {
              "color": "#EBF0F8"
             },
             "line": {
              "color": "white"
             }
            },
            "header": {
             "fill": {
              "color": "#C8D4E3"
             },
             "line": {
              "color": "white"
             }
            },
            "type": "table"
           }
          ]
         },
         "layout": {
          "annotationdefaults": {
           "arrowcolor": "#2a3f5f",
           "arrowhead": 0,
           "arrowwidth": 1
          },
          "coloraxis": {
           "colorbar": {
            "outlinewidth": 0,
            "ticks": ""
           }
          },
          "colorscale": {
           "diverging": [
            [
             0,
             "#8e0152"
            ],
            [
             0.1,
             "#c51b7d"
            ],
            [
             0.2,
             "#de77ae"
            ],
            [
             0.3,
             "#f1b6da"
            ],
            [
             0.4,
             "#fde0ef"
            ],
            [
             0.5,
             "#f7f7f7"
            ],
            [
             0.6,
             "#e6f5d0"
            ],
            [
             0.7,
             "#b8e186"
            ],
            [
             0.8,
             "#7fbc41"
            ],
            [
             0.9,
             "#4d9221"
            ],
            [
             1,
             "#276419"
            ]
           ],
           "sequential": [
            [
             0,
             "#0d0887"
            ],
            [
             0.1111111111111111,
             "#46039f"
            ],
            [
             0.2222222222222222,
             "#7201a8"
            ],
            [
             0.3333333333333333,
             "#9c179e"
            ],
            [
             0.4444444444444444,
             "#bd3786"
            ],
            [
             0.5555555555555556,
             "#d8576b"
            ],
            [
             0.6666666666666666,
             "#ed7953"
            ],
            [
             0.7777777777777778,
             "#fb9f3a"
            ],
            [
             0.8888888888888888,
             "#fdca26"
            ],
            [
             1,
             "#f0f921"
            ]
           ],
           "sequentialminus": [
            [
             0,
             "#0d0887"
            ],
            [
             0.1111111111111111,
             "#46039f"
            ],
            [
             0.2222222222222222,
             "#7201a8"
            ],
            [
             0.3333333333333333,
             "#9c179e"
            ],
            [
             0.4444444444444444,
             "#bd3786"
            ],
            [
             0.5555555555555556,
             "#d8576b"
            ],
            [
             0.6666666666666666,
             "#ed7953"
            ],
            [
             0.7777777777777778,
             "#fb9f3a"
            ],
            [
             0.8888888888888888,
             "#fdca26"
            ],
            [
             1,
             "#f0f921"
            ]
           ]
          },
          "colorway": [
           "#636efa",
           "#EF553B",
           "#00cc96",
           "#ab63fa",
           "#FFA15A",
           "#19d3f3",
           "#FF6692",
           "#B6E880",
           "#FF97FF",
           "#FECB52"
          ],
          "font": {
           "color": "#2a3f5f"
          },
          "geo": {
           "bgcolor": "white",
           "lakecolor": "white",
           "landcolor": "#E5ECF6",
           "showlakes": true,
           "showland": true,
           "subunitcolor": "white"
          },
          "hoverlabel": {
           "align": "left"
          },
          "hovermode": "closest",
          "mapbox": {
           "style": "light"
          },
          "paper_bgcolor": "white",
          "plot_bgcolor": "#E5ECF6",
          "polar": {
           "angularaxis": {
            "gridcolor": "white",
            "linecolor": "white",
            "ticks": ""
           },
           "bgcolor": "#E5ECF6",
           "radialaxis": {
            "gridcolor": "white",
            "linecolor": "white",
            "ticks": ""
           }
          },
          "scene": {
           "xaxis": {
            "backgroundcolor": "#E5ECF6",
            "gridcolor": "white",
            "gridwidth": 2,
            "linecolor": "white",
            "showbackground": true,
            "ticks": "",
            "zerolinecolor": "white"
           },
           "yaxis": {
            "backgroundcolor": "#E5ECF6",
            "gridcolor": "white",
            "gridwidth": 2,
            "linecolor": "white",
            "showbackground": true,
            "ticks": "",
            "zerolinecolor": "white"
           },
           "zaxis": {
            "backgroundcolor": "#E5ECF6",
            "gridcolor": "white",
            "gridwidth": 2,
            "linecolor": "white",
            "showbackground": true,
            "ticks": "",
            "zerolinecolor": "white"
           }
          },
          "shapedefaults": {
           "line": {
            "color": "#2a3f5f"
           }
          },
          "ternary": {
           "aaxis": {
            "gridcolor": "white",
            "linecolor": "white",
            "ticks": ""
           },
           "baxis": {
            "gridcolor": "white",
            "linecolor": "white",
            "ticks": ""
           },
           "bgcolor": "#E5ECF6",
           "caxis": {
            "gridcolor": "white",
            "linecolor": "white",
            "ticks": ""
           }
          },
          "title": {
           "x": 0.05
          },
          "xaxis": {
           "automargin": true,
           "gridcolor": "white",
           "linecolor": "white",
           "ticks": "",
           "title": {
            "standoff": 15
           },
           "zerolinecolor": "white",
           "zerolinewidth": 2
          },
          "yaxis": {
           "automargin": true,
           "gridcolor": "white",
           "linecolor": "white",
           "ticks": "",
           "title": {
            "standoff": 15
           },
           "zerolinecolor": "white",
           "zerolinewidth": 2
          }
         }
        },
        "width": 1000
       }
      },
      "text/html": [
       "<div>\n",
       "        \n",
       "        \n",
       "            <div id=\"d891b293-227b-4f66-86a6-eb3333633d45\" class=\"plotly-graph-div\" style=\"height:400px; width:1000px;\"></div>\n",
       "            <script type=\"text/javascript\">\n",
       "                require([\"plotly\"], function(Plotly) {\n",
       "                    window.PLOTLYENV=window.PLOTLYENV || {};\n",
       "                    \n",
       "                if (document.getElementById(\"d891b293-227b-4f66-86a6-eb3333633d45\")) {\n",
       "                    Plotly.newPlot(\n",
       "                        'd891b293-227b-4f66-86a6-eb3333633d45',\n",
       "                        [{\"cells\": {\"align\": \"left\", \"values\": [[\"Min\", \"Max\", \"Effectif\", \"Moyenne\", \"M\\u00e9diane\"], [1.0, 11.0, 17.0, 4.82, 4.0], [1.0, 14.0, 17.0, 5.88, 5.0], [3.0, 21.0, 16.0, 11.0, 10.0], [52.0, 103.0, 16.0, 74.44, 71.0], [0.0, 58.0, 16.0, 12.62, 3.0], [48.0, 96.0, 16.0, 69.0, 66.0], [62.0, 110.0, 16.0, 83.31, 80.0]]}, \"header\": {\"align\": \"left\", \"values\": [\"Aggr\\u00e9gation\", \"Note standard M\\u00e9moires des chiffres\", \"Note standard Arithm\\u00e9tique\", \"Total des notes standards IMT\", \"Note composite IMT\", \"Rang percentile IMT\", \"Note \\u00e9cart type inf\\u00e9rieure IMT\", \"Note \\u00e9cart type sup\\u00e9rieure IMT\"]}, \"type\": \"table\"}],\n",
       "                        {\"height\": 400, \"template\": {\"data\": {\"bar\": [{\"error_x\": {\"color\": \"#2a3f5f\"}, \"error_y\": {\"color\": \"#2a3f5f\"}, \"marker\": {\"line\": {\"color\": \"#E5ECF6\", \"width\": 0.5}}, \"type\": \"bar\"}], \"barpolar\": [{\"marker\": {\"line\": {\"color\": \"#E5ECF6\", \"width\": 0.5}}, \"type\": \"barpolar\"}], \"carpet\": [{\"aaxis\": {\"endlinecolor\": \"#2a3f5f\", \"gridcolor\": \"white\", \"linecolor\": \"white\", \"minorgridcolor\": \"white\", \"startlinecolor\": \"#2a3f5f\"}, \"baxis\": {\"endlinecolor\": \"#2a3f5f\", \"gridcolor\": \"white\", \"linecolor\": \"white\", \"minorgridcolor\": \"white\", \"startlinecolor\": \"#2a3f5f\"}, \"type\": \"carpet\"}], \"choropleth\": [{\"colorbar\": {\"outlinewidth\": 0, \"ticks\": \"\"}, \"type\": \"choropleth\"}], \"contour\": [{\"colorbar\": {\"outlinewidth\": 0, \"ticks\": \"\"}, \"colorscale\": [[0.0, \"#0d0887\"], [0.1111111111111111, \"#46039f\"], [0.2222222222222222, \"#7201a8\"], [0.3333333333333333, \"#9c179e\"], [0.4444444444444444, \"#bd3786\"], [0.5555555555555556, \"#d8576b\"], [0.6666666666666666, \"#ed7953\"], [0.7777777777777778, \"#fb9f3a\"], [0.8888888888888888, \"#fdca26\"], [1.0, \"#f0f921\"]], \"type\": \"contour\"}], \"contourcarpet\": [{\"colorbar\": {\"outlinewidth\": 0, \"ticks\": \"\"}, \"type\": \"contourcarpet\"}], \"heatmap\": [{\"colorbar\": {\"outlinewidth\": 0, \"ticks\": \"\"}, \"colorscale\": [[0.0, \"#0d0887\"], [0.1111111111111111, \"#46039f\"], [0.2222222222222222, \"#7201a8\"], [0.3333333333333333, \"#9c179e\"], [0.4444444444444444, \"#bd3786\"], [0.5555555555555556, \"#d8576b\"], [0.6666666666666666, \"#ed7953\"], [0.7777777777777778, \"#fb9f3a\"], [0.8888888888888888, \"#fdca26\"], [1.0, \"#f0f921\"]], \"type\": \"heatmap\"}], \"heatmapgl\": [{\"colorbar\": {\"outlinewidth\": 0, \"ticks\": \"\"}, \"colorscale\": [[0.0, \"#0d0887\"], [0.1111111111111111, \"#46039f\"], [0.2222222222222222, \"#7201a8\"], [0.3333333333333333, \"#9c179e\"], [0.4444444444444444, \"#bd3786\"], [0.5555555555555556, \"#d8576b\"], [0.6666666666666666, \"#ed7953\"], [0.7777777777777778, \"#fb9f3a\"], [0.8888888888888888, \"#fdca26\"], [1.0, \"#f0f921\"]], \"type\": \"heatmapgl\"}], \"histogram\": [{\"marker\": {\"colorbar\": {\"outlinewidth\": 0, \"ticks\": \"\"}}, \"type\": \"histogram\"}], \"histogram2d\": [{\"colorbar\": {\"outlinewidth\": 0, \"ticks\": \"\"}, \"colorscale\": [[0.0, \"#0d0887\"], [0.1111111111111111, \"#46039f\"], [0.2222222222222222, \"#7201a8\"], [0.3333333333333333, \"#9c179e\"], [0.4444444444444444, \"#bd3786\"], [0.5555555555555556, \"#d8576b\"], [0.6666666666666666, \"#ed7953\"], [0.7777777777777778, \"#fb9f3a\"], [0.8888888888888888, \"#fdca26\"], [1.0, \"#f0f921\"]], \"type\": \"histogram2d\"}], \"histogram2dcontour\": [{\"colorbar\": {\"outlinewidth\": 0, \"ticks\": \"\"}, \"colorscale\": [[0.0, \"#0d0887\"], [0.1111111111111111, \"#46039f\"], [0.2222222222222222, \"#7201a8\"], [0.3333333333333333, \"#9c179e\"], [0.4444444444444444, \"#bd3786\"], [0.5555555555555556, \"#d8576b\"], [0.6666666666666666, \"#ed7953\"], [0.7777777777777778, \"#fb9f3a\"], [0.8888888888888888, \"#fdca26\"], [1.0, \"#f0f921\"]], \"type\": \"histogram2dcontour\"}], \"mesh3d\": [{\"colorbar\": {\"outlinewidth\": 0, \"ticks\": \"\"}, \"type\": \"mesh3d\"}], \"parcoords\": [{\"line\": {\"colorbar\": {\"outlinewidth\": 0, \"ticks\": \"\"}}, \"type\": \"parcoords\"}], \"pie\": [{\"automargin\": true, \"type\": \"pie\"}], \"scatter\": [{\"marker\": {\"colorbar\": {\"outlinewidth\": 0, \"ticks\": \"\"}}, \"type\": \"scatter\"}], \"scatter3d\": [{\"line\": {\"colorbar\": {\"outlinewidth\": 0, \"ticks\": \"\"}}, \"marker\": {\"colorbar\": {\"outlinewidth\": 0, \"ticks\": \"\"}}, \"type\": \"scatter3d\"}], \"scattercarpet\": [{\"marker\": {\"colorbar\": {\"outlinewidth\": 0, \"ticks\": \"\"}}, \"type\": \"scattercarpet\"}], \"scattergeo\": [{\"marker\": {\"colorbar\": {\"outlinewidth\": 0, \"ticks\": \"\"}}, \"type\": \"scattergeo\"}], \"scattergl\": [{\"marker\": {\"colorbar\": {\"outlinewidth\": 0, \"ticks\": \"\"}}, \"type\": \"scattergl\"}], \"scattermapbox\": [{\"marker\": {\"colorbar\": {\"outlinewidth\": 0, \"ticks\": \"\"}}, \"type\": \"scattermapbox\"}], \"scatterpolar\": [{\"marker\": {\"colorbar\": {\"outlinewidth\": 0, \"ticks\": \"\"}}, \"type\": \"scatterpolar\"}], \"scatterpolargl\": [{\"marker\": {\"colorbar\": {\"outlinewidth\": 0, \"ticks\": \"\"}}, \"type\": \"scatterpolargl\"}], \"scatterternary\": [{\"marker\": {\"colorbar\": {\"outlinewidth\": 0, \"ticks\": \"\"}}, \"type\": \"scatterternary\"}], \"surface\": [{\"colorbar\": {\"outlinewidth\": 0, \"ticks\": \"\"}, \"colorscale\": [[0.0, \"#0d0887\"], [0.1111111111111111, \"#46039f\"], [0.2222222222222222, \"#7201a8\"], [0.3333333333333333, \"#9c179e\"], [0.4444444444444444, \"#bd3786\"], [0.5555555555555556, \"#d8576b\"], [0.6666666666666666, \"#ed7953\"], [0.7777777777777778, \"#fb9f3a\"], [0.8888888888888888, \"#fdca26\"], [1.0, \"#f0f921\"]], \"type\": \"surface\"}], \"table\": [{\"cells\": {\"fill\": {\"color\": \"#EBF0F8\"}, \"line\": {\"color\": \"white\"}}, \"header\": {\"fill\": {\"color\": \"#C8D4E3\"}, \"line\": {\"color\": \"white\"}}, \"type\": \"table\"}]}, \"layout\": {\"annotationdefaults\": {\"arrowcolor\": \"#2a3f5f\", \"arrowhead\": 0, \"arrowwidth\": 1}, \"coloraxis\": {\"colorbar\": {\"outlinewidth\": 0, \"ticks\": \"\"}}, \"colorscale\": {\"diverging\": [[0, \"#8e0152\"], [0.1, \"#c51b7d\"], [0.2, \"#de77ae\"], [0.3, \"#f1b6da\"], [0.4, \"#fde0ef\"], [0.5, \"#f7f7f7\"], [0.6, \"#e6f5d0\"], [0.7, \"#b8e186\"], [0.8, \"#7fbc41\"], [0.9, \"#4d9221\"], [1, \"#276419\"]], \"sequential\": [[0.0, \"#0d0887\"], [0.1111111111111111, \"#46039f\"], [0.2222222222222222, \"#7201a8\"], [0.3333333333333333, \"#9c179e\"], [0.4444444444444444, \"#bd3786\"], [0.5555555555555556, \"#d8576b\"], [0.6666666666666666, \"#ed7953\"], [0.7777777777777778, \"#fb9f3a\"], [0.8888888888888888, \"#fdca26\"], [1.0, \"#f0f921\"]], \"sequentialminus\": [[0.0, \"#0d0887\"], [0.1111111111111111, \"#46039f\"], [0.2222222222222222, \"#7201a8\"], [0.3333333333333333, \"#9c179e\"], [0.4444444444444444, \"#bd3786\"], [0.5555555555555556, \"#d8576b\"], [0.6666666666666666, \"#ed7953\"], [0.7777777777777778, \"#fb9f3a\"], [0.8888888888888888, \"#fdca26\"], [1.0, \"#f0f921\"]]}, \"colorway\": [\"#636efa\", \"#EF553B\", \"#00cc96\", \"#ab63fa\", \"#FFA15A\", \"#19d3f3\", \"#FF6692\", \"#B6E880\", \"#FF97FF\", \"#FECB52\"], \"font\": {\"color\": \"#2a3f5f\"}, \"geo\": {\"bgcolor\": \"white\", \"lakecolor\": \"white\", \"landcolor\": \"#E5ECF6\", \"showlakes\": true, \"showland\": true, \"subunitcolor\": \"white\"}, \"hoverlabel\": {\"align\": \"left\"}, \"hovermode\": \"closest\", \"mapbox\": {\"style\": \"light\"}, \"paper_bgcolor\": \"white\", \"plot_bgcolor\": \"#E5ECF6\", \"polar\": {\"angularaxis\": {\"gridcolor\": \"white\", \"linecolor\": \"white\", \"ticks\": \"\"}, \"bgcolor\": \"#E5ECF6\", \"radialaxis\": {\"gridcolor\": \"white\", \"linecolor\": \"white\", \"ticks\": \"\"}}, \"scene\": {\"xaxis\": {\"backgroundcolor\": \"#E5ECF6\", \"gridcolor\": \"white\", \"gridwidth\": 2, \"linecolor\": \"white\", \"showbackground\": true, \"ticks\": \"\", \"zerolinecolor\": \"white\"}, \"yaxis\": {\"backgroundcolor\": \"#E5ECF6\", \"gridcolor\": \"white\", \"gridwidth\": 2, \"linecolor\": \"white\", \"showbackground\": true, \"ticks\": \"\", \"zerolinecolor\": \"white\"}, \"zaxis\": {\"backgroundcolor\": \"#E5ECF6\", \"gridcolor\": \"white\", \"gridwidth\": 2, \"linecolor\": \"white\", \"showbackground\": true, \"ticks\": \"\", \"zerolinecolor\": \"white\"}}, \"shapedefaults\": {\"line\": {\"color\": \"#2a3f5f\"}}, \"ternary\": {\"aaxis\": {\"gridcolor\": \"white\", \"linecolor\": \"white\", \"ticks\": \"\"}, \"baxis\": {\"gridcolor\": \"white\", \"linecolor\": \"white\", \"ticks\": \"\"}, \"bgcolor\": \"#E5ECF6\", \"caxis\": {\"gridcolor\": \"white\", \"linecolor\": \"white\", \"ticks\": \"\"}}, \"title\": {\"x\": 0.05}, \"xaxis\": {\"automargin\": true, \"gridcolor\": \"white\", \"linecolor\": \"white\", \"ticks\": \"\", \"title\": {\"standoff\": 15}, \"zerolinecolor\": \"white\", \"zerolinewidth\": 2}, \"yaxis\": {\"automargin\": true, \"gridcolor\": \"white\", \"linecolor\": \"white\", \"ticks\": \"\", \"title\": {\"standoff\": 15}, \"zerolinecolor\": \"white\", \"zerolinewidth\": 2}}}, \"width\": 1000},\n",
       "                        {\"responsive\": true}\n",
       "                    ).then(function(){\n",
       "                            \n",
       "var gd = document.getElementById('d891b293-227b-4f66-86a6-eb3333633d45');\n",
       "var x = new MutationObserver(function (mutations, observer) {{\n",
       "        var display = window.getComputedStyle(gd).display;\n",
       "        if (!display || display === 'none') {{\n",
       "            console.log([gd, 'removed!']);\n",
       "            Plotly.purge(gd);\n",
       "            observer.disconnect();\n",
       "        }}\n",
       "}});\n",
       "\n",
       "// Listen for the removal of the full notebook cells\n",
       "var notebookContainer = gd.closest('#notebook-container');\n",
       "if (notebookContainer) {{\n",
       "    x.observe(notebookContainer, {childList: true});\n",
       "}}\n",
       "\n",
       "// Listen for the clearing of the current output cell\n",
       "var outputEl = gd.closest('.output');\n",
       "if (outputEl) {{\n",
       "    x.observe(outputEl, {childList: true});\n",
       "}}\n",
       "\n",
       "                        })\n",
       "                };\n",
       "                });\n",
       "            </script>\n",
       "        </div>"
      ]
     },
     "metadata": {},
     "output_type": "display_data"
    }
   ],
   "source": [
    "fig = go.Figure(data=wais_sub)\n",
    "fig.update_layout(width=1000, height=400)\n",
    "fig.show()"
   ]
  },
  {
   "cell_type": "code",
   "execution_count": 63,
   "metadata": {
    "ExecuteTime": {
     "end_time": "2020-11-26T13:40:28.586413Z",
     "start_time": "2020-11-26T13:40:28.582639Z"
    }
   },
   "outputs": [
    {
     "data": {
      "text/html": [
       "<h5>2.1. WAIS IVT</h5>"
      ],
      "text/plain": [
       "<IPython.core.display.HTML object>"
      ]
     },
     "metadata": {},
     "output_type": "display_data"
    }
   ],
   "source": [
    "display(HTML('<h5>2.1. WAIS IVT</h5>'))"
   ]
  },
  {
   "cell_type": "code",
   "execution_count": 64,
   "metadata": {
    "ExecuteTime": {
     "end_time": "2020-11-26T13:40:29.268162Z",
     "start_time": "2020-11-26T13:40:29.264515Z"
    }
   },
   "outputs": [],
   "source": [
    "age_moy = df_wais[df_wais['Total des notes standards IVT'].notna()]['age'].mean()"
   ]
  },
  {
   "cell_type": "code",
   "execution_count": 65,
   "metadata": {
    "ExecuteTime": {
     "end_time": "2020-11-26T13:40:29.793142Z",
     "start_time": "2020-11-26T13:40:29.789210Z"
    }
   },
   "outputs": [
    {
     "data": {
      "text/html": [
       "<p>Moyenne d'âge : 29.28</p>"
      ],
      "text/plain": [
       "<IPython.core.display.HTML object>"
      ]
     },
     "metadata": {},
     "output_type": "display_data"
    }
   ],
   "source": [
    "display(HTML(\"<p>Moyenne d'âge : \"+str(round(age_moy,2))+\"</p>\"))"
   ]
  },
  {
   "cell_type": "code",
   "execution_count": 66,
   "metadata": {
    "ExecuteTime": {
     "end_time": "2020-11-26T13:40:30.482781Z",
     "start_time": "2020-11-26T13:40:30.479213Z"
    }
   },
   "outputs": [],
   "source": [
    "df_wais_sub= df_wais.iloc[:,[0,1,2,-1, 29, 30, 31, 32, 33, 34, 35]]"
   ]
  },
  {
   "cell_type": "code",
   "execution_count": 67,
   "metadata": {
    "ExecuteTime": {
     "end_time": "2020-11-26T13:40:31.165255Z",
     "start_time": "2020-11-26T13:40:31.162739Z"
    }
   },
   "outputs": [],
   "source": [
    "subplot_titles = df_wais_sub.columns.values.tolist()"
   ]
  },
  {
   "cell_type": "code",
   "execution_count": 68,
   "metadata": {
    "ExecuteTime": {
     "end_time": "2020-11-26T13:40:32.065437Z",
     "start_time": "2020-11-26T13:40:31.881295Z"
    }
   },
   "outputs": [],
   "source": [
    "fig_wais_sub = make_subplots(\n",
    "    rows=4, cols=2,\n",
    "    shared_xaxes=False,\n",
    "    row_heights=[0.20, 0.20, 0.20, 0.20],\n",
    "    column_widths=[0.5, 0.5],\n",
    "    subplot_titles= subplot_titles[4:],\n",
    "    x_title='Âge',\n",
    "    y_title='Score',\n",
    "    vertical_spacing= 0.04 )\n",
    "df_wais_sub = df_wais_sub.sort_values(by=['age'])"
   ]
  },
  {
   "cell_type": "code",
   "execution_count": 69,
   "metadata": {
    "ExecuteTime": {
     "end_time": "2020-11-26T13:40:32.926745Z",
     "start_time": "2020-11-26T13:40:32.848007Z"
    }
   },
   "outputs": [
    {
     "data": {
      "application/vnd.plotly.v1+json": {
       "config": {
        "plotlyServerURL": "https://plot.ly"
       },
       "data": [
        {
         "hovertext": [
          "EF 2E 22 E0 EA, Type 1",
          "B6 A4 CD 3A 81, Type 1",
          "C2 C3 05 A8 4B, Type 1",
          "39 CA BD 3C 82, Type 1",
          "7B DE 78 5B F6, Type 1",
          "9B 8E 44 F8 FF, Type 1",
          "35 86 13 56 24, Type 1",
          "73 EC 1B D7 9B, Type 1",
          "7D 76 3D FC 91, Type 1",
          "AB A5 ED 43 8B, Type 1",
          "01 83 17 5E 89, Type 1",
          "B9 5D 22 14 86, Type 1",
          "A1 54 32 B1 53, Type 1",
          "FD 11 B7 CF 8F, Type 1",
          "DB 6B 59 3A 0C, Type 1",
          "F1 C2 1C 3A FC, Type 1",
          "98 2C 1A AA 87, Type 1",
          "A2 D7 D0 A4 2A, Type 1",
          "02 92 7B FF E6, Type 1",
          "06 25 B6 B7 F5, Type 1"
         ],
         "marker": {
          "color": [
           "#33ffc9",
           "#33ffc9",
           "#33ffc9",
           "#33ffc9",
           "#33ffc9",
           "#33ffc9",
           "#33ffc9",
           "#33ffc9",
           "#33ffc9",
           "#33ffc9",
           "#33ffc9",
           "#33ffc9",
           "#33ffc9",
           "#33ffc9",
           "#33ffc9",
           "#33ffc9",
           "#33ffc9",
           "#33ffc9",
           "#33ffc9",
           "#33ffc9"
          ],
          "size": 10
         },
         "mode": "markers+text",
         "type": "scatter",
         "x": [
          19,
          19,
          20,
          22,
          23,
          25,
          27,
          28,
          29,
          29,
          31,
          32,
          32,
          33,
          34,
          34,
          36,
          37,
          41,
          44
         ],
         "xaxis": "x",
         "y": [
          7,
          10,
          5,
          8,
          12,
          1,
          1,
          3,
          9,
          6,
          6,
          7,
          3,
          8,
          4,
          8,
          8,
          8,
          null,
          6
         ],
         "yaxis": "y"
        },
        {
         "hovertext": [
          "EF 2E 22 E0 EA, Type 1",
          "B6 A4 CD 3A 81, Type 1",
          "C2 C3 05 A8 4B, Type 1",
          "39 CA BD 3C 82, Type 1",
          "7B DE 78 5B F6, Type 1",
          "9B 8E 44 F8 FF, Type 1",
          "35 86 13 56 24, Type 1",
          "73 EC 1B D7 9B, Type 1",
          "7D 76 3D FC 91, Type 1",
          "AB A5 ED 43 8B, Type 1",
          "01 83 17 5E 89, Type 1",
          "B9 5D 22 14 86, Type 1",
          "A1 54 32 B1 53, Type 1",
          "FD 11 B7 CF 8F, Type 1",
          "DB 6B 59 3A 0C, Type 1",
          "F1 C2 1C 3A FC, Type 1",
          "98 2C 1A AA 87, Type 1",
          "A2 D7 D0 A4 2A, Type 1",
          "02 92 7B FF E6, Type 1",
          "06 25 B6 B7 F5, Type 1"
         ],
         "marker": {
          "color": [
           "#33ffc9",
           "#33ffc9",
           "#33ffc9",
           "#33ffc9",
           "#33ffc9",
           "#33ffc9",
           "#33ffc9",
           "#33ffc9",
           "#33ffc9",
           "#33ffc9",
           "#33ffc9",
           "#33ffc9",
           "#33ffc9",
           "#33ffc9",
           "#33ffc9",
           "#33ffc9",
           "#33ffc9",
           "#33ffc9",
           "#33ffc9",
           "#33ffc9"
          ],
          "size": 10
         },
         "mode": "markers+text",
         "type": "scatter",
         "x": [
          19,
          19,
          20,
          22,
          23,
          25,
          27,
          28,
          29,
          29,
          31,
          32,
          32,
          33,
          34,
          34,
          36,
          37,
          41,
          44
         ],
         "xaxis": "x2",
         "y": [
          1,
          5,
          5,
          11,
          8,
          8,
          null,
          1,
          8,
          7,
          5,
          8,
          7,
          9,
          5,
          15,
          9,
          8,
          null,
          7
         ],
         "yaxis": "y2"
        },
        {
         "hovertext": [
          "EF 2E 22 E0 EA, Type 1",
          "B6 A4 CD 3A 81, Type 1",
          "C2 C3 05 A8 4B, Type 1",
          "39 CA BD 3C 82, Type 1",
          "7B DE 78 5B F6, Type 1",
          "9B 8E 44 F8 FF, Type 1",
          "35 86 13 56 24, Type 1",
          "73 EC 1B D7 9B, Type 1",
          "7D 76 3D FC 91, Type 1",
          "AB A5 ED 43 8B, Type 1",
          "01 83 17 5E 89, Type 1",
          "B9 5D 22 14 86, Type 1",
          "A1 54 32 B1 53, Type 1",
          "FD 11 B7 CF 8F, Type 1",
          "DB 6B 59 3A 0C, Type 1",
          "F1 C2 1C 3A FC, Type 1",
          "98 2C 1A AA 87, Type 1",
          "A2 D7 D0 A4 2A, Type 1",
          "02 92 7B FF E6, Type 1",
          "06 25 B6 B7 F5, Type 1"
         ],
         "marker": {
          "color": [
           "#33ffc9",
           "#33ffc9",
           "#33ffc9",
           "#33ffc9",
           "#33ffc9",
           "#33ffc9",
           "#33ffc9",
           "#33ffc9",
           "#33ffc9",
           "#33ffc9",
           "#33ffc9",
           "#33ffc9",
           "#33ffc9",
           "#33ffc9",
           "#33ffc9",
           "#33ffc9",
           "#33ffc9",
           "#33ffc9",
           "#33ffc9",
           "#33ffc9"
          ],
          "size": 10
         },
         "mode": "markers+text",
         "type": "scatter",
         "x": [
          19,
          19,
          20,
          22,
          23,
          25,
          27,
          28,
          29,
          29,
          31,
          32,
          32,
          33,
          34,
          34,
          36,
          37,
          41,
          44
         ],
         "xaxis": "x3",
         "y": [
          8,
          15,
          10,
          19,
          20,
          9,
          null,
          4,
          17,
          13,
          11,
          15,
          10,
          17,
          9,
          23,
          17,
          16,
          null,
          13
         ],
         "yaxis": "y3"
        },
        {
         "hovertext": [
          "EF 2E 22 E0 EA, Type 1",
          "B6 A4 CD 3A 81, Type 1",
          "C2 C3 05 A8 4B, Type 1",
          "39 CA BD 3C 82, Type 1",
          "7B DE 78 5B F6, Type 1",
          "9B 8E 44 F8 FF, Type 1",
          "35 86 13 56 24, Type 1",
          "73 EC 1B D7 9B, Type 1",
          "7D 76 3D FC 91, Type 1",
          "AB A5 ED 43 8B, Type 1",
          "01 83 17 5E 89, Type 1",
          "B9 5D 22 14 86, Type 1",
          "A1 54 32 B1 53, Type 1",
          "FD 11 B7 CF 8F, Type 1",
          "DB 6B 59 3A 0C, Type 1",
          "F1 C2 1C 3A FC, Type 1",
          "98 2C 1A AA 87, Type 1",
          "A2 D7 D0 A4 2A, Type 1",
          "02 92 7B FF E6, Type 1",
          "06 25 B6 B7 F5, Type 1"
         ],
         "marker": {
          "color": [
           "#33ffc9",
           "#33ffc9",
           "#33ffc9",
           "#33ffc9",
           "#33ffc9",
           "#33ffc9",
           "#33ffc9",
           "#33ffc9",
           "#33ffc9",
           "#33ffc9",
           "#33ffc9",
           "#33ffc9",
           "#33ffc9",
           "#33ffc9",
           "#33ffc9",
           "#33ffc9",
           "#33ffc9",
           "#33ffc9",
           "#33ffc9",
           "#33ffc9"
          ],
          "size": 10
         },
         "mode": "markers+text",
         "type": "scatter",
         "x": [
          19,
          19,
          20,
          22,
          23,
          25,
          27,
          28,
          29,
          29,
          31,
          32,
          32,
          33,
          34,
          34,
          36,
          37,
          41,
          44
         ],
         "xaxis": "x4",
         "y": [
          66,
          86,
          72,
          97,
          100,
          69,
          null,
          55,
          92,
          81,
          75,
          86,
          72,
          92,
          69,
          108,
          92,
          89,
          null,
          81
         ],
         "yaxis": "y4"
        },
        {
         "hovertext": [
          "EF 2E 22 E0 EA, Type 1",
          "B6 A4 CD 3A 81, Type 1",
          "C2 C3 05 A8 4B, Type 1",
          "39 CA BD 3C 82, Type 1",
          "7B DE 78 5B F6, Type 1",
          "9B 8E 44 F8 FF, Type 1",
          "35 86 13 56 24, Type 1",
          "73 EC 1B D7 9B, Type 1",
          "7D 76 3D FC 91, Type 1",
          "AB A5 ED 43 8B, Type 1",
          "01 83 17 5E 89, Type 1",
          "B9 5D 22 14 86, Type 1",
          "A1 54 32 B1 53, Type 1",
          "FD 11 B7 CF 8F, Type 1",
          "DB 6B 59 3A 0C, Type 1",
          "F1 C2 1C 3A FC, Type 1",
          "98 2C 1A AA 87, Type 1",
          "A2 D7 D0 A4 2A, Type 1",
          "02 92 7B FF E6, Type 1",
          "06 25 B6 B7 F5, Type 1"
         ],
         "marker": {
          "color": [
           "#33ffc9",
           "#33ffc9",
           "#33ffc9",
           "#33ffc9",
           "#33ffc9",
           "#33ffc9",
           "#33ffc9",
           "#33ffc9",
           "#33ffc9",
           "#33ffc9",
           "#33ffc9",
           "#33ffc9",
           "#33ffc9",
           "#33ffc9",
           "#33ffc9",
           "#33ffc9",
           "#33ffc9",
           "#33ffc9",
           "#33ffc9",
           "#33ffc9"
          ],
          "size": 10
         },
         "mode": "markers+text",
         "type": "scatter",
         "x": [
          19,
          19,
          20,
          22,
          23,
          25,
          27,
          28,
          29,
          29,
          31,
          32,
          32,
          33,
          34,
          34,
          36,
          37,
          41,
          44
         ],
         "xaxis": "x5",
         "y": [
          1,
          18,
          3,
          42,
          50,
          2,
          null,
          0,
          30,
          10,
          5,
          18,
          3,
          30,
          2,
          70,
          30,
          23,
          null,
          10
         ],
         "yaxis": "y5"
        },
        {
         "hovertext": [
          "EF 2E 22 E0 EA, Type 1",
          "B6 A4 CD 3A 81, Type 1",
          "C2 C3 05 A8 4B, Type 1",
          "39 CA BD 3C 82, Type 1",
          "7B DE 78 5B F6, Type 1",
          "9B 8E 44 F8 FF, Type 1",
          "35 86 13 56 24, Type 1",
          "73 EC 1B D7 9B, Type 1",
          "7D 76 3D FC 91, Type 1",
          "AB A5 ED 43 8B, Type 1",
          "01 83 17 5E 89, Type 1",
          "B9 5D 22 14 86, Type 1",
          "A1 54 32 B1 53, Type 1",
          "FD 11 B7 CF 8F, Type 1",
          "DB 6B 59 3A 0C, Type 1",
          "F1 C2 1C 3A FC, Type 1",
          "98 2C 1A AA 87, Type 1",
          "A2 D7 D0 A4 2A, Type 1",
          "02 92 7B FF E6, Type 1",
          "06 25 B6 B7 F5, Type 1"
         ],
         "marker": {
          "color": [
           "#33ffc9",
           "#33ffc9",
           "#33ffc9",
           "#33ffc9",
           "#33ffc9",
           "#33ffc9",
           "#33ffc9",
           "#33ffc9",
           "#33ffc9",
           "#33ffc9",
           "#33ffc9",
           "#33ffc9",
           "#33ffc9",
           "#33ffc9",
           "#33ffc9",
           "#33ffc9",
           "#33ffc9",
           "#33ffc9",
           "#33ffc9",
           "#33ffc9"
          ],
          "size": 10
         },
         "mode": "markers+text",
         "type": "scatter",
         "x": [
          19,
          19,
          20,
          22,
          23,
          25,
          27,
          28,
          29,
          29,
          31,
          32,
          32,
          33,
          34,
          34,
          36,
          37,
          41,
          44
         ],
         "xaxis": "x6",
         "y": [
          61,
          79,
          66,
          88,
          91,
          64,
          null,
          51,
          84,
          74,
          69,
          79,
          66,
          84,
          64,
          98,
          84,
          81,
          null,
          74
         ],
         "yaxis": "y6"
        },
        {
         "hovertext": [
          "EF 2E 22 E0 EA, Type 1",
          "B6 A4 CD 3A 81, Type 1",
          "C2 C3 05 A8 4B, Type 1",
          "39 CA BD 3C 82, Type 1",
          "7B DE 78 5B F6, Type 1",
          "9B 8E 44 F8 FF, Type 1",
          "35 86 13 56 24, Type 1",
          "73 EC 1B D7 9B, Type 1",
          "7D 76 3D FC 91, Type 1",
          "AB A5 ED 43 8B, Type 1",
          "01 83 17 5E 89, Type 1",
          "B9 5D 22 14 86, Type 1",
          "A1 54 32 B1 53, Type 1",
          "FD 11 B7 CF 8F, Type 1",
          "DB 6B 59 3A 0C, Type 1",
          "F1 C2 1C 3A FC, Type 1",
          "98 2C 1A AA 87, Type 1",
          "A2 D7 D0 A4 2A, Type 1",
          "02 92 7B FF E6, Type 1",
          "06 25 B6 B7 F5, Type 1"
         ],
         "marker": {
          "color": [
           "#33ffc9",
           "#33ffc9",
           "#33ffc9",
           "#33ffc9",
           "#33ffc9",
           "#33ffc9",
           "#33ffc9",
           "#33ffc9",
           "#33ffc9",
           "#33ffc9",
           "#33ffc9",
           "#33ffc9",
           "#33ffc9",
           "#33ffc9",
           "#33ffc9",
           "#33ffc9",
           "#33ffc9",
           "#33ffc9",
           "#33ffc9",
           "#33ffc9"
          ],
          "size": 10
         },
         "mode": "markers+text",
         "type": "scatter",
         "x": [
          19,
          19,
          20,
          22,
          23,
          25,
          27,
          28,
          29,
          29,
          31,
          32,
          32,
          33,
          34,
          34,
          36,
          37,
          41,
          44
         ],
         "xaxis": "x7",
         "y": [
          79,
          97,
          84,
          106,
          109,
          82,
          null,
          70,
          102,
          92,
          87,
          97,
          84,
          102,
          82,
          116,
          102,
          99,
          null,
          92
         ],
         "yaxis": "y7"
        }
       ],
       "layout": {
        "annotations": [
         {
          "font": {
           "size": 16
          },
          "showarrow": false,
          "text": "Note standard Symboles",
          "x": 0.225,
          "xanchor": "center",
          "xref": "paper",
          "y": 1,
          "yanchor": "bottom",
          "yref": "paper"
         },
         {
          "font": {
           "size": 16
          },
          "showarrow": false,
          "text": "Note standard Code",
          "x": 0.775,
          "xanchor": "center",
          "xref": "paper",
          "y": 1,
          "yanchor": "bottom",
          "yref": "paper"
         },
         {
          "font": {
           "size": 16
          },
          "showarrow": false,
          "text": "Total des notes standards IVT",
          "x": 0.225,
          "xanchor": "center",
          "xref": "paper",
          "y": 0.74,
          "yanchor": "bottom",
          "yref": "paper"
         },
         {
          "font": {
           "size": 16
          },
          "showarrow": false,
          "text": "Note composite IVT",
          "x": 0.775,
          "xanchor": "center",
          "xref": "paper",
          "y": 0.74,
          "yanchor": "bottom",
          "yref": "paper"
         },
         {
          "font": {
           "size": 16
          },
          "showarrow": false,
          "text": "Rang percentile IVT",
          "x": 0.225,
          "xanchor": "center",
          "xref": "paper",
          "y": 0.48,
          "yanchor": "bottom",
          "yref": "paper"
         },
         {
          "font": {
           "size": 16
          },
          "showarrow": false,
          "text": "Note écart type inférieure IVT",
          "x": 0.775,
          "xanchor": "center",
          "xref": "paper",
          "y": 0.48,
          "yanchor": "bottom",
          "yref": "paper"
         },
         {
          "font": {
           "size": 16
          },
          "showarrow": false,
          "text": "Note écart type supérieure IVT",
          "x": 0.225,
          "xanchor": "center",
          "xref": "paper",
          "y": 0.22,
          "yanchor": "bottom",
          "yref": "paper"
         },
         {
          "font": {
           "size": 16
          },
          "showarrow": false,
          "text": "Âge",
          "x": 0.5,
          "xanchor": "center",
          "xref": "paper",
          "y": 0,
          "yanchor": "top",
          "yref": "paper",
          "yshift": -30
         },
         {
          "font": {
           "size": 16
          },
          "showarrow": false,
          "text": "Score",
          "textangle": -90,
          "x": 0,
          "xanchor": "right",
          "xref": "paper",
          "xshift": -40,
          "y": 0.5,
          "yanchor": "middle",
          "yref": "paper"
         }
        ],
        "height": 1500,
        "showlegend": false,
        "template": {
         "data": {
          "bar": [
           {
            "error_x": {
             "color": "#2a3f5f"
            },
            "error_y": {
             "color": "#2a3f5f"
            },
            "marker": {
             "line": {
              "color": "#E5ECF6",
              "width": 0.5
             }
            },
            "type": "bar"
           }
          ],
          "barpolar": [
           {
            "marker": {
             "line": {
              "color": "#E5ECF6",
              "width": 0.5
             }
            },
            "type": "barpolar"
           }
          ],
          "carpet": [
           {
            "aaxis": {
             "endlinecolor": "#2a3f5f",
             "gridcolor": "white",
             "linecolor": "white",
             "minorgridcolor": "white",
             "startlinecolor": "#2a3f5f"
            },
            "baxis": {
             "endlinecolor": "#2a3f5f",
             "gridcolor": "white",
             "linecolor": "white",
             "minorgridcolor": "white",
             "startlinecolor": "#2a3f5f"
            },
            "type": "carpet"
           }
          ],
          "choropleth": [
           {
            "colorbar": {
             "outlinewidth": 0,
             "ticks": ""
            },
            "type": "choropleth"
           }
          ],
          "contour": [
           {
            "colorbar": {
             "outlinewidth": 0,
             "ticks": ""
            },
            "colorscale": [
             [
              0,
              "#0d0887"
             ],
             [
              0.1111111111111111,
              "#46039f"
             ],
             [
              0.2222222222222222,
              "#7201a8"
             ],
             [
              0.3333333333333333,
              "#9c179e"
             ],
             [
              0.4444444444444444,
              "#bd3786"
             ],
             [
              0.5555555555555556,
              "#d8576b"
             ],
             [
              0.6666666666666666,
              "#ed7953"
             ],
             [
              0.7777777777777778,
              "#fb9f3a"
             ],
             [
              0.8888888888888888,
              "#fdca26"
             ],
             [
              1,
              "#f0f921"
             ]
            ],
            "type": "contour"
           }
          ],
          "contourcarpet": [
           {
            "colorbar": {
             "outlinewidth": 0,
             "ticks": ""
            },
            "type": "contourcarpet"
           }
          ],
          "heatmap": [
           {
            "colorbar": {
             "outlinewidth": 0,
             "ticks": ""
            },
            "colorscale": [
             [
              0,
              "#0d0887"
             ],
             [
              0.1111111111111111,
              "#46039f"
             ],
             [
              0.2222222222222222,
              "#7201a8"
             ],
             [
              0.3333333333333333,
              "#9c179e"
             ],
             [
              0.4444444444444444,
              "#bd3786"
             ],
             [
              0.5555555555555556,
              "#d8576b"
             ],
             [
              0.6666666666666666,
              "#ed7953"
             ],
             [
              0.7777777777777778,
              "#fb9f3a"
             ],
             [
              0.8888888888888888,
              "#fdca26"
             ],
             [
              1,
              "#f0f921"
             ]
            ],
            "type": "heatmap"
           }
          ],
          "heatmapgl": [
           {
            "colorbar": {
             "outlinewidth": 0,
             "ticks": ""
            },
            "colorscale": [
             [
              0,
              "#0d0887"
             ],
             [
              0.1111111111111111,
              "#46039f"
             ],
             [
              0.2222222222222222,
              "#7201a8"
             ],
             [
              0.3333333333333333,
              "#9c179e"
             ],
             [
              0.4444444444444444,
              "#bd3786"
             ],
             [
              0.5555555555555556,
              "#d8576b"
             ],
             [
              0.6666666666666666,
              "#ed7953"
             ],
             [
              0.7777777777777778,
              "#fb9f3a"
             ],
             [
              0.8888888888888888,
              "#fdca26"
             ],
             [
              1,
              "#f0f921"
             ]
            ],
            "type": "heatmapgl"
           }
          ],
          "histogram": [
           {
            "marker": {
             "colorbar": {
              "outlinewidth": 0,
              "ticks": ""
             }
            },
            "type": "histogram"
           }
          ],
          "histogram2d": [
           {
            "colorbar": {
             "outlinewidth": 0,
             "ticks": ""
            },
            "colorscale": [
             [
              0,
              "#0d0887"
             ],
             [
              0.1111111111111111,
              "#46039f"
             ],
             [
              0.2222222222222222,
              "#7201a8"
             ],
             [
              0.3333333333333333,
              "#9c179e"
             ],
             [
              0.4444444444444444,
              "#bd3786"
             ],
             [
              0.5555555555555556,
              "#d8576b"
             ],
             [
              0.6666666666666666,
              "#ed7953"
             ],
             [
              0.7777777777777778,
              "#fb9f3a"
             ],
             [
              0.8888888888888888,
              "#fdca26"
             ],
             [
              1,
              "#f0f921"
             ]
            ],
            "type": "histogram2d"
           }
          ],
          "histogram2dcontour": [
           {
            "colorbar": {
             "outlinewidth": 0,
             "ticks": ""
            },
            "colorscale": [
             [
              0,
              "#0d0887"
             ],
             [
              0.1111111111111111,
              "#46039f"
             ],
             [
              0.2222222222222222,
              "#7201a8"
             ],
             [
              0.3333333333333333,
              "#9c179e"
             ],
             [
              0.4444444444444444,
              "#bd3786"
             ],
             [
              0.5555555555555556,
              "#d8576b"
             ],
             [
              0.6666666666666666,
              "#ed7953"
             ],
             [
              0.7777777777777778,
              "#fb9f3a"
             ],
             [
              0.8888888888888888,
              "#fdca26"
             ],
             [
              1,
              "#f0f921"
             ]
            ],
            "type": "histogram2dcontour"
           }
          ],
          "mesh3d": [
           {
            "colorbar": {
             "outlinewidth": 0,
             "ticks": ""
            },
            "type": "mesh3d"
           }
          ],
          "parcoords": [
           {
            "line": {
             "colorbar": {
              "outlinewidth": 0,
              "ticks": ""
             }
            },
            "type": "parcoords"
           }
          ],
          "pie": [
           {
            "automargin": true,
            "type": "pie"
           }
          ],
          "scatter": [
           {
            "marker": {
             "colorbar": {
              "outlinewidth": 0,
              "ticks": ""
             }
            },
            "type": "scatter"
           }
          ],
          "scatter3d": [
           {
            "line": {
             "colorbar": {
              "outlinewidth": 0,
              "ticks": ""
             }
            },
            "marker": {
             "colorbar": {
              "outlinewidth": 0,
              "ticks": ""
             }
            },
            "type": "scatter3d"
           }
          ],
          "scattercarpet": [
           {
            "marker": {
             "colorbar": {
              "outlinewidth": 0,
              "ticks": ""
             }
            },
            "type": "scattercarpet"
           }
          ],
          "scattergeo": [
           {
            "marker": {
             "colorbar": {
              "outlinewidth": 0,
              "ticks": ""
             }
            },
            "type": "scattergeo"
           }
          ],
          "scattergl": [
           {
            "marker": {
             "colorbar": {
              "outlinewidth": 0,
              "ticks": ""
             }
            },
            "type": "scattergl"
           }
          ],
          "scattermapbox": [
           {
            "marker": {
             "colorbar": {
              "outlinewidth": 0,
              "ticks": ""
             }
            },
            "type": "scattermapbox"
           }
          ],
          "scatterpolar": [
           {
            "marker": {
             "colorbar": {
              "outlinewidth": 0,
              "ticks": ""
             }
            },
            "type": "scatterpolar"
           }
          ],
          "scatterpolargl": [
           {
            "marker": {
             "colorbar": {
              "outlinewidth": 0,
              "ticks": ""
             }
            },
            "type": "scatterpolargl"
           }
          ],
          "scatterternary": [
           {
            "marker": {
             "colorbar": {
              "outlinewidth": 0,
              "ticks": ""
             }
            },
            "type": "scatterternary"
           }
          ],
          "surface": [
           {
            "colorbar": {
             "outlinewidth": 0,
             "ticks": ""
            },
            "colorscale": [
             [
              0,
              "#0d0887"
             ],
             [
              0.1111111111111111,
              "#46039f"
             ],
             [
              0.2222222222222222,
              "#7201a8"
             ],
             [
              0.3333333333333333,
              "#9c179e"
             ],
             [
              0.4444444444444444,
              "#bd3786"
             ],
             [
              0.5555555555555556,
              "#d8576b"
             ],
             [
              0.6666666666666666,
              "#ed7953"
             ],
             [
              0.7777777777777778,
              "#fb9f3a"
             ],
             [
              0.8888888888888888,
              "#fdca26"
             ],
             [
              1,
              "#f0f921"
             ]
            ],
            "type": "surface"
           }
          ],
          "table": [
           {
            "cells": {
             "fill": {
              "color": "#EBF0F8"
             },
             "line": {
              "color": "white"
             }
            },
            "header": {
             "fill": {
              "color": "#C8D4E3"
             },
             "line": {
              "color": "white"
             }
            },
            "type": "table"
           }
          ]
         },
         "layout": {
          "annotationdefaults": {
           "arrowcolor": "#2a3f5f",
           "arrowhead": 0,
           "arrowwidth": 1
          },
          "coloraxis": {
           "colorbar": {
            "outlinewidth": 0,
            "ticks": ""
           }
          },
          "colorscale": {
           "diverging": [
            [
             0,
             "#8e0152"
            ],
            [
             0.1,
             "#c51b7d"
            ],
            [
             0.2,
             "#de77ae"
            ],
            [
             0.3,
             "#f1b6da"
            ],
            [
             0.4,
             "#fde0ef"
            ],
            [
             0.5,
             "#f7f7f7"
            ],
            [
             0.6,
             "#e6f5d0"
            ],
            [
             0.7,
             "#b8e186"
            ],
            [
             0.8,
             "#7fbc41"
            ],
            [
             0.9,
             "#4d9221"
            ],
            [
             1,
             "#276419"
            ]
           ],
           "sequential": [
            [
             0,
             "#0d0887"
            ],
            [
             0.1111111111111111,
             "#46039f"
            ],
            [
             0.2222222222222222,
             "#7201a8"
            ],
            [
             0.3333333333333333,
             "#9c179e"
            ],
            [
             0.4444444444444444,
             "#bd3786"
            ],
            [
             0.5555555555555556,
             "#d8576b"
            ],
            [
             0.6666666666666666,
             "#ed7953"
            ],
            [
             0.7777777777777778,
             "#fb9f3a"
            ],
            [
             0.8888888888888888,
             "#fdca26"
            ],
            [
             1,
             "#f0f921"
            ]
           ],
           "sequentialminus": [
            [
             0,
             "#0d0887"
            ],
            [
             0.1111111111111111,
             "#46039f"
            ],
            [
             0.2222222222222222,
             "#7201a8"
            ],
            [
             0.3333333333333333,
             "#9c179e"
            ],
            [
             0.4444444444444444,
             "#bd3786"
            ],
            [
             0.5555555555555556,
             "#d8576b"
            ],
            [
             0.6666666666666666,
             "#ed7953"
            ],
            [
             0.7777777777777778,
             "#fb9f3a"
            ],
            [
             0.8888888888888888,
             "#fdca26"
            ],
            [
             1,
             "#f0f921"
            ]
           ]
          },
          "colorway": [
           "#636efa",
           "#EF553B",
           "#00cc96",
           "#ab63fa",
           "#FFA15A",
           "#19d3f3",
           "#FF6692",
           "#B6E880",
           "#FF97FF",
           "#FECB52"
          ],
          "font": {
           "color": "#2a3f5f"
          },
          "geo": {
           "bgcolor": "white",
           "lakecolor": "white",
           "landcolor": "#E5ECF6",
           "showlakes": true,
           "showland": true,
           "subunitcolor": "white"
          },
          "hoverlabel": {
           "align": "left"
          },
          "hovermode": "closest",
          "mapbox": {
           "style": "light"
          },
          "paper_bgcolor": "white",
          "plot_bgcolor": "#E5ECF6",
          "polar": {
           "angularaxis": {
            "gridcolor": "white",
            "linecolor": "white",
            "ticks": ""
           },
           "bgcolor": "#E5ECF6",
           "radialaxis": {
            "gridcolor": "white",
            "linecolor": "white",
            "ticks": ""
           }
          },
          "scene": {
           "xaxis": {
            "backgroundcolor": "#E5ECF6",
            "gridcolor": "white",
            "gridwidth": 2,
            "linecolor": "white",
            "showbackground": true,
            "ticks": "",
            "zerolinecolor": "white"
           },
           "yaxis": {
            "backgroundcolor": "#E5ECF6",
            "gridcolor": "white",
            "gridwidth": 2,
            "linecolor": "white",
            "showbackground": true,
            "ticks": "",
            "zerolinecolor": "white"
           },
           "zaxis": {
            "backgroundcolor": "#E5ECF6",
            "gridcolor": "white",
            "gridwidth": 2,
            "linecolor": "white",
            "showbackground": true,
            "ticks": "",
            "zerolinecolor": "white"
           }
          },
          "shapedefaults": {
           "line": {
            "color": "#2a3f5f"
           }
          },
          "ternary": {
           "aaxis": {
            "gridcolor": "white",
            "linecolor": "white",
            "ticks": ""
           },
           "baxis": {
            "gridcolor": "white",
            "linecolor": "white",
            "ticks": ""
           },
           "bgcolor": "#E5ECF6",
           "caxis": {
            "gridcolor": "white",
            "linecolor": "white",
            "ticks": ""
           }
          },
          "title": {
           "x": 0.05
          },
          "xaxis": {
           "automargin": true,
           "gridcolor": "white",
           "linecolor": "white",
           "ticks": "",
           "title": {
            "standoff": 15
           },
           "zerolinecolor": "white",
           "zerolinewidth": 2
          },
          "yaxis": {
           "automargin": true,
           "gridcolor": "white",
           "linecolor": "white",
           "ticks": "",
           "title": {
            "standoff": 15
           },
           "zerolinecolor": "white",
           "zerolinewidth": 2
          }
         }
        },
        "width": 800,
        "xaxis": {
         "anchor": "y",
         "domain": [
          0,
          0.45
         ]
        },
        "xaxis2": {
         "anchor": "y2",
         "domain": [
          0.55,
          1
         ]
        },
        "xaxis3": {
         "anchor": "y3",
         "domain": [
          0,
          0.45
         ]
        },
        "xaxis4": {
         "anchor": "y4",
         "domain": [
          0.55,
          1
         ]
        },
        "xaxis5": {
         "anchor": "y5",
         "domain": [
          0,
          0.45
         ]
        },
        "xaxis6": {
         "anchor": "y6",
         "domain": [
          0.55,
          1
         ]
        },
        "xaxis7": {
         "anchor": "y7",
         "domain": [
          0,
          0.45
         ]
        },
        "xaxis8": {
         "anchor": "y8",
         "domain": [
          0.55,
          1
         ]
        },
        "yaxis": {
         "anchor": "x",
         "domain": [
          0.78,
          1
         ]
        },
        "yaxis2": {
         "anchor": "x2",
         "domain": [
          0.78,
          1
         ]
        },
        "yaxis3": {
         "anchor": "x3",
         "domain": [
          0.52,
          0.74
         ]
        },
        "yaxis4": {
         "anchor": "x4",
         "domain": [
          0.52,
          0.74
         ]
        },
        "yaxis5": {
         "anchor": "x5",
         "domain": [
          0.26,
          0.48
         ]
        },
        "yaxis6": {
         "anchor": "x6",
         "domain": [
          0.26,
          0.48
         ]
        },
        "yaxis7": {
         "anchor": "x7",
         "domain": [
          0,
          0.22
         ]
        },
        "yaxis8": {
         "anchor": "x8",
         "domain": [
          0,
          0.22
         ]
        }
       }
      },
      "text/html": [
       "<div>\n",
       "        \n",
       "        \n",
       "            <div id=\"f5857820-5ecf-48fe-95ee-ea57532777af\" class=\"plotly-graph-div\" style=\"height:1500px; width:800px;\"></div>\n",
       "            <script type=\"text/javascript\">\n",
       "                require([\"plotly\"], function(Plotly) {\n",
       "                    window.PLOTLYENV=window.PLOTLYENV || {};\n",
       "                    \n",
       "                if (document.getElementById(\"f5857820-5ecf-48fe-95ee-ea57532777af\")) {\n",
       "                    Plotly.newPlot(\n",
       "                        'f5857820-5ecf-48fe-95ee-ea57532777af',\n",
       "                        [{\"hovertext\": [\"EF 2E 22 E0 EA, Type 1\", \"B6 A4 CD 3A 81, Type 1\", \"C2 C3 05 A8 4B, Type 1\", \"39 CA BD 3C 82, Type 1\", \"7B DE 78 5B F6, Type 1\", \"9B 8E 44 F8 FF, Type 1\", \"35 86 13 56 24, Type 1\", \"73 EC 1B D7 9B, Type 1\", \"7D 76 3D FC 91, Type 1\", \"AB A5 ED 43 8B, Type 1\", \"01 83 17 5E 89, Type 1\", \"B9 5D 22 14 86, Type 1\", \"A1 54 32 B1 53, Type 1\", \"FD 11 B7 CF 8F, Type 1\", \"DB 6B 59 3A 0C, Type 1\", \"F1 C2 1C 3A FC, Type 1\", \"98 2C 1A AA 87, Type 1\", \"A2 D7 D0 A4 2A, Type 1\", \"02 92 7B FF E6, Type 1\", \"06 25 B6 B7 F5, Type 1\"], \"marker\": {\"color\": [\"#33ffc9\", \"#33ffc9\", \"#33ffc9\", \"#33ffc9\", \"#33ffc9\", \"#33ffc9\", \"#33ffc9\", \"#33ffc9\", \"#33ffc9\", \"#33ffc9\", \"#33ffc9\", \"#33ffc9\", \"#33ffc9\", \"#33ffc9\", \"#33ffc9\", \"#33ffc9\", \"#33ffc9\", \"#33ffc9\", \"#33ffc9\", \"#33ffc9\"], \"size\": 10}, \"mode\": \"markers+text\", \"type\": \"scatter\", \"x\": [19.0, 19.0, 20.0, 22.0, 23.0, 25.0, 27.0, 28.0, 29.0, 29.0, 31.0, 32.0, 32.0, 33.0, 34.0, 34.0, 36.0, 37.0, 41.0, 44.0], \"xaxis\": \"x\", \"y\": [7.0, 10.0, 5.0, 8.0, 12.0, 1.0, 1.0, 3.0, 9.0, 6.0, 6.0, 7.0, 3.0, 8.0, 4.0, 8.0, 8.0, 8.0, null, 6.0], \"yaxis\": \"y\"}, {\"hovertext\": [\"EF 2E 22 E0 EA, Type 1\", \"B6 A4 CD 3A 81, Type 1\", \"C2 C3 05 A8 4B, Type 1\", \"39 CA BD 3C 82, Type 1\", \"7B DE 78 5B F6, Type 1\", \"9B 8E 44 F8 FF, Type 1\", \"35 86 13 56 24, Type 1\", \"73 EC 1B D7 9B, Type 1\", \"7D 76 3D FC 91, Type 1\", \"AB A5 ED 43 8B, Type 1\", \"01 83 17 5E 89, Type 1\", \"B9 5D 22 14 86, Type 1\", \"A1 54 32 B1 53, Type 1\", \"FD 11 B7 CF 8F, Type 1\", \"DB 6B 59 3A 0C, Type 1\", \"F1 C2 1C 3A FC, Type 1\", \"98 2C 1A AA 87, Type 1\", \"A2 D7 D0 A4 2A, Type 1\", \"02 92 7B FF E6, Type 1\", \"06 25 B6 B7 F5, Type 1\"], \"marker\": {\"color\": [\"#33ffc9\", \"#33ffc9\", \"#33ffc9\", \"#33ffc9\", \"#33ffc9\", \"#33ffc9\", \"#33ffc9\", \"#33ffc9\", \"#33ffc9\", \"#33ffc9\", \"#33ffc9\", \"#33ffc9\", \"#33ffc9\", \"#33ffc9\", \"#33ffc9\", \"#33ffc9\", \"#33ffc9\", \"#33ffc9\", \"#33ffc9\", \"#33ffc9\"], \"size\": 10}, \"mode\": \"markers+text\", \"type\": \"scatter\", \"x\": [19.0, 19.0, 20.0, 22.0, 23.0, 25.0, 27.0, 28.0, 29.0, 29.0, 31.0, 32.0, 32.0, 33.0, 34.0, 34.0, 36.0, 37.0, 41.0, 44.0], \"xaxis\": \"x2\", \"y\": [1.0, 5.0, 5.0, 11.0, 8.0, 8.0, null, 1.0, 8.0, 7.0, 5.0, 8.0, 7.0, 9.0, 5.0, 15.0, 9.0, 8.0, null, 7.0], \"yaxis\": \"y2\"}, {\"hovertext\": [\"EF 2E 22 E0 EA, Type 1\", \"B6 A4 CD 3A 81, Type 1\", \"C2 C3 05 A8 4B, Type 1\", \"39 CA BD 3C 82, Type 1\", \"7B DE 78 5B F6, Type 1\", \"9B 8E 44 F8 FF, Type 1\", \"35 86 13 56 24, Type 1\", \"73 EC 1B D7 9B, Type 1\", \"7D 76 3D FC 91, Type 1\", \"AB A5 ED 43 8B, Type 1\", \"01 83 17 5E 89, Type 1\", \"B9 5D 22 14 86, Type 1\", \"A1 54 32 B1 53, Type 1\", \"FD 11 B7 CF 8F, Type 1\", \"DB 6B 59 3A 0C, Type 1\", \"F1 C2 1C 3A FC, Type 1\", \"98 2C 1A AA 87, Type 1\", \"A2 D7 D0 A4 2A, Type 1\", \"02 92 7B FF E6, Type 1\", \"06 25 B6 B7 F5, Type 1\"], \"marker\": {\"color\": [\"#33ffc9\", \"#33ffc9\", \"#33ffc9\", \"#33ffc9\", \"#33ffc9\", \"#33ffc9\", \"#33ffc9\", \"#33ffc9\", \"#33ffc9\", \"#33ffc9\", \"#33ffc9\", \"#33ffc9\", \"#33ffc9\", \"#33ffc9\", \"#33ffc9\", \"#33ffc9\", \"#33ffc9\", \"#33ffc9\", \"#33ffc9\", \"#33ffc9\"], \"size\": 10}, \"mode\": \"markers+text\", \"type\": \"scatter\", \"x\": [19.0, 19.0, 20.0, 22.0, 23.0, 25.0, 27.0, 28.0, 29.0, 29.0, 31.0, 32.0, 32.0, 33.0, 34.0, 34.0, 36.0, 37.0, 41.0, 44.0], \"xaxis\": \"x3\", \"y\": [8.0, 15.0, 10.0, 19.0, 20.0, 9.0, null, 4.0, 17.0, 13.0, 11.0, 15.0, 10.0, 17.0, 9.0, 23.0, 17.0, 16.0, null, 13.0], \"yaxis\": \"y3\"}, {\"hovertext\": [\"EF 2E 22 E0 EA, Type 1\", \"B6 A4 CD 3A 81, Type 1\", \"C2 C3 05 A8 4B, Type 1\", \"39 CA BD 3C 82, Type 1\", \"7B DE 78 5B F6, Type 1\", \"9B 8E 44 F8 FF, Type 1\", \"35 86 13 56 24, Type 1\", \"73 EC 1B D7 9B, Type 1\", \"7D 76 3D FC 91, Type 1\", \"AB A5 ED 43 8B, Type 1\", \"01 83 17 5E 89, Type 1\", \"B9 5D 22 14 86, Type 1\", \"A1 54 32 B1 53, Type 1\", \"FD 11 B7 CF 8F, Type 1\", \"DB 6B 59 3A 0C, Type 1\", \"F1 C2 1C 3A FC, Type 1\", \"98 2C 1A AA 87, Type 1\", \"A2 D7 D0 A4 2A, Type 1\", \"02 92 7B FF E6, Type 1\", \"06 25 B6 B7 F5, Type 1\"], \"marker\": {\"color\": [\"#33ffc9\", \"#33ffc9\", \"#33ffc9\", \"#33ffc9\", \"#33ffc9\", \"#33ffc9\", \"#33ffc9\", \"#33ffc9\", \"#33ffc9\", \"#33ffc9\", \"#33ffc9\", \"#33ffc9\", \"#33ffc9\", \"#33ffc9\", \"#33ffc9\", \"#33ffc9\", \"#33ffc9\", \"#33ffc9\", \"#33ffc9\", \"#33ffc9\"], \"size\": 10}, \"mode\": \"markers+text\", \"type\": \"scatter\", \"x\": [19.0, 19.0, 20.0, 22.0, 23.0, 25.0, 27.0, 28.0, 29.0, 29.0, 31.0, 32.0, 32.0, 33.0, 34.0, 34.0, 36.0, 37.0, 41.0, 44.0], \"xaxis\": \"x4\", \"y\": [66.0, 86.0, 72.0, 97.0, 100.0, 69.0, null, 55.0, 92.0, 81.0, 75.0, 86.0, 72.0, 92.0, 69.0, 108.0, 92.0, 89.0, null, 81.0], \"yaxis\": \"y4\"}, {\"hovertext\": [\"EF 2E 22 E0 EA, Type 1\", \"B6 A4 CD 3A 81, Type 1\", \"C2 C3 05 A8 4B, Type 1\", \"39 CA BD 3C 82, Type 1\", \"7B DE 78 5B F6, Type 1\", \"9B 8E 44 F8 FF, Type 1\", \"35 86 13 56 24, Type 1\", \"73 EC 1B D7 9B, Type 1\", \"7D 76 3D FC 91, Type 1\", \"AB A5 ED 43 8B, Type 1\", \"01 83 17 5E 89, Type 1\", \"B9 5D 22 14 86, Type 1\", \"A1 54 32 B1 53, Type 1\", \"FD 11 B7 CF 8F, Type 1\", \"DB 6B 59 3A 0C, Type 1\", \"F1 C2 1C 3A FC, Type 1\", \"98 2C 1A AA 87, Type 1\", \"A2 D7 D0 A4 2A, Type 1\", \"02 92 7B FF E6, Type 1\", \"06 25 B6 B7 F5, Type 1\"], \"marker\": {\"color\": [\"#33ffc9\", \"#33ffc9\", \"#33ffc9\", \"#33ffc9\", \"#33ffc9\", \"#33ffc9\", \"#33ffc9\", \"#33ffc9\", \"#33ffc9\", \"#33ffc9\", \"#33ffc9\", \"#33ffc9\", \"#33ffc9\", \"#33ffc9\", \"#33ffc9\", \"#33ffc9\", \"#33ffc9\", \"#33ffc9\", \"#33ffc9\", \"#33ffc9\"], \"size\": 10}, \"mode\": \"markers+text\", \"type\": \"scatter\", \"x\": [19.0, 19.0, 20.0, 22.0, 23.0, 25.0, 27.0, 28.0, 29.0, 29.0, 31.0, 32.0, 32.0, 33.0, 34.0, 34.0, 36.0, 37.0, 41.0, 44.0], \"xaxis\": \"x5\", \"y\": [1.0, 18.0, 3.0, 42.0, 50.0, 2.0, null, 0.0, 30.0, 10.0, 5.0, 18.0, 3.0, 30.0, 2.0, 70.0, 30.0, 23.0, null, 10.0], \"yaxis\": \"y5\"}, {\"hovertext\": [\"EF 2E 22 E0 EA, Type 1\", \"B6 A4 CD 3A 81, Type 1\", \"C2 C3 05 A8 4B, Type 1\", \"39 CA BD 3C 82, Type 1\", \"7B DE 78 5B F6, Type 1\", \"9B 8E 44 F8 FF, Type 1\", \"35 86 13 56 24, Type 1\", \"73 EC 1B D7 9B, Type 1\", \"7D 76 3D FC 91, Type 1\", \"AB A5 ED 43 8B, Type 1\", \"01 83 17 5E 89, Type 1\", \"B9 5D 22 14 86, Type 1\", \"A1 54 32 B1 53, Type 1\", \"FD 11 B7 CF 8F, Type 1\", \"DB 6B 59 3A 0C, Type 1\", \"F1 C2 1C 3A FC, Type 1\", \"98 2C 1A AA 87, Type 1\", \"A2 D7 D0 A4 2A, Type 1\", \"02 92 7B FF E6, Type 1\", \"06 25 B6 B7 F5, Type 1\"], \"marker\": {\"color\": [\"#33ffc9\", \"#33ffc9\", \"#33ffc9\", \"#33ffc9\", \"#33ffc9\", \"#33ffc9\", \"#33ffc9\", \"#33ffc9\", \"#33ffc9\", \"#33ffc9\", \"#33ffc9\", \"#33ffc9\", \"#33ffc9\", \"#33ffc9\", \"#33ffc9\", \"#33ffc9\", \"#33ffc9\", \"#33ffc9\", \"#33ffc9\", \"#33ffc9\"], \"size\": 10}, \"mode\": \"markers+text\", \"type\": \"scatter\", \"x\": [19.0, 19.0, 20.0, 22.0, 23.0, 25.0, 27.0, 28.0, 29.0, 29.0, 31.0, 32.0, 32.0, 33.0, 34.0, 34.0, 36.0, 37.0, 41.0, 44.0], \"xaxis\": \"x6\", \"y\": [61.0, 79.0, 66.0, 88.0, 91.0, 64.0, null, 51.0, 84.0, 74.0, 69.0, 79.0, 66.0, 84.0, 64.0, 98.0, 84.0, 81.0, null, 74.0], \"yaxis\": \"y6\"}, {\"hovertext\": [\"EF 2E 22 E0 EA, Type 1\", \"B6 A4 CD 3A 81, Type 1\", \"C2 C3 05 A8 4B, Type 1\", \"39 CA BD 3C 82, Type 1\", \"7B DE 78 5B F6, Type 1\", \"9B 8E 44 F8 FF, Type 1\", \"35 86 13 56 24, Type 1\", \"73 EC 1B D7 9B, Type 1\", \"7D 76 3D FC 91, Type 1\", \"AB A5 ED 43 8B, Type 1\", \"01 83 17 5E 89, Type 1\", \"B9 5D 22 14 86, Type 1\", \"A1 54 32 B1 53, Type 1\", \"FD 11 B7 CF 8F, Type 1\", \"DB 6B 59 3A 0C, Type 1\", \"F1 C2 1C 3A FC, Type 1\", \"98 2C 1A AA 87, Type 1\", \"A2 D7 D0 A4 2A, Type 1\", \"02 92 7B FF E6, Type 1\", \"06 25 B6 B7 F5, Type 1\"], \"marker\": {\"color\": [\"#33ffc9\", \"#33ffc9\", \"#33ffc9\", \"#33ffc9\", \"#33ffc9\", \"#33ffc9\", \"#33ffc9\", \"#33ffc9\", \"#33ffc9\", \"#33ffc9\", \"#33ffc9\", \"#33ffc9\", \"#33ffc9\", \"#33ffc9\", \"#33ffc9\", \"#33ffc9\", \"#33ffc9\", \"#33ffc9\", \"#33ffc9\", \"#33ffc9\"], \"size\": 10}, \"mode\": \"markers+text\", \"type\": \"scatter\", \"x\": [19.0, 19.0, 20.0, 22.0, 23.0, 25.0, 27.0, 28.0, 29.0, 29.0, 31.0, 32.0, 32.0, 33.0, 34.0, 34.0, 36.0, 37.0, 41.0, 44.0], \"xaxis\": \"x7\", \"y\": [79.0, 97.0, 84.0, 106.0, 109.0, 82.0, null, 70.0, 102.0, 92.0, 87.0, 97.0, 84.0, 102.0, 82.0, 116.0, 102.0, 99.0, null, 92.0], \"yaxis\": \"y7\"}],\n",
       "                        {\"annotations\": [{\"font\": {\"size\": 16}, \"showarrow\": false, \"text\": \"Note standard Symboles\", \"x\": 0.225, \"xanchor\": \"center\", \"xref\": \"paper\", \"y\": 1.0, \"yanchor\": \"bottom\", \"yref\": \"paper\"}, {\"font\": {\"size\": 16}, \"showarrow\": false, \"text\": \"Note standard Code\", \"x\": 0.775, \"xanchor\": \"center\", \"xref\": \"paper\", \"y\": 1.0, \"yanchor\": \"bottom\", \"yref\": \"paper\"}, {\"font\": {\"size\": 16}, \"showarrow\": false, \"text\": \"Total des notes standards IVT\", \"x\": 0.225, \"xanchor\": \"center\", \"xref\": \"paper\", \"y\": 0.74, \"yanchor\": \"bottom\", \"yref\": \"paper\"}, {\"font\": {\"size\": 16}, \"showarrow\": false, \"text\": \"Note composite IVT\", \"x\": 0.775, \"xanchor\": \"center\", \"xref\": \"paper\", \"y\": 0.74, \"yanchor\": \"bottom\", \"yref\": \"paper\"}, {\"font\": {\"size\": 16}, \"showarrow\": false, \"text\": \"Rang percentile IVT\", \"x\": 0.225, \"xanchor\": \"center\", \"xref\": \"paper\", \"y\": 0.48, \"yanchor\": \"bottom\", \"yref\": \"paper\"}, {\"font\": {\"size\": 16}, \"showarrow\": false, \"text\": \"Note \\u00e9cart type inf\\u00e9rieure IVT\", \"x\": 0.775, \"xanchor\": \"center\", \"xref\": \"paper\", \"y\": 0.48, \"yanchor\": \"bottom\", \"yref\": \"paper\"}, {\"font\": {\"size\": 16}, \"showarrow\": false, \"text\": \"Note \\u00e9cart type sup\\u00e9rieure IVT\", \"x\": 0.225, \"xanchor\": \"center\", \"xref\": \"paper\", \"y\": 0.22, \"yanchor\": \"bottom\", \"yref\": \"paper\"}, {\"font\": {\"size\": 16}, \"showarrow\": false, \"text\": \"\\u00c2ge\", \"x\": 0.5, \"xanchor\": \"center\", \"xref\": \"paper\", \"y\": 0, \"yanchor\": \"top\", \"yref\": \"paper\", \"yshift\": -30}, {\"font\": {\"size\": 16}, \"showarrow\": false, \"text\": \"Score\", \"textangle\": -90, \"x\": 0, \"xanchor\": \"right\", \"xref\": \"paper\", \"xshift\": -40, \"y\": 0.5, \"yanchor\": \"middle\", \"yref\": \"paper\"}], \"height\": 1500, \"showlegend\": false, \"template\": {\"data\": {\"bar\": [{\"error_x\": {\"color\": \"#2a3f5f\"}, \"error_y\": {\"color\": \"#2a3f5f\"}, \"marker\": {\"line\": {\"color\": \"#E5ECF6\", \"width\": 0.5}}, \"type\": \"bar\"}], \"barpolar\": [{\"marker\": {\"line\": {\"color\": \"#E5ECF6\", \"width\": 0.5}}, \"type\": \"barpolar\"}], \"carpet\": [{\"aaxis\": {\"endlinecolor\": \"#2a3f5f\", \"gridcolor\": \"white\", \"linecolor\": \"white\", \"minorgridcolor\": \"white\", \"startlinecolor\": \"#2a3f5f\"}, \"baxis\": {\"endlinecolor\": \"#2a3f5f\", \"gridcolor\": \"white\", \"linecolor\": \"white\", \"minorgridcolor\": \"white\", \"startlinecolor\": \"#2a3f5f\"}, \"type\": \"carpet\"}], \"choropleth\": [{\"colorbar\": {\"outlinewidth\": 0, \"ticks\": \"\"}, \"type\": \"choropleth\"}], \"contour\": [{\"colorbar\": {\"outlinewidth\": 0, \"ticks\": \"\"}, \"colorscale\": [[0.0, \"#0d0887\"], [0.1111111111111111, \"#46039f\"], [0.2222222222222222, \"#7201a8\"], [0.3333333333333333, \"#9c179e\"], [0.4444444444444444, \"#bd3786\"], [0.5555555555555556, \"#d8576b\"], [0.6666666666666666, \"#ed7953\"], [0.7777777777777778, \"#fb9f3a\"], [0.8888888888888888, \"#fdca26\"], [1.0, \"#f0f921\"]], \"type\": \"contour\"}], \"contourcarpet\": [{\"colorbar\": {\"outlinewidth\": 0, \"ticks\": \"\"}, \"type\": \"contourcarpet\"}], \"heatmap\": [{\"colorbar\": {\"outlinewidth\": 0, \"ticks\": \"\"}, \"colorscale\": [[0.0, \"#0d0887\"], [0.1111111111111111, \"#46039f\"], [0.2222222222222222, \"#7201a8\"], [0.3333333333333333, \"#9c179e\"], [0.4444444444444444, \"#bd3786\"], [0.5555555555555556, \"#d8576b\"], [0.6666666666666666, \"#ed7953\"], [0.7777777777777778, \"#fb9f3a\"], [0.8888888888888888, \"#fdca26\"], [1.0, \"#f0f921\"]], \"type\": \"heatmap\"}], \"heatmapgl\": [{\"colorbar\": {\"outlinewidth\": 0, \"ticks\": \"\"}, \"colorscale\": [[0.0, \"#0d0887\"], [0.1111111111111111, \"#46039f\"], [0.2222222222222222, \"#7201a8\"], [0.3333333333333333, \"#9c179e\"], [0.4444444444444444, \"#bd3786\"], [0.5555555555555556, \"#d8576b\"], [0.6666666666666666, \"#ed7953\"], [0.7777777777777778, \"#fb9f3a\"], [0.8888888888888888, \"#fdca26\"], [1.0, \"#f0f921\"]], \"type\": \"heatmapgl\"}], \"histogram\": [{\"marker\": {\"colorbar\": {\"outlinewidth\": 0, \"ticks\": \"\"}}, \"type\": \"histogram\"}], \"histogram2d\": [{\"colorbar\": {\"outlinewidth\": 0, \"ticks\": \"\"}, \"colorscale\": [[0.0, \"#0d0887\"], [0.1111111111111111, \"#46039f\"], [0.2222222222222222, \"#7201a8\"], [0.3333333333333333, \"#9c179e\"], [0.4444444444444444, \"#bd3786\"], [0.5555555555555556, \"#d8576b\"], [0.6666666666666666, \"#ed7953\"], [0.7777777777777778, \"#fb9f3a\"], [0.8888888888888888, \"#fdca26\"], [1.0, \"#f0f921\"]], \"type\": \"histogram2d\"}], \"histogram2dcontour\": [{\"colorbar\": {\"outlinewidth\": 0, \"ticks\": \"\"}, \"colorscale\": [[0.0, \"#0d0887\"], [0.1111111111111111, \"#46039f\"], [0.2222222222222222, \"#7201a8\"], [0.3333333333333333, \"#9c179e\"], [0.4444444444444444, \"#bd3786\"], [0.5555555555555556, \"#d8576b\"], [0.6666666666666666, \"#ed7953\"], [0.7777777777777778, \"#fb9f3a\"], [0.8888888888888888, \"#fdca26\"], [1.0, \"#f0f921\"]], \"type\": \"histogram2dcontour\"}], \"mesh3d\": [{\"colorbar\": {\"outlinewidth\": 0, \"ticks\": \"\"}, \"type\": \"mesh3d\"}], \"parcoords\": [{\"line\": {\"colorbar\": {\"outlinewidth\": 0, \"ticks\": \"\"}}, \"type\": \"parcoords\"}], \"pie\": [{\"automargin\": true, \"type\": \"pie\"}], \"scatter\": [{\"marker\": {\"colorbar\": {\"outlinewidth\": 0, \"ticks\": \"\"}}, \"type\": \"scatter\"}], \"scatter3d\": [{\"line\": {\"colorbar\": {\"outlinewidth\": 0, \"ticks\": \"\"}}, \"marker\": {\"colorbar\": {\"outlinewidth\": 0, \"ticks\": \"\"}}, \"type\": \"scatter3d\"}], \"scattercarpet\": [{\"marker\": {\"colorbar\": {\"outlinewidth\": 0, \"ticks\": \"\"}}, \"type\": \"scattercarpet\"}], \"scattergeo\": [{\"marker\": {\"colorbar\": {\"outlinewidth\": 0, \"ticks\": \"\"}}, \"type\": \"scattergeo\"}], \"scattergl\": [{\"marker\": {\"colorbar\": {\"outlinewidth\": 0, \"ticks\": \"\"}}, \"type\": \"scattergl\"}], \"scattermapbox\": [{\"marker\": {\"colorbar\": {\"outlinewidth\": 0, \"ticks\": \"\"}}, \"type\": \"scattermapbox\"}], \"scatterpolar\": [{\"marker\": {\"colorbar\": {\"outlinewidth\": 0, \"ticks\": \"\"}}, \"type\": \"scatterpolar\"}], \"scatterpolargl\": [{\"marker\": {\"colorbar\": {\"outlinewidth\": 0, \"ticks\": \"\"}}, \"type\": \"scatterpolargl\"}], \"scatterternary\": [{\"marker\": {\"colorbar\": {\"outlinewidth\": 0, \"ticks\": \"\"}}, \"type\": \"scatterternary\"}], \"surface\": [{\"colorbar\": {\"outlinewidth\": 0, \"ticks\": \"\"}, \"colorscale\": [[0.0, \"#0d0887\"], [0.1111111111111111, \"#46039f\"], [0.2222222222222222, \"#7201a8\"], [0.3333333333333333, \"#9c179e\"], [0.4444444444444444, \"#bd3786\"], [0.5555555555555556, \"#d8576b\"], [0.6666666666666666, \"#ed7953\"], [0.7777777777777778, \"#fb9f3a\"], [0.8888888888888888, \"#fdca26\"], [1.0, \"#f0f921\"]], \"type\": \"surface\"}], \"table\": [{\"cells\": {\"fill\": {\"color\": \"#EBF0F8\"}, \"line\": {\"color\": \"white\"}}, \"header\": {\"fill\": {\"color\": \"#C8D4E3\"}, \"line\": {\"color\": \"white\"}}, \"type\": \"table\"}]}, \"layout\": {\"annotationdefaults\": {\"arrowcolor\": \"#2a3f5f\", \"arrowhead\": 0, \"arrowwidth\": 1}, \"coloraxis\": {\"colorbar\": {\"outlinewidth\": 0, \"ticks\": \"\"}}, \"colorscale\": {\"diverging\": [[0, \"#8e0152\"], [0.1, \"#c51b7d\"], [0.2, \"#de77ae\"], [0.3, \"#f1b6da\"], [0.4, \"#fde0ef\"], [0.5, \"#f7f7f7\"], [0.6, \"#e6f5d0\"], [0.7, \"#b8e186\"], [0.8, \"#7fbc41\"], [0.9, \"#4d9221\"], [1, \"#276419\"]], \"sequential\": [[0.0, \"#0d0887\"], [0.1111111111111111, \"#46039f\"], [0.2222222222222222, \"#7201a8\"], [0.3333333333333333, \"#9c179e\"], [0.4444444444444444, \"#bd3786\"], [0.5555555555555556, \"#d8576b\"], [0.6666666666666666, \"#ed7953\"], [0.7777777777777778, \"#fb9f3a\"], [0.8888888888888888, \"#fdca26\"], [1.0, \"#f0f921\"]], \"sequentialminus\": [[0.0, \"#0d0887\"], [0.1111111111111111, \"#46039f\"], [0.2222222222222222, \"#7201a8\"], [0.3333333333333333, \"#9c179e\"], [0.4444444444444444, \"#bd3786\"], [0.5555555555555556, \"#d8576b\"], [0.6666666666666666, \"#ed7953\"], [0.7777777777777778, \"#fb9f3a\"], [0.8888888888888888, \"#fdca26\"], [1.0, \"#f0f921\"]]}, \"colorway\": [\"#636efa\", \"#EF553B\", \"#00cc96\", \"#ab63fa\", \"#FFA15A\", \"#19d3f3\", \"#FF6692\", \"#B6E880\", \"#FF97FF\", \"#FECB52\"], \"font\": {\"color\": \"#2a3f5f\"}, \"geo\": {\"bgcolor\": \"white\", \"lakecolor\": \"white\", \"landcolor\": \"#E5ECF6\", \"showlakes\": true, \"showland\": true, \"subunitcolor\": \"white\"}, \"hoverlabel\": {\"align\": \"left\"}, \"hovermode\": \"closest\", \"mapbox\": {\"style\": \"light\"}, \"paper_bgcolor\": \"white\", \"plot_bgcolor\": \"#E5ECF6\", \"polar\": {\"angularaxis\": {\"gridcolor\": \"white\", \"linecolor\": \"white\", \"ticks\": \"\"}, \"bgcolor\": \"#E5ECF6\", \"radialaxis\": {\"gridcolor\": \"white\", \"linecolor\": \"white\", \"ticks\": \"\"}}, \"scene\": {\"xaxis\": {\"backgroundcolor\": \"#E5ECF6\", \"gridcolor\": \"white\", \"gridwidth\": 2, \"linecolor\": \"white\", \"showbackground\": true, \"ticks\": \"\", \"zerolinecolor\": \"white\"}, \"yaxis\": {\"backgroundcolor\": \"#E5ECF6\", \"gridcolor\": \"white\", \"gridwidth\": 2, \"linecolor\": \"white\", \"showbackground\": true, \"ticks\": \"\", \"zerolinecolor\": \"white\"}, \"zaxis\": {\"backgroundcolor\": \"#E5ECF6\", \"gridcolor\": \"white\", \"gridwidth\": 2, \"linecolor\": \"white\", \"showbackground\": true, \"ticks\": \"\", \"zerolinecolor\": \"white\"}}, \"shapedefaults\": {\"line\": {\"color\": \"#2a3f5f\"}}, \"ternary\": {\"aaxis\": {\"gridcolor\": \"white\", \"linecolor\": \"white\", \"ticks\": \"\"}, \"baxis\": {\"gridcolor\": \"white\", \"linecolor\": \"white\", \"ticks\": \"\"}, \"bgcolor\": \"#E5ECF6\", \"caxis\": {\"gridcolor\": \"white\", \"linecolor\": \"white\", \"ticks\": \"\"}}, \"title\": {\"x\": 0.05}, \"xaxis\": {\"automargin\": true, \"gridcolor\": \"white\", \"linecolor\": \"white\", \"ticks\": \"\", \"title\": {\"standoff\": 15}, \"zerolinecolor\": \"white\", \"zerolinewidth\": 2}, \"yaxis\": {\"automargin\": true, \"gridcolor\": \"white\", \"linecolor\": \"white\", \"ticks\": \"\", \"title\": {\"standoff\": 15}, \"zerolinecolor\": \"white\", \"zerolinewidth\": 2}}}, \"width\": 800, \"xaxis\": {\"anchor\": \"y\", \"domain\": [0.0, 0.45]}, \"xaxis2\": {\"anchor\": \"y2\", \"domain\": [0.55, 1.0]}, \"xaxis3\": {\"anchor\": \"y3\", \"domain\": [0.0, 0.45]}, \"xaxis4\": {\"anchor\": \"y4\", \"domain\": [0.55, 1.0]}, \"xaxis5\": {\"anchor\": \"y5\", \"domain\": [0.0, 0.45]}, \"xaxis6\": {\"anchor\": \"y6\", \"domain\": [0.55, 1.0]}, \"xaxis7\": {\"anchor\": \"y7\", \"domain\": [0.0, 0.45]}, \"xaxis8\": {\"anchor\": \"y8\", \"domain\": [0.55, 1.0]}, \"yaxis\": {\"anchor\": \"x\", \"domain\": [0.78, 1.0]}, \"yaxis2\": {\"anchor\": \"x2\", \"domain\": [0.78, 1.0]}, \"yaxis3\": {\"anchor\": \"x3\", \"domain\": [0.52, 0.74]}, \"yaxis4\": {\"anchor\": \"x4\", \"domain\": [0.52, 0.74]}, \"yaxis5\": {\"anchor\": \"x5\", \"domain\": [0.26, 0.48]}, \"yaxis6\": {\"anchor\": \"x6\", \"domain\": [0.26, 0.48]}, \"yaxis7\": {\"anchor\": \"x7\", \"domain\": [0.0, 0.22]}, \"yaxis8\": {\"anchor\": \"x8\", \"domain\": [0.0, 0.22]}},\n",
       "                        {\"responsive\": true}\n",
       "                    ).then(function(){\n",
       "                            \n",
       "var gd = document.getElementById('f5857820-5ecf-48fe-95ee-ea57532777af');\n",
       "var x = new MutationObserver(function (mutations, observer) {{\n",
       "        var display = window.getComputedStyle(gd).display;\n",
       "        if (!display || display === 'none') {{\n",
       "            console.log([gd, 'removed!']);\n",
       "            Plotly.purge(gd);\n",
       "            observer.disconnect();\n",
       "        }}\n",
       "}});\n",
       "\n",
       "// Listen for the removal of the full notebook cells\n",
       "var notebookContainer = gd.closest('#notebook-container');\n",
       "if (notebookContainer) {{\n",
       "    x.observe(notebookContainer, {childList: true});\n",
       "}}\n",
       "\n",
       "// Listen for the clearing of the current output cell\n",
       "var outputEl = gd.closest('.output');\n",
       "if (outputEl) {{\n",
       "    x.observe(outputEl, {childList: true});\n",
       "}}\n",
       "\n",
       "                        })\n",
       "                };\n",
       "                });\n",
       "            </script>\n",
       "        </div>"
      ]
     },
     "metadata": {},
     "output_type": "display_data"
    }
   ],
   "source": [
    "fig_wais_sub.add_trace(go.Scatter(x= df_wais_sub['age'], y=df_wais_sub[subplot_titles[4]], mode=\"markers+text\",\n",
    "            marker={'size': 10, \"color\": df_wais_sub['Type_color'] },\n",
    "            hovertext= df_wais_sub['ID_SECONDAIRE'] +\", \"+ df_wais_sub['Type']),\n",
    "            row=1, col=1)\n",
    "\n",
    "fig_wais_sub.add_trace(go.Scatter(x= df_wais_sub['age'], y=df_wais_sub[subplot_titles[5]], mode=\"markers+text\",\n",
    "            marker={'size': 10, \"color\": df_wais_sub['Type_color'] },\n",
    "            hovertext= df_wais_sub['ID_SECONDAIRE'] +\", \"+ df_wais_sub['Type']),\n",
    "              row=1, col=2)\n",
    "\n",
    "fig_wais_sub.add_trace(go.Scatter(x= df_wais_sub['age'], y=df_wais_sub[subplot_titles[6]], mode=\"markers+text\",\n",
    "            marker={'size': 10, \"color\": df_wais_sub['Type_color'] },\n",
    "            hovertext= df_wais_sub['ID_SECONDAIRE'] +\", \"+ df_wais_sub['Type']),\n",
    "              row=2, col=1)\n",
    "\n",
    "fig_wais_sub.add_trace(go.Scatter(x= df_wais_sub['age'], y=df_wais_sub[subplot_titles[7]], mode=\"markers+text\",\n",
    "            marker={'size': 10, \"color\": df_wais_sub['Type_color'] },\n",
    "            hovertext= df_wais_sub['ID_SECONDAIRE'] +\", \"+ df_wais_sub['Type']),\n",
    "            row=2, col=2)\n",
    "\n",
    "fig_wais_sub.add_trace(go.Scatter(x= df_wais_sub['age'], y=df_wais_sub[subplot_titles[8]], mode=\"markers+text\",\n",
    "            marker={'size': 10, \"color\": df_wais_sub['Type_color'] },\n",
    "            hovertext= df_wais_sub['ID_SECONDAIRE'] +\", \"+ df_wais_sub['Type']),\n",
    "            row=3, col=1)\n",
    "                                                             \n",
    "fig_wais_sub.add_trace(go.Scatter(x= df_wais_sub['age'], y=df_wais_sub[subplot_titles[9]], mode=\"markers+text\",\n",
    "            marker={'size': 10, \"color\": df_wais_sub['Type_color'] },\n",
    "            hovertext= df_wais_sub['ID_SECONDAIRE'] +\", \"+ df_wais_sub['Type']),\n",
    "            row=3, col=2)\n",
    "    \n",
    "fig_wais_sub.add_trace(go.Scatter(x= df_wais_sub['age'], y=df_wais_sub[subplot_titles[10]], mode=\"markers+text\",\n",
    "            marker={'size': 10, \"color\": df_wais_sub['Type_color'] },\n",
    "            hovertext= df_wais_sub['ID_SECONDAIRE'] +\", \"+ df_wais_sub['Type']),\n",
    "            row=4, col=1)\n",
    "    \n",
    "fig_wais_sub.update_layout(height=1500, width=800,\n",
    "                   showlegend=False\n",
    "            )"
   ]
  },
  {
   "cell_type": "code",
   "execution_count": 70,
   "metadata": {
    "ExecuteTime": {
     "end_time": "2020-11-26T13:40:37.049777Z",
     "start_time": "2020-11-26T13:40:37.032031Z"
    }
   },
   "outputs": [],
   "source": [
    "df_wais_sub_agg = df_wais_sub.agg(['min', 'max', 'mean', 'median', 'count'])\n",
    "#\n",
    "df_wais_sub_agg.index.name = \"Aggrégation\"\n",
    "df_wais_sub_agg.reset_index(inplace=True)\n",
    "#\n",
    "df_wais_sub_agg = df_wais_sub_agg.replace({'Aggrégation' : {\"min\":\"Min\",\"max\":\"Max\",\"mean\":\"Moyenne\", \"median\":\"Médiane\",  \"count\":\"Effectif\"}})"
   ]
  },
  {
   "cell_type": "code",
   "execution_count": 71,
   "metadata": {
    "ExecuteTime": {
     "end_time": "2020-11-26T13:40:38.104861Z",
     "start_time": "2020-11-26T13:40:38.101291Z"
    }
   },
   "outputs": [],
   "source": [
    "df_wais_sub_agg = df_wais_sub_agg.drop(columns= ['ID_SECONDAIRE','Type', 'Type_color', 'age' ])"
   ]
  },
  {
   "cell_type": "code",
   "execution_count": 72,
   "metadata": {
    "ExecuteTime": {
     "end_time": "2020-11-26T13:40:38.682855Z",
     "start_time": "2020-11-26T13:40:38.678286Z"
    }
   },
   "outputs": [],
   "source": [
    "df_wais_sub_agg = df_wais_sub_agg.round(2)"
   ]
  },
  {
   "cell_type": "code",
   "execution_count": 73,
   "metadata": {
    "ExecuteTime": {
     "end_time": "2020-11-26T13:40:39.707893Z",
     "start_time": "2020-11-26T13:40:39.701743Z"
    }
   },
   "outputs": [],
   "source": [
    "wais_sub =  go.Table(\n",
    "                header=dict(values=list(df_wais_sub_agg.columns[:]),\n",
    "                align='left'),\n",
    "                cells=dict(values= [df_wais_sub_agg.iloc[:,0], df_wais_sub_agg.iloc[:,1], df_wais_sub_agg.iloc[:,2], df_wais_sub_agg.iloc[:,3]\n",
    "                           , df_wais_sub_agg.iloc[:,4], df_wais_sub_agg.iloc[:,5], df_wais_sub_agg.iloc[:,6], df_wais_sub_agg.iloc[:,7]], align='left'))"
   ]
  },
  {
   "cell_type": "code",
   "execution_count": 74,
   "metadata": {
    "ExecuteTime": {
     "end_time": "2020-11-26T13:40:41.162521Z",
     "start_time": "2020-11-26T13:40:40.928855Z"
    },
    "scrolled": true
   },
   "outputs": [
    {
     "data": {
      "application/vnd.plotly.v1+json": {
       "config": {
        "plotlyServerURL": "https://plot.ly"
       },
       "data": [
        {
         "cells": {
          "align": "left",
          "values": [
           [
            "Min",
            "Max",
            "Effectif",
            "Moyenne",
            "Médiane"
           ],
           [
            1,
            12,
            19,
            6.32,
            7
           ],
           [
            1,
            15,
            18,
            7.06,
            7.5
           ],
           [
            4,
            23,
            18,
            13.67,
            14
           ],
           [
            55,
            108,
            18,
            82.33,
            83.5
           ],
           [
            0,
            70,
            18,
            19.28,
            14
           ],
           [
            51,
            98,
            18,
            75.39,
            76.5
           ],
           [
            70,
            116,
            18,
            93.44,
            94.5
           ]
          ]
         },
         "header": {
          "align": "left",
          "values": [
           "Aggrégation",
           "Note standard Symboles",
           "Note standard Code",
           "Total des notes standards IVT",
           "Note composite IVT",
           "Rang percentile IVT",
           "Note écart type inférieure IVT",
           "Note écart type supérieure IVT"
          ]
         },
         "type": "table"
        }
       ],
       "layout": {
        "height": 1000,
        "template": {
         "data": {
          "bar": [
           {
            "error_x": {
             "color": "#2a3f5f"
            },
            "error_y": {
             "color": "#2a3f5f"
            },
            "marker": {
             "line": {
              "color": "#E5ECF6",
              "width": 0.5
             }
            },
            "type": "bar"
           }
          ],
          "barpolar": [
           {
            "marker": {
             "line": {
              "color": "#E5ECF6",
              "width": 0.5
             }
            },
            "type": "barpolar"
           }
          ],
          "carpet": [
           {
            "aaxis": {
             "endlinecolor": "#2a3f5f",
             "gridcolor": "white",
             "linecolor": "white",
             "minorgridcolor": "white",
             "startlinecolor": "#2a3f5f"
            },
            "baxis": {
             "endlinecolor": "#2a3f5f",
             "gridcolor": "white",
             "linecolor": "white",
             "minorgridcolor": "white",
             "startlinecolor": "#2a3f5f"
            },
            "type": "carpet"
           }
          ],
          "choropleth": [
           {
            "colorbar": {
             "outlinewidth": 0,
             "ticks": ""
            },
            "type": "choropleth"
           }
          ],
          "contour": [
           {
            "colorbar": {
             "outlinewidth": 0,
             "ticks": ""
            },
            "colorscale": [
             [
              0,
              "#0d0887"
             ],
             [
              0.1111111111111111,
              "#46039f"
             ],
             [
              0.2222222222222222,
              "#7201a8"
             ],
             [
              0.3333333333333333,
              "#9c179e"
             ],
             [
              0.4444444444444444,
              "#bd3786"
             ],
             [
              0.5555555555555556,
              "#d8576b"
             ],
             [
              0.6666666666666666,
              "#ed7953"
             ],
             [
              0.7777777777777778,
              "#fb9f3a"
             ],
             [
              0.8888888888888888,
              "#fdca26"
             ],
             [
              1,
              "#f0f921"
             ]
            ],
            "type": "contour"
           }
          ],
          "contourcarpet": [
           {
            "colorbar": {
             "outlinewidth": 0,
             "ticks": ""
            },
            "type": "contourcarpet"
           }
          ],
          "heatmap": [
           {
            "colorbar": {
             "outlinewidth": 0,
             "ticks": ""
            },
            "colorscale": [
             [
              0,
              "#0d0887"
             ],
             [
              0.1111111111111111,
              "#46039f"
             ],
             [
              0.2222222222222222,
              "#7201a8"
             ],
             [
              0.3333333333333333,
              "#9c179e"
             ],
             [
              0.4444444444444444,
              "#bd3786"
             ],
             [
              0.5555555555555556,
              "#d8576b"
             ],
             [
              0.6666666666666666,
              "#ed7953"
             ],
             [
              0.7777777777777778,
              "#fb9f3a"
             ],
             [
              0.8888888888888888,
              "#fdca26"
             ],
             [
              1,
              "#f0f921"
             ]
            ],
            "type": "heatmap"
           }
          ],
          "heatmapgl": [
           {
            "colorbar": {
             "outlinewidth": 0,
             "ticks": ""
            },
            "colorscale": [
             [
              0,
              "#0d0887"
             ],
             [
              0.1111111111111111,
              "#46039f"
             ],
             [
              0.2222222222222222,
              "#7201a8"
             ],
             [
              0.3333333333333333,
              "#9c179e"
             ],
             [
              0.4444444444444444,
              "#bd3786"
             ],
             [
              0.5555555555555556,
              "#d8576b"
             ],
             [
              0.6666666666666666,
              "#ed7953"
             ],
             [
              0.7777777777777778,
              "#fb9f3a"
             ],
             [
              0.8888888888888888,
              "#fdca26"
             ],
             [
              1,
              "#f0f921"
             ]
            ],
            "type": "heatmapgl"
           }
          ],
          "histogram": [
           {
            "marker": {
             "colorbar": {
              "outlinewidth": 0,
              "ticks": ""
             }
            },
            "type": "histogram"
           }
          ],
          "histogram2d": [
           {
            "colorbar": {
             "outlinewidth": 0,
             "ticks": ""
            },
            "colorscale": [
             [
              0,
              "#0d0887"
             ],
             [
              0.1111111111111111,
              "#46039f"
             ],
             [
              0.2222222222222222,
              "#7201a8"
             ],
             [
              0.3333333333333333,
              "#9c179e"
             ],
             [
              0.4444444444444444,
              "#bd3786"
             ],
             [
              0.5555555555555556,
              "#d8576b"
             ],
             [
              0.6666666666666666,
              "#ed7953"
             ],
             [
              0.7777777777777778,
              "#fb9f3a"
             ],
             [
              0.8888888888888888,
              "#fdca26"
             ],
             [
              1,
              "#f0f921"
             ]
            ],
            "type": "histogram2d"
           }
          ],
          "histogram2dcontour": [
           {
            "colorbar": {
             "outlinewidth": 0,
             "ticks": ""
            },
            "colorscale": [
             [
              0,
              "#0d0887"
             ],
             [
              0.1111111111111111,
              "#46039f"
             ],
             [
              0.2222222222222222,
              "#7201a8"
             ],
             [
              0.3333333333333333,
              "#9c179e"
             ],
             [
              0.4444444444444444,
              "#bd3786"
             ],
             [
              0.5555555555555556,
              "#d8576b"
             ],
             [
              0.6666666666666666,
              "#ed7953"
             ],
             [
              0.7777777777777778,
              "#fb9f3a"
             ],
             [
              0.8888888888888888,
              "#fdca26"
             ],
             [
              1,
              "#f0f921"
             ]
            ],
            "type": "histogram2dcontour"
           }
          ],
          "mesh3d": [
           {
            "colorbar": {
             "outlinewidth": 0,
             "ticks": ""
            },
            "type": "mesh3d"
           }
          ],
          "parcoords": [
           {
            "line": {
             "colorbar": {
              "outlinewidth": 0,
              "ticks": ""
             }
            },
            "type": "parcoords"
           }
          ],
          "pie": [
           {
            "automargin": true,
            "type": "pie"
           }
          ],
          "scatter": [
           {
            "marker": {
             "colorbar": {
              "outlinewidth": 0,
              "ticks": ""
             }
            },
            "type": "scatter"
           }
          ],
          "scatter3d": [
           {
            "line": {
             "colorbar": {
              "outlinewidth": 0,
              "ticks": ""
             }
            },
            "marker": {
             "colorbar": {
              "outlinewidth": 0,
              "ticks": ""
             }
            },
            "type": "scatter3d"
           }
          ],
          "scattercarpet": [
           {
            "marker": {
             "colorbar": {
              "outlinewidth": 0,
              "ticks": ""
             }
            },
            "type": "scattercarpet"
           }
          ],
          "scattergeo": [
           {
            "marker": {
             "colorbar": {
              "outlinewidth": 0,
              "ticks": ""
             }
            },
            "type": "scattergeo"
           }
          ],
          "scattergl": [
           {
            "marker": {
             "colorbar": {
              "outlinewidth": 0,
              "ticks": ""
             }
            },
            "type": "scattergl"
           }
          ],
          "scattermapbox": [
           {
            "marker": {
             "colorbar": {
              "outlinewidth": 0,
              "ticks": ""
             }
            },
            "type": "scattermapbox"
           }
          ],
          "scatterpolar": [
           {
            "marker": {
             "colorbar": {
              "outlinewidth": 0,
              "ticks": ""
             }
            },
            "type": "scatterpolar"
           }
          ],
          "scatterpolargl": [
           {
            "marker": {
             "colorbar": {
              "outlinewidth": 0,
              "ticks": ""
             }
            },
            "type": "scatterpolargl"
           }
          ],
          "scatterternary": [
           {
            "marker": {
             "colorbar": {
              "outlinewidth": 0,
              "ticks": ""
             }
            },
            "type": "scatterternary"
           }
          ],
          "surface": [
           {
            "colorbar": {
             "outlinewidth": 0,
             "ticks": ""
            },
            "colorscale": [
             [
              0,
              "#0d0887"
             ],
             [
              0.1111111111111111,
              "#46039f"
             ],
             [
              0.2222222222222222,
              "#7201a8"
             ],
             [
              0.3333333333333333,
              "#9c179e"
             ],
             [
              0.4444444444444444,
              "#bd3786"
             ],
             [
              0.5555555555555556,
              "#d8576b"
             ],
             [
              0.6666666666666666,
              "#ed7953"
             ],
             [
              0.7777777777777778,
              "#fb9f3a"
             ],
             [
              0.8888888888888888,
              "#fdca26"
             ],
             [
              1,
              "#f0f921"
             ]
            ],
            "type": "surface"
           }
          ],
          "table": [
           {
            "cells": {
             "fill": {
              "color": "#EBF0F8"
             },
             "line": {
              "color": "white"
             }
            },
            "header": {
             "fill": {
              "color": "#C8D4E3"
             },
             "line": {
              "color": "white"
             }
            },
            "type": "table"
           }
          ]
         },
         "layout": {
          "annotationdefaults": {
           "arrowcolor": "#2a3f5f",
           "arrowhead": 0,
           "arrowwidth": 1
          },
          "coloraxis": {
           "colorbar": {
            "outlinewidth": 0,
            "ticks": ""
           }
          },
          "colorscale": {
           "diverging": [
            [
             0,
             "#8e0152"
            ],
            [
             0.1,
             "#c51b7d"
            ],
            [
             0.2,
             "#de77ae"
            ],
            [
             0.3,
             "#f1b6da"
            ],
            [
             0.4,
             "#fde0ef"
            ],
            [
             0.5,
             "#f7f7f7"
            ],
            [
             0.6,
             "#e6f5d0"
            ],
            [
             0.7,
             "#b8e186"
            ],
            [
             0.8,
             "#7fbc41"
            ],
            [
             0.9,
             "#4d9221"
            ],
            [
             1,
             "#276419"
            ]
           ],
           "sequential": [
            [
             0,
             "#0d0887"
            ],
            [
             0.1111111111111111,
             "#46039f"
            ],
            [
             0.2222222222222222,
             "#7201a8"
            ],
            [
             0.3333333333333333,
             "#9c179e"
            ],
            [
             0.4444444444444444,
             "#bd3786"
            ],
            [
             0.5555555555555556,
             "#d8576b"
            ],
            [
             0.6666666666666666,
             "#ed7953"
            ],
            [
             0.7777777777777778,
             "#fb9f3a"
            ],
            [
             0.8888888888888888,
             "#fdca26"
            ],
            [
             1,
             "#f0f921"
            ]
           ],
           "sequentialminus": [
            [
             0,
             "#0d0887"
            ],
            [
             0.1111111111111111,
             "#46039f"
            ],
            [
             0.2222222222222222,
             "#7201a8"
            ],
            [
             0.3333333333333333,
             "#9c179e"
            ],
            [
             0.4444444444444444,
             "#bd3786"
            ],
            [
             0.5555555555555556,
             "#d8576b"
            ],
            [
             0.6666666666666666,
             "#ed7953"
            ],
            [
             0.7777777777777778,
             "#fb9f3a"
            ],
            [
             0.8888888888888888,
             "#fdca26"
            ],
            [
             1,
             "#f0f921"
            ]
           ]
          },
          "colorway": [
           "#636efa",
           "#EF553B",
           "#00cc96",
           "#ab63fa",
           "#FFA15A",
           "#19d3f3",
           "#FF6692",
           "#B6E880",
           "#FF97FF",
           "#FECB52"
          ],
          "font": {
           "color": "#2a3f5f"
          },
          "geo": {
           "bgcolor": "white",
           "lakecolor": "white",
           "landcolor": "#E5ECF6",
           "showlakes": true,
           "showland": true,
           "subunitcolor": "white"
          },
          "hoverlabel": {
           "align": "left"
          },
          "hovermode": "closest",
          "mapbox": {
           "style": "light"
          },
          "paper_bgcolor": "white",
          "plot_bgcolor": "#E5ECF6",
          "polar": {
           "angularaxis": {
            "gridcolor": "white",
            "linecolor": "white",
            "ticks": ""
           },
           "bgcolor": "#E5ECF6",
           "radialaxis": {
            "gridcolor": "white",
            "linecolor": "white",
            "ticks": ""
           }
          },
          "scene": {
           "xaxis": {
            "backgroundcolor": "#E5ECF6",
            "gridcolor": "white",
            "gridwidth": 2,
            "linecolor": "white",
            "showbackground": true,
            "ticks": "",
            "zerolinecolor": "white"
           },
           "yaxis": {
            "backgroundcolor": "#E5ECF6",
            "gridcolor": "white",
            "gridwidth": 2,
            "linecolor": "white",
            "showbackground": true,
            "ticks": "",
            "zerolinecolor": "white"
           },
           "zaxis": {
            "backgroundcolor": "#E5ECF6",
            "gridcolor": "white",
            "gridwidth": 2,
            "linecolor": "white",
            "showbackground": true,
            "ticks": "",
            "zerolinecolor": "white"
           }
          },
          "shapedefaults": {
           "line": {
            "color": "#2a3f5f"
           }
          },
          "ternary": {
           "aaxis": {
            "gridcolor": "white",
            "linecolor": "white",
            "ticks": ""
           },
           "baxis": {
            "gridcolor": "white",
            "linecolor": "white",
            "ticks": ""
           },
           "bgcolor": "#E5ECF6",
           "caxis": {
            "gridcolor": "white",
            "linecolor": "white",
            "ticks": ""
           }
          },
          "title": {
           "x": 0.05
          },
          "xaxis": {
           "automargin": true,
           "gridcolor": "white",
           "linecolor": "white",
           "ticks": "",
           "title": {
            "standoff": 15
           },
           "zerolinecolor": "white",
           "zerolinewidth": 2
          },
          "yaxis": {
           "automargin": true,
           "gridcolor": "white",
           "linecolor": "white",
           "ticks": "",
           "title": {
            "standoff": 15
           },
           "zerolinecolor": "white",
           "zerolinewidth": 2
          }
         }
        },
        "width": 1000
       }
      },
      "text/html": [
       "<div>\n",
       "        \n",
       "        \n",
       "            <div id=\"06289d59-203f-45a8-ac56-446872270040\" class=\"plotly-graph-div\" style=\"height:1000px; width:1000px;\"></div>\n",
       "            <script type=\"text/javascript\">\n",
       "                require([\"plotly\"], function(Plotly) {\n",
       "                    window.PLOTLYENV=window.PLOTLYENV || {};\n",
       "                    \n",
       "                if (document.getElementById(\"06289d59-203f-45a8-ac56-446872270040\")) {\n",
       "                    Plotly.newPlot(\n",
       "                        '06289d59-203f-45a8-ac56-446872270040',\n",
       "                        [{\"cells\": {\"align\": \"left\", \"values\": [[\"Min\", \"Max\", \"Effectif\", \"Moyenne\", \"M\\u00e9diane\"], [1.0, 12.0, 19.0, 6.32, 7.0], [1.0, 15.0, 18.0, 7.06, 7.5], [4.0, 23.0, 18.0, 13.67, 14.0], [55.0, 108.0, 18.0, 82.33, 83.5], [0.0, 70.0, 18.0, 19.28, 14.0], [51.0, 98.0, 18.0, 75.39, 76.5], [70.0, 116.0, 18.0, 93.44, 94.5]]}, \"header\": {\"align\": \"left\", \"values\": [\"Aggr\\u00e9gation\", \"Note standard Symboles\", \"Note standard Code\", \"Total des notes standards IVT\", \"Note composite IVT\", \"Rang percentile IVT\", \"Note \\u00e9cart type inf\\u00e9rieure IVT\", \"Note \\u00e9cart type sup\\u00e9rieure IVT\"]}, \"type\": \"table\"}],\n",
       "                        {\"height\": 1000, \"template\": {\"data\": {\"bar\": [{\"error_x\": {\"color\": \"#2a3f5f\"}, \"error_y\": {\"color\": \"#2a3f5f\"}, \"marker\": {\"line\": {\"color\": \"#E5ECF6\", \"width\": 0.5}}, \"type\": \"bar\"}], \"barpolar\": [{\"marker\": {\"line\": {\"color\": \"#E5ECF6\", \"width\": 0.5}}, \"type\": \"barpolar\"}], \"carpet\": [{\"aaxis\": {\"endlinecolor\": \"#2a3f5f\", \"gridcolor\": \"white\", \"linecolor\": \"white\", \"minorgridcolor\": \"white\", \"startlinecolor\": \"#2a3f5f\"}, \"baxis\": {\"endlinecolor\": \"#2a3f5f\", \"gridcolor\": \"white\", \"linecolor\": \"white\", \"minorgridcolor\": \"white\", \"startlinecolor\": \"#2a3f5f\"}, \"type\": \"carpet\"}], \"choropleth\": [{\"colorbar\": {\"outlinewidth\": 0, \"ticks\": \"\"}, \"type\": \"choropleth\"}], \"contour\": [{\"colorbar\": {\"outlinewidth\": 0, \"ticks\": \"\"}, \"colorscale\": [[0.0, \"#0d0887\"], [0.1111111111111111, \"#46039f\"], [0.2222222222222222, \"#7201a8\"], [0.3333333333333333, \"#9c179e\"], [0.4444444444444444, \"#bd3786\"], [0.5555555555555556, \"#d8576b\"], [0.6666666666666666, \"#ed7953\"], [0.7777777777777778, \"#fb9f3a\"], [0.8888888888888888, \"#fdca26\"], [1.0, \"#f0f921\"]], \"type\": \"contour\"}], \"contourcarpet\": [{\"colorbar\": {\"outlinewidth\": 0, \"ticks\": \"\"}, \"type\": \"contourcarpet\"}], \"heatmap\": [{\"colorbar\": {\"outlinewidth\": 0, \"ticks\": \"\"}, \"colorscale\": [[0.0, \"#0d0887\"], [0.1111111111111111, \"#46039f\"], [0.2222222222222222, \"#7201a8\"], [0.3333333333333333, \"#9c179e\"], [0.4444444444444444, \"#bd3786\"], [0.5555555555555556, \"#d8576b\"], [0.6666666666666666, \"#ed7953\"], [0.7777777777777778, \"#fb9f3a\"], [0.8888888888888888, \"#fdca26\"], [1.0, \"#f0f921\"]], \"type\": \"heatmap\"}], \"heatmapgl\": [{\"colorbar\": {\"outlinewidth\": 0, \"ticks\": \"\"}, \"colorscale\": [[0.0, \"#0d0887\"], [0.1111111111111111, \"#46039f\"], [0.2222222222222222, \"#7201a8\"], [0.3333333333333333, \"#9c179e\"], [0.4444444444444444, \"#bd3786\"], [0.5555555555555556, \"#d8576b\"], [0.6666666666666666, \"#ed7953\"], [0.7777777777777778, \"#fb9f3a\"], [0.8888888888888888, \"#fdca26\"], [1.0, \"#f0f921\"]], \"type\": \"heatmapgl\"}], \"histogram\": [{\"marker\": {\"colorbar\": {\"outlinewidth\": 0, \"ticks\": \"\"}}, \"type\": \"histogram\"}], \"histogram2d\": [{\"colorbar\": {\"outlinewidth\": 0, \"ticks\": \"\"}, \"colorscale\": [[0.0, \"#0d0887\"], [0.1111111111111111, \"#46039f\"], [0.2222222222222222, \"#7201a8\"], [0.3333333333333333, \"#9c179e\"], [0.4444444444444444, \"#bd3786\"], [0.5555555555555556, \"#d8576b\"], [0.6666666666666666, \"#ed7953\"], [0.7777777777777778, \"#fb9f3a\"], [0.8888888888888888, \"#fdca26\"], [1.0, \"#f0f921\"]], \"type\": \"histogram2d\"}], \"histogram2dcontour\": [{\"colorbar\": {\"outlinewidth\": 0, \"ticks\": \"\"}, \"colorscale\": [[0.0, \"#0d0887\"], [0.1111111111111111, \"#46039f\"], [0.2222222222222222, \"#7201a8\"], [0.3333333333333333, \"#9c179e\"], [0.4444444444444444, \"#bd3786\"], [0.5555555555555556, \"#d8576b\"], [0.6666666666666666, \"#ed7953\"], [0.7777777777777778, \"#fb9f3a\"], [0.8888888888888888, \"#fdca26\"], [1.0, \"#f0f921\"]], \"type\": \"histogram2dcontour\"}], \"mesh3d\": [{\"colorbar\": {\"outlinewidth\": 0, \"ticks\": \"\"}, \"type\": \"mesh3d\"}], \"parcoords\": [{\"line\": {\"colorbar\": {\"outlinewidth\": 0, \"ticks\": \"\"}}, \"type\": \"parcoords\"}], \"pie\": [{\"automargin\": true, \"type\": \"pie\"}], \"scatter\": [{\"marker\": {\"colorbar\": {\"outlinewidth\": 0, \"ticks\": \"\"}}, \"type\": \"scatter\"}], \"scatter3d\": [{\"line\": {\"colorbar\": {\"outlinewidth\": 0, \"ticks\": \"\"}}, \"marker\": {\"colorbar\": {\"outlinewidth\": 0, \"ticks\": \"\"}}, \"type\": \"scatter3d\"}], \"scattercarpet\": [{\"marker\": {\"colorbar\": {\"outlinewidth\": 0, \"ticks\": \"\"}}, \"type\": \"scattercarpet\"}], \"scattergeo\": [{\"marker\": {\"colorbar\": {\"outlinewidth\": 0, \"ticks\": \"\"}}, \"type\": \"scattergeo\"}], \"scattergl\": [{\"marker\": {\"colorbar\": {\"outlinewidth\": 0, \"ticks\": \"\"}}, \"type\": \"scattergl\"}], \"scattermapbox\": [{\"marker\": {\"colorbar\": {\"outlinewidth\": 0, \"ticks\": \"\"}}, \"type\": \"scattermapbox\"}], \"scatterpolar\": [{\"marker\": {\"colorbar\": {\"outlinewidth\": 0, \"ticks\": \"\"}}, \"type\": \"scatterpolar\"}], \"scatterpolargl\": [{\"marker\": {\"colorbar\": {\"outlinewidth\": 0, \"ticks\": \"\"}}, \"type\": \"scatterpolargl\"}], \"scatterternary\": [{\"marker\": {\"colorbar\": {\"outlinewidth\": 0, \"ticks\": \"\"}}, \"type\": \"scatterternary\"}], \"surface\": [{\"colorbar\": {\"outlinewidth\": 0, \"ticks\": \"\"}, \"colorscale\": [[0.0, \"#0d0887\"], [0.1111111111111111, \"#46039f\"], [0.2222222222222222, \"#7201a8\"], [0.3333333333333333, \"#9c179e\"], [0.4444444444444444, \"#bd3786\"], [0.5555555555555556, \"#d8576b\"], [0.6666666666666666, \"#ed7953\"], [0.7777777777777778, \"#fb9f3a\"], [0.8888888888888888, \"#fdca26\"], [1.0, \"#f0f921\"]], \"type\": \"surface\"}], \"table\": [{\"cells\": {\"fill\": {\"color\": \"#EBF0F8\"}, \"line\": {\"color\": \"white\"}}, \"header\": {\"fill\": {\"color\": \"#C8D4E3\"}, \"line\": {\"color\": \"white\"}}, \"type\": \"table\"}]}, \"layout\": {\"annotationdefaults\": {\"arrowcolor\": \"#2a3f5f\", \"arrowhead\": 0, \"arrowwidth\": 1}, \"coloraxis\": {\"colorbar\": {\"outlinewidth\": 0, \"ticks\": \"\"}}, \"colorscale\": {\"diverging\": [[0, \"#8e0152\"], [0.1, \"#c51b7d\"], [0.2, \"#de77ae\"], [0.3, \"#f1b6da\"], [0.4, \"#fde0ef\"], [0.5, \"#f7f7f7\"], [0.6, \"#e6f5d0\"], [0.7, \"#b8e186\"], [0.8, \"#7fbc41\"], [0.9, \"#4d9221\"], [1, \"#276419\"]], \"sequential\": [[0.0, \"#0d0887\"], [0.1111111111111111, \"#46039f\"], [0.2222222222222222, \"#7201a8\"], [0.3333333333333333, \"#9c179e\"], [0.4444444444444444, \"#bd3786\"], [0.5555555555555556, \"#d8576b\"], [0.6666666666666666, \"#ed7953\"], [0.7777777777777778, \"#fb9f3a\"], [0.8888888888888888, \"#fdca26\"], [1.0, \"#f0f921\"]], \"sequentialminus\": [[0.0, \"#0d0887\"], [0.1111111111111111, \"#46039f\"], [0.2222222222222222, \"#7201a8\"], [0.3333333333333333, \"#9c179e\"], [0.4444444444444444, \"#bd3786\"], [0.5555555555555556, \"#d8576b\"], [0.6666666666666666, \"#ed7953\"], [0.7777777777777778, \"#fb9f3a\"], [0.8888888888888888, \"#fdca26\"], [1.0, \"#f0f921\"]]}, \"colorway\": [\"#636efa\", \"#EF553B\", \"#00cc96\", \"#ab63fa\", \"#FFA15A\", \"#19d3f3\", \"#FF6692\", \"#B6E880\", \"#FF97FF\", \"#FECB52\"], \"font\": {\"color\": \"#2a3f5f\"}, \"geo\": {\"bgcolor\": \"white\", \"lakecolor\": \"white\", \"landcolor\": \"#E5ECF6\", \"showlakes\": true, \"showland\": true, \"subunitcolor\": \"white\"}, \"hoverlabel\": {\"align\": \"left\"}, \"hovermode\": \"closest\", \"mapbox\": {\"style\": \"light\"}, \"paper_bgcolor\": \"white\", \"plot_bgcolor\": \"#E5ECF6\", \"polar\": {\"angularaxis\": {\"gridcolor\": \"white\", \"linecolor\": \"white\", \"ticks\": \"\"}, \"bgcolor\": \"#E5ECF6\", \"radialaxis\": {\"gridcolor\": \"white\", \"linecolor\": \"white\", \"ticks\": \"\"}}, \"scene\": {\"xaxis\": {\"backgroundcolor\": \"#E5ECF6\", \"gridcolor\": \"white\", \"gridwidth\": 2, \"linecolor\": \"white\", \"showbackground\": true, \"ticks\": \"\", \"zerolinecolor\": \"white\"}, \"yaxis\": {\"backgroundcolor\": \"#E5ECF6\", \"gridcolor\": \"white\", \"gridwidth\": 2, \"linecolor\": \"white\", \"showbackground\": true, \"ticks\": \"\", \"zerolinecolor\": \"white\"}, \"zaxis\": {\"backgroundcolor\": \"#E5ECF6\", \"gridcolor\": \"white\", \"gridwidth\": 2, \"linecolor\": \"white\", \"showbackground\": true, \"ticks\": \"\", \"zerolinecolor\": \"white\"}}, \"shapedefaults\": {\"line\": {\"color\": \"#2a3f5f\"}}, \"ternary\": {\"aaxis\": {\"gridcolor\": \"white\", \"linecolor\": \"white\", \"ticks\": \"\"}, \"baxis\": {\"gridcolor\": \"white\", \"linecolor\": \"white\", \"ticks\": \"\"}, \"bgcolor\": \"#E5ECF6\", \"caxis\": {\"gridcolor\": \"white\", \"linecolor\": \"white\", \"ticks\": \"\"}}, \"title\": {\"x\": 0.05}, \"xaxis\": {\"automargin\": true, \"gridcolor\": \"white\", \"linecolor\": \"white\", \"ticks\": \"\", \"title\": {\"standoff\": 15}, \"zerolinecolor\": \"white\", \"zerolinewidth\": 2}, \"yaxis\": {\"automargin\": true, \"gridcolor\": \"white\", \"linecolor\": \"white\", \"ticks\": \"\", \"title\": {\"standoff\": 15}, \"zerolinecolor\": \"white\", \"zerolinewidth\": 2}}}, \"width\": 1000},\n",
       "                        {\"responsive\": true}\n",
       "                    ).then(function(){\n",
       "                            \n",
       "var gd = document.getElementById('06289d59-203f-45a8-ac56-446872270040');\n",
       "var x = new MutationObserver(function (mutations, observer) {{\n",
       "        var display = window.getComputedStyle(gd).display;\n",
       "        if (!display || display === 'none') {{\n",
       "            console.log([gd, 'removed!']);\n",
       "            Plotly.purge(gd);\n",
       "            observer.disconnect();\n",
       "        }}\n",
       "}});\n",
       "\n",
       "// Listen for the removal of the full notebook cells\n",
       "var notebookContainer = gd.closest('#notebook-container');\n",
       "if (notebookContainer) {{\n",
       "    x.observe(notebookContainer, {childList: true});\n",
       "}}\n",
       "\n",
       "// Listen for the clearing of the current output cell\n",
       "var outputEl = gd.closest('.output');\n",
       "if (outputEl) {{\n",
       "    x.observe(outputEl, {childList: true});\n",
       "}}\n",
       "\n",
       "                        })\n",
       "                };\n",
       "                });\n",
       "            </script>\n",
       "        </div>"
      ]
     },
     "metadata": {},
     "output_type": "display_data"
    }
   ],
   "source": [
    "fig = go.Figure(data=wais_sub)\n",
    "fig.update_layout(width=1000, height=1000)\n",
    "fig.show()"
   ]
  },
  {
   "cell_type": "code",
   "execution_count": 75,
   "metadata": {
    "ExecuteTime": {
     "end_time": "2020-11-26T13:40:42.905804Z",
     "start_time": "2020-11-26T13:40:42.902120Z"
    }
   },
   "outputs": [
    {
     "data": {
      "text/html": [
       "<h4>4. WAIS complet</h4>"
      ],
      "text/plain": [
       "<IPython.core.display.HTML object>"
      ]
     },
     "metadata": {},
     "output_type": "display_data"
    }
   ],
   "source": [
    "display(HTML('<h4>4. WAIS complet</h4>'))"
   ]
  },
  {
   "cell_type": "code",
   "execution_count": 76,
   "metadata": {
    "ExecuteTime": {
     "end_time": "2020-11-26T13:40:44.038820Z",
     "start_time": "2020-11-26T13:40:44.017064Z"
    }
   },
   "outputs": [],
   "source": [
    "wais_complet = len(df_wais[(df_wais['Total des notes standards ICV'].notna())&\n",
    "                       (df_wais['Total des notes standards IVT'].notna())&\n",
    "                        (df_wais['Total des notes standards IMT'].notna())&\n",
    "                        (df_wais['Total des notes standards IRP'].notna())])\n",
    "\n",
    "ICV_IVT = len(df_wais[(df_wais['Total des notes standards ICV'].notna())&\n",
    "                       (df_wais['Total des notes standards IVT'].notna())])\n",
    "\n",
    "ICV_IMT = len(df_wais[(df_wais['Total des notes standards ICV'].notna())&\n",
    "                       (df_wais['Total des notes standards IMT'].notna())])\n",
    "\n",
    "ICV_IRP = len(df_wais[(df_wais['Total des notes standards ICV'].notna())&\n",
    "                       (df_wais['Total des notes standards IRP'].notna())])\n",
    "\n",
    "IVT_IMT = len(df_wais[(df_wais['Total des notes standards IVT'].notna())&\n",
    "                       (df_wais['Total des notes standards IMT'].notna())])\n",
    "\n",
    "IVT_IRP = len(df_wais[(df_wais['Total des notes standards IVT'].notna())&\n",
    "                       (df_wais['Total des notes standards IRP'].notna())])\n",
    "\n",
    "IMT_IRP = len(df_wais[(df_wais['Total des notes standards IMT'].notna())&\n",
    "                       (df_wais['Total des notes standards IRP'].notna())])\n",
    "\n",
    "ICV_IVT_IMT = len(df_wais[(df_wais['Total des notes standards ICV'].notna())&\n",
    "                       (df_wais['Total des notes standards IVT'].notna())&\n",
    "                        (df_wais['Total des notes standards IMT'].notna())])\n",
    "\n",
    "ICV_IVT_IRP = len(df_wais[(df_wais['Total des notes standards ICV'].notna())&\n",
    "                       (df_wais['Total des notes standards IVT'].notna())&\n",
    "                        (df_wais['Total des notes standards IRP'].notna())])\n",
    "\n",
    "ICV_IMT_IRP = len(df_wais[(df_wais['Total des notes standards ICV'].notna())&\n",
    "                       (df_wais['Total des notes standards IMT'].notna())&\n",
    "                        (df_wais['Total des notes standards IRP'].notna())])\n",
    "\n"
   ]
  },
  {
   "cell_type": "code",
   "execution_count": 77,
   "metadata": {
    "ExecuteTime": {
     "end_time": "2020-11-26T13:40:45.482867Z",
     "start_time": "2020-11-26T13:40:45.477749Z"
    }
   },
   "outputs": [],
   "source": [
    "wais_sub =  go.Table(\n",
    "                header=dict(values=list(['Tests effectués', 'Effectif']),\n",
    "                align='left'),\n",
    "                cells=dict(values= [['ICV+IVT', 'ICV+IMT', 'ICV+IRP', 'IVT+IMT', 'IVT+IRP', 'IMT+IRP',\n",
    "                                     'ICV+IVT+IMT', 'ICV+IVT+IRP', 'ICV+IMT+IRP',\n",
    "                                     'ICV+IVT+IMT+IRP'],\n",
    "                                    [ICV_IVT, ICV_IMT, ICV_IRP, IVT_IMT, IVT_IRP, IMT_IRP, ICV_IVT_IMT, ICV_IVT_IRP, ICV_IMT_IRP, wais_complet]], align='left'))"
   ]
  },
  {
   "cell_type": "code",
   "execution_count": 78,
   "metadata": {
    "ExecuteTime": {
     "end_time": "2020-11-26T13:40:49.181070Z",
     "start_time": "2020-11-26T13:40:49.071343Z"
    },
    "scrolled": true
   },
   "outputs": [
    {
     "data": {
      "application/vnd.plotly.v1+json": {
       "config": {
        "plotlyServerURL": "https://plot.ly"
       },
       "data": [
        {
         "cells": {
          "align": "left",
          "values": [
           [
            "ICV+IVT",
            "ICV+IMT",
            "ICV+IRP",
            "IVT+IMT",
            "IVT+IRP",
            "IMT+IRP",
            "ICV+IVT+IMT",
            "ICV+IVT+IRP",
            "ICV+IMT+IRP",
            "ICV+IVT+IMT+IRP"
           ],
           [
            10,
            10,
            10,
            16,
            16,
            15,
            10,
            10,
            10,
            10
           ]
          ]
         },
         "header": {
          "align": "left",
          "values": [
           "Tests effectués",
           "Effectif"
          ]
         },
         "type": "table"
        }
       ],
       "layout": {
        "template": {
         "data": {
          "bar": [
           {
            "error_x": {
             "color": "#2a3f5f"
            },
            "error_y": {
             "color": "#2a3f5f"
            },
            "marker": {
             "line": {
              "color": "#E5ECF6",
              "width": 0.5
             }
            },
            "type": "bar"
           }
          ],
          "barpolar": [
           {
            "marker": {
             "line": {
              "color": "#E5ECF6",
              "width": 0.5
             }
            },
            "type": "barpolar"
           }
          ],
          "carpet": [
           {
            "aaxis": {
             "endlinecolor": "#2a3f5f",
             "gridcolor": "white",
             "linecolor": "white",
             "minorgridcolor": "white",
             "startlinecolor": "#2a3f5f"
            },
            "baxis": {
             "endlinecolor": "#2a3f5f",
             "gridcolor": "white",
             "linecolor": "white",
             "minorgridcolor": "white",
             "startlinecolor": "#2a3f5f"
            },
            "type": "carpet"
           }
          ],
          "choropleth": [
           {
            "colorbar": {
             "outlinewidth": 0,
             "ticks": ""
            },
            "type": "choropleth"
           }
          ],
          "contour": [
           {
            "colorbar": {
             "outlinewidth": 0,
             "ticks": ""
            },
            "colorscale": [
             [
              0,
              "#0d0887"
             ],
             [
              0.1111111111111111,
              "#46039f"
             ],
             [
              0.2222222222222222,
              "#7201a8"
             ],
             [
              0.3333333333333333,
              "#9c179e"
             ],
             [
              0.4444444444444444,
              "#bd3786"
             ],
             [
              0.5555555555555556,
              "#d8576b"
             ],
             [
              0.6666666666666666,
              "#ed7953"
             ],
             [
              0.7777777777777778,
              "#fb9f3a"
             ],
             [
              0.8888888888888888,
              "#fdca26"
             ],
             [
              1,
              "#f0f921"
             ]
            ],
            "type": "contour"
           }
          ],
          "contourcarpet": [
           {
            "colorbar": {
             "outlinewidth": 0,
             "ticks": ""
            },
            "type": "contourcarpet"
           }
          ],
          "heatmap": [
           {
            "colorbar": {
             "outlinewidth": 0,
             "ticks": ""
            },
            "colorscale": [
             [
              0,
              "#0d0887"
             ],
             [
              0.1111111111111111,
              "#46039f"
             ],
             [
              0.2222222222222222,
              "#7201a8"
             ],
             [
              0.3333333333333333,
              "#9c179e"
             ],
             [
              0.4444444444444444,
              "#bd3786"
             ],
             [
              0.5555555555555556,
              "#d8576b"
             ],
             [
              0.6666666666666666,
              "#ed7953"
             ],
             [
              0.7777777777777778,
              "#fb9f3a"
             ],
             [
              0.8888888888888888,
              "#fdca26"
             ],
             [
              1,
              "#f0f921"
             ]
            ],
            "type": "heatmap"
           }
          ],
          "heatmapgl": [
           {
            "colorbar": {
             "outlinewidth": 0,
             "ticks": ""
            },
            "colorscale": [
             [
              0,
              "#0d0887"
             ],
             [
              0.1111111111111111,
              "#46039f"
             ],
             [
              0.2222222222222222,
              "#7201a8"
             ],
             [
              0.3333333333333333,
              "#9c179e"
             ],
             [
              0.4444444444444444,
              "#bd3786"
             ],
             [
              0.5555555555555556,
              "#d8576b"
             ],
             [
              0.6666666666666666,
              "#ed7953"
             ],
             [
              0.7777777777777778,
              "#fb9f3a"
             ],
             [
              0.8888888888888888,
              "#fdca26"
             ],
             [
              1,
              "#f0f921"
             ]
            ],
            "type": "heatmapgl"
           }
          ],
          "histogram": [
           {
            "marker": {
             "colorbar": {
              "outlinewidth": 0,
              "ticks": ""
             }
            },
            "type": "histogram"
           }
          ],
          "histogram2d": [
           {
            "colorbar": {
             "outlinewidth": 0,
             "ticks": ""
            },
            "colorscale": [
             [
              0,
              "#0d0887"
             ],
             [
              0.1111111111111111,
              "#46039f"
             ],
             [
              0.2222222222222222,
              "#7201a8"
             ],
             [
              0.3333333333333333,
              "#9c179e"
             ],
             [
              0.4444444444444444,
              "#bd3786"
             ],
             [
              0.5555555555555556,
              "#d8576b"
             ],
             [
              0.6666666666666666,
              "#ed7953"
             ],
             [
              0.7777777777777778,
              "#fb9f3a"
             ],
             [
              0.8888888888888888,
              "#fdca26"
             ],
             [
              1,
              "#f0f921"
             ]
            ],
            "type": "histogram2d"
           }
          ],
          "histogram2dcontour": [
           {
            "colorbar": {
             "outlinewidth": 0,
             "ticks": ""
            },
            "colorscale": [
             [
              0,
              "#0d0887"
             ],
             [
              0.1111111111111111,
              "#46039f"
             ],
             [
              0.2222222222222222,
              "#7201a8"
             ],
             [
              0.3333333333333333,
              "#9c179e"
             ],
             [
              0.4444444444444444,
              "#bd3786"
             ],
             [
              0.5555555555555556,
              "#d8576b"
             ],
             [
              0.6666666666666666,
              "#ed7953"
             ],
             [
              0.7777777777777778,
              "#fb9f3a"
             ],
             [
              0.8888888888888888,
              "#fdca26"
             ],
             [
              1,
              "#f0f921"
             ]
            ],
            "type": "histogram2dcontour"
           }
          ],
          "mesh3d": [
           {
            "colorbar": {
             "outlinewidth": 0,
             "ticks": ""
            },
            "type": "mesh3d"
           }
          ],
          "parcoords": [
           {
            "line": {
             "colorbar": {
              "outlinewidth": 0,
              "ticks": ""
             }
            },
            "type": "parcoords"
           }
          ],
          "pie": [
           {
            "automargin": true,
            "type": "pie"
           }
          ],
          "scatter": [
           {
            "marker": {
             "colorbar": {
              "outlinewidth": 0,
              "ticks": ""
             }
            },
            "type": "scatter"
           }
          ],
          "scatter3d": [
           {
            "line": {
             "colorbar": {
              "outlinewidth": 0,
              "ticks": ""
             }
            },
            "marker": {
             "colorbar": {
              "outlinewidth": 0,
              "ticks": ""
             }
            },
            "type": "scatter3d"
           }
          ],
          "scattercarpet": [
           {
            "marker": {
             "colorbar": {
              "outlinewidth": 0,
              "ticks": ""
             }
            },
            "type": "scattercarpet"
           }
          ],
          "scattergeo": [
           {
            "marker": {
             "colorbar": {
              "outlinewidth": 0,
              "ticks": ""
             }
            },
            "type": "scattergeo"
           }
          ],
          "scattergl": [
           {
            "marker": {
             "colorbar": {
              "outlinewidth": 0,
              "ticks": ""
             }
            },
            "type": "scattergl"
           }
          ],
          "scattermapbox": [
           {
            "marker": {
             "colorbar": {
              "outlinewidth": 0,
              "ticks": ""
             }
            },
            "type": "scattermapbox"
           }
          ],
          "scatterpolar": [
           {
            "marker": {
             "colorbar": {
              "outlinewidth": 0,
              "ticks": ""
             }
            },
            "type": "scatterpolar"
           }
          ],
          "scatterpolargl": [
           {
            "marker": {
             "colorbar": {
              "outlinewidth": 0,
              "ticks": ""
             }
            },
            "type": "scatterpolargl"
           }
          ],
          "scatterternary": [
           {
            "marker": {
             "colorbar": {
              "outlinewidth": 0,
              "ticks": ""
             }
            },
            "type": "scatterternary"
           }
          ],
          "surface": [
           {
            "colorbar": {
             "outlinewidth": 0,
             "ticks": ""
            },
            "colorscale": [
             [
              0,
              "#0d0887"
             ],
             [
              0.1111111111111111,
              "#46039f"
             ],
             [
              0.2222222222222222,
              "#7201a8"
             ],
             [
              0.3333333333333333,
              "#9c179e"
             ],
             [
              0.4444444444444444,
              "#bd3786"
             ],
             [
              0.5555555555555556,
              "#d8576b"
             ],
             [
              0.6666666666666666,
              "#ed7953"
             ],
             [
              0.7777777777777778,
              "#fb9f3a"
             ],
             [
              0.8888888888888888,
              "#fdca26"
             ],
             [
              1,
              "#f0f921"
             ]
            ],
            "type": "surface"
           }
          ],
          "table": [
           {
            "cells": {
             "fill": {
              "color": "#EBF0F8"
             },
             "line": {
              "color": "white"
             }
            },
            "header": {
             "fill": {
              "color": "#C8D4E3"
             },
             "line": {
              "color": "white"
             }
            },
            "type": "table"
           }
          ]
         },
         "layout": {
          "annotationdefaults": {
           "arrowcolor": "#2a3f5f",
           "arrowhead": 0,
           "arrowwidth": 1
          },
          "coloraxis": {
           "colorbar": {
            "outlinewidth": 0,
            "ticks": ""
           }
          },
          "colorscale": {
           "diverging": [
            [
             0,
             "#8e0152"
            ],
            [
             0.1,
             "#c51b7d"
            ],
            [
             0.2,
             "#de77ae"
            ],
            [
             0.3,
             "#f1b6da"
            ],
            [
             0.4,
             "#fde0ef"
            ],
            [
             0.5,
             "#f7f7f7"
            ],
            [
             0.6,
             "#e6f5d0"
            ],
            [
             0.7,
             "#b8e186"
            ],
            [
             0.8,
             "#7fbc41"
            ],
            [
             0.9,
             "#4d9221"
            ],
            [
             1,
             "#276419"
            ]
           ],
           "sequential": [
            [
             0,
             "#0d0887"
            ],
            [
             0.1111111111111111,
             "#46039f"
            ],
            [
             0.2222222222222222,
             "#7201a8"
            ],
            [
             0.3333333333333333,
             "#9c179e"
            ],
            [
             0.4444444444444444,
             "#bd3786"
            ],
            [
             0.5555555555555556,
             "#d8576b"
            ],
            [
             0.6666666666666666,
             "#ed7953"
            ],
            [
             0.7777777777777778,
             "#fb9f3a"
            ],
            [
             0.8888888888888888,
             "#fdca26"
            ],
            [
             1,
             "#f0f921"
            ]
           ],
           "sequentialminus": [
            [
             0,
             "#0d0887"
            ],
            [
             0.1111111111111111,
             "#46039f"
            ],
            [
             0.2222222222222222,
             "#7201a8"
            ],
            [
             0.3333333333333333,
             "#9c179e"
            ],
            [
             0.4444444444444444,
             "#bd3786"
            ],
            [
             0.5555555555555556,
             "#d8576b"
            ],
            [
             0.6666666666666666,
             "#ed7953"
            ],
            [
             0.7777777777777778,
             "#fb9f3a"
            ],
            [
             0.8888888888888888,
             "#fdca26"
            ],
            [
             1,
             "#f0f921"
            ]
           ]
          },
          "colorway": [
           "#636efa",
           "#EF553B",
           "#00cc96",
           "#ab63fa",
           "#FFA15A",
           "#19d3f3",
           "#FF6692",
           "#B6E880",
           "#FF97FF",
           "#FECB52"
          ],
          "font": {
           "color": "#2a3f5f"
          },
          "geo": {
           "bgcolor": "white",
           "lakecolor": "white",
           "landcolor": "#E5ECF6",
           "showlakes": true,
           "showland": true,
           "subunitcolor": "white"
          },
          "hoverlabel": {
           "align": "left"
          },
          "hovermode": "closest",
          "mapbox": {
           "style": "light"
          },
          "paper_bgcolor": "white",
          "plot_bgcolor": "#E5ECF6",
          "polar": {
           "angularaxis": {
            "gridcolor": "white",
            "linecolor": "white",
            "ticks": ""
           },
           "bgcolor": "#E5ECF6",
           "radialaxis": {
            "gridcolor": "white",
            "linecolor": "white",
            "ticks": ""
           }
          },
          "scene": {
           "xaxis": {
            "backgroundcolor": "#E5ECF6",
            "gridcolor": "white",
            "gridwidth": 2,
            "linecolor": "white",
            "showbackground": true,
            "ticks": "",
            "zerolinecolor": "white"
           },
           "yaxis": {
            "backgroundcolor": "#E5ECF6",
            "gridcolor": "white",
            "gridwidth": 2,
            "linecolor": "white",
            "showbackground": true,
            "ticks": "",
            "zerolinecolor": "white"
           },
           "zaxis": {
            "backgroundcolor": "#E5ECF6",
            "gridcolor": "white",
            "gridwidth": 2,
            "linecolor": "white",
            "showbackground": true,
            "ticks": "",
            "zerolinecolor": "white"
           }
          },
          "shapedefaults": {
           "line": {
            "color": "#2a3f5f"
           }
          },
          "ternary": {
           "aaxis": {
            "gridcolor": "white",
            "linecolor": "white",
            "ticks": ""
           },
           "baxis": {
            "gridcolor": "white",
            "linecolor": "white",
            "ticks": ""
           },
           "bgcolor": "#E5ECF6",
           "caxis": {
            "gridcolor": "white",
            "linecolor": "white",
            "ticks": ""
           }
          },
          "title": {
           "x": 0.05
          },
          "xaxis": {
           "automargin": true,
           "gridcolor": "white",
           "linecolor": "white",
           "ticks": "",
           "title": {
            "standoff": 15
           },
           "zerolinecolor": "white",
           "zerolinewidth": 2
          },
          "yaxis": {
           "automargin": true,
           "gridcolor": "white",
           "linecolor": "white",
           "ticks": "",
           "title": {
            "standoff": 15
           },
           "zerolinecolor": "white",
           "zerolinewidth": 2
          }
         }
        }
       }
      },
      "text/html": [
       "<div>\n",
       "        \n",
       "        \n",
       "            <div id=\"139dcee0-159d-4431-a8b9-f3127b67adc3\" class=\"plotly-graph-div\" style=\"height:525px; width:100%;\"></div>\n",
       "            <script type=\"text/javascript\">\n",
       "                require([\"plotly\"], function(Plotly) {\n",
       "                    window.PLOTLYENV=window.PLOTLYENV || {};\n",
       "                    \n",
       "                if (document.getElementById(\"139dcee0-159d-4431-a8b9-f3127b67adc3\")) {\n",
       "                    Plotly.newPlot(\n",
       "                        '139dcee0-159d-4431-a8b9-f3127b67adc3',\n",
       "                        [{\"cells\": {\"align\": \"left\", \"values\": [[\"ICV+IVT\", \"ICV+IMT\", \"ICV+IRP\", \"IVT+IMT\", \"IVT+IRP\", \"IMT+IRP\", \"ICV+IVT+IMT\", \"ICV+IVT+IRP\", \"ICV+IMT+IRP\", \"ICV+IVT+IMT+IRP\"], [10, 10, 10, 16, 16, 15, 10, 10, 10, 10]]}, \"header\": {\"align\": \"left\", \"values\": [\"Tests effectu\\u00e9s\", \"Effectif\"]}, \"type\": \"table\"}],\n",
       "                        {\"template\": {\"data\": {\"bar\": [{\"error_x\": {\"color\": \"#2a3f5f\"}, \"error_y\": {\"color\": \"#2a3f5f\"}, \"marker\": {\"line\": {\"color\": \"#E5ECF6\", \"width\": 0.5}}, \"type\": \"bar\"}], \"barpolar\": [{\"marker\": {\"line\": {\"color\": \"#E5ECF6\", \"width\": 0.5}}, \"type\": \"barpolar\"}], \"carpet\": [{\"aaxis\": {\"endlinecolor\": \"#2a3f5f\", \"gridcolor\": \"white\", \"linecolor\": \"white\", \"minorgridcolor\": \"white\", \"startlinecolor\": \"#2a3f5f\"}, \"baxis\": {\"endlinecolor\": \"#2a3f5f\", \"gridcolor\": \"white\", \"linecolor\": \"white\", \"minorgridcolor\": \"white\", \"startlinecolor\": \"#2a3f5f\"}, \"type\": \"carpet\"}], \"choropleth\": [{\"colorbar\": {\"outlinewidth\": 0, \"ticks\": \"\"}, \"type\": \"choropleth\"}], \"contour\": [{\"colorbar\": {\"outlinewidth\": 0, \"ticks\": \"\"}, \"colorscale\": [[0.0, \"#0d0887\"], [0.1111111111111111, \"#46039f\"], [0.2222222222222222, \"#7201a8\"], [0.3333333333333333, \"#9c179e\"], [0.4444444444444444, \"#bd3786\"], [0.5555555555555556, \"#d8576b\"], [0.6666666666666666, \"#ed7953\"], [0.7777777777777778, \"#fb9f3a\"], [0.8888888888888888, \"#fdca26\"], [1.0, \"#f0f921\"]], \"type\": \"contour\"}], \"contourcarpet\": [{\"colorbar\": {\"outlinewidth\": 0, \"ticks\": \"\"}, \"type\": \"contourcarpet\"}], \"heatmap\": [{\"colorbar\": {\"outlinewidth\": 0, \"ticks\": \"\"}, \"colorscale\": [[0.0, \"#0d0887\"], [0.1111111111111111, \"#46039f\"], [0.2222222222222222, \"#7201a8\"], [0.3333333333333333, \"#9c179e\"], [0.4444444444444444, \"#bd3786\"], [0.5555555555555556, \"#d8576b\"], [0.6666666666666666, \"#ed7953\"], [0.7777777777777778, \"#fb9f3a\"], [0.8888888888888888, \"#fdca26\"], [1.0, \"#f0f921\"]], \"type\": \"heatmap\"}], \"heatmapgl\": [{\"colorbar\": {\"outlinewidth\": 0, \"ticks\": \"\"}, \"colorscale\": [[0.0, \"#0d0887\"], [0.1111111111111111, \"#46039f\"], [0.2222222222222222, \"#7201a8\"], [0.3333333333333333, \"#9c179e\"], [0.4444444444444444, \"#bd3786\"], [0.5555555555555556, \"#d8576b\"], [0.6666666666666666, \"#ed7953\"], [0.7777777777777778, \"#fb9f3a\"], [0.8888888888888888, \"#fdca26\"], [1.0, \"#f0f921\"]], \"type\": \"heatmapgl\"}], \"histogram\": [{\"marker\": {\"colorbar\": {\"outlinewidth\": 0, \"ticks\": \"\"}}, \"type\": \"histogram\"}], \"histogram2d\": [{\"colorbar\": {\"outlinewidth\": 0, \"ticks\": \"\"}, \"colorscale\": [[0.0, \"#0d0887\"], [0.1111111111111111, \"#46039f\"], [0.2222222222222222, \"#7201a8\"], [0.3333333333333333, \"#9c179e\"], [0.4444444444444444, \"#bd3786\"], [0.5555555555555556, \"#d8576b\"], [0.6666666666666666, \"#ed7953\"], [0.7777777777777778, \"#fb9f3a\"], [0.8888888888888888, \"#fdca26\"], [1.0, \"#f0f921\"]], \"type\": \"histogram2d\"}], \"histogram2dcontour\": [{\"colorbar\": {\"outlinewidth\": 0, \"ticks\": \"\"}, \"colorscale\": [[0.0, \"#0d0887\"], [0.1111111111111111, \"#46039f\"], [0.2222222222222222, \"#7201a8\"], [0.3333333333333333, \"#9c179e\"], [0.4444444444444444, \"#bd3786\"], [0.5555555555555556, \"#d8576b\"], [0.6666666666666666, \"#ed7953\"], [0.7777777777777778, \"#fb9f3a\"], [0.8888888888888888, \"#fdca26\"], [1.0, \"#f0f921\"]], \"type\": \"histogram2dcontour\"}], \"mesh3d\": [{\"colorbar\": {\"outlinewidth\": 0, \"ticks\": \"\"}, \"type\": \"mesh3d\"}], \"parcoords\": [{\"line\": {\"colorbar\": {\"outlinewidth\": 0, \"ticks\": \"\"}}, \"type\": \"parcoords\"}], \"pie\": [{\"automargin\": true, \"type\": \"pie\"}], \"scatter\": [{\"marker\": {\"colorbar\": {\"outlinewidth\": 0, \"ticks\": \"\"}}, \"type\": \"scatter\"}], \"scatter3d\": [{\"line\": {\"colorbar\": {\"outlinewidth\": 0, \"ticks\": \"\"}}, \"marker\": {\"colorbar\": {\"outlinewidth\": 0, \"ticks\": \"\"}}, \"type\": \"scatter3d\"}], \"scattercarpet\": [{\"marker\": {\"colorbar\": {\"outlinewidth\": 0, \"ticks\": \"\"}}, \"type\": \"scattercarpet\"}], \"scattergeo\": [{\"marker\": {\"colorbar\": {\"outlinewidth\": 0, \"ticks\": \"\"}}, \"type\": \"scattergeo\"}], \"scattergl\": [{\"marker\": {\"colorbar\": {\"outlinewidth\": 0, \"ticks\": \"\"}}, \"type\": \"scattergl\"}], \"scattermapbox\": [{\"marker\": {\"colorbar\": {\"outlinewidth\": 0, \"ticks\": \"\"}}, \"type\": \"scattermapbox\"}], \"scatterpolar\": [{\"marker\": {\"colorbar\": {\"outlinewidth\": 0, \"ticks\": \"\"}}, \"type\": \"scatterpolar\"}], \"scatterpolargl\": [{\"marker\": {\"colorbar\": {\"outlinewidth\": 0, \"ticks\": \"\"}}, \"type\": \"scatterpolargl\"}], \"scatterternary\": [{\"marker\": {\"colorbar\": {\"outlinewidth\": 0, \"ticks\": \"\"}}, \"type\": \"scatterternary\"}], \"surface\": [{\"colorbar\": {\"outlinewidth\": 0, \"ticks\": \"\"}, \"colorscale\": [[0.0, \"#0d0887\"], [0.1111111111111111, \"#46039f\"], [0.2222222222222222, \"#7201a8\"], [0.3333333333333333, \"#9c179e\"], [0.4444444444444444, \"#bd3786\"], [0.5555555555555556, \"#d8576b\"], [0.6666666666666666, \"#ed7953\"], [0.7777777777777778, \"#fb9f3a\"], [0.8888888888888888, \"#fdca26\"], [1.0, \"#f0f921\"]], \"type\": \"surface\"}], \"table\": [{\"cells\": {\"fill\": {\"color\": \"#EBF0F8\"}, \"line\": {\"color\": \"white\"}}, \"header\": {\"fill\": {\"color\": \"#C8D4E3\"}, \"line\": {\"color\": \"white\"}}, \"type\": \"table\"}]}, \"layout\": {\"annotationdefaults\": {\"arrowcolor\": \"#2a3f5f\", \"arrowhead\": 0, \"arrowwidth\": 1}, \"coloraxis\": {\"colorbar\": {\"outlinewidth\": 0, \"ticks\": \"\"}}, \"colorscale\": {\"diverging\": [[0, \"#8e0152\"], [0.1, \"#c51b7d\"], [0.2, \"#de77ae\"], [0.3, \"#f1b6da\"], [0.4, \"#fde0ef\"], [0.5, \"#f7f7f7\"], [0.6, \"#e6f5d0\"], [0.7, \"#b8e186\"], [0.8, \"#7fbc41\"], [0.9, \"#4d9221\"], [1, \"#276419\"]], \"sequential\": [[0.0, \"#0d0887\"], [0.1111111111111111, \"#46039f\"], [0.2222222222222222, \"#7201a8\"], [0.3333333333333333, \"#9c179e\"], [0.4444444444444444, \"#bd3786\"], [0.5555555555555556, \"#d8576b\"], [0.6666666666666666, \"#ed7953\"], [0.7777777777777778, \"#fb9f3a\"], [0.8888888888888888, \"#fdca26\"], [1.0, \"#f0f921\"]], \"sequentialminus\": [[0.0, \"#0d0887\"], [0.1111111111111111, \"#46039f\"], [0.2222222222222222, \"#7201a8\"], [0.3333333333333333, \"#9c179e\"], [0.4444444444444444, \"#bd3786\"], [0.5555555555555556, \"#d8576b\"], [0.6666666666666666, \"#ed7953\"], [0.7777777777777778, \"#fb9f3a\"], [0.8888888888888888, \"#fdca26\"], [1.0, \"#f0f921\"]]}, \"colorway\": [\"#636efa\", \"#EF553B\", \"#00cc96\", \"#ab63fa\", \"#FFA15A\", \"#19d3f3\", \"#FF6692\", \"#B6E880\", \"#FF97FF\", \"#FECB52\"], \"font\": {\"color\": \"#2a3f5f\"}, \"geo\": {\"bgcolor\": \"white\", \"lakecolor\": \"white\", \"landcolor\": \"#E5ECF6\", \"showlakes\": true, \"showland\": true, \"subunitcolor\": \"white\"}, \"hoverlabel\": {\"align\": \"left\"}, \"hovermode\": \"closest\", \"mapbox\": {\"style\": \"light\"}, \"paper_bgcolor\": \"white\", \"plot_bgcolor\": \"#E5ECF6\", \"polar\": {\"angularaxis\": {\"gridcolor\": \"white\", \"linecolor\": \"white\", \"ticks\": \"\"}, \"bgcolor\": \"#E5ECF6\", \"radialaxis\": {\"gridcolor\": \"white\", \"linecolor\": \"white\", \"ticks\": \"\"}}, \"scene\": {\"xaxis\": {\"backgroundcolor\": \"#E5ECF6\", \"gridcolor\": \"white\", \"gridwidth\": 2, \"linecolor\": \"white\", \"showbackground\": true, \"ticks\": \"\", \"zerolinecolor\": \"white\"}, \"yaxis\": {\"backgroundcolor\": \"#E5ECF6\", \"gridcolor\": \"white\", \"gridwidth\": 2, \"linecolor\": \"white\", \"showbackground\": true, \"ticks\": \"\", \"zerolinecolor\": \"white\"}, \"zaxis\": {\"backgroundcolor\": \"#E5ECF6\", \"gridcolor\": \"white\", \"gridwidth\": 2, \"linecolor\": \"white\", \"showbackground\": true, \"ticks\": \"\", \"zerolinecolor\": \"white\"}}, \"shapedefaults\": {\"line\": {\"color\": \"#2a3f5f\"}}, \"ternary\": {\"aaxis\": {\"gridcolor\": \"white\", \"linecolor\": \"white\", \"ticks\": \"\"}, \"baxis\": {\"gridcolor\": \"white\", \"linecolor\": \"white\", \"ticks\": \"\"}, \"bgcolor\": \"#E5ECF6\", \"caxis\": {\"gridcolor\": \"white\", \"linecolor\": \"white\", \"ticks\": \"\"}}, \"title\": {\"x\": 0.05}, \"xaxis\": {\"automargin\": true, \"gridcolor\": \"white\", \"linecolor\": \"white\", \"ticks\": \"\", \"title\": {\"standoff\": 15}, \"zerolinecolor\": \"white\", \"zerolinewidth\": 2}, \"yaxis\": {\"automargin\": true, \"gridcolor\": \"white\", \"linecolor\": \"white\", \"ticks\": \"\", \"title\": {\"standoff\": 15}, \"zerolinecolor\": \"white\", \"zerolinewidth\": 2}}}},\n",
       "                        {\"responsive\": true}\n",
       "                    ).then(function(){\n",
       "                            \n",
       "var gd = document.getElementById('139dcee0-159d-4431-a8b9-f3127b67adc3');\n",
       "var x = new MutationObserver(function (mutations, observer) {{\n",
       "        var display = window.getComputedStyle(gd).display;\n",
       "        if (!display || display === 'none') {{\n",
       "            console.log([gd, 'removed!']);\n",
       "            Plotly.purge(gd);\n",
       "            observer.disconnect();\n",
       "        }}\n",
       "}});\n",
       "\n",
       "// Listen for the removal of the full notebook cells\n",
       "var notebookContainer = gd.closest('#notebook-container');\n",
       "if (notebookContainer) {{\n",
       "    x.observe(notebookContainer, {childList: true});\n",
       "}}\n",
       "\n",
       "// Listen for the clearing of the current output cell\n",
       "var outputEl = gd.closest('.output');\n",
       "if (outputEl) {{\n",
       "    x.observe(outputEl, {childList: true});\n",
       "}}\n",
       "\n",
       "                        })\n",
       "                };\n",
       "                });\n",
       "            </script>\n",
       "        </div>"
      ]
     },
     "metadata": {},
     "output_type": "display_data"
    }
   ],
   "source": [
    "fig = go.Figure(data=wais_sub)\n",
    "fig.show()"
   ]
  }
 ],
 "metadata": {
  "kernelspec": {
   "display_name": "Python 3",
   "language": "python",
   "name": "python3"
  },
  "language_info": {
   "codemirror_mode": {
    "name": "ipython",
    "version": 3
   },
   "file_extension": ".py",
   "mimetype": "text/x-python",
   "name": "python",
   "nbconvert_exporter": "python",
   "pygments_lexer": "ipython3",
   "version": "3.7.4"
  },
  "widgets": {
   "application/vnd.jupyter.widget-state+json": {
    "state": {},
    "version_major": 2,
    "version_minor": 0
   }
  }
 },
 "nbformat": 4,
 "nbformat_minor": 2
}
