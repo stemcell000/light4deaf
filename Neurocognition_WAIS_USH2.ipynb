{
 "cells": [
  {
   "cell_type": "code",
   "execution_count": 79,
   "metadata": {
    "ExecuteTime": {
     "end_time": "2020-11-26T13:42:19.765661Z",
     "start_time": "2020-11-26T13:42:19.636253Z"
    }
   },
   "outputs": [],
   "source": [
    "import pandas as pd\n",
    "import numpy as np\n",
    "import warnings\n",
    "import scipy as sp\n",
    "from datetime import datetime\n",
    "from IPython.display import display\n",
    "import plotly\n",
    "import plotly.figure_factory as ff\n",
    "import plotly.graph_objects as go\n",
    "import plotly.express as px\n",
    "from IPython.core.display import display, HTML\n",
    "from plotly.subplots import make_subplots\n",
    "from IPython.display import display\n",
    "autoscroll_set_on_load = True\n",
    "autoscroll_starting_threshold = -1\n",
    "pd.options.display.max_columns = None\n",
    "pd.options.display.max_rows = None\n",
    "df = pd.read_excel('data/LIGHT4DEAF_Neurocognition_Avril_2020_1_FULL_ADULTES_20200504.xlsx')"
   ]
  },
  {
   "cell_type": "code",
   "execution_count": 2,
   "metadata": {
    "ExecuteTime": {
     "end_time": "2020-07-06T12:35:17.107654Z",
     "start_time": "2020-07-06T12:35:17.099574Z"
    }
   },
   "outputs": [
    {
     "data": {
      "text/html": [
       "<script>\n",
       "code_show=true; \n",
       "function code_toggle() {\n",
       " if (code_show){\n",
       " $('div.input').hide();\n",
       " } else {\n",
       " $('div.input').show();\n",
       " }\n",
       " code_show = !code_show\n",
       "} \n",
       "$( document ).ready(code_toggle);\n",
       "</script>\n",
       "The raw code for this IPython notebook is by default hidden for easier reading.\n",
       "To toggle on/off the raw code, click <a href=\"javascript:code_toggle()\">here</a>."
      ],
      "text/plain": [
       "<IPython.core.display.HTML object>"
      ]
     },
     "execution_count": 2,
     "metadata": {},
     "output_type": "execute_result"
    }
   ],
   "source": [
    "HTML('''<script>\n",
    "code_show=true; \n",
    "function code_toggle() {\n",
    " if (code_show){\n",
    " $('div.input').hide();\n",
    " } else {\n",
    " $('div.input').show();\n",
    " }\n",
    " code_show = !code_show\n",
    "} \n",
    "$( document ).ready(code_toggle);\n",
    "</script>\n",
    "The raw code for this IPython notebook is by default hidden for easier reading.\n",
    "To toggle on/off the raw code, click <a href=\"javascript:code_toggle()\">here</a>.''')"
   ]
  },
  {
   "cell_type": "code",
   "execution_count": 80,
   "metadata": {
    "ExecuteTime": {
     "end_time": "2020-11-26T13:42:22.599557Z",
     "start_time": "2020-11-26T13:42:22.589893Z"
    }
   },
   "outputs": [],
   "source": [
    "df = df[df[\"Investigateur\"].notnull()]\n",
    "\n",
    "cardinal = len(df)\n",
    "\n",
    "now = datetime.now()\n",
    "df['Date de naissance du patient'] = pd.to_datetime(df['Date de naissance du patient'], format='%m/%d/%y')\n",
    "df['Date de naissance du patient'] = df['Date de naissance du patient'].where(df['Date de naissance du patient'] < now, df['Date de naissance du patient'] -  np.timedelta64(100, 'Y')) \n",
    "df['age'] = (now - df['Date de naissance du patient']).astype('<m8[Y]')\n",
    "\n",
    "#Patients adultes : type\n",
    "#df_type1 = df[df[\"Type\"]=='Type 1']\n",
    "#df_type2 = df[df[\"Type\"]=='Type 2']\n",
    "#df_type3 = df[df[\"Type\"]=='Type 3']\n",
    "#df_type_nan = df[df[\"Type\"].isna()]"
   ]
  },
  {
   "cell_type": "code",
   "execution_count": 81,
   "metadata": {
    "ExecuteTime": {
     "end_time": "2020-11-26T13:42:23.544145Z",
     "start_time": "2020-11-26T13:42:23.539365Z"
    }
   },
   "outputs": [],
   "source": [
    "df = df[df[\"Type\"]=='Type 2']"
   ]
  },
  {
   "cell_type": "code",
   "execution_count": 82,
   "metadata": {
    "ExecuteTime": {
     "end_time": "2020-11-26T13:42:24.437530Z",
     "start_time": "2020-11-26T13:42:24.430217Z"
    }
   },
   "outputs": [
    {
     "data": {
      "text/html": [
       "<h1>L i g h t 4 d e a f</h1>"
      ],
      "text/plain": [
       "<IPython.core.display.HTML object>"
      ]
     },
     "metadata": {},
     "output_type": "display_data"
    },
    {
     "data": {
      "text/html": [
       "<h2>Neurocognition - WAIS</h2>"
      ],
      "text/plain": [
       "<IPython.core.display.HTML object>"
      ]
     },
     "metadata": {},
     "output_type": "display_data"
    },
    {
     "data": {
      "text/html": [
       "<h3>Description de l'échantillon</h3>"
      ],
      "text/plain": [
       "<IPython.core.display.HTML object>"
      ]
     },
     "metadata": {},
     "output_type": "display_data"
    },
    {
     "data": {
      "text/html": [
       "<h4>1. Données : </h4>"
      ],
      "text/plain": [
       "<IPython.core.display.HTML object>"
      ]
     },
     "metadata": {},
     "output_type": "display_data"
    }
   ],
   "source": [
    "display(HTML('<h1>L i g h t 4 d e a f</h1>'))\n",
    "display(HTML('<h2>Neurocognition - WAIS</h2>'))\n",
    "display(HTML(\"<h3>Description de l'échantillon</h3>\"))\n",
    "display(HTML(\"<h4>1. Données : </h4>\"))\n"
   ]
  },
  {
   "cell_type": "code",
   "execution_count": 83,
   "metadata": {
    "ExecuteTime": {
     "end_time": "2020-11-26T13:42:26.089933Z",
     "start_time": "2020-11-26T13:42:26.086115Z"
    }
   },
   "outputs": [],
   "source": [
    "cols = df.columns.values.tolist()\n",
    "cols.index('WAIS')\n",
    "cols.index('Autre commentaire WAIS')\n",
    "arr = cols[cols.index('WAIS'):cols.index('Autre commentaire WAIS')]\n",
    "arr.insert(0,\"ID_SECONDAIRE\")\n",
    "arr.insert(1,\"age\")\n",
    "arr.insert(2,\"Type\")"
   ]
  },
  {
   "cell_type": "code",
   "execution_count": 84,
   "metadata": {
    "ExecuteTime": {
     "end_time": "2020-11-26T13:42:27.262960Z",
     "start_time": "2020-11-26T13:42:27.259181Z"
    }
   },
   "outputs": [],
   "source": [
    "df_wais = df.loc[:,arr]"
   ]
  },
  {
   "cell_type": "code",
   "execution_count": 85,
   "metadata": {
    "ExecuteTime": {
     "end_time": "2020-11-26T13:42:28.487531Z",
     "start_time": "2020-11-26T13:42:28.482305Z"
    }
   },
   "outputs": [],
   "source": [
    "df_wais.loc[df_wais['Type']==\"Type 2\", 'Type_color']=\"#B3D9FF\"\n",
    "#df_wais.loc[df_wais['Type']==\"Type 1\", 'Type_color']=\"#33ffc9\"\n",
    "#df_wais.loc[df_wais['Type']==\"Type 3\", 'Type_color']=\"#FFC433\"\n",
    "#df_wais.loc[df_wais['Type'].isna(), 'Type_color']=\"#C5C5C5\"\n",
    "#df_wais['Type'].fillna('Type inconnu', inplace= True)"
   ]
  },
  {
   "cell_type": "code",
   "execution_count": 86,
   "metadata": {
    "ExecuteTime": {
     "end_time": "2020-11-26T13:42:29.396609Z",
     "start_time": "2020-11-26T13:42:29.391477Z"
    }
   },
   "outputs": [
    {
     "data": {
      "text/html": [
       "<p>Nombre de patients Type 2 ayant effectué le test (WAIS = Oui) : 24/56 patients</p>"
      ],
      "text/plain": [
       "<IPython.core.display.HTML object>"
      ]
     },
     "metadata": {},
     "output_type": "display_data"
    }
   ],
   "source": [
    "display(HTML('<p>Nombre de patients Type 2 ayant effectué le test (WAIS = Oui) : '+str(len(df_wais[df_wais['WAIS']=='Oui']))+'/'+str(cardinal)+' patients</p>'))"
   ]
  },
  {
   "cell_type": "code",
   "execution_count": 87,
   "metadata": {
    "ExecuteTime": {
     "end_time": "2020-11-26T13:42:31.507721Z",
     "start_time": "2020-11-26T13:42:31.369904Z"
    }
   },
   "outputs": [
    {
     "data": {
      "application/vnd.plotly.v1+json": {
       "config": {
        "plotlyServerURL": "https://plot.ly"
       },
       "data": [
        {
         "cells": {
          "align": "left",
          "values": [
           [
            "Effectif",
            "Moyenne",
            "Moy. âge",
            "Médiane",
            "Min.",
            "Max."
           ],
           [
            24,
            9.88,
            49,
            9,
            19,
            3
           ],
           [
            24,
            10.29,
            49,
            9.5,
            19,
            3
           ],
           [
            24,
            8.88,
            49,
            8.5,
            17,
            4
           ],
           [
            17,
            11.76,
            42,
            13,
            17,
            3
           ],
           [
            17,
            10.47,
            42,
            11,
            14,
            2
           ],
           [
            14,
            10.29,
            40,
            11.5,
            13,
            3
           ],
           [
            24,
            10.12,
            49,
            10,
            15,
            3
           ],
           [
            21,
            11,
            47,
            11,
            16,
            4
           ],
           [
            16,
            7.88,
            41,
            8,
            12,
            3
           ],
           [
            16,
            8.69,
            41,
            9,
            15,
            1
           ]
          ]
         },
         "header": {
          "align": "left",
          "values": [
           "Calcul",
           "Note standard Similitudes",
           "Note standard Vocabulaire",
           "Note standard Information",
           "Note standard Cubes",
           "Note standard Matrices",
           "Note standard Puzzles visuels",
           "Note standard Mémoires des chiffres",
           "Note standard Arithmétique",
           "Note standard Symboles",
           "Note standard Code"
          ]
         },
         "type": "table"
        }
       ],
       "layout": {
        "height": 400,
        "template": {
         "data": {
          "bar": [
           {
            "error_x": {
             "color": "#2a3f5f"
            },
            "error_y": {
             "color": "#2a3f5f"
            },
            "marker": {
             "line": {
              "color": "#E5ECF6",
              "width": 0.5
             }
            },
            "type": "bar"
           }
          ],
          "barpolar": [
           {
            "marker": {
             "line": {
              "color": "#E5ECF6",
              "width": 0.5
             }
            },
            "type": "barpolar"
           }
          ],
          "carpet": [
           {
            "aaxis": {
             "endlinecolor": "#2a3f5f",
             "gridcolor": "white",
             "linecolor": "white",
             "minorgridcolor": "white",
             "startlinecolor": "#2a3f5f"
            },
            "baxis": {
             "endlinecolor": "#2a3f5f",
             "gridcolor": "white",
             "linecolor": "white",
             "minorgridcolor": "white",
             "startlinecolor": "#2a3f5f"
            },
            "type": "carpet"
           }
          ],
          "choropleth": [
           {
            "colorbar": {
             "outlinewidth": 0,
             "ticks": ""
            },
            "type": "choropleth"
           }
          ],
          "contour": [
           {
            "colorbar": {
             "outlinewidth": 0,
             "ticks": ""
            },
            "colorscale": [
             [
              0,
              "#0d0887"
             ],
             [
              0.1111111111111111,
              "#46039f"
             ],
             [
              0.2222222222222222,
              "#7201a8"
             ],
             [
              0.3333333333333333,
              "#9c179e"
             ],
             [
              0.4444444444444444,
              "#bd3786"
             ],
             [
              0.5555555555555556,
              "#d8576b"
             ],
             [
              0.6666666666666666,
              "#ed7953"
             ],
             [
              0.7777777777777778,
              "#fb9f3a"
             ],
             [
              0.8888888888888888,
              "#fdca26"
             ],
             [
              1,
              "#f0f921"
             ]
            ],
            "type": "contour"
           }
          ],
          "contourcarpet": [
           {
            "colorbar": {
             "outlinewidth": 0,
             "ticks": ""
            },
            "type": "contourcarpet"
           }
          ],
          "heatmap": [
           {
            "colorbar": {
             "outlinewidth": 0,
             "ticks": ""
            },
            "colorscale": [
             [
              0,
              "#0d0887"
             ],
             [
              0.1111111111111111,
              "#46039f"
             ],
             [
              0.2222222222222222,
              "#7201a8"
             ],
             [
              0.3333333333333333,
              "#9c179e"
             ],
             [
              0.4444444444444444,
              "#bd3786"
             ],
             [
              0.5555555555555556,
              "#d8576b"
             ],
             [
              0.6666666666666666,
              "#ed7953"
             ],
             [
              0.7777777777777778,
              "#fb9f3a"
             ],
             [
              0.8888888888888888,
              "#fdca26"
             ],
             [
              1,
              "#f0f921"
             ]
            ],
            "type": "heatmap"
           }
          ],
          "heatmapgl": [
           {
            "colorbar": {
             "outlinewidth": 0,
             "ticks": ""
            },
            "colorscale": [
             [
              0,
              "#0d0887"
             ],
             [
              0.1111111111111111,
              "#46039f"
             ],
             [
              0.2222222222222222,
              "#7201a8"
             ],
             [
              0.3333333333333333,
              "#9c179e"
             ],
             [
              0.4444444444444444,
              "#bd3786"
             ],
             [
              0.5555555555555556,
              "#d8576b"
             ],
             [
              0.6666666666666666,
              "#ed7953"
             ],
             [
              0.7777777777777778,
              "#fb9f3a"
             ],
             [
              0.8888888888888888,
              "#fdca26"
             ],
             [
              1,
              "#f0f921"
             ]
            ],
            "type": "heatmapgl"
           }
          ],
          "histogram": [
           {
            "marker": {
             "colorbar": {
              "outlinewidth": 0,
              "ticks": ""
             }
            },
            "type": "histogram"
           }
          ],
          "histogram2d": [
           {
            "colorbar": {
             "outlinewidth": 0,
             "ticks": ""
            },
            "colorscale": [
             [
              0,
              "#0d0887"
             ],
             [
              0.1111111111111111,
              "#46039f"
             ],
             [
              0.2222222222222222,
              "#7201a8"
             ],
             [
              0.3333333333333333,
              "#9c179e"
             ],
             [
              0.4444444444444444,
              "#bd3786"
             ],
             [
              0.5555555555555556,
              "#d8576b"
             ],
             [
              0.6666666666666666,
              "#ed7953"
             ],
             [
              0.7777777777777778,
              "#fb9f3a"
             ],
             [
              0.8888888888888888,
              "#fdca26"
             ],
             [
              1,
              "#f0f921"
             ]
            ],
            "type": "histogram2d"
           }
          ],
          "histogram2dcontour": [
           {
            "colorbar": {
             "outlinewidth": 0,
             "ticks": ""
            },
            "colorscale": [
             [
              0,
              "#0d0887"
             ],
             [
              0.1111111111111111,
              "#46039f"
             ],
             [
              0.2222222222222222,
              "#7201a8"
             ],
             [
              0.3333333333333333,
              "#9c179e"
             ],
             [
              0.4444444444444444,
              "#bd3786"
             ],
             [
              0.5555555555555556,
              "#d8576b"
             ],
             [
              0.6666666666666666,
              "#ed7953"
             ],
             [
              0.7777777777777778,
              "#fb9f3a"
             ],
             [
              0.8888888888888888,
              "#fdca26"
             ],
             [
              1,
              "#f0f921"
             ]
            ],
            "type": "histogram2dcontour"
           }
          ],
          "mesh3d": [
           {
            "colorbar": {
             "outlinewidth": 0,
             "ticks": ""
            },
            "type": "mesh3d"
           }
          ],
          "parcoords": [
           {
            "line": {
             "colorbar": {
              "outlinewidth": 0,
              "ticks": ""
             }
            },
            "type": "parcoords"
           }
          ],
          "pie": [
           {
            "automargin": true,
            "type": "pie"
           }
          ],
          "scatter": [
           {
            "marker": {
             "colorbar": {
              "outlinewidth": 0,
              "ticks": ""
             }
            },
            "type": "scatter"
           }
          ],
          "scatter3d": [
           {
            "line": {
             "colorbar": {
              "outlinewidth": 0,
              "ticks": ""
             }
            },
            "marker": {
             "colorbar": {
              "outlinewidth": 0,
              "ticks": ""
             }
            },
            "type": "scatter3d"
           }
          ],
          "scattercarpet": [
           {
            "marker": {
             "colorbar": {
              "outlinewidth": 0,
              "ticks": ""
             }
            },
            "type": "scattercarpet"
           }
          ],
          "scattergeo": [
           {
            "marker": {
             "colorbar": {
              "outlinewidth": 0,
              "ticks": ""
             }
            },
            "type": "scattergeo"
           }
          ],
          "scattergl": [
           {
            "marker": {
             "colorbar": {
              "outlinewidth": 0,
              "ticks": ""
             }
            },
            "type": "scattergl"
           }
          ],
          "scattermapbox": [
           {
            "marker": {
             "colorbar": {
              "outlinewidth": 0,
              "ticks": ""
             }
            },
            "type": "scattermapbox"
           }
          ],
          "scatterpolar": [
           {
            "marker": {
             "colorbar": {
              "outlinewidth": 0,
              "ticks": ""
             }
            },
            "type": "scatterpolar"
           }
          ],
          "scatterpolargl": [
           {
            "marker": {
             "colorbar": {
              "outlinewidth": 0,
              "ticks": ""
             }
            },
            "type": "scatterpolargl"
           }
          ],
          "scatterternary": [
           {
            "marker": {
             "colorbar": {
              "outlinewidth": 0,
              "ticks": ""
             }
            },
            "type": "scatterternary"
           }
          ],
          "surface": [
           {
            "colorbar": {
             "outlinewidth": 0,
             "ticks": ""
            },
            "colorscale": [
             [
              0,
              "#0d0887"
             ],
             [
              0.1111111111111111,
              "#46039f"
             ],
             [
              0.2222222222222222,
              "#7201a8"
             ],
             [
              0.3333333333333333,
              "#9c179e"
             ],
             [
              0.4444444444444444,
              "#bd3786"
             ],
             [
              0.5555555555555556,
              "#d8576b"
             ],
             [
              0.6666666666666666,
              "#ed7953"
             ],
             [
              0.7777777777777778,
              "#fb9f3a"
             ],
             [
              0.8888888888888888,
              "#fdca26"
             ],
             [
              1,
              "#f0f921"
             ]
            ],
            "type": "surface"
           }
          ],
          "table": [
           {
            "cells": {
             "fill": {
              "color": "#EBF0F8"
             },
             "line": {
              "color": "white"
             }
            },
            "header": {
             "fill": {
              "color": "#C8D4E3"
             },
             "line": {
              "color": "white"
             }
            },
            "type": "table"
           }
          ]
         },
         "layout": {
          "annotationdefaults": {
           "arrowcolor": "#2a3f5f",
           "arrowhead": 0,
           "arrowwidth": 1
          },
          "coloraxis": {
           "colorbar": {
            "outlinewidth": 0,
            "ticks": ""
           }
          },
          "colorscale": {
           "diverging": [
            [
             0,
             "#8e0152"
            ],
            [
             0.1,
             "#c51b7d"
            ],
            [
             0.2,
             "#de77ae"
            ],
            [
             0.3,
             "#f1b6da"
            ],
            [
             0.4,
             "#fde0ef"
            ],
            [
             0.5,
             "#f7f7f7"
            ],
            [
             0.6,
             "#e6f5d0"
            ],
            [
             0.7,
             "#b8e186"
            ],
            [
             0.8,
             "#7fbc41"
            ],
            [
             0.9,
             "#4d9221"
            ],
            [
             1,
             "#276419"
            ]
           ],
           "sequential": [
            [
             0,
             "#0d0887"
            ],
            [
             0.1111111111111111,
             "#46039f"
            ],
            [
             0.2222222222222222,
             "#7201a8"
            ],
            [
             0.3333333333333333,
             "#9c179e"
            ],
            [
             0.4444444444444444,
             "#bd3786"
            ],
            [
             0.5555555555555556,
             "#d8576b"
            ],
            [
             0.6666666666666666,
             "#ed7953"
            ],
            [
             0.7777777777777778,
             "#fb9f3a"
            ],
            [
             0.8888888888888888,
             "#fdca26"
            ],
            [
             1,
             "#f0f921"
            ]
           ],
           "sequentialminus": [
            [
             0,
             "#0d0887"
            ],
            [
             0.1111111111111111,
             "#46039f"
            ],
            [
             0.2222222222222222,
             "#7201a8"
            ],
            [
             0.3333333333333333,
             "#9c179e"
            ],
            [
             0.4444444444444444,
             "#bd3786"
            ],
            [
             0.5555555555555556,
             "#d8576b"
            ],
            [
             0.6666666666666666,
             "#ed7953"
            ],
            [
             0.7777777777777778,
             "#fb9f3a"
            ],
            [
             0.8888888888888888,
             "#fdca26"
            ],
            [
             1,
             "#f0f921"
            ]
           ]
          },
          "colorway": [
           "#636efa",
           "#EF553B",
           "#00cc96",
           "#ab63fa",
           "#FFA15A",
           "#19d3f3",
           "#FF6692",
           "#B6E880",
           "#FF97FF",
           "#FECB52"
          ],
          "font": {
           "color": "#2a3f5f"
          },
          "geo": {
           "bgcolor": "white",
           "lakecolor": "white",
           "landcolor": "#E5ECF6",
           "showlakes": true,
           "showland": true,
           "subunitcolor": "white"
          },
          "hoverlabel": {
           "align": "left"
          },
          "hovermode": "closest",
          "mapbox": {
           "style": "light"
          },
          "paper_bgcolor": "white",
          "plot_bgcolor": "#E5ECF6",
          "polar": {
           "angularaxis": {
            "gridcolor": "white",
            "linecolor": "white",
            "ticks": ""
           },
           "bgcolor": "#E5ECF6",
           "radialaxis": {
            "gridcolor": "white",
            "linecolor": "white",
            "ticks": ""
           }
          },
          "scene": {
           "xaxis": {
            "backgroundcolor": "#E5ECF6",
            "gridcolor": "white",
            "gridwidth": 2,
            "linecolor": "white",
            "showbackground": true,
            "ticks": "",
            "zerolinecolor": "white"
           },
           "yaxis": {
            "backgroundcolor": "#E5ECF6",
            "gridcolor": "white",
            "gridwidth": 2,
            "linecolor": "white",
            "showbackground": true,
            "ticks": "",
            "zerolinecolor": "white"
           },
           "zaxis": {
            "backgroundcolor": "#E5ECF6",
            "gridcolor": "white",
            "gridwidth": 2,
            "linecolor": "white",
            "showbackground": true,
            "ticks": "",
            "zerolinecolor": "white"
           }
          },
          "shapedefaults": {
           "line": {
            "color": "#2a3f5f"
           }
          },
          "ternary": {
           "aaxis": {
            "gridcolor": "white",
            "linecolor": "white",
            "ticks": ""
           },
           "baxis": {
            "gridcolor": "white",
            "linecolor": "white",
            "ticks": ""
           },
           "bgcolor": "#E5ECF6",
           "caxis": {
            "gridcolor": "white",
            "linecolor": "white",
            "ticks": ""
           }
          },
          "title": {
           "x": 0.05
          },
          "xaxis": {
           "automargin": true,
           "gridcolor": "white",
           "linecolor": "white",
           "ticks": "",
           "title": {
            "standoff": 15
           },
           "zerolinecolor": "white",
           "zerolinewidth": 2
          },
          "yaxis": {
           "automargin": true,
           "gridcolor": "white",
           "linecolor": "white",
           "ticks": "",
           "title": {
            "standoff": 15
           },
           "zerolinecolor": "white",
           "zerolinewidth": 2
          }
         }
        },
        "width": 1000
       }
      },
      "text/html": [
       "<div>\n",
       "        \n",
       "        \n",
       "            <div id=\"5da91ec2-3d4b-46d5-ab70-9008b7f19343\" class=\"plotly-graph-div\" style=\"height:400px; width:1000px;\"></div>\n",
       "            <script type=\"text/javascript\">\n",
       "                require([\"plotly\"], function(Plotly) {\n",
       "                    window.PLOTLYENV=window.PLOTLYENV || {};\n",
       "                    \n",
       "                if (document.getElementById(\"5da91ec2-3d4b-46d5-ab70-9008b7f19343\")) {\n",
       "                    Plotly.newPlot(\n",
       "                        '5da91ec2-3d4b-46d5-ab70-9008b7f19343',\n",
       "                        [{\"cells\": {\"align\": \"left\", \"values\": [[\"Effectif\", \"Moyenne\", \"Moy. \\u00e2ge\", \"M\\u00e9diane\", \"Min.\", \"Max.\"], [24, 9.88, 49, 9.0, 19.0, 3.0], [24, 10.29, 49, 9.5, 19.0, 3.0], [24, 8.88, 49, 8.5, 17.0, 4.0], [17, 11.76, 42, 13.0, 17.0, 3.0], [17, 10.47, 42, 11.0, 14.0, 2.0], [14, 10.29, 40, 11.5, 13.0, 3.0], [24, 10.12, 49, 10.0, 15.0, 3.0], [21, 11.0, 47, 11.0, 16.0, 4.0], [16, 7.88, 41, 8.0, 12.0, 3.0], [16, 8.69, 41, 9.0, 15.0, 1.0]]}, \"header\": {\"align\": \"left\", \"values\": [\"Calcul\", \"Note standard Similitudes\", \"Note standard Vocabulaire\", \"Note standard Information\", \"Note standard Cubes\", \"Note standard Matrices\", \"Note standard Puzzles visuels\", \"Note standard M\\u00e9moires des chiffres\", \"Note standard Arithm\\u00e9tique\", \"Note standard Symboles\", \"Note standard Code\"]}, \"type\": \"table\"}],\n",
       "                        {\"height\": 400, \"template\": {\"data\": {\"bar\": [{\"error_x\": {\"color\": \"#2a3f5f\"}, \"error_y\": {\"color\": \"#2a3f5f\"}, \"marker\": {\"line\": {\"color\": \"#E5ECF6\", \"width\": 0.5}}, \"type\": \"bar\"}], \"barpolar\": [{\"marker\": {\"line\": {\"color\": \"#E5ECF6\", \"width\": 0.5}}, \"type\": \"barpolar\"}], \"carpet\": [{\"aaxis\": {\"endlinecolor\": \"#2a3f5f\", \"gridcolor\": \"white\", \"linecolor\": \"white\", \"minorgridcolor\": \"white\", \"startlinecolor\": \"#2a3f5f\"}, \"baxis\": {\"endlinecolor\": \"#2a3f5f\", \"gridcolor\": \"white\", \"linecolor\": \"white\", \"minorgridcolor\": \"white\", \"startlinecolor\": \"#2a3f5f\"}, \"type\": \"carpet\"}], \"choropleth\": [{\"colorbar\": {\"outlinewidth\": 0, \"ticks\": \"\"}, \"type\": \"choropleth\"}], \"contour\": [{\"colorbar\": {\"outlinewidth\": 0, \"ticks\": \"\"}, \"colorscale\": [[0.0, \"#0d0887\"], [0.1111111111111111, \"#46039f\"], [0.2222222222222222, \"#7201a8\"], [0.3333333333333333, \"#9c179e\"], [0.4444444444444444, \"#bd3786\"], [0.5555555555555556, \"#d8576b\"], [0.6666666666666666, \"#ed7953\"], [0.7777777777777778, \"#fb9f3a\"], [0.8888888888888888, \"#fdca26\"], [1.0, \"#f0f921\"]], \"type\": \"contour\"}], \"contourcarpet\": [{\"colorbar\": {\"outlinewidth\": 0, \"ticks\": \"\"}, \"type\": \"contourcarpet\"}], \"heatmap\": [{\"colorbar\": {\"outlinewidth\": 0, \"ticks\": \"\"}, \"colorscale\": [[0.0, \"#0d0887\"], [0.1111111111111111, \"#46039f\"], [0.2222222222222222, \"#7201a8\"], [0.3333333333333333, \"#9c179e\"], [0.4444444444444444, \"#bd3786\"], [0.5555555555555556, \"#d8576b\"], [0.6666666666666666, \"#ed7953\"], [0.7777777777777778, \"#fb9f3a\"], [0.8888888888888888, \"#fdca26\"], [1.0, \"#f0f921\"]], \"type\": \"heatmap\"}], \"heatmapgl\": [{\"colorbar\": {\"outlinewidth\": 0, \"ticks\": \"\"}, \"colorscale\": [[0.0, \"#0d0887\"], [0.1111111111111111, \"#46039f\"], [0.2222222222222222, \"#7201a8\"], [0.3333333333333333, \"#9c179e\"], [0.4444444444444444, \"#bd3786\"], [0.5555555555555556, \"#d8576b\"], [0.6666666666666666, \"#ed7953\"], [0.7777777777777778, \"#fb9f3a\"], [0.8888888888888888, \"#fdca26\"], [1.0, \"#f0f921\"]], \"type\": \"heatmapgl\"}], \"histogram\": [{\"marker\": {\"colorbar\": {\"outlinewidth\": 0, \"ticks\": \"\"}}, \"type\": \"histogram\"}], \"histogram2d\": [{\"colorbar\": {\"outlinewidth\": 0, \"ticks\": \"\"}, \"colorscale\": [[0.0, \"#0d0887\"], [0.1111111111111111, \"#46039f\"], [0.2222222222222222, \"#7201a8\"], [0.3333333333333333, \"#9c179e\"], [0.4444444444444444, \"#bd3786\"], [0.5555555555555556, \"#d8576b\"], [0.6666666666666666, \"#ed7953\"], [0.7777777777777778, \"#fb9f3a\"], [0.8888888888888888, \"#fdca26\"], [1.0, \"#f0f921\"]], \"type\": \"histogram2d\"}], \"histogram2dcontour\": [{\"colorbar\": {\"outlinewidth\": 0, \"ticks\": \"\"}, \"colorscale\": [[0.0, \"#0d0887\"], [0.1111111111111111, \"#46039f\"], [0.2222222222222222, \"#7201a8\"], [0.3333333333333333, \"#9c179e\"], [0.4444444444444444, \"#bd3786\"], [0.5555555555555556, \"#d8576b\"], [0.6666666666666666, \"#ed7953\"], [0.7777777777777778, \"#fb9f3a\"], [0.8888888888888888, \"#fdca26\"], [1.0, \"#f0f921\"]], \"type\": \"histogram2dcontour\"}], \"mesh3d\": [{\"colorbar\": {\"outlinewidth\": 0, \"ticks\": \"\"}, \"type\": \"mesh3d\"}], \"parcoords\": [{\"line\": {\"colorbar\": {\"outlinewidth\": 0, \"ticks\": \"\"}}, \"type\": \"parcoords\"}], \"pie\": [{\"automargin\": true, \"type\": \"pie\"}], \"scatter\": [{\"marker\": {\"colorbar\": {\"outlinewidth\": 0, \"ticks\": \"\"}}, \"type\": \"scatter\"}], \"scatter3d\": [{\"line\": {\"colorbar\": {\"outlinewidth\": 0, \"ticks\": \"\"}}, \"marker\": {\"colorbar\": {\"outlinewidth\": 0, \"ticks\": \"\"}}, \"type\": \"scatter3d\"}], \"scattercarpet\": [{\"marker\": {\"colorbar\": {\"outlinewidth\": 0, \"ticks\": \"\"}}, \"type\": \"scattercarpet\"}], \"scattergeo\": [{\"marker\": {\"colorbar\": {\"outlinewidth\": 0, \"ticks\": \"\"}}, \"type\": \"scattergeo\"}], \"scattergl\": [{\"marker\": {\"colorbar\": {\"outlinewidth\": 0, \"ticks\": \"\"}}, \"type\": \"scattergl\"}], \"scattermapbox\": [{\"marker\": {\"colorbar\": {\"outlinewidth\": 0, \"ticks\": \"\"}}, \"type\": \"scattermapbox\"}], \"scatterpolar\": [{\"marker\": {\"colorbar\": {\"outlinewidth\": 0, \"ticks\": \"\"}}, \"type\": \"scatterpolar\"}], \"scatterpolargl\": [{\"marker\": {\"colorbar\": {\"outlinewidth\": 0, \"ticks\": \"\"}}, \"type\": \"scatterpolargl\"}], \"scatterternary\": [{\"marker\": {\"colorbar\": {\"outlinewidth\": 0, \"ticks\": \"\"}}, \"type\": \"scatterternary\"}], \"surface\": [{\"colorbar\": {\"outlinewidth\": 0, \"ticks\": \"\"}, \"colorscale\": [[0.0, \"#0d0887\"], [0.1111111111111111, \"#46039f\"], [0.2222222222222222, \"#7201a8\"], [0.3333333333333333, \"#9c179e\"], [0.4444444444444444, \"#bd3786\"], [0.5555555555555556, \"#d8576b\"], [0.6666666666666666, \"#ed7953\"], [0.7777777777777778, \"#fb9f3a\"], [0.8888888888888888, \"#fdca26\"], [1.0, \"#f0f921\"]], \"type\": \"surface\"}], \"table\": [{\"cells\": {\"fill\": {\"color\": \"#EBF0F8\"}, \"line\": {\"color\": \"white\"}}, \"header\": {\"fill\": {\"color\": \"#C8D4E3\"}, \"line\": {\"color\": \"white\"}}, \"type\": \"table\"}]}, \"layout\": {\"annotationdefaults\": {\"arrowcolor\": \"#2a3f5f\", \"arrowhead\": 0, \"arrowwidth\": 1}, \"coloraxis\": {\"colorbar\": {\"outlinewidth\": 0, \"ticks\": \"\"}}, \"colorscale\": {\"diverging\": [[0, \"#8e0152\"], [0.1, \"#c51b7d\"], [0.2, \"#de77ae\"], [0.3, \"#f1b6da\"], [0.4, \"#fde0ef\"], [0.5, \"#f7f7f7\"], [0.6, \"#e6f5d0\"], [0.7, \"#b8e186\"], [0.8, \"#7fbc41\"], [0.9, \"#4d9221\"], [1, \"#276419\"]], \"sequential\": [[0.0, \"#0d0887\"], [0.1111111111111111, \"#46039f\"], [0.2222222222222222, \"#7201a8\"], [0.3333333333333333, \"#9c179e\"], [0.4444444444444444, \"#bd3786\"], [0.5555555555555556, \"#d8576b\"], [0.6666666666666666, \"#ed7953\"], [0.7777777777777778, \"#fb9f3a\"], [0.8888888888888888, \"#fdca26\"], [1.0, \"#f0f921\"]], \"sequentialminus\": [[0.0, \"#0d0887\"], [0.1111111111111111, \"#46039f\"], [0.2222222222222222, \"#7201a8\"], [0.3333333333333333, \"#9c179e\"], [0.4444444444444444, \"#bd3786\"], [0.5555555555555556, \"#d8576b\"], [0.6666666666666666, \"#ed7953\"], [0.7777777777777778, \"#fb9f3a\"], [0.8888888888888888, \"#fdca26\"], [1.0, \"#f0f921\"]]}, \"colorway\": [\"#636efa\", \"#EF553B\", \"#00cc96\", \"#ab63fa\", \"#FFA15A\", \"#19d3f3\", \"#FF6692\", \"#B6E880\", \"#FF97FF\", \"#FECB52\"], \"font\": {\"color\": \"#2a3f5f\"}, \"geo\": {\"bgcolor\": \"white\", \"lakecolor\": \"white\", \"landcolor\": \"#E5ECF6\", \"showlakes\": true, \"showland\": true, \"subunitcolor\": \"white\"}, \"hoverlabel\": {\"align\": \"left\"}, \"hovermode\": \"closest\", \"mapbox\": {\"style\": \"light\"}, \"paper_bgcolor\": \"white\", \"plot_bgcolor\": \"#E5ECF6\", \"polar\": {\"angularaxis\": {\"gridcolor\": \"white\", \"linecolor\": \"white\", \"ticks\": \"\"}, \"bgcolor\": \"#E5ECF6\", \"radialaxis\": {\"gridcolor\": \"white\", \"linecolor\": \"white\", \"ticks\": \"\"}}, \"scene\": {\"xaxis\": {\"backgroundcolor\": \"#E5ECF6\", \"gridcolor\": \"white\", \"gridwidth\": 2, \"linecolor\": \"white\", \"showbackground\": true, \"ticks\": \"\", \"zerolinecolor\": \"white\"}, \"yaxis\": {\"backgroundcolor\": \"#E5ECF6\", \"gridcolor\": \"white\", \"gridwidth\": 2, \"linecolor\": \"white\", \"showbackground\": true, \"ticks\": \"\", \"zerolinecolor\": \"white\"}, \"zaxis\": {\"backgroundcolor\": \"#E5ECF6\", \"gridcolor\": \"white\", \"gridwidth\": 2, \"linecolor\": \"white\", \"showbackground\": true, \"ticks\": \"\", \"zerolinecolor\": \"white\"}}, \"shapedefaults\": {\"line\": {\"color\": \"#2a3f5f\"}}, \"ternary\": {\"aaxis\": {\"gridcolor\": \"white\", \"linecolor\": \"white\", \"ticks\": \"\"}, \"baxis\": {\"gridcolor\": \"white\", \"linecolor\": \"white\", \"ticks\": \"\"}, \"bgcolor\": \"#E5ECF6\", \"caxis\": {\"gridcolor\": \"white\", \"linecolor\": \"white\", \"ticks\": \"\"}}, \"title\": {\"x\": 0.05}, \"xaxis\": {\"automargin\": true, \"gridcolor\": \"white\", \"linecolor\": \"white\", \"ticks\": \"\", \"title\": {\"standoff\": 15}, \"zerolinecolor\": \"white\", \"zerolinewidth\": 2}, \"yaxis\": {\"automargin\": true, \"gridcolor\": \"white\", \"linecolor\": \"white\", \"ticks\": \"\", \"title\": {\"standoff\": 15}, \"zerolinecolor\": \"white\", \"zerolinewidth\": 2}}}, \"width\": 1000},\n",
       "                        {\"responsive\": true}\n",
       "                    ).then(function(){\n",
       "                            \n",
       "var gd = document.getElementById('5da91ec2-3d4b-46d5-ab70-9008b7f19343');\n",
       "var x = new MutationObserver(function (mutations, observer) {{\n",
       "        var display = window.getComputedStyle(gd).display;\n",
       "        if (!display || display === 'none') {{\n",
       "            console.log([gd, 'removed!']);\n",
       "            Plotly.purge(gd);\n",
       "            observer.disconnect();\n",
       "        }}\n",
       "}});\n",
       "\n",
       "// Listen for the removal of the full notebook cells\n",
       "var notebookContainer = gd.closest('#notebook-container');\n",
       "if (notebookContainer) {{\n",
       "    x.observe(notebookContainer, {childList: true});\n",
       "}}\n",
       "\n",
       "// Listen for the clearing of the current output cell\n",
       "var outputEl = gd.closest('.output');\n",
       "if (outputEl) {{\n",
       "    x.observe(outputEl, {childList: true});\n",
       "}}\n",
       "\n",
       "                        })\n",
       "                };\n",
       "                });\n",
       "            </script>\n",
       "        </div>"
      ]
     },
     "metadata": {},
     "output_type": "display_data"
    }
   ],
   "source": [
    "columns= ['Calcul','Note standard Similitudes','Note standard Vocabulaire', 'Note standard Information',\n",
    "                             'Note standard Cubes','Note standard Matrices', 'Note standard Puzzles visuels',\n",
    "                              'Note standard Mémoires des chiffres', 'Note standard Arithmétique',\n",
    "                                'Note standard Symboles','Note standard Code'\n",
    "                             ]\n",
    "myarr = [['Effectif', 'Moyenne', 'Moy. âge', 'Médiane', 'Min.', 'Max.']]\n",
    "for i in columns[1:]:\n",
    "    effectif = len(df_wais[df_wais[i].notna()])\n",
    "    avg_age = round(df_wais[df_wais[i].notna()]['age'].mean())\n",
    "    avg = round(df_wais[i].mean(),2)\n",
    "    median = round(df_wais[i].median(),2)\n",
    "    max_val = df_wais[i].max()\n",
    "    min_val = df_wais[i].min()\n",
    "    myarr.append([effectif, avg, avg_age, median, max_val, min_val])\n",
    "\n",
    "wais_test =  go.Table(\n",
    "                header=dict(values=list(columns),\n",
    "                align='left'),\n",
    "                cells=dict(values= myarr,align='left'))\n",
    "\n",
    "fig = go.Figure(data=wais_test)\n",
    "fig.update_layout(width=1000, height=400)\n",
    "fig.show()"
   ]
  },
  {
   "cell_type": "code",
   "execution_count": 88,
   "metadata": {
    "ExecuteTime": {
     "end_time": "2020-11-26T13:42:39.561174Z",
     "start_time": "2020-11-26T13:42:39.556370Z"
    }
   },
   "outputs": [
    {
     "data": {
      "text/html": [
       "<h4>2. Tests </h4>"
      ],
      "text/plain": [
       "<IPython.core.display.HTML object>"
      ]
     },
     "metadata": {},
     "output_type": "display_data"
    },
    {
     "data": {
      "text/html": [
       "<h5>2.1. WAIS IVC</h5>"
      ],
      "text/plain": [
       "<IPython.core.display.HTML object>"
      ]
     },
     "metadata": {},
     "output_type": "display_data"
    }
   ],
   "source": [
    "display(HTML('<h4>2. Tests </h4>'))\n",
    "display(HTML('<h5>2.1. WAIS IVC</h5>'))"
   ]
  },
  {
   "cell_type": "code",
   "execution_count": 89,
   "metadata": {
    "ExecuteTime": {
     "end_time": "2020-11-26T13:42:41.263500Z",
     "start_time": "2020-11-26T13:42:41.259761Z"
    }
   },
   "outputs": [],
   "source": [
    "age_moy = df_wais[df_wais['Total des notes standards ICV'].notna()]['age'].mean()"
   ]
  },
  {
   "cell_type": "code",
   "execution_count": 90,
   "metadata": {
    "ExecuteTime": {
     "end_time": "2020-11-26T13:42:43.605534Z",
     "start_time": "2020-11-26T13:42:43.601926Z"
    }
   },
   "outputs": [
    {
     "data": {
      "text/html": [
       "<p>Moyenne d'âge :48.79</p>"
      ],
      "text/plain": [
       "<IPython.core.display.HTML object>"
      ]
     },
     "metadata": {},
     "output_type": "display_data"
    }
   ],
   "source": [
    "display(HTML(\"<p>Moyenne d'âge :\"+str(round(age_moy,2))+\"</p>\"))"
   ]
  },
  {
   "cell_type": "code",
   "execution_count": 91,
   "metadata": {
    "ExecuteTime": {
     "end_time": "2020-11-26T13:42:44.316656Z",
     "start_time": "2020-11-26T13:42:44.312986Z"
    }
   },
   "outputs": [],
   "source": [
    "df_wais_sub= df_wais.iloc[:,[0,1,2,-1,6,7,8,9,10,11,12,13]]"
   ]
  },
  {
   "cell_type": "code",
   "execution_count": 92,
   "metadata": {
    "ExecuteTime": {
     "end_time": "2020-11-26T13:42:44.888347Z",
     "start_time": "2020-11-26T13:42:44.885751Z"
    }
   },
   "outputs": [],
   "source": [
    "subplot_titles = df_wais_sub.columns.values.tolist()"
   ]
  },
  {
   "cell_type": "code",
   "execution_count": 93,
   "metadata": {
    "ExecuteTime": {
     "end_time": "2020-11-26T13:42:45.472039Z",
     "start_time": "2020-11-26T13:42:45.283324Z"
    }
   },
   "outputs": [],
   "source": [
    "fig_wais_sub = make_subplots(\n",
    "    rows=4, cols=2,\n",
    "    shared_xaxes=False,\n",
    "    row_heights=[0.20, 0.20, 0.20, 0.20],\n",
    "    column_widths=[0.5, 0.5],\n",
    "    subplot_titles= subplot_titles[4:],\n",
    "    x_title='Âge',\n",
    "    y_title='Score',\n",
    "    vertical_spacing= 0.04 )\n",
    "df_wais_sub = df_wais_sub.sort_values(by=['age'])"
   ]
  },
  {
   "cell_type": "code",
   "execution_count": 94,
   "metadata": {
    "ExecuteTime": {
     "end_time": "2020-11-26T13:42:46.177407Z",
     "start_time": "2020-11-26T13:42:46.084619Z"
    }
   },
   "outputs": [
    {
     "data": {
      "application/vnd.plotly.v1+json": {
       "config": {
        "plotlyServerURL": "https://plot.ly"
       },
       "data": [
        {
         "hovertext": [
          "EA 6F FF DE 42, Type 2",
          "90 01 09 71 F0, Type 2",
          "31 19 64 3D 10, Type 2",
          "D7 FC 44 05 CA, Type 2",
          "64 0B 1B 0A 45, Type 2",
          "8A 77 B8 09 AD, Type 2",
          "02 88 A7 94 50, Type 2",
          "51 B7 6E C2 FD, Type 2",
          "A4 03 5A F0 57, Type 2",
          "90 A6 58 8A AD, Type 2",
          "F5 E4 FD A4 9F, Type 2",
          "76 8F 56 DE 15, Type 2",
          "3D F6 5A B4 9D, Type 2",
          "A6 FD C4 C0 69, Type 2",
          "4F 9C 21 D3 31, Type 2",
          "94 EB 19 B7 18, Type 2",
          "0F 30 93 5E 0E, Type 2",
          "A2 C1 35 C2 8C, Type 2",
          "19 01 73 04 E2, Type 2",
          "CA A2 77 FC 22, Type 2",
          "96 DD DC FE E3, Type 2",
          "21 36 06 E2 38, Type 2",
          "B7 CA E8 BC 99, Type 2",
          "EF 4A CF 20 AF, Type 2"
         ],
         "marker": {
          "color": [
           "#B3D9FF",
           "#B3D9FF",
           "#B3D9FF",
           "#B3D9FF",
           "#B3D9FF",
           "#B3D9FF",
           "#B3D9FF",
           "#B3D9FF",
           "#B3D9FF",
           "#B3D9FF",
           "#B3D9FF",
           "#B3D9FF",
           "#B3D9FF",
           "#B3D9FF",
           "#B3D9FF",
           "#B3D9FF",
           "#B3D9FF",
           "#B3D9FF",
           "#B3D9FF",
           "#B3D9FF",
           "#B3D9FF",
           "#B3D9FF",
           "#B3D9FF",
           "#B3D9FF"
          ],
          "size": 10
         },
         "mode": "markers+text",
         "type": "scatter",
         "x": [
          25,
          27,
          35,
          37,
          38,
          38,
          39,
          40,
          40,
          42,
          44,
          45,
          46,
          49,
          53,
          57,
          59,
          59,
          59,
          60,
          64,
          68,
          73,
          74
         ],
         "xaxis": "x",
         "y": [
          10,
          9,
          9,
          6,
          7,
          12,
          14,
          5,
          13,
          5,
          10,
          11,
          13,
          8,
          8,
          15,
          3,
          6,
          9,
          15,
          9,
          3,
          18,
          19
         ],
         "yaxis": "y"
        },
        {
         "hovertext": [
          "EA 6F FF DE 42, Type 2",
          "90 01 09 71 F0, Type 2",
          "31 19 64 3D 10, Type 2",
          "D7 FC 44 05 CA, Type 2",
          "64 0B 1B 0A 45, Type 2",
          "8A 77 B8 09 AD, Type 2",
          "02 88 A7 94 50, Type 2",
          "51 B7 6E C2 FD, Type 2",
          "A4 03 5A F0 57, Type 2",
          "90 A6 58 8A AD, Type 2",
          "F5 E4 FD A4 9F, Type 2",
          "76 8F 56 DE 15, Type 2",
          "3D F6 5A B4 9D, Type 2",
          "A6 FD C4 C0 69, Type 2",
          "4F 9C 21 D3 31, Type 2",
          "94 EB 19 B7 18, Type 2",
          "0F 30 93 5E 0E, Type 2",
          "A2 C1 35 C2 8C, Type 2",
          "19 01 73 04 E2, Type 2",
          "CA A2 77 FC 22, Type 2",
          "96 DD DC FE E3, Type 2",
          "21 36 06 E2 38, Type 2",
          "B7 CA E8 BC 99, Type 2",
          "EF 4A CF 20 AF, Type 2"
         ],
         "marker": {
          "color": [
           "#B3D9FF",
           "#B3D9FF",
           "#B3D9FF",
           "#B3D9FF",
           "#B3D9FF",
           "#B3D9FF",
           "#B3D9FF",
           "#B3D9FF",
           "#B3D9FF",
           "#B3D9FF",
           "#B3D9FF",
           "#B3D9FF",
           "#B3D9FF",
           "#B3D9FF",
           "#B3D9FF",
           "#B3D9FF",
           "#B3D9FF",
           "#B3D9FF",
           "#B3D9FF",
           "#B3D9FF",
           "#B3D9FF",
           "#B3D9FF",
           "#B3D9FF",
           "#B3D9FF"
          ],
          "size": 10
         },
         "mode": "markers+text",
         "type": "scatter",
         "x": [
          25,
          27,
          35,
          37,
          38,
          38,
          39,
          40,
          40,
          42,
          44,
          45,
          46,
          49,
          53,
          57,
          59,
          59,
          59,
          60,
          64,
          68,
          73,
          74
         ],
         "xaxis": "x2",
         "y": [
          6,
          7,
          6,
          5,
          10,
          10,
          14,
          16,
          13,
          5,
          13,
          11,
          18,
          6,
          8,
          18,
          3,
          9,
          9,
          13,
          7,
          5,
          19,
          16
         ],
         "yaxis": "y2"
        },
        {
         "hovertext": [
          "EA 6F FF DE 42, Type 2",
          "90 01 09 71 F0, Type 2",
          "31 19 64 3D 10, Type 2",
          "D7 FC 44 05 CA, Type 2",
          "64 0B 1B 0A 45, Type 2",
          "8A 77 B8 09 AD, Type 2",
          "02 88 A7 94 50, Type 2",
          "51 B7 6E C2 FD, Type 2",
          "A4 03 5A F0 57, Type 2",
          "90 A6 58 8A AD, Type 2",
          "F5 E4 FD A4 9F, Type 2",
          "76 8F 56 DE 15, Type 2",
          "3D F6 5A B4 9D, Type 2",
          "A6 FD C4 C0 69, Type 2",
          "4F 9C 21 D3 31, Type 2",
          "94 EB 19 B7 18, Type 2",
          "0F 30 93 5E 0E, Type 2",
          "A2 C1 35 C2 8C, Type 2",
          "19 01 73 04 E2, Type 2",
          "CA A2 77 FC 22, Type 2",
          "96 DD DC FE E3, Type 2",
          "21 36 06 E2 38, Type 2",
          "B7 CA E8 BC 99, Type 2",
          "EF 4A CF 20 AF, Type 2"
         ],
         "marker": {
          "color": [
           "#B3D9FF",
           "#B3D9FF",
           "#B3D9FF",
           "#B3D9FF",
           "#B3D9FF",
           "#B3D9FF",
           "#B3D9FF",
           "#B3D9FF",
           "#B3D9FF",
           "#B3D9FF",
           "#B3D9FF",
           "#B3D9FF",
           "#B3D9FF",
           "#B3D9FF",
           "#B3D9FF",
           "#B3D9FF",
           "#B3D9FF",
           "#B3D9FF",
           "#B3D9FF",
           "#B3D9FF",
           "#B3D9FF",
           "#B3D9FF",
           "#B3D9FF",
           "#B3D9FF"
          ],
          "size": 10
         },
         "mode": "markers+text",
         "type": "scatter",
         "x": [
          25,
          27,
          35,
          37,
          38,
          38,
          39,
          40,
          40,
          42,
          44,
          45,
          46,
          49,
          53,
          57,
          59,
          59,
          59,
          60,
          64,
          68,
          73,
          74
         ],
         "xaxis": "x3",
         "y": [
          7,
          7,
          7,
          7,
          8,
          10,
          10,
          13,
          11,
          6,
          15,
          9,
          9,
          6,
          7,
          14,
          4,
          7,
          9,
          10,
          5,
          5,
          17,
          10
         ],
         "yaxis": "y3"
        },
        {
         "hovertext": [
          "EA 6F FF DE 42, Type 2",
          "90 01 09 71 F0, Type 2",
          "31 19 64 3D 10, Type 2",
          "D7 FC 44 05 CA, Type 2",
          "64 0B 1B 0A 45, Type 2",
          "8A 77 B8 09 AD, Type 2",
          "02 88 A7 94 50, Type 2",
          "51 B7 6E C2 FD, Type 2",
          "A4 03 5A F0 57, Type 2",
          "90 A6 58 8A AD, Type 2",
          "F5 E4 FD A4 9F, Type 2",
          "76 8F 56 DE 15, Type 2",
          "3D F6 5A B4 9D, Type 2",
          "A6 FD C4 C0 69, Type 2",
          "4F 9C 21 D3 31, Type 2",
          "94 EB 19 B7 18, Type 2",
          "0F 30 93 5E 0E, Type 2",
          "A2 C1 35 C2 8C, Type 2",
          "19 01 73 04 E2, Type 2",
          "CA A2 77 FC 22, Type 2",
          "96 DD DC FE E3, Type 2",
          "21 36 06 E2 38, Type 2",
          "B7 CA E8 BC 99, Type 2",
          "EF 4A CF 20 AF, Type 2"
         ],
         "marker": {
          "color": [
           "#B3D9FF",
           "#B3D9FF",
           "#B3D9FF",
           "#B3D9FF",
           "#B3D9FF",
           "#B3D9FF",
           "#B3D9FF",
           "#B3D9FF",
           "#B3D9FF",
           "#B3D9FF",
           "#B3D9FF",
           "#B3D9FF",
           "#B3D9FF",
           "#B3D9FF",
           "#B3D9FF",
           "#B3D9FF",
           "#B3D9FF",
           "#B3D9FF",
           "#B3D9FF",
           "#B3D9FF",
           "#B3D9FF",
           "#B3D9FF",
           "#B3D9FF",
           "#B3D9FF"
          ],
          "size": 10
         },
         "mode": "markers+text",
         "type": "scatter",
         "x": [
          25,
          27,
          35,
          37,
          38,
          38,
          39,
          40,
          40,
          42,
          44,
          45,
          46,
          49,
          53,
          57,
          59,
          59,
          59,
          60,
          64,
          68,
          73,
          74
         ],
         "xaxis": "x4",
         "y": [
          23,
          23,
          22,
          18,
          25,
          32,
          38,
          34,
          37,
          16,
          38,
          31,
          40,
          20,
          23,
          47,
          10,
          22,
          27,
          38,
          21,
          13,
          54,
          45
         ],
         "yaxis": "y4"
        },
        {
         "hovertext": [
          "EA 6F FF DE 42, Type 2",
          "90 01 09 71 F0, Type 2",
          "31 19 64 3D 10, Type 2",
          "D7 FC 44 05 CA, Type 2",
          "64 0B 1B 0A 45, Type 2",
          "8A 77 B8 09 AD, Type 2",
          "02 88 A7 94 50, Type 2",
          "51 B7 6E C2 FD, Type 2",
          "A4 03 5A F0 57, Type 2",
          "90 A6 58 8A AD, Type 2",
          "F5 E4 FD A4 9F, Type 2",
          "76 8F 56 DE 15, Type 2",
          "3D F6 5A B4 9D, Type 2",
          "A6 FD C4 C0 69, Type 2",
          "4F 9C 21 D3 31, Type 2",
          "94 EB 19 B7 18, Type 2",
          "0F 30 93 5E 0E, Type 2",
          "A2 C1 35 C2 8C, Type 2",
          "19 01 73 04 E2, Type 2",
          "CA A2 77 FC 22, Type 2",
          "96 DD DC FE E3, Type 2",
          "21 36 06 E2 38, Type 2",
          "B7 CA E8 BC 99, Type 2",
          "EF 4A CF 20 AF, Type 2"
         ],
         "marker": {
          "color": [
           "#B3D9FF",
           "#B3D9FF",
           "#B3D9FF",
           "#B3D9FF",
           "#B3D9FF",
           "#B3D9FF",
           "#B3D9FF",
           "#B3D9FF",
           "#B3D9FF",
           "#B3D9FF",
           "#B3D9FF",
           "#B3D9FF",
           "#B3D9FF",
           "#B3D9FF",
           "#B3D9FF",
           "#B3D9FF",
           "#B3D9FF",
           "#B3D9FF",
           "#B3D9FF",
           "#B3D9FF",
           "#B3D9FF",
           "#B3D9FF",
           "#B3D9FF",
           "#B3D9FF"
          ],
          "size": 10
         },
         "mode": "markers+text",
         "type": "scatter",
         "x": [
          25,
          27,
          35,
          37,
          38,
          38,
          39,
          40,
          40,
          42,
          44,
          45,
          46,
          49,
          53,
          57,
          59,
          59,
          59,
          60,
          64,
          68,
          73,
          74
         ],
         "xaxis": "x5",
         "y": [
          86,
          86,
          84,
          77,
          90,
          104,
          116,
          108,
          114,
          73,
          116,
          102,
          120,
          81,
          86,
          133,
          61,
          84,
          94,
          116,
          83,
          67,
          147,
          129
         ],
         "yaxis": "y5"
        },
        {
         "hovertext": [
          "EA 6F FF DE 42, Type 2",
          "90 01 09 71 F0, Type 2",
          "31 19 64 3D 10, Type 2",
          "D7 FC 44 05 CA, Type 2",
          "64 0B 1B 0A 45, Type 2",
          "8A 77 B8 09 AD, Type 2",
          "02 88 A7 94 50, Type 2",
          "51 B7 6E C2 FD, Type 2",
          "A4 03 5A F0 57, Type 2",
          "90 A6 58 8A AD, Type 2",
          "F5 E4 FD A4 9F, Type 2",
          "76 8F 56 DE 15, Type 2",
          "3D F6 5A B4 9D, Type 2",
          "A6 FD C4 C0 69, Type 2",
          "4F 9C 21 D3 31, Type 2",
          "94 EB 19 B7 18, Type 2",
          "0F 30 93 5E 0E, Type 2",
          "A2 C1 35 C2 8C, Type 2",
          "19 01 73 04 E2, Type 2",
          "CA A2 77 FC 22, Type 2",
          "96 DD DC FE E3, Type 2",
          "21 36 06 E2 38, Type 2",
          "B7 CA E8 BC 99, Type 2",
          "EF 4A CF 20 AF, Type 2"
         ],
         "marker": {
          "color": [
           "#B3D9FF",
           "#B3D9FF",
           "#B3D9FF",
           "#B3D9FF",
           "#B3D9FF",
           "#B3D9FF",
           "#B3D9FF",
           "#B3D9FF",
           "#B3D9FF",
           "#B3D9FF",
           "#B3D9FF",
           "#B3D9FF",
           "#B3D9FF",
           "#B3D9FF",
           "#B3D9FF",
           "#B3D9FF",
           "#B3D9FF",
           "#B3D9FF",
           "#B3D9FF",
           "#B3D9FF",
           "#B3D9FF",
           "#B3D9FF",
           "#B3D9FF",
           "#B3D9FF"
          ],
          "size": 10
         },
         "mode": "markers+text",
         "type": "scatter",
         "x": [
          25,
          27,
          35,
          37,
          38,
          38,
          39,
          40,
          40,
          42,
          44,
          45,
          46,
          49,
          53,
          57,
          59,
          59,
          59,
          60,
          64,
          68,
          73,
          74
         ],
         "xaxis": "x6",
         "y": [
          18,
          18,
          14,
          6,
          25,
          61,
          86,
          70,
          86,
          4,
          86,
          55,
          91,
          10,
          18,
          99,
          1,
          14,
          34,
          86,
          13,
          1,
          99,
          97
         ],
         "yaxis": "y6"
        },
        {
         "hovertext": [
          "EA 6F FF DE 42, Type 2",
          "90 01 09 71 F0, Type 2",
          "31 19 64 3D 10, Type 2",
          "D7 FC 44 05 CA, Type 2",
          "64 0B 1B 0A 45, Type 2",
          "8A 77 B8 09 AD, Type 2",
          "02 88 A7 94 50, Type 2",
          "51 B7 6E C2 FD, Type 2",
          "A4 03 5A F0 57, Type 2",
          "90 A6 58 8A AD, Type 2",
          "F5 E4 FD A4 9F, Type 2",
          "76 8F 56 DE 15, Type 2",
          "3D F6 5A B4 9D, Type 2",
          "A6 FD C4 C0 69, Type 2",
          "4F 9C 21 D3 31, Type 2",
          "94 EB 19 B7 18, Type 2",
          "0F 30 93 5E 0E, Type 2",
          "A2 C1 35 C2 8C, Type 2",
          "19 01 73 04 E2, Type 2",
          "CA A2 77 FC 22, Type 2",
          "96 DD DC FE E3, Type 2",
          "21 36 06 E2 38, Type 2",
          "B7 CA E8 BC 99, Type 2",
          "EF 4A CF 20 AF, Type 2"
         ],
         "marker": {
          "color": [
           "#B3D9FF",
           "#B3D9FF",
           "#B3D9FF",
           "#B3D9FF",
           "#B3D9FF",
           "#B3D9FF",
           "#B3D9FF",
           "#B3D9FF",
           "#B3D9FF",
           "#B3D9FF",
           "#B3D9FF",
           "#B3D9FF",
           "#B3D9FF",
           "#B3D9FF",
           "#B3D9FF",
           "#B3D9FF",
           "#B3D9FF",
           "#B3D9FF",
           "#B3D9FF",
           "#B3D9FF",
           "#B3D9FF",
           "#B3D9FF",
           "#B3D9FF",
           "#B3D9FF"
          ],
          "size": 10
         },
         "mode": "markers+text",
         "type": "scatter",
         "x": [
          25,
          27,
          35,
          37,
          38,
          38,
          39,
          40,
          40,
          42,
          44,
          45,
          46,
          49,
          53,
          57,
          59,
          59,
          59,
          60,
          64,
          68,
          73,
          74
         ],
         "xaxis": "x7",
         "y": [
          80,
          80,
          78,
          72,
          84,
          97,
          109,
          101,
          109,
          68,
          109,
          95,
          112,
          76,
          80,
          127,
          57,
          78,
          88,
          109,
          77,
          62,
          136,
          121
         ],
         "yaxis": "y7"
        },
        {
         "hovertext": [
          "EA 6F FF DE 42, Type 2",
          "90 01 09 71 F0, Type 2",
          "31 19 64 3D 10, Type 2",
          "D7 FC 44 05 CA, Type 2",
          "64 0B 1B 0A 45, Type 2",
          "8A 77 B8 09 AD, Type 2",
          "02 88 A7 94 50, Type 2",
          "51 B7 6E C2 FD, Type 2",
          "A4 03 5A F0 57, Type 2",
          "90 A6 58 8A AD, Type 2",
          "F5 E4 FD A4 9F, Type 2",
          "76 8F 56 DE 15, Type 2",
          "3D F6 5A B4 9D, Type 2",
          "A6 FD C4 C0 69, Type 2",
          "4F 9C 21 D3 31, Type 2",
          "94 EB 19 B7 18, Type 2",
          "0F 30 93 5E 0E, Type 2",
          "A2 C1 35 C2 8C, Type 2",
          "19 01 73 04 E2, Type 2",
          "CA A2 77 FC 22, Type 2",
          "96 DD DC FE E3, Type 2",
          "21 36 06 E2 38, Type 2",
          "B7 CA E8 BC 99, Type 2",
          "EF 4A CF 20 AF, Type 2"
         ],
         "marker": {
          "color": [
           "#B3D9FF",
           "#B3D9FF",
           "#B3D9FF",
           "#B3D9FF",
           "#B3D9FF",
           "#B3D9FF",
           "#B3D9FF",
           "#B3D9FF",
           "#B3D9FF",
           "#B3D9FF",
           "#B3D9FF",
           "#B3D9FF",
           "#B3D9FF",
           "#B3D9FF",
           "#B3D9FF",
           "#B3D9FF",
           "#B3D9FF",
           "#B3D9FF",
           "#B3D9FF",
           "#B3D9FF",
           "#B3D9FF",
           "#B3D9FF",
           "#B3D9FF",
           "#B3D9FF"
          ],
          "size": 10
         },
         "mode": "markers+text",
         "type": "scatter",
         "x": [
          25,
          27,
          35,
          37,
          38,
          38,
          39,
          40,
          40,
          42,
          44,
          45,
          46,
          49,
          53,
          57,
          59,
          59,
          59,
          60,
          64,
          68,
          73,
          74
         ],
         "xaxis": "x8",
         "y": [
          93,
          93,
          91,
          85,
          97,
          110,
          122,
          114,
          122,
          81,
          122,
          108,
          125,
          89,
          93,
          140,
          70,
          91,
          101,
          122,
          90,
          75,
          149,
          134
         ],
         "yaxis": "y8"
        }
       ],
       "layout": {
        "annotations": [
         {
          "font": {
           "size": 16
          },
          "showarrow": false,
          "text": "Note standard Similitudes",
          "x": 0.225,
          "xanchor": "center",
          "xref": "paper",
          "y": 1,
          "yanchor": "bottom",
          "yref": "paper"
         },
         {
          "font": {
           "size": 16
          },
          "showarrow": false,
          "text": "Note standard Vocabulaire",
          "x": 0.775,
          "xanchor": "center",
          "xref": "paper",
          "y": 1,
          "yanchor": "bottom",
          "yref": "paper"
         },
         {
          "font": {
           "size": 16
          },
          "showarrow": false,
          "text": "Note standard Information",
          "x": 0.225,
          "xanchor": "center",
          "xref": "paper",
          "y": 0.74,
          "yanchor": "bottom",
          "yref": "paper"
         },
         {
          "font": {
           "size": 16
          },
          "showarrow": false,
          "text": "Total des notes standards ICV",
          "x": 0.775,
          "xanchor": "center",
          "xref": "paper",
          "y": 0.74,
          "yanchor": "bottom",
          "yref": "paper"
         },
         {
          "font": {
           "size": 16
          },
          "showarrow": false,
          "text": "Note composite ICV",
          "x": 0.225,
          "xanchor": "center",
          "xref": "paper",
          "y": 0.48,
          "yanchor": "bottom",
          "yref": "paper"
         },
         {
          "font": {
           "size": 16
          },
          "showarrow": false,
          "text": "Rang percentile ICV",
          "x": 0.775,
          "xanchor": "center",
          "xref": "paper",
          "y": 0.48,
          "yanchor": "bottom",
          "yref": "paper"
         },
         {
          "font": {
           "size": 16
          },
          "showarrow": false,
          "text": "Note écart type inférieure ICV",
          "x": 0.225,
          "xanchor": "center",
          "xref": "paper",
          "y": 0.22,
          "yanchor": "bottom",
          "yref": "paper"
         },
         {
          "font": {
           "size": 16
          },
          "showarrow": false,
          "text": "Note écart type supérieure ICV",
          "x": 0.775,
          "xanchor": "center",
          "xref": "paper",
          "y": 0.22,
          "yanchor": "bottom",
          "yref": "paper"
         },
         {
          "font": {
           "size": 16
          },
          "showarrow": false,
          "text": "Âge",
          "x": 0.5,
          "xanchor": "center",
          "xref": "paper",
          "y": 0,
          "yanchor": "top",
          "yref": "paper",
          "yshift": -30
         },
         {
          "font": {
           "size": 16
          },
          "showarrow": false,
          "text": "Score",
          "textangle": -90,
          "x": 0,
          "xanchor": "right",
          "xref": "paper",
          "xshift": -40,
          "y": 0.5,
          "yanchor": "middle",
          "yref": "paper"
         }
        ],
        "height": 1500,
        "showlegend": false,
        "template": {
         "data": {
          "bar": [
           {
            "error_x": {
             "color": "#2a3f5f"
            },
            "error_y": {
             "color": "#2a3f5f"
            },
            "marker": {
             "line": {
              "color": "#E5ECF6",
              "width": 0.5
             }
            },
            "type": "bar"
           }
          ],
          "barpolar": [
           {
            "marker": {
             "line": {
              "color": "#E5ECF6",
              "width": 0.5
             }
            },
            "type": "barpolar"
           }
          ],
          "carpet": [
           {
            "aaxis": {
             "endlinecolor": "#2a3f5f",
             "gridcolor": "white",
             "linecolor": "white",
             "minorgridcolor": "white",
             "startlinecolor": "#2a3f5f"
            },
            "baxis": {
             "endlinecolor": "#2a3f5f",
             "gridcolor": "white",
             "linecolor": "white",
             "minorgridcolor": "white",
             "startlinecolor": "#2a3f5f"
            },
            "type": "carpet"
           }
          ],
          "choropleth": [
           {
            "colorbar": {
             "outlinewidth": 0,
             "ticks": ""
            },
            "type": "choropleth"
           }
          ],
          "contour": [
           {
            "colorbar": {
             "outlinewidth": 0,
             "ticks": ""
            },
            "colorscale": [
             [
              0,
              "#0d0887"
             ],
             [
              0.1111111111111111,
              "#46039f"
             ],
             [
              0.2222222222222222,
              "#7201a8"
             ],
             [
              0.3333333333333333,
              "#9c179e"
             ],
             [
              0.4444444444444444,
              "#bd3786"
             ],
             [
              0.5555555555555556,
              "#d8576b"
             ],
             [
              0.6666666666666666,
              "#ed7953"
             ],
             [
              0.7777777777777778,
              "#fb9f3a"
             ],
             [
              0.8888888888888888,
              "#fdca26"
             ],
             [
              1,
              "#f0f921"
             ]
            ],
            "type": "contour"
           }
          ],
          "contourcarpet": [
           {
            "colorbar": {
             "outlinewidth": 0,
             "ticks": ""
            },
            "type": "contourcarpet"
           }
          ],
          "heatmap": [
           {
            "colorbar": {
             "outlinewidth": 0,
             "ticks": ""
            },
            "colorscale": [
             [
              0,
              "#0d0887"
             ],
             [
              0.1111111111111111,
              "#46039f"
             ],
             [
              0.2222222222222222,
              "#7201a8"
             ],
             [
              0.3333333333333333,
              "#9c179e"
             ],
             [
              0.4444444444444444,
              "#bd3786"
             ],
             [
              0.5555555555555556,
              "#d8576b"
             ],
             [
              0.6666666666666666,
              "#ed7953"
             ],
             [
              0.7777777777777778,
              "#fb9f3a"
             ],
             [
              0.8888888888888888,
              "#fdca26"
             ],
             [
              1,
              "#f0f921"
             ]
            ],
            "type": "heatmap"
           }
          ],
          "heatmapgl": [
           {
            "colorbar": {
             "outlinewidth": 0,
             "ticks": ""
            },
            "colorscale": [
             [
              0,
              "#0d0887"
             ],
             [
              0.1111111111111111,
              "#46039f"
             ],
             [
              0.2222222222222222,
              "#7201a8"
             ],
             [
              0.3333333333333333,
              "#9c179e"
             ],
             [
              0.4444444444444444,
              "#bd3786"
             ],
             [
              0.5555555555555556,
              "#d8576b"
             ],
             [
              0.6666666666666666,
              "#ed7953"
             ],
             [
              0.7777777777777778,
              "#fb9f3a"
             ],
             [
              0.8888888888888888,
              "#fdca26"
             ],
             [
              1,
              "#f0f921"
             ]
            ],
            "type": "heatmapgl"
           }
          ],
          "histogram": [
           {
            "marker": {
             "colorbar": {
              "outlinewidth": 0,
              "ticks": ""
             }
            },
            "type": "histogram"
           }
          ],
          "histogram2d": [
           {
            "colorbar": {
             "outlinewidth": 0,
             "ticks": ""
            },
            "colorscale": [
             [
              0,
              "#0d0887"
             ],
             [
              0.1111111111111111,
              "#46039f"
             ],
             [
              0.2222222222222222,
              "#7201a8"
             ],
             [
              0.3333333333333333,
              "#9c179e"
             ],
             [
              0.4444444444444444,
              "#bd3786"
             ],
             [
              0.5555555555555556,
              "#d8576b"
             ],
             [
              0.6666666666666666,
              "#ed7953"
             ],
             [
              0.7777777777777778,
              "#fb9f3a"
             ],
             [
              0.8888888888888888,
              "#fdca26"
             ],
             [
              1,
              "#f0f921"
             ]
            ],
            "type": "histogram2d"
           }
          ],
          "histogram2dcontour": [
           {
            "colorbar": {
             "outlinewidth": 0,
             "ticks": ""
            },
            "colorscale": [
             [
              0,
              "#0d0887"
             ],
             [
              0.1111111111111111,
              "#46039f"
             ],
             [
              0.2222222222222222,
              "#7201a8"
             ],
             [
              0.3333333333333333,
              "#9c179e"
             ],
             [
              0.4444444444444444,
              "#bd3786"
             ],
             [
              0.5555555555555556,
              "#d8576b"
             ],
             [
              0.6666666666666666,
              "#ed7953"
             ],
             [
              0.7777777777777778,
              "#fb9f3a"
             ],
             [
              0.8888888888888888,
              "#fdca26"
             ],
             [
              1,
              "#f0f921"
             ]
            ],
            "type": "histogram2dcontour"
           }
          ],
          "mesh3d": [
           {
            "colorbar": {
             "outlinewidth": 0,
             "ticks": ""
            },
            "type": "mesh3d"
           }
          ],
          "parcoords": [
           {
            "line": {
             "colorbar": {
              "outlinewidth": 0,
              "ticks": ""
             }
            },
            "type": "parcoords"
           }
          ],
          "pie": [
           {
            "automargin": true,
            "type": "pie"
           }
          ],
          "scatter": [
           {
            "marker": {
             "colorbar": {
              "outlinewidth": 0,
              "ticks": ""
             }
            },
            "type": "scatter"
           }
          ],
          "scatter3d": [
           {
            "line": {
             "colorbar": {
              "outlinewidth": 0,
              "ticks": ""
             }
            },
            "marker": {
             "colorbar": {
              "outlinewidth": 0,
              "ticks": ""
             }
            },
            "type": "scatter3d"
           }
          ],
          "scattercarpet": [
           {
            "marker": {
             "colorbar": {
              "outlinewidth": 0,
              "ticks": ""
             }
            },
            "type": "scattercarpet"
           }
          ],
          "scattergeo": [
           {
            "marker": {
             "colorbar": {
              "outlinewidth": 0,
              "ticks": ""
             }
            },
            "type": "scattergeo"
           }
          ],
          "scattergl": [
           {
            "marker": {
             "colorbar": {
              "outlinewidth": 0,
              "ticks": ""
             }
            },
            "type": "scattergl"
           }
          ],
          "scattermapbox": [
           {
            "marker": {
             "colorbar": {
              "outlinewidth": 0,
              "ticks": ""
             }
            },
            "type": "scattermapbox"
           }
          ],
          "scatterpolar": [
           {
            "marker": {
             "colorbar": {
              "outlinewidth": 0,
              "ticks": ""
             }
            },
            "type": "scatterpolar"
           }
          ],
          "scatterpolargl": [
           {
            "marker": {
             "colorbar": {
              "outlinewidth": 0,
              "ticks": ""
             }
            },
            "type": "scatterpolargl"
           }
          ],
          "scatterternary": [
           {
            "marker": {
             "colorbar": {
              "outlinewidth": 0,
              "ticks": ""
             }
            },
            "type": "scatterternary"
           }
          ],
          "surface": [
           {
            "colorbar": {
             "outlinewidth": 0,
             "ticks": ""
            },
            "colorscale": [
             [
              0,
              "#0d0887"
             ],
             [
              0.1111111111111111,
              "#46039f"
             ],
             [
              0.2222222222222222,
              "#7201a8"
             ],
             [
              0.3333333333333333,
              "#9c179e"
             ],
             [
              0.4444444444444444,
              "#bd3786"
             ],
             [
              0.5555555555555556,
              "#d8576b"
             ],
             [
              0.6666666666666666,
              "#ed7953"
             ],
             [
              0.7777777777777778,
              "#fb9f3a"
             ],
             [
              0.8888888888888888,
              "#fdca26"
             ],
             [
              1,
              "#f0f921"
             ]
            ],
            "type": "surface"
           }
          ],
          "table": [
           {
            "cells": {
             "fill": {
              "color": "#EBF0F8"
             },
             "line": {
              "color": "white"
             }
            },
            "header": {
             "fill": {
              "color": "#C8D4E3"
             },
             "line": {
              "color": "white"
             }
            },
            "type": "table"
           }
          ]
         },
         "layout": {
          "annotationdefaults": {
           "arrowcolor": "#2a3f5f",
           "arrowhead": 0,
           "arrowwidth": 1
          },
          "coloraxis": {
           "colorbar": {
            "outlinewidth": 0,
            "ticks": ""
           }
          },
          "colorscale": {
           "diverging": [
            [
             0,
             "#8e0152"
            ],
            [
             0.1,
             "#c51b7d"
            ],
            [
             0.2,
             "#de77ae"
            ],
            [
             0.3,
             "#f1b6da"
            ],
            [
             0.4,
             "#fde0ef"
            ],
            [
             0.5,
             "#f7f7f7"
            ],
            [
             0.6,
             "#e6f5d0"
            ],
            [
             0.7,
             "#b8e186"
            ],
            [
             0.8,
             "#7fbc41"
            ],
            [
             0.9,
             "#4d9221"
            ],
            [
             1,
             "#276419"
            ]
           ],
           "sequential": [
            [
             0,
             "#0d0887"
            ],
            [
             0.1111111111111111,
             "#46039f"
            ],
            [
             0.2222222222222222,
             "#7201a8"
            ],
            [
             0.3333333333333333,
             "#9c179e"
            ],
            [
             0.4444444444444444,
             "#bd3786"
            ],
            [
             0.5555555555555556,
             "#d8576b"
            ],
            [
             0.6666666666666666,
             "#ed7953"
            ],
            [
             0.7777777777777778,
             "#fb9f3a"
            ],
            [
             0.8888888888888888,
             "#fdca26"
            ],
            [
             1,
             "#f0f921"
            ]
           ],
           "sequentialminus": [
            [
             0,
             "#0d0887"
            ],
            [
             0.1111111111111111,
             "#46039f"
            ],
            [
             0.2222222222222222,
             "#7201a8"
            ],
            [
             0.3333333333333333,
             "#9c179e"
            ],
            [
             0.4444444444444444,
             "#bd3786"
            ],
            [
             0.5555555555555556,
             "#d8576b"
            ],
            [
             0.6666666666666666,
             "#ed7953"
            ],
            [
             0.7777777777777778,
             "#fb9f3a"
            ],
            [
             0.8888888888888888,
             "#fdca26"
            ],
            [
             1,
             "#f0f921"
            ]
           ]
          },
          "colorway": [
           "#636efa",
           "#EF553B",
           "#00cc96",
           "#ab63fa",
           "#FFA15A",
           "#19d3f3",
           "#FF6692",
           "#B6E880",
           "#FF97FF",
           "#FECB52"
          ],
          "font": {
           "color": "#2a3f5f"
          },
          "geo": {
           "bgcolor": "white",
           "lakecolor": "white",
           "landcolor": "#E5ECF6",
           "showlakes": true,
           "showland": true,
           "subunitcolor": "white"
          },
          "hoverlabel": {
           "align": "left"
          },
          "hovermode": "closest",
          "mapbox": {
           "style": "light"
          },
          "paper_bgcolor": "white",
          "plot_bgcolor": "#E5ECF6",
          "polar": {
           "angularaxis": {
            "gridcolor": "white",
            "linecolor": "white",
            "ticks": ""
           },
           "bgcolor": "#E5ECF6",
           "radialaxis": {
            "gridcolor": "white",
            "linecolor": "white",
            "ticks": ""
           }
          },
          "scene": {
           "xaxis": {
            "backgroundcolor": "#E5ECF6",
            "gridcolor": "white",
            "gridwidth": 2,
            "linecolor": "white",
            "showbackground": true,
            "ticks": "",
            "zerolinecolor": "white"
           },
           "yaxis": {
            "backgroundcolor": "#E5ECF6",
            "gridcolor": "white",
            "gridwidth": 2,
            "linecolor": "white",
            "showbackground": true,
            "ticks": "",
            "zerolinecolor": "white"
           },
           "zaxis": {
            "backgroundcolor": "#E5ECF6",
            "gridcolor": "white",
            "gridwidth": 2,
            "linecolor": "white",
            "showbackground": true,
            "ticks": "",
            "zerolinecolor": "white"
           }
          },
          "shapedefaults": {
           "line": {
            "color": "#2a3f5f"
           }
          },
          "ternary": {
           "aaxis": {
            "gridcolor": "white",
            "linecolor": "white",
            "ticks": ""
           },
           "baxis": {
            "gridcolor": "white",
            "linecolor": "white",
            "ticks": ""
           },
           "bgcolor": "#E5ECF6",
           "caxis": {
            "gridcolor": "white",
            "linecolor": "white",
            "ticks": ""
           }
          },
          "title": {
           "x": 0.05
          },
          "xaxis": {
           "automargin": true,
           "gridcolor": "white",
           "linecolor": "white",
           "ticks": "",
           "title": {
            "standoff": 15
           },
           "zerolinecolor": "white",
           "zerolinewidth": 2
          },
          "yaxis": {
           "automargin": true,
           "gridcolor": "white",
           "linecolor": "white",
           "ticks": "",
           "title": {
            "standoff": 15
           },
           "zerolinecolor": "white",
           "zerolinewidth": 2
          }
         }
        },
        "width": 800,
        "xaxis": {
         "anchor": "y",
         "domain": [
          0,
          0.45
         ]
        },
        "xaxis2": {
         "anchor": "y2",
         "domain": [
          0.55,
          1
         ]
        },
        "xaxis3": {
         "anchor": "y3",
         "domain": [
          0,
          0.45
         ]
        },
        "xaxis4": {
         "anchor": "y4",
         "domain": [
          0.55,
          1
         ]
        },
        "xaxis5": {
         "anchor": "y5",
         "domain": [
          0,
          0.45
         ]
        },
        "xaxis6": {
         "anchor": "y6",
         "domain": [
          0.55,
          1
         ]
        },
        "xaxis7": {
         "anchor": "y7",
         "domain": [
          0,
          0.45
         ]
        },
        "xaxis8": {
         "anchor": "y8",
         "domain": [
          0.55,
          1
         ]
        },
        "yaxis": {
         "anchor": "x",
         "domain": [
          0.78,
          1
         ]
        },
        "yaxis2": {
         "anchor": "x2",
         "domain": [
          0.78,
          1
         ]
        },
        "yaxis3": {
         "anchor": "x3",
         "domain": [
          0.52,
          0.74
         ]
        },
        "yaxis4": {
         "anchor": "x4",
         "domain": [
          0.52,
          0.74
         ]
        },
        "yaxis5": {
         "anchor": "x5",
         "domain": [
          0.26,
          0.48
         ]
        },
        "yaxis6": {
         "anchor": "x6",
         "domain": [
          0.26,
          0.48
         ]
        },
        "yaxis7": {
         "anchor": "x7",
         "domain": [
          0,
          0.22
         ]
        },
        "yaxis8": {
         "anchor": "x8",
         "domain": [
          0,
          0.22
         ]
        }
       }
      },
      "text/html": [
       "<div>\n",
       "        \n",
       "        \n",
       "            <div id=\"a4bb4776-9707-46cc-b69e-7e9cf6830edd\" class=\"plotly-graph-div\" style=\"height:1500px; width:800px;\"></div>\n",
       "            <script type=\"text/javascript\">\n",
       "                require([\"plotly\"], function(Plotly) {\n",
       "                    window.PLOTLYENV=window.PLOTLYENV || {};\n",
       "                    \n",
       "                if (document.getElementById(\"a4bb4776-9707-46cc-b69e-7e9cf6830edd\")) {\n",
       "                    Plotly.newPlot(\n",
       "                        'a4bb4776-9707-46cc-b69e-7e9cf6830edd',\n",
       "                        [{\"hovertext\": [\"EA 6F FF DE 42, Type 2\", \"90 01 09 71 F0, Type 2\", \"31 19 64 3D 10, Type 2\", \"D7 FC 44 05 CA, Type 2\", \"64 0B 1B 0A 45, Type 2\", \"8A 77 B8 09 AD, Type 2\", \"02 88 A7 94 50, Type 2\", \"51 B7 6E C2 FD, Type 2\", \"A4 03 5A F0 57, Type 2\", \"90 A6 58 8A AD, Type 2\", \"F5 E4 FD A4 9F, Type 2\", \"76 8F 56 DE 15, Type 2\", \"3D F6 5A B4 9D, Type 2\", \"A6 FD C4 C0 69, Type 2\", \"4F 9C 21 D3 31, Type 2\", \"94 EB 19 B7 18, Type 2\", \"0F 30 93 5E 0E, Type 2\", \"A2 C1 35 C2 8C, Type 2\", \"19 01 73 04 E2, Type 2\", \"CA A2 77 FC 22, Type 2\", \"96 DD DC FE E3, Type 2\", \"21 36 06 E2 38, Type 2\", \"B7 CA E8 BC 99, Type 2\", \"EF 4A CF 20 AF, Type 2\"], \"marker\": {\"color\": [\"#B3D9FF\", \"#B3D9FF\", \"#B3D9FF\", \"#B3D9FF\", \"#B3D9FF\", \"#B3D9FF\", \"#B3D9FF\", \"#B3D9FF\", \"#B3D9FF\", \"#B3D9FF\", \"#B3D9FF\", \"#B3D9FF\", \"#B3D9FF\", \"#B3D9FF\", \"#B3D9FF\", \"#B3D9FF\", \"#B3D9FF\", \"#B3D9FF\", \"#B3D9FF\", \"#B3D9FF\", \"#B3D9FF\", \"#B3D9FF\", \"#B3D9FF\", \"#B3D9FF\"], \"size\": 10}, \"mode\": \"markers+text\", \"type\": \"scatter\", \"x\": [25.0, 27.0, 35.0, 37.0, 38.0, 38.0, 39.0, 40.0, 40.0, 42.0, 44.0, 45.0, 46.0, 49.0, 53.0, 57.0, 59.0, 59.0, 59.0, 60.0, 64.0, 68.0, 73.0, 74.0], \"xaxis\": \"x\", \"y\": [10.0, 9.0, 9.0, 6.0, 7.0, 12.0, 14.0, 5.0, 13.0, 5.0, 10.0, 11.0, 13.0, 8.0, 8.0, 15.0, 3.0, 6.0, 9.0, 15.0, 9.0, 3.0, 18.0, 19.0], \"yaxis\": \"y\"}, {\"hovertext\": [\"EA 6F FF DE 42, Type 2\", \"90 01 09 71 F0, Type 2\", \"31 19 64 3D 10, Type 2\", \"D7 FC 44 05 CA, Type 2\", \"64 0B 1B 0A 45, Type 2\", \"8A 77 B8 09 AD, Type 2\", \"02 88 A7 94 50, Type 2\", \"51 B7 6E C2 FD, Type 2\", \"A4 03 5A F0 57, Type 2\", \"90 A6 58 8A AD, Type 2\", \"F5 E4 FD A4 9F, Type 2\", \"76 8F 56 DE 15, Type 2\", \"3D F6 5A B4 9D, Type 2\", \"A6 FD C4 C0 69, Type 2\", \"4F 9C 21 D3 31, Type 2\", \"94 EB 19 B7 18, Type 2\", \"0F 30 93 5E 0E, Type 2\", \"A2 C1 35 C2 8C, Type 2\", \"19 01 73 04 E2, Type 2\", \"CA A2 77 FC 22, Type 2\", \"96 DD DC FE E3, Type 2\", \"21 36 06 E2 38, Type 2\", \"B7 CA E8 BC 99, Type 2\", \"EF 4A CF 20 AF, Type 2\"], \"marker\": {\"color\": [\"#B3D9FF\", \"#B3D9FF\", \"#B3D9FF\", \"#B3D9FF\", \"#B3D9FF\", \"#B3D9FF\", \"#B3D9FF\", \"#B3D9FF\", \"#B3D9FF\", \"#B3D9FF\", \"#B3D9FF\", \"#B3D9FF\", \"#B3D9FF\", \"#B3D9FF\", \"#B3D9FF\", \"#B3D9FF\", \"#B3D9FF\", \"#B3D9FF\", \"#B3D9FF\", \"#B3D9FF\", \"#B3D9FF\", \"#B3D9FF\", \"#B3D9FF\", \"#B3D9FF\"], \"size\": 10}, \"mode\": \"markers+text\", \"type\": \"scatter\", \"x\": [25.0, 27.0, 35.0, 37.0, 38.0, 38.0, 39.0, 40.0, 40.0, 42.0, 44.0, 45.0, 46.0, 49.0, 53.0, 57.0, 59.0, 59.0, 59.0, 60.0, 64.0, 68.0, 73.0, 74.0], \"xaxis\": \"x2\", \"y\": [6.0, 7.0, 6.0, 5.0, 10.0, 10.0, 14.0, 16.0, 13.0, 5.0, 13.0, 11.0, 18.0, 6.0, 8.0, 18.0, 3.0, 9.0, 9.0, 13.0, 7.0, 5.0, 19.0, 16.0], \"yaxis\": \"y2\"}, {\"hovertext\": [\"EA 6F FF DE 42, Type 2\", \"90 01 09 71 F0, Type 2\", \"31 19 64 3D 10, Type 2\", \"D7 FC 44 05 CA, Type 2\", \"64 0B 1B 0A 45, Type 2\", \"8A 77 B8 09 AD, Type 2\", \"02 88 A7 94 50, Type 2\", \"51 B7 6E C2 FD, Type 2\", \"A4 03 5A F0 57, Type 2\", \"90 A6 58 8A AD, Type 2\", \"F5 E4 FD A4 9F, Type 2\", \"76 8F 56 DE 15, Type 2\", \"3D F6 5A B4 9D, Type 2\", \"A6 FD C4 C0 69, Type 2\", \"4F 9C 21 D3 31, Type 2\", \"94 EB 19 B7 18, Type 2\", \"0F 30 93 5E 0E, Type 2\", \"A2 C1 35 C2 8C, Type 2\", \"19 01 73 04 E2, Type 2\", \"CA A2 77 FC 22, Type 2\", \"96 DD DC FE E3, Type 2\", \"21 36 06 E2 38, Type 2\", \"B7 CA E8 BC 99, Type 2\", \"EF 4A CF 20 AF, Type 2\"], \"marker\": {\"color\": [\"#B3D9FF\", \"#B3D9FF\", \"#B3D9FF\", \"#B3D9FF\", \"#B3D9FF\", \"#B3D9FF\", \"#B3D9FF\", \"#B3D9FF\", \"#B3D9FF\", \"#B3D9FF\", \"#B3D9FF\", \"#B3D9FF\", \"#B3D9FF\", \"#B3D9FF\", \"#B3D9FF\", \"#B3D9FF\", \"#B3D9FF\", \"#B3D9FF\", \"#B3D9FF\", \"#B3D9FF\", \"#B3D9FF\", \"#B3D9FF\", \"#B3D9FF\", \"#B3D9FF\"], \"size\": 10}, \"mode\": \"markers+text\", \"type\": \"scatter\", \"x\": [25.0, 27.0, 35.0, 37.0, 38.0, 38.0, 39.0, 40.0, 40.0, 42.0, 44.0, 45.0, 46.0, 49.0, 53.0, 57.0, 59.0, 59.0, 59.0, 60.0, 64.0, 68.0, 73.0, 74.0], \"xaxis\": \"x3\", \"y\": [7.0, 7.0, 7.0, 7.0, 8.0, 10.0, 10.0, 13.0, 11.0, 6.0, 15.0, 9.0, 9.0, 6.0, 7.0, 14.0, 4.0, 7.0, 9.0, 10.0, 5.0, 5.0, 17.0, 10.0], \"yaxis\": \"y3\"}, {\"hovertext\": [\"EA 6F FF DE 42, Type 2\", \"90 01 09 71 F0, Type 2\", \"31 19 64 3D 10, Type 2\", \"D7 FC 44 05 CA, Type 2\", \"64 0B 1B 0A 45, Type 2\", \"8A 77 B8 09 AD, Type 2\", \"02 88 A7 94 50, Type 2\", \"51 B7 6E C2 FD, Type 2\", \"A4 03 5A F0 57, Type 2\", \"90 A6 58 8A AD, Type 2\", \"F5 E4 FD A4 9F, Type 2\", \"76 8F 56 DE 15, Type 2\", \"3D F6 5A B4 9D, Type 2\", \"A6 FD C4 C0 69, Type 2\", \"4F 9C 21 D3 31, Type 2\", \"94 EB 19 B7 18, Type 2\", \"0F 30 93 5E 0E, Type 2\", \"A2 C1 35 C2 8C, Type 2\", \"19 01 73 04 E2, Type 2\", \"CA A2 77 FC 22, Type 2\", \"96 DD DC FE E3, Type 2\", \"21 36 06 E2 38, Type 2\", \"B7 CA E8 BC 99, Type 2\", \"EF 4A CF 20 AF, Type 2\"], \"marker\": {\"color\": [\"#B3D9FF\", \"#B3D9FF\", \"#B3D9FF\", \"#B3D9FF\", \"#B3D9FF\", \"#B3D9FF\", \"#B3D9FF\", \"#B3D9FF\", \"#B3D9FF\", \"#B3D9FF\", \"#B3D9FF\", \"#B3D9FF\", \"#B3D9FF\", \"#B3D9FF\", \"#B3D9FF\", \"#B3D9FF\", \"#B3D9FF\", \"#B3D9FF\", \"#B3D9FF\", \"#B3D9FF\", \"#B3D9FF\", \"#B3D9FF\", \"#B3D9FF\", \"#B3D9FF\"], \"size\": 10}, \"mode\": \"markers+text\", \"type\": \"scatter\", \"x\": [25.0, 27.0, 35.0, 37.0, 38.0, 38.0, 39.0, 40.0, 40.0, 42.0, 44.0, 45.0, 46.0, 49.0, 53.0, 57.0, 59.0, 59.0, 59.0, 60.0, 64.0, 68.0, 73.0, 74.0], \"xaxis\": \"x4\", \"y\": [23.0, 23.0, 22.0, 18.0, 25.0, 32.0, 38.0, 34.0, 37.0, 16.0, 38.0, 31.0, 40.0, 20.0, 23.0, 47.0, 10.0, 22.0, 27.0, 38.0, 21.0, 13.0, 54.0, 45.0], \"yaxis\": \"y4\"}, {\"hovertext\": [\"EA 6F FF DE 42, Type 2\", \"90 01 09 71 F0, Type 2\", \"31 19 64 3D 10, Type 2\", \"D7 FC 44 05 CA, Type 2\", \"64 0B 1B 0A 45, Type 2\", \"8A 77 B8 09 AD, Type 2\", \"02 88 A7 94 50, Type 2\", \"51 B7 6E C2 FD, Type 2\", \"A4 03 5A F0 57, Type 2\", \"90 A6 58 8A AD, Type 2\", \"F5 E4 FD A4 9F, Type 2\", \"76 8F 56 DE 15, Type 2\", \"3D F6 5A B4 9D, Type 2\", \"A6 FD C4 C0 69, Type 2\", \"4F 9C 21 D3 31, Type 2\", \"94 EB 19 B7 18, Type 2\", \"0F 30 93 5E 0E, Type 2\", \"A2 C1 35 C2 8C, Type 2\", \"19 01 73 04 E2, Type 2\", \"CA A2 77 FC 22, Type 2\", \"96 DD DC FE E3, Type 2\", \"21 36 06 E2 38, Type 2\", \"B7 CA E8 BC 99, Type 2\", \"EF 4A CF 20 AF, Type 2\"], \"marker\": {\"color\": [\"#B3D9FF\", \"#B3D9FF\", \"#B3D9FF\", \"#B3D9FF\", \"#B3D9FF\", \"#B3D9FF\", \"#B3D9FF\", \"#B3D9FF\", \"#B3D9FF\", \"#B3D9FF\", \"#B3D9FF\", \"#B3D9FF\", \"#B3D9FF\", \"#B3D9FF\", \"#B3D9FF\", \"#B3D9FF\", \"#B3D9FF\", \"#B3D9FF\", \"#B3D9FF\", \"#B3D9FF\", \"#B3D9FF\", \"#B3D9FF\", \"#B3D9FF\", \"#B3D9FF\"], \"size\": 10}, \"mode\": \"markers+text\", \"type\": \"scatter\", \"x\": [25.0, 27.0, 35.0, 37.0, 38.0, 38.0, 39.0, 40.0, 40.0, 42.0, 44.0, 45.0, 46.0, 49.0, 53.0, 57.0, 59.0, 59.0, 59.0, 60.0, 64.0, 68.0, 73.0, 74.0], \"xaxis\": \"x5\", \"y\": [86.0, 86.0, 84.0, 77.0, 90.0, 104.0, 116.0, 108.0, 114.0, 73.0, 116.0, 102.0, 120.0, 81.0, 86.0, 133.0, 61.0, 84.0, 94.0, 116.0, 83.0, 67.0, 147.0, 129.0], \"yaxis\": \"y5\"}, {\"hovertext\": [\"EA 6F FF DE 42, Type 2\", \"90 01 09 71 F0, Type 2\", \"31 19 64 3D 10, Type 2\", \"D7 FC 44 05 CA, Type 2\", \"64 0B 1B 0A 45, Type 2\", \"8A 77 B8 09 AD, Type 2\", \"02 88 A7 94 50, Type 2\", \"51 B7 6E C2 FD, Type 2\", \"A4 03 5A F0 57, Type 2\", \"90 A6 58 8A AD, Type 2\", \"F5 E4 FD A4 9F, Type 2\", \"76 8F 56 DE 15, Type 2\", \"3D F6 5A B4 9D, Type 2\", \"A6 FD C4 C0 69, Type 2\", \"4F 9C 21 D3 31, Type 2\", \"94 EB 19 B7 18, Type 2\", \"0F 30 93 5E 0E, Type 2\", \"A2 C1 35 C2 8C, Type 2\", \"19 01 73 04 E2, Type 2\", \"CA A2 77 FC 22, Type 2\", \"96 DD DC FE E3, Type 2\", \"21 36 06 E2 38, Type 2\", \"B7 CA E8 BC 99, Type 2\", \"EF 4A CF 20 AF, Type 2\"], \"marker\": {\"color\": [\"#B3D9FF\", \"#B3D9FF\", \"#B3D9FF\", \"#B3D9FF\", \"#B3D9FF\", \"#B3D9FF\", \"#B3D9FF\", \"#B3D9FF\", \"#B3D9FF\", \"#B3D9FF\", \"#B3D9FF\", \"#B3D9FF\", \"#B3D9FF\", \"#B3D9FF\", \"#B3D9FF\", \"#B3D9FF\", \"#B3D9FF\", \"#B3D9FF\", \"#B3D9FF\", \"#B3D9FF\", \"#B3D9FF\", \"#B3D9FF\", \"#B3D9FF\", \"#B3D9FF\"], \"size\": 10}, \"mode\": \"markers+text\", \"type\": \"scatter\", \"x\": [25.0, 27.0, 35.0, 37.0, 38.0, 38.0, 39.0, 40.0, 40.0, 42.0, 44.0, 45.0, 46.0, 49.0, 53.0, 57.0, 59.0, 59.0, 59.0, 60.0, 64.0, 68.0, 73.0, 74.0], \"xaxis\": \"x6\", \"y\": [18.0, 18.0, 14.0, 6.0, 25.0, 61.0, 86.0, 70.0, 86.0, 4.0, 86.0, 55.0, 91.0, 10.0, 18.0, 99.0, 1.0, 14.0, 34.0, 86.0, 13.0, 1.0, 99.0, 97.0], \"yaxis\": \"y6\"}, {\"hovertext\": [\"EA 6F FF DE 42, Type 2\", \"90 01 09 71 F0, Type 2\", \"31 19 64 3D 10, Type 2\", \"D7 FC 44 05 CA, Type 2\", \"64 0B 1B 0A 45, Type 2\", \"8A 77 B8 09 AD, Type 2\", \"02 88 A7 94 50, Type 2\", \"51 B7 6E C2 FD, Type 2\", \"A4 03 5A F0 57, Type 2\", \"90 A6 58 8A AD, Type 2\", \"F5 E4 FD A4 9F, Type 2\", \"76 8F 56 DE 15, Type 2\", \"3D F6 5A B4 9D, Type 2\", \"A6 FD C4 C0 69, Type 2\", \"4F 9C 21 D3 31, Type 2\", \"94 EB 19 B7 18, Type 2\", \"0F 30 93 5E 0E, Type 2\", \"A2 C1 35 C2 8C, Type 2\", \"19 01 73 04 E2, Type 2\", \"CA A2 77 FC 22, Type 2\", \"96 DD DC FE E3, Type 2\", \"21 36 06 E2 38, Type 2\", \"B7 CA E8 BC 99, Type 2\", \"EF 4A CF 20 AF, Type 2\"], \"marker\": {\"color\": [\"#B3D9FF\", \"#B3D9FF\", \"#B3D9FF\", \"#B3D9FF\", \"#B3D9FF\", \"#B3D9FF\", \"#B3D9FF\", \"#B3D9FF\", \"#B3D9FF\", \"#B3D9FF\", \"#B3D9FF\", \"#B3D9FF\", \"#B3D9FF\", \"#B3D9FF\", \"#B3D9FF\", \"#B3D9FF\", \"#B3D9FF\", \"#B3D9FF\", \"#B3D9FF\", \"#B3D9FF\", \"#B3D9FF\", \"#B3D9FF\", \"#B3D9FF\", \"#B3D9FF\"], \"size\": 10}, \"mode\": \"markers+text\", \"type\": \"scatter\", \"x\": [25.0, 27.0, 35.0, 37.0, 38.0, 38.0, 39.0, 40.0, 40.0, 42.0, 44.0, 45.0, 46.0, 49.0, 53.0, 57.0, 59.0, 59.0, 59.0, 60.0, 64.0, 68.0, 73.0, 74.0], \"xaxis\": \"x7\", \"y\": [80.0, 80.0, 78.0, 72.0, 84.0, 97.0, 109.0, 101.0, 109.0, 68.0, 109.0, 95.0, 112.0, 76.0, 80.0, 127.0, 57.0, 78.0, 88.0, 109.0, 77.0, 62.0, 136.0, 121.0], \"yaxis\": \"y7\"}, {\"hovertext\": [\"EA 6F FF DE 42, Type 2\", \"90 01 09 71 F0, Type 2\", \"31 19 64 3D 10, Type 2\", \"D7 FC 44 05 CA, Type 2\", \"64 0B 1B 0A 45, Type 2\", \"8A 77 B8 09 AD, Type 2\", \"02 88 A7 94 50, Type 2\", \"51 B7 6E C2 FD, Type 2\", \"A4 03 5A F0 57, Type 2\", \"90 A6 58 8A AD, Type 2\", \"F5 E4 FD A4 9F, Type 2\", \"76 8F 56 DE 15, Type 2\", \"3D F6 5A B4 9D, Type 2\", \"A6 FD C4 C0 69, Type 2\", \"4F 9C 21 D3 31, Type 2\", \"94 EB 19 B7 18, Type 2\", \"0F 30 93 5E 0E, Type 2\", \"A2 C1 35 C2 8C, Type 2\", \"19 01 73 04 E2, Type 2\", \"CA A2 77 FC 22, Type 2\", \"96 DD DC FE E3, Type 2\", \"21 36 06 E2 38, Type 2\", \"B7 CA E8 BC 99, Type 2\", \"EF 4A CF 20 AF, Type 2\"], \"marker\": {\"color\": [\"#B3D9FF\", \"#B3D9FF\", \"#B3D9FF\", \"#B3D9FF\", \"#B3D9FF\", \"#B3D9FF\", \"#B3D9FF\", \"#B3D9FF\", \"#B3D9FF\", \"#B3D9FF\", \"#B3D9FF\", \"#B3D9FF\", \"#B3D9FF\", \"#B3D9FF\", \"#B3D9FF\", \"#B3D9FF\", \"#B3D9FF\", \"#B3D9FF\", \"#B3D9FF\", \"#B3D9FF\", \"#B3D9FF\", \"#B3D9FF\", \"#B3D9FF\", \"#B3D9FF\"], \"size\": 10}, \"mode\": \"markers+text\", \"type\": \"scatter\", \"x\": [25.0, 27.0, 35.0, 37.0, 38.0, 38.0, 39.0, 40.0, 40.0, 42.0, 44.0, 45.0, 46.0, 49.0, 53.0, 57.0, 59.0, 59.0, 59.0, 60.0, 64.0, 68.0, 73.0, 74.0], \"xaxis\": \"x8\", \"y\": [93.0, 93.0, 91.0, 85.0, 97.0, 110.0, 122.0, 114.0, 122.0, 81.0, 122.0, 108.0, 125.0, 89.0, 93.0, 140.0, 70.0, 91.0, 101.0, 122.0, 90.0, 75.0, 149.0, 134.0], \"yaxis\": \"y8\"}],\n",
       "                        {\"annotations\": [{\"font\": {\"size\": 16}, \"showarrow\": false, \"text\": \"Note standard Similitudes\", \"x\": 0.225, \"xanchor\": \"center\", \"xref\": \"paper\", \"y\": 1.0, \"yanchor\": \"bottom\", \"yref\": \"paper\"}, {\"font\": {\"size\": 16}, \"showarrow\": false, \"text\": \"Note standard Vocabulaire\", \"x\": 0.775, \"xanchor\": \"center\", \"xref\": \"paper\", \"y\": 1.0, \"yanchor\": \"bottom\", \"yref\": \"paper\"}, {\"font\": {\"size\": 16}, \"showarrow\": false, \"text\": \"Note standard Information\", \"x\": 0.225, \"xanchor\": \"center\", \"xref\": \"paper\", \"y\": 0.74, \"yanchor\": \"bottom\", \"yref\": \"paper\"}, {\"font\": {\"size\": 16}, \"showarrow\": false, \"text\": \"Total des notes standards ICV\", \"x\": 0.775, \"xanchor\": \"center\", \"xref\": \"paper\", \"y\": 0.74, \"yanchor\": \"bottom\", \"yref\": \"paper\"}, {\"font\": {\"size\": 16}, \"showarrow\": false, \"text\": \"Note composite ICV\", \"x\": 0.225, \"xanchor\": \"center\", \"xref\": \"paper\", \"y\": 0.48, \"yanchor\": \"bottom\", \"yref\": \"paper\"}, {\"font\": {\"size\": 16}, \"showarrow\": false, \"text\": \"Rang percentile ICV\", \"x\": 0.775, \"xanchor\": \"center\", \"xref\": \"paper\", \"y\": 0.48, \"yanchor\": \"bottom\", \"yref\": \"paper\"}, {\"font\": {\"size\": 16}, \"showarrow\": false, \"text\": \"Note \\u00e9cart type inf\\u00e9rieure ICV\", \"x\": 0.225, \"xanchor\": \"center\", \"xref\": \"paper\", \"y\": 0.22, \"yanchor\": \"bottom\", \"yref\": \"paper\"}, {\"font\": {\"size\": 16}, \"showarrow\": false, \"text\": \"Note \\u00e9cart type sup\\u00e9rieure ICV\", \"x\": 0.775, \"xanchor\": \"center\", \"xref\": \"paper\", \"y\": 0.22, \"yanchor\": \"bottom\", \"yref\": \"paper\"}, {\"font\": {\"size\": 16}, \"showarrow\": false, \"text\": \"\\u00c2ge\", \"x\": 0.5, \"xanchor\": \"center\", \"xref\": \"paper\", \"y\": 0, \"yanchor\": \"top\", \"yref\": \"paper\", \"yshift\": -30}, {\"font\": {\"size\": 16}, \"showarrow\": false, \"text\": \"Score\", \"textangle\": -90, \"x\": 0, \"xanchor\": \"right\", \"xref\": \"paper\", \"xshift\": -40, \"y\": 0.5, \"yanchor\": \"middle\", \"yref\": \"paper\"}], \"height\": 1500, \"showlegend\": false, \"template\": {\"data\": {\"bar\": [{\"error_x\": {\"color\": \"#2a3f5f\"}, \"error_y\": {\"color\": \"#2a3f5f\"}, \"marker\": {\"line\": {\"color\": \"#E5ECF6\", \"width\": 0.5}}, \"type\": \"bar\"}], \"barpolar\": [{\"marker\": {\"line\": {\"color\": \"#E5ECF6\", \"width\": 0.5}}, \"type\": \"barpolar\"}], \"carpet\": [{\"aaxis\": {\"endlinecolor\": \"#2a3f5f\", \"gridcolor\": \"white\", \"linecolor\": \"white\", \"minorgridcolor\": \"white\", \"startlinecolor\": \"#2a3f5f\"}, \"baxis\": {\"endlinecolor\": \"#2a3f5f\", \"gridcolor\": \"white\", \"linecolor\": \"white\", \"minorgridcolor\": \"white\", \"startlinecolor\": \"#2a3f5f\"}, \"type\": \"carpet\"}], \"choropleth\": [{\"colorbar\": {\"outlinewidth\": 0, \"ticks\": \"\"}, \"type\": \"choropleth\"}], \"contour\": [{\"colorbar\": {\"outlinewidth\": 0, \"ticks\": \"\"}, \"colorscale\": [[0.0, \"#0d0887\"], [0.1111111111111111, \"#46039f\"], [0.2222222222222222, \"#7201a8\"], [0.3333333333333333, \"#9c179e\"], [0.4444444444444444, \"#bd3786\"], [0.5555555555555556, \"#d8576b\"], [0.6666666666666666, \"#ed7953\"], [0.7777777777777778, \"#fb9f3a\"], [0.8888888888888888, \"#fdca26\"], [1.0, \"#f0f921\"]], \"type\": \"contour\"}], \"contourcarpet\": [{\"colorbar\": {\"outlinewidth\": 0, \"ticks\": \"\"}, \"type\": \"contourcarpet\"}], \"heatmap\": [{\"colorbar\": {\"outlinewidth\": 0, \"ticks\": \"\"}, \"colorscale\": [[0.0, \"#0d0887\"], [0.1111111111111111, \"#46039f\"], [0.2222222222222222, \"#7201a8\"], [0.3333333333333333, \"#9c179e\"], [0.4444444444444444, \"#bd3786\"], [0.5555555555555556, \"#d8576b\"], [0.6666666666666666, \"#ed7953\"], [0.7777777777777778, \"#fb9f3a\"], [0.8888888888888888, \"#fdca26\"], [1.0, \"#f0f921\"]], \"type\": \"heatmap\"}], \"heatmapgl\": [{\"colorbar\": {\"outlinewidth\": 0, \"ticks\": \"\"}, \"colorscale\": [[0.0, \"#0d0887\"], [0.1111111111111111, \"#46039f\"], [0.2222222222222222, \"#7201a8\"], [0.3333333333333333, \"#9c179e\"], [0.4444444444444444, \"#bd3786\"], [0.5555555555555556, \"#d8576b\"], [0.6666666666666666, \"#ed7953\"], [0.7777777777777778, \"#fb9f3a\"], [0.8888888888888888, \"#fdca26\"], [1.0, \"#f0f921\"]], \"type\": \"heatmapgl\"}], \"histogram\": [{\"marker\": {\"colorbar\": {\"outlinewidth\": 0, \"ticks\": \"\"}}, \"type\": \"histogram\"}], \"histogram2d\": [{\"colorbar\": {\"outlinewidth\": 0, \"ticks\": \"\"}, \"colorscale\": [[0.0, \"#0d0887\"], [0.1111111111111111, \"#46039f\"], [0.2222222222222222, \"#7201a8\"], [0.3333333333333333, \"#9c179e\"], [0.4444444444444444, \"#bd3786\"], [0.5555555555555556, \"#d8576b\"], [0.6666666666666666, \"#ed7953\"], [0.7777777777777778, \"#fb9f3a\"], [0.8888888888888888, \"#fdca26\"], [1.0, \"#f0f921\"]], \"type\": \"histogram2d\"}], \"histogram2dcontour\": [{\"colorbar\": {\"outlinewidth\": 0, \"ticks\": \"\"}, \"colorscale\": [[0.0, \"#0d0887\"], [0.1111111111111111, \"#46039f\"], [0.2222222222222222, \"#7201a8\"], [0.3333333333333333, \"#9c179e\"], [0.4444444444444444, \"#bd3786\"], [0.5555555555555556, \"#d8576b\"], [0.6666666666666666, \"#ed7953\"], [0.7777777777777778, \"#fb9f3a\"], [0.8888888888888888, \"#fdca26\"], [1.0, \"#f0f921\"]], \"type\": \"histogram2dcontour\"}], \"mesh3d\": [{\"colorbar\": {\"outlinewidth\": 0, \"ticks\": \"\"}, \"type\": \"mesh3d\"}], \"parcoords\": [{\"line\": {\"colorbar\": {\"outlinewidth\": 0, \"ticks\": \"\"}}, \"type\": \"parcoords\"}], \"pie\": [{\"automargin\": true, \"type\": \"pie\"}], \"scatter\": [{\"marker\": {\"colorbar\": {\"outlinewidth\": 0, \"ticks\": \"\"}}, \"type\": \"scatter\"}], \"scatter3d\": [{\"line\": {\"colorbar\": {\"outlinewidth\": 0, \"ticks\": \"\"}}, \"marker\": {\"colorbar\": {\"outlinewidth\": 0, \"ticks\": \"\"}}, \"type\": \"scatter3d\"}], \"scattercarpet\": [{\"marker\": {\"colorbar\": {\"outlinewidth\": 0, \"ticks\": \"\"}}, \"type\": \"scattercarpet\"}], \"scattergeo\": [{\"marker\": {\"colorbar\": {\"outlinewidth\": 0, \"ticks\": \"\"}}, \"type\": \"scattergeo\"}], \"scattergl\": [{\"marker\": {\"colorbar\": {\"outlinewidth\": 0, \"ticks\": \"\"}}, \"type\": \"scattergl\"}], \"scattermapbox\": [{\"marker\": {\"colorbar\": {\"outlinewidth\": 0, \"ticks\": \"\"}}, \"type\": \"scattermapbox\"}], \"scatterpolar\": [{\"marker\": {\"colorbar\": {\"outlinewidth\": 0, \"ticks\": \"\"}}, \"type\": \"scatterpolar\"}], \"scatterpolargl\": [{\"marker\": {\"colorbar\": {\"outlinewidth\": 0, \"ticks\": \"\"}}, \"type\": \"scatterpolargl\"}], \"scatterternary\": [{\"marker\": {\"colorbar\": {\"outlinewidth\": 0, \"ticks\": \"\"}}, \"type\": \"scatterternary\"}], \"surface\": [{\"colorbar\": {\"outlinewidth\": 0, \"ticks\": \"\"}, \"colorscale\": [[0.0, \"#0d0887\"], [0.1111111111111111, \"#46039f\"], [0.2222222222222222, \"#7201a8\"], [0.3333333333333333, \"#9c179e\"], [0.4444444444444444, \"#bd3786\"], [0.5555555555555556, \"#d8576b\"], [0.6666666666666666, \"#ed7953\"], [0.7777777777777778, \"#fb9f3a\"], [0.8888888888888888, \"#fdca26\"], [1.0, \"#f0f921\"]], \"type\": \"surface\"}], \"table\": [{\"cells\": {\"fill\": {\"color\": \"#EBF0F8\"}, \"line\": {\"color\": \"white\"}}, \"header\": {\"fill\": {\"color\": \"#C8D4E3\"}, \"line\": {\"color\": \"white\"}}, \"type\": \"table\"}]}, \"layout\": {\"annotationdefaults\": {\"arrowcolor\": \"#2a3f5f\", \"arrowhead\": 0, \"arrowwidth\": 1}, \"coloraxis\": {\"colorbar\": {\"outlinewidth\": 0, \"ticks\": \"\"}}, \"colorscale\": {\"diverging\": [[0, \"#8e0152\"], [0.1, \"#c51b7d\"], [0.2, \"#de77ae\"], [0.3, \"#f1b6da\"], [0.4, \"#fde0ef\"], [0.5, \"#f7f7f7\"], [0.6, \"#e6f5d0\"], [0.7, \"#b8e186\"], [0.8, \"#7fbc41\"], [0.9, \"#4d9221\"], [1, \"#276419\"]], \"sequential\": [[0.0, \"#0d0887\"], [0.1111111111111111, \"#46039f\"], [0.2222222222222222, \"#7201a8\"], [0.3333333333333333, \"#9c179e\"], [0.4444444444444444, \"#bd3786\"], [0.5555555555555556, \"#d8576b\"], [0.6666666666666666, \"#ed7953\"], [0.7777777777777778, \"#fb9f3a\"], [0.8888888888888888, \"#fdca26\"], [1.0, \"#f0f921\"]], \"sequentialminus\": [[0.0, \"#0d0887\"], [0.1111111111111111, \"#46039f\"], [0.2222222222222222, \"#7201a8\"], [0.3333333333333333, \"#9c179e\"], [0.4444444444444444, \"#bd3786\"], [0.5555555555555556, \"#d8576b\"], [0.6666666666666666, \"#ed7953\"], [0.7777777777777778, \"#fb9f3a\"], [0.8888888888888888, \"#fdca26\"], [1.0, \"#f0f921\"]]}, \"colorway\": [\"#636efa\", \"#EF553B\", \"#00cc96\", \"#ab63fa\", \"#FFA15A\", \"#19d3f3\", \"#FF6692\", \"#B6E880\", \"#FF97FF\", \"#FECB52\"], \"font\": {\"color\": \"#2a3f5f\"}, \"geo\": {\"bgcolor\": \"white\", \"lakecolor\": \"white\", \"landcolor\": \"#E5ECF6\", \"showlakes\": true, \"showland\": true, \"subunitcolor\": \"white\"}, \"hoverlabel\": {\"align\": \"left\"}, \"hovermode\": \"closest\", \"mapbox\": {\"style\": \"light\"}, \"paper_bgcolor\": \"white\", \"plot_bgcolor\": \"#E5ECF6\", \"polar\": {\"angularaxis\": {\"gridcolor\": \"white\", \"linecolor\": \"white\", \"ticks\": \"\"}, \"bgcolor\": \"#E5ECF6\", \"radialaxis\": {\"gridcolor\": \"white\", \"linecolor\": \"white\", \"ticks\": \"\"}}, \"scene\": {\"xaxis\": {\"backgroundcolor\": \"#E5ECF6\", \"gridcolor\": \"white\", \"gridwidth\": 2, \"linecolor\": \"white\", \"showbackground\": true, \"ticks\": \"\", \"zerolinecolor\": \"white\"}, \"yaxis\": {\"backgroundcolor\": \"#E5ECF6\", \"gridcolor\": \"white\", \"gridwidth\": 2, \"linecolor\": \"white\", \"showbackground\": true, \"ticks\": \"\", \"zerolinecolor\": \"white\"}, \"zaxis\": {\"backgroundcolor\": \"#E5ECF6\", \"gridcolor\": \"white\", \"gridwidth\": 2, \"linecolor\": \"white\", \"showbackground\": true, \"ticks\": \"\", \"zerolinecolor\": \"white\"}}, \"shapedefaults\": {\"line\": {\"color\": \"#2a3f5f\"}}, \"ternary\": {\"aaxis\": {\"gridcolor\": \"white\", \"linecolor\": \"white\", \"ticks\": \"\"}, \"baxis\": {\"gridcolor\": \"white\", \"linecolor\": \"white\", \"ticks\": \"\"}, \"bgcolor\": \"#E5ECF6\", \"caxis\": {\"gridcolor\": \"white\", \"linecolor\": \"white\", \"ticks\": \"\"}}, \"title\": {\"x\": 0.05}, \"xaxis\": {\"automargin\": true, \"gridcolor\": \"white\", \"linecolor\": \"white\", \"ticks\": \"\", \"title\": {\"standoff\": 15}, \"zerolinecolor\": \"white\", \"zerolinewidth\": 2}, \"yaxis\": {\"automargin\": true, \"gridcolor\": \"white\", \"linecolor\": \"white\", \"ticks\": \"\", \"title\": {\"standoff\": 15}, \"zerolinecolor\": \"white\", \"zerolinewidth\": 2}}}, \"width\": 800, \"xaxis\": {\"anchor\": \"y\", \"domain\": [0.0, 0.45]}, \"xaxis2\": {\"anchor\": \"y2\", \"domain\": [0.55, 1.0]}, \"xaxis3\": {\"anchor\": \"y3\", \"domain\": [0.0, 0.45]}, \"xaxis4\": {\"anchor\": \"y4\", \"domain\": [0.55, 1.0]}, \"xaxis5\": {\"anchor\": \"y5\", \"domain\": [0.0, 0.45]}, \"xaxis6\": {\"anchor\": \"y6\", \"domain\": [0.55, 1.0]}, \"xaxis7\": {\"anchor\": \"y7\", \"domain\": [0.0, 0.45]}, \"xaxis8\": {\"anchor\": \"y8\", \"domain\": [0.55, 1.0]}, \"yaxis\": {\"anchor\": \"x\", \"domain\": [0.78, 1.0]}, \"yaxis2\": {\"anchor\": \"x2\", \"domain\": [0.78, 1.0]}, \"yaxis3\": {\"anchor\": \"x3\", \"domain\": [0.52, 0.74]}, \"yaxis4\": {\"anchor\": \"x4\", \"domain\": [0.52, 0.74]}, \"yaxis5\": {\"anchor\": \"x5\", \"domain\": [0.26, 0.48]}, \"yaxis6\": {\"anchor\": \"x6\", \"domain\": [0.26, 0.48]}, \"yaxis7\": {\"anchor\": \"x7\", \"domain\": [0.0, 0.22]}, \"yaxis8\": {\"anchor\": \"x8\", \"domain\": [0.0, 0.22]}},\n",
       "                        {\"responsive\": true}\n",
       "                    ).then(function(){\n",
       "                            \n",
       "var gd = document.getElementById('a4bb4776-9707-46cc-b69e-7e9cf6830edd');\n",
       "var x = new MutationObserver(function (mutations, observer) {{\n",
       "        var display = window.getComputedStyle(gd).display;\n",
       "        if (!display || display === 'none') {{\n",
       "            console.log([gd, 'removed!']);\n",
       "            Plotly.purge(gd);\n",
       "            observer.disconnect();\n",
       "        }}\n",
       "}});\n",
       "\n",
       "// Listen for the removal of the full notebook cells\n",
       "var notebookContainer = gd.closest('#notebook-container');\n",
       "if (notebookContainer) {{\n",
       "    x.observe(notebookContainer, {childList: true});\n",
       "}}\n",
       "\n",
       "// Listen for the clearing of the current output cell\n",
       "var outputEl = gd.closest('.output');\n",
       "if (outputEl) {{\n",
       "    x.observe(outputEl, {childList: true});\n",
       "}}\n",
       "\n",
       "                        })\n",
       "                };\n",
       "                });\n",
       "            </script>\n",
       "        </div>"
      ]
     },
     "metadata": {},
     "output_type": "display_data"
    }
   ],
   "source": [
    "fig_wais_sub.add_trace(go.Scatter(x= df_wais_sub['age'], y=df_wais_sub[subplot_titles[4]], mode=\"markers+text\",\n",
    "            marker={'size': 10, \"color\": df_wais_sub['Type_color'] },\n",
    "            hovertext= df_wais_sub['ID_SECONDAIRE'] +\", \"+ df_wais_sub['Type']),\n",
    "            row=1, col=1)\n",
    "\n",
    "fig_wais_sub.add_trace(go.Scatter(x= df_wais_sub['age'], y=df_wais_sub[subplot_titles[5]], mode=\"markers+text\",\n",
    "            marker={'size': 10, \"color\": df_wais_sub['Type_color'] },\n",
    "            hovertext= df_wais_sub['ID_SECONDAIRE'] +\", \"+ df_wais_sub['Type']),\n",
    "              row=1, col=2)\n",
    "\n",
    "fig_wais_sub.add_trace(go.Scatter(x= df_wais_sub['age'], y=df_wais_sub[subplot_titles[6]], mode=\"markers+text\",\n",
    "            marker={'size': 10, \"color\": df_wais_sub['Type_color'] },\n",
    "            hovertext= df_wais_sub['ID_SECONDAIRE'] +\", \"+ df_wais_sub['Type']),\n",
    "              row=2, col=1)\n",
    "\n",
    "fig_wais_sub.add_trace(go.Scatter(x= df_wais_sub['age'], y=df_wais_sub[subplot_titles[7]], mode=\"markers+text\",\n",
    "            marker={'size': 10, \"color\": df_wais_sub['Type_color'] },\n",
    "            hovertext= df_wais_sub['ID_SECONDAIRE'] +\", \"+ df_wais_sub['Type']),\n",
    "            row=2, col=2)\n",
    "\n",
    "fig_wais_sub.add_trace(go.Scatter(x= df_wais_sub['age'], y=df_wais_sub[subplot_titles[8]], mode=\"markers+text\",\n",
    "            marker={'size': 10, \"color\": df_wais_sub['Type_color'] },\n",
    "            hovertext= df_wais_sub['ID_SECONDAIRE'] +\", \"+ df_wais_sub['Type']),\n",
    "            row=3, col=1)\n",
    "                                                             \n",
    "fig_wais_sub.add_trace(go.Scatter(x= df_wais_sub['age'], y=df_wais_sub[subplot_titles[9]], mode=\"markers+text\",\n",
    "            marker={'size': 10, \"color\": df_wais_sub['Type_color'] },\n",
    "            hovertext= df_wais_sub['ID_SECONDAIRE'] +\", \"+ df_wais_sub['Type']),\n",
    "            row=3, col=2)\n",
    "    \n",
    "fig_wais_sub.add_trace(go.Scatter(x= df_wais_sub['age'], y=df_wais_sub[subplot_titles[10]], mode=\"markers+text\",\n",
    "            marker={'size': 10, \"color\": df_wais_sub['Type_color'] },\n",
    "            hovertext= df_wais_sub['ID_SECONDAIRE'] +\", \"+ df_wais_sub['Type']),\n",
    "            row=4, col=1)\n",
    "    \n",
    "fig_wais_sub.add_trace(go.Scatter(x= df_wais_sub['age'], y=df_wais_sub[subplot_titles[11]], mode=\"markers+text\",\n",
    "            marker={'size': 10, \"color\": df_wais_sub['Type_color'] },\n",
    "            hovertext= df_wais_sub['ID_SECONDAIRE'] +\", \"+ df_wais_sub['Type']),\n",
    "            row=4, col=2)\n",
    "    \n",
    "fig_wais_sub.update_layout(height=1500, width=800,\n",
    "                   showlegend=False\n",
    "            )"
   ]
  },
  {
   "cell_type": "code",
   "execution_count": 95,
   "metadata": {
    "ExecuteTime": {
     "end_time": "2020-11-26T13:42:47.619622Z",
     "start_time": "2020-11-26T13:42:47.599862Z"
    }
   },
   "outputs": [],
   "source": [
    "df_wais_sub_agg = df_wais_sub.agg(['min', 'max', 'mean', 'median', 'count'])\n",
    "#\n",
    "df_wais_sub_agg.index.name = \"Aggrégation\"\n",
    "df_wais_sub_agg.reset_index(inplace=True)\n",
    "#\n",
    "df_wais_sub_agg = df_wais_sub_agg.replace({'Aggrégation' : {\"min\":\"Min\",\"max\":\"Max\",\"mean\":\"Moyenne\", \"median\":\"Médiane\", \"count\":\"Effectif\"}})"
   ]
  },
  {
   "cell_type": "code",
   "execution_count": 96,
   "metadata": {
    "ExecuteTime": {
     "end_time": "2020-11-26T13:42:48.473588Z",
     "start_time": "2020-11-26T13:42:48.469961Z"
    }
   },
   "outputs": [],
   "source": [
    "df_wais_sub_agg = df_wais_sub_agg.drop(columns= ['ID_SECONDAIRE','Type', 'Type_color', 'age' ])"
   ]
  },
  {
   "cell_type": "code",
   "execution_count": 97,
   "metadata": {
    "ExecuteTime": {
     "end_time": "2020-11-26T13:42:49.159507Z",
     "start_time": "2020-11-26T13:42:49.154684Z"
    }
   },
   "outputs": [],
   "source": [
    "df_wais_sub_agg = df_wais_sub_agg.round(2)"
   ]
  },
  {
   "cell_type": "code",
   "execution_count": 98,
   "metadata": {
    "ExecuteTime": {
     "end_time": "2020-11-26T13:42:49.827109Z",
     "start_time": "2020-11-26T13:42:49.819995Z"
    }
   },
   "outputs": [],
   "source": [
    "wais_sub =  go.Table(\n",
    "                header=dict(values=list(df_wais_sub_agg.columns[:]),\n",
    "                align='left'),\n",
    "                cells=dict(values= [df_wais_sub_agg.iloc[:,0], df_wais_sub_agg.iloc[:,1], df_wais_sub_agg.iloc[:,2], df_wais_sub_agg.iloc[:,3]\n",
    "                           , df_wais_sub_agg.iloc[:,4], df_wais_sub_agg.iloc[:,5], df_wais_sub_agg.iloc[:,6], df_wais_sub_agg.iloc[:,7]\n",
    "                           , df_wais_sub_agg.iloc[:,8]], align='left'))"
   ]
  },
  {
   "cell_type": "code",
   "execution_count": 99,
   "metadata": {
    "ExecuteTime": {
     "end_time": "2020-11-26T13:42:50.950296Z",
     "start_time": "2020-11-26T13:42:50.695646Z"
    },
    "scrolled": true
   },
   "outputs": [
    {
     "data": {
      "application/vnd.plotly.v1+json": {
       "config": {
        "plotlyServerURL": "https://plot.ly"
       },
       "data": [
        {
         "cells": {
          "align": "left",
          "values": [
           [
            "Min",
            "Max",
            "Effectif",
            "Moyenne",
            "Médiane"
           ],
           [
            3,
            19,
            24,
            9.88,
            9
           ],
           [
            3,
            19,
            24,
            10.29,
            9.5
           ],
           [
            4,
            17,
            24,
            8.88,
            8.5
           ],
           [
            10,
            54,
            24,
            29.04,
            26
           ],
           [
            61,
            147,
            24,
            98.21,
            92
           ],
           [
            1,
            99,
            24,
            45.5,
            29.5
           ],
           [
            57,
            136,
            24,
            91.88,
            86
           ],
           [
            70,
            149,
            24,
            104.88,
            99
           ]
          ]
         },
         "header": {
          "align": "left",
          "values": [
           "Aggrégation",
           "Note standard Similitudes",
           "Note standard Vocabulaire",
           "Note standard Information",
           "Total des notes standards ICV",
           "Note composite ICV",
           "Rang percentile ICV",
           "Note écart type inférieure ICV",
           "Note écart type supérieure ICV"
          ]
         },
         "type": "table"
        }
       ],
       "layout": {
        "height": 1000,
        "template": {
         "data": {
          "bar": [
           {
            "error_x": {
             "color": "#2a3f5f"
            },
            "error_y": {
             "color": "#2a3f5f"
            },
            "marker": {
             "line": {
              "color": "#E5ECF6",
              "width": 0.5
             }
            },
            "type": "bar"
           }
          ],
          "barpolar": [
           {
            "marker": {
             "line": {
              "color": "#E5ECF6",
              "width": 0.5
             }
            },
            "type": "barpolar"
           }
          ],
          "carpet": [
           {
            "aaxis": {
             "endlinecolor": "#2a3f5f",
             "gridcolor": "white",
             "linecolor": "white",
             "minorgridcolor": "white",
             "startlinecolor": "#2a3f5f"
            },
            "baxis": {
             "endlinecolor": "#2a3f5f",
             "gridcolor": "white",
             "linecolor": "white",
             "minorgridcolor": "white",
             "startlinecolor": "#2a3f5f"
            },
            "type": "carpet"
           }
          ],
          "choropleth": [
           {
            "colorbar": {
             "outlinewidth": 0,
             "ticks": ""
            },
            "type": "choropleth"
           }
          ],
          "contour": [
           {
            "colorbar": {
             "outlinewidth": 0,
             "ticks": ""
            },
            "colorscale": [
             [
              0,
              "#0d0887"
             ],
             [
              0.1111111111111111,
              "#46039f"
             ],
             [
              0.2222222222222222,
              "#7201a8"
             ],
             [
              0.3333333333333333,
              "#9c179e"
             ],
             [
              0.4444444444444444,
              "#bd3786"
             ],
             [
              0.5555555555555556,
              "#d8576b"
             ],
             [
              0.6666666666666666,
              "#ed7953"
             ],
             [
              0.7777777777777778,
              "#fb9f3a"
             ],
             [
              0.8888888888888888,
              "#fdca26"
             ],
             [
              1,
              "#f0f921"
             ]
            ],
            "type": "contour"
           }
          ],
          "contourcarpet": [
           {
            "colorbar": {
             "outlinewidth": 0,
             "ticks": ""
            },
            "type": "contourcarpet"
           }
          ],
          "heatmap": [
           {
            "colorbar": {
             "outlinewidth": 0,
             "ticks": ""
            },
            "colorscale": [
             [
              0,
              "#0d0887"
             ],
             [
              0.1111111111111111,
              "#46039f"
             ],
             [
              0.2222222222222222,
              "#7201a8"
             ],
             [
              0.3333333333333333,
              "#9c179e"
             ],
             [
              0.4444444444444444,
              "#bd3786"
             ],
             [
              0.5555555555555556,
              "#d8576b"
             ],
             [
              0.6666666666666666,
              "#ed7953"
             ],
             [
              0.7777777777777778,
              "#fb9f3a"
             ],
             [
              0.8888888888888888,
              "#fdca26"
             ],
             [
              1,
              "#f0f921"
             ]
            ],
            "type": "heatmap"
           }
          ],
          "heatmapgl": [
           {
            "colorbar": {
             "outlinewidth": 0,
             "ticks": ""
            },
            "colorscale": [
             [
              0,
              "#0d0887"
             ],
             [
              0.1111111111111111,
              "#46039f"
             ],
             [
              0.2222222222222222,
              "#7201a8"
             ],
             [
              0.3333333333333333,
              "#9c179e"
             ],
             [
              0.4444444444444444,
              "#bd3786"
             ],
             [
              0.5555555555555556,
              "#d8576b"
             ],
             [
              0.6666666666666666,
              "#ed7953"
             ],
             [
              0.7777777777777778,
              "#fb9f3a"
             ],
             [
              0.8888888888888888,
              "#fdca26"
             ],
             [
              1,
              "#f0f921"
             ]
            ],
            "type": "heatmapgl"
           }
          ],
          "histogram": [
           {
            "marker": {
             "colorbar": {
              "outlinewidth": 0,
              "ticks": ""
             }
            },
            "type": "histogram"
           }
          ],
          "histogram2d": [
           {
            "colorbar": {
             "outlinewidth": 0,
             "ticks": ""
            },
            "colorscale": [
             [
              0,
              "#0d0887"
             ],
             [
              0.1111111111111111,
              "#46039f"
             ],
             [
              0.2222222222222222,
              "#7201a8"
             ],
             [
              0.3333333333333333,
              "#9c179e"
             ],
             [
              0.4444444444444444,
              "#bd3786"
             ],
             [
              0.5555555555555556,
              "#d8576b"
             ],
             [
              0.6666666666666666,
              "#ed7953"
             ],
             [
              0.7777777777777778,
              "#fb9f3a"
             ],
             [
              0.8888888888888888,
              "#fdca26"
             ],
             [
              1,
              "#f0f921"
             ]
            ],
            "type": "histogram2d"
           }
          ],
          "histogram2dcontour": [
           {
            "colorbar": {
             "outlinewidth": 0,
             "ticks": ""
            },
            "colorscale": [
             [
              0,
              "#0d0887"
             ],
             [
              0.1111111111111111,
              "#46039f"
             ],
             [
              0.2222222222222222,
              "#7201a8"
             ],
             [
              0.3333333333333333,
              "#9c179e"
             ],
             [
              0.4444444444444444,
              "#bd3786"
             ],
             [
              0.5555555555555556,
              "#d8576b"
             ],
             [
              0.6666666666666666,
              "#ed7953"
             ],
             [
              0.7777777777777778,
              "#fb9f3a"
             ],
             [
              0.8888888888888888,
              "#fdca26"
             ],
             [
              1,
              "#f0f921"
             ]
            ],
            "type": "histogram2dcontour"
           }
          ],
          "mesh3d": [
           {
            "colorbar": {
             "outlinewidth": 0,
             "ticks": ""
            },
            "type": "mesh3d"
           }
          ],
          "parcoords": [
           {
            "line": {
             "colorbar": {
              "outlinewidth": 0,
              "ticks": ""
             }
            },
            "type": "parcoords"
           }
          ],
          "pie": [
           {
            "automargin": true,
            "type": "pie"
           }
          ],
          "scatter": [
           {
            "marker": {
             "colorbar": {
              "outlinewidth": 0,
              "ticks": ""
             }
            },
            "type": "scatter"
           }
          ],
          "scatter3d": [
           {
            "line": {
             "colorbar": {
              "outlinewidth": 0,
              "ticks": ""
             }
            },
            "marker": {
             "colorbar": {
              "outlinewidth": 0,
              "ticks": ""
             }
            },
            "type": "scatter3d"
           }
          ],
          "scattercarpet": [
           {
            "marker": {
             "colorbar": {
              "outlinewidth": 0,
              "ticks": ""
             }
            },
            "type": "scattercarpet"
           }
          ],
          "scattergeo": [
           {
            "marker": {
             "colorbar": {
              "outlinewidth": 0,
              "ticks": ""
             }
            },
            "type": "scattergeo"
           }
          ],
          "scattergl": [
           {
            "marker": {
             "colorbar": {
              "outlinewidth": 0,
              "ticks": ""
             }
            },
            "type": "scattergl"
           }
          ],
          "scattermapbox": [
           {
            "marker": {
             "colorbar": {
              "outlinewidth": 0,
              "ticks": ""
             }
            },
            "type": "scattermapbox"
           }
          ],
          "scatterpolar": [
           {
            "marker": {
             "colorbar": {
              "outlinewidth": 0,
              "ticks": ""
             }
            },
            "type": "scatterpolar"
           }
          ],
          "scatterpolargl": [
           {
            "marker": {
             "colorbar": {
              "outlinewidth": 0,
              "ticks": ""
             }
            },
            "type": "scatterpolargl"
           }
          ],
          "scatterternary": [
           {
            "marker": {
             "colorbar": {
              "outlinewidth": 0,
              "ticks": ""
             }
            },
            "type": "scatterternary"
           }
          ],
          "surface": [
           {
            "colorbar": {
             "outlinewidth": 0,
             "ticks": ""
            },
            "colorscale": [
             [
              0,
              "#0d0887"
             ],
             [
              0.1111111111111111,
              "#46039f"
             ],
             [
              0.2222222222222222,
              "#7201a8"
             ],
             [
              0.3333333333333333,
              "#9c179e"
             ],
             [
              0.4444444444444444,
              "#bd3786"
             ],
             [
              0.5555555555555556,
              "#d8576b"
             ],
             [
              0.6666666666666666,
              "#ed7953"
             ],
             [
              0.7777777777777778,
              "#fb9f3a"
             ],
             [
              0.8888888888888888,
              "#fdca26"
             ],
             [
              1,
              "#f0f921"
             ]
            ],
            "type": "surface"
           }
          ],
          "table": [
           {
            "cells": {
             "fill": {
              "color": "#EBF0F8"
             },
             "line": {
              "color": "white"
             }
            },
            "header": {
             "fill": {
              "color": "#C8D4E3"
             },
             "line": {
              "color": "white"
             }
            },
            "type": "table"
           }
          ]
         },
         "layout": {
          "annotationdefaults": {
           "arrowcolor": "#2a3f5f",
           "arrowhead": 0,
           "arrowwidth": 1
          },
          "coloraxis": {
           "colorbar": {
            "outlinewidth": 0,
            "ticks": ""
           }
          },
          "colorscale": {
           "diverging": [
            [
             0,
             "#8e0152"
            ],
            [
             0.1,
             "#c51b7d"
            ],
            [
             0.2,
             "#de77ae"
            ],
            [
             0.3,
             "#f1b6da"
            ],
            [
             0.4,
             "#fde0ef"
            ],
            [
             0.5,
             "#f7f7f7"
            ],
            [
             0.6,
             "#e6f5d0"
            ],
            [
             0.7,
             "#b8e186"
            ],
            [
             0.8,
             "#7fbc41"
            ],
            [
             0.9,
             "#4d9221"
            ],
            [
             1,
             "#276419"
            ]
           ],
           "sequential": [
            [
             0,
             "#0d0887"
            ],
            [
             0.1111111111111111,
             "#46039f"
            ],
            [
             0.2222222222222222,
             "#7201a8"
            ],
            [
             0.3333333333333333,
             "#9c179e"
            ],
            [
             0.4444444444444444,
             "#bd3786"
            ],
            [
             0.5555555555555556,
             "#d8576b"
            ],
            [
             0.6666666666666666,
             "#ed7953"
            ],
            [
             0.7777777777777778,
             "#fb9f3a"
            ],
            [
             0.8888888888888888,
             "#fdca26"
            ],
            [
             1,
             "#f0f921"
            ]
           ],
           "sequentialminus": [
            [
             0,
             "#0d0887"
            ],
            [
             0.1111111111111111,
             "#46039f"
            ],
            [
             0.2222222222222222,
             "#7201a8"
            ],
            [
             0.3333333333333333,
             "#9c179e"
            ],
            [
             0.4444444444444444,
             "#bd3786"
            ],
            [
             0.5555555555555556,
             "#d8576b"
            ],
            [
             0.6666666666666666,
             "#ed7953"
            ],
            [
             0.7777777777777778,
             "#fb9f3a"
            ],
            [
             0.8888888888888888,
             "#fdca26"
            ],
            [
             1,
             "#f0f921"
            ]
           ]
          },
          "colorway": [
           "#636efa",
           "#EF553B",
           "#00cc96",
           "#ab63fa",
           "#FFA15A",
           "#19d3f3",
           "#FF6692",
           "#B6E880",
           "#FF97FF",
           "#FECB52"
          ],
          "font": {
           "color": "#2a3f5f"
          },
          "geo": {
           "bgcolor": "white",
           "lakecolor": "white",
           "landcolor": "#E5ECF6",
           "showlakes": true,
           "showland": true,
           "subunitcolor": "white"
          },
          "hoverlabel": {
           "align": "left"
          },
          "hovermode": "closest",
          "mapbox": {
           "style": "light"
          },
          "paper_bgcolor": "white",
          "plot_bgcolor": "#E5ECF6",
          "polar": {
           "angularaxis": {
            "gridcolor": "white",
            "linecolor": "white",
            "ticks": ""
           },
           "bgcolor": "#E5ECF6",
           "radialaxis": {
            "gridcolor": "white",
            "linecolor": "white",
            "ticks": ""
           }
          },
          "scene": {
           "xaxis": {
            "backgroundcolor": "#E5ECF6",
            "gridcolor": "white",
            "gridwidth": 2,
            "linecolor": "white",
            "showbackground": true,
            "ticks": "",
            "zerolinecolor": "white"
           },
           "yaxis": {
            "backgroundcolor": "#E5ECF6",
            "gridcolor": "white",
            "gridwidth": 2,
            "linecolor": "white",
            "showbackground": true,
            "ticks": "",
            "zerolinecolor": "white"
           },
           "zaxis": {
            "backgroundcolor": "#E5ECF6",
            "gridcolor": "white",
            "gridwidth": 2,
            "linecolor": "white",
            "showbackground": true,
            "ticks": "",
            "zerolinecolor": "white"
           }
          },
          "shapedefaults": {
           "line": {
            "color": "#2a3f5f"
           }
          },
          "ternary": {
           "aaxis": {
            "gridcolor": "white",
            "linecolor": "white",
            "ticks": ""
           },
           "baxis": {
            "gridcolor": "white",
            "linecolor": "white",
            "ticks": ""
           },
           "bgcolor": "#E5ECF6",
           "caxis": {
            "gridcolor": "white",
            "linecolor": "white",
            "ticks": ""
           }
          },
          "title": {
           "x": 0.05
          },
          "xaxis": {
           "automargin": true,
           "gridcolor": "white",
           "linecolor": "white",
           "ticks": "",
           "title": {
            "standoff": 15
           },
           "zerolinecolor": "white",
           "zerolinewidth": 2
          },
          "yaxis": {
           "automargin": true,
           "gridcolor": "white",
           "linecolor": "white",
           "ticks": "",
           "title": {
            "standoff": 15
           },
           "zerolinecolor": "white",
           "zerolinewidth": 2
          }
         }
        },
        "width": 1000
       }
      },
      "text/html": [
       "<div>\n",
       "        \n",
       "        \n",
       "            <div id=\"ddb1628c-a416-4329-82c7-6e9528fdbf52\" class=\"plotly-graph-div\" style=\"height:1000px; width:1000px;\"></div>\n",
       "            <script type=\"text/javascript\">\n",
       "                require([\"plotly\"], function(Plotly) {\n",
       "                    window.PLOTLYENV=window.PLOTLYENV || {};\n",
       "                    \n",
       "                if (document.getElementById(\"ddb1628c-a416-4329-82c7-6e9528fdbf52\")) {\n",
       "                    Plotly.newPlot(\n",
       "                        'ddb1628c-a416-4329-82c7-6e9528fdbf52',\n",
       "                        [{\"cells\": {\"align\": \"left\", \"values\": [[\"Min\", \"Max\", \"Effectif\", \"Moyenne\", \"M\\u00e9diane\"], [3.0, 19.0, 24.0, 9.88, 9.0], [3.0, 19.0, 24.0, 10.29, 9.5], [4.0, 17.0, 24.0, 8.88, 8.5], [10.0, 54.0, 24.0, 29.04, 26.0], [61.0, 147.0, 24.0, 98.21, 92.0], [1.0, 99.0, 24.0, 45.5, 29.5], [57.0, 136.0, 24.0, 91.88, 86.0], [70.0, 149.0, 24.0, 104.88, 99.0]]}, \"header\": {\"align\": \"left\", \"values\": [\"Aggr\\u00e9gation\", \"Note standard Similitudes\", \"Note standard Vocabulaire\", \"Note standard Information\", \"Total des notes standards ICV\", \"Note composite ICV\", \"Rang percentile ICV\", \"Note \\u00e9cart type inf\\u00e9rieure ICV\", \"Note \\u00e9cart type sup\\u00e9rieure ICV\"]}, \"type\": \"table\"}],\n",
       "                        {\"height\": 1000, \"template\": {\"data\": {\"bar\": [{\"error_x\": {\"color\": \"#2a3f5f\"}, \"error_y\": {\"color\": \"#2a3f5f\"}, \"marker\": {\"line\": {\"color\": \"#E5ECF6\", \"width\": 0.5}}, \"type\": \"bar\"}], \"barpolar\": [{\"marker\": {\"line\": {\"color\": \"#E5ECF6\", \"width\": 0.5}}, \"type\": \"barpolar\"}], \"carpet\": [{\"aaxis\": {\"endlinecolor\": \"#2a3f5f\", \"gridcolor\": \"white\", \"linecolor\": \"white\", \"minorgridcolor\": \"white\", \"startlinecolor\": \"#2a3f5f\"}, \"baxis\": {\"endlinecolor\": \"#2a3f5f\", \"gridcolor\": \"white\", \"linecolor\": \"white\", \"minorgridcolor\": \"white\", \"startlinecolor\": \"#2a3f5f\"}, \"type\": \"carpet\"}], \"choropleth\": [{\"colorbar\": {\"outlinewidth\": 0, \"ticks\": \"\"}, \"type\": \"choropleth\"}], \"contour\": [{\"colorbar\": {\"outlinewidth\": 0, \"ticks\": \"\"}, \"colorscale\": [[0.0, \"#0d0887\"], [0.1111111111111111, \"#46039f\"], [0.2222222222222222, \"#7201a8\"], [0.3333333333333333, \"#9c179e\"], [0.4444444444444444, \"#bd3786\"], [0.5555555555555556, \"#d8576b\"], [0.6666666666666666, \"#ed7953\"], [0.7777777777777778, \"#fb9f3a\"], [0.8888888888888888, \"#fdca26\"], [1.0, \"#f0f921\"]], \"type\": \"contour\"}], \"contourcarpet\": [{\"colorbar\": {\"outlinewidth\": 0, \"ticks\": \"\"}, \"type\": \"contourcarpet\"}], \"heatmap\": [{\"colorbar\": {\"outlinewidth\": 0, \"ticks\": \"\"}, \"colorscale\": [[0.0, \"#0d0887\"], [0.1111111111111111, \"#46039f\"], [0.2222222222222222, \"#7201a8\"], [0.3333333333333333, \"#9c179e\"], [0.4444444444444444, \"#bd3786\"], [0.5555555555555556, \"#d8576b\"], [0.6666666666666666, \"#ed7953\"], [0.7777777777777778, \"#fb9f3a\"], [0.8888888888888888, \"#fdca26\"], [1.0, \"#f0f921\"]], \"type\": \"heatmap\"}], \"heatmapgl\": [{\"colorbar\": {\"outlinewidth\": 0, \"ticks\": \"\"}, \"colorscale\": [[0.0, \"#0d0887\"], [0.1111111111111111, \"#46039f\"], [0.2222222222222222, \"#7201a8\"], [0.3333333333333333, \"#9c179e\"], [0.4444444444444444, \"#bd3786\"], [0.5555555555555556, \"#d8576b\"], [0.6666666666666666, \"#ed7953\"], [0.7777777777777778, \"#fb9f3a\"], [0.8888888888888888, \"#fdca26\"], [1.0, \"#f0f921\"]], \"type\": \"heatmapgl\"}], \"histogram\": [{\"marker\": {\"colorbar\": {\"outlinewidth\": 0, \"ticks\": \"\"}}, \"type\": \"histogram\"}], \"histogram2d\": [{\"colorbar\": {\"outlinewidth\": 0, \"ticks\": \"\"}, \"colorscale\": [[0.0, \"#0d0887\"], [0.1111111111111111, \"#46039f\"], [0.2222222222222222, \"#7201a8\"], [0.3333333333333333, \"#9c179e\"], [0.4444444444444444, \"#bd3786\"], [0.5555555555555556, \"#d8576b\"], [0.6666666666666666, \"#ed7953\"], [0.7777777777777778, \"#fb9f3a\"], [0.8888888888888888, \"#fdca26\"], [1.0, \"#f0f921\"]], \"type\": \"histogram2d\"}], \"histogram2dcontour\": [{\"colorbar\": {\"outlinewidth\": 0, \"ticks\": \"\"}, \"colorscale\": [[0.0, \"#0d0887\"], [0.1111111111111111, \"#46039f\"], [0.2222222222222222, \"#7201a8\"], [0.3333333333333333, \"#9c179e\"], [0.4444444444444444, \"#bd3786\"], [0.5555555555555556, \"#d8576b\"], [0.6666666666666666, \"#ed7953\"], [0.7777777777777778, \"#fb9f3a\"], [0.8888888888888888, \"#fdca26\"], [1.0, \"#f0f921\"]], \"type\": \"histogram2dcontour\"}], \"mesh3d\": [{\"colorbar\": {\"outlinewidth\": 0, \"ticks\": \"\"}, \"type\": \"mesh3d\"}], \"parcoords\": [{\"line\": {\"colorbar\": {\"outlinewidth\": 0, \"ticks\": \"\"}}, \"type\": \"parcoords\"}], \"pie\": [{\"automargin\": true, \"type\": \"pie\"}], \"scatter\": [{\"marker\": {\"colorbar\": {\"outlinewidth\": 0, \"ticks\": \"\"}}, \"type\": \"scatter\"}], \"scatter3d\": [{\"line\": {\"colorbar\": {\"outlinewidth\": 0, \"ticks\": \"\"}}, \"marker\": {\"colorbar\": {\"outlinewidth\": 0, \"ticks\": \"\"}}, \"type\": \"scatter3d\"}], \"scattercarpet\": [{\"marker\": {\"colorbar\": {\"outlinewidth\": 0, \"ticks\": \"\"}}, \"type\": \"scattercarpet\"}], \"scattergeo\": [{\"marker\": {\"colorbar\": {\"outlinewidth\": 0, \"ticks\": \"\"}}, \"type\": \"scattergeo\"}], \"scattergl\": [{\"marker\": {\"colorbar\": {\"outlinewidth\": 0, \"ticks\": \"\"}}, \"type\": \"scattergl\"}], \"scattermapbox\": [{\"marker\": {\"colorbar\": {\"outlinewidth\": 0, \"ticks\": \"\"}}, \"type\": \"scattermapbox\"}], \"scatterpolar\": [{\"marker\": {\"colorbar\": {\"outlinewidth\": 0, \"ticks\": \"\"}}, \"type\": \"scatterpolar\"}], \"scatterpolargl\": [{\"marker\": {\"colorbar\": {\"outlinewidth\": 0, \"ticks\": \"\"}}, \"type\": \"scatterpolargl\"}], \"scatterternary\": [{\"marker\": {\"colorbar\": {\"outlinewidth\": 0, \"ticks\": \"\"}}, \"type\": \"scatterternary\"}], \"surface\": [{\"colorbar\": {\"outlinewidth\": 0, \"ticks\": \"\"}, \"colorscale\": [[0.0, \"#0d0887\"], [0.1111111111111111, \"#46039f\"], [0.2222222222222222, \"#7201a8\"], [0.3333333333333333, \"#9c179e\"], [0.4444444444444444, \"#bd3786\"], [0.5555555555555556, \"#d8576b\"], [0.6666666666666666, \"#ed7953\"], [0.7777777777777778, \"#fb9f3a\"], [0.8888888888888888, \"#fdca26\"], [1.0, \"#f0f921\"]], \"type\": \"surface\"}], \"table\": [{\"cells\": {\"fill\": {\"color\": \"#EBF0F8\"}, \"line\": {\"color\": \"white\"}}, \"header\": {\"fill\": {\"color\": \"#C8D4E3\"}, \"line\": {\"color\": \"white\"}}, \"type\": \"table\"}]}, \"layout\": {\"annotationdefaults\": {\"arrowcolor\": \"#2a3f5f\", \"arrowhead\": 0, \"arrowwidth\": 1}, \"coloraxis\": {\"colorbar\": {\"outlinewidth\": 0, \"ticks\": \"\"}}, \"colorscale\": {\"diverging\": [[0, \"#8e0152\"], [0.1, \"#c51b7d\"], [0.2, \"#de77ae\"], [0.3, \"#f1b6da\"], [0.4, \"#fde0ef\"], [0.5, \"#f7f7f7\"], [0.6, \"#e6f5d0\"], [0.7, \"#b8e186\"], [0.8, \"#7fbc41\"], [0.9, \"#4d9221\"], [1, \"#276419\"]], \"sequential\": [[0.0, \"#0d0887\"], [0.1111111111111111, \"#46039f\"], [0.2222222222222222, \"#7201a8\"], [0.3333333333333333, \"#9c179e\"], [0.4444444444444444, \"#bd3786\"], [0.5555555555555556, \"#d8576b\"], [0.6666666666666666, \"#ed7953\"], [0.7777777777777778, \"#fb9f3a\"], [0.8888888888888888, \"#fdca26\"], [1.0, \"#f0f921\"]], \"sequentialminus\": [[0.0, \"#0d0887\"], [0.1111111111111111, \"#46039f\"], [0.2222222222222222, \"#7201a8\"], [0.3333333333333333, \"#9c179e\"], [0.4444444444444444, \"#bd3786\"], [0.5555555555555556, \"#d8576b\"], [0.6666666666666666, \"#ed7953\"], [0.7777777777777778, \"#fb9f3a\"], [0.8888888888888888, \"#fdca26\"], [1.0, \"#f0f921\"]]}, \"colorway\": [\"#636efa\", \"#EF553B\", \"#00cc96\", \"#ab63fa\", \"#FFA15A\", \"#19d3f3\", \"#FF6692\", \"#B6E880\", \"#FF97FF\", \"#FECB52\"], \"font\": {\"color\": \"#2a3f5f\"}, \"geo\": {\"bgcolor\": \"white\", \"lakecolor\": \"white\", \"landcolor\": \"#E5ECF6\", \"showlakes\": true, \"showland\": true, \"subunitcolor\": \"white\"}, \"hoverlabel\": {\"align\": \"left\"}, \"hovermode\": \"closest\", \"mapbox\": {\"style\": \"light\"}, \"paper_bgcolor\": \"white\", \"plot_bgcolor\": \"#E5ECF6\", \"polar\": {\"angularaxis\": {\"gridcolor\": \"white\", \"linecolor\": \"white\", \"ticks\": \"\"}, \"bgcolor\": \"#E5ECF6\", \"radialaxis\": {\"gridcolor\": \"white\", \"linecolor\": \"white\", \"ticks\": \"\"}}, \"scene\": {\"xaxis\": {\"backgroundcolor\": \"#E5ECF6\", \"gridcolor\": \"white\", \"gridwidth\": 2, \"linecolor\": \"white\", \"showbackground\": true, \"ticks\": \"\", \"zerolinecolor\": \"white\"}, \"yaxis\": {\"backgroundcolor\": \"#E5ECF6\", \"gridcolor\": \"white\", \"gridwidth\": 2, \"linecolor\": \"white\", \"showbackground\": true, \"ticks\": \"\", \"zerolinecolor\": \"white\"}, \"zaxis\": {\"backgroundcolor\": \"#E5ECF6\", \"gridcolor\": \"white\", \"gridwidth\": 2, \"linecolor\": \"white\", \"showbackground\": true, \"ticks\": \"\", \"zerolinecolor\": \"white\"}}, \"shapedefaults\": {\"line\": {\"color\": \"#2a3f5f\"}}, \"ternary\": {\"aaxis\": {\"gridcolor\": \"white\", \"linecolor\": \"white\", \"ticks\": \"\"}, \"baxis\": {\"gridcolor\": \"white\", \"linecolor\": \"white\", \"ticks\": \"\"}, \"bgcolor\": \"#E5ECF6\", \"caxis\": {\"gridcolor\": \"white\", \"linecolor\": \"white\", \"ticks\": \"\"}}, \"title\": {\"x\": 0.05}, \"xaxis\": {\"automargin\": true, \"gridcolor\": \"white\", \"linecolor\": \"white\", \"ticks\": \"\", \"title\": {\"standoff\": 15}, \"zerolinecolor\": \"white\", \"zerolinewidth\": 2}, \"yaxis\": {\"automargin\": true, \"gridcolor\": \"white\", \"linecolor\": \"white\", \"ticks\": \"\", \"title\": {\"standoff\": 15}, \"zerolinecolor\": \"white\", \"zerolinewidth\": 2}}}, \"width\": 1000},\n",
       "                        {\"responsive\": true}\n",
       "                    ).then(function(){\n",
       "                            \n",
       "var gd = document.getElementById('ddb1628c-a416-4329-82c7-6e9528fdbf52');\n",
       "var x = new MutationObserver(function (mutations, observer) {{\n",
       "        var display = window.getComputedStyle(gd).display;\n",
       "        if (!display || display === 'none') {{\n",
       "            console.log([gd, 'removed!']);\n",
       "            Plotly.purge(gd);\n",
       "            observer.disconnect();\n",
       "        }}\n",
       "}});\n",
       "\n",
       "// Listen for the removal of the full notebook cells\n",
       "var notebookContainer = gd.closest('#notebook-container');\n",
       "if (notebookContainer) {{\n",
       "    x.observe(notebookContainer, {childList: true});\n",
       "}}\n",
       "\n",
       "// Listen for the clearing of the current output cell\n",
       "var outputEl = gd.closest('.output');\n",
       "if (outputEl) {{\n",
       "    x.observe(outputEl, {childList: true});\n",
       "}}\n",
       "\n",
       "                        })\n",
       "                };\n",
       "                });\n",
       "            </script>\n",
       "        </div>"
      ]
     },
     "metadata": {},
     "output_type": "display_data"
    }
   ],
   "source": [
    "fig = go.Figure(data=wais_sub)\n",
    "fig.update_layout(width=1000, height=1000)\n",
    "fig.show()"
   ]
  },
  {
   "cell_type": "code",
   "execution_count": 100,
   "metadata": {
    "ExecuteTime": {
     "end_time": "2020-11-26T13:42:52.755424Z",
     "start_time": "2020-11-26T13:42:52.751982Z"
    }
   },
   "outputs": [
    {
     "data": {
      "text/html": [
       "<h5>2.1. WAIS IRP</h5>"
      ],
      "text/plain": [
       "<IPython.core.display.HTML object>"
      ]
     },
     "metadata": {},
     "output_type": "display_data"
    }
   ],
   "source": [
    "display(HTML('<h5>2.1. WAIS IRP</h5>'))"
   ]
  },
  {
   "cell_type": "code",
   "execution_count": 101,
   "metadata": {
    "ExecuteTime": {
     "end_time": "2020-11-26T13:42:56.868789Z",
     "start_time": "2020-11-26T13:42:56.865151Z"
    }
   },
   "outputs": [],
   "source": [
    "age_moy = df_wais[df_wais['Total des notes standards IRP'].notna()]['age'].mean()"
   ]
  },
  {
   "cell_type": "code",
   "execution_count": 102,
   "metadata": {
    "ExecuteTime": {
     "end_time": "2020-11-26T13:42:57.589887Z",
     "start_time": "2020-11-26T13:42:57.586199Z"
    }
   },
   "outputs": [
    {
     "data": {
      "text/html": [
       "<p>Moyenne d'âge : 40.14</p>"
      ],
      "text/plain": [
       "<IPython.core.display.HTML object>"
      ]
     },
     "metadata": {},
     "output_type": "display_data"
    }
   ],
   "source": [
    "display(HTML(\"<p>Moyenne d'âge : \"+str(round(age_moy,2))+\"</p>\"))"
   ]
  },
  {
   "cell_type": "code",
   "execution_count": 103,
   "metadata": {
    "ExecuteTime": {
     "end_time": "2020-11-26T13:42:58.266766Z",
     "start_time": "2020-11-26T13:42:58.263081Z"
    }
   },
   "outputs": [],
   "source": [
    "df_wais_sub= df_wais.iloc[:,[0,1,2,-1,14, 15, 16, 17, 18, 19, 20, 21]]"
   ]
  },
  {
   "cell_type": "code",
   "execution_count": 104,
   "metadata": {
    "ExecuteTime": {
     "end_time": "2020-11-26T13:42:59.187272Z",
     "start_time": "2020-11-26T13:42:59.184620Z"
    }
   },
   "outputs": [],
   "source": [
    "subplot_titles = df_wais_sub.columns.values.tolist()"
   ]
  },
  {
   "cell_type": "code",
   "execution_count": 105,
   "metadata": {
    "ExecuteTime": {
     "end_time": "2020-11-26T13:43:00.109645Z",
     "start_time": "2020-11-26T13:42:59.923262Z"
    }
   },
   "outputs": [],
   "source": [
    "fig_wais_sub = make_subplots(\n",
    "    rows=4, cols=2,\n",
    "    shared_xaxes=False,\n",
    "    row_heights=[0.20, 0.20, 0.20, 0.20],\n",
    "    column_widths=[0.5, 0.5],\n",
    "    subplot_titles= subplot_titles[4:],\n",
    "    x_title='Âge',\n",
    "    y_title='Score',\n",
    "    vertical_spacing= 0.04 )\n",
    "df_wais_sub = df_wais_sub.sort_values(by=['age'])"
   ]
  },
  {
   "cell_type": "code",
   "execution_count": 106,
   "metadata": {
    "ExecuteTime": {
     "end_time": "2020-11-26T13:43:00.818180Z",
     "start_time": "2020-11-26T13:43:00.727836Z"
    }
   },
   "outputs": [
    {
     "data": {
      "application/vnd.plotly.v1+json": {
       "config": {
        "plotlyServerURL": "https://plot.ly"
       },
       "data": [
        {
         "hovertext": [
          "EA 6F FF DE 42, Type 2",
          "90 01 09 71 F0, Type 2",
          "31 19 64 3D 10, Type 2",
          "D7 FC 44 05 CA, Type 2",
          "64 0B 1B 0A 45, Type 2",
          "8A 77 B8 09 AD, Type 2",
          "02 88 A7 94 50, Type 2",
          "51 B7 6E C2 FD, Type 2",
          "A4 03 5A F0 57, Type 2",
          "90 A6 58 8A AD, Type 2",
          "F5 E4 FD A4 9F, Type 2",
          "76 8F 56 DE 15, Type 2",
          "3D F6 5A B4 9D, Type 2",
          "A6 FD C4 C0 69, Type 2",
          "4F 9C 21 D3 31, Type 2",
          "94 EB 19 B7 18, Type 2",
          "0F 30 93 5E 0E, Type 2",
          "A2 C1 35 C2 8C, Type 2",
          "19 01 73 04 E2, Type 2",
          "CA A2 77 FC 22, Type 2",
          "96 DD DC FE E3, Type 2",
          "21 36 06 E2 38, Type 2",
          "B7 CA E8 BC 99, Type 2",
          "EF 4A CF 20 AF, Type 2"
         ],
         "marker": {
          "color": [
           "#B3D9FF",
           "#B3D9FF",
           "#B3D9FF",
           "#B3D9FF",
           "#B3D9FF",
           "#B3D9FF",
           "#B3D9FF",
           "#B3D9FF",
           "#B3D9FF",
           "#B3D9FF",
           "#B3D9FF",
           "#B3D9FF",
           "#B3D9FF",
           "#B3D9FF",
           "#B3D9FF",
           "#B3D9FF",
           "#B3D9FF",
           "#B3D9FF",
           "#B3D9FF",
           "#B3D9FF",
           "#B3D9FF",
           "#B3D9FF",
           "#B3D9FF",
           "#B3D9FF"
          ],
          "size": 10
         },
         "mode": "markers+text",
         "type": "scatter",
         "x": [
          25,
          27,
          35,
          37,
          38,
          38,
          39,
          40,
          40,
          42,
          44,
          45,
          46,
          49,
          53,
          57,
          59,
          59,
          59,
          60,
          64,
          68,
          73,
          74
         ],
         "xaxis": "x",
         "y": [
          3,
          9,
          12,
          13,
          17,
          16,
          10,
          14,
          14,
          8,
          14,
          8,
          15,
          15,
          null,
          14,
          8,
          null,
          10,
          null,
          null,
          null,
          null,
          null
         ],
         "yaxis": "y"
        },
        {
         "hovertext": [
          "EA 6F FF DE 42, Type 2",
          "90 01 09 71 F0, Type 2",
          "31 19 64 3D 10, Type 2",
          "D7 FC 44 05 CA, Type 2",
          "64 0B 1B 0A 45, Type 2",
          "8A 77 B8 09 AD, Type 2",
          "02 88 A7 94 50, Type 2",
          "51 B7 6E C2 FD, Type 2",
          "A4 03 5A F0 57, Type 2",
          "90 A6 58 8A AD, Type 2",
          "F5 E4 FD A4 9F, Type 2",
          "76 8F 56 DE 15, Type 2",
          "3D F6 5A B4 9D, Type 2",
          "A6 FD C4 C0 69, Type 2",
          "4F 9C 21 D3 31, Type 2",
          "94 EB 19 B7 18, Type 2",
          "0F 30 93 5E 0E, Type 2",
          "A2 C1 35 C2 8C, Type 2",
          "19 01 73 04 E2, Type 2",
          "CA A2 77 FC 22, Type 2",
          "96 DD DC FE E3, Type 2",
          "21 36 06 E2 38, Type 2",
          "B7 CA E8 BC 99, Type 2",
          "EF 4A CF 20 AF, Type 2"
         ],
         "marker": {
          "color": [
           "#B3D9FF",
           "#B3D9FF",
           "#B3D9FF",
           "#B3D9FF",
           "#B3D9FF",
           "#B3D9FF",
           "#B3D9FF",
           "#B3D9FF",
           "#B3D9FF",
           "#B3D9FF",
           "#B3D9FF",
           "#B3D9FF",
           "#B3D9FF",
           "#B3D9FF",
           "#B3D9FF",
           "#B3D9FF",
           "#B3D9FF",
           "#B3D9FF",
           "#B3D9FF",
           "#B3D9FF",
           "#B3D9FF",
           "#B3D9FF",
           "#B3D9FF",
           "#B3D9FF"
          ],
          "size": 10
         },
         "mode": "markers+text",
         "type": "scatter",
         "x": [
          25,
          27,
          35,
          37,
          38,
          38,
          39,
          40,
          40,
          42,
          44,
          45,
          46,
          49,
          53,
          57,
          59,
          59,
          59,
          60,
          64,
          68,
          73,
          74
         ],
         "xaxis": "x2",
         "y": [
          2,
          10,
          8,
          10,
          12,
          12,
          12,
          13,
          12,
          9,
          12,
          11,
          14,
          12,
          null,
          11,
          8,
          null,
          10,
          null,
          null,
          null,
          null,
          null
         ],
         "yaxis": "y2"
        },
        {
         "hovertext": [
          "EA 6F FF DE 42, Type 2",
          "90 01 09 71 F0, Type 2",
          "31 19 64 3D 10, Type 2",
          "D7 FC 44 05 CA, Type 2",
          "64 0B 1B 0A 45, Type 2",
          "8A 77 B8 09 AD, Type 2",
          "02 88 A7 94 50, Type 2",
          "51 B7 6E C2 FD, Type 2",
          "A4 03 5A F0 57, Type 2",
          "90 A6 58 8A AD, Type 2",
          "F5 E4 FD A4 9F, Type 2",
          "76 8F 56 DE 15, Type 2",
          "3D F6 5A B4 9D, Type 2",
          "A6 FD C4 C0 69, Type 2",
          "4F 9C 21 D3 31, Type 2",
          "94 EB 19 B7 18, Type 2",
          "0F 30 93 5E 0E, Type 2",
          "A2 C1 35 C2 8C, Type 2",
          "19 01 73 04 E2, Type 2",
          "CA A2 77 FC 22, Type 2",
          "96 DD DC FE E3, Type 2",
          "21 36 06 E2 38, Type 2",
          "B7 CA E8 BC 99, Type 2",
          "EF 4A CF 20 AF, Type 2"
         ],
         "marker": {
          "color": [
           "#B3D9FF",
           "#B3D9FF",
           "#B3D9FF",
           "#B3D9FF",
           "#B3D9FF",
           "#B3D9FF",
           "#B3D9FF",
           "#B3D9FF",
           "#B3D9FF",
           "#B3D9FF",
           "#B3D9FF",
           "#B3D9FF",
           "#B3D9FF",
           "#B3D9FF",
           "#B3D9FF",
           "#B3D9FF",
           "#B3D9FF",
           "#B3D9FF",
           "#B3D9FF",
           "#B3D9FF",
           "#B3D9FF",
           "#B3D9FF",
           "#B3D9FF",
           "#B3D9FF"
          ],
          "size": 10
         },
         "mode": "markers+text",
         "type": "scatter",
         "x": [
          25,
          27,
          35,
          37,
          38,
          38,
          39,
          40,
          40,
          42,
          44,
          45,
          46,
          49,
          53,
          57,
          59,
          59,
          59,
          60,
          64,
          68,
          73,
          74
         ],
         "xaxis": "x3",
         "y": [
          3,
          9,
          13,
          12,
          7,
          13,
          11,
          13,
          null,
          6,
          12,
          9,
          10,
          13,
          null,
          13,
          null,
          null,
          null,
          null,
          null,
          null,
          null,
          null
         ],
         "yaxis": "y3"
        },
        {
         "hovertext": [
          "EA 6F FF DE 42, Type 2",
          "90 01 09 71 F0, Type 2",
          "31 19 64 3D 10, Type 2",
          "D7 FC 44 05 CA, Type 2",
          "64 0B 1B 0A 45, Type 2",
          "8A 77 B8 09 AD, Type 2",
          "02 88 A7 94 50, Type 2",
          "51 B7 6E C2 FD, Type 2",
          "A4 03 5A F0 57, Type 2",
          "90 A6 58 8A AD, Type 2",
          "F5 E4 FD A4 9F, Type 2",
          "76 8F 56 DE 15, Type 2",
          "3D F6 5A B4 9D, Type 2",
          "A6 FD C4 C0 69, Type 2",
          "4F 9C 21 D3 31, Type 2",
          "94 EB 19 B7 18, Type 2",
          "0F 30 93 5E 0E, Type 2",
          "A2 C1 35 C2 8C, Type 2",
          "19 01 73 04 E2, Type 2",
          "CA A2 77 FC 22, Type 2",
          "96 DD DC FE E3, Type 2",
          "21 36 06 E2 38, Type 2",
          "B7 CA E8 BC 99, Type 2",
          "EF 4A CF 20 AF, Type 2"
         ],
         "marker": {
          "color": [
           "#B3D9FF",
           "#B3D9FF",
           "#B3D9FF",
           "#B3D9FF",
           "#B3D9FF",
           "#B3D9FF",
           "#B3D9FF",
           "#B3D9FF",
           "#B3D9FF",
           "#B3D9FF",
           "#B3D9FF",
           "#B3D9FF",
           "#B3D9FF",
           "#B3D9FF",
           "#B3D9FF",
           "#B3D9FF",
           "#B3D9FF",
           "#B3D9FF",
           "#B3D9FF",
           "#B3D9FF",
           "#B3D9FF",
           "#B3D9FF",
           "#B3D9FF",
           "#B3D9FF"
          ],
          "size": 10
         },
         "mode": "markers+text",
         "type": "scatter",
         "x": [
          25,
          27,
          35,
          37,
          38,
          38,
          39,
          40,
          40,
          42,
          44,
          45,
          46,
          49,
          53,
          57,
          59,
          59,
          59,
          60,
          64,
          68,
          73,
          74
         ],
         "xaxis": "x4",
         "y": [
          8,
          28,
          33,
          35,
          36,
          41,
          33,
          40,
          null,
          23,
          38,
          28,
          39,
          40,
          null,
          38,
          null,
          null,
          null,
          null,
          null,
          null,
          null,
          null
         ],
         "yaxis": "y4"
        },
        {
         "hovertext": [
          "EA 6F FF DE 42, Type 2",
          "90 01 09 71 F0, Type 2",
          "31 19 64 3D 10, Type 2",
          "D7 FC 44 05 CA, Type 2",
          "64 0B 1B 0A 45, Type 2",
          "8A 77 B8 09 AD, Type 2",
          "02 88 A7 94 50, Type 2",
          "51 B7 6E C2 FD, Type 2",
          "A4 03 5A F0 57, Type 2",
          "90 A6 58 8A AD, Type 2",
          "F5 E4 FD A4 9F, Type 2",
          "76 8F 56 DE 15, Type 2",
          "3D F6 5A B4 9D, Type 2",
          "A6 FD C4 C0 69, Type 2",
          "4F 9C 21 D3 31, Type 2",
          "94 EB 19 B7 18, Type 2",
          "0F 30 93 5E 0E, Type 2",
          "A2 C1 35 C2 8C, Type 2",
          "19 01 73 04 E2, Type 2",
          "CA A2 77 FC 22, Type 2",
          "96 DD DC FE E3, Type 2",
          "21 36 06 E2 38, Type 2",
          "B7 CA E8 BC 99, Type 2",
          "EF 4A CF 20 AF, Type 2"
         ],
         "marker": {
          "color": [
           "#B3D9FF",
           "#B3D9FF",
           "#B3D9FF",
           "#B3D9FF",
           "#B3D9FF",
           "#B3D9FF",
           "#B3D9FF",
           "#B3D9FF",
           "#B3D9FF",
           "#B3D9FF",
           "#B3D9FF",
           "#B3D9FF",
           "#B3D9FF",
           "#B3D9FF",
           "#B3D9FF",
           "#B3D9FF",
           "#B3D9FF",
           "#B3D9FF",
           "#B3D9FF",
           "#B3D9FF",
           "#B3D9FF",
           "#B3D9FF",
           "#B3D9FF",
           "#B3D9FF"
          ],
          "size": 10
         },
         "mode": "markers+text",
         "type": "scatter",
         "x": [
          25,
          27,
          35,
          37,
          38,
          38,
          39,
          40,
          40,
          42,
          44,
          45,
          46,
          49,
          53,
          57,
          59,
          59,
          59,
          60,
          64,
          68,
          73,
          74
         ],
         "xaxis": "x5",
         "y": [
          56,
          96,
          106,
          110,
          112,
          122,
          106,
          118,
          null,
          86,
          116,
          96,
          118,
          120,
          null,
          116,
          null,
          null,
          null,
          null,
          null,
          null,
          null,
          null
         ],
         "yaxis": "y5"
        },
        {
         "hovertext": [
          "EA 6F FF DE 42, Type 2",
          "90 01 09 71 F0, Type 2",
          "31 19 64 3D 10, Type 2",
          "D7 FC 44 05 CA, Type 2",
          "64 0B 1B 0A 45, Type 2",
          "8A 77 B8 09 AD, Type 2",
          "02 88 A7 94 50, Type 2",
          "51 B7 6E C2 FD, Type 2",
          "A4 03 5A F0 57, Type 2",
          "90 A6 58 8A AD, Type 2",
          "F5 E4 FD A4 9F, Type 2",
          "76 8F 56 DE 15, Type 2",
          "3D F6 5A B4 9D, Type 2",
          "A6 FD C4 C0 69, Type 2",
          "4F 9C 21 D3 31, Type 2",
          "94 EB 19 B7 18, Type 2",
          "0F 30 93 5E 0E, Type 2",
          "A2 C1 35 C2 8C, Type 2",
          "19 01 73 04 E2, Type 2",
          "CA A2 77 FC 22, Type 2",
          "96 DD DC FE E3, Type 2",
          "21 36 06 E2 38, Type 2",
          "B7 CA E8 BC 99, Type 2",
          "EF 4A CF 20 AF, Type 2"
         ],
         "marker": {
          "color": [
           "#B3D9FF",
           "#B3D9FF",
           "#B3D9FF",
           "#B3D9FF",
           "#B3D9FF",
           "#B3D9FF",
           "#B3D9FF",
           "#B3D9FF",
           "#B3D9FF",
           "#B3D9FF",
           "#B3D9FF",
           "#B3D9FF",
           "#B3D9FF",
           "#B3D9FF",
           "#B3D9FF",
           "#B3D9FF",
           "#B3D9FF",
           "#B3D9FF",
           "#B3D9FF",
           "#B3D9FF",
           "#B3D9FF",
           "#B3D9FF",
           "#B3D9FF",
           "#B3D9FF"
          ],
          "size": 10
         },
         "mode": "markers+text",
         "type": "scatter",
         "x": [
          25,
          27,
          35,
          37,
          38,
          38,
          39,
          40,
          40,
          42,
          44,
          45,
          46,
          49,
          53,
          57,
          59,
          59,
          59,
          60,
          64,
          68,
          73,
          74
         ],
         "xaxis": "x6",
         "y": [
          0,
          39,
          66,
          75,
          79,
          93,
          66,
          88,
          null,
          18,
          86,
          39,
          88,
          91,
          null,
          86,
          null,
          null,
          null,
          null,
          null,
          null,
          null,
          null
         ],
         "yaxis": "y6"
        },
        {
         "hovertext": [
          "EA 6F FF DE 42, Type 2",
          "90 01 09 71 F0, Type 2",
          "31 19 64 3D 10, Type 2",
          "D7 FC 44 05 CA, Type 2",
          "64 0B 1B 0A 45, Type 2",
          "8A 77 B8 09 AD, Type 2",
          "02 88 A7 94 50, Type 2",
          "51 B7 6E C2 FD, Type 2",
          "A4 03 5A F0 57, Type 2",
          "90 A6 58 8A AD, Type 2",
          "F5 E4 FD A4 9F, Type 2",
          "76 8F 56 DE 15, Type 2",
          "3D F6 5A B4 9D, Type 2",
          "A6 FD C4 C0 69, Type 2",
          "4F 9C 21 D3 31, Type 2",
          "94 EB 19 B7 18, Type 2",
          "0F 30 93 5E 0E, Type 2",
          "A2 C1 35 C2 8C, Type 2",
          "19 01 73 04 E2, Type 2",
          "CA A2 77 FC 22, Type 2",
          "96 DD DC FE E3, Type 2",
          "21 36 06 E2 38, Type 2",
          "B7 CA E8 BC 99, Type 2",
          "EF 4A CF 20 AF, Type 2"
         ],
         "marker": {
          "color": [
           "#B3D9FF",
           "#B3D9FF",
           "#B3D9FF",
           "#B3D9FF",
           "#B3D9FF",
           "#B3D9FF",
           "#B3D9FF",
           "#B3D9FF",
           "#B3D9FF",
           "#B3D9FF",
           "#B3D9FF",
           "#B3D9FF",
           "#B3D9FF",
           "#B3D9FF",
           "#B3D9FF",
           "#B3D9FF",
           "#B3D9FF",
           "#B3D9FF",
           "#B3D9FF",
           "#B3D9FF",
           "#B3D9FF",
           "#B3D9FF",
           "#B3D9FF",
           "#B3D9FF"
          ],
          "size": 10
         },
         "mode": "markers+text",
         "type": "scatter",
         "x": [
          25,
          27,
          35,
          37,
          38,
          38,
          39,
          40,
          40,
          42,
          44,
          45,
          46,
          49,
          53,
          57,
          59,
          59,
          59,
          60,
          64,
          68,
          73,
          74
         ],
         "xaxis": "x7",
         "y": [
          52,
          90,
          99,
          103,
          105,
          115,
          99,
          111,
          null,
          80,
          109,
          90,
          111,
          113,
          null,
          109,
          null,
          null,
          null,
          null,
          null,
          null,
          null,
          null
         ],
         "yaxis": "y7"
        },
        {
         "hovertext": [
          "EA 6F FF DE 42, Type 2",
          "90 01 09 71 F0, Type 2",
          "31 19 64 3D 10, Type 2",
          "D7 FC 44 05 CA, Type 2",
          "64 0B 1B 0A 45, Type 2",
          "8A 77 B8 09 AD, Type 2",
          "02 88 A7 94 50, Type 2",
          "51 B7 6E C2 FD, Type 2",
          "A4 03 5A F0 57, Type 2",
          "90 A6 58 8A AD, Type 2",
          "F5 E4 FD A4 9F, Type 2",
          "76 8F 56 DE 15, Type 2",
          "3D F6 5A B4 9D, Type 2",
          "A6 FD C4 C0 69, Type 2",
          "4F 9C 21 D3 31, Type 2",
          "94 EB 19 B7 18, Type 2",
          "0F 30 93 5E 0E, Type 2",
          "A2 C1 35 C2 8C, Type 2",
          "19 01 73 04 E2, Type 2",
          "CA A2 77 FC 22, Type 2",
          "96 DD DC FE E3, Type 2",
          "21 36 06 E2 38, Type 2",
          "B7 CA E8 BC 99, Type 2",
          "EF 4A CF 20 AF, Type 2"
         ],
         "marker": {
          "color": [
           "#B3D9FF",
           "#B3D9FF",
           "#B3D9FF",
           "#B3D9FF",
           "#B3D9FF",
           "#B3D9FF",
           "#B3D9FF",
           "#B3D9FF",
           "#B3D9FF",
           "#B3D9FF",
           "#B3D9FF",
           "#B3D9FF",
           "#B3D9FF",
           "#B3D9FF",
           "#B3D9FF",
           "#B3D9FF",
           "#B3D9FF",
           "#B3D9FF",
           "#B3D9FF",
           "#B3D9FF",
           "#B3D9FF",
           "#B3D9FF",
           "#B3D9FF",
           "#B3D9FF"
          ],
          "size": 10
         },
         "mode": "markers+text",
         "type": "scatter",
         "x": [
          25,
          27,
          35,
          37,
          38,
          38,
          39,
          40,
          40,
          42,
          44,
          45,
          46,
          49,
          53,
          57,
          59,
          59,
          59,
          60,
          64,
          68,
          73,
          74
         ],
         "xaxis": "x8",
         "y": [
          65,
          103,
          112,
          116,
          118,
          127,
          112,
          123,
          null,
          93,
          121,
          103,
          123,
          125,
          null,
          121,
          null,
          null,
          null,
          null,
          null,
          null,
          null,
          null
         ],
         "yaxis": "y8"
        }
       ],
       "layout": {
        "annotations": [
         {
          "font": {
           "size": 16
          },
          "showarrow": false,
          "text": "Note standard Cubes",
          "x": 0.225,
          "xanchor": "center",
          "xref": "paper",
          "y": 1,
          "yanchor": "bottom",
          "yref": "paper"
         },
         {
          "font": {
           "size": 16
          },
          "showarrow": false,
          "text": "Note standard Matrices",
          "x": 0.775,
          "xanchor": "center",
          "xref": "paper",
          "y": 1,
          "yanchor": "bottom",
          "yref": "paper"
         },
         {
          "font": {
           "size": 16
          },
          "showarrow": false,
          "text": "Note standard Puzzles visuels",
          "x": 0.225,
          "xanchor": "center",
          "xref": "paper",
          "y": 0.74,
          "yanchor": "bottom",
          "yref": "paper"
         },
         {
          "font": {
           "size": 16
          },
          "showarrow": false,
          "text": "Total des notes standards IRP",
          "x": 0.775,
          "xanchor": "center",
          "xref": "paper",
          "y": 0.74,
          "yanchor": "bottom",
          "yref": "paper"
         },
         {
          "font": {
           "size": 16
          },
          "showarrow": false,
          "text": "Note composite IRP",
          "x": 0.225,
          "xanchor": "center",
          "xref": "paper",
          "y": 0.48,
          "yanchor": "bottom",
          "yref": "paper"
         },
         {
          "font": {
           "size": 16
          },
          "showarrow": false,
          "text": "Rang percentile IRP",
          "x": 0.775,
          "xanchor": "center",
          "xref": "paper",
          "y": 0.48,
          "yanchor": "bottom",
          "yref": "paper"
         },
         {
          "font": {
           "size": 16
          },
          "showarrow": false,
          "text": "Note écart type inférieure IRP",
          "x": 0.225,
          "xanchor": "center",
          "xref": "paper",
          "y": 0.22,
          "yanchor": "bottom",
          "yref": "paper"
         },
         {
          "font": {
           "size": 16
          },
          "showarrow": false,
          "text": "Note écart type supérieure IRP",
          "x": 0.775,
          "xanchor": "center",
          "xref": "paper",
          "y": 0.22,
          "yanchor": "bottom",
          "yref": "paper"
         },
         {
          "font": {
           "size": 16
          },
          "showarrow": false,
          "text": "Âge",
          "x": 0.5,
          "xanchor": "center",
          "xref": "paper",
          "y": 0,
          "yanchor": "top",
          "yref": "paper",
          "yshift": -30
         },
         {
          "font": {
           "size": 16
          },
          "showarrow": false,
          "text": "Score",
          "textangle": -90,
          "x": 0,
          "xanchor": "right",
          "xref": "paper",
          "xshift": -40,
          "y": 0.5,
          "yanchor": "middle",
          "yref": "paper"
         }
        ],
        "height": 1500,
        "showlegend": false,
        "template": {
         "data": {
          "bar": [
           {
            "error_x": {
             "color": "#2a3f5f"
            },
            "error_y": {
             "color": "#2a3f5f"
            },
            "marker": {
             "line": {
              "color": "#E5ECF6",
              "width": 0.5
             }
            },
            "type": "bar"
           }
          ],
          "barpolar": [
           {
            "marker": {
             "line": {
              "color": "#E5ECF6",
              "width": 0.5
             }
            },
            "type": "barpolar"
           }
          ],
          "carpet": [
           {
            "aaxis": {
             "endlinecolor": "#2a3f5f",
             "gridcolor": "white",
             "linecolor": "white",
             "minorgridcolor": "white",
             "startlinecolor": "#2a3f5f"
            },
            "baxis": {
             "endlinecolor": "#2a3f5f",
             "gridcolor": "white",
             "linecolor": "white",
             "minorgridcolor": "white",
             "startlinecolor": "#2a3f5f"
            },
            "type": "carpet"
           }
          ],
          "choropleth": [
           {
            "colorbar": {
             "outlinewidth": 0,
             "ticks": ""
            },
            "type": "choropleth"
           }
          ],
          "contour": [
           {
            "colorbar": {
             "outlinewidth": 0,
             "ticks": ""
            },
            "colorscale": [
             [
              0,
              "#0d0887"
             ],
             [
              0.1111111111111111,
              "#46039f"
             ],
             [
              0.2222222222222222,
              "#7201a8"
             ],
             [
              0.3333333333333333,
              "#9c179e"
             ],
             [
              0.4444444444444444,
              "#bd3786"
             ],
             [
              0.5555555555555556,
              "#d8576b"
             ],
             [
              0.6666666666666666,
              "#ed7953"
             ],
             [
              0.7777777777777778,
              "#fb9f3a"
             ],
             [
              0.8888888888888888,
              "#fdca26"
             ],
             [
              1,
              "#f0f921"
             ]
            ],
            "type": "contour"
           }
          ],
          "contourcarpet": [
           {
            "colorbar": {
             "outlinewidth": 0,
             "ticks": ""
            },
            "type": "contourcarpet"
           }
          ],
          "heatmap": [
           {
            "colorbar": {
             "outlinewidth": 0,
             "ticks": ""
            },
            "colorscale": [
             [
              0,
              "#0d0887"
             ],
             [
              0.1111111111111111,
              "#46039f"
             ],
             [
              0.2222222222222222,
              "#7201a8"
             ],
             [
              0.3333333333333333,
              "#9c179e"
             ],
             [
              0.4444444444444444,
              "#bd3786"
             ],
             [
              0.5555555555555556,
              "#d8576b"
             ],
             [
              0.6666666666666666,
              "#ed7953"
             ],
             [
              0.7777777777777778,
              "#fb9f3a"
             ],
             [
              0.8888888888888888,
              "#fdca26"
             ],
             [
              1,
              "#f0f921"
             ]
            ],
            "type": "heatmap"
           }
          ],
          "heatmapgl": [
           {
            "colorbar": {
             "outlinewidth": 0,
             "ticks": ""
            },
            "colorscale": [
             [
              0,
              "#0d0887"
             ],
             [
              0.1111111111111111,
              "#46039f"
             ],
             [
              0.2222222222222222,
              "#7201a8"
             ],
             [
              0.3333333333333333,
              "#9c179e"
             ],
             [
              0.4444444444444444,
              "#bd3786"
             ],
             [
              0.5555555555555556,
              "#d8576b"
             ],
             [
              0.6666666666666666,
              "#ed7953"
             ],
             [
              0.7777777777777778,
              "#fb9f3a"
             ],
             [
              0.8888888888888888,
              "#fdca26"
             ],
             [
              1,
              "#f0f921"
             ]
            ],
            "type": "heatmapgl"
           }
          ],
          "histogram": [
           {
            "marker": {
             "colorbar": {
              "outlinewidth": 0,
              "ticks": ""
             }
            },
            "type": "histogram"
           }
          ],
          "histogram2d": [
           {
            "colorbar": {
             "outlinewidth": 0,
             "ticks": ""
            },
            "colorscale": [
             [
              0,
              "#0d0887"
             ],
             [
              0.1111111111111111,
              "#46039f"
             ],
             [
              0.2222222222222222,
              "#7201a8"
             ],
             [
              0.3333333333333333,
              "#9c179e"
             ],
             [
              0.4444444444444444,
              "#bd3786"
             ],
             [
              0.5555555555555556,
              "#d8576b"
             ],
             [
              0.6666666666666666,
              "#ed7953"
             ],
             [
              0.7777777777777778,
              "#fb9f3a"
             ],
             [
              0.8888888888888888,
              "#fdca26"
             ],
             [
              1,
              "#f0f921"
             ]
            ],
            "type": "histogram2d"
           }
          ],
          "histogram2dcontour": [
           {
            "colorbar": {
             "outlinewidth": 0,
             "ticks": ""
            },
            "colorscale": [
             [
              0,
              "#0d0887"
             ],
             [
              0.1111111111111111,
              "#46039f"
             ],
             [
              0.2222222222222222,
              "#7201a8"
             ],
             [
              0.3333333333333333,
              "#9c179e"
             ],
             [
              0.4444444444444444,
              "#bd3786"
             ],
             [
              0.5555555555555556,
              "#d8576b"
             ],
             [
              0.6666666666666666,
              "#ed7953"
             ],
             [
              0.7777777777777778,
              "#fb9f3a"
             ],
             [
              0.8888888888888888,
              "#fdca26"
             ],
             [
              1,
              "#f0f921"
             ]
            ],
            "type": "histogram2dcontour"
           }
          ],
          "mesh3d": [
           {
            "colorbar": {
             "outlinewidth": 0,
             "ticks": ""
            },
            "type": "mesh3d"
           }
          ],
          "parcoords": [
           {
            "line": {
             "colorbar": {
              "outlinewidth": 0,
              "ticks": ""
             }
            },
            "type": "parcoords"
           }
          ],
          "pie": [
           {
            "automargin": true,
            "type": "pie"
           }
          ],
          "scatter": [
           {
            "marker": {
             "colorbar": {
              "outlinewidth": 0,
              "ticks": ""
             }
            },
            "type": "scatter"
           }
          ],
          "scatter3d": [
           {
            "line": {
             "colorbar": {
              "outlinewidth": 0,
              "ticks": ""
             }
            },
            "marker": {
             "colorbar": {
              "outlinewidth": 0,
              "ticks": ""
             }
            },
            "type": "scatter3d"
           }
          ],
          "scattercarpet": [
           {
            "marker": {
             "colorbar": {
              "outlinewidth": 0,
              "ticks": ""
             }
            },
            "type": "scattercarpet"
           }
          ],
          "scattergeo": [
           {
            "marker": {
             "colorbar": {
              "outlinewidth": 0,
              "ticks": ""
             }
            },
            "type": "scattergeo"
           }
          ],
          "scattergl": [
           {
            "marker": {
             "colorbar": {
              "outlinewidth": 0,
              "ticks": ""
             }
            },
            "type": "scattergl"
           }
          ],
          "scattermapbox": [
           {
            "marker": {
             "colorbar": {
              "outlinewidth": 0,
              "ticks": ""
             }
            },
            "type": "scattermapbox"
           }
          ],
          "scatterpolar": [
           {
            "marker": {
             "colorbar": {
              "outlinewidth": 0,
              "ticks": ""
             }
            },
            "type": "scatterpolar"
           }
          ],
          "scatterpolargl": [
           {
            "marker": {
             "colorbar": {
              "outlinewidth": 0,
              "ticks": ""
             }
            },
            "type": "scatterpolargl"
           }
          ],
          "scatterternary": [
           {
            "marker": {
             "colorbar": {
              "outlinewidth": 0,
              "ticks": ""
             }
            },
            "type": "scatterternary"
           }
          ],
          "surface": [
           {
            "colorbar": {
             "outlinewidth": 0,
             "ticks": ""
            },
            "colorscale": [
             [
              0,
              "#0d0887"
             ],
             [
              0.1111111111111111,
              "#46039f"
             ],
             [
              0.2222222222222222,
              "#7201a8"
             ],
             [
              0.3333333333333333,
              "#9c179e"
             ],
             [
              0.4444444444444444,
              "#bd3786"
             ],
             [
              0.5555555555555556,
              "#d8576b"
             ],
             [
              0.6666666666666666,
              "#ed7953"
             ],
             [
              0.7777777777777778,
              "#fb9f3a"
             ],
             [
              0.8888888888888888,
              "#fdca26"
             ],
             [
              1,
              "#f0f921"
             ]
            ],
            "type": "surface"
           }
          ],
          "table": [
           {
            "cells": {
             "fill": {
              "color": "#EBF0F8"
             },
             "line": {
              "color": "white"
             }
            },
            "header": {
             "fill": {
              "color": "#C8D4E3"
             },
             "line": {
              "color": "white"
             }
            },
            "type": "table"
           }
          ]
         },
         "layout": {
          "annotationdefaults": {
           "arrowcolor": "#2a3f5f",
           "arrowhead": 0,
           "arrowwidth": 1
          },
          "coloraxis": {
           "colorbar": {
            "outlinewidth": 0,
            "ticks": ""
           }
          },
          "colorscale": {
           "diverging": [
            [
             0,
             "#8e0152"
            ],
            [
             0.1,
             "#c51b7d"
            ],
            [
             0.2,
             "#de77ae"
            ],
            [
             0.3,
             "#f1b6da"
            ],
            [
             0.4,
             "#fde0ef"
            ],
            [
             0.5,
             "#f7f7f7"
            ],
            [
             0.6,
             "#e6f5d0"
            ],
            [
             0.7,
             "#b8e186"
            ],
            [
             0.8,
             "#7fbc41"
            ],
            [
             0.9,
             "#4d9221"
            ],
            [
             1,
             "#276419"
            ]
           ],
           "sequential": [
            [
             0,
             "#0d0887"
            ],
            [
             0.1111111111111111,
             "#46039f"
            ],
            [
             0.2222222222222222,
             "#7201a8"
            ],
            [
             0.3333333333333333,
             "#9c179e"
            ],
            [
             0.4444444444444444,
             "#bd3786"
            ],
            [
             0.5555555555555556,
             "#d8576b"
            ],
            [
             0.6666666666666666,
             "#ed7953"
            ],
            [
             0.7777777777777778,
             "#fb9f3a"
            ],
            [
             0.8888888888888888,
             "#fdca26"
            ],
            [
             1,
             "#f0f921"
            ]
           ],
           "sequentialminus": [
            [
             0,
             "#0d0887"
            ],
            [
             0.1111111111111111,
             "#46039f"
            ],
            [
             0.2222222222222222,
             "#7201a8"
            ],
            [
             0.3333333333333333,
             "#9c179e"
            ],
            [
             0.4444444444444444,
             "#bd3786"
            ],
            [
             0.5555555555555556,
             "#d8576b"
            ],
            [
             0.6666666666666666,
             "#ed7953"
            ],
            [
             0.7777777777777778,
             "#fb9f3a"
            ],
            [
             0.8888888888888888,
             "#fdca26"
            ],
            [
             1,
             "#f0f921"
            ]
           ]
          },
          "colorway": [
           "#636efa",
           "#EF553B",
           "#00cc96",
           "#ab63fa",
           "#FFA15A",
           "#19d3f3",
           "#FF6692",
           "#B6E880",
           "#FF97FF",
           "#FECB52"
          ],
          "font": {
           "color": "#2a3f5f"
          },
          "geo": {
           "bgcolor": "white",
           "lakecolor": "white",
           "landcolor": "#E5ECF6",
           "showlakes": true,
           "showland": true,
           "subunitcolor": "white"
          },
          "hoverlabel": {
           "align": "left"
          },
          "hovermode": "closest",
          "mapbox": {
           "style": "light"
          },
          "paper_bgcolor": "white",
          "plot_bgcolor": "#E5ECF6",
          "polar": {
           "angularaxis": {
            "gridcolor": "white",
            "linecolor": "white",
            "ticks": ""
           },
           "bgcolor": "#E5ECF6",
           "radialaxis": {
            "gridcolor": "white",
            "linecolor": "white",
            "ticks": ""
           }
          },
          "scene": {
           "xaxis": {
            "backgroundcolor": "#E5ECF6",
            "gridcolor": "white",
            "gridwidth": 2,
            "linecolor": "white",
            "showbackground": true,
            "ticks": "",
            "zerolinecolor": "white"
           },
           "yaxis": {
            "backgroundcolor": "#E5ECF6",
            "gridcolor": "white",
            "gridwidth": 2,
            "linecolor": "white",
            "showbackground": true,
            "ticks": "",
            "zerolinecolor": "white"
           },
           "zaxis": {
            "backgroundcolor": "#E5ECF6",
            "gridcolor": "white",
            "gridwidth": 2,
            "linecolor": "white",
            "showbackground": true,
            "ticks": "",
            "zerolinecolor": "white"
           }
          },
          "shapedefaults": {
           "line": {
            "color": "#2a3f5f"
           }
          },
          "ternary": {
           "aaxis": {
            "gridcolor": "white",
            "linecolor": "white",
            "ticks": ""
           },
           "baxis": {
            "gridcolor": "white",
            "linecolor": "white",
            "ticks": ""
           },
           "bgcolor": "#E5ECF6",
           "caxis": {
            "gridcolor": "white",
            "linecolor": "white",
            "ticks": ""
           }
          },
          "title": {
           "x": 0.05
          },
          "xaxis": {
           "automargin": true,
           "gridcolor": "white",
           "linecolor": "white",
           "ticks": "",
           "title": {
            "standoff": 15
           },
           "zerolinecolor": "white",
           "zerolinewidth": 2
          },
          "yaxis": {
           "automargin": true,
           "gridcolor": "white",
           "linecolor": "white",
           "ticks": "",
           "title": {
            "standoff": 15
           },
           "zerolinecolor": "white",
           "zerolinewidth": 2
          }
         }
        },
        "width": 800,
        "xaxis": {
         "anchor": "y",
         "domain": [
          0,
          0.45
         ]
        },
        "xaxis2": {
         "anchor": "y2",
         "domain": [
          0.55,
          1
         ]
        },
        "xaxis3": {
         "anchor": "y3",
         "domain": [
          0,
          0.45
         ]
        },
        "xaxis4": {
         "anchor": "y4",
         "domain": [
          0.55,
          1
         ]
        },
        "xaxis5": {
         "anchor": "y5",
         "domain": [
          0,
          0.45
         ]
        },
        "xaxis6": {
         "anchor": "y6",
         "domain": [
          0.55,
          1
         ]
        },
        "xaxis7": {
         "anchor": "y7",
         "domain": [
          0,
          0.45
         ]
        },
        "xaxis8": {
         "anchor": "y8",
         "domain": [
          0.55,
          1
         ]
        },
        "yaxis": {
         "anchor": "x",
         "domain": [
          0.78,
          1
         ]
        },
        "yaxis2": {
         "anchor": "x2",
         "domain": [
          0.78,
          1
         ]
        },
        "yaxis3": {
         "anchor": "x3",
         "domain": [
          0.52,
          0.74
         ]
        },
        "yaxis4": {
         "anchor": "x4",
         "domain": [
          0.52,
          0.74
         ]
        },
        "yaxis5": {
         "anchor": "x5",
         "domain": [
          0.26,
          0.48
         ]
        },
        "yaxis6": {
         "anchor": "x6",
         "domain": [
          0.26,
          0.48
         ]
        },
        "yaxis7": {
         "anchor": "x7",
         "domain": [
          0,
          0.22
         ]
        },
        "yaxis8": {
         "anchor": "x8",
         "domain": [
          0,
          0.22
         ]
        }
       }
      },
      "text/html": [
       "<div>\n",
       "        \n",
       "        \n",
       "            <div id=\"2d150e82-6b66-43b3-b926-671ce4440f32\" class=\"plotly-graph-div\" style=\"height:1500px; width:800px;\"></div>\n",
       "            <script type=\"text/javascript\">\n",
       "                require([\"plotly\"], function(Plotly) {\n",
       "                    window.PLOTLYENV=window.PLOTLYENV || {};\n",
       "                    \n",
       "                if (document.getElementById(\"2d150e82-6b66-43b3-b926-671ce4440f32\")) {\n",
       "                    Plotly.newPlot(\n",
       "                        '2d150e82-6b66-43b3-b926-671ce4440f32',\n",
       "                        [{\"hovertext\": [\"EA 6F FF DE 42, Type 2\", \"90 01 09 71 F0, Type 2\", \"31 19 64 3D 10, Type 2\", \"D7 FC 44 05 CA, Type 2\", \"64 0B 1B 0A 45, Type 2\", \"8A 77 B8 09 AD, Type 2\", \"02 88 A7 94 50, Type 2\", \"51 B7 6E C2 FD, Type 2\", \"A4 03 5A F0 57, Type 2\", \"90 A6 58 8A AD, Type 2\", \"F5 E4 FD A4 9F, Type 2\", \"76 8F 56 DE 15, Type 2\", \"3D F6 5A B4 9D, Type 2\", \"A6 FD C4 C0 69, Type 2\", \"4F 9C 21 D3 31, Type 2\", \"94 EB 19 B7 18, Type 2\", \"0F 30 93 5E 0E, Type 2\", \"A2 C1 35 C2 8C, Type 2\", \"19 01 73 04 E2, Type 2\", \"CA A2 77 FC 22, Type 2\", \"96 DD DC FE E3, Type 2\", \"21 36 06 E2 38, Type 2\", \"B7 CA E8 BC 99, Type 2\", \"EF 4A CF 20 AF, Type 2\"], \"marker\": {\"color\": [\"#B3D9FF\", \"#B3D9FF\", \"#B3D9FF\", \"#B3D9FF\", \"#B3D9FF\", \"#B3D9FF\", \"#B3D9FF\", \"#B3D9FF\", \"#B3D9FF\", \"#B3D9FF\", \"#B3D9FF\", \"#B3D9FF\", \"#B3D9FF\", \"#B3D9FF\", \"#B3D9FF\", \"#B3D9FF\", \"#B3D9FF\", \"#B3D9FF\", \"#B3D9FF\", \"#B3D9FF\", \"#B3D9FF\", \"#B3D9FF\", \"#B3D9FF\", \"#B3D9FF\"], \"size\": 10}, \"mode\": \"markers+text\", \"type\": \"scatter\", \"x\": [25.0, 27.0, 35.0, 37.0, 38.0, 38.0, 39.0, 40.0, 40.0, 42.0, 44.0, 45.0, 46.0, 49.0, 53.0, 57.0, 59.0, 59.0, 59.0, 60.0, 64.0, 68.0, 73.0, 74.0], \"xaxis\": \"x\", \"y\": [3.0, 9.0, 12.0, 13.0, 17.0, 16.0, 10.0, 14.0, 14.0, 8.0, 14.0, 8.0, 15.0, 15.0, null, 14.0, 8.0, null, 10.0, null, null, null, null, null], \"yaxis\": \"y\"}, {\"hovertext\": [\"EA 6F FF DE 42, Type 2\", \"90 01 09 71 F0, Type 2\", \"31 19 64 3D 10, Type 2\", \"D7 FC 44 05 CA, Type 2\", \"64 0B 1B 0A 45, Type 2\", \"8A 77 B8 09 AD, Type 2\", \"02 88 A7 94 50, Type 2\", \"51 B7 6E C2 FD, Type 2\", \"A4 03 5A F0 57, Type 2\", \"90 A6 58 8A AD, Type 2\", \"F5 E4 FD A4 9F, Type 2\", \"76 8F 56 DE 15, Type 2\", \"3D F6 5A B4 9D, Type 2\", \"A6 FD C4 C0 69, Type 2\", \"4F 9C 21 D3 31, Type 2\", \"94 EB 19 B7 18, Type 2\", \"0F 30 93 5E 0E, Type 2\", \"A2 C1 35 C2 8C, Type 2\", \"19 01 73 04 E2, Type 2\", \"CA A2 77 FC 22, Type 2\", \"96 DD DC FE E3, Type 2\", \"21 36 06 E2 38, Type 2\", \"B7 CA E8 BC 99, Type 2\", \"EF 4A CF 20 AF, Type 2\"], \"marker\": {\"color\": [\"#B3D9FF\", \"#B3D9FF\", \"#B3D9FF\", \"#B3D9FF\", \"#B3D9FF\", \"#B3D9FF\", \"#B3D9FF\", \"#B3D9FF\", \"#B3D9FF\", \"#B3D9FF\", \"#B3D9FF\", \"#B3D9FF\", \"#B3D9FF\", \"#B3D9FF\", \"#B3D9FF\", \"#B3D9FF\", \"#B3D9FF\", \"#B3D9FF\", \"#B3D9FF\", \"#B3D9FF\", \"#B3D9FF\", \"#B3D9FF\", \"#B3D9FF\", \"#B3D9FF\"], \"size\": 10}, \"mode\": \"markers+text\", \"type\": \"scatter\", \"x\": [25.0, 27.0, 35.0, 37.0, 38.0, 38.0, 39.0, 40.0, 40.0, 42.0, 44.0, 45.0, 46.0, 49.0, 53.0, 57.0, 59.0, 59.0, 59.0, 60.0, 64.0, 68.0, 73.0, 74.0], \"xaxis\": \"x2\", \"y\": [2.0, 10.0, 8.0, 10.0, 12.0, 12.0, 12.0, 13.0, 12.0, 9.0, 12.0, 11.0, 14.0, 12.0, null, 11.0, 8.0, null, 10.0, null, null, null, null, null], \"yaxis\": \"y2\"}, {\"hovertext\": [\"EA 6F FF DE 42, Type 2\", \"90 01 09 71 F0, Type 2\", \"31 19 64 3D 10, Type 2\", \"D7 FC 44 05 CA, Type 2\", \"64 0B 1B 0A 45, Type 2\", \"8A 77 B8 09 AD, Type 2\", \"02 88 A7 94 50, Type 2\", \"51 B7 6E C2 FD, Type 2\", \"A4 03 5A F0 57, Type 2\", \"90 A6 58 8A AD, Type 2\", \"F5 E4 FD A4 9F, Type 2\", \"76 8F 56 DE 15, Type 2\", \"3D F6 5A B4 9D, Type 2\", \"A6 FD C4 C0 69, Type 2\", \"4F 9C 21 D3 31, Type 2\", \"94 EB 19 B7 18, Type 2\", \"0F 30 93 5E 0E, Type 2\", \"A2 C1 35 C2 8C, Type 2\", \"19 01 73 04 E2, Type 2\", \"CA A2 77 FC 22, Type 2\", \"96 DD DC FE E3, Type 2\", \"21 36 06 E2 38, Type 2\", \"B7 CA E8 BC 99, Type 2\", \"EF 4A CF 20 AF, Type 2\"], \"marker\": {\"color\": [\"#B3D9FF\", \"#B3D9FF\", \"#B3D9FF\", \"#B3D9FF\", \"#B3D9FF\", \"#B3D9FF\", \"#B3D9FF\", \"#B3D9FF\", \"#B3D9FF\", \"#B3D9FF\", \"#B3D9FF\", \"#B3D9FF\", \"#B3D9FF\", \"#B3D9FF\", \"#B3D9FF\", \"#B3D9FF\", \"#B3D9FF\", \"#B3D9FF\", \"#B3D9FF\", \"#B3D9FF\", \"#B3D9FF\", \"#B3D9FF\", \"#B3D9FF\", \"#B3D9FF\"], \"size\": 10}, \"mode\": \"markers+text\", \"type\": \"scatter\", \"x\": [25.0, 27.0, 35.0, 37.0, 38.0, 38.0, 39.0, 40.0, 40.0, 42.0, 44.0, 45.0, 46.0, 49.0, 53.0, 57.0, 59.0, 59.0, 59.0, 60.0, 64.0, 68.0, 73.0, 74.0], \"xaxis\": \"x3\", \"y\": [3.0, 9.0, 13.0, 12.0, 7.0, 13.0, 11.0, 13.0, null, 6.0, 12.0, 9.0, 10.0, 13.0, null, 13.0, null, null, null, null, null, null, null, null], \"yaxis\": \"y3\"}, {\"hovertext\": [\"EA 6F FF DE 42, Type 2\", \"90 01 09 71 F0, Type 2\", \"31 19 64 3D 10, Type 2\", \"D7 FC 44 05 CA, Type 2\", \"64 0B 1B 0A 45, Type 2\", \"8A 77 B8 09 AD, Type 2\", \"02 88 A7 94 50, Type 2\", \"51 B7 6E C2 FD, Type 2\", \"A4 03 5A F0 57, Type 2\", \"90 A6 58 8A AD, Type 2\", \"F5 E4 FD A4 9F, Type 2\", \"76 8F 56 DE 15, Type 2\", \"3D F6 5A B4 9D, Type 2\", \"A6 FD C4 C0 69, Type 2\", \"4F 9C 21 D3 31, Type 2\", \"94 EB 19 B7 18, Type 2\", \"0F 30 93 5E 0E, Type 2\", \"A2 C1 35 C2 8C, Type 2\", \"19 01 73 04 E2, Type 2\", \"CA A2 77 FC 22, Type 2\", \"96 DD DC FE E3, Type 2\", \"21 36 06 E2 38, Type 2\", \"B7 CA E8 BC 99, Type 2\", \"EF 4A CF 20 AF, Type 2\"], \"marker\": {\"color\": [\"#B3D9FF\", \"#B3D9FF\", \"#B3D9FF\", \"#B3D9FF\", \"#B3D9FF\", \"#B3D9FF\", \"#B3D9FF\", \"#B3D9FF\", \"#B3D9FF\", \"#B3D9FF\", \"#B3D9FF\", \"#B3D9FF\", \"#B3D9FF\", \"#B3D9FF\", \"#B3D9FF\", \"#B3D9FF\", \"#B3D9FF\", \"#B3D9FF\", \"#B3D9FF\", \"#B3D9FF\", \"#B3D9FF\", \"#B3D9FF\", \"#B3D9FF\", \"#B3D9FF\"], \"size\": 10}, \"mode\": \"markers+text\", \"type\": \"scatter\", \"x\": [25.0, 27.0, 35.0, 37.0, 38.0, 38.0, 39.0, 40.0, 40.0, 42.0, 44.0, 45.0, 46.0, 49.0, 53.0, 57.0, 59.0, 59.0, 59.0, 60.0, 64.0, 68.0, 73.0, 74.0], \"xaxis\": \"x4\", \"y\": [8.0, 28.0, 33.0, 35.0, 36.0, 41.0, 33.0, 40.0, null, 23.0, 38.0, 28.0, 39.0, 40.0, null, 38.0, null, null, null, null, null, null, null, null], \"yaxis\": \"y4\"}, {\"hovertext\": [\"EA 6F FF DE 42, Type 2\", \"90 01 09 71 F0, Type 2\", \"31 19 64 3D 10, Type 2\", \"D7 FC 44 05 CA, Type 2\", \"64 0B 1B 0A 45, Type 2\", \"8A 77 B8 09 AD, Type 2\", \"02 88 A7 94 50, Type 2\", \"51 B7 6E C2 FD, Type 2\", \"A4 03 5A F0 57, Type 2\", \"90 A6 58 8A AD, Type 2\", \"F5 E4 FD A4 9F, Type 2\", \"76 8F 56 DE 15, Type 2\", \"3D F6 5A B4 9D, Type 2\", \"A6 FD C4 C0 69, Type 2\", \"4F 9C 21 D3 31, Type 2\", \"94 EB 19 B7 18, Type 2\", \"0F 30 93 5E 0E, Type 2\", \"A2 C1 35 C2 8C, Type 2\", \"19 01 73 04 E2, Type 2\", \"CA A2 77 FC 22, Type 2\", \"96 DD DC FE E3, Type 2\", \"21 36 06 E2 38, Type 2\", \"B7 CA E8 BC 99, Type 2\", \"EF 4A CF 20 AF, Type 2\"], \"marker\": {\"color\": [\"#B3D9FF\", \"#B3D9FF\", \"#B3D9FF\", \"#B3D9FF\", \"#B3D9FF\", \"#B3D9FF\", \"#B3D9FF\", \"#B3D9FF\", \"#B3D9FF\", \"#B3D9FF\", \"#B3D9FF\", \"#B3D9FF\", \"#B3D9FF\", \"#B3D9FF\", \"#B3D9FF\", \"#B3D9FF\", \"#B3D9FF\", \"#B3D9FF\", \"#B3D9FF\", \"#B3D9FF\", \"#B3D9FF\", \"#B3D9FF\", \"#B3D9FF\", \"#B3D9FF\"], \"size\": 10}, \"mode\": \"markers+text\", \"type\": \"scatter\", \"x\": [25.0, 27.0, 35.0, 37.0, 38.0, 38.0, 39.0, 40.0, 40.0, 42.0, 44.0, 45.0, 46.0, 49.0, 53.0, 57.0, 59.0, 59.0, 59.0, 60.0, 64.0, 68.0, 73.0, 74.0], \"xaxis\": \"x5\", \"y\": [56.0, 96.0, 106.0, 110.0, 112.0, 122.0, 106.0, 118.0, null, 86.0, 116.0, 96.0, 118.0, 120.0, null, 116.0, null, null, null, null, null, null, null, null], \"yaxis\": \"y5\"}, {\"hovertext\": [\"EA 6F FF DE 42, Type 2\", \"90 01 09 71 F0, Type 2\", \"31 19 64 3D 10, Type 2\", \"D7 FC 44 05 CA, Type 2\", \"64 0B 1B 0A 45, Type 2\", \"8A 77 B8 09 AD, Type 2\", \"02 88 A7 94 50, Type 2\", \"51 B7 6E C2 FD, Type 2\", \"A4 03 5A F0 57, Type 2\", \"90 A6 58 8A AD, Type 2\", \"F5 E4 FD A4 9F, Type 2\", \"76 8F 56 DE 15, Type 2\", \"3D F6 5A B4 9D, Type 2\", \"A6 FD C4 C0 69, Type 2\", \"4F 9C 21 D3 31, Type 2\", \"94 EB 19 B7 18, Type 2\", \"0F 30 93 5E 0E, Type 2\", \"A2 C1 35 C2 8C, Type 2\", \"19 01 73 04 E2, Type 2\", \"CA A2 77 FC 22, Type 2\", \"96 DD DC FE E3, Type 2\", \"21 36 06 E2 38, Type 2\", \"B7 CA E8 BC 99, Type 2\", \"EF 4A CF 20 AF, Type 2\"], \"marker\": {\"color\": [\"#B3D9FF\", \"#B3D9FF\", \"#B3D9FF\", \"#B3D9FF\", \"#B3D9FF\", \"#B3D9FF\", \"#B3D9FF\", \"#B3D9FF\", \"#B3D9FF\", \"#B3D9FF\", \"#B3D9FF\", \"#B3D9FF\", \"#B3D9FF\", \"#B3D9FF\", \"#B3D9FF\", \"#B3D9FF\", \"#B3D9FF\", \"#B3D9FF\", \"#B3D9FF\", \"#B3D9FF\", \"#B3D9FF\", \"#B3D9FF\", \"#B3D9FF\", \"#B3D9FF\"], \"size\": 10}, \"mode\": \"markers+text\", \"type\": \"scatter\", \"x\": [25.0, 27.0, 35.0, 37.0, 38.0, 38.0, 39.0, 40.0, 40.0, 42.0, 44.0, 45.0, 46.0, 49.0, 53.0, 57.0, 59.0, 59.0, 59.0, 60.0, 64.0, 68.0, 73.0, 74.0], \"xaxis\": \"x6\", \"y\": [0.0, 39.0, 66.0, 75.0, 79.0, 93.0, 66.0, 88.0, null, 18.0, 86.0, 39.0, 88.0, 91.0, null, 86.0, null, null, null, null, null, null, null, null], \"yaxis\": \"y6\"}, {\"hovertext\": [\"EA 6F FF DE 42, Type 2\", \"90 01 09 71 F0, Type 2\", \"31 19 64 3D 10, Type 2\", \"D7 FC 44 05 CA, Type 2\", \"64 0B 1B 0A 45, Type 2\", \"8A 77 B8 09 AD, Type 2\", \"02 88 A7 94 50, Type 2\", \"51 B7 6E C2 FD, Type 2\", \"A4 03 5A F0 57, Type 2\", \"90 A6 58 8A AD, Type 2\", \"F5 E4 FD A4 9F, Type 2\", \"76 8F 56 DE 15, Type 2\", \"3D F6 5A B4 9D, Type 2\", \"A6 FD C4 C0 69, Type 2\", \"4F 9C 21 D3 31, Type 2\", \"94 EB 19 B7 18, Type 2\", \"0F 30 93 5E 0E, Type 2\", \"A2 C1 35 C2 8C, Type 2\", \"19 01 73 04 E2, Type 2\", \"CA A2 77 FC 22, Type 2\", \"96 DD DC FE E3, Type 2\", \"21 36 06 E2 38, Type 2\", \"B7 CA E8 BC 99, Type 2\", \"EF 4A CF 20 AF, Type 2\"], \"marker\": {\"color\": [\"#B3D9FF\", \"#B3D9FF\", \"#B3D9FF\", \"#B3D9FF\", \"#B3D9FF\", \"#B3D9FF\", \"#B3D9FF\", \"#B3D9FF\", \"#B3D9FF\", \"#B3D9FF\", \"#B3D9FF\", \"#B3D9FF\", \"#B3D9FF\", \"#B3D9FF\", \"#B3D9FF\", \"#B3D9FF\", \"#B3D9FF\", \"#B3D9FF\", \"#B3D9FF\", \"#B3D9FF\", \"#B3D9FF\", \"#B3D9FF\", \"#B3D9FF\", \"#B3D9FF\"], \"size\": 10}, \"mode\": \"markers+text\", \"type\": \"scatter\", \"x\": [25.0, 27.0, 35.0, 37.0, 38.0, 38.0, 39.0, 40.0, 40.0, 42.0, 44.0, 45.0, 46.0, 49.0, 53.0, 57.0, 59.0, 59.0, 59.0, 60.0, 64.0, 68.0, 73.0, 74.0], \"xaxis\": \"x7\", \"y\": [52.0, 90.0, 99.0, 103.0, 105.0, 115.0, 99.0, 111.0, null, 80.0, 109.0, 90.0, 111.0, 113.0, null, 109.0, null, null, null, null, null, null, null, null], \"yaxis\": \"y7\"}, {\"hovertext\": [\"EA 6F FF DE 42, Type 2\", \"90 01 09 71 F0, Type 2\", \"31 19 64 3D 10, Type 2\", \"D7 FC 44 05 CA, Type 2\", \"64 0B 1B 0A 45, Type 2\", \"8A 77 B8 09 AD, Type 2\", \"02 88 A7 94 50, Type 2\", \"51 B7 6E C2 FD, Type 2\", \"A4 03 5A F0 57, Type 2\", \"90 A6 58 8A AD, Type 2\", \"F5 E4 FD A4 9F, Type 2\", \"76 8F 56 DE 15, Type 2\", \"3D F6 5A B4 9D, Type 2\", \"A6 FD C4 C0 69, Type 2\", \"4F 9C 21 D3 31, Type 2\", \"94 EB 19 B7 18, Type 2\", \"0F 30 93 5E 0E, Type 2\", \"A2 C1 35 C2 8C, Type 2\", \"19 01 73 04 E2, Type 2\", \"CA A2 77 FC 22, Type 2\", \"96 DD DC FE E3, Type 2\", \"21 36 06 E2 38, Type 2\", \"B7 CA E8 BC 99, Type 2\", \"EF 4A CF 20 AF, Type 2\"], \"marker\": {\"color\": [\"#B3D9FF\", \"#B3D9FF\", \"#B3D9FF\", \"#B3D9FF\", \"#B3D9FF\", \"#B3D9FF\", \"#B3D9FF\", \"#B3D9FF\", \"#B3D9FF\", \"#B3D9FF\", \"#B3D9FF\", \"#B3D9FF\", \"#B3D9FF\", \"#B3D9FF\", \"#B3D9FF\", \"#B3D9FF\", \"#B3D9FF\", \"#B3D9FF\", \"#B3D9FF\", \"#B3D9FF\", \"#B3D9FF\", \"#B3D9FF\", \"#B3D9FF\", \"#B3D9FF\"], \"size\": 10}, \"mode\": \"markers+text\", \"type\": \"scatter\", \"x\": [25.0, 27.0, 35.0, 37.0, 38.0, 38.0, 39.0, 40.0, 40.0, 42.0, 44.0, 45.0, 46.0, 49.0, 53.0, 57.0, 59.0, 59.0, 59.0, 60.0, 64.0, 68.0, 73.0, 74.0], \"xaxis\": \"x8\", \"y\": [65.0, 103.0, 112.0, 116.0, 118.0, 127.0, 112.0, 123.0, null, 93.0, 121.0, 103.0, 123.0, 125.0, null, 121.0, null, null, null, null, null, null, null, null], \"yaxis\": \"y8\"}],\n",
       "                        {\"annotations\": [{\"font\": {\"size\": 16}, \"showarrow\": false, \"text\": \"Note standard Cubes\", \"x\": 0.225, \"xanchor\": \"center\", \"xref\": \"paper\", \"y\": 1.0, \"yanchor\": \"bottom\", \"yref\": \"paper\"}, {\"font\": {\"size\": 16}, \"showarrow\": false, \"text\": \"Note standard Matrices\", \"x\": 0.775, \"xanchor\": \"center\", \"xref\": \"paper\", \"y\": 1.0, \"yanchor\": \"bottom\", \"yref\": \"paper\"}, {\"font\": {\"size\": 16}, \"showarrow\": false, \"text\": \"Note standard Puzzles visuels\", \"x\": 0.225, \"xanchor\": \"center\", \"xref\": \"paper\", \"y\": 0.74, \"yanchor\": \"bottom\", \"yref\": \"paper\"}, {\"font\": {\"size\": 16}, \"showarrow\": false, \"text\": \"Total des notes standards IRP\", \"x\": 0.775, \"xanchor\": \"center\", \"xref\": \"paper\", \"y\": 0.74, \"yanchor\": \"bottom\", \"yref\": \"paper\"}, {\"font\": {\"size\": 16}, \"showarrow\": false, \"text\": \"Note composite IRP\", \"x\": 0.225, \"xanchor\": \"center\", \"xref\": \"paper\", \"y\": 0.48, \"yanchor\": \"bottom\", \"yref\": \"paper\"}, {\"font\": {\"size\": 16}, \"showarrow\": false, \"text\": \"Rang percentile IRP\", \"x\": 0.775, \"xanchor\": \"center\", \"xref\": \"paper\", \"y\": 0.48, \"yanchor\": \"bottom\", \"yref\": \"paper\"}, {\"font\": {\"size\": 16}, \"showarrow\": false, \"text\": \"Note \\u00e9cart type inf\\u00e9rieure IRP\", \"x\": 0.225, \"xanchor\": \"center\", \"xref\": \"paper\", \"y\": 0.22, \"yanchor\": \"bottom\", \"yref\": \"paper\"}, {\"font\": {\"size\": 16}, \"showarrow\": false, \"text\": \"Note \\u00e9cart type sup\\u00e9rieure IRP\", \"x\": 0.775, \"xanchor\": \"center\", \"xref\": \"paper\", \"y\": 0.22, \"yanchor\": \"bottom\", \"yref\": \"paper\"}, {\"font\": {\"size\": 16}, \"showarrow\": false, \"text\": \"\\u00c2ge\", \"x\": 0.5, \"xanchor\": \"center\", \"xref\": \"paper\", \"y\": 0, \"yanchor\": \"top\", \"yref\": \"paper\", \"yshift\": -30}, {\"font\": {\"size\": 16}, \"showarrow\": false, \"text\": \"Score\", \"textangle\": -90, \"x\": 0, \"xanchor\": \"right\", \"xref\": \"paper\", \"xshift\": -40, \"y\": 0.5, \"yanchor\": \"middle\", \"yref\": \"paper\"}], \"height\": 1500, \"showlegend\": false, \"template\": {\"data\": {\"bar\": [{\"error_x\": {\"color\": \"#2a3f5f\"}, \"error_y\": {\"color\": \"#2a3f5f\"}, \"marker\": {\"line\": {\"color\": \"#E5ECF6\", \"width\": 0.5}}, \"type\": \"bar\"}], \"barpolar\": [{\"marker\": {\"line\": {\"color\": \"#E5ECF6\", \"width\": 0.5}}, \"type\": \"barpolar\"}], \"carpet\": [{\"aaxis\": {\"endlinecolor\": \"#2a3f5f\", \"gridcolor\": \"white\", \"linecolor\": \"white\", \"minorgridcolor\": \"white\", \"startlinecolor\": \"#2a3f5f\"}, \"baxis\": {\"endlinecolor\": \"#2a3f5f\", \"gridcolor\": \"white\", \"linecolor\": \"white\", \"minorgridcolor\": \"white\", \"startlinecolor\": \"#2a3f5f\"}, \"type\": \"carpet\"}], \"choropleth\": [{\"colorbar\": {\"outlinewidth\": 0, \"ticks\": \"\"}, \"type\": \"choropleth\"}], \"contour\": [{\"colorbar\": {\"outlinewidth\": 0, \"ticks\": \"\"}, \"colorscale\": [[0.0, \"#0d0887\"], [0.1111111111111111, \"#46039f\"], [0.2222222222222222, \"#7201a8\"], [0.3333333333333333, \"#9c179e\"], [0.4444444444444444, \"#bd3786\"], [0.5555555555555556, \"#d8576b\"], [0.6666666666666666, \"#ed7953\"], [0.7777777777777778, \"#fb9f3a\"], [0.8888888888888888, \"#fdca26\"], [1.0, \"#f0f921\"]], \"type\": \"contour\"}], \"contourcarpet\": [{\"colorbar\": {\"outlinewidth\": 0, \"ticks\": \"\"}, \"type\": \"contourcarpet\"}], \"heatmap\": [{\"colorbar\": {\"outlinewidth\": 0, \"ticks\": \"\"}, \"colorscale\": [[0.0, \"#0d0887\"], [0.1111111111111111, \"#46039f\"], [0.2222222222222222, \"#7201a8\"], [0.3333333333333333, \"#9c179e\"], [0.4444444444444444, \"#bd3786\"], [0.5555555555555556, \"#d8576b\"], [0.6666666666666666, \"#ed7953\"], [0.7777777777777778, \"#fb9f3a\"], [0.8888888888888888, \"#fdca26\"], [1.0, \"#f0f921\"]], \"type\": \"heatmap\"}], \"heatmapgl\": [{\"colorbar\": {\"outlinewidth\": 0, \"ticks\": \"\"}, \"colorscale\": [[0.0, \"#0d0887\"], [0.1111111111111111, \"#46039f\"], [0.2222222222222222, \"#7201a8\"], [0.3333333333333333, \"#9c179e\"], [0.4444444444444444, \"#bd3786\"], [0.5555555555555556, \"#d8576b\"], [0.6666666666666666, \"#ed7953\"], [0.7777777777777778, \"#fb9f3a\"], [0.8888888888888888, \"#fdca26\"], [1.0, \"#f0f921\"]], \"type\": \"heatmapgl\"}], \"histogram\": [{\"marker\": {\"colorbar\": {\"outlinewidth\": 0, \"ticks\": \"\"}}, \"type\": \"histogram\"}], \"histogram2d\": [{\"colorbar\": {\"outlinewidth\": 0, \"ticks\": \"\"}, \"colorscale\": [[0.0, \"#0d0887\"], [0.1111111111111111, \"#46039f\"], [0.2222222222222222, \"#7201a8\"], [0.3333333333333333, \"#9c179e\"], [0.4444444444444444, \"#bd3786\"], [0.5555555555555556, \"#d8576b\"], [0.6666666666666666, \"#ed7953\"], [0.7777777777777778, \"#fb9f3a\"], [0.8888888888888888, \"#fdca26\"], [1.0, \"#f0f921\"]], \"type\": \"histogram2d\"}], \"histogram2dcontour\": [{\"colorbar\": {\"outlinewidth\": 0, \"ticks\": \"\"}, \"colorscale\": [[0.0, \"#0d0887\"], [0.1111111111111111, \"#46039f\"], [0.2222222222222222, \"#7201a8\"], [0.3333333333333333, \"#9c179e\"], [0.4444444444444444, \"#bd3786\"], [0.5555555555555556, \"#d8576b\"], [0.6666666666666666, \"#ed7953\"], [0.7777777777777778, \"#fb9f3a\"], [0.8888888888888888, \"#fdca26\"], [1.0, \"#f0f921\"]], \"type\": \"histogram2dcontour\"}], \"mesh3d\": [{\"colorbar\": {\"outlinewidth\": 0, \"ticks\": \"\"}, \"type\": \"mesh3d\"}], \"parcoords\": [{\"line\": {\"colorbar\": {\"outlinewidth\": 0, \"ticks\": \"\"}}, \"type\": \"parcoords\"}], \"pie\": [{\"automargin\": true, \"type\": \"pie\"}], \"scatter\": [{\"marker\": {\"colorbar\": {\"outlinewidth\": 0, \"ticks\": \"\"}}, \"type\": \"scatter\"}], \"scatter3d\": [{\"line\": {\"colorbar\": {\"outlinewidth\": 0, \"ticks\": \"\"}}, \"marker\": {\"colorbar\": {\"outlinewidth\": 0, \"ticks\": \"\"}}, \"type\": \"scatter3d\"}], \"scattercarpet\": [{\"marker\": {\"colorbar\": {\"outlinewidth\": 0, \"ticks\": \"\"}}, \"type\": \"scattercarpet\"}], \"scattergeo\": [{\"marker\": {\"colorbar\": {\"outlinewidth\": 0, \"ticks\": \"\"}}, \"type\": \"scattergeo\"}], \"scattergl\": [{\"marker\": {\"colorbar\": {\"outlinewidth\": 0, \"ticks\": \"\"}}, \"type\": \"scattergl\"}], \"scattermapbox\": [{\"marker\": {\"colorbar\": {\"outlinewidth\": 0, \"ticks\": \"\"}}, \"type\": \"scattermapbox\"}], \"scatterpolar\": [{\"marker\": {\"colorbar\": {\"outlinewidth\": 0, \"ticks\": \"\"}}, \"type\": \"scatterpolar\"}], \"scatterpolargl\": [{\"marker\": {\"colorbar\": {\"outlinewidth\": 0, \"ticks\": \"\"}}, \"type\": \"scatterpolargl\"}], \"scatterternary\": [{\"marker\": {\"colorbar\": {\"outlinewidth\": 0, \"ticks\": \"\"}}, \"type\": \"scatterternary\"}], \"surface\": [{\"colorbar\": {\"outlinewidth\": 0, \"ticks\": \"\"}, \"colorscale\": [[0.0, \"#0d0887\"], [0.1111111111111111, \"#46039f\"], [0.2222222222222222, \"#7201a8\"], [0.3333333333333333, \"#9c179e\"], [0.4444444444444444, \"#bd3786\"], [0.5555555555555556, \"#d8576b\"], [0.6666666666666666, \"#ed7953\"], [0.7777777777777778, \"#fb9f3a\"], [0.8888888888888888, \"#fdca26\"], [1.0, \"#f0f921\"]], \"type\": \"surface\"}], \"table\": [{\"cells\": {\"fill\": {\"color\": \"#EBF0F8\"}, \"line\": {\"color\": \"white\"}}, \"header\": {\"fill\": {\"color\": \"#C8D4E3\"}, \"line\": {\"color\": \"white\"}}, \"type\": \"table\"}]}, \"layout\": {\"annotationdefaults\": {\"arrowcolor\": \"#2a3f5f\", \"arrowhead\": 0, \"arrowwidth\": 1}, \"coloraxis\": {\"colorbar\": {\"outlinewidth\": 0, \"ticks\": \"\"}}, \"colorscale\": {\"diverging\": [[0, \"#8e0152\"], [0.1, \"#c51b7d\"], [0.2, \"#de77ae\"], [0.3, \"#f1b6da\"], [0.4, \"#fde0ef\"], [0.5, \"#f7f7f7\"], [0.6, \"#e6f5d0\"], [0.7, \"#b8e186\"], [0.8, \"#7fbc41\"], [0.9, \"#4d9221\"], [1, \"#276419\"]], \"sequential\": [[0.0, \"#0d0887\"], [0.1111111111111111, \"#46039f\"], [0.2222222222222222, \"#7201a8\"], [0.3333333333333333, \"#9c179e\"], [0.4444444444444444, \"#bd3786\"], [0.5555555555555556, \"#d8576b\"], [0.6666666666666666, \"#ed7953\"], [0.7777777777777778, \"#fb9f3a\"], [0.8888888888888888, \"#fdca26\"], [1.0, \"#f0f921\"]], \"sequentialminus\": [[0.0, \"#0d0887\"], [0.1111111111111111, \"#46039f\"], [0.2222222222222222, \"#7201a8\"], [0.3333333333333333, \"#9c179e\"], [0.4444444444444444, \"#bd3786\"], [0.5555555555555556, \"#d8576b\"], [0.6666666666666666, \"#ed7953\"], [0.7777777777777778, \"#fb9f3a\"], [0.8888888888888888, \"#fdca26\"], [1.0, \"#f0f921\"]]}, \"colorway\": [\"#636efa\", \"#EF553B\", \"#00cc96\", \"#ab63fa\", \"#FFA15A\", \"#19d3f3\", \"#FF6692\", \"#B6E880\", \"#FF97FF\", \"#FECB52\"], \"font\": {\"color\": \"#2a3f5f\"}, \"geo\": {\"bgcolor\": \"white\", \"lakecolor\": \"white\", \"landcolor\": \"#E5ECF6\", \"showlakes\": true, \"showland\": true, \"subunitcolor\": \"white\"}, \"hoverlabel\": {\"align\": \"left\"}, \"hovermode\": \"closest\", \"mapbox\": {\"style\": \"light\"}, \"paper_bgcolor\": \"white\", \"plot_bgcolor\": \"#E5ECF6\", \"polar\": {\"angularaxis\": {\"gridcolor\": \"white\", \"linecolor\": \"white\", \"ticks\": \"\"}, \"bgcolor\": \"#E5ECF6\", \"radialaxis\": {\"gridcolor\": \"white\", \"linecolor\": \"white\", \"ticks\": \"\"}}, \"scene\": {\"xaxis\": {\"backgroundcolor\": \"#E5ECF6\", \"gridcolor\": \"white\", \"gridwidth\": 2, \"linecolor\": \"white\", \"showbackground\": true, \"ticks\": \"\", \"zerolinecolor\": \"white\"}, \"yaxis\": {\"backgroundcolor\": \"#E5ECF6\", \"gridcolor\": \"white\", \"gridwidth\": 2, \"linecolor\": \"white\", \"showbackground\": true, \"ticks\": \"\", \"zerolinecolor\": \"white\"}, \"zaxis\": {\"backgroundcolor\": \"#E5ECF6\", \"gridcolor\": \"white\", \"gridwidth\": 2, \"linecolor\": \"white\", \"showbackground\": true, \"ticks\": \"\", \"zerolinecolor\": \"white\"}}, \"shapedefaults\": {\"line\": {\"color\": \"#2a3f5f\"}}, \"ternary\": {\"aaxis\": {\"gridcolor\": \"white\", \"linecolor\": \"white\", \"ticks\": \"\"}, \"baxis\": {\"gridcolor\": \"white\", \"linecolor\": \"white\", \"ticks\": \"\"}, \"bgcolor\": \"#E5ECF6\", \"caxis\": {\"gridcolor\": \"white\", \"linecolor\": \"white\", \"ticks\": \"\"}}, \"title\": {\"x\": 0.05}, \"xaxis\": {\"automargin\": true, \"gridcolor\": \"white\", \"linecolor\": \"white\", \"ticks\": \"\", \"title\": {\"standoff\": 15}, \"zerolinecolor\": \"white\", \"zerolinewidth\": 2}, \"yaxis\": {\"automargin\": true, \"gridcolor\": \"white\", \"linecolor\": \"white\", \"ticks\": \"\", \"title\": {\"standoff\": 15}, \"zerolinecolor\": \"white\", \"zerolinewidth\": 2}}}, \"width\": 800, \"xaxis\": {\"anchor\": \"y\", \"domain\": [0.0, 0.45]}, \"xaxis2\": {\"anchor\": \"y2\", \"domain\": [0.55, 1.0]}, \"xaxis3\": {\"anchor\": \"y3\", \"domain\": [0.0, 0.45]}, \"xaxis4\": {\"anchor\": \"y4\", \"domain\": [0.55, 1.0]}, \"xaxis5\": {\"anchor\": \"y5\", \"domain\": [0.0, 0.45]}, \"xaxis6\": {\"anchor\": \"y6\", \"domain\": [0.55, 1.0]}, \"xaxis7\": {\"anchor\": \"y7\", \"domain\": [0.0, 0.45]}, \"xaxis8\": {\"anchor\": \"y8\", \"domain\": [0.55, 1.0]}, \"yaxis\": {\"anchor\": \"x\", \"domain\": [0.78, 1.0]}, \"yaxis2\": {\"anchor\": \"x2\", \"domain\": [0.78, 1.0]}, \"yaxis3\": {\"anchor\": \"x3\", \"domain\": [0.52, 0.74]}, \"yaxis4\": {\"anchor\": \"x4\", \"domain\": [0.52, 0.74]}, \"yaxis5\": {\"anchor\": \"x5\", \"domain\": [0.26, 0.48]}, \"yaxis6\": {\"anchor\": \"x6\", \"domain\": [0.26, 0.48]}, \"yaxis7\": {\"anchor\": \"x7\", \"domain\": [0.0, 0.22]}, \"yaxis8\": {\"anchor\": \"x8\", \"domain\": [0.0, 0.22]}},\n",
       "                        {\"responsive\": true}\n",
       "                    ).then(function(){\n",
       "                            \n",
       "var gd = document.getElementById('2d150e82-6b66-43b3-b926-671ce4440f32');\n",
       "var x = new MutationObserver(function (mutations, observer) {{\n",
       "        var display = window.getComputedStyle(gd).display;\n",
       "        if (!display || display === 'none') {{\n",
       "            console.log([gd, 'removed!']);\n",
       "            Plotly.purge(gd);\n",
       "            observer.disconnect();\n",
       "        }}\n",
       "}});\n",
       "\n",
       "// Listen for the removal of the full notebook cells\n",
       "var notebookContainer = gd.closest('#notebook-container');\n",
       "if (notebookContainer) {{\n",
       "    x.observe(notebookContainer, {childList: true});\n",
       "}}\n",
       "\n",
       "// Listen for the clearing of the current output cell\n",
       "var outputEl = gd.closest('.output');\n",
       "if (outputEl) {{\n",
       "    x.observe(outputEl, {childList: true});\n",
       "}}\n",
       "\n",
       "                        })\n",
       "                };\n",
       "                });\n",
       "            </script>\n",
       "        </div>"
      ]
     },
     "metadata": {},
     "output_type": "display_data"
    }
   ],
   "source": [
    "fig_wais_sub.add_trace(go.Scatter(x= df_wais_sub['age'], y=df_wais_sub[subplot_titles[4]], mode=\"markers+text\",\n",
    "            marker={'size': 10, \"color\": df_wais_sub['Type_color'] },\n",
    "            hovertext= df_wais_sub['ID_SECONDAIRE'] +\", \"+ df_wais_sub['Type']),\n",
    "            row=1, col=1)\n",
    "\n",
    "fig_wais_sub.add_trace(go.Scatter(x= df_wais_sub['age'], y=df_wais_sub[subplot_titles[5]], mode=\"markers+text\",\n",
    "            marker={'size': 10, \"color\": df_wais_sub['Type_color'] },\n",
    "            hovertext= df_wais_sub['ID_SECONDAIRE'] +\", \"+ df_wais_sub['Type']),\n",
    "              row=1, col=2)\n",
    "\n",
    "fig_wais_sub.add_trace(go.Scatter(x= df_wais_sub['age'], y=df_wais_sub[subplot_titles[6]], mode=\"markers+text\",\n",
    "            marker={'size': 10, \"color\": df_wais_sub['Type_color'] },\n",
    "            hovertext= df_wais_sub['ID_SECONDAIRE'] +\", \"+ df_wais_sub['Type']),\n",
    "              row=2, col=1)\n",
    "\n",
    "fig_wais_sub.add_trace(go.Scatter(x= df_wais_sub['age'], y=df_wais_sub[subplot_titles[7]], mode=\"markers+text\",\n",
    "            marker={'size': 10, \"color\": df_wais_sub['Type_color'] },\n",
    "            hovertext= df_wais_sub['ID_SECONDAIRE'] +\", \"+ df_wais_sub['Type']),\n",
    "            row=2, col=2)\n",
    "\n",
    "fig_wais_sub.add_trace(go.Scatter(x= df_wais_sub['age'], y=df_wais_sub[subplot_titles[8]], mode=\"markers+text\",\n",
    "            marker={'size': 10, \"color\": df_wais_sub['Type_color'] },\n",
    "            hovertext= df_wais_sub['ID_SECONDAIRE'] +\", \"+ df_wais_sub['Type']),\n",
    "            row=3, col=1)\n",
    "                                                             \n",
    "fig_wais_sub.add_trace(go.Scatter(x= df_wais_sub['age'], y=df_wais_sub[subplot_titles[9]], mode=\"markers+text\",\n",
    "            marker={'size': 10, \"color\": df_wais_sub['Type_color'] },\n",
    "            hovertext= df_wais_sub['ID_SECONDAIRE'] +\", \"+ df_wais_sub['Type']),\n",
    "            row=3, col=2)\n",
    "    \n",
    "fig_wais_sub.add_trace(go.Scatter(x= df_wais_sub['age'], y=df_wais_sub[subplot_titles[10]], mode=\"markers+text\",\n",
    "            marker={'size': 10, \"color\": df_wais_sub['Type_color'] },\n",
    "            hovertext= df_wais_sub['ID_SECONDAIRE'] +\", \"+ df_wais_sub['Type']),\n",
    "            row=4, col=1)\n",
    "    \n",
    "fig_wais_sub.add_trace(go.Scatter(x= df_wais_sub['age'], y=df_wais_sub[subplot_titles[11]], mode=\"markers+text\",\n",
    "            marker={'size': 10, \"color\": df_wais_sub['Type_color'] },\n",
    "            hovertext= df_wais_sub['ID_SECONDAIRE'] +\", \"+ df_wais_sub['Type']),\n",
    "            row=4, col=2)\n",
    "    \n",
    "fig_wais_sub.update_layout(height=1500, width=800,\n",
    "                   showlegend=False\n",
    "            )"
   ]
  },
  {
   "cell_type": "code",
   "execution_count": 107,
   "metadata": {
    "ExecuteTime": {
     "end_time": "2020-11-26T13:43:02.711450Z",
     "start_time": "2020-11-26T13:43:02.692066Z"
    }
   },
   "outputs": [],
   "source": [
    "df_wais_sub_agg = df_wais_sub.agg(['min', 'max', 'mean', 'median', 'count'])\n",
    "#\n",
    "df_wais_sub_agg.index.name = \"Aggrégation\"\n",
    "df_wais_sub_agg.reset_index(inplace=True)\n",
    "#\n",
    "df_wais_sub_agg = df_wais_sub_agg.replace({'Aggrégation' : {\"min\":\"Min\",\"max\":\"Max\",\"mean\":\"Moyenne\", \"median\":\"Médiane\", \"count\":\"Effectif\"}})"
   ]
  },
  {
   "cell_type": "code",
   "execution_count": 108,
   "metadata": {
    "ExecuteTime": {
     "end_time": "2020-11-26T13:43:03.650830Z",
     "start_time": "2020-11-26T13:43:03.647280Z"
    }
   },
   "outputs": [],
   "source": [
    "df_wais_sub_agg = df_wais_sub_agg.drop(columns= ['ID_SECONDAIRE','Type', 'Type_color', 'age' ])"
   ]
  },
  {
   "cell_type": "code",
   "execution_count": 109,
   "metadata": {
    "ExecuteTime": {
     "end_time": "2020-11-26T13:43:04.577267Z",
     "start_time": "2020-11-26T13:43:04.572598Z"
    }
   },
   "outputs": [],
   "source": [
    "df_wais_sub_agg = df_wais_sub_agg.round(2)"
   ]
  },
  {
   "cell_type": "code",
   "execution_count": 110,
   "metadata": {
    "ExecuteTime": {
     "end_time": "2020-11-26T13:43:05.202633Z",
     "start_time": "2020-11-26T13:43:05.196194Z"
    }
   },
   "outputs": [],
   "source": [
    "wais_sub =  go.Table(\n",
    "                header=dict(values=list(df_wais_sub_agg.columns[:]),\n",
    "                align='left'),\n",
    "                cells=dict(values= [df_wais_sub_agg.iloc[:,0], df_wais_sub_agg.iloc[:,1], df_wais_sub_agg.iloc[:,2], df_wais_sub_agg.iloc[:,3]\n",
    "                           , df_wais_sub_agg.iloc[:,4], df_wais_sub_agg.iloc[:,5], df_wais_sub_agg.iloc[:,6], df_wais_sub_agg.iloc[:,7]\n",
    "                           , df_wais_sub_agg.iloc[:,8]], align='left'))"
   ]
  },
  {
   "cell_type": "code",
   "execution_count": 111,
   "metadata": {
    "ExecuteTime": {
     "end_time": "2020-11-26T13:43:06.270062Z",
     "start_time": "2020-11-26T13:43:06.156456Z"
    }
   },
   "outputs": [
    {
     "data": {
      "application/vnd.plotly.v1+json": {
       "config": {
        "plotlyServerURL": "https://plot.ly"
       },
       "data": [
        {
         "cells": {
          "align": "left",
          "values": [
           [
            "Min",
            "Max",
            "Effectif",
            "Moyenne",
            "Médiane"
           ],
           [
            3,
            17,
            17,
            11.76,
            13
           ],
           [
            2,
            14,
            17,
            10.47,
            11
           ],
           [
            3,
            13,
            14,
            10.29,
            11.5
           ],
           [
            8,
            41,
            14,
            32.86,
            35.5
           ],
           [
            56,
            122,
            14,
            105.57,
            111
           ],
           [
            0,
            93,
            14,
            65.29,
            77
           ],
           [
            52,
            115,
            14,
            99,
            104
           ],
           [
            65,
            127,
            14,
            111.57,
            117
           ]
          ]
         },
         "header": {
          "align": "left",
          "values": [
           "Aggrégation",
           "Note standard Cubes",
           "Note standard Matrices",
           "Note standard Puzzles visuels",
           "Total des notes standards IRP",
           "Note composite IRP",
           "Rang percentile IRP",
           "Note écart type inférieure IRP",
           "Note écart type supérieure IRP"
          ]
         },
         "type": "table"
        }
       ],
       "layout": {
        "height": 400,
        "template": {
         "data": {
          "bar": [
           {
            "error_x": {
             "color": "#2a3f5f"
            },
            "error_y": {
             "color": "#2a3f5f"
            },
            "marker": {
             "line": {
              "color": "#E5ECF6",
              "width": 0.5
             }
            },
            "type": "bar"
           }
          ],
          "barpolar": [
           {
            "marker": {
             "line": {
              "color": "#E5ECF6",
              "width": 0.5
             }
            },
            "type": "barpolar"
           }
          ],
          "carpet": [
           {
            "aaxis": {
             "endlinecolor": "#2a3f5f",
             "gridcolor": "white",
             "linecolor": "white",
             "minorgridcolor": "white",
             "startlinecolor": "#2a3f5f"
            },
            "baxis": {
             "endlinecolor": "#2a3f5f",
             "gridcolor": "white",
             "linecolor": "white",
             "minorgridcolor": "white",
             "startlinecolor": "#2a3f5f"
            },
            "type": "carpet"
           }
          ],
          "choropleth": [
           {
            "colorbar": {
             "outlinewidth": 0,
             "ticks": ""
            },
            "type": "choropleth"
           }
          ],
          "contour": [
           {
            "colorbar": {
             "outlinewidth": 0,
             "ticks": ""
            },
            "colorscale": [
             [
              0,
              "#0d0887"
             ],
             [
              0.1111111111111111,
              "#46039f"
             ],
             [
              0.2222222222222222,
              "#7201a8"
             ],
             [
              0.3333333333333333,
              "#9c179e"
             ],
             [
              0.4444444444444444,
              "#bd3786"
             ],
             [
              0.5555555555555556,
              "#d8576b"
             ],
             [
              0.6666666666666666,
              "#ed7953"
             ],
             [
              0.7777777777777778,
              "#fb9f3a"
             ],
             [
              0.8888888888888888,
              "#fdca26"
             ],
             [
              1,
              "#f0f921"
             ]
            ],
            "type": "contour"
           }
          ],
          "contourcarpet": [
           {
            "colorbar": {
             "outlinewidth": 0,
             "ticks": ""
            },
            "type": "contourcarpet"
           }
          ],
          "heatmap": [
           {
            "colorbar": {
             "outlinewidth": 0,
             "ticks": ""
            },
            "colorscale": [
             [
              0,
              "#0d0887"
             ],
             [
              0.1111111111111111,
              "#46039f"
             ],
             [
              0.2222222222222222,
              "#7201a8"
             ],
             [
              0.3333333333333333,
              "#9c179e"
             ],
             [
              0.4444444444444444,
              "#bd3786"
             ],
             [
              0.5555555555555556,
              "#d8576b"
             ],
             [
              0.6666666666666666,
              "#ed7953"
             ],
             [
              0.7777777777777778,
              "#fb9f3a"
             ],
             [
              0.8888888888888888,
              "#fdca26"
             ],
             [
              1,
              "#f0f921"
             ]
            ],
            "type": "heatmap"
           }
          ],
          "heatmapgl": [
           {
            "colorbar": {
             "outlinewidth": 0,
             "ticks": ""
            },
            "colorscale": [
             [
              0,
              "#0d0887"
             ],
             [
              0.1111111111111111,
              "#46039f"
             ],
             [
              0.2222222222222222,
              "#7201a8"
             ],
             [
              0.3333333333333333,
              "#9c179e"
             ],
             [
              0.4444444444444444,
              "#bd3786"
             ],
             [
              0.5555555555555556,
              "#d8576b"
             ],
             [
              0.6666666666666666,
              "#ed7953"
             ],
             [
              0.7777777777777778,
              "#fb9f3a"
             ],
             [
              0.8888888888888888,
              "#fdca26"
             ],
             [
              1,
              "#f0f921"
             ]
            ],
            "type": "heatmapgl"
           }
          ],
          "histogram": [
           {
            "marker": {
             "colorbar": {
              "outlinewidth": 0,
              "ticks": ""
             }
            },
            "type": "histogram"
           }
          ],
          "histogram2d": [
           {
            "colorbar": {
             "outlinewidth": 0,
             "ticks": ""
            },
            "colorscale": [
             [
              0,
              "#0d0887"
             ],
             [
              0.1111111111111111,
              "#46039f"
             ],
             [
              0.2222222222222222,
              "#7201a8"
             ],
             [
              0.3333333333333333,
              "#9c179e"
             ],
             [
              0.4444444444444444,
              "#bd3786"
             ],
             [
              0.5555555555555556,
              "#d8576b"
             ],
             [
              0.6666666666666666,
              "#ed7953"
             ],
             [
              0.7777777777777778,
              "#fb9f3a"
             ],
             [
              0.8888888888888888,
              "#fdca26"
             ],
             [
              1,
              "#f0f921"
             ]
            ],
            "type": "histogram2d"
           }
          ],
          "histogram2dcontour": [
           {
            "colorbar": {
             "outlinewidth": 0,
             "ticks": ""
            },
            "colorscale": [
             [
              0,
              "#0d0887"
             ],
             [
              0.1111111111111111,
              "#46039f"
             ],
             [
              0.2222222222222222,
              "#7201a8"
             ],
             [
              0.3333333333333333,
              "#9c179e"
             ],
             [
              0.4444444444444444,
              "#bd3786"
             ],
             [
              0.5555555555555556,
              "#d8576b"
             ],
             [
              0.6666666666666666,
              "#ed7953"
             ],
             [
              0.7777777777777778,
              "#fb9f3a"
             ],
             [
              0.8888888888888888,
              "#fdca26"
             ],
             [
              1,
              "#f0f921"
             ]
            ],
            "type": "histogram2dcontour"
           }
          ],
          "mesh3d": [
           {
            "colorbar": {
             "outlinewidth": 0,
             "ticks": ""
            },
            "type": "mesh3d"
           }
          ],
          "parcoords": [
           {
            "line": {
             "colorbar": {
              "outlinewidth": 0,
              "ticks": ""
             }
            },
            "type": "parcoords"
           }
          ],
          "pie": [
           {
            "automargin": true,
            "type": "pie"
           }
          ],
          "scatter": [
           {
            "marker": {
             "colorbar": {
              "outlinewidth": 0,
              "ticks": ""
             }
            },
            "type": "scatter"
           }
          ],
          "scatter3d": [
           {
            "line": {
             "colorbar": {
              "outlinewidth": 0,
              "ticks": ""
             }
            },
            "marker": {
             "colorbar": {
              "outlinewidth": 0,
              "ticks": ""
             }
            },
            "type": "scatter3d"
           }
          ],
          "scattercarpet": [
           {
            "marker": {
             "colorbar": {
              "outlinewidth": 0,
              "ticks": ""
             }
            },
            "type": "scattercarpet"
           }
          ],
          "scattergeo": [
           {
            "marker": {
             "colorbar": {
              "outlinewidth": 0,
              "ticks": ""
             }
            },
            "type": "scattergeo"
           }
          ],
          "scattergl": [
           {
            "marker": {
             "colorbar": {
              "outlinewidth": 0,
              "ticks": ""
             }
            },
            "type": "scattergl"
           }
          ],
          "scattermapbox": [
           {
            "marker": {
             "colorbar": {
              "outlinewidth": 0,
              "ticks": ""
             }
            },
            "type": "scattermapbox"
           }
          ],
          "scatterpolar": [
           {
            "marker": {
             "colorbar": {
              "outlinewidth": 0,
              "ticks": ""
             }
            },
            "type": "scatterpolar"
           }
          ],
          "scatterpolargl": [
           {
            "marker": {
             "colorbar": {
              "outlinewidth": 0,
              "ticks": ""
             }
            },
            "type": "scatterpolargl"
           }
          ],
          "scatterternary": [
           {
            "marker": {
             "colorbar": {
              "outlinewidth": 0,
              "ticks": ""
             }
            },
            "type": "scatterternary"
           }
          ],
          "surface": [
           {
            "colorbar": {
             "outlinewidth": 0,
             "ticks": ""
            },
            "colorscale": [
             [
              0,
              "#0d0887"
             ],
             [
              0.1111111111111111,
              "#46039f"
             ],
             [
              0.2222222222222222,
              "#7201a8"
             ],
             [
              0.3333333333333333,
              "#9c179e"
             ],
             [
              0.4444444444444444,
              "#bd3786"
             ],
             [
              0.5555555555555556,
              "#d8576b"
             ],
             [
              0.6666666666666666,
              "#ed7953"
             ],
             [
              0.7777777777777778,
              "#fb9f3a"
             ],
             [
              0.8888888888888888,
              "#fdca26"
             ],
             [
              1,
              "#f0f921"
             ]
            ],
            "type": "surface"
           }
          ],
          "table": [
           {
            "cells": {
             "fill": {
              "color": "#EBF0F8"
             },
             "line": {
              "color": "white"
             }
            },
            "header": {
             "fill": {
              "color": "#C8D4E3"
             },
             "line": {
              "color": "white"
             }
            },
            "type": "table"
           }
          ]
         },
         "layout": {
          "annotationdefaults": {
           "arrowcolor": "#2a3f5f",
           "arrowhead": 0,
           "arrowwidth": 1
          },
          "coloraxis": {
           "colorbar": {
            "outlinewidth": 0,
            "ticks": ""
           }
          },
          "colorscale": {
           "diverging": [
            [
             0,
             "#8e0152"
            ],
            [
             0.1,
             "#c51b7d"
            ],
            [
             0.2,
             "#de77ae"
            ],
            [
             0.3,
             "#f1b6da"
            ],
            [
             0.4,
             "#fde0ef"
            ],
            [
             0.5,
             "#f7f7f7"
            ],
            [
             0.6,
             "#e6f5d0"
            ],
            [
             0.7,
             "#b8e186"
            ],
            [
             0.8,
             "#7fbc41"
            ],
            [
             0.9,
             "#4d9221"
            ],
            [
             1,
             "#276419"
            ]
           ],
           "sequential": [
            [
             0,
             "#0d0887"
            ],
            [
             0.1111111111111111,
             "#46039f"
            ],
            [
             0.2222222222222222,
             "#7201a8"
            ],
            [
             0.3333333333333333,
             "#9c179e"
            ],
            [
             0.4444444444444444,
             "#bd3786"
            ],
            [
             0.5555555555555556,
             "#d8576b"
            ],
            [
             0.6666666666666666,
             "#ed7953"
            ],
            [
             0.7777777777777778,
             "#fb9f3a"
            ],
            [
             0.8888888888888888,
             "#fdca26"
            ],
            [
             1,
             "#f0f921"
            ]
           ],
           "sequentialminus": [
            [
             0,
             "#0d0887"
            ],
            [
             0.1111111111111111,
             "#46039f"
            ],
            [
             0.2222222222222222,
             "#7201a8"
            ],
            [
             0.3333333333333333,
             "#9c179e"
            ],
            [
             0.4444444444444444,
             "#bd3786"
            ],
            [
             0.5555555555555556,
             "#d8576b"
            ],
            [
             0.6666666666666666,
             "#ed7953"
            ],
            [
             0.7777777777777778,
             "#fb9f3a"
            ],
            [
             0.8888888888888888,
             "#fdca26"
            ],
            [
             1,
             "#f0f921"
            ]
           ]
          },
          "colorway": [
           "#636efa",
           "#EF553B",
           "#00cc96",
           "#ab63fa",
           "#FFA15A",
           "#19d3f3",
           "#FF6692",
           "#B6E880",
           "#FF97FF",
           "#FECB52"
          ],
          "font": {
           "color": "#2a3f5f"
          },
          "geo": {
           "bgcolor": "white",
           "lakecolor": "white",
           "landcolor": "#E5ECF6",
           "showlakes": true,
           "showland": true,
           "subunitcolor": "white"
          },
          "hoverlabel": {
           "align": "left"
          },
          "hovermode": "closest",
          "mapbox": {
           "style": "light"
          },
          "paper_bgcolor": "white",
          "plot_bgcolor": "#E5ECF6",
          "polar": {
           "angularaxis": {
            "gridcolor": "white",
            "linecolor": "white",
            "ticks": ""
           },
           "bgcolor": "#E5ECF6",
           "radialaxis": {
            "gridcolor": "white",
            "linecolor": "white",
            "ticks": ""
           }
          },
          "scene": {
           "xaxis": {
            "backgroundcolor": "#E5ECF6",
            "gridcolor": "white",
            "gridwidth": 2,
            "linecolor": "white",
            "showbackground": true,
            "ticks": "",
            "zerolinecolor": "white"
           },
           "yaxis": {
            "backgroundcolor": "#E5ECF6",
            "gridcolor": "white",
            "gridwidth": 2,
            "linecolor": "white",
            "showbackground": true,
            "ticks": "",
            "zerolinecolor": "white"
           },
           "zaxis": {
            "backgroundcolor": "#E5ECF6",
            "gridcolor": "white",
            "gridwidth": 2,
            "linecolor": "white",
            "showbackground": true,
            "ticks": "",
            "zerolinecolor": "white"
           }
          },
          "shapedefaults": {
           "line": {
            "color": "#2a3f5f"
           }
          },
          "ternary": {
           "aaxis": {
            "gridcolor": "white",
            "linecolor": "white",
            "ticks": ""
           },
           "baxis": {
            "gridcolor": "white",
            "linecolor": "white",
            "ticks": ""
           },
           "bgcolor": "#E5ECF6",
           "caxis": {
            "gridcolor": "white",
            "linecolor": "white",
            "ticks": ""
           }
          },
          "title": {
           "x": 0.05
          },
          "xaxis": {
           "automargin": true,
           "gridcolor": "white",
           "linecolor": "white",
           "ticks": "",
           "title": {
            "standoff": 15
           },
           "zerolinecolor": "white",
           "zerolinewidth": 2
          },
          "yaxis": {
           "automargin": true,
           "gridcolor": "white",
           "linecolor": "white",
           "ticks": "",
           "title": {
            "standoff": 15
           },
           "zerolinecolor": "white",
           "zerolinewidth": 2
          }
         }
        },
        "width": 1000
       }
      },
      "text/html": [
       "<div>\n",
       "        \n",
       "        \n",
       "            <div id=\"e244a686-b795-4a28-b001-a15fe3edb581\" class=\"plotly-graph-div\" style=\"height:400px; width:1000px;\"></div>\n",
       "            <script type=\"text/javascript\">\n",
       "                require([\"plotly\"], function(Plotly) {\n",
       "                    window.PLOTLYENV=window.PLOTLYENV || {};\n",
       "                    \n",
       "                if (document.getElementById(\"e244a686-b795-4a28-b001-a15fe3edb581\")) {\n",
       "                    Plotly.newPlot(\n",
       "                        'e244a686-b795-4a28-b001-a15fe3edb581',\n",
       "                        [{\"cells\": {\"align\": \"left\", \"values\": [[\"Min\", \"Max\", \"Effectif\", \"Moyenne\", \"M\\u00e9diane\"], [3.0, 17.0, 17.0, 11.76, 13.0], [2.0, 14.0, 17.0, 10.47, 11.0], [3.0, 13.0, 14.0, 10.29, 11.5], [8.0, 41.0, 14.0, 32.86, 35.5], [56.0, 122.0, 14.0, 105.57, 111.0], [0.0, 93.0, 14.0, 65.29, 77.0], [52.0, 115.0, 14.0, 99.0, 104.0], [65.0, 127.0, 14.0, 111.57, 117.0]]}, \"header\": {\"align\": \"left\", \"values\": [\"Aggr\\u00e9gation\", \"Note standard Cubes\", \"Note standard Matrices\", \"Note standard Puzzles visuels\", \"Total des notes standards IRP\", \"Note composite IRP\", \"Rang percentile IRP\", \"Note \\u00e9cart type inf\\u00e9rieure IRP\", \"Note \\u00e9cart type sup\\u00e9rieure IRP\"]}, \"type\": \"table\"}],\n",
       "                        {\"height\": 400, \"template\": {\"data\": {\"bar\": [{\"error_x\": {\"color\": \"#2a3f5f\"}, \"error_y\": {\"color\": \"#2a3f5f\"}, \"marker\": {\"line\": {\"color\": \"#E5ECF6\", \"width\": 0.5}}, \"type\": \"bar\"}], \"barpolar\": [{\"marker\": {\"line\": {\"color\": \"#E5ECF6\", \"width\": 0.5}}, \"type\": \"barpolar\"}], \"carpet\": [{\"aaxis\": {\"endlinecolor\": \"#2a3f5f\", \"gridcolor\": \"white\", \"linecolor\": \"white\", \"minorgridcolor\": \"white\", \"startlinecolor\": \"#2a3f5f\"}, \"baxis\": {\"endlinecolor\": \"#2a3f5f\", \"gridcolor\": \"white\", \"linecolor\": \"white\", \"minorgridcolor\": \"white\", \"startlinecolor\": \"#2a3f5f\"}, \"type\": \"carpet\"}], \"choropleth\": [{\"colorbar\": {\"outlinewidth\": 0, \"ticks\": \"\"}, \"type\": \"choropleth\"}], \"contour\": [{\"colorbar\": {\"outlinewidth\": 0, \"ticks\": \"\"}, \"colorscale\": [[0.0, \"#0d0887\"], [0.1111111111111111, \"#46039f\"], [0.2222222222222222, \"#7201a8\"], [0.3333333333333333, \"#9c179e\"], [0.4444444444444444, \"#bd3786\"], [0.5555555555555556, \"#d8576b\"], [0.6666666666666666, \"#ed7953\"], [0.7777777777777778, \"#fb9f3a\"], [0.8888888888888888, \"#fdca26\"], [1.0, \"#f0f921\"]], \"type\": \"contour\"}], \"contourcarpet\": [{\"colorbar\": {\"outlinewidth\": 0, \"ticks\": \"\"}, \"type\": \"contourcarpet\"}], \"heatmap\": [{\"colorbar\": {\"outlinewidth\": 0, \"ticks\": \"\"}, \"colorscale\": [[0.0, \"#0d0887\"], [0.1111111111111111, \"#46039f\"], [0.2222222222222222, \"#7201a8\"], [0.3333333333333333, \"#9c179e\"], [0.4444444444444444, \"#bd3786\"], [0.5555555555555556, \"#d8576b\"], [0.6666666666666666, \"#ed7953\"], [0.7777777777777778, \"#fb9f3a\"], [0.8888888888888888, \"#fdca26\"], [1.0, \"#f0f921\"]], \"type\": \"heatmap\"}], \"heatmapgl\": [{\"colorbar\": {\"outlinewidth\": 0, \"ticks\": \"\"}, \"colorscale\": [[0.0, \"#0d0887\"], [0.1111111111111111, \"#46039f\"], [0.2222222222222222, \"#7201a8\"], [0.3333333333333333, \"#9c179e\"], [0.4444444444444444, \"#bd3786\"], [0.5555555555555556, \"#d8576b\"], [0.6666666666666666, \"#ed7953\"], [0.7777777777777778, \"#fb9f3a\"], [0.8888888888888888, \"#fdca26\"], [1.0, \"#f0f921\"]], \"type\": \"heatmapgl\"}], \"histogram\": [{\"marker\": {\"colorbar\": {\"outlinewidth\": 0, \"ticks\": \"\"}}, \"type\": \"histogram\"}], \"histogram2d\": [{\"colorbar\": {\"outlinewidth\": 0, \"ticks\": \"\"}, \"colorscale\": [[0.0, \"#0d0887\"], [0.1111111111111111, \"#46039f\"], [0.2222222222222222, \"#7201a8\"], [0.3333333333333333, \"#9c179e\"], [0.4444444444444444, \"#bd3786\"], [0.5555555555555556, \"#d8576b\"], [0.6666666666666666, \"#ed7953\"], [0.7777777777777778, \"#fb9f3a\"], [0.8888888888888888, \"#fdca26\"], [1.0, \"#f0f921\"]], \"type\": \"histogram2d\"}], \"histogram2dcontour\": [{\"colorbar\": {\"outlinewidth\": 0, \"ticks\": \"\"}, \"colorscale\": [[0.0, \"#0d0887\"], [0.1111111111111111, \"#46039f\"], [0.2222222222222222, \"#7201a8\"], [0.3333333333333333, \"#9c179e\"], [0.4444444444444444, \"#bd3786\"], [0.5555555555555556, \"#d8576b\"], [0.6666666666666666, \"#ed7953\"], [0.7777777777777778, \"#fb9f3a\"], [0.8888888888888888, \"#fdca26\"], [1.0, \"#f0f921\"]], \"type\": \"histogram2dcontour\"}], \"mesh3d\": [{\"colorbar\": {\"outlinewidth\": 0, \"ticks\": \"\"}, \"type\": \"mesh3d\"}], \"parcoords\": [{\"line\": {\"colorbar\": {\"outlinewidth\": 0, \"ticks\": \"\"}}, \"type\": \"parcoords\"}], \"pie\": [{\"automargin\": true, \"type\": \"pie\"}], \"scatter\": [{\"marker\": {\"colorbar\": {\"outlinewidth\": 0, \"ticks\": \"\"}}, \"type\": \"scatter\"}], \"scatter3d\": [{\"line\": {\"colorbar\": {\"outlinewidth\": 0, \"ticks\": \"\"}}, \"marker\": {\"colorbar\": {\"outlinewidth\": 0, \"ticks\": \"\"}}, \"type\": \"scatter3d\"}], \"scattercarpet\": [{\"marker\": {\"colorbar\": {\"outlinewidth\": 0, \"ticks\": \"\"}}, \"type\": \"scattercarpet\"}], \"scattergeo\": [{\"marker\": {\"colorbar\": {\"outlinewidth\": 0, \"ticks\": \"\"}}, \"type\": \"scattergeo\"}], \"scattergl\": [{\"marker\": {\"colorbar\": {\"outlinewidth\": 0, \"ticks\": \"\"}}, \"type\": \"scattergl\"}], \"scattermapbox\": [{\"marker\": {\"colorbar\": {\"outlinewidth\": 0, \"ticks\": \"\"}}, \"type\": \"scattermapbox\"}], \"scatterpolar\": [{\"marker\": {\"colorbar\": {\"outlinewidth\": 0, \"ticks\": \"\"}}, \"type\": \"scatterpolar\"}], \"scatterpolargl\": [{\"marker\": {\"colorbar\": {\"outlinewidth\": 0, \"ticks\": \"\"}}, \"type\": \"scatterpolargl\"}], \"scatterternary\": [{\"marker\": {\"colorbar\": {\"outlinewidth\": 0, \"ticks\": \"\"}}, \"type\": \"scatterternary\"}], \"surface\": [{\"colorbar\": {\"outlinewidth\": 0, \"ticks\": \"\"}, \"colorscale\": [[0.0, \"#0d0887\"], [0.1111111111111111, \"#46039f\"], [0.2222222222222222, \"#7201a8\"], [0.3333333333333333, \"#9c179e\"], [0.4444444444444444, \"#bd3786\"], [0.5555555555555556, \"#d8576b\"], [0.6666666666666666, \"#ed7953\"], [0.7777777777777778, \"#fb9f3a\"], [0.8888888888888888, \"#fdca26\"], [1.0, \"#f0f921\"]], \"type\": \"surface\"}], \"table\": [{\"cells\": {\"fill\": {\"color\": \"#EBF0F8\"}, \"line\": {\"color\": \"white\"}}, \"header\": {\"fill\": {\"color\": \"#C8D4E3\"}, \"line\": {\"color\": \"white\"}}, \"type\": \"table\"}]}, \"layout\": {\"annotationdefaults\": {\"arrowcolor\": \"#2a3f5f\", \"arrowhead\": 0, \"arrowwidth\": 1}, \"coloraxis\": {\"colorbar\": {\"outlinewidth\": 0, \"ticks\": \"\"}}, \"colorscale\": {\"diverging\": [[0, \"#8e0152\"], [0.1, \"#c51b7d\"], [0.2, \"#de77ae\"], [0.3, \"#f1b6da\"], [0.4, \"#fde0ef\"], [0.5, \"#f7f7f7\"], [0.6, \"#e6f5d0\"], [0.7, \"#b8e186\"], [0.8, \"#7fbc41\"], [0.9, \"#4d9221\"], [1, \"#276419\"]], \"sequential\": [[0.0, \"#0d0887\"], [0.1111111111111111, \"#46039f\"], [0.2222222222222222, \"#7201a8\"], [0.3333333333333333, \"#9c179e\"], [0.4444444444444444, \"#bd3786\"], [0.5555555555555556, \"#d8576b\"], [0.6666666666666666, \"#ed7953\"], [0.7777777777777778, \"#fb9f3a\"], [0.8888888888888888, \"#fdca26\"], [1.0, \"#f0f921\"]], \"sequentialminus\": [[0.0, \"#0d0887\"], [0.1111111111111111, \"#46039f\"], [0.2222222222222222, \"#7201a8\"], [0.3333333333333333, \"#9c179e\"], [0.4444444444444444, \"#bd3786\"], [0.5555555555555556, \"#d8576b\"], [0.6666666666666666, \"#ed7953\"], [0.7777777777777778, \"#fb9f3a\"], [0.8888888888888888, \"#fdca26\"], [1.0, \"#f0f921\"]]}, \"colorway\": [\"#636efa\", \"#EF553B\", \"#00cc96\", \"#ab63fa\", \"#FFA15A\", \"#19d3f3\", \"#FF6692\", \"#B6E880\", \"#FF97FF\", \"#FECB52\"], \"font\": {\"color\": \"#2a3f5f\"}, \"geo\": {\"bgcolor\": \"white\", \"lakecolor\": \"white\", \"landcolor\": \"#E5ECF6\", \"showlakes\": true, \"showland\": true, \"subunitcolor\": \"white\"}, \"hoverlabel\": {\"align\": \"left\"}, \"hovermode\": \"closest\", \"mapbox\": {\"style\": \"light\"}, \"paper_bgcolor\": \"white\", \"plot_bgcolor\": \"#E5ECF6\", \"polar\": {\"angularaxis\": {\"gridcolor\": \"white\", \"linecolor\": \"white\", \"ticks\": \"\"}, \"bgcolor\": \"#E5ECF6\", \"radialaxis\": {\"gridcolor\": \"white\", \"linecolor\": \"white\", \"ticks\": \"\"}}, \"scene\": {\"xaxis\": {\"backgroundcolor\": \"#E5ECF6\", \"gridcolor\": \"white\", \"gridwidth\": 2, \"linecolor\": \"white\", \"showbackground\": true, \"ticks\": \"\", \"zerolinecolor\": \"white\"}, \"yaxis\": {\"backgroundcolor\": \"#E5ECF6\", \"gridcolor\": \"white\", \"gridwidth\": 2, \"linecolor\": \"white\", \"showbackground\": true, \"ticks\": \"\", \"zerolinecolor\": \"white\"}, \"zaxis\": {\"backgroundcolor\": \"#E5ECF6\", \"gridcolor\": \"white\", \"gridwidth\": 2, \"linecolor\": \"white\", \"showbackground\": true, \"ticks\": \"\", \"zerolinecolor\": \"white\"}}, \"shapedefaults\": {\"line\": {\"color\": \"#2a3f5f\"}}, \"ternary\": {\"aaxis\": {\"gridcolor\": \"white\", \"linecolor\": \"white\", \"ticks\": \"\"}, \"baxis\": {\"gridcolor\": \"white\", \"linecolor\": \"white\", \"ticks\": \"\"}, \"bgcolor\": \"#E5ECF6\", \"caxis\": {\"gridcolor\": \"white\", \"linecolor\": \"white\", \"ticks\": \"\"}}, \"title\": {\"x\": 0.05}, \"xaxis\": {\"automargin\": true, \"gridcolor\": \"white\", \"linecolor\": \"white\", \"ticks\": \"\", \"title\": {\"standoff\": 15}, \"zerolinecolor\": \"white\", \"zerolinewidth\": 2}, \"yaxis\": {\"automargin\": true, \"gridcolor\": \"white\", \"linecolor\": \"white\", \"ticks\": \"\", \"title\": {\"standoff\": 15}, \"zerolinecolor\": \"white\", \"zerolinewidth\": 2}}}, \"width\": 1000},\n",
       "                        {\"responsive\": true}\n",
       "                    ).then(function(){\n",
       "                            \n",
       "var gd = document.getElementById('e244a686-b795-4a28-b001-a15fe3edb581');\n",
       "var x = new MutationObserver(function (mutations, observer) {{\n",
       "        var display = window.getComputedStyle(gd).display;\n",
       "        if (!display || display === 'none') {{\n",
       "            console.log([gd, 'removed!']);\n",
       "            Plotly.purge(gd);\n",
       "            observer.disconnect();\n",
       "        }}\n",
       "}});\n",
       "\n",
       "// Listen for the removal of the full notebook cells\n",
       "var notebookContainer = gd.closest('#notebook-container');\n",
       "if (notebookContainer) {{\n",
       "    x.observe(notebookContainer, {childList: true});\n",
       "}}\n",
       "\n",
       "// Listen for the clearing of the current output cell\n",
       "var outputEl = gd.closest('.output');\n",
       "if (outputEl) {{\n",
       "    x.observe(outputEl, {childList: true});\n",
       "}}\n",
       "\n",
       "                        })\n",
       "                };\n",
       "                });\n",
       "            </script>\n",
       "        </div>"
      ]
     },
     "metadata": {},
     "output_type": "display_data"
    }
   ],
   "source": [
    "fig = go.Figure(data=wais_sub)\n",
    "fig.update_layout(width=1000, height=400)\n",
    "fig.show()"
   ]
  },
  {
   "cell_type": "code",
   "execution_count": 112,
   "metadata": {
    "ExecuteTime": {
     "end_time": "2020-11-26T13:43:08.206725Z",
     "start_time": "2020-11-26T13:43:08.202403Z"
    }
   },
   "outputs": [
    {
     "data": {
      "text/html": [
       "<h5>2.1. WAIS IMT</h5>"
      ],
      "text/plain": [
       "<IPython.core.display.HTML object>"
      ]
     },
     "metadata": {},
     "output_type": "display_data"
    }
   ],
   "source": [
    "display(HTML('<h5>2.1. WAIS IMT</h5>'))"
   ]
  },
  {
   "cell_type": "code",
   "execution_count": 113,
   "metadata": {
    "ExecuteTime": {
     "end_time": "2020-11-26T13:43:08.951923Z",
     "start_time": "2020-11-26T13:43:08.948038Z"
    }
   },
   "outputs": [],
   "source": [
    "age_moy = df_wais[df_wais['Total des notes standards IMT'].notna()]['age'].mean()"
   ]
  },
  {
   "cell_type": "code",
   "execution_count": 114,
   "metadata": {
    "ExecuteTime": {
     "end_time": "2020-11-26T13:43:09.566373Z",
     "start_time": "2020-11-26T13:43:09.562418Z"
    }
   },
   "outputs": [
    {
     "data": {
      "text/html": [
       "<p>Moyenne d'âge : 46.9</p>"
      ],
      "text/plain": [
       "<IPython.core.display.HTML object>"
      ]
     },
     "metadata": {},
     "output_type": "display_data"
    }
   ],
   "source": [
    "display(HTML(\"<p>Moyenne d'âge : \"+str(round(age_moy,2))+\"</p>\"))"
   ]
  },
  {
   "cell_type": "code",
   "execution_count": 115,
   "metadata": {
    "ExecuteTime": {
     "end_time": "2020-11-26T13:43:10.242700Z",
     "start_time": "2020-11-26T13:43:10.238864Z"
    }
   },
   "outputs": [],
   "source": [
    "df_wais_sub= df_wais.iloc[:,[0,1,2,-1,22, 23, 24, 25, 26, 27, 28]]"
   ]
  },
  {
   "cell_type": "code",
   "execution_count": 116,
   "metadata": {
    "ExecuteTime": {
     "end_time": "2020-11-26T13:43:11.135773Z",
     "start_time": "2020-11-26T13:43:11.133298Z"
    }
   },
   "outputs": [],
   "source": [
    "subplot_titles = df_wais_sub.columns.values.tolist()"
   ]
  },
  {
   "cell_type": "code",
   "execution_count": 117,
   "metadata": {
    "ExecuteTime": {
     "end_time": "2020-11-26T13:43:12.090983Z",
     "start_time": "2020-11-26T13:43:11.899601Z"
    }
   },
   "outputs": [],
   "source": [
    "fig_wais_sub = make_subplots(\n",
    "    rows=4, cols=2,\n",
    "    shared_xaxes=False,\n",
    "    row_heights=[0.20, 0.20, 0.20, 0.20],\n",
    "    column_widths=[0.5, 0.5],\n",
    "    subplot_titles= subplot_titles[4:],\n",
    "    x_title='Âge',\n",
    "    y_title='Score',\n",
    "    vertical_spacing= 0.04 )\n",
    "df_wais_sub = df_wais_sub.sort_values(by=['age'])"
   ]
  },
  {
   "cell_type": "code",
   "execution_count": 118,
   "metadata": {
    "ExecuteTime": {
     "end_time": "2020-11-26T13:43:12.956798Z",
     "start_time": "2020-11-26T13:43:12.875251Z"
    }
   },
   "outputs": [
    {
     "data": {
      "application/vnd.plotly.v1+json": {
       "config": {
        "plotlyServerURL": "https://plot.ly"
       },
       "data": [
        {
         "hovertext": [
          "EA 6F FF DE 42, Type 2",
          "90 01 09 71 F0, Type 2",
          "31 19 64 3D 10, Type 2",
          "D7 FC 44 05 CA, Type 2",
          "64 0B 1B 0A 45, Type 2",
          "8A 77 B8 09 AD, Type 2",
          "02 88 A7 94 50, Type 2",
          "51 B7 6E C2 FD, Type 2",
          "A4 03 5A F0 57, Type 2",
          "90 A6 58 8A AD, Type 2",
          "F5 E4 FD A4 9F, Type 2",
          "76 8F 56 DE 15, Type 2",
          "3D F6 5A B4 9D, Type 2",
          "A6 FD C4 C0 69, Type 2",
          "4F 9C 21 D3 31, Type 2",
          "94 EB 19 B7 18, Type 2",
          "0F 30 93 5E 0E, Type 2",
          "A2 C1 35 C2 8C, Type 2",
          "19 01 73 04 E2, Type 2",
          "CA A2 77 FC 22, Type 2",
          "96 DD DC FE E3, Type 2",
          "21 36 06 E2 38, Type 2",
          "B7 CA E8 BC 99, Type 2",
          "EF 4A CF 20 AF, Type 2"
         ],
         "marker": {
          "color": [
           "#B3D9FF",
           "#B3D9FF",
           "#B3D9FF",
           "#B3D9FF",
           "#B3D9FF",
           "#B3D9FF",
           "#B3D9FF",
           "#B3D9FF",
           "#B3D9FF",
           "#B3D9FF",
           "#B3D9FF",
           "#B3D9FF",
           "#B3D9FF",
           "#B3D9FF",
           "#B3D9FF",
           "#B3D9FF",
           "#B3D9FF",
           "#B3D9FF",
           "#B3D9FF",
           "#B3D9FF",
           "#B3D9FF",
           "#B3D9FF",
           "#B3D9FF",
           "#B3D9FF"
          ],
          "size": 10
         },
         "mode": "markers+text",
         "type": "scatter",
         "x": [
          25,
          27,
          35,
          37,
          38,
          38,
          39,
          40,
          40,
          42,
          44,
          45,
          46,
          49,
          53,
          57,
          59,
          59,
          59,
          60,
          64,
          68,
          73,
          74
         ],
         "xaxis": "x",
         "y": [
          4,
          6,
          10,
          7,
          14,
          8,
          9,
          12,
          12,
          10,
          15,
          7,
          12,
          10,
          15,
          13,
          10,
          12,
          12,
          7,
          11,
          3,
          10,
          14
         ],
         "yaxis": "y"
        },
        {
         "hovertext": [
          "EA 6F FF DE 42, Type 2",
          "90 01 09 71 F0, Type 2",
          "31 19 64 3D 10, Type 2",
          "D7 FC 44 05 CA, Type 2",
          "64 0B 1B 0A 45, Type 2",
          "8A 77 B8 09 AD, Type 2",
          "02 88 A7 94 50, Type 2",
          "51 B7 6E C2 FD, Type 2",
          "A4 03 5A F0 57, Type 2",
          "90 A6 58 8A AD, Type 2",
          "F5 E4 FD A4 9F, Type 2",
          "76 8F 56 DE 15, Type 2",
          "3D F6 5A B4 9D, Type 2",
          "A6 FD C4 C0 69, Type 2",
          "4F 9C 21 D3 31, Type 2",
          "94 EB 19 B7 18, Type 2",
          "0F 30 93 5E 0E, Type 2",
          "A2 C1 35 C2 8C, Type 2",
          "19 01 73 04 E2, Type 2",
          "CA A2 77 FC 22, Type 2",
          "96 DD DC FE E3, Type 2",
          "21 36 06 E2 38, Type 2",
          "B7 CA E8 BC 99, Type 2",
          "EF 4A CF 20 AF, Type 2"
         ],
         "marker": {
          "color": [
           "#B3D9FF",
           "#B3D9FF",
           "#B3D9FF",
           "#B3D9FF",
           "#B3D9FF",
           "#B3D9FF",
           "#B3D9FF",
           "#B3D9FF",
           "#B3D9FF",
           "#B3D9FF",
           "#B3D9FF",
           "#B3D9FF",
           "#B3D9FF",
           "#B3D9FF",
           "#B3D9FF",
           "#B3D9FF",
           "#B3D9FF",
           "#B3D9FF",
           "#B3D9FF",
           "#B3D9FF",
           "#B3D9FF",
           "#B3D9FF",
           "#B3D9FF",
           "#B3D9FF"
          ],
          "size": 10
         },
         "mode": "markers+text",
         "type": "scatter",
         "x": [
          25,
          27,
          35,
          37,
          38,
          38,
          39,
          40,
          40,
          42,
          44,
          45,
          46,
          49,
          53,
          57,
          59,
          59,
          59,
          60,
          64,
          68,
          73,
          74
         ],
         "xaxis": "x2",
         "y": [
          4,
          9,
          5,
          10,
          13,
          11,
          11,
          10,
          12,
          9,
          15,
          11,
          13,
          11,
          10,
          14,
          null,
          null,
          13,
          9,
          13,
          null,
          16,
          12
         ],
         "yaxis": "y2"
        },
        {
         "hovertext": [
          "EA 6F FF DE 42, Type 2",
          "90 01 09 71 F0, Type 2",
          "31 19 64 3D 10, Type 2",
          "D7 FC 44 05 CA, Type 2",
          "64 0B 1B 0A 45, Type 2",
          "8A 77 B8 09 AD, Type 2",
          "02 88 A7 94 50, Type 2",
          "51 B7 6E C2 FD, Type 2",
          "A4 03 5A F0 57, Type 2",
          "90 A6 58 8A AD, Type 2",
          "F5 E4 FD A4 9F, Type 2",
          "76 8F 56 DE 15, Type 2",
          "3D F6 5A B4 9D, Type 2",
          "A6 FD C4 C0 69, Type 2",
          "4F 9C 21 D3 31, Type 2",
          "94 EB 19 B7 18, Type 2",
          "0F 30 93 5E 0E, Type 2",
          "A2 C1 35 C2 8C, Type 2",
          "19 01 73 04 E2, Type 2",
          "CA A2 77 FC 22, Type 2",
          "96 DD DC FE E3, Type 2",
          "21 36 06 E2 38, Type 2",
          "B7 CA E8 BC 99, Type 2",
          "EF 4A CF 20 AF, Type 2"
         ],
         "marker": {
          "color": [
           "#B3D9FF",
           "#B3D9FF",
           "#B3D9FF",
           "#B3D9FF",
           "#B3D9FF",
           "#B3D9FF",
           "#B3D9FF",
           "#B3D9FF",
           "#B3D9FF",
           "#B3D9FF",
           "#B3D9FF",
           "#B3D9FF",
           "#B3D9FF",
           "#B3D9FF",
           "#B3D9FF",
           "#B3D9FF",
           "#B3D9FF",
           "#B3D9FF",
           "#B3D9FF",
           "#B3D9FF",
           "#B3D9FF",
           "#B3D9FF",
           "#B3D9FF",
           "#B3D9FF"
          ],
          "size": 10
         },
         "mode": "markers+text",
         "type": "scatter",
         "x": [
          25,
          27,
          35,
          37,
          38,
          38,
          39,
          40,
          40,
          42,
          44,
          45,
          46,
          49,
          53,
          57,
          59,
          59,
          59,
          60,
          64,
          68,
          73,
          74
         ],
         "xaxis": "x3",
         "y": [
          8,
          15,
          15,
          17,
          27,
          19,
          20,
          22,
          24,
          19,
          30,
          18,
          25,
          21,
          25,
          27,
          null,
          null,
          25,
          16,
          24,
          null,
          26,
          26
         ],
         "yaxis": "y3"
        },
        {
         "hovertext": [
          "EA 6F FF DE 42, Type 2",
          "90 01 09 71 F0, Type 2",
          "31 19 64 3D 10, Type 2",
          "D7 FC 44 05 CA, Type 2",
          "64 0B 1B 0A 45, Type 2",
          "8A 77 B8 09 AD, Type 2",
          "02 88 A7 94 50, Type 2",
          "51 B7 6E C2 FD, Type 2",
          "A4 03 5A F0 57, Type 2",
          "90 A6 58 8A AD, Type 2",
          "F5 E4 FD A4 9F, Type 2",
          "76 8F 56 DE 15, Type 2",
          "3D F6 5A B4 9D, Type 2",
          "A6 FD C4 C0 69, Type 2",
          "4F 9C 21 D3 31, Type 2",
          "94 EB 19 B7 18, Type 2",
          "0F 30 93 5E 0E, Type 2",
          "A2 C1 35 C2 8C, Type 2",
          "19 01 73 04 E2, Type 2",
          "CA A2 77 FC 22, Type 2",
          "96 DD DC FE E3, Type 2",
          "21 36 06 E2 38, Type 2",
          "B7 CA E8 BC 99, Type 2",
          "EF 4A CF 20 AF, Type 2"
         ],
         "marker": {
          "color": [
           "#B3D9FF",
           "#B3D9FF",
           "#B3D9FF",
           "#B3D9FF",
           "#B3D9FF",
           "#B3D9FF",
           "#B3D9FF",
           "#B3D9FF",
           "#B3D9FF",
           "#B3D9FF",
           "#B3D9FF",
           "#B3D9FF",
           "#B3D9FF",
           "#B3D9FF",
           "#B3D9FF",
           "#B3D9FF",
           "#B3D9FF",
           "#B3D9FF",
           "#B3D9FF",
           "#B3D9FF",
           "#B3D9FF",
           "#B3D9FF",
           "#B3D9FF",
           "#B3D9FF"
          ],
          "size": 10
         },
         "mode": "markers+text",
         "type": "scatter",
         "x": [
          25,
          27,
          35,
          37,
          38,
          38,
          39,
          40,
          40,
          42,
          44,
          45,
          46,
          49,
          53,
          57,
          59,
          59,
          59,
          60,
          64,
          68,
          73,
          74
         ],
         "xaxis": "x4",
         "y": [
          66,
          85,
          85,
          91,
          120,
          97,
          100,
          106,
          112,
          97,
          128,
          94,
          114,
          103,
          114,
          120,
          null,
          null,
          114,
          88,
          112,
          null,
          117,
          117
         ],
         "yaxis": "y4"
        },
        {
         "hovertext": [
          "EA 6F FF DE 42, Type 2",
          "90 01 09 71 F0, Type 2",
          "31 19 64 3D 10, Type 2",
          "D7 FC 44 05 CA, Type 2",
          "64 0B 1B 0A 45, Type 2",
          "8A 77 B8 09 AD, Type 2",
          "02 88 A7 94 50, Type 2",
          "51 B7 6E C2 FD, Type 2",
          "A4 03 5A F0 57, Type 2",
          "90 A6 58 8A AD, Type 2",
          "F5 E4 FD A4 9F, Type 2",
          "76 8F 56 DE 15, Type 2",
          "3D F6 5A B4 9D, Type 2",
          "A6 FD C4 C0 69, Type 2",
          "4F 9C 21 D3 31, Type 2",
          "94 EB 19 B7 18, Type 2",
          "0F 30 93 5E 0E, Type 2",
          "A2 C1 35 C2 8C, Type 2",
          "19 01 73 04 E2, Type 2",
          "CA A2 77 FC 22, Type 2",
          "96 DD DC FE E3, Type 2",
          "21 36 06 E2 38, Type 2",
          "B7 CA E8 BC 99, Type 2",
          "EF 4A CF 20 AF, Type 2"
         ],
         "marker": {
          "color": [
           "#B3D9FF",
           "#B3D9FF",
           "#B3D9FF",
           "#B3D9FF",
           "#B3D9FF",
           "#B3D9FF",
           "#B3D9FF",
           "#B3D9FF",
           "#B3D9FF",
           "#B3D9FF",
           "#B3D9FF",
           "#B3D9FF",
           "#B3D9FF",
           "#B3D9FF",
           "#B3D9FF",
           "#B3D9FF",
           "#B3D9FF",
           "#B3D9FF",
           "#B3D9FF",
           "#B3D9FF",
           "#B3D9FF",
           "#B3D9FF",
           "#B3D9FF",
           "#B3D9FF"
          ],
          "size": 10
         },
         "mode": "markers+text",
         "type": "scatter",
         "x": [
          25,
          27,
          35,
          37,
          38,
          38,
          39,
          40,
          40,
          42,
          44,
          45,
          46,
          49,
          53,
          57,
          59,
          59,
          59,
          60,
          64,
          68,
          73,
          74
         ],
         "xaxis": "x5",
         "y": [
          1,
          16,
          16,
          27,
          91,
          42,
          50,
          66,
          79,
          42,
          97,
          34,
          82,
          58,
          82,
          91,
          null,
          null,
          82,
          21,
          79,
          null,
          87,
          87
         ],
         "yaxis": "y5"
        },
        {
         "hovertext": [
          "EA 6F FF DE 42, Type 2",
          "90 01 09 71 F0, Type 2",
          "31 19 64 3D 10, Type 2",
          "D7 FC 44 05 CA, Type 2",
          "64 0B 1B 0A 45, Type 2",
          "8A 77 B8 09 AD, Type 2",
          "02 88 A7 94 50, Type 2",
          "51 B7 6E C2 FD, Type 2",
          "A4 03 5A F0 57, Type 2",
          "90 A6 58 8A AD, Type 2",
          "F5 E4 FD A4 9F, Type 2",
          "76 8F 56 DE 15, Type 2",
          "3D F6 5A B4 9D, Type 2",
          "A6 FD C4 C0 69, Type 2",
          "4F 9C 21 D3 31, Type 2",
          "94 EB 19 B7 18, Type 2",
          "0F 30 93 5E 0E, Type 2",
          "A2 C1 35 C2 8C, Type 2",
          "19 01 73 04 E2, Type 2",
          "CA A2 77 FC 22, Type 2",
          "96 DD DC FE E3, Type 2",
          "21 36 06 E2 38, Type 2",
          "B7 CA E8 BC 99, Type 2",
          "EF 4A CF 20 AF, Type 2"
         ],
         "marker": {
          "color": [
           "#B3D9FF",
           "#B3D9FF",
           "#B3D9FF",
           "#B3D9FF",
           "#B3D9FF",
           "#B3D9FF",
           "#B3D9FF",
           "#B3D9FF",
           "#B3D9FF",
           "#B3D9FF",
           "#B3D9FF",
           "#B3D9FF",
           "#B3D9FF",
           "#B3D9FF",
           "#B3D9FF",
           "#B3D9FF",
           "#B3D9FF",
           "#B3D9FF",
           "#B3D9FF",
           "#B3D9FF",
           "#B3D9FF",
           "#B3D9FF",
           "#B3D9FF",
           "#B3D9FF"
          ],
          "size": 10
         },
         "mode": "markers+text",
         "type": "scatter",
         "x": [
          25,
          27,
          35,
          37,
          38,
          38,
          39,
          40,
          40,
          42,
          44,
          45,
          46,
          49,
          53,
          57,
          59,
          59,
          59,
          60,
          64,
          68,
          73,
          74
         ],
         "xaxis": "x6",
         "y": [
          61,
          79,
          79,
          84,
          112,
          90,
          93,
          98,
          104,
          90,
          119,
          87,
          106,
          96,
          106,
          112,
          null,
          null,
          106,
          82,
          104,
          null,
          109,
          109
         ],
         "yaxis": "y6"
        },
        {
         "hovertext": [
          "EA 6F FF DE 42, Type 2",
          "90 01 09 71 F0, Type 2",
          "31 19 64 3D 10, Type 2",
          "D7 FC 44 05 CA, Type 2",
          "64 0B 1B 0A 45, Type 2",
          "8A 77 B8 09 AD, Type 2",
          "02 88 A7 94 50, Type 2",
          "51 B7 6E C2 FD, Type 2",
          "A4 03 5A F0 57, Type 2",
          "90 A6 58 8A AD, Type 2",
          "F5 E4 FD A4 9F, Type 2",
          "76 8F 56 DE 15, Type 2",
          "3D F6 5A B4 9D, Type 2",
          "A6 FD C4 C0 69, Type 2",
          "4F 9C 21 D3 31, Type 2",
          "94 EB 19 B7 18, Type 2",
          "0F 30 93 5E 0E, Type 2",
          "A2 C1 35 C2 8C, Type 2",
          "19 01 73 04 E2, Type 2",
          "CA A2 77 FC 22, Type 2",
          "96 DD DC FE E3, Type 2",
          "21 36 06 E2 38, Type 2",
          "B7 CA E8 BC 99, Type 2",
          "EF 4A CF 20 AF, Type 2"
         ],
         "marker": {
          "color": [
           "#B3D9FF",
           "#B3D9FF",
           "#B3D9FF",
           "#B3D9FF",
           "#B3D9FF",
           "#B3D9FF",
           "#B3D9FF",
           "#B3D9FF",
           "#B3D9FF",
           "#B3D9FF",
           "#B3D9FF",
           "#B3D9FF",
           "#B3D9FF",
           "#B3D9FF",
           "#B3D9FF",
           "#B3D9FF",
           "#B3D9FF",
           "#B3D9FF",
           "#B3D9FF",
           "#B3D9FF",
           "#B3D9FF",
           "#B3D9FF",
           "#B3D9FF",
           "#B3D9FF"
          ],
          "size": 10
         },
         "mode": "markers+text",
         "type": "scatter",
         "x": [
          25,
          27,
          35,
          37,
          38,
          38,
          39,
          40,
          40,
          42,
          44,
          45,
          46,
          49,
          53,
          57,
          59,
          59,
          59,
          60,
          64,
          68,
          73,
          74
         ],
         "xaxis": "x7",
         "y": [
          75,
          93,
          93,
          99,
          126,
          104,
          107,
          113,
          118,
          104,
          133,
          102,
          120,
          110,
          120,
          126,
          null,
          null,
          120,
          96,
          118,
          null,
          123,
          123
         ],
         "yaxis": "y7"
        }
       ],
       "layout": {
        "annotations": [
         {
          "font": {
           "size": 16
          },
          "showarrow": false,
          "text": "Note standard Mémoires des chiffres",
          "x": 0.225,
          "xanchor": "center",
          "xref": "paper",
          "y": 1,
          "yanchor": "bottom",
          "yref": "paper"
         },
         {
          "font": {
           "size": 16
          },
          "showarrow": false,
          "text": "Note standard Arithmétique",
          "x": 0.775,
          "xanchor": "center",
          "xref": "paper",
          "y": 1,
          "yanchor": "bottom",
          "yref": "paper"
         },
         {
          "font": {
           "size": 16
          },
          "showarrow": false,
          "text": "Total des notes standards IMT",
          "x": 0.225,
          "xanchor": "center",
          "xref": "paper",
          "y": 0.74,
          "yanchor": "bottom",
          "yref": "paper"
         },
         {
          "font": {
           "size": 16
          },
          "showarrow": false,
          "text": "Note composite IMT",
          "x": 0.775,
          "xanchor": "center",
          "xref": "paper",
          "y": 0.74,
          "yanchor": "bottom",
          "yref": "paper"
         },
         {
          "font": {
           "size": 16
          },
          "showarrow": false,
          "text": "Rang percentile IMT",
          "x": 0.225,
          "xanchor": "center",
          "xref": "paper",
          "y": 0.48,
          "yanchor": "bottom",
          "yref": "paper"
         },
         {
          "font": {
           "size": 16
          },
          "showarrow": false,
          "text": "Note écart type inférieure IMT",
          "x": 0.775,
          "xanchor": "center",
          "xref": "paper",
          "y": 0.48,
          "yanchor": "bottom",
          "yref": "paper"
         },
         {
          "font": {
           "size": 16
          },
          "showarrow": false,
          "text": "Note écart type supérieure IMT",
          "x": 0.225,
          "xanchor": "center",
          "xref": "paper",
          "y": 0.22,
          "yanchor": "bottom",
          "yref": "paper"
         },
         {
          "font": {
           "size": 16
          },
          "showarrow": false,
          "text": "Âge",
          "x": 0.5,
          "xanchor": "center",
          "xref": "paper",
          "y": 0,
          "yanchor": "top",
          "yref": "paper",
          "yshift": -30
         },
         {
          "font": {
           "size": 16
          },
          "showarrow": false,
          "text": "Score",
          "textangle": -90,
          "x": 0,
          "xanchor": "right",
          "xref": "paper",
          "xshift": -40,
          "y": 0.5,
          "yanchor": "middle",
          "yref": "paper"
         }
        ],
        "height": 1500,
        "showlegend": false,
        "template": {
         "data": {
          "bar": [
           {
            "error_x": {
             "color": "#2a3f5f"
            },
            "error_y": {
             "color": "#2a3f5f"
            },
            "marker": {
             "line": {
              "color": "#E5ECF6",
              "width": 0.5
             }
            },
            "type": "bar"
           }
          ],
          "barpolar": [
           {
            "marker": {
             "line": {
              "color": "#E5ECF6",
              "width": 0.5
             }
            },
            "type": "barpolar"
           }
          ],
          "carpet": [
           {
            "aaxis": {
             "endlinecolor": "#2a3f5f",
             "gridcolor": "white",
             "linecolor": "white",
             "minorgridcolor": "white",
             "startlinecolor": "#2a3f5f"
            },
            "baxis": {
             "endlinecolor": "#2a3f5f",
             "gridcolor": "white",
             "linecolor": "white",
             "minorgridcolor": "white",
             "startlinecolor": "#2a3f5f"
            },
            "type": "carpet"
           }
          ],
          "choropleth": [
           {
            "colorbar": {
             "outlinewidth": 0,
             "ticks": ""
            },
            "type": "choropleth"
           }
          ],
          "contour": [
           {
            "colorbar": {
             "outlinewidth": 0,
             "ticks": ""
            },
            "colorscale": [
             [
              0,
              "#0d0887"
             ],
             [
              0.1111111111111111,
              "#46039f"
             ],
             [
              0.2222222222222222,
              "#7201a8"
             ],
             [
              0.3333333333333333,
              "#9c179e"
             ],
             [
              0.4444444444444444,
              "#bd3786"
             ],
             [
              0.5555555555555556,
              "#d8576b"
             ],
             [
              0.6666666666666666,
              "#ed7953"
             ],
             [
              0.7777777777777778,
              "#fb9f3a"
             ],
             [
              0.8888888888888888,
              "#fdca26"
             ],
             [
              1,
              "#f0f921"
             ]
            ],
            "type": "contour"
           }
          ],
          "contourcarpet": [
           {
            "colorbar": {
             "outlinewidth": 0,
             "ticks": ""
            },
            "type": "contourcarpet"
           }
          ],
          "heatmap": [
           {
            "colorbar": {
             "outlinewidth": 0,
             "ticks": ""
            },
            "colorscale": [
             [
              0,
              "#0d0887"
             ],
             [
              0.1111111111111111,
              "#46039f"
             ],
             [
              0.2222222222222222,
              "#7201a8"
             ],
             [
              0.3333333333333333,
              "#9c179e"
             ],
             [
              0.4444444444444444,
              "#bd3786"
             ],
             [
              0.5555555555555556,
              "#d8576b"
             ],
             [
              0.6666666666666666,
              "#ed7953"
             ],
             [
              0.7777777777777778,
              "#fb9f3a"
             ],
             [
              0.8888888888888888,
              "#fdca26"
             ],
             [
              1,
              "#f0f921"
             ]
            ],
            "type": "heatmap"
           }
          ],
          "heatmapgl": [
           {
            "colorbar": {
             "outlinewidth": 0,
             "ticks": ""
            },
            "colorscale": [
             [
              0,
              "#0d0887"
             ],
             [
              0.1111111111111111,
              "#46039f"
             ],
             [
              0.2222222222222222,
              "#7201a8"
             ],
             [
              0.3333333333333333,
              "#9c179e"
             ],
             [
              0.4444444444444444,
              "#bd3786"
             ],
             [
              0.5555555555555556,
              "#d8576b"
             ],
             [
              0.6666666666666666,
              "#ed7953"
             ],
             [
              0.7777777777777778,
              "#fb9f3a"
             ],
             [
              0.8888888888888888,
              "#fdca26"
             ],
             [
              1,
              "#f0f921"
             ]
            ],
            "type": "heatmapgl"
           }
          ],
          "histogram": [
           {
            "marker": {
             "colorbar": {
              "outlinewidth": 0,
              "ticks": ""
             }
            },
            "type": "histogram"
           }
          ],
          "histogram2d": [
           {
            "colorbar": {
             "outlinewidth": 0,
             "ticks": ""
            },
            "colorscale": [
             [
              0,
              "#0d0887"
             ],
             [
              0.1111111111111111,
              "#46039f"
             ],
             [
              0.2222222222222222,
              "#7201a8"
             ],
             [
              0.3333333333333333,
              "#9c179e"
             ],
             [
              0.4444444444444444,
              "#bd3786"
             ],
             [
              0.5555555555555556,
              "#d8576b"
             ],
             [
              0.6666666666666666,
              "#ed7953"
             ],
             [
              0.7777777777777778,
              "#fb9f3a"
             ],
             [
              0.8888888888888888,
              "#fdca26"
             ],
             [
              1,
              "#f0f921"
             ]
            ],
            "type": "histogram2d"
           }
          ],
          "histogram2dcontour": [
           {
            "colorbar": {
             "outlinewidth": 0,
             "ticks": ""
            },
            "colorscale": [
             [
              0,
              "#0d0887"
             ],
             [
              0.1111111111111111,
              "#46039f"
             ],
             [
              0.2222222222222222,
              "#7201a8"
             ],
             [
              0.3333333333333333,
              "#9c179e"
             ],
             [
              0.4444444444444444,
              "#bd3786"
             ],
             [
              0.5555555555555556,
              "#d8576b"
             ],
             [
              0.6666666666666666,
              "#ed7953"
             ],
             [
              0.7777777777777778,
              "#fb9f3a"
             ],
             [
              0.8888888888888888,
              "#fdca26"
             ],
             [
              1,
              "#f0f921"
             ]
            ],
            "type": "histogram2dcontour"
           }
          ],
          "mesh3d": [
           {
            "colorbar": {
             "outlinewidth": 0,
             "ticks": ""
            },
            "type": "mesh3d"
           }
          ],
          "parcoords": [
           {
            "line": {
             "colorbar": {
              "outlinewidth": 0,
              "ticks": ""
             }
            },
            "type": "parcoords"
           }
          ],
          "pie": [
           {
            "automargin": true,
            "type": "pie"
           }
          ],
          "scatter": [
           {
            "marker": {
             "colorbar": {
              "outlinewidth": 0,
              "ticks": ""
             }
            },
            "type": "scatter"
           }
          ],
          "scatter3d": [
           {
            "line": {
             "colorbar": {
              "outlinewidth": 0,
              "ticks": ""
             }
            },
            "marker": {
             "colorbar": {
              "outlinewidth": 0,
              "ticks": ""
             }
            },
            "type": "scatter3d"
           }
          ],
          "scattercarpet": [
           {
            "marker": {
             "colorbar": {
              "outlinewidth": 0,
              "ticks": ""
             }
            },
            "type": "scattercarpet"
           }
          ],
          "scattergeo": [
           {
            "marker": {
             "colorbar": {
              "outlinewidth": 0,
              "ticks": ""
             }
            },
            "type": "scattergeo"
           }
          ],
          "scattergl": [
           {
            "marker": {
             "colorbar": {
              "outlinewidth": 0,
              "ticks": ""
             }
            },
            "type": "scattergl"
           }
          ],
          "scattermapbox": [
           {
            "marker": {
             "colorbar": {
              "outlinewidth": 0,
              "ticks": ""
             }
            },
            "type": "scattermapbox"
           }
          ],
          "scatterpolar": [
           {
            "marker": {
             "colorbar": {
              "outlinewidth": 0,
              "ticks": ""
             }
            },
            "type": "scatterpolar"
           }
          ],
          "scatterpolargl": [
           {
            "marker": {
             "colorbar": {
              "outlinewidth": 0,
              "ticks": ""
             }
            },
            "type": "scatterpolargl"
           }
          ],
          "scatterternary": [
           {
            "marker": {
             "colorbar": {
              "outlinewidth": 0,
              "ticks": ""
             }
            },
            "type": "scatterternary"
           }
          ],
          "surface": [
           {
            "colorbar": {
             "outlinewidth": 0,
             "ticks": ""
            },
            "colorscale": [
             [
              0,
              "#0d0887"
             ],
             [
              0.1111111111111111,
              "#46039f"
             ],
             [
              0.2222222222222222,
              "#7201a8"
             ],
             [
              0.3333333333333333,
              "#9c179e"
             ],
             [
              0.4444444444444444,
              "#bd3786"
             ],
             [
              0.5555555555555556,
              "#d8576b"
             ],
             [
              0.6666666666666666,
              "#ed7953"
             ],
             [
              0.7777777777777778,
              "#fb9f3a"
             ],
             [
              0.8888888888888888,
              "#fdca26"
             ],
             [
              1,
              "#f0f921"
             ]
            ],
            "type": "surface"
           }
          ],
          "table": [
           {
            "cells": {
             "fill": {
              "color": "#EBF0F8"
             },
             "line": {
              "color": "white"
             }
            },
            "header": {
             "fill": {
              "color": "#C8D4E3"
             },
             "line": {
              "color": "white"
             }
            },
            "type": "table"
           }
          ]
         },
         "layout": {
          "annotationdefaults": {
           "arrowcolor": "#2a3f5f",
           "arrowhead": 0,
           "arrowwidth": 1
          },
          "coloraxis": {
           "colorbar": {
            "outlinewidth": 0,
            "ticks": ""
           }
          },
          "colorscale": {
           "diverging": [
            [
             0,
             "#8e0152"
            ],
            [
             0.1,
             "#c51b7d"
            ],
            [
             0.2,
             "#de77ae"
            ],
            [
             0.3,
             "#f1b6da"
            ],
            [
             0.4,
             "#fde0ef"
            ],
            [
             0.5,
             "#f7f7f7"
            ],
            [
             0.6,
             "#e6f5d0"
            ],
            [
             0.7,
             "#b8e186"
            ],
            [
             0.8,
             "#7fbc41"
            ],
            [
             0.9,
             "#4d9221"
            ],
            [
             1,
             "#276419"
            ]
           ],
           "sequential": [
            [
             0,
             "#0d0887"
            ],
            [
             0.1111111111111111,
             "#46039f"
            ],
            [
             0.2222222222222222,
             "#7201a8"
            ],
            [
             0.3333333333333333,
             "#9c179e"
            ],
            [
             0.4444444444444444,
             "#bd3786"
            ],
            [
             0.5555555555555556,
             "#d8576b"
            ],
            [
             0.6666666666666666,
             "#ed7953"
            ],
            [
             0.7777777777777778,
             "#fb9f3a"
            ],
            [
             0.8888888888888888,
             "#fdca26"
            ],
            [
             1,
             "#f0f921"
            ]
           ],
           "sequentialminus": [
            [
             0,
             "#0d0887"
            ],
            [
             0.1111111111111111,
             "#46039f"
            ],
            [
             0.2222222222222222,
             "#7201a8"
            ],
            [
             0.3333333333333333,
             "#9c179e"
            ],
            [
             0.4444444444444444,
             "#bd3786"
            ],
            [
             0.5555555555555556,
             "#d8576b"
            ],
            [
             0.6666666666666666,
             "#ed7953"
            ],
            [
             0.7777777777777778,
             "#fb9f3a"
            ],
            [
             0.8888888888888888,
             "#fdca26"
            ],
            [
             1,
             "#f0f921"
            ]
           ]
          },
          "colorway": [
           "#636efa",
           "#EF553B",
           "#00cc96",
           "#ab63fa",
           "#FFA15A",
           "#19d3f3",
           "#FF6692",
           "#B6E880",
           "#FF97FF",
           "#FECB52"
          ],
          "font": {
           "color": "#2a3f5f"
          },
          "geo": {
           "bgcolor": "white",
           "lakecolor": "white",
           "landcolor": "#E5ECF6",
           "showlakes": true,
           "showland": true,
           "subunitcolor": "white"
          },
          "hoverlabel": {
           "align": "left"
          },
          "hovermode": "closest",
          "mapbox": {
           "style": "light"
          },
          "paper_bgcolor": "white",
          "plot_bgcolor": "#E5ECF6",
          "polar": {
           "angularaxis": {
            "gridcolor": "white",
            "linecolor": "white",
            "ticks": ""
           },
           "bgcolor": "#E5ECF6",
           "radialaxis": {
            "gridcolor": "white",
            "linecolor": "white",
            "ticks": ""
           }
          },
          "scene": {
           "xaxis": {
            "backgroundcolor": "#E5ECF6",
            "gridcolor": "white",
            "gridwidth": 2,
            "linecolor": "white",
            "showbackground": true,
            "ticks": "",
            "zerolinecolor": "white"
           },
           "yaxis": {
            "backgroundcolor": "#E5ECF6",
            "gridcolor": "white",
            "gridwidth": 2,
            "linecolor": "white",
            "showbackground": true,
            "ticks": "",
            "zerolinecolor": "white"
           },
           "zaxis": {
            "backgroundcolor": "#E5ECF6",
            "gridcolor": "white",
            "gridwidth": 2,
            "linecolor": "white",
            "showbackground": true,
            "ticks": "",
            "zerolinecolor": "white"
           }
          },
          "shapedefaults": {
           "line": {
            "color": "#2a3f5f"
           }
          },
          "ternary": {
           "aaxis": {
            "gridcolor": "white",
            "linecolor": "white",
            "ticks": ""
           },
           "baxis": {
            "gridcolor": "white",
            "linecolor": "white",
            "ticks": ""
           },
           "bgcolor": "#E5ECF6",
           "caxis": {
            "gridcolor": "white",
            "linecolor": "white",
            "ticks": ""
           }
          },
          "title": {
           "x": 0.05
          },
          "xaxis": {
           "automargin": true,
           "gridcolor": "white",
           "linecolor": "white",
           "ticks": "",
           "title": {
            "standoff": 15
           },
           "zerolinecolor": "white",
           "zerolinewidth": 2
          },
          "yaxis": {
           "automargin": true,
           "gridcolor": "white",
           "linecolor": "white",
           "ticks": "",
           "title": {
            "standoff": 15
           },
           "zerolinecolor": "white",
           "zerolinewidth": 2
          }
         }
        },
        "width": 800,
        "xaxis": {
         "anchor": "y",
         "domain": [
          0,
          0.45
         ]
        },
        "xaxis2": {
         "anchor": "y2",
         "domain": [
          0.55,
          1
         ]
        },
        "xaxis3": {
         "anchor": "y3",
         "domain": [
          0,
          0.45
         ]
        },
        "xaxis4": {
         "anchor": "y4",
         "domain": [
          0.55,
          1
         ]
        },
        "xaxis5": {
         "anchor": "y5",
         "domain": [
          0,
          0.45
         ]
        },
        "xaxis6": {
         "anchor": "y6",
         "domain": [
          0.55,
          1
         ]
        },
        "xaxis7": {
         "anchor": "y7",
         "domain": [
          0,
          0.45
         ]
        },
        "xaxis8": {
         "anchor": "y8",
         "domain": [
          0.55,
          1
         ]
        },
        "yaxis": {
         "anchor": "x",
         "domain": [
          0.78,
          1
         ]
        },
        "yaxis2": {
         "anchor": "x2",
         "domain": [
          0.78,
          1
         ]
        },
        "yaxis3": {
         "anchor": "x3",
         "domain": [
          0.52,
          0.74
         ]
        },
        "yaxis4": {
         "anchor": "x4",
         "domain": [
          0.52,
          0.74
         ]
        },
        "yaxis5": {
         "anchor": "x5",
         "domain": [
          0.26,
          0.48
         ]
        },
        "yaxis6": {
         "anchor": "x6",
         "domain": [
          0.26,
          0.48
         ]
        },
        "yaxis7": {
         "anchor": "x7",
         "domain": [
          0,
          0.22
         ]
        },
        "yaxis8": {
         "anchor": "x8",
         "domain": [
          0,
          0.22
         ]
        }
       }
      },
      "text/html": [
       "<div>\n",
       "        \n",
       "        \n",
       "            <div id=\"5d27458e-94cb-4431-951a-95ba2f98e1a9\" class=\"plotly-graph-div\" style=\"height:1500px; width:800px;\"></div>\n",
       "            <script type=\"text/javascript\">\n",
       "                require([\"plotly\"], function(Plotly) {\n",
       "                    window.PLOTLYENV=window.PLOTLYENV || {};\n",
       "                    \n",
       "                if (document.getElementById(\"5d27458e-94cb-4431-951a-95ba2f98e1a9\")) {\n",
       "                    Plotly.newPlot(\n",
       "                        '5d27458e-94cb-4431-951a-95ba2f98e1a9',\n",
       "                        [{\"hovertext\": [\"EA 6F FF DE 42, Type 2\", \"90 01 09 71 F0, Type 2\", \"31 19 64 3D 10, Type 2\", \"D7 FC 44 05 CA, Type 2\", \"64 0B 1B 0A 45, Type 2\", \"8A 77 B8 09 AD, Type 2\", \"02 88 A7 94 50, Type 2\", \"51 B7 6E C2 FD, Type 2\", \"A4 03 5A F0 57, Type 2\", \"90 A6 58 8A AD, Type 2\", \"F5 E4 FD A4 9F, Type 2\", \"76 8F 56 DE 15, Type 2\", \"3D F6 5A B4 9D, Type 2\", \"A6 FD C4 C0 69, Type 2\", \"4F 9C 21 D3 31, Type 2\", \"94 EB 19 B7 18, Type 2\", \"0F 30 93 5E 0E, Type 2\", \"A2 C1 35 C2 8C, Type 2\", \"19 01 73 04 E2, Type 2\", \"CA A2 77 FC 22, Type 2\", \"96 DD DC FE E3, Type 2\", \"21 36 06 E2 38, Type 2\", \"B7 CA E8 BC 99, Type 2\", \"EF 4A CF 20 AF, Type 2\"], \"marker\": {\"color\": [\"#B3D9FF\", \"#B3D9FF\", \"#B3D9FF\", \"#B3D9FF\", \"#B3D9FF\", \"#B3D9FF\", \"#B3D9FF\", \"#B3D9FF\", \"#B3D9FF\", \"#B3D9FF\", \"#B3D9FF\", \"#B3D9FF\", \"#B3D9FF\", \"#B3D9FF\", \"#B3D9FF\", \"#B3D9FF\", \"#B3D9FF\", \"#B3D9FF\", \"#B3D9FF\", \"#B3D9FF\", \"#B3D9FF\", \"#B3D9FF\", \"#B3D9FF\", \"#B3D9FF\"], \"size\": 10}, \"mode\": \"markers+text\", \"type\": \"scatter\", \"x\": [25.0, 27.0, 35.0, 37.0, 38.0, 38.0, 39.0, 40.0, 40.0, 42.0, 44.0, 45.0, 46.0, 49.0, 53.0, 57.0, 59.0, 59.0, 59.0, 60.0, 64.0, 68.0, 73.0, 74.0], \"xaxis\": \"x\", \"y\": [4.0, 6.0, 10.0, 7.0, 14.0, 8.0, 9.0, 12.0, 12.0, 10.0, 15.0, 7.0, 12.0, 10.0, 15.0, 13.0, 10.0, 12.0, 12.0, 7.0, 11.0, 3.0, 10.0, 14.0], \"yaxis\": \"y\"}, {\"hovertext\": [\"EA 6F FF DE 42, Type 2\", \"90 01 09 71 F0, Type 2\", \"31 19 64 3D 10, Type 2\", \"D7 FC 44 05 CA, Type 2\", \"64 0B 1B 0A 45, Type 2\", \"8A 77 B8 09 AD, Type 2\", \"02 88 A7 94 50, Type 2\", \"51 B7 6E C2 FD, Type 2\", \"A4 03 5A F0 57, Type 2\", \"90 A6 58 8A AD, Type 2\", \"F5 E4 FD A4 9F, Type 2\", \"76 8F 56 DE 15, Type 2\", \"3D F6 5A B4 9D, Type 2\", \"A6 FD C4 C0 69, Type 2\", \"4F 9C 21 D3 31, Type 2\", \"94 EB 19 B7 18, Type 2\", \"0F 30 93 5E 0E, Type 2\", \"A2 C1 35 C2 8C, Type 2\", \"19 01 73 04 E2, Type 2\", \"CA A2 77 FC 22, Type 2\", \"96 DD DC FE E3, Type 2\", \"21 36 06 E2 38, Type 2\", \"B7 CA E8 BC 99, Type 2\", \"EF 4A CF 20 AF, Type 2\"], \"marker\": {\"color\": [\"#B3D9FF\", \"#B3D9FF\", \"#B3D9FF\", \"#B3D9FF\", \"#B3D9FF\", \"#B3D9FF\", \"#B3D9FF\", \"#B3D9FF\", \"#B3D9FF\", \"#B3D9FF\", \"#B3D9FF\", \"#B3D9FF\", \"#B3D9FF\", \"#B3D9FF\", \"#B3D9FF\", \"#B3D9FF\", \"#B3D9FF\", \"#B3D9FF\", \"#B3D9FF\", \"#B3D9FF\", \"#B3D9FF\", \"#B3D9FF\", \"#B3D9FF\", \"#B3D9FF\"], \"size\": 10}, \"mode\": \"markers+text\", \"type\": \"scatter\", \"x\": [25.0, 27.0, 35.0, 37.0, 38.0, 38.0, 39.0, 40.0, 40.0, 42.0, 44.0, 45.0, 46.0, 49.0, 53.0, 57.0, 59.0, 59.0, 59.0, 60.0, 64.0, 68.0, 73.0, 74.0], \"xaxis\": \"x2\", \"y\": [4.0, 9.0, 5.0, 10.0, 13.0, 11.0, 11.0, 10.0, 12.0, 9.0, 15.0, 11.0, 13.0, 11.0, 10.0, 14.0, null, null, 13.0, 9.0, 13.0, null, 16.0, 12.0], \"yaxis\": \"y2\"}, {\"hovertext\": [\"EA 6F FF DE 42, Type 2\", \"90 01 09 71 F0, Type 2\", \"31 19 64 3D 10, Type 2\", \"D7 FC 44 05 CA, Type 2\", \"64 0B 1B 0A 45, Type 2\", \"8A 77 B8 09 AD, Type 2\", \"02 88 A7 94 50, Type 2\", \"51 B7 6E C2 FD, Type 2\", \"A4 03 5A F0 57, Type 2\", \"90 A6 58 8A AD, Type 2\", \"F5 E4 FD A4 9F, Type 2\", \"76 8F 56 DE 15, Type 2\", \"3D F6 5A B4 9D, Type 2\", \"A6 FD C4 C0 69, Type 2\", \"4F 9C 21 D3 31, Type 2\", \"94 EB 19 B7 18, Type 2\", \"0F 30 93 5E 0E, Type 2\", \"A2 C1 35 C2 8C, Type 2\", \"19 01 73 04 E2, Type 2\", \"CA A2 77 FC 22, Type 2\", \"96 DD DC FE E3, Type 2\", \"21 36 06 E2 38, Type 2\", \"B7 CA E8 BC 99, Type 2\", \"EF 4A CF 20 AF, Type 2\"], \"marker\": {\"color\": [\"#B3D9FF\", \"#B3D9FF\", \"#B3D9FF\", \"#B3D9FF\", \"#B3D9FF\", \"#B3D9FF\", \"#B3D9FF\", \"#B3D9FF\", \"#B3D9FF\", \"#B3D9FF\", \"#B3D9FF\", \"#B3D9FF\", \"#B3D9FF\", \"#B3D9FF\", \"#B3D9FF\", \"#B3D9FF\", \"#B3D9FF\", \"#B3D9FF\", \"#B3D9FF\", \"#B3D9FF\", \"#B3D9FF\", \"#B3D9FF\", \"#B3D9FF\", \"#B3D9FF\"], \"size\": 10}, \"mode\": \"markers+text\", \"type\": \"scatter\", \"x\": [25.0, 27.0, 35.0, 37.0, 38.0, 38.0, 39.0, 40.0, 40.0, 42.0, 44.0, 45.0, 46.0, 49.0, 53.0, 57.0, 59.0, 59.0, 59.0, 60.0, 64.0, 68.0, 73.0, 74.0], \"xaxis\": \"x3\", \"y\": [8.0, 15.0, 15.0, 17.0, 27.0, 19.0, 20.0, 22.0, 24.0, 19.0, 30.0, 18.0, 25.0, 21.0, 25.0, 27.0, null, null, 25.0, 16.0, 24.0, null, 26.0, 26.0], \"yaxis\": \"y3\"}, {\"hovertext\": [\"EA 6F FF DE 42, Type 2\", \"90 01 09 71 F0, Type 2\", \"31 19 64 3D 10, Type 2\", \"D7 FC 44 05 CA, Type 2\", \"64 0B 1B 0A 45, Type 2\", \"8A 77 B8 09 AD, Type 2\", \"02 88 A7 94 50, Type 2\", \"51 B7 6E C2 FD, Type 2\", \"A4 03 5A F0 57, Type 2\", \"90 A6 58 8A AD, Type 2\", \"F5 E4 FD A4 9F, Type 2\", \"76 8F 56 DE 15, Type 2\", \"3D F6 5A B4 9D, Type 2\", \"A6 FD C4 C0 69, Type 2\", \"4F 9C 21 D3 31, Type 2\", \"94 EB 19 B7 18, Type 2\", \"0F 30 93 5E 0E, Type 2\", \"A2 C1 35 C2 8C, Type 2\", \"19 01 73 04 E2, Type 2\", \"CA A2 77 FC 22, Type 2\", \"96 DD DC FE E3, Type 2\", \"21 36 06 E2 38, Type 2\", \"B7 CA E8 BC 99, Type 2\", \"EF 4A CF 20 AF, Type 2\"], \"marker\": {\"color\": [\"#B3D9FF\", \"#B3D9FF\", \"#B3D9FF\", \"#B3D9FF\", \"#B3D9FF\", \"#B3D9FF\", \"#B3D9FF\", \"#B3D9FF\", \"#B3D9FF\", \"#B3D9FF\", \"#B3D9FF\", \"#B3D9FF\", \"#B3D9FF\", \"#B3D9FF\", \"#B3D9FF\", \"#B3D9FF\", \"#B3D9FF\", \"#B3D9FF\", \"#B3D9FF\", \"#B3D9FF\", \"#B3D9FF\", \"#B3D9FF\", \"#B3D9FF\", \"#B3D9FF\"], \"size\": 10}, \"mode\": \"markers+text\", \"type\": \"scatter\", \"x\": [25.0, 27.0, 35.0, 37.0, 38.0, 38.0, 39.0, 40.0, 40.0, 42.0, 44.0, 45.0, 46.0, 49.0, 53.0, 57.0, 59.0, 59.0, 59.0, 60.0, 64.0, 68.0, 73.0, 74.0], \"xaxis\": \"x4\", \"y\": [66.0, 85.0, 85.0, 91.0, 120.0, 97.0, 100.0, 106.0, 112.0, 97.0, 128.0, 94.0, 114.0, 103.0, 114.0, 120.0, null, null, 114.0, 88.0, 112.0, null, 117.0, 117.0], \"yaxis\": \"y4\"}, {\"hovertext\": [\"EA 6F FF DE 42, Type 2\", \"90 01 09 71 F0, Type 2\", \"31 19 64 3D 10, Type 2\", \"D7 FC 44 05 CA, Type 2\", \"64 0B 1B 0A 45, Type 2\", \"8A 77 B8 09 AD, Type 2\", \"02 88 A7 94 50, Type 2\", \"51 B7 6E C2 FD, Type 2\", \"A4 03 5A F0 57, Type 2\", \"90 A6 58 8A AD, Type 2\", \"F5 E4 FD A4 9F, Type 2\", \"76 8F 56 DE 15, Type 2\", \"3D F6 5A B4 9D, Type 2\", \"A6 FD C4 C0 69, Type 2\", \"4F 9C 21 D3 31, Type 2\", \"94 EB 19 B7 18, Type 2\", \"0F 30 93 5E 0E, Type 2\", \"A2 C1 35 C2 8C, Type 2\", \"19 01 73 04 E2, Type 2\", \"CA A2 77 FC 22, Type 2\", \"96 DD DC FE E3, Type 2\", \"21 36 06 E2 38, Type 2\", \"B7 CA E8 BC 99, Type 2\", \"EF 4A CF 20 AF, Type 2\"], \"marker\": {\"color\": [\"#B3D9FF\", \"#B3D9FF\", \"#B3D9FF\", \"#B3D9FF\", \"#B3D9FF\", \"#B3D9FF\", \"#B3D9FF\", \"#B3D9FF\", \"#B3D9FF\", \"#B3D9FF\", \"#B3D9FF\", \"#B3D9FF\", \"#B3D9FF\", \"#B3D9FF\", \"#B3D9FF\", \"#B3D9FF\", \"#B3D9FF\", \"#B3D9FF\", \"#B3D9FF\", \"#B3D9FF\", \"#B3D9FF\", \"#B3D9FF\", \"#B3D9FF\", \"#B3D9FF\"], \"size\": 10}, \"mode\": \"markers+text\", \"type\": \"scatter\", \"x\": [25.0, 27.0, 35.0, 37.0, 38.0, 38.0, 39.0, 40.0, 40.0, 42.0, 44.0, 45.0, 46.0, 49.0, 53.0, 57.0, 59.0, 59.0, 59.0, 60.0, 64.0, 68.0, 73.0, 74.0], \"xaxis\": \"x5\", \"y\": [1.0, 16.0, 16.0, 27.0, 91.0, 42.0, 50.0, 66.0, 79.0, 42.0, 97.0, 34.0, 82.0, 58.0, 82.0, 91.0, null, null, 82.0, 21.0, 79.0, null, 87.0, 87.0], \"yaxis\": \"y5\"}, {\"hovertext\": [\"EA 6F FF DE 42, Type 2\", \"90 01 09 71 F0, Type 2\", \"31 19 64 3D 10, Type 2\", \"D7 FC 44 05 CA, Type 2\", \"64 0B 1B 0A 45, Type 2\", \"8A 77 B8 09 AD, Type 2\", \"02 88 A7 94 50, Type 2\", \"51 B7 6E C2 FD, Type 2\", \"A4 03 5A F0 57, Type 2\", \"90 A6 58 8A AD, Type 2\", \"F5 E4 FD A4 9F, Type 2\", \"76 8F 56 DE 15, Type 2\", \"3D F6 5A B4 9D, Type 2\", \"A6 FD C4 C0 69, Type 2\", \"4F 9C 21 D3 31, Type 2\", \"94 EB 19 B7 18, Type 2\", \"0F 30 93 5E 0E, Type 2\", \"A2 C1 35 C2 8C, Type 2\", \"19 01 73 04 E2, Type 2\", \"CA A2 77 FC 22, Type 2\", \"96 DD DC FE E3, Type 2\", \"21 36 06 E2 38, Type 2\", \"B7 CA E8 BC 99, Type 2\", \"EF 4A CF 20 AF, Type 2\"], \"marker\": {\"color\": [\"#B3D9FF\", \"#B3D9FF\", \"#B3D9FF\", \"#B3D9FF\", \"#B3D9FF\", \"#B3D9FF\", \"#B3D9FF\", \"#B3D9FF\", \"#B3D9FF\", \"#B3D9FF\", \"#B3D9FF\", \"#B3D9FF\", \"#B3D9FF\", \"#B3D9FF\", \"#B3D9FF\", \"#B3D9FF\", \"#B3D9FF\", \"#B3D9FF\", \"#B3D9FF\", \"#B3D9FF\", \"#B3D9FF\", \"#B3D9FF\", \"#B3D9FF\", \"#B3D9FF\"], \"size\": 10}, \"mode\": \"markers+text\", \"type\": \"scatter\", \"x\": [25.0, 27.0, 35.0, 37.0, 38.0, 38.0, 39.0, 40.0, 40.0, 42.0, 44.0, 45.0, 46.0, 49.0, 53.0, 57.0, 59.0, 59.0, 59.0, 60.0, 64.0, 68.0, 73.0, 74.0], \"xaxis\": \"x6\", \"y\": [61.0, 79.0, 79.0, 84.0, 112.0, 90.0, 93.0, 98.0, 104.0, 90.0, 119.0, 87.0, 106.0, 96.0, 106.0, 112.0, null, null, 106.0, 82.0, 104.0, null, 109.0, 109.0], \"yaxis\": \"y6\"}, {\"hovertext\": [\"EA 6F FF DE 42, Type 2\", \"90 01 09 71 F0, Type 2\", \"31 19 64 3D 10, Type 2\", \"D7 FC 44 05 CA, Type 2\", \"64 0B 1B 0A 45, Type 2\", \"8A 77 B8 09 AD, Type 2\", \"02 88 A7 94 50, Type 2\", \"51 B7 6E C2 FD, Type 2\", \"A4 03 5A F0 57, Type 2\", \"90 A6 58 8A AD, Type 2\", \"F5 E4 FD A4 9F, Type 2\", \"76 8F 56 DE 15, Type 2\", \"3D F6 5A B4 9D, Type 2\", \"A6 FD C4 C0 69, Type 2\", \"4F 9C 21 D3 31, Type 2\", \"94 EB 19 B7 18, Type 2\", \"0F 30 93 5E 0E, Type 2\", \"A2 C1 35 C2 8C, Type 2\", \"19 01 73 04 E2, Type 2\", \"CA A2 77 FC 22, Type 2\", \"96 DD DC FE E3, Type 2\", \"21 36 06 E2 38, Type 2\", \"B7 CA E8 BC 99, Type 2\", \"EF 4A CF 20 AF, Type 2\"], \"marker\": {\"color\": [\"#B3D9FF\", \"#B3D9FF\", \"#B3D9FF\", \"#B3D9FF\", \"#B3D9FF\", \"#B3D9FF\", \"#B3D9FF\", \"#B3D9FF\", \"#B3D9FF\", \"#B3D9FF\", \"#B3D9FF\", \"#B3D9FF\", \"#B3D9FF\", \"#B3D9FF\", \"#B3D9FF\", \"#B3D9FF\", \"#B3D9FF\", \"#B3D9FF\", \"#B3D9FF\", \"#B3D9FF\", \"#B3D9FF\", \"#B3D9FF\", \"#B3D9FF\", \"#B3D9FF\"], \"size\": 10}, \"mode\": \"markers+text\", \"type\": \"scatter\", \"x\": [25.0, 27.0, 35.0, 37.0, 38.0, 38.0, 39.0, 40.0, 40.0, 42.0, 44.0, 45.0, 46.0, 49.0, 53.0, 57.0, 59.0, 59.0, 59.0, 60.0, 64.0, 68.0, 73.0, 74.0], \"xaxis\": \"x7\", \"y\": [75.0, 93.0, 93.0, 99.0, 126.0, 104.0, 107.0, 113.0, 118.0, 104.0, 133.0, 102.0, 120.0, 110.0, 120.0, 126.0, null, null, 120.0, 96.0, 118.0, null, 123.0, 123.0], \"yaxis\": \"y7\"}],\n",
       "                        {\"annotations\": [{\"font\": {\"size\": 16}, \"showarrow\": false, \"text\": \"Note standard M\\u00e9moires des chiffres\", \"x\": 0.225, \"xanchor\": \"center\", \"xref\": \"paper\", \"y\": 1.0, \"yanchor\": \"bottom\", \"yref\": \"paper\"}, {\"font\": {\"size\": 16}, \"showarrow\": false, \"text\": \"Note standard Arithm\\u00e9tique\", \"x\": 0.775, \"xanchor\": \"center\", \"xref\": \"paper\", \"y\": 1.0, \"yanchor\": \"bottom\", \"yref\": \"paper\"}, {\"font\": {\"size\": 16}, \"showarrow\": false, \"text\": \"Total des notes standards IMT\", \"x\": 0.225, \"xanchor\": \"center\", \"xref\": \"paper\", \"y\": 0.74, \"yanchor\": \"bottom\", \"yref\": \"paper\"}, {\"font\": {\"size\": 16}, \"showarrow\": false, \"text\": \"Note composite IMT\", \"x\": 0.775, \"xanchor\": \"center\", \"xref\": \"paper\", \"y\": 0.74, \"yanchor\": \"bottom\", \"yref\": \"paper\"}, {\"font\": {\"size\": 16}, \"showarrow\": false, \"text\": \"Rang percentile IMT\", \"x\": 0.225, \"xanchor\": \"center\", \"xref\": \"paper\", \"y\": 0.48, \"yanchor\": \"bottom\", \"yref\": \"paper\"}, {\"font\": {\"size\": 16}, \"showarrow\": false, \"text\": \"Note \\u00e9cart type inf\\u00e9rieure IMT\", \"x\": 0.775, \"xanchor\": \"center\", \"xref\": \"paper\", \"y\": 0.48, \"yanchor\": \"bottom\", \"yref\": \"paper\"}, {\"font\": {\"size\": 16}, \"showarrow\": false, \"text\": \"Note \\u00e9cart type sup\\u00e9rieure IMT\", \"x\": 0.225, \"xanchor\": \"center\", \"xref\": \"paper\", \"y\": 0.22, \"yanchor\": \"bottom\", \"yref\": \"paper\"}, {\"font\": {\"size\": 16}, \"showarrow\": false, \"text\": \"\\u00c2ge\", \"x\": 0.5, \"xanchor\": \"center\", \"xref\": \"paper\", \"y\": 0, \"yanchor\": \"top\", \"yref\": \"paper\", \"yshift\": -30}, {\"font\": {\"size\": 16}, \"showarrow\": false, \"text\": \"Score\", \"textangle\": -90, \"x\": 0, \"xanchor\": \"right\", \"xref\": \"paper\", \"xshift\": -40, \"y\": 0.5, \"yanchor\": \"middle\", \"yref\": \"paper\"}], \"height\": 1500, \"showlegend\": false, \"template\": {\"data\": {\"bar\": [{\"error_x\": {\"color\": \"#2a3f5f\"}, \"error_y\": {\"color\": \"#2a3f5f\"}, \"marker\": {\"line\": {\"color\": \"#E5ECF6\", \"width\": 0.5}}, \"type\": \"bar\"}], \"barpolar\": [{\"marker\": {\"line\": {\"color\": \"#E5ECF6\", \"width\": 0.5}}, \"type\": \"barpolar\"}], \"carpet\": [{\"aaxis\": {\"endlinecolor\": \"#2a3f5f\", \"gridcolor\": \"white\", \"linecolor\": \"white\", \"minorgridcolor\": \"white\", \"startlinecolor\": \"#2a3f5f\"}, \"baxis\": {\"endlinecolor\": \"#2a3f5f\", \"gridcolor\": \"white\", \"linecolor\": \"white\", \"minorgridcolor\": \"white\", \"startlinecolor\": \"#2a3f5f\"}, \"type\": \"carpet\"}], \"choropleth\": [{\"colorbar\": {\"outlinewidth\": 0, \"ticks\": \"\"}, \"type\": \"choropleth\"}], \"contour\": [{\"colorbar\": {\"outlinewidth\": 0, \"ticks\": \"\"}, \"colorscale\": [[0.0, \"#0d0887\"], [0.1111111111111111, \"#46039f\"], [0.2222222222222222, \"#7201a8\"], [0.3333333333333333, \"#9c179e\"], [0.4444444444444444, \"#bd3786\"], [0.5555555555555556, \"#d8576b\"], [0.6666666666666666, \"#ed7953\"], [0.7777777777777778, \"#fb9f3a\"], [0.8888888888888888, \"#fdca26\"], [1.0, \"#f0f921\"]], \"type\": \"contour\"}], \"contourcarpet\": [{\"colorbar\": {\"outlinewidth\": 0, \"ticks\": \"\"}, \"type\": \"contourcarpet\"}], \"heatmap\": [{\"colorbar\": {\"outlinewidth\": 0, \"ticks\": \"\"}, \"colorscale\": [[0.0, \"#0d0887\"], [0.1111111111111111, \"#46039f\"], [0.2222222222222222, \"#7201a8\"], [0.3333333333333333, \"#9c179e\"], [0.4444444444444444, \"#bd3786\"], [0.5555555555555556, \"#d8576b\"], [0.6666666666666666, \"#ed7953\"], [0.7777777777777778, \"#fb9f3a\"], [0.8888888888888888, \"#fdca26\"], [1.0, \"#f0f921\"]], \"type\": \"heatmap\"}], \"heatmapgl\": [{\"colorbar\": {\"outlinewidth\": 0, \"ticks\": \"\"}, \"colorscale\": [[0.0, \"#0d0887\"], [0.1111111111111111, \"#46039f\"], [0.2222222222222222, \"#7201a8\"], [0.3333333333333333, \"#9c179e\"], [0.4444444444444444, \"#bd3786\"], [0.5555555555555556, \"#d8576b\"], [0.6666666666666666, \"#ed7953\"], [0.7777777777777778, \"#fb9f3a\"], [0.8888888888888888, \"#fdca26\"], [1.0, \"#f0f921\"]], \"type\": \"heatmapgl\"}], \"histogram\": [{\"marker\": {\"colorbar\": {\"outlinewidth\": 0, \"ticks\": \"\"}}, \"type\": \"histogram\"}], \"histogram2d\": [{\"colorbar\": {\"outlinewidth\": 0, \"ticks\": \"\"}, \"colorscale\": [[0.0, \"#0d0887\"], [0.1111111111111111, \"#46039f\"], [0.2222222222222222, \"#7201a8\"], [0.3333333333333333, \"#9c179e\"], [0.4444444444444444, \"#bd3786\"], [0.5555555555555556, \"#d8576b\"], [0.6666666666666666, \"#ed7953\"], [0.7777777777777778, \"#fb9f3a\"], [0.8888888888888888, \"#fdca26\"], [1.0, \"#f0f921\"]], \"type\": \"histogram2d\"}], \"histogram2dcontour\": [{\"colorbar\": {\"outlinewidth\": 0, \"ticks\": \"\"}, \"colorscale\": [[0.0, \"#0d0887\"], [0.1111111111111111, \"#46039f\"], [0.2222222222222222, \"#7201a8\"], [0.3333333333333333, \"#9c179e\"], [0.4444444444444444, \"#bd3786\"], [0.5555555555555556, \"#d8576b\"], [0.6666666666666666, \"#ed7953\"], [0.7777777777777778, \"#fb9f3a\"], [0.8888888888888888, \"#fdca26\"], [1.0, \"#f0f921\"]], \"type\": \"histogram2dcontour\"}], \"mesh3d\": [{\"colorbar\": {\"outlinewidth\": 0, \"ticks\": \"\"}, \"type\": \"mesh3d\"}], \"parcoords\": [{\"line\": {\"colorbar\": {\"outlinewidth\": 0, \"ticks\": \"\"}}, \"type\": \"parcoords\"}], \"pie\": [{\"automargin\": true, \"type\": \"pie\"}], \"scatter\": [{\"marker\": {\"colorbar\": {\"outlinewidth\": 0, \"ticks\": \"\"}}, \"type\": \"scatter\"}], \"scatter3d\": [{\"line\": {\"colorbar\": {\"outlinewidth\": 0, \"ticks\": \"\"}}, \"marker\": {\"colorbar\": {\"outlinewidth\": 0, \"ticks\": \"\"}}, \"type\": \"scatter3d\"}], \"scattercarpet\": [{\"marker\": {\"colorbar\": {\"outlinewidth\": 0, \"ticks\": \"\"}}, \"type\": \"scattercarpet\"}], \"scattergeo\": [{\"marker\": {\"colorbar\": {\"outlinewidth\": 0, \"ticks\": \"\"}}, \"type\": \"scattergeo\"}], \"scattergl\": [{\"marker\": {\"colorbar\": {\"outlinewidth\": 0, \"ticks\": \"\"}}, \"type\": \"scattergl\"}], \"scattermapbox\": [{\"marker\": {\"colorbar\": {\"outlinewidth\": 0, \"ticks\": \"\"}}, \"type\": \"scattermapbox\"}], \"scatterpolar\": [{\"marker\": {\"colorbar\": {\"outlinewidth\": 0, \"ticks\": \"\"}}, \"type\": \"scatterpolar\"}], \"scatterpolargl\": [{\"marker\": {\"colorbar\": {\"outlinewidth\": 0, \"ticks\": \"\"}}, \"type\": \"scatterpolargl\"}], \"scatterternary\": [{\"marker\": {\"colorbar\": {\"outlinewidth\": 0, \"ticks\": \"\"}}, \"type\": \"scatterternary\"}], \"surface\": [{\"colorbar\": {\"outlinewidth\": 0, \"ticks\": \"\"}, \"colorscale\": [[0.0, \"#0d0887\"], [0.1111111111111111, \"#46039f\"], [0.2222222222222222, \"#7201a8\"], [0.3333333333333333, \"#9c179e\"], [0.4444444444444444, \"#bd3786\"], [0.5555555555555556, \"#d8576b\"], [0.6666666666666666, \"#ed7953\"], [0.7777777777777778, \"#fb9f3a\"], [0.8888888888888888, \"#fdca26\"], [1.0, \"#f0f921\"]], \"type\": \"surface\"}], \"table\": [{\"cells\": {\"fill\": {\"color\": \"#EBF0F8\"}, \"line\": {\"color\": \"white\"}}, \"header\": {\"fill\": {\"color\": \"#C8D4E3\"}, \"line\": {\"color\": \"white\"}}, \"type\": \"table\"}]}, \"layout\": {\"annotationdefaults\": {\"arrowcolor\": \"#2a3f5f\", \"arrowhead\": 0, \"arrowwidth\": 1}, \"coloraxis\": {\"colorbar\": {\"outlinewidth\": 0, \"ticks\": \"\"}}, \"colorscale\": {\"diverging\": [[0, \"#8e0152\"], [0.1, \"#c51b7d\"], [0.2, \"#de77ae\"], [0.3, \"#f1b6da\"], [0.4, \"#fde0ef\"], [0.5, \"#f7f7f7\"], [0.6, \"#e6f5d0\"], [0.7, \"#b8e186\"], [0.8, \"#7fbc41\"], [0.9, \"#4d9221\"], [1, \"#276419\"]], \"sequential\": [[0.0, \"#0d0887\"], [0.1111111111111111, \"#46039f\"], [0.2222222222222222, \"#7201a8\"], [0.3333333333333333, \"#9c179e\"], [0.4444444444444444, \"#bd3786\"], [0.5555555555555556, \"#d8576b\"], [0.6666666666666666, \"#ed7953\"], [0.7777777777777778, \"#fb9f3a\"], [0.8888888888888888, \"#fdca26\"], [1.0, \"#f0f921\"]], \"sequentialminus\": [[0.0, \"#0d0887\"], [0.1111111111111111, \"#46039f\"], [0.2222222222222222, \"#7201a8\"], [0.3333333333333333, \"#9c179e\"], [0.4444444444444444, \"#bd3786\"], [0.5555555555555556, \"#d8576b\"], [0.6666666666666666, \"#ed7953\"], [0.7777777777777778, \"#fb9f3a\"], [0.8888888888888888, \"#fdca26\"], [1.0, \"#f0f921\"]]}, \"colorway\": [\"#636efa\", \"#EF553B\", \"#00cc96\", \"#ab63fa\", \"#FFA15A\", \"#19d3f3\", \"#FF6692\", \"#B6E880\", \"#FF97FF\", \"#FECB52\"], \"font\": {\"color\": \"#2a3f5f\"}, \"geo\": {\"bgcolor\": \"white\", \"lakecolor\": \"white\", \"landcolor\": \"#E5ECF6\", \"showlakes\": true, \"showland\": true, \"subunitcolor\": \"white\"}, \"hoverlabel\": {\"align\": \"left\"}, \"hovermode\": \"closest\", \"mapbox\": {\"style\": \"light\"}, \"paper_bgcolor\": \"white\", \"plot_bgcolor\": \"#E5ECF6\", \"polar\": {\"angularaxis\": {\"gridcolor\": \"white\", \"linecolor\": \"white\", \"ticks\": \"\"}, \"bgcolor\": \"#E5ECF6\", \"radialaxis\": {\"gridcolor\": \"white\", \"linecolor\": \"white\", \"ticks\": \"\"}}, \"scene\": {\"xaxis\": {\"backgroundcolor\": \"#E5ECF6\", \"gridcolor\": \"white\", \"gridwidth\": 2, \"linecolor\": \"white\", \"showbackground\": true, \"ticks\": \"\", \"zerolinecolor\": \"white\"}, \"yaxis\": {\"backgroundcolor\": \"#E5ECF6\", \"gridcolor\": \"white\", \"gridwidth\": 2, \"linecolor\": \"white\", \"showbackground\": true, \"ticks\": \"\", \"zerolinecolor\": \"white\"}, \"zaxis\": {\"backgroundcolor\": \"#E5ECF6\", \"gridcolor\": \"white\", \"gridwidth\": 2, \"linecolor\": \"white\", \"showbackground\": true, \"ticks\": \"\", \"zerolinecolor\": \"white\"}}, \"shapedefaults\": {\"line\": {\"color\": \"#2a3f5f\"}}, \"ternary\": {\"aaxis\": {\"gridcolor\": \"white\", \"linecolor\": \"white\", \"ticks\": \"\"}, \"baxis\": {\"gridcolor\": \"white\", \"linecolor\": \"white\", \"ticks\": \"\"}, \"bgcolor\": \"#E5ECF6\", \"caxis\": {\"gridcolor\": \"white\", \"linecolor\": \"white\", \"ticks\": \"\"}}, \"title\": {\"x\": 0.05}, \"xaxis\": {\"automargin\": true, \"gridcolor\": \"white\", \"linecolor\": \"white\", \"ticks\": \"\", \"title\": {\"standoff\": 15}, \"zerolinecolor\": \"white\", \"zerolinewidth\": 2}, \"yaxis\": {\"automargin\": true, \"gridcolor\": \"white\", \"linecolor\": \"white\", \"ticks\": \"\", \"title\": {\"standoff\": 15}, \"zerolinecolor\": \"white\", \"zerolinewidth\": 2}}}, \"width\": 800, \"xaxis\": {\"anchor\": \"y\", \"domain\": [0.0, 0.45]}, \"xaxis2\": {\"anchor\": \"y2\", \"domain\": [0.55, 1.0]}, \"xaxis3\": {\"anchor\": \"y3\", \"domain\": [0.0, 0.45]}, \"xaxis4\": {\"anchor\": \"y4\", \"domain\": [0.55, 1.0]}, \"xaxis5\": {\"anchor\": \"y5\", \"domain\": [0.0, 0.45]}, \"xaxis6\": {\"anchor\": \"y6\", \"domain\": [0.55, 1.0]}, \"xaxis7\": {\"anchor\": \"y7\", \"domain\": [0.0, 0.45]}, \"xaxis8\": {\"anchor\": \"y8\", \"domain\": [0.55, 1.0]}, \"yaxis\": {\"anchor\": \"x\", \"domain\": [0.78, 1.0]}, \"yaxis2\": {\"anchor\": \"x2\", \"domain\": [0.78, 1.0]}, \"yaxis3\": {\"anchor\": \"x3\", \"domain\": [0.52, 0.74]}, \"yaxis4\": {\"anchor\": \"x4\", \"domain\": [0.52, 0.74]}, \"yaxis5\": {\"anchor\": \"x5\", \"domain\": [0.26, 0.48]}, \"yaxis6\": {\"anchor\": \"x6\", \"domain\": [0.26, 0.48]}, \"yaxis7\": {\"anchor\": \"x7\", \"domain\": [0.0, 0.22]}, \"yaxis8\": {\"anchor\": \"x8\", \"domain\": [0.0, 0.22]}},\n",
       "                        {\"responsive\": true}\n",
       "                    ).then(function(){\n",
       "                            \n",
       "var gd = document.getElementById('5d27458e-94cb-4431-951a-95ba2f98e1a9');\n",
       "var x = new MutationObserver(function (mutations, observer) {{\n",
       "        var display = window.getComputedStyle(gd).display;\n",
       "        if (!display || display === 'none') {{\n",
       "            console.log([gd, 'removed!']);\n",
       "            Plotly.purge(gd);\n",
       "            observer.disconnect();\n",
       "        }}\n",
       "}});\n",
       "\n",
       "// Listen for the removal of the full notebook cells\n",
       "var notebookContainer = gd.closest('#notebook-container');\n",
       "if (notebookContainer) {{\n",
       "    x.observe(notebookContainer, {childList: true});\n",
       "}}\n",
       "\n",
       "// Listen for the clearing of the current output cell\n",
       "var outputEl = gd.closest('.output');\n",
       "if (outputEl) {{\n",
       "    x.observe(outputEl, {childList: true});\n",
       "}}\n",
       "\n",
       "                        })\n",
       "                };\n",
       "                });\n",
       "            </script>\n",
       "        </div>"
      ]
     },
     "metadata": {},
     "output_type": "display_data"
    }
   ],
   "source": [
    "fig_wais_sub.add_trace(go.Scatter(x= df_wais_sub['age'], y=df_wais_sub[subplot_titles[4]], mode=\"markers+text\",\n",
    "            marker={'size': 10, \"color\": df_wais_sub['Type_color'] },\n",
    "            hovertext= df_wais_sub['ID_SECONDAIRE'] +\", \"+ df_wais_sub['Type']),\n",
    "            row=1, col=1)\n",
    "\n",
    "fig_wais_sub.add_trace(go.Scatter(x= df_wais_sub['age'], y=df_wais_sub[subplot_titles[5]], mode=\"markers+text\",\n",
    "            marker={'size': 10, \"color\": df_wais_sub['Type_color'] },\n",
    "            hovertext= df_wais_sub['ID_SECONDAIRE'] +\", \"+ df_wais_sub['Type']),\n",
    "              row=1, col=2)\n",
    "\n",
    "fig_wais_sub.add_trace(go.Scatter(x= df_wais_sub['age'], y=df_wais_sub[subplot_titles[6]], mode=\"markers+text\",\n",
    "            marker={'size': 10, \"color\": df_wais_sub['Type_color'] },\n",
    "            hovertext= df_wais_sub['ID_SECONDAIRE'] +\", \"+ df_wais_sub['Type']),\n",
    "              row=2, col=1)\n",
    "\n",
    "fig_wais_sub.add_trace(go.Scatter(x= df_wais_sub['age'], y=df_wais_sub[subplot_titles[7]], mode=\"markers+text\",\n",
    "            marker={'size': 10, \"color\": df_wais_sub['Type_color'] },\n",
    "            hovertext= df_wais_sub['ID_SECONDAIRE'] +\", \"+ df_wais_sub['Type']),\n",
    "            row=2, col=2)\n",
    "\n",
    "fig_wais_sub.add_trace(go.Scatter(x= df_wais_sub['age'], y=df_wais_sub[subplot_titles[8]], mode=\"markers+text\",\n",
    "            marker={'size': 10, \"color\": df_wais_sub['Type_color'] },\n",
    "            hovertext= df_wais_sub['ID_SECONDAIRE'] +\", \"+ df_wais_sub['Type']),\n",
    "            row=3, col=1)\n",
    "                                                             \n",
    "fig_wais_sub.add_trace(go.Scatter(x= df_wais_sub['age'], y=df_wais_sub[subplot_titles[9]], mode=\"markers+text\",\n",
    "            marker={'size': 10, \"color\": df_wais_sub['Type_color'] },\n",
    "            hovertext= df_wais_sub['ID_SECONDAIRE'] +\", \"+ df_wais_sub['Type']),\n",
    "            row=3, col=2)\n",
    "    \n",
    "fig_wais_sub.add_trace(go.Scatter(x= df_wais_sub['age'], y=df_wais_sub[subplot_titles[10]], mode=\"markers+text\",\n",
    "            marker={'size': 10, \"color\": df_wais_sub['Type_color'] },\n",
    "            hovertext= df_wais_sub['ID_SECONDAIRE'] +\", \"+ df_wais_sub['Type']),\n",
    "            row=4, col=1)\n",
    "    \n",
    "fig_wais_sub.update_layout(height=1500, width=800,\n",
    "                   showlegend=False\n",
    "            )"
   ]
  },
  {
   "cell_type": "code",
   "execution_count": 119,
   "metadata": {
    "ExecuteTime": {
     "end_time": "2020-11-26T13:43:15.184195Z",
     "start_time": "2020-11-26T13:43:15.166016Z"
    }
   },
   "outputs": [],
   "source": [
    "df_wais_sub_agg = df_wais_sub.agg(['min', 'max', 'mean', 'median', 'count'])\n",
    "#\n",
    "df_wais_sub_agg.index.name = \"Aggrégation\"\n",
    "df_wais_sub_agg.reset_index(inplace=True)\n",
    "#\n",
    "df_wais_sub_agg = df_wais_sub_agg.replace({'Aggrégation' : {\"min\":\"Min\",\"max\":\"Max\",\"mean\":\"Moyenne\", \"median\":\"Médiane\", \"count\":\"Effectif\"}})"
   ]
  },
  {
   "cell_type": "code",
   "execution_count": 120,
   "metadata": {
    "ExecuteTime": {
     "end_time": "2020-11-26T13:43:15.987097Z",
     "start_time": "2020-11-26T13:43:15.983748Z"
    }
   },
   "outputs": [],
   "source": [
    "df_wais_sub_agg = df_wais_sub_agg.drop(columns= ['ID_SECONDAIRE','Type', 'Type_color', 'age' ])"
   ]
  },
  {
   "cell_type": "code",
   "execution_count": 121,
   "metadata": {
    "ExecuteTime": {
     "end_time": "2020-11-26T13:43:16.651007Z",
     "start_time": "2020-11-26T13:43:16.646046Z"
    }
   },
   "outputs": [],
   "source": [
    "df_wais_sub_agg = df_wais_sub_agg.round(2)"
   ]
  },
  {
   "cell_type": "code",
   "execution_count": 122,
   "metadata": {
    "ExecuteTime": {
     "end_time": "2020-11-26T13:43:17.434864Z",
     "start_time": "2020-11-26T13:43:17.428322Z"
    }
   },
   "outputs": [],
   "source": [
    "wais_sub =  go.Table(\n",
    "                header=dict(values=list(df_wais_sub_agg.columns[:]),\n",
    "                align='left'),\n",
    "                cells=dict(values= [df_wais_sub_agg.iloc[:,0], df_wais_sub_agg.iloc[:,1], df_wais_sub_agg.iloc[:,2], df_wais_sub_agg.iloc[:,3]\n",
    "                           , df_wais_sub_agg.iloc[:,4], df_wais_sub_agg.iloc[:,5], df_wais_sub_agg.iloc[:,6], df_wais_sub_agg.iloc[:,7]], align='left'))"
   ]
  },
  {
   "cell_type": "code",
   "execution_count": 123,
   "metadata": {
    "ExecuteTime": {
     "end_time": "2020-11-26T13:43:18.702949Z",
     "start_time": "2020-11-26T13:43:18.442346Z"
    }
   },
   "outputs": [
    {
     "data": {
      "application/vnd.plotly.v1+json": {
       "config": {
        "plotlyServerURL": "https://plot.ly"
       },
       "data": [
        {
         "cells": {
          "align": "left",
          "values": [
           [
            "Min",
            "Max",
            "Effectif",
            "Moyenne",
            "Médiane"
           ],
           [
            3,
            15,
            24,
            10.12,
            10
           ],
           [
            4,
            16,
            21,
            11,
            11
           ],
           [
            8,
            30,
            21,
            21.38,
            22
           ],
           [
            66,
            128,
            21,
            103.81,
            106
           ],
           [
            1,
            97,
            21,
            58.57,
            66
           ],
           [
            61,
            119,
            21,
            96.48,
            98
           ],
           [
            75,
            133,
            21,
            110.62,
            113
           ]
          ]
         },
         "header": {
          "align": "left",
          "values": [
           "Aggrégation",
           "Note standard Mémoires des chiffres",
           "Note standard Arithmétique",
           "Total des notes standards IMT",
           "Note composite IMT",
           "Rang percentile IMT",
           "Note écart type inférieure IMT",
           "Note écart type supérieure IMT"
          ]
         },
         "type": "table"
        }
       ],
       "layout": {
        "height": 400,
        "template": {
         "data": {
          "bar": [
           {
            "error_x": {
             "color": "#2a3f5f"
            },
            "error_y": {
             "color": "#2a3f5f"
            },
            "marker": {
             "line": {
              "color": "#E5ECF6",
              "width": 0.5
             }
            },
            "type": "bar"
           }
          ],
          "barpolar": [
           {
            "marker": {
             "line": {
              "color": "#E5ECF6",
              "width": 0.5
             }
            },
            "type": "barpolar"
           }
          ],
          "carpet": [
           {
            "aaxis": {
             "endlinecolor": "#2a3f5f",
             "gridcolor": "white",
             "linecolor": "white",
             "minorgridcolor": "white",
             "startlinecolor": "#2a3f5f"
            },
            "baxis": {
             "endlinecolor": "#2a3f5f",
             "gridcolor": "white",
             "linecolor": "white",
             "minorgridcolor": "white",
             "startlinecolor": "#2a3f5f"
            },
            "type": "carpet"
           }
          ],
          "choropleth": [
           {
            "colorbar": {
             "outlinewidth": 0,
             "ticks": ""
            },
            "type": "choropleth"
           }
          ],
          "contour": [
           {
            "colorbar": {
             "outlinewidth": 0,
             "ticks": ""
            },
            "colorscale": [
             [
              0,
              "#0d0887"
             ],
             [
              0.1111111111111111,
              "#46039f"
             ],
             [
              0.2222222222222222,
              "#7201a8"
             ],
             [
              0.3333333333333333,
              "#9c179e"
             ],
             [
              0.4444444444444444,
              "#bd3786"
             ],
             [
              0.5555555555555556,
              "#d8576b"
             ],
             [
              0.6666666666666666,
              "#ed7953"
             ],
             [
              0.7777777777777778,
              "#fb9f3a"
             ],
             [
              0.8888888888888888,
              "#fdca26"
             ],
             [
              1,
              "#f0f921"
             ]
            ],
            "type": "contour"
           }
          ],
          "contourcarpet": [
           {
            "colorbar": {
             "outlinewidth": 0,
             "ticks": ""
            },
            "type": "contourcarpet"
           }
          ],
          "heatmap": [
           {
            "colorbar": {
             "outlinewidth": 0,
             "ticks": ""
            },
            "colorscale": [
             [
              0,
              "#0d0887"
             ],
             [
              0.1111111111111111,
              "#46039f"
             ],
             [
              0.2222222222222222,
              "#7201a8"
             ],
             [
              0.3333333333333333,
              "#9c179e"
             ],
             [
              0.4444444444444444,
              "#bd3786"
             ],
             [
              0.5555555555555556,
              "#d8576b"
             ],
             [
              0.6666666666666666,
              "#ed7953"
             ],
             [
              0.7777777777777778,
              "#fb9f3a"
             ],
             [
              0.8888888888888888,
              "#fdca26"
             ],
             [
              1,
              "#f0f921"
             ]
            ],
            "type": "heatmap"
           }
          ],
          "heatmapgl": [
           {
            "colorbar": {
             "outlinewidth": 0,
             "ticks": ""
            },
            "colorscale": [
             [
              0,
              "#0d0887"
             ],
             [
              0.1111111111111111,
              "#46039f"
             ],
             [
              0.2222222222222222,
              "#7201a8"
             ],
             [
              0.3333333333333333,
              "#9c179e"
             ],
             [
              0.4444444444444444,
              "#bd3786"
             ],
             [
              0.5555555555555556,
              "#d8576b"
             ],
             [
              0.6666666666666666,
              "#ed7953"
             ],
             [
              0.7777777777777778,
              "#fb9f3a"
             ],
             [
              0.8888888888888888,
              "#fdca26"
             ],
             [
              1,
              "#f0f921"
             ]
            ],
            "type": "heatmapgl"
           }
          ],
          "histogram": [
           {
            "marker": {
             "colorbar": {
              "outlinewidth": 0,
              "ticks": ""
             }
            },
            "type": "histogram"
           }
          ],
          "histogram2d": [
           {
            "colorbar": {
             "outlinewidth": 0,
             "ticks": ""
            },
            "colorscale": [
             [
              0,
              "#0d0887"
             ],
             [
              0.1111111111111111,
              "#46039f"
             ],
             [
              0.2222222222222222,
              "#7201a8"
             ],
             [
              0.3333333333333333,
              "#9c179e"
             ],
             [
              0.4444444444444444,
              "#bd3786"
             ],
             [
              0.5555555555555556,
              "#d8576b"
             ],
             [
              0.6666666666666666,
              "#ed7953"
             ],
             [
              0.7777777777777778,
              "#fb9f3a"
             ],
             [
              0.8888888888888888,
              "#fdca26"
             ],
             [
              1,
              "#f0f921"
             ]
            ],
            "type": "histogram2d"
           }
          ],
          "histogram2dcontour": [
           {
            "colorbar": {
             "outlinewidth": 0,
             "ticks": ""
            },
            "colorscale": [
             [
              0,
              "#0d0887"
             ],
             [
              0.1111111111111111,
              "#46039f"
             ],
             [
              0.2222222222222222,
              "#7201a8"
             ],
             [
              0.3333333333333333,
              "#9c179e"
             ],
             [
              0.4444444444444444,
              "#bd3786"
             ],
             [
              0.5555555555555556,
              "#d8576b"
             ],
             [
              0.6666666666666666,
              "#ed7953"
             ],
             [
              0.7777777777777778,
              "#fb9f3a"
             ],
             [
              0.8888888888888888,
              "#fdca26"
             ],
             [
              1,
              "#f0f921"
             ]
            ],
            "type": "histogram2dcontour"
           }
          ],
          "mesh3d": [
           {
            "colorbar": {
             "outlinewidth": 0,
             "ticks": ""
            },
            "type": "mesh3d"
           }
          ],
          "parcoords": [
           {
            "line": {
             "colorbar": {
              "outlinewidth": 0,
              "ticks": ""
             }
            },
            "type": "parcoords"
           }
          ],
          "pie": [
           {
            "automargin": true,
            "type": "pie"
           }
          ],
          "scatter": [
           {
            "marker": {
             "colorbar": {
              "outlinewidth": 0,
              "ticks": ""
             }
            },
            "type": "scatter"
           }
          ],
          "scatter3d": [
           {
            "line": {
             "colorbar": {
              "outlinewidth": 0,
              "ticks": ""
             }
            },
            "marker": {
             "colorbar": {
              "outlinewidth": 0,
              "ticks": ""
             }
            },
            "type": "scatter3d"
           }
          ],
          "scattercarpet": [
           {
            "marker": {
             "colorbar": {
              "outlinewidth": 0,
              "ticks": ""
             }
            },
            "type": "scattercarpet"
           }
          ],
          "scattergeo": [
           {
            "marker": {
             "colorbar": {
              "outlinewidth": 0,
              "ticks": ""
             }
            },
            "type": "scattergeo"
           }
          ],
          "scattergl": [
           {
            "marker": {
             "colorbar": {
              "outlinewidth": 0,
              "ticks": ""
             }
            },
            "type": "scattergl"
           }
          ],
          "scattermapbox": [
           {
            "marker": {
             "colorbar": {
              "outlinewidth": 0,
              "ticks": ""
             }
            },
            "type": "scattermapbox"
           }
          ],
          "scatterpolar": [
           {
            "marker": {
             "colorbar": {
              "outlinewidth": 0,
              "ticks": ""
             }
            },
            "type": "scatterpolar"
           }
          ],
          "scatterpolargl": [
           {
            "marker": {
             "colorbar": {
              "outlinewidth": 0,
              "ticks": ""
             }
            },
            "type": "scatterpolargl"
           }
          ],
          "scatterternary": [
           {
            "marker": {
             "colorbar": {
              "outlinewidth": 0,
              "ticks": ""
             }
            },
            "type": "scatterternary"
           }
          ],
          "surface": [
           {
            "colorbar": {
             "outlinewidth": 0,
             "ticks": ""
            },
            "colorscale": [
             [
              0,
              "#0d0887"
             ],
             [
              0.1111111111111111,
              "#46039f"
             ],
             [
              0.2222222222222222,
              "#7201a8"
             ],
             [
              0.3333333333333333,
              "#9c179e"
             ],
             [
              0.4444444444444444,
              "#bd3786"
             ],
             [
              0.5555555555555556,
              "#d8576b"
             ],
             [
              0.6666666666666666,
              "#ed7953"
             ],
             [
              0.7777777777777778,
              "#fb9f3a"
             ],
             [
              0.8888888888888888,
              "#fdca26"
             ],
             [
              1,
              "#f0f921"
             ]
            ],
            "type": "surface"
           }
          ],
          "table": [
           {
            "cells": {
             "fill": {
              "color": "#EBF0F8"
             },
             "line": {
              "color": "white"
             }
            },
            "header": {
             "fill": {
              "color": "#C8D4E3"
             },
             "line": {
              "color": "white"
             }
            },
            "type": "table"
           }
          ]
         },
         "layout": {
          "annotationdefaults": {
           "arrowcolor": "#2a3f5f",
           "arrowhead": 0,
           "arrowwidth": 1
          },
          "coloraxis": {
           "colorbar": {
            "outlinewidth": 0,
            "ticks": ""
           }
          },
          "colorscale": {
           "diverging": [
            [
             0,
             "#8e0152"
            ],
            [
             0.1,
             "#c51b7d"
            ],
            [
             0.2,
             "#de77ae"
            ],
            [
             0.3,
             "#f1b6da"
            ],
            [
             0.4,
             "#fde0ef"
            ],
            [
             0.5,
             "#f7f7f7"
            ],
            [
             0.6,
             "#e6f5d0"
            ],
            [
             0.7,
             "#b8e186"
            ],
            [
             0.8,
             "#7fbc41"
            ],
            [
             0.9,
             "#4d9221"
            ],
            [
             1,
             "#276419"
            ]
           ],
           "sequential": [
            [
             0,
             "#0d0887"
            ],
            [
             0.1111111111111111,
             "#46039f"
            ],
            [
             0.2222222222222222,
             "#7201a8"
            ],
            [
             0.3333333333333333,
             "#9c179e"
            ],
            [
             0.4444444444444444,
             "#bd3786"
            ],
            [
             0.5555555555555556,
             "#d8576b"
            ],
            [
             0.6666666666666666,
             "#ed7953"
            ],
            [
             0.7777777777777778,
             "#fb9f3a"
            ],
            [
             0.8888888888888888,
             "#fdca26"
            ],
            [
             1,
             "#f0f921"
            ]
           ],
           "sequentialminus": [
            [
             0,
             "#0d0887"
            ],
            [
             0.1111111111111111,
             "#46039f"
            ],
            [
             0.2222222222222222,
             "#7201a8"
            ],
            [
             0.3333333333333333,
             "#9c179e"
            ],
            [
             0.4444444444444444,
             "#bd3786"
            ],
            [
             0.5555555555555556,
             "#d8576b"
            ],
            [
             0.6666666666666666,
             "#ed7953"
            ],
            [
             0.7777777777777778,
             "#fb9f3a"
            ],
            [
             0.8888888888888888,
             "#fdca26"
            ],
            [
             1,
             "#f0f921"
            ]
           ]
          },
          "colorway": [
           "#636efa",
           "#EF553B",
           "#00cc96",
           "#ab63fa",
           "#FFA15A",
           "#19d3f3",
           "#FF6692",
           "#B6E880",
           "#FF97FF",
           "#FECB52"
          ],
          "font": {
           "color": "#2a3f5f"
          },
          "geo": {
           "bgcolor": "white",
           "lakecolor": "white",
           "landcolor": "#E5ECF6",
           "showlakes": true,
           "showland": true,
           "subunitcolor": "white"
          },
          "hoverlabel": {
           "align": "left"
          },
          "hovermode": "closest",
          "mapbox": {
           "style": "light"
          },
          "paper_bgcolor": "white",
          "plot_bgcolor": "#E5ECF6",
          "polar": {
           "angularaxis": {
            "gridcolor": "white",
            "linecolor": "white",
            "ticks": ""
           },
           "bgcolor": "#E5ECF6",
           "radialaxis": {
            "gridcolor": "white",
            "linecolor": "white",
            "ticks": ""
           }
          },
          "scene": {
           "xaxis": {
            "backgroundcolor": "#E5ECF6",
            "gridcolor": "white",
            "gridwidth": 2,
            "linecolor": "white",
            "showbackground": true,
            "ticks": "",
            "zerolinecolor": "white"
           },
           "yaxis": {
            "backgroundcolor": "#E5ECF6",
            "gridcolor": "white",
            "gridwidth": 2,
            "linecolor": "white",
            "showbackground": true,
            "ticks": "",
            "zerolinecolor": "white"
           },
           "zaxis": {
            "backgroundcolor": "#E5ECF6",
            "gridcolor": "white",
            "gridwidth": 2,
            "linecolor": "white",
            "showbackground": true,
            "ticks": "",
            "zerolinecolor": "white"
           }
          },
          "shapedefaults": {
           "line": {
            "color": "#2a3f5f"
           }
          },
          "ternary": {
           "aaxis": {
            "gridcolor": "white",
            "linecolor": "white",
            "ticks": ""
           },
           "baxis": {
            "gridcolor": "white",
            "linecolor": "white",
            "ticks": ""
           },
           "bgcolor": "#E5ECF6",
           "caxis": {
            "gridcolor": "white",
            "linecolor": "white",
            "ticks": ""
           }
          },
          "title": {
           "x": 0.05
          },
          "xaxis": {
           "automargin": true,
           "gridcolor": "white",
           "linecolor": "white",
           "ticks": "",
           "title": {
            "standoff": 15
           },
           "zerolinecolor": "white",
           "zerolinewidth": 2
          },
          "yaxis": {
           "automargin": true,
           "gridcolor": "white",
           "linecolor": "white",
           "ticks": "",
           "title": {
            "standoff": 15
           },
           "zerolinecolor": "white",
           "zerolinewidth": 2
          }
         }
        },
        "width": 1000
       }
      },
      "text/html": [
       "<div>\n",
       "        \n",
       "        \n",
       "            <div id=\"fda69f81-f591-4733-878d-f126c3e0dfe3\" class=\"plotly-graph-div\" style=\"height:400px; width:1000px;\"></div>\n",
       "            <script type=\"text/javascript\">\n",
       "                require([\"plotly\"], function(Plotly) {\n",
       "                    window.PLOTLYENV=window.PLOTLYENV || {};\n",
       "                    \n",
       "                if (document.getElementById(\"fda69f81-f591-4733-878d-f126c3e0dfe3\")) {\n",
       "                    Plotly.newPlot(\n",
       "                        'fda69f81-f591-4733-878d-f126c3e0dfe3',\n",
       "                        [{\"cells\": {\"align\": \"left\", \"values\": [[\"Min\", \"Max\", \"Effectif\", \"Moyenne\", \"M\\u00e9diane\"], [3.0, 15.0, 24.0, 10.12, 10.0], [4.0, 16.0, 21.0, 11.0, 11.0], [8.0, 30.0, 21.0, 21.38, 22.0], [66.0, 128.0, 21.0, 103.81, 106.0], [1.0, 97.0, 21.0, 58.57, 66.0], [61.0, 119.0, 21.0, 96.48, 98.0], [75.0, 133.0, 21.0, 110.62, 113.0]]}, \"header\": {\"align\": \"left\", \"values\": [\"Aggr\\u00e9gation\", \"Note standard M\\u00e9moires des chiffres\", \"Note standard Arithm\\u00e9tique\", \"Total des notes standards IMT\", \"Note composite IMT\", \"Rang percentile IMT\", \"Note \\u00e9cart type inf\\u00e9rieure IMT\", \"Note \\u00e9cart type sup\\u00e9rieure IMT\"]}, \"type\": \"table\"}],\n",
       "                        {\"height\": 400, \"template\": {\"data\": {\"bar\": [{\"error_x\": {\"color\": \"#2a3f5f\"}, \"error_y\": {\"color\": \"#2a3f5f\"}, \"marker\": {\"line\": {\"color\": \"#E5ECF6\", \"width\": 0.5}}, \"type\": \"bar\"}], \"barpolar\": [{\"marker\": {\"line\": {\"color\": \"#E5ECF6\", \"width\": 0.5}}, \"type\": \"barpolar\"}], \"carpet\": [{\"aaxis\": {\"endlinecolor\": \"#2a3f5f\", \"gridcolor\": \"white\", \"linecolor\": \"white\", \"minorgridcolor\": \"white\", \"startlinecolor\": \"#2a3f5f\"}, \"baxis\": {\"endlinecolor\": \"#2a3f5f\", \"gridcolor\": \"white\", \"linecolor\": \"white\", \"minorgridcolor\": \"white\", \"startlinecolor\": \"#2a3f5f\"}, \"type\": \"carpet\"}], \"choropleth\": [{\"colorbar\": {\"outlinewidth\": 0, \"ticks\": \"\"}, \"type\": \"choropleth\"}], \"contour\": [{\"colorbar\": {\"outlinewidth\": 0, \"ticks\": \"\"}, \"colorscale\": [[0.0, \"#0d0887\"], [0.1111111111111111, \"#46039f\"], [0.2222222222222222, \"#7201a8\"], [0.3333333333333333, \"#9c179e\"], [0.4444444444444444, \"#bd3786\"], [0.5555555555555556, \"#d8576b\"], [0.6666666666666666, \"#ed7953\"], [0.7777777777777778, \"#fb9f3a\"], [0.8888888888888888, \"#fdca26\"], [1.0, \"#f0f921\"]], \"type\": \"contour\"}], \"contourcarpet\": [{\"colorbar\": {\"outlinewidth\": 0, \"ticks\": \"\"}, \"type\": \"contourcarpet\"}], \"heatmap\": [{\"colorbar\": {\"outlinewidth\": 0, \"ticks\": \"\"}, \"colorscale\": [[0.0, \"#0d0887\"], [0.1111111111111111, \"#46039f\"], [0.2222222222222222, \"#7201a8\"], [0.3333333333333333, \"#9c179e\"], [0.4444444444444444, \"#bd3786\"], [0.5555555555555556, \"#d8576b\"], [0.6666666666666666, \"#ed7953\"], [0.7777777777777778, \"#fb9f3a\"], [0.8888888888888888, \"#fdca26\"], [1.0, \"#f0f921\"]], \"type\": \"heatmap\"}], \"heatmapgl\": [{\"colorbar\": {\"outlinewidth\": 0, \"ticks\": \"\"}, \"colorscale\": [[0.0, \"#0d0887\"], [0.1111111111111111, \"#46039f\"], [0.2222222222222222, \"#7201a8\"], [0.3333333333333333, \"#9c179e\"], [0.4444444444444444, \"#bd3786\"], [0.5555555555555556, \"#d8576b\"], [0.6666666666666666, \"#ed7953\"], [0.7777777777777778, \"#fb9f3a\"], [0.8888888888888888, \"#fdca26\"], [1.0, \"#f0f921\"]], \"type\": \"heatmapgl\"}], \"histogram\": [{\"marker\": {\"colorbar\": {\"outlinewidth\": 0, \"ticks\": \"\"}}, \"type\": \"histogram\"}], \"histogram2d\": [{\"colorbar\": {\"outlinewidth\": 0, \"ticks\": \"\"}, \"colorscale\": [[0.0, \"#0d0887\"], [0.1111111111111111, \"#46039f\"], [0.2222222222222222, \"#7201a8\"], [0.3333333333333333, \"#9c179e\"], [0.4444444444444444, \"#bd3786\"], [0.5555555555555556, \"#d8576b\"], [0.6666666666666666, \"#ed7953\"], [0.7777777777777778, \"#fb9f3a\"], [0.8888888888888888, \"#fdca26\"], [1.0, \"#f0f921\"]], \"type\": \"histogram2d\"}], \"histogram2dcontour\": [{\"colorbar\": {\"outlinewidth\": 0, \"ticks\": \"\"}, \"colorscale\": [[0.0, \"#0d0887\"], [0.1111111111111111, \"#46039f\"], [0.2222222222222222, \"#7201a8\"], [0.3333333333333333, \"#9c179e\"], [0.4444444444444444, \"#bd3786\"], [0.5555555555555556, \"#d8576b\"], [0.6666666666666666, \"#ed7953\"], [0.7777777777777778, \"#fb9f3a\"], [0.8888888888888888, \"#fdca26\"], [1.0, \"#f0f921\"]], \"type\": \"histogram2dcontour\"}], \"mesh3d\": [{\"colorbar\": {\"outlinewidth\": 0, \"ticks\": \"\"}, \"type\": \"mesh3d\"}], \"parcoords\": [{\"line\": {\"colorbar\": {\"outlinewidth\": 0, \"ticks\": \"\"}}, \"type\": \"parcoords\"}], \"pie\": [{\"automargin\": true, \"type\": \"pie\"}], \"scatter\": [{\"marker\": {\"colorbar\": {\"outlinewidth\": 0, \"ticks\": \"\"}}, \"type\": \"scatter\"}], \"scatter3d\": [{\"line\": {\"colorbar\": {\"outlinewidth\": 0, \"ticks\": \"\"}}, \"marker\": {\"colorbar\": {\"outlinewidth\": 0, \"ticks\": \"\"}}, \"type\": \"scatter3d\"}], \"scattercarpet\": [{\"marker\": {\"colorbar\": {\"outlinewidth\": 0, \"ticks\": \"\"}}, \"type\": \"scattercarpet\"}], \"scattergeo\": [{\"marker\": {\"colorbar\": {\"outlinewidth\": 0, \"ticks\": \"\"}}, \"type\": \"scattergeo\"}], \"scattergl\": [{\"marker\": {\"colorbar\": {\"outlinewidth\": 0, \"ticks\": \"\"}}, \"type\": \"scattergl\"}], \"scattermapbox\": [{\"marker\": {\"colorbar\": {\"outlinewidth\": 0, \"ticks\": \"\"}}, \"type\": \"scattermapbox\"}], \"scatterpolar\": [{\"marker\": {\"colorbar\": {\"outlinewidth\": 0, \"ticks\": \"\"}}, \"type\": \"scatterpolar\"}], \"scatterpolargl\": [{\"marker\": {\"colorbar\": {\"outlinewidth\": 0, \"ticks\": \"\"}}, \"type\": \"scatterpolargl\"}], \"scatterternary\": [{\"marker\": {\"colorbar\": {\"outlinewidth\": 0, \"ticks\": \"\"}}, \"type\": \"scatterternary\"}], \"surface\": [{\"colorbar\": {\"outlinewidth\": 0, \"ticks\": \"\"}, \"colorscale\": [[0.0, \"#0d0887\"], [0.1111111111111111, \"#46039f\"], [0.2222222222222222, \"#7201a8\"], [0.3333333333333333, \"#9c179e\"], [0.4444444444444444, \"#bd3786\"], [0.5555555555555556, \"#d8576b\"], [0.6666666666666666, \"#ed7953\"], [0.7777777777777778, \"#fb9f3a\"], [0.8888888888888888, \"#fdca26\"], [1.0, \"#f0f921\"]], \"type\": \"surface\"}], \"table\": [{\"cells\": {\"fill\": {\"color\": \"#EBF0F8\"}, \"line\": {\"color\": \"white\"}}, \"header\": {\"fill\": {\"color\": \"#C8D4E3\"}, \"line\": {\"color\": \"white\"}}, \"type\": \"table\"}]}, \"layout\": {\"annotationdefaults\": {\"arrowcolor\": \"#2a3f5f\", \"arrowhead\": 0, \"arrowwidth\": 1}, \"coloraxis\": {\"colorbar\": {\"outlinewidth\": 0, \"ticks\": \"\"}}, \"colorscale\": {\"diverging\": [[0, \"#8e0152\"], [0.1, \"#c51b7d\"], [0.2, \"#de77ae\"], [0.3, \"#f1b6da\"], [0.4, \"#fde0ef\"], [0.5, \"#f7f7f7\"], [0.6, \"#e6f5d0\"], [0.7, \"#b8e186\"], [0.8, \"#7fbc41\"], [0.9, \"#4d9221\"], [1, \"#276419\"]], \"sequential\": [[0.0, \"#0d0887\"], [0.1111111111111111, \"#46039f\"], [0.2222222222222222, \"#7201a8\"], [0.3333333333333333, \"#9c179e\"], [0.4444444444444444, \"#bd3786\"], [0.5555555555555556, \"#d8576b\"], [0.6666666666666666, \"#ed7953\"], [0.7777777777777778, \"#fb9f3a\"], [0.8888888888888888, \"#fdca26\"], [1.0, \"#f0f921\"]], \"sequentialminus\": [[0.0, \"#0d0887\"], [0.1111111111111111, \"#46039f\"], [0.2222222222222222, \"#7201a8\"], [0.3333333333333333, \"#9c179e\"], [0.4444444444444444, \"#bd3786\"], [0.5555555555555556, \"#d8576b\"], [0.6666666666666666, \"#ed7953\"], [0.7777777777777778, \"#fb9f3a\"], [0.8888888888888888, \"#fdca26\"], [1.0, \"#f0f921\"]]}, \"colorway\": [\"#636efa\", \"#EF553B\", \"#00cc96\", \"#ab63fa\", \"#FFA15A\", \"#19d3f3\", \"#FF6692\", \"#B6E880\", \"#FF97FF\", \"#FECB52\"], \"font\": {\"color\": \"#2a3f5f\"}, \"geo\": {\"bgcolor\": \"white\", \"lakecolor\": \"white\", \"landcolor\": \"#E5ECF6\", \"showlakes\": true, \"showland\": true, \"subunitcolor\": \"white\"}, \"hoverlabel\": {\"align\": \"left\"}, \"hovermode\": \"closest\", \"mapbox\": {\"style\": \"light\"}, \"paper_bgcolor\": \"white\", \"plot_bgcolor\": \"#E5ECF6\", \"polar\": {\"angularaxis\": {\"gridcolor\": \"white\", \"linecolor\": \"white\", \"ticks\": \"\"}, \"bgcolor\": \"#E5ECF6\", \"radialaxis\": {\"gridcolor\": \"white\", \"linecolor\": \"white\", \"ticks\": \"\"}}, \"scene\": {\"xaxis\": {\"backgroundcolor\": \"#E5ECF6\", \"gridcolor\": \"white\", \"gridwidth\": 2, \"linecolor\": \"white\", \"showbackground\": true, \"ticks\": \"\", \"zerolinecolor\": \"white\"}, \"yaxis\": {\"backgroundcolor\": \"#E5ECF6\", \"gridcolor\": \"white\", \"gridwidth\": 2, \"linecolor\": \"white\", \"showbackground\": true, \"ticks\": \"\", \"zerolinecolor\": \"white\"}, \"zaxis\": {\"backgroundcolor\": \"#E5ECF6\", \"gridcolor\": \"white\", \"gridwidth\": 2, \"linecolor\": \"white\", \"showbackground\": true, \"ticks\": \"\", \"zerolinecolor\": \"white\"}}, \"shapedefaults\": {\"line\": {\"color\": \"#2a3f5f\"}}, \"ternary\": {\"aaxis\": {\"gridcolor\": \"white\", \"linecolor\": \"white\", \"ticks\": \"\"}, \"baxis\": {\"gridcolor\": \"white\", \"linecolor\": \"white\", \"ticks\": \"\"}, \"bgcolor\": \"#E5ECF6\", \"caxis\": {\"gridcolor\": \"white\", \"linecolor\": \"white\", \"ticks\": \"\"}}, \"title\": {\"x\": 0.05}, \"xaxis\": {\"automargin\": true, \"gridcolor\": \"white\", \"linecolor\": \"white\", \"ticks\": \"\", \"title\": {\"standoff\": 15}, \"zerolinecolor\": \"white\", \"zerolinewidth\": 2}, \"yaxis\": {\"automargin\": true, \"gridcolor\": \"white\", \"linecolor\": \"white\", \"ticks\": \"\", \"title\": {\"standoff\": 15}, \"zerolinecolor\": \"white\", \"zerolinewidth\": 2}}}, \"width\": 1000},\n",
       "                        {\"responsive\": true}\n",
       "                    ).then(function(){\n",
       "                            \n",
       "var gd = document.getElementById('fda69f81-f591-4733-878d-f126c3e0dfe3');\n",
       "var x = new MutationObserver(function (mutations, observer) {{\n",
       "        var display = window.getComputedStyle(gd).display;\n",
       "        if (!display || display === 'none') {{\n",
       "            console.log([gd, 'removed!']);\n",
       "            Plotly.purge(gd);\n",
       "            observer.disconnect();\n",
       "        }}\n",
       "}});\n",
       "\n",
       "// Listen for the removal of the full notebook cells\n",
       "var notebookContainer = gd.closest('#notebook-container');\n",
       "if (notebookContainer) {{\n",
       "    x.observe(notebookContainer, {childList: true});\n",
       "}}\n",
       "\n",
       "// Listen for the clearing of the current output cell\n",
       "var outputEl = gd.closest('.output');\n",
       "if (outputEl) {{\n",
       "    x.observe(outputEl, {childList: true});\n",
       "}}\n",
       "\n",
       "                        })\n",
       "                };\n",
       "                });\n",
       "            </script>\n",
       "        </div>"
      ]
     },
     "metadata": {},
     "output_type": "display_data"
    }
   ],
   "source": [
    "fig = go.Figure(data=wais_sub)\n",
    "fig.update_layout(width=1000, height=400)\n",
    "fig.show()"
   ]
  },
  {
   "cell_type": "code",
   "execution_count": 124,
   "metadata": {
    "ExecuteTime": {
     "end_time": "2020-11-26T13:43:20.340070Z",
     "start_time": "2020-11-26T13:43:20.335895Z"
    }
   },
   "outputs": [
    {
     "data": {
      "text/html": [
       "<h5>2.1. WAIS IVT</h5>"
      ],
      "text/plain": [
       "<IPython.core.display.HTML object>"
      ]
     },
     "metadata": {},
     "output_type": "display_data"
    }
   ],
   "source": [
    "display(HTML('<h5>2.1. WAIS IVT</h5>'))"
   ]
  },
  {
   "cell_type": "code",
   "execution_count": 125,
   "metadata": {
    "ExecuteTime": {
     "end_time": "2020-11-26T13:43:21.063895Z",
     "start_time": "2020-11-26T13:43:21.060269Z"
    }
   },
   "outputs": [],
   "source": [
    "age_moy = df_wais[df_wais['Total des notes standards IVT'].notna()]['age'].mean()"
   ]
  },
  {
   "cell_type": "code",
   "execution_count": 126,
   "metadata": {
    "ExecuteTime": {
     "end_time": "2020-11-26T13:43:21.688044Z",
     "start_time": "2020-11-26T13:43:21.683893Z"
    }
   },
   "outputs": [
    {
     "data": {
      "text/html": [
       "<p>Moyenne d'âge : 41.31</p>"
      ],
      "text/plain": [
       "<IPython.core.display.HTML object>"
      ]
     },
     "metadata": {},
     "output_type": "display_data"
    }
   ],
   "source": [
    "display(HTML(\"<p>Moyenne d'âge : \"+str(round(age_moy,2))+\"</p>\"))"
   ]
  },
  {
   "cell_type": "code",
   "execution_count": 127,
   "metadata": {
    "ExecuteTime": {
     "end_time": "2020-11-26T13:43:22.350911Z",
     "start_time": "2020-11-26T13:43:22.347058Z"
    }
   },
   "outputs": [],
   "source": [
    "df_wais_sub= df_wais.iloc[:,[0,1,2,-1, 29, 30, 31, 32, 33, 34, 35]]"
   ]
  },
  {
   "cell_type": "code",
   "execution_count": 128,
   "metadata": {
    "ExecuteTime": {
     "end_time": "2020-11-26T13:43:23.327666Z",
     "start_time": "2020-11-26T13:43:23.324972Z"
    }
   },
   "outputs": [],
   "source": [
    "subplot_titles = df_wais_sub.columns.values.tolist()"
   ]
  },
  {
   "cell_type": "code",
   "execution_count": 129,
   "metadata": {
    "ExecuteTime": {
     "end_time": "2020-11-26T13:43:24.205613Z",
     "start_time": "2020-11-26T13:43:24.026471Z"
    }
   },
   "outputs": [],
   "source": [
    "fig_wais_sub = make_subplots(\n",
    "    rows=4, cols=2,\n",
    "    shared_xaxes=False,\n",
    "    row_heights=[0.20, 0.20, 0.20, 0.20],\n",
    "    column_widths=[0.5, 0.5],\n",
    "    subplot_titles= subplot_titles[4:],\n",
    "    x_title='Âge',\n",
    "    y_title='Score',\n",
    "    vertical_spacing= 0.04 )\n",
    "df_wais_sub = df_wais_sub.sort_values(by=['age'])"
   ]
  },
  {
   "cell_type": "code",
   "execution_count": 130,
   "metadata": {
    "ExecuteTime": {
     "end_time": "2020-11-26T13:43:24.912562Z",
     "start_time": "2020-11-26T13:43:24.833577Z"
    }
   },
   "outputs": [
    {
     "data": {
      "application/vnd.plotly.v1+json": {
       "config": {
        "plotlyServerURL": "https://plot.ly"
       },
       "data": [
        {
         "hovertext": [
          "EA 6F FF DE 42, Type 2",
          "90 01 09 71 F0, Type 2",
          "31 19 64 3D 10, Type 2",
          "D7 FC 44 05 CA, Type 2",
          "64 0B 1B 0A 45, Type 2",
          "8A 77 B8 09 AD, Type 2",
          "02 88 A7 94 50, Type 2",
          "51 B7 6E C2 FD, Type 2",
          "A4 03 5A F0 57, Type 2",
          "90 A6 58 8A AD, Type 2",
          "F5 E4 FD A4 9F, Type 2",
          "76 8F 56 DE 15, Type 2",
          "3D F6 5A B4 9D, Type 2",
          "A6 FD C4 C0 69, Type 2",
          "4F 9C 21 D3 31, Type 2",
          "94 EB 19 B7 18, Type 2",
          "0F 30 93 5E 0E, Type 2",
          "A2 C1 35 C2 8C, Type 2",
          "19 01 73 04 E2, Type 2",
          "CA A2 77 FC 22, Type 2",
          "96 DD DC FE E3, Type 2",
          "21 36 06 E2 38, Type 2",
          "B7 CA E8 BC 99, Type 2",
          "EF 4A CF 20 AF, Type 2"
         ],
         "marker": {
          "color": [
           "#B3D9FF",
           "#B3D9FF",
           "#B3D9FF",
           "#B3D9FF",
           "#B3D9FF",
           "#B3D9FF",
           "#B3D9FF",
           "#B3D9FF",
           "#B3D9FF",
           "#B3D9FF",
           "#B3D9FF",
           "#B3D9FF",
           "#B3D9FF",
           "#B3D9FF",
           "#B3D9FF",
           "#B3D9FF",
           "#B3D9FF",
           "#B3D9FF",
           "#B3D9FF",
           "#B3D9FF",
           "#B3D9FF",
           "#B3D9FF",
           "#B3D9FF",
           "#B3D9FF"
          ],
          "size": 10
         },
         "mode": "markers+text",
         "type": "scatter",
         "x": [
          25,
          27,
          35,
          37,
          38,
          38,
          39,
          40,
          40,
          42,
          44,
          45,
          46,
          49,
          53,
          57,
          59,
          59,
          59,
          60,
          64,
          68,
          73,
          74
         ],
         "xaxis": "x",
         "y": [
          7,
          8,
          7,
          10,
          10,
          9,
          8,
          12,
          6,
          5,
          7,
          9,
          8,
          8,
          null,
          9,
          null,
          null,
          3,
          null,
          null,
          null,
          null,
          null
         ],
         "yaxis": "y"
        },
        {
         "hovertext": [
          "EA 6F FF DE 42, Type 2",
          "90 01 09 71 F0, Type 2",
          "31 19 64 3D 10, Type 2",
          "D7 FC 44 05 CA, Type 2",
          "64 0B 1B 0A 45, Type 2",
          "8A 77 B8 09 AD, Type 2",
          "02 88 A7 94 50, Type 2",
          "51 B7 6E C2 FD, Type 2",
          "A4 03 5A F0 57, Type 2",
          "90 A6 58 8A AD, Type 2",
          "F5 E4 FD A4 9F, Type 2",
          "76 8F 56 DE 15, Type 2",
          "3D F6 5A B4 9D, Type 2",
          "A6 FD C4 C0 69, Type 2",
          "4F 9C 21 D3 31, Type 2",
          "94 EB 19 B7 18, Type 2",
          "0F 30 93 5E 0E, Type 2",
          "A2 C1 35 C2 8C, Type 2",
          "19 01 73 04 E2, Type 2",
          "CA A2 77 FC 22, Type 2",
          "96 DD DC FE E3, Type 2",
          "21 36 06 E2 38, Type 2",
          "B7 CA E8 BC 99, Type 2",
          "EF 4A CF 20 AF, Type 2"
         ],
         "marker": {
          "color": [
           "#B3D9FF",
           "#B3D9FF",
           "#B3D9FF",
           "#B3D9FF",
           "#B3D9FF",
           "#B3D9FF",
           "#B3D9FF",
           "#B3D9FF",
           "#B3D9FF",
           "#B3D9FF",
           "#B3D9FF",
           "#B3D9FF",
           "#B3D9FF",
           "#B3D9FF",
           "#B3D9FF",
           "#B3D9FF",
           "#B3D9FF",
           "#B3D9FF",
           "#B3D9FF",
           "#B3D9FF",
           "#B3D9FF",
           "#B3D9FF",
           "#B3D9FF",
           "#B3D9FF"
          ],
          "size": 10
         },
         "mode": "markers+text",
         "type": "scatter",
         "x": [
          25,
          27,
          35,
          37,
          38,
          38,
          39,
          40,
          40,
          42,
          44,
          45,
          46,
          49,
          53,
          57,
          59,
          59,
          59,
          60,
          64,
          68,
          73,
          74
         ],
         "xaxis": "x2",
         "y": [
          11,
          7,
          9,
          8,
          15,
          10,
          10,
          14,
          7,
          2,
          10,
          9,
          9,
          9,
          null,
          8,
          null,
          null,
          1,
          null,
          null,
          null,
          null,
          null
         ],
         "yaxis": "y2"
        },
        {
         "hovertext": [
          "EA 6F FF DE 42, Type 2",
          "90 01 09 71 F0, Type 2",
          "31 19 64 3D 10, Type 2",
          "D7 FC 44 05 CA, Type 2",
          "64 0B 1B 0A 45, Type 2",
          "8A 77 B8 09 AD, Type 2",
          "02 88 A7 94 50, Type 2",
          "51 B7 6E C2 FD, Type 2",
          "A4 03 5A F0 57, Type 2",
          "90 A6 58 8A AD, Type 2",
          "F5 E4 FD A4 9F, Type 2",
          "76 8F 56 DE 15, Type 2",
          "3D F6 5A B4 9D, Type 2",
          "A6 FD C4 C0 69, Type 2",
          "4F 9C 21 D3 31, Type 2",
          "94 EB 19 B7 18, Type 2",
          "0F 30 93 5E 0E, Type 2",
          "A2 C1 35 C2 8C, Type 2",
          "19 01 73 04 E2, Type 2",
          "CA A2 77 FC 22, Type 2",
          "96 DD DC FE E3, Type 2",
          "21 36 06 E2 38, Type 2",
          "B7 CA E8 BC 99, Type 2",
          "EF 4A CF 20 AF, Type 2"
         ],
         "marker": {
          "color": [
           "#B3D9FF",
           "#B3D9FF",
           "#B3D9FF",
           "#B3D9FF",
           "#B3D9FF",
           "#B3D9FF",
           "#B3D9FF",
           "#B3D9FF",
           "#B3D9FF",
           "#B3D9FF",
           "#B3D9FF",
           "#B3D9FF",
           "#B3D9FF",
           "#B3D9FF",
           "#B3D9FF",
           "#B3D9FF",
           "#B3D9FF",
           "#B3D9FF",
           "#B3D9FF",
           "#B3D9FF",
           "#B3D9FF",
           "#B3D9FF",
           "#B3D9FF",
           "#B3D9FF"
          ],
          "size": 10
         },
         "mode": "markers+text",
         "type": "scatter",
         "x": [
          25,
          27,
          35,
          37,
          38,
          38,
          39,
          40,
          40,
          42,
          44,
          45,
          46,
          49,
          53,
          57,
          59,
          59,
          59,
          60,
          64,
          68,
          73,
          74
         ],
         "xaxis": "x3",
         "y": [
          18,
          15,
          16,
          18,
          25,
          19,
          18,
          26,
          13,
          7,
          17,
          18,
          17,
          17,
          null,
          17,
          null,
          null,
          4,
          null,
          null,
          null,
          null,
          null
         ],
         "yaxis": "y3"
        },
        {
         "hovertext": [
          "EA 6F FF DE 42, Type 2",
          "90 01 09 71 F0, Type 2",
          "31 19 64 3D 10, Type 2",
          "D7 FC 44 05 CA, Type 2",
          "64 0B 1B 0A 45, Type 2",
          "8A 77 B8 09 AD, Type 2",
          "02 88 A7 94 50, Type 2",
          "51 B7 6E C2 FD, Type 2",
          "A4 03 5A F0 57, Type 2",
          "90 A6 58 8A AD, Type 2",
          "F5 E4 FD A4 9F, Type 2",
          "76 8F 56 DE 15, Type 2",
          "3D F6 5A B4 9D, Type 2",
          "A6 FD C4 C0 69, Type 2",
          "4F 9C 21 D3 31, Type 2",
          "94 EB 19 B7 18, Type 2",
          "0F 30 93 5E 0E, Type 2",
          "A2 C1 35 C2 8C, Type 2",
          "19 01 73 04 E2, Type 2",
          "CA A2 77 FC 22, Type 2",
          "96 DD DC FE E3, Type 2",
          "21 36 06 E2 38, Type 2",
          "B7 CA E8 BC 99, Type 2",
          "EF 4A CF 20 AF, Type 2"
         ],
         "marker": {
          "color": [
           "#B3D9FF",
           "#B3D9FF",
           "#B3D9FF",
           "#B3D9FF",
           "#B3D9FF",
           "#B3D9FF",
           "#B3D9FF",
           "#B3D9FF",
           "#B3D9FF",
           "#B3D9FF",
           "#B3D9FF",
           "#B3D9FF",
           "#B3D9FF",
           "#B3D9FF",
           "#B3D9FF",
           "#B3D9FF",
           "#B3D9FF",
           "#B3D9FF",
           "#B3D9FF",
           "#B3D9FF",
           "#B3D9FF",
           "#B3D9FF",
           "#B3D9FF",
           "#B3D9FF"
          ],
          "size": 10
         },
         "mode": "markers+text",
         "type": "scatter",
         "x": [
          25,
          27,
          35,
          37,
          38,
          38,
          39,
          40,
          40,
          42,
          44,
          45,
          46,
          49,
          53,
          57,
          59,
          59,
          59,
          60,
          64,
          68,
          73,
          74
         ],
         "xaxis": "x4",
         "y": [
          94,
          86,
          89,
          94,
          114,
          97,
          94,
          117,
          81,
          64,
          92,
          94,
          92,
          92,
          null,
          92,
          null,
          null,
          55,
          null,
          null,
          null,
          null,
          null
         ],
         "yaxis": "y4"
        },
        {
         "hovertext": [
          "EA 6F FF DE 42, Type 2",
          "90 01 09 71 F0, Type 2",
          "31 19 64 3D 10, Type 2",
          "D7 FC 44 05 CA, Type 2",
          "64 0B 1B 0A 45, Type 2",
          "8A 77 B8 09 AD, Type 2",
          "02 88 A7 94 50, Type 2",
          "51 B7 6E C2 FD, Type 2",
          "A4 03 5A F0 57, Type 2",
          "90 A6 58 8A AD, Type 2",
          "F5 E4 FD A4 9F, Type 2",
          "76 8F 56 DE 15, Type 2",
          "3D F6 5A B4 9D, Type 2",
          "A6 FD C4 C0 69, Type 2",
          "4F 9C 21 D3 31, Type 2",
          "94 EB 19 B7 18, Type 2",
          "0F 30 93 5E 0E, Type 2",
          "A2 C1 35 C2 8C, Type 2",
          "19 01 73 04 E2, Type 2",
          "CA A2 77 FC 22, Type 2",
          "96 DD DC FE E3, Type 2",
          "21 36 06 E2 38, Type 2",
          "B7 CA E8 BC 99, Type 2",
          "EF 4A CF 20 AF, Type 2"
         ],
         "marker": {
          "color": [
           "#B3D9FF",
           "#B3D9FF",
           "#B3D9FF",
           "#B3D9FF",
           "#B3D9FF",
           "#B3D9FF",
           "#B3D9FF",
           "#B3D9FF",
           "#B3D9FF",
           "#B3D9FF",
           "#B3D9FF",
           "#B3D9FF",
           "#B3D9FF",
           "#B3D9FF",
           "#B3D9FF",
           "#B3D9FF",
           "#B3D9FF",
           "#B3D9FF",
           "#B3D9FF",
           "#B3D9FF",
           "#B3D9FF",
           "#B3D9FF",
           "#B3D9FF",
           "#B3D9FF"
          ],
          "size": 10
         },
         "mode": "markers+text",
         "type": "scatter",
         "x": [
          25,
          27,
          35,
          37,
          38,
          38,
          39,
          40,
          40,
          42,
          44,
          45,
          46,
          49,
          53,
          57,
          59,
          59,
          59,
          60,
          64,
          68,
          73,
          74
         ],
         "xaxis": "x5",
         "y": [
          34,
          18,
          23,
          42,
          82,
          42,
          34,
          87,
          10,
          1,
          30,
          34,
          30,
          30,
          null,
          30,
          null,
          null,
          1,
          null,
          null,
          null,
          null,
          null
         ],
         "yaxis": "y5"
        },
        {
         "hovertext": [
          "EA 6F FF DE 42, Type 2",
          "90 01 09 71 F0, Type 2",
          "31 19 64 3D 10, Type 2",
          "D7 FC 44 05 CA, Type 2",
          "64 0B 1B 0A 45, Type 2",
          "8A 77 B8 09 AD, Type 2",
          "02 88 A7 94 50, Type 2",
          "51 B7 6E C2 FD, Type 2",
          "A4 03 5A F0 57, Type 2",
          "90 A6 58 8A AD, Type 2",
          "F5 E4 FD A4 9F, Type 2",
          "76 8F 56 DE 15, Type 2",
          "3D F6 5A B4 9D, Type 2",
          "A6 FD C4 C0 69, Type 2",
          "4F 9C 21 D3 31, Type 2",
          "94 EB 19 B7 18, Type 2",
          "0F 30 93 5E 0E, Type 2",
          "A2 C1 35 C2 8C, Type 2",
          "19 01 73 04 E2, Type 2",
          "CA A2 77 FC 22, Type 2",
          "96 DD DC FE E3, Type 2",
          "21 36 06 E2 38, Type 2",
          "B7 CA E8 BC 99, Type 2",
          "EF 4A CF 20 AF, Type 2"
         ],
         "marker": {
          "color": [
           "#B3D9FF",
           "#B3D9FF",
           "#B3D9FF",
           "#B3D9FF",
           "#B3D9FF",
           "#B3D9FF",
           "#B3D9FF",
           "#B3D9FF",
           "#B3D9FF",
           "#B3D9FF",
           "#B3D9FF",
           "#B3D9FF",
           "#B3D9FF",
           "#B3D9FF",
           "#B3D9FF",
           "#B3D9FF",
           "#B3D9FF",
           "#B3D9FF",
           "#B3D9FF",
           "#B3D9FF",
           "#B3D9FF",
           "#B3D9FF",
           "#B3D9FF",
           "#B3D9FF"
          ],
          "size": 10
         },
         "mode": "markers+text",
         "type": "scatter",
         "x": [
          25,
          27,
          35,
          37,
          38,
          38,
          39,
          40,
          40,
          42,
          44,
          45,
          46,
          49,
          53,
          57,
          59,
          59,
          59,
          60,
          64,
          68,
          73,
          74
         ],
         "xaxis": "x6",
         "y": [
          86,
          79,
          81,
          88,
          103,
          88,
          86,
          106,
          74,
          59,
          84,
          86,
          84,
          84,
          null,
          84,
          null,
          null,
          51,
          null,
          null,
          null,
          null,
          null
         ],
         "yaxis": "y6"
        },
        {
         "hovertext": [
          "EA 6F FF DE 42, Type 2",
          "90 01 09 71 F0, Type 2",
          "31 19 64 3D 10, Type 2",
          "D7 FC 44 05 CA, Type 2",
          "64 0B 1B 0A 45, Type 2",
          "8A 77 B8 09 AD, Type 2",
          "02 88 A7 94 50, Type 2",
          "51 B7 6E C2 FD, Type 2",
          "A4 03 5A F0 57, Type 2",
          "90 A6 58 8A AD, Type 2",
          "F5 E4 FD A4 9F, Type 2",
          "76 8F 56 DE 15, Type 2",
          "3D F6 5A B4 9D, Type 2",
          "A6 FD C4 C0 69, Type 2",
          "4F 9C 21 D3 31, Type 2",
          "94 EB 19 B7 18, Type 2",
          "0F 30 93 5E 0E, Type 2",
          "A2 C1 35 C2 8C, Type 2",
          "19 01 73 04 E2, Type 2",
          "CA A2 77 FC 22, Type 2",
          "96 DD DC FE E3, Type 2",
          "21 36 06 E2 38, Type 2",
          "B7 CA E8 BC 99, Type 2",
          "EF 4A CF 20 AF, Type 2"
         ],
         "marker": {
          "color": [
           "#B3D9FF",
           "#B3D9FF",
           "#B3D9FF",
           "#B3D9FF",
           "#B3D9FF",
           "#B3D9FF",
           "#B3D9FF",
           "#B3D9FF",
           "#B3D9FF",
           "#B3D9FF",
           "#B3D9FF",
           "#B3D9FF",
           "#B3D9FF",
           "#B3D9FF",
           "#B3D9FF",
           "#B3D9FF",
           "#B3D9FF",
           "#B3D9FF",
           "#B3D9FF",
           "#B3D9FF",
           "#B3D9FF",
           "#B3D9FF",
           "#B3D9FF",
           "#B3D9FF"
          ],
          "size": 10
         },
         "mode": "markers+text",
         "type": "scatter",
         "x": [
          25,
          27,
          35,
          37,
          38,
          38,
          39,
          40,
          40,
          42,
          44,
          45,
          46,
          49,
          53,
          57,
          59,
          59,
          59,
          60,
          64,
          68,
          73,
          74
         ],
         "xaxis": "x7",
         "y": [
          104,
          87,
          99,
          106,
          121,
          106,
          104,
          124,
          92,
          77,
          102,
          104,
          102,
          102,
          null,
          102,
          null,
          null,
          70,
          null,
          null,
          null,
          null,
          null
         ],
         "yaxis": "y7"
        }
       ],
       "layout": {
        "annotations": [
         {
          "font": {
           "size": 16
          },
          "showarrow": false,
          "text": "Note standard Symboles",
          "x": 0.225,
          "xanchor": "center",
          "xref": "paper",
          "y": 1,
          "yanchor": "bottom",
          "yref": "paper"
         },
         {
          "font": {
           "size": 16
          },
          "showarrow": false,
          "text": "Note standard Code",
          "x": 0.775,
          "xanchor": "center",
          "xref": "paper",
          "y": 1,
          "yanchor": "bottom",
          "yref": "paper"
         },
         {
          "font": {
           "size": 16
          },
          "showarrow": false,
          "text": "Total des notes standards IVT",
          "x": 0.225,
          "xanchor": "center",
          "xref": "paper",
          "y": 0.74,
          "yanchor": "bottom",
          "yref": "paper"
         },
         {
          "font": {
           "size": 16
          },
          "showarrow": false,
          "text": "Note composite IVT",
          "x": 0.775,
          "xanchor": "center",
          "xref": "paper",
          "y": 0.74,
          "yanchor": "bottom",
          "yref": "paper"
         },
         {
          "font": {
           "size": 16
          },
          "showarrow": false,
          "text": "Rang percentile IVT",
          "x": 0.225,
          "xanchor": "center",
          "xref": "paper",
          "y": 0.48,
          "yanchor": "bottom",
          "yref": "paper"
         },
         {
          "font": {
           "size": 16
          },
          "showarrow": false,
          "text": "Note écart type inférieure IVT",
          "x": 0.775,
          "xanchor": "center",
          "xref": "paper",
          "y": 0.48,
          "yanchor": "bottom",
          "yref": "paper"
         },
         {
          "font": {
           "size": 16
          },
          "showarrow": false,
          "text": "Note écart type supérieure IVT",
          "x": 0.225,
          "xanchor": "center",
          "xref": "paper",
          "y": 0.22,
          "yanchor": "bottom",
          "yref": "paper"
         },
         {
          "font": {
           "size": 16
          },
          "showarrow": false,
          "text": "Âge",
          "x": 0.5,
          "xanchor": "center",
          "xref": "paper",
          "y": 0,
          "yanchor": "top",
          "yref": "paper",
          "yshift": -30
         },
         {
          "font": {
           "size": 16
          },
          "showarrow": false,
          "text": "Score",
          "textangle": -90,
          "x": 0,
          "xanchor": "right",
          "xref": "paper",
          "xshift": -40,
          "y": 0.5,
          "yanchor": "middle",
          "yref": "paper"
         }
        ],
        "height": 1500,
        "showlegend": false,
        "template": {
         "data": {
          "bar": [
           {
            "error_x": {
             "color": "#2a3f5f"
            },
            "error_y": {
             "color": "#2a3f5f"
            },
            "marker": {
             "line": {
              "color": "#E5ECF6",
              "width": 0.5
             }
            },
            "type": "bar"
           }
          ],
          "barpolar": [
           {
            "marker": {
             "line": {
              "color": "#E5ECF6",
              "width": 0.5
             }
            },
            "type": "barpolar"
           }
          ],
          "carpet": [
           {
            "aaxis": {
             "endlinecolor": "#2a3f5f",
             "gridcolor": "white",
             "linecolor": "white",
             "minorgridcolor": "white",
             "startlinecolor": "#2a3f5f"
            },
            "baxis": {
             "endlinecolor": "#2a3f5f",
             "gridcolor": "white",
             "linecolor": "white",
             "minorgridcolor": "white",
             "startlinecolor": "#2a3f5f"
            },
            "type": "carpet"
           }
          ],
          "choropleth": [
           {
            "colorbar": {
             "outlinewidth": 0,
             "ticks": ""
            },
            "type": "choropleth"
           }
          ],
          "contour": [
           {
            "colorbar": {
             "outlinewidth": 0,
             "ticks": ""
            },
            "colorscale": [
             [
              0,
              "#0d0887"
             ],
             [
              0.1111111111111111,
              "#46039f"
             ],
             [
              0.2222222222222222,
              "#7201a8"
             ],
             [
              0.3333333333333333,
              "#9c179e"
             ],
             [
              0.4444444444444444,
              "#bd3786"
             ],
             [
              0.5555555555555556,
              "#d8576b"
             ],
             [
              0.6666666666666666,
              "#ed7953"
             ],
             [
              0.7777777777777778,
              "#fb9f3a"
             ],
             [
              0.8888888888888888,
              "#fdca26"
             ],
             [
              1,
              "#f0f921"
             ]
            ],
            "type": "contour"
           }
          ],
          "contourcarpet": [
           {
            "colorbar": {
             "outlinewidth": 0,
             "ticks": ""
            },
            "type": "contourcarpet"
           }
          ],
          "heatmap": [
           {
            "colorbar": {
             "outlinewidth": 0,
             "ticks": ""
            },
            "colorscale": [
             [
              0,
              "#0d0887"
             ],
             [
              0.1111111111111111,
              "#46039f"
             ],
             [
              0.2222222222222222,
              "#7201a8"
             ],
             [
              0.3333333333333333,
              "#9c179e"
             ],
             [
              0.4444444444444444,
              "#bd3786"
             ],
             [
              0.5555555555555556,
              "#d8576b"
             ],
             [
              0.6666666666666666,
              "#ed7953"
             ],
             [
              0.7777777777777778,
              "#fb9f3a"
             ],
             [
              0.8888888888888888,
              "#fdca26"
             ],
             [
              1,
              "#f0f921"
             ]
            ],
            "type": "heatmap"
           }
          ],
          "heatmapgl": [
           {
            "colorbar": {
             "outlinewidth": 0,
             "ticks": ""
            },
            "colorscale": [
             [
              0,
              "#0d0887"
             ],
             [
              0.1111111111111111,
              "#46039f"
             ],
             [
              0.2222222222222222,
              "#7201a8"
             ],
             [
              0.3333333333333333,
              "#9c179e"
             ],
             [
              0.4444444444444444,
              "#bd3786"
             ],
             [
              0.5555555555555556,
              "#d8576b"
             ],
             [
              0.6666666666666666,
              "#ed7953"
             ],
             [
              0.7777777777777778,
              "#fb9f3a"
             ],
             [
              0.8888888888888888,
              "#fdca26"
             ],
             [
              1,
              "#f0f921"
             ]
            ],
            "type": "heatmapgl"
           }
          ],
          "histogram": [
           {
            "marker": {
             "colorbar": {
              "outlinewidth": 0,
              "ticks": ""
             }
            },
            "type": "histogram"
           }
          ],
          "histogram2d": [
           {
            "colorbar": {
             "outlinewidth": 0,
             "ticks": ""
            },
            "colorscale": [
             [
              0,
              "#0d0887"
             ],
             [
              0.1111111111111111,
              "#46039f"
             ],
             [
              0.2222222222222222,
              "#7201a8"
             ],
             [
              0.3333333333333333,
              "#9c179e"
             ],
             [
              0.4444444444444444,
              "#bd3786"
             ],
             [
              0.5555555555555556,
              "#d8576b"
             ],
             [
              0.6666666666666666,
              "#ed7953"
             ],
             [
              0.7777777777777778,
              "#fb9f3a"
             ],
             [
              0.8888888888888888,
              "#fdca26"
             ],
             [
              1,
              "#f0f921"
             ]
            ],
            "type": "histogram2d"
           }
          ],
          "histogram2dcontour": [
           {
            "colorbar": {
             "outlinewidth": 0,
             "ticks": ""
            },
            "colorscale": [
             [
              0,
              "#0d0887"
             ],
             [
              0.1111111111111111,
              "#46039f"
             ],
             [
              0.2222222222222222,
              "#7201a8"
             ],
             [
              0.3333333333333333,
              "#9c179e"
             ],
             [
              0.4444444444444444,
              "#bd3786"
             ],
             [
              0.5555555555555556,
              "#d8576b"
             ],
             [
              0.6666666666666666,
              "#ed7953"
             ],
             [
              0.7777777777777778,
              "#fb9f3a"
             ],
             [
              0.8888888888888888,
              "#fdca26"
             ],
             [
              1,
              "#f0f921"
             ]
            ],
            "type": "histogram2dcontour"
           }
          ],
          "mesh3d": [
           {
            "colorbar": {
             "outlinewidth": 0,
             "ticks": ""
            },
            "type": "mesh3d"
           }
          ],
          "parcoords": [
           {
            "line": {
             "colorbar": {
              "outlinewidth": 0,
              "ticks": ""
             }
            },
            "type": "parcoords"
           }
          ],
          "pie": [
           {
            "automargin": true,
            "type": "pie"
           }
          ],
          "scatter": [
           {
            "marker": {
             "colorbar": {
              "outlinewidth": 0,
              "ticks": ""
             }
            },
            "type": "scatter"
           }
          ],
          "scatter3d": [
           {
            "line": {
             "colorbar": {
              "outlinewidth": 0,
              "ticks": ""
             }
            },
            "marker": {
             "colorbar": {
              "outlinewidth": 0,
              "ticks": ""
             }
            },
            "type": "scatter3d"
           }
          ],
          "scattercarpet": [
           {
            "marker": {
             "colorbar": {
              "outlinewidth": 0,
              "ticks": ""
             }
            },
            "type": "scattercarpet"
           }
          ],
          "scattergeo": [
           {
            "marker": {
             "colorbar": {
              "outlinewidth": 0,
              "ticks": ""
             }
            },
            "type": "scattergeo"
           }
          ],
          "scattergl": [
           {
            "marker": {
             "colorbar": {
              "outlinewidth": 0,
              "ticks": ""
             }
            },
            "type": "scattergl"
           }
          ],
          "scattermapbox": [
           {
            "marker": {
             "colorbar": {
              "outlinewidth": 0,
              "ticks": ""
             }
            },
            "type": "scattermapbox"
           }
          ],
          "scatterpolar": [
           {
            "marker": {
             "colorbar": {
              "outlinewidth": 0,
              "ticks": ""
             }
            },
            "type": "scatterpolar"
           }
          ],
          "scatterpolargl": [
           {
            "marker": {
             "colorbar": {
              "outlinewidth": 0,
              "ticks": ""
             }
            },
            "type": "scatterpolargl"
           }
          ],
          "scatterternary": [
           {
            "marker": {
             "colorbar": {
              "outlinewidth": 0,
              "ticks": ""
             }
            },
            "type": "scatterternary"
           }
          ],
          "surface": [
           {
            "colorbar": {
             "outlinewidth": 0,
             "ticks": ""
            },
            "colorscale": [
             [
              0,
              "#0d0887"
             ],
             [
              0.1111111111111111,
              "#46039f"
             ],
             [
              0.2222222222222222,
              "#7201a8"
             ],
             [
              0.3333333333333333,
              "#9c179e"
             ],
             [
              0.4444444444444444,
              "#bd3786"
             ],
             [
              0.5555555555555556,
              "#d8576b"
             ],
             [
              0.6666666666666666,
              "#ed7953"
             ],
             [
              0.7777777777777778,
              "#fb9f3a"
             ],
             [
              0.8888888888888888,
              "#fdca26"
             ],
             [
              1,
              "#f0f921"
             ]
            ],
            "type": "surface"
           }
          ],
          "table": [
           {
            "cells": {
             "fill": {
              "color": "#EBF0F8"
             },
             "line": {
              "color": "white"
             }
            },
            "header": {
             "fill": {
              "color": "#C8D4E3"
             },
             "line": {
              "color": "white"
             }
            },
            "type": "table"
           }
          ]
         },
         "layout": {
          "annotationdefaults": {
           "arrowcolor": "#2a3f5f",
           "arrowhead": 0,
           "arrowwidth": 1
          },
          "coloraxis": {
           "colorbar": {
            "outlinewidth": 0,
            "ticks": ""
           }
          },
          "colorscale": {
           "diverging": [
            [
             0,
             "#8e0152"
            ],
            [
             0.1,
             "#c51b7d"
            ],
            [
             0.2,
             "#de77ae"
            ],
            [
             0.3,
             "#f1b6da"
            ],
            [
             0.4,
             "#fde0ef"
            ],
            [
             0.5,
             "#f7f7f7"
            ],
            [
             0.6,
             "#e6f5d0"
            ],
            [
             0.7,
             "#b8e186"
            ],
            [
             0.8,
             "#7fbc41"
            ],
            [
             0.9,
             "#4d9221"
            ],
            [
             1,
             "#276419"
            ]
           ],
           "sequential": [
            [
             0,
             "#0d0887"
            ],
            [
             0.1111111111111111,
             "#46039f"
            ],
            [
             0.2222222222222222,
             "#7201a8"
            ],
            [
             0.3333333333333333,
             "#9c179e"
            ],
            [
             0.4444444444444444,
             "#bd3786"
            ],
            [
             0.5555555555555556,
             "#d8576b"
            ],
            [
             0.6666666666666666,
             "#ed7953"
            ],
            [
             0.7777777777777778,
             "#fb9f3a"
            ],
            [
             0.8888888888888888,
             "#fdca26"
            ],
            [
             1,
             "#f0f921"
            ]
           ],
           "sequentialminus": [
            [
             0,
             "#0d0887"
            ],
            [
             0.1111111111111111,
             "#46039f"
            ],
            [
             0.2222222222222222,
             "#7201a8"
            ],
            [
             0.3333333333333333,
             "#9c179e"
            ],
            [
             0.4444444444444444,
             "#bd3786"
            ],
            [
             0.5555555555555556,
             "#d8576b"
            ],
            [
             0.6666666666666666,
             "#ed7953"
            ],
            [
             0.7777777777777778,
             "#fb9f3a"
            ],
            [
             0.8888888888888888,
             "#fdca26"
            ],
            [
             1,
             "#f0f921"
            ]
           ]
          },
          "colorway": [
           "#636efa",
           "#EF553B",
           "#00cc96",
           "#ab63fa",
           "#FFA15A",
           "#19d3f3",
           "#FF6692",
           "#B6E880",
           "#FF97FF",
           "#FECB52"
          ],
          "font": {
           "color": "#2a3f5f"
          },
          "geo": {
           "bgcolor": "white",
           "lakecolor": "white",
           "landcolor": "#E5ECF6",
           "showlakes": true,
           "showland": true,
           "subunitcolor": "white"
          },
          "hoverlabel": {
           "align": "left"
          },
          "hovermode": "closest",
          "mapbox": {
           "style": "light"
          },
          "paper_bgcolor": "white",
          "plot_bgcolor": "#E5ECF6",
          "polar": {
           "angularaxis": {
            "gridcolor": "white",
            "linecolor": "white",
            "ticks": ""
           },
           "bgcolor": "#E5ECF6",
           "radialaxis": {
            "gridcolor": "white",
            "linecolor": "white",
            "ticks": ""
           }
          },
          "scene": {
           "xaxis": {
            "backgroundcolor": "#E5ECF6",
            "gridcolor": "white",
            "gridwidth": 2,
            "linecolor": "white",
            "showbackground": true,
            "ticks": "",
            "zerolinecolor": "white"
           },
           "yaxis": {
            "backgroundcolor": "#E5ECF6",
            "gridcolor": "white",
            "gridwidth": 2,
            "linecolor": "white",
            "showbackground": true,
            "ticks": "",
            "zerolinecolor": "white"
           },
           "zaxis": {
            "backgroundcolor": "#E5ECF6",
            "gridcolor": "white",
            "gridwidth": 2,
            "linecolor": "white",
            "showbackground": true,
            "ticks": "",
            "zerolinecolor": "white"
           }
          },
          "shapedefaults": {
           "line": {
            "color": "#2a3f5f"
           }
          },
          "ternary": {
           "aaxis": {
            "gridcolor": "white",
            "linecolor": "white",
            "ticks": ""
           },
           "baxis": {
            "gridcolor": "white",
            "linecolor": "white",
            "ticks": ""
           },
           "bgcolor": "#E5ECF6",
           "caxis": {
            "gridcolor": "white",
            "linecolor": "white",
            "ticks": ""
           }
          },
          "title": {
           "x": 0.05
          },
          "xaxis": {
           "automargin": true,
           "gridcolor": "white",
           "linecolor": "white",
           "ticks": "",
           "title": {
            "standoff": 15
           },
           "zerolinecolor": "white",
           "zerolinewidth": 2
          },
          "yaxis": {
           "automargin": true,
           "gridcolor": "white",
           "linecolor": "white",
           "ticks": "",
           "title": {
            "standoff": 15
           },
           "zerolinecolor": "white",
           "zerolinewidth": 2
          }
         }
        },
        "width": 800,
        "xaxis": {
         "anchor": "y",
         "domain": [
          0,
          0.45
         ]
        },
        "xaxis2": {
         "anchor": "y2",
         "domain": [
          0.55,
          1
         ]
        },
        "xaxis3": {
         "anchor": "y3",
         "domain": [
          0,
          0.45
         ]
        },
        "xaxis4": {
         "anchor": "y4",
         "domain": [
          0.55,
          1
         ]
        },
        "xaxis5": {
         "anchor": "y5",
         "domain": [
          0,
          0.45
         ]
        },
        "xaxis6": {
         "anchor": "y6",
         "domain": [
          0.55,
          1
         ]
        },
        "xaxis7": {
         "anchor": "y7",
         "domain": [
          0,
          0.45
         ]
        },
        "xaxis8": {
         "anchor": "y8",
         "domain": [
          0.55,
          1
         ]
        },
        "yaxis": {
         "anchor": "x",
         "domain": [
          0.78,
          1
         ]
        },
        "yaxis2": {
         "anchor": "x2",
         "domain": [
          0.78,
          1
         ]
        },
        "yaxis3": {
         "anchor": "x3",
         "domain": [
          0.52,
          0.74
         ]
        },
        "yaxis4": {
         "anchor": "x4",
         "domain": [
          0.52,
          0.74
         ]
        },
        "yaxis5": {
         "anchor": "x5",
         "domain": [
          0.26,
          0.48
         ]
        },
        "yaxis6": {
         "anchor": "x6",
         "domain": [
          0.26,
          0.48
         ]
        },
        "yaxis7": {
         "anchor": "x7",
         "domain": [
          0,
          0.22
         ]
        },
        "yaxis8": {
         "anchor": "x8",
         "domain": [
          0,
          0.22
         ]
        }
       }
      },
      "text/html": [
       "<div>\n",
       "        \n",
       "        \n",
       "            <div id=\"6ce56afd-4643-4763-9219-1ce6a9cf1285\" class=\"plotly-graph-div\" style=\"height:1500px; width:800px;\"></div>\n",
       "            <script type=\"text/javascript\">\n",
       "                require([\"plotly\"], function(Plotly) {\n",
       "                    window.PLOTLYENV=window.PLOTLYENV || {};\n",
       "                    \n",
       "                if (document.getElementById(\"6ce56afd-4643-4763-9219-1ce6a9cf1285\")) {\n",
       "                    Plotly.newPlot(\n",
       "                        '6ce56afd-4643-4763-9219-1ce6a9cf1285',\n",
       "                        [{\"hovertext\": [\"EA 6F FF DE 42, Type 2\", \"90 01 09 71 F0, Type 2\", \"31 19 64 3D 10, Type 2\", \"D7 FC 44 05 CA, Type 2\", \"64 0B 1B 0A 45, Type 2\", \"8A 77 B8 09 AD, Type 2\", \"02 88 A7 94 50, Type 2\", \"51 B7 6E C2 FD, Type 2\", \"A4 03 5A F0 57, Type 2\", \"90 A6 58 8A AD, Type 2\", \"F5 E4 FD A4 9F, Type 2\", \"76 8F 56 DE 15, Type 2\", \"3D F6 5A B4 9D, Type 2\", \"A6 FD C4 C0 69, Type 2\", \"4F 9C 21 D3 31, Type 2\", \"94 EB 19 B7 18, Type 2\", \"0F 30 93 5E 0E, Type 2\", \"A2 C1 35 C2 8C, Type 2\", \"19 01 73 04 E2, Type 2\", \"CA A2 77 FC 22, Type 2\", \"96 DD DC FE E3, Type 2\", \"21 36 06 E2 38, Type 2\", \"B7 CA E8 BC 99, Type 2\", \"EF 4A CF 20 AF, Type 2\"], \"marker\": {\"color\": [\"#B3D9FF\", \"#B3D9FF\", \"#B3D9FF\", \"#B3D9FF\", \"#B3D9FF\", \"#B3D9FF\", \"#B3D9FF\", \"#B3D9FF\", \"#B3D9FF\", \"#B3D9FF\", \"#B3D9FF\", \"#B3D9FF\", \"#B3D9FF\", \"#B3D9FF\", \"#B3D9FF\", \"#B3D9FF\", \"#B3D9FF\", \"#B3D9FF\", \"#B3D9FF\", \"#B3D9FF\", \"#B3D9FF\", \"#B3D9FF\", \"#B3D9FF\", \"#B3D9FF\"], \"size\": 10}, \"mode\": \"markers+text\", \"type\": \"scatter\", \"x\": [25.0, 27.0, 35.0, 37.0, 38.0, 38.0, 39.0, 40.0, 40.0, 42.0, 44.0, 45.0, 46.0, 49.0, 53.0, 57.0, 59.0, 59.0, 59.0, 60.0, 64.0, 68.0, 73.0, 74.0], \"xaxis\": \"x\", \"y\": [7.0, 8.0, 7.0, 10.0, 10.0, 9.0, 8.0, 12.0, 6.0, 5.0, 7.0, 9.0, 8.0, 8.0, null, 9.0, null, null, 3.0, null, null, null, null, null], \"yaxis\": \"y\"}, {\"hovertext\": [\"EA 6F FF DE 42, Type 2\", \"90 01 09 71 F0, Type 2\", \"31 19 64 3D 10, Type 2\", \"D7 FC 44 05 CA, Type 2\", \"64 0B 1B 0A 45, Type 2\", \"8A 77 B8 09 AD, Type 2\", \"02 88 A7 94 50, Type 2\", \"51 B7 6E C2 FD, Type 2\", \"A4 03 5A F0 57, Type 2\", \"90 A6 58 8A AD, Type 2\", \"F5 E4 FD A4 9F, Type 2\", \"76 8F 56 DE 15, Type 2\", \"3D F6 5A B4 9D, Type 2\", \"A6 FD C4 C0 69, Type 2\", \"4F 9C 21 D3 31, Type 2\", \"94 EB 19 B7 18, Type 2\", \"0F 30 93 5E 0E, Type 2\", \"A2 C1 35 C2 8C, Type 2\", \"19 01 73 04 E2, Type 2\", \"CA A2 77 FC 22, Type 2\", \"96 DD DC FE E3, Type 2\", \"21 36 06 E2 38, Type 2\", \"B7 CA E8 BC 99, Type 2\", \"EF 4A CF 20 AF, Type 2\"], \"marker\": {\"color\": [\"#B3D9FF\", \"#B3D9FF\", \"#B3D9FF\", \"#B3D9FF\", \"#B3D9FF\", \"#B3D9FF\", \"#B3D9FF\", \"#B3D9FF\", \"#B3D9FF\", \"#B3D9FF\", \"#B3D9FF\", \"#B3D9FF\", \"#B3D9FF\", \"#B3D9FF\", \"#B3D9FF\", \"#B3D9FF\", \"#B3D9FF\", \"#B3D9FF\", \"#B3D9FF\", \"#B3D9FF\", \"#B3D9FF\", \"#B3D9FF\", \"#B3D9FF\", \"#B3D9FF\"], \"size\": 10}, \"mode\": \"markers+text\", \"type\": \"scatter\", \"x\": [25.0, 27.0, 35.0, 37.0, 38.0, 38.0, 39.0, 40.0, 40.0, 42.0, 44.0, 45.0, 46.0, 49.0, 53.0, 57.0, 59.0, 59.0, 59.0, 60.0, 64.0, 68.0, 73.0, 74.0], \"xaxis\": \"x2\", \"y\": [11.0, 7.0, 9.0, 8.0, 15.0, 10.0, 10.0, 14.0, 7.0, 2.0, 10.0, 9.0, 9.0, 9.0, null, 8.0, null, null, 1.0, null, null, null, null, null], \"yaxis\": \"y2\"}, {\"hovertext\": [\"EA 6F FF DE 42, Type 2\", \"90 01 09 71 F0, Type 2\", \"31 19 64 3D 10, Type 2\", \"D7 FC 44 05 CA, Type 2\", \"64 0B 1B 0A 45, Type 2\", \"8A 77 B8 09 AD, Type 2\", \"02 88 A7 94 50, Type 2\", \"51 B7 6E C2 FD, Type 2\", \"A4 03 5A F0 57, Type 2\", \"90 A6 58 8A AD, Type 2\", \"F5 E4 FD A4 9F, Type 2\", \"76 8F 56 DE 15, Type 2\", \"3D F6 5A B4 9D, Type 2\", \"A6 FD C4 C0 69, Type 2\", \"4F 9C 21 D3 31, Type 2\", \"94 EB 19 B7 18, Type 2\", \"0F 30 93 5E 0E, Type 2\", \"A2 C1 35 C2 8C, Type 2\", \"19 01 73 04 E2, Type 2\", \"CA A2 77 FC 22, Type 2\", \"96 DD DC FE E3, Type 2\", \"21 36 06 E2 38, Type 2\", \"B7 CA E8 BC 99, Type 2\", \"EF 4A CF 20 AF, Type 2\"], \"marker\": {\"color\": [\"#B3D9FF\", \"#B3D9FF\", \"#B3D9FF\", \"#B3D9FF\", \"#B3D9FF\", \"#B3D9FF\", \"#B3D9FF\", \"#B3D9FF\", \"#B3D9FF\", \"#B3D9FF\", \"#B3D9FF\", \"#B3D9FF\", \"#B3D9FF\", \"#B3D9FF\", \"#B3D9FF\", \"#B3D9FF\", \"#B3D9FF\", \"#B3D9FF\", \"#B3D9FF\", \"#B3D9FF\", \"#B3D9FF\", \"#B3D9FF\", \"#B3D9FF\", \"#B3D9FF\"], \"size\": 10}, \"mode\": \"markers+text\", \"type\": \"scatter\", \"x\": [25.0, 27.0, 35.0, 37.0, 38.0, 38.0, 39.0, 40.0, 40.0, 42.0, 44.0, 45.0, 46.0, 49.0, 53.0, 57.0, 59.0, 59.0, 59.0, 60.0, 64.0, 68.0, 73.0, 74.0], \"xaxis\": \"x3\", \"y\": [18.0, 15.0, 16.0, 18.0, 25.0, 19.0, 18.0, 26.0, 13.0, 7.0, 17.0, 18.0, 17.0, 17.0, null, 17.0, null, null, 4.0, null, null, null, null, null], \"yaxis\": \"y3\"}, {\"hovertext\": [\"EA 6F FF DE 42, Type 2\", \"90 01 09 71 F0, Type 2\", \"31 19 64 3D 10, Type 2\", \"D7 FC 44 05 CA, Type 2\", \"64 0B 1B 0A 45, Type 2\", \"8A 77 B8 09 AD, Type 2\", \"02 88 A7 94 50, Type 2\", \"51 B7 6E C2 FD, Type 2\", \"A4 03 5A F0 57, Type 2\", \"90 A6 58 8A AD, Type 2\", \"F5 E4 FD A4 9F, Type 2\", \"76 8F 56 DE 15, Type 2\", \"3D F6 5A B4 9D, Type 2\", \"A6 FD C4 C0 69, Type 2\", \"4F 9C 21 D3 31, Type 2\", \"94 EB 19 B7 18, Type 2\", \"0F 30 93 5E 0E, Type 2\", \"A2 C1 35 C2 8C, Type 2\", \"19 01 73 04 E2, Type 2\", \"CA A2 77 FC 22, Type 2\", \"96 DD DC FE E3, Type 2\", \"21 36 06 E2 38, Type 2\", \"B7 CA E8 BC 99, Type 2\", \"EF 4A CF 20 AF, Type 2\"], \"marker\": {\"color\": [\"#B3D9FF\", \"#B3D9FF\", \"#B3D9FF\", \"#B3D9FF\", \"#B3D9FF\", \"#B3D9FF\", \"#B3D9FF\", \"#B3D9FF\", \"#B3D9FF\", \"#B3D9FF\", \"#B3D9FF\", \"#B3D9FF\", \"#B3D9FF\", \"#B3D9FF\", \"#B3D9FF\", \"#B3D9FF\", \"#B3D9FF\", \"#B3D9FF\", \"#B3D9FF\", \"#B3D9FF\", \"#B3D9FF\", \"#B3D9FF\", \"#B3D9FF\", \"#B3D9FF\"], \"size\": 10}, \"mode\": \"markers+text\", \"type\": \"scatter\", \"x\": [25.0, 27.0, 35.0, 37.0, 38.0, 38.0, 39.0, 40.0, 40.0, 42.0, 44.0, 45.0, 46.0, 49.0, 53.0, 57.0, 59.0, 59.0, 59.0, 60.0, 64.0, 68.0, 73.0, 74.0], \"xaxis\": \"x4\", \"y\": [94.0, 86.0, 89.0, 94.0, 114.0, 97.0, 94.0, 117.0, 81.0, 64.0, 92.0, 94.0, 92.0, 92.0, null, 92.0, null, null, 55.0, null, null, null, null, null], \"yaxis\": \"y4\"}, {\"hovertext\": [\"EA 6F FF DE 42, Type 2\", \"90 01 09 71 F0, Type 2\", \"31 19 64 3D 10, Type 2\", \"D7 FC 44 05 CA, Type 2\", \"64 0B 1B 0A 45, Type 2\", \"8A 77 B8 09 AD, Type 2\", \"02 88 A7 94 50, Type 2\", \"51 B7 6E C2 FD, Type 2\", \"A4 03 5A F0 57, Type 2\", \"90 A6 58 8A AD, Type 2\", \"F5 E4 FD A4 9F, Type 2\", \"76 8F 56 DE 15, Type 2\", \"3D F6 5A B4 9D, Type 2\", \"A6 FD C4 C0 69, Type 2\", \"4F 9C 21 D3 31, Type 2\", \"94 EB 19 B7 18, Type 2\", \"0F 30 93 5E 0E, Type 2\", \"A2 C1 35 C2 8C, Type 2\", \"19 01 73 04 E2, Type 2\", \"CA A2 77 FC 22, Type 2\", \"96 DD DC FE E3, Type 2\", \"21 36 06 E2 38, Type 2\", \"B7 CA E8 BC 99, Type 2\", \"EF 4A CF 20 AF, Type 2\"], \"marker\": {\"color\": [\"#B3D9FF\", \"#B3D9FF\", \"#B3D9FF\", \"#B3D9FF\", \"#B3D9FF\", \"#B3D9FF\", \"#B3D9FF\", \"#B3D9FF\", \"#B3D9FF\", \"#B3D9FF\", \"#B3D9FF\", \"#B3D9FF\", \"#B3D9FF\", \"#B3D9FF\", \"#B3D9FF\", \"#B3D9FF\", \"#B3D9FF\", \"#B3D9FF\", \"#B3D9FF\", \"#B3D9FF\", \"#B3D9FF\", \"#B3D9FF\", \"#B3D9FF\", \"#B3D9FF\"], \"size\": 10}, \"mode\": \"markers+text\", \"type\": \"scatter\", \"x\": [25.0, 27.0, 35.0, 37.0, 38.0, 38.0, 39.0, 40.0, 40.0, 42.0, 44.0, 45.0, 46.0, 49.0, 53.0, 57.0, 59.0, 59.0, 59.0, 60.0, 64.0, 68.0, 73.0, 74.0], \"xaxis\": \"x5\", \"y\": [34.0, 18.0, 23.0, 42.0, 82.0, 42.0, 34.0, 87.0, 10.0, 1.0, 30.0, 34.0, 30.0, 30.0, null, 30.0, null, null, 1.0, null, null, null, null, null], \"yaxis\": \"y5\"}, {\"hovertext\": [\"EA 6F FF DE 42, Type 2\", \"90 01 09 71 F0, Type 2\", \"31 19 64 3D 10, Type 2\", \"D7 FC 44 05 CA, Type 2\", \"64 0B 1B 0A 45, Type 2\", \"8A 77 B8 09 AD, Type 2\", \"02 88 A7 94 50, Type 2\", \"51 B7 6E C2 FD, Type 2\", \"A4 03 5A F0 57, Type 2\", \"90 A6 58 8A AD, Type 2\", \"F5 E4 FD A4 9F, Type 2\", \"76 8F 56 DE 15, Type 2\", \"3D F6 5A B4 9D, Type 2\", \"A6 FD C4 C0 69, Type 2\", \"4F 9C 21 D3 31, Type 2\", \"94 EB 19 B7 18, Type 2\", \"0F 30 93 5E 0E, Type 2\", \"A2 C1 35 C2 8C, Type 2\", \"19 01 73 04 E2, Type 2\", \"CA A2 77 FC 22, Type 2\", \"96 DD DC FE E3, Type 2\", \"21 36 06 E2 38, Type 2\", \"B7 CA E8 BC 99, Type 2\", \"EF 4A CF 20 AF, Type 2\"], \"marker\": {\"color\": [\"#B3D9FF\", \"#B3D9FF\", \"#B3D9FF\", \"#B3D9FF\", \"#B3D9FF\", \"#B3D9FF\", \"#B3D9FF\", \"#B3D9FF\", \"#B3D9FF\", \"#B3D9FF\", \"#B3D9FF\", \"#B3D9FF\", \"#B3D9FF\", \"#B3D9FF\", \"#B3D9FF\", \"#B3D9FF\", \"#B3D9FF\", \"#B3D9FF\", \"#B3D9FF\", \"#B3D9FF\", \"#B3D9FF\", \"#B3D9FF\", \"#B3D9FF\", \"#B3D9FF\"], \"size\": 10}, \"mode\": \"markers+text\", \"type\": \"scatter\", \"x\": [25.0, 27.0, 35.0, 37.0, 38.0, 38.0, 39.0, 40.0, 40.0, 42.0, 44.0, 45.0, 46.0, 49.0, 53.0, 57.0, 59.0, 59.0, 59.0, 60.0, 64.0, 68.0, 73.0, 74.0], \"xaxis\": \"x6\", \"y\": [86.0, 79.0, 81.0, 88.0, 103.0, 88.0, 86.0, 106.0, 74.0, 59.0, 84.0, 86.0, 84.0, 84.0, null, 84.0, null, null, 51.0, null, null, null, null, null], \"yaxis\": \"y6\"}, {\"hovertext\": [\"EA 6F FF DE 42, Type 2\", \"90 01 09 71 F0, Type 2\", \"31 19 64 3D 10, Type 2\", \"D7 FC 44 05 CA, Type 2\", \"64 0B 1B 0A 45, Type 2\", \"8A 77 B8 09 AD, Type 2\", \"02 88 A7 94 50, Type 2\", \"51 B7 6E C2 FD, Type 2\", \"A4 03 5A F0 57, Type 2\", \"90 A6 58 8A AD, Type 2\", \"F5 E4 FD A4 9F, Type 2\", \"76 8F 56 DE 15, Type 2\", \"3D F6 5A B4 9D, Type 2\", \"A6 FD C4 C0 69, Type 2\", \"4F 9C 21 D3 31, Type 2\", \"94 EB 19 B7 18, Type 2\", \"0F 30 93 5E 0E, Type 2\", \"A2 C1 35 C2 8C, Type 2\", \"19 01 73 04 E2, Type 2\", \"CA A2 77 FC 22, Type 2\", \"96 DD DC FE E3, Type 2\", \"21 36 06 E2 38, Type 2\", \"B7 CA E8 BC 99, Type 2\", \"EF 4A CF 20 AF, Type 2\"], \"marker\": {\"color\": [\"#B3D9FF\", \"#B3D9FF\", \"#B3D9FF\", \"#B3D9FF\", \"#B3D9FF\", \"#B3D9FF\", \"#B3D9FF\", \"#B3D9FF\", \"#B3D9FF\", \"#B3D9FF\", \"#B3D9FF\", \"#B3D9FF\", \"#B3D9FF\", \"#B3D9FF\", \"#B3D9FF\", \"#B3D9FF\", \"#B3D9FF\", \"#B3D9FF\", \"#B3D9FF\", \"#B3D9FF\", \"#B3D9FF\", \"#B3D9FF\", \"#B3D9FF\", \"#B3D9FF\"], \"size\": 10}, \"mode\": \"markers+text\", \"type\": \"scatter\", \"x\": [25.0, 27.0, 35.0, 37.0, 38.0, 38.0, 39.0, 40.0, 40.0, 42.0, 44.0, 45.0, 46.0, 49.0, 53.0, 57.0, 59.0, 59.0, 59.0, 60.0, 64.0, 68.0, 73.0, 74.0], \"xaxis\": \"x7\", \"y\": [104.0, 87.0, 99.0, 106.0, 121.0, 106.0, 104.0, 124.0, 92.0, 77.0, 102.0, 104.0, 102.0, 102.0, null, 102.0, null, null, 70.0, null, null, null, null, null], \"yaxis\": \"y7\"}],\n",
       "                        {\"annotations\": [{\"font\": {\"size\": 16}, \"showarrow\": false, \"text\": \"Note standard Symboles\", \"x\": 0.225, \"xanchor\": \"center\", \"xref\": \"paper\", \"y\": 1.0, \"yanchor\": \"bottom\", \"yref\": \"paper\"}, {\"font\": {\"size\": 16}, \"showarrow\": false, \"text\": \"Note standard Code\", \"x\": 0.775, \"xanchor\": \"center\", \"xref\": \"paper\", \"y\": 1.0, \"yanchor\": \"bottom\", \"yref\": \"paper\"}, {\"font\": {\"size\": 16}, \"showarrow\": false, \"text\": \"Total des notes standards IVT\", \"x\": 0.225, \"xanchor\": \"center\", \"xref\": \"paper\", \"y\": 0.74, \"yanchor\": \"bottom\", \"yref\": \"paper\"}, {\"font\": {\"size\": 16}, \"showarrow\": false, \"text\": \"Note composite IVT\", \"x\": 0.775, \"xanchor\": \"center\", \"xref\": \"paper\", \"y\": 0.74, \"yanchor\": \"bottom\", \"yref\": \"paper\"}, {\"font\": {\"size\": 16}, \"showarrow\": false, \"text\": \"Rang percentile IVT\", \"x\": 0.225, \"xanchor\": \"center\", \"xref\": \"paper\", \"y\": 0.48, \"yanchor\": \"bottom\", \"yref\": \"paper\"}, {\"font\": {\"size\": 16}, \"showarrow\": false, \"text\": \"Note \\u00e9cart type inf\\u00e9rieure IVT\", \"x\": 0.775, \"xanchor\": \"center\", \"xref\": \"paper\", \"y\": 0.48, \"yanchor\": \"bottom\", \"yref\": \"paper\"}, {\"font\": {\"size\": 16}, \"showarrow\": false, \"text\": \"Note \\u00e9cart type sup\\u00e9rieure IVT\", \"x\": 0.225, \"xanchor\": \"center\", \"xref\": \"paper\", \"y\": 0.22, \"yanchor\": \"bottom\", \"yref\": \"paper\"}, {\"font\": {\"size\": 16}, \"showarrow\": false, \"text\": \"\\u00c2ge\", \"x\": 0.5, \"xanchor\": \"center\", \"xref\": \"paper\", \"y\": 0, \"yanchor\": \"top\", \"yref\": \"paper\", \"yshift\": -30}, {\"font\": {\"size\": 16}, \"showarrow\": false, \"text\": \"Score\", \"textangle\": -90, \"x\": 0, \"xanchor\": \"right\", \"xref\": \"paper\", \"xshift\": -40, \"y\": 0.5, \"yanchor\": \"middle\", \"yref\": \"paper\"}], \"height\": 1500, \"showlegend\": false, \"template\": {\"data\": {\"bar\": [{\"error_x\": {\"color\": \"#2a3f5f\"}, \"error_y\": {\"color\": \"#2a3f5f\"}, \"marker\": {\"line\": {\"color\": \"#E5ECF6\", \"width\": 0.5}}, \"type\": \"bar\"}], \"barpolar\": [{\"marker\": {\"line\": {\"color\": \"#E5ECF6\", \"width\": 0.5}}, \"type\": \"barpolar\"}], \"carpet\": [{\"aaxis\": {\"endlinecolor\": \"#2a3f5f\", \"gridcolor\": \"white\", \"linecolor\": \"white\", \"minorgridcolor\": \"white\", \"startlinecolor\": \"#2a3f5f\"}, \"baxis\": {\"endlinecolor\": \"#2a3f5f\", \"gridcolor\": \"white\", \"linecolor\": \"white\", \"minorgridcolor\": \"white\", \"startlinecolor\": \"#2a3f5f\"}, \"type\": \"carpet\"}], \"choropleth\": [{\"colorbar\": {\"outlinewidth\": 0, \"ticks\": \"\"}, \"type\": \"choropleth\"}], \"contour\": [{\"colorbar\": {\"outlinewidth\": 0, \"ticks\": \"\"}, \"colorscale\": [[0.0, \"#0d0887\"], [0.1111111111111111, \"#46039f\"], [0.2222222222222222, \"#7201a8\"], [0.3333333333333333, \"#9c179e\"], [0.4444444444444444, \"#bd3786\"], [0.5555555555555556, \"#d8576b\"], [0.6666666666666666, \"#ed7953\"], [0.7777777777777778, \"#fb9f3a\"], [0.8888888888888888, \"#fdca26\"], [1.0, \"#f0f921\"]], \"type\": \"contour\"}], \"contourcarpet\": [{\"colorbar\": {\"outlinewidth\": 0, \"ticks\": \"\"}, \"type\": \"contourcarpet\"}], \"heatmap\": [{\"colorbar\": {\"outlinewidth\": 0, \"ticks\": \"\"}, \"colorscale\": [[0.0, \"#0d0887\"], [0.1111111111111111, \"#46039f\"], [0.2222222222222222, \"#7201a8\"], [0.3333333333333333, \"#9c179e\"], [0.4444444444444444, \"#bd3786\"], [0.5555555555555556, \"#d8576b\"], [0.6666666666666666, \"#ed7953\"], [0.7777777777777778, \"#fb9f3a\"], [0.8888888888888888, \"#fdca26\"], [1.0, \"#f0f921\"]], \"type\": \"heatmap\"}], \"heatmapgl\": [{\"colorbar\": {\"outlinewidth\": 0, \"ticks\": \"\"}, \"colorscale\": [[0.0, \"#0d0887\"], [0.1111111111111111, \"#46039f\"], [0.2222222222222222, \"#7201a8\"], [0.3333333333333333, \"#9c179e\"], [0.4444444444444444, \"#bd3786\"], [0.5555555555555556, \"#d8576b\"], [0.6666666666666666, \"#ed7953\"], [0.7777777777777778, \"#fb9f3a\"], [0.8888888888888888, \"#fdca26\"], [1.0, \"#f0f921\"]], \"type\": \"heatmapgl\"}], \"histogram\": [{\"marker\": {\"colorbar\": {\"outlinewidth\": 0, \"ticks\": \"\"}}, \"type\": \"histogram\"}], \"histogram2d\": [{\"colorbar\": {\"outlinewidth\": 0, \"ticks\": \"\"}, \"colorscale\": [[0.0, \"#0d0887\"], [0.1111111111111111, \"#46039f\"], [0.2222222222222222, \"#7201a8\"], [0.3333333333333333, \"#9c179e\"], [0.4444444444444444, \"#bd3786\"], [0.5555555555555556, \"#d8576b\"], [0.6666666666666666, \"#ed7953\"], [0.7777777777777778, \"#fb9f3a\"], [0.8888888888888888, \"#fdca26\"], [1.0, \"#f0f921\"]], \"type\": \"histogram2d\"}], \"histogram2dcontour\": [{\"colorbar\": {\"outlinewidth\": 0, \"ticks\": \"\"}, \"colorscale\": [[0.0, \"#0d0887\"], [0.1111111111111111, \"#46039f\"], [0.2222222222222222, \"#7201a8\"], [0.3333333333333333, \"#9c179e\"], [0.4444444444444444, \"#bd3786\"], [0.5555555555555556, \"#d8576b\"], [0.6666666666666666, \"#ed7953\"], [0.7777777777777778, \"#fb9f3a\"], [0.8888888888888888, \"#fdca26\"], [1.0, \"#f0f921\"]], \"type\": \"histogram2dcontour\"}], \"mesh3d\": [{\"colorbar\": {\"outlinewidth\": 0, \"ticks\": \"\"}, \"type\": \"mesh3d\"}], \"parcoords\": [{\"line\": {\"colorbar\": {\"outlinewidth\": 0, \"ticks\": \"\"}}, \"type\": \"parcoords\"}], \"pie\": [{\"automargin\": true, \"type\": \"pie\"}], \"scatter\": [{\"marker\": {\"colorbar\": {\"outlinewidth\": 0, \"ticks\": \"\"}}, \"type\": \"scatter\"}], \"scatter3d\": [{\"line\": {\"colorbar\": {\"outlinewidth\": 0, \"ticks\": \"\"}}, \"marker\": {\"colorbar\": {\"outlinewidth\": 0, \"ticks\": \"\"}}, \"type\": \"scatter3d\"}], \"scattercarpet\": [{\"marker\": {\"colorbar\": {\"outlinewidth\": 0, \"ticks\": \"\"}}, \"type\": \"scattercarpet\"}], \"scattergeo\": [{\"marker\": {\"colorbar\": {\"outlinewidth\": 0, \"ticks\": \"\"}}, \"type\": \"scattergeo\"}], \"scattergl\": [{\"marker\": {\"colorbar\": {\"outlinewidth\": 0, \"ticks\": \"\"}}, \"type\": \"scattergl\"}], \"scattermapbox\": [{\"marker\": {\"colorbar\": {\"outlinewidth\": 0, \"ticks\": \"\"}}, \"type\": \"scattermapbox\"}], \"scatterpolar\": [{\"marker\": {\"colorbar\": {\"outlinewidth\": 0, \"ticks\": \"\"}}, \"type\": \"scatterpolar\"}], \"scatterpolargl\": [{\"marker\": {\"colorbar\": {\"outlinewidth\": 0, \"ticks\": \"\"}}, \"type\": \"scatterpolargl\"}], \"scatterternary\": [{\"marker\": {\"colorbar\": {\"outlinewidth\": 0, \"ticks\": \"\"}}, \"type\": \"scatterternary\"}], \"surface\": [{\"colorbar\": {\"outlinewidth\": 0, \"ticks\": \"\"}, \"colorscale\": [[0.0, \"#0d0887\"], [0.1111111111111111, \"#46039f\"], [0.2222222222222222, \"#7201a8\"], [0.3333333333333333, \"#9c179e\"], [0.4444444444444444, \"#bd3786\"], [0.5555555555555556, \"#d8576b\"], [0.6666666666666666, \"#ed7953\"], [0.7777777777777778, \"#fb9f3a\"], [0.8888888888888888, \"#fdca26\"], [1.0, \"#f0f921\"]], \"type\": \"surface\"}], \"table\": [{\"cells\": {\"fill\": {\"color\": \"#EBF0F8\"}, \"line\": {\"color\": \"white\"}}, \"header\": {\"fill\": {\"color\": \"#C8D4E3\"}, \"line\": {\"color\": \"white\"}}, \"type\": \"table\"}]}, \"layout\": {\"annotationdefaults\": {\"arrowcolor\": \"#2a3f5f\", \"arrowhead\": 0, \"arrowwidth\": 1}, \"coloraxis\": {\"colorbar\": {\"outlinewidth\": 0, \"ticks\": \"\"}}, \"colorscale\": {\"diverging\": [[0, \"#8e0152\"], [0.1, \"#c51b7d\"], [0.2, \"#de77ae\"], [0.3, \"#f1b6da\"], [0.4, \"#fde0ef\"], [0.5, \"#f7f7f7\"], [0.6, \"#e6f5d0\"], [0.7, \"#b8e186\"], [0.8, \"#7fbc41\"], [0.9, \"#4d9221\"], [1, \"#276419\"]], \"sequential\": [[0.0, \"#0d0887\"], [0.1111111111111111, \"#46039f\"], [0.2222222222222222, \"#7201a8\"], [0.3333333333333333, \"#9c179e\"], [0.4444444444444444, \"#bd3786\"], [0.5555555555555556, \"#d8576b\"], [0.6666666666666666, \"#ed7953\"], [0.7777777777777778, \"#fb9f3a\"], [0.8888888888888888, \"#fdca26\"], [1.0, \"#f0f921\"]], \"sequentialminus\": [[0.0, \"#0d0887\"], [0.1111111111111111, \"#46039f\"], [0.2222222222222222, \"#7201a8\"], [0.3333333333333333, \"#9c179e\"], [0.4444444444444444, \"#bd3786\"], [0.5555555555555556, \"#d8576b\"], [0.6666666666666666, \"#ed7953\"], [0.7777777777777778, \"#fb9f3a\"], [0.8888888888888888, \"#fdca26\"], [1.0, \"#f0f921\"]]}, \"colorway\": [\"#636efa\", \"#EF553B\", \"#00cc96\", \"#ab63fa\", \"#FFA15A\", \"#19d3f3\", \"#FF6692\", \"#B6E880\", \"#FF97FF\", \"#FECB52\"], \"font\": {\"color\": \"#2a3f5f\"}, \"geo\": {\"bgcolor\": \"white\", \"lakecolor\": \"white\", \"landcolor\": \"#E5ECF6\", \"showlakes\": true, \"showland\": true, \"subunitcolor\": \"white\"}, \"hoverlabel\": {\"align\": \"left\"}, \"hovermode\": \"closest\", \"mapbox\": {\"style\": \"light\"}, \"paper_bgcolor\": \"white\", \"plot_bgcolor\": \"#E5ECF6\", \"polar\": {\"angularaxis\": {\"gridcolor\": \"white\", \"linecolor\": \"white\", \"ticks\": \"\"}, \"bgcolor\": \"#E5ECF6\", \"radialaxis\": {\"gridcolor\": \"white\", \"linecolor\": \"white\", \"ticks\": \"\"}}, \"scene\": {\"xaxis\": {\"backgroundcolor\": \"#E5ECF6\", \"gridcolor\": \"white\", \"gridwidth\": 2, \"linecolor\": \"white\", \"showbackground\": true, \"ticks\": \"\", \"zerolinecolor\": \"white\"}, \"yaxis\": {\"backgroundcolor\": \"#E5ECF6\", \"gridcolor\": \"white\", \"gridwidth\": 2, \"linecolor\": \"white\", \"showbackground\": true, \"ticks\": \"\", \"zerolinecolor\": \"white\"}, \"zaxis\": {\"backgroundcolor\": \"#E5ECF6\", \"gridcolor\": \"white\", \"gridwidth\": 2, \"linecolor\": \"white\", \"showbackground\": true, \"ticks\": \"\", \"zerolinecolor\": \"white\"}}, \"shapedefaults\": {\"line\": {\"color\": \"#2a3f5f\"}}, \"ternary\": {\"aaxis\": {\"gridcolor\": \"white\", \"linecolor\": \"white\", \"ticks\": \"\"}, \"baxis\": {\"gridcolor\": \"white\", \"linecolor\": \"white\", \"ticks\": \"\"}, \"bgcolor\": \"#E5ECF6\", \"caxis\": {\"gridcolor\": \"white\", \"linecolor\": \"white\", \"ticks\": \"\"}}, \"title\": {\"x\": 0.05}, \"xaxis\": {\"automargin\": true, \"gridcolor\": \"white\", \"linecolor\": \"white\", \"ticks\": \"\", \"title\": {\"standoff\": 15}, \"zerolinecolor\": \"white\", \"zerolinewidth\": 2}, \"yaxis\": {\"automargin\": true, \"gridcolor\": \"white\", \"linecolor\": \"white\", \"ticks\": \"\", \"title\": {\"standoff\": 15}, \"zerolinecolor\": \"white\", \"zerolinewidth\": 2}}}, \"width\": 800, \"xaxis\": {\"anchor\": \"y\", \"domain\": [0.0, 0.45]}, \"xaxis2\": {\"anchor\": \"y2\", \"domain\": [0.55, 1.0]}, \"xaxis3\": {\"anchor\": \"y3\", \"domain\": [0.0, 0.45]}, \"xaxis4\": {\"anchor\": \"y4\", \"domain\": [0.55, 1.0]}, \"xaxis5\": {\"anchor\": \"y5\", \"domain\": [0.0, 0.45]}, \"xaxis6\": {\"anchor\": \"y6\", \"domain\": [0.55, 1.0]}, \"xaxis7\": {\"anchor\": \"y7\", \"domain\": [0.0, 0.45]}, \"xaxis8\": {\"anchor\": \"y8\", \"domain\": [0.55, 1.0]}, \"yaxis\": {\"anchor\": \"x\", \"domain\": [0.78, 1.0]}, \"yaxis2\": {\"anchor\": \"x2\", \"domain\": [0.78, 1.0]}, \"yaxis3\": {\"anchor\": \"x3\", \"domain\": [0.52, 0.74]}, \"yaxis4\": {\"anchor\": \"x4\", \"domain\": [0.52, 0.74]}, \"yaxis5\": {\"anchor\": \"x5\", \"domain\": [0.26, 0.48]}, \"yaxis6\": {\"anchor\": \"x6\", \"domain\": [0.26, 0.48]}, \"yaxis7\": {\"anchor\": \"x7\", \"domain\": [0.0, 0.22]}, \"yaxis8\": {\"anchor\": \"x8\", \"domain\": [0.0, 0.22]}},\n",
       "                        {\"responsive\": true}\n",
       "                    ).then(function(){\n",
       "                            \n",
       "var gd = document.getElementById('6ce56afd-4643-4763-9219-1ce6a9cf1285');\n",
       "var x = new MutationObserver(function (mutations, observer) {{\n",
       "        var display = window.getComputedStyle(gd).display;\n",
       "        if (!display || display === 'none') {{\n",
       "            console.log([gd, 'removed!']);\n",
       "            Plotly.purge(gd);\n",
       "            observer.disconnect();\n",
       "        }}\n",
       "}});\n",
       "\n",
       "// Listen for the removal of the full notebook cells\n",
       "var notebookContainer = gd.closest('#notebook-container');\n",
       "if (notebookContainer) {{\n",
       "    x.observe(notebookContainer, {childList: true});\n",
       "}}\n",
       "\n",
       "// Listen for the clearing of the current output cell\n",
       "var outputEl = gd.closest('.output');\n",
       "if (outputEl) {{\n",
       "    x.observe(outputEl, {childList: true});\n",
       "}}\n",
       "\n",
       "                        })\n",
       "                };\n",
       "                });\n",
       "            </script>\n",
       "        </div>"
      ]
     },
     "metadata": {},
     "output_type": "display_data"
    }
   ],
   "source": [
    "fig_wais_sub.add_trace(go.Scatter(x= df_wais_sub['age'], y=df_wais_sub[subplot_titles[4]], mode=\"markers+text\",\n",
    "            marker={'size': 10, \"color\": df_wais_sub['Type_color'] },\n",
    "            hovertext= df_wais_sub['ID_SECONDAIRE'] +\", \"+ df_wais_sub['Type']),\n",
    "            row=1, col=1)\n",
    "\n",
    "fig_wais_sub.add_trace(go.Scatter(x= df_wais_sub['age'], y=df_wais_sub[subplot_titles[5]], mode=\"markers+text\",\n",
    "            marker={'size': 10, \"color\": df_wais_sub['Type_color'] },\n",
    "            hovertext= df_wais_sub['ID_SECONDAIRE'] +\", \"+ df_wais_sub['Type']),\n",
    "              row=1, col=2)\n",
    "\n",
    "fig_wais_sub.add_trace(go.Scatter(x= df_wais_sub['age'], y=df_wais_sub[subplot_titles[6]], mode=\"markers+text\",\n",
    "            marker={'size': 10, \"color\": df_wais_sub['Type_color'] },\n",
    "            hovertext= df_wais_sub['ID_SECONDAIRE'] +\", \"+ df_wais_sub['Type']),\n",
    "              row=2, col=1)\n",
    "\n",
    "fig_wais_sub.add_trace(go.Scatter(x= df_wais_sub['age'], y=df_wais_sub[subplot_titles[7]], mode=\"markers+text\",\n",
    "            marker={'size': 10, \"color\": df_wais_sub['Type_color'] },\n",
    "            hovertext= df_wais_sub['ID_SECONDAIRE'] +\", \"+ df_wais_sub['Type']),\n",
    "            row=2, col=2)\n",
    "\n",
    "fig_wais_sub.add_trace(go.Scatter(x= df_wais_sub['age'], y=df_wais_sub[subplot_titles[8]], mode=\"markers+text\",\n",
    "            marker={'size': 10, \"color\": df_wais_sub['Type_color'] },\n",
    "            hovertext= df_wais_sub['ID_SECONDAIRE'] +\", \"+ df_wais_sub['Type']),\n",
    "            row=3, col=1)\n",
    "                                                             \n",
    "fig_wais_sub.add_trace(go.Scatter(x= df_wais_sub['age'], y=df_wais_sub[subplot_titles[9]], mode=\"markers+text\",\n",
    "            marker={'size': 10, \"color\": df_wais_sub['Type_color'] },\n",
    "            hovertext= df_wais_sub['ID_SECONDAIRE'] +\", \"+ df_wais_sub['Type']),\n",
    "            row=3, col=2)\n",
    "    \n",
    "fig_wais_sub.add_trace(go.Scatter(x= df_wais_sub['age'], y=df_wais_sub[subplot_titles[10]], mode=\"markers+text\",\n",
    "            marker={'size': 10, \"color\": df_wais_sub['Type_color'] },\n",
    "            hovertext= df_wais_sub['ID_SECONDAIRE'] +\", \"+ df_wais_sub['Type']),\n",
    "            row=4, col=1)\n",
    "    \n",
    "fig_wais_sub.update_layout(height=1500, width=800,\n",
    "                   showlegend=False\n",
    "            )"
   ]
  },
  {
   "cell_type": "code",
   "execution_count": 131,
   "metadata": {
    "ExecuteTime": {
     "end_time": "2020-11-26T13:43:26.829993Z",
     "start_time": "2020-11-26T13:43:26.812518Z"
    }
   },
   "outputs": [],
   "source": [
    "df_wais_sub_agg = df_wais_sub.agg(['min', 'max', 'mean', 'median', 'count'])\n",
    "#\n",
    "df_wais_sub_agg.index.name = \"Aggrégation\"\n",
    "df_wais_sub_agg.reset_index(inplace=True)\n",
    "#\n",
    "df_wais_sub_agg = df_wais_sub_agg.replace({'Aggrégation' : {\"min\":\"Min\",\"max\":\"Max\",\"mean\":\"Moyenne\", \"median\":\"Médiane\",  \"count\":\"Effectif\"}})"
   ]
  },
  {
   "cell_type": "code",
   "execution_count": 132,
   "metadata": {
    "ExecuteTime": {
     "end_time": "2020-11-26T13:43:27.777173Z",
     "start_time": "2020-11-26T13:43:27.773424Z"
    }
   },
   "outputs": [],
   "source": [
    "df_wais_sub_agg = df_wais_sub_agg.drop(columns= ['ID_SECONDAIRE','Type', 'Type_color', 'age' ])"
   ]
  },
  {
   "cell_type": "code",
   "execution_count": 133,
   "metadata": {
    "ExecuteTime": {
     "end_time": "2020-11-26T13:43:28.477826Z",
     "start_time": "2020-11-26T13:43:28.473664Z"
    }
   },
   "outputs": [],
   "source": [
    "df_wais_sub_agg = df_wais_sub_agg.round(2)"
   ]
  },
  {
   "cell_type": "code",
   "execution_count": 134,
   "metadata": {
    "ExecuteTime": {
     "end_time": "2020-11-26T13:43:29.132743Z",
     "start_time": "2020-11-26T13:43:29.126431Z"
    }
   },
   "outputs": [],
   "source": [
    "wais_sub =  go.Table(\n",
    "                header=dict(values=list(df_wais_sub_agg.columns[:]),\n",
    "                align='left'),\n",
    "                cells=dict(values= [df_wais_sub_agg.iloc[:,0], df_wais_sub_agg.iloc[:,1], df_wais_sub_agg.iloc[:,2], df_wais_sub_agg.iloc[:,3]\n",
    "                           , df_wais_sub_agg.iloc[:,4], df_wais_sub_agg.iloc[:,5], df_wais_sub_agg.iloc[:,6], df_wais_sub_agg.iloc[:,7]], align='left'))"
   ]
  },
  {
   "cell_type": "code",
   "execution_count": 135,
   "metadata": {
    "ExecuteTime": {
     "end_time": "2020-11-26T13:43:30.085186Z",
     "start_time": "2020-11-26T13:43:29.970951Z"
    },
    "scrolled": true
   },
   "outputs": [
    {
     "data": {
      "application/vnd.plotly.v1+json": {
       "config": {
        "plotlyServerURL": "https://plot.ly"
       },
       "data": [
        {
         "cells": {
          "align": "left",
          "values": [
           [
            "Min",
            "Max",
            "Effectif",
            "Moyenne",
            "Médiane"
           ],
           [
            3,
            12,
            16,
            7.88,
            8
           ],
           [
            1,
            15,
            16,
            8.69,
            9
           ],
           [
            4,
            26,
            16,
            16.56,
            17
           ],
           [
            55,
            117,
            16,
            90.44,
            92
           ],
           [
            1,
            87,
            16,
            33,
            30
           ],
           [
            51,
            106,
            16,
            82.69,
            84
           ],
           [
            70,
            124,
            16,
            100.12,
            102
           ]
          ]
         },
         "header": {
          "align": "left",
          "values": [
           "Aggrégation",
           "Note standard Symboles",
           "Note standard Code",
           "Total des notes standards IVT",
           "Note composite IVT",
           "Rang percentile IVT",
           "Note écart type inférieure IVT",
           "Note écart type supérieure IVT"
          ]
         },
         "type": "table"
        }
       ],
       "layout": {
        "height": 1000,
        "template": {
         "data": {
          "bar": [
           {
            "error_x": {
             "color": "#2a3f5f"
            },
            "error_y": {
             "color": "#2a3f5f"
            },
            "marker": {
             "line": {
              "color": "#E5ECF6",
              "width": 0.5
             }
            },
            "type": "bar"
           }
          ],
          "barpolar": [
           {
            "marker": {
             "line": {
              "color": "#E5ECF6",
              "width": 0.5
             }
            },
            "type": "barpolar"
           }
          ],
          "carpet": [
           {
            "aaxis": {
             "endlinecolor": "#2a3f5f",
             "gridcolor": "white",
             "linecolor": "white",
             "minorgridcolor": "white",
             "startlinecolor": "#2a3f5f"
            },
            "baxis": {
             "endlinecolor": "#2a3f5f",
             "gridcolor": "white",
             "linecolor": "white",
             "minorgridcolor": "white",
             "startlinecolor": "#2a3f5f"
            },
            "type": "carpet"
           }
          ],
          "choropleth": [
           {
            "colorbar": {
             "outlinewidth": 0,
             "ticks": ""
            },
            "type": "choropleth"
           }
          ],
          "contour": [
           {
            "colorbar": {
             "outlinewidth": 0,
             "ticks": ""
            },
            "colorscale": [
             [
              0,
              "#0d0887"
             ],
             [
              0.1111111111111111,
              "#46039f"
             ],
             [
              0.2222222222222222,
              "#7201a8"
             ],
             [
              0.3333333333333333,
              "#9c179e"
             ],
             [
              0.4444444444444444,
              "#bd3786"
             ],
             [
              0.5555555555555556,
              "#d8576b"
             ],
             [
              0.6666666666666666,
              "#ed7953"
             ],
             [
              0.7777777777777778,
              "#fb9f3a"
             ],
             [
              0.8888888888888888,
              "#fdca26"
             ],
             [
              1,
              "#f0f921"
             ]
            ],
            "type": "contour"
           }
          ],
          "contourcarpet": [
           {
            "colorbar": {
             "outlinewidth": 0,
             "ticks": ""
            },
            "type": "contourcarpet"
           }
          ],
          "heatmap": [
           {
            "colorbar": {
             "outlinewidth": 0,
             "ticks": ""
            },
            "colorscale": [
             [
              0,
              "#0d0887"
             ],
             [
              0.1111111111111111,
              "#46039f"
             ],
             [
              0.2222222222222222,
              "#7201a8"
             ],
             [
              0.3333333333333333,
              "#9c179e"
             ],
             [
              0.4444444444444444,
              "#bd3786"
             ],
             [
              0.5555555555555556,
              "#d8576b"
             ],
             [
              0.6666666666666666,
              "#ed7953"
             ],
             [
              0.7777777777777778,
              "#fb9f3a"
             ],
             [
              0.8888888888888888,
              "#fdca26"
             ],
             [
              1,
              "#f0f921"
             ]
            ],
            "type": "heatmap"
           }
          ],
          "heatmapgl": [
           {
            "colorbar": {
             "outlinewidth": 0,
             "ticks": ""
            },
            "colorscale": [
             [
              0,
              "#0d0887"
             ],
             [
              0.1111111111111111,
              "#46039f"
             ],
             [
              0.2222222222222222,
              "#7201a8"
             ],
             [
              0.3333333333333333,
              "#9c179e"
             ],
             [
              0.4444444444444444,
              "#bd3786"
             ],
             [
              0.5555555555555556,
              "#d8576b"
             ],
             [
              0.6666666666666666,
              "#ed7953"
             ],
             [
              0.7777777777777778,
              "#fb9f3a"
             ],
             [
              0.8888888888888888,
              "#fdca26"
             ],
             [
              1,
              "#f0f921"
             ]
            ],
            "type": "heatmapgl"
           }
          ],
          "histogram": [
           {
            "marker": {
             "colorbar": {
              "outlinewidth": 0,
              "ticks": ""
             }
            },
            "type": "histogram"
           }
          ],
          "histogram2d": [
           {
            "colorbar": {
             "outlinewidth": 0,
             "ticks": ""
            },
            "colorscale": [
             [
              0,
              "#0d0887"
             ],
             [
              0.1111111111111111,
              "#46039f"
             ],
             [
              0.2222222222222222,
              "#7201a8"
             ],
             [
              0.3333333333333333,
              "#9c179e"
             ],
             [
              0.4444444444444444,
              "#bd3786"
             ],
             [
              0.5555555555555556,
              "#d8576b"
             ],
             [
              0.6666666666666666,
              "#ed7953"
             ],
             [
              0.7777777777777778,
              "#fb9f3a"
             ],
             [
              0.8888888888888888,
              "#fdca26"
             ],
             [
              1,
              "#f0f921"
             ]
            ],
            "type": "histogram2d"
           }
          ],
          "histogram2dcontour": [
           {
            "colorbar": {
             "outlinewidth": 0,
             "ticks": ""
            },
            "colorscale": [
             [
              0,
              "#0d0887"
             ],
             [
              0.1111111111111111,
              "#46039f"
             ],
             [
              0.2222222222222222,
              "#7201a8"
             ],
             [
              0.3333333333333333,
              "#9c179e"
             ],
             [
              0.4444444444444444,
              "#bd3786"
             ],
             [
              0.5555555555555556,
              "#d8576b"
             ],
             [
              0.6666666666666666,
              "#ed7953"
             ],
             [
              0.7777777777777778,
              "#fb9f3a"
             ],
             [
              0.8888888888888888,
              "#fdca26"
             ],
             [
              1,
              "#f0f921"
             ]
            ],
            "type": "histogram2dcontour"
           }
          ],
          "mesh3d": [
           {
            "colorbar": {
             "outlinewidth": 0,
             "ticks": ""
            },
            "type": "mesh3d"
           }
          ],
          "parcoords": [
           {
            "line": {
             "colorbar": {
              "outlinewidth": 0,
              "ticks": ""
             }
            },
            "type": "parcoords"
           }
          ],
          "pie": [
           {
            "automargin": true,
            "type": "pie"
           }
          ],
          "scatter": [
           {
            "marker": {
             "colorbar": {
              "outlinewidth": 0,
              "ticks": ""
             }
            },
            "type": "scatter"
           }
          ],
          "scatter3d": [
           {
            "line": {
             "colorbar": {
              "outlinewidth": 0,
              "ticks": ""
             }
            },
            "marker": {
             "colorbar": {
              "outlinewidth": 0,
              "ticks": ""
             }
            },
            "type": "scatter3d"
           }
          ],
          "scattercarpet": [
           {
            "marker": {
             "colorbar": {
              "outlinewidth": 0,
              "ticks": ""
             }
            },
            "type": "scattercarpet"
           }
          ],
          "scattergeo": [
           {
            "marker": {
             "colorbar": {
              "outlinewidth": 0,
              "ticks": ""
             }
            },
            "type": "scattergeo"
           }
          ],
          "scattergl": [
           {
            "marker": {
             "colorbar": {
              "outlinewidth": 0,
              "ticks": ""
             }
            },
            "type": "scattergl"
           }
          ],
          "scattermapbox": [
           {
            "marker": {
             "colorbar": {
              "outlinewidth": 0,
              "ticks": ""
             }
            },
            "type": "scattermapbox"
           }
          ],
          "scatterpolar": [
           {
            "marker": {
             "colorbar": {
              "outlinewidth": 0,
              "ticks": ""
             }
            },
            "type": "scatterpolar"
           }
          ],
          "scatterpolargl": [
           {
            "marker": {
             "colorbar": {
              "outlinewidth": 0,
              "ticks": ""
             }
            },
            "type": "scatterpolargl"
           }
          ],
          "scatterternary": [
           {
            "marker": {
             "colorbar": {
              "outlinewidth": 0,
              "ticks": ""
             }
            },
            "type": "scatterternary"
           }
          ],
          "surface": [
           {
            "colorbar": {
             "outlinewidth": 0,
             "ticks": ""
            },
            "colorscale": [
             [
              0,
              "#0d0887"
             ],
             [
              0.1111111111111111,
              "#46039f"
             ],
             [
              0.2222222222222222,
              "#7201a8"
             ],
             [
              0.3333333333333333,
              "#9c179e"
             ],
             [
              0.4444444444444444,
              "#bd3786"
             ],
             [
              0.5555555555555556,
              "#d8576b"
             ],
             [
              0.6666666666666666,
              "#ed7953"
             ],
             [
              0.7777777777777778,
              "#fb9f3a"
             ],
             [
              0.8888888888888888,
              "#fdca26"
             ],
             [
              1,
              "#f0f921"
             ]
            ],
            "type": "surface"
           }
          ],
          "table": [
           {
            "cells": {
             "fill": {
              "color": "#EBF0F8"
             },
             "line": {
              "color": "white"
             }
            },
            "header": {
             "fill": {
              "color": "#C8D4E3"
             },
             "line": {
              "color": "white"
             }
            },
            "type": "table"
           }
          ]
         },
         "layout": {
          "annotationdefaults": {
           "arrowcolor": "#2a3f5f",
           "arrowhead": 0,
           "arrowwidth": 1
          },
          "coloraxis": {
           "colorbar": {
            "outlinewidth": 0,
            "ticks": ""
           }
          },
          "colorscale": {
           "diverging": [
            [
             0,
             "#8e0152"
            ],
            [
             0.1,
             "#c51b7d"
            ],
            [
             0.2,
             "#de77ae"
            ],
            [
             0.3,
             "#f1b6da"
            ],
            [
             0.4,
             "#fde0ef"
            ],
            [
             0.5,
             "#f7f7f7"
            ],
            [
             0.6,
             "#e6f5d0"
            ],
            [
             0.7,
             "#b8e186"
            ],
            [
             0.8,
             "#7fbc41"
            ],
            [
             0.9,
             "#4d9221"
            ],
            [
             1,
             "#276419"
            ]
           ],
           "sequential": [
            [
             0,
             "#0d0887"
            ],
            [
             0.1111111111111111,
             "#46039f"
            ],
            [
             0.2222222222222222,
             "#7201a8"
            ],
            [
             0.3333333333333333,
             "#9c179e"
            ],
            [
             0.4444444444444444,
             "#bd3786"
            ],
            [
             0.5555555555555556,
             "#d8576b"
            ],
            [
             0.6666666666666666,
             "#ed7953"
            ],
            [
             0.7777777777777778,
             "#fb9f3a"
            ],
            [
             0.8888888888888888,
             "#fdca26"
            ],
            [
             1,
             "#f0f921"
            ]
           ],
           "sequentialminus": [
            [
             0,
             "#0d0887"
            ],
            [
             0.1111111111111111,
             "#46039f"
            ],
            [
             0.2222222222222222,
             "#7201a8"
            ],
            [
             0.3333333333333333,
             "#9c179e"
            ],
            [
             0.4444444444444444,
             "#bd3786"
            ],
            [
             0.5555555555555556,
             "#d8576b"
            ],
            [
             0.6666666666666666,
             "#ed7953"
            ],
            [
             0.7777777777777778,
             "#fb9f3a"
            ],
            [
             0.8888888888888888,
             "#fdca26"
            ],
            [
             1,
             "#f0f921"
            ]
           ]
          },
          "colorway": [
           "#636efa",
           "#EF553B",
           "#00cc96",
           "#ab63fa",
           "#FFA15A",
           "#19d3f3",
           "#FF6692",
           "#B6E880",
           "#FF97FF",
           "#FECB52"
          ],
          "font": {
           "color": "#2a3f5f"
          },
          "geo": {
           "bgcolor": "white",
           "lakecolor": "white",
           "landcolor": "#E5ECF6",
           "showlakes": true,
           "showland": true,
           "subunitcolor": "white"
          },
          "hoverlabel": {
           "align": "left"
          },
          "hovermode": "closest",
          "mapbox": {
           "style": "light"
          },
          "paper_bgcolor": "white",
          "plot_bgcolor": "#E5ECF6",
          "polar": {
           "angularaxis": {
            "gridcolor": "white",
            "linecolor": "white",
            "ticks": ""
           },
           "bgcolor": "#E5ECF6",
           "radialaxis": {
            "gridcolor": "white",
            "linecolor": "white",
            "ticks": ""
           }
          },
          "scene": {
           "xaxis": {
            "backgroundcolor": "#E5ECF6",
            "gridcolor": "white",
            "gridwidth": 2,
            "linecolor": "white",
            "showbackground": true,
            "ticks": "",
            "zerolinecolor": "white"
           },
           "yaxis": {
            "backgroundcolor": "#E5ECF6",
            "gridcolor": "white",
            "gridwidth": 2,
            "linecolor": "white",
            "showbackground": true,
            "ticks": "",
            "zerolinecolor": "white"
           },
           "zaxis": {
            "backgroundcolor": "#E5ECF6",
            "gridcolor": "white",
            "gridwidth": 2,
            "linecolor": "white",
            "showbackground": true,
            "ticks": "",
            "zerolinecolor": "white"
           }
          },
          "shapedefaults": {
           "line": {
            "color": "#2a3f5f"
           }
          },
          "ternary": {
           "aaxis": {
            "gridcolor": "white",
            "linecolor": "white",
            "ticks": ""
           },
           "baxis": {
            "gridcolor": "white",
            "linecolor": "white",
            "ticks": ""
           },
           "bgcolor": "#E5ECF6",
           "caxis": {
            "gridcolor": "white",
            "linecolor": "white",
            "ticks": ""
           }
          },
          "title": {
           "x": 0.05
          },
          "xaxis": {
           "automargin": true,
           "gridcolor": "white",
           "linecolor": "white",
           "ticks": "",
           "title": {
            "standoff": 15
           },
           "zerolinecolor": "white",
           "zerolinewidth": 2
          },
          "yaxis": {
           "automargin": true,
           "gridcolor": "white",
           "linecolor": "white",
           "ticks": "",
           "title": {
            "standoff": 15
           },
           "zerolinecolor": "white",
           "zerolinewidth": 2
          }
         }
        },
        "width": 1000
       }
      },
      "text/html": [
       "<div>\n",
       "        \n",
       "        \n",
       "            <div id=\"790b3a9b-4bae-4ed0-83db-62e20388e3aa\" class=\"plotly-graph-div\" style=\"height:1000px; width:1000px;\"></div>\n",
       "            <script type=\"text/javascript\">\n",
       "                require([\"plotly\"], function(Plotly) {\n",
       "                    window.PLOTLYENV=window.PLOTLYENV || {};\n",
       "                    \n",
       "                if (document.getElementById(\"790b3a9b-4bae-4ed0-83db-62e20388e3aa\")) {\n",
       "                    Plotly.newPlot(\n",
       "                        '790b3a9b-4bae-4ed0-83db-62e20388e3aa',\n",
       "                        [{\"cells\": {\"align\": \"left\", \"values\": [[\"Min\", \"Max\", \"Effectif\", \"Moyenne\", \"M\\u00e9diane\"], [3.0, 12.0, 16.0, 7.88, 8.0], [1.0, 15.0, 16.0, 8.69, 9.0], [4.0, 26.0, 16.0, 16.56, 17.0], [55.0, 117.0, 16.0, 90.44, 92.0], [1.0, 87.0, 16.0, 33.0, 30.0], [51.0, 106.0, 16.0, 82.69, 84.0], [70.0, 124.0, 16.0, 100.12, 102.0]]}, \"header\": {\"align\": \"left\", \"values\": [\"Aggr\\u00e9gation\", \"Note standard Symboles\", \"Note standard Code\", \"Total des notes standards IVT\", \"Note composite IVT\", \"Rang percentile IVT\", \"Note \\u00e9cart type inf\\u00e9rieure IVT\", \"Note \\u00e9cart type sup\\u00e9rieure IVT\"]}, \"type\": \"table\"}],\n",
       "                        {\"height\": 1000, \"template\": {\"data\": {\"bar\": [{\"error_x\": {\"color\": \"#2a3f5f\"}, \"error_y\": {\"color\": \"#2a3f5f\"}, \"marker\": {\"line\": {\"color\": \"#E5ECF6\", \"width\": 0.5}}, \"type\": \"bar\"}], \"barpolar\": [{\"marker\": {\"line\": {\"color\": \"#E5ECF6\", \"width\": 0.5}}, \"type\": \"barpolar\"}], \"carpet\": [{\"aaxis\": {\"endlinecolor\": \"#2a3f5f\", \"gridcolor\": \"white\", \"linecolor\": \"white\", \"minorgridcolor\": \"white\", \"startlinecolor\": \"#2a3f5f\"}, \"baxis\": {\"endlinecolor\": \"#2a3f5f\", \"gridcolor\": \"white\", \"linecolor\": \"white\", \"minorgridcolor\": \"white\", \"startlinecolor\": \"#2a3f5f\"}, \"type\": \"carpet\"}], \"choropleth\": [{\"colorbar\": {\"outlinewidth\": 0, \"ticks\": \"\"}, \"type\": \"choropleth\"}], \"contour\": [{\"colorbar\": {\"outlinewidth\": 0, \"ticks\": \"\"}, \"colorscale\": [[0.0, \"#0d0887\"], [0.1111111111111111, \"#46039f\"], [0.2222222222222222, \"#7201a8\"], [0.3333333333333333, \"#9c179e\"], [0.4444444444444444, \"#bd3786\"], [0.5555555555555556, \"#d8576b\"], [0.6666666666666666, \"#ed7953\"], [0.7777777777777778, \"#fb9f3a\"], [0.8888888888888888, \"#fdca26\"], [1.0, \"#f0f921\"]], \"type\": \"contour\"}], \"contourcarpet\": [{\"colorbar\": {\"outlinewidth\": 0, \"ticks\": \"\"}, \"type\": \"contourcarpet\"}], \"heatmap\": [{\"colorbar\": {\"outlinewidth\": 0, \"ticks\": \"\"}, \"colorscale\": [[0.0, \"#0d0887\"], [0.1111111111111111, \"#46039f\"], [0.2222222222222222, \"#7201a8\"], [0.3333333333333333, \"#9c179e\"], [0.4444444444444444, \"#bd3786\"], [0.5555555555555556, \"#d8576b\"], [0.6666666666666666, \"#ed7953\"], [0.7777777777777778, \"#fb9f3a\"], [0.8888888888888888, \"#fdca26\"], [1.0, \"#f0f921\"]], \"type\": \"heatmap\"}], \"heatmapgl\": [{\"colorbar\": {\"outlinewidth\": 0, \"ticks\": \"\"}, \"colorscale\": [[0.0, \"#0d0887\"], [0.1111111111111111, \"#46039f\"], [0.2222222222222222, \"#7201a8\"], [0.3333333333333333, \"#9c179e\"], [0.4444444444444444, \"#bd3786\"], [0.5555555555555556, \"#d8576b\"], [0.6666666666666666, \"#ed7953\"], [0.7777777777777778, \"#fb9f3a\"], [0.8888888888888888, \"#fdca26\"], [1.0, \"#f0f921\"]], \"type\": \"heatmapgl\"}], \"histogram\": [{\"marker\": {\"colorbar\": {\"outlinewidth\": 0, \"ticks\": \"\"}}, \"type\": \"histogram\"}], \"histogram2d\": [{\"colorbar\": {\"outlinewidth\": 0, \"ticks\": \"\"}, \"colorscale\": [[0.0, \"#0d0887\"], [0.1111111111111111, \"#46039f\"], [0.2222222222222222, \"#7201a8\"], [0.3333333333333333, \"#9c179e\"], [0.4444444444444444, \"#bd3786\"], [0.5555555555555556, \"#d8576b\"], [0.6666666666666666, \"#ed7953\"], [0.7777777777777778, \"#fb9f3a\"], [0.8888888888888888, \"#fdca26\"], [1.0, \"#f0f921\"]], \"type\": \"histogram2d\"}], \"histogram2dcontour\": [{\"colorbar\": {\"outlinewidth\": 0, \"ticks\": \"\"}, \"colorscale\": [[0.0, \"#0d0887\"], [0.1111111111111111, \"#46039f\"], [0.2222222222222222, \"#7201a8\"], [0.3333333333333333, \"#9c179e\"], [0.4444444444444444, \"#bd3786\"], [0.5555555555555556, \"#d8576b\"], [0.6666666666666666, \"#ed7953\"], [0.7777777777777778, \"#fb9f3a\"], [0.8888888888888888, \"#fdca26\"], [1.0, \"#f0f921\"]], \"type\": \"histogram2dcontour\"}], \"mesh3d\": [{\"colorbar\": {\"outlinewidth\": 0, \"ticks\": \"\"}, \"type\": \"mesh3d\"}], \"parcoords\": [{\"line\": {\"colorbar\": {\"outlinewidth\": 0, \"ticks\": \"\"}}, \"type\": \"parcoords\"}], \"pie\": [{\"automargin\": true, \"type\": \"pie\"}], \"scatter\": [{\"marker\": {\"colorbar\": {\"outlinewidth\": 0, \"ticks\": \"\"}}, \"type\": \"scatter\"}], \"scatter3d\": [{\"line\": {\"colorbar\": {\"outlinewidth\": 0, \"ticks\": \"\"}}, \"marker\": {\"colorbar\": {\"outlinewidth\": 0, \"ticks\": \"\"}}, \"type\": \"scatter3d\"}], \"scattercarpet\": [{\"marker\": {\"colorbar\": {\"outlinewidth\": 0, \"ticks\": \"\"}}, \"type\": \"scattercarpet\"}], \"scattergeo\": [{\"marker\": {\"colorbar\": {\"outlinewidth\": 0, \"ticks\": \"\"}}, \"type\": \"scattergeo\"}], \"scattergl\": [{\"marker\": {\"colorbar\": {\"outlinewidth\": 0, \"ticks\": \"\"}}, \"type\": \"scattergl\"}], \"scattermapbox\": [{\"marker\": {\"colorbar\": {\"outlinewidth\": 0, \"ticks\": \"\"}}, \"type\": \"scattermapbox\"}], \"scatterpolar\": [{\"marker\": {\"colorbar\": {\"outlinewidth\": 0, \"ticks\": \"\"}}, \"type\": \"scatterpolar\"}], \"scatterpolargl\": [{\"marker\": {\"colorbar\": {\"outlinewidth\": 0, \"ticks\": \"\"}}, \"type\": \"scatterpolargl\"}], \"scatterternary\": [{\"marker\": {\"colorbar\": {\"outlinewidth\": 0, \"ticks\": \"\"}}, \"type\": \"scatterternary\"}], \"surface\": [{\"colorbar\": {\"outlinewidth\": 0, \"ticks\": \"\"}, \"colorscale\": [[0.0, \"#0d0887\"], [0.1111111111111111, \"#46039f\"], [0.2222222222222222, \"#7201a8\"], [0.3333333333333333, \"#9c179e\"], [0.4444444444444444, \"#bd3786\"], [0.5555555555555556, \"#d8576b\"], [0.6666666666666666, \"#ed7953\"], [0.7777777777777778, \"#fb9f3a\"], [0.8888888888888888, \"#fdca26\"], [1.0, \"#f0f921\"]], \"type\": \"surface\"}], \"table\": [{\"cells\": {\"fill\": {\"color\": \"#EBF0F8\"}, \"line\": {\"color\": \"white\"}}, \"header\": {\"fill\": {\"color\": \"#C8D4E3\"}, \"line\": {\"color\": \"white\"}}, \"type\": \"table\"}]}, \"layout\": {\"annotationdefaults\": {\"arrowcolor\": \"#2a3f5f\", \"arrowhead\": 0, \"arrowwidth\": 1}, \"coloraxis\": {\"colorbar\": {\"outlinewidth\": 0, \"ticks\": \"\"}}, \"colorscale\": {\"diverging\": [[0, \"#8e0152\"], [0.1, \"#c51b7d\"], [0.2, \"#de77ae\"], [0.3, \"#f1b6da\"], [0.4, \"#fde0ef\"], [0.5, \"#f7f7f7\"], [0.6, \"#e6f5d0\"], [0.7, \"#b8e186\"], [0.8, \"#7fbc41\"], [0.9, \"#4d9221\"], [1, \"#276419\"]], \"sequential\": [[0.0, \"#0d0887\"], [0.1111111111111111, \"#46039f\"], [0.2222222222222222, \"#7201a8\"], [0.3333333333333333, \"#9c179e\"], [0.4444444444444444, \"#bd3786\"], [0.5555555555555556, \"#d8576b\"], [0.6666666666666666, \"#ed7953\"], [0.7777777777777778, \"#fb9f3a\"], [0.8888888888888888, \"#fdca26\"], [1.0, \"#f0f921\"]], \"sequentialminus\": [[0.0, \"#0d0887\"], [0.1111111111111111, \"#46039f\"], [0.2222222222222222, \"#7201a8\"], [0.3333333333333333, \"#9c179e\"], [0.4444444444444444, \"#bd3786\"], [0.5555555555555556, \"#d8576b\"], [0.6666666666666666, \"#ed7953\"], [0.7777777777777778, \"#fb9f3a\"], [0.8888888888888888, \"#fdca26\"], [1.0, \"#f0f921\"]]}, \"colorway\": [\"#636efa\", \"#EF553B\", \"#00cc96\", \"#ab63fa\", \"#FFA15A\", \"#19d3f3\", \"#FF6692\", \"#B6E880\", \"#FF97FF\", \"#FECB52\"], \"font\": {\"color\": \"#2a3f5f\"}, \"geo\": {\"bgcolor\": \"white\", \"lakecolor\": \"white\", \"landcolor\": \"#E5ECF6\", \"showlakes\": true, \"showland\": true, \"subunitcolor\": \"white\"}, \"hoverlabel\": {\"align\": \"left\"}, \"hovermode\": \"closest\", \"mapbox\": {\"style\": \"light\"}, \"paper_bgcolor\": \"white\", \"plot_bgcolor\": \"#E5ECF6\", \"polar\": {\"angularaxis\": {\"gridcolor\": \"white\", \"linecolor\": \"white\", \"ticks\": \"\"}, \"bgcolor\": \"#E5ECF6\", \"radialaxis\": {\"gridcolor\": \"white\", \"linecolor\": \"white\", \"ticks\": \"\"}}, \"scene\": {\"xaxis\": {\"backgroundcolor\": \"#E5ECF6\", \"gridcolor\": \"white\", \"gridwidth\": 2, \"linecolor\": \"white\", \"showbackground\": true, \"ticks\": \"\", \"zerolinecolor\": \"white\"}, \"yaxis\": {\"backgroundcolor\": \"#E5ECF6\", \"gridcolor\": \"white\", \"gridwidth\": 2, \"linecolor\": \"white\", \"showbackground\": true, \"ticks\": \"\", \"zerolinecolor\": \"white\"}, \"zaxis\": {\"backgroundcolor\": \"#E5ECF6\", \"gridcolor\": \"white\", \"gridwidth\": 2, \"linecolor\": \"white\", \"showbackground\": true, \"ticks\": \"\", \"zerolinecolor\": \"white\"}}, \"shapedefaults\": {\"line\": {\"color\": \"#2a3f5f\"}}, \"ternary\": {\"aaxis\": {\"gridcolor\": \"white\", \"linecolor\": \"white\", \"ticks\": \"\"}, \"baxis\": {\"gridcolor\": \"white\", \"linecolor\": \"white\", \"ticks\": \"\"}, \"bgcolor\": \"#E5ECF6\", \"caxis\": {\"gridcolor\": \"white\", \"linecolor\": \"white\", \"ticks\": \"\"}}, \"title\": {\"x\": 0.05}, \"xaxis\": {\"automargin\": true, \"gridcolor\": \"white\", \"linecolor\": \"white\", \"ticks\": \"\", \"title\": {\"standoff\": 15}, \"zerolinecolor\": \"white\", \"zerolinewidth\": 2}, \"yaxis\": {\"automargin\": true, \"gridcolor\": \"white\", \"linecolor\": \"white\", \"ticks\": \"\", \"title\": {\"standoff\": 15}, \"zerolinecolor\": \"white\", \"zerolinewidth\": 2}}}, \"width\": 1000},\n",
       "                        {\"responsive\": true}\n",
       "                    ).then(function(){\n",
       "                            \n",
       "var gd = document.getElementById('790b3a9b-4bae-4ed0-83db-62e20388e3aa');\n",
       "var x = new MutationObserver(function (mutations, observer) {{\n",
       "        var display = window.getComputedStyle(gd).display;\n",
       "        if (!display || display === 'none') {{\n",
       "            console.log([gd, 'removed!']);\n",
       "            Plotly.purge(gd);\n",
       "            observer.disconnect();\n",
       "        }}\n",
       "}});\n",
       "\n",
       "// Listen for the removal of the full notebook cells\n",
       "var notebookContainer = gd.closest('#notebook-container');\n",
       "if (notebookContainer) {{\n",
       "    x.observe(notebookContainer, {childList: true});\n",
       "}}\n",
       "\n",
       "// Listen for the clearing of the current output cell\n",
       "var outputEl = gd.closest('.output');\n",
       "if (outputEl) {{\n",
       "    x.observe(outputEl, {childList: true});\n",
       "}}\n",
       "\n",
       "                        })\n",
       "                };\n",
       "                });\n",
       "            </script>\n",
       "        </div>"
      ]
     },
     "metadata": {},
     "output_type": "display_data"
    }
   ],
   "source": [
    "fig = go.Figure(data=wais_sub)\n",
    "fig.update_layout(width=1000, height=1000)\n",
    "fig.show()"
   ]
  },
  {
   "cell_type": "code",
   "execution_count": 136,
   "metadata": {
    "ExecuteTime": {
     "end_time": "2020-11-26T13:43:31.772371Z",
     "start_time": "2020-11-26T13:43:31.768942Z"
    }
   },
   "outputs": [
    {
     "data": {
      "text/html": [
       "<h4>4. WAIS complet</h4>"
      ],
      "text/plain": [
       "<IPython.core.display.HTML object>"
      ]
     },
     "metadata": {},
     "output_type": "display_data"
    }
   ],
   "source": [
    "display(HTML('<h4>4. WAIS complet</h4>'))"
   ]
  },
  {
   "cell_type": "code",
   "execution_count": 137,
   "metadata": {
    "ExecuteTime": {
     "end_time": "2020-11-26T13:43:39.914771Z",
     "start_time": "2020-11-26T13:43:39.893472Z"
    }
   },
   "outputs": [],
   "source": [
    "wais_complet = len(df_wais[(df_wais['Total des notes standards ICV'].notna())&\n",
    "                       (df_wais['Total des notes standards IVT'].notna())&\n",
    "                        (df_wais['Total des notes standards IMT'].notna())&\n",
    "                        (df_wais['Total des notes standards IRP'].notna())])\n",
    "\n",
    "ICV_IVT = len(df_wais[(df_wais['Total des notes standards ICV'].notna())&\n",
    "                       (df_wais['Total des notes standards IVT'].notna())])\n",
    "\n",
    "ICV_IMT = len(df_wais[(df_wais['Total des notes standards ICV'].notna())&\n",
    "                       (df_wais['Total des notes standards IMT'].notna())])\n",
    "\n",
    "ICV_IRP = len(df_wais[(df_wais['Total des notes standards ICV'].notna())&\n",
    "                       (df_wais['Total des notes standards IRP'].notna())])\n",
    "\n",
    "IVT_IMT = len(df_wais[(df_wais['Total des notes standards IVT'].notna())&\n",
    "                       (df_wais['Total des notes standards IMT'].notna())])\n",
    "\n",
    "IVT_IRP = len(df_wais[(df_wais['Total des notes standards IVT'].notna())&\n",
    "                       (df_wais['Total des notes standards IRP'].notna())])\n",
    "\n",
    "IMT_IRP = len(df_wais[(df_wais['Total des notes standards IMT'].notna())&\n",
    "                       (df_wais['Total des notes standards IRP'].notna())])\n",
    "\n",
    "ICV_IVT_IMT = len(df_wais[(df_wais['Total des notes standards ICV'].notna())&\n",
    "                       (df_wais['Total des notes standards IVT'].notna())&\n",
    "                        (df_wais['Total des notes standards IMT'].notna())])\n",
    "\n",
    "ICV_IVT_IRP = len(df_wais[(df_wais['Total des notes standards ICV'].notna())&\n",
    "                       (df_wais['Total des notes standards IVT'].notna())&\n",
    "                        (df_wais['Total des notes standards IRP'].notna())])\n",
    "\n",
    "ICV_IMT_IRP = len(df_wais[(df_wais['Total des notes standards ICV'].notna())&\n",
    "                       (df_wais['Total des notes standards IMT'].notna())&\n",
    "                        (df_wais['Total des notes standards IRP'].notna())])\n",
    "\n"
   ]
  },
  {
   "cell_type": "code",
   "execution_count": 138,
   "metadata": {
    "ExecuteTime": {
     "end_time": "2020-11-26T13:43:40.914891Z",
     "start_time": "2020-11-26T13:43:40.909460Z"
    }
   },
   "outputs": [],
   "source": [
    "wais_sub =  go.Table(\n",
    "                header=dict(values=list(['Tests effectués', 'Effectif']),\n",
    "                align='left'),\n",
    "                cells=dict(values= [['ICV+IVT', 'ICV+IMT', 'ICV+IRP', 'IVT+IMT', 'IVT+IRP', 'IMT+IRP',\n",
    "                                     'ICV+IVT+IMT', 'ICV+IVT+IRP', 'ICV+IMT+IRP',\n",
    "                                     'ICV+IVT+IMT+IRP'],\n",
    "                                    [ICV_IVT, ICV_IMT, ICV_IRP, IVT_IMT, IVT_IRP, IMT_IRP, ICV_IVT_IMT, ICV_IVT_IRP, ICV_IMT_IRP, wais_complet]], align='left'))"
   ]
  },
  {
   "cell_type": "code",
   "execution_count": 139,
   "metadata": {
    "ExecuteTime": {
     "end_time": "2020-11-26T13:43:42.281146Z",
     "start_time": "2020-11-26T13:43:42.166717Z"
    },
    "scrolled": true
   },
   "outputs": [
    {
     "data": {
      "application/vnd.plotly.v1+json": {
       "config": {
        "plotlyServerURL": "https://plot.ly"
       },
       "data": [
        {
         "cells": {
          "align": "left",
          "values": [
           [
            "ICV+IVT",
            "ICV+IMT",
            "ICV+IRP",
            "IVT+IMT",
            "IVT+IRP",
            "IMT+IRP",
            "ICV+IVT+IMT",
            "ICV+IVT+IRP",
            "ICV+IMT+IRP",
            "ICV+IVT+IMT+IRP"
           ],
           [
            16,
            21,
            14,
            16,
            14,
            14,
            16,
            14,
            14,
            14
           ]
          ]
         },
         "header": {
          "align": "left",
          "values": [
           "Tests effectués",
           "Effectif"
          ]
         },
         "type": "table"
        }
       ],
       "layout": {
        "template": {
         "data": {
          "bar": [
           {
            "error_x": {
             "color": "#2a3f5f"
            },
            "error_y": {
             "color": "#2a3f5f"
            },
            "marker": {
             "line": {
              "color": "#E5ECF6",
              "width": 0.5
             }
            },
            "type": "bar"
           }
          ],
          "barpolar": [
           {
            "marker": {
             "line": {
              "color": "#E5ECF6",
              "width": 0.5
             }
            },
            "type": "barpolar"
           }
          ],
          "carpet": [
           {
            "aaxis": {
             "endlinecolor": "#2a3f5f",
             "gridcolor": "white",
             "linecolor": "white",
             "minorgridcolor": "white",
             "startlinecolor": "#2a3f5f"
            },
            "baxis": {
             "endlinecolor": "#2a3f5f",
             "gridcolor": "white",
             "linecolor": "white",
             "minorgridcolor": "white",
             "startlinecolor": "#2a3f5f"
            },
            "type": "carpet"
           }
          ],
          "choropleth": [
           {
            "colorbar": {
             "outlinewidth": 0,
             "ticks": ""
            },
            "type": "choropleth"
           }
          ],
          "contour": [
           {
            "colorbar": {
             "outlinewidth": 0,
             "ticks": ""
            },
            "colorscale": [
             [
              0,
              "#0d0887"
             ],
             [
              0.1111111111111111,
              "#46039f"
             ],
             [
              0.2222222222222222,
              "#7201a8"
             ],
             [
              0.3333333333333333,
              "#9c179e"
             ],
             [
              0.4444444444444444,
              "#bd3786"
             ],
             [
              0.5555555555555556,
              "#d8576b"
             ],
             [
              0.6666666666666666,
              "#ed7953"
             ],
             [
              0.7777777777777778,
              "#fb9f3a"
             ],
             [
              0.8888888888888888,
              "#fdca26"
             ],
             [
              1,
              "#f0f921"
             ]
            ],
            "type": "contour"
           }
          ],
          "contourcarpet": [
           {
            "colorbar": {
             "outlinewidth": 0,
             "ticks": ""
            },
            "type": "contourcarpet"
           }
          ],
          "heatmap": [
           {
            "colorbar": {
             "outlinewidth": 0,
             "ticks": ""
            },
            "colorscale": [
             [
              0,
              "#0d0887"
             ],
             [
              0.1111111111111111,
              "#46039f"
             ],
             [
              0.2222222222222222,
              "#7201a8"
             ],
             [
              0.3333333333333333,
              "#9c179e"
             ],
             [
              0.4444444444444444,
              "#bd3786"
             ],
             [
              0.5555555555555556,
              "#d8576b"
             ],
             [
              0.6666666666666666,
              "#ed7953"
             ],
             [
              0.7777777777777778,
              "#fb9f3a"
             ],
             [
              0.8888888888888888,
              "#fdca26"
             ],
             [
              1,
              "#f0f921"
             ]
            ],
            "type": "heatmap"
           }
          ],
          "heatmapgl": [
           {
            "colorbar": {
             "outlinewidth": 0,
             "ticks": ""
            },
            "colorscale": [
             [
              0,
              "#0d0887"
             ],
             [
              0.1111111111111111,
              "#46039f"
             ],
             [
              0.2222222222222222,
              "#7201a8"
             ],
             [
              0.3333333333333333,
              "#9c179e"
             ],
             [
              0.4444444444444444,
              "#bd3786"
             ],
             [
              0.5555555555555556,
              "#d8576b"
             ],
             [
              0.6666666666666666,
              "#ed7953"
             ],
             [
              0.7777777777777778,
              "#fb9f3a"
             ],
             [
              0.8888888888888888,
              "#fdca26"
             ],
             [
              1,
              "#f0f921"
             ]
            ],
            "type": "heatmapgl"
           }
          ],
          "histogram": [
           {
            "marker": {
             "colorbar": {
              "outlinewidth": 0,
              "ticks": ""
             }
            },
            "type": "histogram"
           }
          ],
          "histogram2d": [
           {
            "colorbar": {
             "outlinewidth": 0,
             "ticks": ""
            },
            "colorscale": [
             [
              0,
              "#0d0887"
             ],
             [
              0.1111111111111111,
              "#46039f"
             ],
             [
              0.2222222222222222,
              "#7201a8"
             ],
             [
              0.3333333333333333,
              "#9c179e"
             ],
             [
              0.4444444444444444,
              "#bd3786"
             ],
             [
              0.5555555555555556,
              "#d8576b"
             ],
             [
              0.6666666666666666,
              "#ed7953"
             ],
             [
              0.7777777777777778,
              "#fb9f3a"
             ],
             [
              0.8888888888888888,
              "#fdca26"
             ],
             [
              1,
              "#f0f921"
             ]
            ],
            "type": "histogram2d"
           }
          ],
          "histogram2dcontour": [
           {
            "colorbar": {
             "outlinewidth": 0,
             "ticks": ""
            },
            "colorscale": [
             [
              0,
              "#0d0887"
             ],
             [
              0.1111111111111111,
              "#46039f"
             ],
             [
              0.2222222222222222,
              "#7201a8"
             ],
             [
              0.3333333333333333,
              "#9c179e"
             ],
             [
              0.4444444444444444,
              "#bd3786"
             ],
             [
              0.5555555555555556,
              "#d8576b"
             ],
             [
              0.6666666666666666,
              "#ed7953"
             ],
             [
              0.7777777777777778,
              "#fb9f3a"
             ],
             [
              0.8888888888888888,
              "#fdca26"
             ],
             [
              1,
              "#f0f921"
             ]
            ],
            "type": "histogram2dcontour"
           }
          ],
          "mesh3d": [
           {
            "colorbar": {
             "outlinewidth": 0,
             "ticks": ""
            },
            "type": "mesh3d"
           }
          ],
          "parcoords": [
           {
            "line": {
             "colorbar": {
              "outlinewidth": 0,
              "ticks": ""
             }
            },
            "type": "parcoords"
           }
          ],
          "pie": [
           {
            "automargin": true,
            "type": "pie"
           }
          ],
          "scatter": [
           {
            "marker": {
             "colorbar": {
              "outlinewidth": 0,
              "ticks": ""
             }
            },
            "type": "scatter"
           }
          ],
          "scatter3d": [
           {
            "line": {
             "colorbar": {
              "outlinewidth": 0,
              "ticks": ""
             }
            },
            "marker": {
             "colorbar": {
              "outlinewidth": 0,
              "ticks": ""
             }
            },
            "type": "scatter3d"
           }
          ],
          "scattercarpet": [
           {
            "marker": {
             "colorbar": {
              "outlinewidth": 0,
              "ticks": ""
             }
            },
            "type": "scattercarpet"
           }
          ],
          "scattergeo": [
           {
            "marker": {
             "colorbar": {
              "outlinewidth": 0,
              "ticks": ""
             }
            },
            "type": "scattergeo"
           }
          ],
          "scattergl": [
           {
            "marker": {
             "colorbar": {
              "outlinewidth": 0,
              "ticks": ""
             }
            },
            "type": "scattergl"
           }
          ],
          "scattermapbox": [
           {
            "marker": {
             "colorbar": {
              "outlinewidth": 0,
              "ticks": ""
             }
            },
            "type": "scattermapbox"
           }
          ],
          "scatterpolar": [
           {
            "marker": {
             "colorbar": {
              "outlinewidth": 0,
              "ticks": ""
             }
            },
            "type": "scatterpolar"
           }
          ],
          "scatterpolargl": [
           {
            "marker": {
             "colorbar": {
              "outlinewidth": 0,
              "ticks": ""
             }
            },
            "type": "scatterpolargl"
           }
          ],
          "scatterternary": [
           {
            "marker": {
             "colorbar": {
              "outlinewidth": 0,
              "ticks": ""
             }
            },
            "type": "scatterternary"
           }
          ],
          "surface": [
           {
            "colorbar": {
             "outlinewidth": 0,
             "ticks": ""
            },
            "colorscale": [
             [
              0,
              "#0d0887"
             ],
             [
              0.1111111111111111,
              "#46039f"
             ],
             [
              0.2222222222222222,
              "#7201a8"
             ],
             [
              0.3333333333333333,
              "#9c179e"
             ],
             [
              0.4444444444444444,
              "#bd3786"
             ],
             [
              0.5555555555555556,
              "#d8576b"
             ],
             [
              0.6666666666666666,
              "#ed7953"
             ],
             [
              0.7777777777777778,
              "#fb9f3a"
             ],
             [
              0.8888888888888888,
              "#fdca26"
             ],
             [
              1,
              "#f0f921"
             ]
            ],
            "type": "surface"
           }
          ],
          "table": [
           {
            "cells": {
             "fill": {
              "color": "#EBF0F8"
             },
             "line": {
              "color": "white"
             }
            },
            "header": {
             "fill": {
              "color": "#C8D4E3"
             },
             "line": {
              "color": "white"
             }
            },
            "type": "table"
           }
          ]
         },
         "layout": {
          "annotationdefaults": {
           "arrowcolor": "#2a3f5f",
           "arrowhead": 0,
           "arrowwidth": 1
          },
          "coloraxis": {
           "colorbar": {
            "outlinewidth": 0,
            "ticks": ""
           }
          },
          "colorscale": {
           "diverging": [
            [
             0,
             "#8e0152"
            ],
            [
             0.1,
             "#c51b7d"
            ],
            [
             0.2,
             "#de77ae"
            ],
            [
             0.3,
             "#f1b6da"
            ],
            [
             0.4,
             "#fde0ef"
            ],
            [
             0.5,
             "#f7f7f7"
            ],
            [
             0.6,
             "#e6f5d0"
            ],
            [
             0.7,
             "#b8e186"
            ],
            [
             0.8,
             "#7fbc41"
            ],
            [
             0.9,
             "#4d9221"
            ],
            [
             1,
             "#276419"
            ]
           ],
           "sequential": [
            [
             0,
             "#0d0887"
            ],
            [
             0.1111111111111111,
             "#46039f"
            ],
            [
             0.2222222222222222,
             "#7201a8"
            ],
            [
             0.3333333333333333,
             "#9c179e"
            ],
            [
             0.4444444444444444,
             "#bd3786"
            ],
            [
             0.5555555555555556,
             "#d8576b"
            ],
            [
             0.6666666666666666,
             "#ed7953"
            ],
            [
             0.7777777777777778,
             "#fb9f3a"
            ],
            [
             0.8888888888888888,
             "#fdca26"
            ],
            [
             1,
             "#f0f921"
            ]
           ],
           "sequentialminus": [
            [
             0,
             "#0d0887"
            ],
            [
             0.1111111111111111,
             "#46039f"
            ],
            [
             0.2222222222222222,
             "#7201a8"
            ],
            [
             0.3333333333333333,
             "#9c179e"
            ],
            [
             0.4444444444444444,
             "#bd3786"
            ],
            [
             0.5555555555555556,
             "#d8576b"
            ],
            [
             0.6666666666666666,
             "#ed7953"
            ],
            [
             0.7777777777777778,
             "#fb9f3a"
            ],
            [
             0.8888888888888888,
             "#fdca26"
            ],
            [
             1,
             "#f0f921"
            ]
           ]
          },
          "colorway": [
           "#636efa",
           "#EF553B",
           "#00cc96",
           "#ab63fa",
           "#FFA15A",
           "#19d3f3",
           "#FF6692",
           "#B6E880",
           "#FF97FF",
           "#FECB52"
          ],
          "font": {
           "color": "#2a3f5f"
          },
          "geo": {
           "bgcolor": "white",
           "lakecolor": "white",
           "landcolor": "#E5ECF6",
           "showlakes": true,
           "showland": true,
           "subunitcolor": "white"
          },
          "hoverlabel": {
           "align": "left"
          },
          "hovermode": "closest",
          "mapbox": {
           "style": "light"
          },
          "paper_bgcolor": "white",
          "plot_bgcolor": "#E5ECF6",
          "polar": {
           "angularaxis": {
            "gridcolor": "white",
            "linecolor": "white",
            "ticks": ""
           },
           "bgcolor": "#E5ECF6",
           "radialaxis": {
            "gridcolor": "white",
            "linecolor": "white",
            "ticks": ""
           }
          },
          "scene": {
           "xaxis": {
            "backgroundcolor": "#E5ECF6",
            "gridcolor": "white",
            "gridwidth": 2,
            "linecolor": "white",
            "showbackground": true,
            "ticks": "",
            "zerolinecolor": "white"
           },
           "yaxis": {
            "backgroundcolor": "#E5ECF6",
            "gridcolor": "white",
            "gridwidth": 2,
            "linecolor": "white",
            "showbackground": true,
            "ticks": "",
            "zerolinecolor": "white"
           },
           "zaxis": {
            "backgroundcolor": "#E5ECF6",
            "gridcolor": "white",
            "gridwidth": 2,
            "linecolor": "white",
            "showbackground": true,
            "ticks": "",
            "zerolinecolor": "white"
           }
          },
          "shapedefaults": {
           "line": {
            "color": "#2a3f5f"
           }
          },
          "ternary": {
           "aaxis": {
            "gridcolor": "white",
            "linecolor": "white",
            "ticks": ""
           },
           "baxis": {
            "gridcolor": "white",
            "linecolor": "white",
            "ticks": ""
           },
           "bgcolor": "#E5ECF6",
           "caxis": {
            "gridcolor": "white",
            "linecolor": "white",
            "ticks": ""
           }
          },
          "title": {
           "x": 0.05
          },
          "xaxis": {
           "automargin": true,
           "gridcolor": "white",
           "linecolor": "white",
           "ticks": "",
           "title": {
            "standoff": 15
           },
           "zerolinecolor": "white",
           "zerolinewidth": 2
          },
          "yaxis": {
           "automargin": true,
           "gridcolor": "white",
           "linecolor": "white",
           "ticks": "",
           "title": {
            "standoff": 15
           },
           "zerolinecolor": "white",
           "zerolinewidth": 2
          }
         }
        }
       }
      },
      "text/html": [
       "<div>\n",
       "        \n",
       "        \n",
       "            <div id=\"7b4bb4b9-6bd4-48db-b157-11aa9e02b218\" class=\"plotly-graph-div\" style=\"height:525px; width:100%;\"></div>\n",
       "            <script type=\"text/javascript\">\n",
       "                require([\"plotly\"], function(Plotly) {\n",
       "                    window.PLOTLYENV=window.PLOTLYENV || {};\n",
       "                    \n",
       "                if (document.getElementById(\"7b4bb4b9-6bd4-48db-b157-11aa9e02b218\")) {\n",
       "                    Plotly.newPlot(\n",
       "                        '7b4bb4b9-6bd4-48db-b157-11aa9e02b218',\n",
       "                        [{\"cells\": {\"align\": \"left\", \"values\": [[\"ICV+IVT\", \"ICV+IMT\", \"ICV+IRP\", \"IVT+IMT\", \"IVT+IRP\", \"IMT+IRP\", \"ICV+IVT+IMT\", \"ICV+IVT+IRP\", \"ICV+IMT+IRP\", \"ICV+IVT+IMT+IRP\"], [16, 21, 14, 16, 14, 14, 16, 14, 14, 14]]}, \"header\": {\"align\": \"left\", \"values\": [\"Tests effectu\\u00e9s\", \"Effectif\"]}, \"type\": \"table\"}],\n",
       "                        {\"template\": {\"data\": {\"bar\": [{\"error_x\": {\"color\": \"#2a3f5f\"}, \"error_y\": {\"color\": \"#2a3f5f\"}, \"marker\": {\"line\": {\"color\": \"#E5ECF6\", \"width\": 0.5}}, \"type\": \"bar\"}], \"barpolar\": [{\"marker\": {\"line\": {\"color\": \"#E5ECF6\", \"width\": 0.5}}, \"type\": \"barpolar\"}], \"carpet\": [{\"aaxis\": {\"endlinecolor\": \"#2a3f5f\", \"gridcolor\": \"white\", \"linecolor\": \"white\", \"minorgridcolor\": \"white\", \"startlinecolor\": \"#2a3f5f\"}, \"baxis\": {\"endlinecolor\": \"#2a3f5f\", \"gridcolor\": \"white\", \"linecolor\": \"white\", \"minorgridcolor\": \"white\", \"startlinecolor\": \"#2a3f5f\"}, \"type\": \"carpet\"}], \"choropleth\": [{\"colorbar\": {\"outlinewidth\": 0, \"ticks\": \"\"}, \"type\": \"choropleth\"}], \"contour\": [{\"colorbar\": {\"outlinewidth\": 0, \"ticks\": \"\"}, \"colorscale\": [[0.0, \"#0d0887\"], [0.1111111111111111, \"#46039f\"], [0.2222222222222222, \"#7201a8\"], [0.3333333333333333, \"#9c179e\"], [0.4444444444444444, \"#bd3786\"], [0.5555555555555556, \"#d8576b\"], [0.6666666666666666, \"#ed7953\"], [0.7777777777777778, \"#fb9f3a\"], [0.8888888888888888, \"#fdca26\"], [1.0, \"#f0f921\"]], \"type\": \"contour\"}], \"contourcarpet\": [{\"colorbar\": {\"outlinewidth\": 0, \"ticks\": \"\"}, \"type\": \"contourcarpet\"}], \"heatmap\": [{\"colorbar\": {\"outlinewidth\": 0, \"ticks\": \"\"}, \"colorscale\": [[0.0, \"#0d0887\"], [0.1111111111111111, \"#46039f\"], [0.2222222222222222, \"#7201a8\"], [0.3333333333333333, \"#9c179e\"], [0.4444444444444444, \"#bd3786\"], [0.5555555555555556, \"#d8576b\"], [0.6666666666666666, \"#ed7953\"], [0.7777777777777778, \"#fb9f3a\"], [0.8888888888888888, \"#fdca26\"], [1.0, \"#f0f921\"]], \"type\": \"heatmap\"}], \"heatmapgl\": [{\"colorbar\": {\"outlinewidth\": 0, \"ticks\": \"\"}, \"colorscale\": [[0.0, \"#0d0887\"], [0.1111111111111111, \"#46039f\"], [0.2222222222222222, \"#7201a8\"], [0.3333333333333333, \"#9c179e\"], [0.4444444444444444, \"#bd3786\"], [0.5555555555555556, \"#d8576b\"], [0.6666666666666666, \"#ed7953\"], [0.7777777777777778, \"#fb9f3a\"], [0.8888888888888888, \"#fdca26\"], [1.0, \"#f0f921\"]], \"type\": \"heatmapgl\"}], \"histogram\": [{\"marker\": {\"colorbar\": {\"outlinewidth\": 0, \"ticks\": \"\"}}, \"type\": \"histogram\"}], \"histogram2d\": [{\"colorbar\": {\"outlinewidth\": 0, \"ticks\": \"\"}, \"colorscale\": [[0.0, \"#0d0887\"], [0.1111111111111111, \"#46039f\"], [0.2222222222222222, \"#7201a8\"], [0.3333333333333333, \"#9c179e\"], [0.4444444444444444, \"#bd3786\"], [0.5555555555555556, \"#d8576b\"], [0.6666666666666666, \"#ed7953\"], [0.7777777777777778, \"#fb9f3a\"], [0.8888888888888888, \"#fdca26\"], [1.0, \"#f0f921\"]], \"type\": \"histogram2d\"}], \"histogram2dcontour\": [{\"colorbar\": {\"outlinewidth\": 0, \"ticks\": \"\"}, \"colorscale\": [[0.0, \"#0d0887\"], [0.1111111111111111, \"#46039f\"], [0.2222222222222222, \"#7201a8\"], [0.3333333333333333, \"#9c179e\"], [0.4444444444444444, \"#bd3786\"], [0.5555555555555556, \"#d8576b\"], [0.6666666666666666, \"#ed7953\"], [0.7777777777777778, \"#fb9f3a\"], [0.8888888888888888, \"#fdca26\"], [1.0, \"#f0f921\"]], \"type\": \"histogram2dcontour\"}], \"mesh3d\": [{\"colorbar\": {\"outlinewidth\": 0, \"ticks\": \"\"}, \"type\": \"mesh3d\"}], \"parcoords\": [{\"line\": {\"colorbar\": {\"outlinewidth\": 0, \"ticks\": \"\"}}, \"type\": \"parcoords\"}], \"pie\": [{\"automargin\": true, \"type\": \"pie\"}], \"scatter\": [{\"marker\": {\"colorbar\": {\"outlinewidth\": 0, \"ticks\": \"\"}}, \"type\": \"scatter\"}], \"scatter3d\": [{\"line\": {\"colorbar\": {\"outlinewidth\": 0, \"ticks\": \"\"}}, \"marker\": {\"colorbar\": {\"outlinewidth\": 0, \"ticks\": \"\"}}, \"type\": \"scatter3d\"}], \"scattercarpet\": [{\"marker\": {\"colorbar\": {\"outlinewidth\": 0, \"ticks\": \"\"}}, \"type\": \"scattercarpet\"}], \"scattergeo\": [{\"marker\": {\"colorbar\": {\"outlinewidth\": 0, \"ticks\": \"\"}}, \"type\": \"scattergeo\"}], \"scattergl\": [{\"marker\": {\"colorbar\": {\"outlinewidth\": 0, \"ticks\": \"\"}}, \"type\": \"scattergl\"}], \"scattermapbox\": [{\"marker\": {\"colorbar\": {\"outlinewidth\": 0, \"ticks\": \"\"}}, \"type\": \"scattermapbox\"}], \"scatterpolar\": [{\"marker\": {\"colorbar\": {\"outlinewidth\": 0, \"ticks\": \"\"}}, \"type\": \"scatterpolar\"}], \"scatterpolargl\": [{\"marker\": {\"colorbar\": {\"outlinewidth\": 0, \"ticks\": \"\"}}, \"type\": \"scatterpolargl\"}], \"scatterternary\": [{\"marker\": {\"colorbar\": {\"outlinewidth\": 0, \"ticks\": \"\"}}, \"type\": \"scatterternary\"}], \"surface\": [{\"colorbar\": {\"outlinewidth\": 0, \"ticks\": \"\"}, \"colorscale\": [[0.0, \"#0d0887\"], [0.1111111111111111, \"#46039f\"], [0.2222222222222222, \"#7201a8\"], [0.3333333333333333, \"#9c179e\"], [0.4444444444444444, \"#bd3786\"], [0.5555555555555556, \"#d8576b\"], [0.6666666666666666, \"#ed7953\"], [0.7777777777777778, \"#fb9f3a\"], [0.8888888888888888, \"#fdca26\"], [1.0, \"#f0f921\"]], \"type\": \"surface\"}], \"table\": [{\"cells\": {\"fill\": {\"color\": \"#EBF0F8\"}, \"line\": {\"color\": \"white\"}}, \"header\": {\"fill\": {\"color\": \"#C8D4E3\"}, \"line\": {\"color\": \"white\"}}, \"type\": \"table\"}]}, \"layout\": {\"annotationdefaults\": {\"arrowcolor\": \"#2a3f5f\", \"arrowhead\": 0, \"arrowwidth\": 1}, \"coloraxis\": {\"colorbar\": {\"outlinewidth\": 0, \"ticks\": \"\"}}, \"colorscale\": {\"diverging\": [[0, \"#8e0152\"], [0.1, \"#c51b7d\"], [0.2, \"#de77ae\"], [0.3, \"#f1b6da\"], [0.4, \"#fde0ef\"], [0.5, \"#f7f7f7\"], [0.6, \"#e6f5d0\"], [0.7, \"#b8e186\"], [0.8, \"#7fbc41\"], [0.9, \"#4d9221\"], [1, \"#276419\"]], \"sequential\": [[0.0, \"#0d0887\"], [0.1111111111111111, \"#46039f\"], [0.2222222222222222, \"#7201a8\"], [0.3333333333333333, \"#9c179e\"], [0.4444444444444444, \"#bd3786\"], [0.5555555555555556, \"#d8576b\"], [0.6666666666666666, \"#ed7953\"], [0.7777777777777778, \"#fb9f3a\"], [0.8888888888888888, \"#fdca26\"], [1.0, \"#f0f921\"]], \"sequentialminus\": [[0.0, \"#0d0887\"], [0.1111111111111111, \"#46039f\"], [0.2222222222222222, \"#7201a8\"], [0.3333333333333333, \"#9c179e\"], [0.4444444444444444, \"#bd3786\"], [0.5555555555555556, \"#d8576b\"], [0.6666666666666666, \"#ed7953\"], [0.7777777777777778, \"#fb9f3a\"], [0.8888888888888888, \"#fdca26\"], [1.0, \"#f0f921\"]]}, \"colorway\": [\"#636efa\", \"#EF553B\", \"#00cc96\", \"#ab63fa\", \"#FFA15A\", \"#19d3f3\", \"#FF6692\", \"#B6E880\", \"#FF97FF\", \"#FECB52\"], \"font\": {\"color\": \"#2a3f5f\"}, \"geo\": {\"bgcolor\": \"white\", \"lakecolor\": \"white\", \"landcolor\": \"#E5ECF6\", \"showlakes\": true, \"showland\": true, \"subunitcolor\": \"white\"}, \"hoverlabel\": {\"align\": \"left\"}, \"hovermode\": \"closest\", \"mapbox\": {\"style\": \"light\"}, \"paper_bgcolor\": \"white\", \"plot_bgcolor\": \"#E5ECF6\", \"polar\": {\"angularaxis\": {\"gridcolor\": \"white\", \"linecolor\": \"white\", \"ticks\": \"\"}, \"bgcolor\": \"#E5ECF6\", \"radialaxis\": {\"gridcolor\": \"white\", \"linecolor\": \"white\", \"ticks\": \"\"}}, \"scene\": {\"xaxis\": {\"backgroundcolor\": \"#E5ECF6\", \"gridcolor\": \"white\", \"gridwidth\": 2, \"linecolor\": \"white\", \"showbackground\": true, \"ticks\": \"\", \"zerolinecolor\": \"white\"}, \"yaxis\": {\"backgroundcolor\": \"#E5ECF6\", \"gridcolor\": \"white\", \"gridwidth\": 2, \"linecolor\": \"white\", \"showbackground\": true, \"ticks\": \"\", \"zerolinecolor\": \"white\"}, \"zaxis\": {\"backgroundcolor\": \"#E5ECF6\", \"gridcolor\": \"white\", \"gridwidth\": 2, \"linecolor\": \"white\", \"showbackground\": true, \"ticks\": \"\", \"zerolinecolor\": \"white\"}}, \"shapedefaults\": {\"line\": {\"color\": \"#2a3f5f\"}}, \"ternary\": {\"aaxis\": {\"gridcolor\": \"white\", \"linecolor\": \"white\", \"ticks\": \"\"}, \"baxis\": {\"gridcolor\": \"white\", \"linecolor\": \"white\", \"ticks\": \"\"}, \"bgcolor\": \"#E5ECF6\", \"caxis\": {\"gridcolor\": \"white\", \"linecolor\": \"white\", \"ticks\": \"\"}}, \"title\": {\"x\": 0.05}, \"xaxis\": {\"automargin\": true, \"gridcolor\": \"white\", \"linecolor\": \"white\", \"ticks\": \"\", \"title\": {\"standoff\": 15}, \"zerolinecolor\": \"white\", \"zerolinewidth\": 2}, \"yaxis\": {\"automargin\": true, \"gridcolor\": \"white\", \"linecolor\": \"white\", \"ticks\": \"\", \"title\": {\"standoff\": 15}, \"zerolinecolor\": \"white\", \"zerolinewidth\": 2}}}},\n",
       "                        {\"responsive\": true}\n",
       "                    ).then(function(){\n",
       "                            \n",
       "var gd = document.getElementById('7b4bb4b9-6bd4-48db-b157-11aa9e02b218');\n",
       "var x = new MutationObserver(function (mutations, observer) {{\n",
       "        var display = window.getComputedStyle(gd).display;\n",
       "        if (!display || display === 'none') {{\n",
       "            console.log([gd, 'removed!']);\n",
       "            Plotly.purge(gd);\n",
       "            observer.disconnect();\n",
       "        }}\n",
       "}});\n",
       "\n",
       "// Listen for the removal of the full notebook cells\n",
       "var notebookContainer = gd.closest('#notebook-container');\n",
       "if (notebookContainer) {{\n",
       "    x.observe(notebookContainer, {childList: true});\n",
       "}}\n",
       "\n",
       "// Listen for the clearing of the current output cell\n",
       "var outputEl = gd.closest('.output');\n",
       "if (outputEl) {{\n",
       "    x.observe(outputEl, {childList: true});\n",
       "}}\n",
       "\n",
       "                        })\n",
       "                };\n",
       "                });\n",
       "            </script>\n",
       "        </div>"
      ]
     },
     "metadata": {},
     "output_type": "display_data"
    }
   ],
   "source": [
    "fig = go.Figure(data=wais_sub)\n",
    "fig.show()"
   ]
  },
  {
   "cell_type": "code",
   "execution_count": null,
   "metadata": {},
   "outputs": [],
   "source": []
  }
 ],
 "metadata": {
  "kernelspec": {
   "display_name": "Python 3",
   "language": "python",
   "name": "python3"
  },
  "language_info": {
   "codemirror_mode": {
    "name": "ipython",
    "version": 3
   },
   "file_extension": ".py",
   "mimetype": "text/x-python",
   "name": "python",
   "nbconvert_exporter": "python",
   "pygments_lexer": "ipython3",
   "version": "3.7.4"
  },
  "widgets": {
   "application/vnd.jupyter.widget-state+json": {
    "state": {},
    "version_major": 2,
    "version_minor": 0
   }
  }
 },
 "nbformat": 4,
 "nbformat_minor": 2
}
